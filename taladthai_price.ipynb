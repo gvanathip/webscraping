{
  "nbformat": 4,
  "nbformat_minor": 0,
  "metadata": {
    "colab": {
      "name": "taladthai_price.ipynb",
      "provenance": [],
      "authorship_tag": "ABX9TyMfRk2QCx2tk9R3UfpuQsVs",
      "include_colab_link": true
    },
    "kernelspec": {
      "name": "python3",
      "display_name": "Python 3"
    },
    "language_info": {
      "name": "python"
    }
  },
  "cells": [
    {
      "cell_type": "markdown",
      "metadata": {
        "id": "view-in-github",
        "colab_type": "text"
      },
      "source": [
        "<a href=\"https://colab.research.google.com/github/gvanathip/webscraping/blob/main/taladthai_price.ipynb\" target=\"_parent\"><img src=\"https://colab.research.google.com/assets/colab-badge.svg\" alt=\"Open In Colab\"/></a>"
      ]
    },
    {
      "cell_type": "code",
      "metadata": {
        "colab": {
          "base_uri": "https://localhost:8080/"
        },
        "id": "QLVSs_qWxqlA",
        "outputId": "e01608b5-68a0-474d-d730-06a43b927462"
      },
      "source": [
        "pip install selenium"
      ],
      "execution_count": 1,
      "outputs": [
        {
          "output_type": "stream",
          "name": "stdout",
          "text": [
            "Collecting selenium\n",
            "  Downloading selenium-3.141.0-py2.py3-none-any.whl (904 kB)\n",
            "\u001b[K     |████████████████████████████████| 904 kB 3.1 MB/s \n",
            "\u001b[?25hRequirement already satisfied: urllib3 in /usr/local/lib/python3.7/dist-packages (from selenium) (1.24.3)\n",
            "Installing collected packages: selenium\n",
            "Successfully installed selenium-3.141.0\n"
          ]
        }
      ]
    },
    {
      "cell_type": "code",
      "metadata": {
        "colab": {
          "base_uri": "https://localhost:8080/"
        },
        "id": "TLNLJx43xvI1",
        "outputId": "261a4ba3-1229-447b-f5b5-bcb18838f59f"
      },
      "source": [
        "pip install webdriver_manager"
      ],
      "execution_count": 2,
      "outputs": [
        {
          "output_type": "stream",
          "name": "stdout",
          "text": [
            "Collecting webdriver_manager\n",
            "  Downloading webdriver_manager-3.4.2-py2.py3-none-any.whl (16 kB)\n",
            "Collecting crayons\n",
            "  Downloading crayons-0.4.0-py2.py3-none-any.whl (4.6 kB)\n",
            "Collecting configparser\n",
            "  Downloading configparser-5.0.2-py3-none-any.whl (19 kB)\n",
            "Requirement already satisfied: requests in /usr/local/lib/python3.7/dist-packages (from webdriver_manager) (2.23.0)\n",
            "Collecting colorama\n",
            "  Downloading colorama-0.4.4-py2.py3-none-any.whl (16 kB)\n",
            "Requirement already satisfied: certifi>=2017.4.17 in /usr/local/lib/python3.7/dist-packages (from requests->webdriver_manager) (2021.5.30)\n",
            "Requirement already satisfied: urllib3!=1.25.0,!=1.25.1,<1.26,>=1.21.1 in /usr/local/lib/python3.7/dist-packages (from requests->webdriver_manager) (1.24.3)\n",
            "Requirement already satisfied: chardet<4,>=3.0.2 in /usr/local/lib/python3.7/dist-packages (from requests->webdriver_manager) (3.0.4)\n",
            "Requirement already satisfied: idna<3,>=2.5 in /usr/local/lib/python3.7/dist-packages (from requests->webdriver_manager) (2.10)\n",
            "Installing collected packages: colorama, crayons, configparser, webdriver-manager\n",
            "Successfully installed colorama-0.4.4 configparser-5.0.2 crayons-0.4.0 webdriver-manager-3.4.2\n"
          ]
        }
      ]
    },
    {
      "cell_type": "code",
      "metadata": {
        "colab": {
          "base_uri": "https://localhost:8080/"
        },
        "id": "-xyF_H_3xyj0",
        "outputId": "0289cee8-06df-4f3c-acff-dd29a295ab75"
      },
      "source": [
        "!pip install selenium\n",
        "!apt-get update # to update ubuntu to correctly run apt install\n",
        "!apt install chromium-chromedriver\n",
        "!cp /usr/lib/chromium-browser/chromedriver /usr/bin\n",
        "import sys\n",
        "sys.path.insert(0,'/usr/lib/chromium-browser/chromedriver')"
      ],
      "execution_count": 3,
      "outputs": [
        {
          "output_type": "stream",
          "name": "stdout",
          "text": [
            "Requirement already satisfied: selenium in /usr/local/lib/python3.7/dist-packages (3.141.0)\n",
            "Requirement already satisfied: urllib3 in /usr/local/lib/python3.7/dist-packages (from selenium) (1.24.3)\n",
            "Get:1 http://security.ubuntu.com/ubuntu bionic-security InRelease [88.7 kB]\n",
            "Get:2 https://cloud.r-project.org/bin/linux/ubuntu bionic-cran40/ InRelease [3,626 B]\n",
            "Ign:3 https://developer.download.nvidia.com/compute/cuda/repos/ubuntu1804/x86_64  InRelease\n",
            "Hit:4 http://ppa.launchpad.net/c2d4u.team/c2d4u4.0+/ubuntu bionic InRelease\n",
            "Hit:5 http://archive.ubuntu.com/ubuntu bionic InRelease\n",
            "Ign:6 https://developer.download.nvidia.com/compute/machine-learning/repos/ubuntu1804/x86_64  InRelease\n",
            "Get:7 https://developer.download.nvidia.com/compute/cuda/repos/ubuntu1804/x86_64  Release [696 B]\n",
            "Hit:8 https://developer.download.nvidia.com/compute/machine-learning/repos/ubuntu1804/x86_64  Release\n",
            "Get:9 https://developer.download.nvidia.com/compute/cuda/repos/ubuntu1804/x86_64  Release.gpg [836 B]\n",
            "Get:10 http://archive.ubuntu.com/ubuntu bionic-updates InRelease [88.7 kB]\n",
            "Hit:11 http://ppa.launchpad.net/cran/libgit2/ubuntu bionic InRelease\n",
            "Hit:12 http://ppa.launchpad.net/deadsnakes/ppa/ubuntu bionic InRelease\n",
            "Get:13 http://archive.ubuntu.com/ubuntu bionic-backports InRelease [74.6 kB]\n",
            "Hit:14 http://ppa.launchpad.net/graphics-drivers/ppa/ubuntu bionic InRelease\n",
            "Get:16 https://developer.download.nvidia.com/compute/cuda/repos/ubuntu1804/x86_64  Packages [700 kB]\n",
            "Fetched 957 kB in 3s (345 kB/s)\n",
            "Reading package lists... Done\n",
            "Reading package lists... Done\n",
            "Building dependency tree       \n",
            "Reading state information... Done\n",
            "The following additional packages will be installed:\n",
            "  chromium-browser chromium-browser-l10n chromium-codecs-ffmpeg-extra\n",
            "Suggested packages:\n",
            "  webaccounts-chromium-extension unity-chromium-extension\n",
            "The following NEW packages will be installed:\n",
            "  chromium-browser chromium-browser-l10n chromium-chromedriver\n",
            "  chromium-codecs-ffmpeg-extra\n",
            "0 upgraded, 4 newly installed, 0 to remove and 40 not upgraded.\n",
            "Need to get 91.8 MB of archives.\n",
            "After this operation, 315 MB of additional disk space will be used.\n",
            "Get:1 http://archive.ubuntu.com/ubuntu bionic-updates/universe amd64 chromium-codecs-ffmpeg-extra amd64 92.0.4515.159-0ubuntu0.18.04.1 [1,124 kB]\n",
            "Get:2 http://archive.ubuntu.com/ubuntu bionic-updates/universe amd64 chromium-browser amd64 92.0.4515.159-0ubuntu0.18.04.1 [81.7 MB]\n",
            "Get:3 http://archive.ubuntu.com/ubuntu bionic-updates/universe amd64 chromium-browser-l10n all 92.0.4515.159-0ubuntu0.18.04.1 [4,026 kB]\n",
            "Get:4 http://archive.ubuntu.com/ubuntu bionic-updates/universe amd64 chromium-chromedriver amd64 92.0.4515.159-0ubuntu0.18.04.1 [4,902 kB]\n",
            "Fetched 91.8 MB in 4s (23.5 MB/s)\n",
            "Selecting previously unselected package chromium-codecs-ffmpeg-extra.\n",
            "(Reading database ... 148492 files and directories currently installed.)\n",
            "Preparing to unpack .../chromium-codecs-ffmpeg-extra_92.0.4515.159-0ubuntu0.18.04.1_amd64.deb ...\n",
            "Unpacking chromium-codecs-ffmpeg-extra (92.0.4515.159-0ubuntu0.18.04.1) ...\n",
            "Selecting previously unselected package chromium-browser.\n",
            "Preparing to unpack .../chromium-browser_92.0.4515.159-0ubuntu0.18.04.1_amd64.deb ...\n",
            "Unpacking chromium-browser (92.0.4515.159-0ubuntu0.18.04.1) ...\n",
            "Selecting previously unselected package chromium-browser-l10n.\n",
            "Preparing to unpack .../chromium-browser-l10n_92.0.4515.159-0ubuntu0.18.04.1_all.deb ...\n",
            "Unpacking chromium-browser-l10n (92.0.4515.159-0ubuntu0.18.04.1) ...\n",
            "Selecting previously unselected package chromium-chromedriver.\n",
            "Preparing to unpack .../chromium-chromedriver_92.0.4515.159-0ubuntu0.18.04.1_amd64.deb ...\n",
            "Unpacking chromium-chromedriver (92.0.4515.159-0ubuntu0.18.04.1) ...\n",
            "Setting up chromium-codecs-ffmpeg-extra (92.0.4515.159-0ubuntu0.18.04.1) ...\n",
            "Setting up chromium-browser (92.0.4515.159-0ubuntu0.18.04.1) ...\n",
            "update-alternatives: using /usr/bin/chromium-browser to provide /usr/bin/x-www-browser (x-www-browser) in auto mode\n",
            "update-alternatives: using /usr/bin/chromium-browser to provide /usr/bin/gnome-www-browser (gnome-www-browser) in auto mode\n",
            "Setting up chromium-chromedriver (92.0.4515.159-0ubuntu0.18.04.1) ...\n",
            "Setting up chromium-browser-l10n (92.0.4515.159-0ubuntu0.18.04.1) ...\n",
            "Processing triggers for man-db (2.8.3-2ubuntu0.1) ...\n",
            "Processing triggers for hicolor-icon-theme (0.17-2) ...\n",
            "Processing triggers for mime-support (3.60ubuntu1) ...\n",
            "Processing triggers for libc-bin (2.27-3ubuntu1.2) ...\n",
            "/sbin/ldconfig.real: /usr/local/lib/python3.7/dist-packages/ideep4py/lib/libmkldnn.so.0 is not a symbolic link\n",
            "\n",
            "cp: '/usr/lib/chromium-browser/chromedriver' and '/usr/bin/chromedriver' are the same file\n"
          ]
        }
      ]
    },
    {
      "cell_type": "code",
      "metadata": {
        "id": "lcduOlosx05E"
      },
      "source": [
        "import os\n",
        "import selenium\n",
        "from selenium import webdriver\n",
        "import time\n",
        "from PIL import Image\n",
        "import io\n",
        "import requests\n",
        "#from webdriver_manager.chrome import ChromeDriverManager\n",
        "from selenium.common.exceptions import ElementClickInterceptedException\n",
        "import datetime\n",
        "import pandas as pd\n",
        "import numpy as np"
      ],
      "execution_count": 4,
      "outputs": []
    },
    {
      "cell_type": "code",
      "metadata": {
        "colab": {
          "base_uri": "https://localhost:8080/"
        },
        "id": "5smV4OjoyFKr",
        "outputId": "2d7b1104-ed94-456e-a8c1-9f757c864870"
      },
      "source": [
        "from selenium import webdriver\n",
        "chrome_options = webdriver.ChromeOptions()\n",
        "chrome_options.add_argument('--headless')\n",
        "chrome_options.add_argument('--no-sandbox')\n",
        "chrome_options.add_argument('--disable-dev-shm-usage')\n",
        "driver = webdriver.Chrome('chromedriver',chrome_options=chrome_options)"
      ],
      "execution_count": 5,
      "outputs": [
        {
          "output_type": "stream",
          "name": "stderr",
          "text": [
            "/usr/local/lib/python3.7/dist-packages/ipykernel_launcher.py:6: DeprecationWarning: use options instead of chrome_options\n",
            "  \n"
          ]
        }
      ]
    },
    {
      "cell_type": "code",
      "metadata": {
        "id": "MbVtjpzdyHM9"
      },
      "source": [
        "url = \"https://talaadthai.com/product-search/result?subcat_id=10132&per_page=50&page=1\"\n",
        "\n",
        "driver.get(url)\n",
        "time.sleep(10)\n",
        "\n",
        "element = driver.find_element_by_xpath('//*[@id=\"__layout\"]/div/div/div[2]/div[4]/div/div/div/div[2]/div[1]/h5')\n",
        "last_page = int(np.ceil(int(element.get_attribute('innerHTML').split()[1])/50))"
      ],
      "execution_count": 6,
      "outputs": []
    },
    {
      "cell_type": "code",
      "metadata": {
        "id": "45xE-zYayK1B"
      },
      "source": [
        "text = []\n",
        "for i in range(last_page):\n",
        "    URL = url[:-1]+str(i+1)\n",
        "    driver.get(URL)\n",
        "    time.sleep(10)\n",
        "    element = driver.find_element_by_xpath('//*[@id=\"__layout\"]/div/div/div[2]/div[4]/div/div/div/div[3]')\n",
        "    text.append(element.get_attribute('innerText'))"
      ],
      "execution_count": 7,
      "outputs": []
    },
    {
      "cell_type": "code",
      "metadata": {
        "id": "BrL-1FEgyRwK"
      },
      "source": [
        "product = []\n",
        "detail = []\n",
        "for i in text:\n",
        "  for j in i.split('\\n'):\n",
        "    if j[-4:] == '2021':\n",
        "      detail.append(j)\n",
        "    else:\n",
        "      product.append(j)"
      ],
      "execution_count": 8,
      "outputs": []
    },
    {
      "cell_type": "code",
      "metadata": {
        "id": "X-4Vz_C2yZWG"
      },
      "source": [
        "min_price = []\n",
        "max_price = []\n",
        "unit = []\n",
        "discount = []\n",
        "date_ = []\n",
        "for i in detail:\n",
        "  #print(i.split(' '))\n",
        "  min_price.append(i.split(' ')[0])\n",
        "  max_price.append(i.split(' ')[2])\n",
        "  unit.append(i.split(' ')[3]+i.split(' ')[4]+i.split(' ')[5])\n",
        "  discount.append(i.split(' ')[7])\n",
        "  date_.append(i.split(' ')[-1])"
      ],
      "execution_count": 9,
      "outputs": []
    },
    {
      "cell_type": "code",
      "metadata": {
        "colab": {
          "base_uri": "https://localhost:8080/",
          "height": 205
        },
        "id": "vQry8IMXybWd",
        "outputId": "5dc2c388-274e-40e3-9e43-4a07fb937af5"
      },
      "source": [
        "from pandas import DataFrame\n",
        "table = list(zip(product, min_price, max_price, unit, discount, date_))\n",
        "df = DataFrame(table,columns=['product','min_price','max_price','unit','discount','date_'])\n",
        "df.head()"
      ],
      "execution_count": 10,
      "outputs": [
        {
          "output_type": "execute_result",
          "data": {
            "text/html": [
              "<div>\n",
              "<style scoped>\n",
              "    .dataframe tbody tr th:only-of-type {\n",
              "        vertical-align: middle;\n",
              "    }\n",
              "\n",
              "    .dataframe tbody tr th {\n",
              "        vertical-align: top;\n",
              "    }\n",
              "\n",
              "    .dataframe thead th {\n",
              "        text-align: right;\n",
              "    }\n",
              "</style>\n",
              "<table border=\"1\" class=\"dataframe\">\n",
              "  <thead>\n",
              "    <tr style=\"text-align: right;\">\n",
              "      <th></th>\n",
              "      <th>product</th>\n",
              "      <th>min_price</th>\n",
              "      <th>max_price</th>\n",
              "      <th>unit</th>\n",
              "      <th>discount</th>\n",
              "      <th>date_</th>\n",
              "    </tr>\n",
              "  </thead>\n",
              "  <tbody>\n",
              "    <tr>\n",
              "      <th>0</th>\n",
              "      <td>กระเพาะหมู</td>\n",
              "      <td>65</td>\n",
              "      <td>70</td>\n",
              "      <td>฿/กิโลกรัม</td>\n",
              "      <td>0.00%</td>\n",
              "      <td>03/09/2021</td>\n",
              "    </tr>\n",
              "    <tr>\n",
              "      <th>1</th>\n",
              "      <td>ก๋วยเตี๋ยว เส้นเล็ก</td>\n",
              "      <td>25</td>\n",
              "      <td>27</td>\n",
              "      <td>฿/กิโลกรัม</td>\n",
              "      <td>0.00%</td>\n",
              "      <td>03/09/2021</td>\n",
              "    </tr>\n",
              "    <tr>\n",
              "      <th>2</th>\n",
              "      <td>ก๋วยเตี๋ยว เส้นใหญ่</td>\n",
              "      <td>20</td>\n",
              "      <td>20</td>\n",
              "      <td>฿/กิโลกรัม</td>\n",
              "      <td>0.00%</td>\n",
              "      <td>03/09/2021</td>\n",
              "    </tr>\n",
              "    <tr>\n",
              "      <th>3</th>\n",
              "      <td>ขนมจีน</td>\n",
              "      <td>20</td>\n",
              "      <td>20</td>\n",
              "      <td>฿/กิโลกรัม</td>\n",
              "      <td>0.00%</td>\n",
              "      <td>03/09/2021</td>\n",
              "    </tr>\n",
              "    <tr>\n",
              "      <th>4</th>\n",
              "      <td>ขอบกระด้ง(ขอบดำ)</td>\n",
              "      <td>200</td>\n",
              "      <td>200</td>\n",
              "      <td>฿/กิโลกรัม</td>\n",
              "      <td>0.00%</td>\n",
              "      <td>03/09/2021</td>\n",
              "    </tr>\n",
              "  </tbody>\n",
              "</table>\n",
              "</div>"
            ],
            "text/plain": [
              "               product min_price max_price        unit discount       date_\n",
              "0           กระเพาะหมู        65        70  ฿/กิโลกรัม    0.00%  03/09/2021\n",
              "1  ก๋วยเตี๋ยว เส้นเล็ก        25        27  ฿/กิโลกรัม    0.00%  03/09/2021\n",
              "2  ก๋วยเตี๋ยว เส้นใหญ่        20        20  ฿/กิโลกรัม    0.00%  03/09/2021\n",
              "3               ขนมจีน        20        20  ฿/กิโลกรัม    0.00%  03/09/2021\n",
              "4     ขอบกระด้ง(ขอบดำ)       200       200  ฿/กิโลกรัม    0.00%  03/09/2021"
            ]
          },
          "metadata": {},
          "execution_count": 10
        }
      ]
    },
    {
      "cell_type": "code",
      "metadata": {
        "colab": {
          "base_uri": "https://localhost:8080/",
          "height": 205
        },
        "id": "s1-f-d2Fyc0X",
        "outputId": "eb59a33a-e848-4fed-ab9a-bbecbb4ff5fe"
      },
      "source": [
        "df['avg_price'] = (df['min_price'].astype(float)+df['max_price'].astype(float))/2\n",
        "df.head()"
      ],
      "execution_count": 11,
      "outputs": [
        {
          "output_type": "execute_result",
          "data": {
            "text/html": [
              "<div>\n",
              "<style scoped>\n",
              "    .dataframe tbody tr th:only-of-type {\n",
              "        vertical-align: middle;\n",
              "    }\n",
              "\n",
              "    .dataframe tbody tr th {\n",
              "        vertical-align: top;\n",
              "    }\n",
              "\n",
              "    .dataframe thead th {\n",
              "        text-align: right;\n",
              "    }\n",
              "</style>\n",
              "<table border=\"1\" class=\"dataframe\">\n",
              "  <thead>\n",
              "    <tr style=\"text-align: right;\">\n",
              "      <th></th>\n",
              "      <th>product</th>\n",
              "      <th>min_price</th>\n",
              "      <th>max_price</th>\n",
              "      <th>unit</th>\n",
              "      <th>discount</th>\n",
              "      <th>date_</th>\n",
              "      <th>avg_price</th>\n",
              "    </tr>\n",
              "  </thead>\n",
              "  <tbody>\n",
              "    <tr>\n",
              "      <th>0</th>\n",
              "      <td>กระเพาะหมู</td>\n",
              "      <td>65</td>\n",
              "      <td>70</td>\n",
              "      <td>฿/กิโลกรัม</td>\n",
              "      <td>0.00%</td>\n",
              "      <td>03/09/2021</td>\n",
              "      <td>67.5</td>\n",
              "    </tr>\n",
              "    <tr>\n",
              "      <th>1</th>\n",
              "      <td>ก๋วยเตี๋ยว เส้นเล็ก</td>\n",
              "      <td>25</td>\n",
              "      <td>27</td>\n",
              "      <td>฿/กิโลกรัม</td>\n",
              "      <td>0.00%</td>\n",
              "      <td>03/09/2021</td>\n",
              "      <td>26.0</td>\n",
              "    </tr>\n",
              "    <tr>\n",
              "      <th>2</th>\n",
              "      <td>ก๋วยเตี๋ยว เส้นใหญ่</td>\n",
              "      <td>20</td>\n",
              "      <td>20</td>\n",
              "      <td>฿/กิโลกรัม</td>\n",
              "      <td>0.00%</td>\n",
              "      <td>03/09/2021</td>\n",
              "      <td>20.0</td>\n",
              "    </tr>\n",
              "    <tr>\n",
              "      <th>3</th>\n",
              "      <td>ขนมจีน</td>\n",
              "      <td>20</td>\n",
              "      <td>20</td>\n",
              "      <td>฿/กิโลกรัม</td>\n",
              "      <td>0.00%</td>\n",
              "      <td>03/09/2021</td>\n",
              "      <td>20.0</td>\n",
              "    </tr>\n",
              "    <tr>\n",
              "      <th>4</th>\n",
              "      <td>ขอบกระด้ง(ขอบดำ)</td>\n",
              "      <td>200</td>\n",
              "      <td>200</td>\n",
              "      <td>฿/กิโลกรัม</td>\n",
              "      <td>0.00%</td>\n",
              "      <td>03/09/2021</td>\n",
              "      <td>200.0</td>\n",
              "    </tr>\n",
              "  </tbody>\n",
              "</table>\n",
              "</div>"
            ],
            "text/plain": [
              "               product min_price max_price  ... discount       date_ avg_price\n",
              "0           กระเพาะหมู        65        70  ...    0.00%  03/09/2021      67.5\n",
              "1  ก๋วยเตี๋ยว เส้นเล็ก        25        27  ...    0.00%  03/09/2021      26.0\n",
              "2  ก๋วยเตี๋ยว เส้นใหญ่        20        20  ...    0.00%  03/09/2021      20.0\n",
              "3               ขนมจีน        20        20  ...    0.00%  03/09/2021      20.0\n",
              "4     ขอบกระด้ง(ขอบดำ)       200       200  ...    0.00%  03/09/2021     200.0\n",
              "\n",
              "[5 rows x 7 columns]"
            ]
          },
          "metadata": {},
          "execution_count": 11
        }
      ]
    },
    {
      "cell_type": "code",
      "metadata": {
        "colab": {
          "base_uri": "https://localhost:8080/",
          "height": 205
        },
        "id": "AYgXr1tTyrSd",
        "outputId": "2d0d0328-cc36-40ed-e45c-8e55a5d49c3d"
      },
      "source": [
        "df['source'] = 'ตลาดไท'\n",
        "df.head()"
      ],
      "execution_count": 12,
      "outputs": [
        {
          "output_type": "execute_result",
          "data": {
            "text/html": [
              "<div>\n",
              "<style scoped>\n",
              "    .dataframe tbody tr th:only-of-type {\n",
              "        vertical-align: middle;\n",
              "    }\n",
              "\n",
              "    .dataframe tbody tr th {\n",
              "        vertical-align: top;\n",
              "    }\n",
              "\n",
              "    .dataframe thead th {\n",
              "        text-align: right;\n",
              "    }\n",
              "</style>\n",
              "<table border=\"1\" class=\"dataframe\">\n",
              "  <thead>\n",
              "    <tr style=\"text-align: right;\">\n",
              "      <th></th>\n",
              "      <th>product</th>\n",
              "      <th>min_price</th>\n",
              "      <th>max_price</th>\n",
              "      <th>unit</th>\n",
              "      <th>discount</th>\n",
              "      <th>date_</th>\n",
              "      <th>avg_price</th>\n",
              "      <th>source</th>\n",
              "    </tr>\n",
              "  </thead>\n",
              "  <tbody>\n",
              "    <tr>\n",
              "      <th>0</th>\n",
              "      <td>กระเพาะหมู</td>\n",
              "      <td>65</td>\n",
              "      <td>70</td>\n",
              "      <td>฿/กิโลกรัม</td>\n",
              "      <td>0.00%</td>\n",
              "      <td>03/09/2021</td>\n",
              "      <td>67.5</td>\n",
              "      <td>ตลาดไท</td>\n",
              "    </tr>\n",
              "    <tr>\n",
              "      <th>1</th>\n",
              "      <td>ก๋วยเตี๋ยว เส้นเล็ก</td>\n",
              "      <td>25</td>\n",
              "      <td>27</td>\n",
              "      <td>฿/กิโลกรัม</td>\n",
              "      <td>0.00%</td>\n",
              "      <td>03/09/2021</td>\n",
              "      <td>26.0</td>\n",
              "      <td>ตลาดไท</td>\n",
              "    </tr>\n",
              "    <tr>\n",
              "      <th>2</th>\n",
              "      <td>ก๋วยเตี๋ยว เส้นใหญ่</td>\n",
              "      <td>20</td>\n",
              "      <td>20</td>\n",
              "      <td>฿/กิโลกรัม</td>\n",
              "      <td>0.00%</td>\n",
              "      <td>03/09/2021</td>\n",
              "      <td>20.0</td>\n",
              "      <td>ตลาดไท</td>\n",
              "    </tr>\n",
              "    <tr>\n",
              "      <th>3</th>\n",
              "      <td>ขนมจีน</td>\n",
              "      <td>20</td>\n",
              "      <td>20</td>\n",
              "      <td>฿/กิโลกรัม</td>\n",
              "      <td>0.00%</td>\n",
              "      <td>03/09/2021</td>\n",
              "      <td>20.0</td>\n",
              "      <td>ตลาดไท</td>\n",
              "    </tr>\n",
              "    <tr>\n",
              "      <th>4</th>\n",
              "      <td>ขอบกระด้ง(ขอบดำ)</td>\n",
              "      <td>200</td>\n",
              "      <td>200</td>\n",
              "      <td>฿/กิโลกรัม</td>\n",
              "      <td>0.00%</td>\n",
              "      <td>03/09/2021</td>\n",
              "      <td>200.0</td>\n",
              "      <td>ตลาดไท</td>\n",
              "    </tr>\n",
              "  </tbody>\n",
              "</table>\n",
              "</div>"
            ],
            "text/plain": [
              "               product min_price max_price  ...       date_ avg_price  source\n",
              "0           กระเพาะหมู        65        70  ...  03/09/2021      67.5  ตลาดไท\n",
              "1  ก๋วยเตี๋ยว เส้นเล็ก        25        27  ...  03/09/2021      26.0  ตลาดไท\n",
              "2  ก๋วยเตี๋ยว เส้นใหญ่        20        20  ...  03/09/2021      20.0  ตลาดไท\n",
              "3               ขนมจีน        20        20  ...  03/09/2021      20.0  ตลาดไท\n",
              "4     ขอบกระด้ง(ขอบดำ)       200       200  ...  03/09/2021     200.0  ตลาดไท\n",
              "\n",
              "[5 rows x 8 columns]"
            ]
          },
          "metadata": {},
          "execution_count": 12
        }
      ]
    },
    {
      "cell_type": "code",
      "metadata": {
        "colab": {
          "base_uri": "https://localhost:8080/"
        },
        "id": "p6kIUabdzUJB",
        "outputId": "cd7f54ea-8520-4c01-8f5d-fb69e0264906"
      },
      "source": [
        "from google.colab import drive\n",
        "drive.mount('/content/drive')"
      ],
      "execution_count": 18,
      "outputs": [
        {
          "output_type": "stream",
          "name": "stdout",
          "text": [
            "Drive already mounted at /content/drive; to attempt to forcibly remount, call drive.mount(\"/content/drive\", force_remount=True).\n"
          ]
        }
      ]
    },
    {
      "cell_type": "code",
      "metadata": {
        "colab": {
          "base_uri": "https://localhost:8080/"
        },
        "id": "v_06hULuys8r",
        "outputId": "144ca5ff-29e3-403a-dc05-1e7d26765eac"
      },
      "source": [
        "pip install xlsxwriter"
      ],
      "execution_count": 13,
      "outputs": [
        {
          "output_type": "stream",
          "name": "stdout",
          "text": [
            "Collecting xlsxwriter\n",
            "  Downloading XlsxWriter-3.0.1-py3-none-any.whl (148 kB)\n",
            "\u001b[?25l\r\u001b[K     |██▏                             | 10 kB 24.1 MB/s eta 0:00:01\r\u001b[K     |████▍                           | 20 kB 10.9 MB/s eta 0:00:01\r\u001b[K     |██████▋                         | 30 kB 8.2 MB/s eta 0:00:01\r\u001b[K     |████████▉                       | 40 kB 7.4 MB/s eta 0:00:01\r\u001b[K     |███████████                     | 51 kB 4.0 MB/s eta 0:00:01\r\u001b[K     |█████████████▏                  | 61 kB 4.3 MB/s eta 0:00:01\r\u001b[K     |███████████████▍                | 71 kB 4.5 MB/s eta 0:00:01\r\u001b[K     |█████████████████▋              | 81 kB 4.7 MB/s eta 0:00:01\r\u001b[K     |███████████████████▉            | 92 kB 3.7 MB/s eta 0:00:01\r\u001b[K     |██████████████████████          | 102 kB 4.0 MB/s eta 0:00:01\r\u001b[K     |████████████████████████▎       | 112 kB 4.0 MB/s eta 0:00:01\r\u001b[K     |██████████████████████████▍     | 122 kB 4.0 MB/s eta 0:00:01\r\u001b[K     |████████████████████████████▋   | 133 kB 4.0 MB/s eta 0:00:01\r\u001b[K     |██████████████████████████████▉ | 143 kB 4.0 MB/s eta 0:00:01\r\u001b[K     |████████████████████████████████| 148 kB 4.0 MB/s \n",
            "\u001b[?25hInstalling collected packages: xlsxwriter\n",
            "Successfully installed xlsxwriter-3.0.1\n"
          ]
        }
      ]
    },
    {
      "cell_type": "code",
      "metadata": {
        "id": "51ECckpxy6Ix"
      },
      "source": [
        "#out_path = \"/content/drive/MyDrive/public_database/taladthai_price.xlsx\"\n",
        "\n",
        "#writer = pd.ExcelWriter(out_path, engine='xlsxwriter')\n",
        "#df.to_excel(writer, index=False)\n",
        "#writer.save()"
      ],
      "execution_count": 17,
      "outputs": []
    },
    {
      "cell_type": "code",
      "metadata": {
        "colab": {
          "base_uri": "https://localhost:8080/",
          "height": 205
        },
        "id": "dZFjX3oKzBQg",
        "outputId": "709feee4-64d7-4984-9048-b09bc3c62800"
      },
      "source": [
        "exist = pd.read_excel(r'/content/drive/MyDrive/public_database/taladthai_price.xlsx','Sheet1')\n",
        "exist.head()"
      ],
      "execution_count": 21,
      "outputs": [
        {
          "output_type": "execute_result",
          "data": {
            "text/html": [
              "<div>\n",
              "<style scoped>\n",
              "    .dataframe tbody tr th:only-of-type {\n",
              "        vertical-align: middle;\n",
              "    }\n",
              "\n",
              "    .dataframe tbody tr th {\n",
              "        vertical-align: top;\n",
              "    }\n",
              "\n",
              "    .dataframe thead th {\n",
              "        text-align: right;\n",
              "    }\n",
              "</style>\n",
              "<table border=\"1\" class=\"dataframe\">\n",
              "  <thead>\n",
              "    <tr style=\"text-align: right;\">\n",
              "      <th></th>\n",
              "      <th>product</th>\n",
              "      <th>min_price</th>\n",
              "      <th>max_price</th>\n",
              "      <th>unit</th>\n",
              "      <th>discount</th>\n",
              "      <th>date_</th>\n",
              "      <th>avg_price</th>\n",
              "      <th>source</th>\n",
              "    </tr>\n",
              "  </thead>\n",
              "  <tbody>\n",
              "    <tr>\n",
              "      <th>0</th>\n",
              "      <td>กระเพาะหมู</td>\n",
              "      <td>65.0</td>\n",
              "      <td>70.0</td>\n",
              "      <td>฿/กิโลกรัม</td>\n",
              "      <td>0.00%</td>\n",
              "      <td>03/09/2021</td>\n",
              "      <td>67.5</td>\n",
              "      <td>ตลาดไท</td>\n",
              "    </tr>\n",
              "    <tr>\n",
              "      <th>1</th>\n",
              "      <td>ก๋วยเตี๋ยว เส้นเล็ก</td>\n",
              "      <td>25.0</td>\n",
              "      <td>27.0</td>\n",
              "      <td>฿/กิโลกรัม</td>\n",
              "      <td>0.00%</td>\n",
              "      <td>03/09/2021</td>\n",
              "      <td>26.0</td>\n",
              "      <td>ตลาดไท</td>\n",
              "    </tr>\n",
              "    <tr>\n",
              "      <th>2</th>\n",
              "      <td>ก๋วยเตี๋ยว เส้นใหญ่</td>\n",
              "      <td>20.0</td>\n",
              "      <td>20.0</td>\n",
              "      <td>฿/กิโลกรัม</td>\n",
              "      <td>0.00%</td>\n",
              "      <td>03/09/2021</td>\n",
              "      <td>20.0</td>\n",
              "      <td>ตลาดไท</td>\n",
              "    </tr>\n",
              "    <tr>\n",
              "      <th>3</th>\n",
              "      <td>ขนมจีน</td>\n",
              "      <td>20.0</td>\n",
              "      <td>20.0</td>\n",
              "      <td>฿/กิโลกรัม</td>\n",
              "      <td>0.00%</td>\n",
              "      <td>03/09/2021</td>\n",
              "      <td>20.0</td>\n",
              "      <td>ตลาดไท</td>\n",
              "    </tr>\n",
              "    <tr>\n",
              "      <th>4</th>\n",
              "      <td>ขอบกระด้ง(ขอบดำ)</td>\n",
              "      <td>200.0</td>\n",
              "      <td>200.0</td>\n",
              "      <td>฿/กิโลกรัม</td>\n",
              "      <td>0.00%</td>\n",
              "      <td>03/09/2021</td>\n",
              "      <td>200.0</td>\n",
              "      <td>ตลาดไท</td>\n",
              "    </tr>\n",
              "  </tbody>\n",
              "</table>\n",
              "</div>"
            ],
            "text/plain": [
              "               product  min_price  max_price  ...       date_ avg_price  source\n",
              "0           กระเพาะหมู       65.0       70.0  ...  03/09/2021      67.5  ตลาดไท\n",
              "1  ก๋วยเตี๋ยว เส้นเล็ก       25.0       27.0  ...  03/09/2021      26.0  ตลาดไท\n",
              "2  ก๋วยเตี๋ยว เส้นใหญ่       20.0       20.0  ...  03/09/2021      20.0  ตลาดไท\n",
              "3               ขนมจีน       20.0       20.0  ...  03/09/2021      20.0  ตลาดไท\n",
              "4     ขอบกระด้ง(ขอบดำ)      200.0      200.0  ...  03/09/2021     200.0  ตลาดไท\n",
              "\n",
              "[5 rows x 8 columns]"
            ]
          },
          "metadata": {},
          "execution_count": 21
        }
      ]
    },
    {
      "cell_type": "code",
      "metadata": {
        "colab": {
          "base_uri": "https://localhost:8080/",
          "height": 205
        },
        "id": "WehKUOUx5Axy",
        "outputId": "d385a94b-ad2c-463b-9f1d-b4e6343dbcdc"
      },
      "source": [
        "with_new = pd.concat([exist,df])\n",
        "with_new.head()"
      ],
      "execution_count": 25,
      "outputs": [
        {
          "output_type": "execute_result",
          "data": {
            "text/html": [
              "<div>\n",
              "<style scoped>\n",
              "    .dataframe tbody tr th:only-of-type {\n",
              "        vertical-align: middle;\n",
              "    }\n",
              "\n",
              "    .dataframe tbody tr th {\n",
              "        vertical-align: top;\n",
              "    }\n",
              "\n",
              "    .dataframe thead th {\n",
              "        text-align: right;\n",
              "    }\n",
              "</style>\n",
              "<table border=\"1\" class=\"dataframe\">\n",
              "  <thead>\n",
              "    <tr style=\"text-align: right;\">\n",
              "      <th></th>\n",
              "      <th>product</th>\n",
              "      <th>min_price</th>\n",
              "      <th>max_price</th>\n",
              "      <th>unit</th>\n",
              "      <th>discount</th>\n",
              "      <th>date_</th>\n",
              "      <th>avg_price</th>\n",
              "      <th>source</th>\n",
              "    </tr>\n",
              "  </thead>\n",
              "  <tbody>\n",
              "    <tr>\n",
              "      <th>0</th>\n",
              "      <td>กระเพาะหมู</td>\n",
              "      <td>65</td>\n",
              "      <td>70</td>\n",
              "      <td>฿/กิโลกรัม</td>\n",
              "      <td>0.00%</td>\n",
              "      <td>03/09/2021</td>\n",
              "      <td>67.5</td>\n",
              "      <td>ตลาดไท</td>\n",
              "    </tr>\n",
              "    <tr>\n",
              "      <th>1</th>\n",
              "      <td>ก๋วยเตี๋ยว เส้นเล็ก</td>\n",
              "      <td>25</td>\n",
              "      <td>27</td>\n",
              "      <td>฿/กิโลกรัม</td>\n",
              "      <td>0.00%</td>\n",
              "      <td>03/09/2021</td>\n",
              "      <td>26.0</td>\n",
              "      <td>ตลาดไท</td>\n",
              "    </tr>\n",
              "    <tr>\n",
              "      <th>2</th>\n",
              "      <td>ก๋วยเตี๋ยว เส้นใหญ่</td>\n",
              "      <td>20</td>\n",
              "      <td>20</td>\n",
              "      <td>฿/กิโลกรัม</td>\n",
              "      <td>0.00%</td>\n",
              "      <td>03/09/2021</td>\n",
              "      <td>20.0</td>\n",
              "      <td>ตลาดไท</td>\n",
              "    </tr>\n",
              "    <tr>\n",
              "      <th>3</th>\n",
              "      <td>ขนมจีน</td>\n",
              "      <td>20</td>\n",
              "      <td>20</td>\n",
              "      <td>฿/กิโลกรัม</td>\n",
              "      <td>0.00%</td>\n",
              "      <td>03/09/2021</td>\n",
              "      <td>20.0</td>\n",
              "      <td>ตลาดไท</td>\n",
              "    </tr>\n",
              "    <tr>\n",
              "      <th>4</th>\n",
              "      <td>ขอบกระด้ง(ขอบดำ)</td>\n",
              "      <td>200</td>\n",
              "      <td>200</td>\n",
              "      <td>฿/กิโลกรัม</td>\n",
              "      <td>0.00%</td>\n",
              "      <td>03/09/2021</td>\n",
              "      <td>200.0</td>\n",
              "      <td>ตลาดไท</td>\n",
              "    </tr>\n",
              "  </tbody>\n",
              "</table>\n",
              "</div>"
            ],
            "text/plain": [
              "               product min_price max_price  ...       date_ avg_price  source\n",
              "0           กระเพาะหมู        65        70  ...  03/09/2021      67.5  ตลาดไท\n",
              "1  ก๋วยเตี๋ยว เส้นเล็ก        25        27  ...  03/09/2021      26.0  ตลาดไท\n",
              "2  ก๋วยเตี๋ยว เส้นใหญ่        20        20  ...  03/09/2021      20.0  ตลาดไท\n",
              "3               ขนมจีน        20        20  ...  03/09/2021      20.0  ตลาดไท\n",
              "4     ขอบกระด้ง(ขอบดำ)       200       200  ...  03/09/2021     200.0  ตลาดไท\n",
              "\n",
              "[5 rows x 8 columns]"
            ]
          },
          "metadata": {},
          "execution_count": 25
        }
      ]
    },
    {
      "cell_type": "code",
      "metadata": {
        "colab": {
          "base_uri": "https://localhost:8080/",
          "height": 205
        },
        "id": "pLDoKCpa55P-",
        "outputId": "cd526900-5ffe-4b70-cd62-8a7d6e228561"
      },
      "source": [
        "final = with_new.drop_duplicates()\n",
        "final.head()"
      ],
      "execution_count": 24,
      "outputs": [
        {
          "output_type": "execute_result",
          "data": {
            "text/html": [
              "<div>\n",
              "<style scoped>\n",
              "    .dataframe tbody tr th:only-of-type {\n",
              "        vertical-align: middle;\n",
              "    }\n",
              "\n",
              "    .dataframe tbody tr th {\n",
              "        vertical-align: top;\n",
              "    }\n",
              "\n",
              "    .dataframe thead th {\n",
              "        text-align: right;\n",
              "    }\n",
              "</style>\n",
              "<table border=\"1\" class=\"dataframe\">\n",
              "  <thead>\n",
              "    <tr style=\"text-align: right;\">\n",
              "      <th></th>\n",
              "      <th>product</th>\n",
              "      <th>min_price</th>\n",
              "      <th>max_price</th>\n",
              "      <th>unit</th>\n",
              "      <th>discount</th>\n",
              "      <th>date_</th>\n",
              "      <th>avg_price</th>\n",
              "      <th>source</th>\n",
              "    </tr>\n",
              "  </thead>\n",
              "  <tbody>\n",
              "    <tr>\n",
              "      <th>0</th>\n",
              "      <td>กระเพาะหมู</td>\n",
              "      <td>65</td>\n",
              "      <td>70</td>\n",
              "      <td>฿/กิโลกรัม</td>\n",
              "      <td>0.00%</td>\n",
              "      <td>03/09/2021</td>\n",
              "      <td>67.5</td>\n",
              "      <td>ตลาดไท</td>\n",
              "    </tr>\n",
              "    <tr>\n",
              "      <th>1</th>\n",
              "      <td>ก๋วยเตี๋ยว เส้นเล็ก</td>\n",
              "      <td>25</td>\n",
              "      <td>27</td>\n",
              "      <td>฿/กิโลกรัม</td>\n",
              "      <td>0.00%</td>\n",
              "      <td>03/09/2021</td>\n",
              "      <td>26.0</td>\n",
              "      <td>ตลาดไท</td>\n",
              "    </tr>\n",
              "    <tr>\n",
              "      <th>2</th>\n",
              "      <td>ก๋วยเตี๋ยว เส้นใหญ่</td>\n",
              "      <td>20</td>\n",
              "      <td>20</td>\n",
              "      <td>฿/กิโลกรัม</td>\n",
              "      <td>0.00%</td>\n",
              "      <td>03/09/2021</td>\n",
              "      <td>20.0</td>\n",
              "      <td>ตลาดไท</td>\n",
              "    </tr>\n",
              "    <tr>\n",
              "      <th>3</th>\n",
              "      <td>ขนมจีน</td>\n",
              "      <td>20</td>\n",
              "      <td>20</td>\n",
              "      <td>฿/กิโลกรัม</td>\n",
              "      <td>0.00%</td>\n",
              "      <td>03/09/2021</td>\n",
              "      <td>20.0</td>\n",
              "      <td>ตลาดไท</td>\n",
              "    </tr>\n",
              "    <tr>\n",
              "      <th>4</th>\n",
              "      <td>ขอบกระด้ง(ขอบดำ)</td>\n",
              "      <td>200</td>\n",
              "      <td>200</td>\n",
              "      <td>฿/กิโลกรัม</td>\n",
              "      <td>0.00%</td>\n",
              "      <td>03/09/2021</td>\n",
              "      <td>200.0</td>\n",
              "      <td>ตลาดไท</td>\n",
              "    </tr>\n",
              "  </tbody>\n",
              "</table>\n",
              "</div>"
            ],
            "text/plain": [
              "               product min_price max_price  ...       date_ avg_price  source\n",
              "0           กระเพาะหมู        65        70  ...  03/09/2021      67.5  ตลาดไท\n",
              "1  ก๋วยเตี๋ยว เส้นเล็ก        25        27  ...  03/09/2021      26.0  ตลาดไท\n",
              "2  ก๋วยเตี๋ยว เส้นใหญ่        20        20  ...  03/09/2021      20.0  ตลาดไท\n",
              "3               ขนมจีน        20        20  ...  03/09/2021      20.0  ตลาดไท\n",
              "4     ขอบกระด้ง(ขอบดำ)       200       200  ...  03/09/2021     200.0  ตลาดไท\n",
              "\n",
              "[5 rows x 8 columns]"
            ]
          },
          "metadata": {},
          "execution_count": 24
        }
      ]
    },
    {
      "cell_type": "code",
      "metadata": {
        "id": "7I5dTe3Y6DIx"
      },
      "source": [
        "out_path = \"/content/drive/MyDrive/public_database/taladthai_price.xlsx\"\n",
        "\n",
        "writer = pd.ExcelWriter(out_path, engine='xlsxwriter')\n",
        "final.to_excel(writer, index=False)\n",
        "writer.save()"
      ],
      "execution_count": 26,
      "outputs": []
    },
    {
      "cell_type": "code",
      "metadata": {
        "id": "HuTS93mH6iCI"
      },
      "source": [
        "# authenticate\n",
        "from google.colab import auth\n",
        "auth.authenticate_user()\n",
        "import gspread\n",
        "from oauth2client.client import GoogleCredentials as GC\n",
        "gc = gspread.authorize(GC.get_application_default())\n",
        "# create, and save df\n",
        "from gspread_dataframe import set_with_dataframe\n",
        "title = 'taladthai_price'\n",
        "gc.create(title)  # if not exist\n",
        "sheet = gc.open(title).sheet1\n",
        "set_with_dataframe(sheet, final) \n",
        "# include_index=False, include_column_header=True, resize=False"
      ],
      "execution_count": 29,
      "outputs": []
    },
    {
      "cell_type": "code",
      "metadata": {
        "id": "xJyhRZ3o8R_K"
      },
      "source": [
        ""
      ],
      "execution_count": null,
      "outputs": []
    }
  ]
}