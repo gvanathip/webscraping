{
  "nbformat": 4,
  "nbformat_minor": 0,
  "metadata": {
    "colab": {
      "name": "CarparkBKK2.ipynb",
      "provenance": [],
      "authorship_tag": "ABX9TyMvT8mm7bxV2M7EyRME2vo1",
      "include_colab_link": true
    },
    "kernelspec": {
      "name": "python3",
      "display_name": "Python 3"
    },
    "language_info": {
      "name": "python"
    }
  },
  "cells": [
    {
      "cell_type": "markdown",
      "metadata": {
        "id": "view-in-github",
        "colab_type": "text"
      },
      "source": [
        "<a href=\"https://colab.research.google.com/github/gvanathip/webscraping/blob/main/CarparkBKK2.ipynb\" target=\"_parent\"><img src=\"https://colab.research.google.com/assets/colab-badge.svg\" alt=\"Open In Colab\"/></a>"
      ]
    },
    {
      "cell_type": "code",
      "metadata": {
        "colab": {
          "base_uri": "https://localhost:8080/"
        },
        "id": "WJi39R_nHtZX",
        "outputId": "e467ec55-8627-4b97-ef88-4236459d6d81"
      },
      "source": [
        "pip install requests"
      ],
      "execution_count": 1,
      "outputs": [
        {
          "output_type": "stream",
          "text": [
            "Requirement already satisfied: requests in /usr/local/lib/python3.7/dist-packages (2.23.0)\n",
            "Requirement already satisfied: certifi>=2017.4.17 in /usr/local/lib/python3.7/dist-packages (from requests) (2021.5.30)\n",
            "Requirement already satisfied: chardet<4,>=3.0.2 in /usr/local/lib/python3.7/dist-packages (from requests) (3.0.4)\n",
            "Requirement already satisfied: idna<3,>=2.5 in /usr/local/lib/python3.7/dist-packages (from requests) (2.10)\n",
            "Requirement already satisfied: urllib3!=1.25.0,!=1.25.1,<1.26,>=1.21.1 in /usr/local/lib/python3.7/dist-packages (from requests) (1.24.3)\n"
          ],
          "name": "stdout"
        }
      ]
    },
    {
      "cell_type": "code",
      "metadata": {
        "colab": {
          "base_uri": "https://localhost:8080/"
        },
        "id": "zYObvR-lHzbt",
        "outputId": "35212b7f-3e84-4b15-a65b-5b1112b3892b"
      },
      "source": [
        "pip install beautifulsoup4"
      ],
      "execution_count": 2,
      "outputs": [
        {
          "output_type": "stream",
          "text": [
            "Requirement already satisfied: beautifulsoup4 in /usr/local/lib/python3.7/dist-packages (4.6.3)\n"
          ],
          "name": "stdout"
        }
      ]
    },
    {
      "cell_type": "code",
      "metadata": {
        "id": "euBWt1QQJCyV"
      },
      "source": [
        "from bs4 import BeautifulSoup\n",
        "import requests"
      ],
      "execution_count": 3,
      "outputs": []
    },
    {
      "cell_type": "code",
      "metadata": {
        "id": "Gnf5eottNJCr"
      },
      "source": [
        "urls = []\n",
        "urls.append('https://thailand-parking.com/th/carpark/')\n",
        "for i in range(95):\n",
        "  if i > 1:\n",
        "    url = 'https://thailand-parking.com/th/carpark/page/'+str(i)+'/'\n",
        "    urls.append(url)"
      ],
      "execution_count": 22,
      "outputs": []
    },
    {
      "cell_type": "code",
      "metadata": {
        "colab": {
          "base_uri": "https://localhost:8080/",
          "height": 35
        },
        "id": "1vj4wJSPOC1z",
        "outputId": "8b55d2f4-758a-4417-fd7a-c5ac991ae65e"
      },
      "source": [
        "urls[0]"
      ],
      "execution_count": 58,
      "outputs": [
        {
          "output_type": "execute_result",
          "data": {
            "application/vnd.google.colaboratory.intrinsic+json": {
              "type": "string"
            },
            "text/plain": [
              "'https://thailand-parking.com/th/carpark/'"
            ]
          },
          "metadata": {
            "tags": []
          },
          "execution_count": 58
        }
      ]
    },
    {
      "cell_type": "code",
      "metadata": {
        "id": "lHNRrmb9JP0V"
      },
      "source": [
        "links = []\n",
        "for url in urls:\n",
        "  res = requests.get(url)\n",
        "  res.encoding = \"utf-8\"\n",
        "  soup = BeautifulSoup(res.text, 'html.parser')\n",
        "  tag = soup.find_all('a')\n",
        "\n",
        "  for i in tag:\n",
        "    if 'carpark' in i.get('href'):\n",
        "      if len(i.get('href')) > 40:\n",
        "        if 'page' not in i.get('href'):\n",
        "          links.append(i.get('href'))"
      ],
      "execution_count": 44,
      "outputs": []
    },
    {
      "cell_type": "code",
      "metadata": {
        "id": "K7q9zMYSJYBq"
      },
      "source": [
        "links = list(set(links))"
      ],
      "execution_count": 46,
      "outputs": []
    },
    {
      "cell_type": "code",
      "metadata": {
        "id": "RtSk0s2lJbvL"
      },
      "source": [
        "th_links = []\n",
        "for i in links:\n",
        "  th_links.append(i.replace('https://thailand-parking.com/carpark/','https://thailand-parking.com/th/carpark/'))"
      ],
      "execution_count": 171,
      "outputs": []
    },
    {
      "cell_type": "code",
      "metadata": {
        "id": "dotj74PbJ6j5"
      },
      "source": [
        "total = []\n",
        "for th_link in th_links:\n",
        "  res = requests.get(th_link)\n",
        "  res.encoding = \"utf-8\"\n",
        "  soup = BeautifulSoup(res.text, 'html.parser')\n",
        "\n",
        "  taga = soup.find_all('a')\n",
        "\n",
        "  latlng = []\n",
        "  for i in taga:\n",
        "    if 'data' in str(i):\n",
        "      latlng.append(str(i).split(' ')[2].split('=')[1].replace('\"',''))\n",
        "\n",
        "  tagp = soup.find_all('p')\n",
        "\n",
        "  contents = []\n",
        "  for i in tagp:\n",
        "    if 'class' not in str(i):\n",
        "      contents.append(str(i).replace(\"<p>\",'').replace('</p>',''))\n",
        "\n",
        "  details = dict()\n",
        "  fee = []\n",
        "  for i in contents[1:]:\n",
        "    if \" : \" in i:\n",
        "      details[i.replace('\\t','').replace('\\n','').split(' : ')[0]] = i.replace('\\t','').replace('\\n','').split(' : ')[1]\n",
        "    else:\n",
        "      fee.append(i)\n",
        "    \n",
        "  details['address'] = contents[0]\n",
        "  details['name'] = soup.find('h3').text\n",
        "  details['lat'] = latlng[0].split(',')[0]\n",
        "  details['lng'] = latlng[0].split(',')[1]\n",
        "\n",
        "  fee_title = []\n",
        "  for i in tagp:\n",
        "    if 'mod-parking-single-right-icon' in str(i):\n",
        "      fee_title.append(str(i.contents))\n",
        "\n",
        "  fee_title_ = []\n",
        "  for i in fee_title[1:]:\n",
        "    fee_title_.append(i.split(\",\")[2].replace('\\\\t','').replace('\\\\n','').replace(']','').replace(' ','').replace('\"','').replace(\"'\",''))\n",
        "\n",
        "  fee = dict(zip(fee_title_,fee))\n",
        "  details.update(fee)\n",
        "\n",
        "  total.append(details)"
      ],
      "execution_count": 299,
      "outputs": []
    },
    {
      "cell_type": "code",
      "metadata": {
        "id": "5hTUhJ253Rfl"
      },
      "source": [
        "import pandas as pd"
      ],
      "execution_count": 303,
      "outputs": []
    },
    {
      "cell_type": "code",
      "metadata": {
        "id": "q4atW6xEqlXJ"
      },
      "source": [
        "df = pd.DataFrame(total)"
      ],
      "execution_count": 304,
      "outputs": []
    },
    {
      "cell_type": "code",
      "metadata": {
        "colab": {
          "base_uri": "https://localhost:8080/",
          "height": 442
        },
        "id": "997tYEg6qmSy",
        "outputId": "9950271b-14dd-4326-98d4-011a3e8588cb"
      },
      "source": [
        "df.head()"
      ],
      "execution_count": 305,
      "outputs": [
        {
          "output_type": "execute_result",
          "data": {
            "text/html": [
              "<div>\n",
              "<style scoped>\n",
              "    .dataframe tbody tr th:only-of-type {\n",
              "        vertical-align: middle;\n",
              "    }\n",
              "\n",
              "    .dataframe tbody tr th {\n",
              "        vertical-align: top;\n",
              "    }\n",
              "\n",
              "    .dataframe thead th {\n",
              "        text-align: right;\n",
              "    }\n",
              "</style>\n",
              "<table border=\"1\" class=\"dataframe\">\n",
              "  <thead>\n",
              "    <tr style=\"text-align: right;\">\n",
              "      <th></th>\n",
              "      <th>ระยะทาง</th>\n",
              "      <th>สถานีใกล้เคียง</th>\n",
              "      <th>เบอร์โทร</th>\n",
              "      <th>ใกล้สถานที่สำคัญ</th>\n",
              "      <th>ช่วงเวลาในการจอด</th>\n",
              "      <th>ลักษณะที่จอดรถ</th>\n",
              "      <th>ขนาดที่จอดรถ</th>\n",
              "      <th>address</th>\n",
              "      <th>name</th>\n",
              "      <th>lat</th>\n",
              "      <th>lng</th>\n",
              "      <th>รายชั่วโมง</th>\n",
              "      <th>รายเดือน</th>\n",
              "    </tr>\n",
              "  </thead>\n",
              "  <tbody>\n",
              "    <tr>\n",
              "      <th>0</th>\n",
              "      <td>0mจาก-</td>\n",
              "      <td>MRT สุขุมวิท,BTS อโศก</td>\n",
              "      <td>094-989-7664</td>\n",
              "      <td>-</td>\n",
              "      <td>-</td>\n",
              "      <td>-</td>\n",
              "      <td>- ช่อง</td>\n",
              "      <td>-</td>\n",
              "      <td>NPD PARKING 690</td>\n",
              "      <td>13.73088512377590</td>\n",
              "      <td>100.57327750103200</td>\n",
              "      <td>-</td>\n",
              "      <td>NaN</td>\n",
              "    </tr>\n",
              "    <tr>\n",
              "      <th>1</th>\n",
              "      <td>0mจาก-</td>\n",
              "      <td>MRT สุขุมวิท,BTS อโศก</td>\n",
              "      <td>094-989-7664</td>\n",
              "      <td>-</td>\n",
              "      <td>-</td>\n",
              "      <td>-</td>\n",
              "      <td>- ช่อง</td>\n",
              "      <td>-</td>\n",
              "      <td>NPD PARKING 499</td>\n",
              "      <td>13.73276585873540</td>\n",
              "      <td>100.5602069029040</td>\n",
              "      <td>-</td>\n",
              "      <td>NaN</td>\n",
              "    </tr>\n",
              "    <tr>\n",
              "      <th>2</th>\n",
              "      <td>0mจาก-</td>\n",
              "      <td>MRT สุขุมวิท,BTS อโศก</td>\n",
              "      <td>094-989-7664</td>\n",
              "      <td>-</td>\n",
              "      <td>-</td>\n",
              "      <td>-</td>\n",
              "      <td>- ช่อง</td>\n",
              "      <td>-</td>\n",
              "      <td>NPD PARKING 601</td>\n",
              "      <td>13.72166701016930</td>\n",
              "      <td>100.58045936855000</td>\n",
              "      <td>-</td>\n",
              "      <td>NaN</td>\n",
              "    </tr>\n",
              "    <tr>\n",
              "      <th>3</th>\n",
              "      <td>0mจากBTS ช่องนนทรี</td>\n",
              "      <td>BTS ช่องนนทรี</td>\n",
              "      <td>094-989-7664</td>\n",
              "      <td>-</td>\n",
              "      <td>-</td>\n",
              "      <td>-</td>\n",
              "      <td>- ช่อง</td>\n",
              "      <td>-</td>\n",
              "      <td>NPD PARKING 361</td>\n",
              "      <td>13.723847326827100</td>\n",
              "      <td>100.53112064468700</td>\n",
              "      <td>-</td>\n",
              "      <td>NaN</td>\n",
              "    </tr>\n",
              "    <tr>\n",
              "      <th>4</th>\n",
              "      <td>0mจาก-</td>\n",
              "      <td>MRT สุขุมวิท,BTS อโศก</td>\n",
              "      <td>094-989-7664</td>\n",
              "      <td>-</td>\n",
              "      <td>-</td>\n",
              "      <td>-</td>\n",
              "      <td>- ช่อง</td>\n",
              "      <td>-</td>\n",
              "      <td>NPD PARKING 653</td>\n",
              "      <td>13.735113019730400</td>\n",
              "      <td>100.56764738838900</td>\n",
              "      <td>-</td>\n",
              "      <td>NaN</td>\n",
              "    </tr>\n",
              "  </tbody>\n",
              "</table>\n",
              "</div>"
            ],
            "text/plain": [
              "              ระยะทาง         สถานีใกล้เคียง  ... รายชั่วโมง รายเดือน\n",
              "0              0mจาก-  MRT สุขุมวิท,BTS อโศก  ...          -      NaN\n",
              "1              0mจาก-  MRT สุขุมวิท,BTS อโศก  ...          -      NaN\n",
              "2              0mจาก-  MRT สุขุมวิท,BTS อโศก  ...          -      NaN\n",
              "3  0mจากBTS ช่องนนทรี          BTS ช่องนนทรี  ...          -      NaN\n",
              "4              0mจาก-  MRT สุขุมวิท,BTS อโศก  ...          -      NaN\n",
              "\n",
              "[5 rows x 13 columns]"
            ]
          },
          "metadata": {
            "tags": []
          },
          "execution_count": 305
        }
      ]
    },
    {
      "cell_type": "code",
      "metadata": {
        "colab": {
          "base_uri": "https://localhost:8080/"
        },
        "id": "n5ZkwOlU3Wli",
        "outputId": "c409928b-18ec-407d-82f4-59cc214de30e"
      },
      "source": [
        "pip install xlsxwriter"
      ],
      "execution_count": 306,
      "outputs": [
        {
          "output_type": "stream",
          "text": [
            "Collecting xlsxwriter\n",
            "\u001b[?25l  Downloading https://files.pythonhosted.org/packages/93/51/11cb4545e95f1a845a6ca5475eb425272dc32c2f0e3592d80e7abd491374/XlsxWriter-1.4.4-py2.py3-none-any.whl (149kB)\n",
            "\r\u001b[K     |██▏                             | 10kB 19.5MB/s eta 0:00:01\r\u001b[K     |████▍                           | 20kB 26.4MB/s eta 0:00:01\r\u001b[K     |██████▋                         | 30kB 32.5MB/s eta 0:00:01\r\u001b[K     |████████▊                       | 40kB 23.8MB/s eta 0:00:01\r\u001b[K     |███████████                     | 51kB 13.9MB/s eta 0:00:01\r\u001b[K     |█████████████▏                  | 61kB 15.4MB/s eta 0:00:01\r\u001b[K     |███████████████▎                | 71kB 15.1MB/s eta 0:00:01\r\u001b[K     |█████████████████▌              | 81kB 13.3MB/s eta 0:00:01\r\u001b[K     |███████████████████▊            | 92kB 14.5MB/s eta 0:00:01\r\u001b[K     |██████████████████████          | 102kB 13.7MB/s eta 0:00:01\r\u001b[K     |████████████████████████        | 112kB 13.7MB/s eta 0:00:01\r\u001b[K     |██████████████████████████▎     | 122kB 13.7MB/s eta 0:00:01\r\u001b[K     |████████████████████████████▌   | 133kB 13.7MB/s eta 0:00:01\r\u001b[K     |██████████████████████████████▋ | 143kB 13.7MB/s eta 0:00:01\r\u001b[K     |████████████████████████████████| 153kB 13.7MB/s \n",
            "\u001b[?25hInstalling collected packages: xlsxwriter\n",
            "Successfully installed xlsxwriter-1.4.4\n"
          ],
          "name": "stdout"
        }
      ]
    },
    {
      "cell_type": "code",
      "metadata": {
        "colab": {
          "base_uri": "https://localhost:8080/"
        },
        "id": "6XKCU5o43fzk",
        "outputId": "8045a26b-3e49-4e44-bc42-d5d74a3b6480"
      },
      "source": [
        "from google.colab import drive\n",
        "drive.mount('/content/drive')"
      ],
      "execution_count": 308,
      "outputs": [
        {
          "output_type": "stream",
          "text": [
            "Mounted at /content/drive\n"
          ],
          "name": "stdout"
        }
      ]
    },
    {
      "cell_type": "code",
      "metadata": {
        "id": "PPfpeFPE3abR"
      },
      "source": [
        "out_path = \"/content/drive/MyDrive/public_database/CarParkBKK2.xlsx\"\n",
        "\n",
        "writer = pd.ExcelWriter(out_path, engine='xlsxwriter')\n",
        "df.to_excel(writer, index=False)\n",
        "writer.save() "
      ],
      "execution_count": 309,
      "outputs": []
    },
    {
      "cell_type": "code",
      "metadata": {
        "id": "C73Q1rJ53eAe"
      },
      "source": [
        ""
      ],
      "execution_count": null,
      "outputs": []
    }
  ]
}