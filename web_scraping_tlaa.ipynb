{
  "nbformat": 4,
  "nbformat_minor": 0,
  "metadata": {
    "colab": {
      "name": "web_scraping_tlaa.ipynb",
      "private_outputs": true,
      "provenance": [],
      "collapsed_sections": [],
      "authorship_tag": "ABX9TyMDNuDu+sXR3UsyJ6MOGx56",
      "include_colab_link": true
    },
    "kernelspec": {
      "name": "python3",
      "display_name": "Python 3"
    },
    "language_info": {
      "name": "python"
    }
  },
  "cells": [
    {
      "cell_type": "markdown",
      "metadata": {
        "id": "view-in-github",
        "colab_type": "text"
      },
      "source": [
        "<a href=\"https://colab.research.google.com/github/gvanathip/webscraping/blob/main/web_scraping_tlaa.ipynb\" target=\"_parent\"><img src=\"https://colab.research.google.com/assets/colab-badge.svg\" alt=\"Open In Colab\"/></a>"
      ]
    },
    {
      "cell_type": "code",
      "execution_count": null,
      "metadata": {
        "id": "ZaIX3BULUQFJ"
      },
      "outputs": [],
      "source": [
        "url = 'https://www.tlaa.org/page_statistics_new.php?cid=95&cname=%E0%B8%AA%E0%B8%96%E0%B8%B4%E0%B8%95%E0%B8%B4%E0%B8%A3%E0%B8%B2%E0%B8%A2%E0%B9%80%E0%B8%94%E0%B8%B7%E0%B8%AD%E0%B8%99%E0%B9%81%E0%B8%A2%E0%B8%81%E0%B8%95%E0%B8%B2%E0%B8%A1%E0%B8%8A%E0%B9%88%E0%B8%AD%E0%B8%87%E0%B8%97%E0%B8%B2%E0%B8%87%20(%E0%B8%A3%E0%B8%B9%E0%B8%9B%E0%B9%81%E0%B8%9A%E0%B8%9A%E0%B9%83%E0%B8%AB%E0%B8%A1%E0%B9%88)'"
      ]
    },
    {
      "cell_type": "code",
      "source": [
        "!pip install selenium\n",
        "!apt-get update # to update ubuntu to correctly run apt install\n",
        "!apt install chromium-chromedriver\n",
        "!cp /usr/lib/chromium-browser/chromedriver /usr/bin\n",
        "import sys\n",
        "sys.path.insert(0,'/usr/lib/chromium-browser/chromedriver')"
      ],
      "metadata": {
        "id": "EREkDjKSfPIV"
      },
      "execution_count": null,
      "outputs": []
    },
    {
      "cell_type": "code",
      "source": [
        "from selenium import webdriver\n",
        "chrome_options = webdriver.ChromeOptions()\n",
        "chrome_options.add_argument('--headless')\n",
        "chrome_options.add_argument('--no-sandbox')\n",
        "chrome_options.add_argument('--disable-dev-shm-usage')\n",
        "driver = webdriver.Chrome('chromedriver',chrome_options=chrome_options)"
      ],
      "metadata": {
        "id": "nBB7vsyzfomP"
      },
      "execution_count": null,
      "outputs": []
    },
    {
      "cell_type": "code",
      "source": [
        "driver.get(url)"
      ],
      "metadata": {
        "id": "35fI4NCTgQ_4"
      },
      "execution_count": null,
      "outputs": []
    },
    {
      "cell_type": "code",
      "source": [
        "import time"
      ],
      "metadata": {
        "id": "1RzMueIhg79J"
      },
      "execution_count": null,
      "outputs": []
    },
    {
      "cell_type": "code",
      "source": [
        "p = driver.find_element(\"xpath\",'/html/body/div[5]/div/div/div[6]/div[2]/div/ul').get_attribute(\"innerText\")\n",
        "time.sleep(5)\n",
        "p"
      ],
      "metadata": {
        "id": "50Z0a6fZgXwB"
      },
      "execution_count": null,
      "outputs": []
    },
    {
      "cell_type": "code",
      "source": [
        "max_page = int(p.split(\"\\n\")[1:-1][-1])"
      ],
      "metadata": {
        "id": "wiwbOdvVgvOk"
      },
      "execution_count": null,
      "outputs": []
    },
    {
      "cell_type": "code",
      "source": [
        "urlx = []\n",
        "for i in range(max_page):\n",
        "  if i==0:\n",
        "    a = (max_page-i-1)*9\n",
        "  else:\n",
        "    a = (i-1)*9\n",
        "  b = i*9\n",
        "  print(i,a,b)\n",
        "\n",
        "  print(url+'&show='+str(a)+'&y=&show='+str(b)+'&showmax=9')\n",
        "  urlx.append(url+'&show='+str(a)+'&y=&show='+str(b)+'&showmax=9')"
      ],
      "metadata": {
        "id": "JU0Ws1RgiVVU"
      },
      "execution_count": null,
      "outputs": []
    },
    {
      "cell_type": "code",
      "source": [
        "pip install wget"
      ],
      "metadata": {
        "id": "lKyWuvlIrnxl"
      },
      "execution_count": null,
      "outputs": []
    },
    {
      "cell_type": "code",
      "source": [
        "import wget\n",
        "import urllib.parse\n",
        "import os"
      ],
      "metadata": {
        "id": "y9t48FPxrmKw"
      },
      "execution_count": null,
      "outputs": []
    },
    {
      "cell_type": "code",
      "source": [
        "for u in urlx:\n",
        "  print(u)\n",
        "  driver.get(u)\n",
        "  f = driver.find_element(\"xpath\",'/html/body/div[5]/div/div/div[6]/table/tbody').get_attribute(\"innerHTML\")\n",
        "  time.sleep(5)\n",
        "  # print(f.split('\\n'))\n",
        "  for i in f.split('\\n'):\n",
        "    if ('.zip' in i) or ('.rar' in i):\n",
        "      print(i)\n",
        "      if 'span' in i:\n",
        "        file_name = i.split('>')[1].split('<')[0].strip()\n",
        "        fname = urllib.parse.quote(file_name)\n",
        "        x = 'https://www.tlaa.org/static-download/file/'+fname\n",
        "        os.system('wget %s' %x)\n",
        "        time.sleep(5)\n",
        "        print(i.split('>')[1].split('<')[0])"
      ],
      "metadata": {
        "id": "Bc8AsIEjiXkj"
      },
      "execution_count": null,
      "outputs": []
    },
    {
      "cell_type": "code",
      "source": [
        "pip install rarfile"
      ],
      "metadata": {
        "id": "RhgtRaJLPQ7c"
      },
      "execution_count": null,
      "outputs": []
    },
    {
      "cell_type": "code",
      "source": [
        "from rarfile import RarFile"
      ],
      "metadata": {
        "id": "wWLs5mIrPLmo"
      },
      "execution_count": null,
      "outputs": []
    },
    {
      "cell_type": "code",
      "source": [
        "dir_path = '/content'\n",
        "\n",
        "import os\n",
        "import zipfile\n",
        "\n",
        "for path, dir_list, file_list in os.walk(dir_path):\n",
        "    for file_name in file_list:\n",
        "        if file_name.endswith(\".zip\"):\n",
        "            abs_file_path = os.path.join(path, file_name)\n",
        "\n",
        "            # The following three lines of code are only useful if \n",
        "            # a. the zip file is to unzipped in it's parent folder and \n",
        "            # b. inside the folder of the same name as the file\n",
        "\n",
        "            parent_path = os.path.split(abs_file_path)[0]\n",
        "            output_folder_name = os.path.splitext(abs_file_path)[0]\n",
        "            output_path = os.path.join(parent_path, output_folder_name)\n",
        "\n",
        "            zip_obj = zipfile.ZipFile(abs_file_path, 'r')\n",
        "            zip_obj.extractall(output_path)\n",
        "            zip_obj.close()\n",
        "        elif file_name.endswith(\".rar\"):\n",
        "            abs_file_path = os.path.join(path, file_name)\n",
        "\n",
        "            # The following three lines of code are only useful if \n",
        "            # a. the zip file is to unzipped in it's parent folder and \n",
        "            # b. inside the folder of the same name as the file\n",
        "\n",
        "            parent_path = os.path.split(abs_file_path)[0]\n",
        "            output_folder_name = os.path.splitext(abs_file_path)[0]\n",
        "            output_path = os.path.join(parent_path, output_folder_name)\n",
        "\n",
        "            # zip_obj = zipfile.ZipFile(abs_file_path, 'r')\n",
        "            rf = RarFile(abs_file_path, mode='r')\n",
        "            # zip_obj.extractall(output_path)\n",
        "            rf.extractall(output_path)\n",
        "            # zip_obj.close()\n",
        "            rf.close()\n",
        "        else:\n",
        "            continue"
      ],
      "metadata": {
        "id": "HLWm-HseOjDW"
      },
      "execution_count": null,
      "outputs": []
    },
    {
      "cell_type": "code",
      "source": [
        "import pandas as pd"
      ],
      "metadata": {
        "id": "7HGIsNnVokVL"
      },
      "execution_count": null,
      "outputs": []
    },
    {
      "cell_type": "code",
      "source": [
        "from datetime import date\n",
        "import numpy as np"
      ],
      "metadata": {
        "id": "wZSXZQXOrTIj"
      },
      "execution_count": null,
      "outputs": []
    },
    {
      "cell_type": "code",
      "source": [
        "final_df = pd.DataFrame()\n",
        "\n",
        "for i in os.listdir(dir_path):\n",
        "  # print(i)\n",
        "  if i.endswith(\".zip\"):\n",
        "    continue\n",
        "  elif i in ['.config','sample_data','.ipynb_checkpoints']:\n",
        "    continue\n",
        "  elif i.endswith(\".rar\"):\n",
        "    continue\n",
        "  elif '2562' in i:\n",
        "    continue\n",
        "  else:\n",
        "    print(i)\n",
        "    print(i.split(\" \")[-2])\n",
        "    print(i.split(\" \")[-1])\n",
        "    # print(os.listdir(dir_path+'/'+i))\n",
        "    # print(dir_path+'/'+i)\n",
        "    for j in os.listdir(dir_path+'/'+i):\n",
        "      if j.split('.')[0] in ['T3','T4','T5','T6','T7','T8','T9']:\n",
        "        # print('i:',i)\n",
        "        # print('j:',j)\n",
        "        print(dir_path+'/'+i+'/'+j)\n",
        "        # check = pd.read_excel(dir_path+'/'+i+'/'+j,index_col=None)\n",
        "        # # print(len(check.columns))\n",
        "        # print(len(check.columns)-check.head(1).isnull().sum().sum())\n",
        "        # try:\n",
        "\n",
        "        # skipr = 0\n",
        "\n",
        "        # for x in range(len(check)):\n",
        "        #   print(x)\n",
        "        #   if len(check.columns)-check.iloc[x].isnull().sum().sum() == 8:\n",
        "        #     # print('check1')\n",
        "        #     skipr = x\n",
        "        #     break\n",
        "        #   else:\n",
        "            # print('have empty rows')\n",
        "            \n",
        "\n",
        "        # print('skiprows=',skipr)\n",
        "\n",
        "        df = pd.read_excel(dir_path+'/'+i+'/'+j,header=[0,1,2,3,4],index_col=None)\n",
        "        # if len(check.columns)-check.head(1).isnull().sum().sum() == 8:\n",
        "        #   df = pd.read_excel(dir_path+'/'+i+'/'+j,header=[0,1,2,3,4],index_col=None)\n",
        "        # else:\n",
        "        #   # print(dir_path+'/'+i+'/'+j)\n",
        "        #   df = pd.read_excel(dir_path+'/'+i+'/'+j,header=[0,1,2,3,4],index_col=None, skiprows=skipr)\n",
        "          # print('done')\n",
        "        # except Exception as e:\n",
        "        #   print(e)\n",
        "        # # except Exception as e:\n",
        "        #   df = pd.read_excel(dir_path+'/'+i+'/'+j,header=[0,1,2,3,4],index_col=None, skiprows=1)\n",
        "        # print(df.head())\n",
        "        # print(df)\n",
        "        # df = pd.read_excel('/content/รายงานการรับประกันชีวิตแยกตามช่องทาง (รูปแบบหใม่) กรกฎาคม 2563/T5.α║╒Θ┬╗├╨í╤╣└╤┬├╤║¬Φ═º╖╥º╕╣╥ñ╥├(MTD,YTD).xlsx',header=[0,1,2,3,4],index_col=None)\n",
        "        df = df[:int(len(df)/2)-6]\n",
        "        cols = []\n",
        "        for k in df.columns.tolist():\n",
        "          cols.append(','.join(k))\n",
        "        df.columns = cols\n",
        "        df = df.iloc[:,1:]\n",
        "        df = df.rename(columns={df.columns[0]: 'company'})\n",
        "        df = df.set_index('company')\n",
        "        df = df.melt(ignore_index=False)\n",
        "\n",
        "        df1 = df['variable'].str.split(',', expand=True)\n",
        "        df1['value'] = df['value']\n",
        "        df1 = df1.reset_index()\n",
        "        df1 = df1[df1[1]!='หน่วย (Unit) : 1']\n",
        "\n",
        "\n",
        "\n",
        "        df1['channel'] = ' '.join(df1[1].drop_duplicates().values[0].split(' ')[2:-2])\n",
        "        df1['month'] = i.split(\" \")[-2]\n",
        "        df1['year'] = i.split(\" \")[-1]\n",
        "\n",
        "        df1 = df1.drop(columns=[0,1]).rename(columns={2:\"group1\",3:\"group2\",4:'group3',5:\"group4\",6:\"group5\"})\n",
        "\n",
        "        df1['as of'] = date.today().strftime(\"%d/%m/%Y\")\n",
        "        df1 = df1[['as of','channel','year','month','company','group1', 'group2', 'group3', 'group4', 'group5', 'value']]\n",
        "\n",
        "        df1.loc[df1['group3'].str.contains('Unnamed'), 'group3'] = np.nan\n",
        "        df1.loc[df1['group4'].isna(), 'group4'] = np.nan\n",
        "        df1.loc[df1['group5'].isna(), 'group5'] = np.nan\n",
        "\n",
        "        final_df = pd.concat([final_df, df1])\n",
        "        # print(final_df.tail())"
      ],
      "metadata": {
        "id": "twexJOOMmx1R"
      },
      "execution_count": null,
      "outputs": []
    },
    {
      "cell_type": "code",
      "source": [
        "final_df = final_df.drop_duplicates()"
      ],
      "metadata": {
        "id": "3v9uf6vik3Ih"
      },
      "execution_count": null,
      "outputs": []
    },
    {
      "cell_type": "code",
      "source": [
        "thai_abbr_months = [\n",
        "    \"ม.ค.\",\n",
        "    \"ก.พ.\",\n",
        "    \"มี.ค.\",\n",
        "    \"เม.ย.\",\n",
        "    \"พ.ค.\",\n",
        "    \"มิ.ย.\",\n",
        "    \"ก.ค.\",\n",
        "    \"ส.ค.\",\n",
        "    \"ก.ย.\",\n",
        "    \"ต.ค.\",\n",
        "    \"พ.ย.\",\n",
        "    \"ธ.ค.\",\n",
        "]\n",
        "thai_full_months = [\n",
        "    \"มกราคม\",\n",
        "    \"กุมภาพันธ์\",\n",
        "    \"มีนาคม\",\n",
        "    \"เมษายน\",\n",
        "    \"พฤษภาคม\",\n",
        "    \"มิถุนายน\",\n",
        "    \"กรกฎาคม\",\n",
        "    \"สิงหาคม\",\n",
        "    \"กันยายน\",\n",
        "    \"ตุลาคม\",\n",
        "    \"พฤศจิกายน\",\n",
        "    \"ธันวาคม\",\n",
        "]"
      ],
      "metadata": {
        "id": "ZUAehRDMbX6Z"
      },
      "execution_count": null,
      "outputs": []
    },
    {
      "cell_type": "code",
      "source": [
        "final_df.month.replace(thai_abbr_months,thai_full_months,inplace=True)"
      ],
      "metadata": {
        "id": "LlZGwHNReJm8"
      },
      "execution_count": null,
      "outputs": []
    },
    {
      "cell_type": "code",
      "source": [
        "final_df.to_excel('รายงานการรับประกันชีวิตแยกตามช่องทาง.xlsx',index=False)"
      ],
      "metadata": {
        "id": "hfKKN19inlit"
      },
      "execution_count": null,
      "outputs": []
    },
    {
      "cell_type": "code",
      "source": [
        "from google.colab import files\n",
        "files.download(\"รายงานการรับประกันชีวิตแยกตามช่องทาง.xlsx\")"
      ],
      "metadata": {
        "id": "xGmq46TXgv-6"
      },
      "execution_count": null,
      "outputs": []
    },
    {
      "cell_type": "code",
      "source": [
        ""
      ],
      "metadata": {
        "id": "-eqV7Ckzhnzu"
      },
      "execution_count": null,
      "outputs": []
    }
  ]
}