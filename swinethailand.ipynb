{
  "nbformat": 4,
  "nbformat_minor": 0,
  "metadata": {
    "colab": {
      "name": "swinethailand.ipynb",
      "provenance": [],
      "collapsed_sections": [
        "oSrFQjBfIyyX"
      ],
      "toc_visible": true,
      "authorship_tag": "ABX9TyM7rf1DzNDIlIac8TInY4XG",
      "include_colab_link": true
    },
    "kernelspec": {
      "name": "python3",
      "display_name": "Python 3"
    },
    "language_info": {
      "name": "python"
    }
  },
  "cells": [
    {
      "cell_type": "markdown",
      "metadata": {
        "id": "view-in-github",
        "colab_type": "text"
      },
      "source": [
        "<a href=\"https://colab.research.google.com/github/gvanathip/webscraping/blob/main/swinethailand.ipynb\" target=\"_parent\"><img src=\"https://colab.research.google.com/assets/colab-badge.svg\" alt=\"Open In Colab\"/></a>"
      ]
    },
    {
      "cell_type": "markdown",
      "metadata": {
        "id": "oSrFQjBfIyyX"
      },
      "source": [
        "# Install"
      ]
    },
    {
      "cell_type": "code",
      "metadata": {
        "colab": {
          "base_uri": "https://localhost:8080/"
        },
        "id": "Qs9TTtyO6MZn",
        "outputId": "e75d8a88-059e-4b00-9208-8f793b36edb0"
      },
      "source": [
        "pip install selenium"
      ],
      "execution_count": null,
      "outputs": [
        {
          "output_type": "stream",
          "name": "stdout",
          "text": [
            "Collecting selenium\n",
            "  Downloading selenium-3.141.0-py2.py3-none-any.whl (904 kB)\n",
            "\u001b[?25l\r\u001b[K     |▍                               | 10 kB 30.6 MB/s eta 0:00:01\r\u001b[K     |▊                               | 20 kB 38.0 MB/s eta 0:00:01\r\u001b[K     |█                               | 30 kB 41.9 MB/s eta 0:00:01\r\u001b[K     |█▌                              | 40 kB 25.9 MB/s eta 0:00:01\r\u001b[K     |█▉                              | 51 kB 17.6 MB/s eta 0:00:01\r\u001b[K     |██▏                             | 61 kB 14.8 MB/s eta 0:00:01\r\u001b[K     |██▌                             | 71 kB 15.4 MB/s eta 0:00:01\r\u001b[K     |███                             | 81 kB 17.1 MB/s eta 0:00:01\r\u001b[K     |███▎                            | 92 kB 17.1 MB/s eta 0:00:01\r\u001b[K     |███▋                            | 102 kB 12.2 MB/s eta 0:00:01\r\u001b[K     |████                            | 112 kB 12.2 MB/s eta 0:00:01\r\u001b[K     |████▍                           | 122 kB 12.2 MB/s eta 0:00:01\r\u001b[K     |████▊                           | 133 kB 12.2 MB/s eta 0:00:01\r\u001b[K     |█████                           | 143 kB 12.2 MB/s eta 0:00:01\r\u001b[K     |█████▍                          | 153 kB 12.2 MB/s eta 0:00:01\r\u001b[K     |█████▉                          | 163 kB 12.2 MB/s eta 0:00:01\r\u001b[K     |██████▏                         | 174 kB 12.2 MB/s eta 0:00:01\r\u001b[K     |██████▌                         | 184 kB 12.2 MB/s eta 0:00:01\r\u001b[K     |██████▉                         | 194 kB 12.2 MB/s eta 0:00:01\r\u001b[K     |███████▎                        | 204 kB 12.2 MB/s eta 0:00:01\r\u001b[K     |███████▋                        | 215 kB 12.2 MB/s eta 0:00:01\r\u001b[K     |████████                        | 225 kB 12.2 MB/s eta 0:00:01\r\u001b[K     |████████▎                       | 235 kB 12.2 MB/s eta 0:00:01\r\u001b[K     |████████▊                       | 245 kB 12.2 MB/s eta 0:00:01\r\u001b[K     |█████████                       | 256 kB 12.2 MB/s eta 0:00:01\r\u001b[K     |█████████▍                      | 266 kB 12.2 MB/s eta 0:00:01\r\u001b[K     |█████████▉                      | 276 kB 12.2 MB/s eta 0:00:01\r\u001b[K     |██████████▏                     | 286 kB 12.2 MB/s eta 0:00:01\r\u001b[K     |██████████▌                     | 296 kB 12.2 MB/s eta 0:00:01\r\u001b[K     |██████████▉                     | 307 kB 12.2 MB/s eta 0:00:01\r\u001b[K     |███████████▎                    | 317 kB 12.2 MB/s eta 0:00:01\r\u001b[K     |███████████▋                    | 327 kB 12.2 MB/s eta 0:00:01\r\u001b[K     |████████████                    | 337 kB 12.2 MB/s eta 0:00:01\r\u001b[K     |████████████▎                   | 348 kB 12.2 MB/s eta 0:00:01\r\u001b[K     |████████████▊                   | 358 kB 12.2 MB/s eta 0:00:01\r\u001b[K     |█████████████                   | 368 kB 12.2 MB/s eta 0:00:01\r\u001b[K     |█████████████▍                  | 378 kB 12.2 MB/s eta 0:00:01\r\u001b[K     |█████████████▊                  | 389 kB 12.2 MB/s eta 0:00:01\r\u001b[K     |██████████████▏                 | 399 kB 12.2 MB/s eta 0:00:01\r\u001b[K     |██████████████▌                 | 409 kB 12.2 MB/s eta 0:00:01\r\u001b[K     |██████████████▉                 | 419 kB 12.2 MB/s eta 0:00:01\r\u001b[K     |███████████████▏                | 430 kB 12.2 MB/s eta 0:00:01\r\u001b[K     |███████████████▋                | 440 kB 12.2 MB/s eta 0:00:01\r\u001b[K     |████████████████                | 450 kB 12.2 MB/s eta 0:00:01\r\u001b[K     |████████████████▎               | 460 kB 12.2 MB/s eta 0:00:01\r\u001b[K     |████████████████▋               | 471 kB 12.2 MB/s eta 0:00:01\r\u001b[K     |█████████████████               | 481 kB 12.2 MB/s eta 0:00:01\r\u001b[K     |█████████████████▍              | 491 kB 12.2 MB/s eta 0:00:01\r\u001b[K     |█████████████████▊              | 501 kB 12.2 MB/s eta 0:00:01\r\u001b[K     |██████████████████▏             | 512 kB 12.2 MB/s eta 0:00:01\r\u001b[K     |██████████████████▌             | 522 kB 12.2 MB/s eta 0:00:01\r\u001b[K     |██████████████████▉             | 532 kB 12.2 MB/s eta 0:00:01\r\u001b[K     |███████████████████▏            | 542 kB 12.2 MB/s eta 0:00:01\r\u001b[K     |███████████████████▋            | 552 kB 12.2 MB/s eta 0:00:01\r\u001b[K     |████████████████████            | 563 kB 12.2 MB/s eta 0:00:01\r\u001b[K     |████████████████████▎           | 573 kB 12.2 MB/s eta 0:00:01\r\u001b[K     |████████████████████▋           | 583 kB 12.2 MB/s eta 0:00:01\r\u001b[K     |█████████████████████           | 593 kB 12.2 MB/s eta 0:00:01\r\u001b[K     |█████████████████████▍          | 604 kB 12.2 MB/s eta 0:00:01\r\u001b[K     |█████████████████████▊          | 614 kB 12.2 MB/s eta 0:00:01\r\u001b[K     |██████████████████████          | 624 kB 12.2 MB/s eta 0:00:01\r\u001b[K     |██████████████████████▌         | 634 kB 12.2 MB/s eta 0:00:01\r\u001b[K     |██████████████████████▉         | 645 kB 12.2 MB/s eta 0:00:01\r\u001b[K     |███████████████████████▏        | 655 kB 12.2 MB/s eta 0:00:01\r\u001b[K     |███████████████████████▌        | 665 kB 12.2 MB/s eta 0:00:01\r\u001b[K     |████████████████████████        | 675 kB 12.2 MB/s eta 0:00:01\r\u001b[K     |████████████████████████▎       | 686 kB 12.2 MB/s eta 0:00:01\r\u001b[K     |████████████████████████▋       | 696 kB 12.2 MB/s eta 0:00:01\r\u001b[K     |█████████████████████████       | 706 kB 12.2 MB/s eta 0:00:01\r\u001b[K     |█████████████████████████▍      | 716 kB 12.2 MB/s eta 0:00:01\r\u001b[K     |█████████████████████████▊      | 727 kB 12.2 MB/s eta 0:00:01\r\u001b[K     |██████████████████████████      | 737 kB 12.2 MB/s eta 0:00:01\r\u001b[K     |██████████████████████████▍     | 747 kB 12.2 MB/s eta 0:00:01\r\u001b[K     |██████████████████████████▉     | 757 kB 12.2 MB/s eta 0:00:01\r\u001b[K     |███████████████████████████▏    | 768 kB 12.2 MB/s eta 0:00:01\r\u001b[K     |███████████████████████████▌    | 778 kB 12.2 MB/s eta 0:00:01\r\u001b[K     |████████████████████████████    | 788 kB 12.2 MB/s eta 0:00:01\r\u001b[K     |████████████████████████████▎   | 798 kB 12.2 MB/s eta 0:00:01\r\u001b[K     |████████████████████████████▋   | 808 kB 12.2 MB/s eta 0:00:01\r\u001b[K     |█████████████████████████████   | 819 kB 12.2 MB/s eta 0:00:01\r\u001b[K     |█████████████████████████████▍  | 829 kB 12.2 MB/s eta 0:00:01\r\u001b[K     |█████████████████████████████▊  | 839 kB 12.2 MB/s eta 0:00:01\r\u001b[K     |██████████████████████████████  | 849 kB 12.2 MB/s eta 0:00:01\r\u001b[K     |██████████████████████████████▍ | 860 kB 12.2 MB/s eta 0:00:01\r\u001b[K     |██████████████████████████████▉ | 870 kB 12.2 MB/s eta 0:00:01\r\u001b[K     |███████████████████████████████▏| 880 kB 12.2 MB/s eta 0:00:01\r\u001b[K     |███████████████████████████████▌| 890 kB 12.2 MB/s eta 0:00:01\r\u001b[K     |███████████████████████████████▉| 901 kB 12.2 MB/s eta 0:00:01\r\u001b[K     |████████████████████████████████| 904 kB 12.2 MB/s \n",
            "\u001b[?25hRequirement already satisfied: urllib3 in /usr/local/lib/python3.7/dist-packages (from selenium) (1.24.3)\n",
            "Installing collected packages: selenium\n",
            "Successfully installed selenium-3.141.0\n"
          ]
        }
      ]
    },
    {
      "cell_type": "code",
      "metadata": {
        "colab": {
          "base_uri": "https://localhost:8080/"
        },
        "id": "9W7P5m2DPQPd",
        "outputId": "abe5e69d-b6d8-4dea-c447-fd110761901c"
      },
      "source": [
        "pip install webdriver_manager"
      ],
      "execution_count": null,
      "outputs": [
        {
          "output_type": "stream",
          "name": "stdout",
          "text": [
            "Collecting webdriver_manager\n",
            "  Downloading webdriver_manager-3.4.2-py2.py3-none-any.whl (16 kB)\n",
            "Collecting crayons\n",
            "  Downloading crayons-0.4.0-py2.py3-none-any.whl (4.6 kB)\n",
            "Requirement already satisfied: requests in /usr/local/lib/python3.7/dist-packages (from webdriver_manager) (2.23.0)\n",
            "Collecting configparser\n",
            "  Downloading configparser-5.0.2-py3-none-any.whl (19 kB)\n",
            "Collecting colorama\n",
            "  Downloading colorama-0.4.4-py2.py3-none-any.whl (16 kB)\n",
            "Requirement already satisfied: chardet<4,>=3.0.2 in /usr/local/lib/python3.7/dist-packages (from requests->webdriver_manager) (3.0.4)\n",
            "Requirement already satisfied: idna<3,>=2.5 in /usr/local/lib/python3.7/dist-packages (from requests->webdriver_manager) (2.10)\n",
            "Requirement already satisfied: certifi>=2017.4.17 in /usr/local/lib/python3.7/dist-packages (from requests->webdriver_manager) (2021.5.30)\n",
            "Requirement already satisfied: urllib3!=1.25.0,!=1.25.1,<1.26,>=1.21.1 in /usr/local/lib/python3.7/dist-packages (from requests->webdriver_manager) (1.24.3)\n",
            "Installing collected packages: colorama, crayons, configparser, webdriver-manager\n",
            "Successfully installed colorama-0.4.4 configparser-5.0.2 crayons-0.4.0 webdriver-manager-3.4.2\n"
          ]
        }
      ]
    },
    {
      "cell_type": "code",
      "metadata": {
        "colab": {
          "base_uri": "https://localhost:8080/"
        },
        "id": "DY-FZsLFPXuL",
        "outputId": "3f71e4fa-8e2f-47dd-a3d0-f4fbf8293f54"
      },
      "source": [
        "!pip install selenium\n",
        "!apt-get update # to update ubuntu to correctly run apt install\n",
        "!apt install chromium-chromedriver\n",
        "!cp /usr/lib/chromium-browser/chromedriver /usr/bin\n",
        "import sys\n",
        "sys.path.insert(0,'/usr/lib/chromium-browser/chromedriver')"
      ],
      "execution_count": null,
      "outputs": [
        {
          "output_type": "stream",
          "name": "stdout",
          "text": [
            "Requirement already satisfied: selenium in /usr/local/lib/python3.7/dist-packages (3.141.0)\n",
            "Requirement already satisfied: urllib3 in /usr/local/lib/python3.7/dist-packages (from selenium) (1.24.3)\n",
            "Hit:1 http://archive.ubuntu.com/ubuntu bionic InRelease\n",
            "Get:2 http://archive.ubuntu.com/ubuntu bionic-updates InRelease [88.7 kB]\n",
            "Get:3 http://ppa.launchpad.net/c2d4u.team/c2d4u4.0+/ubuntu bionic InRelease [15.9 kB]\n",
            "Hit:4 http://ppa.launchpad.net/cran/libgit2/ubuntu bionic InRelease\n",
            "Get:5 http://archive.ubuntu.com/ubuntu bionic-backports InRelease [74.6 kB]\n",
            "Get:6 http://ppa.launchpad.net/deadsnakes/ppa/ubuntu bionic InRelease [15.9 kB]\n",
            "Get:7 https://cloud.r-project.org/bin/linux/ubuntu bionic-cran40/ InRelease [3,626 B]\n",
            "Hit:8 http://ppa.launchpad.net/graphics-drivers/ppa/ubuntu bionic InRelease\n",
            "Get:9 http://security.ubuntu.com/ubuntu bionic-security InRelease [88.7 kB]\n",
            "Ign:10 https://developer.download.nvidia.com/compute/cuda/repos/ubuntu1804/x86_64  InRelease\n",
            "Ign:11 https://developer.download.nvidia.com/compute/machine-learning/repos/ubuntu1804/x86_64  InRelease\n",
            "Hit:12 https://developer.download.nvidia.com/compute/cuda/repos/ubuntu1804/x86_64  Release\n",
            "Hit:13 https://developer.download.nvidia.com/compute/machine-learning/repos/ubuntu1804/x86_64  Release\n",
            "Get:14 http://ppa.launchpad.net/c2d4u.team/c2d4u4.0+/ubuntu bionic/main Sources [1,802 kB]\n",
            "Get:15 http://ppa.launchpad.net/c2d4u.team/c2d4u4.0+/ubuntu bionic/main amd64 Packages [922 kB]\n",
            "Get:16 http://archive.ubuntu.com/ubuntu bionic-updates/universe amd64 Packages [2,208 kB]\n",
            "Get:17 http://archive.ubuntu.com/ubuntu bionic-updates/main amd64 Packages [2,800 kB]\n",
            "Get:18 http://ppa.launchpad.net/deadsnakes/ppa/ubuntu bionic/main amd64 Packages [40.8 kB]\n",
            "Get:21 http://security.ubuntu.com/ubuntu bionic-security/universe amd64 Packages [1,430 kB]\n",
            "Get:22 http://security.ubuntu.com/ubuntu bionic-security/main amd64 Packages [2,365 kB]\n",
            "Fetched 11.9 MB in 3s (4,216 kB/s)\n",
            "Reading package lists... Done\n",
            "Reading package lists... Done\n",
            "Building dependency tree       \n",
            "Reading state information... Done\n",
            "The following additional packages will be installed:\n",
            "  chromium-browser chromium-browser-l10n chromium-codecs-ffmpeg-extra\n",
            "Suggested packages:\n",
            "  webaccounts-chromium-extension unity-chromium-extension\n",
            "The following NEW packages will be installed:\n",
            "  chromium-browser chromium-browser-l10n chromium-chromedriver\n",
            "  chromium-codecs-ffmpeg-extra\n",
            "0 upgraded, 4 newly installed, 0 to remove and 37 not upgraded.\n",
            "Need to get 92.6 MB of archives.\n",
            "After this operation, 317 MB of additional disk space will be used.\n",
            "Get:1 http://archive.ubuntu.com/ubuntu bionic-updates/universe amd64 chromium-codecs-ffmpeg-extra amd64 93.0.4577.63-0ubuntu0.18.04.1 [1,135 kB]\n",
            "Get:2 http://archive.ubuntu.com/ubuntu bionic-updates/universe amd64 chromium-browser amd64 93.0.4577.63-0ubuntu0.18.04.1 [82.4 MB]\n",
            "Get:3 http://archive.ubuntu.com/ubuntu bionic-updates/universe amd64 chromium-browser-l10n all 93.0.4577.63-0ubuntu0.18.04.1 [4,133 kB]\n",
            "Get:4 http://archive.ubuntu.com/ubuntu bionic-updates/universe amd64 chromium-chromedriver amd64 93.0.4577.63-0ubuntu0.18.04.1 [4,961 kB]\n",
            "Fetched 92.6 MB in 2s (55.8 MB/s)\n",
            "Selecting previously unselected package chromium-codecs-ffmpeg-extra.\n",
            "(Reading database ... 155047 files and directories currently installed.)\n",
            "Preparing to unpack .../chromium-codecs-ffmpeg-extra_93.0.4577.63-0ubuntu0.18.04.1_amd64.deb ...\n",
            "Unpacking chromium-codecs-ffmpeg-extra (93.0.4577.63-0ubuntu0.18.04.1) ...\n",
            "Selecting previously unselected package chromium-browser.\n",
            "Preparing to unpack .../chromium-browser_93.0.4577.63-0ubuntu0.18.04.1_amd64.deb ...\n",
            "Unpacking chromium-browser (93.0.4577.63-0ubuntu0.18.04.1) ...\n",
            "Selecting previously unselected package chromium-browser-l10n.\n",
            "Preparing to unpack .../chromium-browser-l10n_93.0.4577.63-0ubuntu0.18.04.1_all.deb ...\n",
            "Unpacking chromium-browser-l10n (93.0.4577.63-0ubuntu0.18.04.1) ...\n",
            "Selecting previously unselected package chromium-chromedriver.\n",
            "Preparing to unpack .../chromium-chromedriver_93.0.4577.63-0ubuntu0.18.04.1_amd64.deb ...\n",
            "Unpacking chromium-chromedriver (93.0.4577.63-0ubuntu0.18.04.1) ...\n",
            "Setting up chromium-codecs-ffmpeg-extra (93.0.4577.63-0ubuntu0.18.04.1) ...\n",
            "Setting up chromium-browser (93.0.4577.63-0ubuntu0.18.04.1) ...\n",
            "update-alternatives: using /usr/bin/chromium-browser to provide /usr/bin/x-www-browser (x-www-browser) in auto mode\n",
            "update-alternatives: using /usr/bin/chromium-browser to provide /usr/bin/gnome-www-browser (gnome-www-browser) in auto mode\n",
            "Setting up chromium-chromedriver (93.0.4577.63-0ubuntu0.18.04.1) ...\n",
            "Setting up chromium-browser-l10n (93.0.4577.63-0ubuntu0.18.04.1) ...\n",
            "Processing triggers for man-db (2.8.3-2ubuntu0.1) ...\n",
            "Processing triggers for hicolor-icon-theme (0.17-2) ...\n",
            "Processing triggers for mime-support (3.60ubuntu1) ...\n",
            "Processing triggers for libc-bin (2.27-3ubuntu1.3) ...\n",
            "/sbin/ldconfig.real: /usr/local/lib/python3.7/dist-packages/ideep4py/lib/libmkldnn.so.0 is not a symbolic link\n",
            "\n",
            "cp: '/usr/lib/chromium-browser/chromedriver' and '/usr/bin/chromedriver' are the same file\n"
          ]
        }
      ]
    },
    {
      "cell_type": "code",
      "metadata": {
        "id": "TVgdwk7lPn-f"
      },
      "source": [
        "import os\n",
        "import selenium\n",
        "from selenium import webdriver\n",
        "import time\n",
        "from PIL import Image\n",
        "import io\n",
        "import requests\n",
        "#from webdriver_manager.chrome import ChromeDriverManager\n",
        "from selenium.common.exceptions import ElementClickInterceptedException\n",
        "import datetime\n",
        "import pandas as pd\n",
        "import numpy as np\n",
        "import re"
      ],
      "execution_count": null,
      "outputs": []
    },
    {
      "cell_type": "code",
      "metadata": {
        "colab": {
          "base_uri": "https://localhost:8080/"
        },
        "id": "PRKLHfMMP6Sy",
        "outputId": "249ad4f8-f3e0-4e4b-bb46-fd779a613e0d"
      },
      "source": [
        "from selenium import webdriver\n",
        "chrome_options = webdriver.ChromeOptions()\n",
        "chrome_options.add_argument('--headless')\n",
        "chrome_options.add_argument('--no-sandbox')\n",
        "chrome_options.add_argument('--disable-dev-shm-usage')\n",
        "driver = webdriver.Chrome('chromedriver',chrome_options=chrome_options)"
      ],
      "execution_count": null,
      "outputs": [
        {
          "output_type": "stream",
          "name": "stderr",
          "text": [
            "/usr/local/lib/python3.7/dist-packages/ipykernel_launcher.py:6: DeprecationWarning: use options instead of chrome_options\n",
            "  \n"
          ]
        }
      ]
    },
    {
      "cell_type": "markdown",
      "metadata": {
        "id": "E1LKfabKJHWq"
      },
      "source": [
        "# Web Scrapping Sub Links"
      ]
    },
    {
      "cell_type": "code",
      "metadata": {
        "id": "XQGsLnsWP9DV"
      },
      "source": [
        "url = \"https://www.swinethailand.com/16866405/%E0%B8%A3%E0%B8%B2%E0%B8%84%E0%B8%B2%E0%B8%AA%E0%B8%B8%E0%B8%81%E0%B8%A3%E0%B8%82%E0%B8%B8%E0%B8%99-%E0%B8%9B%E0%B8%B5-2561-2564\""
      ],
      "execution_count": null,
      "outputs": []
    },
    {
      "cell_type": "code",
      "metadata": {
        "id": "1tLweg8KR9OK"
      },
      "source": [
        "from bs4 import BeautifulSoup"
      ],
      "execution_count": null,
      "outputs": []
    },
    {
      "cell_type": "code",
      "metadata": {
        "id": "aSa8tqUsRWQh"
      },
      "source": [
        "res = requests.get(url)\n",
        "time.sleep(10)\n",
        "soup = BeautifulSoup(res.content, \"lxml\")"
      ],
      "execution_count": null,
      "outputs": []
    },
    {
      "cell_type": "code",
      "metadata": {
        "id": "WNkEnf_KSk53"
      },
      "source": [
        "p = soup.find_all(\"p\")"
      ],
      "execution_count": null,
      "outputs": []
    },
    {
      "cell_type": "code",
      "metadata": {
        "colab": {
          "base_uri": "https://localhost:8080/"
        },
        "id": "cgM6DIDfbjC9",
        "outputId": "a6aed15e-01b0-4ec5-e02f-cbc90229fa43"
      },
      "source": [
        "p"
      ],
      "execution_count": null,
      "outputs": [
        {
          "output_type": "execute_result",
          "data": {
            "text/plain": [
              "[<p id=\"sitename\"><span>www.swinethailand.com</span></p>,\n",
              " <p id=\"tagline\"><span>สมาคมผู้เลี้ยงสุกรแห่งชาติ</span></p>,\n",
              " <p style=\"text-align: center;\"> </p>,\n",
              " <p style=\"text-align: center;\"> </p>,\n",
              " <p style=\"text-align: center;\"><span style=\"color: #800000; font-size: 18pt;\"><strong>ราคาสุกรขุนปี 2564</strong></span></p>,\n",
              " <p style=\"text-align: center;\"> </p>,\n",
              " <p> </p>,\n",
              " <p style=\"text-align: center;\"> </p>,\n",
              " <p><span style=\"color: #800000;\"><strong><span style=\"color: #ff0000;\"><a href=\"/17259476/%E0%B8%82%E0%B9%89%E0%B8%AD%E0%B8%A1%E0%B8%B9%E0%B8%A5%E0%B8%AA%E0%B8%A0%E0%B8%B2%E0%B8%A7%E0%B8%B0%E0%B8%95%E0%B8%A5%E0%B8%B2%E0%B8%94%E0%B8%AA%E0%B8%B8%E0%B8%81%E0%B8%A3%E0%B8%A1%E0%B8%B5%E0%B8%8A%E0%B8%B5%E0%B8%A7%E0%B8%B4%E0%B8%95-%E0%B8%A7%E0%B8%B1%E0%B8%99%E0%B8%9E%E0%B8%A3%E0%B8%B0%E0%B8%97%E0%B8%B5%E0%B9%88-6-%E0%B8%A1%E0%B8%81%E0%B8%A3%E0%B8%B2%E0%B8%84%E0%B8%A1-2564?fbclid=IwAR1RJ7Q3at5CDWKfXJ0qLDaiC6cZqfZ6y0NWdiSPWOhIFPljggpEmS7IOpc\"><span style=\"color: #ff0000;\">วันพระที่ 6 มกราคม 2564</span></a></span></strong><br/></span></p>,\n",
              " <p><strong><span style=\"color: #ff0000;\"><a href=\"/17260581/%E0%B8%82%E0%B9%89%E0%B8%AD%E0%B8%A1%E0%B8%B9%E0%B8%A5%E0%B8%AA%E0%B8%A0%E0%B8%B2%E0%B8%A7%E0%B8%B0%E0%B8%95%E0%B8%A5%E0%B8%B2%E0%B8%94%E0%B8%AA%E0%B8%B8%E0%B8%81%E0%B8%A3%E0%B8%A1%E0%B8%B5%E0%B8%8A%E0%B8%B5%E0%B8%A7%E0%B8%B4%E0%B8%95%E0%B8%AB%E0%B8%99%E0%B9%89%E0%B8%B2%E0%B8%9F%E0%B8%B2%E0%B8%A3%E0%B9%8C%E0%B8%A1-%E0%B8%AA%E0%B8%B1%E0%B8%9B%E0%B8%94%E0%B8%B2%E0%B8%AB%E0%B9%8C%E0%B8%97%E0%B8%B5%E0%B9%88-32564-%E0%B8%A7%E0%B8%B1%E0%B8%99%E0%B8%9E%E0%B8%A3%E0%B8%B0%E0%B8%97%E0%B8%B5%E0%B9%88-13-%E0%B8%A1%E0%B8%81%E0%B8%A3%E0%B8%B2%E0%B8%84%E0%B8%A1-2564?fbclid=IwAR26jSIVSHYRQnbmzZ0W2wBTRp-C9x3VlHOO9zFzV8UX1QsYwx1GN2kY9E4\"><span style=\"color: #ff0000;\">วันพระที่ 13 มกราคม 2564</span></a></span></strong></p>,\n",
              " <p><span style=\"color: #ff0000;\"><strong><a href=\"/17262190/%E0%B8%82%E0%B9%89%E0%B8%AD%E0%B8%A1%E0%B8%B9%E0%B8%A5%E0%B8%AA%E0%B8%A0%E0%B8%B2%E0%B8%A7%E0%B8%B0%E0%B8%95%E0%B8%A5%E0%B8%B2%E0%B8%94%E0%B8%AA%E0%B8%B8%E0%B8%81%E0%B8%A3%E0%B8%A1%E0%B8%B5%E0%B8%8A%E0%B8%B5%E0%B8%A7%E0%B8%B4%E0%B8%95%E0%B8%AB%E0%B8%99%E0%B9%89%E0%B8%B2%E0%B8%9F%E0%B8%B2%E0%B8%A3%E0%B9%8C%E0%B8%A1-%E0%B8%AA%E0%B8%B1%E0%B8%9B%E0%B8%94%E0%B8%B2%E0%B8%AB%E0%B9%8C%E0%B8%97%E0%B8%B5%E0%B9%88-42564-%E0%B8%A7%E0%B8%B1%E0%B8%99%E0%B8%9E%E0%B8%A3%E0%B8%B0%E0%B8%97%E0%B8%B5%E0%B9%88-21-%E0%B8%A1%E0%B8%81%E0%B8%A3%E0%B8%B2%E0%B8%84%E0%B8%A1-2564?fbclid=IwAR37gM3i4qaDAvXZTl3t0oJALRS6kG0MSHjRQQs5flPw1eNorj4kvcG3TsA\"><span style=\"color: #ff0000;\">วันพระที่ 21 มกราคม 2564</span></a></strong></span></p>,\n",
              " <p><strong><span style=\"color: #ff0000;\"><a href=\"/17263410/%E0%B8%82%E0%B9%89%E0%B8%AD%E0%B8%A1%E0%B8%B9%E0%B8%A5%E0%B8%AA%E0%B8%A0%E0%B8%B2%E0%B8%A7%E0%B8%B0%E0%B8%95%E0%B8%A5%E0%B8%B2%E0%B8%94%E0%B8%AA%E0%B8%B8%E0%B8%81%E0%B8%A3%E0%B8%A1%E0%B8%B5%E0%B8%8A%E0%B8%B5%E0%B8%A7%E0%B8%B4%E0%B8%95%E0%B8%AB%E0%B8%99%E0%B9%89%E0%B8%B2%E0%B8%9F%E0%B8%B2%E0%B8%A3%E0%B9%8C%E0%B8%A1-%E0%B8%AA%E0%B8%B1%E0%B8%9B%E0%B8%94%E0%B8%B2%E0%B8%AB%E0%B9%8C%E0%B8%97%E0%B8%B5%E0%B9%88-52564-%E0%B8%A7%E0%B8%B1%E0%B8%99%E0%B8%9E%E0%B8%A3%E0%B8%B0%E0%B8%97%E0%B8%B5%E0%B9%88-28-%E0%B8%A1%E0%B8%81%E0%B8%A3%E0%B8%B2%E0%B8%84%E0%B8%A1-2564?fbclid=IwAR1-V-Xyi61i4LYzg97Z2aFI-e1Y6RxUn6FfvCoFxyghFY-natd6lYguDOQ\"><span style=\"color: #ff0000;\">วันพระที่ 28 มกราคม 2564</span></a></span></strong></p>,\n",
              " <p><span style=\"color: #800000;\"> </span></p>,\n",
              " <p><strong><span style=\"color: #ff0000;\"><a href=\"/17265231/%E0%B8%82%E0%B9%89%E0%B8%AD%E0%B8%A1%E0%B8%B9%E0%B8%A5%E0%B8%AA%E0%B8%A0%E0%B8%B2%E0%B8%A7%E0%B8%B0%E0%B8%95%E0%B8%A5%E0%B8%B2%E0%B8%94%E0%B8%AA%E0%B8%B8%E0%B8%81%E0%B8%A3%E0%B8%A1%E0%B8%B5%E0%B8%8A%E0%B8%B5%E0%B8%A7%E0%B8%B4%E0%B8%95%E0%B8%AB%E0%B8%99%E0%B9%89%E0%B8%B2%E0%B8%9F%E0%B8%B2%E0%B8%A3%E0%B9%8C%E0%B8%A1-%E0%B8%AA%E0%B8%B1%E0%B8%9B%E0%B8%94%E0%B8%B2%E0%B8%AB%E0%B9%8C%E0%B8%97%E0%B8%B5%E0%B9%88-62564-%E0%B8%A7%E0%B8%B1%E0%B8%99%E0%B8%9E%E0%B8%A3%E0%B8%B0%E0%B8%97%E0%B8%B5%E0%B9%88-5-%E0%B8%81%E0%B8%B8%E0%B8%A1%E0%B8%A0%E0%B8%B2%E0%B8%9E%E0%B8%B1%E0%B8%99%E0%B8%98%E0%B9%8C-2564?fbclid=IwAR2pQOaMFt3zgAflqpbNmtjbMkr4kZhaIYKolk7Iep9XH1X4WZh2JOtOn9M\"><span style=\"color: #ff0000;\">วันพระที่ 5 กุมภาพันธ์ 2564</span></a></span></strong></p>,\n",
              " <p><span style=\"color: #ff0000;\"><strong><a href=\"/17266500/%E0%B8%82%E0%B9%89%E0%B8%AD%E0%B8%A1%E0%B8%B9%E0%B8%A5%E0%B8%AA%E0%B8%A0%E0%B8%B2%E0%B8%A7%E0%B8%B0%E0%B8%95%E0%B8%A5%E0%B8%B2%E0%B8%94%E0%B8%AA%E0%B8%B8%E0%B8%81%E0%B8%A3%E0%B8%A1%E0%B8%B5%E0%B8%8A%E0%B8%B5%E0%B8%A7%E0%B8%B4%E0%B8%95%E0%B8%82%E0%B9%89%E0%B8%AD%E0%B8%A1%E0%B8%B9%E0%B8%A5%E0%B8%AA%E0%B8%A0%E0%B8%B2%E0%B8%A7%E0%B8%B0%E0%B8%95%E0%B8%A5%E0%B8%B2%E0%B8%94%E0%B8%AA%E0%B8%B8%E0%B8%81%E0%B8%A3%E0%B8%A1%E0%B8%B5%E0%B8%8A%E0%B8%B5%E0%B8%A7%E0%B8%B4%E0%B8%95%E0%B8%AB%E0%B8%99%E0%B9%89%E0%B8%B2%E0%B8%9F%E0%B8%B2%E0%B8%A3%E0%B9%8C%E0%B8%A1-%E0%B8%AA%E0%B8%B1%E0%B8%9B%E0%B8%94%E0%B8%B2%E0%B8%AB%E0%B9%8C%E0%B8%97%E0%B8%B5%E0%B9%88-72564-%E0%B8%A7%E0%B8%B1%E0%B8%99%E0%B8%9E%E0%B8%A3%E0%B8%B0%E0%B8%97%E0%B8%B5%E0%B9%88-11-%E0%B8%81%E0%B8%B8%E0%B8%A1%E0%B8%A0%E0%B8%B2%E0%B8%9E%E0%B8%B1%E0%B8%99%E0%B8%98%E0%B9%8C-2564%E0%B8%AB%E0%B8%99%E0%B9%89%E0%B8%B2%E0%B8%9F%E0%B8%B2%E0%B8%A3%E0%B9%8C%E0%B8%A1-%E0%B8%AA%E0%B8%B1%E0%B8%9B%E0%B8%94%E0%B8%B2%E0%B8%AB%E0%B9%8C%E0%B8%97%E0%B8%B5%E0%B9%88-72564-%E0%B8%A7%E0%B8%B1%E0%B8%99%E0%B8%9E%E0%B8%A3%E0%B8%B0%E0%B8%97%E0%B8%B5%E0%B9%88-11-%E0%B8%81%E0%B8%B8%E0%B8%A1%E0%B8%A0%E0%B8%B2%E0%B8%9E%E0%B8%B1%E0%B8%99%E0%B8%98%E0%B9%8C-2564?fbclid=IwAR21QI2lnt7hiKKqAovwWAxlKuUpCzfspUsgSQ3M1kqHnjs7bzlqNVtXFM4\"><span style=\"color: #ff0000;\">วันพระที่ 11 กุมภาพันธ์ 2564</span></a></strong></span></p>,\n",
              " <p><span style=\"color: #ff0000;\"><strong><a href=\"/17267578/%E0%B8%82%E0%B9%89%E0%B8%AD%E0%B8%A1%E0%B8%B9%E0%B8%A5%E0%B8%AA%E0%B8%A0%E0%B8%B2%E0%B8%A7%E0%B8%B0%E0%B8%95%E0%B8%A5%E0%B8%B2%E0%B8%94%E0%B8%AA%E0%B8%B8%E0%B8%81%E0%B8%A3%E0%B8%A1%E0%B8%B5%E0%B8%8A%E0%B8%B5%E0%B8%A7%E0%B8%B4%E0%B8%95%E0%B8%AB%E0%B8%99%E0%B9%89%E0%B8%B2%E0%B8%9F%E0%B8%B2%E0%B8%A3%E0%B9%8C%E0%B8%A1-%E0%B8%AA%E0%B8%B1%E0%B8%9B%E0%B8%94%E0%B8%B2%E0%B8%AB%E0%B9%8C%E0%B8%97%E0%B8%B5%E0%B9%88-82564-%E0%B8%A7%E0%B8%B1%E0%B8%99%E0%B8%9E%E0%B8%A3%E0%B8%B0%E0%B8%97%E0%B8%B5%E0%B9%88-19-%E0%B8%81%E0%B8%B8%E0%B8%A1%E0%B8%A0%E0%B8%B2%E0%B8%9E%E0%B8%B1%E0%B8%99%E0%B8%98%E0%B9%8C-2564?fbclid=IwAR3gQV1X7YLJ_LMJcbsSIJCR4WOrtt61CDFue0N-lBOeWEZ4Li0t9uNhSJY\"><span style=\"color: #ff0000;\">วันพระที่ 19 กุมภาพันธ์ 2564</span></a></strong></span></p>,\n",
              " <p><span style=\"color: #ff0000;\"><strong><a href=\"/17268475/%E0%B8%82%E0%B9%89%E0%B8%AD%E0%B8%A1%E0%B8%B9%E0%B8%A5%E0%B8%AA%E0%B8%A0%E0%B8%B2%E0%B8%A7%E0%B8%B0%E0%B8%95%E0%B8%A5%E0%B8%B2%E0%B8%94%E0%B8%AA%E0%B8%B8%E0%B8%81%E0%B8%A3%E0%B8%A1%E0%B8%B5%E0%B8%8A%E0%B8%B5%E0%B8%A7%E0%B8%B4%E0%B8%95%E0%B8%AB%E0%B8%99%E0%B9%89%E0%B8%B2%E0%B8%9F%E0%B8%B2%E0%B8%A3%E0%B9%8C%E0%B8%A1-%E0%B8%AA%E0%B8%B1%E0%B8%9B%E0%B8%94%E0%B8%B2%E0%B8%AB%E0%B9%8C%E0%B8%97%E0%B8%B5%E0%B9%88-92564-%E0%B8%A7%E0%B8%B1%E0%B8%99%E0%B8%9E%E0%B8%A3%E0%B8%B0%E0%B8%97%E0%B8%B5%E0%B9%88-26-%E0%B8%81%E0%B8%B8%E0%B8%A1%E0%B8%A0%E0%B8%B2%E0%B8%9E%E0%B8%B1%E0%B8%99%E0%B8%98%E0%B9%8C-2564?fbclid=IwAR3DjlnY-hQV3Y7OurBVdKo3EgRJFmV6kPOh0fFBpJNkRgSAdg3-iuZe6LI\"><span style=\"color: #ff0000;\">วันพระที่ 26 กุมภาพันธ์ 2564</span></a></strong></span></p>,\n",
              " <p><span style=\"color: #ff0000;\"><strong><a href=\"/17269809/%E0%B8%82%E0%B9%89%E0%B8%AD%E0%B8%A1%E0%B8%B9%E0%B8%A5%E0%B8%AA%E0%B8%A0%E0%B8%B2%E0%B8%A7%E0%B8%B0%E0%B8%95%E0%B8%A5%E0%B8%B2%E0%B8%94%E0%B8%AA%E0%B8%B8%E0%B8%81%E0%B8%A3%E0%B8%A1%E0%B8%B5%E0%B8%8A%E0%B8%B5%E0%B8%A7%E0%B8%B4%E0%B8%95%E0%B8%AB%E0%B8%99%E0%B9%89%E0%B8%B2%E0%B8%9F%E0%B8%B2%E0%B8%A3%E0%B9%8C%E0%B8%A1-%E0%B8%AA%E0%B8%B1%E0%B8%9B%E0%B8%94%E0%B8%B2%E0%B8%AB%E0%B9%8C%E0%B8%97%E0%B8%B5%E0%B9%88-102564-%E0%B8%A7%E0%B8%B1%E0%B8%99%E0%B8%9E%E0%B8%A3%E0%B8%B0%E0%B8%97%E0%B8%B5%E0%B9%88-6-%E0%B8%A1%E0%B8%B5%E0%B8%99%E0%B8%B2%E0%B8%84%E0%B8%A1-2564?fbclid=IwAR34iH3vxieSsy7ZH7ga6e3aRIVMId-ZNUDX5X7X1OlIIw1-tqRxgVFSBng\"><span style=\"color: #ff0000;\">วันพระที่ 6 มีนาคม 2564</span></a></strong></span></p>,\n",
              " <p><span style=\"color: #ff0000;\"><strong><a href=\"/17270923/%E0%B8%82%E0%B9%89%E0%B8%AD%E0%B8%A1%E0%B8%B9%E0%B8%A5%E0%B8%AA%E0%B8%A0%E0%B8%B2%E0%B8%A7%E0%B8%B0%E0%B8%95%E0%B8%A5%E0%B8%B2%E0%B8%94%E0%B8%AA%E0%B8%B8%E0%B8%81%E0%B8%A3%E0%B8%A1%E0%B8%B5%E0%B8%8A%E0%B8%B5%E0%B8%A7%E0%B8%B4%E0%B8%95%E0%B8%AB%E0%B8%99%E0%B9%89%E0%B8%B2%E0%B8%9F%E0%B8%B2%E0%B8%A3%E0%B9%8C%E0%B8%A1-%E0%B8%AA%E0%B8%B1%E0%B8%9B%E0%B8%94%E0%B8%B2%E0%B8%AB%E0%B9%8C%E0%B8%97%E0%B8%B5%E0%B9%88-112564-%E0%B8%A7%E0%B8%B1%E0%B8%99%E0%B8%9E%E0%B8%A3%E0%B8%B0%E0%B8%97%E0%B8%B5%E0%B9%88-13-%E0%B8%A1%E0%B8%B5%E0%B8%99%E0%B8%B2%E0%B8%84%E0%B8%A1-2564?fbclid=IwAR30sybrMh5wOZMRNE0AJyvussTeryRPMRjHqvm_wgPR62m7NQNEHMapJ6w\"><span style=\"color: #ff0000;\">วันพระที่ 13 มีนาคม 2564</span></a></strong></span></p>,\n",
              " <p><span style=\"color: #ff0000;\"><strong><a href=\"/17272362/%E0%B8%82%E0%B9%89%E0%B8%AD%E0%B8%A1%E0%B8%B9%E0%B8%A5%E0%B8%AA%E0%B8%A0%E0%B8%B2%E0%B8%A7%E0%B8%B0%E0%B8%95%E0%B8%A5%E0%B8%B2%E0%B8%94%E0%B8%AA%E0%B8%B8%E0%B8%81%E0%B8%A3%E0%B8%A1%E0%B8%B5%E0%B8%8A%E0%B8%B5%E0%B8%A7%E0%B8%B4%E0%B8%95%E0%B8%AB%E0%B8%99%E0%B9%89%E0%B8%B2%E0%B8%9F%E0%B8%B2%E0%B8%A3%E0%B9%8C%E0%B8%A1-%E0%B8%AA%E0%B8%B1%E0%B8%9B%E0%B8%94%E0%B8%B2%E0%B8%AB%E0%B9%8C%E0%B8%97%E0%B8%B5%E0%B9%88-122564-%E0%B8%A7%E0%B8%B1%E0%B8%99%E0%B8%9E%E0%B8%A3%E0%B8%B0%E0%B8%97%E0%B8%B5%E0%B9%88-21-%E0%B8%A1%E0%B8%B5%E0%B8%99%E0%B8%B2%E0%B8%84%E0%B8%A1-2564?fbclid=IwAR3nfqsbVYJnBNvNQLFk1BceULWAZX8MSILO8Ki7tq9udhbAHrr7mE_0W9Y\"><span style=\"color: #ff0000;\">วันพระที่ 21 มีนาคม 2564</span></a></strong></span></p>,\n",
              " <p><span style=\"color: #ff0000;\"><strong><a href=\"/17273464/%E0%B8%82%E0%B9%89%E0%B8%AD%E0%B8%A1%E0%B8%B9%E0%B8%A5%E0%B8%AA%E0%B8%A0%E0%B8%B2%E0%B8%A7%E0%B8%B0%E0%B8%95%E0%B8%A5%E0%B8%B2%E0%B8%94%E0%B8%AA%E0%B8%B8%E0%B8%81%E0%B8%A3%E0%B8%A1%E0%B8%B5%E0%B8%8A%E0%B8%B5%E0%B8%A7%E0%B8%B4%E0%B8%95%E0%B8%AB%E0%B8%99%E0%B9%89%E0%B8%B2%E0%B8%9F%E0%B8%B2%E0%B8%A3%E0%B9%8C%E0%B8%A1-%E0%B8%AA%E0%B8%B1%E0%B8%9B%E0%B8%94%E0%B8%B2%E0%B8%AB%E0%B9%8C%E0%B8%97%E0%B8%B5%E0%B9%88-132564-%E0%B8%A7%E0%B8%B1%E0%B8%99%E0%B8%9E%E0%B8%A3%E0%B8%B0%E0%B8%97%E0%B8%B5%E0%B9%88-28-%E0%B8%A1%E0%B8%B5%E0%B8%99%E0%B8%B2%E0%B8%84%E0%B8%A1-2564?fbclid=IwAR16m0Pd1D8BzTgpJaH061goR2SDSHlgAMAZTXIH5z1KZ4LODzQOAf11pWI\"><span style=\"color: #ff0000;\">วันพระที่ 28 มีนาคม 2564</span></a></strong></span></p>,\n",
              " <p><span style=\"color: #800000;\"> </span></p>,\n",
              " <p><span style=\"color: #ff0000;\"><strong><a href=\"/17274738/%E0%B8%82%E0%B9%89%E0%B8%AD%E0%B8%A1%E0%B8%B9%E0%B8%A5%E0%B8%AA%E0%B8%A0%E0%B8%B2%E0%B8%A7%E0%B8%B0%E0%B8%95%E0%B8%A5%E0%B8%B2%E0%B8%94%E0%B8%AA%E0%B8%B8%E0%B8%81%E0%B8%A3%E0%B8%A1%E0%B8%B5%E0%B8%8A%E0%B8%B5%E0%B8%A7%E0%B8%B4%E0%B8%95%E0%B8%AB%E0%B8%99%E0%B9%89%E0%B8%B2%E0%B8%9F%E0%B8%B2%E0%B8%A3%E0%B9%8C%E0%B8%A1-%E0%B8%AA%E0%B8%B1%E0%B8%9B%E0%B8%94%E0%B8%B2%E0%B8%AB%E0%B9%8C%E0%B8%97%E0%B8%B5%E0%B9%88-142564-%E0%B8%A7%E0%B8%B1%E0%B8%99%E0%B8%9E%E0%B8%A3%E0%B8%B0%E0%B8%97%E0%B8%B5%E0%B9%88-5-%E0%B9%80%E0%B8%A1%E0%B8%A9%E0%B8%B2%E0%B8%A2%E0%B8%99-2564?fbclid=IwAR2DFsVvkIBXjy-nOvjgDWGM1BB959A9mhaWGEWiGsunyLGqu5-dFKeBkqQ\"><span style=\"color: #ff0000;\">วันพระที่ 5 เมษายน 2564</span></a></strong></span></p>,\n",
              " <p><span style=\"color: #ff0000;\"><strong><a href=\"/17275627/%E0%B8%82%E0%B9%89%E0%B8%AD%E0%B8%A1%E0%B8%B9%E0%B8%A5%E0%B8%AA%E0%B8%A0%E0%B8%B2%E0%B8%A7%E0%B8%B0%E0%B8%95%E0%B8%A5%E0%B8%B2%E0%B8%94%E0%B8%AA%E0%B8%B8%E0%B8%81%E0%B8%A3%E0%B8%A1%E0%B8%B5%E0%B8%8A%E0%B8%B5%E0%B8%A7%E0%B8%B4%E0%B8%95%E0%B8%AB%E0%B8%99%E0%B9%89%E0%B8%B2%E0%B8%9F%E0%B8%B2%E0%B8%A3%E0%B9%8C%E0%B8%A1-%E0%B8%AA%E0%B8%B1%E0%B8%9B%E0%B8%94%E0%B8%B2%E0%B8%AB%E0%B9%8C%E0%B8%97%E0%B8%B5%E0%B9%88-162564-%E0%B8%A7%E0%B8%B1%E0%B8%99%E0%B8%9E%E0%B8%A3%E0%B8%B0%E0%B8%97%E0%B8%B5%E0%B9%88-11-%E0%B9%80%E0%B8%A1%E0%B8%A9%E0%B8%B2%E0%B8%A2%E0%B8%99-2564\"><span style=\"color: #ff0000;\">วันพระที่ 11 เมษายน 2564</span></a></strong></span></p>,\n",
              " <p><span style=\"color: #ff0000;\"><strong><a href=\"/17276859/%E0%B8%82%E0%B9%89%E0%B8%AD%E0%B8%A1%E0%B8%B9%E0%B8%A5%E0%B8%AA%E0%B8%A0%E0%B8%B2%E0%B8%A7%E0%B8%B0%E0%B8%95%E0%B8%A5%E0%B8%B2%E0%B8%94%E0%B8%AA%E0%B8%B8%E0%B8%81%E0%B8%A3%E0%B8%A1%E0%B8%B5%E0%B8%8A%E0%B8%B5%E0%B8%A7%E0%B8%B4%E0%B8%95%E0%B8%AB%E0%B8%99%E0%B9%89%E0%B8%B2%E0%B8%9F%E0%B8%B2%E0%B8%A3%E0%B9%8C%E0%B8%A1-%E0%B8%AA%E0%B8%B1%E0%B8%9B%E0%B8%94%E0%B8%B2%E0%B8%AB%E0%B9%8C%E0%B8%97%E0%B8%B5%E0%B9%88-162564-%E0%B8%A7%E0%B8%B1%E0%B8%99%E0%B8%9E%E0%B8%A3%E0%B8%B0%E0%B8%97%E0%B8%B5%E0%B9%88-19-%E0%B9%80%E0%B8%A1%E0%B8%A9%E0%B8%B2%E0%B8%A2%E0%B8%99-2564?fbclid=IwAR3OAxnEZw6ZetuponKgee9EVFUEYr8TDFj2A-MPppuUiqbcYO_-N-d1vfA\"><span style=\"color: #ff0000;\">วันพระที่ 19 เมษายน 2564</span></a></strong></span></p>,\n",
              " <p><strong><span style=\"color: #ff0000;\"><a href=\"/17278223/%E0%B8%82%E0%B9%89%E0%B8%AD%E0%B8%A1%E0%B8%B9%E0%B8%A5%E0%B8%AA%E0%B8%A0%E0%B8%B2%E0%B8%A7%E0%B8%B0%E0%B8%95%E0%B8%A5%E0%B8%B2%E0%B8%94%E0%B8%AA%E0%B8%B8%E0%B8%81%E0%B8%A3%E0%B8%A1%E0%B8%B5%E0%B8%8A%E0%B8%B5%E0%B8%A7%E0%B8%B4%E0%B8%95%E0%B8%AB%E0%B8%99%E0%B9%89%E0%B8%B2%E0%B8%9F%E0%B8%B2%E0%B8%A3%E0%B9%8C%E0%B8%A1-%E0%B8%AA%E0%B8%B1%E0%B8%9B%E0%B8%94%E0%B8%B2%E0%B8%AB%E0%B9%8C%E0%B8%97%E0%B8%B5%E0%B9%88-182564-%E0%B8%A7%E0%B8%B1%E0%B8%99%E0%B8%9E%E0%B8%A3%E0%B8%B0%E0%B8%97%E0%B8%B5%E0%B9%88-26-%E0%B9%80%E0%B8%A1%E0%B8%A9%E0%B8%B2%E0%B8%A2%E0%B8%99-2564?fbclid=IwAR3rp9bAYP6y-4u4radUKt2snEpzTw9hg-DBHQC8mO9_sQm3JZqhE37urhY\"><span style=\"color: #ff0000;\">วันพระที่ 26 เมษายน 2564</span></a></span></strong></p>,\n",
              " <p><strong><span style=\"color: #ff0000;\"><a href=\"/17280820/%E0%B8%82%E0%B9%89%E0%B8%AD%E0%B8%A1%E0%B8%B9%E0%B8%A5%E0%B8%AA%E0%B8%A0%E0%B8%B2%E0%B8%A7%E0%B8%B0%E0%B8%95%E0%B8%A5%E0%B8%B2%E0%B8%94%E0%B8%AA%E0%B8%B8%E0%B8%81%E0%B8%A3%E0%B8%A1%E0%B8%B5%E0%B8%8A%E0%B8%B5%E0%B8%A7%E0%B8%B4%E0%B8%95%E0%B8%AB%E0%B8%99%E0%B9%89%E0%B8%B2%E0%B8%9F%E0%B8%B2%E0%B8%A3%E0%B9%8C%E0%B8%A1-%E0%B8%AA%E0%B8%B1%E0%B8%9B%E0%B8%94%E0%B8%B2%E0%B8%AB%E0%B9%8C%E0%B8%97%E0%B8%B5%E0%B9%88-192564-%E0%B8%A7%E0%B8%B1%E0%B8%99%E0%B8%9E%E0%B8%A3%E0%B8%B0%E0%B8%97%E0%B8%B5%E0%B9%88-4-%E0%B8%9E%E0%B8%A4%E0%B8%A9%E0%B8%A0%E0%B8%B2%E0%B8%84%E0%B8%A1-2564?fbclid=IwAR1j1ncBIq7joRjAAfZqYjN-x-UkH6gf5a1WtsDkilefBDCO5uTe_a8SLsQ\"><span style=\"color: #ff0000;\">วันพระที่ 4 พฤษภาคม 2564</span></a></span></strong></p>,\n",
              " <p><strong><span style=\"color: #ff0000;\"><a href=\"/17283259/%E0%B8%82%E0%B9%89%E0%B8%AD%E0%B8%A1%E0%B8%B9%E0%B8%A5%E0%B8%AA%E0%B8%A0%E0%B8%B2%E0%B8%A7%E0%B8%B0%E0%B8%95%E0%B8%A5%E0%B8%B2%E0%B8%94%E0%B8%AA%E0%B8%B8%E0%B8%81%E0%B8%A3%E0%B8%A1%E0%B8%B5%E0%B8%8A%E0%B8%B5%E0%B8%A7%E0%B8%B4%E0%B8%95%E0%B8%AB%E0%B8%99%E0%B9%89%E0%B8%B2%E0%B8%9F%E0%B8%B2%E0%B8%A3%E0%B9%8C%E0%B8%A1-%E0%B8%AA%E0%B8%B1%E0%B8%9B%E0%B8%94%E0%B8%B2%E0%B8%AB%E0%B9%8C%E0%B8%97%E0%B8%B5%E0%B9%88-202564-%E0%B8%A7%E0%B8%B1%E0%B8%99%E0%B8%9E%E0%B8%A3%E0%B8%B0%E0%B8%97%E0%B8%B5%E0%B9%88-11-%E0%B8%9E%E0%B8%A4%E0%B8%A9%E0%B8%A0%E0%B8%B2%E0%B8%84%E0%B8%A1-2564?fbclid=IwAR1PUxucUajeKf6f7Yw1SZLL-dTc6pIkypq8xuR_OaIlb-qnUGnRkPqqb4g\"><span style=\"color: #ff0000;\">วันพระที่ 11 พฤษภาคม 2564</span></a></span></strong></p>,\n",
              " <p><strong><span style=\"color: #ff0000;\"><a href=\"/17285945/%E0%B8%82%E0%B9%89%E0%B8%AD%E0%B8%A1%E0%B8%B9%E0%B8%A5%E0%B8%AA%E0%B8%A0%E0%B8%B2%E0%B8%A7%E0%B8%B0%E0%B8%95%E0%B8%A5%E0%B8%B2%E0%B8%94%E0%B8%AA%E0%B8%B8%E0%B8%81%E0%B8%A3%E0%B8%A1%E0%B8%B5%E0%B8%8A%E0%B8%B5%E0%B8%A7%E0%B8%B4%E0%B8%95%E0%B8%AB%E0%B8%99%E0%B9%89%E0%B8%B2%E0%B8%9F%E0%B8%B2%E0%B8%A3%E0%B9%8C%E0%B8%A1-%E0%B8%AA%E0%B8%B1%E0%B8%9B%E0%B8%94%E0%B8%B2%E0%B8%AB%E0%B9%8C%E0%B8%97%E0%B8%B5%E0%B9%88-212564-%E0%B8%A7%E0%B8%B1%E0%B8%99%E0%B8%9E%E0%B8%A3%E0%B8%B0%E0%B8%97%E0%B8%B5%E0%B9%88-19-%E0%B8%9E%E0%B8%A4%E0%B8%A9%E0%B8%A0%E0%B8%B2%E0%B8%84%E0%B8%A1-2564?fbclid=IwAR2ae0gbpw_Q1evHw9Few-56Ik1yc6qIRjfO6JHxv9IqtM1ZHNoI6RuITVk\"><span style=\"color: #ff0000;\">วันพระที่ 19 พฤษภาคม 2564</span></a></span></strong></p>,\n",
              " <p><strong><span style=\"color: #ff0000;\"><a href=\"/17288433/%E0%B8%82%E0%B9%89%E0%B8%AD%E0%B8%A1%E0%B8%B9%E0%B8%A5%E0%B8%AA%E0%B8%A0%E0%B8%B2%E0%B8%A7%E0%B8%B0%E0%B8%95%E0%B8%A5%E0%B8%B2%E0%B8%94%E0%B8%AA%E0%B8%B8%E0%B8%81%E0%B8%A3%E0%B8%A1%E0%B8%B5%E0%B8%8A%E0%B8%B5%E0%B8%A7%E0%B8%B4%E0%B8%95%E0%B8%AB%E0%B8%99%E0%B9%89%E0%B8%B2%E0%B8%9F%E0%B8%B2%E0%B8%A3%E0%B9%8C%E0%B8%A1-%E0%B8%AA%E0%B8%B1%E0%B8%9B%E0%B8%94%E0%B8%B2%E0%B8%AB%E0%B9%8C%E0%B8%97%E0%B8%B5%E0%B9%88-222564-%E0%B8%A7%E0%B8%B1%E0%B8%99%E0%B8%9E%E0%B8%A3%E0%B8%B0%E0%B8%97%E0%B8%B5%E0%B9%88-26-%E0%B8%9E%E0%B8%A4%E0%B8%A9%E0%B8%A0%E0%B8%B2%E0%B8%84%E0%B8%A1-2564?fbclid=IwAR0RTQUJFY9rdt7ZMg7OLR9sg2viISpcA6mMWETtsKwUwTB85iOfACXxMeY\"><span style=\"color: #ff0000;\">วันพระที่ 26 พฤษภาคม 2564</span></a></span></strong></p>,\n",
              " <p><strong><span style=\"color: #ff0000;\"><a href=\"/17290999/%E0%B8%82%E0%B9%89%E0%B8%AD%E0%B8%A1%E0%B8%B9%E0%B8%A5%E0%B8%AA%E0%B8%A0%E0%B8%B2%E0%B8%A7%E0%B8%B0%E0%B8%95%E0%B8%A5%E0%B8%B2%E0%B8%94%E0%B8%AA%E0%B8%B8%E0%B8%81%E0%B8%A3%E0%B8%A1%E0%B8%B5%E0%B8%8A%E0%B8%B5%E0%B8%A7%E0%B8%B4%E0%B8%95%E0%B8%AB%E0%B8%99%E0%B9%89%E0%B8%B2%E0%B8%9F%E0%B8%B2%E0%B8%A3%E0%B9%8C%E0%B8%A1-%E0%B8%AA%E0%B8%B1%E0%B8%9B%E0%B8%94%E0%B8%B2%E0%B8%AB%E0%B9%8C%E0%B8%97%E0%B8%B5%E0%B9%88-232564-%E0%B8%A7%E0%B8%B1%E0%B8%99%E0%B8%9E%E0%B8%A3%E0%B8%B0%E0%B8%97%E0%B8%B5%E0%B9%88-3-%E0%B8%A1%E0%B8%B4%E0%B8%96%E0%B8%B8%E0%B8%99%E0%B8%B2%E0%B8%A2%E0%B8%99-2564?fbclid=IwAR25gNMG1e_O4D6WRdsrRf7r2HQjfjm2MfyjtXufIYZp5WgF_LooQ3XJ38k\"><span style=\"color: #ff0000;\">วันพระที่ 3 มิถุนายน 2564</span></a></span></strong></p>,\n",
              " <p><strong><span style=\"color: #ff0000;\"><a href=\"/17292540/%E0%B8%82%E0%B9%89%E0%B8%AD%E0%B8%A1%E0%B8%B9%E0%B8%A5%E0%B8%AA%E0%B8%A0%E0%B8%B2%E0%B8%A7%E0%B8%B0%E0%B8%95%E0%B8%A5%E0%B8%B2%E0%B8%94%E0%B8%AA%E0%B8%B8%E0%B8%81%E0%B8%A3%E0%B8%A1%E0%B8%B5%E0%B8%8A%E0%B8%B5%E0%B8%A7%E0%B8%B4%E0%B8%95%E0%B8%AB%E0%B8%99%E0%B9%89%E0%B8%B2%E0%B8%9F%E0%B8%B2%E0%B8%A3%E0%B9%8C%E0%B8%A1-%E0%B8%AA%E0%B8%B1%E0%B8%9B%E0%B8%94%E0%B8%B2%E0%B8%AB%E0%B9%8C%E0%B8%97%E0%B8%B5%E0%B9%88-242564-%E0%B8%A7%E0%B8%B1%E0%B8%99%E0%B8%9E%E0%B8%A3%E0%B8%B0%E0%B8%97%E0%B8%B5%E0%B9%88-9-%E0%B8%A1%E0%B8%B4%E0%B8%96%E0%B8%B8%E0%B8%99%E0%B8%B2%E0%B8%A2%E0%B8%99-2564?fbclid=IwAR2jVzcNBnyR6RTl9xkL6mfCFwgAWYO-W52QuXH6GSZ5WcanNHxz1gtVwEc\"><span style=\"color: #ff0000;\">วันพระที่ 9 มิถุนายน 2564</span></a></span></strong></p>,\n",
              " <p><span style=\"color: #ff0000;\"><strong><a href=\"/17294057/%E0%B8%82%E0%B9%89%E0%B8%AD%E0%B8%A1%E0%B8%B9%E0%B8%A5%E0%B8%AA%E0%B8%A0%E0%B8%B2%E0%B8%A7%E0%B8%B0%E0%B8%95%E0%B8%A5%E0%B8%B2%E0%B8%94%E0%B8%AA%E0%B8%B8%E0%B8%81%E0%B8%A3%E0%B8%A1%E0%B8%B5%E0%B8%8A%E0%B8%B5%E0%B8%A7%E0%B8%B4%E0%B8%95%E0%B8%AB%E0%B8%99%E0%B9%89%E0%B8%B2%E0%B8%9F%E0%B8%B2%E0%B8%A3%E0%B9%8C%E0%B8%A1-%E0%B8%AA%E0%B8%B1%E0%B8%9B%E0%B8%94%E0%B8%B2%E0%B8%AB%E0%B9%8C%E0%B8%97%E0%B8%B5%E0%B9%88-252564-%E0%B8%A7%E0%B8%B1%E0%B8%99%E0%B8%9E%E0%B8%A3%E0%B8%B0%E0%B8%97%E0%B8%B5%E0%B9%88-17-%E0%B8%A1%E0%B8%B4%E0%B8%96%E0%B8%B8%E0%B8%99%E0%B8%B2%E0%B8%A2%E0%B8%99-2564?fbclid=IwAR11U9uLO9gW9DeuyKy5S0-vyL0LJ0pAgGo3MdC_b_3jJ-_NbeFe8pKco6E\"><span style=\"color: #ff0000;\">วันพระที่ 17 มิถุนายน 2564</span></a></strong></span></p>,\n",
              " <p><span style=\"color: #ff0000;\"><strong><a href=\"/17295487/%E0%B8%82%E0%B9%89%E0%B8%AD%E0%B8%A1%E0%B8%B9%E0%B8%A5%E0%B8%AA%E0%B8%A0%E0%B8%B2%E0%B8%A7%E0%B8%B0%E0%B8%95%E0%B8%A5%E0%B8%B2%E0%B8%94%E0%B8%AA%E0%B8%B8%E0%B8%81%E0%B8%A3%E0%B8%A1%E0%B8%B5%E0%B8%8A%E0%B8%B5%E0%B8%A7%E0%B8%B4%E0%B8%95%E0%B8%AB%E0%B8%99%E0%B9%89%E0%B8%B2%E0%B8%9F%E0%B8%B2%E0%B8%A3%E0%B9%8C%E0%B8%A1-%E0%B8%AA%E0%B8%B1%E0%B8%9B%E0%B8%94%E0%B8%B2%E0%B8%AB%E0%B9%8C%E0%B8%97%E0%B8%B5%E0%B9%88-262564-%E0%B8%A7%E0%B8%B1%E0%B8%99%E0%B8%9E%E0%B8%A3%E0%B8%B0%E0%B8%97%E0%B8%B5%E0%B9%88-24-%E0%B8%A1%E0%B8%B4%E0%B8%96%E0%B8%B8%E0%B8%99%E0%B8%B2%E0%B8%A2%E0%B8%99-2564?fbclid=IwAR1flVb0SvK-JeDC-ukEuMktnVd3TMXesmIn6NI7XdVLmDQfiAuez0F17PE\"><span style=\"color: #ff0000;\">วันพระที่ 24 มิถุนายน 2564</span></a></strong></span></p>,\n",
              " <p><span style=\"color: #800000;\"> <br/><span style=\"color: #ff0000;\"><strong><a href=\"/17297036/%E0%B8%82%E0%B9%89%E0%B8%AD%E0%B8%A1%E0%B8%B9%E0%B8%A5%E0%B8%AA%E0%B8%A0%E0%B8%B2%E0%B8%A7%E0%B8%B0%E0%B8%95%E0%B8%A5%E0%B8%B2%E0%B8%94%E0%B8%AA%E0%B8%B8%E0%B8%81%E0%B8%A3%E0%B8%A1%E0%B8%B5%E0%B8%8A%E0%B8%B5%E0%B8%A7%E0%B8%B4%E0%B8%95%E0%B8%AB%E0%B8%99%E0%B9%89%E0%B8%B2%E0%B8%9F%E0%B8%B2%E0%B8%A3%E0%B9%8C%E0%B8%A1-%E0%B8%AA%E0%B8%B1%E0%B8%9B%E0%B8%94%E0%B8%B2%E0%B8%AB%E0%B9%8C%E0%B8%97%E0%B8%B5%E0%B9%88-272564-%E0%B8%A7%E0%B8%B1%E0%B8%99%E0%B8%9E%E0%B8%A3%E0%B8%B0%E0%B8%97%E0%B8%B5%E0%B9%88-2-%E0%B8%81%E0%B8%A3%E0%B8%81%E0%B8%8E%E0%B8%B2%E0%B8%84%E0%B8%A1-2564?fbclid=IwAR2WMUzpJ0GzlXGr0ohoKxLqeDnM1xcu3kYzzxcy3m6VRq6xApmJqZnR3V0\"><span style=\"color: #ff0000;\">วันพระที่ 2 กรกฎาคม 2564</span></a></strong></span></span></p>,\n",
              " <p><span style=\"color: #ff0000;\"><strong><a href=\"/17298656/%E0%B8%82%E0%B9%89%E0%B8%AD%E0%B8%A1%E0%B8%B9%E0%B8%A5%E0%B8%AA%E0%B8%A0%E0%B8%B2%E0%B8%A7%E0%B8%B0%E0%B8%95%E0%B8%A5%E0%B8%B2%E0%B8%94%E0%B8%AA%E0%B8%B8%E0%B8%81%E0%B8%A3%E0%B8%A1%E0%B8%B5%E0%B8%8A%E0%B8%B5%E0%B8%A7%E0%B8%B4%E0%B8%95%E0%B8%AB%E0%B8%99%E0%B9%89%E0%B8%B2%E0%B8%9F%E0%B8%B2%E0%B8%A3%E0%B9%8C%E0%B8%A1-%E0%B8%AA%E0%B8%B1%E0%B8%9B%E0%B8%94%E0%B8%B2%E0%B8%AB%E0%B9%8C%E0%B8%97%E0%B8%B5%E0%B9%88-282564-%E0%B8%A7%E0%B8%B1%E0%B8%99%E0%B8%9E%E0%B8%A3%E0%B8%B0%E0%B8%97%E0%B8%B5%E0%B9%88-9-%E0%B8%81%E0%B8%A3%E0%B8%81%E0%B8%8E%E0%B8%B2%E0%B8%84%E0%B8%A1-2564?fbclid=IwAR1AQKvkd-vKj2LhknjzUSI-SNpPRPiiyRA3GT3U3l1j_sorYhrQQu2vB58\"><span style=\"color: #ff0000;\">วันพระที่ 9 กรกฎาคม 2564</span></a></strong></span></p>,\n",
              " <p><span style=\"color: #ff0000;\"><strong><a href=\"/17300427/%E0%B8%82%E0%B9%89%E0%B8%AD%E0%B8%A1%E0%B8%B9%E0%B8%A5%E0%B8%AA%E0%B8%A0%E0%B8%B2%E0%B8%A7%E0%B8%B0%E0%B8%95%E0%B8%A5%E0%B8%B2%E0%B8%94%E0%B8%AA%E0%B8%B8%E0%B8%81%E0%B8%A3%E0%B8%A1%E0%B8%B5%E0%B8%8A%E0%B8%B5%E0%B8%A7%E0%B8%B4%E0%B8%95%E0%B8%AB%E0%B8%99%E0%B9%89%E0%B8%B2%E0%B8%9F%E0%B8%B2%E0%B8%A3%E0%B9%8C%E0%B8%A1-%E0%B8%AA%E0%B8%B1%E0%B8%9B%E0%B8%94%E0%B8%B2%E0%B8%AB%E0%B9%8C%E0%B8%97%E0%B8%B5%E0%B9%88-292564-%E0%B8%A7%E0%B8%B1%E0%B8%99%E0%B8%9E%E0%B8%A3%E0%B8%B0%E0%B8%97%E0%B8%B5%E0%B9%88-17-%E0%B8%81%E0%B8%A3%E0%B8%81%E0%B8%8E%E0%B8%B2%E0%B8%84%E0%B8%A1-2564?fbclid=IwAR2okh0lfYF4xtRQZ227B_e8CDac-ButRNAQKvfs7pKJXgxvCEsRBOPkVPw\"><span style=\"color: #ff0000;\">วันพระที่ 17 กรกฎาคม 2564</span></a></strong></span></p>,\n",
              " <p><span style=\"color: #ff0000;\"><strong><a href=\"/17301663/%E0%B8%82%E0%B9%89%E0%B8%AD%E0%B8%A1%E0%B8%B9%E0%B8%A5%E0%B8%AA%E0%B8%A0%E0%B8%B2%E0%B8%A7%E0%B8%B0%E0%B8%95%E0%B8%A5%E0%B8%B2%E0%B8%94%E0%B8%AA%E0%B8%B8%E0%B8%81%E0%B8%A3%E0%B8%A1%E0%B8%B5%E0%B8%8A%E0%B8%B5%E0%B8%A7%E0%B8%B4%E0%B8%95%E0%B8%AB%E0%B8%99%E0%B9%89%E0%B8%B2%E0%B8%9F%E0%B8%B2%E0%B8%A3%E0%B9%8C%E0%B8%A1-%E0%B8%AA%E0%B8%B1%E0%B8%9B%E0%B8%94%E0%B8%B2%E0%B8%AB%E0%B9%8C%E0%B8%97%E0%B8%B5%E0%B9%88-302564-%E0%B8%A7%E0%B8%B1%E0%B8%99%E0%B8%9E%E0%B8%A3%E0%B8%B0%E0%B8%97%E0%B8%B5%E0%B9%88-24-%E0%B8%81%E0%B8%A3%E0%B8%81%E0%B8%8E%E0%B8%B2%E0%B8%84%E0%B8%A1-2564?fbclid=IwAR1AQKvkd-vKj2LhknjzUSI-SNpPRPiiyRA3GT3U3l1j_sorYhrQQu2vB58\"><span style=\"color: #ff0000;\">วันพระที่ 24 กรกฎาคม 2564</span></a></strong></span></p>,\n",
              " <p><span style=\"color: #800000;\"> </span></p>,\n",
              " <p><span style=\"color: #ff0000;\"><strong><a href=\"/17303085/%E0%B8%82%E0%B9%89%E0%B8%AD%E0%B8%A1%E0%B8%B9%E0%B8%A5%E0%B8%AA%E0%B8%A0%E0%B8%B2%E0%B8%A7%E0%B8%B0%E0%B8%95%E0%B8%A5%E0%B8%B2%E0%B8%94%E0%B8%AA%E0%B8%B8%E0%B8%81%E0%B8%A3%E0%B8%A1%E0%B8%B5%E0%B8%8A%E0%B8%B5%E0%B8%A7%E0%B8%B4%E0%B8%95%E0%B8%AB%E0%B8%99%E0%B9%89%E0%B8%B2%E0%B8%9F%E0%B8%B2%E0%B8%A3%E0%B9%8C%E0%B8%A1-%E0%B8%AA%E0%B8%B1%E0%B8%9B%E0%B8%94%E0%B8%B2%E0%B8%AB%E0%B9%8C%E0%B8%97%E0%B8%B5%E0%B9%88-312564-%E0%B8%A7%E0%B8%B1%E0%B8%99%E0%B8%9E%E0%B8%A3%E0%B8%B0%E0%B8%97%E0%B8%B5%E0%B9%88-1-%E0%B8%AA%E0%B8%B4%E0%B8%87%E0%B8%AB%E0%B8%B2%E0%B8%84%E0%B8%A1-2564?fbclid=IwAR1ldSrryB_2Hl5rpjAiPJrFge7JdNadIGsz-0Vugm_2ibr9T5GAllTcUsw\"><span style=\"color: #ff0000;\">วันพระที่ 1 สิงหาคม 2564</span></a></strong></span></p>,\n",
              " <p><span style=\"color: #ff0000;\"><strong><a href=\"/17304615/%E0%B8%82%E0%B9%89%E0%B8%AD%E0%B8%A1%E0%B8%B9%E0%B8%A5%E0%B8%AA%E0%B8%A0%E0%B8%B2%E0%B8%A7%E0%B8%B0%E0%B8%95%E0%B8%A5%E0%B8%B2%E0%B8%94%E0%B8%AA%E0%B8%B8%E0%B8%81%E0%B8%A3%E0%B8%A1%E0%B8%B5%E0%B8%8A%E0%B8%B5%E0%B8%A7%E0%B8%B4%E0%B8%95%E0%B8%AB%E0%B8%99%E0%B9%89%E0%B8%B2%E0%B8%9F%E0%B8%B2%E0%B8%A3%E0%B9%8C%E0%B8%A1-%E0%B8%AA%E0%B8%B1%E0%B8%9B%E0%B8%94%E0%B8%B2%E0%B8%AB%E0%B9%8C%E0%B8%97%E0%B8%B5%E0%B9%88-322564-%E0%B8%A7%E0%B8%B1%E0%B8%99%E0%B8%9E%E0%B8%A3%E0%B8%B0%E0%B8%97%E0%B8%B5%E0%B9%88-8-%E0%B8%AA%E0%B8%B4%E0%B8%87%E0%B8%AB%E0%B8%B2%E0%B8%84%E0%B8%A1-2564-?fbclid=IwAR073_HSDVxfFH0woB7s3LFd6TiSk-AkN5w21IjcF7LHDzvI-WtlIDwuLhM\"><span style=\"color: #ff0000;\">วันพระที่ 8 สิงหาคม 2564</span></a></strong></span></p>,\n",
              " <p><span style=\"color: #ff0000;\"><strong><a href=\"/17306014/%E0%B8%82%E0%B9%89%E0%B8%AD%E0%B8%A1%E0%B8%B9%E0%B8%A5%E0%B8%AA%E0%B8%A0%E0%B8%B2%E0%B8%A7%E0%B8%B0%E0%B8%95%E0%B8%A5%E0%B8%B2%E0%B8%94%E0%B8%AA%E0%B8%B8%E0%B8%81%E0%B8%A3%E0%B8%A1%E0%B8%B5%E0%B8%8A%E0%B8%B5%E0%B8%A7%E0%B8%B4%E0%B8%95%E0%B8%AB%E0%B8%99%E0%B9%89%E0%B8%B2%E0%B8%9F%E0%B8%B2%E0%B8%A3%E0%B9%8C%E0%B8%A1-%E0%B8%AA%E0%B8%B1%E0%B8%9B%E0%B8%94%E0%B8%B2%E0%B8%AB%E0%B9%8C%E0%B8%97%E0%B8%B5%E0%B9%88-332564-%E0%B8%A7%E0%B8%B1%E0%B8%99%E0%B8%9E%E0%B8%A3%E0%B8%B0%E0%B8%97%E0%B8%B5%E0%B9%88-16-%E0%B8%AA%E0%B8%B4%E0%B8%87%E0%B8%AB%E0%B8%B2%E0%B8%84%E0%B8%A1-2564-\"><span style=\"color: #ff0000;\">วันพระที่ 16 สิงหาคม 2564</span></a></strong></span><span style=\"color: #ff0000;\"><strong><span style=\"color: #ff0000;\"><a href=\"/17306014/%E0%B8%82%E0%B9%89%E0%B8%AD%E0%B8%A1%E0%B8%B9%E0%B8%A5%E0%B8%AA%E0%B8%A0%E0%B8%B2%E0%B8%A7%E0%B8%B0%E0%B8%95%E0%B8%A5%E0%B8%B2%E0%B8%94%E0%B8%AA%E0%B8%B8%E0%B8%81%E0%B8%A3%E0%B8%A1%E0%B8%B5%E0%B8%8A%E0%B8%B5%E0%B8%A7%E0%B8%B4%E0%B8%95%E0%B8%AB%E0%B8%99%E0%B9%89%E0%B8%B2%E0%B8%9F%E0%B8%B2%E0%B8%A3%E0%B9%8C%E0%B8%A1-%E0%B8%AA%E0%B8%B1%E0%B8%9B%E0%B8%94%E0%B8%B2%E0%B8%AB%E0%B9%8C%E0%B8%97%E0%B8%B5%E0%B9%88-332564-%E0%B8%A7%E0%B8%B1%E0%B8%99%E0%B8%9E%E0%B8%A3%E0%B8%B0%E0%B8%97%E0%B8%B5%E0%B9%88-16-%E0%B8%AA%E0%B8%B4%E0%B8%87%E0%B8%AB%E0%B8%B2%E0%B8%84%E0%B8%A1-2564-\"><br/><br/></a></span></strong></span><span style=\"color: #ff0000;\"><strong><a href=\"/17307573/%E0%B8%82%E0%B9%89%E0%B8%AD%E0%B8%A1%E0%B8%B9%E0%B8%A5%E0%B8%AA%E0%B8%A0%E0%B8%B2%E0%B8%A7%E0%B8%B0%E0%B8%95%E0%B8%A5%E0%B8%B2%E0%B8%94%E0%B8%AA%E0%B8%B8%E0%B8%81%E0%B8%A3%E0%B8%A1%E0%B8%B5%E0%B8%8A%E0%B8%B5%E0%B8%A7%E0%B8%B4%E0%B8%95%E0%B8%AB%E0%B8%99%E0%B9%89%E0%B8%B2%E0%B8%9F%E0%B8%B2%E0%B8%A3%E0%B9%8C%E0%B8%A1-%E0%B8%AA%E0%B8%B1%E0%B8%9B%E0%B8%94%E0%B8%B2%E0%B8%AB%E0%B9%8C%E0%B8%97%E0%B8%B5%E0%B9%88-352564-%E0%B8%A7%E0%B8%B1%E0%B8%99%E0%B8%9E%E0%B8%A3%E0%B8%B0%E0%B8%97%E0%B8%B5%E0%B9%88-23-%E0%B8%AA%E0%B8%B4%E0%B8%87%E0%B8%AB%E0%B8%B2%E0%B8%84%E0%B8%A1-2564?fbclid=IwAR1BfOHvZFN4xOpmnyvm1vHxaOZCcmaSdWpxw2QDgIIHXQvqEUp9dlCAoGM\"><span style=\"color: #ff0000;\"><strong>วันพระที่ 23 สิงหาคม 2564</strong></span></a></strong></span><span style=\"color: #ff0000;\"><strong><span style=\"color: #ff0000;\"><a href=\"/17306014/%E0%B8%82%E0%B9%89%E0%B8%AD%E0%B8%A1%E0%B8%B9%E0%B8%A5%E0%B8%AA%E0%B8%A0%E0%B8%B2%E0%B8%A7%E0%B8%B0%E0%B8%95%E0%B8%A5%E0%B8%B2%E0%B8%94%E0%B8%AA%E0%B8%B8%E0%B8%81%E0%B8%A3%E0%B8%A1%E0%B8%B5%E0%B8%8A%E0%B8%B5%E0%B8%A7%E0%B8%B4%E0%B8%95%E0%B8%AB%E0%B8%99%E0%B9%89%E0%B8%B2%E0%B8%9F%E0%B8%B2%E0%B8%A3%E0%B9%8C%E0%B8%A1-%E0%B8%AA%E0%B8%B1%E0%B8%9B%E0%B8%94%E0%B8%B2%E0%B8%AB%E0%B9%8C%E0%B8%97%E0%B8%B5%E0%B9%88-332564-%E0%B8%A7%E0%B8%B1%E0%B8%99%E0%B8%9E%E0%B8%A3%E0%B8%B0%E0%B8%97%E0%B8%B5%E0%B9%88-16-%E0%B8%AA%E0%B8%B4%E0%B8%87%E0%B8%AB%E0%B8%B2%E0%B8%84%E0%B8%A1-2564-\"><br/></a></span></strong></span></p>,\n",
              " <p><strong><span style=\"color: #ff0000;\"><a href=\"/17309529/%E0%B8%82%E0%B9%89%E0%B8%AD%E0%B8%A1%E0%B8%B9%E0%B8%A5%E0%B8%AA%E0%B8%A0%E0%B8%B2%E0%B8%A7%E0%B8%B0%E0%B8%95%E0%B8%A5%E0%B8%B2%E0%B8%94%E0%B8%AA%E0%B8%B8%E0%B8%81%E0%B8%A3%E0%B8%A1%E0%B8%B5%E0%B8%8A%E0%B8%B5%E0%B8%A7%E0%B8%B4%E0%B8%95%E0%B8%AB%E0%B8%99%E0%B9%89%E0%B8%B2%E0%B8%9F%E0%B8%B2%E0%B8%A3%E0%B9%8C%E0%B8%A1-%E0%B8%AA%E0%B8%B1%E0%B8%9B%E0%B8%94%E0%B8%B2%E0%B8%AB%E0%B9%8C%E0%B8%97%E0%B8%B5%E0%B9%88-362564-%E0%B8%A7%E0%B8%B1%E0%B8%99%E0%B8%9E%E0%B8%A3%E0%B8%B0%E0%B8%97%E0%B8%B5%E0%B9%88-31-%E0%B8%AA%E0%B8%B4%E0%B8%87%E0%B8%AB%E0%B8%B2%E0%B8%84%E0%B8%A1-2564?fbclid=IwAR1wVLf4XqyDsI7pN0qz8MPIw_d0fIEyl_1AsEqCeyIMIzynb-QxDAJ-wO4\"><span style=\"color: #ff0000;\">วันพระที่ 31 สิงหาคม 2564</span></a></span></strong></p>,\n",
              " <p><span style=\"color: #ff0000;\"><strong><a href=\"/17310794/%E0%B8%82%E0%B9%89%E0%B8%AD%E0%B8%A1%E0%B8%B9%E0%B8%A5%E0%B8%AA%E0%B8%A0%E0%B8%B2%E0%B8%A7%E0%B8%B0%E0%B8%95%E0%B8%A5%E0%B8%B2%E0%B8%94%E0%B8%AA%E0%B8%B8%E0%B8%81%E0%B8%A3%E0%B8%A1%E0%B8%B5%E0%B8%8A%E0%B8%B5%E0%B8%A7%E0%B8%B4%E0%B8%95%E0%B8%AB%E0%B8%99%E0%B9%89%E0%B8%B2%E0%B8%9F%E0%B8%B2%E0%B8%A3%E0%B9%8C%E0%B8%A1-%E0%B8%AA%E0%B8%B1%E0%B8%9B%E0%B8%94%E0%B8%B2%E0%B8%AB%E0%B9%8C%E0%B8%97%E0%B8%B5%E0%B9%88-372564-%E0%B8%A7%E0%B8%B1%E0%B8%99%E0%B8%9E%E0%B8%A3%E0%B8%B0%E0%B8%97%E0%B8%B5%E0%B9%88-6-%E0%B8%81%E0%B8%B1%E0%B8%99%E0%B8%A2%E0%B8%B2%E0%B8%A2%E0%B8%99-2564-?fbclid=IwAR0FxdXzdyjj77kgBws3GPPtLgtWnsok6RhPbu1Btr1zjCThnow1F24G9os\"><span style=\"color: #ff0000;\">วันพระที่ 6 กันยายน 2564</span></a></strong></span></p>,\n",
              " <p><span style=\"color: #ff0000;\"><strong><a href=\"/17311976/%E0%B8%82%E0%B9%89%E0%B8%AD%E0%B8%A1%E0%B8%B9%E0%B8%A5%E0%B8%AA%E0%B8%A0%E0%B8%B2%E0%B8%A7%E0%B8%B0%E0%B8%95%E0%B8%A5%E0%B8%B2%E0%B8%94%E0%B8%AA%E0%B8%B8%E0%B8%81%E0%B8%A3%E0%B8%A1%E0%B8%B5%E0%B8%8A%E0%B8%B5%E0%B8%A7%E0%B8%B4%E0%B8%95%E0%B8%AB%E0%B8%99%E0%B9%89%E0%B8%B2%E0%B8%9F%E0%B8%B2%E0%B8%A3%E0%B9%8C%E0%B8%A1-%E0%B8%AA%E0%B8%B1%E0%B8%9B%E0%B8%94%E0%B8%B2%E0%B8%AB%E0%B9%8C%E0%B8%97%E0%B8%B5%E0%B9%88-382564-%E0%B8%A7%E0%B8%B1%E0%B8%99%E0%B8%9E%E0%B8%A3%E0%B8%B0%E0%B8%97%E0%B8%B5%E0%B9%88-14-%E0%B8%81%E0%B8%B1%E0%B8%99%E0%B8%A2%E0%B8%B2%E0%B8%A2%E0%B8%99-2564-\"><span style=\"color: #ff0000;\">วันพระที่ 14 กันยายน 2564</span></a></strong></span></p>,\n",
              " <p><strong><span style=\"color: #ff0000;\"><a href=\"/17312988/%E0%B8%82%E0%B9%89%E0%B8%AD%E0%B8%A1%E0%B8%B9%E0%B8%A5%E0%B8%AA%E0%B8%A0%E0%B8%B2%E0%B8%A7%E0%B8%B0%E0%B8%95%E0%B8%A5%E0%B8%B2%E0%B8%94%E0%B8%AA%E0%B8%B8%E0%B8%81%E0%B8%A3%E0%B8%A1%E0%B8%B5%E0%B8%8A%E0%B8%B5%E0%B8%A7%E0%B8%B4%E0%B8%95%E0%B8%AB%E0%B8%99%E0%B9%89%E0%B8%B2%E0%B8%9F%E0%B8%B2%E0%B8%A3%E0%B9%8C%E0%B8%A1-%E0%B8%AA%E0%B8%B1%E0%B8%9B%E0%B8%94%E0%B8%B2%E0%B8%AB%E0%B9%8C%E0%B8%97%E0%B8%B5%E0%B9%88-392564-%E0%B8%A7%E0%B8%B1%E0%B8%99%E0%B8%9E%E0%B8%A3%E0%B8%B0%E0%B8%97%E0%B8%B5%E0%B9%88-21-%E0%B8%81%E0%B8%B1%E0%B8%99%E0%B8%A2%E0%B8%B2%E0%B8%A2%E0%B8%99-2564-?fbclid=IwAR3xqc2zudQ87XMgN-zxis58YylJDDjGejRWbE10XR8oqj853X7Gw8KcR18\"><span style=\"color: #ff0000;\">วันพระที่ 21 กันยายน 2564</span></a></span></strong></p>,\n",
              " <p><span style=\"color: #800000;\">วันพระที่ 29 กันยายน 2564</span></p>,\n",
              " <p><span style=\"color: #800000;\">วันพระที่ 6 ตุลาคม 2564</span></p>,\n",
              " <p><span style=\"color: #800000;\">วันพระที่ 14 ตุลาคม 2564</span></p>,\n",
              " <p><span style=\"color: #800000;\">วันพระที่ 21 ตุลาคม 2564</span></p>,\n",
              " <p><span style=\"color: #800000;\">วันพระที่ 29 ตุลาคม 2564</span></p>,\n",
              " <p><span style=\"color: #800000;\"> </span></p>,\n",
              " <p><span style=\"color: #800000;\">วันพระที่ 4 พฤศจิกายน 2564</span></p>,\n",
              " <p><span style=\"color: #800000;\">วันพระที่ 12 พฤศจิกายน 2564</span></p>,\n",
              " <p><span style=\"color: #800000;\">วันพระที่ 19 พฤศจิกายน 2564</span></p>,\n",
              " <p><span style=\"color: #800000;\">วันพระที่ 27 พฤศจิกายน 2564</span></p>,\n",
              " <p><span style=\"color: #800000;\">วันพระที่ 4 ธันวาคม 2564</span></p>,\n",
              " <p><span style=\"color: #800000;\">วันพระที่ 12 ธันวาคม 2564</span></p>,\n",
              " <p><span style=\"color: #800000;\">วันพระที่ 19 ธันวาคม 2564</span></p>,\n",
              " <p><span style=\"color: #800000;\">วันพระที่ 27 ธันวาคม 2564</span></p>,\n",
              " <p> </p>,\n",
              " <p style=\"text-align: center;\"> </p>,\n",
              " <p style=\"text-align: center;\"><span style=\"font-size: 18pt; color: #800000;\"><strong>ราคาสุกรขุนปี 2563</strong></span></p>,\n",
              " <p style=\"text-align: center;\"> </p>,\n",
              " <p><span style=\"color: #800000;\"><strong><a href=\"/17173500/%E0%B8%82%E0%B9%89%E0%B8%AD%E0%B8%A1%E0%B8%B9%E0%B8%A5%E0%B8%AA%E0%B8%A0%E0%B8%B2%E0%B8%A7%E0%B8%B0%E0%B8%95%E0%B8%A5%E0%B8%B2%E0%B8%94%E0%B8%AA%E0%B8%B8%E0%B8%81%E0%B8%A3%E0%B8%A1%E0%B8%B5%E0%B8%8A%E0%B8%B5%E0%B8%A7%E0%B8%B4%E0%B8%95-%E0%B8%A7%E0%B8%B1%E0%B8%99%E0%B8%9E%E0%B8%A3%E0%B8%B0%E0%B8%97%E0%B8%B5%E0%B9%88-2-%E0%B8%A1%E0%B8%81%E0%B8%A3%E0%B8%B2%E0%B8%84%E0%B8%A1-2563?fbclid=IwAR32vw0X0x1MKg_DiaQacfl2A7fI1cR0oTqa9LtELvSknFmkHifoiKTfMoU\"><span style=\"color: #800000;\"><span style=\"color: #0000ff;\">วันพระที่ 2 มกราคม 256</span>3</span></a></strong></span></p>,\n",
              " <p><span style=\"color: #800000;\"><strong><a href=\"/17175085/%E0%B8%82%E0%B9%89%E0%B8%AD%E0%B8%A1%E0%B8%B9%E0%B8%A5%E0%B8%AA%E0%B8%A0%E0%B8%B2%E0%B8%A7%E0%B8%B0%E0%B8%95%E0%B8%A5%E0%B8%B2%E0%B8%94%E0%B8%AA%E0%B8%B8%E0%B8%81%E0%B8%A3%E0%B8%A1%E0%B8%B5%E0%B8%8A%E0%B8%B5%E0%B8%A7%E0%B8%B4%E0%B8%95-%E0%B8%A7%E0%B8%B1%E0%B8%99%E0%B8%9E%E0%B8%A3%E0%B8%B0%E0%B8%97%E0%B8%B5%E0%B9%88-9-%E0%B8%A1%E0%B8%81%E0%B8%A3%E0%B8%B2%E0%B8%84%E0%B8%A1-2563\"><span style=\"color: #800000;\"><span style=\"color: #ff0000;\">วันพระที่ 9 มกราคม 2563</span></span></a></strong></span></p>,\n",
              " <p><span style=\"color: #800000;\"><strong><a href=\"/17177287/%E0%B8%82%E0%B9%89%E0%B8%AD%E0%B8%A1%E0%B8%B9%E0%B8%A5%E0%B8%AA%E0%B8%A0%E0%B8%B2%E0%B8%A7%E0%B8%B0%E0%B8%95%E0%B8%A5%E0%B8%B2%E0%B8%94%E0%B8%AA%E0%B8%B8%E0%B8%81%E0%B8%A3%E0%B8%A1%E0%B8%B5%E0%B8%8A%E0%B8%B5%E0%B8%A7%E0%B8%B4%E0%B8%95-%E0%B8%A7%E0%B8%B1%E0%B8%99%E0%B8%9E%E0%B8%A3%E0%B8%B0%E0%B8%97%E0%B8%B5%E0%B9%88-17-%E0%B8%A1%E0%B8%81%E0%B8%A3%E0%B8%B2%E0%B8%84%E0%B8%A1-2563?fbclid=IwAR1quOVlIX3GvnaG7d6RTBa6OugetaMKWtzevkBWFudXUOJyiVBS_R1eOak\"><span style=\"color: #800000;\"><span style=\"color: #ff0000;\">วันพระที่ 17 มกราคม 2563</span></span></a></strong></span></p>,\n",
              " <p><span style=\"color: #800000;\"><strong><a href=\"/17200677/%E0%B8%82%E0%B9%89%E0%B8%AD%E0%B8%A1%E0%B8%B9%E0%B8%A5%E0%B8%AA%E0%B8%A0%E0%B8%B2%E0%B8%A7%E0%B8%B0%E0%B8%95%E0%B8%A5%E0%B8%B2%E0%B8%94%E0%B8%AA%E0%B8%B8%E0%B8%81%E0%B8%A3%E0%B8%A1%E0%B8%B5%E0%B8%8A%E0%B8%B5%E0%B8%A7%E0%B8%B4%E0%B8%95-%E0%B8%A7%E0%B8%B1%E0%B8%99%E0%B8%9E%E0%B8%A3%E0%B8%B0%E0%B8%97%E0%B8%B5%E0%B9%88-24-%E0%B8%A1%E0%B8%81%E0%B8%A3%E0%B8%B2%E0%B8%84%E0%B8%A1-2563-\"><span style=\"color: #800000;\"><span style=\"color: #ff0000;\">วันพระที่ 24 มกราคม 2563</span></span></a></strong></span></p>,\n",
              " <p><span style=\"color: #800000;\"> </span></p>,\n",
              " <p><span style=\"color: #800000;\"><strong><a href=\"/17181275/%E0%B8%82%E0%B9%89%E0%B8%AD%E0%B8%A1%E0%B8%B9%E0%B8%A5%E0%B8%AA%E0%B8%A0%E0%B8%B2%E0%B8%A7%E0%B8%B0%E0%B8%95%E0%B8%A5%E0%B8%B2%E0%B8%94%E0%B8%AA%E0%B8%B8%E0%B8%81%E0%B8%A3%E0%B8%A1%E0%B8%B5%E0%B8%8A%E0%B8%B5%E0%B8%A7%E0%B8%B4%E0%B8%95-%E0%B8%A7%E0%B8%B1%E0%B8%99%E0%B8%9E%E0%B8%A3%E0%B8%B0%E0%B8%97%E0%B8%B5%E0%B9%88-1-%E0%B8%81%E0%B8%B8%E0%B8%A1%E0%B8%A0%E0%B8%B2%E0%B8%9E%E0%B8%B1%E0%B8%99%E0%B8%98%E0%B9%8C-2563?fbclid=IwAR0NLYH57ujsjP14hSViJo4PWYOM5mpC8SwO63bGPt1i1ZfTPb7lguHBM9Q\"><span style=\"color: #800000;\">วันพระที่ 1 กุมภาพันธ์ 2563</span></a></strong></span></p>,\n",
              " <p><span style=\"color: #800000;\"><strong><a href=\"/17183010/%E0%B8%AA%E0%B8%96%E0%B8%B2%E0%B8%99%E0%B8%81%E0%B8%B2%E0%B8%A3%E0%B8%93%E0%B9%8C%E0%B8%A3%E0%B8%B2%E0%B8%84%E0%B8%B2%E0%B8%AA%E0%B8%B8%E0%B8%81%E0%B8%A3%E0%B8%A1%E0%B8%B5%E0%B8%8A%E0%B8%B5%E0%B8%A7%E0%B8%B4%E0%B8%95%E0%B8%AB%E0%B8%99%E0%B9%89%E0%B8%B2%E0%B8%9F%E0%B8%B2%E0%B8%A3%E0%B9%8C%E0%B8%A1-%E0%B8%A7%E0%B8%B1%E0%B8%99%E0%B8%9E%E0%B8%A3%E0%B8%B0%E0%B8%97%E0%B8%B5%E0%B9%88-8-%E0%B8%81%E0%B8%B8%E0%B8%A1%E0%B8%A0%E0%B8%B2%E0%B8%9E%E0%B8%B1%E0%B8%99%E0%B8%98%E0%B9%8C-2563?fbclid=IwAR0BkgIfBMkp6YyMXnwRvR7JR4CDFxC88mtkT1aqAmIHzUcEmgWM8KVDxiE\"><span style=\"color: #800000;\">วันพระที่ 8 กุมภาพันธ์ 2563</span></a></strong></span></p>,\n",
              " <p><span style=\"color: #800000;\"><strong><a href=\"/17185240/%E0%B8%82%E0%B9%89%E0%B8%AD%E0%B8%A1%E0%B8%B9%E0%B8%A5%E0%B8%AA%E0%B8%A0%E0%B8%B2%E0%B8%A7%E0%B8%B0%E0%B8%95%E0%B8%A5%E0%B8%B2%E0%B8%94%E0%B8%AA%E0%B8%B8%E0%B8%81%E0%B8%A3%E0%B8%A1%E0%B8%B5%E0%B8%8A%E0%B8%B5%E0%B8%A7%E0%B8%B4%E0%B8%95-%E0%B8%A7%E0%B8%B1%E0%B8%99%E0%B8%9E%E0%B8%A3%E0%B8%B0%E0%B8%97%E0%B8%B5%E0%B9%88-16-%E0%B8%81%E0%B8%B8%E0%B8%A1%E0%B8%A0%E0%B8%B2%E0%B8%9E%E0%B8%B1%E0%B8%99%E0%B8%98%E0%B9%8C-2563?fbclid=IwAR17b9aR2BonxhVZXV-u7GBL-U54y4d5h_DdHkBIGkb0vN1H-F1-H-hpEMk\"><span style=\"color: #800000;\"><span style=\"color: #ff0000;\">วันพระที่ 16 กุมภาพันธ์ 2563</span></span></a></strong></span></p>,\n",
              " <p><span style=\"color: #800000;\"><strong><a href=\"/17187042/%E0%B8%82%E0%B9%89%E0%B8%AD%E0%B8%A1%E0%B8%B9%E0%B8%A5%E0%B8%AA%E0%B8%A0%E0%B8%B2%E0%B8%A7%E0%B8%B0%E0%B8%95%E0%B8%A5%E0%B8%B2%E0%B8%94%E0%B8%AA%E0%B8%B8%E0%B8%81%E0%B8%A3%E0%B8%A1%E0%B8%B5%E0%B8%8A%E0%B8%B5%E0%B8%A7%E0%B8%B4%E0%B8%95-%E0%B8%A7%E0%B8%B1%E0%B8%99%E0%B8%9E%E0%B8%A3%E0%B8%B0%E0%B8%97%E0%B8%B5%E0%B9%88-22-%E0%B8%81%E0%B8%B8%E0%B8%A1%E0%B8%A0%E0%B8%B2%E0%B8%9E%E0%B8%B1%E0%B8%99%E0%B8%98%E0%B9%8C-2563?fbclid=IwAR3AJfi-lQrikIK8VdKwH2P461041u3Wj1BcWlVyVXkRiCv-8bz0Oxmhg5o\"><span style=\"color: #800000;\"><span style=\"color: #ff0000;\">วันพระที่ 22 กุมภาพันธ์ 2563</span></span></a></strong></span></p>,\n",
              " <p><span style=\"color: #800000;\"> <strong><a href=\"/17189155/%E0%B8%82%E0%B9%89%E0%B8%AD%E0%B8%A1%E0%B8%B9%E0%B8%A5%E0%B8%AA%E0%B8%A0%E0%B8%B2%E0%B8%A7%E0%B8%B0%E0%B8%95%E0%B8%A5%E0%B8%B2%E0%B8%94%E0%B8%AA%E0%B8%B8%E0%B8%81%E0%B8%A3%E0%B8%A1%E0%B8%B5%E0%B8%8A%E0%B8%B5%E0%B8%A7%E0%B8%B4%E0%B8%95-%E0%B8%A7%E0%B8%B1%E0%B8%99%E0%B8%9E%E0%B8%A3%E0%B8%B0%E0%B8%97%E0%B8%B5%E0%B9%88-1-%E0%B8%A1%E0%B8%B5%E0%B8%99%E0%B8%B2%E0%B8%84%E0%B8%A1-2563?fbclid=IwAR1uQRVlhGEmajOx2RY3rJKdsSkse-v_4HQ9x66CZICUj6JibUxjrpmrQXA\"><span style=\"color: #800000;\">วันพระที่ 1 มีนาคม 2563</span></a></strong></span></p>,\n",
              " <p><span style=\"color: #800000;\"><strong><a href=\"/17191281/%E0%B8%82%E0%B9%89%E0%B8%AD%E0%B8%A1%E0%B8%B9%E0%B8%A5%E0%B8%AA%E0%B8%A0%E0%B8%B2%E0%B8%A7%E0%B8%B0%E0%B8%95%E0%B8%A5%E0%B8%B2%E0%B8%94%E0%B8%AA%E0%B8%B8%E0%B8%81%E0%B8%A3%E0%B8%A1%E0%B8%B5%E0%B8%8A%E0%B8%B5%E0%B8%A7%E0%B8%B4%E0%B8%95-%E0%B8%A7%E0%B8%B1%E0%B8%99%E0%B8%9E%E0%B8%A3%E0%B8%B0%E0%B8%97%E0%B8%B5%E0%B9%88-8-%E0%B8%A1%E0%B8%B5%E0%B8%99%E0%B8%B2%E0%B8%84%E0%B8%A1-2563?fbclid=IwAR2bmatxO7vTBABLlgfxkf8MmBUVN32Vx9GTLSeuFX-XGsvC4mEtMLmAJWk\"><span style=\"color: #800000;\"><span style=\"color: #ff0000;\">วันพระที่ 8 มีนาคม 2563</span></span></a></strong></span></p>,\n",
              " <p><span style=\"color: #800000;\"><strong><a href=\"/17193750/%E0%B8%82%E0%B9%89%E0%B8%AD%E0%B8%A1%E0%B8%B9%E0%B8%A5%E0%B8%AA%E0%B8%A0%E0%B8%B2%E0%B8%A7%E0%B8%B0%E0%B8%95%E0%B8%A5%E0%B8%B2%E0%B8%94%E0%B8%AA%E0%B8%B8%E0%B8%81%E0%B8%A3%E0%B8%A1%E0%B8%B5%E0%B8%8A%E0%B8%B5%E0%B8%A7%E0%B8%B4%E0%B8%95-%E0%B8%A7%E0%B8%B1%E0%B8%99%E0%B8%9E%E0%B8%A3%E0%B8%B0%E0%B8%97%E0%B8%B5%E0%B9%88-16-%E0%B8%A1%E0%B8%B5%E0%B8%99%E0%B8%B2%E0%B8%84%E0%B8%A1-2563?fbclid=IwAR2pnTN6NlUfUnFwdPdX7u0NYgXDz54oZCO5OUyCquT1qVbjjvyd7BXBGso\"><span style=\"color: #800000;\"><span style=\"color: #ff0000;\">วันพระที่ 16 มีนาคม 2563</span></span></a></strong></span></p>,\n",
              " <p><span style=\"color: #800000;\"><strong><a href=\"/17195599/%E0%B8%82%E0%B9%89%E0%B8%AD%E0%B8%A1%E0%B8%B9%E0%B8%A5%E0%B8%AA%E0%B8%A0%E0%B8%B2%E0%B8%A7%E0%B8%B0%E0%B8%95%E0%B8%A5%E0%B8%B2%E0%B8%94%E0%B8%AA%E0%B8%B8%E0%B8%81%E0%B8%A3%E0%B8%A1%E0%B8%B5%E0%B8%8A%E0%B8%B5%E0%B8%A7%E0%B8%B4%E0%B8%95-%E0%B8%A7%E0%B8%B1%E0%B8%99%E0%B8%9E%E0%B8%A3%E0%B8%B0%E0%B8%97%E0%B8%B5%E0%B9%88-23-%E0%B8%A1%E0%B8%B5%E0%B8%99%E0%B8%B2%E0%B8%84%E0%B8%A1-2563?fbclid=IwAR3xRBmum-8Bgip-FZOMk4flJDCKlNs9-kburI_IUsKJSUE7wk0fEeLUMPQ\"><span style=\"color: #800000;\">วันพระที่ 23 มีนาคม 2563</span></a></strong></span></p>,\n",
              " <p><span style=\"color: #800000;\"><strong><a href=\"/17198300/%E0%B8%82%E0%B9%89%E0%B8%AD%E0%B8%A1%E0%B8%B9%E0%B8%A5%E0%B8%AA%E0%B8%A0%E0%B8%B2%E0%B8%A7%E0%B8%B0%E0%B8%95%E0%B8%A5%E0%B8%B2%E0%B8%94%E0%B8%AA%E0%B8%B8%E0%B8%81%E0%B8%A3%E0%B8%A1%E0%B8%B5%E0%B8%8A%E0%B8%B5%E0%B8%A7%E0%B8%B4%E0%B8%95-%E0%B8%A7%E0%B8%B1%E0%B8%99%E0%B8%9E%E0%B8%A3%E0%B8%B0%E0%B8%97%E0%B8%B5%E0%B9%88-31-%E0%B8%A1%E0%B8%B5%E0%B8%99%E0%B8%B2%E0%B8%84%E0%B8%A1-2563\"><span style=\"color: #800000;\">วันพระที่ 31 มีนาคม 2563</span></a></strong><br/></span></p>,\n",
              " <p><span style=\"color: #800000;\"> <strong><a href=\"/17200618/%E0%B8%82%E0%B9%89%E0%B8%AD%E0%B8%A1%E0%B8%B9%E0%B8%A5%E0%B8%AA%E0%B8%A0%E0%B8%B2%E0%B8%A7%E0%B8%B0%E0%B8%95%E0%B8%A5%E0%B8%B2%E0%B8%94%E0%B8%AA%E0%B8%B8%E0%B8%81%E0%B8%A3%E0%B8%A1%E0%B8%B5%E0%B8%8A%E0%B8%B5%E0%B8%A7%E0%B8%B4%E0%B8%95-%E0%B8%A7%E0%B8%B1%E0%B8%99%E0%B8%9E%E0%B8%A3%E0%B8%B0%E0%B8%97%E0%B8%B5%E0%B9%88-7-%E0%B9%80%E0%B8%A1%E0%B8%A9%E0%B8%B2%E0%B8%A2%E0%B8%99-2563?fbclid=IwAR3JNmB5lApjaID_eMisk58lNpZ5SM7-EPv9DbGLNVeEFLfVqLR8sU5YglI\"><span style=\"color: #800000;\">วันพระที่ 7 เมษายน 2563</span></a></strong></span></p>,\n",
              " <p><span style=\"color: #800000;\"><strong><a href=\"/17203675/%E0%B8%82%E0%B9%89%E0%B8%AD%E0%B8%A1%E0%B8%B9%E0%B8%A5%E0%B8%AA%E0%B8%A0%E0%B8%B2%E0%B8%A7%E0%B8%B0%E0%B8%95%E0%B8%A5%E0%B8%B2%E0%B8%94%E0%B8%AA%E0%B8%B8%E0%B8%81%E0%B8%A3%E0%B8%A1%E0%B8%B5%E0%B8%8A%E0%B8%B5%E0%B8%A7%E0%B8%B4%E0%B8%95-%E0%B8%A7%E0%B8%B1%E0%B8%99%E0%B8%9E%E0%B8%A3%E0%B8%B0%E0%B8%97%E0%B8%B5%E0%B9%88-15-%E0%B9%80%E0%B8%A1%E0%B8%A9%E0%B8%B2%E0%B8%A2%E0%B8%99-2563?fbclid=IwAR0RkVDDhySeGtGUmbXyEBxaduSNSShzjU9jl-8RQ1Qv7plr-Ccmu1zahn8\"><span style=\"color: #800000;\"><span style=\"color: #ff0000;\">วันพระที่ 15 เมษายน 2563</span></span></a></strong></span></p>,\n",
              " <p><span style=\"color: #800000;\"><strong><a href=\"/17205488/%E0%B8%82%E0%B9%89%E0%B8%AD%E0%B8%A1%E0%B8%B9%E0%B8%A5%E0%B8%AA%E0%B8%A0%E0%B8%B2%E0%B8%A7%E0%B8%B0%E0%B8%95%E0%B8%A5%E0%B8%B2%E0%B8%94%E0%B8%AA%E0%B8%B8%E0%B8%81%E0%B8%A3%E0%B8%A1%E0%B8%B5%E0%B8%8A%E0%B8%B5%E0%B8%A7%E0%B8%B4%E0%B8%95-%E0%B8%A7%E0%B8%B1%E0%B8%99%E0%B8%9E%E0%B8%A3%E0%B8%B0%E0%B8%97%E0%B8%B5%E0%B9%88-21-%E0%B9%80%E0%B8%A1%E0%B8%A9%E0%B8%B2%E0%B8%A2%E0%B8%99-2563?fbclid=IwAR151woNRoGF2MfXCTDelqOzFQxu1PAYbDgEqQn0wfO-VccfDeuRtHsXXLc\"><span style=\"color: #800000;\"><span style=\"color: #ff0000;\">วันพระที่ 21 เมษายน 2563</span></span></a></strong></span></p>,\n",
              " <p><span style=\"color: #800000;\"><strong><a href=\"/17208034/%E0%B8%82%E0%B9%89%E0%B8%AD%E0%B8%A1%E0%B8%B9%E0%B8%A5%E0%B8%AA%E0%B8%A0%E0%B8%B2%E0%B8%A7%E0%B8%B0%E0%B8%95%E0%B8%A5%E0%B8%B2%E0%B8%94%E0%B8%AA%E0%B8%B8%E0%B8%81%E0%B8%A3%E0%B8%A1%E0%B8%B5%E0%B8%8A%E0%B8%B5%E0%B8%A7%E0%B8%B4%E0%B8%95-%E0%B8%A7%E0%B8%B1%E0%B8%99%E0%B8%9E%E0%B8%A3%E0%B8%B0%E0%B8%97%E0%B8%B5%E0%B9%88-29-%E0%B9%80%E0%B8%A1%E0%B8%A9%E0%B8%B2%E0%B8%A2%E0%B8%99-2563?fbclid=IwAR13T3JqzaIqk_g7sHwlpc4c2La6L3APMSy_zauXp8CEyyu_M1JZgPb0hX0\"><span style=\"color: #800000;\"><span style=\"color: #ff0000;\">วันพระที่ 29 เมษายน 2563</span></span></a></strong></span></p>,\n",
              " <p><span style=\"color: #800000;\"><a href=\"/17209943/%E0%B8%82%E0%B9%89%E0%B8%AD%E0%B8%A1%E0%B8%B9%E0%B8%A5%E0%B8%AA%E0%B8%A0%E0%B8%B2%E0%B8%A7%E0%B8%B0%E0%B8%95%E0%B8%A5%E0%B8%B2%E0%B8%94%E0%B8%AA%E0%B8%B8%E0%B8%81%E0%B8%A3%E0%B8%A1%E0%B8%B5%E0%B8%8A%E0%B8%B5%E0%B8%A7%E0%B8%B4%E0%B8%95%E0%B8%AB%E0%B8%99%E0%B9%89%E0%B8%B2%E0%B8%9F%E0%B8%B2%E0%B8%A3%E0%B9%8C%E0%B8%A1-%E0%B8%A7%E0%B8%B1%E0%B8%99%E0%B8%9E%E0%B8%A3%E0%B8%B0%E0%B8%97%E0%B8%B5%E0%B9%88-6-%E0%B8%9E%E0%B8%A4%E0%B8%A9%E0%B8%A0%E0%B8%B2%E0%B8%84%E0%B8%A1-2563\"><span style=\"color: #800000;\"><span style=\"color: #ff0000;\"> <strong>วันพระที่ 6 พฤษภาคม 2563</strong></span></span></a></span></p>,\n",
              " <p><span style=\"color: #800000;\"><strong><a href=\"/17212418/%E0%B8%82%E0%B9%89%E0%B8%AD%E0%B8%A1%E0%B8%B9%E0%B8%A5%E0%B8%AA%E0%B8%A0%E0%B8%B2%E0%B8%A7%E0%B8%B0%E0%B8%95%E0%B8%A5%E0%B8%B2%E0%B8%94%E0%B8%AA%E0%B8%B8%E0%B8%81%E0%B8%A3%E0%B8%A1%E0%B8%B5%E0%B8%8A%E0%B8%B5%E0%B8%A7%E0%B8%B4%E0%B8%95%E0%B8%AB%E0%B8%99%E0%B9%89%E0%B8%B2%E0%B8%9F%E0%B8%B2%E0%B8%A3%E0%B9%8C%E0%B8%A1-%E0%B8%A7%E0%B8%B1%E0%B8%99%E0%B8%9E%E0%B8%A3%E0%B8%B0%E0%B8%97%E0%B8%B5%E0%B9%88-14-%E0%B8%9E%E0%B8%A4%E0%B8%A9%E0%B8%A0%E0%B8%B2%E0%B8%84%E0%B8%A1-2563?fbclid=IwAR3lagWcqgQZYajATdXhkhvERrQdEpOOzi-McTgqkxAH0iVLx0khii3V4jg\"><span style=\"color: #800000;\"><span style=\"color: #ff0000;\">วันพระที่ 14 พฤษภาคม 2563</span></span></a></strong></span></p>,\n",
              " <p><span style=\"color: #800000;\"><strong><a href=\"/17214777/%E0%B8%82%E0%B9%89%E0%B8%AD%E0%B8%A1%E0%B8%B9%E0%B8%A5%E0%B8%AA%E0%B8%A0%E0%B8%B2%E0%B8%A7%E0%B8%B0%E0%B8%95%E0%B8%A5%E0%B8%B2%E0%B8%94%E0%B8%AA%E0%B8%B8%E0%B8%81%E0%B8%A3%E0%B8%A1%E0%B8%B5%E0%B8%8A%E0%B8%B5%E0%B8%A7%E0%B8%B4%E0%B8%95%E0%B8%AB%E0%B8%99%E0%B9%89%E0%B8%B2%E0%B8%9F%E0%B8%B2%E0%B8%A3%E0%B9%8C%E0%B8%A1-%E0%B8%A7%E0%B8%B1%E0%B8%99%E0%B8%9E%E0%B8%A3%E0%B8%B0%E0%B8%97%E0%B8%B5%E0%B9%88-21-%E0%B8%9E%E0%B8%A4%E0%B8%A9%E0%B8%A0%E0%B8%B2%E0%B8%84%E0%B8%A1-2563\"><span style=\"color: #800000;\"><span style=\"color: #ff0000;\">วันพระที่ 21 พฤษภาคม 2563</span></span></a></strong></span></p>,\n",
              " <p><span style=\"color: #800000;\"><strong><a href=\"/17216841/%E0%B8%AA%E0%B8%96%E0%B8%B2%E0%B8%99%E0%B8%81%E0%B8%B2%E0%B8%A3%E0%B8%93%E0%B9%8C%E0%B8%A3%E0%B8%B2%E0%B8%84%E0%B8%B2%E0%B8%AA%E0%B8%B8%E0%B8%81%E0%B8%A3%E0%B8%A1%E0%B8%B5%E0%B8%8A%E0%B8%B5%E0%B8%A7%E0%B8%B4%E0%B8%95%E0%B8%AB%E0%B8%99%E0%B9%89%E0%B8%B2%E0%B8%9F%E0%B8%B2%E0%B8%A3%E0%B9%8C%E0%B8%A1-%E0%B8%A7%E0%B8%B1%E0%B8%99%E0%B8%9E%E0%B8%A3%E0%B8%B0%E0%B8%97%E0%B8%B5%E0%B9%88-29-%E0%B8%9E%E0%B8%A4%E0%B8%A9%E0%B8%A0%E0%B8%B2%E0%B8%84%E0%B8%A1-2563?fbclid=IwAR1zzPtTOVDycb1_Ug9hSEcbV-ESp8n4uXhiLdPU8FAQODUqfUP5NFf3d2k\"><span style=\"color: #800000;\"><span style=\"color: #ff0000;\">วันพระที่ 29 พฤษภาคม 2563</span></span></a></strong></span></p>,\n",
              " <p><span style=\"color: #800000;\"><strong><a href=\"/17109157/%E0%B8%AA%E0%B8%96%E0%B8%B2%E0%B8%99%E0%B8%81%E0%B8%B2%E0%B8%A3%E0%B8%93%E0%B9%8C%E0%B8%A3%E0%B8%B2%E0%B8%84%E0%B8%B2%E0%B8%AA%E0%B8%B8%E0%B8%81%E0%B8%A3%E0%B8%A1%E0%B8%B5%E0%B8%8A%E0%B8%B5%E0%B8%A7%E0%B8%B4%E0%B8%95%E0%B8%AB%E0%B8%99%E0%B9%89%E0%B8%B2%E0%B8%9F%E0%B8%B2%E0%B8%A3%E0%B9%8C%E0%B8%A1-%E0%B8%A7%E0%B8%B1%E0%B8%99%E0%B8%9E%E0%B8%A3%E0%B8%B0%E0%B8%97%E0%B8%B5%E0%B9%88-17-%E0%B8%A1%E0%B8%B4%E0%B8%96%E0%B8%B8%E0%B8%99%E0%B8%B2%E0%B8%A2%E0%B8%99-2562?fbclid=IwAR36KQ3cHOSxTeDA139QFDbRUJwGt7OVioTB0kuwgpctpYFalN0iEz_KpUM\"><span style=\"color: #800000;\"><span style=\"color: #ff0000;\">วันพระที่ 5 มิถุนายน 2563</span></span></a></strong></span></p>,\n",
              " <p><span style=\"color: #800000;\"><strong><a href=\"/17220444/%E0%B8%AA%E0%B8%96%E0%B8%B2%E0%B8%99%E0%B8%81%E0%B8%B2%E0%B8%A3%E0%B8%93%E0%B9%8C%E0%B8%A3%E0%B8%B2%E0%B8%84%E0%B8%B2%E0%B8%AA%E0%B8%B8%E0%B8%81%E0%B8%A3%E0%B8%A1%E0%B8%B5%E0%B8%8A%E0%B8%B5%E0%B8%A7%E0%B8%B4%E0%B8%95%E0%B8%AB%E0%B8%99%E0%B9%89%E0%B8%B2%E0%B8%9F%E0%B8%B2%E0%B8%A3%E0%B9%8C%E0%B8%A1-%E0%B8%A7%E0%B8%B1%E0%B8%99%E0%B8%9E%E0%B8%A3%E0%B8%B0%E0%B8%97%E0%B8%B5%E0%B9%88-13-%E0%B8%A1%E0%B8%B4%E0%B8%96%E0%B8%B8%E0%B8%99%E0%B8%B2%E0%B8%A2%E0%B8%99-2563?fbclid=IwAR2mffjJFHaMBSaZPu1EfXAAn3kuIZC88z45eBEjWu4aPMCd69USAqoRSUI\"><span style=\"color: #800000;\"><span style=\"color: #ff0000;\">วันพระที่ 13 มิถุนายน 2563</span></span></a></strong></span></p>,\n",
              " <p><span style=\"color: #800000;\"><strong><a href=\"/17221830/%E0%B8%82%E0%B9%89%E0%B8%AD%E0%B8%A1%E0%B8%B9%E0%B8%A5%E0%B8%AA%E0%B8%A0%E0%B8%B2%E0%B8%A7%E0%B8%B0%E0%B8%95%E0%B8%A5%E0%B8%B2%E0%B8%94%E0%B8%AA%E0%B8%B8%E0%B8%81%E0%B8%A3%E0%B8%A1%E0%B8%B5%E0%B8%8A%E0%B8%B5%E0%B8%A7%E0%B8%B4%E0%B8%95%E0%B8%AB%E0%B8%99%E0%B9%89%E0%B8%B2%E0%B8%9F%E0%B8%B2%E0%B8%A3%E0%B9%8C%E0%B8%A1-%E0%B8%A7%E0%B8%B1%E0%B8%99%E0%B8%9E%E0%B8%A3%E0%B8%B0%E0%B8%97%E0%B8%B5%E0%B9%88-20-%E0%B8%A1%E0%B8%B4%E0%B8%96%E0%B8%B8%E0%B8%99%E0%B8%B2%E0%B8%A2%E0%B8%99-2563?fbclid=IwAR2jTA65CiJR2FLZy8X1ivtC_fVY7QrOp6MXZkheplVzGVXlu57xsSR4xuM\"><span style=\"color: #800000;\"><span style=\"color: #ff0000;\">วันพระที่ 20 มิถุนายน 2563</span></span></a></strong></span></p>,\n",
              " <p><span style=\"color: #800000;\"><strong><a href=\"/17223696/%E0%B8%82%E0%B9%89%E0%B8%AD%E0%B8%A1%E0%B8%B9%E0%B8%A5%E0%B8%AA%E0%B8%A0%E0%B8%B2%E0%B8%A7%E0%B8%B0%E0%B8%95%E0%B8%A5%E0%B8%B2%E0%B8%94%E0%B8%AA%E0%B8%B8%E0%B8%81%E0%B8%A3%E0%B8%A1%E0%B8%B5%E0%B8%8A%E0%B8%B5%E0%B8%A7%E0%B8%B4%E0%B8%95-%E0%B8%A7%E0%B8%B1%E0%B8%99%E0%B8%9E%E0%B8%A3%E0%B8%B0%E0%B8%97%E0%B8%B5%E0%B9%88-28-%E0%B8%A1%E0%B8%B4%E0%B8%96%E0%B8%B8%E0%B8%99%E0%B8%B2%E0%B8%A2%E0%B8%99-2563?fbclid=IwAR2Mv1IquIM9tmCw4fC75I2-OIbVeO-lfvfUVQGy1yQOq3I1Lg2__6m_2tM\"><span style=\"color: #800000;\"><span style=\"color: #ff0000;\">วันพระที่ 28 มิถุนายน 2563</span></span></a></strong></span></p>,\n",
              " <p><span style=\"color: #800000;\"> <br/><strong><a href=\"/17225259/%E0%B8%82%E0%B9%89%E0%B8%AD%E0%B8%A1%E0%B8%B9%E0%B8%A5%E0%B8%AA%E0%B8%A0%E0%B8%B2%E0%B8%A7%E0%B8%B0%E0%B8%95%E0%B8%A5%E0%B8%B2%E0%B8%94%E0%B8%AA%E0%B8%B8%E0%B8%81%E0%B8%A3%E0%B8%A1%E0%B8%B5%E0%B8%8A%E0%B8%B5%E0%B8%A7%E0%B8%B4%E0%B8%95%E0%B8%AB%E0%B8%99%E0%B9%89%E0%B8%B2%E0%B8%9F%E0%B8%B2%E0%B8%A3%E0%B9%8C%E0%B8%A1-%E0%B8%AA%E0%B8%B1%E0%B8%9B%E0%B8%94%E0%B8%B2%E0%B8%AB%E0%B9%8C%E0%B8%97%E0%B8%B5%E0%B9%88-2863-%E0%B8%A7%E0%B8%B1%E0%B8%99%E0%B8%9E%E0%B8%A3%E0%B8%B0%E0%B8%97%E0%B8%B5%E0%B9%88-5-%E0%B8%81%E0%B8%A3%E0%B8%81%E0%B8%8E%E0%B8%B2%E0%B8%84%E0%B8%A1-2563?fbclid=IwAR373-cP4B42jiERjMtR3nkfWtA4MTNgM0jRi-gK6JdtCsXNeWg72tgoG3Y\"><span style=\"color: #800000;\">วันพระที่ 5 กรกฎาคม 2563</span></a></strong></span></p>,\n",
              " <p><span style=\"color: #800000;\"><strong><a href=\"/17226558/%E0%B8%82%E0%B9%89%E0%B8%AD%E0%B8%A1%E0%B8%B9%E0%B8%A5%E0%B8%AA%E0%B8%A0%E0%B8%B2%E0%B8%A7%E0%B8%B0%E0%B8%95%E0%B8%A5%E0%B8%B2%E0%B8%94%E0%B8%AA%E0%B8%B8%E0%B8%81%E0%B8%A3%E0%B8%A1%E0%B8%B5%E0%B8%8A%E0%B8%B5%E0%B8%A7%E0%B8%B4%E0%B8%95%E0%B8%AB%E0%B8%99%E0%B9%89%E0%B8%B2%E0%B8%9F%E0%B8%B2%E0%B8%A3%E0%B9%8C%E0%B8%A1-%E0%B8%AA%E0%B8%B1%E0%B8%9B%E0%B8%94%E0%B8%B2%E0%B8%AB%E0%B9%8C%E0%B8%97%E0%B8%B5%E0%B9%88-2963-%E0%B8%A7%E0%B8%B1%E0%B8%99%E0%B8%9E%E0%B8%A3%E0%B8%B0%E0%B8%97%E0%B8%B5%E0%B9%88-13-%E0%B8%81%E0%B8%A3%E0%B8%81%E0%B8%8E%E0%B8%B2%E0%B8%84%E0%B8%A1-2563?fbclid=IwAR1tSx_HAbypEqjl6GkIqvdDK2zIIkodsi-8IlFG1WPTF6Ap4XsHFlbeK-k\"><span style=\"color: #800000;\"><span style=\"color: #ff0000;\">วันพระที่ 13 กรกฎาคม 2563</span></span></a></strong></span></p>,\n",
              " <p><span style=\"color: #800000;\"><strong><a href=\"/17227590/%E0%B8%82%E0%B9%89%E0%B8%AD%E0%B8%A1%E0%B8%B9%E0%B8%A5%E0%B8%AA%E0%B8%A0%E0%B8%B2%E0%B8%A7%E0%B8%B0%E0%B8%95%E0%B8%A5%E0%B8%B2%E0%B8%94%E0%B8%AA%E0%B8%B8%E0%B8%81%E0%B8%A3%E0%B8%A1%E0%B8%B5%E0%B8%8A%E0%B8%B5%E0%B8%A7%E0%B8%B4%E0%B8%95%E0%B8%AB%E0%B8%99%E0%B9%89%E0%B8%B2%E0%B8%9F%E0%B8%B2%E0%B8%A3%E0%B9%8C%E0%B8%A1-%E0%B8%AA%E0%B8%B1%E0%B8%9B%E0%B8%94%E0%B8%B2%E0%B8%AB%E0%B9%8C%E0%B8%97%E0%B8%B5%E0%B9%88-3063-%E0%B8%A7%E0%B8%B1%E0%B8%99%E0%B8%9E%E0%B8%A3%E0%B8%B0%E0%B8%97%E0%B8%B5%E0%B9%88-20-%E0%B8%81%E0%B8%A3%E0%B8%81%E0%B8%8E%E0%B8%B2%E0%B8%84%E0%B8%A1-2563?fbclid=IwAR2xP0gYubxGM1rX2oWKE-3X3Y0Fwd3HXJs3IfGRjuQ5ln7aOwlFYetSEgA\"><span style=\"color: #800000;\"><span style=\"color: #ff0000;\">วันพระที่ 20 กรกฎาคม 2563</span></span></a></strong></span></p>,\n",
              " <p><span style=\"color: #800000;\"><strong><a href=\"/17228614/%E0%B8%82%E0%B9%89%E0%B8%AD%E0%B8%A1%E0%B8%B9%E0%B8%A5%E0%B8%AA%E0%B8%A0%E0%B8%B2%E0%B8%A7%E0%B8%B0%E0%B8%95%E0%B8%A5%E0%B8%B2%E0%B8%94%E0%B8%AA%E0%B8%B8%E0%B8%81%E0%B8%A3%E0%B8%A1%E0%B8%B5%E0%B8%8A%E0%B8%B5%E0%B8%A7%E0%B8%B4%E0%B8%95%E0%B8%AB%E0%B8%99%E0%B9%89%E0%B8%B2%E0%B8%9F%E0%B8%B2%E0%B8%A3%E0%B9%8C%E0%B8%A1-%E0%B8%AA%E0%B8%B1%E0%B8%9B%E0%B8%94%E0%B8%B2%E0%B8%AB%E0%B9%8C%E0%B8%97%E0%B8%B5%E0%B9%88-3163-%E0%B8%A7%E0%B8%B1%E0%B8%99%E0%B8%9E%E0%B8%A3%E0%B8%B0%E0%B8%97%E0%B8%B5%E0%B9%88-20-%E0%B8%81%E0%B8%A3%E0%B8%81%E0%B8%8E%E0%B8%B2%E0%B8%84%E0%B8%A1-2563?fbclid=IwAR0Dy2r3tzoSKgdWRSmVUdfnaL6s0ldiYvKGN5DNMO2w4L6p2G98ffcDE30\"><span style=\"color: #800000;\"><span style=\"color: #ff0000;\">วันพระที่ 28 กรกฎาคม 2563</span></span></a></strong></span></p>,\n",
              " <p><span style=\"color: #800000;\"><strong><a href=\"/17125175/%E0%B8%82%E0%B9%89%E0%B8%AD%E0%B8%A1%E0%B8%B9%E0%B8%A5%E0%B8%81%E0%B8%B2%E0%B8%A3%E0%B8%A7%E0%B8%B4%E0%B9%80%E0%B8%84%E0%B8%A3%E0%B8%B2%E0%B8%B0%E0%B8%AB%E0%B9%8C%E0%B8%81%E0%B8%B2%E0%B8%A3%E0%B8%95%E0%B8%A5%E0%B8%B2%E0%B8%94%E0%B8%AA%E0%B8%B8%E0%B8%81%E0%B8%A3%E0%B8%A1%E0%B8%B5%E0%B8%8A%E0%B8%B5%E0%B8%A7%E0%B8%B4%E0%B8%95-%E0%B8%A7%E0%B8%B1%E0%B8%99%E0%B8%9E%E0%B8%A3%E0%B8%B0%E0%B8%97%E0%B8%B5%E0%B9%88-31-%E0%B8%81%E0%B8%A3%E0%B8%81%E0%B8%8E%E0%B8%B2%E0%B8%84%E0%B8%A1-2562?fbclid=IwAR1WZJSTy8sRUxEUZwQ9tZQRsBLNiS-vvt7tuzfj_k6A9XAqecVHtGbRxPw\"><span style=\"color: #800000;\"> </span></a></strong></span></p>,\n",
              " <p><span style=\"color: #800000;\"> <strong><a href=\"/17229912/%E0%B8%82%E0%B9%89%E0%B8%AD%E0%B8%A1%E0%B8%B9%E0%B8%A5%E0%B8%AA%E0%B8%A0%E0%B8%B2%E0%B8%A7%E0%B8%B0%E0%B8%95%E0%B8%A5%E0%B8%B2%E0%B8%94%E0%B8%AA%E0%B8%B8%E0%B8%81%E0%B8%A3%E0%B8%A1%E0%B8%B5%E0%B8%8A%E0%B8%B5%E0%B8%A7%E0%B8%B4%E0%B8%95%E0%B8%AB%E0%B8%99%E0%B9%89%E0%B8%B2%E0%B8%9F%E0%B8%B2%E0%B8%A3%E0%B9%8C%E0%B8%A1-%E0%B8%AA%E0%B8%B1%E0%B8%9B%E0%B8%94%E0%B8%B2%E0%B8%AB%E0%B9%8C%E0%B8%97%E0%B8%B5%E0%B9%88-3263-%E0%B8%A7%E0%B8%B1%E0%B8%99%E0%B8%9E%E0%B8%A3%E0%B8%B0%E0%B8%97%E0%B8%B5%E0%B9%88-4-%E0%B8%AA%E0%B8%B4%E0%B8%87%E0%B8%AB%E0%B8%B2%E0%B8%84%E0%B8%A1-2563?fbclid=IwAR0SwcKiL8U_bFWvZQpnX3xA0PkJAHwLbnNw3jvYL0wwcfHHfMM_1F2iE2E\"><span style=\"color: #800000;\">วันพระที่ 4 สิงหาคม 2563</span></a></strong></span></p>,\n",
              " <p><span style=\"color: #800000;\"><strong><a href=\"/17231433/%E0%B8%82%E0%B9%89%E0%B8%AD%E0%B8%A1%E0%B8%B9%E0%B8%A5%E0%B8%AA%E0%B8%A0%E0%B8%B2%E0%B8%A7%E0%B8%B0%E0%B8%95%E0%B8%A5%E0%B8%B2%E0%B8%94%E0%B8%AA%E0%B8%B8%E0%B8%81%E0%B8%A3%E0%B8%A1%E0%B8%B5%E0%B8%8A%E0%B8%B5%E0%B8%A7%E0%B8%B4%E0%B8%95%E0%B8%AB%E0%B8%99%E0%B9%89%E0%B8%B2%E0%B8%9F%E0%B8%B2%E0%B8%A3%E0%B9%8C%E0%B8%A1-%E0%B8%AA%E0%B8%B1%E0%B8%9B%E0%B8%94%E0%B8%B2%E0%B8%AB%E0%B9%8C%E0%B8%97%E0%B8%B5%E0%B9%88-3363-%E0%B8%A7%E0%B8%B1%E0%B8%99%E0%B8%9E%E0%B8%A3%E0%B8%B0%E0%B8%97%E0%B8%B5%E0%B9%88-12-%E0%B8%AA%E0%B8%B4%E0%B8%87%E0%B8%AB%E0%B8%B2%E0%B8%84%E0%B8%A1-2563?fbclid=IwAR3UJfjGKOyW66dFNzL7LBIgWixmJ8dZEd823k4tgjnrtO8mWxL37ic0c64\"><span style=\"color: #800000;\"><span style=\"color: #ff0000;\">วันพระที่ 12 สิงหาคม 2563</span></span></a></strong></span></p>,\n",
              " <p><span style=\"color: #800000;\"><strong><a href=\"/17232528/%E0%B8%82%E0%B9%89%E0%B8%AD%E0%B8%A1%E0%B8%B9%E0%B8%A5%E0%B8%AA%E0%B8%A0%E0%B8%B2%E0%B8%A7%E0%B8%B0%E0%B8%95%E0%B8%A5%E0%B8%B2%E0%B8%94%E0%B8%AA%E0%B8%B8%E0%B8%81%E0%B8%A3%E0%B8%A1%E0%B8%B5%E0%B8%8A%E0%B8%B5%E0%B8%A7%E0%B8%B4%E0%B8%95%E0%B8%AB%E0%B8%99%E0%B9%89%E0%B8%B2%E0%B8%9F%E0%B8%B2%E0%B8%A3%E0%B9%8C%E0%B8%A1-%E0%B8%AA%E0%B8%B1%E0%B8%9B%E0%B8%94%E0%B8%B2%E0%B8%AB%E0%B9%8C%E0%B8%97%E0%B8%B5%E0%B9%88-3463-%E0%B8%A7%E0%B8%B1%E0%B8%99%E0%B8%9E%E0%B8%A3%E0%B8%B0%E0%B8%97%E0%B8%B5%E0%B9%88-18-%E0%B8%AA%E0%B8%B4%E0%B8%87%E0%B8%AB%E0%B8%B2%E0%B8%84%E0%B8%A1-2563\"><span style=\"color: #800000;\"><span style=\"color: #ff0000;\">วันพระที่ 18 สิงหาคม 2563</span></span></a></strong></span></p>,\n",
              " <p><span style=\"color: #800000;\"><strong><a href=\"/17234411/%E0%B8%82%E0%B9%89%E0%B8%AD%E0%B8%A1%E0%B8%B9%E0%B8%A5%E0%B8%AA%E0%B8%A0%E0%B8%B2%E0%B8%A7%E0%B8%B0%E0%B8%95%E0%B8%A5%E0%B8%B2%E0%B8%94%E0%B8%AA%E0%B8%B8%E0%B8%81%E0%B8%A3%E0%B8%A1%E0%B8%B5%E0%B8%8A%E0%B8%B5%E0%B8%A7%E0%B8%B4%E0%B8%95%E0%B8%AB%E0%B8%99%E0%B9%89%E0%B8%B2%E0%B8%9F%E0%B8%B2%E0%B8%A3%E0%B9%8C%E0%B8%A1-%E0%B8%AA%E0%B8%B1%E0%B8%9B%E0%B8%94%E0%B8%B2%E0%B8%AB%E0%B9%8C%E0%B8%97%E0%B8%B5%E0%B9%88-3563-%E0%B8%A7%E0%B8%B1%E0%B8%99%E0%B8%9E%E0%B8%A3%E0%B8%B0%E0%B8%97%E0%B8%B5%E0%B9%88-26-%E0%B8%AA%E0%B8%B4%E0%B8%87%E0%B8%AB%E0%B8%B2%E0%B8%84%E0%B8%A1-2563\"><span style=\"color: #800000;\"><span style=\"color: #ff0000;\">วันพระที่ 26 สิงหาคม 2563</span></span></a></strong></span></p>,\n",
              " <p><span style=\"color: #800000;\"><strong><a href=\"/17236093/%E0%B8%82%E0%B9%89%E0%B8%AD%E0%B8%A1%E0%B8%B9%E0%B8%A5%E0%B8%AA%E0%B8%A0%E0%B8%B2%E0%B8%A7%E0%B8%B0%E0%B8%95%E0%B8%A5%E0%B8%B2%E0%B8%94%E0%B8%AA%E0%B8%B8%E0%B8%81%E0%B8%A3%E0%B8%A1%E0%B8%B5%E0%B8%8A%E0%B8%B5%E0%B8%A7%E0%B8%B4%E0%B8%95%E0%B8%AB%E0%B8%99%E0%B9%89%E0%B8%B2%E0%B8%9F%E0%B8%B2%E0%B8%A3%E0%B9%8C%E0%B8%A1-%E0%B8%AA%E0%B8%B1%E0%B8%9B%E0%B8%94%E0%B8%B2%E0%B8%AB%E0%B9%8C%E0%B8%97%E0%B8%B5%E0%B9%88-3663-%E0%B8%A7%E0%B8%B1%E0%B8%99%E0%B8%9E%E0%B8%A3%E0%B8%B0%E0%B8%97%E0%B8%B5%E0%B9%88-2-%E0%B8%81%E0%B8%B1%E0%B8%99%E0%B8%A2%E0%B8%B2%E0%B8%A2%E0%B8%99-2563?fbclid=IwAR1qXR7uOr3tJ8ylPFTQJ8VQP4bESTDxGHGec3OeZzEBx8Uz0UewWZHBgR0\"><span style=\"color: #800000;\"><span style=\"color: #ff0000;\">วันพระที่ 2 กันยายน 2563</span></span></a></strong></span></p>,\n",
              " <p><span style=\"color: #800000;\"><strong><a href=\"/17237424/%E0%B8%82%E0%B9%89%E0%B8%AD%E0%B8%A1%E0%B8%B9%E0%B8%A5%E0%B8%AA%E0%B8%A0%E0%B8%B2%E0%B8%A7%E0%B8%B0%E0%B8%95%E0%B8%A5%E0%B8%B2%E0%B8%94%E0%B8%AA%E0%B8%B8%E0%B8%81%E0%B8%A3%E0%B8%A1%E0%B8%B5%E0%B8%8A%E0%B8%B5%E0%B8%A7%E0%B8%B4%E0%B8%95%E0%B8%AB%E0%B8%99%E0%B9%89%E0%B8%B2%E0%B8%9F%E0%B8%B2%E0%B8%A3%E0%B9%8C%E0%B8%A1-%E0%B8%AA%E0%B8%B1%E0%B8%9B%E0%B8%94%E0%B8%B2%E0%B8%AB%E0%B9%8C%E0%B8%97%E0%B8%B5%E0%B9%88-3763-%E0%B8%A7%E0%B8%B1%E0%B8%99%E0%B8%9E%E0%B8%A3%E0%B8%B0%E0%B8%97%E0%B8%B5%E0%B9%88-10-%E0%B8%81%E0%B8%B1%E0%B8%99%E0%B8%A2%E0%B8%B2%E0%B8%A2%E0%B8%99-2563?fbclid=IwAR2v3R8wFTY0szdyTxYuFhpQXIRJuLJ26N8D5UHPvv7rxDffpEnfTIHD4Cg\"><span style=\"color: #800000;\"><span style=\"color: #ff0000;\">วันพระที่ 10 กันยายน 2563</span></span></a></strong></span></p>,\n",
              " <p><span style=\"color: #800000;\"><strong><a href=\"/17238693/%E0%B8%82%E0%B9%89%E0%B8%AD%E0%B8%A1%E0%B8%B9%E0%B8%A5%E0%B8%AA%E0%B8%A0%E0%B8%B2%E0%B8%A7%E0%B8%B0%E0%B8%95%E0%B8%A5%E0%B8%B2%E0%B8%94%E0%B8%AA%E0%B8%B8%E0%B8%81%E0%B8%A3%E0%B8%A1%E0%B8%B5%E0%B8%8A%E0%B8%B5%E0%B8%A7%E0%B8%B4%E0%B8%95%E0%B8%AB%E0%B8%99%E0%B9%89%E0%B8%B2%E0%B8%9F%E0%B8%B2%E0%B8%A3%E0%B9%8C%E0%B8%A1-%E0%B8%AA%E0%B8%B1%E0%B8%9B%E0%B8%94%E0%B8%B2%E0%B8%AB%E0%B9%8C%E0%B8%97%E0%B8%B5%E0%B9%88-3863-%E0%B8%A7%E0%B8%B1%E0%B8%99%E0%B8%9E%E0%B8%A3%E0%B8%B0%E0%B8%97%E0%B8%B5%E0%B9%88-17-%E0%B8%81%E0%B8%B1%E0%B8%99%E0%B8%A2%E0%B8%B2%E0%B8%A2%E0%B8%99-2563?fbclid=IwAR29BYptjpswOV5qR9mH7d7QDiQIl1SDlXwQOVf-tDIO2igmlaVWEhkLd7w\"><span style=\"color: #800000;\"><span style=\"color: #ff0000;\">วันพระที่ 17 กันยายน 2563</span></span></a></strong></span></p>,\n",
              " <p><span style=\"color: #800000;\"><strong><a href=\"/17240272/%E0%B8%82%E0%B9%89%E0%B8%AD%E0%B8%A1%E0%B8%B9%E0%B8%A5%E0%B8%AA%E0%B8%A0%E0%B8%B2%E0%B8%A7%E0%B8%B0%E0%B8%95%E0%B8%A5%E0%B8%B2%E0%B8%94%E0%B8%AA%E0%B8%B8%E0%B8%81%E0%B8%A3%E0%B8%A1%E0%B8%B5%E0%B8%8A%E0%B8%B5%E0%B8%A7%E0%B8%B4%E0%B8%95%E0%B8%AB%E0%B8%99%E0%B9%89%E0%B8%B2%E0%B8%9F%E0%B8%B2%E0%B8%A3%E0%B9%8C%E0%B8%A1-%E0%B8%AA%E0%B8%B1%E0%B8%9B%E0%B8%94%E0%B8%B2%E0%B8%AB%E0%B9%8C%E0%B8%97%E0%B8%B5%E0%B9%88-3963-%E0%B8%A7%E0%B8%B1%E0%B8%99%E0%B8%9E%E0%B8%A3%E0%B8%B0%E0%B8%97%E0%B8%B5%E0%B9%88-25-%E0%B8%81%E0%B8%B1%E0%B8%99%E0%B8%A2%E0%B8%B2%E0%B8%A2%E0%B8%99-2563\"><span style=\"color: #800000;\"><span style=\"color: #ff0000;\">วันพระที่ 25 กันยายน 2563</span></span></a></strong></span></p>,\n",
              " <p><span style=\"color: #800000;\"><strong><a href=\"/17242178/%E0%B8%82%E0%B9%89%E0%B8%AD%E0%B8%A1%E0%B8%B9%E0%B8%A5%E0%B8%AA%E0%B8%A0%E0%B8%B2%E0%B8%A7%E0%B8%B0%E0%B8%95%E0%B8%A5%E0%B8%B2%E0%B8%94%E0%B8%AA%E0%B8%B8%E0%B8%81%E0%B8%A3%E0%B8%A1%E0%B8%B5%E0%B8%8A%E0%B8%B5%E0%B8%A7%E0%B8%B4%E0%B8%95%E0%B8%AB%E0%B8%99%E0%B9%89%E0%B8%B2%E0%B8%9F%E0%B8%B2%E0%B8%A3%E0%B9%8C%E0%B8%A1-%E0%B8%AA%E0%B8%B1%E0%B8%9B%E0%B8%94%E0%B8%B2%E0%B8%AB%E0%B9%8C%E0%B8%97%E0%B8%B5%E0%B9%88-4063-%E0%B8%A7%E0%B8%B1%E0%B8%99%E0%B8%9E%E0%B8%A3%E0%B8%B0%E0%B8%97%E0%B8%B5%E0%B9%88-2-%E0%B8%95%E0%B8%B8%E0%B8%A5%E0%B8%B2%E0%B8%84%E0%B8%A1-2563?fbclid=IwAR3vPYEHptbmQuzOlHsuGTnIVdrsVpREH3R0utfFB13vojwIhkopkNyiuec\"><span style=\"text-decoration: underline; color: #800000;\">วันพระที่ 2 ตุลาคม 2563</span></a></strong></span></p>,\n",
              " <p><span style=\"color: #800000;\"><strong><a href=\"/17244558/%E0%B8%82%E0%B9%89%E0%B8%AD%E0%B8%A1%E0%B8%B9%E0%B8%A5%E0%B8%AA%E0%B8%A0%E0%B8%B2%E0%B8%A7%E0%B8%B0%E0%B8%95%E0%B8%A5%E0%B8%B2%E0%B8%94%E0%B8%AA%E0%B8%B8%E0%B8%81%E0%B8%A3%E0%B8%A1%E0%B8%B5%E0%B8%8A%E0%B8%B5%E0%B8%A7%E0%B8%B4%E0%B8%95%E0%B8%AB%E0%B8%99%E0%B9%89%E0%B8%B2%E0%B8%9F%E0%B8%B2%E0%B8%A3%E0%B9%8C%E0%B8%A1-%E0%B8%AA%E0%B8%B1%E0%B8%9B%E0%B8%94%E0%B8%B2%E0%B8%AB%E0%B9%8C%E0%B8%97%E0%B8%B5%E0%B9%88-4163-%E0%B8%A7%E0%B8%B1%E0%B8%99%E0%B8%9E%E0%B8%A3%E0%B8%B0%E0%B8%97%E0%B8%B5%E0%B9%88-10-%E0%B8%95%E0%B8%B8%E0%B8%A5%E0%B8%B2%E0%B8%84%E0%B8%A1-2563?fbclid=IwAR2zwVwPAt9VX85TrwOOPl4OZYtwNmJwOZIoVcmCLn88UekfgIecU5liTMY\"><span style=\"color: #800000;\"><span style=\"text-decoration: underline;\">วันพระที่ 10 ตุลาคม 2563</span></span></a></strong></span></p>,\n",
              " <p><span style=\"color: #800000;\"><strong><a href=\"/17246342/%E0%B8%82%E0%B9%89%E0%B8%AD%E0%B8%A1%E0%B8%B9%E0%B8%A5%E0%B8%AA%E0%B8%A0%E0%B8%B2%E0%B8%A7%E0%B8%B0%E0%B8%95%E0%B8%A5%E0%B8%B2%E0%B8%94%E0%B8%AA%E0%B8%B8%E0%B8%81%E0%B8%A3%E0%B8%A1%E0%B8%B5%E0%B8%8A%E0%B8%B5%E0%B8%A7%E0%B8%B4%E0%B8%95%E0%B8%AB%E0%B8%99%E0%B9%89%E0%B8%B2%E0%B8%9F%E0%B8%B2%E0%B8%A3%E0%B9%8C%E0%B8%A1-%E0%B8%AA%E0%B8%B1%E0%B8%9B%E0%B8%94%E0%B8%B2%E0%B8%AB%E0%B9%8C%E0%B8%97%E0%B8%B5%E0%B9%88-4263-%E0%B8%A7%E0%B8%B1%E0%B8%99%E0%B8%9E%E0%B8%A3%E0%B8%B0%E0%B8%97%E0%B8%B5%E0%B9%88-16-%E0%B8%95%E0%B8%B8%E0%B8%A5%E0%B8%B2%E0%B8%84%E0%B8%A1-2563?fbclid=IwAR21jo3HOCMIb99jyrPWogYryQQhH6_WmFIBdM8a8h71d3XDiBzwLwD9pkU\"><span style=\"color: #800000;\"><span style=\"text-decoration: underline;\">วันพระที่ 16 ตุลาคม 2563</span></span></a></strong></span></p>,\n",
              " <p><span style=\"color: #800000;\"><strong><a href=\"/17248224/%E0%B8%82%E0%B9%89%E0%B8%AD%E0%B8%A1%E0%B8%B9%E0%B8%A5%E0%B8%AA%E0%B8%A0%E0%B8%B2%E0%B8%A7%E0%B8%B0%E0%B8%95%E0%B8%A5%E0%B8%B2%E0%B8%94%E0%B8%AA%E0%B8%B8%E0%B8%81%E0%B8%A3%E0%B8%A1%E0%B8%B5%E0%B8%8A%E0%B8%B5%E0%B8%A7%E0%B8%B4%E0%B8%95%E0%B8%AB%E0%B8%99%E0%B9%89%E0%B8%B2%E0%B8%9F%E0%B8%B2%E0%B8%A3%E0%B9%8C%E0%B8%A1-%E0%B8%AA%E0%B8%B1%E0%B8%9B%E0%B8%94%E0%B8%B2%E0%B8%AB%E0%B9%8C%E0%B8%97%E0%B8%B5%E0%B9%88-4363-%E0%B8%A7%E0%B8%B1%E0%B8%99%E0%B8%9E%E0%B8%A3%E0%B8%B0%E0%B8%97%E0%B8%B5%E0%B9%88-24-%E0%B8%95%E0%B8%B8%E0%B8%A5%E0%B8%B2%E0%B8%84%E0%B8%A1-2563?fbclid=IwAR01aciB7bttQCdeQEcOiKxrzRmCauf_fD-rnngJEloKHwOdC67rx8B2mCU\"><span style=\"color: #800000;\"><span style=\"text-decoration: underline;\">วันพระที่ 24 ตุลาคม 2563</span></span></a></strong></span></p>,\n",
              " <p><span style=\"color: #800000;\"><strong><a href=\"/17249692/%E0%B8%82%E0%B9%89%E0%B8%AD%E0%B8%A1%E0%B8%B9%E0%B8%A5%E0%B8%AA%E0%B8%A0%E0%B8%B2%E0%B8%A7%E0%B8%B0%E0%B8%95%E0%B8%A5%E0%B8%B2%E0%B8%94%E0%B8%AA%E0%B8%B8%E0%B8%81%E0%B8%A3%E0%B8%A1%E0%B8%B5%E0%B8%8A%E0%B8%B5%E0%B8%A7%E0%B8%B4%E0%B8%95%E0%B8%AB%E0%B8%99%E0%B9%89%E0%B8%B2%E0%B8%9F%E0%B8%B2%E0%B8%A3%E0%B9%8C%E0%B8%A1-%E0%B8%AA%E0%B8%B1%E0%B8%9B%E0%B8%94%E0%B8%B2%E0%B8%AB%E0%B9%8C%E0%B8%97%E0%B8%B5%E0%B9%88-4463-%E0%B8%A7%E0%B8%B1%E0%B8%99%E0%B8%9E%E0%B8%A3%E0%B8%B0%E0%B8%97%E0%B8%B5%E0%B9%88-31-%E0%B8%95%E0%B8%B8%E0%B8%A5%E0%B8%B2%E0%B8%84%E0%B8%A1-2563?fbclid=IwAR01aciB7bttQCdeQEcOiKxrzRmCauf_fD-rnngJEloKHwOdC67rx8B2mCU\"><span style=\"color: #800000;\"><span style=\"text-decoration: underline;\">วันพระที่ 31 ตุลาคม 2563</span> </span></a></strong></span></p>,\n",
              " <p><span style=\"color: #800000;\"><strong><a href=\"/17251157/%E0%B8%82%E0%B9%89%E0%B8%AD%E0%B8%A1%E0%B8%B9%E0%B8%A5%E0%B8%81%E0%B8%B2%E0%B8%A3%E0%B8%A7%E0%B8%B4%E0%B9%80%E0%B8%84%E0%B8%A3%E0%B8%B2%E0%B8%B0%E0%B8%AB%E0%B9%8C%E0%B8%81%E0%B8%B2%E0%B8%A3%E0%B8%95%E0%B8%A5%E0%B8%B2%E0%B8%94%E0%B8%AA%E0%B8%B8%E0%B8%81%E0%B8%A3%E0%B8%A1%E0%B8%B5%E0%B8%8A%E0%B8%B5%E0%B8%A7%E0%B8%B4%E0%B8%95-%E0%B8%A7%E0%B8%B1%E0%B8%99%E0%B8%9E%E0%B8%A3%E0%B8%B0%E0%B8%97%E0%B8%B5%E0%B9%88-9-%E0%B8%9E%E0%B8%A4%E0%B8%A8%E0%B8%88%E0%B8%B4%E0%B8%81%E0%B8%B2%E0%B8%A2%E0%B8%99-2563?fbclid=IwAR3PbAayVSbMxuq2ITAuKpGSKH439jCq5ldLJ0TZPf41kxSTNJuYoE6GCHE\"><span style=\"color: #800000;\"><span style=\"text-decoration: underline;\">วันพระที่ 8 พฤศจิกายน 2563</span></span></a></strong></span></p>,\n",
              " <p><span style=\"color: #800000;\"><strong><a href=\"/17252427/%E0%B8%82%E0%B9%89%E0%B8%AD%E0%B8%A1%E0%B8%B9%E0%B8%A5%E0%B8%AA%E0%B8%A0%E0%B8%B2%E0%B8%A7%E0%B8%B0%E0%B8%95%E0%B8%A5%E0%B8%B2%E0%B8%94%E0%B8%AA%E0%B8%B8%E0%B8%81%E0%B8%A3%E0%B8%A1%E0%B8%B5%E0%B8%8A%E0%B8%B5%E0%B8%A7%E0%B8%B4%E0%B8%95%E0%B8%AB%E0%B8%99%E0%B9%89%E0%B8%B2%E0%B8%9F%E0%B8%B2%E0%B8%A3%E0%B9%8C%E0%B8%A1-%E0%B8%AA%E0%B8%B1%E0%B8%9B%E0%B8%94%E0%B8%B2%E0%B8%AB%E0%B9%8C%E0%B8%97%E0%B8%B5%E0%B9%88-472563-%E0%B8%A7%E0%B8%B1%E0%B8%99%E0%B8%9E%E0%B8%A3%E0%B8%B0%E0%B8%97%E0%B8%B5%E0%B9%88-15-%E0%B8%9E%E0%B8%A4%E0%B8%A8%E0%B8%88%E0%B8%B4%E0%B8%81%E0%B8%B2%E0%B8%A2%E0%B8%99-2563?fbclid=IwAR1EU3AmZzqX7gBp2S9uaCk-VofmBadKc7ZgHrPKVwaRTKjZZC9rfZ_81WM\"><span style=\"color: #800000;\"><span style=\"text-decoration: underline;\">วันพระที่ 15 พฤศจิกายน 2563</span></span></a></strong></span></p>,\n",
              " <p><span style=\"color: #800000;\"><strong><a href=\"/17253705/%E0%B8%82%E0%B9%89%E0%B8%AD%E0%B8%A1%E0%B8%B9%E0%B8%A5%E0%B8%AA%E0%B8%A0%E0%B8%B2%E0%B8%A7%E0%B8%B0%E0%B8%95%E0%B8%A5%E0%B8%B2%E0%B8%94%E0%B8%AA%E0%B8%B8%E0%B8%81%E0%B8%A3%E0%B8%A1%E0%B8%B5%E0%B8%8A%E0%B8%B5%E0%B8%A7%E0%B8%B4%E0%B8%95%E0%B8%AB%E0%B8%99%E0%B9%89%E0%B8%B2%E0%B8%9F%E0%B8%B2%E0%B8%A3%E0%B9%8C%E0%B8%A1-%E0%B8%AA%E0%B8%B1%E0%B8%9B%E0%B8%94%E0%B8%B2%E0%B8%AB%E0%B9%8C%E0%B8%97%E0%B8%B5%E0%B9%88-482563?fbclid=IwAR2qUQ4UBotdIbhzECfJ_w26MLdCtGFpXXyX_KB1lYcuYMO2DcmE2wGZOxc\"><span style=\"color: #800000;\"><span style=\"text-decoration: underline;\"><span style=\"color: #ff0000; text-decoration: underline;\">วันพระที่ 23 พฤศจิกายน 2563</span></span></span></a></strong></span></p>,\n",
              " <p><span style=\"color: #800000;\"><strong><a href=\"/17254840/%E0%B8%82%E0%B9%89%E0%B8%AD%E0%B8%A1%E0%B8%B9%E0%B8%A5%E0%B8%AA%E0%B8%A0%E0%B8%B2%E0%B8%A7%E0%B8%B0%E0%B8%95%E0%B8%A5%E0%B8%B2%E0%B8%94%E0%B8%AA%E0%B8%B8%E0%B8%81%E0%B8%A3%E0%B8%A1%E0%B8%B5%E0%B8%8A%E0%B8%B5%E0%B8%A7%E0%B8%B4%E0%B8%95%E0%B8%AB%E0%B8%99%E0%B9%89%E0%B8%B2%E0%B8%9F%E0%B8%B2%E0%B8%A3%E0%B9%8C%E0%B8%A1-%E0%B8%AA%E0%B8%B1%E0%B8%9B%E0%B8%94%E0%B8%B2%E0%B8%AB%E0%B9%8C%E0%B8%97%E0%B8%B5%E0%B9%88-492563\"><span style=\"color: #800000;\"><span style=\"text-decoration: underline;\">วันพระที่ 30 พฤศจิกายน 2563</span></span></a></strong></span></p>,\n",
              " <p><span style=\"color: #800000;\"><strong><a href=\"/17256233/%E0%B8%82%E0%B9%89%E0%B8%AD%E0%B8%A1%E0%B8%B9%E0%B8%A5%E0%B8%AA%E0%B8%A0%E0%B8%B2%E0%B8%A7%E0%B8%B0%E0%B8%95%E0%B8%A5%E0%B8%B2%E0%B8%94%E0%B8%AA%E0%B8%B8%E0%B8%81%E0%B8%A3%E0%B8%A1%E0%B8%B5%E0%B8%8A%E0%B8%B5%E0%B8%A7%E0%B8%B4%E0%B8%95%E0%B8%AB%E0%B8%99%E0%B9%89%E0%B8%B2%E0%B8%9F%E0%B8%B2%E0%B8%A3%E0%B9%8C%E0%B8%A1%E0%B8%A7%E0%B8%B1%E0%B8%99%E0%B8%9E%E0%B8%A3%E0%B8%B0%E0%B8%97%E0%B8%B5%E0%B9%88-8-%E0%B8%98%E0%B8%B1%E0%B8%99%E0%B8%A7%E0%B8%B2%E0%B8%84%E0%B8%A1-2563?fbclid=IwAR2w5Iy6DFhiY_9GXUwD-zv4S1BChkv5WOeTgI6UaK1qzwSdS0rxAJd5ANI\"><span style=\"color: #800000;\"><span style=\"text-decoration: underline;\"><span style=\"text-decoration: underline;\">วันพระที่ 8 ธันวาคม 2563</span></span></span></a></strong></span></p>,\n",
              " <p><span style=\"color: #800000;\"><strong><a href=\"/17256994/%E0%B8%82%E0%B9%89%E0%B8%AD%E0%B8%A1%E0%B8%B9%E0%B8%A5%E0%B8%AA%E0%B8%A0%E0%B8%B2%E0%B8%A7%E0%B8%B0%E0%B8%95%E0%B8%A5%E0%B8%B2%E0%B8%94%E0%B8%AA%E0%B8%B8%E0%B8%81%E0%B8%A3%E0%B8%A1%E0%B8%B5%E0%B8%8A%E0%B8%B5%E0%B8%A7%E0%B8%B4%E0%B8%95%E0%B8%AB%E0%B8%99%E0%B9%89%E0%B8%B2%E0%B8%9F%E0%B8%B2%E0%B8%A3%E0%B9%8C%E0%B8%A1-%E0%B8%AA%E0%B8%B1%E0%B8%9B%E0%B8%94%E0%B8%B2%E0%B8%AB%E0%B9%8C%E0%B8%97%E0%B8%B5%E0%B9%88-512563-%E0%B8%A7%E0%B8%B1%E0%B8%99%E0%B8%9E%E0%B8%A3%E0%B8%B0%E0%B8%97%E0%B8%B5%E0%B9%88-14-%E0%B8%98%E0%B8%B1%E0%B8%99%E0%B8%A7%E0%B8%B2%E0%B8%84%E0%B8%A1-2563?fbclid=IwAR1Inv7D29oebmX0XEMZmR0ciZvJD2cyIVfdXpRwSdEMIWPUrWuBKQ_EFLA\"><span style=\"color: #800000;\"><span style=\"text-decoration: underline;\"><span style=\"text-decoration: underline;\">วันพระที่ 14 ธันวาคม 2563</span></span></span></a></strong></span></p>,\n",
              " <p><span style=\"color: #800000;\"><strong><a href=\"/17257763/%E0%B8%82%E0%B9%89%E0%B8%AD%E0%B8%A1%E0%B8%B9%E0%B8%A5%E0%B8%AA%E0%B8%A0%E0%B8%B2%E0%B8%A7%E0%B8%B0%E0%B8%95%E0%B8%A5%E0%B8%B2%E0%B8%94%E0%B8%AA%E0%B8%B8%E0%B8%81%E0%B8%A3%E0%B8%A1%E0%B8%B5%E0%B8%8A%E0%B8%B5%E0%B8%A7%E0%B8%B4%E0%B8%95%E0%B8%AB%E0%B8%99%E0%B9%89%E0%B8%B2%E0%B8%9F%E0%B8%B2%E0%B8%A3%E0%B9%8C%E0%B8%A1-%E0%B8%AA%E0%B8%B1%E0%B8%9B%E0%B8%94%E0%B8%B2%E0%B8%AB%E0%B9%8C%E0%B8%97%E0%B8%B5%E0%B9%88-522563-%E0%B8%A7%E0%B8%B1%E0%B8%99%E0%B8%9E%E0%B8%A3%E0%B8%B0%E0%B8%97%E0%B8%B5%E0%B9%88-22-%E0%B8%98%E0%B8%B1%E0%B8%99%E0%B8%A7%E0%B8%B2%E0%B8%84%E0%B8%A1-2563?fbclid=IwAR0t9wN40myfJQ6lsJiZiS5cxpx22GGcyTxggrKHmV5UO9FeW8kovredifU\"><span style=\"color: #800000;\"><span style=\"text-decoration: underline;\"><span style=\"text-decoration: underline;\">วันพระที่ 22 ธันวาคม 2563</span></span></span></a></strong></span></p>,\n",
              " <p><span style=\"color: #800000;\"><strong><a href=\"/17258698/%E0%B8%82%E0%B9%89%E0%B8%AD%E0%B8%A1%E0%B8%B9%E0%B8%A5%E0%B8%81%E0%B8%B2%E0%B8%A3%E0%B8%A7%E0%B8%B4%E0%B9%80%E0%B8%84%E0%B8%A3%E0%B8%B2%E0%B8%B0%E0%B8%AB%E0%B9%8C%E0%B8%95%E0%B8%A5%E0%B8%B2%E0%B8%94%E0%B8%AA%E0%B8%B8%E0%B8%81%E0%B8%A3%E0%B8%A1%E0%B8%B5%E0%B8%8A%E0%B8%B5%E0%B8%A7%E0%B8%B4%E0%B8%95-%E0%B8%A7%E0%B8%B1%E0%B8%99%E0%B8%9E%E0%B8%A3%E0%B8%B0%E0%B8%97%E0%B8%B5%E0%B9%88-29-%E0%B8%98%E0%B8%B1%E0%B8%99%E0%B8%A7%E0%B8%B2%E0%B8%84%E0%B8%A1-2563?fbclid=IwAR3zqkTja0aQ3reFWDNJKNhIaWwedZ679HWLJvQ5UJ00zoUc3WasiC2tvwU\"><span style=\"color: #800000;\"><span style=\"text-decoration: underline;\"><span style=\"text-decoration: underline;\">วันพระที่ 29 ธันวาคม 2563</span></span></span></a></strong></span></p>,\n",
              " <p style=\"text-align: center;\"> </p>,\n",
              " <p style=\"text-align: center;\"> <strong style=\"color: #800000; font-size: 18pt; text-align: center;\">ราคาสุกรขุนปี 2562</strong></p>,\n",
              " <p style=\"text-align: center;\"><span style=\"color: #800000;\"><strong><a href=\"/17054319/%E0%B8%AA%E0%B8%96%E0%B8%B2%E0%B8%99%E0%B8%81%E0%B8%B2%E0%B8%A3%E0%B8%93%E0%B9%8C%E0%B8%A3%E0%B8%B2%E0%B8%84%E0%B8%B2%E0%B8%AA%E0%B8%B8%E0%B8%81%E0%B8%A3%E0%B8%A1%E0%B8%B5%E0%B8%8A%E0%B8%B5%E0%B8%A7%E0%B8%B4%E0%B8%95%E0%B8%AB%E0%B8%99%E0%B9%89%E0%B8%B2%E0%B8%9F%E0%B8%B2%E0%B8%A3%E0%B9%8C%E0%B8%A1-%E0%B8%A7%E0%B8%B1%E0%B8%99%E0%B8%9E%E0%B8%A3%E0%B8%B0%E0%B8%97%E0%B8%B5%E0%B9%88-5-%E0%B8%A1%E0%B8%81%E0%B8%A3%E0%B8%B2%E0%B8%84%E0%B8%A1-2562\"><span style=\"color: #800000;\">วันพระที่ 5 มกราคม 2562</span></a></strong></span></p>,\n",
              " <p style=\"text-align: center;\"><span style=\"color: #800000;\"><a href=\"/17063068/%E0%B8%AA%E0%B8%96%E0%B8%B2%E0%B8%99%E0%B8%81%E0%B8%B2%E0%B8%A3%E0%B8%93%E0%B9%8C%E0%B8%A3%E0%B8%B2%E0%B8%84%E0%B8%B2%E0%B8%AA%E0%B8%B8%E0%B8%81%E0%B8%A3%E0%B8%A1%E0%B8%B5%E0%B8%8A%E0%B8%B5%E0%B8%A7%E0%B8%B4%E0%B8%95%E0%B8%AB%E0%B8%99%E0%B9%89%E0%B8%B2%E0%B8%9F%E0%B8%B2%E0%B8%A3%E0%B9%8C%E0%B8%A1-%E0%B8%A7%E0%B8%B1%E0%B8%99%E0%B8%9E%E0%B8%A3%E0%B8%B0%E0%B8%97%E0%B8%B5%E0%B9%88-13-%E0%B8%A1%E0%B8%81%E0%B8%A3%E0%B8%B2%E0%B8%84%E0%B8%A1-2562\"><span style=\"color: #800000;\"><strong>วันพระที่ 13 มกราคม 2562</strong></span></a></span></p>,\n",
              " <p style=\"text-align: center;\"><span style=\"color: #800000;\"><strong><a href=\"/17062009/%E0%B8%AA%E0%B8%96%E0%B8%B2%E0%B8%99%E0%B8%81%E0%B8%B2%E0%B8%A3%E0%B8%93%E0%B9%8C%E0%B8%A3%E0%B8%B2%E0%B8%84%E0%B8%B2%E0%B8%AA%E0%B8%B8%E0%B8%81%E0%B8%A3%E0%B8%A1%E0%B8%B5%E0%B8%8A%E0%B8%B5%E0%B8%A7%E0%B8%B4%E0%B8%95%E0%B8%AB%E0%B8%99%E0%B9%89%E0%B8%B2%E0%B8%9F%E0%B8%B2%E0%B8%A3%E0%B9%8C%E0%B8%A1-%E0%B8%A7%E0%B8%B1%E0%B8%99%E0%B8%9E%E0%B8%A3%E0%B8%B0%E0%B8%97%E0%B8%B5%E0%B9%88-20-%E0%B8%A1%E0%B8%81%E0%B8%A3%E0%B8%B2%E0%B8%84%E0%B8%A1-2562\"><span style=\"color: #800000;\">วันพระที่ 20 มกราคม 2562</span></a></strong></span></p>,\n",
              " <p style=\"text-align: center;\"><strong><span style=\"color: #800000;\"><a href=\"/17068785/%E0%B8%AA%E0%B8%96%E0%B8%B2%E0%B8%99%E0%B8%81%E0%B8%B2%E0%B8%A3%E0%B8%93%E0%B9%8C%E0%B8%A3%E0%B8%B2%E0%B8%84%E0%B8%B2%E0%B8%AA%E0%B8%B8%E0%B8%81%E0%B8%A3%E0%B8%A1%E0%B8%B5%E0%B8%8A%E0%B8%B5%E0%B8%A7%E0%B8%B4%E0%B8%95%E0%B8%AB%E0%B8%99%E0%B9%89%E0%B8%B2%E0%B8%9F%E0%B8%B2%E0%B8%A3%E0%B9%8C%E0%B8%A1-%E0%B8%A7%E0%B8%B1%E0%B8%99%E0%B8%9E%E0%B8%A3%E0%B8%B0%E0%B8%97%E0%B8%B5%E0%B9%88-28-%E0%B8%A1%E0%B8%81%E0%B8%A3%E0%B8%B2%E0%B8%84%E0%B8%A1-2562\"><span style=\"color: #800000;\">วันพระที่ 28 มกราคม 2562</span></a></span></strong></p>,\n",
              " <p><span style=\"color: #ff6600;\"> </span></p>,\n",
              " <p style=\"text-align: center;\"><strong><span style=\"color: #ff6600;\"> <span style=\"color: #800000;\"><a href=\"/17068749/%E0%B8%AA%E0%B8%96%E0%B8%B2%E0%B8%99%E0%B8%81%E0%B8%B2%E0%B8%A3%E0%B8%93%E0%B9%8C%E0%B8%A3%E0%B8%B2%E0%B8%84%E0%B8%B2%E0%B8%AA%E0%B8%B8%E0%B8%81%E0%B8%A3%E0%B8%A1%E0%B8%B5%E0%B8%8A%E0%B8%B5%E0%B8%A7%E0%B8%B4%E0%B8%95%E0%B8%AB%E0%B8%99%E0%B9%89%E0%B8%B2%E0%B8%9F%E0%B8%B2%E0%B8%A3%E0%B9%8C%E0%B8%A1-%E0%B8%A7%E0%B8%B1%E0%B8%99%E0%B8%9E%E0%B8%A3%E0%B8%B0%E0%B8%97%E0%B8%B5%E0%B9%88-4-%E0%B8%81%E0%B8%B8%E0%B8%A1%E0%B8%A0%E0%B8%B2%E0%B8%9E%E0%B8%B1%E0%B8%99%E0%B8%98%E0%B9%8C-2562\"><span style=\"color: #800000;\">วันพระที่ 4 กุมภาพันธ์ 2562</span></a></span></span></strong></p>,\n",
              " <p style=\"text-align: center;\"><strong><span style=\"color: #800000;\"><a href=\"/17070811/%E0%B8%AA%E0%B8%96%E0%B8%B2%E0%B8%99%E0%B8%81%E0%B8%B2%E0%B8%A3%E0%B8%93%E0%B9%8C%E0%B8%A3%E0%B8%B2%E0%B8%84%E0%B8%B2%E0%B8%AA%E0%B8%B8%E0%B8%81%E0%B8%A3%E0%B8%A1%E0%B8%B5%E0%B8%8A%E0%B8%B5%E0%B8%A7%E0%B8%B4%E0%B8%95%E0%B8%AB%E0%B8%99%E0%B9%89%E0%B8%B2%E0%B8%9F%E0%B8%B2%E0%B8%A3%E0%B9%8C%E0%B8%A1-%E0%B8%A7%E0%B8%B1%E0%B8%99%E0%B8%9E%E0%B8%A3%E0%B8%B0%E0%B8%97%E0%B8%B5%E0%B9%88-12-%E0%B8%81%E0%B8%B8%E0%B8%A1%E0%B8%A0%E0%B8%B2%E0%B8%9E%E0%B8%B1%E0%B8%99%E0%B8%98%E0%B9%8C-2562\"><span style=\"color: #800000;\">วันพระที่ 12 กุมภาพันธ์ 2562</span></a></span></strong></p>,\n",
              " <p style=\"text-align: center;\"><strong><span style=\"color: #800000;\"><a href=\"/17073489/%E0%B8%AA%E0%B8%96%E0%B8%B2%E0%B8%99%E0%B8%81%E0%B8%B2%E0%B8%A3%E0%B8%93%E0%B9%8C%E0%B8%A3%E0%B8%B2%E0%B8%84%E0%B8%B2%E0%B8%AA%E0%B8%B8%E0%B8%81%E0%B8%A3%E0%B8%A1%E0%B8%B5%E0%B8%8A%E0%B8%B5%E0%B8%A7%E0%B8%B4%E0%B8%95%E0%B8%AB%E0%B8%99%E0%B9%89%E0%B8%B2%E0%B8%9F%E0%B8%B2%E0%B8%A3%E0%B9%8C%E0%B8%A1-%E0%B8%A7%E0%B8%B1%E0%B8%99%E0%B8%9E%E0%B8%A3%E0%B8%B0%E0%B8%97%E0%B8%B5%E0%B9%88-19-%E0%B8%81%E0%B8%B8%E0%B8%A1%E0%B8%A0%E0%B8%B2%E0%B8%9E%E0%B8%B1%E0%B8%99%E0%B8%98%E0%B9%8C-2562\"><span style=\"color: #800000;\">วันพระที่ 19 กุมภาพันธ์ 2562</span></a></span></strong></p>,\n",
              " <p style=\"text-align: center;\"><strong><span style=\"color: #800000;\"><a href=\"/17075745/%E0%B8%AA%E0%B8%96%E0%B8%B2%E0%B8%99%E0%B8%81%E0%B8%B2%E0%B8%A3%E0%B8%93%E0%B9%8C%E0%B8%A3%E0%B8%B2%E0%B8%84%E0%B8%B2%E0%B8%AA%E0%B8%B8%E0%B8%81%E0%B8%A3%E0%B8%A1%E0%B8%B5%E0%B8%8A%E0%B8%B5%E0%B8%A7%E0%B8%B4%E0%B8%95%E0%B8%AB%E0%B8%99%E0%B9%89%E0%B8%B2%E0%B8%9F%E0%B8%B2%E0%B8%A3%E0%B9%8C%E0%B8%A1-%E0%B8%A7%E0%B8%B1%E0%B8%99%E0%B8%9E%E0%B8%A3%E0%B8%B0%E0%B8%97%E0%B8%B5%E0%B9%88-27-%E0%B8%81%E0%B8%B8%E0%B8%A1%E0%B8%A0%E0%B8%B2%E0%B8%9E%E0%B8%B1%E0%B8%99%E0%B8%98%E0%B9%8C-2562\"><span style=\"color: #800000;\">วันพระที่ 27 กุมภาพันธ์ 2562</span></a></span></strong></p>,\n",
              " <p style=\"text-align: center;\"><strong><span style=\"color: #ff6600;\"> <span style=\"color: #800000;\"><a href=\"/17077333/%E0%B8%AA%E0%B8%96%E0%B8%B2%E0%B8%99%E0%B8%81%E0%B8%B2%E0%B8%A3%E0%B8%93%E0%B9%8C%E0%B8%A3%E0%B8%B2%E0%B8%84%E0%B8%B2%E0%B8%AA%E0%B8%B8%E0%B8%81%E0%B8%A3%E0%B8%A1%E0%B8%B5%E0%B8%8A%E0%B8%B5%E0%B8%A7%E0%B8%B4%E0%B8%95%E0%B8%AB%E0%B8%99%E0%B9%89%E0%B8%B2%E0%B8%9F%E0%B8%B2%E0%B8%A3%E0%B9%8C%E0%B8%A1-%E0%B8%A7%E0%B8%B1%E0%B8%99%E0%B8%9E%E0%B8%A3%E0%B8%B0%E0%B8%97%E0%B8%B5%E0%B9%88-5-%E0%B8%A1%E0%B8%B5%E0%B8%99%E0%B8%B2%E0%B8%84%E0%B8%A1-2562\"><span style=\"color: #800000;\">วันพระที่ 5 มีนาคม 2562</span></a></span></span></strong></p>,\n",
              " <p style=\"text-align: center;\"><strong><span style=\"color: #800000;\"><a href=\"/17080457/%E0%B8%AA%E0%B8%96%E0%B8%B2%E0%B8%99%E0%B8%81%E0%B8%B2%E0%B8%A3%E0%B8%93%E0%B9%8C%E0%B8%A3%E0%B8%B2%E0%B8%84%E0%B8%B2%E0%B8%AA%E0%B8%B8%E0%B8%81%E0%B8%A3%E0%B8%A1%E0%B8%B5%E0%B8%8A%E0%B8%B5%E0%B8%A7%E0%B8%B4%E0%B8%95%E0%B8%AB%E0%B8%99%E0%B9%89%E0%B8%B2%E0%B8%9F%E0%B8%B2%E0%B8%A3%E0%B9%8C%E0%B8%A1-%E0%B8%A7%E0%B8%B1%E0%B8%99%E0%B8%9E%E0%B8%A3%E0%B8%B0%E0%B8%97%E0%B8%B5%E0%B9%88-13-%E0%B8%A1%E0%B8%B5%E0%B8%99%E0%B8%B2%E0%B8%84%E0%B8%A1-2562\"><span style=\"color: #800000;\">วันพระที่ 13 มีนาคม 2562</span></a></span></strong></p>,\n",
              " <p style=\"text-align: center;\"><strong><span style=\"color: #800000;\"><a href=\"/17082787/%E0%B8%AA%E0%B8%96%E0%B8%B2%E0%B8%99%E0%B8%81%E0%B8%B2%E0%B8%A3%E0%B8%93%E0%B9%8C%E0%B8%A3%E0%B8%B2%E0%B8%84%E0%B8%B2%E0%B8%AA%E0%B8%B8%E0%B8%81%E0%B8%A3%E0%B8%A1%E0%B8%B5%E0%B8%8A%E0%B8%B5%E0%B8%A7%E0%B8%B4%E0%B8%95%E0%B8%AB%E0%B8%99%E0%B9%89%E0%B8%B2%E0%B8%9F%E0%B8%B2%E0%B8%A3%E0%B9%8C%E0%B8%A1-%E0%B8%A7%E0%B8%B1%E0%B8%99%E0%B8%9E%E0%B8%A3%E0%B8%B0%E0%B8%97%E0%B8%B5%E0%B9%88-20-%E0%B8%A1%E0%B8%B5%E0%B8%99%E0%B8%B2%E0%B8%84%E0%B8%A1-2562\"><span style=\"color: #800000;\">วันพระที่ 20 มีนาคม 2562</span></a></span></strong></p>,\n",
              " <p style=\"text-align: center;\"><strong><span style=\"color: #800000;\"><a href=\"/17086070/%E0%B8%AA%E0%B8%96%E0%B8%B2%E0%B8%99%E0%B8%81%E0%B8%B2%E0%B8%A3%E0%B8%93%E0%B9%8C%E0%B8%A3%E0%B8%B2%E0%B8%84%E0%B8%B2%E0%B8%AA%E0%B8%B8%E0%B8%81%E0%B8%A3%E0%B8%A1%E0%B8%B5%E0%B8%8A%E0%B8%B5%E0%B8%A7%E0%B8%B4%E0%B8%95%E0%B8%AB%E0%B8%99%E0%B9%89%E0%B8%B2%E0%B8%9F%E0%B8%B2%E0%B8%A3%E0%B9%8C%E0%B8%A1-%E0%B8%A7%E0%B8%B1%E0%B8%99%E0%B8%9E%E0%B8%A3%E0%B8%B0%E0%B8%97%E0%B8%B5%E0%B9%88-28-%E0%B8%A1%E0%B8%B5%E0%B8%99%E0%B8%B2%E0%B8%84%E0%B8%A1-2562\"><span style=\"color: #800000;\">วันพระที่ 28 มีนาคม 2562</span></a></span></strong></p>,\n",
              " <p style=\"text-align: center;\"><strong><span style=\"color: #800000;\"> <a href=\"/17088346/%E0%B8%AA%E0%B8%96%E0%B8%B2%E0%B8%99%E0%B8%81%E0%B8%B2%E0%B8%A3%E0%B8%93%E0%B9%8C%E0%B8%A3%E0%B8%B2%E0%B8%84%E0%B8%B2%E0%B8%AA%E0%B8%B8%E0%B8%81%E0%B8%A3%E0%B8%A1%E0%B8%B5%E0%B8%8A%E0%B8%B5%E0%B8%A7%E0%B8%B4%E0%B8%95%E0%B8%AB%E0%B8%99%E0%B9%89%E0%B8%B2%E0%B8%9F%E0%B8%B2%E0%B8%A3%E0%B9%8C%E0%B8%A1-%E0%B8%A7%E0%B8%B1%E0%B8%99%E0%B8%9E%E0%B8%A3%E0%B8%B0%E0%B8%97%E0%B8%B5%E0%B9%88-4-%E0%B9%80%E0%B8%A1%E0%B8%A9%E0%B8%B2%E0%B8%A2%E0%B8%99-2562\"><span style=\"color: #800000;\">วันพระที่ 4 เมษายน 2562</span></a></span></strong></p>,\n",
              " <p style=\"text-align: center;\"><strong><span style=\"color: #800000;\"><a href=\"/17090604/%E0%B8%AA%E0%B8%96%E0%B8%B2%E0%B8%99%E0%B8%81%E0%B8%B2%E0%B8%A3%E0%B8%93%E0%B9%8C%E0%B8%A3%E0%B8%B2%E0%B8%84%E0%B8%B2%E0%B8%AA%E0%B8%B8%E0%B8%81%E0%B8%A3%E0%B8%A1%E0%B8%B5%E0%B8%8A%E0%B8%B5%E0%B8%A7%E0%B8%B4%E0%B8%95%E0%B8%AB%E0%B8%99%E0%B9%89%E0%B8%B2%E0%B8%9F%E0%B8%B2%E0%B8%A3%E0%B9%8C%E0%B8%A1-%E0%B8%A7%E0%B8%B1%E0%B8%99%E0%B8%9E%E0%B8%A3%E0%B8%B0%E0%B8%97%E0%B8%B5%E0%B9%88-12-%E0%B9%80%E0%B8%A1%E0%B8%A9%E0%B8%A9%E0%B8%A2%E0%B8%99-2562\"><span style=\"color: #800000;\">วันพระที่ 12 เมษายน 2562</span></a></span></strong></p>,\n",
              " <p style=\"text-align: center;\"><strong><span style=\"color: #800000;\"><a href=\"/17092007/%E0%B8%AA%E0%B8%96%E0%B8%B2%E0%B8%99%E0%B8%81%E0%B8%B2%E0%B8%A3%E0%B8%93%E0%B9%8C%E0%B8%A3%E0%B8%B2%E0%B8%84%E0%B8%B2%E0%B8%AA%E0%B8%B8%E0%B8%81%E0%B8%A3%E0%B8%A1%E0%B8%B5%E0%B8%8A%E0%B8%B5%E0%B8%A7%E0%B8%B4%E0%B8%95%E0%B8%AB%E0%B8%99%E0%B9%89%E0%B8%B2%E0%B8%9F%E0%B8%B2%E0%B8%A3%E0%B9%8C%E0%B8%A1-%E0%B8%A7%E0%B8%B1%E0%B8%99%E0%B8%9E%E0%B8%A3%E0%B8%B0%E0%B8%97%E0%B8%B5%E0%B9%88-19-%E0%B9%80%E0%B8%A1%E0%B8%A9%E0%B8%B2%E0%B8%A2%E0%B8%99-2562\"><span style=\"color: #800000;\">วันพระที่ 19 เมษายน 2562</span></a></span></strong></p>,\n",
              " <p style=\"text-align: center;\"><strong><span style=\"color: #800000;\"><a href=\"/17094087/%E0%B8%AA%E0%B8%96%E0%B8%B2%E0%B8%99%E0%B8%81%E0%B8%B2%E0%B8%A3%E0%B8%93%E0%B9%8C%E0%B8%A3%E0%B8%B2%E0%B8%84%E0%B8%B2%E0%B8%AA%E0%B8%B8%E0%B8%81%E0%B8%A3%E0%B8%A1%E0%B8%B5%E0%B8%8A%E0%B8%B5%E0%B8%A7%E0%B8%B4%E0%B8%95%E0%B8%AB%E0%B8%99%E0%B9%89%E0%B8%B2%E0%B8%9F%E0%B8%B2%E0%B8%A3%E0%B9%8C%E0%B8%A1-%E0%B8%A7%E0%B8%B1%E0%B8%99%E0%B8%9E%E0%B8%A3%E0%B8%B0%E0%B8%97%E0%B8%B5%E0%B9%88-27-%E0%B9%80%E0%B8%A1%E0%B8%A9%E0%B8%B2%E0%B8%A2%E0%B8%99-2562\"><span style=\"color: #800000;\">วันพระที่ 27 เมษายน 2562</span></a></span></strong></p>,\n",
              " <p style=\"text-align: center;\"><strong><span style=\"color: #800000;\"><a href=\"/17095827/%E0%B8%AA%E0%B8%96%E0%B8%B2%E0%B8%99%E0%B8%81%E0%B8%B2%E0%B8%A3%E0%B8%93%E0%B9%8C%E0%B8%A3%E0%B8%B2%E0%B8%84%E0%B8%B2%E0%B8%AA%E0%B8%B8%E0%B8%81%E0%B8%A3%E0%B8%A1%E0%B8%B5%E0%B8%8A%E0%B8%B5%E0%B8%A7%E0%B8%B4%E0%B8%95%E0%B8%AB%E0%B8%99%E0%B9%89%E0%B8%B2%E0%B8%9F%E0%B8%B2%E0%B8%A3%E0%B9%8C%E0%B8%A1-%E0%B8%A7%E0%B8%B1%E0%B8%99%E0%B8%9E%E0%B8%A3%E0%B8%B0%E0%B8%97%E0%B8%B5%E0%B9%88-3-%E0%B8%9E%E0%B8%A4%E0%B8%A9%E0%B8%A0%E0%B8%B2%E0%B8%84%E0%B8%A1-2562?fbclid=IwAR3nL5ODrfZZGpkkSBgM5nYWmli_5bbc2ngFN2HfuEc_94-KDtu3NNGH4yo\"><span style=\"color: #800000;\"> วันพระที่ 3 พฤษภาคม 2562</span></a></span></strong></p>,\n",
              " <p style=\"text-align: center;\"><strong><span style=\"color: #800000;\"><a href=\"/17098309/%E0%B8%AA%E0%B8%96%E0%B8%B2%E0%B8%99%E0%B8%81%E0%B8%B2%E0%B8%A3%E0%B8%93%E0%B9%8C%E0%B8%A3%E0%B8%B2%E0%B8%84%E0%B8%B2%E0%B8%AA%E0%B8%B8%E0%B8%81%E0%B8%A3%E0%B8%A1%E0%B8%B5%E0%B8%8A%E0%B8%B5%E0%B8%A7%E0%B8%B4%E0%B8%95%E0%B8%AB%E0%B8%99%E0%B9%89%E0%B8%B2%E0%B8%9F%E0%B8%B2%E0%B8%A3%E0%B9%8C%E0%B8%A1-%E0%B8%A7%E0%B8%B1%E0%B8%99%E0%B8%9E%E0%B8%A3%E0%B8%B0%E0%B8%97%E0%B8%B5%E0%B9%88-11-%E0%B8%9E%E0%B8%A4%E0%B8%A9%E0%B8%A0%E0%B8%B2%E0%B8%84%E0%B8%A1-2562\"><span style=\"color: #800000;\">วันพระที่ 11 พฤษภาคม 2562</span></a></span></strong></p>,\n",
              " <p style=\"text-align: center;\"><strong><span style=\"color: #800000;\"><a href=\"/17100351/%E0%B8%AA%E0%B8%96%E0%B8%B2%E0%B8%99%E0%B8%81%E0%B8%B2%E0%B8%A3%E0%B8%93%E0%B9%8C%E0%B8%A3%E0%B8%B2%E0%B8%84%E0%B8%B2%E0%B8%AA%E0%B8%B8%E0%B8%81%E0%B8%A3%E0%B8%A1%E0%B8%B5%E0%B8%8A%E0%B8%B5%E0%B8%A7%E0%B8%B4%E0%B8%95%E0%B8%AB%E0%B8%99%E0%B9%89%E0%B8%B2%E0%B8%9F%E0%B8%B2%E0%B8%A3%E0%B9%8C%E0%B8%A1-%E0%B8%A7%E0%B8%B1%E0%B8%99%E0%B8%9E%E0%B8%A3%E0%B8%B0%E0%B8%97%E0%B8%B5%E0%B9%88-11-%E0%B8%9E%E0%B8%A4%E0%B8%A9%E0%B8%A0%E0%B8%B2%E0%B8%84%E0%B8%A1-2562\"><span style=\"color: #800000;\">วันพระที่ 18 พฤษภาคม 2562</span></a></span></strong></p>,\n",
              " <p style=\"text-align: center;\"><span style=\"color: #800000;\"><a href=\"/17102672/%E0%B8%AA%E0%B8%96%E0%B8%B2%E0%B8%99%E0%B8%81%E0%B8%B2%E0%B8%A3%E0%B8%93%E0%B9%8C%E0%B8%A3%E0%B8%B2%E0%B8%84%E0%B8%B2%E0%B8%AA%E0%B8%B8%E0%B8%81%E0%B8%A3%E0%B8%A1%E0%B8%B5%E0%B8%8A%E0%B8%B5%E0%B8%A7%E0%B8%B4%E0%B8%95%E0%B8%AB%E0%B8%99%E0%B9%89%E0%B8%B2%E0%B8%9F%E0%B8%B2%E0%B8%A3%E0%B9%8C%E0%B8%A1-%E0%B8%A7%E0%B8%B1%E0%B8%99%E0%B8%9E%E0%B8%A3%E0%B8%B0%E0%B8%97%E0%B8%B5%E0%B9%88-26-%E0%B8%9E%E0%B8%A4%E0%B8%A9%E0%B8%A0%E0%B8%B2%E0%B8%84%E0%B8%A1-2562\"><span style=\"color: #800000;\"><strong><span style=\"color: #ff6600;\">วันพระที่ 26 พฤษภาคม 2562</span></strong></span></a></span></p>,\n",
              " <p><span style=\"color: #800000;\"><a href=\"/17141603/%E0%B8%AA%E0%B8%96%E0%B8%B2%E0%B8%99%E0%B8%81%E0%B8%B2%E0%B8%A3%E0%B8%93%E0%B9%8C%E0%B8%A3%E0%B8%B2%E0%B8%84%E0%B8%B2%E0%B8%AA%E0%B8%B8%E0%B8%81%E0%B8%A3%E0%B8%A1%E0%B8%B5%E0%B8%8A%E0%B8%B5%E0%B8%A7%E0%B8%B4%E0%B8%95%E0%B8%AB%E0%B8%99%E0%B9%89%E0%B8%B2%E0%B8%9F%E0%B8%B2%E0%B8%A3%E0%B9%8C%E0%B8%A1-%E0%B8%A7%E0%B8%B1%E0%B8%99%E0%B8%9E%E0%B8%A3%E0%B8%B0%E0%B8%97%E0%B8%B5%E0%B9%88-2-%E0%B8%A1%E0%B8%B4%E0%B8%96%E0%B8%B8%E0%B8%99%E0%B8%B2%E0%B8%A2%E0%B8%99-2562\"><span style=\"color: #800000;\"><strong><span style=\"color: #ff6600;\"> </span><span style=\"color: #ff6600;\"><span style=\"color: #800000;\">วันพระที่ 2 มิถุนายน 2562</span></span></strong></span></a></span></p>,\n",
              " <p><strong><span style=\"color: #800000;\"><a href=\"/17107167/%E0%B8%AA%E0%B8%96%E0%B8%B2%E0%B8%99%E0%B8%81%E0%B8%B2%E0%B8%A3%E0%B8%93%E0%B9%8C%E0%B8%A3%E0%B8%B2%E0%B8%84%E0%B8%B2%E0%B8%AA%E0%B8%B8%E0%B8%81%E0%B8%A3%E0%B8%A1%E0%B8%B5%E0%B8%8A%E0%B8%B5%E0%B8%A7%E0%B8%B4%E0%B8%95%E0%B8%AB%E0%B8%99%E0%B9%89%E0%B8%B2%E0%B8%9F%E0%B8%B2%E0%B8%A3%E0%B9%8C%E0%B8%A1-%E0%B8%A7%E0%B8%B1%E0%B8%99%E0%B8%9E%E0%B8%A3%E0%B8%B0%E0%B8%97%E0%B8%B5%E0%B9%88-10-%E0%B8%A1%E0%B8%B4%E0%B8%96%E0%B8%B8%E0%B8%99%E0%B8%B2%E0%B8%A2%E0%B8%99-2562\"><span style=\"color: #800000;\">วันพระที่ 10 มิถุนายน 2562</span></a></span></strong></p>,\n",
              " <p><strong><span style=\"color: #800000;\"><a href=\"/17109157/%E0%B8%AA%E0%B8%96%E0%B8%B2%E0%B8%99%E0%B8%81%E0%B8%B2%E0%B8%A3%E0%B8%93%E0%B9%8C%E0%B8%A3%E0%B8%B2%E0%B8%84%E0%B8%B2%E0%B8%AA%E0%B8%B8%E0%B8%81%E0%B8%A3%E0%B8%A1%E0%B8%B5%E0%B8%8A%E0%B8%B5%E0%B8%A7%E0%B8%B4%E0%B8%95%E0%B8%AB%E0%B8%99%E0%B9%89%E0%B8%B2%E0%B8%9F%E0%B8%B2%E0%B8%A3%E0%B9%8C%E0%B8%A1-%E0%B8%A7%E0%B8%B1%E0%B8%99%E0%B8%9E%E0%B8%A3%E0%B8%B0%E0%B8%97%E0%B8%B5%E0%B9%88-17-%E0%B8%A1%E0%B8%B4%E0%B8%96%E0%B8%B8%E0%B8%99%E0%B8%B2%E0%B8%A2%E0%B8%99-2562?fbclid=IwAR23fZcqvEgBXtPebyW4I9hQRTzJ3ui3TTSmlgAMDmNDGOWRjQ-ZRGlbnDA\"><span style=\"color: #800000;\">วันพระที่ 17 มิถุนายน 2562</span></a></span></strong></p>,\n",
              " <p><strong><span style=\"color: #800000;\"><a href=\"/17112102/%E0%B8%82%E0%B9%89%E0%B8%AD%E0%B8%A1%E0%B8%B9%E0%B8%A5%E0%B8%A3%E0%B8%B2%E0%B8%84%E0%B8%B2%E0%B8%AA%E0%B8%B8%E0%B8%81%E0%B8%A3%E0%B8%A1%E0%B8%B5%E0%B8%8A%E0%B8%B5%E0%B8%A7%E0%B8%B4%E0%B8%95%E0%B8%AB%E0%B8%99%E0%B9%89%E0%B8%B2%E0%B8%9F%E0%B8%B2%E0%B8%A3%E0%B9%8C%E0%B8%A1-%E0%B8%A7%E0%B8%B1%E0%B8%99%E0%B8%9E%E0%B8%A3%E0%B8%B0%E0%B8%97%E0%B8%B5%E0%B9%88-25-%E0%B8%A1%E0%B8%B4%E0%B8%96%E0%B8%B8%E0%B8%99%E0%B8%B2%E0%B8%A2%E0%B8%99-2562\"><span style=\"color: #800000;\">วันพระที่ 25 มิถุนายน 2562</span></a></span></strong></p>,\n",
              " <p><span style=\"color: #ff6600;\"> <strong><span style=\"color: #800000;\"><a href=\"/17114156/%E0%B8%82%E0%B9%89%E0%B8%AD%E0%B8%A1%E0%B8%B9%E0%B8%A5%E0%B8%81%E0%B8%B2%E0%B8%A3%E0%B8%A7%E0%B8%B4%E0%B9%80%E0%B8%84%E0%B8%A3%E0%B8%B2%E0%B8%B0%E0%B8%AB%E0%B9%8C%E0%B8%81%E0%B8%B2%E0%B8%A3%E0%B8%95%E0%B8%A5%E0%B8%B2%E0%B8%94%E0%B8%AA%E0%B8%B8%E0%B8%81%E0%B8%A3%E0%B8%A1%E0%B8%B5%E0%B8%8A%E0%B8%B5%E0%B8%A7%E0%B8%B4%E0%B8%95-%E0%B8%A7%E0%B8%B1%E0%B8%99%E0%B8%9E%E0%B8%A3%E0%B8%B0%E0%B8%97%E0%B8%B5%E0%B9%88-1-%E0%B8%81%E0%B8%A3%E0%B8%81%E0%B8%8E%E0%B8%B2%E0%B8%84%E0%B8%A1-2562?fbclid=IwAR0pmuxDBqZb1kQlIqPR9meBaTi1JwX_8Eb38q9m4yL0mO7-ajj63odXW0I\"><span style=\"color: #800000;\">วันพระที่ 1 กรกฎาคม 2562</span></a></span></strong></span></p>,\n",
              " <p><strong><span style=\"color: #800000;\"><a href=\"/17117136/%E0%B8%82%E0%B9%89%E0%B8%AD%E0%B8%A1%E0%B8%B9%E0%B8%A5%E0%B8%81%E0%B8%B2%E0%B8%A3%E0%B8%A7%E0%B8%B4%E0%B9%80%E0%B8%84%E0%B8%A3%E0%B8%B2%E0%B8%B0%E0%B8%AB%E0%B9%8C%E0%B8%81%E0%B8%B2%E0%B8%A3%E0%B8%95%E0%B8%A5%E0%B8%B2%E0%B8%94%E0%B8%AA%E0%B8%B8%E0%B8%81%E0%B8%A3%E0%B8%A1%E0%B8%B5%E0%B8%8A%E0%B8%B5%E0%B8%A7%E0%B8%B4%E0%B8%95-%E0%B8%A7%E0%B8%B1%E0%B8%99%E0%B8%9E%E0%B8%A3%E0%B8%B0%E0%B8%97%E0%B8%B5%E0%B9%88-9-%E0%B8%81%E0%B8%A3%E0%B8%81%E0%B8%8E%E0%B8%B2%E0%B8%84%E0%B8%A1-2562\"><span style=\"color: #800000;\">วันพระที่ 9 กรกฎาคม 2562</span></a></span></strong></p>,\n",
              " <p><strong><span style=\"color: #800000;\"><a href=\"/17120065/%E0%B8%82%E0%B9%89%E0%B8%AD%E0%B8%A1%E0%B8%B9%E0%B8%A5%E0%B8%81%E0%B8%B2%E0%B8%A3%E0%B8%A7%E0%B8%B4%E0%B9%80%E0%B8%84%E0%B8%A3%E0%B8%B2%E0%B8%B0%E0%B8%AB%E0%B9%8C%E0%B8%81%E0%B8%B2%E0%B8%A3%E0%B8%95%E0%B8%A5%E0%B8%B2%E0%B8%94%E0%B8%AA%E0%B8%B8%E0%B8%81%E0%B8%A3%E0%B8%A1%E0%B8%B5%E0%B8%8A%E0%B8%B5%E0%B8%A7%E0%B8%B4%E0%B8%95-%E0%B8%A7%E0%B8%B1%E0%B8%99%E0%B8%9E%E0%B8%A3%E0%B8%B0%E0%B8%97%E0%B8%B5%E0%B9%88-16-%E0%B8%81%E0%B8%A3%E0%B8%81%E0%B8%8E%E0%B8%B2%E0%B8%84%E0%B8%A1-2562?fbclid=IwAR1rSATrqN6YTRItr9XprKegPkpWvrkcAMto3_0fY3C_9NNQ6vxFwt0bX-0\"><span style=\"color: #800000;\">วันพระที่ 16 กรกฎาคม 2562</span></a></span></strong></p>,\n",
              " <p><strong><span style=\"color: #800000;\"><a href=\"/17122890/%E0%B8%82%E0%B9%89%E0%B8%AD%E0%B8%A1%E0%B8%B9%E0%B8%A5%E0%B8%81%E0%B8%B2%E0%B8%A3%E0%B8%A7%E0%B8%B4%E0%B9%80%E0%B8%84%E0%B8%A3%E0%B8%B2%E0%B8%B0%E0%B8%AB%E0%B9%8C%E0%B8%81%E0%B8%B2%E0%B8%A3%E0%B8%95%E0%B8%A5%E0%B8%B2%E0%B8%94%E0%B8%AA%E0%B8%B8%E0%B8%81%E0%B8%A3%E0%B8%A1%E0%B8%B5%E0%B8%8A%E0%B8%B5%E0%B8%A7%E0%B8%B4%E0%B8%95-%E0%B8%A7%E0%B8%B1%E0%B8%99%E0%B8%9E%E0%B8%A3%E0%B8%B0%E0%B8%97%E0%B8%B5%E0%B9%88-24-%E0%B8%81%E0%B8%A3%E0%B8%81%E0%B8%8E%E0%B8%B2%E0%B8%84%E0%B8%A1-2562\"><span style=\"color: #800000;\">วันพระที่ 24 กรกฎาคม 2562</span></a></span></strong></p>,\n",
              " <p><strong><span style=\"color: #800000;\"><a href=\"/17125175/%E0%B8%82%E0%B9%89%E0%B8%AD%E0%B8%A1%E0%B8%B9%E0%B8%A5%E0%B8%81%E0%B8%B2%E0%B8%A3%E0%B8%A7%E0%B8%B4%E0%B9%80%E0%B8%84%E0%B8%A3%E0%B8%B2%E0%B8%B0%E0%B8%AB%E0%B9%8C%E0%B8%81%E0%B8%B2%E0%B8%A3%E0%B8%95%E0%B8%A5%E0%B8%B2%E0%B8%94%E0%B8%AA%E0%B8%B8%E0%B8%81%E0%B8%A3%E0%B8%A1%E0%B8%B5%E0%B8%8A%E0%B8%B5%E0%B8%A7%E0%B8%B4%E0%B8%95-%E0%B8%A7%E0%B8%B1%E0%B8%99%E0%B8%9E%E0%B8%A3%E0%B8%B0%E0%B8%97%E0%B8%B5%E0%B9%88-31-%E0%B8%81%E0%B8%A3%E0%B8%81%E0%B8%8E%E0%B8%B2%E0%B8%84%E0%B8%A1-2562?fbclid=IwAR1WZJSTy8sRUxEUZwQ9tZQRsBLNiS-vvt7tuzfj_k6A9XAqecVHtGbRxPw\"><span style=\"color: #800000;\">วันพระที่ 31 กรกฎาคม 2562</span></a></span></strong></p>,\n",
              " <p><span style=\"color: #ff6600;\"> <span style=\"color: #800000;\"><strong><a href=\"/17127895/%E0%B8%82%E0%B9%89%E0%B8%AD%E0%B8%A1%E0%B8%B9%E0%B8%A5%E0%B8%81%E0%B8%B2%E0%B8%A3%E0%B8%A7%E0%B8%B4%E0%B9%80%E0%B8%84%E0%B8%A3%E0%B8%B2%E0%B8%B0%E0%B8%AB%E0%B9%8C%E0%B8%81%E0%B8%B2%E0%B8%A3%E0%B8%95%E0%B8%A5%E0%B8%B2%E0%B8%94%E0%B8%AA%E0%B8%B8%E0%B8%81%E0%B8%A3%E0%B8%A1%E0%B8%B5%E0%B8%8A%E0%B8%B5%E0%B8%A7%E0%B8%B4%E0%B8%95-%E0%B8%A7%E0%B8%B1%E0%B8%99%E0%B8%9E%E0%B8%A3%E0%B8%B0%E0%B8%97%E0%B8%B5%E0%B9%88-8-%E0%B8%AA%E0%B8%B4%E0%B8%87%E0%B8%AB%E0%B8%B2%E0%B8%84%E0%B8%A1-2562\"><span style=\"color: #800000;\">วันพระที่ 8 สิงหาคม 2562</span></a></strong></span></span></p>,\n",
              " <p><strong><span style=\"color: #800000;\"><a href=\"/17130301/%E0%B8%82%E0%B9%89%E0%B8%AD%E0%B8%A1%E0%B8%B9%E0%B8%A5%E0%B8%81%E0%B8%B2%E0%B8%A3%E0%B8%A7%E0%B8%B4%E0%B9%80%E0%B8%84%E0%B8%A3%E0%B8%B2%E0%B8%B0%E0%B8%AB%E0%B9%8C%E0%B8%81%E0%B8%B2%E0%B8%A3%E0%B8%95%E0%B8%A5%E0%B8%B2%E0%B8%94%E0%B8%AA%E0%B8%B8%E0%B8%81%E0%B8%A3%E0%B8%A1%E0%B8%B5%E0%B8%8A%E0%B8%B5%E0%B8%A7%E0%B8%B4%E0%B8%95-%E0%B8%A7%E0%B8%B1%E0%B8%99%E0%B8%9E%E0%B8%A3%E0%B8%B0%E0%B8%97%E0%B8%B5%E0%B9%88-15-%E0%B8%AA%E0%B8%B4%E0%B8%87%E0%B8%AB%E0%B8%B2%E0%B8%84%E0%B8%A1-2562?fbclid=IwAR3D_BYba4pDFRi6RivA1jwCNmoRNOzqK0NykYySefa3rua3C0qnBZVtlKs\"><span style=\"color: #800000;\">วันพระที่ 15 สิงหาคม 2562</span></a></span></strong></p>,\n",
              " <p><strong><span style=\"color: #800000;\"><a href=\"/17132386/%E0%B8%82%E0%B9%89%E0%B8%AD%E0%B8%A1%E0%B8%B9%E0%B8%A5%E0%B8%81%E0%B8%B2%E0%B8%A3%E0%B8%A7%E0%B8%B4%E0%B9%80%E0%B8%84%E0%B8%A3%E0%B8%B2%E0%B8%B0%E0%B8%AB%E0%B9%8C%E0%B8%81%E0%B8%B2%E0%B8%A3%E0%B8%95%E0%B8%A5%E0%B8%B2%E0%B8%94%E0%B8%AA%E0%B8%B8%E0%B8%81%E0%B8%A3%E0%B8%A1%E0%B8%B5%E0%B8%8A%E0%B8%B5%E0%B8%A7%E0%B8%B4%E0%B8%95-%E0%B8%A7%E0%B8%B1%E0%B8%99%E0%B8%9E%E0%B8%A3%E0%B8%B0%E0%B8%97%E0%B8%B5%E0%B9%88-23-%E0%B8%AA%E0%B8%B4%E0%B8%87%E0%B8%AB%E0%B8%B2%E0%B8%84%E0%B8%A1-2562?fbclid=IwAR30yAJsXnTGCo7yS7HUZH4Oh3cx_l9VuP40a9yj_gCqYZeV4c6co2RFqg4\"><span style=\"color: #800000;\">วันพระที่ 23 สิงหาคม 2562</span></a></span></strong></p>,\n",
              " <p><strong><span style=\"color: #800000;\"><a href=\"/17134719/%E0%B8%82%E0%B9%89%E0%B8%AD%E0%B8%A1%E0%B8%B9%E0%B8%A5%E0%B8%81%E0%B8%B2%E0%B8%A3%E0%B8%A7%E0%B8%B4%E0%B9%80%E0%B8%84%E0%B8%A3%E0%B8%B2%E0%B8%B0%E0%B8%AB%E0%B9%8C%E0%B8%81%E0%B8%B2%E0%B8%A3%E0%B8%95%E0%B8%A5%E0%B8%B2%E0%B8%94%E0%B8%AA%E0%B8%B8%E0%B8%81%E0%B8%A3%E0%B8%A1%E0%B8%B5%E0%B8%8A%E0%B8%B5%E0%B8%A7%E0%B8%B4%E0%B8%95-%E0%B8%A7%E0%B8%B1%E0%B8%99%E0%B8%9E%E0%B8%A3%E0%B8%B0%E0%B8%97%E0%B8%B5%E0%B9%88-29-%E0%B8%AA%E0%B8%B4%E0%B8%87%E0%B8%AB%E0%B8%B2%E0%B8%84%E0%B8%A1-2562?fbclid=IwAR0_OJDlzXvTI0lLIDjYfs4fyjTg-K-YiSEjzoHLCoj0pMucjzGY-PKGvUM\"><span style=\"color: #800000;\">วันพระที่ 29 สิงหาคม 2562</span></a></span></strong></p>,\n",
              " <p style=\"text-align: center;\"><strong><span style=\"color: #800000;\"><a href=\"/17137600/%E0%B8%82%E0%B9%89%E0%B8%AD%E0%B8%A1%E0%B8%B9%E0%B8%A5%E0%B8%81%E0%B8%B2%E0%B8%A3%E0%B8%A7%E0%B8%B4%E0%B9%80%E0%B8%84%E0%B8%A3%E0%B8%B2%E0%B8%B0%E0%B8%AB%E0%B9%8C%E0%B8%81%E0%B8%B2%E0%B8%A3%E0%B8%95%E0%B8%A5%E0%B8%B2%E0%B8%94%E0%B8%AA%E0%B8%B8%E0%B8%81%E0%B8%A3%E0%B8%A1%E0%B8%B5%E0%B8%8A%E0%B8%B5%E0%B8%A7%E0%B8%B4%E0%B8%95-%E0%B8%A7%E0%B8%B1%E0%B8%99%E0%B8%9E%E0%B8%A3%E0%B8%B0%E0%B8%97%E0%B8%B5%E0%B9%88-6-%E0%B8%81%E0%B8%B1%E0%B8%99%E0%B8%A2%E0%B8%B2%E0%B8%A2%E0%B8%99-2562?fbclid=IwAR0Yh7NchhltpkgXgX1D-K_T59p6HZ6kYkE_870yeybVSGQeqMNfx0Vzp8M\"><span style=\"color: #800000;\"> วันพระที่ 6 กันยายน 2562</span></a></span></strong></p>,\n",
              " <p style=\"text-align: center;\"><strong><span style=\"color: #800000;\"><a href=\"/17141109/%E0%B8%82%E0%B9%89%E0%B8%AD%E0%B8%A1%E0%B8%B9%E0%B8%A5%E0%B8%81%E0%B8%B2%E0%B8%A3%E0%B8%A7%E0%B8%B4%E0%B9%80%E0%B8%84%E0%B8%A3%E0%B8%B2%E0%B8%B0%E0%B8%AB%E0%B9%8C%E0%B8%95%E0%B8%A5%E0%B8%B2%E0%B8%94%E0%B8%AA%E0%B8%B8%E0%B8%81%E0%B8%A3%E0%B8%A1%E0%B8%B5%E0%B8%8A%E0%B8%B5%E0%B8%A7%E0%B8%B4%E0%B8%95-%E0%B8%A7%E0%B8%B1%E0%B8%99%E0%B8%9E%E0%B8%A3%E0%B8%B0%E0%B8%97%E0%B8%B5%E0%B9%88-13-%E0%B8%81%E0%B8%B1%E0%B8%99%E0%B8%A2%E0%B8%B2%E0%B8%A2%E0%B8%99-2562?fbclid=IwAR3cbR73NCaC783Ex_sWjkyyjiXCBQ-EQlLiG6u3iIfKNruqLUuOyC_nGH4\"><span style=\"color: #800000;\">วันพระที่ 13 กันยายน 2562</span></a></span></strong></p>,\n",
              " <p style=\"text-align: center;\"><strong><span style=\"color: #800000;\"><a href=\"/17143774/ข้อมูลตลาดสุกรมีชีวิต-วันพระที่-21-กันยายน-2562\"><span style=\"color: #800000;\">วันพระที่ 21 กันยายน 2562</span></a></span></strong></p>,\n",
              " <p style=\"text-align: center;\"><strong><span style=\"color: #800000;\"><a href=\"/17146137/%E0%B8%82%E0%B9%89%E0%B8%AD%E0%B8%A1%E0%B8%B9%E0%B8%A5%E0%B8%AA%E0%B8%A0%E0%B8%B2%E0%B8%A7%E0%B8%B0%E0%B8%95%E0%B8%A5%E0%B8%B2%E0%B8%94%E0%B8%AA%E0%B8%B8%E0%B8%81%E0%B8%A3%E0%B8%A1%E0%B8%B5%E0%B8%8A%E0%B8%B5%E0%B8%A7%E0%B8%B4%E0%B8%95-%E0%B8%A7%E0%B8%B1%E0%B8%99%E0%B8%9E%E0%B8%A3%E0%B8%B0%E0%B8%97%E0%B8%B5%E0%B9%88-28-%E0%B8%81%E0%B8%B1%E0%B8%99%E0%B8%A2%E0%B8%B2%E0%B8%A2%E0%B8%99-2562?fbclid=IwAR1UF3BZT-6I23VY3JZ-Sp4etjeJK0DvdzYzEzxju9VKzeNOBN_bTuhy0XA\"><span style=\"color: #800000;\">วันพระที่ 28 กันยายน 2562</span></a></span></strong></p>,\n",
              " <p style=\"text-align: center;\"><span style=\"color: #ff6600;\"> <strong><span style=\"text-decoration: underline;\"><span style=\"color: #800000;\"><a href=\"/17148281/%E0%B8%82%E0%B9%89%E0%B8%AD%E0%B8%A1%E0%B8%B9%E0%B8%A5%E0%B8%AA%E0%B8%A0%E0%B8%B2%E0%B8%A7%E0%B8%B0%E0%B8%95%E0%B8%A5%E0%B8%B2%E0%B8%94%E0%B8%AA%E0%B8%B8%E0%B8%81%E0%B8%A3%E0%B8%A1%E0%B8%B5%E0%B8%8A%E0%B8%B5%E0%B8%A7%E0%B8%B4%E0%B8%95-%E0%B8%A7%E0%B8%B1%E0%B8%99%E0%B8%9E%E0%B8%A3%E0%B8%B0%E0%B8%97%E0%B8%B5%E0%B9%88-6-%E0%B8%95%E0%B8%B8%E0%B8%A5%E0%B8%B2%E0%B8%84%E0%B8%A1-2562\"><span style=\"color: #800000; text-decoration: underline;\">วันพระที่ 6 ตุลาคม 2562</span></a></span></span></strong></span></p>,\n",
              " <p style=\"text-align: center;\"><strong><span style=\"text-decoration: underline;\"><span style=\"color: #800000;\"><a href=\"/17173640/%E0%B8%82%E0%B9%89%E0%B8%AD%E0%B8%A1%E0%B8%B9%E0%B8%A5%E0%B8%AA%E0%B8%A0%E0%B8%B2%E0%B8%A7%E0%B8%B0%E0%B8%95%E0%B8%A5%E0%B8%B2%E0%B8%94%E0%B8%AA%E0%B8%B8%E0%B8%81%E0%B8%A3%E0%B8%A1%E0%B8%B5%E0%B8%8A%E0%B8%B5%E0%B8%A7%E0%B8%B4%E0%B8%95-%E0%B8%A7%E0%B8%B1%E0%B8%99%E0%B8%9E%E0%B8%A3%E0%B8%B0%E0%B8%97%E0%B8%B5%E0%B9%88-13-%E0%B8%95%E0%B8%B8%E0%B8%A5%E0%B8%B2%E0%B8%84%E0%B8%A1-2562\"><span style=\"color: #800000; text-decoration: underline;\">วันพระที่ 13 ตุลาคม 2562</span></a></span></span></strong></p>,\n",
              " <p style=\"text-align: center;\"><strong><span style=\"text-decoration: underline;\"><span style=\"color: #800000;\"><a href=\"/17152275/%E0%B8%82%E0%B9%89%E0%B8%AD%E0%B8%A1%E0%B8%B9%E0%B8%A5%E0%B8%AA%E0%B8%A0%E0%B8%B2%E0%B8%A7%E0%B8%B0%E0%B8%95%E0%B8%A5%E0%B8%B2%E0%B8%94%E0%B8%AA%E0%B8%B8%E0%B8%81%E0%B8%A3%E0%B8%A1%E0%B8%B5%E0%B8%8A%E0%B8%B5%E0%B8%A7%E0%B8%B4%E0%B8%95-%E0%B8%A7%E0%B8%B1%E0%B8%99%E0%B8%9E%E0%B8%A3%E0%B8%B0%E0%B8%97%E0%B8%B5%E0%B9%88-21-%E0%B8%95%E0%B8%B8%E0%B8%A5%E0%B8%B2%E0%B8%84%E0%B8%A1-2562\"><span style=\"color: #800000; text-decoration: underline;\">วันพระที่ 21 ตุลาคม 2562</span></a></span></span></strong></p>,\n",
              " <p style=\"text-align: center;\"><strong><span style=\"text-decoration: underline;\"><span style=\"color: #800000;\"><a href=\"/17153958/%E0%B8%82%E0%B9%89%E0%B8%AD%E0%B8%A1%E0%B8%B9%E0%B8%A5%E0%B8%AA%E0%B8%A0%E0%B8%B2%E0%B8%A7%E0%B8%B0%E0%B8%95%E0%B8%A5%E0%B8%B2%E0%B8%94%E0%B8%AA%E0%B8%B8%E0%B8%81%E0%B8%A3%E0%B8%A1%E0%B8%B5%E0%B8%8A%E0%B8%B5%E0%B8%A7%E0%B8%B4%E0%B8%95-%E0%B8%A7%E0%B8%B1%E0%B8%99%E0%B8%9E%E0%B8%A3%E0%B8%B0%E0%B8%97%E0%B8%B5%E0%B9%88-27-%E0%B8%95%E0%B8%B8%E0%B8%A5%E0%B8%B2%E0%B8%84%E0%B8%A1-2562\"><span style=\"color: #800000; text-decoration: underline;\">วันพระที่ 27 ตุลาคม 2562</span></a></span></span></strong></p>,\n",
              " <p><span style=\"color: #ff6600;\"> </span></p>,\n",
              " <p style=\"text-align: center;\"><strong><span style=\"text-decoration: underline;\"><span style=\"color: #800000;\"><a href=\"/17156315/%E0%B8%82%E0%B9%89%E0%B8%AD%E0%B8%A1%E0%B8%B9%E0%B8%A5%E0%B8%AA%E0%B8%A0%E0%B8%B2%E0%B8%A7%E0%B8%B0%E0%B8%95%E0%B8%A5%E0%B8%B2%E0%B8%94%E0%B8%AA%E0%B8%B8%E0%B8%81%E0%B8%A3%E0%B8%A1%E0%B8%B5%E0%B8%8A%E0%B8%B5%E0%B8%A7%E0%B8%B4%E0%B8%95-%E0%B8%A7%E0%B8%B1%E0%B8%99%E0%B8%9E%E0%B8%A3%E0%B8%B0%E0%B8%97%E0%B8%B5%E0%B9%88-4-%E0%B8%9E%E0%B8%A4%E0%B8%A8%E0%B8%88%E0%B8%B4%E0%B8%81%E0%B8%B2%E0%B8%A2%E0%B8%99-2562\"><span style=\"color: #800000; text-decoration: underline;\"> วันพระที่ 4 พฤศจิกายน 2562</span></a></span></span></strong></p>,\n",
              " <p style=\"text-align: center;\"><strong><span style=\"text-decoration: underline;\"><span style=\"color: #800000;\"><a href=\"/17159130/%E0%B8%82%E0%B9%89%E0%B8%AD%E0%B8%A1%E0%B8%B9%E0%B8%A5%E0%B8%AA%E0%B8%A0%E0%B8%B2%E0%B8%A7%E0%B8%B0%E0%B8%95%E0%B8%A5%E0%B8%B2%E0%B8%94%E0%B8%AA%E0%B8%B8%E0%B8%81%E0%B8%A3%E0%B8%A1%E0%B8%B5%E0%B8%8A%E0%B8%B5%E0%B8%A7%E0%B8%B4%E0%B8%95-%E0%B8%A7%E0%B8%B1%E0%B8%99%E0%B8%9E%E0%B8%A3%E0%B8%B0%E0%B8%97%E0%B8%B5%E0%B9%88-11-%E0%B8%9E%E0%B8%A4%E0%B8%A8%E0%B8%88%E0%B8%B4%E0%B8%81%E0%B8%B2%E0%B8%A2%E0%B8%99-2562\"><span style=\"color: #800000; text-decoration: underline;\">วันพระที่ 11 พฤศจิกายน 2562</span></a></span></span></strong></p>,\n",
              " <p style=\"text-align: center;\"><strong><span style=\"color: #800000;\"><a href=\"/17170884/%E0%B8%82%E0%B9%89%E0%B8%AD%E0%B8%A1%E0%B8%B9%E0%B8%A5%E0%B8%AA%E0%B8%A0%E0%B8%B2%E0%B8%A7%E0%B8%B0%E0%B8%95%E0%B8%A5%E0%B8%B2%E0%B8%94%E0%B8%AA%E0%B8%B8%E0%B8%81%E0%B8%A3%E0%B8%A1%E0%B8%B5%E0%B8%8A%E0%B8%B5%E0%B8%A7%E0%B8%B4%E0%B8%95-%E0%B8%A7%E0%B8%B1%E0%B8%99%E0%B8%9E%E0%B8%A3%E0%B8%B0%E0%B8%97%E0%B8%B5%E0%B9%88-19-%E0%B8%98%E0%B8%B1%E0%B8%99%E0%B8%A7%E0%B8%B2%E0%B8%84%E0%B8%A1-2562\"><span style=\"color: #800000;\">วันพระที่ 19 พฤศจิกายน 2562</span></a></span></strong></p>,\n",
              " <p style=\"text-align: center;\"><strong><span style=\"color: #800000;\"><a href=\"/17164234/%E0%B8%82%E0%B9%89%E0%B8%AD%E0%B8%A1%E0%B8%B9%E0%B8%A5%E0%B8%AA%E0%B8%A0%E0%B8%B2%E0%B8%A7%E0%B8%B0%E0%B8%95%E0%B8%A5%E0%B8%B2%E0%B8%94%E0%B8%AA%E0%B8%B8%E0%B8%81%E0%B8%A3%E0%B8%A1%E0%B8%B5%E0%B8%8A%E0%B8%B5%E0%B8%A7%E0%B8%B4%E0%B8%95-%E0%B8%A7%E0%B8%B1%E0%B8%99%E0%B8%9E%E0%B8%A3%E0%B8%B0%E0%B8%97%E0%B8%B5%E0%B9%88-26-%E0%B8%9E%E0%B8%A4%E0%B8%A8%E0%B8%88%E0%B8%B4%E0%B8%81%E0%B8%B2%E0%B8%A2%E0%B8%99-2562\"><span style=\"color: #800000;\">วันพระที่ 26 พฤศจิกายน 2562</span></a></span></strong></p>,\n",
              " <p style=\"text-align: center;\"><span style=\"color: #ff6600;\"> <strong><span style=\"text-decoration: underline;\"><span style=\"color: #800000;\"><a href=\"/17166968/%E0%B8%AA%E0%B8%96%E0%B8%B2%E0%B8%99%E0%B8%81%E0%B8%B2%E0%B8%A3%E0%B8%93%E0%B9%8C%E0%B8%A3%E0%B8%B2%E0%B8%84%E0%B8%B2%E0%B8%AA%E0%B8%B8%E0%B8%81%E0%B8%A3%E0%B8%A1%E0%B8%B5%E0%B8%8A%E0%B8%B5%E0%B8%A7%E0%B8%B4%E0%B8%95%E0%B8%AB%E0%B8%99%E0%B9%89%E0%B8%B2%E0%B8%9F%E0%B8%B2%E0%B8%A3%E0%B9%8C%E0%B8%A1-%E0%B8%A7%E0%B8%B1%E0%B8%99%E0%B8%9E%E0%B8%A3%E0%B8%B0%E0%B8%97%E0%B8%B5%E0%B9%88-4-%E0%B8%98%E0%B8%B1%E0%B8%99%E0%B8%A7%E0%B8%B2%E0%B8%84%E0%B8%A1-2562\"><span style=\"color: #800000; text-decoration: underline;\">วันพระที่ 4 ธันวาคม 2562</span></a></span></span></strong></span></p>,\n",
              " <p style=\"text-align: center;\"><strong><span style=\"text-decoration: underline;\"><span style=\"color: #800000;\"><a href=\"/17168941/%E0%B8%82%E0%B9%89%E0%B8%AD%E0%B8%A1%E0%B8%B9%E0%B8%A5%E0%B8%AA%E0%B8%A0%E0%B8%B2%E0%B8%A7%E0%B8%B0%E0%B8%95%E0%B8%A5%E0%B8%B2%E0%B8%94%E0%B8%AA%E0%B8%B8%E0%B8%81%E0%B8%A3%E0%B8%A1%E0%B8%B5%E0%B8%8A%E0%B8%B5%E0%B8%A7%E0%B8%B4%E0%B8%95-%E0%B8%A7%E0%B8%B1%E0%B8%99%E0%B8%9E%E0%B8%A3%E0%B8%B0%E0%B8%97%E0%B8%B5%E0%B9%88-11-%E0%B8%98%E0%B8%B1%E0%B8%99%E0%B8%A7%E0%B8%B2%E0%B8%84%E0%B8%A1-2562\"><span style=\"color: #800000; text-decoration: underline;\">วันพระที่ 11 ธันวาคม 2562</span></a></span></span></strong></p>,\n",
              " <p style=\"text-align: center;\"><strong><span style=\"color: #800000;\"><a href=\"/17170884/%E0%B8%82%E0%B9%89%E0%B8%AD%E0%B8%A1%E0%B8%B9%E0%B8%A5%E0%B8%AA%E0%B8%A0%E0%B8%B2%E0%B8%A7%E0%B8%B0%E0%B8%95%E0%B8%A5%E0%B8%B2%E0%B8%94%E0%B8%AA%E0%B8%B8%E0%B8%81%E0%B8%A3%E0%B8%A1%E0%B8%B5%E0%B8%8A%E0%B8%B5%E0%B8%A7%E0%B8%B4%E0%B8%95-%E0%B8%A7%E0%B8%B1%E0%B8%99%E0%B8%9E%E0%B8%A3%E0%B8%B0%E0%B8%97%E0%B8%B5%E0%B9%88-19-%E0%B8%98%E0%B8%B1%E0%B8%99%E0%B8%A7%E0%B8%B2%E0%B8%84%E0%B8%A1-2562\"><span style=\"color: #800000;\">วันพระที่ 19 ธันวาคม 2562</span></a></span></strong></p>,\n",
              " <p style=\"text-align: center;\"><strong><span style=\"text-decoration: underline; color: #800000;\"><a href=\"/17172370/%E0%B8%82%E0%B9%89%E0%B8%AD%E0%B8%A1%E0%B8%B9%E0%B8%A5%E0%B8%AA%E0%B8%A0%E0%B8%B2%E0%B8%A7%E0%B8%B0%E0%B8%95%E0%B8%A5%E0%B8%B2%E0%B8%94%E0%B8%AA%E0%B8%B8%E0%B8%81%E0%B8%A3%E0%B8%A1%E0%B8%B5%E0%B8%8A%E0%B8%B5%E0%B8%A7%E0%B8%B4%E0%B8%95-%E0%B8%A7%E0%B8%B1%E0%B8%99%E0%B8%9E%E0%B8%A3%E0%B8%B0%E0%B8%97%E0%B8%B5%E0%B9%88-25-%E0%B8%98%E0%B8%B1%E0%B8%99%E0%B8%A7%E0%B8%B2%E0%B8%84%E0%B8%A1-2562\"><span style=\"color: #800000; text-decoration: underline;\">วันพระที่ 25 ธันวาคม 2562</span></a></span></strong></p>,\n",
              " <p> </p>,\n",
              " <p style=\"text-align: center;\"><span style=\"color: #800000; font-size: 18pt;\"> <strong>ราคาสุกรขุนปี 2561</strong></span></p>,\n",
              " <p><a href=\"/16804922/%E0%B8%A3%E0%B8%B2%E0%B8%84%E0%B8%B2%E0%B8%AA%E0%B8%B8%E0%B8%81%E0%B8%A3%E0%B8%A1%E0%B8%B5%E0%B8%8A%E0%B8%B5%E0%B8%A7%E0%B8%B4%E0%B8%95%E0%B8%AB%E0%B8%99%E0%B9%89%E0%B8%B2%E0%B8%9F%E0%B8%B2%E0%B8%A3%E0%B9%8C%E0%B8%A1%E0%B8%9E%E0%B8%A3%E0%B8%B0%E0%B8%97%E0%B8%B5%E0%B9%88-1-%E0%B8%A1%E0%B8%81%E0%B8%A3%E0%B8%B2%E0%B8%84%E0%B8%A1-2561\"><span style=\"color: #800000;\"><strong>วันพระที่  1 มกราคม 2561</strong></span></a></p>,\n",
              " <p><a href=\"/16809550/%E0%B8%A3%E0%B8%B2%E0%B8%84%E0%B8%B2%E0%B8%AA%E0%B8%B8%E0%B8%81%E0%B8%A3%E0%B8%A1%E0%B8%B5%E0%B8%8A%E0%B8%B5%E0%B8%A7%E0%B8%B4%E0%B8%95%E0%B8%AB%E0%B8%99%E0%B9%89%E0%B8%B2%E0%B8%9F%E0%B8%B2%E0%B8%A3%E0%B9%8C%E0%B8%A1%E0%B8%9E%E0%B8%A3%E0%B8%B0%E0%B8%97%E0%B8%B5%E0%B9%88-9-%E0%B8%A1%E0%B8%81%E0%B8%A3%E0%B8%B2%E0%B8%84%E0%B8%A1-2561\"><span style=\"color: #800000;\"><strong>วันพระที่  9 มกราคม 2561</strong></span></a></p>,\n",
              " <p><a href=\"/16815305/%E0%B8%A3%E0%B8%B2%E0%B8%84%E0%B8%B2%E0%B8%AA%E0%B8%B8%E0%B8%81%E0%B8%A3%E0%B8%A1%E0%B8%B5%E0%B8%8A%E0%B8%B5%E0%B8%A7%E0%B8%B4%E0%B8%95%E0%B8%AB%E0%B8%99%E0%B9%89%E0%B8%B2%E0%B8%9F%E0%B8%B2%E0%B8%A3%E0%B9%8C%E0%B8%A1%E0%B8%9E%E0%B8%A3%E0%B8%B0%E0%B8%97%E0%B8%B5%E0%B9%88-16-%E0%B8%A1%E0%B8%81%E0%B8%A3%E0%B8%B2%E0%B8%84%E0%B8%A1-2561\"><span style=\"color: #800000;\"><strong>วันพระที่ 16 มกราคม 2561</strong></span></a></p>,\n",
              " <p><a href=\"/16822334/%E0%B8%A3%E0%B8%B2%E0%B8%84%E0%B8%B2%E0%B8%AA%E0%B8%B8%E0%B8%81%E0%B8%A3%E0%B8%A1%E0%B8%B5%E0%B8%8A%E0%B8%B5%E0%B8%A7%E0%B8%B4%E0%B8%95%E0%B8%AB%E0%B8%99%E0%B9%89%E0%B8%B2%E0%B8%9F%E0%B8%B2%E0%B8%A3%E0%B9%8C%E0%B8%A1%E0%B8%9E%E0%B8%A3%E0%B8%B0%E0%B8%97%E0%B8%B5%E0%B9%88-24-%E0%B8%A1%E0%B8%81%E0%B8%A3%E0%B8%B2%E0%B8%84%E0%B8%A1-2561\"><span style=\"color: #800000;\"><strong>วันพระที่ 24 มกราคม 2561</strong></span></a></p>,\n",
              " <p><a href=\"/16829092/%E0%B8%A3%E0%B8%B2%E0%B8%84%E0%B8%B2%E0%B8%AA%E0%B8%B8%E0%B8%81%E0%B8%A3%E0%B8%A1%E0%B8%B5%E0%B8%8A%E0%B8%B5%E0%B8%A7%E0%B8%B4%E0%B8%95%E0%B8%AB%E0%B8%99%E0%B9%89%E0%B8%B2%E0%B8%9F%E0%B8%B2%E0%B8%A3%E0%B9%8C%E0%B8%A1%E0%B8%9E%E0%B8%A3%E0%B8%B0%E0%B8%97%E0%B8%B5%E0%B9%88-31-%E0%B8%A1%E0%B8%81%E0%B8%A3%E0%B8%B2%E0%B8%84%E0%B8%A1-2561\"><span style=\"color: #800000;\"><strong>วันพระที่ 31 มกราคม 2561</strong></span></a></p>,\n",
              " <p><a href=\"/16838181/%E0%B8%A3%E0%B8%B2%E0%B8%84%E0%B8%B2%E0%B8%AA%E0%B8%B8%E0%B8%81%E0%B8%A3%E0%B8%A1%E0%B8%B5%E0%B8%8A%E0%B8%B5%E0%B8%A7%E0%B8%B4%E0%B8%95%E0%B8%AB%E0%B8%99%E0%B9%89%E0%B8%B2%E0%B8%9F%E0%B8%B2%E0%B8%A3%E0%B9%8C%E0%B8%A1%E0%B8%9E%E0%B8%A3%E0%B8%B0%E0%B8%97%E0%B8%B5%E0%B9%88-8-%E0%B8%81%E0%B8%B8%E0%B8%A1%E0%B8%A0%E0%B8%B2%E0%B8%9E%E0%B8%B1%E0%B8%99%E0%B8%98%E0%B9%8C-2561\"><span style=\"color: #800000;\"><strong>วันพระที่  8 กุมภาพันธ์ 2561</strong></span></a></p>,\n",
              " <p><a href=\"/16841826/%E0%B8%A3%E0%B8%B2%E0%B8%84%E0%B8%B2%E0%B8%AA%E0%B8%B8%E0%B8%81%E0%B8%A3%E0%B8%A1%E0%B8%B5%E0%B8%8A%E0%B8%B5%E0%B8%A7%E0%B8%B4%E0%B8%95%E0%B8%AB%E0%B8%99%E0%B9%89%E0%B8%B2%E0%B8%9F%E0%B8%B2%E0%B8%A3%E0%B9%8C%E0%B8%A1%E0%B8%9E%E0%B8%A3%E0%B8%B0%E0%B8%97%E0%B8%B5%E0%B9%88-14-%E0%B8%81%E0%B8%B8%E0%B8%A1%E0%B8%A0%E0%B8%B2%E0%B8%9E%E0%B8%B1%E0%B8%99%E0%B8%98%E0%B9%8C-2561\"><span style=\"color: #800000;\"><strong>วันพระที่ 14 กุมภาพันธ์ 2561</strong></span></a></p>,\n",
              " <p><a href=\"/16848700/%E0%B8%A3%E0%B8%B2%E0%B8%84%E0%B8%B2%E0%B8%AA%E0%B8%B8%E0%B8%81%E0%B8%A3%E0%B8%A1%E0%B8%B5%E0%B8%8A%E0%B8%B5%E0%B8%A7%E0%B8%B4%E0%B8%95%E0%B8%AB%E0%B8%99%E0%B9%89%E0%B8%B2%E0%B8%9F%E0%B8%B2%E0%B8%A3%E0%B9%8C%E0%B8%A1%E0%B8%9E%E0%B8%A3%E0%B8%B0%E0%B8%97%E0%B8%B5%E0%B9%88-22-%E0%B8%81%E0%B8%B8%E0%B8%A1%E0%B8%A0%E0%B8%B2%E0%B8%9E%E0%B8%B1%E0%B8%99%E0%B8%98%E0%B9%8C-2561\"><span style=\"color: #800000;\"><strong>วันพระที่ 22 กุมภาพันธ์ 2561</strong></span></a></p>,\n",
              " <p> </p>,\n",
              " <p> </p>,\n",
              " <p><a href=\"/16854187/%E0%B8%A3%E0%B8%B2%E0%B8%84%E0%B8%B2%E0%B8%AA%E0%B8%B8%E0%B8%81%E0%B8%A3%E0%B8%A1%E0%B8%B5%E0%B8%8A%E0%B8%B5%E0%B8%A7%E0%B8%B4%E0%B8%95%E0%B8%AB%E0%B8%99%E0%B9%89%E0%B8%B2%E0%B8%9F%E0%B8%B2%E0%B8%A3%E0%B9%8C%E0%B8%A1%E0%B8%9E%E0%B8%A3%E0%B8%B0%E0%B8%97%E0%B8%B5%E0%B9%88-1-%E0%B8%A1%E0%B8%B5%E0%B8%99%E0%B8%B2%E0%B8%84%E0%B8%A1-2561\"><span style=\"color: #800000;\"><strong>วันพระที่  1 มีนาคม 2561</strong></span></a></p>,\n",
              " <p><a href=\"/16866228/%E0%B8%A3%E0%B8%B2%E0%B8%84%E0%B8%B2%E0%B8%AA%E0%B8%B8%E0%B8%81%E0%B8%A3%E0%B8%A1%E0%B8%B5%E0%B8%8A%E0%B8%B5%E0%B8%A7%E0%B8%B4%E0%B8%95%E0%B8%AB%E0%B8%99%E0%B9%89%E0%B8%B2%E0%B8%9F%E0%B8%B2%E0%B8%A3%E0%B9%8C%E0%B8%A1%E0%B8%9E%E0%B8%A3%E0%B8%B0%E0%B8%97%E0%B8%B5%E0%B9%88-9-%E0%B8%A1%E0%B8%B5%E0%B8%99%E0%B8%B2%E0%B8%84%E0%B8%A1-2561\"><span style=\"color: #800000;\"><strong>วันพระที่  9 มีนาคม 2561</strong></span></a></p>,\n",
              " <p><a href=\"/16866188/%E0%B8%A3%E0%B8%B2%E0%B8%84%E0%B8%B2%E0%B8%AA%E0%B8%B8%E0%B8%81%E0%B8%A3%E0%B8%A1%E0%B8%B5%E0%B8%8A%E0%B8%B5%E0%B8%A7%E0%B8%B4%E0%B8%95%E0%B8%AB%E0%B8%99%E0%B9%89%E0%B8%B2%E0%B8%9F%E0%B8%B2%E0%B8%A3%E0%B9%8C%E0%B8%A1%E0%B8%9E%E0%B8%A3%E0%B8%B0%E0%B8%97%E0%B8%B5%E0%B9%88-16-%E0%B8%A1%E0%B8%B5%E0%B8%99%E0%B8%B2%E0%B8%84%E0%B8%A1-2561\"><span style=\"color: #800000;\"><strong>วันพระที่ 16 มีนาคม 2561</strong></span></a></p>,\n",
              " <p><span style=\"color: #800000;\"><a href=\"/16872008/%E0%B8%A3%E0%B8%B2%E0%B8%84%E0%B8%B2%E0%B8%AA%E0%B8%B8%E0%B8%81%E0%B8%A3%E0%B8%A1%E0%B8%B5%E0%B8%8A%E0%B8%B5%E0%B8%A7%E0%B8%B4%E0%B8%95%E0%B8%AB%E0%B8%99%E0%B9%89%E0%B8%B2%E0%B8%9F%E0%B8%B2%E0%B8%A3%E0%B9%8C%E0%B8%A1%E0%B8%9E%E0%B8%A3%E0%B8%B0%E0%B8%97%E0%B8%B5%E0%B9%88-24-%E0%B8%A1%E0%B8%B5%E0%B8%99%E0%B8%B2%E0%B8%84%E0%B8%A1-2561\"><span style=\"color: #800000;\"><strong>วันพระที่ 24 มีนาคม 2561</strong></span></a></span></p>,\n",
              " <p><span style=\"color: #800000;\"><a href=\"/16878078/%E0%B8%A3%E0%B8%B2%E0%B8%84%E0%B8%B2%E0%B8%AA%E0%B8%B8%E0%B8%81%E0%B8%A3%E0%B8%A1%E0%B8%B5%E0%B8%8A%E0%B8%B5%E0%B8%A7%E0%B8%B4%E0%B8%95%E0%B8%AB%E0%B8%99%E0%B9%89%E0%B8%B2%E0%B8%9F%E0%B8%B2%E0%B8%A3%E0%B9%8C%E0%B8%A1%E0%B8%9E%E0%B8%A3%E0%B8%B0%E0%B8%97%E0%B8%B5%E0%B9%88-31-%E0%B8%A1%E0%B8%B5%E0%B8%99%E0%B8%B2%E0%B8%84%E0%B8%A1-2561\"><span style=\"color: #800000;\"><strong>วันพระที่ 31 มีนาคม 2561</strong></span></a></span></p>,\n",
              " <p> </p>,\n",
              " <p><span style=\"color: #800000;\"><a href=\"/16883670/%E0%B8%A3%E0%B8%B2%E0%B8%84%E0%B8%B2%E0%B8%AA%E0%B8%B8%E0%B8%81%E0%B8%A3%E0%B8%A1%E0%B8%B5%E0%B8%8A%E0%B8%B5%E0%B8%A7%E0%B8%B4%E0%B8%95%E0%B8%AB%E0%B8%99%E0%B9%89%E0%B8%B2%E0%B8%9F%E0%B8%B2%E0%B8%A3%E0%B9%8C%E0%B8%A1%E0%B8%9E%E0%B8%A3%E0%B8%B0%E0%B8%97%E0%B8%B5%E0%B9%88-8-%E0%B9%80%E0%B8%A1%E0%B8%A9%E0%B8%B2%E0%B8%A2%E0%B8%99-2561\"><span style=\"color: #800000;\"><strong>วันพระที่  8 เมษายน 2561</strong></span></a></span></p>,\n",
              " <p><span style=\"color: #800000;\"><a href=\"/16887243/%E0%B8%A3%E0%B8%B2%E0%B8%84%E0%B8%B2%E0%B8%AA%E0%B8%B8%E0%B8%81%E0%B8%A3%E0%B8%A1%E0%B8%B5%E0%B8%8A%E0%B8%B5%E0%B8%A7%E0%B8%B4%E0%B8%95%E0%B8%AB%E0%B8%99%E0%B9%89%E0%B8%B2%E0%B8%9F%E0%B8%B2%E0%B8%A3%E0%B9%8C%E0%B8%A1%E0%B8%9E%E0%B8%A3%E0%B8%B0%E0%B8%97%E0%B8%B5%E0%B9%88-14-%E0%B9%80%E0%B8%A1%E0%B8%A9%E0%B8%B2%E0%B8%A2%E0%B8%99-2561\"><span style=\"color: #800000;\"><strong>วันพระที่ 14 <strong>เมษายน </strong> 2561</strong></span></a></span></p>,\n",
              " <p><span style=\"color: #800000;\"><a href=\"/16892023/%E0%B8%A3%E0%B8%B2%E0%B8%84%E0%B8%B2%E0%B8%AA%E0%B8%B8%E0%B8%81%E0%B8%A3%E0%B8%A1%E0%B8%B5%E0%B8%8A%E0%B8%B5%E0%B8%A7%E0%B8%B4%E0%B8%95%E0%B8%AB%E0%B8%99%E0%B9%89%E0%B8%B2%E0%B8%9F%E0%B8%B2%E0%B8%A3%E0%B9%8C%E0%B8%A1%E0%B8%9E%E0%B8%A3%E0%B8%B0%E0%B8%97%E0%B8%B5%E0%B9%88-22-%E0%B9%80%E0%B8%A1%E0%B8%A9%E0%B8%B2%E0%B8%A2%E0%B8%99-2561-\"><span style=\"color: #800000;\"><strong>วันพระที่ 22 <strong>เมษายน </strong> 2561</strong></span></a></span></p>,\n",
              " <p><span style=\"color: #800000;\"><a href=\"/16897503/%E0%B8%A3%E0%B8%B2%E0%B8%84%E0%B8%B2%E0%B8%AA%E0%B8%B8%E0%B8%81%E0%B8%A3%E0%B8%A1%E0%B8%B5%E0%B8%8A%E0%B8%B5%E0%B8%A7%E0%B8%B4%E0%B8%95%E0%B8%AB%E0%B8%99%E0%B9%89%E0%B8%B2%E0%B8%9F%E0%B8%B2%E0%B8%A3%E0%B9%8C%E0%B8%A1%E0%B8%9E%E0%B8%A3%E0%B8%B0%E0%B8%97%E0%B8%B5%E0%B9%88-29-%E0%B9%80%E0%B8%A1%E0%B8%A9%E0%B8%B2%E0%B8%A2%E0%B8%99-2561\"><span style=\"color: #800000;\"><strong>วันพระที่ 29 <strong>เมษายน </strong> 2561</strong></span></a></span></p>,\n",
              " <p> </p>,\n",
              " <p><span style=\"color: #800000;\"><a href=\"/16902679/%E0%B8%A3%E0%B8%B2%E0%B8%84%E0%B8%B2%E0%B8%AA%E0%B8%B8%E0%B8%81%E0%B8%A3%E0%B8%A1%E0%B8%B5%E0%B8%8A%E0%B8%B5%E0%B8%A7%E0%B8%B4%E0%B8%95%E0%B8%AB%E0%B8%99%E0%B9%89%E0%B8%B2%E0%B8%9F%E0%B8%B2%E0%B8%A3%E0%B9%8C%E0%B8%A1%E0%B8%9E%E0%B8%A3%E0%B8%B0%E0%B8%97%E0%B8%B5%E0%B9%88-7-%E0%B8%9E%E0%B8%A4%E0%B8%A9%E0%B8%A0%E0%B8%B2%E0%B8%84%E0%B8%A1-2561\"><span style=\"color: #800000;\"><strong>วันพระที่   7 พฤษภาคม 2561</strong></span></a></span></p>,\n",
              " <p><span style=\"color: #800000;\"><a href=\"/16906613/%E0%B8%A3%E0%B8%B2%E0%B8%84%E0%B8%B2%E0%B8%AA%E0%B8%B8%E0%B8%81%E0%B8%A3%E0%B8%A1%E0%B8%B5%E0%B8%8A%E0%B8%B5%E0%B8%A7%E0%B8%B4%E0%B8%95%E0%B8%AB%E0%B8%99%E0%B9%89%E0%B8%B2%E0%B8%9F%E0%B8%B2%E0%B8%A3%E0%B9%8C%E0%B8%A1%E0%B8%9E%E0%B8%A3%E0%B8%B0%E0%B8%97%E0%B8%B5%E0%B9%88-14-%E0%B8%9E%E0%B8%A4%E0%B8%A9%E0%B8%A0%E0%B8%B2%E0%B8%84%E0%B8%A1-2561\"><span style=\"color: #800000;\"><strong>วันพระที่ 14<strong> พฤษภาคม</strong> 2561</strong></span></a></span></p>,\n",
              " <p><span style=\"color: #800000;\"><a href=\"/16911929/%E0%B8%A3%E0%B8%B2%E0%B8%84%E0%B8%B2%E0%B8%AA%E0%B8%B8%E0%B8%81%E0%B8%A3%E0%B8%A1%E0%B8%B5%E0%B8%8A%E0%B8%B5%E0%B8%A7%E0%B8%B4%E0%B8%95%E0%B8%AB%E0%B8%99%E0%B9%89%E0%B8%B2%E0%B8%9F%E0%B8%B2%E0%B8%A3%E0%B9%8C%E0%B8%A1%E0%B8%9E%E0%B8%A3%E0%B8%B0%E0%B8%97%E0%B8%B5%E0%B9%88-22-%E0%B8%9E%E0%B8%A4%E0%B8%A9%E0%B8%A0%E0%B8%B2%E0%B8%84%E0%B8%A1-2561-\"><span style=\"color: #800000;\"><strong>วันพระที่ 22<strong><strong> พฤษภาคม</strong></strong> 2561</strong></span></a></span></p>,\n",
              " <p><span style=\"color: #800000;\"><a href=\"/16917050/%E0%B8%A3%E0%B8%B2%E0%B8%84%E0%B8%B2%E0%B8%AA%E0%B8%B8%E0%B8%81%E0%B8%A3%E0%B8%A1%E0%B8%B5%E0%B8%8A%E0%B8%B5%E0%B8%A7%E0%B8%B4%E0%B8%95%E0%B8%AB%E0%B8%99%E0%B9%89%E0%B8%B2%E0%B8%9F%E0%B8%B2%E0%B8%A3%E0%B9%8C%E0%B8%A1%E0%B8%9E%E0%B8%A3%E0%B8%B0%E0%B8%97%E0%B8%B5%E0%B9%88-29-%E0%B8%9E%E0%B8%A4%E0%B8%A9%E0%B8%A0%E0%B8%B2%E0%B8%84%E0%B8%A1-2561\"><span style=\"color: #800000;\"><strong>วันพระที่ 29<strong><strong> พฤษภาคม</strong></strong> 2561</strong></span></a></span></p>,\n",
              " <p><span style=\"color: #800000;\"><a href=\"/16923123/%E0%B8%A3%E0%B8%B2%E0%B8%84%E0%B8%B2%E0%B8%AA%E0%B8%B8%E0%B8%81%E0%B8%A3%E0%B8%A1%E0%B8%B5%E0%B8%8A%E0%B8%B5%E0%B8%A7%E0%B8%B4%E0%B8%95%E0%B8%AB%E0%B8%99%E0%B9%89%E0%B8%B2%E0%B8%9F%E0%B8%B2%E0%B8%A3%E0%B9%8C%E0%B8%A1%E0%B8%9E%E0%B8%A3%E0%B8%B0%E0%B8%97%E0%B8%B5%E0%B9%88-6-%E0%B8%A1%E0%B8%B4%E0%B8%96%E0%B8%B8%E0%B8%99%E0%B8%B2%E0%B8%A2%E0%B8%99-2561\"><span style=\"color: #800000;\"><strong>วันพระที่  6 มิถุนายน 2561</strong></span></a></span></p>,\n",
              " <p><span style=\"color: #800000;\"><a href=\"/16927153/%E0%B8%A3%E0%B8%B2%E0%B8%84%E0%B8%B2%E0%B8%AA%E0%B8%B8%E0%B8%81%E0%B8%A3%E0%B8%A1%E0%B8%B5%E0%B8%8A%E0%B8%B5%E0%B8%A7%E0%B8%B4%E0%B8%95%E0%B8%AB%E0%B8%99%E0%B9%89%E0%B8%B2%E0%B8%9F%E0%B8%B2%E0%B8%A3%E0%B9%8C%E0%B8%A1%E0%B8%9E%E0%B8%A3%E0%B8%B0%E0%B8%97%E0%B8%B5%E0%B9%88-12-%E0%B8%A1%E0%B8%B4%E0%B8%96%E0%B8%B8%E0%B8%99%E0%B8%B2%E0%B8%A2%E0%B8%99-2561\"><span style=\"color: #800000;\"><strong>วันพระที่ <strong>12 มิถุนายน</strong> 2561</strong></span></a></span></p>,\n",
              " <p><span style=\"color: #800000;\"><a href=\"/16933939/%E0%B8%A3%E0%B8%B2%E0%B8%84%E0%B8%B2%E0%B8%AA%E0%B8%B8%E0%B8%81%E0%B8%A3%E0%B8%A1%E0%B8%B5%E0%B8%8A%E0%B8%B5%E0%B8%A7%E0%B8%B4%E0%B8%95%E0%B8%AB%E0%B8%99%E0%B9%89%E0%B8%B2%E0%B8%9F%E0%B8%B2%E0%B8%A3%E0%B9%8C%E0%B8%A1%E0%B8%9E%E0%B8%A3%E0%B8%B0%E0%B8%97%E0%B8%B5%E0%B9%88-20-%E0%B8%A1%E0%B8%B4%E0%B8%96%E0%B8%B8%E0%B8%99%E0%B8%B2%E0%B8%A2%E0%B8%99-2561\"><span style=\"color: #800000;\"><strong>วันพระที่ 20<strong><strong> มิถุนายน</strong></strong> 2561</strong></span></a></span></p>,\n",
              " <p><span style=\"color: #800000;\"><a href=\"/16939493/%E0%B8%A3%E0%B8%B2%E0%B8%84%E0%B8%B2%E0%B8%AA%E0%B8%B8%E0%B8%81%E0%B8%A3%E0%B8%A1%E0%B8%B5%E0%B8%8A%E0%B8%B5%E0%B8%A7%E0%B8%B4%E0%B8%95%E0%B8%AB%E0%B8%99%E0%B9%89%E0%B8%B2%E0%B8%9F%E0%B8%B2%E0%B8%A3%E0%B9%8C%E0%B8%A1%E0%B8%9E%E0%B8%A3%E0%B8%B0%E0%B8%97%E0%B8%B5%E0%B9%88-27-%E0%B8%A1%E0%B8%B4%E0%B8%96%E0%B8%B8%E0%B8%99%E0%B8%B2%E0%B8%A2%E0%B8%99-2561\"><span style=\"color: #800000;\"><strong>วันพระที่ 27<strong><strong> มิถุนายน</strong></strong> 2561</strong></span></a></span></p>,\n",
              " <p><span style=\"color: #800000;\"><a href=\"/16944162/%E0%B8%A3%E0%B8%B2%E0%B8%84%E0%B8%B2%E0%B8%AA%E0%B8%B8%E0%B8%81%E0%B8%A3%E0%B8%A1%E0%B8%B5%E0%B8%8A%E0%B8%B5%E0%B8%A7%E0%B8%B4%E0%B8%95%E0%B8%AB%E0%B8%99%E0%B9%89%E0%B8%B2%E0%B8%9F%E0%B8%B2%E0%B8%A3%E0%B9%8C%E0%B8%A1%E0%B8%9E%E0%B8%A3%E0%B8%B0%E0%B8%97%E0%B8%B5%E0%B9%88-5-%E0%B8%81%E0%B8%A3%E0%B8%81%E0%B8%8E%E0%B8%B2%E0%B8%84%E0%B8%A1-2561\"><span style=\"color: #800000;\"><strong>วันพระที่  5 กรกฎาคม 2561</strong></span></a></span></p>,\n",
              " <p><span style=\"color: #800000;\"><a href=\"/16949130/%E0%B8%A3%E0%B8%B2%E0%B8%84%E0%B8%B2%E0%B8%AA%E0%B8%B8%E0%B8%81%E0%B8%A3%E0%B8%A1%E0%B8%B5%E0%B8%8A%E0%B8%B5%E0%B8%A7%E0%B8%B4%E0%B8%95%E0%B8%AB%E0%B8%99%E0%B9%89%E0%B8%B2%E0%B8%9F%E0%B8%B2%E0%B8%A3%E0%B9%8C%E0%B8%A1-%E0%B8%9E%E0%B8%A3%E0%B8%B0%E0%B8%97%E0%B8%B5%E0%B9%88-12-%E0%B8%81%E0%B8%A3%E0%B8%81%E0%B8%8E%E0%B8%B2%E0%B8%84%E0%B8%A1-2561\"><span style=\"color: #800000;\"><strong>วันพระที่ <strong>12 กรกฎาคม</strong> 2561</strong></span></a></span></p>,\n",
              " <p><span style=\"color: #800000;\"><a href=\"/16955716/%E0%B8%A3%E0%B8%B2%E0%B8%84%E0%B8%B2%E0%B8%AA%E0%B8%B8%E0%B8%81%E0%B8%A3%E0%B8%A1%E0%B8%B5%E0%B8%8A%E0%B8%B5%E0%B8%A7%E0%B8%B4%E0%B8%95%E0%B8%AB%E0%B8%99%E0%B9%89%E0%B8%B2%E0%B8%9F%E0%B8%B2%E0%B8%A3%E0%B9%8C%E0%B8%A1%E0%B8%9E%E0%B8%A3%E0%B8%B0%E0%B8%97%E0%B8%B5%E0%B9%88-20-%E0%B8%81%E0%B8%A3%E0%B8%81%E0%B8%8E%E0%B8%B2%E0%B8%84%E0%B8%A1-2561\"><span style=\"color: #800000;\"><strong>วันพระที่ <strong>20 กรกฎาคม</strong> 2561</strong></span></a></span></p>,\n",
              " <p><span style=\"color: #800000;\"><a href=\"/16960492/%E0%B8%A3%E0%B8%B2%E0%B8%84%E0%B8%B2%E0%B8%AA%E0%B8%B8%E0%B8%81%E0%B8%A3%E0%B8%A1%E0%B8%B5%E0%B8%8A%E0%B8%B5%E0%B8%A7%E0%B8%B4%E0%B8%95%E0%B8%AB%E0%B8%99%E0%B9%89%E0%B8%B2%E0%B8%9F%E0%B8%B2%E0%B8%A3%E0%B9%8C%E0%B8%A1-%E0%B8%9E%E0%B8%A3%E0%B8%B0%E0%B8%97%E0%B8%B5%E0%B9%88-27-%E0%B8%81%E0%B8%A3%E0%B8%81%E0%B8%8E%E0%B8%B2%E0%B8%84%E0%B8%A1-2561\"><span style=\"color: #800000;\"><strong>วันพระที่ <strong>27 กรกฎาคม</strong> 2561</strong></span></a></span></p>,\n",
              " <p><span style=\"color: #800000;\"><a href=\"/16965355/%E0%B8%A3%E0%B8%B2%E0%B8%84%E0%B8%B2%E0%B8%AA%E0%B8%B8%E0%B8%81%E0%B8%A3%E0%B8%A1%E0%B8%B5%E0%B8%8A%E0%B8%B5%E0%B8%A7%E0%B8%B4%E0%B8%95%E0%B8%AB%E0%B8%99%E0%B9%89%E0%B8%B2%E0%B8%9F%E0%B8%B2%E0%B8%A3%E0%B9%8C%E0%B8%A1%E0%B8%9E%E0%B8%A3%E0%B8%B0%E0%B8%97%E0%B8%B5%E0%B9%88-4-%E0%B8%AA%E0%B8%B4%E0%B8%87%E0%B8%AB%E0%B8%B2%E0%B8%84%E0%B8%A1-2561\"><span style=\"color: #800000;\"><strong>วันพระที่  4 สิงหาคม 2561</strong></span></a></span></p>,\n",
              " <p><span style=\"color: #800000;\"><a href=\"/16969879/%E0%B8%A3%E0%B8%B2%E0%B8%84%E0%B8%B2%E0%B8%AA%E0%B8%B8%E0%B8%81%E0%B8%A3%E0%B8%A1%E0%B8%B5%E0%B8%8A%E0%B8%B5%E0%B8%A7%E0%B8%B4%E0%B8%95%E0%B8%AB%E0%B8%99%E0%B9%89%E0%B8%B2%E0%B8%9F%E0%B8%B2%E0%B8%A3%E0%B9%8C%E0%B8%A1%E0%B8%9E%E0%B8%A3%E0%B8%B0%E0%B8%97%E0%B8%B5%E0%B9%88-11-%E0%B8%AA%E0%B8%B4%E0%B8%87%E0%B8%AB%E0%B8%B2%E0%B8%84%E0%B8%A1-2561\"><span style=\"color: #800000;\"><strong>วันพระที่ 11<strong> สิงหาคม</strong> 2561</strong></span></a></span></p>,\n",
              " <p><span style=\"color: #800000;\"><a href=\"/16975108/%E0%B8%A3%E0%B8%B2%E0%B8%84%E0%B8%B2%E0%B8%AA%E0%B8%B8%E0%B8%81%E0%B8%A3%E0%B8%9E%E0%B8%A3%E0%B8%B0%E0%B8%97%E0%B8%B5%E0%B9%88-19-%E0%B8%AA%E0%B8%B4%E0%B8%87%E0%B8%AB%E0%B8%B2%E0%B8%84%E0%B8%A1-2561\"><span style=\"color: #800000;\"><strong>วันพระที่ <strong>19 สิงหาคม</strong> 2561</strong></span></a></span></p>,\n",
              " <p><span style=\"color: #800000;\"><a href=\"/16979530/%E0%B8%A3%E0%B8%B2%E0%B8%84%E0%B8%B2%E0%B8%AA%E0%B8%B8%E0%B8%81%E0%B8%A3%E0%B8%9E%E0%B8%A3%E0%B8%B0%E0%B8%97%E0%B8%B5%E0%B9%88-26-%E0%B8%AA%E0%B8%B4%E0%B8%87%E0%B8%AB%E0%B8%B2%E0%B8%84%E0%B8%A1-2561\"><span style=\"color: #800000;\"><strong>วันพระที่ <strong>26 สิงหาคม</strong> 2561</strong></span></a></span></p>,\n",
              " <p><span style=\"color: #800000;\"><a href=\"/16983835/%E0%B8%A3%E0%B8%B2%E0%B8%84%E0%B8%B2%E0%B8%AA%E0%B8%B8%E0%B8%81%E0%B8%A3%E0%B8%A1%E0%B8%B5%E0%B8%8A%E0%B8%B5%E0%B8%A7%E0%B8%B4%E0%B8%95%E0%B8%AB%E0%B8%99%E0%B9%89%E0%B8%B2%E0%B8%9F%E0%B8%B2%E0%B8%A3%E0%B9%8C%E0%B8%A1-%E0%B8%9E%E0%B8%A3%E0%B8%B0%E0%B8%97%E0%B8%B5%E0%B9%88-3-%E0%B8%81%E0%B8%B1%E0%B8%99%E0%B8%A2%E0%B8%B2%E0%B8%A2%E0%B8%99-2561\"><span style=\"color: #800000;\"><strong>วันพระที่  3 กันยายน 2561</strong></span></a></span></p>,\n",
              " <p><span style=\"color: #800000;\"><a href=\"/16988193/%E0%B8%A3%E0%B8%B2%E0%B8%84%E0%B8%B2%E0%B8%AA%E0%B8%B8%E0%B8%81%E0%B8%A3%E0%B8%A1%E0%B8%B5%E0%B8%8A%E0%B8%B5%E0%B8%A7%E0%B8%B4%E0%B8%95%E0%B8%AB%E0%B8%99%E0%B9%89%E0%B8%B2%E0%B8%9F%E0%B8%B2%E0%B8%A3%E0%B9%8C%E0%B8%A1%E0%B8%A7%E0%B8%B1%E0%B8%99%E0%B8%9E%E0%B8%A3%E0%B8%B0%E0%B8%97%E0%B8%B5%E0%B9%88-9-%E0%B8%81%E0%B8%B1%E0%B8%99%E0%B8%A2%E0%B8%B2%E0%B8%A2%E0%B8%99-2561\"><span style=\"color: #800000;\"><strong>วันพระที่  9<strong> กันยายน</strong> 2561</strong></span></a></span></p>,\n",
              " <p><span style=\"color: #800000;\"><a href=\"/16993688/%E0%B8%A3%E0%B8%B2%E0%B8%84%E0%B8%B2%E0%B8%AA%E0%B8%B8%E0%B8%81%E0%B8%A3%E0%B8%A1%E0%B8%B5%E0%B8%8A%E0%B8%B5%E0%B8%A7%E0%B8%B4%E0%B8%95%E0%B8%AB%E0%B8%99%E0%B9%89%E0%B8%B2%E0%B8%9F%E0%B8%B2%E0%B8%A3%E0%B9%8C%E0%B8%A1%E0%B8%9E%E0%B8%A3%E0%B8%B0%E0%B8%97%E0%B8%B5%E0%B9%88-17-%E0%B8%81%E0%B8%B1%E0%B8%99%E0%B8%A2%E0%B8%B2%E0%B8%A2%E0%B8%99-2561\"><span style=\"color: #800000;\"><strong>วันพระที่ 17<strong> กันยายน</strong> 2561</strong></span></a></span></p>,\n",
              " <p><span style=\"color: #800000;\"><a href=\"/16998363/%E0%B8%A3%E0%B8%B2%E0%B8%84%E0%B8%B2%E0%B8%AA%E0%B8%B8%E0%B8%81%E0%B8%A3%E0%B8%A1%E0%B8%B5%E0%B8%8A%E0%B8%B5%E0%B8%A7%E0%B8%B4%E0%B8%95%E0%B8%AB%E0%B8%99%E0%B9%89%E0%B8%B2%E0%B8%9F%E0%B8%B2%E0%B8%A3%E0%B9%8C%E0%B8%A1%E0%B8%9E%E0%B8%A3%E0%B8%B0%E0%B8%97%E0%B8%B5%E0%B9%88-24-%E0%B8%81%E0%B8%B1%E0%B8%99%E0%B8%A2%E0%B8%B2%E0%B8%A2%E0%B8%99-2561\"><span style=\"color: #800000;\"><strong>วันพระที่ 24<strong> กันยายน</strong> 2561</strong></span></a></span></p>,\n",
              " <p><span style=\"color: #800000;\"><a href=\"/17003646/%E0%B8%A3%E0%B8%B2%E0%B8%84%E0%B8%B2%E0%B8%AA%E0%B8%B8%E0%B8%81%E0%B8%A3%E0%B8%A1%E0%B8%B5%E0%B8%8A%E0%B8%B5%E0%B8%A7%E0%B8%B4%E0%B8%95%E0%B8%AB%E0%B8%99%E0%B9%89%E0%B8%B2%E0%B8%9F%E0%B8%B2%E0%B8%A3%E0%B9%8C%E0%B8%A1%E0%B8%A7%E0%B8%B1%E0%B8%99%E0%B8%9E%E0%B8%A3%E0%B8%B0%E0%B8%97%E0%B8%B5%E0%B9%88-2-%E0%B8%95%E0%B8%B8%E0%B8%A5%E0%B8%B2%E0%B8%84%E0%B8%A1-2561\"><span style=\"color: #800000;\"><strong>วันพระที่ 2 ตุลาคม 2561</strong></span></a></span></p>,\n",
              " <p><span style=\"color: #800000;\"><a href=\"/17008483/%E0%B8%A3%E0%B8%B2%E0%B8%84%E0%B8%B2%E0%B8%AA%E0%B8%B8%E0%B8%81%E0%B8%A3%E0%B8%A1%E0%B8%B5%E0%B8%8A%E0%B8%B5%E0%B8%A7%E0%B8%B4%E0%B8%95%E0%B8%AB%E0%B8%99%E0%B9%89%E0%B8%B2%E0%B8%9F%E0%B8%B2%E0%B8%A3%E0%B9%8C%E0%B8%A1-%E0%B8%A7%E0%B8%B1%E0%B8%99%E0%B8%9E%E0%B8%A3%E0%B8%B0%E0%B8%97%E0%B8%B5%E0%B9%88-9-%E0%B8%95%E0%B8%B8%E0%B8%A5%E0%B8%B2%E0%B8%84%E0%B8%A1-2561\"><span style=\"color: #800000;\"><strong>วันพระที่ 9 <strong>ตุลาคม</strong> 2561</strong></span></a></span></p>,\n",
              " <p><span style=\"color: #800000;\"><a href=\"/17012600/%E0%B8%A3%E0%B8%B2%E0%B8%84%E0%B8%B2%E0%B8%AA%E0%B8%B8%E0%B8%81%E0%B8%A3%E0%B8%A1%E0%B8%B5%E0%B8%8A%E0%B8%B5%E0%B8%A7%E0%B8%B4%E0%B8%95%E0%B8%AB%E0%B8%99%E0%B9%89%E0%B8%B2%E0%B8%9F%E0%B8%B2%E0%B8%A3%E0%B9%8C%E0%B8%A1-%E0%B8%A7%E0%B8%B1%E0%B8%99%E0%B8%9E%E0%B8%A3%E0%B8%B0%E0%B8%97%E0%B8%B5%E0%B9%88-17-%E0%B8%95%E0%B8%B8%E0%B8%A5%E0%B8%B2%E0%B8%84%E0%B8%A1-2561\"><span style=\"color: #800000;\"><strong>วันพระที่ 17 <strong>ตุลาคม</strong> 2561</strong></span></a></span></p>,\n",
              " <p><span style=\"color: #800000;\"><a href=\"/17016026/%E0%B8%A3%E0%B8%B2%E0%B8%84%E0%B8%B2%E0%B8%AA%E0%B8%B8%E0%B8%81%E0%B8%A3%E0%B8%A1%E0%B8%B5%E0%B8%8A%E0%B8%B5%E0%B8%A7%E0%B8%B4%E0%B8%95%E0%B8%AB%E0%B8%99%E0%B9%89%E0%B8%B2%E0%B8%9F%E0%B8%B2%E0%B8%A3%E0%B9%8C%E0%B8%A1-%E0%B8%A7%E0%B8%B1%E0%B8%99%E0%B8%9E%E0%B8%A3%E0%B8%B0%E0%B8%97%E0%B8%B5%E0%B9%88-24-%E0%B8%95%E0%B8%B8%E0%B8%A5%E0%B8%B2%E0%B8%84%E0%B8%A1-2561\"><span style=\"color: #800000;\"><strong>วันพระที่ 24 <strong>ตุลาคม</strong> 2561</strong></span></a></span></p>,\n",
              " <p> </p>,\n",
              " <p><span style=\"color: #800000;\"><a href=\"/17020988/%E0%B8%A3%E0%B8%B2%E0%B8%84%E0%B8%B2%E0%B8%AA%E0%B8%B8%E0%B8%81%E0%B8%A3%E0%B8%A1%E0%B8%B5%E0%B8%8A%E0%B8%B5%E0%B8%A7%E0%B8%B4%E0%B8%95%E0%B8%AB%E0%B8%99%E0%B9%89%E0%B8%B2%E0%B8%9F%E0%B8%B2%E0%B8%A3%E0%B9%8C%E0%B8%A1-%E0%B8%A7%E0%B8%B1%E0%B8%99%E0%B8%9E%E0%B8%A3%E0%B8%B0%E0%B8%97%E0%B8%B5%E0%B9%88-1-%E0%B8%9E%E0%B8%A4%E0%B8%A8%E0%B8%88%E0%B8%B4%E0%B8%81%E0%B8%B2%E0%B8%A2%E0%B8%99-2561\"><span style=\"color: #800000;\"><strong>วันพระที่  1 พฤศจิกายน 2561</strong></span></a></span></p>,\n",
              " <p><span style=\"color: #800000;\"><a href=\"/17023875/%E0%B8%A3%E0%B8%B2%E0%B8%84%E0%B8%B2%E0%B8%AA%E0%B8%B8%E0%B8%81%E0%B8%A3%E0%B8%A1%E0%B8%B5%E0%B8%8A%E0%B8%B5%E0%B8%A7%E0%B8%B4%E0%B8%95%E0%B8%AB%E0%B8%99%E0%B9%89%E0%B8%B2%E0%B8%9F%E0%B8%B2%E0%B8%A3%E0%B9%8C%E0%B8%A1-%E0%B8%A7%E0%B8%B1%E0%B8%99%E0%B8%9E%E0%B8%A3%E0%B8%B0%E0%B8%97%E0%B8%B5%E0%B9%88-7-%E0%B8%9E%E0%B8%A4%E0%B8%A8%E0%B8%88%E0%B8%B4%E0%B8%81%E0%B8%B2%E0%B8%A2%E0%B8%99-2561\"><span style=\"color: #800000;\"><strong>วันพระที่  7<strong> พฤศจิกายน</strong> 2561</strong></span></a></span></p>,\n",
              " <p><span style=\"color: #800000;\"><a href=\"/17028843/%E0%B8%A3%E0%B8%B2%E0%B8%84%E0%B8%B2%E0%B8%AA%E0%B8%B8%E0%B8%81%E0%B8%A3%E0%B8%A1%E0%B8%B5%E0%B8%8A%E0%B8%B5%E0%B8%A7%E0%B8%B4%E0%B8%95%E0%B8%AB%E0%B8%99%E0%B9%89%E0%B8%B2%E0%B8%9F%E0%B8%B2%E0%B8%A3%E0%B9%8C%E0%B8%A1-%E0%B8%A7%E0%B8%B1%E0%B8%99%E0%B8%9E%E0%B8%A3%E0%B8%B0%E0%B8%97%E0%B8%B5%E0%B9%88-15-%E0%B8%9E%E0%B8%A4%E0%B8%A8%E0%B8%88%E0%B8%B4%E0%B8%81%E0%B8%B2%E0%B8%A2%E0%B8%99-2561\"><span style=\"color: #800000;\"><strong>วันพระที่ <strong>15 พฤศจิกายน</strong> 2561</strong></span></a></span></p>,\n",
              " <p><span style=\"color: #800000;\"><a href=\"/17033860/%E0%B8%A3%E0%B8%B2%E0%B8%84%E0%B8%B2%E0%B8%AA%E0%B8%B8%E0%B8%81%E0%B8%A3%E0%B8%A1%E0%B8%B5%E0%B8%8A%E0%B8%B5%E0%B8%A7%E0%B8%B4%E0%B8%95%E0%B8%AB%E0%B8%99%E0%B9%89%E0%B8%B2%E0%B8%9F%E0%B8%B2%E0%B8%A3%E0%B9%8C%E0%B8%A1-%E0%B8%A7%E0%B8%B1%E0%B8%99%E0%B8%9E%E0%B8%A3%E0%B8%B0%E0%B8%97%E0%B8%B5%E0%B9%88-22-%E0%B8%9E%E0%B8%A4%E0%B8%A8%E0%B8%88%E0%B8%B4%E0%B8%81%E0%B8%B2%E0%B8%A2%E0%B8%99-2561\"><span style=\"color: #800000;\"><strong>วันพระที่ <strong>22 พฤศจิกายน</strong> 2561</strong></span></a></span></p>,\n",
              " <p><span style=\"color: #800000;\"><a href=\"/17039067/%E0%B8%A3%E0%B8%B2%E0%B8%84%E0%B8%B2%E0%B8%AA%E0%B8%B8%E0%B8%81%E0%B8%A3%E0%B8%A1%E0%B8%B5%E0%B8%8A%E0%B8%B5%E0%B8%A7%E0%B8%B4%E0%B8%95%E0%B8%AB%E0%B8%99%E0%B9%89%E0%B8%B2%E0%B8%9F%E0%B8%B2%E0%B8%A3%E0%B9%8C%E0%B8%A1-%E0%B8%A7%E0%B8%B1%E0%B8%99%E0%B8%9E%E0%B8%A3%E0%B8%B0%E0%B8%97%E0%B8%B5%E0%B9%88-30-%E0%B8%9E%E0%B8%A4%E0%B8%A8%E0%B8%88%E0%B8%B4%E0%B8%81%E0%B8%B2%E0%B8%A2%E0%B8%99-2561\"><span style=\"color: #800000;\"><strong><strong>วันพระที่ 30<strong> พฤศจิกายน</strong> 2561</strong></strong></span></a></span></p>,\n",
              " <p><span style=\"color: #800000;\"><a href=\"/17045913/%E0%B8%AA%E0%B8%96%E0%B8%B2%E0%B8%99%E0%B8%81%E0%B8%B2%E0%B8%A3%E0%B8%93%E0%B9%8C%E0%B8%A3%E0%B8%B2%E0%B8%84%E0%B8%B2%E0%B8%AA%E0%B8%B8%E0%B8%81%E0%B8%A3%E0%B8%A1%E0%B8%B5%E0%B8%8A%E0%B8%B5%E0%B8%A7%E0%B8%B4%E0%B8%95%E0%B8%AB%E0%B8%99%E0%B9%89%E0%B8%B2%E0%B8%9F%E0%B8%B2%E0%B8%A3%E0%B9%8C%E0%B8%A1-%E0%B8%A7%E0%B8%B1%E0%B8%99%E0%B8%9E%E0%B8%A3%E0%B8%B0%E0%B8%97%E0%B8%B5%E0%B9%88-7-%E0%B8%98%E0%B8%B1%E0%B8%99%E0%B8%A7%E0%B8%B2%E0%B8%84%E0%B8%A1-2561-\"><span style=\"color: #800000;\"><strong>วันพระที่ 7 ธันวาคม 2561</strong></span></a></span></p>,\n",
              " <p><span style=\"color: #800000;\"><a href=\"/17046567/%E0%B8%AA%E0%B8%96%E0%B8%B2%E0%B8%99%E0%B8%81%E0%B8%B2%E0%B8%A3%E0%B8%93%E0%B9%8C%E0%B8%A3%E0%B8%B2%E0%B8%84%E0%B8%B2%E0%B8%AA%E0%B8%B8%E0%B8%81%E0%B8%A3%E0%B8%A1%E0%B8%B5%E0%B8%8A%E0%B8%B5%E0%B8%A7%E0%B8%B4%E0%B8%95%E0%B8%AB%E0%B8%99%E0%B9%89%E0%B8%B2%E0%B8%9F%E0%B8%B2%E0%B8%A3%E0%B9%8C%E0%B8%A1-%E0%B8%A7%E0%B8%B1%E0%B8%99%E0%B8%9E%E0%B8%A3%E0%B8%B0%E0%B8%97%E0%B8%B5%E0%B9%88-15-%E0%B8%98%E0%B8%B1%E0%B8%99%E0%B8%A7%E0%B8%B2%E0%B8%84%E0%B8%A1-2561\"><span style=\"color: #800000;\"><strong>วันพระที่ 15 <strong>ธันวาคม</strong> 2561</strong></span></a></span></p>,\n",
              " <p><span style=\"color: #800000;\"><a href=\"/17052797/%E0%B8%AA%E0%B8%96%E0%B8%B2%E0%B8%99%E0%B8%81%E0%B8%B2%E0%B8%A3%E0%B8%93%E0%B9%8C%E0%B8%A3%E0%B8%B2%E0%B8%84%E0%B8%B2%E0%B8%AA%E0%B8%B8%E0%B8%81%E0%B8%A3%E0%B8%A1%E0%B8%B5%E0%B8%8A%E0%B8%B5%E0%B8%A7%E0%B8%B4%E0%B8%95%E0%B8%AB%E0%B8%99%E0%B9%89%E0%B8%B2%E0%B8%9F%E0%B8%B2%E0%B8%A3%E0%B9%8C%E0%B8%A1-%E0%B8%A7%E0%B8%B1%E0%B8%99%E0%B8%9E%E0%B8%A3%E0%B8%B0%E0%B8%97%E0%B8%B5%E0%B9%88-22-%E0%B8%98%E0%B8%B1%E0%B8%99%E0%B8%A7%E0%B8%B2%E0%B8%84%E0%B8%A1-2561\"><span style=\"color: #800000;\"><strong>วันพระที่ 22 <strong>ธันวาคม</strong> 2561</strong></span></a></span></p>,\n",
              " <p><span style=\"color: #800000;\"><a href=\"/17052790/%E0%B8%AA%E0%B8%96%E0%B8%B2%E0%B8%99%E0%B8%81%E0%B8%B2%E0%B8%A3%E0%B8%93%E0%B9%8C%E0%B8%A3%E0%B8%B2%E0%B8%84%E0%B8%B2%E0%B8%AA%E0%B8%B8%E0%B8%81%E0%B8%A3%E0%B8%A1%E0%B8%B5%E0%B8%8A%E0%B8%B5%E0%B8%A7%E0%B8%B4%E0%B8%95%E0%B8%AB%E0%B8%99%E0%B9%89%E0%B8%B2%E0%B8%9F%E0%B8%B2%E0%B8%A3%E0%B9%8C%E0%B8%A1-%E0%B8%A7%E0%B8%B1%E0%B8%99%E0%B8%9E%E0%B8%A3%E0%B8%B0%E0%B8%97%E0%B8%B5%E0%B9%88-30-%E0%B8%98%E0%B8%B1%E0%B8%99%E0%B8%A7%E0%B8%B2%E0%B8%84%E0%B8%A1-2561\"><span style=\"color: #800000;\"><strong>วันพระที่ 30 <strong>ธันวาคม</strong> 2561</strong></span></a></span></p>,\n",
              " <p style=\"text-align: center;\"> </p>]"
            ]
          },
          "metadata": {},
          "execution_count": 31
        }
      ]
    },
    {
      "cell_type": "code",
      "metadata": {
        "id": "icWwKK0lZH3u"
      },
      "source": [
        "t = []\n",
        "for i in p:\n",
        "  if 'href' in str(i):\n",
        "    t.append(str(i))"
      ],
      "execution_count": null,
      "outputs": []
    },
    {
      "cell_type": "code",
      "metadata": {
        "colab": {
          "base_uri": "https://localhost:8080/"
        },
        "id": "bQyuLFa9bsiZ",
        "outputId": "4afd7d79-53c3-43ff-87b4-8685740c3b39"
      },
      "source": [
        "t"
      ],
      "execution_count": null,
      "outputs": [
        {
          "output_type": "execute_result",
          "data": {
            "text/plain": [
              "['<p><span style=\"color: #800000;\"><strong><span style=\"color: #ff0000;\"><a href=\"/17259476/%E0%B8%82%E0%B9%89%E0%B8%AD%E0%B8%A1%E0%B8%B9%E0%B8%A5%E0%B8%AA%E0%B8%A0%E0%B8%B2%E0%B8%A7%E0%B8%B0%E0%B8%95%E0%B8%A5%E0%B8%B2%E0%B8%94%E0%B8%AA%E0%B8%B8%E0%B8%81%E0%B8%A3%E0%B8%A1%E0%B8%B5%E0%B8%8A%E0%B8%B5%E0%B8%A7%E0%B8%B4%E0%B8%95-%E0%B8%A7%E0%B8%B1%E0%B8%99%E0%B8%9E%E0%B8%A3%E0%B8%B0%E0%B8%97%E0%B8%B5%E0%B9%88-6-%E0%B8%A1%E0%B8%81%E0%B8%A3%E0%B8%B2%E0%B8%84%E0%B8%A1-2564?fbclid=IwAR1RJ7Q3at5CDWKfXJ0qLDaiC6cZqfZ6y0NWdiSPWOhIFPljggpEmS7IOpc\"><span style=\"color: #ff0000;\">วันพระที่ 6 มกราคม 2564</span></a></span></strong><br/></span></p>',\n",
              " '<p><strong><span style=\"color: #ff0000;\"><a href=\"/17260581/%E0%B8%82%E0%B9%89%E0%B8%AD%E0%B8%A1%E0%B8%B9%E0%B8%A5%E0%B8%AA%E0%B8%A0%E0%B8%B2%E0%B8%A7%E0%B8%B0%E0%B8%95%E0%B8%A5%E0%B8%B2%E0%B8%94%E0%B8%AA%E0%B8%B8%E0%B8%81%E0%B8%A3%E0%B8%A1%E0%B8%B5%E0%B8%8A%E0%B8%B5%E0%B8%A7%E0%B8%B4%E0%B8%95%E0%B8%AB%E0%B8%99%E0%B9%89%E0%B8%B2%E0%B8%9F%E0%B8%B2%E0%B8%A3%E0%B9%8C%E0%B8%A1-%E0%B8%AA%E0%B8%B1%E0%B8%9B%E0%B8%94%E0%B8%B2%E0%B8%AB%E0%B9%8C%E0%B8%97%E0%B8%B5%E0%B9%88-32564-%E0%B8%A7%E0%B8%B1%E0%B8%99%E0%B8%9E%E0%B8%A3%E0%B8%B0%E0%B8%97%E0%B8%B5%E0%B9%88-13-%E0%B8%A1%E0%B8%81%E0%B8%A3%E0%B8%B2%E0%B8%84%E0%B8%A1-2564?fbclid=IwAR26jSIVSHYRQnbmzZ0W2wBTRp-C9x3VlHOO9zFzV8UX1QsYwx1GN2kY9E4\"><span style=\"color: #ff0000;\">วันพระที่ 13 มกราคม 2564</span></a></span></strong></p>',\n",
              " '<p><span style=\"color: #ff0000;\"><strong><a href=\"/17262190/%E0%B8%82%E0%B9%89%E0%B8%AD%E0%B8%A1%E0%B8%B9%E0%B8%A5%E0%B8%AA%E0%B8%A0%E0%B8%B2%E0%B8%A7%E0%B8%B0%E0%B8%95%E0%B8%A5%E0%B8%B2%E0%B8%94%E0%B8%AA%E0%B8%B8%E0%B8%81%E0%B8%A3%E0%B8%A1%E0%B8%B5%E0%B8%8A%E0%B8%B5%E0%B8%A7%E0%B8%B4%E0%B8%95%E0%B8%AB%E0%B8%99%E0%B9%89%E0%B8%B2%E0%B8%9F%E0%B8%B2%E0%B8%A3%E0%B9%8C%E0%B8%A1-%E0%B8%AA%E0%B8%B1%E0%B8%9B%E0%B8%94%E0%B8%B2%E0%B8%AB%E0%B9%8C%E0%B8%97%E0%B8%B5%E0%B9%88-42564-%E0%B8%A7%E0%B8%B1%E0%B8%99%E0%B8%9E%E0%B8%A3%E0%B8%B0%E0%B8%97%E0%B8%B5%E0%B9%88-21-%E0%B8%A1%E0%B8%81%E0%B8%A3%E0%B8%B2%E0%B8%84%E0%B8%A1-2564?fbclid=IwAR37gM3i4qaDAvXZTl3t0oJALRS6kG0MSHjRQQs5flPw1eNorj4kvcG3TsA\"><span style=\"color: #ff0000;\">วันพระที่ 21 มกราคม 2564</span></a></strong></span></p>',\n",
              " '<p><strong><span style=\"color: #ff0000;\"><a href=\"/17263410/%E0%B8%82%E0%B9%89%E0%B8%AD%E0%B8%A1%E0%B8%B9%E0%B8%A5%E0%B8%AA%E0%B8%A0%E0%B8%B2%E0%B8%A7%E0%B8%B0%E0%B8%95%E0%B8%A5%E0%B8%B2%E0%B8%94%E0%B8%AA%E0%B8%B8%E0%B8%81%E0%B8%A3%E0%B8%A1%E0%B8%B5%E0%B8%8A%E0%B8%B5%E0%B8%A7%E0%B8%B4%E0%B8%95%E0%B8%AB%E0%B8%99%E0%B9%89%E0%B8%B2%E0%B8%9F%E0%B8%B2%E0%B8%A3%E0%B9%8C%E0%B8%A1-%E0%B8%AA%E0%B8%B1%E0%B8%9B%E0%B8%94%E0%B8%B2%E0%B8%AB%E0%B9%8C%E0%B8%97%E0%B8%B5%E0%B9%88-52564-%E0%B8%A7%E0%B8%B1%E0%B8%99%E0%B8%9E%E0%B8%A3%E0%B8%B0%E0%B8%97%E0%B8%B5%E0%B9%88-28-%E0%B8%A1%E0%B8%81%E0%B8%A3%E0%B8%B2%E0%B8%84%E0%B8%A1-2564?fbclid=IwAR1-V-Xyi61i4LYzg97Z2aFI-e1Y6RxUn6FfvCoFxyghFY-natd6lYguDOQ\"><span style=\"color: #ff0000;\">วันพระที่ 28 มกราคม 2564</span></a></span></strong></p>',\n",
              " '<p><strong><span style=\"color: #ff0000;\"><a href=\"/17265231/%E0%B8%82%E0%B9%89%E0%B8%AD%E0%B8%A1%E0%B8%B9%E0%B8%A5%E0%B8%AA%E0%B8%A0%E0%B8%B2%E0%B8%A7%E0%B8%B0%E0%B8%95%E0%B8%A5%E0%B8%B2%E0%B8%94%E0%B8%AA%E0%B8%B8%E0%B8%81%E0%B8%A3%E0%B8%A1%E0%B8%B5%E0%B8%8A%E0%B8%B5%E0%B8%A7%E0%B8%B4%E0%B8%95%E0%B8%AB%E0%B8%99%E0%B9%89%E0%B8%B2%E0%B8%9F%E0%B8%B2%E0%B8%A3%E0%B9%8C%E0%B8%A1-%E0%B8%AA%E0%B8%B1%E0%B8%9B%E0%B8%94%E0%B8%B2%E0%B8%AB%E0%B9%8C%E0%B8%97%E0%B8%B5%E0%B9%88-62564-%E0%B8%A7%E0%B8%B1%E0%B8%99%E0%B8%9E%E0%B8%A3%E0%B8%B0%E0%B8%97%E0%B8%B5%E0%B9%88-5-%E0%B8%81%E0%B8%B8%E0%B8%A1%E0%B8%A0%E0%B8%B2%E0%B8%9E%E0%B8%B1%E0%B8%99%E0%B8%98%E0%B9%8C-2564?fbclid=IwAR2pQOaMFt3zgAflqpbNmtjbMkr4kZhaIYKolk7Iep9XH1X4WZh2JOtOn9M\"><span style=\"color: #ff0000;\">วันพระที่ 5 กุมภาพันธ์ 2564</span></a></span></strong></p>',\n",
              " '<p><span style=\"color: #ff0000;\"><strong><a href=\"/17266500/%E0%B8%82%E0%B9%89%E0%B8%AD%E0%B8%A1%E0%B8%B9%E0%B8%A5%E0%B8%AA%E0%B8%A0%E0%B8%B2%E0%B8%A7%E0%B8%B0%E0%B8%95%E0%B8%A5%E0%B8%B2%E0%B8%94%E0%B8%AA%E0%B8%B8%E0%B8%81%E0%B8%A3%E0%B8%A1%E0%B8%B5%E0%B8%8A%E0%B8%B5%E0%B8%A7%E0%B8%B4%E0%B8%95%E0%B8%82%E0%B9%89%E0%B8%AD%E0%B8%A1%E0%B8%B9%E0%B8%A5%E0%B8%AA%E0%B8%A0%E0%B8%B2%E0%B8%A7%E0%B8%B0%E0%B8%95%E0%B8%A5%E0%B8%B2%E0%B8%94%E0%B8%AA%E0%B8%B8%E0%B8%81%E0%B8%A3%E0%B8%A1%E0%B8%B5%E0%B8%8A%E0%B8%B5%E0%B8%A7%E0%B8%B4%E0%B8%95%E0%B8%AB%E0%B8%99%E0%B9%89%E0%B8%B2%E0%B8%9F%E0%B8%B2%E0%B8%A3%E0%B9%8C%E0%B8%A1-%E0%B8%AA%E0%B8%B1%E0%B8%9B%E0%B8%94%E0%B8%B2%E0%B8%AB%E0%B9%8C%E0%B8%97%E0%B8%B5%E0%B9%88-72564-%E0%B8%A7%E0%B8%B1%E0%B8%99%E0%B8%9E%E0%B8%A3%E0%B8%B0%E0%B8%97%E0%B8%B5%E0%B9%88-11-%E0%B8%81%E0%B8%B8%E0%B8%A1%E0%B8%A0%E0%B8%B2%E0%B8%9E%E0%B8%B1%E0%B8%99%E0%B8%98%E0%B9%8C-2564%E0%B8%AB%E0%B8%99%E0%B9%89%E0%B8%B2%E0%B8%9F%E0%B8%B2%E0%B8%A3%E0%B9%8C%E0%B8%A1-%E0%B8%AA%E0%B8%B1%E0%B8%9B%E0%B8%94%E0%B8%B2%E0%B8%AB%E0%B9%8C%E0%B8%97%E0%B8%B5%E0%B9%88-72564-%E0%B8%A7%E0%B8%B1%E0%B8%99%E0%B8%9E%E0%B8%A3%E0%B8%B0%E0%B8%97%E0%B8%B5%E0%B9%88-11-%E0%B8%81%E0%B8%B8%E0%B8%A1%E0%B8%A0%E0%B8%B2%E0%B8%9E%E0%B8%B1%E0%B8%99%E0%B8%98%E0%B9%8C-2564?fbclid=IwAR21QI2lnt7hiKKqAovwWAxlKuUpCzfspUsgSQ3M1kqHnjs7bzlqNVtXFM4\"><span style=\"color: #ff0000;\">วันพระที่ 11 กุมภาพันธ์ 2564</span></a></strong></span></p>',\n",
              " '<p><span style=\"color: #ff0000;\"><strong><a href=\"/17267578/%E0%B8%82%E0%B9%89%E0%B8%AD%E0%B8%A1%E0%B8%B9%E0%B8%A5%E0%B8%AA%E0%B8%A0%E0%B8%B2%E0%B8%A7%E0%B8%B0%E0%B8%95%E0%B8%A5%E0%B8%B2%E0%B8%94%E0%B8%AA%E0%B8%B8%E0%B8%81%E0%B8%A3%E0%B8%A1%E0%B8%B5%E0%B8%8A%E0%B8%B5%E0%B8%A7%E0%B8%B4%E0%B8%95%E0%B8%AB%E0%B8%99%E0%B9%89%E0%B8%B2%E0%B8%9F%E0%B8%B2%E0%B8%A3%E0%B9%8C%E0%B8%A1-%E0%B8%AA%E0%B8%B1%E0%B8%9B%E0%B8%94%E0%B8%B2%E0%B8%AB%E0%B9%8C%E0%B8%97%E0%B8%B5%E0%B9%88-82564-%E0%B8%A7%E0%B8%B1%E0%B8%99%E0%B8%9E%E0%B8%A3%E0%B8%B0%E0%B8%97%E0%B8%B5%E0%B9%88-19-%E0%B8%81%E0%B8%B8%E0%B8%A1%E0%B8%A0%E0%B8%B2%E0%B8%9E%E0%B8%B1%E0%B8%99%E0%B8%98%E0%B9%8C-2564?fbclid=IwAR3gQV1X7YLJ_LMJcbsSIJCR4WOrtt61CDFue0N-lBOeWEZ4Li0t9uNhSJY\"><span style=\"color: #ff0000;\">วันพระที่ 19 กุมภาพันธ์ 2564</span></a></strong></span></p>',\n",
              " '<p><span style=\"color: #ff0000;\"><strong><a href=\"/17268475/%E0%B8%82%E0%B9%89%E0%B8%AD%E0%B8%A1%E0%B8%B9%E0%B8%A5%E0%B8%AA%E0%B8%A0%E0%B8%B2%E0%B8%A7%E0%B8%B0%E0%B8%95%E0%B8%A5%E0%B8%B2%E0%B8%94%E0%B8%AA%E0%B8%B8%E0%B8%81%E0%B8%A3%E0%B8%A1%E0%B8%B5%E0%B8%8A%E0%B8%B5%E0%B8%A7%E0%B8%B4%E0%B8%95%E0%B8%AB%E0%B8%99%E0%B9%89%E0%B8%B2%E0%B8%9F%E0%B8%B2%E0%B8%A3%E0%B9%8C%E0%B8%A1-%E0%B8%AA%E0%B8%B1%E0%B8%9B%E0%B8%94%E0%B8%B2%E0%B8%AB%E0%B9%8C%E0%B8%97%E0%B8%B5%E0%B9%88-92564-%E0%B8%A7%E0%B8%B1%E0%B8%99%E0%B8%9E%E0%B8%A3%E0%B8%B0%E0%B8%97%E0%B8%B5%E0%B9%88-26-%E0%B8%81%E0%B8%B8%E0%B8%A1%E0%B8%A0%E0%B8%B2%E0%B8%9E%E0%B8%B1%E0%B8%99%E0%B8%98%E0%B9%8C-2564?fbclid=IwAR3DjlnY-hQV3Y7OurBVdKo3EgRJFmV6kPOh0fFBpJNkRgSAdg3-iuZe6LI\"><span style=\"color: #ff0000;\">วันพระที่ 26 กุมภาพันธ์ 2564</span></a></strong></span></p>',\n",
              " '<p><span style=\"color: #ff0000;\"><strong><a href=\"/17269809/%E0%B8%82%E0%B9%89%E0%B8%AD%E0%B8%A1%E0%B8%B9%E0%B8%A5%E0%B8%AA%E0%B8%A0%E0%B8%B2%E0%B8%A7%E0%B8%B0%E0%B8%95%E0%B8%A5%E0%B8%B2%E0%B8%94%E0%B8%AA%E0%B8%B8%E0%B8%81%E0%B8%A3%E0%B8%A1%E0%B8%B5%E0%B8%8A%E0%B8%B5%E0%B8%A7%E0%B8%B4%E0%B8%95%E0%B8%AB%E0%B8%99%E0%B9%89%E0%B8%B2%E0%B8%9F%E0%B8%B2%E0%B8%A3%E0%B9%8C%E0%B8%A1-%E0%B8%AA%E0%B8%B1%E0%B8%9B%E0%B8%94%E0%B8%B2%E0%B8%AB%E0%B9%8C%E0%B8%97%E0%B8%B5%E0%B9%88-102564-%E0%B8%A7%E0%B8%B1%E0%B8%99%E0%B8%9E%E0%B8%A3%E0%B8%B0%E0%B8%97%E0%B8%B5%E0%B9%88-6-%E0%B8%A1%E0%B8%B5%E0%B8%99%E0%B8%B2%E0%B8%84%E0%B8%A1-2564?fbclid=IwAR34iH3vxieSsy7ZH7ga6e3aRIVMId-ZNUDX5X7X1OlIIw1-tqRxgVFSBng\"><span style=\"color: #ff0000;\">วันพระที่ 6 มีนาคม 2564</span></a></strong></span></p>',\n",
              " '<p><span style=\"color: #ff0000;\"><strong><a href=\"/17270923/%E0%B8%82%E0%B9%89%E0%B8%AD%E0%B8%A1%E0%B8%B9%E0%B8%A5%E0%B8%AA%E0%B8%A0%E0%B8%B2%E0%B8%A7%E0%B8%B0%E0%B8%95%E0%B8%A5%E0%B8%B2%E0%B8%94%E0%B8%AA%E0%B8%B8%E0%B8%81%E0%B8%A3%E0%B8%A1%E0%B8%B5%E0%B8%8A%E0%B8%B5%E0%B8%A7%E0%B8%B4%E0%B8%95%E0%B8%AB%E0%B8%99%E0%B9%89%E0%B8%B2%E0%B8%9F%E0%B8%B2%E0%B8%A3%E0%B9%8C%E0%B8%A1-%E0%B8%AA%E0%B8%B1%E0%B8%9B%E0%B8%94%E0%B8%B2%E0%B8%AB%E0%B9%8C%E0%B8%97%E0%B8%B5%E0%B9%88-112564-%E0%B8%A7%E0%B8%B1%E0%B8%99%E0%B8%9E%E0%B8%A3%E0%B8%B0%E0%B8%97%E0%B8%B5%E0%B9%88-13-%E0%B8%A1%E0%B8%B5%E0%B8%99%E0%B8%B2%E0%B8%84%E0%B8%A1-2564?fbclid=IwAR30sybrMh5wOZMRNE0AJyvussTeryRPMRjHqvm_wgPR62m7NQNEHMapJ6w\"><span style=\"color: #ff0000;\">วันพระที่ 13 มีนาคม 2564</span></a></strong></span></p>',\n",
              " '<p><span style=\"color: #ff0000;\"><strong><a href=\"/17272362/%E0%B8%82%E0%B9%89%E0%B8%AD%E0%B8%A1%E0%B8%B9%E0%B8%A5%E0%B8%AA%E0%B8%A0%E0%B8%B2%E0%B8%A7%E0%B8%B0%E0%B8%95%E0%B8%A5%E0%B8%B2%E0%B8%94%E0%B8%AA%E0%B8%B8%E0%B8%81%E0%B8%A3%E0%B8%A1%E0%B8%B5%E0%B8%8A%E0%B8%B5%E0%B8%A7%E0%B8%B4%E0%B8%95%E0%B8%AB%E0%B8%99%E0%B9%89%E0%B8%B2%E0%B8%9F%E0%B8%B2%E0%B8%A3%E0%B9%8C%E0%B8%A1-%E0%B8%AA%E0%B8%B1%E0%B8%9B%E0%B8%94%E0%B8%B2%E0%B8%AB%E0%B9%8C%E0%B8%97%E0%B8%B5%E0%B9%88-122564-%E0%B8%A7%E0%B8%B1%E0%B8%99%E0%B8%9E%E0%B8%A3%E0%B8%B0%E0%B8%97%E0%B8%B5%E0%B9%88-21-%E0%B8%A1%E0%B8%B5%E0%B8%99%E0%B8%B2%E0%B8%84%E0%B8%A1-2564?fbclid=IwAR3nfqsbVYJnBNvNQLFk1BceULWAZX8MSILO8Ki7tq9udhbAHrr7mE_0W9Y\"><span style=\"color: #ff0000;\">วันพระที่ 21 มีนาคม 2564</span></a></strong></span></p>',\n",
              " '<p><span style=\"color: #ff0000;\"><strong><a href=\"/17273464/%E0%B8%82%E0%B9%89%E0%B8%AD%E0%B8%A1%E0%B8%B9%E0%B8%A5%E0%B8%AA%E0%B8%A0%E0%B8%B2%E0%B8%A7%E0%B8%B0%E0%B8%95%E0%B8%A5%E0%B8%B2%E0%B8%94%E0%B8%AA%E0%B8%B8%E0%B8%81%E0%B8%A3%E0%B8%A1%E0%B8%B5%E0%B8%8A%E0%B8%B5%E0%B8%A7%E0%B8%B4%E0%B8%95%E0%B8%AB%E0%B8%99%E0%B9%89%E0%B8%B2%E0%B8%9F%E0%B8%B2%E0%B8%A3%E0%B9%8C%E0%B8%A1-%E0%B8%AA%E0%B8%B1%E0%B8%9B%E0%B8%94%E0%B8%B2%E0%B8%AB%E0%B9%8C%E0%B8%97%E0%B8%B5%E0%B9%88-132564-%E0%B8%A7%E0%B8%B1%E0%B8%99%E0%B8%9E%E0%B8%A3%E0%B8%B0%E0%B8%97%E0%B8%B5%E0%B9%88-28-%E0%B8%A1%E0%B8%B5%E0%B8%99%E0%B8%B2%E0%B8%84%E0%B8%A1-2564?fbclid=IwAR16m0Pd1D8BzTgpJaH061goR2SDSHlgAMAZTXIH5z1KZ4LODzQOAf11pWI\"><span style=\"color: #ff0000;\">วันพระที่ 28 มีนาคม 2564</span></a></strong></span></p>',\n",
              " '<p><span style=\"color: #ff0000;\"><strong><a href=\"/17274738/%E0%B8%82%E0%B9%89%E0%B8%AD%E0%B8%A1%E0%B8%B9%E0%B8%A5%E0%B8%AA%E0%B8%A0%E0%B8%B2%E0%B8%A7%E0%B8%B0%E0%B8%95%E0%B8%A5%E0%B8%B2%E0%B8%94%E0%B8%AA%E0%B8%B8%E0%B8%81%E0%B8%A3%E0%B8%A1%E0%B8%B5%E0%B8%8A%E0%B8%B5%E0%B8%A7%E0%B8%B4%E0%B8%95%E0%B8%AB%E0%B8%99%E0%B9%89%E0%B8%B2%E0%B8%9F%E0%B8%B2%E0%B8%A3%E0%B9%8C%E0%B8%A1-%E0%B8%AA%E0%B8%B1%E0%B8%9B%E0%B8%94%E0%B8%B2%E0%B8%AB%E0%B9%8C%E0%B8%97%E0%B8%B5%E0%B9%88-142564-%E0%B8%A7%E0%B8%B1%E0%B8%99%E0%B8%9E%E0%B8%A3%E0%B8%B0%E0%B8%97%E0%B8%B5%E0%B9%88-5-%E0%B9%80%E0%B8%A1%E0%B8%A9%E0%B8%B2%E0%B8%A2%E0%B8%99-2564?fbclid=IwAR2DFsVvkIBXjy-nOvjgDWGM1BB959A9mhaWGEWiGsunyLGqu5-dFKeBkqQ\"><span style=\"color: #ff0000;\">วันพระที่ 5 เมษายน 2564</span></a></strong></span></p>',\n",
              " '<p><span style=\"color: #ff0000;\"><strong><a href=\"/17275627/%E0%B8%82%E0%B9%89%E0%B8%AD%E0%B8%A1%E0%B8%B9%E0%B8%A5%E0%B8%AA%E0%B8%A0%E0%B8%B2%E0%B8%A7%E0%B8%B0%E0%B8%95%E0%B8%A5%E0%B8%B2%E0%B8%94%E0%B8%AA%E0%B8%B8%E0%B8%81%E0%B8%A3%E0%B8%A1%E0%B8%B5%E0%B8%8A%E0%B8%B5%E0%B8%A7%E0%B8%B4%E0%B8%95%E0%B8%AB%E0%B8%99%E0%B9%89%E0%B8%B2%E0%B8%9F%E0%B8%B2%E0%B8%A3%E0%B9%8C%E0%B8%A1-%E0%B8%AA%E0%B8%B1%E0%B8%9B%E0%B8%94%E0%B8%B2%E0%B8%AB%E0%B9%8C%E0%B8%97%E0%B8%B5%E0%B9%88-162564-%E0%B8%A7%E0%B8%B1%E0%B8%99%E0%B8%9E%E0%B8%A3%E0%B8%B0%E0%B8%97%E0%B8%B5%E0%B9%88-11-%E0%B9%80%E0%B8%A1%E0%B8%A9%E0%B8%B2%E0%B8%A2%E0%B8%99-2564\"><span style=\"color: #ff0000;\">วันพระที่ 11 เมษายน 2564</span></a></strong></span></p>',\n",
              " '<p><span style=\"color: #ff0000;\"><strong><a href=\"/17276859/%E0%B8%82%E0%B9%89%E0%B8%AD%E0%B8%A1%E0%B8%B9%E0%B8%A5%E0%B8%AA%E0%B8%A0%E0%B8%B2%E0%B8%A7%E0%B8%B0%E0%B8%95%E0%B8%A5%E0%B8%B2%E0%B8%94%E0%B8%AA%E0%B8%B8%E0%B8%81%E0%B8%A3%E0%B8%A1%E0%B8%B5%E0%B8%8A%E0%B8%B5%E0%B8%A7%E0%B8%B4%E0%B8%95%E0%B8%AB%E0%B8%99%E0%B9%89%E0%B8%B2%E0%B8%9F%E0%B8%B2%E0%B8%A3%E0%B9%8C%E0%B8%A1-%E0%B8%AA%E0%B8%B1%E0%B8%9B%E0%B8%94%E0%B8%B2%E0%B8%AB%E0%B9%8C%E0%B8%97%E0%B8%B5%E0%B9%88-162564-%E0%B8%A7%E0%B8%B1%E0%B8%99%E0%B8%9E%E0%B8%A3%E0%B8%B0%E0%B8%97%E0%B8%B5%E0%B9%88-19-%E0%B9%80%E0%B8%A1%E0%B8%A9%E0%B8%B2%E0%B8%A2%E0%B8%99-2564?fbclid=IwAR3OAxnEZw6ZetuponKgee9EVFUEYr8TDFj2A-MPppuUiqbcYO_-N-d1vfA\"><span style=\"color: #ff0000;\">วันพระที่ 19 เมษายน 2564</span></a></strong></span></p>',\n",
              " '<p><strong><span style=\"color: #ff0000;\"><a href=\"/17278223/%E0%B8%82%E0%B9%89%E0%B8%AD%E0%B8%A1%E0%B8%B9%E0%B8%A5%E0%B8%AA%E0%B8%A0%E0%B8%B2%E0%B8%A7%E0%B8%B0%E0%B8%95%E0%B8%A5%E0%B8%B2%E0%B8%94%E0%B8%AA%E0%B8%B8%E0%B8%81%E0%B8%A3%E0%B8%A1%E0%B8%B5%E0%B8%8A%E0%B8%B5%E0%B8%A7%E0%B8%B4%E0%B8%95%E0%B8%AB%E0%B8%99%E0%B9%89%E0%B8%B2%E0%B8%9F%E0%B8%B2%E0%B8%A3%E0%B9%8C%E0%B8%A1-%E0%B8%AA%E0%B8%B1%E0%B8%9B%E0%B8%94%E0%B8%B2%E0%B8%AB%E0%B9%8C%E0%B8%97%E0%B8%B5%E0%B9%88-182564-%E0%B8%A7%E0%B8%B1%E0%B8%99%E0%B8%9E%E0%B8%A3%E0%B8%B0%E0%B8%97%E0%B8%B5%E0%B9%88-26-%E0%B9%80%E0%B8%A1%E0%B8%A9%E0%B8%B2%E0%B8%A2%E0%B8%99-2564?fbclid=IwAR3rp9bAYP6y-4u4radUKt2snEpzTw9hg-DBHQC8mO9_sQm3JZqhE37urhY\"><span style=\"color: #ff0000;\">วันพระที่ 26 เมษายน 2564</span></a></span></strong></p>',\n",
              " '<p><strong><span style=\"color: #ff0000;\"><a href=\"/17280820/%E0%B8%82%E0%B9%89%E0%B8%AD%E0%B8%A1%E0%B8%B9%E0%B8%A5%E0%B8%AA%E0%B8%A0%E0%B8%B2%E0%B8%A7%E0%B8%B0%E0%B8%95%E0%B8%A5%E0%B8%B2%E0%B8%94%E0%B8%AA%E0%B8%B8%E0%B8%81%E0%B8%A3%E0%B8%A1%E0%B8%B5%E0%B8%8A%E0%B8%B5%E0%B8%A7%E0%B8%B4%E0%B8%95%E0%B8%AB%E0%B8%99%E0%B9%89%E0%B8%B2%E0%B8%9F%E0%B8%B2%E0%B8%A3%E0%B9%8C%E0%B8%A1-%E0%B8%AA%E0%B8%B1%E0%B8%9B%E0%B8%94%E0%B8%B2%E0%B8%AB%E0%B9%8C%E0%B8%97%E0%B8%B5%E0%B9%88-192564-%E0%B8%A7%E0%B8%B1%E0%B8%99%E0%B8%9E%E0%B8%A3%E0%B8%B0%E0%B8%97%E0%B8%B5%E0%B9%88-4-%E0%B8%9E%E0%B8%A4%E0%B8%A9%E0%B8%A0%E0%B8%B2%E0%B8%84%E0%B8%A1-2564?fbclid=IwAR1j1ncBIq7joRjAAfZqYjN-x-UkH6gf5a1WtsDkilefBDCO5uTe_a8SLsQ\"><span style=\"color: #ff0000;\">วันพระที่ 4 พฤษภาคม 2564</span></a></span></strong></p>',\n",
              " '<p><strong><span style=\"color: #ff0000;\"><a href=\"/17283259/%E0%B8%82%E0%B9%89%E0%B8%AD%E0%B8%A1%E0%B8%B9%E0%B8%A5%E0%B8%AA%E0%B8%A0%E0%B8%B2%E0%B8%A7%E0%B8%B0%E0%B8%95%E0%B8%A5%E0%B8%B2%E0%B8%94%E0%B8%AA%E0%B8%B8%E0%B8%81%E0%B8%A3%E0%B8%A1%E0%B8%B5%E0%B8%8A%E0%B8%B5%E0%B8%A7%E0%B8%B4%E0%B8%95%E0%B8%AB%E0%B8%99%E0%B9%89%E0%B8%B2%E0%B8%9F%E0%B8%B2%E0%B8%A3%E0%B9%8C%E0%B8%A1-%E0%B8%AA%E0%B8%B1%E0%B8%9B%E0%B8%94%E0%B8%B2%E0%B8%AB%E0%B9%8C%E0%B8%97%E0%B8%B5%E0%B9%88-202564-%E0%B8%A7%E0%B8%B1%E0%B8%99%E0%B8%9E%E0%B8%A3%E0%B8%B0%E0%B8%97%E0%B8%B5%E0%B9%88-11-%E0%B8%9E%E0%B8%A4%E0%B8%A9%E0%B8%A0%E0%B8%B2%E0%B8%84%E0%B8%A1-2564?fbclid=IwAR1PUxucUajeKf6f7Yw1SZLL-dTc6pIkypq8xuR_OaIlb-qnUGnRkPqqb4g\"><span style=\"color: #ff0000;\">วันพระที่ 11 พฤษภาคม 2564</span></a></span></strong></p>',\n",
              " '<p><strong><span style=\"color: #ff0000;\"><a href=\"/17285945/%E0%B8%82%E0%B9%89%E0%B8%AD%E0%B8%A1%E0%B8%B9%E0%B8%A5%E0%B8%AA%E0%B8%A0%E0%B8%B2%E0%B8%A7%E0%B8%B0%E0%B8%95%E0%B8%A5%E0%B8%B2%E0%B8%94%E0%B8%AA%E0%B8%B8%E0%B8%81%E0%B8%A3%E0%B8%A1%E0%B8%B5%E0%B8%8A%E0%B8%B5%E0%B8%A7%E0%B8%B4%E0%B8%95%E0%B8%AB%E0%B8%99%E0%B9%89%E0%B8%B2%E0%B8%9F%E0%B8%B2%E0%B8%A3%E0%B9%8C%E0%B8%A1-%E0%B8%AA%E0%B8%B1%E0%B8%9B%E0%B8%94%E0%B8%B2%E0%B8%AB%E0%B9%8C%E0%B8%97%E0%B8%B5%E0%B9%88-212564-%E0%B8%A7%E0%B8%B1%E0%B8%99%E0%B8%9E%E0%B8%A3%E0%B8%B0%E0%B8%97%E0%B8%B5%E0%B9%88-19-%E0%B8%9E%E0%B8%A4%E0%B8%A9%E0%B8%A0%E0%B8%B2%E0%B8%84%E0%B8%A1-2564?fbclid=IwAR2ae0gbpw_Q1evHw9Few-56Ik1yc6qIRjfO6JHxv9IqtM1ZHNoI6RuITVk\"><span style=\"color: #ff0000;\">วันพระที่ 19 พฤษภาคม 2564</span></a></span></strong></p>',\n",
              " '<p><strong><span style=\"color: #ff0000;\"><a href=\"/17288433/%E0%B8%82%E0%B9%89%E0%B8%AD%E0%B8%A1%E0%B8%B9%E0%B8%A5%E0%B8%AA%E0%B8%A0%E0%B8%B2%E0%B8%A7%E0%B8%B0%E0%B8%95%E0%B8%A5%E0%B8%B2%E0%B8%94%E0%B8%AA%E0%B8%B8%E0%B8%81%E0%B8%A3%E0%B8%A1%E0%B8%B5%E0%B8%8A%E0%B8%B5%E0%B8%A7%E0%B8%B4%E0%B8%95%E0%B8%AB%E0%B8%99%E0%B9%89%E0%B8%B2%E0%B8%9F%E0%B8%B2%E0%B8%A3%E0%B9%8C%E0%B8%A1-%E0%B8%AA%E0%B8%B1%E0%B8%9B%E0%B8%94%E0%B8%B2%E0%B8%AB%E0%B9%8C%E0%B8%97%E0%B8%B5%E0%B9%88-222564-%E0%B8%A7%E0%B8%B1%E0%B8%99%E0%B8%9E%E0%B8%A3%E0%B8%B0%E0%B8%97%E0%B8%B5%E0%B9%88-26-%E0%B8%9E%E0%B8%A4%E0%B8%A9%E0%B8%A0%E0%B8%B2%E0%B8%84%E0%B8%A1-2564?fbclid=IwAR0RTQUJFY9rdt7ZMg7OLR9sg2viISpcA6mMWETtsKwUwTB85iOfACXxMeY\"><span style=\"color: #ff0000;\">วันพระที่ 26 พฤษภาคม 2564</span></a></span></strong></p>',\n",
              " '<p><strong><span style=\"color: #ff0000;\"><a href=\"/17290999/%E0%B8%82%E0%B9%89%E0%B8%AD%E0%B8%A1%E0%B8%B9%E0%B8%A5%E0%B8%AA%E0%B8%A0%E0%B8%B2%E0%B8%A7%E0%B8%B0%E0%B8%95%E0%B8%A5%E0%B8%B2%E0%B8%94%E0%B8%AA%E0%B8%B8%E0%B8%81%E0%B8%A3%E0%B8%A1%E0%B8%B5%E0%B8%8A%E0%B8%B5%E0%B8%A7%E0%B8%B4%E0%B8%95%E0%B8%AB%E0%B8%99%E0%B9%89%E0%B8%B2%E0%B8%9F%E0%B8%B2%E0%B8%A3%E0%B9%8C%E0%B8%A1-%E0%B8%AA%E0%B8%B1%E0%B8%9B%E0%B8%94%E0%B8%B2%E0%B8%AB%E0%B9%8C%E0%B8%97%E0%B8%B5%E0%B9%88-232564-%E0%B8%A7%E0%B8%B1%E0%B8%99%E0%B8%9E%E0%B8%A3%E0%B8%B0%E0%B8%97%E0%B8%B5%E0%B9%88-3-%E0%B8%A1%E0%B8%B4%E0%B8%96%E0%B8%B8%E0%B8%99%E0%B8%B2%E0%B8%A2%E0%B8%99-2564?fbclid=IwAR25gNMG1e_O4D6WRdsrRf7r2HQjfjm2MfyjtXufIYZp5WgF_LooQ3XJ38k\"><span style=\"color: #ff0000;\">วันพระที่ 3 มิถุนายน 2564</span></a></span></strong></p>',\n",
              " '<p><strong><span style=\"color: #ff0000;\"><a href=\"/17292540/%E0%B8%82%E0%B9%89%E0%B8%AD%E0%B8%A1%E0%B8%B9%E0%B8%A5%E0%B8%AA%E0%B8%A0%E0%B8%B2%E0%B8%A7%E0%B8%B0%E0%B8%95%E0%B8%A5%E0%B8%B2%E0%B8%94%E0%B8%AA%E0%B8%B8%E0%B8%81%E0%B8%A3%E0%B8%A1%E0%B8%B5%E0%B8%8A%E0%B8%B5%E0%B8%A7%E0%B8%B4%E0%B8%95%E0%B8%AB%E0%B8%99%E0%B9%89%E0%B8%B2%E0%B8%9F%E0%B8%B2%E0%B8%A3%E0%B9%8C%E0%B8%A1-%E0%B8%AA%E0%B8%B1%E0%B8%9B%E0%B8%94%E0%B8%B2%E0%B8%AB%E0%B9%8C%E0%B8%97%E0%B8%B5%E0%B9%88-242564-%E0%B8%A7%E0%B8%B1%E0%B8%99%E0%B8%9E%E0%B8%A3%E0%B8%B0%E0%B8%97%E0%B8%B5%E0%B9%88-9-%E0%B8%A1%E0%B8%B4%E0%B8%96%E0%B8%B8%E0%B8%99%E0%B8%B2%E0%B8%A2%E0%B8%99-2564?fbclid=IwAR2jVzcNBnyR6RTl9xkL6mfCFwgAWYO-W52QuXH6GSZ5WcanNHxz1gtVwEc\"><span style=\"color: #ff0000;\">วันพระที่ 9 มิถุนายน 2564</span></a></span></strong></p>',\n",
              " '<p><span style=\"color: #ff0000;\"><strong><a href=\"/17294057/%E0%B8%82%E0%B9%89%E0%B8%AD%E0%B8%A1%E0%B8%B9%E0%B8%A5%E0%B8%AA%E0%B8%A0%E0%B8%B2%E0%B8%A7%E0%B8%B0%E0%B8%95%E0%B8%A5%E0%B8%B2%E0%B8%94%E0%B8%AA%E0%B8%B8%E0%B8%81%E0%B8%A3%E0%B8%A1%E0%B8%B5%E0%B8%8A%E0%B8%B5%E0%B8%A7%E0%B8%B4%E0%B8%95%E0%B8%AB%E0%B8%99%E0%B9%89%E0%B8%B2%E0%B8%9F%E0%B8%B2%E0%B8%A3%E0%B9%8C%E0%B8%A1-%E0%B8%AA%E0%B8%B1%E0%B8%9B%E0%B8%94%E0%B8%B2%E0%B8%AB%E0%B9%8C%E0%B8%97%E0%B8%B5%E0%B9%88-252564-%E0%B8%A7%E0%B8%B1%E0%B8%99%E0%B8%9E%E0%B8%A3%E0%B8%B0%E0%B8%97%E0%B8%B5%E0%B9%88-17-%E0%B8%A1%E0%B8%B4%E0%B8%96%E0%B8%B8%E0%B8%99%E0%B8%B2%E0%B8%A2%E0%B8%99-2564?fbclid=IwAR11U9uLO9gW9DeuyKy5S0-vyL0LJ0pAgGo3MdC_b_3jJ-_NbeFe8pKco6E\"><span style=\"color: #ff0000;\">วันพระที่ 17 มิถุนายน 2564</span></a></strong></span></p>',\n",
              " '<p><span style=\"color: #ff0000;\"><strong><a href=\"/17295487/%E0%B8%82%E0%B9%89%E0%B8%AD%E0%B8%A1%E0%B8%B9%E0%B8%A5%E0%B8%AA%E0%B8%A0%E0%B8%B2%E0%B8%A7%E0%B8%B0%E0%B8%95%E0%B8%A5%E0%B8%B2%E0%B8%94%E0%B8%AA%E0%B8%B8%E0%B8%81%E0%B8%A3%E0%B8%A1%E0%B8%B5%E0%B8%8A%E0%B8%B5%E0%B8%A7%E0%B8%B4%E0%B8%95%E0%B8%AB%E0%B8%99%E0%B9%89%E0%B8%B2%E0%B8%9F%E0%B8%B2%E0%B8%A3%E0%B9%8C%E0%B8%A1-%E0%B8%AA%E0%B8%B1%E0%B8%9B%E0%B8%94%E0%B8%B2%E0%B8%AB%E0%B9%8C%E0%B8%97%E0%B8%B5%E0%B9%88-262564-%E0%B8%A7%E0%B8%B1%E0%B8%99%E0%B8%9E%E0%B8%A3%E0%B8%B0%E0%B8%97%E0%B8%B5%E0%B9%88-24-%E0%B8%A1%E0%B8%B4%E0%B8%96%E0%B8%B8%E0%B8%99%E0%B8%B2%E0%B8%A2%E0%B8%99-2564?fbclid=IwAR1flVb0SvK-JeDC-ukEuMktnVd3TMXesmIn6NI7XdVLmDQfiAuez0F17PE\"><span style=\"color: #ff0000;\">วันพระที่ 24 มิถุนายน 2564</span></a></strong></span></p>',\n",
              " '<p><span style=\"color: #800000;\">\\xa0<br/><span style=\"color: #ff0000;\"><strong><a href=\"/17297036/%E0%B8%82%E0%B9%89%E0%B8%AD%E0%B8%A1%E0%B8%B9%E0%B8%A5%E0%B8%AA%E0%B8%A0%E0%B8%B2%E0%B8%A7%E0%B8%B0%E0%B8%95%E0%B8%A5%E0%B8%B2%E0%B8%94%E0%B8%AA%E0%B8%B8%E0%B8%81%E0%B8%A3%E0%B8%A1%E0%B8%B5%E0%B8%8A%E0%B8%B5%E0%B8%A7%E0%B8%B4%E0%B8%95%E0%B8%AB%E0%B8%99%E0%B9%89%E0%B8%B2%E0%B8%9F%E0%B8%B2%E0%B8%A3%E0%B9%8C%E0%B8%A1-%E0%B8%AA%E0%B8%B1%E0%B8%9B%E0%B8%94%E0%B8%B2%E0%B8%AB%E0%B9%8C%E0%B8%97%E0%B8%B5%E0%B9%88-272564-%E0%B8%A7%E0%B8%B1%E0%B8%99%E0%B8%9E%E0%B8%A3%E0%B8%B0%E0%B8%97%E0%B8%B5%E0%B9%88-2-%E0%B8%81%E0%B8%A3%E0%B8%81%E0%B8%8E%E0%B8%B2%E0%B8%84%E0%B8%A1-2564?fbclid=IwAR2WMUzpJ0GzlXGr0ohoKxLqeDnM1xcu3kYzzxcy3m6VRq6xApmJqZnR3V0\"><span style=\"color: #ff0000;\">วันพระที่ 2 กรกฎาคม 2564</span></a></strong></span></span></p>',\n",
              " '<p><span style=\"color: #ff0000;\"><strong><a href=\"/17298656/%E0%B8%82%E0%B9%89%E0%B8%AD%E0%B8%A1%E0%B8%B9%E0%B8%A5%E0%B8%AA%E0%B8%A0%E0%B8%B2%E0%B8%A7%E0%B8%B0%E0%B8%95%E0%B8%A5%E0%B8%B2%E0%B8%94%E0%B8%AA%E0%B8%B8%E0%B8%81%E0%B8%A3%E0%B8%A1%E0%B8%B5%E0%B8%8A%E0%B8%B5%E0%B8%A7%E0%B8%B4%E0%B8%95%E0%B8%AB%E0%B8%99%E0%B9%89%E0%B8%B2%E0%B8%9F%E0%B8%B2%E0%B8%A3%E0%B9%8C%E0%B8%A1-%E0%B8%AA%E0%B8%B1%E0%B8%9B%E0%B8%94%E0%B8%B2%E0%B8%AB%E0%B9%8C%E0%B8%97%E0%B8%B5%E0%B9%88-282564-%E0%B8%A7%E0%B8%B1%E0%B8%99%E0%B8%9E%E0%B8%A3%E0%B8%B0%E0%B8%97%E0%B8%B5%E0%B9%88-9-%E0%B8%81%E0%B8%A3%E0%B8%81%E0%B8%8E%E0%B8%B2%E0%B8%84%E0%B8%A1-2564?fbclid=IwAR1AQKvkd-vKj2LhknjzUSI-SNpPRPiiyRA3GT3U3l1j_sorYhrQQu2vB58\"><span style=\"color: #ff0000;\">วันพระที่ 9 กรกฎาคม 2564</span></a></strong></span></p>',\n",
              " '<p><span style=\"color: #ff0000;\"><strong><a href=\"/17300427/%E0%B8%82%E0%B9%89%E0%B8%AD%E0%B8%A1%E0%B8%B9%E0%B8%A5%E0%B8%AA%E0%B8%A0%E0%B8%B2%E0%B8%A7%E0%B8%B0%E0%B8%95%E0%B8%A5%E0%B8%B2%E0%B8%94%E0%B8%AA%E0%B8%B8%E0%B8%81%E0%B8%A3%E0%B8%A1%E0%B8%B5%E0%B8%8A%E0%B8%B5%E0%B8%A7%E0%B8%B4%E0%B8%95%E0%B8%AB%E0%B8%99%E0%B9%89%E0%B8%B2%E0%B8%9F%E0%B8%B2%E0%B8%A3%E0%B9%8C%E0%B8%A1-%E0%B8%AA%E0%B8%B1%E0%B8%9B%E0%B8%94%E0%B8%B2%E0%B8%AB%E0%B9%8C%E0%B8%97%E0%B8%B5%E0%B9%88-292564-%E0%B8%A7%E0%B8%B1%E0%B8%99%E0%B8%9E%E0%B8%A3%E0%B8%B0%E0%B8%97%E0%B8%B5%E0%B9%88-17-%E0%B8%81%E0%B8%A3%E0%B8%81%E0%B8%8E%E0%B8%B2%E0%B8%84%E0%B8%A1-2564?fbclid=IwAR2okh0lfYF4xtRQZ227B_e8CDac-ButRNAQKvfs7pKJXgxvCEsRBOPkVPw\"><span style=\"color: #ff0000;\">วันพระที่ 17 กรกฎาคม 2564</span></a></strong></span></p>',\n",
              " '<p><span style=\"color: #ff0000;\"><strong><a href=\"/17301663/%E0%B8%82%E0%B9%89%E0%B8%AD%E0%B8%A1%E0%B8%B9%E0%B8%A5%E0%B8%AA%E0%B8%A0%E0%B8%B2%E0%B8%A7%E0%B8%B0%E0%B8%95%E0%B8%A5%E0%B8%B2%E0%B8%94%E0%B8%AA%E0%B8%B8%E0%B8%81%E0%B8%A3%E0%B8%A1%E0%B8%B5%E0%B8%8A%E0%B8%B5%E0%B8%A7%E0%B8%B4%E0%B8%95%E0%B8%AB%E0%B8%99%E0%B9%89%E0%B8%B2%E0%B8%9F%E0%B8%B2%E0%B8%A3%E0%B9%8C%E0%B8%A1-%E0%B8%AA%E0%B8%B1%E0%B8%9B%E0%B8%94%E0%B8%B2%E0%B8%AB%E0%B9%8C%E0%B8%97%E0%B8%B5%E0%B9%88-302564-%E0%B8%A7%E0%B8%B1%E0%B8%99%E0%B8%9E%E0%B8%A3%E0%B8%B0%E0%B8%97%E0%B8%B5%E0%B9%88-24-%E0%B8%81%E0%B8%A3%E0%B8%81%E0%B8%8E%E0%B8%B2%E0%B8%84%E0%B8%A1-2564?fbclid=IwAR1AQKvkd-vKj2LhknjzUSI-SNpPRPiiyRA3GT3U3l1j_sorYhrQQu2vB58\"><span style=\"color: #ff0000;\">วันพระที่ 24 กรกฎาคม 2564</span></a></strong></span></p>',\n",
              " '<p><span style=\"color: #ff0000;\"><strong><a href=\"/17303085/%E0%B8%82%E0%B9%89%E0%B8%AD%E0%B8%A1%E0%B8%B9%E0%B8%A5%E0%B8%AA%E0%B8%A0%E0%B8%B2%E0%B8%A7%E0%B8%B0%E0%B8%95%E0%B8%A5%E0%B8%B2%E0%B8%94%E0%B8%AA%E0%B8%B8%E0%B8%81%E0%B8%A3%E0%B8%A1%E0%B8%B5%E0%B8%8A%E0%B8%B5%E0%B8%A7%E0%B8%B4%E0%B8%95%E0%B8%AB%E0%B8%99%E0%B9%89%E0%B8%B2%E0%B8%9F%E0%B8%B2%E0%B8%A3%E0%B9%8C%E0%B8%A1-%E0%B8%AA%E0%B8%B1%E0%B8%9B%E0%B8%94%E0%B8%B2%E0%B8%AB%E0%B9%8C%E0%B8%97%E0%B8%B5%E0%B9%88-312564-%E0%B8%A7%E0%B8%B1%E0%B8%99%E0%B8%9E%E0%B8%A3%E0%B8%B0%E0%B8%97%E0%B8%B5%E0%B9%88-1-%E0%B8%AA%E0%B8%B4%E0%B8%87%E0%B8%AB%E0%B8%B2%E0%B8%84%E0%B8%A1-2564?fbclid=IwAR1ldSrryB_2Hl5rpjAiPJrFge7JdNadIGsz-0Vugm_2ibr9T5GAllTcUsw\"><span style=\"color: #ff0000;\">วันพระที่ 1 สิงหาคม 2564</span></a></strong></span></p>',\n",
              " '<p><span style=\"color: #ff0000;\"><strong><a href=\"/17304615/%E0%B8%82%E0%B9%89%E0%B8%AD%E0%B8%A1%E0%B8%B9%E0%B8%A5%E0%B8%AA%E0%B8%A0%E0%B8%B2%E0%B8%A7%E0%B8%B0%E0%B8%95%E0%B8%A5%E0%B8%B2%E0%B8%94%E0%B8%AA%E0%B8%B8%E0%B8%81%E0%B8%A3%E0%B8%A1%E0%B8%B5%E0%B8%8A%E0%B8%B5%E0%B8%A7%E0%B8%B4%E0%B8%95%E0%B8%AB%E0%B8%99%E0%B9%89%E0%B8%B2%E0%B8%9F%E0%B8%B2%E0%B8%A3%E0%B9%8C%E0%B8%A1-%E0%B8%AA%E0%B8%B1%E0%B8%9B%E0%B8%94%E0%B8%B2%E0%B8%AB%E0%B9%8C%E0%B8%97%E0%B8%B5%E0%B9%88-322564-%E0%B8%A7%E0%B8%B1%E0%B8%99%E0%B8%9E%E0%B8%A3%E0%B8%B0%E0%B8%97%E0%B8%B5%E0%B9%88-8-%E0%B8%AA%E0%B8%B4%E0%B8%87%E0%B8%AB%E0%B8%B2%E0%B8%84%E0%B8%A1-2564-?fbclid=IwAR073_HSDVxfFH0woB7s3LFd6TiSk-AkN5w21IjcF7LHDzvI-WtlIDwuLhM\"><span style=\"color: #ff0000;\">วันพระที่ 8 สิงหาคม 2564</span></a></strong></span></p>',\n",
              " '<p><span style=\"color: #ff0000;\"><strong><a href=\"/17306014/%E0%B8%82%E0%B9%89%E0%B8%AD%E0%B8%A1%E0%B8%B9%E0%B8%A5%E0%B8%AA%E0%B8%A0%E0%B8%B2%E0%B8%A7%E0%B8%B0%E0%B8%95%E0%B8%A5%E0%B8%B2%E0%B8%94%E0%B8%AA%E0%B8%B8%E0%B8%81%E0%B8%A3%E0%B8%A1%E0%B8%B5%E0%B8%8A%E0%B8%B5%E0%B8%A7%E0%B8%B4%E0%B8%95%E0%B8%AB%E0%B8%99%E0%B9%89%E0%B8%B2%E0%B8%9F%E0%B8%B2%E0%B8%A3%E0%B9%8C%E0%B8%A1-%E0%B8%AA%E0%B8%B1%E0%B8%9B%E0%B8%94%E0%B8%B2%E0%B8%AB%E0%B9%8C%E0%B8%97%E0%B8%B5%E0%B9%88-332564-%E0%B8%A7%E0%B8%B1%E0%B8%99%E0%B8%9E%E0%B8%A3%E0%B8%B0%E0%B8%97%E0%B8%B5%E0%B9%88-16-%E0%B8%AA%E0%B8%B4%E0%B8%87%E0%B8%AB%E0%B8%B2%E0%B8%84%E0%B8%A1-2564-\"><span style=\"color: #ff0000;\">วันพระที่ 16 สิงหาคม 2564</span></a></strong></span><span style=\"color: #ff0000;\"><strong><span style=\"color: #ff0000;\"><a href=\"/17306014/%E0%B8%82%E0%B9%89%E0%B8%AD%E0%B8%A1%E0%B8%B9%E0%B8%A5%E0%B8%AA%E0%B8%A0%E0%B8%B2%E0%B8%A7%E0%B8%B0%E0%B8%95%E0%B8%A5%E0%B8%B2%E0%B8%94%E0%B8%AA%E0%B8%B8%E0%B8%81%E0%B8%A3%E0%B8%A1%E0%B8%B5%E0%B8%8A%E0%B8%B5%E0%B8%A7%E0%B8%B4%E0%B8%95%E0%B8%AB%E0%B8%99%E0%B9%89%E0%B8%B2%E0%B8%9F%E0%B8%B2%E0%B8%A3%E0%B9%8C%E0%B8%A1-%E0%B8%AA%E0%B8%B1%E0%B8%9B%E0%B8%94%E0%B8%B2%E0%B8%AB%E0%B9%8C%E0%B8%97%E0%B8%B5%E0%B9%88-332564-%E0%B8%A7%E0%B8%B1%E0%B8%99%E0%B8%9E%E0%B8%A3%E0%B8%B0%E0%B8%97%E0%B8%B5%E0%B9%88-16-%E0%B8%AA%E0%B8%B4%E0%B8%87%E0%B8%AB%E0%B8%B2%E0%B8%84%E0%B8%A1-2564-\"><br/><br/></a></span></strong></span><span style=\"color: #ff0000;\"><strong><a href=\"/17307573/%E0%B8%82%E0%B9%89%E0%B8%AD%E0%B8%A1%E0%B8%B9%E0%B8%A5%E0%B8%AA%E0%B8%A0%E0%B8%B2%E0%B8%A7%E0%B8%B0%E0%B8%95%E0%B8%A5%E0%B8%B2%E0%B8%94%E0%B8%AA%E0%B8%B8%E0%B8%81%E0%B8%A3%E0%B8%A1%E0%B8%B5%E0%B8%8A%E0%B8%B5%E0%B8%A7%E0%B8%B4%E0%B8%95%E0%B8%AB%E0%B8%99%E0%B9%89%E0%B8%B2%E0%B8%9F%E0%B8%B2%E0%B8%A3%E0%B9%8C%E0%B8%A1-%E0%B8%AA%E0%B8%B1%E0%B8%9B%E0%B8%94%E0%B8%B2%E0%B8%AB%E0%B9%8C%E0%B8%97%E0%B8%B5%E0%B9%88-352564-%E0%B8%A7%E0%B8%B1%E0%B8%99%E0%B8%9E%E0%B8%A3%E0%B8%B0%E0%B8%97%E0%B8%B5%E0%B9%88-23-%E0%B8%AA%E0%B8%B4%E0%B8%87%E0%B8%AB%E0%B8%B2%E0%B8%84%E0%B8%A1-2564?fbclid=IwAR1BfOHvZFN4xOpmnyvm1vHxaOZCcmaSdWpxw2QDgIIHXQvqEUp9dlCAoGM\"><span style=\"color: #ff0000;\"><strong>วันพระที่ 23 สิงหาคม 2564</strong></span></a></strong></span><span style=\"color: #ff0000;\"><strong><span style=\"color: #ff0000;\"><a href=\"/17306014/%E0%B8%82%E0%B9%89%E0%B8%AD%E0%B8%A1%E0%B8%B9%E0%B8%A5%E0%B8%AA%E0%B8%A0%E0%B8%B2%E0%B8%A7%E0%B8%B0%E0%B8%95%E0%B8%A5%E0%B8%B2%E0%B8%94%E0%B8%AA%E0%B8%B8%E0%B8%81%E0%B8%A3%E0%B8%A1%E0%B8%B5%E0%B8%8A%E0%B8%B5%E0%B8%A7%E0%B8%B4%E0%B8%95%E0%B8%AB%E0%B8%99%E0%B9%89%E0%B8%B2%E0%B8%9F%E0%B8%B2%E0%B8%A3%E0%B9%8C%E0%B8%A1-%E0%B8%AA%E0%B8%B1%E0%B8%9B%E0%B8%94%E0%B8%B2%E0%B8%AB%E0%B9%8C%E0%B8%97%E0%B8%B5%E0%B9%88-332564-%E0%B8%A7%E0%B8%B1%E0%B8%99%E0%B8%9E%E0%B8%A3%E0%B8%B0%E0%B8%97%E0%B8%B5%E0%B9%88-16-%E0%B8%AA%E0%B8%B4%E0%B8%87%E0%B8%AB%E0%B8%B2%E0%B8%84%E0%B8%A1-2564-\"><br/></a></span></strong></span></p>',\n",
              " '<p><strong><span style=\"color: #ff0000;\"><a href=\"/17309529/%E0%B8%82%E0%B9%89%E0%B8%AD%E0%B8%A1%E0%B8%B9%E0%B8%A5%E0%B8%AA%E0%B8%A0%E0%B8%B2%E0%B8%A7%E0%B8%B0%E0%B8%95%E0%B8%A5%E0%B8%B2%E0%B8%94%E0%B8%AA%E0%B8%B8%E0%B8%81%E0%B8%A3%E0%B8%A1%E0%B8%B5%E0%B8%8A%E0%B8%B5%E0%B8%A7%E0%B8%B4%E0%B8%95%E0%B8%AB%E0%B8%99%E0%B9%89%E0%B8%B2%E0%B8%9F%E0%B8%B2%E0%B8%A3%E0%B9%8C%E0%B8%A1-%E0%B8%AA%E0%B8%B1%E0%B8%9B%E0%B8%94%E0%B8%B2%E0%B8%AB%E0%B9%8C%E0%B8%97%E0%B8%B5%E0%B9%88-362564-%E0%B8%A7%E0%B8%B1%E0%B8%99%E0%B8%9E%E0%B8%A3%E0%B8%B0%E0%B8%97%E0%B8%B5%E0%B9%88-31-%E0%B8%AA%E0%B8%B4%E0%B8%87%E0%B8%AB%E0%B8%B2%E0%B8%84%E0%B8%A1-2564?fbclid=IwAR1wVLf4XqyDsI7pN0qz8MPIw_d0fIEyl_1AsEqCeyIMIzynb-QxDAJ-wO4\"><span style=\"color: #ff0000;\">วันพระที่ 31 สิงหาคม 2564</span></a></span></strong></p>',\n",
              " '<p><span style=\"color: #ff0000;\"><strong><a href=\"/17310794/%E0%B8%82%E0%B9%89%E0%B8%AD%E0%B8%A1%E0%B8%B9%E0%B8%A5%E0%B8%AA%E0%B8%A0%E0%B8%B2%E0%B8%A7%E0%B8%B0%E0%B8%95%E0%B8%A5%E0%B8%B2%E0%B8%94%E0%B8%AA%E0%B8%B8%E0%B8%81%E0%B8%A3%E0%B8%A1%E0%B8%B5%E0%B8%8A%E0%B8%B5%E0%B8%A7%E0%B8%B4%E0%B8%95%E0%B8%AB%E0%B8%99%E0%B9%89%E0%B8%B2%E0%B8%9F%E0%B8%B2%E0%B8%A3%E0%B9%8C%E0%B8%A1-%E0%B8%AA%E0%B8%B1%E0%B8%9B%E0%B8%94%E0%B8%B2%E0%B8%AB%E0%B9%8C%E0%B8%97%E0%B8%B5%E0%B9%88-372564-%E0%B8%A7%E0%B8%B1%E0%B8%99%E0%B8%9E%E0%B8%A3%E0%B8%B0%E0%B8%97%E0%B8%B5%E0%B9%88-6-%E0%B8%81%E0%B8%B1%E0%B8%99%E0%B8%A2%E0%B8%B2%E0%B8%A2%E0%B8%99-2564-?fbclid=IwAR0FxdXzdyjj77kgBws3GPPtLgtWnsok6RhPbu1Btr1zjCThnow1F24G9os\"><span style=\"color: #ff0000;\">วันพระที่ 6 กันยายน 2564</span></a></strong></span></p>',\n",
              " '<p><span style=\"color: #ff0000;\"><strong><a href=\"/17311976/%E0%B8%82%E0%B9%89%E0%B8%AD%E0%B8%A1%E0%B8%B9%E0%B8%A5%E0%B8%AA%E0%B8%A0%E0%B8%B2%E0%B8%A7%E0%B8%B0%E0%B8%95%E0%B8%A5%E0%B8%B2%E0%B8%94%E0%B8%AA%E0%B8%B8%E0%B8%81%E0%B8%A3%E0%B8%A1%E0%B8%B5%E0%B8%8A%E0%B8%B5%E0%B8%A7%E0%B8%B4%E0%B8%95%E0%B8%AB%E0%B8%99%E0%B9%89%E0%B8%B2%E0%B8%9F%E0%B8%B2%E0%B8%A3%E0%B9%8C%E0%B8%A1-%E0%B8%AA%E0%B8%B1%E0%B8%9B%E0%B8%94%E0%B8%B2%E0%B8%AB%E0%B9%8C%E0%B8%97%E0%B8%B5%E0%B9%88-382564-%E0%B8%A7%E0%B8%B1%E0%B8%99%E0%B8%9E%E0%B8%A3%E0%B8%B0%E0%B8%97%E0%B8%B5%E0%B9%88-14-%E0%B8%81%E0%B8%B1%E0%B8%99%E0%B8%A2%E0%B8%B2%E0%B8%A2%E0%B8%99-2564-\"><span style=\"color: #ff0000;\">วันพระที่ 14 กันยายน 2564</span></a></strong></span></p>',\n",
              " '<p><strong><span style=\"color: #ff0000;\"><a href=\"/17312988/%E0%B8%82%E0%B9%89%E0%B8%AD%E0%B8%A1%E0%B8%B9%E0%B8%A5%E0%B8%AA%E0%B8%A0%E0%B8%B2%E0%B8%A7%E0%B8%B0%E0%B8%95%E0%B8%A5%E0%B8%B2%E0%B8%94%E0%B8%AA%E0%B8%B8%E0%B8%81%E0%B8%A3%E0%B8%A1%E0%B8%B5%E0%B8%8A%E0%B8%B5%E0%B8%A7%E0%B8%B4%E0%B8%95%E0%B8%AB%E0%B8%99%E0%B9%89%E0%B8%B2%E0%B8%9F%E0%B8%B2%E0%B8%A3%E0%B9%8C%E0%B8%A1-%E0%B8%AA%E0%B8%B1%E0%B8%9B%E0%B8%94%E0%B8%B2%E0%B8%AB%E0%B9%8C%E0%B8%97%E0%B8%B5%E0%B9%88-392564-%E0%B8%A7%E0%B8%B1%E0%B8%99%E0%B8%9E%E0%B8%A3%E0%B8%B0%E0%B8%97%E0%B8%B5%E0%B9%88-21-%E0%B8%81%E0%B8%B1%E0%B8%99%E0%B8%A2%E0%B8%B2%E0%B8%A2%E0%B8%99-2564-?fbclid=IwAR3xqc2zudQ87XMgN-zxis58YylJDDjGejRWbE10XR8oqj853X7Gw8KcR18\"><span style=\"color: #ff0000;\">วันพระที่ 21 กันยายน 2564</span></a></span></strong></p>',\n",
              " '<p><span style=\"color: #800000;\"><strong><a href=\"/17173500/%E0%B8%82%E0%B9%89%E0%B8%AD%E0%B8%A1%E0%B8%B9%E0%B8%A5%E0%B8%AA%E0%B8%A0%E0%B8%B2%E0%B8%A7%E0%B8%B0%E0%B8%95%E0%B8%A5%E0%B8%B2%E0%B8%94%E0%B8%AA%E0%B8%B8%E0%B8%81%E0%B8%A3%E0%B8%A1%E0%B8%B5%E0%B8%8A%E0%B8%B5%E0%B8%A7%E0%B8%B4%E0%B8%95-%E0%B8%A7%E0%B8%B1%E0%B8%99%E0%B8%9E%E0%B8%A3%E0%B8%B0%E0%B8%97%E0%B8%B5%E0%B9%88-2-%E0%B8%A1%E0%B8%81%E0%B8%A3%E0%B8%B2%E0%B8%84%E0%B8%A1-2563?fbclid=IwAR32vw0X0x1MKg_DiaQacfl2A7fI1cR0oTqa9LtELvSknFmkHifoiKTfMoU\"><span style=\"color: #800000;\"><span style=\"color: #0000ff;\">วันพระที่ 2 มกราคม 256</span>3</span></a></strong></span></p>',\n",
              " '<p><span style=\"color: #800000;\"><strong><a href=\"/17175085/%E0%B8%82%E0%B9%89%E0%B8%AD%E0%B8%A1%E0%B8%B9%E0%B8%A5%E0%B8%AA%E0%B8%A0%E0%B8%B2%E0%B8%A7%E0%B8%B0%E0%B8%95%E0%B8%A5%E0%B8%B2%E0%B8%94%E0%B8%AA%E0%B8%B8%E0%B8%81%E0%B8%A3%E0%B8%A1%E0%B8%B5%E0%B8%8A%E0%B8%B5%E0%B8%A7%E0%B8%B4%E0%B8%95-%E0%B8%A7%E0%B8%B1%E0%B8%99%E0%B8%9E%E0%B8%A3%E0%B8%B0%E0%B8%97%E0%B8%B5%E0%B9%88-9-%E0%B8%A1%E0%B8%81%E0%B8%A3%E0%B8%B2%E0%B8%84%E0%B8%A1-2563\"><span style=\"color: #800000;\"><span style=\"color: #ff0000;\">วันพระที่ 9 มกราคม 2563</span></span></a></strong></span></p>',\n",
              " '<p><span style=\"color: #800000;\"><strong><a href=\"/17177287/%E0%B8%82%E0%B9%89%E0%B8%AD%E0%B8%A1%E0%B8%B9%E0%B8%A5%E0%B8%AA%E0%B8%A0%E0%B8%B2%E0%B8%A7%E0%B8%B0%E0%B8%95%E0%B8%A5%E0%B8%B2%E0%B8%94%E0%B8%AA%E0%B8%B8%E0%B8%81%E0%B8%A3%E0%B8%A1%E0%B8%B5%E0%B8%8A%E0%B8%B5%E0%B8%A7%E0%B8%B4%E0%B8%95-%E0%B8%A7%E0%B8%B1%E0%B8%99%E0%B8%9E%E0%B8%A3%E0%B8%B0%E0%B8%97%E0%B8%B5%E0%B9%88-17-%E0%B8%A1%E0%B8%81%E0%B8%A3%E0%B8%B2%E0%B8%84%E0%B8%A1-2563?fbclid=IwAR1quOVlIX3GvnaG7d6RTBa6OugetaMKWtzevkBWFudXUOJyiVBS_R1eOak\"><span style=\"color: #800000;\"><span style=\"color: #ff0000;\">วันพระที่ 17 มกราคม 2563</span></span></a></strong></span></p>',\n",
              " '<p><span style=\"color: #800000;\"><strong><a href=\"/17200677/%E0%B8%82%E0%B9%89%E0%B8%AD%E0%B8%A1%E0%B8%B9%E0%B8%A5%E0%B8%AA%E0%B8%A0%E0%B8%B2%E0%B8%A7%E0%B8%B0%E0%B8%95%E0%B8%A5%E0%B8%B2%E0%B8%94%E0%B8%AA%E0%B8%B8%E0%B8%81%E0%B8%A3%E0%B8%A1%E0%B8%B5%E0%B8%8A%E0%B8%B5%E0%B8%A7%E0%B8%B4%E0%B8%95-%E0%B8%A7%E0%B8%B1%E0%B8%99%E0%B8%9E%E0%B8%A3%E0%B8%B0%E0%B8%97%E0%B8%B5%E0%B9%88-24-%E0%B8%A1%E0%B8%81%E0%B8%A3%E0%B8%B2%E0%B8%84%E0%B8%A1-2563-\"><span style=\"color: #800000;\"><span style=\"color: #ff0000;\">วันพระที่ 24 มกราคม 2563</span></span></a></strong></span></p>',\n",
              " '<p><span style=\"color: #800000;\"><strong><a href=\"/17181275/%E0%B8%82%E0%B9%89%E0%B8%AD%E0%B8%A1%E0%B8%B9%E0%B8%A5%E0%B8%AA%E0%B8%A0%E0%B8%B2%E0%B8%A7%E0%B8%B0%E0%B8%95%E0%B8%A5%E0%B8%B2%E0%B8%94%E0%B8%AA%E0%B8%B8%E0%B8%81%E0%B8%A3%E0%B8%A1%E0%B8%B5%E0%B8%8A%E0%B8%B5%E0%B8%A7%E0%B8%B4%E0%B8%95-%E0%B8%A7%E0%B8%B1%E0%B8%99%E0%B8%9E%E0%B8%A3%E0%B8%B0%E0%B8%97%E0%B8%B5%E0%B9%88-1-%E0%B8%81%E0%B8%B8%E0%B8%A1%E0%B8%A0%E0%B8%B2%E0%B8%9E%E0%B8%B1%E0%B8%99%E0%B8%98%E0%B9%8C-2563?fbclid=IwAR0NLYH57ujsjP14hSViJo4PWYOM5mpC8SwO63bGPt1i1ZfTPb7lguHBM9Q\"><span style=\"color: #800000;\">วันพระที่ 1 กุมภาพันธ์ 2563</span></a></strong></span></p>',\n",
              " '<p><span style=\"color: #800000;\"><strong><a href=\"/17183010/%E0%B8%AA%E0%B8%96%E0%B8%B2%E0%B8%99%E0%B8%81%E0%B8%B2%E0%B8%A3%E0%B8%93%E0%B9%8C%E0%B8%A3%E0%B8%B2%E0%B8%84%E0%B8%B2%E0%B8%AA%E0%B8%B8%E0%B8%81%E0%B8%A3%E0%B8%A1%E0%B8%B5%E0%B8%8A%E0%B8%B5%E0%B8%A7%E0%B8%B4%E0%B8%95%E0%B8%AB%E0%B8%99%E0%B9%89%E0%B8%B2%E0%B8%9F%E0%B8%B2%E0%B8%A3%E0%B9%8C%E0%B8%A1-%E0%B8%A7%E0%B8%B1%E0%B8%99%E0%B8%9E%E0%B8%A3%E0%B8%B0%E0%B8%97%E0%B8%B5%E0%B9%88-8-%E0%B8%81%E0%B8%B8%E0%B8%A1%E0%B8%A0%E0%B8%B2%E0%B8%9E%E0%B8%B1%E0%B8%99%E0%B8%98%E0%B9%8C-2563?fbclid=IwAR0BkgIfBMkp6YyMXnwRvR7JR4CDFxC88mtkT1aqAmIHzUcEmgWM8KVDxiE\"><span style=\"color: #800000;\">วันพระที่ 8 กุมภาพันธ์ 2563</span></a></strong></span></p>',\n",
              " '<p><span style=\"color: #800000;\"><strong><a href=\"/17185240/%E0%B8%82%E0%B9%89%E0%B8%AD%E0%B8%A1%E0%B8%B9%E0%B8%A5%E0%B8%AA%E0%B8%A0%E0%B8%B2%E0%B8%A7%E0%B8%B0%E0%B8%95%E0%B8%A5%E0%B8%B2%E0%B8%94%E0%B8%AA%E0%B8%B8%E0%B8%81%E0%B8%A3%E0%B8%A1%E0%B8%B5%E0%B8%8A%E0%B8%B5%E0%B8%A7%E0%B8%B4%E0%B8%95-%E0%B8%A7%E0%B8%B1%E0%B8%99%E0%B8%9E%E0%B8%A3%E0%B8%B0%E0%B8%97%E0%B8%B5%E0%B9%88-16-%E0%B8%81%E0%B8%B8%E0%B8%A1%E0%B8%A0%E0%B8%B2%E0%B8%9E%E0%B8%B1%E0%B8%99%E0%B8%98%E0%B9%8C-2563?fbclid=IwAR17b9aR2BonxhVZXV-u7GBL-U54y4d5h_DdHkBIGkb0vN1H-F1-H-hpEMk\"><span style=\"color: #800000;\"><span style=\"color: #ff0000;\">วันพระที่ 16 กุมภาพันธ์ 2563</span></span></a></strong></span></p>',\n",
              " '<p><span style=\"color: #800000;\"><strong><a href=\"/17187042/%E0%B8%82%E0%B9%89%E0%B8%AD%E0%B8%A1%E0%B8%B9%E0%B8%A5%E0%B8%AA%E0%B8%A0%E0%B8%B2%E0%B8%A7%E0%B8%B0%E0%B8%95%E0%B8%A5%E0%B8%B2%E0%B8%94%E0%B8%AA%E0%B8%B8%E0%B8%81%E0%B8%A3%E0%B8%A1%E0%B8%B5%E0%B8%8A%E0%B8%B5%E0%B8%A7%E0%B8%B4%E0%B8%95-%E0%B8%A7%E0%B8%B1%E0%B8%99%E0%B8%9E%E0%B8%A3%E0%B8%B0%E0%B8%97%E0%B8%B5%E0%B9%88-22-%E0%B8%81%E0%B8%B8%E0%B8%A1%E0%B8%A0%E0%B8%B2%E0%B8%9E%E0%B8%B1%E0%B8%99%E0%B8%98%E0%B9%8C-2563?fbclid=IwAR3AJfi-lQrikIK8VdKwH2P461041u3Wj1BcWlVyVXkRiCv-8bz0Oxmhg5o\"><span style=\"color: #800000;\"><span style=\"color: #ff0000;\">วันพระที่ 22 กุมภาพันธ์ 2563</span></span></a></strong></span></p>',\n",
              " '<p><span style=\"color: #800000;\">\\xa0<strong><a href=\"/17189155/%E0%B8%82%E0%B9%89%E0%B8%AD%E0%B8%A1%E0%B8%B9%E0%B8%A5%E0%B8%AA%E0%B8%A0%E0%B8%B2%E0%B8%A7%E0%B8%B0%E0%B8%95%E0%B8%A5%E0%B8%B2%E0%B8%94%E0%B8%AA%E0%B8%B8%E0%B8%81%E0%B8%A3%E0%B8%A1%E0%B8%B5%E0%B8%8A%E0%B8%B5%E0%B8%A7%E0%B8%B4%E0%B8%95-%E0%B8%A7%E0%B8%B1%E0%B8%99%E0%B8%9E%E0%B8%A3%E0%B8%B0%E0%B8%97%E0%B8%B5%E0%B9%88-1-%E0%B8%A1%E0%B8%B5%E0%B8%99%E0%B8%B2%E0%B8%84%E0%B8%A1-2563?fbclid=IwAR1uQRVlhGEmajOx2RY3rJKdsSkse-v_4HQ9x66CZICUj6JibUxjrpmrQXA\"><span style=\"color: #800000;\">วันพระที่ 1 มีนาคม 2563</span></a></strong></span></p>',\n",
              " '<p><span style=\"color: #800000;\"><strong><a href=\"/17191281/%E0%B8%82%E0%B9%89%E0%B8%AD%E0%B8%A1%E0%B8%B9%E0%B8%A5%E0%B8%AA%E0%B8%A0%E0%B8%B2%E0%B8%A7%E0%B8%B0%E0%B8%95%E0%B8%A5%E0%B8%B2%E0%B8%94%E0%B8%AA%E0%B8%B8%E0%B8%81%E0%B8%A3%E0%B8%A1%E0%B8%B5%E0%B8%8A%E0%B8%B5%E0%B8%A7%E0%B8%B4%E0%B8%95-%E0%B8%A7%E0%B8%B1%E0%B8%99%E0%B8%9E%E0%B8%A3%E0%B8%B0%E0%B8%97%E0%B8%B5%E0%B9%88-8-%E0%B8%A1%E0%B8%B5%E0%B8%99%E0%B8%B2%E0%B8%84%E0%B8%A1-2563?fbclid=IwAR2bmatxO7vTBABLlgfxkf8MmBUVN32Vx9GTLSeuFX-XGsvC4mEtMLmAJWk\"><span style=\"color: #800000;\"><span style=\"color: #ff0000;\">วันพระที่ 8 มีนาคม 2563</span></span></a></strong></span></p>',\n",
              " '<p><span style=\"color: #800000;\"><strong><a href=\"/17193750/%E0%B8%82%E0%B9%89%E0%B8%AD%E0%B8%A1%E0%B8%B9%E0%B8%A5%E0%B8%AA%E0%B8%A0%E0%B8%B2%E0%B8%A7%E0%B8%B0%E0%B8%95%E0%B8%A5%E0%B8%B2%E0%B8%94%E0%B8%AA%E0%B8%B8%E0%B8%81%E0%B8%A3%E0%B8%A1%E0%B8%B5%E0%B8%8A%E0%B8%B5%E0%B8%A7%E0%B8%B4%E0%B8%95-%E0%B8%A7%E0%B8%B1%E0%B8%99%E0%B8%9E%E0%B8%A3%E0%B8%B0%E0%B8%97%E0%B8%B5%E0%B9%88-16-%E0%B8%A1%E0%B8%B5%E0%B8%99%E0%B8%B2%E0%B8%84%E0%B8%A1-2563?fbclid=IwAR2pnTN6NlUfUnFwdPdX7u0NYgXDz54oZCO5OUyCquT1qVbjjvyd7BXBGso\"><span style=\"color: #800000;\"><span style=\"color: #ff0000;\">วันพระที่ 16 มีนาคม 2563</span></span></a></strong></span></p>',\n",
              " '<p><span style=\"color: #800000;\"><strong><a href=\"/17195599/%E0%B8%82%E0%B9%89%E0%B8%AD%E0%B8%A1%E0%B8%B9%E0%B8%A5%E0%B8%AA%E0%B8%A0%E0%B8%B2%E0%B8%A7%E0%B8%B0%E0%B8%95%E0%B8%A5%E0%B8%B2%E0%B8%94%E0%B8%AA%E0%B8%B8%E0%B8%81%E0%B8%A3%E0%B8%A1%E0%B8%B5%E0%B8%8A%E0%B8%B5%E0%B8%A7%E0%B8%B4%E0%B8%95-%E0%B8%A7%E0%B8%B1%E0%B8%99%E0%B8%9E%E0%B8%A3%E0%B8%B0%E0%B8%97%E0%B8%B5%E0%B9%88-23-%E0%B8%A1%E0%B8%B5%E0%B8%99%E0%B8%B2%E0%B8%84%E0%B8%A1-2563?fbclid=IwAR3xRBmum-8Bgip-FZOMk4flJDCKlNs9-kburI_IUsKJSUE7wk0fEeLUMPQ\"><span style=\"color: #800000;\">วันพระที่ 23 มีนาคม 2563</span></a></strong></span></p>',\n",
              " '<p><span style=\"color: #800000;\"><strong><a href=\"/17198300/%E0%B8%82%E0%B9%89%E0%B8%AD%E0%B8%A1%E0%B8%B9%E0%B8%A5%E0%B8%AA%E0%B8%A0%E0%B8%B2%E0%B8%A7%E0%B8%B0%E0%B8%95%E0%B8%A5%E0%B8%B2%E0%B8%94%E0%B8%AA%E0%B8%B8%E0%B8%81%E0%B8%A3%E0%B8%A1%E0%B8%B5%E0%B8%8A%E0%B8%B5%E0%B8%A7%E0%B8%B4%E0%B8%95-%E0%B8%A7%E0%B8%B1%E0%B8%99%E0%B8%9E%E0%B8%A3%E0%B8%B0%E0%B8%97%E0%B8%B5%E0%B9%88-31-%E0%B8%A1%E0%B8%B5%E0%B8%99%E0%B8%B2%E0%B8%84%E0%B8%A1-2563\"><span style=\"color: #800000;\">วันพระที่ 31 มีนาคม 2563</span></a></strong><br/></span></p>',\n",
              " '<p><span style=\"color: #800000;\">\\xa0<strong><a href=\"/17200618/%E0%B8%82%E0%B9%89%E0%B8%AD%E0%B8%A1%E0%B8%B9%E0%B8%A5%E0%B8%AA%E0%B8%A0%E0%B8%B2%E0%B8%A7%E0%B8%B0%E0%B8%95%E0%B8%A5%E0%B8%B2%E0%B8%94%E0%B8%AA%E0%B8%B8%E0%B8%81%E0%B8%A3%E0%B8%A1%E0%B8%B5%E0%B8%8A%E0%B8%B5%E0%B8%A7%E0%B8%B4%E0%B8%95-%E0%B8%A7%E0%B8%B1%E0%B8%99%E0%B8%9E%E0%B8%A3%E0%B8%B0%E0%B8%97%E0%B8%B5%E0%B9%88-7-%E0%B9%80%E0%B8%A1%E0%B8%A9%E0%B8%B2%E0%B8%A2%E0%B8%99-2563?fbclid=IwAR3JNmB5lApjaID_eMisk58lNpZ5SM7-EPv9DbGLNVeEFLfVqLR8sU5YglI\"><span style=\"color: #800000;\">วันพระที่ 7 เมษายน 2563</span></a></strong></span></p>',\n",
              " '<p><span style=\"color: #800000;\"><strong><a href=\"/17203675/%E0%B8%82%E0%B9%89%E0%B8%AD%E0%B8%A1%E0%B8%B9%E0%B8%A5%E0%B8%AA%E0%B8%A0%E0%B8%B2%E0%B8%A7%E0%B8%B0%E0%B8%95%E0%B8%A5%E0%B8%B2%E0%B8%94%E0%B8%AA%E0%B8%B8%E0%B8%81%E0%B8%A3%E0%B8%A1%E0%B8%B5%E0%B8%8A%E0%B8%B5%E0%B8%A7%E0%B8%B4%E0%B8%95-%E0%B8%A7%E0%B8%B1%E0%B8%99%E0%B8%9E%E0%B8%A3%E0%B8%B0%E0%B8%97%E0%B8%B5%E0%B9%88-15-%E0%B9%80%E0%B8%A1%E0%B8%A9%E0%B8%B2%E0%B8%A2%E0%B8%99-2563?fbclid=IwAR0RkVDDhySeGtGUmbXyEBxaduSNSShzjU9jl-8RQ1Qv7plr-Ccmu1zahn8\"><span style=\"color: #800000;\"><span style=\"color: #ff0000;\">วันพระที่ 15 เมษายน 2563</span></span></a></strong></span></p>',\n",
              " '<p><span style=\"color: #800000;\"><strong><a href=\"/17205488/%E0%B8%82%E0%B9%89%E0%B8%AD%E0%B8%A1%E0%B8%B9%E0%B8%A5%E0%B8%AA%E0%B8%A0%E0%B8%B2%E0%B8%A7%E0%B8%B0%E0%B8%95%E0%B8%A5%E0%B8%B2%E0%B8%94%E0%B8%AA%E0%B8%B8%E0%B8%81%E0%B8%A3%E0%B8%A1%E0%B8%B5%E0%B8%8A%E0%B8%B5%E0%B8%A7%E0%B8%B4%E0%B8%95-%E0%B8%A7%E0%B8%B1%E0%B8%99%E0%B8%9E%E0%B8%A3%E0%B8%B0%E0%B8%97%E0%B8%B5%E0%B9%88-21-%E0%B9%80%E0%B8%A1%E0%B8%A9%E0%B8%B2%E0%B8%A2%E0%B8%99-2563?fbclid=IwAR151woNRoGF2MfXCTDelqOzFQxu1PAYbDgEqQn0wfO-VccfDeuRtHsXXLc\"><span style=\"color: #800000;\"><span style=\"color: #ff0000;\">วันพระที่ 21 เมษายน 2563</span></span></a></strong></span></p>',\n",
              " '<p><span style=\"color: #800000;\"><strong><a href=\"/17208034/%E0%B8%82%E0%B9%89%E0%B8%AD%E0%B8%A1%E0%B8%B9%E0%B8%A5%E0%B8%AA%E0%B8%A0%E0%B8%B2%E0%B8%A7%E0%B8%B0%E0%B8%95%E0%B8%A5%E0%B8%B2%E0%B8%94%E0%B8%AA%E0%B8%B8%E0%B8%81%E0%B8%A3%E0%B8%A1%E0%B8%B5%E0%B8%8A%E0%B8%B5%E0%B8%A7%E0%B8%B4%E0%B8%95-%E0%B8%A7%E0%B8%B1%E0%B8%99%E0%B8%9E%E0%B8%A3%E0%B8%B0%E0%B8%97%E0%B8%B5%E0%B9%88-29-%E0%B9%80%E0%B8%A1%E0%B8%A9%E0%B8%B2%E0%B8%A2%E0%B8%99-2563?fbclid=IwAR13T3JqzaIqk_g7sHwlpc4c2La6L3APMSy_zauXp8CEyyu_M1JZgPb0hX0\"><span style=\"color: #800000;\"><span style=\"color: #ff0000;\">วันพระที่ 29 เมษายน 2563</span></span></a></strong></span></p>',\n",
              " '<p><span style=\"color: #800000;\"><a href=\"/17209943/%E0%B8%82%E0%B9%89%E0%B8%AD%E0%B8%A1%E0%B8%B9%E0%B8%A5%E0%B8%AA%E0%B8%A0%E0%B8%B2%E0%B8%A7%E0%B8%B0%E0%B8%95%E0%B8%A5%E0%B8%B2%E0%B8%94%E0%B8%AA%E0%B8%B8%E0%B8%81%E0%B8%A3%E0%B8%A1%E0%B8%B5%E0%B8%8A%E0%B8%B5%E0%B8%A7%E0%B8%B4%E0%B8%95%E0%B8%AB%E0%B8%99%E0%B9%89%E0%B8%B2%E0%B8%9F%E0%B8%B2%E0%B8%A3%E0%B9%8C%E0%B8%A1-%E0%B8%A7%E0%B8%B1%E0%B8%99%E0%B8%9E%E0%B8%A3%E0%B8%B0%E0%B8%97%E0%B8%B5%E0%B9%88-6-%E0%B8%9E%E0%B8%A4%E0%B8%A9%E0%B8%A0%E0%B8%B2%E0%B8%84%E0%B8%A1-2563\"><span style=\"color: #800000;\"><span style=\"color: #ff0000;\">\\xa0<strong>วันพระที่ 6 พฤษภาคม 2563</strong></span></span></a></span></p>',\n",
              " '<p><span style=\"color: #800000;\"><strong><a href=\"/17212418/%E0%B8%82%E0%B9%89%E0%B8%AD%E0%B8%A1%E0%B8%B9%E0%B8%A5%E0%B8%AA%E0%B8%A0%E0%B8%B2%E0%B8%A7%E0%B8%B0%E0%B8%95%E0%B8%A5%E0%B8%B2%E0%B8%94%E0%B8%AA%E0%B8%B8%E0%B8%81%E0%B8%A3%E0%B8%A1%E0%B8%B5%E0%B8%8A%E0%B8%B5%E0%B8%A7%E0%B8%B4%E0%B8%95%E0%B8%AB%E0%B8%99%E0%B9%89%E0%B8%B2%E0%B8%9F%E0%B8%B2%E0%B8%A3%E0%B9%8C%E0%B8%A1-%E0%B8%A7%E0%B8%B1%E0%B8%99%E0%B8%9E%E0%B8%A3%E0%B8%B0%E0%B8%97%E0%B8%B5%E0%B9%88-14-%E0%B8%9E%E0%B8%A4%E0%B8%A9%E0%B8%A0%E0%B8%B2%E0%B8%84%E0%B8%A1-2563?fbclid=IwAR3lagWcqgQZYajATdXhkhvERrQdEpOOzi-McTgqkxAH0iVLx0khii3V4jg\"><span style=\"color: #800000;\"><span style=\"color: #ff0000;\">วันพระที่ 14 พฤษภาคม 2563</span></span></a></strong></span></p>',\n",
              " '<p><span style=\"color: #800000;\"><strong><a href=\"/17214777/%E0%B8%82%E0%B9%89%E0%B8%AD%E0%B8%A1%E0%B8%B9%E0%B8%A5%E0%B8%AA%E0%B8%A0%E0%B8%B2%E0%B8%A7%E0%B8%B0%E0%B8%95%E0%B8%A5%E0%B8%B2%E0%B8%94%E0%B8%AA%E0%B8%B8%E0%B8%81%E0%B8%A3%E0%B8%A1%E0%B8%B5%E0%B8%8A%E0%B8%B5%E0%B8%A7%E0%B8%B4%E0%B8%95%E0%B8%AB%E0%B8%99%E0%B9%89%E0%B8%B2%E0%B8%9F%E0%B8%B2%E0%B8%A3%E0%B9%8C%E0%B8%A1-%E0%B8%A7%E0%B8%B1%E0%B8%99%E0%B8%9E%E0%B8%A3%E0%B8%B0%E0%B8%97%E0%B8%B5%E0%B9%88-21-%E0%B8%9E%E0%B8%A4%E0%B8%A9%E0%B8%A0%E0%B8%B2%E0%B8%84%E0%B8%A1-2563\"><span style=\"color: #800000;\"><span style=\"color: #ff0000;\">วันพระที่ 21 พฤษภาคม 2563</span></span></a></strong></span></p>',\n",
              " '<p><span style=\"color: #800000;\"><strong><a href=\"/17216841/%E0%B8%AA%E0%B8%96%E0%B8%B2%E0%B8%99%E0%B8%81%E0%B8%B2%E0%B8%A3%E0%B8%93%E0%B9%8C%E0%B8%A3%E0%B8%B2%E0%B8%84%E0%B8%B2%E0%B8%AA%E0%B8%B8%E0%B8%81%E0%B8%A3%E0%B8%A1%E0%B8%B5%E0%B8%8A%E0%B8%B5%E0%B8%A7%E0%B8%B4%E0%B8%95%E0%B8%AB%E0%B8%99%E0%B9%89%E0%B8%B2%E0%B8%9F%E0%B8%B2%E0%B8%A3%E0%B9%8C%E0%B8%A1-%E0%B8%A7%E0%B8%B1%E0%B8%99%E0%B8%9E%E0%B8%A3%E0%B8%B0%E0%B8%97%E0%B8%B5%E0%B9%88-29-%E0%B8%9E%E0%B8%A4%E0%B8%A9%E0%B8%A0%E0%B8%B2%E0%B8%84%E0%B8%A1-2563?fbclid=IwAR1zzPtTOVDycb1_Ug9hSEcbV-ESp8n4uXhiLdPU8FAQODUqfUP5NFf3d2k\"><span style=\"color: #800000;\"><span style=\"color: #ff0000;\">วันพระที่ 29 พฤษภาคม 2563</span></span></a></strong></span></p>',\n",
              " '<p><span style=\"color: #800000;\"><strong><a href=\"/17109157/%E0%B8%AA%E0%B8%96%E0%B8%B2%E0%B8%99%E0%B8%81%E0%B8%B2%E0%B8%A3%E0%B8%93%E0%B9%8C%E0%B8%A3%E0%B8%B2%E0%B8%84%E0%B8%B2%E0%B8%AA%E0%B8%B8%E0%B8%81%E0%B8%A3%E0%B8%A1%E0%B8%B5%E0%B8%8A%E0%B8%B5%E0%B8%A7%E0%B8%B4%E0%B8%95%E0%B8%AB%E0%B8%99%E0%B9%89%E0%B8%B2%E0%B8%9F%E0%B8%B2%E0%B8%A3%E0%B9%8C%E0%B8%A1-%E0%B8%A7%E0%B8%B1%E0%B8%99%E0%B8%9E%E0%B8%A3%E0%B8%B0%E0%B8%97%E0%B8%B5%E0%B9%88-17-%E0%B8%A1%E0%B8%B4%E0%B8%96%E0%B8%B8%E0%B8%99%E0%B8%B2%E0%B8%A2%E0%B8%99-2562?fbclid=IwAR36KQ3cHOSxTeDA139QFDbRUJwGt7OVioTB0kuwgpctpYFalN0iEz_KpUM\"><span style=\"color: #800000;\"><span style=\"color: #ff0000;\">วันพระที่ 5 มิถุนายน 2563</span></span></a></strong></span></p>',\n",
              " '<p><span style=\"color: #800000;\"><strong><a href=\"/17220444/%E0%B8%AA%E0%B8%96%E0%B8%B2%E0%B8%99%E0%B8%81%E0%B8%B2%E0%B8%A3%E0%B8%93%E0%B9%8C%E0%B8%A3%E0%B8%B2%E0%B8%84%E0%B8%B2%E0%B8%AA%E0%B8%B8%E0%B8%81%E0%B8%A3%E0%B8%A1%E0%B8%B5%E0%B8%8A%E0%B8%B5%E0%B8%A7%E0%B8%B4%E0%B8%95%E0%B8%AB%E0%B8%99%E0%B9%89%E0%B8%B2%E0%B8%9F%E0%B8%B2%E0%B8%A3%E0%B9%8C%E0%B8%A1-%E0%B8%A7%E0%B8%B1%E0%B8%99%E0%B8%9E%E0%B8%A3%E0%B8%B0%E0%B8%97%E0%B8%B5%E0%B9%88-13-%E0%B8%A1%E0%B8%B4%E0%B8%96%E0%B8%B8%E0%B8%99%E0%B8%B2%E0%B8%A2%E0%B8%99-2563?fbclid=IwAR2mffjJFHaMBSaZPu1EfXAAn3kuIZC88z45eBEjWu4aPMCd69USAqoRSUI\"><span style=\"color: #800000;\"><span style=\"color: #ff0000;\">วันพระที่ 13 มิถุนายน 2563</span></span></a></strong></span></p>',\n",
              " '<p><span style=\"color: #800000;\"><strong><a href=\"/17221830/%E0%B8%82%E0%B9%89%E0%B8%AD%E0%B8%A1%E0%B8%B9%E0%B8%A5%E0%B8%AA%E0%B8%A0%E0%B8%B2%E0%B8%A7%E0%B8%B0%E0%B8%95%E0%B8%A5%E0%B8%B2%E0%B8%94%E0%B8%AA%E0%B8%B8%E0%B8%81%E0%B8%A3%E0%B8%A1%E0%B8%B5%E0%B8%8A%E0%B8%B5%E0%B8%A7%E0%B8%B4%E0%B8%95%E0%B8%AB%E0%B8%99%E0%B9%89%E0%B8%B2%E0%B8%9F%E0%B8%B2%E0%B8%A3%E0%B9%8C%E0%B8%A1-%E0%B8%A7%E0%B8%B1%E0%B8%99%E0%B8%9E%E0%B8%A3%E0%B8%B0%E0%B8%97%E0%B8%B5%E0%B9%88-20-%E0%B8%A1%E0%B8%B4%E0%B8%96%E0%B8%B8%E0%B8%99%E0%B8%B2%E0%B8%A2%E0%B8%99-2563?fbclid=IwAR2jTA65CiJR2FLZy8X1ivtC_fVY7QrOp6MXZkheplVzGVXlu57xsSR4xuM\"><span style=\"color: #800000;\"><span style=\"color: #ff0000;\">วันพระที่ 20 มิถุนายน 2563</span></span></a></strong></span></p>',\n",
              " '<p><span style=\"color: #800000;\"><strong><a href=\"/17223696/%E0%B8%82%E0%B9%89%E0%B8%AD%E0%B8%A1%E0%B8%B9%E0%B8%A5%E0%B8%AA%E0%B8%A0%E0%B8%B2%E0%B8%A7%E0%B8%B0%E0%B8%95%E0%B8%A5%E0%B8%B2%E0%B8%94%E0%B8%AA%E0%B8%B8%E0%B8%81%E0%B8%A3%E0%B8%A1%E0%B8%B5%E0%B8%8A%E0%B8%B5%E0%B8%A7%E0%B8%B4%E0%B8%95-%E0%B8%A7%E0%B8%B1%E0%B8%99%E0%B8%9E%E0%B8%A3%E0%B8%B0%E0%B8%97%E0%B8%B5%E0%B9%88-28-%E0%B8%A1%E0%B8%B4%E0%B8%96%E0%B8%B8%E0%B8%99%E0%B8%B2%E0%B8%A2%E0%B8%99-2563?fbclid=IwAR2Mv1IquIM9tmCw4fC75I2-OIbVeO-lfvfUVQGy1yQOq3I1Lg2__6m_2tM\"><span style=\"color: #800000;\"><span style=\"color: #ff0000;\">วันพระที่ 28 มิถุนายน 2563</span></span></a></strong></span></p>',\n",
              " '<p><span style=\"color: #800000;\">\\xa0<br/><strong><a href=\"/17225259/%E0%B8%82%E0%B9%89%E0%B8%AD%E0%B8%A1%E0%B8%B9%E0%B8%A5%E0%B8%AA%E0%B8%A0%E0%B8%B2%E0%B8%A7%E0%B8%B0%E0%B8%95%E0%B8%A5%E0%B8%B2%E0%B8%94%E0%B8%AA%E0%B8%B8%E0%B8%81%E0%B8%A3%E0%B8%A1%E0%B8%B5%E0%B8%8A%E0%B8%B5%E0%B8%A7%E0%B8%B4%E0%B8%95%E0%B8%AB%E0%B8%99%E0%B9%89%E0%B8%B2%E0%B8%9F%E0%B8%B2%E0%B8%A3%E0%B9%8C%E0%B8%A1-%E0%B8%AA%E0%B8%B1%E0%B8%9B%E0%B8%94%E0%B8%B2%E0%B8%AB%E0%B9%8C%E0%B8%97%E0%B8%B5%E0%B9%88-2863-%E0%B8%A7%E0%B8%B1%E0%B8%99%E0%B8%9E%E0%B8%A3%E0%B8%B0%E0%B8%97%E0%B8%B5%E0%B9%88-5-%E0%B8%81%E0%B8%A3%E0%B8%81%E0%B8%8E%E0%B8%B2%E0%B8%84%E0%B8%A1-2563?fbclid=IwAR373-cP4B42jiERjMtR3nkfWtA4MTNgM0jRi-gK6JdtCsXNeWg72tgoG3Y\"><span style=\"color: #800000;\">วันพระที่ 5 กรกฎาคม 2563</span></a></strong></span></p>',\n",
              " '<p><span style=\"color: #800000;\"><strong><a href=\"/17226558/%E0%B8%82%E0%B9%89%E0%B8%AD%E0%B8%A1%E0%B8%B9%E0%B8%A5%E0%B8%AA%E0%B8%A0%E0%B8%B2%E0%B8%A7%E0%B8%B0%E0%B8%95%E0%B8%A5%E0%B8%B2%E0%B8%94%E0%B8%AA%E0%B8%B8%E0%B8%81%E0%B8%A3%E0%B8%A1%E0%B8%B5%E0%B8%8A%E0%B8%B5%E0%B8%A7%E0%B8%B4%E0%B8%95%E0%B8%AB%E0%B8%99%E0%B9%89%E0%B8%B2%E0%B8%9F%E0%B8%B2%E0%B8%A3%E0%B9%8C%E0%B8%A1-%E0%B8%AA%E0%B8%B1%E0%B8%9B%E0%B8%94%E0%B8%B2%E0%B8%AB%E0%B9%8C%E0%B8%97%E0%B8%B5%E0%B9%88-2963-%E0%B8%A7%E0%B8%B1%E0%B8%99%E0%B8%9E%E0%B8%A3%E0%B8%B0%E0%B8%97%E0%B8%B5%E0%B9%88-13-%E0%B8%81%E0%B8%A3%E0%B8%81%E0%B8%8E%E0%B8%B2%E0%B8%84%E0%B8%A1-2563?fbclid=IwAR1tSx_HAbypEqjl6GkIqvdDK2zIIkodsi-8IlFG1WPTF6Ap4XsHFlbeK-k\"><span style=\"color: #800000;\"><span style=\"color: #ff0000;\">วันพระที่ 13 กรกฎาคม 2563</span></span></a></strong></span></p>',\n",
              " '<p><span style=\"color: #800000;\"><strong><a href=\"/17227590/%E0%B8%82%E0%B9%89%E0%B8%AD%E0%B8%A1%E0%B8%B9%E0%B8%A5%E0%B8%AA%E0%B8%A0%E0%B8%B2%E0%B8%A7%E0%B8%B0%E0%B8%95%E0%B8%A5%E0%B8%B2%E0%B8%94%E0%B8%AA%E0%B8%B8%E0%B8%81%E0%B8%A3%E0%B8%A1%E0%B8%B5%E0%B8%8A%E0%B8%B5%E0%B8%A7%E0%B8%B4%E0%B8%95%E0%B8%AB%E0%B8%99%E0%B9%89%E0%B8%B2%E0%B8%9F%E0%B8%B2%E0%B8%A3%E0%B9%8C%E0%B8%A1-%E0%B8%AA%E0%B8%B1%E0%B8%9B%E0%B8%94%E0%B8%B2%E0%B8%AB%E0%B9%8C%E0%B8%97%E0%B8%B5%E0%B9%88-3063-%E0%B8%A7%E0%B8%B1%E0%B8%99%E0%B8%9E%E0%B8%A3%E0%B8%B0%E0%B8%97%E0%B8%B5%E0%B9%88-20-%E0%B8%81%E0%B8%A3%E0%B8%81%E0%B8%8E%E0%B8%B2%E0%B8%84%E0%B8%A1-2563?fbclid=IwAR2xP0gYubxGM1rX2oWKE-3X3Y0Fwd3HXJs3IfGRjuQ5ln7aOwlFYetSEgA\"><span style=\"color: #800000;\"><span style=\"color: #ff0000;\">วันพระที่ 20 กรกฎาคม 2563</span></span></a></strong></span></p>',\n",
              " '<p><span style=\"color: #800000;\"><strong><a href=\"/17228614/%E0%B8%82%E0%B9%89%E0%B8%AD%E0%B8%A1%E0%B8%B9%E0%B8%A5%E0%B8%AA%E0%B8%A0%E0%B8%B2%E0%B8%A7%E0%B8%B0%E0%B8%95%E0%B8%A5%E0%B8%B2%E0%B8%94%E0%B8%AA%E0%B8%B8%E0%B8%81%E0%B8%A3%E0%B8%A1%E0%B8%B5%E0%B8%8A%E0%B8%B5%E0%B8%A7%E0%B8%B4%E0%B8%95%E0%B8%AB%E0%B8%99%E0%B9%89%E0%B8%B2%E0%B8%9F%E0%B8%B2%E0%B8%A3%E0%B9%8C%E0%B8%A1-%E0%B8%AA%E0%B8%B1%E0%B8%9B%E0%B8%94%E0%B8%B2%E0%B8%AB%E0%B9%8C%E0%B8%97%E0%B8%B5%E0%B9%88-3163-%E0%B8%A7%E0%B8%B1%E0%B8%99%E0%B8%9E%E0%B8%A3%E0%B8%B0%E0%B8%97%E0%B8%B5%E0%B9%88-20-%E0%B8%81%E0%B8%A3%E0%B8%81%E0%B8%8E%E0%B8%B2%E0%B8%84%E0%B8%A1-2563?fbclid=IwAR0Dy2r3tzoSKgdWRSmVUdfnaL6s0ldiYvKGN5DNMO2w4L6p2G98ffcDE30\"><span style=\"color: #800000;\"><span style=\"color: #ff0000;\">วันพระที่ 28 กรกฎาคม 2563</span></span></a></strong></span></p>',\n",
              " '<p><span style=\"color: #800000;\"><strong><a href=\"/17125175/%E0%B8%82%E0%B9%89%E0%B8%AD%E0%B8%A1%E0%B8%B9%E0%B8%A5%E0%B8%81%E0%B8%B2%E0%B8%A3%E0%B8%A7%E0%B8%B4%E0%B9%80%E0%B8%84%E0%B8%A3%E0%B8%B2%E0%B8%B0%E0%B8%AB%E0%B9%8C%E0%B8%81%E0%B8%B2%E0%B8%A3%E0%B8%95%E0%B8%A5%E0%B8%B2%E0%B8%94%E0%B8%AA%E0%B8%B8%E0%B8%81%E0%B8%A3%E0%B8%A1%E0%B8%B5%E0%B8%8A%E0%B8%B5%E0%B8%A7%E0%B8%B4%E0%B8%95-%E0%B8%A7%E0%B8%B1%E0%B8%99%E0%B8%9E%E0%B8%A3%E0%B8%B0%E0%B8%97%E0%B8%B5%E0%B9%88-31-%E0%B8%81%E0%B8%A3%E0%B8%81%E0%B8%8E%E0%B8%B2%E0%B8%84%E0%B8%A1-2562?fbclid=IwAR1WZJSTy8sRUxEUZwQ9tZQRsBLNiS-vvt7tuzfj_k6A9XAqecVHtGbRxPw\"><span style=\"color: #800000;\">\\xa0</span></a></strong></span></p>',\n",
              " '<p><span style=\"color: #800000;\">\\xa0<strong><a href=\"/17229912/%E0%B8%82%E0%B9%89%E0%B8%AD%E0%B8%A1%E0%B8%B9%E0%B8%A5%E0%B8%AA%E0%B8%A0%E0%B8%B2%E0%B8%A7%E0%B8%B0%E0%B8%95%E0%B8%A5%E0%B8%B2%E0%B8%94%E0%B8%AA%E0%B8%B8%E0%B8%81%E0%B8%A3%E0%B8%A1%E0%B8%B5%E0%B8%8A%E0%B8%B5%E0%B8%A7%E0%B8%B4%E0%B8%95%E0%B8%AB%E0%B8%99%E0%B9%89%E0%B8%B2%E0%B8%9F%E0%B8%B2%E0%B8%A3%E0%B9%8C%E0%B8%A1-%E0%B8%AA%E0%B8%B1%E0%B8%9B%E0%B8%94%E0%B8%B2%E0%B8%AB%E0%B9%8C%E0%B8%97%E0%B8%B5%E0%B9%88-3263-%E0%B8%A7%E0%B8%B1%E0%B8%99%E0%B8%9E%E0%B8%A3%E0%B8%B0%E0%B8%97%E0%B8%B5%E0%B9%88-4-%E0%B8%AA%E0%B8%B4%E0%B8%87%E0%B8%AB%E0%B8%B2%E0%B8%84%E0%B8%A1-2563?fbclid=IwAR0SwcKiL8U_bFWvZQpnX3xA0PkJAHwLbnNw3jvYL0wwcfHHfMM_1F2iE2E\"><span style=\"color: #800000;\">วันพระที่ 4 สิงหาคม 2563</span></a></strong></span></p>',\n",
              " '<p><span style=\"color: #800000;\"><strong><a href=\"/17231433/%E0%B8%82%E0%B9%89%E0%B8%AD%E0%B8%A1%E0%B8%B9%E0%B8%A5%E0%B8%AA%E0%B8%A0%E0%B8%B2%E0%B8%A7%E0%B8%B0%E0%B8%95%E0%B8%A5%E0%B8%B2%E0%B8%94%E0%B8%AA%E0%B8%B8%E0%B8%81%E0%B8%A3%E0%B8%A1%E0%B8%B5%E0%B8%8A%E0%B8%B5%E0%B8%A7%E0%B8%B4%E0%B8%95%E0%B8%AB%E0%B8%99%E0%B9%89%E0%B8%B2%E0%B8%9F%E0%B8%B2%E0%B8%A3%E0%B9%8C%E0%B8%A1-%E0%B8%AA%E0%B8%B1%E0%B8%9B%E0%B8%94%E0%B8%B2%E0%B8%AB%E0%B9%8C%E0%B8%97%E0%B8%B5%E0%B9%88-3363-%E0%B8%A7%E0%B8%B1%E0%B8%99%E0%B8%9E%E0%B8%A3%E0%B8%B0%E0%B8%97%E0%B8%B5%E0%B9%88-12-%E0%B8%AA%E0%B8%B4%E0%B8%87%E0%B8%AB%E0%B8%B2%E0%B8%84%E0%B8%A1-2563?fbclid=IwAR3UJfjGKOyW66dFNzL7LBIgWixmJ8dZEd823k4tgjnrtO8mWxL37ic0c64\"><span style=\"color: #800000;\"><span style=\"color: #ff0000;\">วันพระที่ 12 สิงหาคม 2563</span></span></a></strong></span></p>',\n",
              " '<p><span style=\"color: #800000;\"><strong><a href=\"/17232528/%E0%B8%82%E0%B9%89%E0%B8%AD%E0%B8%A1%E0%B8%B9%E0%B8%A5%E0%B8%AA%E0%B8%A0%E0%B8%B2%E0%B8%A7%E0%B8%B0%E0%B8%95%E0%B8%A5%E0%B8%B2%E0%B8%94%E0%B8%AA%E0%B8%B8%E0%B8%81%E0%B8%A3%E0%B8%A1%E0%B8%B5%E0%B8%8A%E0%B8%B5%E0%B8%A7%E0%B8%B4%E0%B8%95%E0%B8%AB%E0%B8%99%E0%B9%89%E0%B8%B2%E0%B8%9F%E0%B8%B2%E0%B8%A3%E0%B9%8C%E0%B8%A1-%E0%B8%AA%E0%B8%B1%E0%B8%9B%E0%B8%94%E0%B8%B2%E0%B8%AB%E0%B9%8C%E0%B8%97%E0%B8%B5%E0%B9%88-3463-%E0%B8%A7%E0%B8%B1%E0%B8%99%E0%B8%9E%E0%B8%A3%E0%B8%B0%E0%B8%97%E0%B8%B5%E0%B9%88-18-%E0%B8%AA%E0%B8%B4%E0%B8%87%E0%B8%AB%E0%B8%B2%E0%B8%84%E0%B8%A1-2563\"><span style=\"color: #800000;\"><span style=\"color: #ff0000;\">วันพระที่ 18 สิงหาคม 2563</span></span></a></strong></span></p>',\n",
              " '<p><span style=\"color: #800000;\"><strong><a href=\"/17234411/%E0%B8%82%E0%B9%89%E0%B8%AD%E0%B8%A1%E0%B8%B9%E0%B8%A5%E0%B8%AA%E0%B8%A0%E0%B8%B2%E0%B8%A7%E0%B8%B0%E0%B8%95%E0%B8%A5%E0%B8%B2%E0%B8%94%E0%B8%AA%E0%B8%B8%E0%B8%81%E0%B8%A3%E0%B8%A1%E0%B8%B5%E0%B8%8A%E0%B8%B5%E0%B8%A7%E0%B8%B4%E0%B8%95%E0%B8%AB%E0%B8%99%E0%B9%89%E0%B8%B2%E0%B8%9F%E0%B8%B2%E0%B8%A3%E0%B9%8C%E0%B8%A1-%E0%B8%AA%E0%B8%B1%E0%B8%9B%E0%B8%94%E0%B8%B2%E0%B8%AB%E0%B9%8C%E0%B8%97%E0%B8%B5%E0%B9%88-3563-%E0%B8%A7%E0%B8%B1%E0%B8%99%E0%B8%9E%E0%B8%A3%E0%B8%B0%E0%B8%97%E0%B8%B5%E0%B9%88-26-%E0%B8%AA%E0%B8%B4%E0%B8%87%E0%B8%AB%E0%B8%B2%E0%B8%84%E0%B8%A1-2563\"><span style=\"color: #800000;\"><span style=\"color: #ff0000;\">วันพระที่ 26 สิงหาคม 2563</span></span></a></strong></span></p>',\n",
              " '<p><span style=\"color: #800000;\"><strong><a href=\"/17236093/%E0%B8%82%E0%B9%89%E0%B8%AD%E0%B8%A1%E0%B8%B9%E0%B8%A5%E0%B8%AA%E0%B8%A0%E0%B8%B2%E0%B8%A7%E0%B8%B0%E0%B8%95%E0%B8%A5%E0%B8%B2%E0%B8%94%E0%B8%AA%E0%B8%B8%E0%B8%81%E0%B8%A3%E0%B8%A1%E0%B8%B5%E0%B8%8A%E0%B8%B5%E0%B8%A7%E0%B8%B4%E0%B8%95%E0%B8%AB%E0%B8%99%E0%B9%89%E0%B8%B2%E0%B8%9F%E0%B8%B2%E0%B8%A3%E0%B9%8C%E0%B8%A1-%E0%B8%AA%E0%B8%B1%E0%B8%9B%E0%B8%94%E0%B8%B2%E0%B8%AB%E0%B9%8C%E0%B8%97%E0%B8%B5%E0%B9%88-3663-%E0%B8%A7%E0%B8%B1%E0%B8%99%E0%B8%9E%E0%B8%A3%E0%B8%B0%E0%B8%97%E0%B8%B5%E0%B9%88-2-%E0%B8%81%E0%B8%B1%E0%B8%99%E0%B8%A2%E0%B8%B2%E0%B8%A2%E0%B8%99-2563?fbclid=IwAR1qXR7uOr3tJ8ylPFTQJ8VQP4bESTDxGHGec3OeZzEBx8Uz0UewWZHBgR0\"><span style=\"color: #800000;\"><span style=\"color: #ff0000;\">วันพระที่ 2 กันยายน 2563</span></span></a></strong></span></p>',\n",
              " '<p><span style=\"color: #800000;\"><strong><a href=\"/17237424/%E0%B8%82%E0%B9%89%E0%B8%AD%E0%B8%A1%E0%B8%B9%E0%B8%A5%E0%B8%AA%E0%B8%A0%E0%B8%B2%E0%B8%A7%E0%B8%B0%E0%B8%95%E0%B8%A5%E0%B8%B2%E0%B8%94%E0%B8%AA%E0%B8%B8%E0%B8%81%E0%B8%A3%E0%B8%A1%E0%B8%B5%E0%B8%8A%E0%B8%B5%E0%B8%A7%E0%B8%B4%E0%B8%95%E0%B8%AB%E0%B8%99%E0%B9%89%E0%B8%B2%E0%B8%9F%E0%B8%B2%E0%B8%A3%E0%B9%8C%E0%B8%A1-%E0%B8%AA%E0%B8%B1%E0%B8%9B%E0%B8%94%E0%B8%B2%E0%B8%AB%E0%B9%8C%E0%B8%97%E0%B8%B5%E0%B9%88-3763-%E0%B8%A7%E0%B8%B1%E0%B8%99%E0%B8%9E%E0%B8%A3%E0%B8%B0%E0%B8%97%E0%B8%B5%E0%B9%88-10-%E0%B8%81%E0%B8%B1%E0%B8%99%E0%B8%A2%E0%B8%B2%E0%B8%A2%E0%B8%99-2563?fbclid=IwAR2v3R8wFTY0szdyTxYuFhpQXIRJuLJ26N8D5UHPvv7rxDffpEnfTIHD4Cg\"><span style=\"color: #800000;\"><span style=\"color: #ff0000;\">วันพระที่ 10 กันยายน 2563</span></span></a></strong></span></p>',\n",
              " '<p><span style=\"color: #800000;\"><strong><a href=\"/17238693/%E0%B8%82%E0%B9%89%E0%B8%AD%E0%B8%A1%E0%B8%B9%E0%B8%A5%E0%B8%AA%E0%B8%A0%E0%B8%B2%E0%B8%A7%E0%B8%B0%E0%B8%95%E0%B8%A5%E0%B8%B2%E0%B8%94%E0%B8%AA%E0%B8%B8%E0%B8%81%E0%B8%A3%E0%B8%A1%E0%B8%B5%E0%B8%8A%E0%B8%B5%E0%B8%A7%E0%B8%B4%E0%B8%95%E0%B8%AB%E0%B8%99%E0%B9%89%E0%B8%B2%E0%B8%9F%E0%B8%B2%E0%B8%A3%E0%B9%8C%E0%B8%A1-%E0%B8%AA%E0%B8%B1%E0%B8%9B%E0%B8%94%E0%B8%B2%E0%B8%AB%E0%B9%8C%E0%B8%97%E0%B8%B5%E0%B9%88-3863-%E0%B8%A7%E0%B8%B1%E0%B8%99%E0%B8%9E%E0%B8%A3%E0%B8%B0%E0%B8%97%E0%B8%B5%E0%B9%88-17-%E0%B8%81%E0%B8%B1%E0%B8%99%E0%B8%A2%E0%B8%B2%E0%B8%A2%E0%B8%99-2563?fbclid=IwAR29BYptjpswOV5qR9mH7d7QDiQIl1SDlXwQOVf-tDIO2igmlaVWEhkLd7w\"><span style=\"color: #800000;\"><span style=\"color: #ff0000;\">วันพระที่ 17 กันยายน 2563</span></span></a></strong></span></p>',\n",
              " '<p><span style=\"color: #800000;\"><strong><a href=\"/17240272/%E0%B8%82%E0%B9%89%E0%B8%AD%E0%B8%A1%E0%B8%B9%E0%B8%A5%E0%B8%AA%E0%B8%A0%E0%B8%B2%E0%B8%A7%E0%B8%B0%E0%B8%95%E0%B8%A5%E0%B8%B2%E0%B8%94%E0%B8%AA%E0%B8%B8%E0%B8%81%E0%B8%A3%E0%B8%A1%E0%B8%B5%E0%B8%8A%E0%B8%B5%E0%B8%A7%E0%B8%B4%E0%B8%95%E0%B8%AB%E0%B8%99%E0%B9%89%E0%B8%B2%E0%B8%9F%E0%B8%B2%E0%B8%A3%E0%B9%8C%E0%B8%A1-%E0%B8%AA%E0%B8%B1%E0%B8%9B%E0%B8%94%E0%B8%B2%E0%B8%AB%E0%B9%8C%E0%B8%97%E0%B8%B5%E0%B9%88-3963-%E0%B8%A7%E0%B8%B1%E0%B8%99%E0%B8%9E%E0%B8%A3%E0%B8%B0%E0%B8%97%E0%B8%B5%E0%B9%88-25-%E0%B8%81%E0%B8%B1%E0%B8%99%E0%B8%A2%E0%B8%B2%E0%B8%A2%E0%B8%99-2563\"><span style=\"color: #800000;\"><span style=\"color: #ff0000;\">วันพระที่ 25 กันยายน 2563</span></span></a></strong></span></p>',\n",
              " '<p><span style=\"color: #800000;\"><strong><a href=\"/17242178/%E0%B8%82%E0%B9%89%E0%B8%AD%E0%B8%A1%E0%B8%B9%E0%B8%A5%E0%B8%AA%E0%B8%A0%E0%B8%B2%E0%B8%A7%E0%B8%B0%E0%B8%95%E0%B8%A5%E0%B8%B2%E0%B8%94%E0%B8%AA%E0%B8%B8%E0%B8%81%E0%B8%A3%E0%B8%A1%E0%B8%B5%E0%B8%8A%E0%B8%B5%E0%B8%A7%E0%B8%B4%E0%B8%95%E0%B8%AB%E0%B8%99%E0%B9%89%E0%B8%B2%E0%B8%9F%E0%B8%B2%E0%B8%A3%E0%B9%8C%E0%B8%A1-%E0%B8%AA%E0%B8%B1%E0%B8%9B%E0%B8%94%E0%B8%B2%E0%B8%AB%E0%B9%8C%E0%B8%97%E0%B8%B5%E0%B9%88-4063-%E0%B8%A7%E0%B8%B1%E0%B8%99%E0%B8%9E%E0%B8%A3%E0%B8%B0%E0%B8%97%E0%B8%B5%E0%B9%88-2-%E0%B8%95%E0%B8%B8%E0%B8%A5%E0%B8%B2%E0%B8%84%E0%B8%A1-2563?fbclid=IwAR3vPYEHptbmQuzOlHsuGTnIVdrsVpREH3R0utfFB13vojwIhkopkNyiuec\"><span style=\"text-decoration: underline; color: #800000;\">วันพระที่ 2 ตุลาคม 2563</span></a></strong></span></p>',\n",
              " '<p><span style=\"color: #800000;\"><strong><a href=\"/17244558/%E0%B8%82%E0%B9%89%E0%B8%AD%E0%B8%A1%E0%B8%B9%E0%B8%A5%E0%B8%AA%E0%B8%A0%E0%B8%B2%E0%B8%A7%E0%B8%B0%E0%B8%95%E0%B8%A5%E0%B8%B2%E0%B8%94%E0%B8%AA%E0%B8%B8%E0%B8%81%E0%B8%A3%E0%B8%A1%E0%B8%B5%E0%B8%8A%E0%B8%B5%E0%B8%A7%E0%B8%B4%E0%B8%95%E0%B8%AB%E0%B8%99%E0%B9%89%E0%B8%B2%E0%B8%9F%E0%B8%B2%E0%B8%A3%E0%B9%8C%E0%B8%A1-%E0%B8%AA%E0%B8%B1%E0%B8%9B%E0%B8%94%E0%B8%B2%E0%B8%AB%E0%B9%8C%E0%B8%97%E0%B8%B5%E0%B9%88-4163-%E0%B8%A7%E0%B8%B1%E0%B8%99%E0%B8%9E%E0%B8%A3%E0%B8%B0%E0%B8%97%E0%B8%B5%E0%B9%88-10-%E0%B8%95%E0%B8%B8%E0%B8%A5%E0%B8%B2%E0%B8%84%E0%B8%A1-2563?fbclid=IwAR2zwVwPAt9VX85TrwOOPl4OZYtwNmJwOZIoVcmCLn88UekfgIecU5liTMY\"><span style=\"color: #800000;\"><span style=\"text-decoration: underline;\">วันพระที่ 10 ตุลาคม 2563</span></span></a></strong></span></p>',\n",
              " '<p><span style=\"color: #800000;\"><strong><a href=\"/17246342/%E0%B8%82%E0%B9%89%E0%B8%AD%E0%B8%A1%E0%B8%B9%E0%B8%A5%E0%B8%AA%E0%B8%A0%E0%B8%B2%E0%B8%A7%E0%B8%B0%E0%B8%95%E0%B8%A5%E0%B8%B2%E0%B8%94%E0%B8%AA%E0%B8%B8%E0%B8%81%E0%B8%A3%E0%B8%A1%E0%B8%B5%E0%B8%8A%E0%B8%B5%E0%B8%A7%E0%B8%B4%E0%B8%95%E0%B8%AB%E0%B8%99%E0%B9%89%E0%B8%B2%E0%B8%9F%E0%B8%B2%E0%B8%A3%E0%B9%8C%E0%B8%A1-%E0%B8%AA%E0%B8%B1%E0%B8%9B%E0%B8%94%E0%B8%B2%E0%B8%AB%E0%B9%8C%E0%B8%97%E0%B8%B5%E0%B9%88-4263-%E0%B8%A7%E0%B8%B1%E0%B8%99%E0%B8%9E%E0%B8%A3%E0%B8%B0%E0%B8%97%E0%B8%B5%E0%B9%88-16-%E0%B8%95%E0%B8%B8%E0%B8%A5%E0%B8%B2%E0%B8%84%E0%B8%A1-2563?fbclid=IwAR21jo3HOCMIb99jyrPWogYryQQhH6_WmFIBdM8a8h71d3XDiBzwLwD9pkU\"><span style=\"color: #800000;\"><span style=\"text-decoration: underline;\">วันพระที่ 16 ตุลาคม 2563</span></span></a></strong></span></p>',\n",
              " '<p><span style=\"color: #800000;\"><strong><a href=\"/17248224/%E0%B8%82%E0%B9%89%E0%B8%AD%E0%B8%A1%E0%B8%B9%E0%B8%A5%E0%B8%AA%E0%B8%A0%E0%B8%B2%E0%B8%A7%E0%B8%B0%E0%B8%95%E0%B8%A5%E0%B8%B2%E0%B8%94%E0%B8%AA%E0%B8%B8%E0%B8%81%E0%B8%A3%E0%B8%A1%E0%B8%B5%E0%B8%8A%E0%B8%B5%E0%B8%A7%E0%B8%B4%E0%B8%95%E0%B8%AB%E0%B8%99%E0%B9%89%E0%B8%B2%E0%B8%9F%E0%B8%B2%E0%B8%A3%E0%B9%8C%E0%B8%A1-%E0%B8%AA%E0%B8%B1%E0%B8%9B%E0%B8%94%E0%B8%B2%E0%B8%AB%E0%B9%8C%E0%B8%97%E0%B8%B5%E0%B9%88-4363-%E0%B8%A7%E0%B8%B1%E0%B8%99%E0%B8%9E%E0%B8%A3%E0%B8%B0%E0%B8%97%E0%B8%B5%E0%B9%88-24-%E0%B8%95%E0%B8%B8%E0%B8%A5%E0%B8%B2%E0%B8%84%E0%B8%A1-2563?fbclid=IwAR01aciB7bttQCdeQEcOiKxrzRmCauf_fD-rnngJEloKHwOdC67rx8B2mCU\"><span style=\"color: #800000;\"><span style=\"text-decoration: underline;\">วันพระที่ 24 ตุลาคม 2563</span></span></a></strong></span></p>',\n",
              " '<p><span style=\"color: #800000;\"><strong><a href=\"/17249692/%E0%B8%82%E0%B9%89%E0%B8%AD%E0%B8%A1%E0%B8%B9%E0%B8%A5%E0%B8%AA%E0%B8%A0%E0%B8%B2%E0%B8%A7%E0%B8%B0%E0%B8%95%E0%B8%A5%E0%B8%B2%E0%B8%94%E0%B8%AA%E0%B8%B8%E0%B8%81%E0%B8%A3%E0%B8%A1%E0%B8%B5%E0%B8%8A%E0%B8%B5%E0%B8%A7%E0%B8%B4%E0%B8%95%E0%B8%AB%E0%B8%99%E0%B9%89%E0%B8%B2%E0%B8%9F%E0%B8%B2%E0%B8%A3%E0%B9%8C%E0%B8%A1-%E0%B8%AA%E0%B8%B1%E0%B8%9B%E0%B8%94%E0%B8%B2%E0%B8%AB%E0%B9%8C%E0%B8%97%E0%B8%B5%E0%B9%88-4463-%E0%B8%A7%E0%B8%B1%E0%B8%99%E0%B8%9E%E0%B8%A3%E0%B8%B0%E0%B8%97%E0%B8%B5%E0%B9%88-31-%E0%B8%95%E0%B8%B8%E0%B8%A5%E0%B8%B2%E0%B8%84%E0%B8%A1-2563?fbclid=IwAR01aciB7bttQCdeQEcOiKxrzRmCauf_fD-rnngJEloKHwOdC67rx8B2mCU\"><span style=\"color: #800000;\"><span style=\"text-decoration: underline;\">วันพระที่ 31 ตุลาคม 2563</span>\\xa0</span></a></strong></span></p>',\n",
              " '<p><span style=\"color: #800000;\"><strong><a href=\"/17251157/%E0%B8%82%E0%B9%89%E0%B8%AD%E0%B8%A1%E0%B8%B9%E0%B8%A5%E0%B8%81%E0%B8%B2%E0%B8%A3%E0%B8%A7%E0%B8%B4%E0%B9%80%E0%B8%84%E0%B8%A3%E0%B8%B2%E0%B8%B0%E0%B8%AB%E0%B9%8C%E0%B8%81%E0%B8%B2%E0%B8%A3%E0%B8%95%E0%B8%A5%E0%B8%B2%E0%B8%94%E0%B8%AA%E0%B8%B8%E0%B8%81%E0%B8%A3%E0%B8%A1%E0%B8%B5%E0%B8%8A%E0%B8%B5%E0%B8%A7%E0%B8%B4%E0%B8%95-%E0%B8%A7%E0%B8%B1%E0%B8%99%E0%B8%9E%E0%B8%A3%E0%B8%B0%E0%B8%97%E0%B8%B5%E0%B9%88-9-%E0%B8%9E%E0%B8%A4%E0%B8%A8%E0%B8%88%E0%B8%B4%E0%B8%81%E0%B8%B2%E0%B8%A2%E0%B8%99-2563?fbclid=IwAR3PbAayVSbMxuq2ITAuKpGSKH439jCq5ldLJ0TZPf41kxSTNJuYoE6GCHE\"><span style=\"color: #800000;\"><span style=\"text-decoration: underline;\">วันพระที่ 8 พฤศจิกายน 2563</span></span></a></strong></span></p>',\n",
              " '<p><span style=\"color: #800000;\"><strong><a href=\"/17252427/%E0%B8%82%E0%B9%89%E0%B8%AD%E0%B8%A1%E0%B8%B9%E0%B8%A5%E0%B8%AA%E0%B8%A0%E0%B8%B2%E0%B8%A7%E0%B8%B0%E0%B8%95%E0%B8%A5%E0%B8%B2%E0%B8%94%E0%B8%AA%E0%B8%B8%E0%B8%81%E0%B8%A3%E0%B8%A1%E0%B8%B5%E0%B8%8A%E0%B8%B5%E0%B8%A7%E0%B8%B4%E0%B8%95%E0%B8%AB%E0%B8%99%E0%B9%89%E0%B8%B2%E0%B8%9F%E0%B8%B2%E0%B8%A3%E0%B9%8C%E0%B8%A1-%E0%B8%AA%E0%B8%B1%E0%B8%9B%E0%B8%94%E0%B8%B2%E0%B8%AB%E0%B9%8C%E0%B8%97%E0%B8%B5%E0%B9%88-472563-%E0%B8%A7%E0%B8%B1%E0%B8%99%E0%B8%9E%E0%B8%A3%E0%B8%B0%E0%B8%97%E0%B8%B5%E0%B9%88-15-%E0%B8%9E%E0%B8%A4%E0%B8%A8%E0%B8%88%E0%B8%B4%E0%B8%81%E0%B8%B2%E0%B8%A2%E0%B8%99-2563?fbclid=IwAR1EU3AmZzqX7gBp2S9uaCk-VofmBadKc7ZgHrPKVwaRTKjZZC9rfZ_81WM\"><span style=\"color: #800000;\"><span style=\"text-decoration: underline;\">วันพระที่ 15 พฤศจิกายน 2563</span></span></a></strong></span></p>',\n",
              " '<p><span style=\"color: #800000;\"><strong><a href=\"/17253705/%E0%B8%82%E0%B9%89%E0%B8%AD%E0%B8%A1%E0%B8%B9%E0%B8%A5%E0%B8%AA%E0%B8%A0%E0%B8%B2%E0%B8%A7%E0%B8%B0%E0%B8%95%E0%B8%A5%E0%B8%B2%E0%B8%94%E0%B8%AA%E0%B8%B8%E0%B8%81%E0%B8%A3%E0%B8%A1%E0%B8%B5%E0%B8%8A%E0%B8%B5%E0%B8%A7%E0%B8%B4%E0%B8%95%E0%B8%AB%E0%B8%99%E0%B9%89%E0%B8%B2%E0%B8%9F%E0%B8%B2%E0%B8%A3%E0%B9%8C%E0%B8%A1-%E0%B8%AA%E0%B8%B1%E0%B8%9B%E0%B8%94%E0%B8%B2%E0%B8%AB%E0%B9%8C%E0%B8%97%E0%B8%B5%E0%B9%88-482563?fbclid=IwAR2qUQ4UBotdIbhzECfJ_w26MLdCtGFpXXyX_KB1lYcuYMO2DcmE2wGZOxc\"><span style=\"color: #800000;\"><span style=\"text-decoration: underline;\"><span style=\"color: #ff0000; text-decoration: underline;\">วันพระที่ 23 พฤศจิกายน 2563</span></span></span></a></strong></span></p>',\n",
              " '<p><span style=\"color: #800000;\"><strong><a href=\"/17254840/%E0%B8%82%E0%B9%89%E0%B8%AD%E0%B8%A1%E0%B8%B9%E0%B8%A5%E0%B8%AA%E0%B8%A0%E0%B8%B2%E0%B8%A7%E0%B8%B0%E0%B8%95%E0%B8%A5%E0%B8%B2%E0%B8%94%E0%B8%AA%E0%B8%B8%E0%B8%81%E0%B8%A3%E0%B8%A1%E0%B8%B5%E0%B8%8A%E0%B8%B5%E0%B8%A7%E0%B8%B4%E0%B8%95%E0%B8%AB%E0%B8%99%E0%B9%89%E0%B8%B2%E0%B8%9F%E0%B8%B2%E0%B8%A3%E0%B9%8C%E0%B8%A1-%E0%B8%AA%E0%B8%B1%E0%B8%9B%E0%B8%94%E0%B8%B2%E0%B8%AB%E0%B9%8C%E0%B8%97%E0%B8%B5%E0%B9%88-492563\"><span style=\"color: #800000;\"><span style=\"text-decoration: underline;\">วันพระที่ 30 พฤศจิกายน 2563</span></span></a></strong></span></p>',\n",
              " '<p><span style=\"color: #800000;\"><strong><a href=\"/17256233/%E0%B8%82%E0%B9%89%E0%B8%AD%E0%B8%A1%E0%B8%B9%E0%B8%A5%E0%B8%AA%E0%B8%A0%E0%B8%B2%E0%B8%A7%E0%B8%B0%E0%B8%95%E0%B8%A5%E0%B8%B2%E0%B8%94%E0%B8%AA%E0%B8%B8%E0%B8%81%E0%B8%A3%E0%B8%A1%E0%B8%B5%E0%B8%8A%E0%B8%B5%E0%B8%A7%E0%B8%B4%E0%B8%95%E0%B8%AB%E0%B8%99%E0%B9%89%E0%B8%B2%E0%B8%9F%E0%B8%B2%E0%B8%A3%E0%B9%8C%E0%B8%A1%E0%B8%A7%E0%B8%B1%E0%B8%99%E0%B8%9E%E0%B8%A3%E0%B8%B0%E0%B8%97%E0%B8%B5%E0%B9%88-8-%E0%B8%98%E0%B8%B1%E0%B8%99%E0%B8%A7%E0%B8%B2%E0%B8%84%E0%B8%A1-2563?fbclid=IwAR2w5Iy6DFhiY_9GXUwD-zv4S1BChkv5WOeTgI6UaK1qzwSdS0rxAJd5ANI\"><span style=\"color: #800000;\"><span style=\"text-decoration: underline;\"><span style=\"text-decoration: underline;\">วันพระที่ 8 ธันวาคม 2563</span></span></span></a></strong></span></p>',\n",
              " '<p><span style=\"color: #800000;\"><strong><a href=\"/17256994/%E0%B8%82%E0%B9%89%E0%B8%AD%E0%B8%A1%E0%B8%B9%E0%B8%A5%E0%B8%AA%E0%B8%A0%E0%B8%B2%E0%B8%A7%E0%B8%B0%E0%B8%95%E0%B8%A5%E0%B8%B2%E0%B8%94%E0%B8%AA%E0%B8%B8%E0%B8%81%E0%B8%A3%E0%B8%A1%E0%B8%B5%E0%B8%8A%E0%B8%B5%E0%B8%A7%E0%B8%B4%E0%B8%95%E0%B8%AB%E0%B8%99%E0%B9%89%E0%B8%B2%E0%B8%9F%E0%B8%B2%E0%B8%A3%E0%B9%8C%E0%B8%A1-%E0%B8%AA%E0%B8%B1%E0%B8%9B%E0%B8%94%E0%B8%B2%E0%B8%AB%E0%B9%8C%E0%B8%97%E0%B8%B5%E0%B9%88-512563-%E0%B8%A7%E0%B8%B1%E0%B8%99%E0%B8%9E%E0%B8%A3%E0%B8%B0%E0%B8%97%E0%B8%B5%E0%B9%88-14-%E0%B8%98%E0%B8%B1%E0%B8%99%E0%B8%A7%E0%B8%B2%E0%B8%84%E0%B8%A1-2563?fbclid=IwAR1Inv7D29oebmX0XEMZmR0ciZvJD2cyIVfdXpRwSdEMIWPUrWuBKQ_EFLA\"><span style=\"color: #800000;\"><span style=\"text-decoration: underline;\"><span style=\"text-decoration: underline;\">วันพระที่ 14 ธันวาคม 2563</span></span></span></a></strong></span></p>',\n",
              " '<p><span style=\"color: #800000;\"><strong><a href=\"/17257763/%E0%B8%82%E0%B9%89%E0%B8%AD%E0%B8%A1%E0%B8%B9%E0%B8%A5%E0%B8%AA%E0%B8%A0%E0%B8%B2%E0%B8%A7%E0%B8%B0%E0%B8%95%E0%B8%A5%E0%B8%B2%E0%B8%94%E0%B8%AA%E0%B8%B8%E0%B8%81%E0%B8%A3%E0%B8%A1%E0%B8%B5%E0%B8%8A%E0%B8%B5%E0%B8%A7%E0%B8%B4%E0%B8%95%E0%B8%AB%E0%B8%99%E0%B9%89%E0%B8%B2%E0%B8%9F%E0%B8%B2%E0%B8%A3%E0%B9%8C%E0%B8%A1-%E0%B8%AA%E0%B8%B1%E0%B8%9B%E0%B8%94%E0%B8%B2%E0%B8%AB%E0%B9%8C%E0%B8%97%E0%B8%B5%E0%B9%88-522563-%E0%B8%A7%E0%B8%B1%E0%B8%99%E0%B8%9E%E0%B8%A3%E0%B8%B0%E0%B8%97%E0%B8%B5%E0%B9%88-22-%E0%B8%98%E0%B8%B1%E0%B8%99%E0%B8%A7%E0%B8%B2%E0%B8%84%E0%B8%A1-2563?fbclid=IwAR0t9wN40myfJQ6lsJiZiS5cxpx22GGcyTxggrKHmV5UO9FeW8kovredifU\"><span style=\"color: #800000;\"><span style=\"text-decoration: underline;\"><span style=\"text-decoration: underline;\">วันพระที่ 22 ธันวาคม 2563</span></span></span></a></strong></span></p>',\n",
              " '<p><span style=\"color: #800000;\"><strong><a href=\"/17258698/%E0%B8%82%E0%B9%89%E0%B8%AD%E0%B8%A1%E0%B8%B9%E0%B8%A5%E0%B8%81%E0%B8%B2%E0%B8%A3%E0%B8%A7%E0%B8%B4%E0%B9%80%E0%B8%84%E0%B8%A3%E0%B8%B2%E0%B8%B0%E0%B8%AB%E0%B9%8C%E0%B8%95%E0%B8%A5%E0%B8%B2%E0%B8%94%E0%B8%AA%E0%B8%B8%E0%B8%81%E0%B8%A3%E0%B8%A1%E0%B8%B5%E0%B8%8A%E0%B8%B5%E0%B8%A7%E0%B8%B4%E0%B8%95-%E0%B8%A7%E0%B8%B1%E0%B8%99%E0%B8%9E%E0%B8%A3%E0%B8%B0%E0%B8%97%E0%B8%B5%E0%B9%88-29-%E0%B8%98%E0%B8%B1%E0%B8%99%E0%B8%A7%E0%B8%B2%E0%B8%84%E0%B8%A1-2563?fbclid=IwAR3zqkTja0aQ3reFWDNJKNhIaWwedZ679HWLJvQ5UJ00zoUc3WasiC2tvwU\"><span style=\"color: #800000;\"><span style=\"text-decoration: underline;\"><span style=\"text-decoration: underline;\">วันพระที่ 29 ธันวาคม 2563</span></span></span></a></strong></span></p>',\n",
              " '<p style=\"text-align: center;\"><span style=\"color: #800000;\"><strong><a href=\"/17054319/%E0%B8%AA%E0%B8%96%E0%B8%B2%E0%B8%99%E0%B8%81%E0%B8%B2%E0%B8%A3%E0%B8%93%E0%B9%8C%E0%B8%A3%E0%B8%B2%E0%B8%84%E0%B8%B2%E0%B8%AA%E0%B8%B8%E0%B8%81%E0%B8%A3%E0%B8%A1%E0%B8%B5%E0%B8%8A%E0%B8%B5%E0%B8%A7%E0%B8%B4%E0%B8%95%E0%B8%AB%E0%B8%99%E0%B9%89%E0%B8%B2%E0%B8%9F%E0%B8%B2%E0%B8%A3%E0%B9%8C%E0%B8%A1-%E0%B8%A7%E0%B8%B1%E0%B8%99%E0%B8%9E%E0%B8%A3%E0%B8%B0%E0%B8%97%E0%B8%B5%E0%B9%88-5-%E0%B8%A1%E0%B8%81%E0%B8%A3%E0%B8%B2%E0%B8%84%E0%B8%A1-2562\"><span style=\"color: #800000;\">วันพระที่ 5 มกราคม 2562</span></a></strong></span></p>',\n",
              " '<p style=\"text-align: center;\"><span style=\"color: #800000;\"><a href=\"/17063068/%E0%B8%AA%E0%B8%96%E0%B8%B2%E0%B8%99%E0%B8%81%E0%B8%B2%E0%B8%A3%E0%B8%93%E0%B9%8C%E0%B8%A3%E0%B8%B2%E0%B8%84%E0%B8%B2%E0%B8%AA%E0%B8%B8%E0%B8%81%E0%B8%A3%E0%B8%A1%E0%B8%B5%E0%B8%8A%E0%B8%B5%E0%B8%A7%E0%B8%B4%E0%B8%95%E0%B8%AB%E0%B8%99%E0%B9%89%E0%B8%B2%E0%B8%9F%E0%B8%B2%E0%B8%A3%E0%B9%8C%E0%B8%A1-%E0%B8%A7%E0%B8%B1%E0%B8%99%E0%B8%9E%E0%B8%A3%E0%B8%B0%E0%B8%97%E0%B8%B5%E0%B9%88-13-%E0%B8%A1%E0%B8%81%E0%B8%A3%E0%B8%B2%E0%B8%84%E0%B8%A1-2562\"><span style=\"color: #800000;\"><strong>วันพระที่ 13 มกราคม 2562</strong></span></a></span></p>',\n",
              " '<p style=\"text-align: center;\"><span style=\"color: #800000;\"><strong><a href=\"/17062009/%E0%B8%AA%E0%B8%96%E0%B8%B2%E0%B8%99%E0%B8%81%E0%B8%B2%E0%B8%A3%E0%B8%93%E0%B9%8C%E0%B8%A3%E0%B8%B2%E0%B8%84%E0%B8%B2%E0%B8%AA%E0%B8%B8%E0%B8%81%E0%B8%A3%E0%B8%A1%E0%B8%B5%E0%B8%8A%E0%B8%B5%E0%B8%A7%E0%B8%B4%E0%B8%95%E0%B8%AB%E0%B8%99%E0%B9%89%E0%B8%B2%E0%B8%9F%E0%B8%B2%E0%B8%A3%E0%B9%8C%E0%B8%A1-%E0%B8%A7%E0%B8%B1%E0%B8%99%E0%B8%9E%E0%B8%A3%E0%B8%B0%E0%B8%97%E0%B8%B5%E0%B9%88-20-%E0%B8%A1%E0%B8%81%E0%B8%A3%E0%B8%B2%E0%B8%84%E0%B8%A1-2562\"><span style=\"color: #800000;\">วันพระที่ 20 มกราคม 2562</span></a></strong></span></p>',\n",
              " '<p style=\"text-align: center;\"><strong><span style=\"color: #800000;\"><a href=\"/17068785/%E0%B8%AA%E0%B8%96%E0%B8%B2%E0%B8%99%E0%B8%81%E0%B8%B2%E0%B8%A3%E0%B8%93%E0%B9%8C%E0%B8%A3%E0%B8%B2%E0%B8%84%E0%B8%B2%E0%B8%AA%E0%B8%B8%E0%B8%81%E0%B8%A3%E0%B8%A1%E0%B8%B5%E0%B8%8A%E0%B8%B5%E0%B8%A7%E0%B8%B4%E0%B8%95%E0%B8%AB%E0%B8%99%E0%B9%89%E0%B8%B2%E0%B8%9F%E0%B8%B2%E0%B8%A3%E0%B9%8C%E0%B8%A1-%E0%B8%A7%E0%B8%B1%E0%B8%99%E0%B8%9E%E0%B8%A3%E0%B8%B0%E0%B8%97%E0%B8%B5%E0%B9%88-28-%E0%B8%A1%E0%B8%81%E0%B8%A3%E0%B8%B2%E0%B8%84%E0%B8%A1-2562\"><span style=\"color: #800000;\">วันพระที่ 28 มกราคม 2562</span></a></span></strong></p>',\n",
              " '<p style=\"text-align: center;\"><strong><span style=\"color: #ff6600;\">\\xa0<span style=\"color: #800000;\"><a href=\"/17068749/%E0%B8%AA%E0%B8%96%E0%B8%B2%E0%B8%99%E0%B8%81%E0%B8%B2%E0%B8%A3%E0%B8%93%E0%B9%8C%E0%B8%A3%E0%B8%B2%E0%B8%84%E0%B8%B2%E0%B8%AA%E0%B8%B8%E0%B8%81%E0%B8%A3%E0%B8%A1%E0%B8%B5%E0%B8%8A%E0%B8%B5%E0%B8%A7%E0%B8%B4%E0%B8%95%E0%B8%AB%E0%B8%99%E0%B9%89%E0%B8%B2%E0%B8%9F%E0%B8%B2%E0%B8%A3%E0%B9%8C%E0%B8%A1-%E0%B8%A7%E0%B8%B1%E0%B8%99%E0%B8%9E%E0%B8%A3%E0%B8%B0%E0%B8%97%E0%B8%B5%E0%B9%88-4-%E0%B8%81%E0%B8%B8%E0%B8%A1%E0%B8%A0%E0%B8%B2%E0%B8%9E%E0%B8%B1%E0%B8%99%E0%B8%98%E0%B9%8C-2562\"><span style=\"color: #800000;\">วันพระที่ 4 กุมภาพันธ์ 2562</span></a></span></span></strong></p>',\n",
              " '<p style=\"text-align: center;\"><strong><span style=\"color: #800000;\"><a href=\"/17070811/%E0%B8%AA%E0%B8%96%E0%B8%B2%E0%B8%99%E0%B8%81%E0%B8%B2%E0%B8%A3%E0%B8%93%E0%B9%8C%E0%B8%A3%E0%B8%B2%E0%B8%84%E0%B8%B2%E0%B8%AA%E0%B8%B8%E0%B8%81%E0%B8%A3%E0%B8%A1%E0%B8%B5%E0%B8%8A%E0%B8%B5%E0%B8%A7%E0%B8%B4%E0%B8%95%E0%B8%AB%E0%B8%99%E0%B9%89%E0%B8%B2%E0%B8%9F%E0%B8%B2%E0%B8%A3%E0%B9%8C%E0%B8%A1-%E0%B8%A7%E0%B8%B1%E0%B8%99%E0%B8%9E%E0%B8%A3%E0%B8%B0%E0%B8%97%E0%B8%B5%E0%B9%88-12-%E0%B8%81%E0%B8%B8%E0%B8%A1%E0%B8%A0%E0%B8%B2%E0%B8%9E%E0%B8%B1%E0%B8%99%E0%B8%98%E0%B9%8C-2562\"><span style=\"color: #800000;\">วันพระที่ 12 กุมภาพันธ์ 2562</span></a></span></strong></p>',\n",
              " '<p style=\"text-align: center;\"><strong><span style=\"color: #800000;\"><a href=\"/17073489/%E0%B8%AA%E0%B8%96%E0%B8%B2%E0%B8%99%E0%B8%81%E0%B8%B2%E0%B8%A3%E0%B8%93%E0%B9%8C%E0%B8%A3%E0%B8%B2%E0%B8%84%E0%B8%B2%E0%B8%AA%E0%B8%B8%E0%B8%81%E0%B8%A3%E0%B8%A1%E0%B8%B5%E0%B8%8A%E0%B8%B5%E0%B8%A7%E0%B8%B4%E0%B8%95%E0%B8%AB%E0%B8%99%E0%B9%89%E0%B8%B2%E0%B8%9F%E0%B8%B2%E0%B8%A3%E0%B9%8C%E0%B8%A1-%E0%B8%A7%E0%B8%B1%E0%B8%99%E0%B8%9E%E0%B8%A3%E0%B8%B0%E0%B8%97%E0%B8%B5%E0%B9%88-19-%E0%B8%81%E0%B8%B8%E0%B8%A1%E0%B8%A0%E0%B8%B2%E0%B8%9E%E0%B8%B1%E0%B8%99%E0%B8%98%E0%B9%8C-2562\"><span style=\"color: #800000;\">วันพระที่ 19 กุมภาพันธ์ 2562</span></a></span></strong></p>',\n",
              " '<p style=\"text-align: center;\"><strong><span style=\"color: #800000;\"><a href=\"/17075745/%E0%B8%AA%E0%B8%96%E0%B8%B2%E0%B8%99%E0%B8%81%E0%B8%B2%E0%B8%A3%E0%B8%93%E0%B9%8C%E0%B8%A3%E0%B8%B2%E0%B8%84%E0%B8%B2%E0%B8%AA%E0%B8%B8%E0%B8%81%E0%B8%A3%E0%B8%A1%E0%B8%B5%E0%B8%8A%E0%B8%B5%E0%B8%A7%E0%B8%B4%E0%B8%95%E0%B8%AB%E0%B8%99%E0%B9%89%E0%B8%B2%E0%B8%9F%E0%B8%B2%E0%B8%A3%E0%B9%8C%E0%B8%A1-%E0%B8%A7%E0%B8%B1%E0%B8%99%E0%B8%9E%E0%B8%A3%E0%B8%B0%E0%B8%97%E0%B8%B5%E0%B9%88-27-%E0%B8%81%E0%B8%B8%E0%B8%A1%E0%B8%A0%E0%B8%B2%E0%B8%9E%E0%B8%B1%E0%B8%99%E0%B8%98%E0%B9%8C-2562\"><span style=\"color: #800000;\">วันพระที่ 27 กุมภาพันธ์ 2562</span></a></span></strong></p>',\n",
              " '<p style=\"text-align: center;\"><strong><span style=\"color: #ff6600;\">\\xa0<span style=\"color: #800000;\"><a href=\"/17077333/%E0%B8%AA%E0%B8%96%E0%B8%B2%E0%B8%99%E0%B8%81%E0%B8%B2%E0%B8%A3%E0%B8%93%E0%B9%8C%E0%B8%A3%E0%B8%B2%E0%B8%84%E0%B8%B2%E0%B8%AA%E0%B8%B8%E0%B8%81%E0%B8%A3%E0%B8%A1%E0%B8%B5%E0%B8%8A%E0%B8%B5%E0%B8%A7%E0%B8%B4%E0%B8%95%E0%B8%AB%E0%B8%99%E0%B9%89%E0%B8%B2%E0%B8%9F%E0%B8%B2%E0%B8%A3%E0%B9%8C%E0%B8%A1-%E0%B8%A7%E0%B8%B1%E0%B8%99%E0%B8%9E%E0%B8%A3%E0%B8%B0%E0%B8%97%E0%B8%B5%E0%B9%88-5-%E0%B8%A1%E0%B8%B5%E0%B8%99%E0%B8%B2%E0%B8%84%E0%B8%A1-2562\"><span style=\"color: #800000;\">วันพระที่ 5 มีนาคม 2562</span></a></span></span></strong></p>',\n",
              " '<p style=\"text-align: center;\"><strong><span style=\"color: #800000;\"><a href=\"/17080457/%E0%B8%AA%E0%B8%96%E0%B8%B2%E0%B8%99%E0%B8%81%E0%B8%B2%E0%B8%A3%E0%B8%93%E0%B9%8C%E0%B8%A3%E0%B8%B2%E0%B8%84%E0%B8%B2%E0%B8%AA%E0%B8%B8%E0%B8%81%E0%B8%A3%E0%B8%A1%E0%B8%B5%E0%B8%8A%E0%B8%B5%E0%B8%A7%E0%B8%B4%E0%B8%95%E0%B8%AB%E0%B8%99%E0%B9%89%E0%B8%B2%E0%B8%9F%E0%B8%B2%E0%B8%A3%E0%B9%8C%E0%B8%A1-%E0%B8%A7%E0%B8%B1%E0%B8%99%E0%B8%9E%E0%B8%A3%E0%B8%B0%E0%B8%97%E0%B8%B5%E0%B9%88-13-%E0%B8%A1%E0%B8%B5%E0%B8%99%E0%B8%B2%E0%B8%84%E0%B8%A1-2562\"><span style=\"color: #800000;\">วันพระที่ 13 มีนาคม 2562</span></a></span></strong></p>',\n",
              " '<p style=\"text-align: center;\"><strong><span style=\"color: #800000;\"><a href=\"/17082787/%E0%B8%AA%E0%B8%96%E0%B8%B2%E0%B8%99%E0%B8%81%E0%B8%B2%E0%B8%A3%E0%B8%93%E0%B9%8C%E0%B8%A3%E0%B8%B2%E0%B8%84%E0%B8%B2%E0%B8%AA%E0%B8%B8%E0%B8%81%E0%B8%A3%E0%B8%A1%E0%B8%B5%E0%B8%8A%E0%B8%B5%E0%B8%A7%E0%B8%B4%E0%B8%95%E0%B8%AB%E0%B8%99%E0%B9%89%E0%B8%B2%E0%B8%9F%E0%B8%B2%E0%B8%A3%E0%B9%8C%E0%B8%A1-%E0%B8%A7%E0%B8%B1%E0%B8%99%E0%B8%9E%E0%B8%A3%E0%B8%B0%E0%B8%97%E0%B8%B5%E0%B9%88-20-%E0%B8%A1%E0%B8%B5%E0%B8%99%E0%B8%B2%E0%B8%84%E0%B8%A1-2562\"><span style=\"color: #800000;\">วันพระที่ 20 มีนาคม 2562</span></a></span></strong></p>',\n",
              " '<p style=\"text-align: center;\"><strong><span style=\"color: #800000;\"><a href=\"/17086070/%E0%B8%AA%E0%B8%96%E0%B8%B2%E0%B8%99%E0%B8%81%E0%B8%B2%E0%B8%A3%E0%B8%93%E0%B9%8C%E0%B8%A3%E0%B8%B2%E0%B8%84%E0%B8%B2%E0%B8%AA%E0%B8%B8%E0%B8%81%E0%B8%A3%E0%B8%A1%E0%B8%B5%E0%B8%8A%E0%B8%B5%E0%B8%A7%E0%B8%B4%E0%B8%95%E0%B8%AB%E0%B8%99%E0%B9%89%E0%B8%B2%E0%B8%9F%E0%B8%B2%E0%B8%A3%E0%B9%8C%E0%B8%A1-%E0%B8%A7%E0%B8%B1%E0%B8%99%E0%B8%9E%E0%B8%A3%E0%B8%B0%E0%B8%97%E0%B8%B5%E0%B9%88-28-%E0%B8%A1%E0%B8%B5%E0%B8%99%E0%B8%B2%E0%B8%84%E0%B8%A1-2562\"><span style=\"color: #800000;\">วันพระที่ 28 มีนาคม 2562</span></a></span></strong></p>',\n",
              " '<p style=\"text-align: center;\"><strong><span style=\"color: #800000;\">\\xa0<a href=\"/17088346/%E0%B8%AA%E0%B8%96%E0%B8%B2%E0%B8%99%E0%B8%81%E0%B8%B2%E0%B8%A3%E0%B8%93%E0%B9%8C%E0%B8%A3%E0%B8%B2%E0%B8%84%E0%B8%B2%E0%B8%AA%E0%B8%B8%E0%B8%81%E0%B8%A3%E0%B8%A1%E0%B8%B5%E0%B8%8A%E0%B8%B5%E0%B8%A7%E0%B8%B4%E0%B8%95%E0%B8%AB%E0%B8%99%E0%B9%89%E0%B8%B2%E0%B8%9F%E0%B8%B2%E0%B8%A3%E0%B9%8C%E0%B8%A1-%E0%B8%A7%E0%B8%B1%E0%B8%99%E0%B8%9E%E0%B8%A3%E0%B8%B0%E0%B8%97%E0%B8%B5%E0%B9%88-4-%E0%B9%80%E0%B8%A1%E0%B8%A9%E0%B8%B2%E0%B8%A2%E0%B8%99-2562\"><span style=\"color: #800000;\">วันพระที่ 4 เมษายน 2562</span></a></span></strong></p>',\n",
              " '<p style=\"text-align: center;\"><strong><span style=\"color: #800000;\"><a href=\"/17090604/%E0%B8%AA%E0%B8%96%E0%B8%B2%E0%B8%99%E0%B8%81%E0%B8%B2%E0%B8%A3%E0%B8%93%E0%B9%8C%E0%B8%A3%E0%B8%B2%E0%B8%84%E0%B8%B2%E0%B8%AA%E0%B8%B8%E0%B8%81%E0%B8%A3%E0%B8%A1%E0%B8%B5%E0%B8%8A%E0%B8%B5%E0%B8%A7%E0%B8%B4%E0%B8%95%E0%B8%AB%E0%B8%99%E0%B9%89%E0%B8%B2%E0%B8%9F%E0%B8%B2%E0%B8%A3%E0%B9%8C%E0%B8%A1-%E0%B8%A7%E0%B8%B1%E0%B8%99%E0%B8%9E%E0%B8%A3%E0%B8%B0%E0%B8%97%E0%B8%B5%E0%B9%88-12-%E0%B9%80%E0%B8%A1%E0%B8%A9%E0%B8%A9%E0%B8%A2%E0%B8%99-2562\"><span style=\"color: #800000;\">วันพระที่ 12 เมษายน 2562</span></a></span></strong></p>',\n",
              " '<p style=\"text-align: center;\"><strong><span style=\"color: #800000;\"><a href=\"/17092007/%E0%B8%AA%E0%B8%96%E0%B8%B2%E0%B8%99%E0%B8%81%E0%B8%B2%E0%B8%A3%E0%B8%93%E0%B9%8C%E0%B8%A3%E0%B8%B2%E0%B8%84%E0%B8%B2%E0%B8%AA%E0%B8%B8%E0%B8%81%E0%B8%A3%E0%B8%A1%E0%B8%B5%E0%B8%8A%E0%B8%B5%E0%B8%A7%E0%B8%B4%E0%B8%95%E0%B8%AB%E0%B8%99%E0%B9%89%E0%B8%B2%E0%B8%9F%E0%B8%B2%E0%B8%A3%E0%B9%8C%E0%B8%A1-%E0%B8%A7%E0%B8%B1%E0%B8%99%E0%B8%9E%E0%B8%A3%E0%B8%B0%E0%B8%97%E0%B8%B5%E0%B9%88-19-%E0%B9%80%E0%B8%A1%E0%B8%A9%E0%B8%B2%E0%B8%A2%E0%B8%99-2562\"><span style=\"color: #800000;\">วันพระที่ 19 เมษายน 2562</span></a></span></strong></p>',\n",
              " '<p style=\"text-align: center;\"><strong><span style=\"color: #800000;\"><a href=\"/17094087/%E0%B8%AA%E0%B8%96%E0%B8%B2%E0%B8%99%E0%B8%81%E0%B8%B2%E0%B8%A3%E0%B8%93%E0%B9%8C%E0%B8%A3%E0%B8%B2%E0%B8%84%E0%B8%B2%E0%B8%AA%E0%B8%B8%E0%B8%81%E0%B8%A3%E0%B8%A1%E0%B8%B5%E0%B8%8A%E0%B8%B5%E0%B8%A7%E0%B8%B4%E0%B8%95%E0%B8%AB%E0%B8%99%E0%B9%89%E0%B8%B2%E0%B8%9F%E0%B8%B2%E0%B8%A3%E0%B9%8C%E0%B8%A1-%E0%B8%A7%E0%B8%B1%E0%B8%99%E0%B8%9E%E0%B8%A3%E0%B8%B0%E0%B8%97%E0%B8%B5%E0%B9%88-27-%E0%B9%80%E0%B8%A1%E0%B8%A9%E0%B8%B2%E0%B8%A2%E0%B8%99-2562\"><span style=\"color: #800000;\">วันพระที่ 27 เมษายน 2562</span></a></span></strong></p>',\n",
              " '<p style=\"text-align: center;\"><strong><span style=\"color: #800000;\"><a href=\"/17095827/%E0%B8%AA%E0%B8%96%E0%B8%B2%E0%B8%99%E0%B8%81%E0%B8%B2%E0%B8%A3%E0%B8%93%E0%B9%8C%E0%B8%A3%E0%B8%B2%E0%B8%84%E0%B8%B2%E0%B8%AA%E0%B8%B8%E0%B8%81%E0%B8%A3%E0%B8%A1%E0%B8%B5%E0%B8%8A%E0%B8%B5%E0%B8%A7%E0%B8%B4%E0%B8%95%E0%B8%AB%E0%B8%99%E0%B9%89%E0%B8%B2%E0%B8%9F%E0%B8%B2%E0%B8%A3%E0%B9%8C%E0%B8%A1-%E0%B8%A7%E0%B8%B1%E0%B8%99%E0%B8%9E%E0%B8%A3%E0%B8%B0%E0%B8%97%E0%B8%B5%E0%B9%88-3-%E0%B8%9E%E0%B8%A4%E0%B8%A9%E0%B8%A0%E0%B8%B2%E0%B8%84%E0%B8%A1-2562?fbclid=IwAR3nL5ODrfZZGpkkSBgM5nYWmli_5bbc2ngFN2HfuEc_94-KDtu3NNGH4yo\"><span style=\"color: #800000;\">\\xa0วันพระที่ 3 พฤษภาคม 2562</span></a></span></strong></p>',\n",
              " '<p style=\"text-align: center;\"><strong><span style=\"color: #800000;\"><a href=\"/17098309/%E0%B8%AA%E0%B8%96%E0%B8%B2%E0%B8%99%E0%B8%81%E0%B8%B2%E0%B8%A3%E0%B8%93%E0%B9%8C%E0%B8%A3%E0%B8%B2%E0%B8%84%E0%B8%B2%E0%B8%AA%E0%B8%B8%E0%B8%81%E0%B8%A3%E0%B8%A1%E0%B8%B5%E0%B8%8A%E0%B8%B5%E0%B8%A7%E0%B8%B4%E0%B8%95%E0%B8%AB%E0%B8%99%E0%B9%89%E0%B8%B2%E0%B8%9F%E0%B8%B2%E0%B8%A3%E0%B9%8C%E0%B8%A1-%E0%B8%A7%E0%B8%B1%E0%B8%99%E0%B8%9E%E0%B8%A3%E0%B8%B0%E0%B8%97%E0%B8%B5%E0%B9%88-11-%E0%B8%9E%E0%B8%A4%E0%B8%A9%E0%B8%A0%E0%B8%B2%E0%B8%84%E0%B8%A1-2562\"><span style=\"color: #800000;\">วันพระที่ 11 พฤษภาคม 2562</span></a></span></strong></p>',\n",
              " '<p style=\"text-align: center;\"><strong><span style=\"color: #800000;\"><a href=\"/17100351/%E0%B8%AA%E0%B8%96%E0%B8%B2%E0%B8%99%E0%B8%81%E0%B8%B2%E0%B8%A3%E0%B8%93%E0%B9%8C%E0%B8%A3%E0%B8%B2%E0%B8%84%E0%B8%B2%E0%B8%AA%E0%B8%B8%E0%B8%81%E0%B8%A3%E0%B8%A1%E0%B8%B5%E0%B8%8A%E0%B8%B5%E0%B8%A7%E0%B8%B4%E0%B8%95%E0%B8%AB%E0%B8%99%E0%B9%89%E0%B8%B2%E0%B8%9F%E0%B8%B2%E0%B8%A3%E0%B9%8C%E0%B8%A1-%E0%B8%A7%E0%B8%B1%E0%B8%99%E0%B8%9E%E0%B8%A3%E0%B8%B0%E0%B8%97%E0%B8%B5%E0%B9%88-11-%E0%B8%9E%E0%B8%A4%E0%B8%A9%E0%B8%A0%E0%B8%B2%E0%B8%84%E0%B8%A1-2562\"><span style=\"color: #800000;\">วันพระที่ 18 พฤษภาคม 2562</span></a></span></strong></p>',\n",
              " '<p style=\"text-align: center;\"><span style=\"color: #800000;\"><a href=\"/17102672/%E0%B8%AA%E0%B8%96%E0%B8%B2%E0%B8%99%E0%B8%81%E0%B8%B2%E0%B8%A3%E0%B8%93%E0%B9%8C%E0%B8%A3%E0%B8%B2%E0%B8%84%E0%B8%B2%E0%B8%AA%E0%B8%B8%E0%B8%81%E0%B8%A3%E0%B8%A1%E0%B8%B5%E0%B8%8A%E0%B8%B5%E0%B8%A7%E0%B8%B4%E0%B8%95%E0%B8%AB%E0%B8%99%E0%B9%89%E0%B8%B2%E0%B8%9F%E0%B8%B2%E0%B8%A3%E0%B9%8C%E0%B8%A1-%E0%B8%A7%E0%B8%B1%E0%B8%99%E0%B8%9E%E0%B8%A3%E0%B8%B0%E0%B8%97%E0%B8%B5%E0%B9%88-26-%E0%B8%9E%E0%B8%A4%E0%B8%A9%E0%B8%A0%E0%B8%B2%E0%B8%84%E0%B8%A1-2562\"><span style=\"color: #800000;\"><strong><span style=\"color: #ff6600;\">วันพระที่ 26 พฤษภาคม 2562</span></strong></span></a></span></p>',\n",
              " '<p><span style=\"color: #800000;\"><a href=\"/17141603/%E0%B8%AA%E0%B8%96%E0%B8%B2%E0%B8%99%E0%B8%81%E0%B8%B2%E0%B8%A3%E0%B8%93%E0%B9%8C%E0%B8%A3%E0%B8%B2%E0%B8%84%E0%B8%B2%E0%B8%AA%E0%B8%B8%E0%B8%81%E0%B8%A3%E0%B8%A1%E0%B8%B5%E0%B8%8A%E0%B8%B5%E0%B8%A7%E0%B8%B4%E0%B8%95%E0%B8%AB%E0%B8%99%E0%B9%89%E0%B8%B2%E0%B8%9F%E0%B8%B2%E0%B8%A3%E0%B9%8C%E0%B8%A1-%E0%B8%A7%E0%B8%B1%E0%B8%99%E0%B8%9E%E0%B8%A3%E0%B8%B0%E0%B8%97%E0%B8%B5%E0%B9%88-2-%E0%B8%A1%E0%B8%B4%E0%B8%96%E0%B8%B8%E0%B8%99%E0%B8%B2%E0%B8%A2%E0%B8%99-2562\"><span style=\"color: #800000;\"><strong><span style=\"color: #ff6600;\">\\xa0</span><span style=\"color: #ff6600;\"><span style=\"color: #800000;\">วันพระที่ 2 มิถุนายน 2562</span></span></strong></span></a></span></p>',\n",
              " '<p><strong><span style=\"color: #800000;\"><a href=\"/17107167/%E0%B8%AA%E0%B8%96%E0%B8%B2%E0%B8%99%E0%B8%81%E0%B8%B2%E0%B8%A3%E0%B8%93%E0%B9%8C%E0%B8%A3%E0%B8%B2%E0%B8%84%E0%B8%B2%E0%B8%AA%E0%B8%B8%E0%B8%81%E0%B8%A3%E0%B8%A1%E0%B8%B5%E0%B8%8A%E0%B8%B5%E0%B8%A7%E0%B8%B4%E0%B8%95%E0%B8%AB%E0%B8%99%E0%B9%89%E0%B8%B2%E0%B8%9F%E0%B8%B2%E0%B8%A3%E0%B9%8C%E0%B8%A1-%E0%B8%A7%E0%B8%B1%E0%B8%99%E0%B8%9E%E0%B8%A3%E0%B8%B0%E0%B8%97%E0%B8%B5%E0%B9%88-10-%E0%B8%A1%E0%B8%B4%E0%B8%96%E0%B8%B8%E0%B8%99%E0%B8%B2%E0%B8%A2%E0%B8%99-2562\"><span style=\"color: #800000;\">วันพระที่ 10 มิถุนายน 2562</span></a></span></strong></p>',\n",
              " '<p><strong><span style=\"color: #800000;\"><a href=\"/17109157/%E0%B8%AA%E0%B8%96%E0%B8%B2%E0%B8%99%E0%B8%81%E0%B8%B2%E0%B8%A3%E0%B8%93%E0%B9%8C%E0%B8%A3%E0%B8%B2%E0%B8%84%E0%B8%B2%E0%B8%AA%E0%B8%B8%E0%B8%81%E0%B8%A3%E0%B8%A1%E0%B8%B5%E0%B8%8A%E0%B8%B5%E0%B8%A7%E0%B8%B4%E0%B8%95%E0%B8%AB%E0%B8%99%E0%B9%89%E0%B8%B2%E0%B8%9F%E0%B8%B2%E0%B8%A3%E0%B9%8C%E0%B8%A1-%E0%B8%A7%E0%B8%B1%E0%B8%99%E0%B8%9E%E0%B8%A3%E0%B8%B0%E0%B8%97%E0%B8%B5%E0%B9%88-17-%E0%B8%A1%E0%B8%B4%E0%B8%96%E0%B8%B8%E0%B8%99%E0%B8%B2%E0%B8%A2%E0%B8%99-2562?fbclid=IwAR23fZcqvEgBXtPebyW4I9hQRTzJ3ui3TTSmlgAMDmNDGOWRjQ-ZRGlbnDA\"><span style=\"color: #800000;\">วันพระที่ 17 มิถุนายน 2562</span></a></span></strong></p>',\n",
              " '<p><strong><span style=\"color: #800000;\"><a href=\"/17112102/%E0%B8%82%E0%B9%89%E0%B8%AD%E0%B8%A1%E0%B8%B9%E0%B8%A5%E0%B8%A3%E0%B8%B2%E0%B8%84%E0%B8%B2%E0%B8%AA%E0%B8%B8%E0%B8%81%E0%B8%A3%E0%B8%A1%E0%B8%B5%E0%B8%8A%E0%B8%B5%E0%B8%A7%E0%B8%B4%E0%B8%95%E0%B8%AB%E0%B8%99%E0%B9%89%E0%B8%B2%E0%B8%9F%E0%B8%B2%E0%B8%A3%E0%B9%8C%E0%B8%A1-%E0%B8%A7%E0%B8%B1%E0%B8%99%E0%B8%9E%E0%B8%A3%E0%B8%B0%E0%B8%97%E0%B8%B5%E0%B9%88-25-%E0%B8%A1%E0%B8%B4%E0%B8%96%E0%B8%B8%E0%B8%99%E0%B8%B2%E0%B8%A2%E0%B8%99-2562\"><span style=\"color: #800000;\">วันพระที่ 25 มิถุนายน 2562</span></a></span></strong></p>',\n",
              " '<p><span style=\"color: #ff6600;\">\\xa0<strong><span style=\"color: #800000;\"><a href=\"/17114156/%E0%B8%82%E0%B9%89%E0%B8%AD%E0%B8%A1%E0%B8%B9%E0%B8%A5%E0%B8%81%E0%B8%B2%E0%B8%A3%E0%B8%A7%E0%B8%B4%E0%B9%80%E0%B8%84%E0%B8%A3%E0%B8%B2%E0%B8%B0%E0%B8%AB%E0%B9%8C%E0%B8%81%E0%B8%B2%E0%B8%A3%E0%B8%95%E0%B8%A5%E0%B8%B2%E0%B8%94%E0%B8%AA%E0%B8%B8%E0%B8%81%E0%B8%A3%E0%B8%A1%E0%B8%B5%E0%B8%8A%E0%B8%B5%E0%B8%A7%E0%B8%B4%E0%B8%95-%E0%B8%A7%E0%B8%B1%E0%B8%99%E0%B8%9E%E0%B8%A3%E0%B8%B0%E0%B8%97%E0%B8%B5%E0%B9%88-1-%E0%B8%81%E0%B8%A3%E0%B8%81%E0%B8%8E%E0%B8%B2%E0%B8%84%E0%B8%A1-2562?fbclid=IwAR0pmuxDBqZb1kQlIqPR9meBaTi1JwX_8Eb38q9m4yL0mO7-ajj63odXW0I\"><span style=\"color: #800000;\">วันพระที่ 1 กรกฎาคม 2562</span></a></span></strong></span></p>',\n",
              " '<p><strong><span style=\"color: #800000;\"><a href=\"/17117136/%E0%B8%82%E0%B9%89%E0%B8%AD%E0%B8%A1%E0%B8%B9%E0%B8%A5%E0%B8%81%E0%B8%B2%E0%B8%A3%E0%B8%A7%E0%B8%B4%E0%B9%80%E0%B8%84%E0%B8%A3%E0%B8%B2%E0%B8%B0%E0%B8%AB%E0%B9%8C%E0%B8%81%E0%B8%B2%E0%B8%A3%E0%B8%95%E0%B8%A5%E0%B8%B2%E0%B8%94%E0%B8%AA%E0%B8%B8%E0%B8%81%E0%B8%A3%E0%B8%A1%E0%B8%B5%E0%B8%8A%E0%B8%B5%E0%B8%A7%E0%B8%B4%E0%B8%95-%E0%B8%A7%E0%B8%B1%E0%B8%99%E0%B8%9E%E0%B8%A3%E0%B8%B0%E0%B8%97%E0%B8%B5%E0%B9%88-9-%E0%B8%81%E0%B8%A3%E0%B8%81%E0%B8%8E%E0%B8%B2%E0%B8%84%E0%B8%A1-2562\"><span style=\"color: #800000;\">วันพระที่ 9 กรกฎาคม 2562</span></a></span></strong></p>',\n",
              " '<p><strong><span style=\"color: #800000;\"><a href=\"/17120065/%E0%B8%82%E0%B9%89%E0%B8%AD%E0%B8%A1%E0%B8%B9%E0%B8%A5%E0%B8%81%E0%B8%B2%E0%B8%A3%E0%B8%A7%E0%B8%B4%E0%B9%80%E0%B8%84%E0%B8%A3%E0%B8%B2%E0%B8%B0%E0%B8%AB%E0%B9%8C%E0%B8%81%E0%B8%B2%E0%B8%A3%E0%B8%95%E0%B8%A5%E0%B8%B2%E0%B8%94%E0%B8%AA%E0%B8%B8%E0%B8%81%E0%B8%A3%E0%B8%A1%E0%B8%B5%E0%B8%8A%E0%B8%B5%E0%B8%A7%E0%B8%B4%E0%B8%95-%E0%B8%A7%E0%B8%B1%E0%B8%99%E0%B8%9E%E0%B8%A3%E0%B8%B0%E0%B8%97%E0%B8%B5%E0%B9%88-16-%E0%B8%81%E0%B8%A3%E0%B8%81%E0%B8%8E%E0%B8%B2%E0%B8%84%E0%B8%A1-2562?fbclid=IwAR1rSATrqN6YTRItr9XprKegPkpWvrkcAMto3_0fY3C_9NNQ6vxFwt0bX-0\"><span style=\"color: #800000;\">วันพระที่ 16 กรกฎาคม 2562</span></a></span></strong></p>',\n",
              " '<p><strong><span style=\"color: #800000;\"><a href=\"/17122890/%E0%B8%82%E0%B9%89%E0%B8%AD%E0%B8%A1%E0%B8%B9%E0%B8%A5%E0%B8%81%E0%B8%B2%E0%B8%A3%E0%B8%A7%E0%B8%B4%E0%B9%80%E0%B8%84%E0%B8%A3%E0%B8%B2%E0%B8%B0%E0%B8%AB%E0%B9%8C%E0%B8%81%E0%B8%B2%E0%B8%A3%E0%B8%95%E0%B8%A5%E0%B8%B2%E0%B8%94%E0%B8%AA%E0%B8%B8%E0%B8%81%E0%B8%A3%E0%B8%A1%E0%B8%B5%E0%B8%8A%E0%B8%B5%E0%B8%A7%E0%B8%B4%E0%B8%95-%E0%B8%A7%E0%B8%B1%E0%B8%99%E0%B8%9E%E0%B8%A3%E0%B8%B0%E0%B8%97%E0%B8%B5%E0%B9%88-24-%E0%B8%81%E0%B8%A3%E0%B8%81%E0%B8%8E%E0%B8%B2%E0%B8%84%E0%B8%A1-2562\"><span style=\"color: #800000;\">วันพระที่ 24 กรกฎาคม 2562</span></a></span></strong></p>',\n",
              " '<p><strong><span style=\"color: #800000;\"><a href=\"/17125175/%E0%B8%82%E0%B9%89%E0%B8%AD%E0%B8%A1%E0%B8%B9%E0%B8%A5%E0%B8%81%E0%B8%B2%E0%B8%A3%E0%B8%A7%E0%B8%B4%E0%B9%80%E0%B8%84%E0%B8%A3%E0%B8%B2%E0%B8%B0%E0%B8%AB%E0%B9%8C%E0%B8%81%E0%B8%B2%E0%B8%A3%E0%B8%95%E0%B8%A5%E0%B8%B2%E0%B8%94%E0%B8%AA%E0%B8%B8%E0%B8%81%E0%B8%A3%E0%B8%A1%E0%B8%B5%E0%B8%8A%E0%B8%B5%E0%B8%A7%E0%B8%B4%E0%B8%95-%E0%B8%A7%E0%B8%B1%E0%B8%99%E0%B8%9E%E0%B8%A3%E0%B8%B0%E0%B8%97%E0%B8%B5%E0%B9%88-31-%E0%B8%81%E0%B8%A3%E0%B8%81%E0%B8%8E%E0%B8%B2%E0%B8%84%E0%B8%A1-2562?fbclid=IwAR1WZJSTy8sRUxEUZwQ9tZQRsBLNiS-vvt7tuzfj_k6A9XAqecVHtGbRxPw\"><span style=\"color: #800000;\">วันพระที่ 31 กรกฎาคม 2562</span></a></span></strong></p>',\n",
              " '<p><span style=\"color: #ff6600;\">\\xa0<span style=\"color: #800000;\"><strong><a href=\"/17127895/%E0%B8%82%E0%B9%89%E0%B8%AD%E0%B8%A1%E0%B8%B9%E0%B8%A5%E0%B8%81%E0%B8%B2%E0%B8%A3%E0%B8%A7%E0%B8%B4%E0%B9%80%E0%B8%84%E0%B8%A3%E0%B8%B2%E0%B8%B0%E0%B8%AB%E0%B9%8C%E0%B8%81%E0%B8%B2%E0%B8%A3%E0%B8%95%E0%B8%A5%E0%B8%B2%E0%B8%94%E0%B8%AA%E0%B8%B8%E0%B8%81%E0%B8%A3%E0%B8%A1%E0%B8%B5%E0%B8%8A%E0%B8%B5%E0%B8%A7%E0%B8%B4%E0%B8%95-%E0%B8%A7%E0%B8%B1%E0%B8%99%E0%B8%9E%E0%B8%A3%E0%B8%B0%E0%B8%97%E0%B8%B5%E0%B9%88-8-%E0%B8%AA%E0%B8%B4%E0%B8%87%E0%B8%AB%E0%B8%B2%E0%B8%84%E0%B8%A1-2562\"><span style=\"color: #800000;\">วันพระที่ 8 สิงหาคม 2562</span></a></strong></span></span></p>',\n",
              " '<p><strong><span style=\"color: #800000;\"><a href=\"/17130301/%E0%B8%82%E0%B9%89%E0%B8%AD%E0%B8%A1%E0%B8%B9%E0%B8%A5%E0%B8%81%E0%B8%B2%E0%B8%A3%E0%B8%A7%E0%B8%B4%E0%B9%80%E0%B8%84%E0%B8%A3%E0%B8%B2%E0%B8%B0%E0%B8%AB%E0%B9%8C%E0%B8%81%E0%B8%B2%E0%B8%A3%E0%B8%95%E0%B8%A5%E0%B8%B2%E0%B8%94%E0%B8%AA%E0%B8%B8%E0%B8%81%E0%B8%A3%E0%B8%A1%E0%B8%B5%E0%B8%8A%E0%B8%B5%E0%B8%A7%E0%B8%B4%E0%B8%95-%E0%B8%A7%E0%B8%B1%E0%B8%99%E0%B8%9E%E0%B8%A3%E0%B8%B0%E0%B8%97%E0%B8%B5%E0%B9%88-15-%E0%B8%AA%E0%B8%B4%E0%B8%87%E0%B8%AB%E0%B8%B2%E0%B8%84%E0%B8%A1-2562?fbclid=IwAR3D_BYba4pDFRi6RivA1jwCNmoRNOzqK0NykYySefa3rua3C0qnBZVtlKs\"><span style=\"color: #800000;\">วันพระที่ 15 สิงหาคม 2562</span></a></span></strong></p>',\n",
              " '<p><strong><span style=\"color: #800000;\"><a href=\"/17132386/%E0%B8%82%E0%B9%89%E0%B8%AD%E0%B8%A1%E0%B8%B9%E0%B8%A5%E0%B8%81%E0%B8%B2%E0%B8%A3%E0%B8%A7%E0%B8%B4%E0%B9%80%E0%B8%84%E0%B8%A3%E0%B8%B2%E0%B8%B0%E0%B8%AB%E0%B9%8C%E0%B8%81%E0%B8%B2%E0%B8%A3%E0%B8%95%E0%B8%A5%E0%B8%B2%E0%B8%94%E0%B8%AA%E0%B8%B8%E0%B8%81%E0%B8%A3%E0%B8%A1%E0%B8%B5%E0%B8%8A%E0%B8%B5%E0%B8%A7%E0%B8%B4%E0%B8%95-%E0%B8%A7%E0%B8%B1%E0%B8%99%E0%B8%9E%E0%B8%A3%E0%B8%B0%E0%B8%97%E0%B8%B5%E0%B9%88-23-%E0%B8%AA%E0%B8%B4%E0%B8%87%E0%B8%AB%E0%B8%B2%E0%B8%84%E0%B8%A1-2562?fbclid=IwAR30yAJsXnTGCo7yS7HUZH4Oh3cx_l9VuP40a9yj_gCqYZeV4c6co2RFqg4\"><span style=\"color: #800000;\">วันพระที่ 23 สิงหาคม 2562</span></a></span></strong></p>',\n",
              " '<p><strong><span style=\"color: #800000;\"><a href=\"/17134719/%E0%B8%82%E0%B9%89%E0%B8%AD%E0%B8%A1%E0%B8%B9%E0%B8%A5%E0%B8%81%E0%B8%B2%E0%B8%A3%E0%B8%A7%E0%B8%B4%E0%B9%80%E0%B8%84%E0%B8%A3%E0%B8%B2%E0%B8%B0%E0%B8%AB%E0%B9%8C%E0%B8%81%E0%B8%B2%E0%B8%A3%E0%B8%95%E0%B8%A5%E0%B8%B2%E0%B8%94%E0%B8%AA%E0%B8%B8%E0%B8%81%E0%B8%A3%E0%B8%A1%E0%B8%B5%E0%B8%8A%E0%B8%B5%E0%B8%A7%E0%B8%B4%E0%B8%95-%E0%B8%A7%E0%B8%B1%E0%B8%99%E0%B8%9E%E0%B8%A3%E0%B8%B0%E0%B8%97%E0%B8%B5%E0%B9%88-29-%E0%B8%AA%E0%B8%B4%E0%B8%87%E0%B8%AB%E0%B8%B2%E0%B8%84%E0%B8%A1-2562?fbclid=IwAR0_OJDlzXvTI0lLIDjYfs4fyjTg-K-YiSEjzoHLCoj0pMucjzGY-PKGvUM\"><span style=\"color: #800000;\">วันพระที่ 29 สิงหาคม 2562</span></a></span></strong></p>',\n",
              " '<p style=\"text-align: center;\"><strong><span style=\"color: #800000;\"><a href=\"/17137600/%E0%B8%82%E0%B9%89%E0%B8%AD%E0%B8%A1%E0%B8%B9%E0%B8%A5%E0%B8%81%E0%B8%B2%E0%B8%A3%E0%B8%A7%E0%B8%B4%E0%B9%80%E0%B8%84%E0%B8%A3%E0%B8%B2%E0%B8%B0%E0%B8%AB%E0%B9%8C%E0%B8%81%E0%B8%B2%E0%B8%A3%E0%B8%95%E0%B8%A5%E0%B8%B2%E0%B8%94%E0%B8%AA%E0%B8%B8%E0%B8%81%E0%B8%A3%E0%B8%A1%E0%B8%B5%E0%B8%8A%E0%B8%B5%E0%B8%A7%E0%B8%B4%E0%B8%95-%E0%B8%A7%E0%B8%B1%E0%B8%99%E0%B8%9E%E0%B8%A3%E0%B8%B0%E0%B8%97%E0%B8%B5%E0%B9%88-6-%E0%B8%81%E0%B8%B1%E0%B8%99%E0%B8%A2%E0%B8%B2%E0%B8%A2%E0%B8%99-2562?fbclid=IwAR0Yh7NchhltpkgXgX1D-K_T59p6HZ6kYkE_870yeybVSGQeqMNfx0Vzp8M\"><span style=\"color: #800000;\">\\xa0วันพระที่ 6 กันยายน 2562</span></a></span></strong></p>',\n",
              " '<p style=\"text-align: center;\"><strong><span style=\"color: #800000;\"><a href=\"/17141109/%E0%B8%82%E0%B9%89%E0%B8%AD%E0%B8%A1%E0%B8%B9%E0%B8%A5%E0%B8%81%E0%B8%B2%E0%B8%A3%E0%B8%A7%E0%B8%B4%E0%B9%80%E0%B8%84%E0%B8%A3%E0%B8%B2%E0%B8%B0%E0%B8%AB%E0%B9%8C%E0%B8%95%E0%B8%A5%E0%B8%B2%E0%B8%94%E0%B8%AA%E0%B8%B8%E0%B8%81%E0%B8%A3%E0%B8%A1%E0%B8%B5%E0%B8%8A%E0%B8%B5%E0%B8%A7%E0%B8%B4%E0%B8%95-%E0%B8%A7%E0%B8%B1%E0%B8%99%E0%B8%9E%E0%B8%A3%E0%B8%B0%E0%B8%97%E0%B8%B5%E0%B9%88-13-%E0%B8%81%E0%B8%B1%E0%B8%99%E0%B8%A2%E0%B8%B2%E0%B8%A2%E0%B8%99-2562?fbclid=IwAR3cbR73NCaC783Ex_sWjkyyjiXCBQ-EQlLiG6u3iIfKNruqLUuOyC_nGH4\"><span style=\"color: #800000;\">วันพระที่ 13 กันยายน 2562</span></a></span></strong></p>',\n",
              " '<p style=\"text-align: center;\"><strong><span style=\"color: #800000;\"><a href=\"/17143774/ข้อมูลตลาดสุกรมีชีวิต-วันพระที่-21-กันยายน-2562\"><span style=\"color: #800000;\">วันพระที่ 21 กันยายน 2562</span></a></span></strong></p>',\n",
              " '<p style=\"text-align: center;\"><strong><span style=\"color: #800000;\"><a href=\"/17146137/%E0%B8%82%E0%B9%89%E0%B8%AD%E0%B8%A1%E0%B8%B9%E0%B8%A5%E0%B8%AA%E0%B8%A0%E0%B8%B2%E0%B8%A7%E0%B8%B0%E0%B8%95%E0%B8%A5%E0%B8%B2%E0%B8%94%E0%B8%AA%E0%B8%B8%E0%B8%81%E0%B8%A3%E0%B8%A1%E0%B8%B5%E0%B8%8A%E0%B8%B5%E0%B8%A7%E0%B8%B4%E0%B8%95-%E0%B8%A7%E0%B8%B1%E0%B8%99%E0%B8%9E%E0%B8%A3%E0%B8%B0%E0%B8%97%E0%B8%B5%E0%B9%88-28-%E0%B8%81%E0%B8%B1%E0%B8%99%E0%B8%A2%E0%B8%B2%E0%B8%A2%E0%B8%99-2562?fbclid=IwAR1UF3BZT-6I23VY3JZ-Sp4etjeJK0DvdzYzEzxju9VKzeNOBN_bTuhy0XA\"><span style=\"color: #800000;\">วันพระที่ 28 กันยายน 2562</span></a></span></strong></p>',\n",
              " '<p style=\"text-align: center;\"><span style=\"color: #ff6600;\">\\xa0<strong><span style=\"text-decoration: underline;\"><span style=\"color: #800000;\"><a href=\"/17148281/%E0%B8%82%E0%B9%89%E0%B8%AD%E0%B8%A1%E0%B8%B9%E0%B8%A5%E0%B8%AA%E0%B8%A0%E0%B8%B2%E0%B8%A7%E0%B8%B0%E0%B8%95%E0%B8%A5%E0%B8%B2%E0%B8%94%E0%B8%AA%E0%B8%B8%E0%B8%81%E0%B8%A3%E0%B8%A1%E0%B8%B5%E0%B8%8A%E0%B8%B5%E0%B8%A7%E0%B8%B4%E0%B8%95-%E0%B8%A7%E0%B8%B1%E0%B8%99%E0%B8%9E%E0%B8%A3%E0%B8%B0%E0%B8%97%E0%B8%B5%E0%B9%88-6-%E0%B8%95%E0%B8%B8%E0%B8%A5%E0%B8%B2%E0%B8%84%E0%B8%A1-2562\"><span style=\"color: #800000; text-decoration: underline;\">วันพระที่ 6 ตุลาคม 2562</span></a></span></span></strong></span></p>',\n",
              " '<p style=\"text-align: center;\"><strong><span style=\"text-decoration: underline;\"><span style=\"color: #800000;\"><a href=\"/17173640/%E0%B8%82%E0%B9%89%E0%B8%AD%E0%B8%A1%E0%B8%B9%E0%B8%A5%E0%B8%AA%E0%B8%A0%E0%B8%B2%E0%B8%A7%E0%B8%B0%E0%B8%95%E0%B8%A5%E0%B8%B2%E0%B8%94%E0%B8%AA%E0%B8%B8%E0%B8%81%E0%B8%A3%E0%B8%A1%E0%B8%B5%E0%B8%8A%E0%B8%B5%E0%B8%A7%E0%B8%B4%E0%B8%95-%E0%B8%A7%E0%B8%B1%E0%B8%99%E0%B8%9E%E0%B8%A3%E0%B8%B0%E0%B8%97%E0%B8%B5%E0%B9%88-13-%E0%B8%95%E0%B8%B8%E0%B8%A5%E0%B8%B2%E0%B8%84%E0%B8%A1-2562\"><span style=\"color: #800000; text-decoration: underline;\">วันพระที่ 13 ตุลาคม 2562</span></a></span></span></strong></p>',\n",
              " '<p style=\"text-align: center;\"><strong><span style=\"text-decoration: underline;\"><span style=\"color: #800000;\"><a href=\"/17152275/%E0%B8%82%E0%B9%89%E0%B8%AD%E0%B8%A1%E0%B8%B9%E0%B8%A5%E0%B8%AA%E0%B8%A0%E0%B8%B2%E0%B8%A7%E0%B8%B0%E0%B8%95%E0%B8%A5%E0%B8%B2%E0%B8%94%E0%B8%AA%E0%B8%B8%E0%B8%81%E0%B8%A3%E0%B8%A1%E0%B8%B5%E0%B8%8A%E0%B8%B5%E0%B8%A7%E0%B8%B4%E0%B8%95-%E0%B8%A7%E0%B8%B1%E0%B8%99%E0%B8%9E%E0%B8%A3%E0%B8%B0%E0%B8%97%E0%B8%B5%E0%B9%88-21-%E0%B8%95%E0%B8%B8%E0%B8%A5%E0%B8%B2%E0%B8%84%E0%B8%A1-2562\"><span style=\"color: #800000; text-decoration: underline;\">วันพระที่ 21 ตุลาคม 2562</span></a></span></span></strong></p>',\n",
              " '<p style=\"text-align: center;\"><strong><span style=\"text-decoration: underline;\"><span style=\"color: #800000;\"><a href=\"/17153958/%E0%B8%82%E0%B9%89%E0%B8%AD%E0%B8%A1%E0%B8%B9%E0%B8%A5%E0%B8%AA%E0%B8%A0%E0%B8%B2%E0%B8%A7%E0%B8%B0%E0%B8%95%E0%B8%A5%E0%B8%B2%E0%B8%94%E0%B8%AA%E0%B8%B8%E0%B8%81%E0%B8%A3%E0%B8%A1%E0%B8%B5%E0%B8%8A%E0%B8%B5%E0%B8%A7%E0%B8%B4%E0%B8%95-%E0%B8%A7%E0%B8%B1%E0%B8%99%E0%B8%9E%E0%B8%A3%E0%B8%B0%E0%B8%97%E0%B8%B5%E0%B9%88-27-%E0%B8%95%E0%B8%B8%E0%B8%A5%E0%B8%B2%E0%B8%84%E0%B8%A1-2562\"><span style=\"color: #800000; text-decoration: underline;\">วันพระที่ 27 ตุลาคม 2562</span></a></span></span></strong></p>',\n",
              " '<p style=\"text-align: center;\"><strong><span style=\"text-decoration: underline;\"><span style=\"color: #800000;\"><a href=\"/17156315/%E0%B8%82%E0%B9%89%E0%B8%AD%E0%B8%A1%E0%B8%B9%E0%B8%A5%E0%B8%AA%E0%B8%A0%E0%B8%B2%E0%B8%A7%E0%B8%B0%E0%B8%95%E0%B8%A5%E0%B8%B2%E0%B8%94%E0%B8%AA%E0%B8%B8%E0%B8%81%E0%B8%A3%E0%B8%A1%E0%B8%B5%E0%B8%8A%E0%B8%B5%E0%B8%A7%E0%B8%B4%E0%B8%95-%E0%B8%A7%E0%B8%B1%E0%B8%99%E0%B8%9E%E0%B8%A3%E0%B8%B0%E0%B8%97%E0%B8%B5%E0%B9%88-4-%E0%B8%9E%E0%B8%A4%E0%B8%A8%E0%B8%88%E0%B8%B4%E0%B8%81%E0%B8%B2%E0%B8%A2%E0%B8%99-2562\"><span style=\"color: #800000; text-decoration: underline;\">\\xa0วันพระที่ 4 พฤศจิกายน 2562</span></a></span></span></strong></p>',\n",
              " '<p style=\"text-align: center;\"><strong><span style=\"text-decoration: underline;\"><span style=\"color: #800000;\"><a href=\"/17159130/%E0%B8%82%E0%B9%89%E0%B8%AD%E0%B8%A1%E0%B8%B9%E0%B8%A5%E0%B8%AA%E0%B8%A0%E0%B8%B2%E0%B8%A7%E0%B8%B0%E0%B8%95%E0%B8%A5%E0%B8%B2%E0%B8%94%E0%B8%AA%E0%B8%B8%E0%B8%81%E0%B8%A3%E0%B8%A1%E0%B8%B5%E0%B8%8A%E0%B8%B5%E0%B8%A7%E0%B8%B4%E0%B8%95-%E0%B8%A7%E0%B8%B1%E0%B8%99%E0%B8%9E%E0%B8%A3%E0%B8%B0%E0%B8%97%E0%B8%B5%E0%B9%88-11-%E0%B8%9E%E0%B8%A4%E0%B8%A8%E0%B8%88%E0%B8%B4%E0%B8%81%E0%B8%B2%E0%B8%A2%E0%B8%99-2562\"><span style=\"color: #800000; text-decoration: underline;\">วันพระที่ 11 พฤศจิกายน 2562</span></a></span></span></strong></p>',\n",
              " '<p style=\"text-align: center;\"><strong><span style=\"color: #800000;\"><a href=\"/17170884/%E0%B8%82%E0%B9%89%E0%B8%AD%E0%B8%A1%E0%B8%B9%E0%B8%A5%E0%B8%AA%E0%B8%A0%E0%B8%B2%E0%B8%A7%E0%B8%B0%E0%B8%95%E0%B8%A5%E0%B8%B2%E0%B8%94%E0%B8%AA%E0%B8%B8%E0%B8%81%E0%B8%A3%E0%B8%A1%E0%B8%B5%E0%B8%8A%E0%B8%B5%E0%B8%A7%E0%B8%B4%E0%B8%95-%E0%B8%A7%E0%B8%B1%E0%B8%99%E0%B8%9E%E0%B8%A3%E0%B8%B0%E0%B8%97%E0%B8%B5%E0%B9%88-19-%E0%B8%98%E0%B8%B1%E0%B8%99%E0%B8%A7%E0%B8%B2%E0%B8%84%E0%B8%A1-2562\"><span style=\"color: #800000;\">วันพระที่ 19 พฤศจิกายน 2562</span></a></span></strong></p>',\n",
              " '<p style=\"text-align: center;\"><strong><span style=\"color: #800000;\"><a href=\"/17164234/%E0%B8%82%E0%B9%89%E0%B8%AD%E0%B8%A1%E0%B8%B9%E0%B8%A5%E0%B8%AA%E0%B8%A0%E0%B8%B2%E0%B8%A7%E0%B8%B0%E0%B8%95%E0%B8%A5%E0%B8%B2%E0%B8%94%E0%B8%AA%E0%B8%B8%E0%B8%81%E0%B8%A3%E0%B8%A1%E0%B8%B5%E0%B8%8A%E0%B8%B5%E0%B8%A7%E0%B8%B4%E0%B8%95-%E0%B8%A7%E0%B8%B1%E0%B8%99%E0%B8%9E%E0%B8%A3%E0%B8%B0%E0%B8%97%E0%B8%B5%E0%B9%88-26-%E0%B8%9E%E0%B8%A4%E0%B8%A8%E0%B8%88%E0%B8%B4%E0%B8%81%E0%B8%B2%E0%B8%A2%E0%B8%99-2562\"><span style=\"color: #800000;\">วันพระที่ 26 พฤศจิกายน 2562</span></a></span></strong></p>',\n",
              " '<p style=\"text-align: center;\"><span style=\"color: #ff6600;\">\\xa0<strong><span style=\"text-decoration: underline;\"><span style=\"color: #800000;\"><a href=\"/17166968/%E0%B8%AA%E0%B8%96%E0%B8%B2%E0%B8%99%E0%B8%81%E0%B8%B2%E0%B8%A3%E0%B8%93%E0%B9%8C%E0%B8%A3%E0%B8%B2%E0%B8%84%E0%B8%B2%E0%B8%AA%E0%B8%B8%E0%B8%81%E0%B8%A3%E0%B8%A1%E0%B8%B5%E0%B8%8A%E0%B8%B5%E0%B8%A7%E0%B8%B4%E0%B8%95%E0%B8%AB%E0%B8%99%E0%B9%89%E0%B8%B2%E0%B8%9F%E0%B8%B2%E0%B8%A3%E0%B9%8C%E0%B8%A1-%E0%B8%A7%E0%B8%B1%E0%B8%99%E0%B8%9E%E0%B8%A3%E0%B8%B0%E0%B8%97%E0%B8%B5%E0%B9%88-4-%E0%B8%98%E0%B8%B1%E0%B8%99%E0%B8%A7%E0%B8%B2%E0%B8%84%E0%B8%A1-2562\"><span style=\"color: #800000; text-decoration: underline;\">วันพระที่ 4 ธันวาคม 2562</span></a></span></span></strong></span></p>',\n",
              " '<p style=\"text-align: center;\"><strong><span style=\"text-decoration: underline;\"><span style=\"color: #800000;\"><a href=\"/17168941/%E0%B8%82%E0%B9%89%E0%B8%AD%E0%B8%A1%E0%B8%B9%E0%B8%A5%E0%B8%AA%E0%B8%A0%E0%B8%B2%E0%B8%A7%E0%B8%B0%E0%B8%95%E0%B8%A5%E0%B8%B2%E0%B8%94%E0%B8%AA%E0%B8%B8%E0%B8%81%E0%B8%A3%E0%B8%A1%E0%B8%B5%E0%B8%8A%E0%B8%B5%E0%B8%A7%E0%B8%B4%E0%B8%95-%E0%B8%A7%E0%B8%B1%E0%B8%99%E0%B8%9E%E0%B8%A3%E0%B8%B0%E0%B8%97%E0%B8%B5%E0%B9%88-11-%E0%B8%98%E0%B8%B1%E0%B8%99%E0%B8%A7%E0%B8%B2%E0%B8%84%E0%B8%A1-2562\"><span style=\"color: #800000; text-decoration: underline;\">วันพระที่ 11 ธันวาคม 2562</span></a></span></span></strong></p>',\n",
              " '<p style=\"text-align: center;\"><strong><span style=\"color: #800000;\"><a href=\"/17170884/%E0%B8%82%E0%B9%89%E0%B8%AD%E0%B8%A1%E0%B8%B9%E0%B8%A5%E0%B8%AA%E0%B8%A0%E0%B8%B2%E0%B8%A7%E0%B8%B0%E0%B8%95%E0%B8%A5%E0%B8%B2%E0%B8%94%E0%B8%AA%E0%B8%B8%E0%B8%81%E0%B8%A3%E0%B8%A1%E0%B8%B5%E0%B8%8A%E0%B8%B5%E0%B8%A7%E0%B8%B4%E0%B8%95-%E0%B8%A7%E0%B8%B1%E0%B8%99%E0%B8%9E%E0%B8%A3%E0%B8%B0%E0%B8%97%E0%B8%B5%E0%B9%88-19-%E0%B8%98%E0%B8%B1%E0%B8%99%E0%B8%A7%E0%B8%B2%E0%B8%84%E0%B8%A1-2562\"><span style=\"color: #800000;\">วันพระที่ 19 ธันวาคม 2562</span></a></span></strong></p>',\n",
              " '<p style=\"text-align: center;\"><strong><span style=\"text-decoration: underline; color: #800000;\"><a href=\"/17172370/%E0%B8%82%E0%B9%89%E0%B8%AD%E0%B8%A1%E0%B8%B9%E0%B8%A5%E0%B8%AA%E0%B8%A0%E0%B8%B2%E0%B8%A7%E0%B8%B0%E0%B8%95%E0%B8%A5%E0%B8%B2%E0%B8%94%E0%B8%AA%E0%B8%B8%E0%B8%81%E0%B8%A3%E0%B8%A1%E0%B8%B5%E0%B8%8A%E0%B8%B5%E0%B8%A7%E0%B8%B4%E0%B8%95-%E0%B8%A7%E0%B8%B1%E0%B8%99%E0%B8%9E%E0%B8%A3%E0%B8%B0%E0%B8%97%E0%B8%B5%E0%B9%88-25-%E0%B8%98%E0%B8%B1%E0%B8%99%E0%B8%A7%E0%B8%B2%E0%B8%84%E0%B8%A1-2562\"><span style=\"color: #800000; text-decoration: underline;\">วันพระที่ 25 ธันวาคม 2562</span></a></span></strong></p>',\n",
              " '<p><a href=\"/16804922/%E0%B8%A3%E0%B8%B2%E0%B8%84%E0%B8%B2%E0%B8%AA%E0%B8%B8%E0%B8%81%E0%B8%A3%E0%B8%A1%E0%B8%B5%E0%B8%8A%E0%B8%B5%E0%B8%A7%E0%B8%B4%E0%B8%95%E0%B8%AB%E0%B8%99%E0%B9%89%E0%B8%B2%E0%B8%9F%E0%B8%B2%E0%B8%A3%E0%B9%8C%E0%B8%A1%E0%B8%9E%E0%B8%A3%E0%B8%B0%E0%B8%97%E0%B8%B5%E0%B9%88-1-%E0%B8%A1%E0%B8%81%E0%B8%A3%E0%B8%B2%E0%B8%84%E0%B8%A1-2561\"><span style=\"color: #800000;\"><strong>วันพระที่\\xa0 1 มกราคม 2561</strong></span></a></p>',\n",
              " '<p><a href=\"/16809550/%E0%B8%A3%E0%B8%B2%E0%B8%84%E0%B8%B2%E0%B8%AA%E0%B8%B8%E0%B8%81%E0%B8%A3%E0%B8%A1%E0%B8%B5%E0%B8%8A%E0%B8%B5%E0%B8%A7%E0%B8%B4%E0%B8%95%E0%B8%AB%E0%B8%99%E0%B9%89%E0%B8%B2%E0%B8%9F%E0%B8%B2%E0%B8%A3%E0%B9%8C%E0%B8%A1%E0%B8%9E%E0%B8%A3%E0%B8%B0%E0%B8%97%E0%B8%B5%E0%B9%88-9-%E0%B8%A1%E0%B8%81%E0%B8%A3%E0%B8%B2%E0%B8%84%E0%B8%A1-2561\"><span style=\"color: #800000;\"><strong>วันพระที่\\xa0 9\\xa0มกราคม 2561</strong></span></a></p>',\n",
              " '<p><a href=\"/16815305/%E0%B8%A3%E0%B8%B2%E0%B8%84%E0%B8%B2%E0%B8%AA%E0%B8%B8%E0%B8%81%E0%B8%A3%E0%B8%A1%E0%B8%B5%E0%B8%8A%E0%B8%B5%E0%B8%A7%E0%B8%B4%E0%B8%95%E0%B8%AB%E0%B8%99%E0%B9%89%E0%B8%B2%E0%B8%9F%E0%B8%B2%E0%B8%A3%E0%B9%8C%E0%B8%A1%E0%B8%9E%E0%B8%A3%E0%B8%B0%E0%B8%97%E0%B8%B5%E0%B9%88-16-%E0%B8%A1%E0%B8%81%E0%B8%A3%E0%B8%B2%E0%B8%84%E0%B8%A1-2561\"><span style=\"color: #800000;\"><strong>วันพระที่ 16 มกราคม 2561</strong></span></a></p>',\n",
              " '<p><a href=\"/16822334/%E0%B8%A3%E0%B8%B2%E0%B8%84%E0%B8%B2%E0%B8%AA%E0%B8%B8%E0%B8%81%E0%B8%A3%E0%B8%A1%E0%B8%B5%E0%B8%8A%E0%B8%B5%E0%B8%A7%E0%B8%B4%E0%B8%95%E0%B8%AB%E0%B8%99%E0%B9%89%E0%B8%B2%E0%B8%9F%E0%B8%B2%E0%B8%A3%E0%B9%8C%E0%B8%A1%E0%B8%9E%E0%B8%A3%E0%B8%B0%E0%B8%97%E0%B8%B5%E0%B9%88-24-%E0%B8%A1%E0%B8%81%E0%B8%A3%E0%B8%B2%E0%B8%84%E0%B8%A1-2561\"><span style=\"color: #800000;\"><strong>วันพระที่ 24 มกราคม 2561</strong></span></a></p>',\n",
              " '<p><a href=\"/16829092/%E0%B8%A3%E0%B8%B2%E0%B8%84%E0%B8%B2%E0%B8%AA%E0%B8%B8%E0%B8%81%E0%B8%A3%E0%B8%A1%E0%B8%B5%E0%B8%8A%E0%B8%B5%E0%B8%A7%E0%B8%B4%E0%B8%95%E0%B8%AB%E0%B8%99%E0%B9%89%E0%B8%B2%E0%B8%9F%E0%B8%B2%E0%B8%A3%E0%B9%8C%E0%B8%A1%E0%B8%9E%E0%B8%A3%E0%B8%B0%E0%B8%97%E0%B8%B5%E0%B9%88-31-%E0%B8%A1%E0%B8%81%E0%B8%A3%E0%B8%B2%E0%B8%84%E0%B8%A1-2561\"><span style=\"color: #800000;\"><strong>วันพระที่ 31 มกราคม 2561</strong></span></a></p>',\n",
              " '<p><a href=\"/16838181/%E0%B8%A3%E0%B8%B2%E0%B8%84%E0%B8%B2%E0%B8%AA%E0%B8%B8%E0%B8%81%E0%B8%A3%E0%B8%A1%E0%B8%B5%E0%B8%8A%E0%B8%B5%E0%B8%A7%E0%B8%B4%E0%B8%95%E0%B8%AB%E0%B8%99%E0%B9%89%E0%B8%B2%E0%B8%9F%E0%B8%B2%E0%B8%A3%E0%B9%8C%E0%B8%A1%E0%B8%9E%E0%B8%A3%E0%B8%B0%E0%B8%97%E0%B8%B5%E0%B9%88-8-%E0%B8%81%E0%B8%B8%E0%B8%A1%E0%B8%A0%E0%B8%B2%E0%B8%9E%E0%B8%B1%E0%B8%99%E0%B8%98%E0%B9%8C-2561\"><span style=\"color: #800000;\"><strong>วันพระที่\\xa0 8 กุมภาพันธ์ 2561</strong></span></a></p>',\n",
              " '<p><a href=\"/16841826/%E0%B8%A3%E0%B8%B2%E0%B8%84%E0%B8%B2%E0%B8%AA%E0%B8%B8%E0%B8%81%E0%B8%A3%E0%B8%A1%E0%B8%B5%E0%B8%8A%E0%B8%B5%E0%B8%A7%E0%B8%B4%E0%B8%95%E0%B8%AB%E0%B8%99%E0%B9%89%E0%B8%B2%E0%B8%9F%E0%B8%B2%E0%B8%A3%E0%B9%8C%E0%B8%A1%E0%B8%9E%E0%B8%A3%E0%B8%B0%E0%B8%97%E0%B8%B5%E0%B9%88-14-%E0%B8%81%E0%B8%B8%E0%B8%A1%E0%B8%A0%E0%B8%B2%E0%B8%9E%E0%B8%B1%E0%B8%99%E0%B8%98%E0%B9%8C-2561\"><span style=\"color: #800000;\"><strong>วันพระที่ 14\\xa0กุมภาพันธ์ 2561</strong></span></a></p>',\n",
              " '<p><a href=\"/16848700/%E0%B8%A3%E0%B8%B2%E0%B8%84%E0%B8%B2%E0%B8%AA%E0%B8%B8%E0%B8%81%E0%B8%A3%E0%B8%A1%E0%B8%B5%E0%B8%8A%E0%B8%B5%E0%B8%A7%E0%B8%B4%E0%B8%95%E0%B8%AB%E0%B8%99%E0%B9%89%E0%B8%B2%E0%B8%9F%E0%B8%B2%E0%B8%A3%E0%B9%8C%E0%B8%A1%E0%B8%9E%E0%B8%A3%E0%B8%B0%E0%B8%97%E0%B8%B5%E0%B9%88-22-%E0%B8%81%E0%B8%B8%E0%B8%A1%E0%B8%A0%E0%B8%B2%E0%B8%9E%E0%B8%B1%E0%B8%99%E0%B8%98%E0%B9%8C-2561\"><span style=\"color: #800000;\"><strong>วันพระที่ 22 กุมภาพันธ์ 2561</strong></span></a></p>',\n",
              " '<p><a href=\"/16854187/%E0%B8%A3%E0%B8%B2%E0%B8%84%E0%B8%B2%E0%B8%AA%E0%B8%B8%E0%B8%81%E0%B8%A3%E0%B8%A1%E0%B8%B5%E0%B8%8A%E0%B8%B5%E0%B8%A7%E0%B8%B4%E0%B8%95%E0%B8%AB%E0%B8%99%E0%B9%89%E0%B8%B2%E0%B8%9F%E0%B8%B2%E0%B8%A3%E0%B9%8C%E0%B8%A1%E0%B8%9E%E0%B8%A3%E0%B8%B0%E0%B8%97%E0%B8%B5%E0%B9%88-1-%E0%B8%A1%E0%B8%B5%E0%B8%99%E0%B8%B2%E0%B8%84%E0%B8%A1-2561\"><span style=\"color: #800000;\"><strong>วันพระที่\\xa0 1 มีนาคม 2561</strong></span></a></p>',\n",
              " '<p><a href=\"/16866228/%E0%B8%A3%E0%B8%B2%E0%B8%84%E0%B8%B2%E0%B8%AA%E0%B8%B8%E0%B8%81%E0%B8%A3%E0%B8%A1%E0%B8%B5%E0%B8%8A%E0%B8%B5%E0%B8%A7%E0%B8%B4%E0%B8%95%E0%B8%AB%E0%B8%99%E0%B9%89%E0%B8%B2%E0%B8%9F%E0%B8%B2%E0%B8%A3%E0%B9%8C%E0%B8%A1%E0%B8%9E%E0%B8%A3%E0%B8%B0%E0%B8%97%E0%B8%B5%E0%B9%88-9-%E0%B8%A1%E0%B8%B5%E0%B8%99%E0%B8%B2%E0%B8%84%E0%B8%A1-2561\"><span style=\"color: #800000;\"><strong>วันพระที่\\xa0 9 มีนาคม 2561</strong></span></a></p>',\n",
              " '<p><a href=\"/16866188/%E0%B8%A3%E0%B8%B2%E0%B8%84%E0%B8%B2%E0%B8%AA%E0%B8%B8%E0%B8%81%E0%B8%A3%E0%B8%A1%E0%B8%B5%E0%B8%8A%E0%B8%B5%E0%B8%A7%E0%B8%B4%E0%B8%95%E0%B8%AB%E0%B8%99%E0%B9%89%E0%B8%B2%E0%B8%9F%E0%B8%B2%E0%B8%A3%E0%B9%8C%E0%B8%A1%E0%B8%9E%E0%B8%A3%E0%B8%B0%E0%B8%97%E0%B8%B5%E0%B9%88-16-%E0%B8%A1%E0%B8%B5%E0%B8%99%E0%B8%B2%E0%B8%84%E0%B8%A1-2561\"><span style=\"color: #800000;\"><strong>วันพระที่ 16 มีนาคม 2561</strong></span></a></p>',\n",
              " '<p><span style=\"color: #800000;\"><a href=\"/16872008/%E0%B8%A3%E0%B8%B2%E0%B8%84%E0%B8%B2%E0%B8%AA%E0%B8%B8%E0%B8%81%E0%B8%A3%E0%B8%A1%E0%B8%B5%E0%B8%8A%E0%B8%B5%E0%B8%A7%E0%B8%B4%E0%B8%95%E0%B8%AB%E0%B8%99%E0%B9%89%E0%B8%B2%E0%B8%9F%E0%B8%B2%E0%B8%A3%E0%B9%8C%E0%B8%A1%E0%B8%9E%E0%B8%A3%E0%B8%B0%E0%B8%97%E0%B8%B5%E0%B9%88-24-%E0%B8%A1%E0%B8%B5%E0%B8%99%E0%B8%B2%E0%B8%84%E0%B8%A1-2561\"><span style=\"color: #800000;\"><strong>วันพระที่ 24 มีนาคม 2561</strong></span></a></span></p>',\n",
              " '<p><span style=\"color: #800000;\"><a href=\"/16878078/%E0%B8%A3%E0%B8%B2%E0%B8%84%E0%B8%B2%E0%B8%AA%E0%B8%B8%E0%B8%81%E0%B8%A3%E0%B8%A1%E0%B8%B5%E0%B8%8A%E0%B8%B5%E0%B8%A7%E0%B8%B4%E0%B8%95%E0%B8%AB%E0%B8%99%E0%B9%89%E0%B8%B2%E0%B8%9F%E0%B8%B2%E0%B8%A3%E0%B9%8C%E0%B8%A1%E0%B8%9E%E0%B8%A3%E0%B8%B0%E0%B8%97%E0%B8%B5%E0%B9%88-31-%E0%B8%A1%E0%B8%B5%E0%B8%99%E0%B8%B2%E0%B8%84%E0%B8%A1-2561\"><span style=\"color: #800000;\"><strong>วันพระที่ 31 มีนาคม 2561</strong></span></a></span></p>',\n",
              " '<p><span style=\"color: #800000;\"><a href=\"/16883670/%E0%B8%A3%E0%B8%B2%E0%B8%84%E0%B8%B2%E0%B8%AA%E0%B8%B8%E0%B8%81%E0%B8%A3%E0%B8%A1%E0%B8%B5%E0%B8%8A%E0%B8%B5%E0%B8%A7%E0%B8%B4%E0%B8%95%E0%B8%AB%E0%B8%99%E0%B9%89%E0%B8%B2%E0%B8%9F%E0%B8%B2%E0%B8%A3%E0%B9%8C%E0%B8%A1%E0%B8%9E%E0%B8%A3%E0%B8%B0%E0%B8%97%E0%B8%B5%E0%B9%88-8-%E0%B9%80%E0%B8%A1%E0%B8%A9%E0%B8%B2%E0%B8%A2%E0%B8%99-2561\"><span style=\"color: #800000;\"><strong>วันพระที่\\xa0 8 เมษายน 2561</strong></span></a></span></p>',\n",
              " '<p><span style=\"color: #800000;\"><a href=\"/16887243/%E0%B8%A3%E0%B8%B2%E0%B8%84%E0%B8%B2%E0%B8%AA%E0%B8%B8%E0%B8%81%E0%B8%A3%E0%B8%A1%E0%B8%B5%E0%B8%8A%E0%B8%B5%E0%B8%A7%E0%B8%B4%E0%B8%95%E0%B8%AB%E0%B8%99%E0%B9%89%E0%B8%B2%E0%B8%9F%E0%B8%B2%E0%B8%A3%E0%B9%8C%E0%B8%A1%E0%B8%9E%E0%B8%A3%E0%B8%B0%E0%B8%97%E0%B8%B5%E0%B9%88-14-%E0%B9%80%E0%B8%A1%E0%B8%A9%E0%B8%B2%E0%B8%A2%E0%B8%99-2561\"><span style=\"color: #800000;\"><strong>วันพระที่ 14\\xa0<strong>เมษายน\\xa0</strong> 2561</strong></span></a></span></p>',\n",
              " '<p><span style=\"color: #800000;\"><a href=\"/16892023/%E0%B8%A3%E0%B8%B2%E0%B8%84%E0%B8%B2%E0%B8%AA%E0%B8%B8%E0%B8%81%E0%B8%A3%E0%B8%A1%E0%B8%B5%E0%B8%8A%E0%B8%B5%E0%B8%A7%E0%B8%B4%E0%B8%95%E0%B8%AB%E0%B8%99%E0%B9%89%E0%B8%B2%E0%B8%9F%E0%B8%B2%E0%B8%A3%E0%B9%8C%E0%B8%A1%E0%B8%9E%E0%B8%A3%E0%B8%B0%E0%B8%97%E0%B8%B5%E0%B9%88-22-%E0%B9%80%E0%B8%A1%E0%B8%A9%E0%B8%B2%E0%B8%A2%E0%B8%99-2561-\"><span style=\"color: #800000;\"><strong>วันพระที่ 22\\xa0<strong>เมษายน\\xa0</strong> 2561</strong></span></a></span></p>',\n",
              " '<p><span style=\"color: #800000;\"><a href=\"/16897503/%E0%B8%A3%E0%B8%B2%E0%B8%84%E0%B8%B2%E0%B8%AA%E0%B8%B8%E0%B8%81%E0%B8%A3%E0%B8%A1%E0%B8%B5%E0%B8%8A%E0%B8%B5%E0%B8%A7%E0%B8%B4%E0%B8%95%E0%B8%AB%E0%B8%99%E0%B9%89%E0%B8%B2%E0%B8%9F%E0%B8%B2%E0%B8%A3%E0%B9%8C%E0%B8%A1%E0%B8%9E%E0%B8%A3%E0%B8%B0%E0%B8%97%E0%B8%B5%E0%B9%88-29-%E0%B9%80%E0%B8%A1%E0%B8%A9%E0%B8%B2%E0%B8%A2%E0%B8%99-2561\"><span style=\"color: #800000;\"><strong>วันพระที่ 29\\xa0<strong>เมษายน\\xa0</strong> 2561</strong></span></a></span></p>',\n",
              " '<p><span style=\"color: #800000;\"><a href=\"/16902679/%E0%B8%A3%E0%B8%B2%E0%B8%84%E0%B8%B2%E0%B8%AA%E0%B8%B8%E0%B8%81%E0%B8%A3%E0%B8%A1%E0%B8%B5%E0%B8%8A%E0%B8%B5%E0%B8%A7%E0%B8%B4%E0%B8%95%E0%B8%AB%E0%B8%99%E0%B9%89%E0%B8%B2%E0%B8%9F%E0%B8%B2%E0%B8%A3%E0%B9%8C%E0%B8%A1%E0%B8%9E%E0%B8%A3%E0%B8%B0%E0%B8%97%E0%B8%B5%E0%B9%88-7-%E0%B8%9E%E0%B8%A4%E0%B8%A9%E0%B8%A0%E0%B8%B2%E0%B8%84%E0%B8%A1-2561\"><span style=\"color: #800000;\"><strong>วันพระที่\\xa0 \\xa07 พฤษภาคม 2561</strong></span></a></span></p>',\n",
              " '<p><span style=\"color: #800000;\"><a href=\"/16906613/%E0%B8%A3%E0%B8%B2%E0%B8%84%E0%B8%B2%E0%B8%AA%E0%B8%B8%E0%B8%81%E0%B8%A3%E0%B8%A1%E0%B8%B5%E0%B8%8A%E0%B8%B5%E0%B8%A7%E0%B8%B4%E0%B8%95%E0%B8%AB%E0%B8%99%E0%B9%89%E0%B8%B2%E0%B8%9F%E0%B8%B2%E0%B8%A3%E0%B9%8C%E0%B8%A1%E0%B8%9E%E0%B8%A3%E0%B8%B0%E0%B8%97%E0%B8%B5%E0%B9%88-14-%E0%B8%9E%E0%B8%A4%E0%B8%A9%E0%B8%A0%E0%B8%B2%E0%B8%84%E0%B8%A1-2561\"><span style=\"color: #800000;\"><strong>วันพระที่ 14<strong>\\xa0พฤษภาคม</strong> 2561</strong></span></a></span></p>',\n",
              " '<p><span style=\"color: #800000;\"><a href=\"/16911929/%E0%B8%A3%E0%B8%B2%E0%B8%84%E0%B8%B2%E0%B8%AA%E0%B8%B8%E0%B8%81%E0%B8%A3%E0%B8%A1%E0%B8%B5%E0%B8%8A%E0%B8%B5%E0%B8%A7%E0%B8%B4%E0%B8%95%E0%B8%AB%E0%B8%99%E0%B9%89%E0%B8%B2%E0%B8%9F%E0%B8%B2%E0%B8%A3%E0%B9%8C%E0%B8%A1%E0%B8%9E%E0%B8%A3%E0%B8%B0%E0%B8%97%E0%B8%B5%E0%B9%88-22-%E0%B8%9E%E0%B8%A4%E0%B8%A9%E0%B8%A0%E0%B8%B2%E0%B8%84%E0%B8%A1-2561-\"><span style=\"color: #800000;\"><strong>วันพระที่ 22<strong><strong>\\xa0พฤษภาคม</strong></strong> 2561</strong></span></a></span></p>',\n",
              " '<p><span style=\"color: #800000;\"><a href=\"/16917050/%E0%B8%A3%E0%B8%B2%E0%B8%84%E0%B8%B2%E0%B8%AA%E0%B8%B8%E0%B8%81%E0%B8%A3%E0%B8%A1%E0%B8%B5%E0%B8%8A%E0%B8%B5%E0%B8%A7%E0%B8%B4%E0%B8%95%E0%B8%AB%E0%B8%99%E0%B9%89%E0%B8%B2%E0%B8%9F%E0%B8%B2%E0%B8%A3%E0%B9%8C%E0%B8%A1%E0%B8%9E%E0%B8%A3%E0%B8%B0%E0%B8%97%E0%B8%B5%E0%B9%88-29-%E0%B8%9E%E0%B8%A4%E0%B8%A9%E0%B8%A0%E0%B8%B2%E0%B8%84%E0%B8%A1-2561\"><span style=\"color: #800000;\"><strong>วันพระที่ 29<strong><strong>\\xa0พฤษภาคม</strong></strong> 2561</strong></span></a></span></p>',\n",
              " '<p><span style=\"color: #800000;\"><a href=\"/16923123/%E0%B8%A3%E0%B8%B2%E0%B8%84%E0%B8%B2%E0%B8%AA%E0%B8%B8%E0%B8%81%E0%B8%A3%E0%B8%A1%E0%B8%B5%E0%B8%8A%E0%B8%B5%E0%B8%A7%E0%B8%B4%E0%B8%95%E0%B8%AB%E0%B8%99%E0%B9%89%E0%B8%B2%E0%B8%9F%E0%B8%B2%E0%B8%A3%E0%B9%8C%E0%B8%A1%E0%B8%9E%E0%B8%A3%E0%B8%B0%E0%B8%97%E0%B8%B5%E0%B9%88-6-%E0%B8%A1%E0%B8%B4%E0%B8%96%E0%B8%B8%E0%B8%99%E0%B8%B2%E0%B8%A2%E0%B8%99-2561\"><span style=\"color: #800000;\"><strong>วันพระที่\\xa0 6 มิถุนายน 2561</strong></span></a></span></p>',\n",
              " '<p><span style=\"color: #800000;\"><a href=\"/16927153/%E0%B8%A3%E0%B8%B2%E0%B8%84%E0%B8%B2%E0%B8%AA%E0%B8%B8%E0%B8%81%E0%B8%A3%E0%B8%A1%E0%B8%B5%E0%B8%8A%E0%B8%B5%E0%B8%A7%E0%B8%B4%E0%B8%95%E0%B8%AB%E0%B8%99%E0%B9%89%E0%B8%B2%E0%B8%9F%E0%B8%B2%E0%B8%A3%E0%B9%8C%E0%B8%A1%E0%B8%9E%E0%B8%A3%E0%B8%B0%E0%B8%97%E0%B8%B5%E0%B9%88-12-%E0%B8%A1%E0%B8%B4%E0%B8%96%E0%B8%B8%E0%B8%99%E0%B8%B2%E0%B8%A2%E0%B8%99-2561\"><span style=\"color: #800000;\"><strong>วันพระที่\\xa0<strong>12 มิถุนายน</strong> 2561</strong></span></a></span></p>',\n",
              " '<p><span style=\"color: #800000;\"><a href=\"/16933939/%E0%B8%A3%E0%B8%B2%E0%B8%84%E0%B8%B2%E0%B8%AA%E0%B8%B8%E0%B8%81%E0%B8%A3%E0%B8%A1%E0%B8%B5%E0%B8%8A%E0%B8%B5%E0%B8%A7%E0%B8%B4%E0%B8%95%E0%B8%AB%E0%B8%99%E0%B9%89%E0%B8%B2%E0%B8%9F%E0%B8%B2%E0%B8%A3%E0%B9%8C%E0%B8%A1%E0%B8%9E%E0%B8%A3%E0%B8%B0%E0%B8%97%E0%B8%B5%E0%B9%88-20-%E0%B8%A1%E0%B8%B4%E0%B8%96%E0%B8%B8%E0%B8%99%E0%B8%B2%E0%B8%A2%E0%B8%99-2561\"><span style=\"color: #800000;\"><strong>วันพระที่ 20<strong><strong>\\xa0มิถุนายน</strong></strong> 2561</strong></span></a></span></p>',\n",
              " '<p><span style=\"color: #800000;\"><a href=\"/16939493/%E0%B8%A3%E0%B8%B2%E0%B8%84%E0%B8%B2%E0%B8%AA%E0%B8%B8%E0%B8%81%E0%B8%A3%E0%B8%A1%E0%B8%B5%E0%B8%8A%E0%B8%B5%E0%B8%A7%E0%B8%B4%E0%B8%95%E0%B8%AB%E0%B8%99%E0%B9%89%E0%B8%B2%E0%B8%9F%E0%B8%B2%E0%B8%A3%E0%B9%8C%E0%B8%A1%E0%B8%9E%E0%B8%A3%E0%B8%B0%E0%B8%97%E0%B8%B5%E0%B9%88-27-%E0%B8%A1%E0%B8%B4%E0%B8%96%E0%B8%B8%E0%B8%99%E0%B8%B2%E0%B8%A2%E0%B8%99-2561\"><span style=\"color: #800000;\"><strong>วันพระที่ 27<strong><strong>\\xa0มิถุนายน</strong></strong> 2561</strong></span></a></span></p>',\n",
              " '<p><span style=\"color: #800000;\"><a href=\"/16944162/%E0%B8%A3%E0%B8%B2%E0%B8%84%E0%B8%B2%E0%B8%AA%E0%B8%B8%E0%B8%81%E0%B8%A3%E0%B8%A1%E0%B8%B5%E0%B8%8A%E0%B8%B5%E0%B8%A7%E0%B8%B4%E0%B8%95%E0%B8%AB%E0%B8%99%E0%B9%89%E0%B8%B2%E0%B8%9F%E0%B8%B2%E0%B8%A3%E0%B9%8C%E0%B8%A1%E0%B8%9E%E0%B8%A3%E0%B8%B0%E0%B8%97%E0%B8%B5%E0%B9%88-5-%E0%B8%81%E0%B8%A3%E0%B8%81%E0%B8%8E%E0%B8%B2%E0%B8%84%E0%B8%A1-2561\"><span style=\"color: #800000;\"><strong>วันพระที่\\xa0 5 กรกฎาคม 2561</strong></span></a></span></p>',\n",
              " '<p><span style=\"color: #800000;\"><a href=\"/16949130/%E0%B8%A3%E0%B8%B2%E0%B8%84%E0%B8%B2%E0%B8%AA%E0%B8%B8%E0%B8%81%E0%B8%A3%E0%B8%A1%E0%B8%B5%E0%B8%8A%E0%B8%B5%E0%B8%A7%E0%B8%B4%E0%B8%95%E0%B8%AB%E0%B8%99%E0%B9%89%E0%B8%B2%E0%B8%9F%E0%B8%B2%E0%B8%A3%E0%B9%8C%E0%B8%A1-%E0%B8%9E%E0%B8%A3%E0%B8%B0%E0%B8%97%E0%B8%B5%E0%B9%88-12-%E0%B8%81%E0%B8%A3%E0%B8%81%E0%B8%8E%E0%B8%B2%E0%B8%84%E0%B8%A1-2561\"><span style=\"color: #800000;\"><strong>วันพระที่\\xa0<strong>12 กรกฎาคม</strong> 2561</strong></span></a></span></p>',\n",
              " '<p><span style=\"color: #800000;\"><a href=\"/16955716/%E0%B8%A3%E0%B8%B2%E0%B8%84%E0%B8%B2%E0%B8%AA%E0%B8%B8%E0%B8%81%E0%B8%A3%E0%B8%A1%E0%B8%B5%E0%B8%8A%E0%B8%B5%E0%B8%A7%E0%B8%B4%E0%B8%95%E0%B8%AB%E0%B8%99%E0%B9%89%E0%B8%B2%E0%B8%9F%E0%B8%B2%E0%B8%A3%E0%B9%8C%E0%B8%A1%E0%B8%9E%E0%B8%A3%E0%B8%B0%E0%B8%97%E0%B8%B5%E0%B9%88-20-%E0%B8%81%E0%B8%A3%E0%B8%81%E0%B8%8E%E0%B8%B2%E0%B8%84%E0%B8%A1-2561\"><span style=\"color: #800000;\"><strong>วันพระที่\\xa0<strong>20 กรกฎาคม</strong> 2561</strong></span></a></span></p>',\n",
              " '<p><span style=\"color: #800000;\"><a href=\"/16960492/%E0%B8%A3%E0%B8%B2%E0%B8%84%E0%B8%B2%E0%B8%AA%E0%B8%B8%E0%B8%81%E0%B8%A3%E0%B8%A1%E0%B8%B5%E0%B8%8A%E0%B8%B5%E0%B8%A7%E0%B8%B4%E0%B8%95%E0%B8%AB%E0%B8%99%E0%B9%89%E0%B8%B2%E0%B8%9F%E0%B8%B2%E0%B8%A3%E0%B9%8C%E0%B8%A1-%E0%B8%9E%E0%B8%A3%E0%B8%B0%E0%B8%97%E0%B8%B5%E0%B9%88-27-%E0%B8%81%E0%B8%A3%E0%B8%81%E0%B8%8E%E0%B8%B2%E0%B8%84%E0%B8%A1-2561\"><span style=\"color: #800000;\"><strong>วันพระที่\\xa0<strong>27 กรกฎาคม</strong> 2561</strong></span></a></span></p>',\n",
              " '<p><span style=\"color: #800000;\"><a href=\"/16965355/%E0%B8%A3%E0%B8%B2%E0%B8%84%E0%B8%B2%E0%B8%AA%E0%B8%B8%E0%B8%81%E0%B8%A3%E0%B8%A1%E0%B8%B5%E0%B8%8A%E0%B8%B5%E0%B8%A7%E0%B8%B4%E0%B8%95%E0%B8%AB%E0%B8%99%E0%B9%89%E0%B8%B2%E0%B8%9F%E0%B8%B2%E0%B8%A3%E0%B9%8C%E0%B8%A1%E0%B8%9E%E0%B8%A3%E0%B8%B0%E0%B8%97%E0%B8%B5%E0%B9%88-4-%E0%B8%AA%E0%B8%B4%E0%B8%87%E0%B8%AB%E0%B8%B2%E0%B8%84%E0%B8%A1-2561\"><span style=\"color: #800000;\"><strong>วันพระที่\\xa0 4 สิงหาคม 2561</strong></span></a></span></p>',\n",
              " '<p><span style=\"color: #800000;\"><a href=\"/16969879/%E0%B8%A3%E0%B8%B2%E0%B8%84%E0%B8%B2%E0%B8%AA%E0%B8%B8%E0%B8%81%E0%B8%A3%E0%B8%A1%E0%B8%B5%E0%B8%8A%E0%B8%B5%E0%B8%A7%E0%B8%B4%E0%B8%95%E0%B8%AB%E0%B8%99%E0%B9%89%E0%B8%B2%E0%B8%9F%E0%B8%B2%E0%B8%A3%E0%B9%8C%E0%B8%A1%E0%B8%9E%E0%B8%A3%E0%B8%B0%E0%B8%97%E0%B8%B5%E0%B9%88-11-%E0%B8%AA%E0%B8%B4%E0%B8%87%E0%B8%AB%E0%B8%B2%E0%B8%84%E0%B8%A1-2561\"><span style=\"color: #800000;\"><strong>วันพระที่ 11<strong>\\xa0สิงหาคม</strong> 2561</strong></span></a></span></p>',\n",
              " '<p><span style=\"color: #800000;\"><a href=\"/16975108/%E0%B8%A3%E0%B8%B2%E0%B8%84%E0%B8%B2%E0%B8%AA%E0%B8%B8%E0%B8%81%E0%B8%A3%E0%B8%9E%E0%B8%A3%E0%B8%B0%E0%B8%97%E0%B8%B5%E0%B9%88-19-%E0%B8%AA%E0%B8%B4%E0%B8%87%E0%B8%AB%E0%B8%B2%E0%B8%84%E0%B8%A1-2561\"><span style=\"color: #800000;\"><strong>วันพระที่\\xa0<strong>19 สิงหาคม</strong> 2561</strong></span></a></span></p>',\n",
              " '<p><span style=\"color: #800000;\"><a href=\"/16979530/%E0%B8%A3%E0%B8%B2%E0%B8%84%E0%B8%B2%E0%B8%AA%E0%B8%B8%E0%B8%81%E0%B8%A3%E0%B8%9E%E0%B8%A3%E0%B8%B0%E0%B8%97%E0%B8%B5%E0%B9%88-26-%E0%B8%AA%E0%B8%B4%E0%B8%87%E0%B8%AB%E0%B8%B2%E0%B8%84%E0%B8%A1-2561\"><span style=\"color: #800000;\"><strong>วันพระที่\\xa0<strong>26 สิงหาคม</strong> 2561</strong></span></a></span></p>',\n",
              " '<p><span style=\"color: #800000;\"><a href=\"/16983835/%E0%B8%A3%E0%B8%B2%E0%B8%84%E0%B8%B2%E0%B8%AA%E0%B8%B8%E0%B8%81%E0%B8%A3%E0%B8%A1%E0%B8%B5%E0%B8%8A%E0%B8%B5%E0%B8%A7%E0%B8%B4%E0%B8%95%E0%B8%AB%E0%B8%99%E0%B9%89%E0%B8%B2%E0%B8%9F%E0%B8%B2%E0%B8%A3%E0%B9%8C%E0%B8%A1-%E0%B8%9E%E0%B8%A3%E0%B8%B0%E0%B8%97%E0%B8%B5%E0%B9%88-3-%E0%B8%81%E0%B8%B1%E0%B8%99%E0%B8%A2%E0%B8%B2%E0%B8%A2%E0%B8%99-2561\"><span style=\"color: #800000;\"><strong>วันพระที่\\xa0 3 กันยายน 2561</strong></span></a></span></p>',\n",
              " '<p><span style=\"color: #800000;\"><a href=\"/16988193/%E0%B8%A3%E0%B8%B2%E0%B8%84%E0%B8%B2%E0%B8%AA%E0%B8%B8%E0%B8%81%E0%B8%A3%E0%B8%A1%E0%B8%B5%E0%B8%8A%E0%B8%B5%E0%B8%A7%E0%B8%B4%E0%B8%95%E0%B8%AB%E0%B8%99%E0%B9%89%E0%B8%B2%E0%B8%9F%E0%B8%B2%E0%B8%A3%E0%B9%8C%E0%B8%A1%E0%B8%A7%E0%B8%B1%E0%B8%99%E0%B8%9E%E0%B8%A3%E0%B8%B0%E0%B8%97%E0%B8%B5%E0%B9%88-9-%E0%B8%81%E0%B8%B1%E0%B8%99%E0%B8%A2%E0%B8%B2%E0%B8%A2%E0%B8%99-2561\"><span style=\"color: #800000;\"><strong>วันพระที่\\xa0 9<strong>\\xa0กันยายน</strong> 2561</strong></span></a></span></p>',\n",
              " '<p><span style=\"color: #800000;\"><a href=\"/16993688/%E0%B8%A3%E0%B8%B2%E0%B8%84%E0%B8%B2%E0%B8%AA%E0%B8%B8%E0%B8%81%E0%B8%A3%E0%B8%A1%E0%B8%B5%E0%B8%8A%E0%B8%B5%E0%B8%A7%E0%B8%B4%E0%B8%95%E0%B8%AB%E0%B8%99%E0%B9%89%E0%B8%B2%E0%B8%9F%E0%B8%B2%E0%B8%A3%E0%B9%8C%E0%B8%A1%E0%B8%9E%E0%B8%A3%E0%B8%B0%E0%B8%97%E0%B8%B5%E0%B9%88-17-%E0%B8%81%E0%B8%B1%E0%B8%99%E0%B8%A2%E0%B8%B2%E0%B8%A2%E0%B8%99-2561\"><span style=\"color: #800000;\"><strong>วันพระที่ 17<strong>\\xa0กันยายน</strong> 2561</strong></span></a></span></p>',\n",
              " '<p><span style=\"color: #800000;\"><a href=\"/16998363/%E0%B8%A3%E0%B8%B2%E0%B8%84%E0%B8%B2%E0%B8%AA%E0%B8%B8%E0%B8%81%E0%B8%A3%E0%B8%A1%E0%B8%B5%E0%B8%8A%E0%B8%B5%E0%B8%A7%E0%B8%B4%E0%B8%95%E0%B8%AB%E0%B8%99%E0%B9%89%E0%B8%B2%E0%B8%9F%E0%B8%B2%E0%B8%A3%E0%B9%8C%E0%B8%A1%E0%B8%9E%E0%B8%A3%E0%B8%B0%E0%B8%97%E0%B8%B5%E0%B9%88-24-%E0%B8%81%E0%B8%B1%E0%B8%99%E0%B8%A2%E0%B8%B2%E0%B8%A2%E0%B8%99-2561\"><span style=\"color: #800000;\"><strong>วันพระที่ 24<strong>\\xa0กันยายน</strong> 2561</strong></span></a></span></p>',\n",
              " '<p><span style=\"color: #800000;\"><a href=\"/17003646/%E0%B8%A3%E0%B8%B2%E0%B8%84%E0%B8%B2%E0%B8%AA%E0%B8%B8%E0%B8%81%E0%B8%A3%E0%B8%A1%E0%B8%B5%E0%B8%8A%E0%B8%B5%E0%B8%A7%E0%B8%B4%E0%B8%95%E0%B8%AB%E0%B8%99%E0%B9%89%E0%B8%B2%E0%B8%9F%E0%B8%B2%E0%B8%A3%E0%B9%8C%E0%B8%A1%E0%B8%A7%E0%B8%B1%E0%B8%99%E0%B8%9E%E0%B8%A3%E0%B8%B0%E0%B8%97%E0%B8%B5%E0%B9%88-2-%E0%B8%95%E0%B8%B8%E0%B8%A5%E0%B8%B2%E0%B8%84%E0%B8%A1-2561\"><span style=\"color: #800000;\"><strong>วันพระที่ 2 ตุลาคม 2561</strong></span></a></span></p>',\n",
              " '<p><span style=\"color: #800000;\"><a href=\"/17008483/%E0%B8%A3%E0%B8%B2%E0%B8%84%E0%B8%B2%E0%B8%AA%E0%B8%B8%E0%B8%81%E0%B8%A3%E0%B8%A1%E0%B8%B5%E0%B8%8A%E0%B8%B5%E0%B8%A7%E0%B8%B4%E0%B8%95%E0%B8%AB%E0%B8%99%E0%B9%89%E0%B8%B2%E0%B8%9F%E0%B8%B2%E0%B8%A3%E0%B9%8C%E0%B8%A1-%E0%B8%A7%E0%B8%B1%E0%B8%99%E0%B8%9E%E0%B8%A3%E0%B8%B0%E0%B8%97%E0%B8%B5%E0%B9%88-9-%E0%B8%95%E0%B8%B8%E0%B8%A5%E0%B8%B2%E0%B8%84%E0%B8%A1-2561\"><span style=\"color: #800000;\"><strong>วันพระที่ 9\\xa0<strong>ตุลาคม</strong> 2561</strong></span></a></span></p>',\n",
              " '<p><span style=\"color: #800000;\"><a href=\"/17012600/%E0%B8%A3%E0%B8%B2%E0%B8%84%E0%B8%B2%E0%B8%AA%E0%B8%B8%E0%B8%81%E0%B8%A3%E0%B8%A1%E0%B8%B5%E0%B8%8A%E0%B8%B5%E0%B8%A7%E0%B8%B4%E0%B8%95%E0%B8%AB%E0%B8%99%E0%B9%89%E0%B8%B2%E0%B8%9F%E0%B8%B2%E0%B8%A3%E0%B9%8C%E0%B8%A1-%E0%B8%A7%E0%B8%B1%E0%B8%99%E0%B8%9E%E0%B8%A3%E0%B8%B0%E0%B8%97%E0%B8%B5%E0%B9%88-17-%E0%B8%95%E0%B8%B8%E0%B8%A5%E0%B8%B2%E0%B8%84%E0%B8%A1-2561\"><span style=\"color: #800000;\"><strong>วันพระที่ 17\\xa0<strong>ตุลาคม</strong> 2561</strong></span></a></span></p>',\n",
              " '<p><span style=\"color: #800000;\"><a href=\"/17016026/%E0%B8%A3%E0%B8%B2%E0%B8%84%E0%B8%B2%E0%B8%AA%E0%B8%B8%E0%B8%81%E0%B8%A3%E0%B8%A1%E0%B8%B5%E0%B8%8A%E0%B8%B5%E0%B8%A7%E0%B8%B4%E0%B8%95%E0%B8%AB%E0%B8%99%E0%B9%89%E0%B8%B2%E0%B8%9F%E0%B8%B2%E0%B8%A3%E0%B9%8C%E0%B8%A1-%E0%B8%A7%E0%B8%B1%E0%B8%99%E0%B8%9E%E0%B8%A3%E0%B8%B0%E0%B8%97%E0%B8%B5%E0%B9%88-24-%E0%B8%95%E0%B8%B8%E0%B8%A5%E0%B8%B2%E0%B8%84%E0%B8%A1-2561\"><span style=\"color: #800000;\"><strong>วันพระที่ 24\\xa0<strong>ตุลาคม</strong> 2561</strong></span></a></span></p>',\n",
              " '<p><span style=\"color: #800000;\"><a href=\"/17020988/%E0%B8%A3%E0%B8%B2%E0%B8%84%E0%B8%B2%E0%B8%AA%E0%B8%B8%E0%B8%81%E0%B8%A3%E0%B8%A1%E0%B8%B5%E0%B8%8A%E0%B8%B5%E0%B8%A7%E0%B8%B4%E0%B8%95%E0%B8%AB%E0%B8%99%E0%B9%89%E0%B8%B2%E0%B8%9F%E0%B8%B2%E0%B8%A3%E0%B9%8C%E0%B8%A1-%E0%B8%A7%E0%B8%B1%E0%B8%99%E0%B8%9E%E0%B8%A3%E0%B8%B0%E0%B8%97%E0%B8%B5%E0%B9%88-1-%E0%B8%9E%E0%B8%A4%E0%B8%A8%E0%B8%88%E0%B8%B4%E0%B8%81%E0%B8%B2%E0%B8%A2%E0%B8%99-2561\"><span style=\"color: #800000;\"><strong>วันพระที่\\xa0 1 พฤศจิกายน 2561</strong></span></a></span></p>',\n",
              " '<p><span style=\"color: #800000;\"><a href=\"/17023875/%E0%B8%A3%E0%B8%B2%E0%B8%84%E0%B8%B2%E0%B8%AA%E0%B8%B8%E0%B8%81%E0%B8%A3%E0%B8%A1%E0%B8%B5%E0%B8%8A%E0%B8%B5%E0%B8%A7%E0%B8%B4%E0%B8%95%E0%B8%AB%E0%B8%99%E0%B9%89%E0%B8%B2%E0%B8%9F%E0%B8%B2%E0%B8%A3%E0%B9%8C%E0%B8%A1-%E0%B8%A7%E0%B8%B1%E0%B8%99%E0%B8%9E%E0%B8%A3%E0%B8%B0%E0%B8%97%E0%B8%B5%E0%B9%88-7-%E0%B8%9E%E0%B8%A4%E0%B8%A8%E0%B8%88%E0%B8%B4%E0%B8%81%E0%B8%B2%E0%B8%A2%E0%B8%99-2561\"><span style=\"color: #800000;\"><strong>วันพระที่\\xa0 7<strong>\\xa0พฤศจิกายน</strong> 2561</strong></span></a></span></p>',\n",
              " '<p><span style=\"color: #800000;\"><a href=\"/17028843/%E0%B8%A3%E0%B8%B2%E0%B8%84%E0%B8%B2%E0%B8%AA%E0%B8%B8%E0%B8%81%E0%B8%A3%E0%B8%A1%E0%B8%B5%E0%B8%8A%E0%B8%B5%E0%B8%A7%E0%B8%B4%E0%B8%95%E0%B8%AB%E0%B8%99%E0%B9%89%E0%B8%B2%E0%B8%9F%E0%B8%B2%E0%B8%A3%E0%B9%8C%E0%B8%A1-%E0%B8%A7%E0%B8%B1%E0%B8%99%E0%B8%9E%E0%B8%A3%E0%B8%B0%E0%B8%97%E0%B8%B5%E0%B9%88-15-%E0%B8%9E%E0%B8%A4%E0%B8%A8%E0%B8%88%E0%B8%B4%E0%B8%81%E0%B8%B2%E0%B8%A2%E0%B8%99-2561\"><span style=\"color: #800000;\"><strong>วันพระที่\\xa0<strong>15 พฤศจิกายน</strong> 2561</strong></span></a></span></p>',\n",
              " '<p><span style=\"color: #800000;\"><a href=\"/17033860/%E0%B8%A3%E0%B8%B2%E0%B8%84%E0%B8%B2%E0%B8%AA%E0%B8%B8%E0%B8%81%E0%B8%A3%E0%B8%A1%E0%B8%B5%E0%B8%8A%E0%B8%B5%E0%B8%A7%E0%B8%B4%E0%B8%95%E0%B8%AB%E0%B8%99%E0%B9%89%E0%B8%B2%E0%B8%9F%E0%B8%B2%E0%B8%A3%E0%B9%8C%E0%B8%A1-%E0%B8%A7%E0%B8%B1%E0%B8%99%E0%B8%9E%E0%B8%A3%E0%B8%B0%E0%B8%97%E0%B8%B5%E0%B9%88-22-%E0%B8%9E%E0%B8%A4%E0%B8%A8%E0%B8%88%E0%B8%B4%E0%B8%81%E0%B8%B2%E0%B8%A2%E0%B8%99-2561\"><span style=\"color: #800000;\"><strong>วันพระที่\\xa0<strong>22 พฤศจิกายน</strong> 2561</strong></span></a></span></p>',\n",
              " '<p><span style=\"color: #800000;\"><a href=\"/17039067/%E0%B8%A3%E0%B8%B2%E0%B8%84%E0%B8%B2%E0%B8%AA%E0%B8%B8%E0%B8%81%E0%B8%A3%E0%B8%A1%E0%B8%B5%E0%B8%8A%E0%B8%B5%E0%B8%A7%E0%B8%B4%E0%B8%95%E0%B8%AB%E0%B8%99%E0%B9%89%E0%B8%B2%E0%B8%9F%E0%B8%B2%E0%B8%A3%E0%B9%8C%E0%B8%A1-%E0%B8%A7%E0%B8%B1%E0%B8%99%E0%B8%9E%E0%B8%A3%E0%B8%B0%E0%B8%97%E0%B8%B5%E0%B9%88-30-%E0%B8%9E%E0%B8%A4%E0%B8%A8%E0%B8%88%E0%B8%B4%E0%B8%81%E0%B8%B2%E0%B8%A2%E0%B8%99-2561\"><span style=\"color: #800000;\"><strong><strong>วันพระที่ 30<strong>\\xa0พฤศจิกายน</strong>\\xa02561</strong></strong></span></a></span></p>',\n",
              " '<p><span style=\"color: #800000;\"><a href=\"/17045913/%E0%B8%AA%E0%B8%96%E0%B8%B2%E0%B8%99%E0%B8%81%E0%B8%B2%E0%B8%A3%E0%B8%93%E0%B9%8C%E0%B8%A3%E0%B8%B2%E0%B8%84%E0%B8%B2%E0%B8%AA%E0%B8%B8%E0%B8%81%E0%B8%A3%E0%B8%A1%E0%B8%B5%E0%B8%8A%E0%B8%B5%E0%B8%A7%E0%B8%B4%E0%B8%95%E0%B8%AB%E0%B8%99%E0%B9%89%E0%B8%B2%E0%B8%9F%E0%B8%B2%E0%B8%A3%E0%B9%8C%E0%B8%A1-%E0%B8%A7%E0%B8%B1%E0%B8%99%E0%B8%9E%E0%B8%A3%E0%B8%B0%E0%B8%97%E0%B8%B5%E0%B9%88-7-%E0%B8%98%E0%B8%B1%E0%B8%99%E0%B8%A7%E0%B8%B2%E0%B8%84%E0%B8%A1-2561-\"><span style=\"color: #800000;\"><strong>วันพระที่ 7 ธันวาคม 2561</strong></span></a></span></p>',\n",
              " '<p><span style=\"color: #800000;\"><a href=\"/17046567/%E0%B8%AA%E0%B8%96%E0%B8%B2%E0%B8%99%E0%B8%81%E0%B8%B2%E0%B8%A3%E0%B8%93%E0%B9%8C%E0%B8%A3%E0%B8%B2%E0%B8%84%E0%B8%B2%E0%B8%AA%E0%B8%B8%E0%B8%81%E0%B8%A3%E0%B8%A1%E0%B8%B5%E0%B8%8A%E0%B8%B5%E0%B8%A7%E0%B8%B4%E0%B8%95%E0%B8%AB%E0%B8%99%E0%B9%89%E0%B8%B2%E0%B8%9F%E0%B8%B2%E0%B8%A3%E0%B9%8C%E0%B8%A1-%E0%B8%A7%E0%B8%B1%E0%B8%99%E0%B8%9E%E0%B8%A3%E0%B8%B0%E0%B8%97%E0%B8%B5%E0%B9%88-15-%E0%B8%98%E0%B8%B1%E0%B8%99%E0%B8%A7%E0%B8%B2%E0%B8%84%E0%B8%A1-2561\"><span style=\"color: #800000;\"><strong>วันพระที่ 15\\xa0<strong>ธันวาคม</strong> 2561</strong></span></a></span></p>',\n",
              " '<p><span style=\"color: #800000;\"><a href=\"/17052797/%E0%B8%AA%E0%B8%96%E0%B8%B2%E0%B8%99%E0%B8%81%E0%B8%B2%E0%B8%A3%E0%B8%93%E0%B9%8C%E0%B8%A3%E0%B8%B2%E0%B8%84%E0%B8%B2%E0%B8%AA%E0%B8%B8%E0%B8%81%E0%B8%A3%E0%B8%A1%E0%B8%B5%E0%B8%8A%E0%B8%B5%E0%B8%A7%E0%B8%B4%E0%B8%95%E0%B8%AB%E0%B8%99%E0%B9%89%E0%B8%B2%E0%B8%9F%E0%B8%B2%E0%B8%A3%E0%B9%8C%E0%B8%A1-%E0%B8%A7%E0%B8%B1%E0%B8%99%E0%B8%9E%E0%B8%A3%E0%B8%B0%E0%B8%97%E0%B8%B5%E0%B9%88-22-%E0%B8%98%E0%B8%B1%E0%B8%99%E0%B8%A7%E0%B8%B2%E0%B8%84%E0%B8%A1-2561\"><span style=\"color: #800000;\"><strong>วันพระที่ 22\\xa0<strong>ธันวาคม</strong> 2561</strong></span></a></span></p>',\n",
              " '<p><span style=\"color: #800000;\"><a href=\"/17052790/%E0%B8%AA%E0%B8%96%E0%B8%B2%E0%B8%99%E0%B8%81%E0%B8%B2%E0%B8%A3%E0%B8%93%E0%B9%8C%E0%B8%A3%E0%B8%B2%E0%B8%84%E0%B8%B2%E0%B8%AA%E0%B8%B8%E0%B8%81%E0%B8%A3%E0%B8%A1%E0%B8%B5%E0%B8%8A%E0%B8%B5%E0%B8%A7%E0%B8%B4%E0%B8%95%E0%B8%AB%E0%B8%99%E0%B9%89%E0%B8%B2%E0%B8%9F%E0%B8%B2%E0%B8%A3%E0%B9%8C%E0%B8%A1-%E0%B8%A7%E0%B8%B1%E0%B8%99%E0%B8%9E%E0%B8%A3%E0%B8%B0%E0%B8%97%E0%B8%B5%E0%B9%88-30-%E0%B8%98%E0%B8%B1%E0%B8%99%E0%B8%A7%E0%B8%B2%E0%B8%84%E0%B8%A1-2561\"><span style=\"color: #800000;\"><strong>วันพระที่ 30\\xa0<strong>ธันวาคม</strong> 2561</strong></span></a></span></p>']"
            ]
          },
          "metadata": {},
          "execution_count": 33
        }
      ]
    },
    {
      "cell_type": "code",
      "metadata": {
        "id": "LnOWAO6JaBDs"
      },
      "source": [
        "links = []\n",
        "for i in t:\n",
        "  links.append('https://www.swinethailand.com/'+i.split('href=\"')[1].split('\"')[0])"
      ],
      "execution_count": null,
      "outputs": []
    },
    {
      "cell_type": "code",
      "metadata": {
        "id": "VMBw2gdLcIyA"
      },
      "source": [
        "links = []\n",
        "dts = []\n",
        "for i in t:\n",
        "  if len(i.split('วันพระที่')) > 1:\n",
        "    dts.append(i.split('วันพระที่')[1].replace('</strong>','').replace('<strong>','').split('<')[0])\n",
        "    links.append('https://www.swinethailand.com/'+i.split('href=\"')[1].split('\"')[0])"
      ],
      "execution_count": null,
      "outputs": []
    },
    {
      "cell_type": "code",
      "metadata": {
        "id": "bwuk7eSzdws9"
      },
      "source": [
        "d = []\n",
        "for dt in dts:\n",
        "  d.append(dt.strip().replace('-','').replace('\"','').replace('>',''))"
      ],
      "execution_count": null,
      "outputs": []
    },
    {
      "cell_type": "markdown",
      "metadata": {
        "id": "KI1QQCQZJq5a"
      },
      "source": [
        "# Web Scrapping Img Links"
      ]
    },
    {
      "cell_type": "code",
      "metadata": {
        "id": "TODqmDlmUgTI"
      },
      "source": [
        "imgs = []\n",
        "for link in links:\n",
        "  res = requests.get(link)\n",
        "  #time.sleep(3)\n",
        "  soup = BeautifulSoup(res.content, \"lxml\")\n",
        "  #time.sleep(3)\n",
        "  p = soup.find_all(\"div\",{\"class\":\"image-wrapper\"})\n",
        "  #print(p, len(p))\n",
        "  # for i in p:\n",
        "  #   if 'img' in str(i):\n",
        "  #     print(str(i))\n",
        "  img = \"https://v3i.rweb-images.com/www.swinethailand.com\"+str(p).split('\\n')[1].split('\"')[1]\n",
        "  imgs.append(img)\n",
        "  #print(p)\n",
        "  #soups.append(p)"
      ],
      "execution_count": null,
      "outputs": []
    },
    {
      "cell_type": "markdown",
      "metadata": {
        "id": "LCRtbzuwK5GM"
      },
      "source": [
        "# Img to Text"
      ]
    },
    {
      "cell_type": "code",
      "metadata": {
        "colab": {
          "base_uri": "https://localhost:8080/"
        },
        "id": "jcnZuQRbpqd5",
        "outputId": "8dd961bc-9709-4594-943b-8b70bf85d91d"
      },
      "source": [
        "!sudo apt install tesseract-ocr-tha"
      ],
      "execution_count": null,
      "outputs": [
        {
          "output_type": "stream",
          "name": "stdout",
          "text": [
            "Reading package lists... Done\n",
            "Building dependency tree       \n",
            "Reading state information... Done\n",
            "The following additional packages will be installed:\n",
            "  tesseract-ocr tesseract-ocr-eng tesseract-ocr-osd\n",
            "The following NEW packages will be installed:\n",
            "  tesseract-ocr tesseract-ocr-eng tesseract-ocr-osd tesseract-ocr-tha\n",
            "0 upgraded, 4 newly installed, 0 to remove and 37 not upgraded.\n",
            "Need to get 5,693 kB of archives.\n",
            "After this operation, 16.9 MB of additional disk space will be used.\n",
            "Get:1 http://archive.ubuntu.com/ubuntu bionic/universe amd64 tesseract-ocr-eng all 4.00~git24-0e00fe6-1.2 [1,588 kB]\n",
            "Get:2 http://archive.ubuntu.com/ubuntu bionic/universe amd64 tesseract-ocr-osd all 4.00~git24-0e00fe6-1.2 [2,989 kB]\n",
            "Get:3 http://archive.ubuntu.com/ubuntu bionic/universe amd64 tesseract-ocr amd64 4.00~git2288-10f4998a-2 [218 kB]\n",
            "Get:4 http://archive.ubuntu.com/ubuntu bionic/universe amd64 tesseract-ocr-tha all 4.00~git24-0e00fe6-1.2 [898 kB]\n",
            "Fetched 5,693 kB in 0s (16.6 MB/s)\n",
            "debconf: unable to initialize frontend: Dialog\n",
            "debconf: (No usable dialog-like program is installed, so the dialog based frontend cannot be used. at /usr/share/perl5/Debconf/FrontEnd/Dialog.pm line 76, <> line 4.)\n",
            "debconf: falling back to frontend: Readline\n",
            "debconf: unable to initialize frontend: Readline\n",
            "debconf: (This frontend requires a controlling tty.)\n",
            "debconf: falling back to frontend: Teletype\n",
            "dpkg-preconfigure: unable to re-open stdin: \n",
            "Selecting previously unselected package tesseract-ocr-eng.\n",
            "(Reading database ... 155413 files and directories currently installed.)\n",
            "Preparing to unpack .../tesseract-ocr-eng_4.00~git24-0e00fe6-1.2_all.deb ...\n",
            "Unpacking tesseract-ocr-eng (4.00~git24-0e00fe6-1.2) ...\n",
            "Selecting previously unselected package tesseract-ocr-osd.\n",
            "Preparing to unpack .../tesseract-ocr-osd_4.00~git24-0e00fe6-1.2_all.deb ...\n",
            "Unpacking tesseract-ocr-osd (4.00~git24-0e00fe6-1.2) ...\n",
            "Selecting previously unselected package tesseract-ocr.\n",
            "Preparing to unpack .../tesseract-ocr_4.00~git2288-10f4998a-2_amd64.deb ...\n",
            "Unpacking tesseract-ocr (4.00~git2288-10f4998a-2) ...\n",
            "Selecting previously unselected package tesseract-ocr-tha.\n",
            "Preparing to unpack .../tesseract-ocr-tha_4.00~git24-0e00fe6-1.2_all.deb ...\n",
            "Unpacking tesseract-ocr-tha (4.00~git24-0e00fe6-1.2) ...\n",
            "Setting up tesseract-ocr-osd (4.00~git24-0e00fe6-1.2) ...\n",
            "Setting up tesseract-ocr-eng (4.00~git24-0e00fe6-1.2) ...\n",
            "Setting up tesseract-ocr (4.00~git2288-10f4998a-2) ...\n",
            "Setting up tesseract-ocr-tha (4.00~git24-0e00fe6-1.2) ...\n",
            "Processing triggers for man-db (2.8.3-2ubuntu0.1) ...\n"
          ]
        }
      ]
    },
    {
      "cell_type": "code",
      "metadata": {
        "colab": {
          "base_uri": "https://localhost:8080/"
        },
        "id": "wfn229PmVnC1",
        "outputId": "7bfde4ba-1b10-45e0-ef83-593e8dad6d25"
      },
      "source": [
        "!pip install pytesseract"
      ],
      "execution_count": null,
      "outputs": [
        {
          "output_type": "stream",
          "name": "stdout",
          "text": [
            "Collecting pytesseract\n",
            "  Downloading pytesseract-0.3.8.tar.gz (14 kB)\n",
            "Requirement already satisfied: Pillow in /usr/local/lib/python3.7/dist-packages (from pytesseract) (7.1.2)\n",
            "Building wheels for collected packages: pytesseract\n",
            "  Building wheel for pytesseract (setup.py) ... \u001b[?25l\u001b[?25hdone\n",
            "  Created wheel for pytesseract: filename=pytesseract-0.3.8-py2.py3-none-any.whl size=14072 sha256=5b953324da586dc9b7b129ec51f570d74740b44817d2b5ee1f4604147ee9a0c5\n",
            "  Stored in directory: /root/.cache/pip/wheels/a4/89/b9/3f11250225d0f90e5454fcc30fd1b7208db226850715aa9ace\n",
            "Successfully built pytesseract\n",
            "Installing collected packages: pytesseract\n",
            "Successfully installed pytesseract-0.3.8\n"
          ]
        }
      ]
    },
    {
      "cell_type": "code",
      "metadata": {
        "id": "NS5w1-y0vNQt"
      },
      "source": [
        "import pytesseract\n",
        "import shutil\n",
        "import os\n",
        "import random\n",
        "from PIL import Image\n",
        "import requests\n",
        "from io import BytesIO"
      ],
      "execution_count": null,
      "outputs": []
    },
    {
      "cell_type": "code",
      "metadata": {
        "id": "6qBuKsONxVXC"
      },
      "source": [
        "texts = []\n",
        "for img in imgs:\n",
        "  response = requests.get(img)\n",
        "  extractedInformation = pytesseract.image_to_string(Image.open(BytesIO(response.content)),'tha')\n",
        "  texts.append(extractedInformation)"
      ],
      "execution_count": null,
      "outputs": []
    },
    {
      "cell_type": "code",
      "metadata": {
        "colab": {
          "base_uri": "https://localhost:8080/"
        },
        "id": "fulu25exhWtI",
        "outputId": "a1c21101-cab4-44fe-d33f-4739b58d2c35"
      },
      "source": [
        "len(d)"
      ],
      "execution_count": null,
      "outputs": [
        {
          "output_type": "execute_result",
          "data": {
            "text/plain": [
              "184"
            ]
          },
          "metadata": {},
          "execution_count": 51
        }
      ]
    },
    {
      "cell_type": "code",
      "metadata": {
        "colab": {
          "base_uri": "https://localhost:8080/"
        },
        "id": "rOwl6uvYhYWV",
        "outputId": "fcdf0b8f-faa1-4569-828d-81a6e8407ce5"
      },
      "source": [
        "len(links)"
      ],
      "execution_count": null,
      "outputs": [
        {
          "output_type": "execute_result",
          "data": {
            "text/plain": [
              "184"
            ]
          },
          "metadata": {},
          "execution_count": 52
        }
      ]
    },
    {
      "cell_type": "code",
      "metadata": {
        "colab": {
          "base_uri": "https://localhost:8080/"
        },
        "id": "05A1j4-jhZ6V",
        "outputId": "a142ae54-a817-43ff-fcfe-6edbac12f26e"
      },
      "source": [
        "len(imgs)"
      ],
      "execution_count": null,
      "outputs": [
        {
          "output_type": "execute_result",
          "data": {
            "text/plain": [
              "184"
            ]
          },
          "metadata": {},
          "execution_count": 53
        }
      ]
    },
    {
      "cell_type": "code",
      "metadata": {
        "colab": {
          "base_uri": "https://localhost:8080/"
        },
        "id": "896njTpJhbWz",
        "outputId": "9bb802f4-ba3b-498a-f6e7-58ea42a9215f"
      },
      "source": [
        "len(texts)"
      ],
      "execution_count": null,
      "outputs": [
        {
          "output_type": "execute_result",
          "data": {
            "text/plain": [
              "184"
            ]
          },
          "metadata": {},
          "execution_count": 54
        }
      ]
    },
    {
      "cell_type": "markdown",
      "metadata": {
        "id": "KoAXlYjLV6GS"
      },
      "source": [
        "# Text Processing"
      ]
    },
    {
      "cell_type": "code",
      "metadata": {
        "id": "4qXIOUsuXTTr"
      },
      "source": [
        "splts = []\n",
        "for text in texts:\n",
        "  splts.append(text.replace('\\x0c','').split('\\n'))"
      ],
      "execution_count": null,
      "outputs": []
    },
    {
      "cell_type": "code",
      "metadata": {
        "id": "yD7xMz78X3xJ"
      },
      "source": [
        "clns = []\n",
        "for splt in splts:\n",
        "  words = []\n",
        "  for i in splt:\n",
        "    i = i.strip()\n",
        "    if i == '' or i == ' ':\n",
        "      pass\n",
        "    else:\n",
        "      words.append(i)\n",
        "  clns.append(words)"
      ],
      "execution_count": null,
      "outputs": []
    },
    {
      "cell_type": "code",
      "metadata": {
        "colab": {
          "base_uri": "https://localhost:8080/"
        },
        "id": "kd1l1_Lvhips",
        "outputId": "cb26a074-7c10-4bd2-99ad-4d00878d92eb"
      },
      "source": [
        "len(clns)"
      ],
      "execution_count": null,
      "outputs": [
        {
          "output_type": "execute_result",
          "data": {
            "text/plain": [
              "184"
            ]
          },
          "metadata": {},
          "execution_count": 58
        }
      ]
    },
    {
      "cell_type": "code",
      "metadata": {
        "id": "l_8gM8nzpFeA"
      },
      "source": [
        "cln2 = []\n",
        "dd = []\n",
        "for i in range(len(clns)):\n",
        "  temp = ' '.join(clns[i])\n",
        "  if 'ภาค' in temp:\n",
        "    cln2.append(clns[i])\n",
        "    dd.append(d[i])"
      ],
      "execution_count": null,
      "outputs": []
    },
    {
      "cell_type": "code",
      "metadata": {
        "colab": {
          "base_uri": "https://localhost:8080/"
        },
        "id": "8pY5ww3ziRny",
        "outputId": "329221c8-7895-4461-8319-fe77d146eb7d"
      },
      "source": [
        "len(cln2)"
      ],
      "execution_count": null,
      "outputs": [
        {
          "output_type": "execute_result",
          "data": {
            "text/plain": [
              "136"
            ]
          },
          "metadata": {},
          "execution_count": 60
        }
      ]
    },
    {
      "cell_type": "code",
      "metadata": {
        "colab": {
          "base_uri": "https://localhost:8080/"
        },
        "id": "5LIrQ8UKiT06",
        "outputId": "26309f5d-44d3-4b73-bdc8-a111a1caf48f"
      },
      "source": [
        "len(dd)"
      ],
      "execution_count": null,
      "outputs": [
        {
          "output_type": "execute_result",
          "data": {
            "text/plain": [
              "136"
            ]
          },
          "metadata": {},
          "execution_count": 61
        }
      ]
    },
    {
      "cell_type": "code",
      "metadata": {
        "colab": {
          "base_uri": "https://localhost:8080/"
        },
        "id": "t2F96r5-p458",
        "outputId": "2f159d2d-9308-4256-db6f-0de1064e0ecd"
      },
      "source": [
        "data = pd.DataFrame()\n",
        "for i in range(len(cln2)):\n",
        "  ln = []\n",
        "  for j in cln2[i]:\n",
        "    if 'ภาค' in j:\n",
        "      ln.append(len(j))\n",
        "  len_area = sum(ln)/len(ln)\n",
        "  if len_area <= 20:\n",
        "    for k in range(len(cln2[i])):\n",
        "      if 'ภาค' in cln2[i][k] and 'พฤษ' not in cln2[i][k] and 'ราย' not in cln2[i][k]:\n",
        "        temp = ' '.join(cln2[i][k:])\n",
        "        \n",
        "        if 'ขายปลีก' not in temp:\n",
        "          x3 = ''\n",
        "        else:\n",
        "          x3 = temp.split('ขายปลีก')[1]\n",
        "        \n",
        "        if 'ขายส่งห้างค้าปลีก' not in temp:\n",
        "          x2 = ''\n",
        "        else:\n",
        "          x2 = temp.split('ขายปลีก')[0].split('ขายส่งห้างค้าปลีก')[1]\n",
        "\n",
        "        ar = []\n",
        "        for c in cln2[i][k:]:\n",
        "          if 'ภาค' in c:\n",
        "            ar.append(c.replace('.','').strip())\n",
        "        \n",
        "        #print(cln2[i][k:])\n",
        "        xx1 = temp.split('กรัม')[1].split('ราคา')[0].strip().split(' ')\n",
        "        xx2 = x2.strip().split(' ')\n",
        "        xx3 = x3.strip().split(' ')\n",
        "\n",
        "        \n",
        "\n",
        "        if len(xx3) == 5 and len(xx2) == 5 and len(xx1) == 5 and len(ar) == 5:\n",
        "          df = pd.DataFrame({'วันที่':dd[i],\n",
        "                             'ภาค':ar,\n",
        "                             'ราคาสุกรมีชีวิต':xx1,\n",
        "                             'ขายส่งห้างค้าปลีก':xx2,\n",
        "                             'ขายปลีก':xx3})\n",
        "          #print(df)\n",
        "          data = data.append(df)\n",
        "        break\n",
        "  else:  \n",
        "    temp2 = ' '.join(cln2[i])\n",
        "    if len(temp2.split('กรัม')) > 1:\n",
        "      temp3 = temp2.split('กรัม')[1]\n",
        "\n",
        "      if '5.' not in temp3:\n",
        "        y5 = ''\n",
        "      else:\n",
        "        y5 = temp3.split('5.')[1]\n",
        "\n",
        "      if '4.' not in temp3:\n",
        "        y4 = ''\n",
        "      else:\n",
        "        y4 = temp3.split('5.')[0].split('4.')[1]\n",
        "\n",
        "      if '3.' not in temp3:\n",
        "        y3 = ''\n",
        "      else:\n",
        "        y3 = temp3.split('5.')[0].split('4.')[0].split('3.')[1]\n",
        "\n",
        "      if '2.' not in temp3:\n",
        "        y2 = ''\n",
        "      else:\n",
        "        y2 = temp3.split('5.')[0].split('4.')[0].split('3.')[0].split('2.')[1]\n",
        "\n",
        "      if '1.' not in temp3:\n",
        "        y1 = ''\n",
        "      else:\n",
        "        y1 = temp3.split('5.')[0].split('4.')[0].split('3.')[0].split('2.')[0].split('1.')[1]\n",
        "\n",
        "      yy5 = y5.strip().split()\n",
        "      yy4 = y4.strip().split()\n",
        "      yy3 = y3.strip().split()\n",
        "      yy2 = y2.strip().split()\n",
        "      yy1 = y1.strip().split()\n",
        "      dff = pd.DataFrame()\n",
        "\n",
        "      if len(yy5) > 0 and (yy5[1][0]+yy5[2][0]+yy5[3][0]).isdigit() and len(yy5[1]) > 1 and len(yy4) > 0 and len(yy3) > 0 and len(yy2) > 0 and len(yy1) > 0:\n",
        "\n",
        "        yyy5 = (str(dd[i])+','+','.join(yy5[:4])).replace('\\xa0',' ').split(',')\n",
        "        yyy4 = (str(dd[i])+','+','.join(yy4)).replace('\\xa0',' ').split(',')\n",
        "        yyy3 = (str(dd[i])+','+','.join(yy3)).replace('\\xa0',' ').split(',')\n",
        "        yyy2 = (str(dd[i])+','+','.join(yy2)).replace('\\xa0',' ').split(',')\n",
        "        yyy1 = (str(dd[i])+','+','.join(yy1)).replace('\\xa0',' ').split(',')\n",
        "\n",
        "        if len(yyy1) == 5 and len(yyy2) == 5 and len(yyy3) == 5 and len(yyy4) == 5 and len(yyy5) == 5:\n",
        "          dff = pd.DataFrame([yyy1,yyy2,yyy3,yyy4,yyy5], columns = data.columns)\n",
        "          print(yyy5, yyy4, yyy3, yyy2, yyy1)\n",
        "          print(dff)\n",
        "          data = data.append(dff)"
      ],
      "execution_count": null,
      "outputs": [
        {
          "output_type": "stream",
          "name": "stdout",
          "text": [
            "['6 มีนาคม 2564', 'ภาคใต้', '79', '126', '156-158'] ['6 มีนาคม 2564', 'ภาคเหนือ', '80', '128', '158-160'] ['6 มีนาคม 2564', 'ภาคอีสาน', '80', '128', '158-160'] ['6 มีนาคม 2564', 'ภาคตะวันออก', '80', '128', '158-160'] ['6 มีนาคม 2564', 'ภาคตะวันตก', '80', '128', '158-160']\n",
            "          วันที่          ภาค ราคาสุกรมีชีวิต ขายส่งห้างค้าปลีก  ขายปลีก\n",
            "0  6 มีนาคม 2564   ภาคตะวันตก              80               128  158-160\n",
            "1  6 มีนาคม 2564  ภาคตะวันออก              80               128  158-160\n",
            "2  6 มีนาคม 2564     ภาคอีสาน              80               128  158-160\n",
            "3  6 มีนาคม 2564     ภาคเหนือ              80               128  158-160\n",
            "4  6 มีนาคม 2564       ภาคใต้              79               126  156-158\n",
            "['2 มกราคม 256', 'ภาคใต้', '70-73', '112-116', '138-146'] ['2 มกราคม 256', 'ภาคเหนือ', '76', '121', '150-152'] ['2 มกราคม 256', 'ภาคอีสาน', '78', '124', '154-156'] ['2 มกราคม 256', 'ภาคตะวันออก', '78', '124', '154-156'] ['2 มกราคม 256', 'ภาคตะวันตก', '5', '120', '148-150']\n",
            "         วันที่          ภาค ราคาสุกรมีชีวิต ขายส่งห้างค้าปลีก  ขายปลีก\n",
            "0  2 มกราคม 256   ภาคตะวันตก               5               120  148-150\n",
            "1  2 มกราคม 256  ภาคตะวันออก              78               124  154-156\n",
            "2  2 มกราคม 256     ภาคอีสาน              78               124  154-156\n",
            "3  2 มกราคม 256     ภาคเหนือ              76               121  150-152\n",
            "4  2 มกราคม 256       ภาคใต้           70-73           112-116  138-146\n",
            "['9 มกราคม 2563', 'ภาคใต้', '75-78', '120-124', '148-156'] ['9 มกราคม 2563', 'ภาคเหนือ', '81', '129', '160-162'] ['9 มกราคม 2563', 'ภาคอีสาน', '80', '128', '158-160'] ['9 มกราคม 2563', 'ภาคตะวันออก', '79', '126', '156-158'] ['9 มกราคม 2563', 'ภาคตะวันตก', '7', '123', '152-154']\n",
            "          วันที่          ภาค ราคาสุกรมีชีวิต ขายส่งห้างค้าปลีก  ขายปลีก\n",
            "0  9 มกราคม 2563   ภาคตะวันตก               7               123  152-154\n",
            "1  9 มกราคม 2563  ภาคตะวันออก              79               126  156-158\n",
            "2  9 มกราคม 2563     ภาคอีสาน              80               128  158-160\n",
            "3  9 มกราคม 2563     ภาคเหนือ              81               129  160-162\n",
            "4  9 มกราคม 2563       ภาคใต้           75-78           120-124  148-156\n",
            "['17 มกราคม 2563', 'ภาคใต้', '80', '128', '158-160'] ['17 มกราคม 2563', 'ภาคเหนือ', '80', '128', '158-160'] ['17 มกราคม 2563', 'ภาคอีสาน', '80', '128', '158-160'] ['17 มกราคม 2563', 'ภาคตะวันออก', '79', '126', '156-158'] ['17 มกราคม 2563', 'ภาคตะวันตก', '79', '126', '156-158']\n",
            "           วันที่          ภาค ราคาสุกรมีชีวิต ขายส่งห้างค้าปลีก  ขายปลีก\n",
            "0  17 มกราคม 2563   ภาคตะวันตก              79               126  156-158\n",
            "1  17 มกราคม 2563  ภาคตะวันออก              79               126  156-158\n",
            "2  17 มกราคม 2563     ภาคอีสาน              80               128  158-160\n",
            "3  17 มกราคม 2563     ภาคเหนือ              80               128  158-160\n",
            "4  17 มกราคม 2563       ภาคใต้              80               128  158-160\n",
            "['16 กุมภาพันธ์ 2563', 'ภาคใต้', '70-71', '112-113', '138-142'] ['16 กุมภาพันธ์ 2563', 'ภาคเหนือ', '72', '115', '142-144'] ['16 กุมภาพันธ์ 2563', 'ภาคอีสาน', '74', '118', '146-148'] ['16 กุมภาพันธ์ 2563', 'ภาคตะวันออก', '74', '118', '146-148'] ['16 กุมภาพันธ์ 2563', 'ภาคตะวันตก', '67', '107', '132-144']\n",
            "               วันที่          ภาค ราคาสุกรมีชีวิต ขายส่งห้างค้าปลีก  ขายปลีก\n",
            "0  16 กุมภาพันธ์ 2563   ภาคตะวันตก              67               107  132-144\n",
            "1  16 กุมภาพันธ์ 2563  ภาคตะวันออก              74               118  146-148\n",
            "2  16 กุมภาพันธ์ 2563     ภาคอีสาน              74               118  146-148\n",
            "3  16 กุมภาพันธ์ 2563     ภาคเหนือ              72               115  142-144\n",
            "4  16 กุมภาพันธ์ 2563       ภาคใต้           70-71           112-113  138-142\n",
            "['22 กุมภาพันธ์ 2563', 'ภาคใต้', '68-69', '108-110', '134-138'] ['22 กุมภาพันธ์ 2563', 'ภาคเหนือ', '72', '115', '142-144'] ['22 กุมภาพันธ์ 2563', 'ภาคอีสาน', '72', '115', '1422144'] ['22 กุมภาพันธ์ 2563', 'ภาคตะวันออก', '74', '118', '146-148'] ['22 กุมภาพันธ์ 2563', 'ภาคตะวันตก', '67', '107', '132-144']\n",
            "               วันที่          ภาค ราคาสุกรมีชีวิต ขายส่งห้างค้าปลีก  ขายปลีก\n",
            "0  22 กุมภาพันธ์ 2563   ภาคตะวันตก              67               107  132-144\n",
            "1  22 กุมภาพันธ์ 2563  ภาคตะวันออก              74               118  146-148\n",
            "2  22 กุมภาพันธ์ 2563     ภาคอีสาน              72               115  1422144\n",
            "3  22 กุมภาพันธ์ 2563     ภาคเหนือ              72               115  142-144\n",
            "4  22 กุมภาพันธ์ 2563       ภาคใต้           68-69           108-110  134-138\n",
            "['7 เมษายน 2563', 'ภาคใต้', '69', '110', '136-138'] ['7 เมษายน 2563', 'ภาคเหนือ', '70', '112', '144-146'] ['7 เมษายน 2563', 'ภาคอีสาน', '69-71', '110-113', '136-140'] ['7 เมษายน 2563', 'ภาคตะวันออก', '70', '112', '138-140'] ['7 เมษายน 2563', 'ภาคตะวันตก', '65', '104', '128-130']\n",
            "          วันที่          ภาค ราคาสุกรมีชีวิต ขายส่งห้างค้าปลีก  ขายปลีก\n",
            "0  7 เมษายน 2563   ภาคตะวันตก              65               104  128-130\n",
            "1  7 เมษายน 2563  ภาคตะวันออก              70               112  138-140\n",
            "2  7 เมษายน 2563     ภาคอีสาน           69-71           110-113  136-140\n",
            "3  7 เมษายน 2563     ภาคเหนือ              70               112  144-146\n",
            "4  7 เมษายน 2563       ภาคใต้              69               110  136-138\n",
            "['2 ตุลาคม 2563', 'ภาคใต้', '79-80', '124-128', '150-160'] ['2 ตุลาคม 2563', 'ภาคเหนือ', '79-80', '124-128', '150-160'] ['2 ตุลาคม 2563', 'ภาคอีสาน', '79-80', '124-128', '150-160'] ['2 ตุลาคม 2563', 'ภาคตะวันออก', '79-80', '124-128', '150-160'] ['2 ตุลาคม 2563', 'ภาคตะวันตก', '79-80', '124-128', '150-160']\n",
            "          วันที่          ภาค ราคาสุกรมีชีวิต ขายส่งห้างค้าปลีก  ขายปลีก\n",
            "0  2 ตุลาคม 2563   ภาคตะวันตก           79-80           124-128  150-160\n",
            "1  2 ตุลาคม 2563  ภาคตะวันออก           79-80           124-128  150-160\n",
            "2  2 ตุลาคม 2563     ภาคอีสาน           79-80           124-128  150-160\n",
            "3  2 ตุลาคม 2563     ภาคเหนือ           79-80           124-128  150-160\n",
            "4  2 ตุลาคม 2563       ภาคใต้           79-80           124-128  150-160\n",
            "['24 ตุลาคม 2563', 'ภาคใต้', '77', '123', '150-154'] ['24 ตุลาคม 2563', 'ภาคเหนือ', '76', '121', '150-152'] ['24 ตุลาคม 2563', 'ภาคอีสาน', '78-80', '124-128', '150-160'] ['24 ตุลาคม 2563', 'ภาคตะวันออก', '77-78', '123-124', '150-156'] ['24 ตุลาคม 2563', 'ภาคตะวันตก', '76-77', '121-123', '150-154']\n",
            "           วันที่          ภาค ราคาสุกรมีชีวิต ขายส่งห้างค้าปลีก  ขายปลีก\n",
            "0  24 ตุลาคม 2563   ภาคตะวันตก           76-77           121-123  150-154\n",
            "1  24 ตุลาคม 2563  ภาคตะวันออก           77-78           123-124  150-156\n",
            "2  24 ตุลาคม 2563     ภาคอีสาน           78-80           124-128  150-160\n",
            "3  24 ตุลาคม 2563     ภาคเหนือ              76               121  150-152\n",
            "4  24 ตุลาคม 2563       ภาคใต้              77               123  150-154\n",
            "['31 ตุลาคม 2563', 'ภาคใต้', '77', '123', '150-154'] ['31 ตุลาคม 2563', 'ภาคเหนือ', '76', '121', '150-152'] ['31 ตุลาคม 2563', 'ภาคอีสาน', '78-80', '124-128', '150-160'] ['31 ตุลาคม 2563', 'ภาคตะวันออก', '77-78', '123-124', '150-156'] ['31 ตุลาคม 2563', 'ภาคตะวันตก', '76-77', '121-123', '150-154']\n",
            "           วันที่          ภาค ราคาสุกรมีชีวิต ขายส่งห้างค้าปลีก  ขายปลีก\n",
            "0  31 ตุลาคม 2563   ภาคตะวันตก           76-77           121-123  150-154\n",
            "1  31 ตุลาคม 2563  ภาคตะวันออก           77-78           123-124  150-156\n",
            "2  31 ตุลาคม 2563     ภาคอีสาน           78-80           124-128  150-160\n",
            "3  31 ตุลาคม 2563     ภาคเหนือ              76               121  150-152\n",
            "4  31 ตุลาคม 2563       ภาคใต้              77               123  150-154\n",
            "['12 กุมภาพันธ์ 2562', 'ภาคใต้', '75-77', '120-123', '148-156'] ['12 กุมภาพันธ์ 2562', 'ภาคเหนือ', '78', '124', '154-158'] ['12 กุมภาพันธ์ 2562', 'ภาคอีสาน', '75', '120', '148-152'] ['12 กุมภาพันธ์ 2562', 'ภาคตะวันออก', '75', '120', '148-152'] ['12 กุมภาพันธ์ 2562', 'ภาคตะวันตก', '71', '113', '140-144']\n",
            "               วันที่          ภาค ราคาสุกรมีชีวิต ขายส่งห้างค้าปลีก  ขายปลีก\n",
            "0  12 กุมภาพันธ์ 2562   ภาคตะวันตก              71               113  140-144\n",
            "1  12 กุมภาพันธ์ 2562  ภาคตะวันออก              75               120  148-152\n",
            "2  12 กุมภาพันธ์ 2562     ภาคอีสาน              75               120  148-152\n",
            "3  12 กุมภาพันธ์ 2562     ภาคเหนือ              78               124  154-158\n",
            "4  12 กุมภาพันธ์ 2562       ภาคใต้           75-77           120-123  148-156\n",
            "['19 กุมภาพันธ์ 2562', 'ภาคใต้', '73-75', '116-120', '144-152'] ['19 กุมภาพันธ์ 2562', 'ภาคเหนือ', '78', '124', '154-158'] ['19 กุมภาพันธ์ 2562', 'ภาคอีสาน', '75', '120', '148-152'] ['19 กุมภาพันธ์ 2562', 'ภาคตะวันออก', '75', '120', '148-152'] ['19 กุมภาพันธ์ 2562', 'ภาคตะวันตก', '71', '113', '140-144']\n",
            "               วันที่          ภาค ราคาสุกรมีชีวิต ขายส่งห้างค้าปลีก  ขายปลีก\n",
            "0  19 กุมภาพันธ์ 2562   ภาคตะวันตก              71               113  140-144\n",
            "1  19 กุมภาพันธ์ 2562  ภาคตะวันออก              75               120  148-152\n",
            "2  19 กุมภาพันธ์ 2562     ภาคอีสาน              75               120  148-152\n",
            "3  19 กุมภาพันธ์ 2562     ภาคเหนือ              78               124  154-158\n",
            "4  19 กุมภาพันธ์ 2562       ภาคใต้           73-75           116-120  144-152\n",
            "['5 มีนาคม 2562', 'ภาคใต้', '73-75', '116-120', '144-152'] ['5 มีนาคม 2562', 'ภาคเหนือ', '78', '124', '154-158'] ['5 มีนาคม 2562', 'ภาคอีสาน', '75', '120', '148-152'] ['5 มีนาคม 2562', 'ภาคตะวันออก', '75', '120', '148-152'] ['5 มีนาคม 2562', 'ภาคตะวันตก', '72', '115', '142-146']\n",
            "          วันที่          ภาค ราคาสุกรมีชีวิต ขายส่งห้างค้าปลีก  ขายปลีก\n",
            "0  5 มีนาคม 2562   ภาคตะวันตก              72               115  142-146\n",
            "1  5 มีนาคม 2562  ภาคตะวันออก              75               120  148-152\n",
            "2  5 มีนาคม 2562     ภาคอีสาน              75               120  148-152\n",
            "3  5 มีนาคม 2562     ภาคเหนือ              78               124  154-158\n",
            "4  5 มีนาคม 2562       ภาคใต้           73-75           116-120  144-152\n",
            "['12 เมษายน 2562', 'ภาคใต้', '75', '120', '148-152'] ['12 เมษายน 2562', 'ภาคเหนือ', '78', '124', '154-158'] ['12 เมษายน 2562', 'ภาคอีสาน', '75', '120', '148-152'] ['12 เมษายน 2562', 'ภาคตะวันออก', '75', '120', '148-152'] ['12 เมษายน 2562', 'ภาคตะวันตก', '72', '115', '142-146']\n",
            "           วันที่          ภาค ราคาสุกรมีชีวิต ขายส่งห้างค้าปลีก  ขายปลีก\n",
            "0  12 เมษายน 2562   ภาคตะวันตก              72               115  142-146\n",
            "1  12 เมษายน 2562  ภาคตะวันออก              75               120  148-152\n",
            "2  12 เมษายน 2562     ภาคอีสาน              75               120  148-152\n",
            "3  12 เมษายน 2562     ภาคเหนือ              78               124  154-158\n",
            "4  12 เมษายน 2562       ภาคใต้              75               120  148-152\n",
            "['19 เมษายน 2562', 'ภาคใต้', '75', '120', '148-152'] ['19 เมษายน 2562', 'ภาคเหนือ', '78', '124', '154-158'] ['19 เมษายน 2562', 'ภาคอีสาน', '75', '120', '148-152'] ['19 เมษายน 2562', 'ภาคตะวันออก', '75', '120', '148-152'] ['19 เมษายน 2562', 'ภาคตะวันตก', '72', '115', '142-146']\n",
            "           วันที่          ภาค ราคาสุกรมีชีวิต ขายส่งห้างค้าปลีก  ขายปลีก\n",
            "0  19 เมษายน 2562   ภาคตะวันตก              72               115  142-146\n",
            "1  19 เมษายน 2562  ภาคตะวันออก              75               120  148-152\n",
            "2  19 เมษายน 2562     ภาคอีสาน              75               120  148-152\n",
            "3  19 เมษายน 2562     ภาคเหนือ              78               124  154-158\n",
            "4  19 เมษายน 2562       ภาคใต้              75               120  148-152\n",
            "['27 เมษายน 2562', 'ภาคใต้', '75', '120', '148-152'] ['27 เมษายน 2562', 'ภาคเหนือ', '78', '124', '154-158'] ['27 เมษายน 2562', 'ภาคอีสาน', '75', '120', '148-152'] ['27 เมษายน 2562', 'ภาคตะวันออก', '75', '120', '148-152'] ['27 เมษายน 2562', 'ภาคตะวันตก', '74', '118', '146-150']\n",
            "           วันที่          ภาค ราคาสุกรมีชีวิต ขายส่งห้างค้าปลีก  ขายปลีก\n",
            "0  27 เมษายน 2562   ภาคตะวันตก              74               118  146-150\n",
            "1  27 เมษายน 2562  ภาคตะวันออก              75               120  148-152\n",
            "2  27 เมษายน 2562     ภาคอีสาน              75               120  148-152\n",
            "3  27 เมษายน 2562     ภาคเหนือ              78               124  154-158\n",
            "4  27 เมษายน 2562       ภาคใต้              75               120  148-152\n",
            "['3 พฤษภาคม 2562', 'ภาคใต้', '75', '120', '148-152'] ['3 พฤษภาคม 2562', 'ภาคเหนือ', '75', '120', '148-152'] ['3 พฤษภาคม 2562', 'ภาคอีสาน', '75', '120', '148-152'] ['3 พฤษภาคม 2562', 'ภาคตะวันออก', '75', '120', '148-152'] ['3 พฤษภาคม 2562', 'ภาคตะวันตก', '75', '120', '148-152']\n",
            "           วันที่          ภาค ราคาสุกรมีชีวิต ขายส่งห้างค้าปลีก  ขายปลีก\n",
            "0  3 พฤษภาคม 2562   ภาคตะวันตก              75               120  148-152\n",
            "1  3 พฤษภาคม 2562  ภาคตะวันออก              75               120  148-152\n",
            "2  3 พฤษภาคม 2562     ภาคอีสาน              75               120  148-152\n",
            "3  3 พฤษภาคม 2562     ภาคเหนือ              75               120  148-152\n",
            "4  3 พฤษภาคม 2562       ภาคใต้              75               120  148-152\n",
            "['11 พฤษภาคม 2562', 'ภาคใต้', '75', '120', '148-152'] ['11 พฤษภาคม 2562', 'ภาคเหนือ', '75', '120', '148-152'] ['11 พฤษภาคม 2562', 'ภาคอีสาน', '75', '120', '148-152'] ['11 พฤษภาคม 2562', 'ภาคตะวันออก', '75', '120', '148-152'] ['11 พฤษภาคม 2562', 'ภาคตะวันตก', '75', '120', '148-152']\n",
            "            วันที่          ภาค ราคาสุกรมีชีวิต ขายส่งห้างค้าปลีก  ขายปลีก\n",
            "0  11 พฤษภาคม 2562   ภาคตะวันตก              75               120  148-152\n",
            "1  11 พฤษภาคม 2562  ภาคตะวันออก              75               120  148-152\n",
            "2  11 พฤษภาคม 2562     ภาคอีสาน              75               120  148-152\n",
            "3  11 พฤษภาคม 2562     ภาคเหนือ              75               120  148-152\n",
            "4  11 พฤษภาคม 2562       ภาคใต้              75               120  148-152\n",
            "['18 พฤษภาคม 2562', 'ภาคใต้', '75', '120', '148-152'] ['18 พฤษภาคม 2562', 'ภาคเหนือ', '75', '120', '148-152'] ['18 พฤษภาคม 2562', 'ภาคอีสาน', '75', '120', '148-152'] ['18 พฤษภาคม 2562', 'ภาคตะวันออก', '75', '120', '148-152'] ['18 พฤษภาคม 2562', 'ภาคตะวันตก', '75', '120', '148-152']\n",
            "            วันที่          ภาค ราคาสุกรมีชีวิต ขายส่งห้างค้าปลีก  ขายปลีก\n",
            "0  18 พฤษภาคม 2562   ภาคตะวันตก              75               120  148-152\n",
            "1  18 พฤษภาคม 2562  ภาคตะวันออก              75               120  148-152\n",
            "2  18 พฤษภาคม 2562     ภาคอีสาน              75               120  148-152\n",
            "3  18 พฤษภาคม 2562     ภาคเหนือ              75               120  148-152\n",
            "4  18 พฤษภาคม 2562       ภาคใต้              75               120  148-152\n",
            "['26 พฤษภาคม 2562', 'ภาคใต้', '75', '120', '148-152'] ['26 พฤษภาคม 2562', 'ภาคเหนือ', '75', '120', '148-152'] ['26 พฤษภาคม 2562', 'ภาคอีสาน', '75', '120', '148-152'] ['26 พฤษภาคม 2562', 'ภาคตะวันออก', '75', '120', '148-152'] ['26 พฤษภาคม 2562', 'ภาคตะวันตก', '75', '120', '148-152']\n",
            "            วันที่          ภาค ราคาสุกรมีชีวิต ขายส่งห้างค้าปลีก  ขายปลีก\n",
            "0  26 พฤษภาคม 2562   ภาคตะวันตก              75               120  148-152\n",
            "1  26 พฤษภาคม 2562  ภาคตะวันออก              75               120  148-152\n",
            "2  26 พฤษภาคม 2562     ภาคอีสาน              75               120  148-152\n",
            "3  26 พฤษภาคม 2562     ภาคเหนือ              75               120  148-152\n",
            "4  26 พฤษภาคม 2562       ภาคใต้              75               120  148-152\n",
            "['10 มิถุนายน 2562', 'ภาคใต้', '75', '120', '148-152'] ['10 มิถุนายน 2562', 'ภาคเหนือ', '75', '120', '148-152'] ['10 มิถุนายน 2562', 'ภาคอีสาน', '75', '120', '148-152'] ['10 มิถุนายน 2562', 'ภาคตะวันออก', '75', '120', '148-152'] ['10 มิถุนายน 2562', 'ภาคตะวันตก', '75', '120', '148-152']\n",
            "             วันที่          ภาค ราคาสุกรมีชีวิต ขายส่งห้างค้าปลีก  ขายปลีก\n",
            "0  10 มิถุนายน 2562   ภาคตะวันตก              75               120  148-152\n",
            "1  10 มิถุนายน 2562  ภาคตะวันออก              75               120  148-152\n",
            "2  10 มิถุนายน 2562     ภาคอีสาน              75               120  148-152\n",
            "3  10 มิถุนายน 2562     ภาคเหนือ              75               120  148-152\n",
            "4  10 มิถุนายน 2562       ภาคใต้              75               120  148-152\n",
            "['9 กรกฎาคม 2562', 'ภาคใต้', '75', '120', '148-152'] ['9 กรกฎาคม 2562', 'ภาคเหนือ', '73', '116', '144-148'] ['9 กรกฎาคม 2562', 'ภาคอีสาน', '70', '112', '138-142'] ['9 กรกฎาคม 2562', 'ภาคตะวันออก', '7', '113', '140-144'] ['9 กรกฎาคม 2562', 'ภาคตะวันตก', '69', '110', '136-140']\n",
            "           วันที่          ภาค ราคาสุกรมีชีวิต ขายส่งห้างค้าปลีก  ขายปลีก\n",
            "0  9 กรกฎาคม 2562   ภาคตะวันตก              69               110  136-140\n",
            "1  9 กรกฎาคม 2562  ภาคตะวันออก               7               113  140-144\n",
            "2  9 กรกฎาคม 2562     ภาคอีสาน              70               112  138-142\n",
            "3  9 กรกฎาคม 2562     ภาคเหนือ              73               116  144-148\n",
            "4  9 กรกฎาคม 2562       ภาคใต้              75               120  148-152\n",
            "['16 กรกฎาคม 2562', 'ภาคใต้', '75', '120', '148-152'] ['16 กรกฎาคม 2562', 'ภาคเหนือ', '73', '116', '144-148'] ['16 กรกฎาคม 2562', 'ภาคอีสาน', '70', '112', '138-142'] ['16 กรกฎาคม 2562', 'ภาคตะวันออก', '7', '113', '140-144'] ['16 กรกฎาคม 2562', 'ภาคตะวันตก', '69', '110', '136-140']\n",
            "            วันที่          ภาค ราคาสุกรมีชีวิต ขายส่งห้างค้าปลีก  ขายปลีก\n",
            "0  16 กรกฎาคม 2562   ภาคตะวันตก              69               110  136-140\n",
            "1  16 กรกฎาคม 2562  ภาคตะวันออก               7               113  140-144\n",
            "2  16 กรกฎาคม 2562     ภาคอีสาน              70               112  138-142\n",
            "3  16 กรกฎาคม 2562     ภาคเหนือ              73               116  144-148\n",
            "4  16 กรกฎาคม 2562       ภาคใต้              75               120  148-152\n",
            "['31 กรกฎาคม 2562', 'ภาคใต้', '73-75', '116-120', '144-150'] ['31 กรกฎาคม 2562', 'ภาคเหนือ', '69', '110', '136-138'] ['31 กรกฎาคม 2562', 'ภาคอีสาน', '70', '112', '138-140'] ['31 กรกฎาคม 2562', 'ภาคตะวันออก', '67-68', '107-108', '132-136'] ['31 กรกฎาคม 2562', 'ภาคตะวันตก', '64', '102', '126-128']\n",
            "            วันที่          ภาค ราคาสุกรมีชีวิต ขายส่งห้างค้าปลีก  ขายปลีก\n",
            "0  31 กรกฎาคม 2562   ภาคตะวันตก              64               102  126-128\n",
            "1  31 กรกฎาคม 2562  ภาคตะวันออก           67-68           107-108  132-136\n",
            "2  31 กรกฎาคม 2562     ภาคอีสาน              70               112  138-140\n",
            "3  31 กรกฎาคม 2562     ภาคเหนือ              69               110  136-138\n",
            "4  31 กรกฎาคม 2562       ภาคใต้           73-75           116-120  144-150\n",
            "['8 สิงหาคม 2562', 'ภาคใต้', '73-75', '116-120', '144-150'] ['8 สิงหาคม 2562', 'ภาคเหนือ', '69', '110', '136-138'] ['8 สิงหาคม 2562', 'ภาคอีสาน', '70', '112', '138-140'] ['8 สิงหาคม 2562', 'ภาคตะวันออก', '67-68', '107-108', '132-136'] ['8 สิงหาคม 2562', 'ภาคตะวันตก', '66-67', '105-107', '130-134']\n",
            "           วันที่          ภาค ราคาสุกรมีชีวิต ขายส่งห้างค้าปลีก  ขายปลีก\n",
            "0  8 สิงหาคม 2562   ภาคตะวันตก           66-67           105-107  130-134\n",
            "1  8 สิงหาคม 2562  ภาคตะวันออก           67-68           107-108  132-136\n",
            "2  8 สิงหาคม 2562     ภาคอีสาน              70               112  138-140\n",
            "3  8 สิงหาคม 2562     ภาคเหนือ              69               110  136-138\n",
            "4  8 สิงหาคม 2562       ภาคใต้           73-75           116-120  144-150\n",
            "['15 สิงหาคม 2562', 'ภาคใต้', '73-75', '116-120', '144-150'] ['15 สิงหาคม 2562', 'ภาคเหนือ', '69', '110', '136-138'] ['15 สิงหาคม 2562', 'ภาคอีสาน', '70', '112', '138-140'] ['15 สิงหาคม 2562', 'ภาคตะวันออก', '67-68', '107-108', '132-136'] ['15 สิงหาคม 2562', 'ภาคตะวันตก', '66-67', '105-107', '130-134']\n",
            "            วันที่          ภาค ราคาสุกรมีชีวิต ขายส่งห้างค้าปลีก  ขายปลีก\n",
            "0  15 สิงหาคม 2562   ภาคตะวันตก           66-67           105-107  130-134\n",
            "1  15 สิงหาคม 2562  ภาคตะวันออก           67-68           107-108  132-136\n",
            "2  15 สิงหาคม 2562     ภาคอีสาน              70               112  138-140\n",
            "3  15 สิงหาคม 2562     ภาคเหนือ              69               110  136-138\n",
            "4  15 สิงหาคม 2562       ภาคใต้           73-75           116-120  144-150\n",
            "['29 สิงหาคม 2562', 'ภาคใต้', '73-75', '116-120', '144-150'] ['29 สิงหาคม 2562', 'ภาคเหนือ', '66', '105', '130-132'] ['29 สิงหาคม 2562', 'ภาคอีสาน', '70', '112', '138-140'] ['29 สิงหาคม 2562', 'ภาคตะวันออก', '67-68', '107-108', '132-136'] ['29 สิงหาคม 2562', 'ภาคตะวันตก', '66-67', '105-107', '130-134']\n",
            "            วันที่          ภาค ราคาสุกรมีชีวิต ขายส่งห้างค้าปลีก  ขายปลีก\n",
            "0  29 สิงหาคม 2562   ภาคตะวันตก           66-67           105-107  130-134\n",
            "1  29 สิงหาคม 2562  ภาคตะวันออก           67-68           107-108  132-136\n",
            "2  29 สิงหาคม 2562     ภาคอีสาน              70               112  138-140\n",
            "3  29 สิงหาคม 2562     ภาคเหนือ              66               105  130-132\n",
            "4  29 สิงหาคม 2562       ภาคใต้           73-75           116-120  144-150\n",
            "['6 กันยายน 2562', 'ภาคใต้', '73', '116', '144-146'] ['6 กันยายน 2562', 'ภาคเหนือ', '64-66', '102-105', '130-132'] ['6 กันยายน 2562', 'ภาคอีสาน', '62-64', '99-102', '138-140'] ['6 กันยายน 2562', 'ภาคตะวันออก', '65', '104', '128-130'] ['6 กันยายน 2562', 'ภาคตะวันตก', '61', '97', '120-122']\n",
            "           วันที่          ภาค ราคาสุกรมีชีวิต ขายส่งห้างค้าปลีก  ขายปลีก\n",
            "0  6 กันยายน 2562   ภาคตะวันตก              61                97  120-122\n",
            "1  6 กันยายน 2562  ภาคตะวันออก              65               104  128-130\n",
            "2  6 กันยายน 2562     ภาคอีสาน           62-64            99-102  138-140\n",
            "3  6 กันยายน 2562     ภาคเหนือ           64-66           102-105  130-132\n",
            "4  6 กันยายน 2562       ภาคใต้              73               116  144-146\n",
            "['13 กันยายน 2562', 'ภาคใต้', '71-73', '116', '144-146'] ['13 กันยายน 2562', 'ภาคเหนือ', '62-64', '102-105', '130-132'] ['13 กันยายน 2562', 'ภาคอีสาน', '60-62', '99-102', '138-140'] ['13 กันยายน 2562', 'ภาคตะวันออก', '63', '104', '128-130'] ['13 กันยายน 2562', 'ภาคตะวันตก', '59', '97', '120-122']\n",
            "            วันที่          ภาค ราคาสุกรมีชีวิต ขายส่งห้างค้าปลีก  ขายปลีก\n",
            "0  13 กันยายน 2562   ภาคตะวันตก              59                97  120-122\n",
            "1  13 กันยายน 2562  ภาคตะวันออก              63               104  128-130\n",
            "2  13 กันยายน 2562     ภาคอีสาน           60-62            99-102  138-140\n",
            "3  13 กันยายน 2562     ภาคเหนือ           62-64           102-105  130-132\n",
            "4  13 กันยายน 2562       ภาคใต้           71-73               116  144-146\n",
            "['28 กันยายน 2562', 'ภาคใต้', '66-68', '105-108', '130-136'] ['28 กันยายน 2562', 'ภาคเหนือ', '60-62', '99-102', '118-124'] ['28 กันยายน 2562', 'ภาคอีสาน', '60-62', '99-102', '118-124'] ['28 กันยายน 2562', 'ภาคตะวันออก', '63', '100', '124-128'] ['28 กันยายน 2562', 'ภาคตะวันตก', '57', '91', '112116']\n",
            "            วันที่          ภาค ราคาสุกรมีชีวิต ขายส่งห้างค้าปลีก  ขายปลีก\n",
            "0  28 กันยายน 2562   ภาคตะวันตก              57                91   112116\n",
            "1  28 กันยายน 2562  ภาคตะวันออก              63               100  124-128\n",
            "2  28 กันยายน 2562     ภาคอีสาน           60-62            99-102  118-124\n",
            "3  28 กันยายน 2562     ภาคเหนือ           60-62            99-102  118-124\n",
            "4  28 กันยายน 2562       ภาคใต้           66-68           105-108  130-136\n",
            "['6 ตุลาคม 2562', 'ภาคใต้', '66-68', '105-108', '130-136'] ['6 ตุลาคม 2562', 'ภาคเหนือ', '60', '96', '118-122'] ['6 ตุลาคม 2562', 'ภาคอีสาน', '60', '96', '118-122'] ['6 ตุลาคม 2562', 'ภาคตะวันออก', '60', '96', '118-122'] ['6 ตุลาคม 2562', 'ภาคตะวันตก', '57', '91', '112116']\n",
            "          วันที่          ภาค ราคาสุกรมีชีวิต ขายส่งห้างค้าปลีก  ขายปลีก\n",
            "0  6 ตุลาคม 2562   ภาคตะวันตก              57                91   112116\n",
            "1  6 ตุลาคม 2562  ภาคตะวันออก              60                96  118-122\n",
            "2  6 ตุลาคม 2562     ภาคอีสาน              60                96  118-122\n",
            "3  6 ตุลาคม 2562     ภาคเหนือ              60                96  118-122\n",
            "4  6 ตุลาคม 2562       ภาคใต้           66-68           105-108  130-136\n",
            "['21 ตุลาคม 2562', 'ภาคใต้', '66-68', '105-108', '130-136'] ['21 ตุลาคม 2562', 'ภาคเหนือ', '60', '96', '118-122'] ['21 ตุลาคม 2562', 'ภาคอีสาน', '62', '99', '122-124'] ['21 ตุลาคม 2562', 'ภาคตะวันออก', '60', '96', '118-122'] ['21 ตุลาคม 2562', 'ภาคตะวันตก', '55', '88', '108-112']\n",
            "           วันที่          ภาค ราคาสุกรมีชีวิต ขายส่งห้างค้าปลีก  ขายปลีก\n",
            "0  21 ตุลาคม 2562   ภาคตะวันตก              55                88  108-112\n",
            "1  21 ตุลาคม 2562  ภาคตะวันออก              60                96  118-122\n",
            "2  21 ตุลาคม 2562     ภาคอีสาน              62                99  122-124\n",
            "3  21 ตุลาคม 2562     ภาคเหนือ              60                96  118-122\n",
            "4  21 ตุลาคม 2562       ภาคใต้           66-68           105-108  130-136\n",
            "['27 ตุลาคม 2562', 'ภาคใต้', '66-68', '105-108', '130-136'] ['27 ตุลาคม 2562', 'ภาคเหนือ', '60', '96', '118-122'] ['27 ตุลาคม 2562', 'ภาคอีสาน', '62', '99', '122-124'] ['27 ตุลาคม 2562', 'ภาคตะวันออก', '60', '96', '118-122'] ['27 ตุลาคม 2562', 'ภาคตะวันตก', '58', '92', '114-118']\n",
            "           วันที่          ภาค ราคาสุกรมีชีวิต ขายส่งห้างค้าปลีก  ขายปลีก\n",
            "0  27 ตุลาคม 2562   ภาคตะวันตก              58                92  114-118\n",
            "1  27 ตุลาคม 2562  ภาคตะวันออก              60                96  118-122\n",
            "2  27 ตุลาคม 2562     ภาคอีสาน              62                99  122-124\n",
            "3  27 ตุลาคม 2562     ภาคเหนือ              60                96  118-122\n",
            "4  27 ตุลาคม 2562       ภาคใต้           66-68           105-108  130-136\n",
            "['4 พฤศจิกายน 2562', 'ภาคใต้', '66-68', '105-108', '130-136'] ['4 พฤศจิกายน 2562', 'ภาคเหนือ', '63', '100', '124-126'] ['4 พฤศจิกายน 2562', 'ภาคอีสาน', '62-64', '99-102', '122-128'] ['4 พฤศจิกายน 2562', 'ภาคตะวันออก', '62', '99', '122-124'] ['4 พฤศจิกายน 2562', 'ภาคตะวันตก', '60', '96', '118-122']\n",
            "             วันที่          ภาค ราคาสุกรมีชีวิต ขายส่งห้างค้าปลีก  ขายปลีก\n",
            "0  4 พฤศจิกายน 2562   ภาคตะวันตก              60                96  118-122\n",
            "1  4 พฤศจิกายน 2562  ภาคตะวันออก              62                99  122-124\n",
            "2  4 พฤศจิกายน 2562     ภาคอีสาน           62-64            99-102  122-128\n",
            "3  4 พฤศจิกายน 2562     ภาคเหนือ              63               100  124-126\n",
            "4  4 พฤศจิกายน 2562       ภาคใต้           66-68           105-108  130-136\n",
            "['11 พฤศจิกายน 2562', 'ภาคใต้', '66-68', '105-108', '130-136'] ['11 พฤศจิกายน 2562', 'ภาคเหนือ', '66', '105', '130-132'] ['11 พฤศจิกายน 2562', 'ภาคอีสาน', '64', '102', '126-128'] ['11 พฤศจิกายน 2562', 'ภาคตะวันออก', '62', '99', '122-124'] ['11 พฤศจิกายน 2562', 'ภาคตะวันตก', '62', '99', '122-124']\n",
            "              วันที่          ภาค ราคาสุกรมีชีวิต ขายส่งห้างค้าปลีก  ขายปลีก\n",
            "0  11 พฤศจิกายน 2562   ภาคตะวันตก              62                99  122-124\n",
            "1  11 พฤศจิกายน 2562  ภาคตะวันออก              62                99  122-124\n",
            "2  11 พฤศจิกายน 2562     ภาคอีสาน              64               102  126-128\n",
            "3  11 พฤศจิกายน 2562     ภาคเหนือ              66               105  130-132\n",
            "4  11 พฤศจิกายน 2562       ภาคใต้           66-68           105-108  130-136\n",
            "['19 พฤศจิกายน 2562', 'ภาคใต้', '66-68', '105-108', '130-136'] ['19 พฤศจิกายน 2562', 'ภาคเหนือ', '73', '116', '144-146'] ['19 พฤศจิกายน 2562', 'ภาคอีสาน', '70-72', '112-115', '138-144'] ['19 พฤศจิกายน 2562', 'ภาคตะวันออก', '72', '115', '142-144'] ['19 พฤศจิกายน 2562', 'ภาคตะวันตก', '70', '112', '138-140']\n",
            "              วันที่          ภาค ราคาสุกรมีชีวิต ขายส่งห้างค้าปลีก  ขายปลีก\n",
            "0  19 พฤศจิกายน 2562   ภาคตะวันตก              70               112  138-140\n",
            "1  19 พฤศจิกายน 2562  ภาคตะวันออก              72               115  142-144\n",
            "2  19 พฤศจิกายน 2562     ภาคอีสาน           70-72           112-115  138-144\n",
            "3  19 พฤศจิกายน 2562     ภาคเหนือ              73               116  144-146\n",
            "4  19 พฤศจิกายน 2562       ภาคใต้           66-68           105-108  130-136\n",
            "['26 พฤศจิกายน 2562', 'ภาคใต้', '63-65', '100-104', '126-130'] ['26 พฤศจิกายน 2562', 'ภาคเหนือ', '68', '108', '134-136'] ['26 พฤศจิกายน 2562', 'ภาคอีสาน', '67-68', '107-108', '132-136'] ['26 พฤศจิกายน 2562', 'ภาคตะวันออก', '67-68', '107-108', '132-136'] ['26 พฤศจิกายน 2562', 'ภาคตะวันตก', '64', '102', '126-128']\n",
            "              วันที่          ภาค ราคาสุกรมีชีวิต ขายส่งห้างค้าปลีก  ขายปลีก\n",
            "0  26 พฤศจิกายน 2562   ภาคตะวันตก              64               102  126-128\n",
            "1  26 พฤศจิกายน 2562  ภาคตะวันออก           67-68           107-108  132-136\n",
            "2  26 พฤศจิกายน 2562     ภาคอีสาน           67-68           107-108  132-136\n",
            "3  26 พฤศจิกายน 2562     ภาคเหนือ              68               108  134-136\n",
            "4  26 พฤศจิกายน 2562       ภาคใต้           63-65           100-104  126-130\n",
            "['4 ธันวาคม 2562', 'ภาคใต้', '63-65', '100-104', '126-130'] ['4 ธันวาคม 2562', 'ภาคเหนือ', '68', '108', '134-136'] ['4 ธันวาคม 2562', 'ภาคอีสาน', '67-68', '107-108', '132-136'] ['4 ธันวาคม 2562', 'ภาคตะวันออก', '67-68', '107-108', '132-136'] ['4 ธันวาคม 2562', 'ภาคตะวันตก', '64', '102', '126-128']\n",
            "           วันที่          ภาค ราคาสุกรมีชีวิต ขายส่งห้างค้าปลีก  ขายปลีก\n",
            "0  4 ธันวาคม 2562   ภาคตะวันตก              64               102  126-128\n",
            "1  4 ธันวาคม 2562  ภาคตะวันออก           67-68           107-108  132-136\n",
            "2  4 ธันวาคม 2562     ภาคอีสาน           67-68           107-108  132-136\n",
            "3  4 ธันวาคม 2562     ภาคเหนือ              68               108  134-136\n",
            "4  4 ธันวาคม 2562       ภาคใต้           63-65           100-104  126-130\n",
            "['11 ธันวาคม 2562', 'ภาคใต้', '63-65', '100-104', '126-130'] ['11 ธันวาคม 2562', 'ภาคเหนือ', '70', '112', '138-140'] ['11 ธันวาคม 2562', 'ภาคอีสาน', '68-70', '108-112', '134-140'] ['11 ธันวาคม 2562', 'ภาคตะวันออก', '68', '108', '134-136'] ['11 ธันวาคม 2562', 'ภาคตะวันตก', '66', '105', '130-132']\n",
            "            วันที่          ภาค ราคาสุกรมีชีวิต ขายส่งห้างค้าปลีก  ขายปลีก\n",
            "0  11 ธันวาคม 2562   ภาคตะวันตก              66               105  130-132\n",
            "1  11 ธันวาคม 2562  ภาคตะวันออก              68               108  134-136\n",
            "2  11 ธันวาคม 2562     ภาคอีสาน           68-70           108-112  134-140\n",
            "3  11 ธันวาคม 2562     ภาคเหนือ              70               112  138-140\n",
            "4  11 ธันวาคม 2562       ภาคใต้           63-65           100-104  126-130\n",
            "['19 ธันวาคม 2562', 'ภาคใต้', '66-68', '105-108', '130-136'] ['19 ธันวาคม 2562', 'ภาคเหนือ', '73', '116', '144-146'] ['19 ธันวาคม 2562', 'ภาคอีสาน', '70-72', '112-115', '138-144'] ['19 ธันวาคม 2562', 'ภาคตะวันออก', '72', '115', '142-144'] ['19 ธันวาคม 2562', 'ภาคตะวันตก', '70', '112', '138-140']\n",
            "            วันที่          ภาค ราคาสุกรมีชีวิต ขายส่งห้างค้าปลีก  ขายปลีก\n",
            "0  19 ธันวาคม 2562   ภาคตะวันตก              70               112  138-140\n",
            "1  19 ธันวาคม 2562  ภาคตะวันออก              72               115  142-144\n",
            "2  19 ธันวาคม 2562     ภาคอีสาน           70-72           112-115  138-144\n",
            "3  19 ธันวาคม 2562     ภาคเหนือ              73               116  144-146\n",
            "4  19 ธันวาคม 2562       ภาคใต้           66-68           105-108  130-136\n",
            "['24 ตุลาคม 2561', 'ภาคใต้', '65-67', '104-107', '128-136'] ['24 ตุลาคม 2561', 'ภาคเหนือ', '66', '105', '130-134'] ['24 ตุลาคม 2561', 'ภาคอีสาน', '63', '100', '124-128'] ['24 ตุลาคม 2561', 'ภาคตะวันออก', '65-66', '104-105', '128-134'] ['24 ตุลาคม 2561', 'ภาคตะวันตก', '63', '100', '124-128']\n",
            "           วันที่          ภาค ราคาสุกรมีชีวิต ขายส่งห้างค้าปลีก  ขายปลีก\n",
            "0  24 ตุลาคม 2561   ภาคตะวันตก              63               100  124-128\n",
            "1  24 ตุลาคม 2561  ภาคตะวันออก           65-66           104-105  128-134\n",
            "2  24 ตุลาคม 2561     ภาคอีสาน              63               100  124-128\n",
            "3  24 ตุลาคม 2561     ภาคเหนือ              66               105  130-134\n",
            "4  24 ตุลาคม 2561       ภาคใต้           65-67           104-107  128-136\n",
            "['22 พฤศจิกายน 2561', 'ภาคใต้', '67', '104-107', '128-136'] ['22 พฤศจิกายน 2561', 'ภาคเหนือ', '69', '110', '136-140'] ['22 พฤศจิกายน 2561', 'ภาคอีสาน', '67', '107', '132-136'] ['22 พฤศจิกายน 2561', 'ภาคตะวันออก', '66-67', '105-107', '130-136'] ['22 พฤศจิกายน 2561', 'ภาคตะวันตก', '65', '104', '128-132']\n",
            "              วันที่          ภาค ราคาสุกรมีชีวิต ขายส่งห้างค้าปลีก  ขายปลีก\n",
            "0  22 พฤศจิกายน 2561   ภาคตะวันตก              65               104  128-132\n",
            "1  22 พฤศจิกายน 2561  ภาคตะวันออก           66-67           105-107  130-136\n",
            "2  22 พฤศจิกายน 2561     ภาคอีสาน              67               107  132-136\n",
            "3  22 พฤศจิกายน 2561     ภาคเหนือ              69               110  136-140\n",
            "4  22 พฤศจิกายน 2561       ภาคใต้              67           104-107  128-136\n",
            "['30 พฤศจิกายน 2561', 'ภาคใต้', '104-107', '128-136', '65-67'] ['30 พฤศจิกายน 2561', 'ภาคเหนือ', '69', '110', '136-140'] ['30 พฤศจิกายน 2561', 'ภาคอีสาน', '67', '107', '132-136'] ['30 พฤศจิกายน 2561', 'ภาคตะวันออก', '65-66', '104-105', '128-134'] ['30 พฤศจิกายน 2561', 'ภาคตะวันตก', '62', '99', '122-126']\n",
            "              วันที่          ภาค ราคาสุกรมีชีวิต ขายส่งห้างค้าปลีก  ขายปลีก\n",
            "0  30 พฤศจิกายน 2561   ภาคตะวันตก              62                99  122-126\n",
            "1  30 พฤศจิกายน 2561  ภาคตะวันออก           65-66           104-105  128-134\n",
            "2  30 พฤศจิกายน 2561     ภาคอีสาน              67               107  132-136\n",
            "3  30 พฤศจิกายน 2561     ภาคเหนือ              69               110  136-140\n",
            "4  30 พฤศจิกายน 2561       ภาคใต้         104-107           128-136    65-67\n"
          ]
        }
      ]
    },
    {
      "cell_type": "code",
      "metadata": {
        "id": "JuDClZn1wGbf"
      },
      "source": [
        "mlt = data.melt(id_vars=['วันที่','ภาค'])"
      ],
      "execution_count": null,
      "outputs": []
    },
    {
      "cell_type": "code",
      "metadata": {
        "id": "0PWNCp-jdyGq"
      },
      "source": [
        "mlt = mlt.rename(columns={'variable':'sub group'})"
      ],
      "execution_count": null,
      "outputs": []
    },
    {
      "cell_type": "code",
      "metadata": {
        "colab": {
          "base_uri": "https://localhost:8080/"
        },
        "id": "h7u7tF96ja2e",
        "outputId": "f937835a-87ed-4347-a792-33e6a197e818"
      },
      "source": [
        "set(mlt['sub group'])"
      ],
      "execution_count": null,
      "outputs": [
        {
          "output_type": "execute_result",
          "data": {
            "text/plain": [
              "{'ขายปลีก', 'ขายส่งห้างค้าปลีก', 'ราคาสุกรมีชีวิต'}"
            ]
          },
          "metadata": {},
          "execution_count": 305
        }
      ]
    },
    {
      "cell_type": "code",
      "metadata": {
        "colab": {
          "base_uri": "https://localhost:8080/",
          "height": 206
        },
        "id": "YXIZsQahjRrA",
        "outputId": "9c69879b-303b-4242-cc85-157cbe0e1701"
      },
      "source": [
        "# create a list of our conditions\n",
        "conditions = [\n",
        "    (mlt['sub group'] == 'ขายปลีก'),\n",
        "    (mlt['sub group'] == 'ขายส่งห้างค้าปลีก'),\n",
        "    (mlt['sub group'] == 'ราคาสุกรมีชีวิต')\n",
        "    ]\n",
        "\n",
        "# create a list of the values we want to assign for each condition\n",
        "values = ['ราคาแนะนำเนื้อแดง','ราคาแนะนำเนื้อแดง','ราคาสุกรมีชีวิต']\n",
        "\n",
        "# create a new column and use np.select to assign values to it using our lists as arguments\n",
        "mlt['group'] = np.select(conditions, values)\n",
        "\n",
        "# display updated DataFrame\n",
        "mlt.head()"
      ],
      "execution_count": null,
      "outputs": [
        {
          "output_type": "execute_result",
          "data": {
            "text/html": [
              "<div>\n",
              "<style scoped>\n",
              "    .dataframe tbody tr th:only-of-type {\n",
              "        vertical-align: middle;\n",
              "    }\n",
              "\n",
              "    .dataframe tbody tr th {\n",
              "        vertical-align: top;\n",
              "    }\n",
              "\n",
              "    .dataframe thead th {\n",
              "        text-align: right;\n",
              "    }\n",
              "</style>\n",
              "<table border=\"1\" class=\"dataframe\">\n",
              "  <thead>\n",
              "    <tr style=\"text-align: right;\">\n",
              "      <th></th>\n",
              "      <th>วันที่</th>\n",
              "      <th>ภาค</th>\n",
              "      <th>sub group</th>\n",
              "      <th>value</th>\n",
              "      <th>group</th>\n",
              "    </tr>\n",
              "  </thead>\n",
              "  <tbody>\n",
              "    <tr>\n",
              "      <th>0</th>\n",
              "      <td>6 มกราคม 2564</td>\n",
              "      <td>ภาคตะวันตก</td>\n",
              "      <td>ราคาสุกรมีชีวิต</td>\n",
              "      <td>80</td>\n",
              "      <td>ราคาสุกรมีชีวิต</td>\n",
              "    </tr>\n",
              "    <tr>\n",
              "      <th>1</th>\n",
              "      <td>6 มกราคม 2564</td>\n",
              "      <td>ภาคตะวันออก</td>\n",
              "      <td>ราคาสุกรมีชีวิต</td>\n",
              "      <td>80</td>\n",
              "      <td>ราคาสุกรมีชีวิต</td>\n",
              "    </tr>\n",
              "    <tr>\n",
              "      <th>2</th>\n",
              "      <td>6 มกราคม 2564</td>\n",
              "      <td>ภาคอีสาน</td>\n",
              "      <td>ราคาสุกรมีชีวิต</td>\n",
              "      <td>80</td>\n",
              "      <td>ราคาสุกรมีชีวิต</td>\n",
              "    </tr>\n",
              "    <tr>\n",
              "      <th>3</th>\n",
              "      <td>6 มกราคม 2564</td>\n",
              "      <td>ภาคเหนือ</td>\n",
              "      <td>ราคาสุกรมีชีวิต</td>\n",
              "      <td>80</td>\n",
              "      <td>ราคาสุกรมีชีวิต</td>\n",
              "    </tr>\n",
              "    <tr>\n",
              "      <th>4</th>\n",
              "      <td>6 มกราคม 2564</td>\n",
              "      <td>ภาคใต้</td>\n",
              "      <td>ราคาสุกรมีชีวิต</td>\n",
              "      <td>80</td>\n",
              "      <td>ราคาสุกรมีชีวิต</td>\n",
              "    </tr>\n",
              "  </tbody>\n",
              "</table>\n",
              "</div>"
            ],
            "text/plain": [
              "          วันที่          ภาค        sub group value            group\n",
              "0  6 มกราคม 2564   ภาคตะวันตก  ราคาสุกรมีชีวิต    80  ราคาสุกรมีชีวิต\n",
              "1  6 มกราคม 2564  ภาคตะวันออก  ราคาสุกรมีชีวิต    80  ราคาสุกรมีชีวิต\n",
              "2  6 มกราคม 2564     ภาคอีสาน  ราคาสุกรมีชีวิต    80  ราคาสุกรมีชีวิต\n",
              "3  6 มกราคม 2564     ภาคเหนือ  ราคาสุกรมีชีวิต    80  ราคาสุกรมีชีวิต\n",
              "4  6 มกราคม 2564       ภาคใต้  ราคาสุกรมีชีวิต    80  ราคาสุกรมีชีวิต"
            ]
          },
          "metadata": {},
          "execution_count": 306
        }
      ]
    },
    {
      "cell_type": "code",
      "metadata": {
        "id": "T6tkng_si9sd"
      },
      "source": [
        "mlt['หน่วย'] = 'บาท/กิโลกรัม'"
      ],
      "execution_count": null,
      "outputs": []
    },
    {
      "cell_type": "code",
      "metadata": {
        "id": "8yMqfwlYmNjF"
      },
      "source": [
        "mlt['check val'] = mlt['value'].astype(str).str[0]"
      ],
      "execution_count": null,
      "outputs": []
    },
    {
      "cell_type": "code",
      "metadata": {
        "id": "00TCovaJI_Uj"
      },
      "source": [
        "mlt = mlt[mlt['check val'].str.isdigit()].drop(columns=['check val'])"
      ],
      "execution_count": null,
      "outputs": []
    },
    {
      "cell_type": "code",
      "metadata": {
        "colab": {
          "base_uri": "https://localhost:8080/"
        },
        "id": "_jdGDU3aMG3Q",
        "outputId": "c5b6c0aa-eda7-4772-9ce0-2849b710011d"
      },
      "source": [
        "mlt.value"
      ],
      "execution_count": null,
      "outputs": [
        {
          "output_type": "execute_result",
          "data": {
            "text/plain": [
              "0            80\n",
              "1            80\n",
              "2            80\n",
              "3            80\n",
              "4            80\n",
              "         ...   \n",
              "1270    122-126\n",
              "1271    128-134\n",
              "1272    132-136\n",
              "1273    136-140\n",
              "1274      65-67\n",
              "Name: value, Length: 1274, dtype: object"
            ]
          },
          "metadata": {},
          "execution_count": 310
        }
      ]
    },
    {
      "cell_type": "code",
      "metadata": {
        "id": "VC7BDViFMjpm"
      },
      "source": [
        "mlt[['min value','max value']] = mlt['value'].str.split('-',expand=True)"
      ],
      "execution_count": null,
      "outputs": []
    },
    {
      "cell_type": "code",
      "metadata": {
        "colab": {
          "base_uri": "https://localhost:8080/",
          "height": 206
        },
        "id": "ZcB9zgORNsVu",
        "outputId": "e129ef02-a2f5-456d-f82c-389b8dde40a7"
      },
      "source": [
        "mlt.head()"
      ],
      "execution_count": null,
      "outputs": [
        {
          "output_type": "execute_result",
          "data": {
            "text/html": [
              "<div>\n",
              "<style scoped>\n",
              "    .dataframe tbody tr th:only-of-type {\n",
              "        vertical-align: middle;\n",
              "    }\n",
              "\n",
              "    .dataframe tbody tr th {\n",
              "        vertical-align: top;\n",
              "    }\n",
              "\n",
              "    .dataframe thead th {\n",
              "        text-align: right;\n",
              "    }\n",
              "</style>\n",
              "<table border=\"1\" class=\"dataframe\">\n",
              "  <thead>\n",
              "    <tr style=\"text-align: right;\">\n",
              "      <th></th>\n",
              "      <th>วันที่</th>\n",
              "      <th>ภาค</th>\n",
              "      <th>sub group</th>\n",
              "      <th>value</th>\n",
              "      <th>group</th>\n",
              "      <th>หน่วย</th>\n",
              "      <th>min value</th>\n",
              "      <th>max value</th>\n",
              "    </tr>\n",
              "  </thead>\n",
              "  <tbody>\n",
              "    <tr>\n",
              "      <th>0</th>\n",
              "      <td>6 มกราคม 2564</td>\n",
              "      <td>ภาคตะวันตก</td>\n",
              "      <td>ราคาสุกรมีชีวิต</td>\n",
              "      <td>80</td>\n",
              "      <td>ราคาสุกรมีชีวิต</td>\n",
              "      <td>บาท/กิโลกรัม</td>\n",
              "      <td>80</td>\n",
              "      <td>None</td>\n",
              "    </tr>\n",
              "    <tr>\n",
              "      <th>1</th>\n",
              "      <td>6 มกราคม 2564</td>\n",
              "      <td>ภาคตะวันออก</td>\n",
              "      <td>ราคาสุกรมีชีวิต</td>\n",
              "      <td>80</td>\n",
              "      <td>ราคาสุกรมีชีวิต</td>\n",
              "      <td>บาท/กิโลกรัม</td>\n",
              "      <td>80</td>\n",
              "      <td>None</td>\n",
              "    </tr>\n",
              "    <tr>\n",
              "      <th>2</th>\n",
              "      <td>6 มกราคม 2564</td>\n",
              "      <td>ภาคอีสาน</td>\n",
              "      <td>ราคาสุกรมีชีวิต</td>\n",
              "      <td>80</td>\n",
              "      <td>ราคาสุกรมีชีวิต</td>\n",
              "      <td>บาท/กิโลกรัม</td>\n",
              "      <td>80</td>\n",
              "      <td>None</td>\n",
              "    </tr>\n",
              "    <tr>\n",
              "      <th>3</th>\n",
              "      <td>6 มกราคม 2564</td>\n",
              "      <td>ภาคเหนือ</td>\n",
              "      <td>ราคาสุกรมีชีวิต</td>\n",
              "      <td>80</td>\n",
              "      <td>ราคาสุกรมีชีวิต</td>\n",
              "      <td>บาท/กิโลกรัม</td>\n",
              "      <td>80</td>\n",
              "      <td>None</td>\n",
              "    </tr>\n",
              "    <tr>\n",
              "      <th>4</th>\n",
              "      <td>6 มกราคม 2564</td>\n",
              "      <td>ภาคใต้</td>\n",
              "      <td>ราคาสุกรมีชีวิต</td>\n",
              "      <td>80</td>\n",
              "      <td>ราคาสุกรมีชีวิต</td>\n",
              "      <td>บาท/กิโลกรัม</td>\n",
              "      <td>80</td>\n",
              "      <td>None</td>\n",
              "    </tr>\n",
              "  </tbody>\n",
              "</table>\n",
              "</div>"
            ],
            "text/plain": [
              "          วันที่          ภาค  ... min value max value\n",
              "0  6 มกราคม 2564   ภาคตะวันตก  ...        80      None\n",
              "1  6 มกราคม 2564  ภาคตะวันออก  ...        80      None\n",
              "2  6 มกราคม 2564     ภาคอีสาน  ...        80      None\n",
              "3  6 มกราคม 2564     ภาคเหนือ  ...        80      None\n",
              "4  6 มกราคม 2564       ภาคใต้  ...        80      None\n",
              "\n",
              "[5 rows x 8 columns]"
            ]
          },
          "metadata": {},
          "execution_count": 312
        }
      ]
    },
    {
      "cell_type": "code",
      "metadata": {
        "id": "2EVtZQMgMr7_"
      },
      "source": [
        "mlt['check min len'] = mlt['min value'].str.len()"
      ],
      "execution_count": null,
      "outputs": []
    },
    {
      "cell_type": "code",
      "metadata": {
        "id": "89Jg0gMzQY1l"
      },
      "source": [
        "mlt = mlt[mlt['check min len'] <= 3]"
      ],
      "execution_count": null,
      "outputs": []
    },
    {
      "cell_type": "code",
      "metadata": {
        "id": "5-Mi1FHtTVP4"
      },
      "source": [
        "mlt = mlt[mlt['check min len'] > 1].drop(columns=['check min len'])"
      ],
      "execution_count": null,
      "outputs": []
    },
    {
      "cell_type": "code",
      "metadata": {
        "id": "Vd8NZCEORM3a"
      },
      "source": [
        "mlt['max value'].fillna(mlt['min value'], inplace=True)"
      ],
      "execution_count": null,
      "outputs": []
    },
    {
      "cell_type": "code",
      "metadata": {
        "id": "8S9YYuQlRYCE"
      },
      "source": [
        "mlt['avg value'] = (mlt['min value'].astype(int)+mlt['max value'].astype(int))/2"
      ],
      "execution_count": null,
      "outputs": []
    },
    {
      "cell_type": "code",
      "metadata": {
        "colab": {
          "base_uri": "https://localhost:8080/",
          "height": 615
        },
        "id": "oPHf68NCSqWQ",
        "outputId": "2885470a-e142-4c50-d454-27122e62cebf"
      },
      "source": [
        "mlt"
      ],
      "execution_count": null,
      "outputs": [
        {
          "output_type": "execute_result",
          "data": {
            "text/html": [
              "<div>\n",
              "<style scoped>\n",
              "    .dataframe tbody tr th:only-of-type {\n",
              "        vertical-align: middle;\n",
              "    }\n",
              "\n",
              "    .dataframe tbody tr th {\n",
              "        vertical-align: top;\n",
              "    }\n",
              "\n",
              "    .dataframe thead th {\n",
              "        text-align: right;\n",
              "    }\n",
              "</style>\n",
              "<table border=\"1\" class=\"dataframe\">\n",
              "  <thead>\n",
              "    <tr style=\"text-align: right;\">\n",
              "      <th></th>\n",
              "      <th>วันที่</th>\n",
              "      <th>ภาค</th>\n",
              "      <th>sub group</th>\n",
              "      <th>value</th>\n",
              "      <th>group</th>\n",
              "      <th>หน่วย</th>\n",
              "      <th>min value</th>\n",
              "      <th>max value</th>\n",
              "      <th>avg value</th>\n",
              "    </tr>\n",
              "  </thead>\n",
              "  <tbody>\n",
              "    <tr>\n",
              "      <th>0</th>\n",
              "      <td>6 มกราคม 2564</td>\n",
              "      <td>ภาคตะวันตก</td>\n",
              "      <td>ราคาสุกรมีชีวิต</td>\n",
              "      <td>80</td>\n",
              "      <td>ราคาสุกรมีชีวิต</td>\n",
              "      <td>บาท/กิโลกรัม</td>\n",
              "      <td>80</td>\n",
              "      <td>80</td>\n",
              "      <td>80.0</td>\n",
              "    </tr>\n",
              "    <tr>\n",
              "      <th>1</th>\n",
              "      <td>6 มกราคม 2564</td>\n",
              "      <td>ภาคตะวันออก</td>\n",
              "      <td>ราคาสุกรมีชีวิต</td>\n",
              "      <td>80</td>\n",
              "      <td>ราคาสุกรมีชีวิต</td>\n",
              "      <td>บาท/กิโลกรัม</td>\n",
              "      <td>80</td>\n",
              "      <td>80</td>\n",
              "      <td>80.0</td>\n",
              "    </tr>\n",
              "    <tr>\n",
              "      <th>2</th>\n",
              "      <td>6 มกราคม 2564</td>\n",
              "      <td>ภาคอีสาน</td>\n",
              "      <td>ราคาสุกรมีชีวิต</td>\n",
              "      <td>80</td>\n",
              "      <td>ราคาสุกรมีชีวิต</td>\n",
              "      <td>บาท/กิโลกรัม</td>\n",
              "      <td>80</td>\n",
              "      <td>80</td>\n",
              "      <td>80.0</td>\n",
              "    </tr>\n",
              "    <tr>\n",
              "      <th>3</th>\n",
              "      <td>6 มกราคม 2564</td>\n",
              "      <td>ภาคเหนือ</td>\n",
              "      <td>ราคาสุกรมีชีวิต</td>\n",
              "      <td>80</td>\n",
              "      <td>ราคาสุกรมีชีวิต</td>\n",
              "      <td>บาท/กิโลกรัม</td>\n",
              "      <td>80</td>\n",
              "      <td>80</td>\n",
              "      <td>80.0</td>\n",
              "    </tr>\n",
              "    <tr>\n",
              "      <th>4</th>\n",
              "      <td>6 มกราคม 2564</td>\n",
              "      <td>ภาคใต้</td>\n",
              "      <td>ราคาสุกรมีชีวิต</td>\n",
              "      <td>80</td>\n",
              "      <td>ราคาสุกรมีชีวิต</td>\n",
              "      <td>บาท/กิโลกรัม</td>\n",
              "      <td>80</td>\n",
              "      <td>80</td>\n",
              "      <td>80.0</td>\n",
              "    </tr>\n",
              "    <tr>\n",
              "      <th>...</th>\n",
              "      <td>...</td>\n",
              "      <td>...</td>\n",
              "      <td>...</td>\n",
              "      <td>...</td>\n",
              "      <td>...</td>\n",
              "      <td>...</td>\n",
              "      <td>...</td>\n",
              "      <td>...</td>\n",
              "      <td>...</td>\n",
              "    </tr>\n",
              "    <tr>\n",
              "      <th>1270</th>\n",
              "      <td>30 พฤศจิกายน 2561</td>\n",
              "      <td>ภาคตะวันตก</td>\n",
              "      <td>ขายปลีก</td>\n",
              "      <td>122-126</td>\n",
              "      <td>ราคาแนะนำเนื้อแดง</td>\n",
              "      <td>บาท/กิโลกรัม</td>\n",
              "      <td>122</td>\n",
              "      <td>126</td>\n",
              "      <td>124.0</td>\n",
              "    </tr>\n",
              "    <tr>\n",
              "      <th>1271</th>\n",
              "      <td>30 พฤศจิกายน 2561</td>\n",
              "      <td>ภาคตะวันออก</td>\n",
              "      <td>ขายปลีก</td>\n",
              "      <td>128-134</td>\n",
              "      <td>ราคาแนะนำเนื้อแดง</td>\n",
              "      <td>บาท/กิโลกรัม</td>\n",
              "      <td>128</td>\n",
              "      <td>134</td>\n",
              "      <td>131.0</td>\n",
              "    </tr>\n",
              "    <tr>\n",
              "      <th>1272</th>\n",
              "      <td>30 พฤศจิกายน 2561</td>\n",
              "      <td>ภาคอีสาน</td>\n",
              "      <td>ขายปลีก</td>\n",
              "      <td>132-136</td>\n",
              "      <td>ราคาแนะนำเนื้อแดง</td>\n",
              "      <td>บาท/กิโลกรัม</td>\n",
              "      <td>132</td>\n",
              "      <td>136</td>\n",
              "      <td>134.0</td>\n",
              "    </tr>\n",
              "    <tr>\n",
              "      <th>1273</th>\n",
              "      <td>30 พฤศจิกายน 2561</td>\n",
              "      <td>ภาคเหนือ</td>\n",
              "      <td>ขายปลีก</td>\n",
              "      <td>136-140</td>\n",
              "      <td>ราคาแนะนำเนื้อแดง</td>\n",
              "      <td>บาท/กิโลกรัม</td>\n",
              "      <td>136</td>\n",
              "      <td>140</td>\n",
              "      <td>138.0</td>\n",
              "    </tr>\n",
              "    <tr>\n",
              "      <th>1274</th>\n",
              "      <td>30 พฤศจิกายน 2561</td>\n",
              "      <td>ภาคใต้</td>\n",
              "      <td>ขายปลีก</td>\n",
              "      <td>65-67</td>\n",
              "      <td>ราคาแนะนำเนื้อแดง</td>\n",
              "      <td>บาท/กิโลกรัม</td>\n",
              "      <td>65</td>\n",
              "      <td>67</td>\n",
              "      <td>66.0</td>\n",
              "    </tr>\n",
              "  </tbody>\n",
              "</table>\n",
              "<p>1255 rows × 9 columns</p>\n",
              "</div>"
            ],
            "text/plain": [
              "                 วันที่          ภาค  ... max value avg value\n",
              "0         6 มกราคม 2564   ภาคตะวันตก  ...        80      80.0\n",
              "1         6 มกราคม 2564  ภาคตะวันออก  ...        80      80.0\n",
              "2         6 มกราคม 2564     ภาคอีสาน  ...        80      80.0\n",
              "3         6 มกราคม 2564     ภาคเหนือ  ...        80      80.0\n",
              "4         6 มกราคม 2564       ภาคใต้  ...        80      80.0\n",
              "...                 ...          ...  ...       ...       ...\n",
              "1270  30 พฤศจิกายน 2561   ภาคตะวันตก  ...       126     124.0\n",
              "1271  30 พฤศจิกายน 2561  ภาคตะวันออก  ...       134     131.0\n",
              "1272  30 พฤศจิกายน 2561     ภาคอีสาน  ...       136     134.0\n",
              "1273  30 พฤศจิกายน 2561     ภาคเหนือ  ...       140     138.0\n",
              "1274  30 พฤศจิกายน 2561       ภาคใต้  ...        67      66.0\n",
              "\n",
              "[1255 rows x 9 columns]"
            ]
          },
          "metadata": {},
          "execution_count": 319
        }
      ]
    },
    {
      "cell_type": "code",
      "metadata": {
        "id": "T3sfioafm7wW"
      },
      "source": [
        "mlt.to_excel('swine_thailand.xlsx',index=False)"
      ],
      "execution_count": null,
      "outputs": []
    },
    {
      "cell_type": "code",
      "metadata": {
        "id": "1XwjUYsDStVc"
      },
      "source": [
        ""
      ],
      "execution_count": null,
      "outputs": []
    }
  ]
}