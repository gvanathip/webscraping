{
  "nbformat": 4,
  "nbformat_minor": 0,
  "metadata": {
    "colab": {
      "name": "CarParkBKK.ipynb",
      "provenance": [],
      "authorship_tag": "ABX9TyMr+3nZxiwSE86TCS7KBqqd",
      "include_colab_link": true
    },
    "kernelspec": {
      "name": "python3",
      "display_name": "Python 3"
    },
    "language_info": {
      "name": "python"
    }
  },
  "cells": [
    {
      "cell_type": "markdown",
      "metadata": {
        "id": "view-in-github",
        "colab_type": "text"
      },
      "source": [
        "<a href=\"https://colab.research.google.com/github/gvanathip/webscraping/blob/main/CarParkBKK.ipynb\" target=\"_parent\"><img src=\"https://colab.research.google.com/assets/colab-badge.svg\" alt=\"Open In Colab\"/></a>"
      ]
    },
    {
      "cell_type": "code",
      "metadata": {
        "id": "bPEHpwhphPoO",
        "colab": {
          "base_uri": "https://localhost:8080/"
        },
        "outputId": "9d9d503e-0950-45f3-db43-11b71b77909a"
      },
      "source": [
        "pip install requests"
      ],
      "execution_count": null,
      "outputs": [
        {
          "output_type": "stream",
          "text": [
            "Requirement already satisfied: requests in /usr/local/lib/python3.7/dist-packages (2.23.0)\n",
            "Requirement already satisfied: idna<3,>=2.5 in /usr/local/lib/python3.7/dist-packages (from requests) (2.10)\n",
            "Requirement already satisfied: certifi>=2017.4.17 in /usr/local/lib/python3.7/dist-packages (from requests) (2021.5.30)\n",
            "Requirement already satisfied: chardet<4,>=3.0.2 in /usr/local/lib/python3.7/dist-packages (from requests) (3.0.4)\n",
            "Requirement already satisfied: urllib3!=1.25.0,!=1.25.1,<1.26,>=1.21.1 in /usr/local/lib/python3.7/dist-packages (from requests) (1.24.3)\n"
          ],
          "name": "stdout"
        }
      ]
    },
    {
      "cell_type": "code",
      "metadata": {
        "colab": {
          "base_uri": "https://localhost:8080/"
        },
        "id": "9FnotTrTstEc",
        "outputId": "06ec14cd-f78d-4ba5-b250-affa6c57f535"
      },
      "source": [
        "pip install beautifulsoup4"
      ],
      "execution_count": null,
      "outputs": [
        {
          "output_type": "stream",
          "text": [
            "Requirement already satisfied: beautifulsoup4 in /usr/local/lib/python3.7/dist-packages (4.6.3)\n"
          ],
          "name": "stdout"
        }
      ]
    },
    {
      "cell_type": "code",
      "metadata": {
        "id": "f5YUJJ3Qsvfe"
      },
      "source": [
        "from bs4 import BeautifulSoup\n",
        "import requests"
      ],
      "execution_count": null,
      "outputs": []
    },
    {
      "cell_type": "code",
      "metadata": {
        "id": "RBYuZ866d-9z"
      },
      "source": [
        "url1 = 'https://parkandridefinder.com/parking-2/'\n",
        "url2 = 'https://parkandridefinder.com/parking-2/page/2/'\n",
        "url3 = 'https://parkandridefinder.com/parking-2/page/3/'"
      ],
      "execution_count": null,
      "outputs": []
    },
    {
      "cell_type": "code",
      "metadata": {
        "id": "SxrnTmRJwMep"
      },
      "source": [
        "urls = [url1,url2,url3]"
      ],
      "execution_count": null,
      "outputs": []
    },
    {
      "cell_type": "code",
      "metadata": {
        "colab": {
          "base_uri": "https://localhost:8080/"
        },
        "id": "g_bpHRmesylx",
        "outputId": "78190162-c786-4b5b-b11a-29973f04d7a2"
      },
      "source": [
        "a = []\n",
        "for url in urls:\n",
        "  res = requests.get(url)\n",
        "  res.encoding = \"utf-8\"\n",
        "  soup = BeautifulSoup(res.text, 'html.parser')\n",
        "  print(len(soup.find_all('a')))\n",
        "  for i in soup.find_all('a'):\n",
        "    a.append(i)"
      ],
      "execution_count": null,
      "outputs": [
        {
          "output_type": "stream",
          "text": [
            "530\n",
            "477\n",
            "188\n"
          ],
          "name": "stdout"
        }
      ]
    },
    {
      "cell_type": "code",
      "metadata": {
        "colab": {
          "base_uri": "https://localhost:8080/"
        },
        "id": "3fGQcsDavhRD",
        "outputId": "c529be97-d9a5-4d36-e899-47922ee66f6f"
      },
      "source": [
        "len(a)"
      ],
      "execution_count": null,
      "outputs": [
        {
          "output_type": "execute_result",
          "data": {
            "text/plain": [
              "1195"
            ]
          },
          "metadata": {
            "tags": []
          },
          "execution_count": 73
        }
      ]
    },
    {
      "cell_type": "code",
      "metadata": {
        "id": "zUCQEdtnyFhJ"
      },
      "source": [
        "links = []\n",
        "for i in a:\n",
        "  if i.get('href'):\n",
        "    links.append(i.get('href'))"
      ],
      "execution_count": null,
      "outputs": []
    },
    {
      "cell_type": "code",
      "metadata": {
        "id": "Mdb9jvtG0i1D"
      },
      "source": [
        "correct_links = []\n",
        "for link in links:\n",
        "  if 'properties' in link:\n",
        "    correct_links.append(link)"
      ],
      "execution_count": null,
      "outputs": []
    },
    {
      "cell_type": "code",
      "metadata": {
        "id": "jIpU_HWl0RiX"
      },
      "source": [
        "correct_links = list(set(correct_links))"
      ],
      "execution_count": null,
      "outputs": []
    },
    {
      "cell_type": "code",
      "metadata": {
        "colab": {
          "base_uri": "https://localhost:8080/"
        },
        "id": "Nb8fMgvSyY6N",
        "outputId": "f817c904-2731-4553-8708-642f8caa1daf"
      },
      "source": [
        "len(correct_links)"
      ],
      "execution_count": null,
      "outputs": [
        {
          "output_type": "execute_result",
          "data": {
            "text/plain": [
              "186"
            ]
          },
          "metadata": {
            "tags": []
          },
          "execution_count": 89
        }
      ]
    },
    {
      "cell_type": "code",
      "metadata": {
        "id": "MGldi4BtpcFy"
      },
      "source": [
        "content = []\n",
        "for link in correct_links:\n",
        "  test = requests.get(link)\n",
        "  test.encoding = \"utf-8\"\n",
        "  soup_test = BeautifulSoup(test.text, 'html.parser')\n",
        "\n",
        "  for i in soup_test.find_all('a'):\n",
        "    if i.get('href'):\n",
        "      if 'maps.google' in i.get('href'):\n",
        "        lat = i.get('href').split('=')[-1].split(',')[0]\n",
        "        lng = i.get('href').split('=')[-1].split(',')[1]\n",
        "  \n",
        "  name = soup_test.title.string.split(' – ')[0]\n",
        "\n",
        "  body = []\n",
        "  for i in soup_test.find_all('span'):\n",
        "    if i.string:\n",
        "      body.append(i.string)\n",
        "\n",
        "  body = body[body.index('ประเภท : '):]\n",
        "\n",
        "  flag = dict()\n",
        "  for i in range(len(body)):\n",
        "    if body[i][-3:] == ' : ':\n",
        "      flag[i] = 'title'\n",
        "    else:\n",
        "      flag[i] = 'detail'\n",
        "    \n",
        "  id = dict()\n",
        "  for i in range(len(body)):\n",
        "    id[i] = body[i]\n",
        "  \n",
        "  info = dict()\n",
        "  for i in range(len(id)):\n",
        "    if i+3 < len(id):\n",
        "      if flag[i] == 'title' and flag[i+1] == 'detail':\n",
        "        info[id[i]] = id[i+1]\n",
        "      elif i+3 < len(id):\n",
        "        if flag[i] == 'title' and flag[i+1] == 'detail' and flag[i+2] == 'detail':\n",
        "          info[id[i]] = id[i+1]+id[i+2]\n",
        "\n",
        "  \n",
        "  info['name'] = name\n",
        "  info['lat'] = lat\n",
        "  info['lng'] = lng\n",
        "\n",
        "  content.append(info)"
      ],
      "execution_count": null,
      "outputs": []
    },
    {
      "cell_type": "code",
      "metadata": {
        "id": "1Y6Txxi4pLC4"
      },
      "source": [
        "df = pd.DataFrame(content)"
      ],
      "execution_count": null,
      "outputs": []
    },
    {
      "cell_type": "code",
      "metadata": {
        "colab": {
          "base_uri": "https://localhost:8080/",
          "height": 734
        },
        "id": "m7fkHbHuzY_o",
        "outputId": "c6b7fad2-b81c-417c-dc0b-0fe26a45b554"
      },
      "source": [
        "df.head()"
      ],
      "execution_count": 261,
      "outputs": [
        {
          "output_type": "execute_result",
          "data": {
            "text/html": [
              "<div>\n",
              "<style scoped>\n",
              "    .dataframe tbody tr th:only-of-type {\n",
              "        vertical-align: middle;\n",
              "    }\n",
              "\n",
              "    .dataframe tbody tr th {\n",
              "        vertical-align: top;\n",
              "    }\n",
              "\n",
              "    .dataframe thead th {\n",
              "        text-align: right;\n",
              "    }\n",
              "</style>\n",
              "<table border=\"1\" class=\"dataframe\">\n",
              "  <thead>\n",
              "    <tr style=\"text-align: right;\">\n",
              "      <th></th>\n",
              "      <th>ประเภท :</th>\n",
              "      <th>รายชั่วโมง :</th>\n",
              "      <th>รายวัน :</th>\n",
              "      <th>รายเดือน :</th>\n",
              "      <th>ระยะเดินเท้าไปสถานี :</th>\n",
              "      <th>จำนวนที่จอดรถ :</th>\n",
              "      <th>สถานที่ตั้ง :</th>\n",
              "      <th>เวลาทำการ :</th>\n",
              "      <th>รายละเอียดติดต่อ :</th>\n",
              "      <th>name</th>\n",
              "      <th>lat</th>\n",
              "      <th>lng</th>\n",
              "      <th>จำนวนที่จอดมอเตอร์ไซต์ :</th>\n",
              "      <th>ย่าน :</th>\n",
              "      <th>สถานี :</th>\n",
              "    </tr>\n",
              "  </thead>\n",
              "  <tbody>\n",
              "    <tr>\n",
              "      <th>0</th>\n",
              "      <td>ลานจอดรถ</td>\n",
              "      <td>-</td>\n",
              "      <td>30 บาท</td>\n",
              "      <td>1,000 บาท</td>\n",
              "      <td>300 เมตร</td>\n",
              "      <td>250</td>\n",
              "      <td>อยู่ในซอย</td>\n",
              "      <td>5.30-21.00</td>\n",
              "      <td>ติดต่อ ณ ที่จอดรถ</td>\n",
              "      <td>วัดประดู่บางจาก</td>\n",
              "      <td>13.722737000000008</td>\n",
              "      <td>100.4557810158692</td>\n",
              "      <td>NaN</td>\n",
              "      <td>NaN</td>\n",
              "      <td>NaN</td>\n",
              "    </tr>\n",
              "    <tr>\n",
              "      <th>1</th>\n",
              "      <td>ลานจอดรถ</td>\n",
              "      <td>NaN</td>\n",
              "      <td>NaN</td>\n",
              "      <td>2,000 บาท</td>\n",
              "      <td>ุ400 เมตร</td>\n",
              "      <td>10</td>\n",
              "      <td>อยู่ในซอย</td>\n",
              "      <td>24 ชั่วโมง</td>\n",
              "      <td>สนใจติดต่อ 0-97045-1720</td>\n",
              "      <td>Wutthakat parking</td>\n",
              "      <td>13.715344</td>\n",
              "      <td>100.468489</td>\n",
              "      <td>NaN</td>\n",
              "      <td>NaN</td>\n",
              "      <td>NaN</td>\n",
              "    </tr>\n",
              "    <tr>\n",
              "      <th>2</th>\n",
              "      <td>ลานจอดรถ</td>\n",
              "      <td>ฟรี</td>\n",
              "      <td>ฟรี</td>\n",
              "      <td>ฟรี</td>\n",
              "      <td>50 เมตร</td>\n",
              "      <td>1,250</td>\n",
              "      <td>ติดถนนใหญ่</td>\n",
              "      <td>05.00-01.00</td>\n",
              "      <td>NaN</td>\n",
              "      <td>ลานจอดรถ BTS หมอชิต</td>\n",
              "      <td>13.80373</td>\n",
              "      <td>100.554885</td>\n",
              "      <td>-</td>\n",
              "      <td>NaN</td>\n",
              "      <td>NaN</td>\n",
              "    </tr>\n",
              "    <tr>\n",
              "      <th>3</th>\n",
              "      <td>อาคารจอดรถ</td>\n",
              "      <td>NaN</td>\n",
              "      <td>NaN</td>\n",
              "      <td>2,200</td>\n",
              "      <td>450 เมตร</td>\n",
              "      <td>NaN</td>\n",
              "      <td>อยู่ในซอย</td>\n",
              "      <td>06:00 - 24:00 Hrs.</td>\n",
              "      <td>สนใจติดต่อ 089-939-7037 คุณกาแฟ หรือ 081-373-3...</td>\n",
              "      <td>Bangkok Hotel Lotus Sukhumvit</td>\n",
              "      <td>13.7334628</td>\n",
              "      <td>100.5670827</td>\n",
              "      <td>NaN</td>\n",
              "      <td>NaN</td>\n",
              "      <td>NaN</td>\n",
              "    </tr>\n",
              "    <tr>\n",
              "      <th>4</th>\n",
              "      <td>อาคารจอดรถ</td>\n",
              "      <td>2 ชั่วโมงแรก 20 บาท ชั่วโมงถัดไป ชั่วโมงละ 20 บาท</td>\n",
              "      <td>- รายวัน 1-4 ชั่วโมงแรก 30 บาท/ชั่วโมง - ชั่วโ...</td>\n",
              "      <td>4,000 บาท</td>\n",
              "      <td>1,000 เมตร</td>\n",
              "      <td>250 คัน</td>\n",
              "      <td>อยู่ในซอย</td>\n",
              "      <td>24 ชั่วโมง</td>\n",
              "      <td>สอบถาม โทร. 095-710-1731</td>\n",
              "      <td>loco 24 parking DRAGONTOWN</td>\n",
              "      <td>13.741314476426687</td>\n",
              "      <td>100.52399917417029</td>\n",
              "      <td>NaN</td>\n",
              "      <td>NaN</td>\n",
              "      <td>NaN</td>\n",
              "    </tr>\n",
              "  </tbody>\n",
              "</table>\n",
              "</div>"
            ],
            "text/plain": [
              "    ประเภท :   ... สถานี : \n",
              "0    ลานจอดรถ  ...      NaN\n",
              "1    ลานจอดรถ  ...      NaN\n",
              "2    ลานจอดรถ  ...      NaN\n",
              "3  อาคารจอดรถ  ...      NaN\n",
              "4  อาคารจอดรถ  ...      NaN\n",
              "\n",
              "[5 rows x 15 columns]"
            ]
          },
          "metadata": {
            "tags": []
          },
          "execution_count": 261
        }
      ]
    },
    {
      "cell_type": "code",
      "metadata": {
        "colab": {
          "base_uri": "https://localhost:8080/"
        },
        "id": "yz64NNeKzcLs",
        "outputId": "0a6085c5-8ab2-4df1-95f3-7f25f85587ef"
      },
      "source": [
        "pip install xlsxwriter"
      ],
      "execution_count": 262,
      "outputs": [
        {
          "output_type": "stream",
          "text": [
            "Collecting xlsxwriter\n",
            "\u001b[?25l  Downloading https://files.pythonhosted.org/packages/93/51/11cb4545e95f1a845a6ca5475eb425272dc32c2f0e3592d80e7abd491374/XlsxWriter-1.4.4-py2.py3-none-any.whl (149kB)\n",
            "\r\u001b[K     |██▏                             | 10kB 13.6MB/s eta 0:00:01\r\u001b[K     |████▍                           | 20kB 9.1MB/s eta 0:00:01\r\u001b[K     |██████▋                         | 30kB 7.6MB/s eta 0:00:01\r\u001b[K     |████████▊                       | 40kB 7.1MB/s eta 0:00:01\r\u001b[K     |███████████                     | 51kB 4.0MB/s eta 0:00:01\r\u001b[K     |█████████████▏                  | 61kB 4.2MB/s eta 0:00:01\r\u001b[K     |███████████████▎                | 71kB 4.6MB/s eta 0:00:01\r\u001b[K     |█████████████████▌              | 81kB 5.1MB/s eta 0:00:01\r\u001b[K     |███████████████████▊            | 92kB 4.9MB/s eta 0:00:01\r\u001b[K     |██████████████████████          | 102kB 4.1MB/s eta 0:00:01\r\u001b[K     |████████████████████████        | 112kB 4.1MB/s eta 0:00:01\r\u001b[K     |██████████████████████████▎     | 122kB 4.1MB/s eta 0:00:01\r\u001b[K     |████████████████████████████▌   | 133kB 4.1MB/s eta 0:00:01\r\u001b[K     |██████████████████████████████▋ | 143kB 4.1MB/s eta 0:00:01\r\u001b[K     |████████████████████████████████| 153kB 4.1MB/s \n",
            "\u001b[?25hInstalling collected packages: xlsxwriter\n",
            "Successfully installed xlsxwriter-1.4.4\n"
          ],
          "name": "stdout"
        }
      ]
    },
    {
      "cell_type": "code",
      "metadata": {
        "id": "Whj-SHxMyYy7"
      },
      "source": [
        "out_path = \"/content/drive/MyDrive/public_database/CarParkBKK.xlsx\"\n",
        "\n",
        "writer = pd.ExcelWriter(out_path, engine='xlsxwriter')\n",
        "df.to_excel(writer, index=False)\n",
        "writer.save() "
      ],
      "execution_count": 264,
      "outputs": []
    },
    {
      "cell_type": "code",
      "metadata": {
        "id": "9fV4WJqayfa8"
      },
      "source": [
        ""
      ],
      "execution_count": null,
      "outputs": []
    }
  ]
}