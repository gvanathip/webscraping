{
  "nbformat": 4,
  "nbformat_minor": 0,
  "metadata": {
    "colab": {
      "name": "publicdata_price.ipynb",
      "provenance": [],
      "collapsed_sections": [
        "tvK1_Hvx64bm",
        "waKfPyIt7TSv",
        "WJEPz4uv8VpM",
        "x-F-ka2w9aMe",
        "cINEKh2z977t",
        "kFMlTyIA-XL3",
        "kJmxZSsS-4oC",
        "5Kl_C69z_VfG",
        "ebJS159x_0X1",
        "iMf-5jAy_9wb",
        "pjnSPblwrANl"
      ],
      "toc_visible": true,
      "mount_file_id": "1wqc4mVAVHrpcxNroU_KYlL9DH6AX5cky",
      "authorship_tag": "ABX9TyPfMzLczv2qcjbNi+ZNSs8c",
      "include_colab_link": true
    },
    "kernelspec": {
      "display_name": "Python 3",
      "name": "python3"
    },
    "language_info": {
      "name": "python"
    }
  },
  "cells": [
    {
      "cell_type": "markdown",
      "metadata": {
        "id": "view-in-github",
        "colab_type": "text"
      },
      "source": [
        "<a href=\"https://colab.research.google.com/github/gvanathip/webscraping/blob/food_livestock_pricing/publicdata_price.ipynb\" target=\"_parent\"><img src=\"https://colab.research.google.com/assets/colab-badge.svg\" alt=\"Open In Colab\"/></a>"
      ]
    },
    {
      "cell_type": "markdown",
      "metadata": {
        "id": "tvK1_Hvx64bm"
      },
      "source": [
        "# Start"
      ]
    },
    {
      "cell_type": "code",
      "metadata": {
        "colab": {
          "base_uri": "https://localhost:8080/"
        },
        "id": "-cwMk5nQIWwX",
        "outputId": "aa3d3fdf-ca73-4c63-b2a0-95c86e72f311"
      },
      "source": [
        "pip install selenium"
      ],
      "execution_count": 281,
      "outputs": [
        {
          "output_type": "stream",
          "text": [
            "Requirement already satisfied: selenium in /usr/local/lib/python3.7/dist-packages (3.141.0)\n",
            "Requirement already satisfied: urllib3 in /usr/local/lib/python3.7/dist-packages (from selenium) (1.24.3)\n"
          ],
          "name": "stdout"
        }
      ]
    },
    {
      "cell_type": "code",
      "metadata": {
        "colab": {
          "base_uri": "https://localhost:8080/"
        },
        "id": "VTvqs711IbVX",
        "outputId": "b1480f05-abe9-47bf-89ff-e06657e8c91f"
      },
      "source": [
        "pip install webdriver_manager"
      ],
      "execution_count": 282,
      "outputs": [
        {
          "output_type": "stream",
          "text": [
            "Requirement already satisfied: webdriver_manager in /usr/local/lib/python3.7/dist-packages (3.4.2)\n",
            "Requirement already satisfied: requests in /usr/local/lib/python3.7/dist-packages (from webdriver_manager) (2.23.0)\n",
            "Requirement already satisfied: configparser in /usr/local/lib/python3.7/dist-packages (from webdriver_manager) (5.0.2)\n",
            "Requirement already satisfied: crayons in /usr/local/lib/python3.7/dist-packages (from webdriver_manager) (0.4.0)\n",
            "Requirement already satisfied: colorama in /usr/local/lib/python3.7/dist-packages (from crayons->webdriver_manager) (0.4.4)\n",
            "Requirement already satisfied: certifi>=2017.4.17 in /usr/local/lib/python3.7/dist-packages (from requests->webdriver_manager) (2021.5.30)\n",
            "Requirement already satisfied: idna<3,>=2.5 in /usr/local/lib/python3.7/dist-packages (from requests->webdriver_manager) (2.10)\n",
            "Requirement already satisfied: chardet<4,>=3.0.2 in /usr/local/lib/python3.7/dist-packages (from requests->webdriver_manager) (3.0.4)\n",
            "Requirement already satisfied: urllib3!=1.25.0,!=1.25.1,<1.26,>=1.21.1 in /usr/local/lib/python3.7/dist-packages (from requests->webdriver_manager) (1.24.3)\n"
          ],
          "name": "stdout"
        }
      ]
    },
    {
      "cell_type": "code",
      "metadata": {
        "colab": {
          "base_uri": "https://localhost:8080/"
        },
        "id": "llK0j4q3IfFh",
        "outputId": "5512f4e8-3d41-48b6-ed51-e5d17e92f3bf"
      },
      "source": [
        "!pip install selenium\n",
        "!apt-get update # to update ubuntu to correctly run apt install\n",
        "!apt install chromium-chromedriver\n",
        "!cp /usr/lib/chromium-browser/chromedriver /usr/bin\n",
        "import sys\n",
        "sys.path.insert(0,'/usr/lib/chromium-browser/chromedriver')"
      ],
      "execution_count": 283,
      "outputs": [
        {
          "output_type": "stream",
          "text": [
            "Requirement already satisfied: selenium in /usr/local/lib/python3.7/dist-packages (3.141.0)\n",
            "Requirement already satisfied: urllib3 in /usr/local/lib/python3.7/dist-packages (from selenium) (1.24.3)\n",
            "Ign:1 https://developer.download.nvidia.com/compute/cuda/repos/ubuntu1804/x86_64  InRelease\n",
            "Hit:2 https://cloud.r-project.org/bin/linux/ubuntu bionic-cran40/ InRelease\n",
            "Ign:3 https://developer.download.nvidia.com/compute/machine-learning/repos/ubuntu1804/x86_64  InRelease\n",
            "Hit:4 https://developer.download.nvidia.com/compute/cuda/repos/ubuntu1804/x86_64  Release\n",
            "Hit:5 https://developer.download.nvidia.com/compute/machine-learning/repos/ubuntu1804/x86_64  Release\n",
            "Get:6 http://security.ubuntu.com/ubuntu bionic-security InRelease [88.7 kB]\n",
            "Hit:7 http://archive.ubuntu.com/ubuntu bionic InRelease\n",
            "Get:9 http://archive.ubuntu.com/ubuntu bionic-updates InRelease [88.7 kB]\n",
            "Get:10 http://ppa.launchpad.net/c2d4u.team/c2d4u4.0+/ubuntu bionic InRelease [15.9 kB]\n",
            "Hit:12 http://ppa.launchpad.net/cran/libgit2/ubuntu bionic InRelease\n",
            "Get:13 http://archive.ubuntu.com/ubuntu bionic-backports InRelease [74.6 kB]\n",
            "Hit:14 http://ppa.launchpad.net/deadsnakes/ppa/ubuntu bionic InRelease\n",
            "Hit:15 http://ppa.launchpad.net/graphics-drivers/ppa/ubuntu bionic InRelease\n",
            "Get:16 http://archive.ubuntu.com/ubuntu bionic-updates/universe amd64 Packages [2,196 kB]\n",
            "Get:17 http://ppa.launchpad.net/c2d4u.team/c2d4u4.0+/ubuntu bionic/main Sources [1,786 kB]\n",
            "Get:18 http://archive.ubuntu.com/ubuntu bionic-updates/main amd64 Packages [2,699 kB]\n",
            "Get:19 http://ppa.launchpad.net/c2d4u.team/c2d4u4.0+/ubuntu bionic/main amd64 Packages [914 kB]\n",
            "Fetched 7,863 kB in 4s (2,075 kB/s)\n",
            "Reading package lists... Done\n",
            "Reading package lists... Done\n",
            "Building dependency tree       \n",
            "Reading state information... Done\n",
            "chromium-chromedriver is already the newest version (91.0.4472.101-0ubuntu0.18.04.1).\n",
            "0 upgraded, 0 newly installed, 0 to remove and 104 not upgraded.\n",
            "cp: '/usr/lib/chromium-browser/chromedriver' and '/usr/bin/chromedriver' are the same file\n"
          ],
          "name": "stdout"
        }
      ]
    },
    {
      "cell_type": "code",
      "metadata": {
        "id": "en3z85dLIFLY"
      },
      "source": [
        "import os\n",
        "import selenium\n",
        "from selenium import webdriver\n",
        "import time\n",
        "from PIL import Image\n",
        "import io\n",
        "import requests\n",
        "#from webdriver_manager.chrome import ChromeDriverManager\n",
        "from selenium.common.exceptions import ElementClickInterceptedException\n",
        "import datetime\n",
        "import pandas as pd"
      ],
      "execution_count": 284,
      "outputs": []
    },
    {
      "cell_type": "code",
      "metadata": {
        "id": "5njhnC63IT1Z"
      },
      "source": [
        "# from google.colab import drive\n",
        "# drive.mount('/content/drive')\n",
        "\n",
        "# %cd drive/my-drive"
      ],
      "execution_count": 285,
      "outputs": []
    },
    {
      "cell_type": "code",
      "metadata": {
        "id": "2LLVbqE-Qaf1"
      },
      "source": [
        "ct = datetime.datetime.now()"
      ],
      "execution_count": 286,
      "outputs": []
    },
    {
      "cell_type": "code",
      "metadata": {
        "colab": {
          "base_uri": "https://localhost:8080/"
        },
        "id": "am8Fo2CQX_eo",
        "outputId": "187a7b63-4ebc-48f2-8018-823ada8a27e0"
      },
      "source": [
        "from selenium import webdriver\n",
        "chrome_options = webdriver.ChromeOptions()\n",
        "chrome_options.add_argument('--headless')\n",
        "chrome_options.add_argument('--no-sandbox')\n",
        "chrome_options.add_argument('--disable-dev-shm-usage')\n",
        "driver = webdriver.Chrome('chromedriver',chrome_options=chrome_options)"
      ],
      "execution_count": 287,
      "outputs": [
        {
          "output_type": "stream",
          "text": [
            "/usr/local/lib/python3.7/dist-packages/ipykernel_launcher.py:6: DeprecationWarning: use options instead of chrome_options\n",
            "  \n"
          ],
          "name": "stderr"
        }
      ]
    },
    {
      "cell_type": "code",
      "metadata": {
        "id": "jlBXovLuf0-K"
      },
      "source": [
        "monthlist = {\n",
        "    \"ม.ค.\": \"January\",\n",
        "    \"ก.พ.\": \"February\",\n",
        "    \"มี.ค.\": \"Mar\",\n",
        "    \"เม.ย.\": \"April\",\n",
        "    \"พ.ค.\": \"May\",\n",
        "    \"มิ.ย.\": \"June\",\n",
        "    \"ก.ค.\": \"July\",\n",
        "    \"ส.ค.\": \"August\",\n",
        "    \"ก.ย.\": \"September\",\n",
        "    \"ต.ค.\": \"October\",\n",
        "    \"พ.ย.\": \"November\",\n",
        "    \"ธ.ค.\": \"December\"\n",
        "}\n",
        "#print(monthlist)"
      ],
      "execution_count": 288,
      "outputs": []
    },
    {
      "cell_type": "code",
      "metadata": {
        "id": "lnzT9_uDf3ce"
      },
      "source": [
        "m_ord = {\n",
        "    \"January\":1,\n",
        "    \"February\":2,\n",
        "    \"Mar\":3,\n",
        "    \"April\":4,\n",
        "    \"May\":5,\n",
        "    \"June\":6,\n",
        "    \"July\":7,\n",
        "    \"August\":8,\n",
        "    \"September\":9,\n",
        "    \"October\":10,\n",
        "    \"November\":11,\n",
        "    \"December\":12\n",
        "}\n",
        "#print(m_ord)"
      ],
      "execution_count": 289,
      "outputs": []
    },
    {
      "cell_type": "code",
      "metadata": {
        "id": "sGA9ldBOf6Jp"
      },
      "source": [
        "m_ord2 = {}\n",
        "for k, v in m_ord.items():\n",
        "    m_ord2[v] = k\n",
        "#print(m_ord2)"
      ],
      "execution_count": 290,
      "outputs": []
    },
    {
      "cell_type": "markdown",
      "metadata": {
        "id": "waKfPyIt7TSv"
      },
      "source": [
        "# ราคาปศุสัตว์"
      ]
    },
    {
      "cell_type": "code",
      "metadata": {
        "id": "vqzDgPuPSGo4"
      },
      "source": [
        "# url = \"http://www.thaifeedmill.com/tabid/78/Default.aspx\"\n",
        "# driver.get(url)\n",
        "# time.sleep(30)\n",
        "\n",
        "# element = driver.find_element_by_xpath('//*[@id=\"dnn_ctr435_HtmlModule_HtmlModule_lblContent\"]/table/tbody')"
      ],
      "execution_count": 11,
      "outputs": []
    },
    {
      "cell_type": "code",
      "metadata": {
        "id": "iiYSvG0cdVaE"
      },
      "source": [
        "# list_file = element.get_attribute('innerText').replace(\"\\n\",\"\").replace(\"\\t\",\"\").split(\"DOWNLOAD\")\n",
        "# list_file = [x for x in list_file if x != '']\n",
        "\n",
        "# link_path = []\n",
        "# for i in range(len(list_file)):\n",
        "#     if i == 0:\n",
        "#         link_path.append('//*[@id=\"dnn_ctr435_HtmlModule_HtmlModule_lblContent\"]/table/tbody/tr['+str(i+1)+']/td[2]/p/font/a')\n",
        "#     else:\n",
        "#         link_path.append('//*[@id=\"dnn_ctr435_HtmlModule_HtmlModule_lblContent\"]/table/tbody/tr['+str(i+1)+']/td[2]/font/a')\n",
        "\n",
        "# link_file = []\n",
        "# for i in link_path:\n",
        "#     element = driver.find_element_by_xpath(i)\n",
        "#     temp = element.get_attribute('href')\n",
        "#     link_file.append(temp)\n",
        "\n",
        "# live_stock = dict(zip(list_file, link_file)) "
      ],
      "execution_count": 12,
      "outputs": []
    },
    {
      "cell_type": "code",
      "metadata": {
        "id": "JhUN73rGdYwX"
      },
      "source": [
        "# index_list = dict()\n",
        "# for i in range(len(list_file)):\n",
        "#     index_list[i+1] = list_file[i]\n",
        "# #index_list"
      ],
      "execution_count": 13,
      "outputs": []
    },
    {
      "cell_type": "code",
      "metadata": {
        "id": "mYtKfyMEe2Qp"
      },
      "source": [
        "# index_link = dict()\n",
        "# for i in range(len(link_file)):\n",
        "#     index_link[i+1] = link_file[i]\n",
        "# #index_link"
      ],
      "execution_count": 14,
      "outputs": []
    },
    {
      "cell_type": "code",
      "metadata": {
        "id": "Zorkg11ZW6f3"
      },
      "source": [
        "# index_link"
      ],
      "execution_count": 15,
      "outputs": []
    },
    {
      "cell_type": "code",
      "metadata": {
        "id": "6lB4X0rze40Y"
      },
      "source": [
        "# import pandas as pd\n",
        "# df = {}\n",
        "# for i in index_link:\n",
        "#     name = 'df'+str(i)\n",
        "#     print(name)\n",
        "#     try:\n",
        "#       df[name] = pd.read_excel(index_link[i])\n",
        "#     except:\n",
        "#       df[name] = \"\"\n",
        "#     time.sleep(10)\n",
        "#     #print(df[name])"
      ],
      "execution_count": 16,
      "outputs": []
    },
    {
      "cell_type": "code",
      "metadata": {
        "id": "M2WtFmyYe7q6"
      },
      "source": [
        "# ลูกไก่เนื้อ = df[\"df1\"]\n",
        "# ลูกไก่เนื้อ = ลูกไก่เนื้อ[ลูกไก่เนื้อ['Unnamed: 0'].notna()]\n",
        "# ลูกไก่เนื้อ.columns = ลูกไก่เนื้อ.iloc[0]\n",
        "# ลูกไก่เนื้อ = ลูกไก่เนื้อ.drop(ลูกไก่เนื้อ.index[0])\n",
        "# ลูกไก่เนื้อ = ลูกไก่เนื้อ.drop(['เฉลี่ย','ต่ำสุด','สูงสุด'], axis=1)\n",
        "# ลูกไก่เนื้อ = ลูกไก่เนื้อ.rename(columns={\"เดือน\":\"year\"})\n",
        "\n",
        "# ลูกไก่เนื้อ = pd.melt(ลูกไก่เนื้อ, \n",
        "#             id_vars='year', \n",
        "#             value_vars=list(ลูกไก่เนื้อ.columns[1:]), # list of days of the week\n",
        "#             var_name='month', \n",
        "#             value_name='price')\n",
        "\n",
        "# ลูกไก่เนื้อ['unit'] = 'บาท/ตัว'\n",
        "# ลูกไก่เนื้อ['product'] = 'ลูกไก่เนื้อ/Day Old Chick'\n",
        "# ลูกไก่เนื้อ['source'] = 'สมาคมผู้ผลิตอาหารสัตว์ไทย'"
      ],
      "execution_count": 17,
      "outputs": []
    },
    {
      "cell_type": "code",
      "metadata": {
        "id": "00KecgIafPqr"
      },
      "source": [
        "# ไก่เนื้อหน้าฟาร์ม = df[\"df2\"]\n",
        "# ไก่เนื้อหน้าฟาร์ม = ไก่เนื้อหน้าฟาร์ม[ไก่เนื้อหน้าฟาร์ม['Unnamed: 0'].notna()]\n",
        "# ไก่เนื้อหน้าฟาร์ม.columns = ไก่เนื้อหน้าฟาร์ม.iloc[0]\n",
        "# ไก่เนื้อหน้าฟาร์ม = ไก่เนื้อหน้าฟาร์ม.drop(ไก่เนื้อหน้าฟาร์ม.index[0])\n",
        "# ไก่เนื้อหน้าฟาร์ม = ไก่เนื้อหน้าฟาร์ม.drop(['เฉลี่ย','ต่ำสุด','สูงสุด'], axis=1)\n",
        "# ไก่เนื้อหน้าฟาร์ม = ไก่เนื้อหน้าฟาร์ม.rename(columns={\"เดือน\":\"year\"})\n",
        "\n",
        "# ไก่เนื้อหน้าฟาร์ม = pd.melt(ไก่เนื้อหน้าฟาร์ม, \n",
        "#             id_vars='year', \n",
        "#             value_vars=list(ไก่เนื้อหน้าฟาร์ม.columns[1:]), # list of days of the week\n",
        "#             var_name='month', \n",
        "#             value_name='price')\n",
        "\n",
        "# ไก่เนื้อหน้าฟาร์ม['unit'] = 'บาท/กิโลกรัม'\n",
        "# ไก่เนื้อหน้าฟาร์ม['product'] = 'ไก่เนื้อหน้าฟาร์ม/Broiler'\n",
        "# ไก่เนื้อหน้าฟาร์ม['source'] = 'สมาคมผู้ผลิตอาหารสัตว์ไทย'"
      ],
      "execution_count": 18,
      "outputs": []
    },
    {
      "cell_type": "code",
      "metadata": {
        "id": "pCYhKk8BfSv0"
      },
      "source": [
        "# ไก่รุ่น = df[\"df3\"]\n",
        "# ไก่รุ่น = ไก่รุ่น[ไก่รุ่น['Unnamed: 0'].notna()]\n",
        "# ไก่รุ่น.columns = ไก่รุ่น.iloc[0]\n",
        "# ไก่รุ่น = ไก่รุ่น.drop(ไก่รุ่น.index[0])\n",
        "# ไก่รุ่น = ไก่รุ่น.drop(['เฉลี่ย','ต่ำสุด','สูงสุด'], axis=1)\n",
        "# ไก่รุ่น = ไก่รุ่น.rename(columns={\"เดือน\":\"year\"})\n",
        "\n",
        "# ไก่รุ่น = pd.melt(ไก่รุ่น, \n",
        "#             id_vars='year', \n",
        "#             value_vars=list(ไก่รุ่น.columns[1:]), # list of days of the week\n",
        "#             var_name='month', \n",
        "#             value_name='price')\n",
        "\n",
        "# ไก่รุ่น['unit'] = 'บาท/ตัว'\n",
        "# ไก่รุ่น['product'] = 'ไก่รุ่น - ไก่สาว/Pullet'\n",
        "# ไก่รุ่น['source'] = 'สมาคมผู้ผลิตอาหารสัตว์ไทย'"
      ],
      "execution_count": 19,
      "outputs": []
    },
    {
      "cell_type": "code",
      "metadata": {
        "id": "CWpUxtb9fVva"
      },
      "source": [
        "# ลูกไก่ไข่ = df[\"df4\"]\n",
        "# ลูกไก่ไข่ = ลูกไก่ไข่[ลูกไก่ไข่['Unnamed: 0'].notna()]\n",
        "# ลูกไก่ไข่.columns = ลูกไก่ไข่.iloc[0]\n",
        "# ลูกไก่ไข่ = ลูกไก่ไข่.drop(ลูกไก่ไข่.index[0])\n",
        "# ลูกไก่ไข่ = ลูกไก่ไข่.drop(['เฉลี่ย','ต่ำสุด','สูงสุด'], axis=1)\n",
        "# ลูกไก่ไข่ = ลูกไก่ไข่.rename(columns={\"เดือน\":\"year\"})\n",
        "\n",
        "# ลูกไก่ไข่ = pd.melt(ลูกไก่ไข่, \n",
        "#             id_vars='year', \n",
        "#             value_vars=list(ลูกไก่ไข่.columns[1:]), # list of days of the week\n",
        "#             var_name='month', \n",
        "#             value_name='price')\n",
        "\n",
        "# ลูกไก่ไข่['unit'] = 'บาท/ตัว'\n",
        "# ลูกไก่ไข่['product'] = 'ลูกไก่ไข่/Day Old Layer Chick'\n",
        "# ลูกไก่ไข่['source'] = 'สมาคมผู้ผลิตอาหารสัตว์ไทย'"
      ],
      "execution_count": 20,
      "outputs": []
    },
    {
      "cell_type": "code",
      "metadata": {
        "id": "8uIeD-9ffYrt"
      },
      "source": [
        "# ไข่ไก่คละ = df[\"df5\"]\n",
        "# ไข่ไก่คละ = ไข่ไก่คละ[ไข่ไก่คละ['Unnamed: 0'].notna()]\n",
        "# ไข่ไก่คละ.columns = ไข่ไก่คละ.iloc[0]\n",
        "# ไข่ไก่คละ = ไข่ไก่คละ.drop(ไข่ไก่คละ.index[0])\n",
        "# ไข่ไก่คละ = ไข่ไก่คละ.drop(['เฉลี่ย','ต่ำสุด','สูงสุด'], axis=1)\n",
        "# ไข่ไก่คละ = ไข่ไก่คละ.rename(columns={\"เดือน\":\"year\"})\n",
        "\n",
        "# ไข่ไก่คละ = ไข่ไก่คละ[ไข่ไก่คละ.columns[:13]]\n",
        "\n",
        "# ไข่ไก่คละ = pd.melt(ไข่ไก่คละ, \n",
        "#             id_vars='year', \n",
        "#             value_vars=list(ไข่ไก่คละ.columns[1:]), # list of days of the week\n",
        "#             var_name='month', \n",
        "#             value_name='price')\n",
        "\n",
        "# ไข่ไก่คละ['unit'] = 'บาท/100ฟอง'\n",
        "# ไข่ไก่คละ['product'] = 'ไข่ไก่คละ/Egg'\n",
        "# ไข่ไก่คละ['source'] = 'สมาคมผู้ผลิตอาหารสัตว์ไทย'"
      ],
      "execution_count": 21,
      "outputs": []
    },
    {
      "cell_type": "code",
      "metadata": {
        "id": "Zn7gZN5lfbzv"
      },
      "source": [
        "# ลูกเป็ดไข่ = df[\"df6\"]\n",
        "# ลูกเป็ดไข่ = ลูกเป็ดไข่[ลูกเป็ดไข่['Unnamed: 0'].notna()]\n",
        "# ลูกเป็ดไข่.columns = ลูกเป็ดไข่.iloc[0]\n",
        "# ลูกเป็ดไข่ = ลูกเป็ดไข่.drop(ลูกเป็ดไข่.index[0])\n",
        "# ลูกเป็ดไข่ = ลูกเป็ดไข่.drop(['เฉลี่ย','ต่ำสุด','สูงสุด'], axis=1)\n",
        "# ลูกเป็ดไข่ = ลูกเป็ดไข่.rename(columns={\"เดือน\":\"year\"})\n",
        "\n",
        "# ลูกเป็ดไข่ = pd.melt(ลูกเป็ดไข่, \n",
        "#             id_vars='year', \n",
        "#             value_vars=list(ลูกเป็ดไข่.columns[1:]), # list of days of the week\n",
        "#             var_name='month', \n",
        "#             value_name='price')\n",
        "\n",
        "# ลูกเป็ดไข่['unit'] = 'บาท/ตัว'\n",
        "# ลูกเป็ดไข่['product'] = 'ลูกเป็ดไข่ ซี พี โกลด์เด้นท์/Day Old Layer Duck'\n",
        "# ลูกเป็ดไข่['source'] = 'สมาคมผู้ผลิตอาหารสัตว์ไทย'"
      ],
      "execution_count": 22,
      "outputs": []
    },
    {
      "cell_type": "code",
      "metadata": {
        "id": "Ov8vCVWrffY3"
      },
      "source": [
        "# try:\n",
        "#   เป็ดเชอร์รี่ = df[\"df7\"]\n",
        "#   เป็ดเชอร์รี่ = เป็ดเชอร์รี่[เป็ดเชอร์รี่['Unnamed: 0'].notna()]\n",
        "#   เป็ดเชอร์รี่.columns = เป็ดเชอร์รี่.iloc[0]\n",
        "#   เป็ดเชอร์รี่ = เป็ดเชอร์รี่.drop(เป็ดเชอร์รี่.index[0])\n",
        "#   เป็ดเชอร์รี่ = เป็ดเชอร์รี่.drop(['เฉลี่ย','ต่ำสุด','สูงสุด'], axis=1)\n",
        "#   เป็ดเชอร์รี่ = เป็ดเชอร์รี่.rename(columns={\"เดือน\":\"year\"})\n",
        "\n",
        "#   เป็ดเชอร์รี่ = pd.melt(เป็ดเชอร์รี่, \n",
        "#               id_vars='year', \n",
        "#               value_vars=list(เป็ดเชอร์รี่.columns[1:]), # list of days of the week\n",
        "#               var_name='month', \n",
        "#               value_name='price')\n",
        "\n",
        "#   เป็ดเชอร์รี่['unit'] = 'บาท/กิโลกรัม'\n",
        "#   เป็ดเชอร์รี่['product'] = 'เป็ดเชอร์รี่หน้าฟาร์ม/Meat Duck (Cherry)'\n",
        "#   เป็ดเชอร์รี่['source'] = 'สมาคมผู้ผลิตอาหารสัตว์ไทย'\n",
        "# except:\n",
        "#   เป็ดเชอร์รี่ = ''"
      ],
      "execution_count": 23,
      "outputs": []
    },
    {
      "cell_type": "code",
      "metadata": {
        "id": "9FUcIPj-fiyS"
      },
      "source": [
        "# ลูกเป็ดเชอร์รี่ = df[\"df8\"]\n",
        "# ลูกเป็ดเชอร์รี่ = ลูกเป็ดเชอร์รี่[ลูกเป็ดเชอร์รี่['Unnamed: 0'].notna()]\n",
        "# ลูกเป็ดเชอร์รี่.columns = ลูกเป็ดเชอร์รี่.iloc[0]\n",
        "# ลูกเป็ดเชอร์รี่ = ลูกเป็ดเชอร์รี่.drop(ลูกเป็ดเชอร์รี่.index[0])\n",
        "# ลูกเป็ดเชอร์รี่ = ลูกเป็ดเชอร์รี่.drop(['เฉลี่ย','ต่ำสุด','สูงสุด'], axis=1)\n",
        "# ลูกเป็ดเชอร์รี่ = ลูกเป็ดเชอร์รี่.rename(columns={\"เดือน\":\"year\"})\n",
        "\n",
        "# ลูกเป็ดเชอร์รี่ = pd.melt(ลูกเป็ดเชอร์รี่, \n",
        "#             id_vars='year', \n",
        "#             value_vars=list(ลูกเป็ดเชอร์รี่.columns[1:]), # list of days of the week\n",
        "#             var_name='month', \n",
        "#             value_name='price')\n",
        "\n",
        "# ลูกเป็ดเชอร์รี่['unit'] = 'บาท/ตัว'\n",
        "# ลูกเป็ดเชอร์รี่['product'] = 'ลูกเป็ดเชอร์รี่/Day Old Duck (Cherry)'\n",
        "# ลูกเป็ดเชอร์รี่['source'] = 'สมาคมผู้ผลิตอาหารสัตว์ไทย'"
      ],
      "execution_count": 24,
      "outputs": []
    },
    {
      "cell_type": "code",
      "metadata": {
        "id": "lO34A2_Hfmcd"
      },
      "source": [
        "# ลูกสุกรขุน = df[\"df9\"]\n",
        "# ลูกสุกรขุน = ลูกสุกรขุน[ลูกสุกรขุน['Unnamed: 0'].notna()]\n",
        "# ลูกสุกรขุน.columns = ลูกสุกรขุน.iloc[0]\n",
        "# ลูกสุกรขุน = ลูกสุกรขุน.drop(ลูกสุกรขุน.index[0])\n",
        "# ลูกสุกรขุน = ลูกสุกรขุน.drop(['เฉลี่ย','ต่ำสุด','สูงสุด'], axis=1)\n",
        "# ลูกสุกรขุน = ลูกสุกรขุน.rename(columns={\"เดือน\":\"year\"})\n",
        "\n",
        "# ลูกสุกรขุน = pd.melt(ลูกสุกรขุน, \n",
        "#             id_vars='year', \n",
        "#             value_vars=list(ลูกสุกรขุน.columns[1:]), # list of days of the week\n",
        "#             var_name='month', \n",
        "#             value_name='price')\n",
        "\n",
        "# ลูกสุกรขุน['unit'] = 'บาท/ตัว'\n",
        "# ลูกสุกรขุน['product'] = 'ลูกสุกรขุน/Piglet'\n",
        "# ลูกสุกรขุน['source'] = 'สมาคมผู้ผลิตอาหารสัตว์ไทย'"
      ],
      "execution_count": 25,
      "outputs": []
    },
    {
      "cell_type": "code",
      "metadata": {
        "id": "9dFSaTEofqMj"
      },
      "source": [
        "# สุกรขุนหน้าฟาร์ม = df[\"df10\"]\n",
        "# สุกรขุนหน้าฟาร์ม = สุกรขุนหน้าฟาร์ม[สุกรขุนหน้าฟาร์ม['Unnamed: 0'].notna()]\n",
        "# สุกรขุนหน้าฟาร์ม.columns = สุกรขุนหน้าฟาร์ม.iloc[0]\n",
        "# สุกรขุนหน้าฟาร์ม = สุกรขุนหน้าฟาร์ม.drop(สุกรขุนหน้าฟาร์ม.index[0])\n",
        "# สุกรขุนหน้าฟาร์ม = สุกรขุนหน้าฟาร์ม.drop(['เฉลี่ย','ต่ำสุด','สูงสุด'], axis=1)\n",
        "# สุกรขุนหน้าฟาร์ม = สุกรขุนหน้าฟาร์ม.rename(columns={\"เดือน\":\"year\"})\n",
        "\n",
        "# สุกรขุนหน้าฟาร์ม = pd.melt(สุกรขุนหน้าฟาร์ม, \n",
        "#             id_vars='year', \n",
        "#             value_vars=list(สุกรขุนหน้าฟาร์ม.columns[1:]), # list of days of the week\n",
        "#             var_name='month', \n",
        "#             value_name='price')\n",
        "\n",
        "# สุกรขุนหน้าฟาร์ม['unit'] = 'บาท/กิโลกรัม'\n",
        "# สุกรขุนหน้าฟาร์ม['product'] = 'สุกรขุนหน้าฟาร์ม/Hog'\n",
        "# สุกรขุนหน้าฟาร์ม['source'] = 'สมาคมผู้ผลิตอาหารสัตว์ไทย'"
      ],
      "execution_count": 26,
      "outputs": []
    },
    {
      "cell_type": "code",
      "metadata": {
        "id": "t35v_Zw8dVoN"
      },
      "source": [
        "# df = [ลูกไก่เนื้อ,ไก่เนื้อหน้าฟาร์ม,ไก่รุ่น,ลูกไก่ไข่,ไข่ไก่คละ,ลูกเป็ดไข่,เป็ดเชอร์รี่,ลูกเป็ดเชอร์รี่,ลูกสุกรขุน,สุกรขุนหน้าฟาร์ม]\n",
        "# dff = []\n",
        "# for i in range(len(df)):\n",
        "#   if len(df[i]) > 0:\n",
        "#     print(len(df[i]))\n",
        "#     dff.append(df[i])"
      ],
      "execution_count": 27,
      "outputs": []
    },
    {
      "cell_type": "code",
      "metadata": {
        "id": "AiYdAgpAftpZ"
      },
      "source": [
        "# ราคาปศุสัตว์ = pd.concat(dff)\n",
        "# #ราคาปศุสัตว์"
      ],
      "execution_count": 28,
      "outputs": []
    },
    {
      "cell_type": "code",
      "metadata": {
        "id": "a6N8rZyuf9Jk"
      },
      "source": [
        "# ราคาปศุสัตว์ = ราคาปศุสัตว์.replace({\"month\": monthlist})\n",
        "# #ราคาปศุสัตว์"
      ],
      "execution_count": 29,
      "outputs": []
    },
    {
      "cell_type": "code",
      "metadata": {
        "id": "QPlQ-nx6gB24"
      },
      "source": [
        "# month = pd.DataFrame.from_dict(m_ord,orient='index').reset_index().rename(columns={'index':'month',0:'month_order'})"
      ],
      "execution_count": 30,
      "outputs": []
    },
    {
      "cell_type": "code",
      "metadata": {
        "id": "eq6uLRW5gE_L"
      },
      "source": [
        "# ราคาปศุสัตว์['year'] = ราคาปศุสัตว์['year']-543\n",
        "# ราคาปศุสัตว์ = pd.merge(ราคาปศุสัตว์,month,left_on='month',right_on='month',how='left')"
      ],
      "execution_count": 31,
      "outputs": []
    },
    {
      "cell_type": "code",
      "metadata": {
        "id": "fU6B-7yDgMt8"
      },
      "source": [
        "# ราคาปศุสัตว์['date'] = pd.to_datetime((ราคาปศุสัตว์.year*10000+ราคาปศุสัตว์.month_order*100+1).apply(str),format='%Y%m%d')\n",
        "# ราคาปศุสัตว์ = ราคาปศุสัตว์[['year','month','date','price','unit','product','source']]\n",
        "# #ราคาปศุสัตว์"
      ],
      "execution_count": 32,
      "outputs": []
    },
    {
      "cell_type": "code",
      "metadata": {
        "id": "0Y9hqfNNgPPJ"
      },
      "source": [
        "# import numpy as np\n",
        "# ราคาปศุสัตว์[\"remark\"] = np.nan\n",
        "# #ราคาปศุสัตว์"
      ],
      "execution_count": 33,
      "outputs": []
    },
    {
      "cell_type": "code",
      "metadata": {
        "id": "nkJmmUdVgfiJ"
      },
      "source": [
        "# ราคาปศุสัตว์['product group'] = 'ปศุสัตว์'"
      ],
      "execution_count": 34,
      "outputs": []
    },
    {
      "cell_type": "markdown",
      "metadata": {
        "id": "WJEPz4uv8VpM"
      },
      "source": [
        "# ราคาวัตถุดิบอาหารสัตว์"
      ]
    },
    {
      "cell_type": "code",
      "metadata": {
        "id": "xGvh3gdgoJHL"
      },
      "source": [
        "# element = driver.find_element_by_xpath('//*[@id=\"dnn_ctr436_HtmlModule_HtmlModule_lblContent\"]/div[1]/table')"
      ],
      "execution_count": 35,
      "outputs": []
    },
    {
      "cell_type": "code",
      "metadata": {
        "id": "wafK_oOroNlj"
      },
      "source": [
        "# list_file = element.get_attribute('innerText').replace(\"\\n\",\"\").replace(\"\\t\",\"\").split(\"DOWNLOAD\")\n",
        "# list_file = [x for x in list_file if x != '']"
      ],
      "execution_count": 36,
      "outputs": []
    },
    {
      "cell_type": "code",
      "metadata": {
        "id": "MID0YK5xoP-b"
      },
      "source": [
        "# link_path = []\n",
        "# for i in range(len(list_file)):\n",
        "#     if i+1==12:\n",
        "#         link_path.append('//*[@id=\"dnn_ctr436_HtmlModule_HtmlModule_lblContent\"]/div[1]/table/tbody/tr['+str(i+1)+']/td[2]/p/font/a')\n",
        "#     else:\n",
        "#         link_path.append('//*[@id=\"dnn_ctr436_HtmlModule_HtmlModule_lblContent\"]/div[1]/table/tbody/tr['+str(i+1)+']/td[2]/font/a')"
      ],
      "execution_count": 37,
      "outputs": []
    },
    {
      "cell_type": "code",
      "metadata": {
        "id": "hPp_PRo0oTeK"
      },
      "source": [
        "# link_file = []\n",
        "# for i in link_path:\n",
        "#     element = driver.find_element_by_xpath(i)\n",
        "#     temp = element.get_attribute('href')\n",
        "#     link_file.append(temp)"
      ],
      "execution_count": 38,
      "outputs": []
    },
    {
      "cell_type": "code",
      "metadata": {
        "id": "x0UuXN9woXP0"
      },
      "source": [
        "# raw_material = dict(zip(list_file, link_file)) "
      ],
      "execution_count": 39,
      "outputs": []
    },
    {
      "cell_type": "code",
      "metadata": {
        "id": "8AgL3GkmoaO-"
      },
      "source": [
        "# index_list = dict()\n",
        "# for i in range(len(list_file)):\n",
        "#     index_list[i+1] = list_file[i]\n",
        "# #index_list"
      ],
      "execution_count": 40,
      "outputs": []
    },
    {
      "cell_type": "code",
      "metadata": {
        "id": "tajjv2B0ocWn"
      },
      "source": [
        "# index_link = dict()\n",
        "# for i in range(len(link_file)):\n",
        "#     index_link[i+1] = link_file[i]\n",
        "# #index_link"
      ],
      "execution_count": 41,
      "outputs": []
    },
    {
      "cell_type": "code",
      "metadata": {
        "id": "riMBVFHQofBs"
      },
      "source": [
        "# df = {}\n",
        "# for i in index_link:\n",
        "#     name = 'df'+str(i)\n",
        "#     #print(name)\n",
        "#     df[name] = pd.read_excel(index_link[i])\n",
        "#     #print(df[name])"
      ],
      "execution_count": 42,
      "outputs": []
    },
    {
      "cell_type": "code",
      "metadata": {
        "id": "K3zL2LMfohZS"
      },
      "source": [
        "# ข้าวโพดอาหารสัตว์ = df[\"df1\"]\n",
        "# ข้าวโพดอาหารสัตว์ = ข้าวโพดอาหารสัตว์[ข้าวโพดอาหารสัตว์['Unnamed: 0'].notna()]\n",
        "# ข้าวโพดอาหารสัตว์.columns = ข้าวโพดอาหารสัตว์.iloc[0]\n",
        "# ข้าวโพดอาหารสัตว์ = ข้าวโพดอาหารสัตว์.drop(ข้าวโพดอาหารสัตว์.index[0])\n",
        "# ข้าวโพดอาหารสัตว์ = ข้าวโพดอาหารสัตว์.drop(['เฉลี่ย','ต่ำสุด','สูงสุด'], axis=1)\n",
        "# ข้าวโพดอาหารสัตว์ = ข้าวโพดอาหารสัตว์.rename(columns={\"เดือน\":\"year\"})\n",
        "\n",
        "# ข้าวโพดอาหารสัตว์ = pd.melt(ข้าวโพดอาหารสัตว์, \n",
        "#             id_vars='year', \n",
        "#             value_vars=list(ข้าวโพดอาหารสัตว์.columns[1:]), # list of days of the week\n",
        "#             var_name='month', \n",
        "#             value_name='price')\n",
        "\n",
        "# ข้าวโพดอาหารสัตว์['unit'] = 'บาท/กิโลกรัม'\n",
        "# ข้าวโพดอาหารสัตว์['product'] = 'ข้าวโพดอาหารสัตว์/Corn'\n",
        "# ข้าวโพดอาหารสัตว์['source'] = 'สมาคมผู้ผลิตอาหารสัตว์ไทย'\n",
        "# ข้าวโพดอาหารสัตว์['remark'] = 'ราคา : ณ ราคาส่งถึงโรงงาน'"
      ],
      "execution_count": 43,
      "outputs": []
    },
    {
      "cell_type": "code",
      "metadata": {
        "id": "twlnGhJDpgkS"
      },
      "source": [
        "# ปลาป่น = df[\"df2\"]\n",
        "# ปลาป่น = ปลาป่น[ปลาป่น['Unnamed: 0'].notna()]\n",
        "# ปลาป่น.columns = ปลาป่น.iloc[0]\n",
        "# ปลาป่น = ปลาป่น.drop(ปลาป่น.index[0])\n",
        "# ปลาป่น = ปลาป่น.drop(['เฉลี่ย','ต่ำสุด','สูงสุด'], axis=1)\n",
        "# ปลาป่น = ปลาป่น.rename(columns={\"เดือน\":\"year\"})\n",
        "\n",
        "# ปลาป่น = pd.melt(ปลาป่น, \n",
        "#             id_vars='year', \n",
        "#             value_vars=list(ปลาป่น.columns[1:]), # list of days of the week\n",
        "#             var_name='month', \n",
        "#             value_name='price')\n",
        "\n",
        "# ปลาป่น['unit'] = 'บาท/กิโลกรัม'\n",
        "# ปลาป่น['product'] = 'ปลาป่น/Fishmeal'\n",
        "# ปลาป่น['source'] = 'สมาคมผู้ผลิตอาหารสัตว์ไทย'\n",
        "# ปลาป่น['remark'] = 'ราคา : ณ ราคาส่งถึงโรงงาน'"
      ],
      "execution_count": 44,
      "outputs": []
    },
    {
      "cell_type": "code",
      "metadata": {
        "id": "chx3-F_SpjoH"
      },
      "source": [
        "# ปลาป่นนำเข้า = df[\"df3\"]\n",
        "# ปลาป่นนำเข้า = ปลาป่นนำเข้า[ปลาป่นนำเข้า['Unnamed: 0'].notna()]\n",
        "# ปลาป่นนำเข้า.columns = ปลาป่นนำเข้า.iloc[0]\n",
        "# ปลาป่นนำเข้า = ปลาป่นนำเข้า.drop(ปลาป่นนำเข้า.index[0])\n",
        "# ปลาป่นนำเข้า = ปลาป่นนำเข้า.drop(['เฉลี่ย','ต่ำสุด','สูงสุด'], axis=1)\n",
        "# ปลาป่นนำเข้า = ปลาป่นนำเข้า.rename(columns={\"เดือน\":\"year\"})\n",
        "\n",
        "# ปลาป่นนำเข้า = pd.melt(ปลาป่นนำเข้า, \n",
        "#             id_vars='year', \n",
        "#             value_vars=list(ปลาป่นนำเข้า.columns[1:]), # list of days of the week\n",
        "#             var_name='month', \n",
        "#             value_name='price')\n",
        "\n",
        "# ปลาป่นนำเข้า['unit'] = 'บาท/กิโลกรัม'\n",
        "# ปลาป่นนำเข้า['product'] = 'ปลาป่นนำเข้า/Imported Fishmeal'\n",
        "# ปลาป่นนำเข้า['source'] = 'สมาคมผู้ผลิตอาหารสัตว์ไทย'\n",
        "# ปลาป่นนำเข้า['remark'] = 'ราคา : ณ ราคาส่งถึงโรงงาน'"
      ],
      "execution_count": 45,
      "outputs": []
    },
    {
      "cell_type": "code",
      "metadata": {
        "id": "hSTN3qQcpmxd"
      },
      "source": [
        "# กากถั่วเหลืองต่างประเทศ = df[\"df4\"]\n",
        "# กากถั่วเหลืองต่างประเทศ = กากถั่วเหลืองต่างประเทศ[กากถั่วเหลืองต่างประเทศ['Unnamed: 0'].notna()]\n",
        "# กากถั่วเหลืองต่างประเทศ.columns = กากถั่วเหลืองต่างประเทศ.iloc[0]\n",
        "# กากถั่วเหลืองต่างประเทศ = กากถั่วเหลืองต่างประเทศ.drop(กากถั่วเหลืองต่างประเทศ.index[0])\n",
        "# กากถั่วเหลืองต่างประเทศ = กากถั่วเหลืองต่างประเทศ.drop(['เฉลี่ย','ต่ำสุด','สูงสุด'], axis=1)\n",
        "# กากถั่วเหลืองต่างประเทศ = กากถั่วเหลืองต่างประเทศ.rename(columns={\"เดือน\":\"year\"})\n",
        "\n",
        "# กากถั่วเหลืองต่างประเทศ = pd.melt(กากถั่วเหลืองต่างประเทศ, \n",
        "#             id_vars='year', \n",
        "#             value_vars=list(กากถั่วเหลืองต่างประเทศ.columns[1:]), # list of days of the week\n",
        "#             var_name='month', \n",
        "#             value_name='price')\n",
        "\n",
        "# กากถั่วเหลืองต่างประเทศ['unit'] = 'บาท/กิโลกรัม'\n",
        "# กากถั่วเหลืองต่างประเทศ['product'] = 'กากถั่วเหลืองต่างประเทศ/Imported Soybean Meal'\n",
        "# กากถั่วเหลืองต่างประเทศ['source'] = 'สมาคมผู้ผลิตอาหารสัตว์ไทย'\n",
        "# กากถั่วเหลืองต่างประเทศ['remark'] = 'ราคา : ณ ราคาส่งถึงโรงงาน'"
      ],
      "execution_count": 46,
      "outputs": []
    },
    {
      "cell_type": "code",
      "metadata": {
        "id": "mXPDanCCpqZW"
      },
      "source": [
        "# กากถั่วเหลืองภายใน = df[\"df5\"]\n",
        "# กากถั่วเหลืองภายใน = กากถั่วเหลืองภายใน[กากถั่วเหลืองภายใน['Unnamed: 0'].notna()]\n",
        "# กากถั่วเหลืองภายใน.columns = กากถั่วเหลืองภายใน.iloc[0]\n",
        "# กากถั่วเหลืองภายใน = กากถั่วเหลืองภายใน.drop(กากถั่วเหลืองภายใน.index[0])\n",
        "# กากถั่วเหลืองภายใน = กากถั่วเหลืองภายใน.drop(['เฉลี่ย','ต่ำสุด','สูงสุด'], axis=1)\n",
        "# กากถั่วเหลืองภายใน = กากถั่วเหลืองภายใน.rename(columns={\"เดือน\":\"year\"})\n",
        "\n",
        "# กากถั่วเหลืองภายใน = pd.melt(กากถั่วเหลืองภายใน, \n",
        "#             id_vars='year', \n",
        "#             value_vars=list(กากถั่วเหลืองภายใน.columns[1:]), # list of days of the week\n",
        "#             var_name='month', \n",
        "#             value_name='price')\n",
        "\n",
        "# กากถั่วเหลืองภายใน['unit'] = 'บาท/กิโลกรัม'\n",
        "# กากถั่วเหลืองภายใน['product'] = 'กากถั่วเหลืองภายใน/Domestic Soybean Meal'\n",
        "# กากถั่วเหลืองภายใน['source'] = 'สมาคมผู้ผลิตอาหารสัตว์ไทย'\n",
        "# กากถั่วเหลืองภายใน['remark'] = 'ราคา : ณ ราคาส่งถึงโรงงาน'"
      ],
      "execution_count": 47,
      "outputs": []
    },
    {
      "cell_type": "code",
      "metadata": {
        "id": "wBrkspIxpts6"
      },
      "source": [
        "# กากถั่วเหลืองเมล็ดนำเข้า = df[\"df6\"]\n",
        "# กากถั่วเหลืองเมล็ดนำเข้า = กากถั่วเหลืองเมล็ดนำเข้า[กากถั่วเหลืองเมล็ดนำเข้า['Unnamed: 0'].notna()]\n",
        "# กากถั่วเหลืองเมล็ดนำเข้า.columns = กากถั่วเหลืองเมล็ดนำเข้า.iloc[0]\n",
        "# กากถั่วเหลืองเมล็ดนำเข้า = กากถั่วเหลืองเมล็ดนำเข้า.drop(กากถั่วเหลืองเมล็ดนำเข้า.index[0])\n",
        "# กากถั่วเหลืองเมล็ดนำเข้า = กากถั่วเหลืองเมล็ดนำเข้า.drop(['เฉลี่ย','ต่ำสุด','สูงสุด'], axis=1)\n",
        "# กากถั่วเหลืองเมล็ดนำเข้า = กากถั่วเหลืองเมล็ดนำเข้า.rename(columns={\"เดือน\":\"year\"})\n",
        "\n",
        "# กากถั่วเหลืองเมล็ดนำเข้า = pd.melt(กากถั่วเหลืองเมล็ดนำเข้า, \n",
        "#             id_vars='year', \n",
        "#             value_vars=list(กากถั่วเหลืองเมล็ดนำเข้า.columns[1:]), # list of days of the week\n",
        "#             var_name='month', \n",
        "#             value_name='price')\n",
        "\n",
        "# กากถั่วเหลืองเมล็ดนำเข้า['unit'] = 'บาท/กิโลกรัม'\n",
        "# กากถั่วเหลืองเมล็ดนำเข้า['product'] = 'กากถั่วเหลืองเมล็ดนำเข้า/Soybean Meal Imported Seed'\n",
        "# กากถั่วเหลืองเมล็ดนำเข้า['source'] = 'สมาคมผู้ผลิตอาหารสัตว์ไทย'\n",
        "# กากถั่วเหลืองเมล็ดนำเข้า['remark'] = 'ราคา : ณ ราคาส่งถึงโรงงาน'"
      ],
      "execution_count": 48,
      "outputs": []
    },
    {
      "cell_type": "code",
      "metadata": {
        "id": "xRZac3Pwpw5X"
      },
      "source": [
        "# กากถั่วเหลืองกะเทาะเปลือก = df[\"df7\"]\n",
        "# กากถั่วเหลืองกะเทาะเปลือก = กากถั่วเหลืองกะเทาะเปลือก[กากถั่วเหลืองกะเทาะเปลือก['Unnamed: 0'].notna()]\n",
        "# กากถั่วเหลืองกะเทาะเปลือก.columns = กากถั่วเหลืองกะเทาะเปลือก.iloc[0]\n",
        "# กากถั่วเหลืองกะเทาะเปลือก = กากถั่วเหลืองกะเทาะเปลือก.drop(กากถั่วเหลืองกะเทาะเปลือก.index[0])\n",
        "# กากถั่วเหลืองกะเทาะเปลือก = กากถั่วเหลืองกะเทาะเปลือก.drop(['เฉลี่ย','ต่ำสุด','สูงสุด'], axis=1)\n",
        "# กากถั่วเหลืองกะเทาะเปลือก = กากถั่วเหลืองกะเทาะเปลือก.rename(columns={\"เดือน\":\"year\"})\n",
        "\n",
        "# กากถั่วเหลืองกะเทาะเปลือก = pd.melt(กากถั่วเหลืองกะเทาะเปลือก, \n",
        "#             id_vars='year', \n",
        "#             value_vars=list(กากถั่วเหลืองกะเทาะเปลือก.columns[1:]), # list of days of the week\n",
        "#             var_name='month', \n",
        "#             value_name='price')\n",
        "\n",
        "# กากถั่วเหลืองกะเทาะเปลือก['unit'] = 'บาท/กิโลกรัม'\n",
        "# กากถั่วเหลืองกะเทาะเปลือก['product'] = 'กากถั่วเหลืองกะเทาะเปลือก/Dehulled Soybean Meal'\n",
        "# กากถั่วเหลืองกะเทาะเปลือก['source'] = 'สมาคมผู้ผลิตอาหารสัตว์ไทย'"
      ],
      "execution_count": 49,
      "outputs": []
    },
    {
      "cell_type": "code",
      "metadata": {
        "id": "YavwVk8Fp1Uq"
      },
      "source": [
        "# รำสด = df[\"df8\"]\n",
        "# รำสด = รำสด[รำสด['Unnamed: 0'].notna()]\n",
        "# รำสด.columns = รำสด.iloc[0]\n",
        "# รำสด = รำสด.drop(รำสด.index[0])\n",
        "# รำสด = รำสด.drop(['เฉลี่ย','ต่ำสุด','สูงสุด'], axis=1)\n",
        "# รำสด = รำสด.rename(columns={\"เดือน\":\"year\"})\n",
        "\n",
        "# รำสด = pd.melt(รำสด, \n",
        "#             id_vars='year', \n",
        "#             value_vars=list(รำสด.columns[1:]), # list of days of the week\n",
        "#             var_name='month', \n",
        "#             value_name='price')\n",
        "\n",
        "# รำสด['unit'] = 'บาท/กิโลกรัม'\n",
        "# รำสด['product'] = 'รำสด/Rice Bran'\n",
        "# รำสด['source'] = 'สมาคมผู้ผลิตอาหารสัตว์ไทย'\n",
        "# รำสด['remark'] = 'ราคา : ณ ราคาส่งถึงโรงงาน'"
      ],
      "execution_count": 50,
      "outputs": []
    },
    {
      "cell_type": "code",
      "metadata": {
        "id": "-lKs7dbdp5PL"
      },
      "source": [
        "# กากรำสกัดน้ำมัน = df[\"df9\"]\n",
        "# กากรำสกัดน้ำมัน = กากรำสกัดน้ำมัน[กากรำสกัดน้ำมัน['Unnamed: 0'].notna()]\n",
        "# กากรำสกัดน้ำมัน.columns = กากรำสกัดน้ำมัน.iloc[0]\n",
        "# กากรำสกัดน้ำมัน = กากรำสกัดน้ำมัน.drop(กากรำสกัดน้ำมัน.index[0])\n",
        "# กากรำสกัดน้ำมัน = กากรำสกัดน้ำมัน.drop(['เฉลี่ย','ต่ำสุด','สูงสุด'], axis=1)\n",
        "# กากรำสกัดน้ำมัน = กากรำสกัดน้ำมัน.rename(columns={\"เดือน\":\"year\"})\n",
        "\n",
        "# กากรำสกัดน้ำมัน = pd.melt(กากรำสกัดน้ำมัน, \n",
        "#             id_vars='year', \n",
        "#             value_vars=list(กากรำสกัดน้ำมัน.columns[1:]), # list of days of the week\n",
        "#             var_name='month', \n",
        "#             value_name='price')\n",
        "\n",
        "# กากรำสกัดน้ำมัน['unit'] = 'บาท/กิโลกรัม'\n",
        "# กากรำสกัดน้ำมัน['product'] = 'กากรำสกัดน้ำมัน/Rice Bran Solvent Meal'\n",
        "# กากรำสกัดน้ำมัน['source'] = 'สมาคมผู้ผลิตอาหารสัตว์ไทย'\n",
        "# กากรำสกัดน้ำมัน['remark'] = 'ราคา : ณ ราคาส่งถึงโรงงาน'"
      ],
      "execution_count": 51,
      "outputs": []
    },
    {
      "cell_type": "code",
      "metadata": {
        "id": "aV8wFx4Lp9lj"
      },
      "source": [
        "# ปลายข้าว = df[\"df10\"]\n",
        "# ปลายข้าว = ปลายข้าว[ปลายข้าว['Unnamed: 0'].notna()]\n",
        "# ปลายข้าว.columns = ปลายข้าว.iloc[0]\n",
        "# ปลายข้าว = ปลายข้าว.drop(ปลายข้าว.index[0])\n",
        "# ปลายข้าว = ปลายข้าว.drop(['เฉลี่ย','ต่ำสุด','สูงสุด'], axis=1)\n",
        "# ปลายข้าว = ปลายข้าว.rename(columns={\"เดือน\":\"year\"})\n",
        "\n",
        "# ปลายข้าว = pd.melt(ปลายข้าว, \n",
        "#             id_vars='year', \n",
        "#             value_vars=list(ปลายข้าว.columns[1:]), # list of days of the week\n",
        "#             var_name='month', \n",
        "#             value_name='price')\n",
        "\n",
        "# ปลายข้าว['unit'] = 'บาท/กิโลกรัม'\n",
        "# ปลายข้าว['product'] = 'ปลายข้าว/Broken Rice'\n",
        "# ปลายข้าว['source'] = 'สมาคมผู้ผลิตอาหารสัตว์ไทย'\n",
        "# ปลายข้าว['remark'] = 'ราคา : ณ ราคาส่งถึงโรงงาน'"
      ],
      "execution_count": 52,
      "outputs": []
    },
    {
      "cell_type": "code",
      "metadata": {
        "id": "a5tk5J3uqAjd"
      },
      "source": [
        "# มันสำปะหลังเส้น = df[\"df11\"]\n",
        "# มันสำปะหลังเส้น = มันสำปะหลังเส้น[มันสำปะหลังเส้น['Unnamed: 0'].notna()]\n",
        "# มันสำปะหลังเส้น.columns = มันสำปะหลังเส้น.iloc[0]\n",
        "# มันสำปะหลังเส้น = มันสำปะหลังเส้น.drop(มันสำปะหลังเส้น.index[0])\n",
        "# มันสำปะหลังเส้น = มันสำปะหลังเส้น.drop(['เฉลี่ย','ต่ำสุด','สูงสุด'], axis=1)\n",
        "# มันสำปะหลังเส้น = มันสำปะหลังเส้น.rename(columns={\"เดือน\":\"year\"})\n",
        "\n",
        "# มันสำปะหลังเส้น = pd.melt(มันสำปะหลังเส้น, \n",
        "#             id_vars='year', \n",
        "#             value_vars=list(มันสำปะหลังเส้น.columns[1:]), # list of days of the week\n",
        "#             var_name='month', \n",
        "#             value_name='price')\n",
        "\n",
        "# มันสำปะหลังเส้น['unit'] = 'บาท/กิโลกรัม'\n",
        "# มันสำปะหลังเส้น['product'] = 'มันสำปะหลังเส้น/Cassava Chip'\n",
        "# มันสำปะหลังเส้น['source'] = 'สมาคมผู้ผลิตอาหารสัตว์ไทย'\n",
        "# มันสำปะหลังเส้น['remark'] = 'ราคา : ณ ราคาส่งถึงโรงงาน'"
      ],
      "execution_count": 53,
      "outputs": []
    },
    {
      "cell_type": "code",
      "metadata": {
        "id": "MWAtZejFqDt-"
      },
      "source": [
        "# WHEATBRAN = df[\"df12\"]\n",
        "# WHEATBRAN = WHEATBRAN[WHEATBRAN['Unnamed: 0'].notna()]\n",
        "# WHEATBRAN.columns = WHEATBRAN.iloc[0]\n",
        "# WHEATBRAN = WHEATBRAN.drop(WHEATBRAN.index[0])\n",
        "# WHEATBRAN = WHEATBRAN.drop(['เฉลี่ย','ต่ำสุด','สูงสุด'], axis=1)\n",
        "# WHEATBRAN = WHEATBRAN.rename(columns={\"เดือน\":\"year\"})\n",
        "\n",
        "# WHEATBRAN = pd.melt(WHEATBRAN, \n",
        "#             id_vars='year', \n",
        "#             value_vars=list(WHEATBRAN.columns[1:]), # list of days of the week\n",
        "#             var_name='month', \n",
        "#             value_name='price')\n",
        "\n",
        "# WHEATBRAN['unit'] = 'บาท/กิโลกรัม'\n",
        "# WHEATBRAN['product'] = 'WHEAT BRAN'\n",
        "# WHEATBRAN['source'] = 'สมาคมผู้ผลิตอาหารสัตว์ไทย'\n",
        "# WHEATBRAN['remark'] = 'ราคา : ณ ราคาส่งถึงโรงงาน'"
      ],
      "execution_count": 54,
      "outputs": []
    },
    {
      "cell_type": "code",
      "metadata": {
        "id": "Pj8MK_RGqHXn"
      },
      "source": [
        "# WHEATFLOUR = df[\"df13\"]\n",
        "# WHEATFLOUR = WHEATFLOUR[WHEATFLOUR['Unnamed: 0'].notna()]\n",
        "# WHEATFLOUR.columns = WHEATFLOUR.iloc[0]\n",
        "# WHEATFLOUR = WHEATFLOUR.drop(WHEATFLOUR.index[0])\n",
        "# WHEATFLOUR = WHEATFLOUR.drop(['เฉลี่ย','ต่ำสุด','สูงสุด'], axis=1)\n",
        "# WHEATFLOUR = WHEATFLOUR.rename(columns={\"เดือน\":\"year\"})\n",
        "\n",
        "# WHEATFLOUR = pd.melt(WHEATFLOUR, \n",
        "#             id_vars='year', \n",
        "#             value_vars=list(WHEATFLOUR.columns[1:]), # list of days of the week\n",
        "#             var_name='month', \n",
        "#             value_name='price')\n",
        "\n",
        "# WHEATFLOUR['unit'] = 'บาท/กิโลกรัม'\n",
        "# WHEATFLOUR['product'] = 'WHEAT FLOUR'\n",
        "# WHEATFLOUR['source'] = 'สมาคมผู้ผลิตอาหารสัตว์ไทย'\n",
        "# WHEATFLOUR['remark'] = 'ราคา : ณ ราคาส่งถึงโรงงาน'"
      ],
      "execution_count": 55,
      "outputs": []
    },
    {
      "cell_type": "code",
      "metadata": {
        "id": "nCstZBgmqKc6"
      },
      "source": [
        "# WHEATGLUTEN = df[\"df14\"]\n",
        "# WHEATGLUTEN = WHEATGLUTEN[WHEATGLUTEN['Unnamed: 0'].notna()]\n",
        "# WHEATGLUTEN.columns = WHEATGLUTEN.iloc[0]\n",
        "# WHEATGLUTEN = WHEATGLUTEN.drop(WHEATGLUTEN.index[0])\n",
        "# WHEATGLUTEN = WHEATGLUTEN.drop(['เฉลี่ย','ต่ำสุด','สูงสุด'], axis=1)\n",
        "# WHEATGLUTEN = WHEATGLUTEN.rename(columns={\"เดือน\":\"year\"})\n",
        "\n",
        "# WHEATGLUTEN = pd.melt(WHEATGLUTEN, \n",
        "#             id_vars='year', \n",
        "#             value_vars=list(WHEATGLUTEN.columns[1:]), # list of days of the week\n",
        "#             var_name='month', \n",
        "#             value_name='price')\n",
        "\n",
        "# WHEATGLUTEN['unit'] = 'บาท/กิโลกรัม'\n",
        "# WHEATGLUTEN['product'] = 'WHEAT FLOUR'\n",
        "# WHEATGLUTEN['source'] = 'สมาคมผู้ผลิตอาหารสัตว์ไทย'\n",
        "# WHEATGLUTEN['remark'] = 'ราคา : ณ ราคาส่งถึงโรงงาน'"
      ],
      "execution_count": 56,
      "outputs": []
    },
    {
      "cell_type": "code",
      "metadata": {
        "id": "LO6H5J2nqNeQ"
      },
      "source": [
        "# ตับปลาหมึก = df[\"df15\"]\n",
        "# ตับปลาหมึก = ตับปลาหมึก[ตับปลาหมึก['Unnamed: 0'].notna()]\n",
        "# ตับปลาหมึก.columns = ตับปลาหมึก.iloc[0]\n",
        "# ตับปลาหมึก = ตับปลาหมึก.drop(ตับปลาหมึก.index[0])\n",
        "# ตับปลาหมึก = ตับปลาหมึก.drop(['เฉลี่ย','ต่ำสุด','สูงสุด'], axis=1)\n",
        "# ตับปลาหมึก = ตับปลาหมึก.rename(columns={\"เดือน\":\"year\"})\n",
        "\n",
        "# ตับปลาหมึก = pd.melt(ตับปลาหมึก, \n",
        "#             id_vars='year', \n",
        "#             value_vars=list(ตับปลาหมึก.columns[1:]), # list of days of the week\n",
        "#             var_name='month', \n",
        "#             value_name='price')\n",
        "\n",
        "# ตับปลาหมึก['unit'] = 'บาท/กิโลกรัม'\n",
        "# ตับปลาหมึก['product'] = 'ตับปลาหมึก SLP/Squid Liver Powder'\n",
        "# ตับปลาหมึก['source'] = 'สมาคมผู้ผลิตอาหารสัตว์ไทย'\n",
        "# ตับปลาหมึก['remark'] = 'ราคา : ณ ราคาส่งถึงโรงงาน'"
      ],
      "execution_count": 57,
      "outputs": []
    },
    {
      "cell_type": "code",
      "metadata": {
        "id": "Jw0Fgg00qQqF"
      },
      "source": [
        "# น้ำมันปลา = df[\"df16\"]\n",
        "# น้ำมันปลา = น้ำมันปลา[น้ำมันปลา['Unnamed: 0'].notna()]\n",
        "# น้ำมันปลา.columns = น้ำมันปลา.iloc[0]\n",
        "# น้ำมันปลา = น้ำมันปลา.drop(น้ำมันปลา.index[0])\n",
        "# น้ำมันปลา = น้ำมันปลา.drop(['เฉลี่ย','ต่ำสุด','สูงสุด'], axis=1)\n",
        "# น้ำมันปลา = น้ำมันปลา.rename(columns={\"เดือน\":\"year\"})\n",
        "\n",
        "# น้ำมันปลา = pd.melt(น้ำมันปลา, \n",
        "#             id_vars='year', \n",
        "#             value_vars=list(น้ำมันปลา.columns[1:]), # list of days of the week\n",
        "#             var_name='month', \n",
        "#             value_name='price')\n",
        "\n",
        "# น้ำมันปลา['unit'] = 'บาท/กิโลกรัม'\n",
        "# น้ำมันปลา['product'] = 'น้ำมันปลา FO/Fish Oil'\n",
        "# น้ำมันปลา['source'] = 'สมาคมผู้ผลิตอาหารสัตว์ไทย'\n",
        "# น้ำมันปลา['remark'] = 'ราคา : ณ ราคาส่งถึงโรงงาน'"
      ],
      "execution_count": 58,
      "outputs": []
    },
    {
      "cell_type": "code",
      "metadata": {
        "id": "Dy7VU202qTox"
      },
      "source": [
        "# น้ำมันปลาหมึก = df[\"df17\"]\n",
        "# น้ำมันปลาหมึก = น้ำมันปลาหมึก[น้ำมันปลาหมึก['Unnamed: 0'].notna()]\n",
        "# น้ำมันปลาหมึก.columns = น้ำมันปลาหมึก.iloc[0]\n",
        "# น้ำมันปลาหมึก = น้ำมันปลาหมึก.drop(น้ำมันปลาหมึก.index[0])\n",
        "# น้ำมันปลาหมึก = น้ำมันปลาหมึก.drop(['เฉลี่ย','ต่ำสุด','สูงสุด'], axis=1)\n",
        "# น้ำมันปลาหมึก = น้ำมันปลาหมึก.rename(columns={\"เดือน\":\"year\"})\n",
        "\n",
        "# น้ำมันปลาหมึก = pd.melt(น้ำมันปลาหมึก, \n",
        "#             id_vars='year', \n",
        "#             value_vars=list(น้ำมันปลาหมึก.columns[1:]), # list of days of the week\n",
        "#             var_name='month', \n",
        "#             value_name='price')\n",
        "\n",
        "# น้ำมันปลาหมึก['unit'] = 'บาท/กิโลกรัม'\n",
        "# น้ำมันปลาหมึก['product'] = 'น้ำมันปลาหมึก SO/Squid Oil'\n",
        "# น้ำมันปลาหมึก['source'] = 'สมาคมผู้ผลิตอาหารสัตว์ไทย'\n",
        "# น้ำมันปลาหมึก['remark'] = 'ราคา : ณ ราคาส่งถึงโรงงาน'"
      ],
      "execution_count": 59,
      "outputs": []
    },
    {
      "cell_type": "code",
      "metadata": {
        "id": "RUFJvq_eqXBb"
      },
      "source": [
        "# ปลาหมึกป่น = df[\"df18\"]\n",
        "# ปลาหมึกป่น = ปลาหมึกป่น[ปลาหมึกป่น['Unnamed: 0'].notna()]\n",
        "# ปลาหมึกป่น.columns = ปลาหมึกป่น.iloc[0]\n",
        "# ปลาหมึกป่น = ปลาหมึกป่น.drop(ปลาหมึกป่น.index[0])\n",
        "# ปลาหมึกป่น = ปลาหมึกป่น.drop(['เฉลี่ย','ต่ำสุด','สูงสุด'], axis=1)\n",
        "# ปลาหมึกป่น = ปลาหมึกป่น.rename(columns={\"เดือน\":\"year\"})\n",
        "\n",
        "# ปลาหมึกป่น = pd.melt(ปลาหมึกป่น, \n",
        "#             id_vars='year', \n",
        "#             value_vars=list(ปลาหมึกป่น.columns[1:]), # list of days of the week\n",
        "#             var_name='month', \n",
        "#             value_name='price')\n",
        "\n",
        "# ปลาหมึกป่น['unit'] = 'บาท/กิโลกรัม'\n",
        "# ปลาหมึกป่น['product'] = 'ปลาหมึกป่น SLM/Squid Liver Meal'\n",
        "# ปลาหมึกป่น['source'] = 'สมาคมผู้ผลิตอาหารสัตว์ไทย'\n",
        "# ปลาหมึกป่น['remark'] = 'ราคา : ณ ราคาส่งถึงโรงงาน'"
      ],
      "execution_count": 60,
      "outputs": []
    },
    {
      "cell_type": "code",
      "metadata": {
        "id": "_H6yEhlsqaOo"
      },
      "source": [
        "# เปลือกกุ้ง = df[\"df19\"]\n",
        "# เปลือกกุ้ง = เปลือกกุ้ง[เปลือกกุ้ง['Unnamed: 0'].notna()]\n",
        "# เปลือกกุ้ง.columns = เปลือกกุ้ง.iloc[0]\n",
        "# เปลือกกุ้ง = เปลือกกุ้ง.drop(เปลือกกุ้ง.index[0])\n",
        "# เปลือกกุ้ง = เปลือกกุ้ง.drop(['เฉลี่ย','ต่ำสุด','สูงสุด'], axis=1)\n",
        "# เปลือกกุ้ง = เปลือกกุ้ง.rename(columns={\"เดือน\":\"year\"})\n",
        "\n",
        "# เปลือกกุ้ง = pd.melt(เปลือกกุ้ง, \n",
        "#             id_vars='year', \n",
        "#             value_vars=list(เปลือกกุ้ง.columns[1:]), # list of days of the week\n",
        "#             var_name='month', \n",
        "#             value_name='price')\n",
        "\n",
        "# เปลือกกุ้ง['unit'] = 'บาท/กิโลกรัม'\n",
        "# เปลือกกุ้ง['product'] = 'ราคาเปลือกกุ้ง/Shrimp Biowaste'\n",
        "# เปลือกกุ้ง['source'] = 'สมาคมผู้ผลิตอาหารสัตว์ไทย'\n",
        "# เปลือกกุ้ง['remark'] = 'ราคา : ณ ราคาส่งถึงโรงงาน'"
      ],
      "execution_count": 61,
      "outputs": []
    },
    {
      "cell_type": "code",
      "metadata": {
        "id": "sgxDq0XxqdUJ"
      },
      "source": [
        "# df = [ข้าวโพดอาหารสัตว์,ปลาป่น,ปลาป่นนำเข้า,กากถั่วเหลืองต่างประเทศ,กากถั่วเหลืองภายใน,กากถั่วเหลืองเมล็ดนำเข้า,กากถั่วเหลืองกะเทาะเปลือก,รำสด,กากรำสกัดน้ำมัน,ปลายข้าว,มันสำปะหลังเส้น,WHEATBRAN,WHEATFLOUR,WHEATGLUTEN,ตับปลาหมึก,น้ำมันปลา,น้ำมันปลาหมึก,ปลาหมึกป่น,เปลือกกุ้ง]\n",
        "# ราคาวัตถุดิบอาหารสัตว์ = pd.concat(df)\n",
        "# #ราคาวัตถุดิบอาหารสัตว์"
      ],
      "execution_count": 62,
      "outputs": []
    },
    {
      "cell_type": "code",
      "metadata": {
        "id": "fqVFWvFPqgPM"
      },
      "source": [
        "# ราคาวัตถุดิบอาหารสัตว์ = ราคาวัตถุดิบอาหารสัตว์.replace({\"month\": monthlist})\n",
        "# #ราคาวัตถุดิบอาหารสัตว์"
      ],
      "execution_count": 63,
      "outputs": []
    },
    {
      "cell_type": "code",
      "metadata": {
        "id": "7ij34UqMqimE"
      },
      "source": [
        "# ราคาวัตถุดิบอาหารสัตว์['year'] = ราคาวัตถุดิบอาหารสัตว์['year']-543\n",
        "# ราคาวัตถุดิบอาหารสัตว์ = pd.merge(ราคาวัตถุดิบอาหารสัตว์,month,left_on='month',right_on='month',how='left')"
      ],
      "execution_count": 64,
      "outputs": []
    },
    {
      "cell_type": "code",
      "metadata": {
        "id": "qYEYYf7NqlVy"
      },
      "source": [
        "# ราคาวัตถุดิบอาหารสัตว์['date'] = pd.to_datetime((ราคาวัตถุดิบอาหารสัตว์.year*10000+ราคาวัตถุดิบอาหารสัตว์.month_order*100+1).apply(str),format='%Y%m%d')\n",
        "# ราคาวัตถุดิบอาหารสัตว์ = ราคาวัตถุดิบอาหารสัตว์[['year','month','date','price','unit','product','source','remark']]\n",
        "# #ราคาวัตถุดิบอาหารสัตว์"
      ],
      "execution_count": 65,
      "outputs": []
    },
    {
      "cell_type": "code",
      "metadata": {
        "id": "hPC4KXDkqn40"
      },
      "source": [
        "# ราคาวัตถุดิบอาหารสัตว์['product group'] = 'วัตถุดิบอาหารสัตว์'"
      ],
      "execution_count": 66,
      "outputs": []
    },
    {
      "cell_type": "markdown",
      "metadata": {
        "id": "x-F-ka2w9aMe"
      },
      "source": [
        "# เนื้อสัตว์ค้าปลีก"
      ]
    },
    {
      "cell_type": "code",
      "metadata": {
        "id": "q_zq5toTqxI6"
      },
      "source": [
        "url = \"https://www.moc.go.th/index.php/rice-iframe-2.html\""
      ],
      "execution_count": 279,
      "outputs": []
    },
    {
      "cell_type": "code",
      "metadata": {
        "colab": {
          "base_uri": "https://localhost:8080/",
          "height": 35
        },
        "id": "RZnwNa5-q2XV",
        "outputId": "8c2dec22-4696-4b88-83cb-68e6db2cdd5e"
      },
      "source": [
        "from bs4 import BeautifulSoup\n",
        "res = requests.get(url)\n",
        "time.sleep(10)\n",
        "\n",
        "soup = BeautifulSoup(res.content, \"lxml\")\n",
        "src = soup.find_all(\"div\",{\"class\":\"contentpane\"})\n",
        "\n",
        "for i in str(src).split():\n",
        "    if 'src' in i:\n",
        "        URL = i[5:-1]\n",
        "URL"
      ],
      "execution_count": 291,
      "outputs": [
        {
          "output_type": "execute_result",
          "data": {
            "application/vnd.google.colaboratory.intrinsic+json": {
              "type": "string"
            },
            "text/plain": [
              "'https://mex.moc.go.th/page/dit/checkprice/type/R/catid/1'"
            ]
          },
          "metadata": {
            "tags": []
          },
          "execution_count": 291
        }
      ]
    },
    {
      "cell_type": "code",
      "metadata": {
        "id": "bF7dtxJJq41n",
        "colab": {
          "base_uri": "https://localhost:8080/",
          "height": 35
        },
        "outputId": "31117663-3535-4a17-93b6-2a879adcb3a2"
      },
      "source": [
        "page = requests.get(URL)\n",
        "time.sleep(10)\n",
        "soup = BeautifulSoup(page.content, 'html.parser')\n",
        "#tables = soup.find_all(\"table\")\n",
        "#time.sleep(30)\n",
        "title = str(soup.find_all(\"caption\")).split()[1:4]\n",
        "title = ' '.join([str(elem) for elem in title])\n",
        "title"
      ],
      "execution_count": 292,
      "outputs": [
        {
          "output_type": "execute_result",
          "data": {
            "application/vnd.google.colaboratory.intrinsic+json": {
              "type": "string"
            },
            "text/plain": [
              "'ราคา : เนื้อสัตว์-ค้าปลีก'"
            ]
          },
          "metadata": {
            "tags": []
          },
          "execution_count": 292
        }
      ]
    },
    {
      "cell_type": "code",
      "metadata": {
        "id": "nT3D5PaLroiX",
        "colab": {
          "base_uri": "https://localhost:8080/",
          "height": 35
        },
        "outputId": "b0cef4f7-a517-4433-925b-ad37cc50d38a"
      },
      "source": [
        "date = str(soup.find_all(\"caption\")).split()[-2][:-1]\n",
        "date"
      ],
      "execution_count": 293,
      "outputs": [
        {
          "output_type": "execute_result",
          "data": {
            "application/vnd.google.colaboratory.intrinsic+json": {
              "type": "string"
            },
            "text/plain": [
              "'11/08/2564'"
            ]
          },
          "metadata": {
            "tags": []
          },
          "execution_count": 293
        }
      ]
    },
    {
      "cell_type": "code",
      "metadata": {
        "id": "IzEcW8vUr0Ra"
      },
      "source": [
        "driver.get(URL)\n",
        "time.sleep(10)"
      ],
      "execution_count": 294,
      "outputs": []
    },
    {
      "cell_type": "code",
      "metadata": {
        "id": "5z3X36Hhr23x"
      },
      "source": [
        "driver.find_element_by_xpath('//*[@id=\"tblCheckprice_length\"]/label/select/option[4]').click()"
      ],
      "execution_count": 295,
      "outputs": []
    },
    {
      "cell_type": "code",
      "metadata": {
        "id": "uCIL9tl8sEPg"
      },
      "source": [
        "element = driver.find_element_by_xpath('//*[@id=\"tblCheckprice\"]')"
      ],
      "execution_count": 296,
      "outputs": []
    },
    {
      "cell_type": "code",
      "metadata": {
        "id": "W2UwklBOsGc8"
      },
      "source": [
        "row_no = []\n",
        "subject = []\n",
        "price = []\n",
        "unit = []\n",
        "for i in element.get_attribute('innerHTML').split('<td class=\" text-center\">')[1:]:\n",
        "    j = i.split('</td><td class=\"sorting_1\">')\n",
        "    row_no.append(j[0])\n",
        "    \n",
        "    k = j[-1].replace('&nbsp;&nbsp;</td><td class=\" price\">','|')\n",
        "    k = k.replace('</td><td class=\" price\">','|')\n",
        "    k = k.split(\"|\")\n",
        "    subject.append(k[0])\n",
        "    \n",
        "    l = k[1].replace('</td><td class=\" unit\">','|')\n",
        "    price.append(l.split('|')[0])\n",
        "    \n",
        "    unit.append(l.split('|')[1].split('<')[0])"
      ],
      "execution_count": 297,
      "outputs": []
    },
    {
      "cell_type": "code",
      "metadata": {
        "id": "XNXagb_xsJSU"
      },
      "source": [
        "date_ = []\n",
        "for i in row_no:\n",
        "    date_.append(date)"
      ],
      "execution_count": 298,
      "outputs": []
    },
    {
      "cell_type": "code",
      "metadata": {
        "id": "1ixxP_ZGsMCM"
      },
      "source": [
        "from pandas import DataFrame\n",
        "table = list(zip(date_,subject,price,unit))\n",
        "เนื้อสัตว์ = DataFrame(table,columns=['date','product','range price','unit'])\n",
        "as_date = list(เนื้อสัตว์['date'])\n",
        "as_date_ = []\n",
        "day_name = []\n",
        "for i in as_date:\n",
        "    x = datetime.date(int(i.split('/')[2])-543, int(i.split('/')[1]), int(i.split('/')[0]))\n",
        "    as_date_.append(x)\n",
        "    day_name.append(x.strftime(\"%A\"))\n",
        "เนื้อสัตว์['date'] = as_date_"
      ],
      "execution_count": 299,
      "outputs": []
    },
    {
      "cell_type": "code",
      "metadata": {
        "id": "kRQ-o5LVsOUh"
      },
      "source": [
        "price = เนื้อสัตว์['range price'].tolist()\n",
        "min_price = []\n",
        "max_price = []\n",
        "avg_price = []\n",
        "\n",
        "for i in price:\n",
        "    mn = float(i.split(\" - \")[0])\n",
        "    mx = float(i.split(\" - \")[1])\n",
        "    min_price.append(mn)\n",
        "    max_price.append(mx)\n",
        "    avg_price.append((mn+mx)/2)\n",
        "\n",
        "เนื้อสัตว์['min price'] = min_price\n",
        "เนื้อสัตว์['max price'] = max_price\n",
        "เนื้อสัตว์['price'] = avg_price"
      ],
      "execution_count": 300,
      "outputs": []
    },
    {
      "cell_type": "code",
      "metadata": {
        "id": "4RN2W8fOsRBF"
      },
      "source": [
        "as_date = list(เนื้อสัตว์['date'])\n",
        "day_name = []\n",
        "for i in as_date:\n",
        "    day_name.append(i.strftime(\"%A\"))\n",
        "    \n",
        "เนื้อสัตว์['datename'] = day_name"
      ],
      "execution_count": 301,
      "outputs": []
    },
    {
      "cell_type": "code",
      "metadata": {
        "id": "9HJElHwxsTyS"
      },
      "source": [
        "เนื้อสัตว์['year'] = pd.to_datetime(เนื้อสัตว์[\"date\"]).dt.year\n",
        "เนื้อสัตว์['month'] = pd.to_datetime(เนื้อสัตว์[\"date\"]).dt.month"
      ],
      "execution_count": 302,
      "outputs": []
    },
    {
      "cell_type": "code",
      "metadata": {
        "id": "mZRWANSisWiY"
      },
      "source": [
        "เนื้อสัตว์['date'] = pd.to_datetime(เนื้อสัตว์[\"date\"])"
      ],
      "execution_count": 303,
      "outputs": []
    },
    {
      "cell_type": "code",
      "metadata": {
        "id": "jCPt43yasY02"
      },
      "source": [
        "เนื้อสัตว์ = เนื้อสัตว์.replace({\"month\": m_ord2})"
      ],
      "execution_count": 304,
      "outputs": []
    },
    {
      "cell_type": "code",
      "metadata": {
        "id": "_45GjhXisbBM"
      },
      "source": [
        "เนื้อสัตว์['source'] = 'กระทรวงพาณิชย์'\n",
        "เนื้อสัตว์['product group'] = 'เนื้อสัตว์-ค้าปลีก'"
      ],
      "execution_count": 305,
      "outputs": []
    },
    {
      "cell_type": "markdown",
      "metadata": {
        "id": "cINEKh2z977t"
      },
      "source": [
        "# สัตว์น้ำ-ค้าปลีก"
      ]
    },
    {
      "cell_type": "code",
      "metadata": {
        "id": "yFxU_wOzsdTm"
      },
      "source": [
        "url = \"https://www.moc.go.th/index.php/rice-iframe-3.html\""
      ],
      "execution_count": 306,
      "outputs": []
    },
    {
      "cell_type": "code",
      "metadata": {
        "id": "XyfkBaAAsloe",
        "colab": {
          "base_uri": "https://localhost:8080/",
          "height": 35
        },
        "outputId": "20eeb3e3-e28f-43b8-c2d2-1a5fb8b128f7"
      },
      "source": [
        "#from bs4 import BeautifulSoup\n",
        "res = requests.get(url)\n",
        "time.sleep(10)\n",
        "soup = BeautifulSoup(res.content, \"lxml\")\n",
        "#time.sleep(30)\n",
        "src = soup.find_all(\"div\",{\"class\":\"contentpane\"})\n",
        "\n",
        "for i in str(src).split():\n",
        "    if 'src' in i:\n",
        "        URL = i[5:-1]\n",
        "URL"
      ],
      "execution_count": 307,
      "outputs": [
        {
          "output_type": "execute_result",
          "data": {
            "application/vnd.google.colaboratory.intrinsic+json": {
              "type": "string"
            },
            "text/plain": [
              "'https://mex.moc.go.th/page/dit/checkprice/type/R/catid/2'"
            ]
          },
          "metadata": {
            "tags": []
          },
          "execution_count": 307
        }
      ]
    },
    {
      "cell_type": "code",
      "metadata": {
        "id": "0LVYsIHwsn9b",
        "colab": {
          "base_uri": "https://localhost:8080/",
          "height": 35
        },
        "outputId": "d2f67de9-be2a-4e33-9437-de1b4986a75a"
      },
      "source": [
        "page = requests.get(URL)\n",
        "time.sleep(10)\n",
        "soup = BeautifulSoup(page.content, 'html.parser')\n",
        "#tables = soup.find_all(\"table\")\n",
        "#time.sleep(30)\n",
        "title = str(soup.find_all(\"caption\")).split()[1:4]\n",
        "title = ' '.join([str(elem) for elem in title])\n",
        "title"
      ],
      "execution_count": 308,
      "outputs": [
        {
          "output_type": "execute_result",
          "data": {
            "application/vnd.google.colaboratory.intrinsic+json": {
              "type": "string"
            },
            "text/plain": [
              "'ราคา : สัตว์น้ำ-ค้าปลีก'"
            ]
          },
          "metadata": {
            "tags": []
          },
          "execution_count": 308
        }
      ]
    },
    {
      "cell_type": "code",
      "metadata": {
        "id": "OLblCxnIsy3W",
        "colab": {
          "base_uri": "https://localhost:8080/",
          "height": 35
        },
        "outputId": "f9389d2c-c37e-4381-8d0e-fede97a53662"
      },
      "source": [
        "date = str(soup.find_all(\"caption\")).split()[-2][:-1]\n",
        "date"
      ],
      "execution_count": 309,
      "outputs": [
        {
          "output_type": "execute_result",
          "data": {
            "application/vnd.google.colaboratory.intrinsic+json": {
              "type": "string"
            },
            "text/plain": [
              "'11/08/2564'"
            ]
          },
          "metadata": {
            "tags": []
          },
          "execution_count": 309
        }
      ]
    },
    {
      "cell_type": "code",
      "metadata": {
        "id": "1DlJXIxNtF96"
      },
      "source": [
        "driver.get(URL)\n",
        "time.sleep(10)"
      ],
      "execution_count": 310,
      "outputs": []
    },
    {
      "cell_type": "code",
      "metadata": {
        "id": "S_uiLQcEtIeN"
      },
      "source": [
        "driver.find_element_by_xpath('//*[@id=\"tblCheckprice_length\"]/label/select/option[4]').click()"
      ],
      "execution_count": 311,
      "outputs": []
    },
    {
      "cell_type": "code",
      "metadata": {
        "id": "yQQge-eutTdd"
      },
      "source": [
        "element = driver.find_element_by_xpath('//*[@id=\"tblCheckprice\"]')"
      ],
      "execution_count": 312,
      "outputs": []
    },
    {
      "cell_type": "code",
      "metadata": {
        "id": "-dd0c75BtVvk"
      },
      "source": [
        "row_no = []\n",
        "subject = []\n",
        "price = []\n",
        "unit = []\n",
        "for i in element.get_attribute('innerHTML').split('<td class=\" text-center\">')[1:]:\n",
        "    j = i.split('</td><td class=\"sorting_1\">')\n",
        "    row_no.append(j[0])\n",
        "    \n",
        "    k = j[-1].replace('&nbsp;&nbsp;</td><td class=\" price\">','|')\n",
        "    k = k.replace('</td><td class=\" price\">','|')\n",
        "    k = k.split(\"|\")\n",
        "    subject.append(k[0])\n",
        "    \n",
        "    l = k[1].replace('</td><td class=\" unit\">','|')\n",
        "    price.append(l.split('|')[0])\n",
        "    \n",
        "    unit.append(l.split('|')[1].split('<')[0])"
      ],
      "execution_count": 313,
      "outputs": []
    },
    {
      "cell_type": "code",
      "metadata": {
        "id": "ZlURpT5GtYe3"
      },
      "source": [
        "date_ = []\n",
        "for i in row_no:\n",
        "    date_.append(date)"
      ],
      "execution_count": 314,
      "outputs": []
    },
    {
      "cell_type": "code",
      "metadata": {
        "id": "7zVvVGe4tbNZ"
      },
      "source": [
        "from pandas import DataFrame\n",
        "table = list(zip(date_,subject,price,unit))\n",
        "สัตว์น้ำ = DataFrame(table,columns=['date','product','range price','unit'])\n",
        "as_date = list(สัตว์น้ำ['date'])\n",
        "as_date_ = []\n",
        "day_name = []\n",
        "for i in as_date:\n",
        "    x = datetime.date(int(i.split('/')[2])-543, int(i.split('/')[1]), int(i.split('/')[0]))\n",
        "    as_date_.append(x)\n",
        "    day_name.append(x.strftime(\"%A\"))\n",
        "สัตว์น้ำ['date'] = as_date_"
      ],
      "execution_count": 315,
      "outputs": []
    },
    {
      "cell_type": "code",
      "metadata": {
        "id": "8DPg8LSKtd8_"
      },
      "source": [
        "price = สัตว์น้ำ['range price'].tolist()\n",
        "min_price = []\n",
        "max_price = []\n",
        "avg_price = []\n",
        "\n",
        "for i in price:\n",
        "    mn = float(i.split(\" - \")[0])\n",
        "    mx = float(i.split(\" - \")[1])\n",
        "    min_price.append(mn)\n",
        "    max_price.append(mx)\n",
        "    avg_price.append((mn+mx)/2)\n",
        "\n",
        "สัตว์น้ำ['min price'] = min_price\n",
        "สัตว์น้ำ['max price'] = max_price\n",
        "สัตว์น้ำ['price'] = avg_price"
      ],
      "execution_count": 316,
      "outputs": []
    },
    {
      "cell_type": "code",
      "metadata": {
        "id": "6su8Ufl-th0W"
      },
      "source": [
        "as_date = list(สัตว์น้ำ['date'])\n",
        "day_name = []\n",
        "for i in as_date:\n",
        "    day_name.append(i.strftime(\"%A\"))\n",
        "    \n",
        "สัตว์น้ำ['datename'] = day_name"
      ],
      "execution_count": 317,
      "outputs": []
    },
    {
      "cell_type": "code",
      "metadata": {
        "id": "i30eVIw0tkK6"
      },
      "source": [
        "สัตว์น้ำ['year'] = pd.to_datetime(สัตว์น้ำ[\"date\"]).dt.year\n",
        "สัตว์น้ำ['month'] = pd.to_datetime(สัตว์น้ำ[\"date\"]).dt.month"
      ],
      "execution_count": 318,
      "outputs": []
    },
    {
      "cell_type": "code",
      "metadata": {
        "id": "wquTRmSWtmak"
      },
      "source": [
        "สัตว์น้ำ['date'] = pd.to_datetime(สัตว์น้ำ[\"date\"])"
      ],
      "execution_count": 319,
      "outputs": []
    },
    {
      "cell_type": "code",
      "metadata": {
        "id": "XBzwh6Hqto2l"
      },
      "source": [
        "สัตว์น้ำ = สัตว์น้ำ.replace({\"month\": m_ord2})"
      ],
      "execution_count": 320,
      "outputs": []
    },
    {
      "cell_type": "code",
      "metadata": {
        "id": "VuXi99Nvtq6n"
      },
      "source": [
        "สัตว์น้ำ['source'] = 'กระทรวงพาณิชย์'\n",
        "สัตว์น้ำ['product group'] = 'สัตว์น้ำ-ค้าปลีก'"
      ],
      "execution_count": 321,
      "outputs": []
    },
    {
      "cell_type": "markdown",
      "metadata": {
        "id": "kFMlTyIA-XL3"
      },
      "source": [
        "# อาหารสัตว์และวัตถุดิบ"
      ]
    },
    {
      "cell_type": "code",
      "metadata": {
        "id": "GuDXgjy4ttKG"
      },
      "source": [
        "url = \"https://www.moc.go.th/index.php/rice-iframe-18.html\""
      ],
      "execution_count": 322,
      "outputs": []
    },
    {
      "cell_type": "code",
      "metadata": {
        "id": "lKH_i5yxtzPU",
        "colab": {
          "base_uri": "https://localhost:8080/",
          "height": 35
        },
        "outputId": "f8ccd110-dbe3-45fa-bfd3-65ad3cb162ea"
      },
      "source": [
        "#from bs4 import BeautifulSoup\n",
        "res = requests.get(url)\n",
        "time.sleep(10)\n",
        "soup = BeautifulSoup(res.content, \"lxml\")\n",
        "#time.sleep(30)\n",
        "src = soup.find_all(\"div\",{\"class\":\"contentpane\"})\n",
        "\n",
        "for i in str(src).split():\n",
        "    if 'src' in i:\n",
        "        URL = i[5:-1]\n",
        "URL"
      ],
      "execution_count": 323,
      "outputs": [
        {
          "output_type": "execute_result",
          "data": {
            "application/vnd.google.colaboratory.intrinsic+json": {
              "type": "string"
            },
            "text/plain": [
              "'https://mex.moc.go.th/page/dit/checkprice/type/W/catid/8'"
            ]
          },
          "metadata": {
            "tags": []
          },
          "execution_count": 323
        }
      ]
    },
    {
      "cell_type": "code",
      "metadata": {
        "id": "5L-E4lewt18Q",
        "colab": {
          "base_uri": "https://localhost:8080/",
          "height": 35
        },
        "outputId": "85a5553a-691e-41f5-fd0b-6bc890a366c1"
      },
      "source": [
        "page = requests.get(URL)\n",
        "time.sleep(10)\n",
        "soup = BeautifulSoup(page.content, 'html.parser')\n",
        "#tables = soup.find_all(\"table\")\n",
        "#time.sleep(30)\n",
        "title = str(soup.find_all(\"caption\")).split()[1:4]\n",
        "title = ' '.join([str(elem) for elem in title])\n",
        "title"
      ],
      "execution_count": 324,
      "outputs": [
        {
          "output_type": "execute_result",
          "data": {
            "application/vnd.google.colaboratory.intrinsic+json": {
              "type": "string"
            },
            "text/plain": [
              "'ราคา : อาหารสัตว์และวัตถุดิบอาหารสัตว์-ค้าส่ง'"
            ]
          },
          "metadata": {
            "tags": []
          },
          "execution_count": 324
        }
      ]
    },
    {
      "cell_type": "code",
      "metadata": {
        "id": "eP8JFry7uBWD",
        "colab": {
          "base_uri": "https://localhost:8080/",
          "height": 35
        },
        "outputId": "8f4869bb-bc6f-4244-fe3c-e6ddf3eaaa07"
      },
      "source": [
        "date = str(soup.find_all(\"caption\")).split()[-2][:-1]\n",
        "date"
      ],
      "execution_count": 325,
      "outputs": [
        {
          "output_type": "execute_result",
          "data": {
            "application/vnd.google.colaboratory.intrinsic+json": {
              "type": "string"
            },
            "text/plain": [
              "'11/08/2564'"
            ]
          },
          "metadata": {
            "tags": []
          },
          "execution_count": 325
        }
      ]
    },
    {
      "cell_type": "code",
      "metadata": {
        "id": "SxsqAOlUuLuH"
      },
      "source": [
        "driver.get(URL)\n",
        "time.sleep(10)"
      ],
      "execution_count": 326,
      "outputs": []
    },
    {
      "cell_type": "code",
      "metadata": {
        "id": "AyMpYeaAuOOz"
      },
      "source": [
        "driver.find_element_by_xpath('//*[@id=\"tblCheckprice_length\"]/label/select/option[4]').click()"
      ],
      "execution_count": 327,
      "outputs": []
    },
    {
      "cell_type": "code",
      "metadata": {
        "id": "JuqHIxUYuYlj"
      },
      "source": [
        "element = driver.find_element_by_xpath('//*[@id=\"tblCheckprice\"]')"
      ],
      "execution_count": 328,
      "outputs": []
    },
    {
      "cell_type": "code",
      "metadata": {
        "id": "JTdfnyHKubbq"
      },
      "source": [
        "row_no = []\n",
        "subject = []\n",
        "price = []\n",
        "unit = []\n",
        "for i in element.get_attribute('innerHTML').split('<td class=\" text-center\">')[1:]:\n",
        "    j = i.split('</td><td class=\"sorting_1\">')\n",
        "    row_no.append(j[0])\n",
        "    \n",
        "    k = j[-1].replace('&nbsp;&nbsp;</td><td class=\" price\">','|')\n",
        "    k = k.replace('</td><td class=\" price\">','|')\n",
        "    k = k.split(\"|\")\n",
        "    subject.append(k[0])\n",
        "    \n",
        "    l = k[1].replace('</td><td class=\" unit\">','|')\n",
        "    price.append(l.split('|')[0])\n",
        "    \n",
        "    unit.append(l.split('|')[1].split('<')[0])"
      ],
      "execution_count": 329,
      "outputs": []
    },
    {
      "cell_type": "code",
      "metadata": {
        "id": "DdGKYTuiueIK"
      },
      "source": [
        "date_ = []\n",
        "for i in row_no:\n",
        "    date_.append(date)"
      ],
      "execution_count": 330,
      "outputs": []
    },
    {
      "cell_type": "code",
      "metadata": {
        "id": "CFBWYXqFuhsa"
      },
      "source": [
        "from pandas import DataFrame\n",
        "table = list(zip(date_,subject,price,unit))\n",
        "อาหารสัตว์และวัตถุดิบ = DataFrame(table,columns=['date','product','range price','unit'])\n",
        "as_date = list(อาหารสัตว์และวัตถุดิบ['date'])\n",
        "as_date_ = []\n",
        "day_name = []\n",
        "for i in as_date:\n",
        "    x = datetime.date(int(i.split('/')[2])-543, int(i.split('/')[1]), int(i.split('/')[0]))\n",
        "    as_date_.append(x)\n",
        "    day_name.append(x.strftime(\"%A\"))\n",
        "อาหารสัตว์และวัตถุดิบ['date'] = as_date_"
      ],
      "execution_count": 331,
      "outputs": []
    },
    {
      "cell_type": "code",
      "metadata": {
        "id": "-y2OngZxulKn"
      },
      "source": [
        "price = อาหารสัตว์และวัตถุดิบ['range price'].tolist()\n",
        "min_price = []\n",
        "max_price = []\n",
        "avg_price = []\n",
        "\n",
        "for i in price:\n",
        "    mn = float(i.split(\" - \")[0])\n",
        "    mx = float(i.split(\" - \")[1])\n",
        "    min_price.append(mn)\n",
        "    max_price.append(mx)\n",
        "    avg_price.append((mn+mx)/2)\n",
        "\n",
        "อาหารสัตว์และวัตถุดิบ['min price'] = min_price\n",
        "อาหารสัตว์และวัตถุดิบ['max price'] = max_price\n",
        "อาหารสัตว์และวัตถุดิบ['price'] = avg_price"
      ],
      "execution_count": 332,
      "outputs": []
    },
    {
      "cell_type": "code",
      "metadata": {
        "id": "_LvybQl-uoe1"
      },
      "source": [
        "as_date = list(อาหารสัตว์และวัตถุดิบ['date'])\n",
        "day_name = []\n",
        "for i in as_date:\n",
        "    day_name.append(i.strftime(\"%A\"))\n",
        "    \n",
        "อาหารสัตว์และวัตถุดิบ['datename'] = day_name"
      ],
      "execution_count": 333,
      "outputs": []
    },
    {
      "cell_type": "code",
      "metadata": {
        "id": "FXrlAzAFusnI"
      },
      "source": [
        "อาหารสัตว์และวัตถุดิบ['year'] = pd.to_datetime(อาหารสัตว์และวัตถุดิบ[\"date\"]).dt.year\n",
        "อาหารสัตว์และวัตถุดิบ['month'] = pd.to_datetime(อาหารสัตว์และวัตถุดิบ[\"date\"]).dt.month\n",
        "\n",
        "อาหารสัตว์และวัตถุดิบ['date'] = pd.to_datetime(อาหารสัตว์และวัตถุดิบ[\"date\"])\n",
        "\n",
        "อาหารสัตว์และวัตถุดิบ = อาหารสัตว์และวัตถุดิบ.replace({\"month\": m_ord2})\n",
        "\n",
        "อาหารสัตว์และวัตถุดิบ['source'] = 'กระทรวงพาณิชย์'\n",
        "อาหารสัตว์และวัตถุดิบ['product group'] = 'อาหารสัตว์และวัตถุดิบอาหารสัตว์-ค้าส่ง'"
      ],
      "execution_count": 334,
      "outputs": []
    },
    {
      "cell_type": "markdown",
      "metadata": {
        "id": "kJmxZSsS-4oC"
      },
      "source": [
        "# ตลาดสด - ตลาดไท"
      ]
    },
    {
      "cell_type": "code",
      "metadata": {
        "id": "TWi-qrEYobal"
      },
      "source": [
        "import numpy as np"
      ],
      "execution_count": 335,
      "outputs": []
    },
    {
      "cell_type": "code",
      "metadata": {
        "id": "qyuwods3uvoE"
      },
      "source": [
        "url = \"https://talaadthai.com/product-search/result?subcat_id=10132&per_page=50&page=1\"\n",
        "\n",
        "driver.get(url)\n",
        "time.sleep(10)\n",
        "\n",
        "element = driver.find_element_by_xpath('//*[@id=\"__layout\"]/div/div/div[2]/div[4]/div/div/div/div[2]/div[1]/h5')\n",
        "last_page = int(np.ceil(int(element.get_attribute('innerHTML').split()[1])/50))"
      ],
      "execution_count": 336,
      "outputs": []
    },
    {
      "cell_type": "code",
      "metadata": {
        "id": "avXp7IT5u3H7"
      },
      "source": [
        "product = []\n",
        "dt = []\n",
        "\n",
        "min_price = []\n",
        "max_price = []\n",
        "avg_price = []\n",
        "range_price = []\n",
        "unit = []\n",
        "\n",
        "for i in range(last_page):\n",
        "    URL = url[:-1]+str(i+1)\n",
        "    driver.get(URL)\n",
        "    time.sleep(10)\n",
        "    element = driver.find_element_by_xpath('//*[@id=\"__layout\"]/div/div/div[2]/div[4]/div/div/div/div[3]')\n",
        "    \n",
        "    for j in element.get_attribute('innerText').split('\\n'):\n",
        "        if len(j.split('%')) == 1:\n",
        "            product.append(j)\n",
        "        else:\n",
        "            k = j.split('%')[0]\n",
        "            dt.append(j.split('%')[1])\n",
        "            min_price.append(float(k.split()[0]))\n",
        "            max_price.append(float(k.split()[2]))\n",
        "            avg_price.append((float(k.split()[0])+float(k.split()[2]))/2)\n",
        "            range_price.append(' '.join(k.split()[:3]))\n",
        "            unit.append(' '.join(k.split()[3:-1]))"
      ],
      "execution_count": 337,
      "outputs": []
    },
    {
      "cell_type": "code",
      "metadata": {
        "id": "aAcqTT89n7vJ"
      },
      "source": [
        "date_ = []\n",
        "for i in dt:\n",
        "#  print(i.split('/')[2],i.split('/')[1],i.split('/')[0])\n",
        "  x = datetime.date(int(i.split('/')[2]), int(i.split('/')[1]), int(i.split('/')[0]))\n",
        "  date_.append(x)"
      ],
      "execution_count": 338,
      "outputs": []
    },
    {
      "cell_type": "code",
      "metadata": {
        "id": "7XpkOTrLvOb_"
      },
      "source": [
        "# date_ = []\n",
        "# for i in dt:\n",
        "#     #print(pd.to_datetime(i.strip()).strftime('%#Y/%#m/%d %H:%M:%S'))\n",
        "#     date_.append(pd.to_datetime(i.strip()))"
      ],
      "execution_count": 339,
      "outputs": []
    },
    {
      "cell_type": "code",
      "metadata": {
        "id": "E8nlT4VKvg3J"
      },
      "source": [
        "from pandas import DataFrame\n",
        "table = list(zip(date_,product,range_price,unit))\n",
        "ตลาดสดตลาดไท = DataFrame(table,columns=['date','product','range price','unit'])"
      ],
      "execution_count": 340,
      "outputs": []
    },
    {
      "cell_type": "code",
      "metadata": {
        "id": "tLW1Gtl9vjhG"
      },
      "source": [
        "as_date = list(ตลาดสดตลาดไท['date'])\n",
        "as_date_ = []\n",
        "day_name = []\n",
        "for i in as_date:\n",
        "    # i = str(i).split(' ')\n",
        "    # i = i[0]\n",
        "    # x = datetime.date(int(i.split('-')[0]), int(i.split('-')[2]), int(i.split('-')[1]))\n",
        "    as_date_.append(i)\n",
        "    day_name.append(i.strftime(\"%A\"))\n",
        "ตลาดสดตลาดไท['date'] = as_date_"
      ],
      "execution_count": 341,
      "outputs": []
    },
    {
      "cell_type": "code",
      "metadata": {
        "id": "a5nhRLopvmJA"
      },
      "source": [
        "ตลาดสดตลาดไท['min price'] = min_price\n",
        "ตลาดสดตลาดไท['max price'] = max_price\n",
        "ตลาดสดตลาดไท['price'] = avg_price"
      ],
      "execution_count": 342,
      "outputs": []
    },
    {
      "cell_type": "code",
      "metadata": {
        "id": "AkncsdrRvot5"
      },
      "source": [
        "as_date = list(ตลาดสดตลาดไท['date'])\n",
        "day_name = []\n",
        "for i in as_date:\n",
        "    day_name.append(i.strftime(\"%A\"))\n",
        "    \n",
        "ตลาดสดตลาดไท['datename'] = day_name"
      ],
      "execution_count": 343,
      "outputs": []
    },
    {
      "cell_type": "code",
      "metadata": {
        "id": "vjZvqr73vrOH"
      },
      "source": [
        "ตลาดสดตลาดไท['year'] = pd.to_datetime(ตลาดสดตลาดไท[\"date\"]).dt.year\n",
        "ตลาดสดตลาดไท['month'] = pd.to_datetime(ตลาดสดตลาดไท[\"date\"]).dt.month\n",
        "\n",
        "ตลาดสดตลาดไท['date'] = pd.to_datetime(ตลาดสดตลาดไท[\"date\"])\n",
        "\n",
        "ตลาดสดตลาดไท = ตลาดสดตลาดไท.replace({\"month\": m_ord2})\n",
        "\n",
        "ตลาดสดตลาดไท['source'] = 'ตลาดไท'\n",
        "ตลาดสดตลาดไท['product group'] = 'ตลาดสด-ตลาดไท'"
      ],
      "execution_count": 344,
      "outputs": []
    },
    {
      "cell_type": "markdown",
      "metadata": {
        "id": "5Kl_C69z_VfG"
      },
      "source": [
        "# ตลาดปลาน้ำจืดตลาดไท"
      ]
    },
    {
      "cell_type": "code",
      "metadata": {
        "id": "ND815URRvtp3"
      },
      "source": [
        "url = \"https://talaadthai.com/product-search/result?subcat_id=10133&per_page=50&page=1\"\n",
        "\n",
        "driver.get(url)\n",
        "time.sleep(10)\n",
        "\n",
        "element = driver.find_element_by_xpath('//*[@id=\"__layout\"]/div/div/div[2]/div[4]/div/div/div/div[2]/div[1]/h5')\n",
        "last_page = int(np.ceil(int(element.get_attribute('innerHTML').split()[1])/50))"
      ],
      "execution_count": 345,
      "outputs": []
    },
    {
      "cell_type": "code",
      "metadata": {
        "id": "tAXLN3d1v0eW"
      },
      "source": [
        "product = []\n",
        "dt = []\n",
        "\n",
        "min_price = []\n",
        "max_price = []\n",
        "avg_price = []\n",
        "range_price = []\n",
        "unit = []\n",
        "\n",
        "for i in range(last_page):\n",
        "    URL = url[:-1]+str(i+1)\n",
        "    driver.get(URL)\n",
        "    time.sleep(10)\n",
        "    element = driver.find_element_by_xpath('//*[@id=\"__layout\"]/div/div/div[2]/div[4]/div/div/div/div[3]')\n",
        "    \n",
        "    for j in element.get_attribute('innerText').split('\\n'):\n",
        "        if len(j.split('%')) == 1:\n",
        "            product.append(j)\n",
        "        else:\n",
        "            k = j.split('%')[0]\n",
        "            dt.append(j.split('%')[1])\n",
        "            min_price.append(float(k.split()[0]))\n",
        "            max_price.append(float(k.split()[2]))\n",
        "            avg_price.append((float(k.split()[0])+float(k.split()[2]))/2)\n",
        "            range_price.append(' '.join(k.split()[:3]))\n",
        "            unit.append(' '.join(k.split()[3:-1]))"
      ],
      "execution_count": 346,
      "outputs": []
    },
    {
      "cell_type": "code",
      "metadata": {
        "id": "axPu6DMslHbF"
      },
      "source": [
        "date_ = []\n",
        "for i in dt:\n",
        "#  print(i.split('/')[2],i.split('/')[1],i.split('/')[0])\n",
        "  x = datetime.date(int(i.split('/')[2]), int(i.split('/')[1]), int(i.split('/')[0]))\n",
        "  date_.append(x)"
      ],
      "execution_count": 347,
      "outputs": []
    },
    {
      "cell_type": "code",
      "metadata": {
        "id": "fwIQzLUcv_uI"
      },
      "source": [
        "# date_ = []\n",
        "# for i in dt:\n",
        "#     date_.append(pd.to_datetime(i.strip()))"
      ],
      "execution_count": 348,
      "outputs": []
    },
    {
      "cell_type": "code",
      "metadata": {
        "id": "fejThoT1wS4X"
      },
      "source": [
        "from pandas import DataFrame\n",
        "table = list(zip(date_,product,range_price,unit))\n",
        "ปลาน้ำจืดตลาดไท = DataFrame(table,columns=['date','product','range price','unit'])"
      ],
      "execution_count": 349,
      "outputs": []
    },
    {
      "cell_type": "code",
      "metadata": {
        "id": "0VhLj0_FwVuH"
      },
      "source": [
        "as_date = list(ปลาน้ำจืดตลาดไท['date'])\n",
        "as_date_ = []\n",
        "day_name = []\n",
        "for i in as_date:\n",
        "    as_date_.append(i)\n",
        "    day_name.append(i.strftime(\"%A\"))\n",
        "ปลาน้ำจืดตลาดไท['date'] = as_date_"
      ],
      "execution_count": 350,
      "outputs": []
    },
    {
      "cell_type": "code",
      "metadata": {
        "id": "uY9PTqzbwaby"
      },
      "source": [
        "ปลาน้ำจืดตลาดไท['min price'] = min_price\n",
        "ปลาน้ำจืดตลาดไท['max price'] = max_price\n",
        "ปลาน้ำจืดตลาดไท['price'] = avg_price"
      ],
      "execution_count": 351,
      "outputs": []
    },
    {
      "cell_type": "code",
      "metadata": {
        "id": "Nx32fDllwdgY"
      },
      "source": [
        "as_date = list(ปลาน้ำจืดตลาดไท['date'])\n",
        "day_name = []\n",
        "for i in as_date:\n",
        "    day_name.append(i.strftime(\"%A\"))\n",
        "    \n",
        "ปลาน้ำจืดตลาดไท['datename'] = day_name"
      ],
      "execution_count": 352,
      "outputs": []
    },
    {
      "cell_type": "code",
      "metadata": {
        "id": "RcM-A7OXwgM9"
      },
      "source": [
        "ปลาน้ำจืดตลาดไท['year'] = pd.to_datetime(ปลาน้ำจืดตลาดไท[\"date\"]).dt.year\n",
        "ปลาน้ำจืดตลาดไท['month'] = pd.to_datetime(ปลาน้ำจืดตลาดไท[\"date\"]).dt.month\n",
        "\n",
        "ปลาน้ำจืดตลาดไท['date'] = pd.to_datetime(ปลาน้ำจืดตลาดไท[\"date\"])\n",
        "\n",
        "ปลาน้ำจืดตลาดไท = ปลาน้ำจืดตลาดไท.replace({\"month\": m_ord2})\n",
        "\n",
        "ปลาน้ำจืดตลาดไท['source'] = 'ตลาดไท'\n",
        "ปลาน้ำจืดตลาดไท['product group'] = 'ตลาดปลาน้ำจืด-ตลาดไท'"
      ],
      "execution_count": 353,
      "outputs": []
    },
    {
      "cell_type": "markdown",
      "metadata": {
        "id": "ebJS159x_0X1"
      },
      "source": [
        "# อาหารทะเลตลาดไท"
      ]
    },
    {
      "cell_type": "code",
      "metadata": {
        "id": "kJ6Nun1LwilV"
      },
      "source": [
        "url = \"https://talaadthai.com/product-search/result?subcat_id=10134&per_page=50&page=1\"\n",
        "\n",
        "driver.get(url)\n",
        "time.sleep(10)\n",
        "\n",
        "element = driver.find_element_by_xpath('//*[@id=\"__layout\"]/div/div/div[2]/div[4]/div/div/div/div[2]/div[1]/h5')\n",
        "last_page = int(np.ceil(int(element.get_attribute('innerHTML').split()[1])/50))"
      ],
      "execution_count": 354,
      "outputs": []
    },
    {
      "cell_type": "code",
      "metadata": {
        "id": "BaRvjoB9wqxd"
      },
      "source": [
        "product = []\n",
        "dt = []\n",
        "\n",
        "min_price = []\n",
        "max_price = []\n",
        "avg_price = []\n",
        "range_price = []\n",
        "unit = []\n",
        "\n",
        "for i in range(last_page):\n",
        "    URL = url[:-1]+str(i+1)\n",
        "    driver.get(URL)\n",
        "    time.sleep(10)\n",
        "    element = driver.find_element_by_xpath('//*[@id=\"__layout\"]/div/div/div[2]/div[4]/div/div/div/div[3]')\n",
        "    \n",
        "    for j in element.get_attribute('innerText').split('\\n'):\n",
        "        if len(j.split('%')) == 1:\n",
        "            product.append(j)\n",
        "        else:\n",
        "            k = j.split('%')[0]\n",
        "            dt.append(j.split('%')[1])\n",
        "            min_price.append(float(k.split()[0]))\n",
        "            max_price.append(float(k.split()[2]))\n",
        "            avg_price.append((float(k.split()[0])+float(k.split()[2]))/2)\n",
        "            range_price.append(' '.join(k.split()[:3]))\n",
        "            unit.append(' '.join(k.split()[3:-1]))"
      ],
      "execution_count": 355,
      "outputs": []
    },
    {
      "cell_type": "code",
      "metadata": {
        "id": "TtA-OhRdpWQQ"
      },
      "source": [
        "date_ = []\n",
        "for i in dt:\n",
        "#  print(i.split('/')[2],i.split('/')[1],i.split('/')[0])\n",
        "  x = datetime.date(int(i.split('/')[2]), int(i.split('/')[1]), int(i.split('/')[0]))\n",
        "  date_.append(x)"
      ],
      "execution_count": 356,
      "outputs": []
    },
    {
      "cell_type": "code",
      "metadata": {
        "id": "opHo9UmIw1dB"
      },
      "source": [
        "# date_ = []\n",
        "# for i in dt:\n",
        "#     date_.append(pd.to_datetime(i.strip()))"
      ],
      "execution_count": 357,
      "outputs": []
    },
    {
      "cell_type": "code",
      "metadata": {
        "id": "-P2MYncrxAge"
      },
      "source": [
        "from pandas import DataFrame\n",
        "table = list(zip(date_,product,range_price,unit))\n",
        "อาหารทะเลตลาดไท = DataFrame(table,columns=['date','product','range price','unit'])"
      ],
      "execution_count": 358,
      "outputs": []
    },
    {
      "cell_type": "code",
      "metadata": {
        "id": "UYugyJN1xDiy"
      },
      "source": [
        "as_date = list(อาหารทะเลตลาดไท['date'])\n",
        "as_date_ = []\n",
        "day_name = []\n",
        "for i in as_date:\n",
        "#    x = datetime.date(int(i.split('/')[2])-543, int(i.split('/')[1]), int(i.split('/')[0]))\n",
        "    as_date_.append(i)\n",
        "    day_name.append(i.strftime(\"%A\"))\n",
        "อาหารทะเลตลาดไท['date'] = as_date_"
      ],
      "execution_count": 359,
      "outputs": []
    },
    {
      "cell_type": "code",
      "metadata": {
        "id": "NO5Z7upbxGig"
      },
      "source": [
        "อาหารทะเลตลาดไท['min price'] = min_price\n",
        "อาหารทะเลตลาดไท['max price'] = max_price\n",
        "อาหารทะเลตลาดไท['price'] = avg_price"
      ],
      "execution_count": 360,
      "outputs": []
    },
    {
      "cell_type": "code",
      "metadata": {
        "id": "YHuWYOuwxI_q"
      },
      "source": [
        "as_date = list(อาหารทะเลตลาดไท['date'])\n",
        "day_name = []\n",
        "for i in as_date:\n",
        "    day_name.append(i.strftime(\"%A\"))\n",
        "    \n",
        "อาหารทะเลตลาดไท['datename'] = day_name"
      ],
      "execution_count": 361,
      "outputs": []
    },
    {
      "cell_type": "code",
      "metadata": {
        "id": "p0yxWu7txLk3"
      },
      "source": [
        "อาหารทะเลตลาดไท['year'] = pd.to_datetime(อาหารทะเลตลาดไท[\"date\"]).dt.year\n",
        "อาหารทะเลตลาดไท['month'] = pd.to_datetime(อาหารทะเลตลาดไท[\"date\"]).dt.month\n",
        "\n",
        "อาหารทะเลตลาดไท['date'] = pd.to_datetime(อาหารทะเลตลาดไท[\"date\"])\n",
        "\n",
        "อาหารทะเลตลาดไท = อาหารทะเลตลาดไท.replace({\"month\": m_ord2})\n",
        "\n",
        "อาหารทะเลตลาดไท['source'] = 'ตลาดไท'\n",
        "อาหารทะเลตลาดไท['product group'] = 'ตลาดอาหารทะเล-ตลาดไท'"
      ],
      "execution_count": 362,
      "outputs": []
    },
    {
      "cell_type": "markdown",
      "metadata": {
        "id": "iMf-5jAy_9wb"
      },
      "source": [
        "# ราคาวัตถุดิบอาหารสัตว์ CP"
      ]
    },
    {
      "cell_type": "code",
      "metadata": {
        "id": "-eCOIq5UJM5M"
      },
      "source": [
        "#ปลายข้าวเจ้า\n",
        "url = \"http://www.cpffeed.com/material1/\"\n",
        "\n",
        "driver.get(url)\n",
        "time.sleep(10)\n",
        "\n",
        "element = driver.find_element_by_xpath('//*[@id=\"post-1011\"]/div/div/div/div/section[2]/div/div/div/div/div/div[4]/div/div/table/tbody')\n",
        "table = element.get_attribute('innerText').split('\\n')[1:-1]"
      ],
      "execution_count": 363,
      "outputs": []
    },
    {
      "cell_type": "code",
      "metadata": {
        "id": "ao1EF7_UK_AW"
      },
      "source": [
        "dt = []\n",
        "price = []\n",
        "unit = []\n",
        "ref = []\n",
        "product = []\n",
        "for i in table:\n",
        "  x = i.replace(\"ปลายข้าวเจ้า\",\"\")\n",
        "  dt.append(x.split(\"\\t\")[2])\n",
        "  price.append(x.split(\"\\t\")[3])\n",
        "  unit.append(x.split(\"\\t\")[5])\n",
        "  ref.append(x.split(\"\\t\")[6])\n",
        "  product.append(\"ปลายข้าวเจ้า\")\n",
        "#  print(x.split(\"\\t\"))"
      ],
      "execution_count": 364,
      "outputs": []
    },
    {
      "cell_type": "code",
      "metadata": {
        "id": "kQH8DPBIMT3R"
      },
      "source": [
        "date_ = []\n",
        "for i in dt:\n",
        "  x = datetime.date(int(i.split('-')[0]), int(i.split('-')[1]), int(i.split('-')[2]))\n",
        "  date_.append(x)"
      ],
      "execution_count": 365,
      "outputs": []
    },
    {
      "cell_type": "code",
      "metadata": {
        "id": "Ovz7zKNyMu5p"
      },
      "source": [
        "from pandas import DataFrame\n",
        "table = list(zip(date_,product,price,unit,ref))\n",
        "ปลายข้าวเจ้า = DataFrame(table,columns=['date','product','price','unit','remark'])"
      ],
      "execution_count": 366,
      "outputs": []
    },
    {
      "cell_type": "code",
      "metadata": {
        "id": "1mVSw8aUNilh"
      },
      "source": [
        "as_date = list(ปลายข้าวเจ้า['date'])\n",
        "as_date_ = []\n",
        "day_name = []\n",
        "for i in as_date:\n",
        "#    x = datetime.date(int(i.split('/')[2])-543, int(i.split('/')[1]), int(i.split('/')[0]))\n",
        "    as_date_.append(i)\n",
        "    day_name.append(i.strftime(\"%A\"))\n",
        "ปลายข้าวเจ้า['date'] = as_date_"
      ],
      "execution_count": 367,
      "outputs": []
    },
    {
      "cell_type": "code",
      "metadata": {
        "id": "KVXMIdqcL7gX"
      },
      "source": [
        "as_date = list(ปลายข้าวเจ้า['date'])\n",
        "day_name = []\n",
        "for i in as_date:\n",
        "    day_name.append(i.strftime(\"%A\"))\n",
        "    \n",
        "ปลายข้าวเจ้า['datename'] = day_name"
      ],
      "execution_count": 368,
      "outputs": []
    },
    {
      "cell_type": "code",
      "metadata": {
        "id": "VtH1wkFSN6vG"
      },
      "source": [
        "ปลายข้าวเจ้า['year'] = pd.to_datetime(ปลายข้าวเจ้า[\"date\"]).dt.year\n",
        "ปลายข้าวเจ้า['month'] = pd.to_datetime(ปลายข้าวเจ้า[\"date\"]).dt.month\n",
        "\n",
        "ปลายข้าวเจ้า['date'] = pd.to_datetime(ปลายข้าวเจ้า[\"date\"])\n",
        "\n",
        "ปลายข้าวเจ้า = ปลายข้าวเจ้า.replace({\"month\": m_ord2})\n",
        "\n",
        "ปลายข้าวเจ้า['source'] = 'CPF'\n",
        "ปลายข้าวเจ้า['product group'] = 'วัตถุดิบอาหารสัตว์'"
      ],
      "execution_count": 369,
      "outputs": []
    },
    {
      "cell_type": "code",
      "metadata": {
        "id": "RdqkK_JNhUD2"
      },
      "source": [
        "#รำสกัด\n",
        "url = \"http://www.cpffeed.com/material2/\"\n",
        "\n",
        "driver.get(url)\n",
        "time.sleep(10)\n",
        "\n",
        "element = driver.find_element_by_xpath('//*[@id=\"post-1037\"]/div/div/div/div/section[2]/div/div/div/div/div/div[4]/div/div/table/tbody')\n",
        "table = element.get_attribute('innerText').split('\\n')[1:-1]"
      ],
      "execution_count": 370,
      "outputs": []
    },
    {
      "cell_type": "code",
      "metadata": {
        "id": "rCfaFVLFhjsd"
      },
      "source": [
        "dt = []\n",
        "price = []\n",
        "unit = []\n",
        "ref = []\n",
        "product = []\n",
        "for i in table:\n",
        "  x = i.replace(\"รำสกัด\",\"\")\n",
        "  dt.append(x.split(\"\\t\")[2])\n",
        "  price.append(x.split(\"\\t\")[3])\n",
        "  unit.append(x.split(\"\\t\")[5])\n",
        "  ref.append(x.split(\"\\t\")[6])\n",
        "  product.append(\"รำสกัด\")\n",
        "#  print(x.split(\"\\t\"))"
      ],
      "execution_count": 371,
      "outputs": []
    },
    {
      "cell_type": "code",
      "metadata": {
        "id": "yWGgyTWsiHa2"
      },
      "source": [
        "date_ = []\n",
        "for i in dt:\n",
        "  x = datetime.date(int(i.split('-')[0]), int(i.split('-')[1]), int(i.split('-')[2]))\n",
        "  date_.append(x)"
      ],
      "execution_count": 372,
      "outputs": []
    },
    {
      "cell_type": "code",
      "metadata": {
        "id": "UXReuDkTiL5_"
      },
      "source": [
        "from pandas import DataFrame\n",
        "table = list(zip(date_,product,price,unit,ref))\n",
        "รำสกัด = DataFrame(table,columns=['date','product','price','unit','remark'])"
      ],
      "execution_count": 373,
      "outputs": []
    },
    {
      "cell_type": "code",
      "metadata": {
        "id": "NESU2PaSiUPK"
      },
      "source": [
        "as_date = list(รำสกัด['date'])\n",
        "as_date_ = []\n",
        "day_name = []\n",
        "for i in as_date:\n",
        "#    x = datetime.date(int(i.split('/')[2])-543, int(i.split('/')[1]), int(i.split('/')[0]))\n",
        "    as_date_.append(i)\n",
        "    day_name.append(i.strftime(\"%A\"))\n",
        "รำสกัด['date'] = as_date_"
      ],
      "execution_count": 374,
      "outputs": []
    },
    {
      "cell_type": "code",
      "metadata": {
        "id": "Uwdv9tLEibUU"
      },
      "source": [
        "as_date = list(รำสกัด['date'])\n",
        "day_name = []\n",
        "for i in as_date:\n",
        "    day_name.append(i.strftime(\"%A\"))\n",
        "    \n",
        "รำสกัด['datename'] = day_name"
      ],
      "execution_count": 375,
      "outputs": []
    },
    {
      "cell_type": "code",
      "metadata": {
        "id": "vrZPxwDcijIj"
      },
      "source": [
        "รำสกัด['year'] = pd.to_datetime(รำสกัด[\"date\"]).dt.year\n",
        "รำสกัด['month'] = pd.to_datetime(รำสกัด[\"date\"]).dt.month\n",
        "\n",
        "รำสกัด['date'] = pd.to_datetime(รำสกัด[\"date\"])\n",
        "\n",
        "รำสกัด = รำสกัด.replace({\"month\": m_ord2})\n",
        "\n",
        "รำสกัด['source'] = 'CPF'\n",
        "รำสกัด['product group'] = 'วัตถุดิบอาหารสัตว์'"
      ],
      "execution_count": 376,
      "outputs": []
    },
    {
      "cell_type": "code",
      "metadata": {
        "id": "yyIwISHEi7Ru"
      },
      "source": [
        "#รำขาว\n",
        "url = \"http://www.cpffeed.com/material3/\"\n",
        "\n",
        "driver.get(url)\n",
        "time.sleep(10)\n",
        "\n",
        "element = driver.find_element_by_xpath('//*[@id=\"post-1041\"]/div/div/div/div/section[2]/div/div/div/div/div/div[4]/div/div/table/tbody')\n",
        "table = element.get_attribute('innerText').split('\\n')[1:-1]"
      ],
      "execution_count": 377,
      "outputs": []
    },
    {
      "cell_type": "code",
      "metadata": {
        "id": "7rFjfpIrjMKE"
      },
      "source": [
        "dt = []\n",
        "price = []\n",
        "unit = []\n",
        "ref = []\n",
        "product = []\n",
        "for i in table:\n",
        "  x = i.replace(\"รำขาว\",\"\")\n",
        "  dt.append(x.split(\"\\t\")[2])\n",
        "  price.append(x.split(\"\\t\")[3])\n",
        "  unit.append(x.split(\"\\t\")[5])\n",
        "  ref.append(x.split(\"\\t\")[6])\n",
        "  product.append(\"รำขาว\")\n",
        "#  print(x.split(\"\\t\"))"
      ],
      "execution_count": 378,
      "outputs": []
    },
    {
      "cell_type": "code",
      "metadata": {
        "id": "W8vMQYAljiE5"
      },
      "source": [
        "date_ = []\n",
        "for i in dt:\n",
        "  x = datetime.date(int(i.split('-')[0]), int(i.split('-')[1]), int(i.split('-')[2]))\n",
        "  date_.append(x)"
      ],
      "execution_count": 379,
      "outputs": []
    },
    {
      "cell_type": "code",
      "metadata": {
        "id": "l_MrHPL0jlhi"
      },
      "source": [
        "from pandas import DataFrame\n",
        "table = list(zip(date_,product,price,unit,ref))\n",
        "รำขาว = DataFrame(table,columns=['date','product','price','unit','remark'])"
      ],
      "execution_count": 380,
      "outputs": []
    },
    {
      "cell_type": "code",
      "metadata": {
        "id": "W8VKhTaDjrNj"
      },
      "source": [
        "as_date = list(รำขาว['date'])\n",
        "as_date_ = []\n",
        "day_name = []\n",
        "for i in as_date:\n",
        "#    x = datetime.date(int(i.split('/')[2])-543, int(i.split('/')[1]), int(i.split('/')[0]))\n",
        "    as_date_.append(i)\n",
        "    day_name.append(i.strftime(\"%A\"))\n",
        "รำขาว['date'] = as_date_"
      ],
      "execution_count": 381,
      "outputs": []
    },
    {
      "cell_type": "code",
      "metadata": {
        "id": "COYP9Gtqjzd7"
      },
      "source": [
        "as_date = list(รำขาว['date'])\n",
        "day_name = []\n",
        "for i in as_date:\n",
        "    day_name.append(i.strftime(\"%A\"))\n",
        "    \n",
        "รำขาว['datename'] = day_name"
      ],
      "execution_count": 382,
      "outputs": []
    },
    {
      "cell_type": "code",
      "metadata": {
        "id": "7dTILXk5j6sL"
      },
      "source": [
        "รำขาว['year'] = pd.to_datetime(รำขาว[\"date\"]).dt.year\n",
        "รำขาว['month'] = pd.to_datetime(รำขาว[\"date\"]).dt.month\n",
        "\n",
        "รำขาว['date'] = pd.to_datetime(รำขาว[\"date\"])\n",
        "\n",
        "รำขาว = รำขาว.replace({\"month\": m_ord2})\n",
        "\n",
        "รำขาว['source'] = 'CPF'\n",
        "รำขาว['product group'] = 'วัตถุดิบอาหารสัตว์'"
      ],
      "execution_count": 383,
      "outputs": []
    },
    {
      "cell_type": "code",
      "metadata": {
        "id": "6xRK_aXZkI6H"
      },
      "source": [
        "#ข้าวโพดเม็ด\n",
        "url = \"http://www.cpffeed.com/material4/\"\n",
        "\n",
        "driver.get(url)\n",
        "time.sleep(10)\n",
        "\n",
        "element = driver.find_element_by_xpath('//*[@id=\"post-1048\"]/div/div/div/div/section[2]/div/div/div/div/div/div[3]/div/div/table/tbody')\n",
        "table = element.get_attribute('innerText').split('\\n')[1:-1]"
      ],
      "execution_count": 384,
      "outputs": []
    },
    {
      "cell_type": "code",
      "metadata": {
        "id": "gpyAn0jrkUhK"
      },
      "source": [
        "dt = []\n",
        "price = []\n",
        "unit = []\n",
        "ref = []\n",
        "product = []\n",
        "for i in table:\n",
        "  x = i.replace(\"ข้าวโพดเม็ด\",\"\")\n",
        "  dt.append(x.split(\"\\t\")[2])\n",
        "  price.append(x.split(\"\\t\")[3])\n",
        "  unit.append(x.split(\"\\t\")[5])\n",
        "  ref.append(x.split(\"\\t\")[6])\n",
        "  product.append(\"ข้าวโพดเม็ด\")\n",
        "#  print(x.split(\"\\t\"))"
      ],
      "execution_count": 385,
      "outputs": []
    },
    {
      "cell_type": "code",
      "metadata": {
        "id": "6dxWJp-_kxfp"
      },
      "source": [
        "date_ = []\n",
        "for i in dt:\n",
        "  x = datetime.date(int(i.split('-')[0]), int(i.split('-')[1]), int(i.split('-')[2]))\n",
        "  date_.append(x)"
      ],
      "execution_count": 386,
      "outputs": []
    },
    {
      "cell_type": "code",
      "metadata": {
        "id": "w5BnaZ57k07c"
      },
      "source": [
        "from pandas import DataFrame\n",
        "table = list(zip(date_,product,price,unit,ref))\n",
        "ข้าวโพดเม็ด = DataFrame(table,columns=['date','product','price','unit','remark'])"
      ],
      "execution_count": 387,
      "outputs": []
    },
    {
      "cell_type": "code",
      "metadata": {
        "id": "tp-iqqE3k7Gf"
      },
      "source": [
        "as_date = list(ข้าวโพดเม็ด['date'])\n",
        "as_date_ = []\n",
        "day_name = []\n",
        "for i in as_date:\n",
        "#    x = datetime.date(int(i.split('/')[2])-543, int(i.split('/')[1]), int(i.split('/')[0]))\n",
        "    as_date_.append(i)\n",
        "    day_name.append(i.strftime(\"%A\"))\n",
        "ข้าวโพดเม็ด['date'] = as_date_"
      ],
      "execution_count": 388,
      "outputs": []
    },
    {
      "cell_type": "code",
      "metadata": {
        "id": "koRkUlB_lDsy"
      },
      "source": [
        "as_date = list(ข้าวโพดเม็ด['date'])\n",
        "day_name = []\n",
        "for i in as_date:\n",
        "    day_name.append(i.strftime(\"%A\"))\n",
        "    \n",
        "ข้าวโพดเม็ด['datename'] = day_name"
      ],
      "execution_count": 389,
      "outputs": []
    },
    {
      "cell_type": "code",
      "metadata": {
        "id": "sYEVgUiVlLoS"
      },
      "source": [
        "ข้าวโพดเม็ด['year'] = pd.to_datetime(ข้าวโพดเม็ด[\"date\"]).dt.year\n",
        "ข้าวโพดเม็ด['month'] = pd.to_datetime(ข้าวโพดเม็ด[\"date\"]).dt.month\n",
        "\n",
        "ข้าวโพดเม็ด['date'] = pd.to_datetime(ข้าวโพดเม็ด[\"date\"])\n",
        "\n",
        "ข้าวโพดเม็ด = ข้าวโพดเม็ด.replace({\"month\": m_ord2})\n",
        "\n",
        "ข้าวโพดเม็ด['source'] = 'CPF'\n",
        "ข้าวโพดเม็ด['product group'] = 'วัตถุดิบอาหารสัตว์'"
      ],
      "execution_count": 390,
      "outputs": []
    },
    {
      "cell_type": "code",
      "metadata": {
        "id": "IsLebvXIll7X"
      },
      "source": [
        "#ปลาป่น\n",
        "url = \"http://www.cpffeed.com/material5/\"\n",
        "\n",
        "driver.get(url)\n",
        "time.sleep(10)\n",
        "\n",
        "element = driver.find_element_by_xpath('//*[@id=\"post-1053\"]/div/div/div/div/section[2]/div/div/div/div/div/div[4]/div/div/table/tbody')\n",
        "table = element.get_attribute('innerText').split('\\n')[1:-1]"
      ],
      "execution_count": 391,
      "outputs": []
    },
    {
      "cell_type": "code",
      "metadata": {
        "id": "TXcLIxBqmE04"
      },
      "source": [
        "dt = []\n",
        "price = []\n",
        "unit = []\n",
        "ref = []\n",
        "product = []\n",
        "for i in table:\n",
        "  x = i.replace(\"ปลาป่น\",\"\")\n",
        "  dt.append(x.split(\"\\t\")[2])\n",
        "  price.append(x.split(\"\\t\")[3])\n",
        "  unit.append(x.split(\"\\t\")[5])\n",
        "  ref.append(x.split(\"\\t\")[6])\n",
        "  product.append(\"ปลาป่น\")\n",
        "#  print(x.split(\"\\t\"))"
      ],
      "execution_count": 392,
      "outputs": []
    },
    {
      "cell_type": "code",
      "metadata": {
        "id": "VfTR0azlmOqB"
      },
      "source": [
        "date_ = []\n",
        "for i in dt:\n",
        "  x = datetime.date(int(i.split('-')[0]), int(i.split('-')[1]), int(i.split('-')[2]))\n",
        "  date_.append(x)"
      ],
      "execution_count": 393,
      "outputs": []
    },
    {
      "cell_type": "code",
      "metadata": {
        "id": "OzZXzy_wmTFZ"
      },
      "source": [
        "from pandas import DataFrame\n",
        "table = list(zip(date_,product,price,unit,ref))\n",
        "ปลาป่น = DataFrame(table,columns=['date','product','price','unit','remark'])"
      ],
      "execution_count": 394,
      "outputs": []
    },
    {
      "cell_type": "code",
      "metadata": {
        "id": "WLgMzbojmZZu"
      },
      "source": [
        "as_date = list(ปลาป่น['date'])\n",
        "as_date_ = []\n",
        "day_name = []\n",
        "for i in as_date:\n",
        "#    x = datetime.date(int(i.split('/')[2])-543, int(i.split('/')[1]), int(i.split('/')[0]))\n",
        "    as_date_.append(i)\n",
        "    day_name.append(i.strftime(\"%A\"))\n",
        "ปลาป่น['date'] = as_date_"
      ],
      "execution_count": 395,
      "outputs": []
    },
    {
      "cell_type": "code",
      "metadata": {
        "id": "aALsIzgbmh-Q"
      },
      "source": [
        "as_date = list(ปลาป่น['date'])\n",
        "day_name = []\n",
        "for i in as_date:\n",
        "    day_name.append(i.strftime(\"%A\"))\n",
        "    \n",
        "ปลาป่น['datename'] = day_name"
      ],
      "execution_count": 396,
      "outputs": []
    },
    {
      "cell_type": "code",
      "metadata": {
        "id": "RKmC4_Cbmp2n"
      },
      "source": [
        "ปลาป่น['year'] = pd.to_datetime(ปลาป่น[\"date\"]).dt.year\n",
        "ปลาป่น['month'] = pd.to_datetime(ปลาป่น[\"date\"]).dt.month\n",
        "\n",
        "ปลาป่น['date'] = pd.to_datetime(ปลาป่น[\"date\"])\n",
        "\n",
        "ปลาป่น = ปลาป่น.replace({\"month\": m_ord2})\n",
        "\n",
        "ปลาป่น['source'] = 'CPF'\n",
        "ปลาป่น['product group'] = 'วัตถุดิบอาหารสัตว์'"
      ],
      "execution_count": 397,
      "outputs": []
    },
    {
      "cell_type": "code",
      "metadata": {
        "id": "Xi82xhmVm-wy"
      },
      "source": [
        "#กากถั่วเหลือง\n",
        "url = \"http://www.cpffeed.com/material6/\"\n",
        "\n",
        "driver.get(url)\n",
        "time.sleep(10)\n",
        "\n",
        "element = driver.find_element_by_xpath('//*[@id=\"post-1059\"]/div/div/div/div/section[2]/div/div/div/div/div/div[3]/div/div/table/tbody')\n",
        "table = element.get_attribute('innerText').split('\\n')[1:-1]"
      ],
      "execution_count": 398,
      "outputs": []
    },
    {
      "cell_type": "code",
      "metadata": {
        "id": "DvPZv0fTnsC4"
      },
      "source": [
        "dt = []\n",
        "price = []\n",
        "unit = []\n",
        "ref = []\n",
        "product = []\n",
        "for i in table:\n",
        "  x = i.replace(\"กากถั่วเหลือง\",\"\")\n",
        "  dt.append(x.split(\"\\t\")[2])\n",
        "  price.append(x.split(\"\\t\")[3])\n",
        "  unit.append(x.split(\"\\t\")[5])\n",
        "  ref.append(x.split(\"\\t\")[6])\n",
        "  product.append(\"กากถั่วเหลือง\")\n",
        "#  print(x.split(\"\\t\"))"
      ],
      "execution_count": 399,
      "outputs": []
    },
    {
      "cell_type": "code",
      "metadata": {
        "id": "oQ18M5V1n8cG"
      },
      "source": [
        "date_ = []\n",
        "for i in dt:\n",
        "  x = datetime.date(int(i.split('-')[0]), int(i.split('-')[1]), int(i.split('-')[2]))\n",
        "  date_.append(x)"
      ],
      "execution_count": 400,
      "outputs": []
    },
    {
      "cell_type": "code",
      "metadata": {
        "id": "Ikdr5_l3n_3i"
      },
      "source": [
        "from pandas import DataFrame\n",
        "table = list(zip(date_,product,price,unit,ref))\n",
        "กากถั่วเหลือง = DataFrame(table,columns=['date','product','price','unit','remark'])"
      ],
      "execution_count": 401,
      "outputs": []
    },
    {
      "cell_type": "code",
      "metadata": {
        "id": "a9CojGxBoIUk"
      },
      "source": [
        "as_date = list(กากถั่วเหลือง['date'])\n",
        "as_date_ = []\n",
        "day_name = []\n",
        "for i in as_date:\n",
        "#    x = datetime.date(int(i.split('/')[2])-543, int(i.split('/')[1]), int(i.split('/')[0]))\n",
        "    as_date_.append(i)\n",
        "    day_name.append(i.strftime(\"%A\"))\n",
        "กากถั่วเหลือง['date'] = as_date_"
      ],
      "execution_count": 402,
      "outputs": []
    },
    {
      "cell_type": "code",
      "metadata": {
        "id": "stbXe4rmoQuf"
      },
      "source": [
        "as_date = list(กากถั่วเหลือง['date'])\n",
        "day_name = []\n",
        "for i in as_date:\n",
        "    day_name.append(i.strftime(\"%A\"))\n",
        "    \n",
        "กากถั่วเหลือง['datename'] = day_name"
      ],
      "execution_count": 403,
      "outputs": []
    },
    {
      "cell_type": "code",
      "metadata": {
        "id": "X4ClUGV4oYDr"
      },
      "source": [
        "กากถั่วเหลือง['year'] = pd.to_datetime(กากถั่วเหลือง[\"date\"]).dt.year\n",
        "กากถั่วเหลือง['month'] = pd.to_datetime(กากถั่วเหลือง[\"date\"]).dt.month\n",
        "\n",
        "กากถั่วเหลือง['date'] = pd.to_datetime(กากถั่วเหลือง[\"date\"])\n",
        "\n",
        "กากถั่วเหลือง = กากถั่วเหลือง.replace({\"month\": m_ord2})\n",
        "\n",
        "กากถั่วเหลือง['source'] = 'CPF'\n",
        "กากถั่วเหลือง['product group'] = 'วัตถุดิบอาหารสัตว์'"
      ],
      "execution_count": 404,
      "outputs": []
    },
    {
      "cell_type": "code",
      "metadata": {
        "id": "MzXZzJLIoue4"
      },
      "source": [
        "#มัน\n",
        "url = \"http://www.cpffeed.com/material7/\"\n",
        "\n",
        "driver.get(url)\n",
        "time.sleep(10)\n",
        "\n",
        "element = driver.find_element_by_xpath('//*[@id=\"post-1064\"]/div/div/div/div/section[2]/div/div/div/div/div/div[4]/div/div/table/tbody')\n",
        "table = element.get_attribute('innerText').split('\\n')[1:-1]"
      ],
      "execution_count": 405,
      "outputs": []
    },
    {
      "cell_type": "code",
      "metadata": {
        "id": "KT9NUEbcpL91"
      },
      "source": [
        "dt = []\n",
        "price = []\n",
        "unit = []\n",
        "ref = []\n",
        "product = []\n",
        "for i in table:\n",
        "  x = i.replace(\"มัน\",\"\")\n",
        "  dt.append(x.split(\"\\t\")[2])\n",
        "  price.append(x.split(\"\\t\")[3])\n",
        "  unit.append(x.split(\"\\t\")[5])\n",
        "  ref.append(x.split(\"\\t\")[6])\n",
        "  product.append(\"มัน\")\n",
        "#  print(x.split(\"\\t\"))"
      ],
      "execution_count": 406,
      "outputs": []
    },
    {
      "cell_type": "code",
      "metadata": {
        "id": "L41_5PiGpaSC"
      },
      "source": [
        "date_ = []\n",
        "for i in dt:\n",
        "  x = datetime.date(int(i.split('-')[0]), int(i.split('-')[1]), int(i.split('-')[2]))\n",
        "  date_.append(x)"
      ],
      "execution_count": 407,
      "outputs": []
    },
    {
      "cell_type": "code",
      "metadata": {
        "id": "23plB8pSpfTs"
      },
      "source": [
        "from pandas import DataFrame\n",
        "table = list(zip(date_,product,price,unit,ref))\n",
        "มัน = DataFrame(table,columns=['date','product','price','unit','remark'])"
      ],
      "execution_count": 408,
      "outputs": []
    },
    {
      "cell_type": "code",
      "metadata": {
        "id": "z1tmNdRVplrK"
      },
      "source": [
        "as_date = list(มัน['date'])\n",
        "as_date_ = []\n",
        "day_name = []\n",
        "for i in as_date:\n",
        "#    x = datetime.date(int(i.split('/')[2])-543, int(i.split('/')[1]), int(i.split('/')[0]))\n",
        "    as_date_.append(i)\n",
        "    day_name.append(i.strftime(\"%A\"))\n",
        "มัน['date'] = as_date_"
      ],
      "execution_count": 409,
      "outputs": []
    },
    {
      "cell_type": "code",
      "metadata": {
        "id": "GZePgr79p6gO"
      },
      "source": [
        "as_date = list(มัน['date'])\n",
        "day_name = []\n",
        "for i in as_date:\n",
        "    day_name.append(i.strftime(\"%A\"))\n",
        "    \n",
        "มัน['datename'] = day_name"
      ],
      "execution_count": 410,
      "outputs": []
    },
    {
      "cell_type": "code",
      "metadata": {
        "id": "0NOsUhW2qA-n"
      },
      "source": [
        "มัน['year'] = pd.to_datetime(มัน[\"date\"]).dt.year\n",
        "มัน['month'] = pd.to_datetime(มัน[\"date\"]).dt.month\n",
        "\n",
        "มัน['date'] = pd.to_datetime(มัน[\"date\"])\n",
        "\n",
        "มัน = มัน.replace({\"month\": m_ord2})\n",
        "\n",
        "มัน['source'] = 'CPF'\n",
        "มัน['product group'] = 'วัตถุดิบอาหารสัตว์'"
      ],
      "execution_count": 411,
      "outputs": []
    },
    {
      "cell_type": "code",
      "metadata": {
        "id": "COGIlQIhqWcQ"
      },
      "source": [
        "ราคาวัตถุดิบอาหารสัตว์CP = pd.concat([ปลายข้าวเจ้า,รำสกัด,รำขาว,ข้าวโพดเม็ด,ปลาป่น,กากถั่วเหลือง,มัน])"
      ],
      "execution_count": 412,
      "outputs": []
    },
    {
      "cell_type": "code",
      "metadata": {
        "id": "vQXO4-hn343N"
      },
      "source": [
        "ราคาวัตถุดิบอาหารสัตว์CP['price'] = pd.to_numeric(ราคาวัตถุดิบอาหารสัตว์CP['price'],errors = 'coerce')"
      ],
      "execution_count": 413,
      "outputs": []
    },
    {
      "cell_type": "markdown",
      "metadata": {
        "id": "pjnSPblwrANl"
      },
      "source": [
        "# ราคาพันธุ์สัตว์ CP"
      ]
    },
    {
      "cell_type": "code",
      "metadata": {
        "id": "hE4RKkQOscN1"
      },
      "source": [
        "#เป็ดรุ่น\n",
        "url = \"https://www.cpffeed.com/pet1/\"\n",
        "\n",
        "driver.get(url)\n",
        "time.sleep(10)\n",
        "\n",
        "element = driver.find_element_by_xpath('//*[@id=\"post-1139\"]/div/div/div/div/section[2]/div/div/div/div/div/div[2]/div/div/table')\n",
        "table = element.get_attribute('innerText').split('\\n')[1:-1]"
      ],
      "execution_count": 414,
      "outputs": []
    },
    {
      "cell_type": "code",
      "metadata": {
        "id": "JAJoxmfws1PL"
      },
      "source": [
        "dt = []\n",
        "price = []\n",
        "unit = []\n",
        "ref = []\n",
        "product = []\n",
        "for i in table:\n",
        "  x = i.replace(\"เป็ดรุ่น ซี.พี. ซุปเปอร์\",\"\")\n",
        "  dt.append(x.split(\"\\t\")[2])\n",
        "  price.append(x.split(\"\\t\")[3])\n",
        "  unit.append(x.split(\"\\t\")[5])\n",
        "  ref.append(x.split(\"\\t\")[6])\n",
        "  product.append(\"เป็ดรุ่น ซี.พี. ซุปเปอร์\")\n",
        "#  print(x.split(\"\\t\"))"
      ],
      "execution_count": 415,
      "outputs": []
    },
    {
      "cell_type": "code",
      "metadata": {
        "id": "iJ-lUjN-_fAq"
      },
      "source": [
        "date_ = []\n",
        "for i in dt:\n",
        "  x = datetime.date(int(i.split('-')[0]), int(i.split('-')[1]), int(i.split('-')[2]))\n",
        "  date_.append(x)"
      ],
      "execution_count": 416,
      "outputs": []
    },
    {
      "cell_type": "code",
      "metadata": {
        "id": "UZgnKJ1s_jfH"
      },
      "source": [
        "from pandas import DataFrame\n",
        "table = list(zip(date_,product,price,unit,ref))\n",
        "เป็ดรุ่น = DataFrame(table,columns=['date','product','price','unit','remark'])"
      ],
      "execution_count": 417,
      "outputs": []
    },
    {
      "cell_type": "code",
      "metadata": {
        "id": "nSUtDFKa_pFt"
      },
      "source": [
        "as_date = list(เป็ดรุ่น['date'])\n",
        "as_date_ = []\n",
        "day_name = []\n",
        "for i in as_date:\n",
        "#    x = datetime.date(int(i.split('/')[2])-543, int(i.split('/')[1]), int(i.split('/')[0]))\n",
        "    as_date_.append(i)\n",
        "    day_name.append(i.strftime(\"%A\"))\n",
        "เป็ดรุ่น['date'] = as_date_"
      ],
      "execution_count": 418,
      "outputs": []
    },
    {
      "cell_type": "code",
      "metadata": {
        "id": "qj3cpwmO_vmo"
      },
      "source": [
        "as_date = list(เป็ดรุ่น['date'])\n",
        "day_name = []\n",
        "for i in as_date:\n",
        "    day_name.append(i.strftime(\"%A\"))\n",
        "    \n",
        "เป็ดรุ่น['datename'] = day_name"
      ],
      "execution_count": 419,
      "outputs": []
    },
    {
      "cell_type": "code",
      "metadata": {
        "id": "YevPfM86_1kL"
      },
      "source": [
        "เป็ดรุ่น['year'] = pd.to_datetime(เป็ดรุ่น[\"date\"]).dt.year\n",
        "เป็ดรุ่น['month'] = pd.to_datetime(เป็ดรุ่น[\"date\"]).dt.month\n",
        "\n",
        "เป็ดรุ่น['date'] = pd.to_datetime(เป็ดรุ่น[\"date\"])\n",
        "\n",
        "เป็ดรุ่น = เป็ดรุ่น.replace({\"month\": m_ord2})\n",
        "\n",
        "เป็ดรุ่น['source'] = 'CPF'\n",
        "เป็ดรุ่น['product group'] = 'พันธุ์สัตว์'"
      ],
      "execution_count": 420,
      "outputs": []
    },
    {
      "cell_type": "code",
      "metadata": {
        "id": "8bDBSk6pAVOf"
      },
      "source": [
        "#ลูกเป็ดไข่\n",
        "url = \"https://www.cpffeed.com/pet2/\"\n",
        "\n",
        "driver.get(url)\n",
        "time.sleep(10)\n",
        "\n",
        "element = driver.find_element_by_xpath('//*[@id=\"post-1162\"]/div/div/div/div/section[2]/div/div/div/div/div/div[2]/div/div/table/tbody')\n",
        "table = element.get_attribute('innerText').split('\\n')[1:-1]"
      ],
      "execution_count": 421,
      "outputs": []
    },
    {
      "cell_type": "code",
      "metadata": {
        "id": "9-ZC3dzbA1tq"
      },
      "source": [
        "dt = []\n",
        "price = []\n",
        "unit = []\n",
        "ref = []\n",
        "product = []\n",
        "for i in table:\n",
        "  x = i.replace(\"ลูกเป็ดไข่ ซี.พี. ซุปเปอร์\",\"\")\n",
        "  dt.append(x.split(\"\\t\")[2])\n",
        "  price.append(x.split(\"\\t\")[3])\n",
        "  unit.append(x.split(\"\\t\")[5])\n",
        "  ref.append(x.split(\"\\t\")[6])\n",
        "  product.append(\"ลูกเป็ดไข่ ซี.พี. ซุปเปอร์\")\n",
        "#  print(x.split(\"\\t\"))"
      ],
      "execution_count": 422,
      "outputs": []
    },
    {
      "cell_type": "code",
      "metadata": {
        "id": "mYWXiY51BIVU"
      },
      "source": [
        "date_ = []\n",
        "for i in dt:\n",
        "  x = datetime.date(int(i.split('-')[0]), int(i.split('-')[1]), int(i.split('-')[2]))\n",
        "  date_.append(x)"
      ],
      "execution_count": 423,
      "outputs": []
    },
    {
      "cell_type": "code",
      "metadata": {
        "id": "tNVdI43mBLLI"
      },
      "source": [
        "from pandas import DataFrame\n",
        "table = list(zip(date_,product,price,unit,ref))\n",
        "ลูกเป็ดไข่ = DataFrame(table,columns=['date','product','price','unit','remark'])"
      ],
      "execution_count": 424,
      "outputs": []
    },
    {
      "cell_type": "code",
      "metadata": {
        "id": "0F4Ma8quBTeo"
      },
      "source": [
        "as_date = list(ลูกเป็ดไข่['date'])\n",
        "as_date_ = []\n",
        "day_name = []\n",
        "for i in as_date:\n",
        "#    x = datetime.date(int(i.split('/')[2])-543, int(i.split('/')[1]), int(i.split('/')[0]))\n",
        "    as_date_.append(i)\n",
        "    day_name.append(i.strftime(\"%A\"))\n",
        "ลูกเป็ดไข่['date'] = as_date_"
      ],
      "execution_count": 425,
      "outputs": []
    },
    {
      "cell_type": "code",
      "metadata": {
        "id": "OWpm0bqWBbQA"
      },
      "source": [
        "as_date = list(ลูกเป็ดไข่['date'])\n",
        "day_name = []\n",
        "for i in as_date:\n",
        "    day_name.append(i.strftime(\"%A\"))\n",
        "    \n",
        "ลูกเป็ดไข่['datename'] = day_name"
      ],
      "execution_count": 426,
      "outputs": []
    },
    {
      "cell_type": "code",
      "metadata": {
        "id": "SxWz0CQpBiLw"
      },
      "source": [
        "ลูกเป็ดไข่['year'] = pd.to_datetime(ลูกเป็ดไข่[\"date\"]).dt.year\n",
        "ลูกเป็ดไข่['month'] = pd.to_datetime(ลูกเป็ดไข่[\"date\"]).dt.month\n",
        "\n",
        "ลูกเป็ดไข่['date'] = pd.to_datetime(ลูกเป็ดไข่[\"date\"])\n",
        "\n",
        "ลูกเป็ดไข่ = ลูกเป็ดไข่.replace({\"month\": m_ord2})\n",
        "\n",
        "ลูกเป็ดไข่['source'] = 'CPF'\n",
        "ลูกเป็ดไข่['product group'] = 'พันธุ์สัตว์'"
      ],
      "execution_count": 427,
      "outputs": []
    },
    {
      "cell_type": "code",
      "metadata": {
        "id": "BN7cNdeiBu_2"
      },
      "source": [
        "#ลูกไก่เนื้อ\n",
        "url = \"https://www.cpffeed.com/pet3/\"\n",
        "\n",
        "driver.get(url)\n",
        "time.sleep(10)\n",
        "\n",
        "element = driver.find_element_by_xpath('//*[@id=\"post-1169\"]/div/div/div/div/section[2]/div/div/div/div/div/div[2]/div/div/table/tbody')\n",
        "table = element.get_attribute('innerText').split('\\n')[1:-1]"
      ],
      "execution_count": 428,
      "outputs": []
    },
    {
      "cell_type": "code",
      "metadata": {
        "id": "-qsuluXzB_2M"
      },
      "source": [
        "dt = []\n",
        "price = []\n",
        "unit = []\n",
        "ref = []\n",
        "product = []\n",
        "for i in table:\n",
        "  x = i.replace(\"ลูกไก่เนื้อ\",\"\")\n",
        "  dt.append(x.split(\"\\t\")[2])\n",
        "  price.append(x.split(\"\\t\")[3])\n",
        "  unit.append(x.split(\"\\t\")[5])\n",
        "  ref.append(x.split(\"\\t\")[6])\n",
        "  product.append(\"ลูกไก่เนื้อ\")\n",
        "#  print(x.split(\"\\t\"))"
      ],
      "execution_count": 429,
      "outputs": []
    },
    {
      "cell_type": "code",
      "metadata": {
        "id": "VPlYeGVOCOE7"
      },
      "source": [
        "date_ = []\n",
        "for i in dt:\n",
        "  x = datetime.date(int(i.split('-')[0]), int(i.split('-')[1]), int(i.split('-')[2]))\n",
        "  date_.append(x)"
      ],
      "execution_count": 430,
      "outputs": []
    },
    {
      "cell_type": "code",
      "metadata": {
        "id": "YEEM-DLcCTUB"
      },
      "source": [
        "from pandas import DataFrame\n",
        "table = list(zip(date_,product,price,unit,ref))\n",
        "ลูกไก่เนื้อ = DataFrame(table,columns=['date','product','price','unit','remark'])"
      ],
      "execution_count": 431,
      "outputs": []
    },
    {
      "cell_type": "code",
      "metadata": {
        "id": "dJUYMFDkCXgv"
      },
      "source": [
        "as_date = list(ลูกไก่เนื้อ['date'])\n",
        "as_date_ = []\n",
        "day_name = []\n",
        "for i in as_date:\n",
        "#    x = datetime.date(int(i.split('/')[2])-543, int(i.split('/')[1]), int(i.split('/')[0]))\n",
        "    as_date_.append(i)\n",
        "    day_name.append(i.strftime(\"%A\"))\n",
        "ลูกไก่เนื้อ['date'] = as_date_"
      ],
      "execution_count": 432,
      "outputs": []
    },
    {
      "cell_type": "code",
      "metadata": {
        "id": "gQCo08gdCdYi"
      },
      "source": [
        "as_date = list(ลูกไก่เนื้อ['date'])\n",
        "day_name = []\n",
        "for i in as_date:\n",
        "    day_name.append(i.strftime(\"%A\"))\n",
        "    \n",
        "ลูกไก่เนื้อ['datename'] = day_name"
      ],
      "execution_count": 433,
      "outputs": []
    },
    {
      "cell_type": "code",
      "metadata": {
        "id": "Cx2HLp9JCzpL"
      },
      "source": [
        "ลูกไก่เนื้อ['year'] = pd.to_datetime(ลูกไก่เนื้อ[\"date\"]).dt.year\n",
        "ลูกไก่เนื้อ['month'] = pd.to_datetime(ลูกไก่เนื้อ[\"date\"]).dt.month\n",
        "\n",
        "ลูกไก่เนื้อ['date'] = pd.to_datetime(ลูกไก่เนื้อ[\"date\"])\n",
        "\n",
        "ลูกไก่เนื้อ = ลูกไก่เนื้อ.replace({\"month\": m_ord2})\n",
        "\n",
        "ลูกไก่เนื้อ['source'] = 'CPF'\n",
        "ลูกไก่เนื้อ['product group'] = 'พันธุ์สัตว์'"
      ],
      "execution_count": 434,
      "outputs": []
    },
    {
      "cell_type": "code",
      "metadata": {
        "id": "F7ZKBPO2AiJF"
      },
      "source": [
        "#ลูกไก่ไข่\n",
        "url = \"https://www.cpffeed.com/pet4/\"\n",
        "\n",
        "driver.get(url)\n",
        "time.sleep(10)\n",
        "\n",
        "element = driver.find_element_by_xpath('//*[@id=\"post-1174\"]/div/div/div/div/section[2]/div/div/div/div/div/div[2]/div/div/table/tbody')\n",
        "table = element.get_attribute('innerText').split('\\n')[1:-1]"
      ],
      "execution_count": 435,
      "outputs": []
    },
    {
      "cell_type": "code",
      "metadata": {
        "id": "tjPK-JrEueSH"
      },
      "source": [
        "dt = []\n",
        "price = []\n",
        "unit = []\n",
        "ref = []\n",
        "product = []\n",
        "for i in table:\n",
        "  x = i.replace(\"ลูกไก่ไข่ ซี.พี. บราวน์\",\"\")\n",
        "  dt.append(x.split(\"\\t\")[2])\n",
        "  price.append(x.split(\"\\t\")[3])\n",
        "  unit.append(x.split(\"\\t\")[5])\n",
        "  ref.append(x.split(\"\\t\")[6])\n",
        "  product.append(\"ลูกไก่ไข่ ซี.พี. บราวน์\")\n",
        "#  print(x.split(\"\\t\"))"
      ],
      "execution_count": 436,
      "outputs": []
    },
    {
      "cell_type": "code",
      "metadata": {
        "id": "fc8tTblIuzk3"
      },
      "source": [
        "date_ = []\n",
        "for i in dt:\n",
        "  x = datetime.date(int(i.split('-')[0]), int(i.split('-')[1]), int(i.split('-')[2]))\n",
        "  date_.append(x)"
      ],
      "execution_count": 437,
      "outputs": []
    },
    {
      "cell_type": "code",
      "metadata": {
        "id": "aTMbj9l8u0kQ"
      },
      "source": [
        "from pandas import DataFrame\n",
        "table = list(zip(date_,product,price,unit,ref))\n",
        "ลูกไก่ไข่ = DataFrame(table,columns=['date','product','price','unit','remark'])"
      ],
      "execution_count": 438,
      "outputs": []
    },
    {
      "cell_type": "code",
      "metadata": {
        "id": "F--GZBEXu5C8"
      },
      "source": [
        "as_date = list(ลูกไก่ไข่['date'])\n",
        "as_date_ = []\n",
        "day_name = []\n",
        "for i in as_date:\n",
        "#    x = datetime.date(int(i.split('/')[2])-543, int(i.split('/')[1]), int(i.split('/')[0]))\n",
        "    as_date_.append(i)\n",
        "    day_name.append(i.strftime(\"%A\"))\n",
        "ลูกไก่ไข่['date'] = as_date_"
      ],
      "execution_count": 439,
      "outputs": []
    },
    {
      "cell_type": "code",
      "metadata": {
        "id": "g-h3wtWGvAt5"
      },
      "source": [
        "as_date = list(ลูกไก่ไข่['date'])\n",
        "day_name = []\n",
        "for i in as_date:\n",
        "    day_name.append(i.strftime(\"%A\"))\n",
        "    \n",
        "ลูกไก่ไข่['datename'] = day_name"
      ],
      "execution_count": 440,
      "outputs": []
    },
    {
      "cell_type": "code",
      "metadata": {
        "id": "5bDjBw3JvFIs"
      },
      "source": [
        "ลูกไก่ไข่['year'] = pd.to_datetime(ลูกไก่ไข่[\"date\"]).dt.year\n",
        "ลูกไก่ไข่['month'] = pd.to_datetime(ลูกไก่ไข่[\"date\"]).dt.month\n",
        "\n",
        "ลูกไก่ไข่['date'] = pd.to_datetime(ลูกไก่ไข่[\"date\"])\n",
        "\n",
        "ลูกไก่ไข่ = ลูกไก่ไข่.replace({\"month\": m_ord2})\n",
        "\n",
        "ลูกไก่ไข่['source'] = 'CPF'\n",
        "ลูกไก่ไข่['product group'] = 'พันธุ์สัตว์'"
      ],
      "execution_count": 441,
      "outputs": []
    },
    {
      "cell_type": "code",
      "metadata": {
        "id": "tYTgqcn1vSdv"
      },
      "source": [
        "#ไก่รุ่นไข่\n",
        "url = \"https://www.cpffeed.com/pet5/\"\n",
        "\n",
        "driver.get(url)\n",
        "time.sleep(10)\n",
        "\n",
        "element = driver.find_element_by_xpath('//*[@id=\"post-1179\"]/div/div/div/div/section[2]/div/div/div/div/div/div[2]/div/div/table/tbody')\n",
        "table = element.get_attribute('innerText').split('\\n')[1:-1]"
      ],
      "execution_count": 442,
      "outputs": []
    },
    {
      "cell_type": "code",
      "metadata": {
        "id": "A1ofEjQSvm6P"
      },
      "source": [
        "dt = []\n",
        "price = []\n",
        "unit = []\n",
        "ref = []\n",
        "product = []\n",
        "for i in table:\n",
        "  x = i.replace(\"ไก่รุ่นไข่ ซี.พี.บราวน์\",\"\")\n",
        "  dt.append(x.split(\"\\t\")[2])\n",
        "  price.append(x.split(\"\\t\")[3])\n",
        "  unit.append(x.split(\"\\t\")[5])\n",
        "  ref.append(x.split(\"\\t\")[6])\n",
        "  product.append(\"ไก่รุ่นไข่ ซี.พี.บราวน์\")\n",
        "#  print(x.split(\"\\t\"))"
      ],
      "execution_count": 443,
      "outputs": []
    },
    {
      "cell_type": "code",
      "metadata": {
        "id": "Firff8q_xNl8"
      },
      "source": [
        "date_ = []\n",
        "for i in dt:\n",
        "  x = datetime.date(int(i.split('-')[0]), int(i.split('-')[1]), int(i.split('-')[2]))\n",
        "  date_.append(x)"
      ],
      "execution_count": 444,
      "outputs": []
    },
    {
      "cell_type": "code",
      "metadata": {
        "id": "oDQXU5mOxQ3V"
      },
      "source": [
        "from pandas import DataFrame\n",
        "table = list(zip(date_,product,price,unit,ref))\n",
        "ไก่รุ่นไข่ = DataFrame(table,columns=['date','product','price','unit','remark'])"
      ],
      "execution_count": 445,
      "outputs": []
    },
    {
      "cell_type": "code",
      "metadata": {
        "id": "IduFhqEdxoIM"
      },
      "source": [
        "as_date = list(ไก่รุ่นไข่['date'])\n",
        "as_date_ = []\n",
        "day_name = []\n",
        "for i in as_date:\n",
        "#    x = datetime.date(int(i.split('/')[2])-543, int(i.split('/')[1]), int(i.split('/')[0]))\n",
        "    as_date_.append(i)\n",
        "    day_name.append(i.strftime(\"%A\"))\n",
        "ไก่รุ่นไข่['date'] = as_date_"
      ],
      "execution_count": 446,
      "outputs": []
    },
    {
      "cell_type": "code",
      "metadata": {
        "id": "rDUNh_8cxvP6"
      },
      "source": [
        "as_date = list(ไก่รุ่นไข่['date'])\n",
        "day_name = []\n",
        "for i in as_date:\n",
        "    day_name.append(i.strftime(\"%A\"))\n",
        "    \n",
        "ไก่รุ่นไข่['datename'] = day_name"
      ],
      "execution_count": 447,
      "outputs": []
    },
    {
      "cell_type": "code",
      "metadata": {
        "id": "Uq2oLdm3x0xC"
      },
      "source": [
        "ไก่รุ่นไข่['year'] = pd.to_datetime(ไก่รุ่นไข่[\"date\"]).dt.year\n",
        "ไก่รุ่นไข่['month'] = pd.to_datetime(ไก่รุ่นไข่[\"date\"]).dt.month\n",
        "\n",
        "ไก่รุ่นไข่['date'] = pd.to_datetime(ไก่รุ่นไข่[\"date\"])\n",
        "\n",
        "ไก่รุ่นไข่ = ไก่รุ่นไข่.replace({\"month\": m_ord2})\n",
        "\n",
        "ไก่รุ่นไข่['source'] = 'CPF'\n",
        "ไก่รุ่นไข่['product group'] = 'พันธุ์สัตว์'"
      ],
      "execution_count": 448,
      "outputs": []
    },
    {
      "cell_type": "code",
      "metadata": {
        "id": "MQYTcUXeyFgI"
      },
      "source": [
        "#ลูกหมูขุนเล็ก\n",
        "url = \"https://www.cpffeed.com/pet6/\"\n",
        "\n",
        "driver.get(url)\n",
        "time.sleep(10)\n",
        "\n",
        "element = driver.find_element_by_xpath('//*[@id=\"post-1184\"]/div/div/div/div/section[2]/div/div/div/div/div/div[2]/div/div/table/tbody')\n",
        "table = element.get_attribute('innerText').split('\\n')[1:-1]"
      ],
      "execution_count": 449,
      "outputs": []
    },
    {
      "cell_type": "code",
      "metadata": {
        "id": "RHL_RXFHxTEH"
      },
      "source": [
        "dt = []\n",
        "price = []\n",
        "unit = []\n",
        "ref = []\n",
        "product = []\n",
        "for i in table:\n",
        "  x = i.replace(\"ลูกสุกร ซี.พี. ขุนเล็ก\",\"\")\n",
        "  dt.append(x.split(\"\\t\")[2])\n",
        "  price.append(x.split(\"\\t\")[3])\n",
        "  unit.append(x.split(\"\\t\")[5])\n",
        "  ref.append(x.split(\"\\t\")[6])\n",
        "  product.append(\"ลูกสุกร ซี.พี. ขุนเล็ก\")"
      ],
      "execution_count": 450,
      "outputs": []
    },
    {
      "cell_type": "code",
      "metadata": {
        "id": "4mep6-tMy15k"
      },
      "source": [
        "date_ = []\n",
        "for i in dt:\n",
        "  x = datetime.date(int(i.split('-')[0]), int(i.split('-')[1]), int(i.split('-')[2]))\n",
        "  date_.append(x)"
      ],
      "execution_count": 451,
      "outputs": []
    },
    {
      "cell_type": "code",
      "metadata": {
        "id": "X78wTcSZy7nb"
      },
      "source": [
        "from pandas import DataFrame\n",
        "table = list(zip(date_,product,price,unit,ref))\n",
        "ลูกหมูขุนเล็ก = DataFrame(table,columns=['date','product','price','unit','remark'])"
      ],
      "execution_count": 452,
      "outputs": []
    },
    {
      "cell_type": "code",
      "metadata": {
        "id": "K0Db12ApzC0E"
      },
      "source": [
        "as_date = list(ลูกหมูขุนเล็ก['date'])\n",
        "as_date_ = []\n",
        "day_name = []\n",
        "for i in as_date:\n",
        "#    x = datetime.date(int(i.split('/')[2])-543, int(i.split('/')[1]), int(i.split('/')[0]))\n",
        "    as_date_.append(i)\n",
        "    day_name.append(i.strftime(\"%A\"))\n",
        "ลูกหมูขุนเล็ก['date'] = as_date_"
      ],
      "execution_count": 453,
      "outputs": []
    },
    {
      "cell_type": "code",
      "metadata": {
        "id": "ZuJaZV5tzONv"
      },
      "source": [
        "as_date = list(ลูกหมูขุนเล็ก['date'])\n",
        "day_name = []\n",
        "for i in as_date:\n",
        "    day_name.append(i.strftime(\"%A\"))\n",
        "    \n",
        "ลูกหมูขุนเล็ก['datename'] = day_name"
      ],
      "execution_count": 454,
      "outputs": []
    },
    {
      "cell_type": "code",
      "metadata": {
        "id": "GoIV0gV0zoG3"
      },
      "source": [
        "ลูกหมูขุนเล็ก['year'] = pd.to_datetime(ลูกหมูขุนเล็ก[\"date\"]).dt.year\n",
        "ลูกหมูขุนเล็ก['month'] = pd.to_datetime(ลูกหมูขุนเล็ก[\"date\"]).dt.month\n",
        "\n",
        "ลูกหมูขุนเล็ก['date'] = pd.to_datetime(ลูกหมูขุนเล็ก[\"date\"])\n",
        "\n",
        "ลูกหมูขุนเล็ก = ลูกหมูขุนเล็ก.replace({\"month\": m_ord2})\n",
        "\n",
        "ลูกหมูขุนเล็ก['source'] = 'CPF'\n",
        "ลูกหมูขุนเล็ก['product group'] = 'พันธุ์สัตว์'"
      ],
      "execution_count": 455,
      "outputs": []
    },
    {
      "cell_type": "code",
      "metadata": {
        "id": "ElcxeJz2zzPb"
      },
      "source": [
        "#freePRRS\n",
        "url = \"https://www.cpffeed.com/pet7/\"\n",
        "\n",
        "driver.get(url)\n",
        "time.sleep(10)\n",
        "\n",
        "element = driver.find_element_by_xpath('//*[@id=\"post-1190\"]/div/div/div/div/section[2]/div/div/div/div/div/div[2]/div/div/table/tbody')\n",
        "table = element.get_attribute('innerText').split('\\n')[1:-1]"
      ],
      "execution_count": 456,
      "outputs": []
    },
    {
      "cell_type": "code",
      "metadata": {
        "id": "A3kUJlhl0SXP"
      },
      "source": [
        "dt = []\n",
        "price = []\n",
        "unit = []\n",
        "ref = []\n",
        "product = []\n",
        "for i in table:\n",
        "  x = i.replace(\"ลูกสุกร ซี.พี.ขุนเล็ก (Free PRRS.)\",\"\")\n",
        "  dt.append(x.split(\"\\t\")[2])\n",
        "  price.append(x.split(\"\\t\")[3])\n",
        "  unit.append(x.split(\"\\t\")[5])\n",
        "  ref.append(x.split(\"\\t\")[6])\n",
        "  product.append(\"ลูกสุกร ซี.พี.ขุนเล็ก (Free PRRS.)\")"
      ],
      "execution_count": 457,
      "outputs": []
    },
    {
      "cell_type": "code",
      "metadata": {
        "id": "qlqoMj3c0jWA"
      },
      "source": [
        "date_ = []\n",
        "for i in dt:\n",
        "  x = datetime.date(int(i.split('-')[0]), int(i.split('-')[1]), int(i.split('-')[2]))\n",
        "  date_.append(x)"
      ],
      "execution_count": 458,
      "outputs": []
    },
    {
      "cell_type": "code",
      "metadata": {
        "id": "7fMedfxG0nLt"
      },
      "source": [
        "from pandas import DataFrame\n",
        "table = list(zip(date_,product,price,unit,ref))\n",
        "freePRRS = DataFrame(table,columns=['date','product','price','unit','remark'])"
      ],
      "execution_count": 459,
      "outputs": []
    },
    {
      "cell_type": "code",
      "metadata": {
        "id": "_o8rrz_R0r3q"
      },
      "source": [
        "as_date = list(freePRRS['date'])\n",
        "as_date_ = []\n",
        "day_name = []\n",
        "for i in as_date:\n",
        "#    x = datetime.date(int(i.split('/')[2])-543, int(i.split('/')[1]), int(i.split('/')[0]))\n",
        "    as_date_.append(i)\n",
        "    day_name.append(i.strftime(\"%A\"))\n",
        "freePRRS['date'] = as_date_"
      ],
      "execution_count": 460,
      "outputs": []
    },
    {
      "cell_type": "code",
      "metadata": {
        "id": "G7u9YQ290yqj"
      },
      "source": [
        "as_date = list(freePRRS['date'])\n",
        "day_name = []\n",
        "for i in as_date:\n",
        "    day_name.append(i.strftime(\"%A\"))\n",
        "    \n",
        "freePRRS['datename'] = day_name"
      ],
      "execution_count": 461,
      "outputs": []
    },
    {
      "cell_type": "code",
      "metadata": {
        "id": "-F3Ji7AJ04Rw"
      },
      "source": [
        "freePRRS['year'] = pd.to_datetime(freePRRS[\"date\"]).dt.year\n",
        "freePRRS['month'] = pd.to_datetime(freePRRS[\"date\"]).dt.month\n",
        "\n",
        "freePRRS['date'] = pd.to_datetime(freePRRS[\"date\"])\n",
        "\n",
        "freePRRS = freePRRS.replace({\"month\": m_ord2})\n",
        "\n",
        "freePRRS['source'] = 'CPF'\n",
        "freePRRS['product group'] = 'พันธุ์สัตว์'"
      ],
      "execution_count": 462,
      "outputs": []
    },
    {
      "cell_type": "code",
      "metadata": {
        "id": "pG2WKDIQ1J1I"
      },
      "source": [
        "#WfreePRRS\n",
        "url = \"https://www.cpffeed.com/pet8/\"\n",
        "\n",
        "driver.get(url)\n",
        "time.sleep(10)\n",
        "\n",
        "element = driver.find_element_by_xpath('//*[@id=\"post-1196\"]/div/div/div/div/section[2]/div/div/div/div/div/div[2]/div/div/table/tbody')\n",
        "table = element.get_attribute('innerText').split('\\n')[1:-1]"
      ],
      "execution_count": 463,
      "outputs": []
    },
    {
      "cell_type": "code",
      "metadata": {
        "id": "2QkXJNpL1t2f"
      },
      "source": [
        "dt = []\n",
        "price = []\n",
        "unit = []\n",
        "ref = []\n",
        "product = []\n",
        "for i in table:\n",
        "  x = i.replace(\"ลูกสุกร ซี.พี. ขุนเล็ก W(Free PRRS.) หย่านม\",\"\")\n",
        "  dt.append(x.split(\"\\t\")[2])\n",
        "  price.append(x.split(\"\\t\")[3])\n",
        "  unit.append(x.split(\"\\t\")[5])\n",
        "  ref.append(x.split(\"\\t\")[6])\n",
        "  product.append(\"ลูกสุกร ซี.พี. ขุนเล็ก W(Free PRRS.) หย่านม\")"
      ],
      "execution_count": 464,
      "outputs": []
    },
    {
      "cell_type": "code",
      "metadata": {
        "id": "Dl2KwSBY19CS"
      },
      "source": [
        "date_ = []\n",
        "for i in dt:\n",
        "  x = datetime.date(int(i.split('-')[0]), int(i.split('-')[1]), int(i.split('-')[2]))\n",
        "  date_.append(x)"
      ],
      "execution_count": 465,
      "outputs": []
    },
    {
      "cell_type": "code",
      "metadata": {
        "id": "iuIubFbf2DtO"
      },
      "source": [
        "from pandas import DataFrame\n",
        "table = list(zip(date_,product,price,unit,ref))\n",
        "WfreePRRS = DataFrame(table,columns=['date','product','price','unit','remark'])"
      ],
      "execution_count": 466,
      "outputs": []
    },
    {
      "cell_type": "code",
      "metadata": {
        "id": "oSch0MBq2JwL"
      },
      "source": [
        "as_date = list(WfreePRRS['date'])\n",
        "as_date_ = []\n",
        "day_name = []\n",
        "for i in as_date:\n",
        "#    x = datetime.date(int(i.split('/')[2])-543, int(i.split('/')[1]), int(i.split('/')[0]))\n",
        "    as_date_.append(i)\n",
        "    day_name.append(i.strftime(\"%A\"))\n",
        "WfreePRRS['date'] = as_date_"
      ],
      "execution_count": 467,
      "outputs": []
    },
    {
      "cell_type": "code",
      "metadata": {
        "id": "qrkE_w9E2PT5"
      },
      "source": [
        "as_date = list(WfreePRRS['date'])\n",
        "day_name = []\n",
        "for i in as_date:\n",
        "    day_name.append(i.strftime(\"%A\"))\n",
        "    \n",
        "WfreePRRS['datename'] = day_name"
      ],
      "execution_count": 468,
      "outputs": []
    },
    {
      "cell_type": "code",
      "metadata": {
        "id": "w36YjuG92VCi"
      },
      "source": [
        "WfreePRRS['year'] = pd.to_datetime(WfreePRRS[\"date\"]).dt.year\n",
        "WfreePRRS['month'] = pd.to_datetime(WfreePRRS[\"date\"]).dt.month\n",
        "\n",
        "WfreePRRS['date'] = pd.to_datetime(WfreePRRS[\"date\"])\n",
        "\n",
        "WfreePRRS = WfreePRRS.replace({\"month\": m_ord2})\n",
        "\n",
        "WfreePRRS['source'] = 'CPF'\n",
        "WfreePRRS['product group'] = 'พันธุ์สัตว์'"
      ],
      "execution_count": 469,
      "outputs": []
    },
    {
      "cell_type": "code",
      "metadata": {
        "id": "T8VFlAN22fgB"
      },
      "source": [
        "#หย่านม\n",
        "url = \"https://www.cpffeed.com/pet9/\"\n",
        "\n",
        "driver.get(url)\n",
        "time.sleep(10)\n",
        "\n",
        "element = driver.find_element_by_xpath('//*[@id=\"post-1204\"]/div/div/div/div/section[2]/div/div/div/div/div/div[2]/div/div/table/tbody')\n",
        "table = element.get_attribute('innerText').split('\\n')[1:-1]"
      ],
      "execution_count": 470,
      "outputs": []
    },
    {
      "cell_type": "code",
      "metadata": {
        "id": "qZPr2zzt2uf4"
      },
      "source": [
        "dt = []\n",
        "price = []\n",
        "unit = []\n",
        "ref = []\n",
        "product = []\n",
        "for i in table:\n",
        "  x = i.replace(\"ลูกสุกร ซี.พี.ขุนเล็ก W (หย่านม)\",\"\")\n",
        "  dt.append(x.split(\"\\t\")[2])\n",
        "  price.append(x.split(\"\\t\")[3])\n",
        "  unit.append(x.split(\"\\t\")[5])\n",
        "  ref.append(x.split(\"\\t\")[6])\n",
        "  product.append(\"ลูกสุกร ซี.พี.ขุนเล็ก W (หย่านม)\")"
      ],
      "execution_count": 471,
      "outputs": []
    },
    {
      "cell_type": "code",
      "metadata": {
        "id": "5spIeqCO2-hA"
      },
      "source": [
        "date_ = []\n",
        "for i in dt:\n",
        "  x = datetime.date(int(i.split('-')[0]), int(i.split('-')[1]), int(i.split('-')[2]))\n",
        "  date_.append(x)"
      ],
      "execution_count": 472,
      "outputs": []
    },
    {
      "cell_type": "code",
      "metadata": {
        "id": "Z3fuaT0b3DtP"
      },
      "source": [
        "from pandas import DataFrame\n",
        "table = list(zip(date_,product,price,unit,ref))\n",
        "หย่านม = DataFrame(table,columns=['date','product','price','unit','remark'])"
      ],
      "execution_count": 473,
      "outputs": []
    },
    {
      "cell_type": "code",
      "metadata": {
        "id": "EN1N1lal3I5g"
      },
      "source": [
        "as_date = list(หย่านม['date'])\n",
        "as_date_ = []\n",
        "day_name = []\n",
        "for i in as_date:\n",
        "#    x = datetime.date(int(i.split('/')[2])-543, int(i.split('/')[1]), int(i.split('/')[0]))\n",
        "    as_date_.append(i)\n",
        "    day_name.append(i.strftime(\"%A\"))\n",
        "หย่านม['date'] = as_date_"
      ],
      "execution_count": 474,
      "outputs": []
    },
    {
      "cell_type": "code",
      "metadata": {
        "id": "Fu3sOqjs3QRg"
      },
      "source": [
        "as_date = list(หย่านม['date'])\n",
        "day_name = []\n",
        "for i in as_date:\n",
        "    day_name.append(i.strftime(\"%A\"))\n",
        "    \n",
        "หย่านม['datename'] = day_name"
      ],
      "execution_count": 475,
      "outputs": []
    },
    {
      "cell_type": "code",
      "metadata": {
        "id": "06Hs5RzZ3VHc"
      },
      "source": [
        "หย่านม['year'] = pd.to_datetime(หย่านม[\"date\"]).dt.year\n",
        "หย่านม['month'] = pd.to_datetime(หย่านม[\"date\"]).dt.month\n",
        "\n",
        "หย่านม['date'] = pd.to_datetime(หย่านม[\"date\"])\n",
        "\n",
        "หย่านม = หย่านม.replace({\"month\": m_ord2})\n",
        "\n",
        "หย่านม['source'] = 'CPF'\n",
        "หย่านม['product group'] = 'พันธุ์สัตว์'"
      ],
      "execution_count": 476,
      "outputs": []
    },
    {
      "cell_type": "code",
      "metadata": {
        "id": "ty_YV1Z_3hRN"
      },
      "source": [
        "#VB\n",
        "url = \"https://www.cpffeed.com/pet10/\"\n",
        "\n",
        "driver.get(url)\n",
        "time.sleep(10)\n",
        "\n",
        "element = driver.find_element_by_xpath('//*[@id=\"post-1212\"]/div/div/div/div/section[2]/div/div/div/div/div/div[2]/div/div/table/tbody')\n",
        "table = element.get_attribute('innerText').split('\\n')[1:-1]"
      ],
      "execution_count": 477,
      "outputs": []
    },
    {
      "cell_type": "code",
      "metadata": {
        "id": "NZKLZGAI3u8e"
      },
      "source": [
        "dt = []\n",
        "price = []\n",
        "unit = []\n",
        "ref = []\n",
        "product = []\n",
        "for i in table:\n",
        "  x = i.replace(\"สุกรพ่อพันธุ์เช็คสัด V-Boar\",\"\")\n",
        "  dt.append(x.split(\"\\t\")[2])\n",
        "  price.append(x.split(\"\\t\")[3])\n",
        "  unit.append(x.split(\"\\t\")[5])\n",
        "  ref.append(x.split(\"\\t\")[6])\n",
        "  product.append(\"สุกรพ่อพันธุ์เช็คสัด V-Boar\")"
      ],
      "execution_count": 478,
      "outputs": []
    },
    {
      "cell_type": "code",
      "metadata": {
        "id": "LG00ojKm39HL"
      },
      "source": [
        "date_ = []\n",
        "for i in dt:\n",
        "  x = datetime.date(int(i.split('-')[0]), int(i.split('-')[1]), int(i.split('-')[2]))\n",
        "  date_.append(x)"
      ],
      "execution_count": 479,
      "outputs": []
    },
    {
      "cell_type": "code",
      "metadata": {
        "id": "mGR9pqVH4AjC"
      },
      "source": [
        "from pandas import DataFrame\n",
        "table = list(zip(date_,product,price,unit,ref))\n",
        "VB = DataFrame(table,columns=['date','product','price','unit','remark'])"
      ],
      "execution_count": 480,
      "outputs": []
    },
    {
      "cell_type": "code",
      "metadata": {
        "id": "NxNlT9hL4EGH"
      },
      "source": [
        "as_date = list(VB['date'])\n",
        "as_date_ = []\n",
        "day_name = []\n",
        "for i in as_date:\n",
        "#    x = datetime.date(int(i.split('/')[2])-543, int(i.split('/')[1]), int(i.split('/')[0]))\n",
        "    as_date_.append(i)\n",
        "    day_name.append(i.strftime(\"%A\"))\n",
        "VB['date'] = as_date_"
      ],
      "execution_count": 481,
      "outputs": []
    },
    {
      "cell_type": "code",
      "metadata": {
        "id": "BIHU6xfb4IlP"
      },
      "source": [
        "as_date = list(VB['date'])\n",
        "day_name = []\n",
        "for i in as_date:\n",
        "    day_name.append(i.strftime(\"%A\"))\n",
        "    \n",
        "VB['datename'] = day_name"
      ],
      "execution_count": 482,
      "outputs": []
    },
    {
      "cell_type": "code",
      "metadata": {
        "id": "XiOjMR9P4MoW"
      },
      "source": [
        "VB['year'] = pd.to_datetime(VB[\"date\"]).dt.year\n",
        "VB['month'] = pd.to_datetime(VB[\"date\"]).dt.month\n",
        "\n",
        "VB['date'] = pd.to_datetime(VB[\"date\"])\n",
        "\n",
        "VB = VB.replace({\"month\": m_ord2})\n",
        "\n",
        "VB['source'] = 'CPF'\n",
        "VB['product group'] = 'พันธุ์สัตว์'"
      ],
      "execution_count": 483,
      "outputs": []
    },
    {
      "cell_type": "code",
      "metadata": {
        "id": "wUKK3iF44WT2"
      },
      "source": [
        "#pig31\n",
        "url = \"https://www.cpffeed.com/pet11/\"\n",
        "\n",
        "driver.get(url)\n",
        "time.sleep(10)\n",
        "\n",
        "element = driver.find_element_by_xpath('//*[@id=\"post-1218\"]/div/div/div/div/section[2]/div/div/div/div/div/div[2]/div/div/table/tbody')\n",
        "table = element.get_attribute('innerText').split('\\n')[1:-1]"
      ],
      "execution_count": 484,
      "outputs": []
    },
    {
      "cell_type": "code",
      "metadata": {
        "id": "O6-milDd4pCE"
      },
      "source": [
        "dt = []\n",
        "price = []\n",
        "unit = []\n",
        "ref = []\n",
        "product = []\n",
        "for i in table:\n",
        "  x = i.replace(\"สุกรพ่อพันธุ์ ซี.พี. 31\",\"\")\n",
        "  dt.append(x.split(\"\\t\")[2])\n",
        "  price.append(x.split(\"\\t\")[3])\n",
        "  unit.append(x.split(\"\\t\")[5])\n",
        "  ref.append(x.split(\"\\t\")[6])\n",
        "  product.append(\"สุกรพ่อพันธุ์ ซี.พี. 31\")"
      ],
      "execution_count": 485,
      "outputs": []
    },
    {
      "cell_type": "code",
      "metadata": {
        "id": "IBWSekWf44gH"
      },
      "source": [
        "date_ = []\n",
        "for i in dt:\n",
        "  x = datetime.date(int(i.split('-')[0]), int(i.split('-')[1]), int(i.split('-')[2]))\n",
        "  date_.append(x)"
      ],
      "execution_count": 486,
      "outputs": []
    },
    {
      "cell_type": "code",
      "metadata": {
        "id": "jlkaLMrD48DV"
      },
      "source": [
        "from pandas import DataFrame\n",
        "table = list(zip(date_,product,price,unit,ref))\n",
        "pig31 = DataFrame(table,columns=['date','product','price','unit','remark'])"
      ],
      "execution_count": 487,
      "outputs": []
    },
    {
      "cell_type": "code",
      "metadata": {
        "id": "ohIlic9H5Be1"
      },
      "source": [
        "as_date = list(pig31['date'])\n",
        "as_date_ = []\n",
        "day_name = []\n",
        "for i in as_date:\n",
        "#    x = datetime.date(int(i.split('/')[2])-543, int(i.split('/')[1]), int(i.split('/')[0]))\n",
        "    as_date_.append(i)\n",
        "    day_name.append(i.strftime(\"%A\"))\n",
        "pig31['date'] = as_date_"
      ],
      "execution_count": 488,
      "outputs": []
    },
    {
      "cell_type": "code",
      "metadata": {
        "id": "xcJ0OWx35G1y"
      },
      "source": [
        "as_date = list(pig31['date'])\n",
        "day_name = []\n",
        "for i in as_date:\n",
        "    day_name.append(i.strftime(\"%A\"))\n",
        "    \n",
        "pig31['datename'] = day_name"
      ],
      "execution_count": 489,
      "outputs": []
    },
    {
      "cell_type": "code",
      "metadata": {
        "id": "AxS6APhG5LLp"
      },
      "source": [
        "pig31['year'] = pd.to_datetime(pig31[\"date\"]).dt.year\n",
        "pig31['month'] = pd.to_datetime(pig31[\"date\"]).dt.month\n",
        "\n",
        "pig31['date'] = pd.to_datetime(pig31[\"date\"])\n",
        "\n",
        "pig31 = pig31.replace({\"month\": m_ord2})\n",
        "\n",
        "pig31['source'] = 'CPF'\n",
        "pig31['product group'] = 'พันธุ์สัตว์'"
      ],
      "execution_count": 490,
      "outputs": []
    },
    {
      "cell_type": "code",
      "metadata": {
        "id": "W1udtet05VHO"
      },
      "source": [
        "#PS\n",
        "url = \"https://www.cpffeed.com/pet12/\"\n",
        "\n",
        "driver.get(url)\n",
        "time.sleep(10)\n",
        "\n",
        "element = driver.find_element_by_xpath('//*[@id=\"post-1222\"]/div/div/div/div/section[2]/div/div/div/div/div/div[2]/div/div/table/tbody')\n",
        "table = element.get_attribute('innerText').split('\\n')[1:-1]"
      ],
      "execution_count": 491,
      "outputs": []
    },
    {
      "cell_type": "code",
      "metadata": {
        "id": "sH-EEqBp5ots"
      },
      "source": [
        "dt = []\n",
        "price = []\n",
        "unit = []\n",
        "ref = []\n",
        "product = []\n",
        "for i in table:\n",
        "  x = i.replace(\"สุกรพันธุ์ PS เพศเมีย\",\"\")\n",
        "  dt.append(x.split(\"\\t\")[2])\n",
        "  price.append(x.split(\"\\t\")[3])\n",
        "  unit.append(x.split(\"\\t\")[5])\n",
        "  ref.append(x.split(\"\\t\")[6])\n",
        "  product.append(\"สุกรพันธุ์ PS เพศเมีย\")"
      ],
      "execution_count": 492,
      "outputs": []
    },
    {
      "cell_type": "code",
      "metadata": {
        "id": "iJ6gdOHv54Uk"
      },
      "source": [
        "date_ = []\n",
        "for i in dt:\n",
        "  x = datetime.date(int(i.split('-')[0]), int(i.split('-')[1]), int(i.split('-')[2]))\n",
        "  date_.append(x)"
      ],
      "execution_count": 493,
      "outputs": []
    },
    {
      "cell_type": "code",
      "metadata": {
        "id": "4fnCKoUz58WX"
      },
      "source": [
        "from pandas import DataFrame\n",
        "table = list(zip(date_,product,price,unit,ref))\n",
        "PS = DataFrame(table,columns=['date','product','price','unit','remark'])"
      ],
      "execution_count": 494,
      "outputs": []
    },
    {
      "cell_type": "code",
      "metadata": {
        "id": "GMFLMsUD6Cbl"
      },
      "source": [
        "as_date = list(PS['date'])\n",
        "as_date_ = []\n",
        "day_name = []\n",
        "for i in as_date:\n",
        "#    x = datetime.date(int(i.split('/')[2])-543, int(i.split('/')[1]), int(i.split('/')[0]))\n",
        "    as_date_.append(i)\n",
        "    day_name.append(i.strftime(\"%A\"))\n",
        "PS['date'] = as_date_"
      ],
      "execution_count": 495,
      "outputs": []
    },
    {
      "cell_type": "code",
      "metadata": {
        "id": "rIA1JLYA6IFX"
      },
      "source": [
        "as_date = list(PS['date'])\n",
        "day_name = []\n",
        "for i in as_date:\n",
        "    day_name.append(i.strftime(\"%A\"))\n",
        "    \n",
        "PS['datename'] = day_name"
      ],
      "execution_count": 496,
      "outputs": []
    },
    {
      "cell_type": "code",
      "metadata": {
        "id": "T7xWn0fz6NL6"
      },
      "source": [
        "PS['year'] = pd.to_datetime(PS[\"date\"]).dt.year\n",
        "PS['month'] = pd.to_datetime(PS[\"date\"]).dt.month\n",
        "\n",
        "PS['date'] = pd.to_datetime(PS[\"date\"])\n",
        "\n",
        "PS = PS.replace({\"month\": m_ord2})\n",
        "\n",
        "PS['source'] = 'CPF'\n",
        "PS['product group'] = 'พันธุ์สัตว์'"
      ],
      "execution_count": 497,
      "outputs": []
    },
    {
      "cell_type": "code",
      "metadata": {
        "id": "7oZ72nkp6X4M"
      },
      "source": [
        "#ลูกเป็ดเนื้อ\n",
        "url = \"https://www.cpffeed.com/pet13/\"\n",
        "\n",
        "driver.get(url)\n",
        "time.sleep(10)\n",
        "\n",
        "element = driver.find_element_by_xpath('//*[@id=\"post-1230\"]/div/div/div/div/section[2]/div/div/div/div/div/div[2]/div/div/table/tbody')\n",
        "table = element.get_attribute('innerText').split('\\n')[1:-1]"
      ],
      "execution_count": 498,
      "outputs": []
    },
    {
      "cell_type": "code",
      "metadata": {
        "id": "A8BVKSz-6k7k"
      },
      "source": [
        "dt = []\n",
        "price = []\n",
        "unit = []\n",
        "ref = []\n",
        "product = []\n",
        "for i in table:\n",
        "  x = i.replace(\"ลูกเป็ดเนื้อ ซี.พี.\",\"\")\n",
        "  dt.append(x.split(\"\\t\")[2])\n",
        "  price.append(x.split(\"\\t\")[3])\n",
        "  unit.append(x.split(\"\\t\")[5])\n",
        "  ref.append(x.split(\"\\t\")[6])\n",
        "  product.append(\"ลูกเป็ดเนื้อ ซี.พี.\")"
      ],
      "execution_count": 499,
      "outputs": []
    },
    {
      "cell_type": "code",
      "metadata": {
        "id": "z_qJV1PY62XM"
      },
      "source": [
        "date_ = []\n",
        "for i in dt:\n",
        "  x = datetime.date(int(i.split('-')[0]), int(i.split('-')[1]), int(i.split('-')[2]))\n",
        "  date_.append(x)"
      ],
      "execution_count": 500,
      "outputs": []
    },
    {
      "cell_type": "code",
      "metadata": {
        "id": "9tjbZl5o66LM"
      },
      "source": [
        "from pandas import DataFrame\n",
        "table = list(zip(date_,product,price,unit,ref))\n",
        "ลูกเป็ดเนื้อ = DataFrame(table,columns=['date','product','price','unit','remark'])"
      ],
      "execution_count": 501,
      "outputs": []
    },
    {
      "cell_type": "code",
      "metadata": {
        "id": "9dGlM2606_jd"
      },
      "source": [
        "as_date = list(ลูกเป็ดเนื้อ['date'])\n",
        "as_date_ = []\n",
        "day_name = []\n",
        "for i in as_date:\n",
        "#    x = datetime.date(int(i.split('/')[2])-543, int(i.split('/')[1]), int(i.split('/')[0]))\n",
        "    as_date_.append(i)\n",
        "    day_name.append(i.strftime(\"%A\"))\n",
        "ลูกเป็ดเนื้อ['date'] = as_date_"
      ],
      "execution_count": 502,
      "outputs": []
    },
    {
      "cell_type": "code",
      "metadata": {
        "id": "Uc67y9sI7E_m"
      },
      "source": [
        "as_date = list(ลูกเป็ดเนื้อ['date'])\n",
        "day_name = []\n",
        "for i in as_date:\n",
        "    day_name.append(i.strftime(\"%A\"))\n",
        "    \n",
        "ลูกเป็ดเนื้อ['datename'] = day_name"
      ],
      "execution_count": 503,
      "outputs": []
    },
    {
      "cell_type": "code",
      "metadata": {
        "id": "NDMFZlWm7Js2"
      },
      "source": [
        "ลูกเป็ดเนื้อ['year'] = pd.to_datetime(ลูกเป็ดเนื้อ[\"date\"]).dt.year\n",
        "ลูกเป็ดเนื้อ['month'] = pd.to_datetime(ลูกเป็ดเนื้อ[\"date\"]).dt.month\n",
        "\n",
        "ลูกเป็ดเนื้อ['date'] = pd.to_datetime(ลูกเป็ดเนื้อ[\"date\"])\n",
        "\n",
        "ลูกเป็ดเนื้อ = ลูกเป็ดเนื้อ.replace({\"month\": m_ord2})\n",
        "\n",
        "ลูกเป็ดเนื้อ['source'] = 'CPF'\n",
        "ลูกเป็ดเนื้อ['product group'] = 'พันธุ์สัตว์'"
      ],
      "execution_count": 504,
      "outputs": []
    },
    {
      "cell_type": "code",
      "metadata": {
        "id": "8dy8kjPz7Tel"
      },
      "source": [
        "#ลูกไก่ไทย\n",
        "url = \"https://www.cpffeed.com/pet14/\"\n",
        "\n",
        "driver.get(url)\n",
        "time.sleep(10)\n",
        "\n",
        "element = driver.find_element_by_xpath('//*[@id=\"post-2400\"]/div/div/div/div/section[2]/div/div/div/div/div/div[2]/div/div/table/tbody')\n",
        "table = element.get_attribute('innerText').split('\\n')[1:-1]"
      ],
      "execution_count": 505,
      "outputs": []
    },
    {
      "cell_type": "code",
      "metadata": {
        "id": "dZA8Eh967glJ"
      },
      "source": [
        "dt = []\n",
        "price = []\n",
        "unit = []\n",
        "ref = []\n",
        "product = []\n",
        "for i in table:\n",
        "  x = i.replace(\"ลูกไก่ไทย ซี.พี.\",\"\")\n",
        "  dt.append(x.split(\"\\t\")[2])\n",
        "  price.append(x.split(\"\\t\")[3])\n",
        "  unit.append(x.split(\"\\t\")[5])\n",
        "  ref.append(x.split(\"\\t\")[6])\n",
        "  product.append(\"ลูกไก่ไทย ซี.พี.\")"
      ],
      "execution_count": 506,
      "outputs": []
    },
    {
      "cell_type": "code",
      "metadata": {
        "id": "aWQicdq_7ust"
      },
      "source": [
        "date_ = []\n",
        "for i in dt:\n",
        "  x = datetime.date(int(i.split('-')[0]), int(i.split('-')[1]), int(i.split('-')[2]))\n",
        "  date_.append(x)"
      ],
      "execution_count": 507,
      "outputs": []
    },
    {
      "cell_type": "code",
      "metadata": {
        "id": "a9Z4RA7h7yDU"
      },
      "source": [
        "from pandas import DataFrame\n",
        "table = list(zip(date_,product,price,unit,ref))\n",
        "ลูกไก่ไทย = DataFrame(table,columns=['date','product','price','unit','remark'])"
      ],
      "execution_count": 508,
      "outputs": []
    },
    {
      "cell_type": "code",
      "metadata": {
        "id": "w4RtK8h972SS"
      },
      "source": [
        "as_date = list(ลูกไก่ไทย['date'])\n",
        "as_date_ = []\n",
        "day_name = []\n",
        "for i in as_date:\n",
        "#    x = datetime.date(int(i.split('/')[2])-543, int(i.split('/')[1]), int(i.split('/')[0]))\n",
        "    as_date_.append(i)\n",
        "    day_name.append(i.strftime(\"%A\"))\n",
        "ลูกไก่ไทย['date'] = as_date_"
      ],
      "execution_count": 509,
      "outputs": []
    },
    {
      "cell_type": "code",
      "metadata": {
        "id": "aI6PEIUx78Xa"
      },
      "source": [
        "as_date = list(ลูกไก่ไทย['date'])\n",
        "day_name = []\n",
        "for i in as_date:\n",
        "    day_name.append(i.strftime(\"%A\"))\n",
        "    \n",
        "ลูกไก่ไทย['datename'] = day_name"
      ],
      "execution_count": 510,
      "outputs": []
    },
    {
      "cell_type": "code",
      "metadata": {
        "id": "JzrIBipc8B3M"
      },
      "source": [
        "ลูกไก่ไทย['year'] = pd.to_datetime(ลูกไก่ไทย[\"date\"]).dt.year\n",
        "ลูกไก่ไทย['month'] = pd.to_datetime(ลูกไก่ไทย[\"date\"]).dt.month\n",
        "\n",
        "ลูกไก่ไทย['date'] = pd.to_datetime(ลูกไก่ไทย[\"date\"])\n",
        "\n",
        "ลูกไก่ไทย = ลูกไก่ไทย.replace({\"month\": m_ord2})\n",
        "\n",
        "ลูกไก่ไทย['source'] = 'CPF'\n",
        "ลูกไก่ไทย['product group'] = 'พันธุ์สัตว์'"
      ],
      "execution_count": 511,
      "outputs": []
    },
    {
      "cell_type": "code",
      "metadata": {
        "id": "YDBKFuPc8NsT"
      },
      "source": [
        "ราคาพันธุ์สัตว์CP = pd.concat([เป็ดรุ่น,ลูกเป็ดไข่,ลูกไก่เนื้อ,ลูกไก่ไข่,ไก่รุ่นไข่,ลูกหมูขุนเล็ก,freePRRS,WfreePRRS,หย่านม,VB,pig31,PS,ลูกเป็ดเนื้อ,ลูกไก่ไทย])"
      ],
      "execution_count": 512,
      "outputs": []
    },
    {
      "cell_type": "code",
      "metadata": {
        "id": "bga8UuyU9LbQ"
      },
      "source": [
        "ราคาพันธุ์สัตว์CP['price'] = pd.to_numeric(ราคาพันธุ์สัตว์CP['price'],errors = 'coerce')"
      ],
      "execution_count": 513,
      "outputs": []
    },
    {
      "cell_type": "markdown",
      "metadata": {
        "id": "AP0ekZ7UqbH9"
      },
      "source": [
        "# Makroclick Butchery"
      ]
    },
    {
      "cell_type": "code",
      "metadata": {
        "colab": {
          "base_uri": "https://localhost:8080/"
        },
        "id": "UxlGwfP-D_th",
        "outputId": "ff4b7fd5-71b3-4ddf-812e-d61d77c94bcf"
      },
      "source": [
        "url = \"https://www.makroclick.com/th/category/butchery\"\n",
        "\n",
        "driver.get(url)\n",
        "time.sleep(10)\n",
        "\n",
        "element = driver.find_element_by_xpath('//*[@id=\"subcategoryCarouselSM\"]/div[1]/div')\n",
        "\n",
        "link = element.get_attribute('innerHTML')\n",
        "\n",
        "link_list = []\n",
        "for i in link.split('category')[1:]:\n",
        "  link_list.append(\"https://www.makroclick.com/th/category\"+i.split('\"')[0])\n",
        "\n",
        "link_list"
      ],
      "execution_count": 182,
      "outputs": [
        {
          "output_type": "execute_result",
          "data": {
            "text/plain": [
              "['https://www.makroclick.com/th/category/butchery/pork',\n",
              " 'https://www.makroclick.com/th/category',\n",
              " 'https://www.makroclick.com/th/categoryCarousel__Text1line-sc-1iqrhgx-0 gOllCP',\n",
              " 'https://www.makroclick.com/th/category/butchery/chicken-poultry',\n",
              " 'https://www.makroclick.com/th/category',\n",
              " 'https://www.makroclick.com/th/categoryCarousel__Text1line-sc-1iqrhgx-0 gOllCP',\n",
              " 'https://www.makroclick.com/th/category/butchery/beef',\n",
              " 'https://www.makroclick.com/th/category',\n",
              " 'https://www.makroclick.com/th/categoryCarousel__Text1line-sc-1iqrhgx-0 gOllCP',\n",
              " 'https://www.makroclick.com/th/category/butchery/other-meat',\n",
              " 'https://www.makroclick.com/th/category',\n",
              " 'https://www.makroclick.com/th/categoryCarousel__Text1line-sc-1iqrhgx-0 gOllCP']"
            ]
          },
          "metadata": {
            "tags": []
          },
          "execution_count": 182
        }
      ]
    },
    {
      "cell_type": "code",
      "metadata": {
        "id": "O1REqt-zEFu8"
      },
      "source": [
        "link_list_ = []\n",
        "for i in link_list:\n",
        "  if 'https://www.makroclick.com/th/category/butchery/' in i:\n",
        "    link_list_.append(i)"
      ],
      "execution_count": 183,
      "outputs": []
    },
    {
      "cell_type": "code",
      "metadata": {
        "colab": {
          "base_uri": "https://localhost:8080/"
        },
        "id": "ycuEv0DvEQUm",
        "outputId": "2ef93af0-91a5-4888-da68-bf2f38c696ca"
      },
      "source": [
        "link_listx = []\n",
        "for i in link_list_:\n",
        "  driver.get(i)\n",
        "  time.sleep(10)\n",
        "\n",
        "  try:\n",
        "    element = driver.find_element_by_xpath('//*[@id=\"subcategoryCarouselSM\"]/div[1]')\n",
        "    link = element.get_attribute('innerHTML')\n",
        "    link = link.split('><')\n",
        "\n",
        "    for j in link:\n",
        "      if 'href' in j:\n",
        "        link_listx.append(\"https://www.makroclick.com/th/category\"+j.split('category')[1].split('\"')[0]+\"?page=\")\n",
        "  except:\n",
        "    pass\n",
        "\n",
        "link_listx"
      ],
      "execution_count": 184,
      "outputs": [
        {
          "output_type": "execute_result",
          "data": {
            "text/plain": [
              "['https://www.makroclick.com/th/category/butchery/pork/chilled-pork?page=',\n",
              " 'https://www.makroclick.com/th/category/butchery/pork/frozen-pork?page=',\n",
              " 'https://www.makroclick.com/th/category/butchery/pork/delivery-frozen-marinated-pork?page=',\n",
              " 'https://www.makroclick.com/th/category/butchery/chicken-poultry/chilled-chicken?page=',\n",
              " 'https://www.makroclick.com/th/category/butchery/chicken-poultry/frozen-chicken?page=',\n",
              " 'https://www.makroclick.com/th/category/butchery/chicken-poultry/frozen-marinated-chicken?page=',\n",
              " 'https://www.makroclick.com/th/category/butchery/chicken-poultry/frozen-duck?page=',\n",
              " 'https://www.makroclick.com/th/category/butchery/beef/chilled-beef?page=',\n",
              " 'https://www.makroclick.com/th/category/butchery/beef/frozen-beef?page=',\n",
              " 'https://www.makroclick.com/th/category/butchery/other-meat/frozen-lamb?page=',\n",
              " 'https://www.makroclick.com/th/category/butchery/other-meat/frozen-wild-boar-meat?page=']"
            ]
          },
          "metadata": {
            "tags": []
          },
          "execution_count": 184
        }
      ]
    },
    {
      "cell_type": "code",
      "metadata": {
        "id": "B5fMLBuGEVO_"
      },
      "source": [
        "title = []\n",
        "sub_title = []\n",
        "\n",
        "\n",
        "for i in link_listx:\n",
        "  driver.get(i+'1')\n",
        "  time.sleep(10)\n",
        "\n",
        "  #try:\n",
        "  element1 = driver.find_element_by_xpath('//*[@id=\"categoryContainer\"]/div[2]/div[2]/div[1]/div/div[1]')\n",
        "  title.append(element1.get_attribute('innerText'))\n",
        "\n",
        "  element2 = driver.find_element_by_xpath('//*[@id=\"categoryContainer\"]/div[2]/div[2]/div[1]/div/div[2]/div/h1')\n",
        "  sub_title.append(element2.get_attribute('innerText'))\n",
        "\n",
        "    #element3 = driver.find_element_by_xpath('//*[@id=\"scrollPaginatorTop\"]/div[2]')\n",
        "    #content.append(element3.get_attribute('innerText'))\n",
        "  #except:\n",
        "    #content.append('')"
      ],
      "execution_count": 186,
      "outputs": []
    },
    {
      "cell_type": "code",
      "metadata": {
        "colab": {
          "base_uri": "https://localhost:8080/"
        },
        "id": "s4-zYVUxEpKP",
        "outputId": "aa34bb1d-b49a-4b38-f3bf-97ddddc2713e"
      },
      "source": [
        "content = []\n",
        "\n",
        "x = 1\n",
        "\n",
        "for i in link_listx:\n",
        "  contentx = '\\n\\n'\n",
        "  while True:\n",
        "    try:\n",
        "      print(i+str(x)+'&sorting=SORTING_LAST_UPDATE&all=true')\n",
        "      driver.get(i+str(x)+'&sorting=SORTING_LAST_UPDATE&all=true')\n",
        "      time.sleep(10)\n",
        "\n",
        "  #try:\n",
        "\n",
        "      element3 = driver.find_element_by_xpath('//*[@id=\"scrollPaginatorTop\"]/div[2]')\n",
        "      print(element3.get_attribute('innerText'))\n",
        "      contentx = contentx+element3.get_attribute('innerText')+'\\n\\n'\n",
        "      x = x+1\n",
        "    except:\n",
        "      x = 1\n",
        "      break\n",
        "    \n",
        "  #except:\n",
        "    #content.append('')\n",
        "  content.append(contentx)"
      ],
      "execution_count": 187,
      "outputs": [
        {
          "output_type": "stream",
          "text": [
            "https://www.makroclick.com/th/category/butchery/pork/chilled-pork?page=1&sorting=SORTING_LAST_UPDATE&all=true\n",
            "https://www.makroclick.com/th/category/butchery/pork/frozen-pork?page=1&sorting=SORTING_LAST_UPDATE&all=true\n",
            "สามชั้นหมูตัดชิ้นแช่แข็ง ชิ้นละ\n",
            "รหัสสินค้า 897243\n",
            "85.00 ฿\n",
            "ราคาต่อชิ้น  85.00 ฿\n",
            "\n",
            "สะโพกหมูติดหนังตัดชิ้นแช่แข็ง ชิ้นละ\n",
            "รหัสสินค้า 897242\n",
            "90.00 ฿\n",
            "ราคาต่อชิ้น  90.00 ฿\n",
            "\n",
            "ชุดหมูสำหรับไหว้แช่แข็ง สะโพก-สามชั้น 1.4 กก.\n",
            "รหัสสินค้า 897045\n",
            "239.00 ฿\n",
            "ราคาต่อชิ้น  239.00 ฿\n",
            "\n",
            "เล็ท แพล็น มีท เนื้อบดจากพืชแช่แข็ง 1000 กรัม\n",
            "รหัสสินค้า 867275\n",
            "295.00 ฿\n",
            "ราคาต่อชิ้น  295.00 ฿\n",
            "https://www.makroclick.com/th/category/butchery/pork/frozen-pork?page=2&sorting=SORTING_LAST_UPDATE&all=true\n",
            "https://www.makroclick.com/th/category/butchery/pork/delivery-frozen-marinated-pork?page=1&sorting=SORTING_LAST_UPDATE&all=true\n",
            "ซีพี ขาหมูคากิพะโล้แช่แข็ง 2000 กรัม\n",
            "รหัสสินค้า 869978\n",
            "309.00 ฿\n",
            "ราคาต่อชิ้น  309.00 ฿\n",
            "\n",
            "ซีพี ขาหมูคากิพะโล้แช่แข็ง 2000 กรัม\n",
            "รหัสสินค้า 897054\n",
            "309.00 ฿\n",
            "ราคาต่อชิ้น  309.00 ฿\n",
            "https://www.makroclick.com/th/category/butchery/pork/delivery-frozen-marinated-pork?page=2&sorting=SORTING_LAST_UPDATE&all=true\n",
            "https://www.makroclick.com/th/category/butchery/chicken-poultry/chilled-chicken?page=1&sorting=SORTING_LAST_UPDATE&all=true\n",
            "https://www.makroclick.com/th/category/butchery/chicken-poultry/frozen-chicken?page=1&sorting=SORTING_LAST_UPDATE&all=true\n",
            "ซีพี เนื้ออกไก่ล้วนบดแช่แข็ง 1 กิโลกรัม\n",
            "รหัสสินค้า 820423\n",
            "69.00 ฿\n",
            "ราคาต่อชิ้น  69.00 ฿\n",
            "\n",
            "ซีพี ไก่ต้มแช่แข็ง 1300 กรัม\n",
            "รหัสสินค้า 193117\n",
            "319.00 ฿\n",
            "ราคาต่อชิ้น  319.00 ฿\n",
            "\n",
            "ไก่ไข่แช่แข็ง ตัวละ\n",
            "รหัสสินค้า 897245\n",
            "65.00 ฿\n",
            "ราคาต่อชิ้น  65.00 ฿\n",
            "\n",
            "ซีพี น่องติดสะโพกไก่แช่แข็ง 2 กก.\n",
            "รหัสสินค้า 829225\n",
            "119.00 ฿\n",
            "ราคาต่อชิ้น  119.00 ฿\n",
            "https://www.makroclick.com/th/category/butchery/chicken-poultry/frozen-chicken?page=2&sorting=SORTING_LAST_UPDATE&all=true\n",
            "https://www.makroclick.com/th/category/butchery/chicken-poultry/frozen-marinated-chicken?page=1&sorting=SORTING_LAST_UPDATE&all=true\n",
            "คิทเช่นจอย ไก่ต้มน้ำปลาแช่แข็ง 890 กรัม\n",
            "รหัสสินค้า 848902\n",
            "189.00 ฿\n",
            "ราคาต่อชิ้น  189.00 ฿\n",
            "\n",
            "คิทเช่นจอย ไก่ต้มน้ำปลาแช่แข็ง 890 กรัม\n",
            "รหัสสินค้า 897051\n",
            "189.00 ฿\n",
            "ราคาต่อชิ้น  189.00 ฿\n",
            "https://www.makroclick.com/th/category/butchery/chicken-poultry/frozen-marinated-chicken?page=2&sorting=SORTING_LAST_UPDATE&all=true\n",
            "https://www.makroclick.com/th/category/butchery/chicken-poultry/frozen-duck?page=1&sorting=SORTING_LAST_UPDATE&all=true\n",
            "ซีพี เป็ดย่างไหว้เจ้า พร้อมเครื่องในและน้ำจิ้ม 1.8 กก.\n",
            "รหัสสินค้า 825165\n",
            "499.00 ฿\n",
            "ราคาต่อชิ้น  499.00 ฿\n",
            "\n",
            "ซีพี เนื้อเป็ดปรุงสุกแช่แข็ง 1000 กรัม\n",
            "รหัสสินค้า 230043\n",
            "209.00 ฿\n",
            "ราคาต่อชิ้น  209.00 ฿\n",
            "https://www.makroclick.com/th/category/butchery/chicken-poultry/frozen-duck?page=2&sorting=SORTING_LAST_UPDATE&all=true\n",
            "https://www.makroclick.com/th/category/butchery/beef/chilled-beef?page=1&sorting=SORTING_LAST_UPDATE&all=true\n",
            "https://www.makroclick.com/th/category/butchery/beef/frozen-beef?page=1&sorting=SORTING_LAST_UPDATE&all=true\n",
            "https://www.makroclick.com/th/category/butchery/other-meat/frozen-lamb?page=1&sorting=SORTING_LAST_UPDATE&all=true\n",
            "https://www.makroclick.com/th/category/butchery/other-meat/frozen-wild-boar-meat?page=1&sorting=SORTING_LAST_UPDATE&all=true\n"
          ],
          "name": "stdout"
        }
      ]
    },
    {
      "cell_type": "code",
      "metadata": {
        "id": "3hcuz9eNFru4"
      },
      "source": [
        "contentx = []\n",
        "for i in content:\n",
        "  contentx.append(i[2:-2])"
      ],
      "execution_count": 188,
      "outputs": []
    },
    {
      "cell_type": "code",
      "metadata": {
        "id": "pd-mPUiYqro9"
      },
      "source": [
        "product_group = []\n",
        "sub_product_group1 = []\n",
        "for i in title:\n",
        "  product_group.append(i.split('\\n»\\n')[1])\n",
        "  sub_product_group1.append(i.split('\\n»\\n')[2])"
      ],
      "execution_count": 189,
      "outputs": []
    },
    {
      "cell_type": "code",
      "metadata": {
        "id": "_RuSPWuvsjk-"
      },
      "source": [
        "sub_product_group2 = []\n",
        "for i in sub_title:\n",
        "  sub_product_group2.append(i.split(' ')[1])"
      ],
      "execution_count": 190,
      "outputs": []
    },
    {
      "cell_type": "code",
      "metadata": {
        "colab": {
          "base_uri": "https://localhost:8080/",
          "height": 204
        },
        "id": "yAhGMIlNt7DW",
        "outputId": "e9bfdbc2-a996-4038-c86c-dda5ddeb8f7c"
      },
      "source": [
        "df = pd.DataFrame(list(zip(sub_product_group2, sub_product_group1, product_group, contentx)),columns=['sub_product_group2', 'sub_product_group1', 'product_group', 'content'])\n",
        "df = df[df['content'] != '']\n",
        "df"
      ],
      "execution_count": 191,
      "outputs": [
        {
          "output_type": "execute_result",
          "data": {
            "text/html": [
              "<div>\n",
              "<style scoped>\n",
              "    .dataframe tbody tr th:only-of-type {\n",
              "        vertical-align: middle;\n",
              "    }\n",
              "\n",
              "    .dataframe tbody tr th {\n",
              "        vertical-align: top;\n",
              "    }\n",
              "\n",
              "    .dataframe thead th {\n",
              "        text-align: right;\n",
              "    }\n",
              "</style>\n",
              "<table border=\"1\" class=\"dataframe\">\n",
              "  <thead>\n",
              "    <tr style=\"text-align: right;\">\n",
              "      <th></th>\n",
              "      <th>sub_product_group2</th>\n",
              "      <th>sub_product_group1</th>\n",
              "      <th>product_group</th>\n",
              "      <th>content</th>\n",
              "    </tr>\n",
              "  </thead>\n",
              "  <tbody>\n",
              "    <tr>\n",
              "      <th>1</th>\n",
              "      <td>เนื้อหมูแช่แข็ง</td>\n",
              "      <td>เนื้อหมู</td>\n",
              "      <td>เนื้อสัตว์</td>\n",
              "      <td>สามชั้นหมูตัดชิ้นแช่แข็ง ชิ้นละ\\nรหัสสินค้า 89...</td>\n",
              "    </tr>\n",
              "    <tr>\n",
              "      <th>2</th>\n",
              "      <td>เนื้อหมูหมักปรุงรสแช่แข็ง</td>\n",
              "      <td>เนื้อหมู</td>\n",
              "      <td>เนื้อสัตว์</td>\n",
              "      <td>ซีพี ขาหมูคากิพะโล้แช่แข็ง 2000 กรัม\\nรหัสสินค...</td>\n",
              "    </tr>\n",
              "    <tr>\n",
              "      <th>4</th>\n",
              "      <td>เนื้อไก่แช่แข็ง</td>\n",
              "      <td>เนื้อไก่และสัตว์ปีก</td>\n",
              "      <td>เนื้อสัตว์</td>\n",
              "      <td>ซีพี เนื้ออกไก่ล้วนบดแช่แข็ง 1 กิโลกรัม\\nรหัสส...</td>\n",
              "    </tr>\n",
              "    <tr>\n",
              "      <th>5</th>\n",
              "      <td>เนื้อไก่หมักปรุงรสแช่แข็ง</td>\n",
              "      <td>เนื้อไก่และสัตว์ปีก</td>\n",
              "      <td>เนื้อสัตว์</td>\n",
              "      <td>คิทเช่นจอย ไก่ต้มน้ำปลาแช่แข็ง 890 กรัม\\nรหัสส...</td>\n",
              "    </tr>\n",
              "    <tr>\n",
              "      <th>6</th>\n",
              "      <td>เนื้อเป็ดแช่แข็ง</td>\n",
              "      <td>เนื้อไก่และสัตว์ปีก</td>\n",
              "      <td>เนื้อสัตว์</td>\n",
              "      <td>ซีพี เป็ดย่างไหว้เจ้า พร้อมเครื่องในและน้ำจิ้ม...</td>\n",
              "    </tr>\n",
              "  </tbody>\n",
              "</table>\n",
              "</div>"
            ],
            "text/plain": [
              "          sub_product_group2  ...                                            content\n",
              "1            เนื้อหมูแช่แข็ง  ...  สามชั้นหมูตัดชิ้นแช่แข็ง ชิ้นละ\\nรหัสสินค้า 89...\n",
              "2  เนื้อหมูหมักปรุงรสแช่แข็ง  ...  ซีพี ขาหมูคากิพะโล้แช่แข็ง 2000 กรัม\\nรหัสสินค...\n",
              "4            เนื้อไก่แช่แข็ง  ...  ซีพี เนื้ออกไก่ล้วนบดแช่แข็ง 1 กิโลกรัม\\nรหัสส...\n",
              "5  เนื้อไก่หมักปรุงรสแช่แข็ง  ...  คิทเช่นจอย ไก่ต้มน้ำปลาแช่แข็ง 890 กรัม\\nรหัสส...\n",
              "6           เนื้อเป็ดแช่แข็ง  ...  ซีพี เป็ดย่างไหว้เจ้า พร้อมเครื่องในและน้ำจิ้ม...\n",
              "\n",
              "[5 rows x 4 columns]"
            ]
          },
          "metadata": {
            "tags": []
          },
          "execution_count": 191
        }
      ]
    },
    {
      "cell_type": "code",
      "metadata": {
        "colab": {
          "base_uri": "https://localhost:8080/"
        },
        "id": "nPrVay4juuTf",
        "outputId": "327c6094-710c-48d9-8294-7017c3c5f1e3"
      },
      "source": [
        "content = list(df['content'])\n",
        "sub_product_group2 = list(df['sub_product_group2'])\n",
        "map = dict(zip(sub_product_group2,content))\n",
        "map"
      ],
      "execution_count": 192,
      "outputs": [
        {
          "output_type": "execute_result",
          "data": {
            "text/plain": [
              "{'เนื้อหมูหมักปรุงรสแช่แข็ง': 'ซีพี ขาหมูคากิพะโล้แช่แข็ง 2000 กรัม\\nรหัสสินค้า 869978\\n309.00 ฿\\nราคาต่อชิ้น\\xa0 309.00 ฿\\n\\nซีพี ขาหมูคากิพะโล้แช่แข็ง 2000 กรัม\\nรหัสสินค้า 897054\\n309.00 ฿\\nราคาต่อชิ้น\\xa0 309.00 ฿',\n",
              " 'เนื้อหมูแช่แข็ง': 'สามชั้นหมูตัดชิ้นแช่แข็ง ชิ้นละ\\nรหัสสินค้า 897243\\n85.00 ฿\\nราคาต่อชิ้น\\xa0 85.00 ฿\\n\\nสะโพกหมูติดหนังตัดชิ้นแช่แข็ง ชิ้นละ\\nรหัสสินค้า 897242\\n90.00 ฿\\nราคาต่อชิ้น\\xa0 90.00 ฿\\n\\nชุดหมูสำหรับไหว้แช่แข็ง สะโพก-สามชั้น 1.4 กก.\\nรหัสสินค้า 897045\\n239.00 ฿\\nราคาต่อชิ้น\\xa0 239.00 ฿\\n\\nเล็ท แพล็น มีท เนื้อบดจากพืชแช่แข็ง 1000 กรัม\\nรหัสสินค้า 867275\\n295.00 ฿\\nราคาต่อชิ้น\\xa0 295.00 ฿',\n",
              " 'เนื้อเป็ดแช่แข็ง': 'ซีพี เป็ดย่างไหว้เจ้า พร้อมเครื่องในและน้ำจิ้ม 1.8 กก.\\nรหัสสินค้า 825165\\n499.00 ฿\\nราคาต่อชิ้น\\xa0 499.00 ฿\\n\\nซีพี เนื้อเป็ดปรุงสุกแช่แข็ง 1000 กรัม\\nรหัสสินค้า 230043\\n209.00 ฿\\nราคาต่อชิ้น\\xa0 209.00 ฿',\n",
              " 'เนื้อไก่หมักปรุงรสแช่แข็ง': 'คิทเช่นจอย ไก่ต้มน้ำปลาแช่แข็ง 890 กรัม\\nรหัสสินค้า 848902\\n189.00 ฿\\nราคาต่อชิ้น\\xa0 189.00 ฿\\n\\nคิทเช่นจอย ไก่ต้มน้ำปลาแช่แข็ง 890 กรัม\\nรหัสสินค้า 897051\\n189.00 ฿\\nราคาต่อชิ้น\\xa0 189.00 ฿',\n",
              " 'เนื้อไก่แช่แข็ง': 'ซีพี เนื้ออกไก่ล้วนบดแช่แข็ง 1 กิโลกรัม\\nรหัสสินค้า 820423\\n69.00 ฿\\nราคาต่อชิ้น\\xa0 69.00 ฿\\n\\nซีพี ไก่ต้มแช่แข็ง 1300 กรัม\\nรหัสสินค้า 193117\\n319.00 ฿\\nราคาต่อชิ้น\\xa0 319.00 ฿\\n\\nไก่ไข่แช่แข็ง ตัวละ\\nรหัสสินค้า 897245\\n65.00 ฿\\nราคาต่อชิ้น\\xa0 65.00 ฿\\n\\nซีพี น่องติดสะโพกไก่แช่แข็ง 2 กก.\\nรหัสสินค้า 829225\\n119.00 ฿\\nราคาต่อชิ้น\\xa0 119.00 ฿'}"
            ]
          },
          "metadata": {
            "tags": []
          },
          "execution_count": 192
        }
      ]
    },
    {
      "cell_type": "code",
      "metadata": {
        "colab": {
          "base_uri": "https://localhost:8080/"
        },
        "id": "Yzvb-c02vJ8P",
        "outputId": "2814ed4a-d59d-45e1-91e1-5ac693f2e81b"
      },
      "source": [
        "mapp = dict()\n",
        "for i in map:\n",
        "  for j in map[i].split('\\n\\n'):\n",
        "    mapp[j] = i\n",
        "mapp"
      ],
      "execution_count": 193,
      "outputs": [
        {
          "output_type": "execute_result",
          "data": {
            "text/plain": [
              "{'คิทเช่นจอย ไก่ต้มน้ำปลาแช่แข็ง 890 กรัม\\nรหัสสินค้า 848902\\n189.00 ฿\\nราคาต่อชิ้น\\xa0 189.00 ฿': 'เนื้อไก่หมักปรุงรสแช่แข็ง',\n",
              " 'คิทเช่นจอย ไก่ต้มน้ำปลาแช่แข็ง 890 กรัม\\nรหัสสินค้า 897051\\n189.00 ฿\\nราคาต่อชิ้น\\xa0 189.00 ฿': 'เนื้อไก่หมักปรุงรสแช่แข็ง',\n",
              " 'ชุดหมูสำหรับไหว้แช่แข็ง สะโพก-สามชั้น 1.4 กก.\\nรหัสสินค้า 897045\\n239.00 ฿\\nราคาต่อชิ้น\\xa0 239.00 ฿': 'เนื้อหมูแช่แข็ง',\n",
              " 'ซีพี ขาหมูคากิพะโล้แช่แข็ง 2000 กรัม\\nรหัสสินค้า 869978\\n309.00 ฿\\nราคาต่อชิ้น\\xa0 309.00 ฿': 'เนื้อหมูหมักปรุงรสแช่แข็ง',\n",
              " 'ซีพี ขาหมูคากิพะโล้แช่แข็ง 2000 กรัม\\nรหัสสินค้า 897054\\n309.00 ฿\\nราคาต่อชิ้น\\xa0 309.00 ฿': 'เนื้อหมูหมักปรุงรสแช่แข็ง',\n",
              " 'ซีพี น่องติดสะโพกไก่แช่แข็ง 2 กก.\\nรหัสสินค้า 829225\\n119.00 ฿\\nราคาต่อชิ้น\\xa0 119.00 ฿': 'เนื้อไก่แช่แข็ง',\n",
              " 'ซีพี เนื้ออกไก่ล้วนบดแช่แข็ง 1 กิโลกรัม\\nรหัสสินค้า 820423\\n69.00 ฿\\nราคาต่อชิ้น\\xa0 69.00 ฿': 'เนื้อไก่แช่แข็ง',\n",
              " 'ซีพี เนื้อเป็ดปรุงสุกแช่แข็ง 1000 กรัม\\nรหัสสินค้า 230043\\n209.00 ฿\\nราคาต่อชิ้น\\xa0 209.00 ฿': 'เนื้อเป็ดแช่แข็ง',\n",
              " 'ซีพี เป็ดย่างไหว้เจ้า พร้อมเครื่องในและน้ำจิ้ม 1.8 กก.\\nรหัสสินค้า 825165\\n499.00 ฿\\nราคาต่อชิ้น\\xa0 499.00 ฿': 'เนื้อเป็ดแช่แข็ง',\n",
              " 'ซีพี ไก่ต้มแช่แข็ง 1300 กรัม\\nรหัสสินค้า 193117\\n319.00 ฿\\nราคาต่อชิ้น\\xa0 319.00 ฿': 'เนื้อไก่แช่แข็ง',\n",
              " 'สะโพกหมูติดหนังตัดชิ้นแช่แข็ง ชิ้นละ\\nรหัสสินค้า 897242\\n90.00 ฿\\nราคาต่อชิ้น\\xa0 90.00 ฿': 'เนื้อหมูแช่แข็ง',\n",
              " 'สามชั้นหมูตัดชิ้นแช่แข็ง ชิ้นละ\\nรหัสสินค้า 897243\\n85.00 ฿\\nราคาต่อชิ้น\\xa0 85.00 ฿': 'เนื้อหมูแช่แข็ง',\n",
              " 'เล็ท แพล็น มีท เนื้อบดจากพืชแช่แข็ง 1000 กรัม\\nรหัสสินค้า 867275\\n295.00 ฿\\nราคาต่อชิ้น\\xa0 295.00 ฿': 'เนื้อหมูแช่แข็ง',\n",
              " 'ไก่ไข่แช่แข็ง ตัวละ\\nรหัสสินค้า 897245\\n65.00 ฿\\nราคาต่อชิ้น\\xa0 65.00 ฿': 'เนื้อไก่แช่แข็ง'}"
            ]
          },
          "metadata": {
            "tags": []
          },
          "execution_count": 193
        }
      ]
    },
    {
      "cell_type": "code",
      "metadata": {
        "colab": {
          "base_uri": "https://localhost:8080/"
        },
        "id": "sMenXdFSxMk0",
        "outputId": "5def968b-6861-4588-ae94-8eef29980667"
      },
      "source": [
        "product = []\n",
        "price = []\n",
        "sub_product_group2 = []\n",
        "\n",
        "for i in mapp:\n",
        "  print(i.replace('\\xa0','').split('\\n'),mapp[i],len(i.replace('\\xa0','').split('\\n')))\n",
        "  product.append(i.replace('\\xa0','').split('\\n')[0])\n",
        "  price.append(i.replace('\\xa0','').split('\\n')[3])\n",
        "  sub_product_group2.append(mapp[i])"
      ],
      "execution_count": 194,
      "outputs": [
        {
          "output_type": "stream",
          "text": [
            "['สามชั้นหมูตัดชิ้นแช่แข็ง ชิ้นละ', 'รหัสสินค้า 897243', '85.00 ฿', 'ราคาต่อชิ้น 85.00 ฿'] เนื้อหมูแช่แข็ง 4\n",
            "['สะโพกหมูติดหนังตัดชิ้นแช่แข็ง ชิ้นละ', 'รหัสสินค้า 897242', '90.00 ฿', 'ราคาต่อชิ้น 90.00 ฿'] เนื้อหมูแช่แข็ง 4\n",
            "['ชุดหมูสำหรับไหว้แช่แข็ง สะโพก-สามชั้น 1.4 กก.', 'รหัสสินค้า 897045', '239.00 ฿', 'ราคาต่อชิ้น 239.00 ฿'] เนื้อหมูแช่แข็ง 4\n",
            "['เล็ท แพล็น มีท เนื้อบดจากพืชแช่แข็ง 1000 กรัม', 'รหัสสินค้า 867275', '295.00 ฿', 'ราคาต่อชิ้น 295.00 ฿'] เนื้อหมูแช่แข็ง 4\n",
            "['ซีพี ขาหมูคากิพะโล้แช่แข็ง 2000 กรัม', 'รหัสสินค้า 869978', '309.00 ฿', 'ราคาต่อชิ้น 309.00 ฿'] เนื้อหมูหมักปรุงรสแช่แข็ง 4\n",
            "['ซีพี ขาหมูคากิพะโล้แช่แข็ง 2000 กรัม', 'รหัสสินค้า 897054', '309.00 ฿', 'ราคาต่อชิ้น 309.00 ฿'] เนื้อหมูหมักปรุงรสแช่แข็ง 4\n",
            "['ซีพี เนื้ออกไก่ล้วนบดแช่แข็ง 1 กิโลกรัม', 'รหัสสินค้า 820423', '69.00 ฿', 'ราคาต่อชิ้น 69.00 ฿'] เนื้อไก่แช่แข็ง 4\n",
            "['ซีพี ไก่ต้มแช่แข็ง 1300 กรัม', 'รหัสสินค้า 193117', '319.00 ฿', 'ราคาต่อชิ้น 319.00 ฿'] เนื้อไก่แช่แข็ง 4\n",
            "['ไก่ไข่แช่แข็ง ตัวละ', 'รหัสสินค้า 897245', '65.00 ฿', 'ราคาต่อชิ้น 65.00 ฿'] เนื้อไก่แช่แข็ง 4\n",
            "['ซีพี น่องติดสะโพกไก่แช่แข็ง 2 กก.', 'รหัสสินค้า 829225', '119.00 ฿', 'ราคาต่อชิ้น 119.00 ฿'] เนื้อไก่แช่แข็ง 4\n",
            "['คิทเช่นจอย ไก่ต้มน้ำปลาแช่แข็ง 890 กรัม', 'รหัสสินค้า 848902', '189.00 ฿', 'ราคาต่อชิ้น 189.00 ฿'] เนื้อไก่หมักปรุงรสแช่แข็ง 4\n",
            "['คิทเช่นจอย ไก่ต้มน้ำปลาแช่แข็ง 890 กรัม', 'รหัสสินค้า 897051', '189.00 ฿', 'ราคาต่อชิ้น 189.00 ฿'] เนื้อไก่หมักปรุงรสแช่แข็ง 4\n",
            "['ซีพี เป็ดย่างไหว้เจ้า พร้อมเครื่องในและน้ำจิ้ม 1.8 กก.', 'รหัสสินค้า 825165', '499.00 ฿', 'ราคาต่อชิ้น 499.00 ฿'] เนื้อเป็ดแช่แข็ง 4\n",
            "['ซีพี เนื้อเป็ดปรุงสุกแช่แข็ง 1000 กรัม', 'รหัสสินค้า 230043', '209.00 ฿', 'ราคาต่อชิ้น 209.00 ฿'] เนื้อเป็ดแช่แข็ง 4\n"
          ],
          "name": "stdout"
        }
      ]
    },
    {
      "cell_type": "code",
      "metadata": {
        "colab": {
          "base_uri": "https://localhost:8080/"
        },
        "id": "VNiIsjfG1Cfb",
        "outputId": "7fc42a8e-b3b6-4133-ff20-0c928a65c3f6"
      },
      "source": [
        "pricex = []\n",
        "unit = []\n",
        "for i in price:\n",
        "  print(i.split(' '))\n",
        "  pricex.append(i.split(' ')[1])\n",
        "  unit.append(i.split(' ')[0]+\"(\"+i.split(' ')[2]+\")\")"
      ],
      "execution_count": 195,
      "outputs": [
        {
          "output_type": "stream",
          "text": [
            "['ราคาต่อชิ้น', '85.00', '฿']\n",
            "['ราคาต่อชิ้น', '90.00', '฿']\n",
            "['ราคาต่อชิ้น', '239.00', '฿']\n",
            "['ราคาต่อชิ้น', '295.00', '฿']\n",
            "['ราคาต่อชิ้น', '309.00', '฿']\n",
            "['ราคาต่อชิ้น', '309.00', '฿']\n",
            "['ราคาต่อชิ้น', '69.00', '฿']\n",
            "['ราคาต่อชิ้น', '319.00', '฿']\n",
            "['ราคาต่อชิ้น', '65.00', '฿']\n",
            "['ราคาต่อชิ้น', '119.00', '฿']\n",
            "['ราคาต่อชิ้น', '189.00', '฿']\n",
            "['ราคาต่อชิ้น', '189.00', '฿']\n",
            "['ราคาต่อชิ้น', '499.00', '฿']\n",
            "['ราคาต่อชิ้น', '209.00', '฿']\n"
          ],
          "name": "stdout"
        }
      ]
    },
    {
      "cell_type": "code",
      "metadata": {
        "colab": {
          "base_uri": "https://localhost:8080/",
          "height": 483
        },
        "id": "8FmGXozx2wjg",
        "outputId": "9aa06a30-80db-4cd0-8c8b-6063b48b53e5"
      },
      "source": [
        "df2 = pd.DataFrame(list(zip(sub_product_group2, product, pricex, unit)),columns=['sub_product_group2', 'product', 'price', 'unit'])\n",
        "df2['price'] = pd.to_numeric(df2['price'],errors = 'coerce')\n",
        "df2"
      ],
      "execution_count": 196,
      "outputs": [
        {
          "output_type": "execute_result",
          "data": {
            "text/html": [
              "<div>\n",
              "<style scoped>\n",
              "    .dataframe tbody tr th:only-of-type {\n",
              "        vertical-align: middle;\n",
              "    }\n",
              "\n",
              "    .dataframe tbody tr th {\n",
              "        vertical-align: top;\n",
              "    }\n",
              "\n",
              "    .dataframe thead th {\n",
              "        text-align: right;\n",
              "    }\n",
              "</style>\n",
              "<table border=\"1\" class=\"dataframe\">\n",
              "  <thead>\n",
              "    <tr style=\"text-align: right;\">\n",
              "      <th></th>\n",
              "      <th>sub_product_group2</th>\n",
              "      <th>product</th>\n",
              "      <th>price</th>\n",
              "      <th>unit</th>\n",
              "    </tr>\n",
              "  </thead>\n",
              "  <tbody>\n",
              "    <tr>\n",
              "      <th>0</th>\n",
              "      <td>เนื้อหมูแช่แข็ง</td>\n",
              "      <td>สามชั้นหมูตัดชิ้นแช่แข็ง ชิ้นละ</td>\n",
              "      <td>85.0</td>\n",
              "      <td>ราคาต่อชิ้น(฿)</td>\n",
              "    </tr>\n",
              "    <tr>\n",
              "      <th>1</th>\n",
              "      <td>เนื้อหมูแช่แข็ง</td>\n",
              "      <td>สะโพกหมูติดหนังตัดชิ้นแช่แข็ง ชิ้นละ</td>\n",
              "      <td>90.0</td>\n",
              "      <td>ราคาต่อชิ้น(฿)</td>\n",
              "    </tr>\n",
              "    <tr>\n",
              "      <th>2</th>\n",
              "      <td>เนื้อหมูแช่แข็ง</td>\n",
              "      <td>ชุดหมูสำหรับไหว้แช่แข็ง สะโพก-สามชั้น 1.4 กก.</td>\n",
              "      <td>239.0</td>\n",
              "      <td>ราคาต่อชิ้น(฿)</td>\n",
              "    </tr>\n",
              "    <tr>\n",
              "      <th>3</th>\n",
              "      <td>เนื้อหมูแช่แข็ง</td>\n",
              "      <td>เล็ท แพล็น มีท เนื้อบดจากพืชแช่แข็ง 1000 กรัม</td>\n",
              "      <td>295.0</td>\n",
              "      <td>ราคาต่อชิ้น(฿)</td>\n",
              "    </tr>\n",
              "    <tr>\n",
              "      <th>4</th>\n",
              "      <td>เนื้อหมูหมักปรุงรสแช่แข็ง</td>\n",
              "      <td>ซีพี ขาหมูคากิพะโล้แช่แข็ง 2000 กรัม</td>\n",
              "      <td>309.0</td>\n",
              "      <td>ราคาต่อชิ้น(฿)</td>\n",
              "    </tr>\n",
              "    <tr>\n",
              "      <th>5</th>\n",
              "      <td>เนื้อหมูหมักปรุงรสแช่แข็ง</td>\n",
              "      <td>ซีพี ขาหมูคากิพะโล้แช่แข็ง 2000 กรัม</td>\n",
              "      <td>309.0</td>\n",
              "      <td>ราคาต่อชิ้น(฿)</td>\n",
              "    </tr>\n",
              "    <tr>\n",
              "      <th>6</th>\n",
              "      <td>เนื้อไก่แช่แข็ง</td>\n",
              "      <td>ซีพี เนื้ออกไก่ล้วนบดแช่แข็ง 1 กิโลกรัม</td>\n",
              "      <td>69.0</td>\n",
              "      <td>ราคาต่อชิ้น(฿)</td>\n",
              "    </tr>\n",
              "    <tr>\n",
              "      <th>7</th>\n",
              "      <td>เนื้อไก่แช่แข็ง</td>\n",
              "      <td>ซีพี ไก่ต้มแช่แข็ง 1300 กรัม</td>\n",
              "      <td>319.0</td>\n",
              "      <td>ราคาต่อชิ้น(฿)</td>\n",
              "    </tr>\n",
              "    <tr>\n",
              "      <th>8</th>\n",
              "      <td>เนื้อไก่แช่แข็ง</td>\n",
              "      <td>ไก่ไข่แช่แข็ง ตัวละ</td>\n",
              "      <td>65.0</td>\n",
              "      <td>ราคาต่อชิ้น(฿)</td>\n",
              "    </tr>\n",
              "    <tr>\n",
              "      <th>9</th>\n",
              "      <td>เนื้อไก่แช่แข็ง</td>\n",
              "      <td>ซีพี น่องติดสะโพกไก่แช่แข็ง 2 กก.</td>\n",
              "      <td>119.0</td>\n",
              "      <td>ราคาต่อชิ้น(฿)</td>\n",
              "    </tr>\n",
              "    <tr>\n",
              "      <th>10</th>\n",
              "      <td>เนื้อไก่หมักปรุงรสแช่แข็ง</td>\n",
              "      <td>คิทเช่นจอย ไก่ต้มน้ำปลาแช่แข็ง 890 กรัม</td>\n",
              "      <td>189.0</td>\n",
              "      <td>ราคาต่อชิ้น(฿)</td>\n",
              "    </tr>\n",
              "    <tr>\n",
              "      <th>11</th>\n",
              "      <td>เนื้อไก่หมักปรุงรสแช่แข็ง</td>\n",
              "      <td>คิทเช่นจอย ไก่ต้มน้ำปลาแช่แข็ง 890 กรัม</td>\n",
              "      <td>189.0</td>\n",
              "      <td>ราคาต่อชิ้น(฿)</td>\n",
              "    </tr>\n",
              "    <tr>\n",
              "      <th>12</th>\n",
              "      <td>เนื้อเป็ดแช่แข็ง</td>\n",
              "      <td>ซีพี เป็ดย่างไหว้เจ้า พร้อมเครื่องในและน้ำจิ้ม...</td>\n",
              "      <td>499.0</td>\n",
              "      <td>ราคาต่อชิ้น(฿)</td>\n",
              "    </tr>\n",
              "    <tr>\n",
              "      <th>13</th>\n",
              "      <td>เนื้อเป็ดแช่แข็ง</td>\n",
              "      <td>ซีพี เนื้อเป็ดปรุงสุกแช่แข็ง 1000 กรัม</td>\n",
              "      <td>209.0</td>\n",
              "      <td>ราคาต่อชิ้น(฿)</td>\n",
              "    </tr>\n",
              "  </tbody>\n",
              "</table>\n",
              "</div>"
            ],
            "text/plain": [
              "           sub_product_group2  ...            unit\n",
              "0             เนื้อหมูแช่แข็ง  ...  ราคาต่อชิ้น(฿)\n",
              "1             เนื้อหมูแช่แข็ง  ...  ราคาต่อชิ้น(฿)\n",
              "2             เนื้อหมูแช่แข็ง  ...  ราคาต่อชิ้น(฿)\n",
              "3             เนื้อหมูแช่แข็ง  ...  ราคาต่อชิ้น(฿)\n",
              "4   เนื้อหมูหมักปรุงรสแช่แข็ง  ...  ราคาต่อชิ้น(฿)\n",
              "5   เนื้อหมูหมักปรุงรสแช่แข็ง  ...  ราคาต่อชิ้น(฿)\n",
              "6             เนื้อไก่แช่แข็ง  ...  ราคาต่อชิ้น(฿)\n",
              "7             เนื้อไก่แช่แข็ง  ...  ราคาต่อชิ้น(฿)\n",
              "8             เนื้อไก่แช่แข็ง  ...  ราคาต่อชิ้น(฿)\n",
              "9             เนื้อไก่แช่แข็ง  ...  ราคาต่อชิ้น(฿)\n",
              "10  เนื้อไก่หมักปรุงรสแช่แข็ง  ...  ราคาต่อชิ้น(฿)\n",
              "11  เนื้อไก่หมักปรุงรสแช่แข็ง  ...  ราคาต่อชิ้น(฿)\n",
              "12           เนื้อเป็ดแช่แข็ง  ...  ราคาต่อชิ้น(฿)\n",
              "13           เนื้อเป็ดแช่แข็ง  ...  ราคาต่อชิ้น(฿)\n",
              "\n",
              "[14 rows x 4 columns]"
            ]
          },
          "metadata": {
            "tags": []
          },
          "execution_count": 196
        }
      ]
    },
    {
      "cell_type": "code",
      "metadata": {
        "colab": {
          "base_uri": "https://localhost:8080/",
          "height": 625
        },
        "id": "aNnoDAm53TgC",
        "outputId": "52d1fb55-7079-4546-ec97-c08200ad54e7"
      },
      "source": [
        "df3 = df2.merge(df, how='left',on='sub_product_group2')\n",
        "df3 = df3.drop(columns=['content']).drop_duplicates()\n",
        "df3['date'] = datetime.datetime.now().date()\n",
        "df3"
      ],
      "execution_count": 197,
      "outputs": [
        {
          "output_type": "execute_result",
          "data": {
            "text/html": [
              "<div>\n",
              "<style scoped>\n",
              "    .dataframe tbody tr th:only-of-type {\n",
              "        vertical-align: middle;\n",
              "    }\n",
              "\n",
              "    .dataframe tbody tr th {\n",
              "        vertical-align: top;\n",
              "    }\n",
              "\n",
              "    .dataframe thead th {\n",
              "        text-align: right;\n",
              "    }\n",
              "</style>\n",
              "<table border=\"1\" class=\"dataframe\">\n",
              "  <thead>\n",
              "    <tr style=\"text-align: right;\">\n",
              "      <th></th>\n",
              "      <th>sub_product_group2</th>\n",
              "      <th>product</th>\n",
              "      <th>price</th>\n",
              "      <th>unit</th>\n",
              "      <th>sub_product_group1</th>\n",
              "      <th>product_group</th>\n",
              "      <th>date</th>\n",
              "    </tr>\n",
              "  </thead>\n",
              "  <tbody>\n",
              "    <tr>\n",
              "      <th>0</th>\n",
              "      <td>เนื้อหมูแช่แข็ง</td>\n",
              "      <td>สามชั้นหมูตัดชิ้นแช่แข็ง ชิ้นละ</td>\n",
              "      <td>85.0</td>\n",
              "      <td>ราคาต่อชิ้น(฿)</td>\n",
              "      <td>เนื้อหมู</td>\n",
              "      <td>เนื้อสัตว์</td>\n",
              "      <td>2021-08-11</td>\n",
              "    </tr>\n",
              "    <tr>\n",
              "      <th>1</th>\n",
              "      <td>เนื้อหมูแช่แข็ง</td>\n",
              "      <td>สะโพกหมูติดหนังตัดชิ้นแช่แข็ง ชิ้นละ</td>\n",
              "      <td>90.0</td>\n",
              "      <td>ราคาต่อชิ้น(฿)</td>\n",
              "      <td>เนื้อหมู</td>\n",
              "      <td>เนื้อสัตว์</td>\n",
              "      <td>2021-08-11</td>\n",
              "    </tr>\n",
              "    <tr>\n",
              "      <th>2</th>\n",
              "      <td>เนื้อหมูแช่แข็ง</td>\n",
              "      <td>ชุดหมูสำหรับไหว้แช่แข็ง สะโพก-สามชั้น 1.4 กก.</td>\n",
              "      <td>239.0</td>\n",
              "      <td>ราคาต่อชิ้น(฿)</td>\n",
              "      <td>เนื้อหมู</td>\n",
              "      <td>เนื้อสัตว์</td>\n",
              "      <td>2021-08-11</td>\n",
              "    </tr>\n",
              "    <tr>\n",
              "      <th>3</th>\n",
              "      <td>เนื้อหมูแช่แข็ง</td>\n",
              "      <td>เล็ท แพล็น มีท เนื้อบดจากพืชแช่แข็ง 1000 กรัม</td>\n",
              "      <td>295.0</td>\n",
              "      <td>ราคาต่อชิ้น(฿)</td>\n",
              "      <td>เนื้อหมู</td>\n",
              "      <td>เนื้อสัตว์</td>\n",
              "      <td>2021-08-11</td>\n",
              "    </tr>\n",
              "    <tr>\n",
              "      <th>4</th>\n",
              "      <td>เนื้อหมูหมักปรุงรสแช่แข็ง</td>\n",
              "      <td>ซีพี ขาหมูคากิพะโล้แช่แข็ง 2000 กรัม</td>\n",
              "      <td>309.0</td>\n",
              "      <td>ราคาต่อชิ้น(฿)</td>\n",
              "      <td>เนื้อหมู</td>\n",
              "      <td>เนื้อสัตว์</td>\n",
              "      <td>2021-08-11</td>\n",
              "    </tr>\n",
              "    <tr>\n",
              "      <th>6</th>\n",
              "      <td>เนื้อไก่แช่แข็ง</td>\n",
              "      <td>ซีพี เนื้ออกไก่ล้วนบดแช่แข็ง 1 กิโลกรัม</td>\n",
              "      <td>69.0</td>\n",
              "      <td>ราคาต่อชิ้น(฿)</td>\n",
              "      <td>เนื้อไก่และสัตว์ปีก</td>\n",
              "      <td>เนื้อสัตว์</td>\n",
              "      <td>2021-08-11</td>\n",
              "    </tr>\n",
              "    <tr>\n",
              "      <th>7</th>\n",
              "      <td>เนื้อไก่แช่แข็ง</td>\n",
              "      <td>ซีพี ไก่ต้มแช่แข็ง 1300 กรัม</td>\n",
              "      <td>319.0</td>\n",
              "      <td>ราคาต่อชิ้น(฿)</td>\n",
              "      <td>เนื้อไก่และสัตว์ปีก</td>\n",
              "      <td>เนื้อสัตว์</td>\n",
              "      <td>2021-08-11</td>\n",
              "    </tr>\n",
              "    <tr>\n",
              "      <th>8</th>\n",
              "      <td>เนื้อไก่แช่แข็ง</td>\n",
              "      <td>ไก่ไข่แช่แข็ง ตัวละ</td>\n",
              "      <td>65.0</td>\n",
              "      <td>ราคาต่อชิ้น(฿)</td>\n",
              "      <td>เนื้อไก่และสัตว์ปีก</td>\n",
              "      <td>เนื้อสัตว์</td>\n",
              "      <td>2021-08-11</td>\n",
              "    </tr>\n",
              "    <tr>\n",
              "      <th>9</th>\n",
              "      <td>เนื้อไก่แช่แข็ง</td>\n",
              "      <td>ซีพี น่องติดสะโพกไก่แช่แข็ง 2 กก.</td>\n",
              "      <td>119.0</td>\n",
              "      <td>ราคาต่อชิ้น(฿)</td>\n",
              "      <td>เนื้อไก่และสัตว์ปีก</td>\n",
              "      <td>เนื้อสัตว์</td>\n",
              "      <td>2021-08-11</td>\n",
              "    </tr>\n",
              "    <tr>\n",
              "      <th>10</th>\n",
              "      <td>เนื้อไก่หมักปรุงรสแช่แข็ง</td>\n",
              "      <td>คิทเช่นจอย ไก่ต้มน้ำปลาแช่แข็ง 890 กรัม</td>\n",
              "      <td>189.0</td>\n",
              "      <td>ราคาต่อชิ้น(฿)</td>\n",
              "      <td>เนื้อไก่และสัตว์ปีก</td>\n",
              "      <td>เนื้อสัตว์</td>\n",
              "      <td>2021-08-11</td>\n",
              "    </tr>\n",
              "    <tr>\n",
              "      <th>12</th>\n",
              "      <td>เนื้อเป็ดแช่แข็ง</td>\n",
              "      <td>ซีพี เป็ดย่างไหว้เจ้า พร้อมเครื่องในและน้ำจิ้ม...</td>\n",
              "      <td>499.0</td>\n",
              "      <td>ราคาต่อชิ้น(฿)</td>\n",
              "      <td>เนื้อไก่และสัตว์ปีก</td>\n",
              "      <td>เนื้อสัตว์</td>\n",
              "      <td>2021-08-11</td>\n",
              "    </tr>\n",
              "    <tr>\n",
              "      <th>13</th>\n",
              "      <td>เนื้อเป็ดแช่แข็ง</td>\n",
              "      <td>ซีพี เนื้อเป็ดปรุงสุกแช่แข็ง 1000 กรัม</td>\n",
              "      <td>209.0</td>\n",
              "      <td>ราคาต่อชิ้น(฿)</td>\n",
              "      <td>เนื้อไก่และสัตว์ปีก</td>\n",
              "      <td>เนื้อสัตว์</td>\n",
              "      <td>2021-08-11</td>\n",
              "    </tr>\n",
              "  </tbody>\n",
              "</table>\n",
              "</div>"
            ],
            "text/plain": [
              "           sub_product_group2  ...        date\n",
              "0             เนื้อหมูแช่แข็ง  ...  2021-08-11\n",
              "1             เนื้อหมูแช่แข็ง  ...  2021-08-11\n",
              "2             เนื้อหมูแช่แข็ง  ...  2021-08-11\n",
              "3             เนื้อหมูแช่แข็ง  ...  2021-08-11\n",
              "4   เนื้อหมูหมักปรุงรสแช่แข็ง  ...  2021-08-11\n",
              "6             เนื้อไก่แช่แข็ง  ...  2021-08-11\n",
              "7             เนื้อไก่แช่แข็ง  ...  2021-08-11\n",
              "8             เนื้อไก่แช่แข็ง  ...  2021-08-11\n",
              "9             เนื้อไก่แช่แข็ง  ...  2021-08-11\n",
              "10  เนื้อไก่หมักปรุงรสแช่แข็ง  ...  2021-08-11\n",
              "12           เนื้อเป็ดแช่แข็ง  ...  2021-08-11\n",
              "13           เนื้อเป็ดแช่แข็ง  ...  2021-08-11\n",
              "\n",
              "[12 rows x 7 columns]"
            ]
          },
          "metadata": {
            "tags": []
          },
          "execution_count": 197
        }
      ]
    },
    {
      "cell_type": "code",
      "metadata": {
        "id": "2wzVdOjT59W9"
      },
      "source": [
        "as_date = list(df3['date'])\n",
        "day_name = []\n",
        "for i in as_date:\n",
        "    day_name.append(i.strftime(\"%A\"))\n",
        "    \n",
        "df3['datename'] = day_name\n",
        "\n",
        "df3['year'] = pd.to_datetime(df3[\"date\"]).dt.year\n",
        "df3['month'] = pd.to_datetime(df3[\"date\"]).dt.month\n",
        "\n",
        "df3['date'] = pd.to_datetime(df3[\"date\"])\n",
        "\n",
        "df3 = df3.replace({\"month\": m_ord2})\n",
        "\n",
        "df3['source'] = 'makroclick'"
      ],
      "execution_count": 198,
      "outputs": []
    },
    {
      "cell_type": "code",
      "metadata": {
        "colab": {
          "base_uri": "https://localhost:8080/",
          "height": 642
        },
        "id": "f3RJBtIr7b07",
        "outputId": "2588f494-f734-4f3c-9312-fc4ea8141528"
      },
      "source": [
        "butchery = df3.rename(columns={\"product_group\": \"sub source\", \"sub_product_group1\": \"sub source 1\", \"sub_product_group2\": \"sub source 2\"})\n",
        "butchery"
      ],
      "execution_count": 199,
      "outputs": [
        {
          "output_type": "execute_result",
          "data": {
            "text/html": [
              "<div>\n",
              "<style scoped>\n",
              "    .dataframe tbody tr th:only-of-type {\n",
              "        vertical-align: middle;\n",
              "    }\n",
              "\n",
              "    .dataframe tbody tr th {\n",
              "        vertical-align: top;\n",
              "    }\n",
              "\n",
              "    .dataframe thead th {\n",
              "        text-align: right;\n",
              "    }\n",
              "</style>\n",
              "<table border=\"1\" class=\"dataframe\">\n",
              "  <thead>\n",
              "    <tr style=\"text-align: right;\">\n",
              "      <th></th>\n",
              "      <th>sub source 2</th>\n",
              "      <th>product</th>\n",
              "      <th>price</th>\n",
              "      <th>unit</th>\n",
              "      <th>sub source 1</th>\n",
              "      <th>sub source</th>\n",
              "      <th>date</th>\n",
              "      <th>datename</th>\n",
              "      <th>year</th>\n",
              "      <th>month</th>\n",
              "      <th>source</th>\n",
              "    </tr>\n",
              "  </thead>\n",
              "  <tbody>\n",
              "    <tr>\n",
              "      <th>0</th>\n",
              "      <td>เนื้อหมูแช่แข็ง</td>\n",
              "      <td>สามชั้นหมูตัดชิ้นแช่แข็ง ชิ้นละ</td>\n",
              "      <td>85.0</td>\n",
              "      <td>ราคาต่อชิ้น(฿)</td>\n",
              "      <td>เนื้อหมู</td>\n",
              "      <td>เนื้อสัตว์</td>\n",
              "      <td>2021-08-11</td>\n",
              "      <td>Wednesday</td>\n",
              "      <td>2021</td>\n",
              "      <td>August</td>\n",
              "      <td>makroclick</td>\n",
              "    </tr>\n",
              "    <tr>\n",
              "      <th>1</th>\n",
              "      <td>เนื้อหมูแช่แข็ง</td>\n",
              "      <td>สะโพกหมูติดหนังตัดชิ้นแช่แข็ง ชิ้นละ</td>\n",
              "      <td>90.0</td>\n",
              "      <td>ราคาต่อชิ้น(฿)</td>\n",
              "      <td>เนื้อหมู</td>\n",
              "      <td>เนื้อสัตว์</td>\n",
              "      <td>2021-08-11</td>\n",
              "      <td>Wednesday</td>\n",
              "      <td>2021</td>\n",
              "      <td>August</td>\n",
              "      <td>makroclick</td>\n",
              "    </tr>\n",
              "    <tr>\n",
              "      <th>2</th>\n",
              "      <td>เนื้อหมูแช่แข็ง</td>\n",
              "      <td>ชุดหมูสำหรับไหว้แช่แข็ง สะโพก-สามชั้น 1.4 กก.</td>\n",
              "      <td>239.0</td>\n",
              "      <td>ราคาต่อชิ้น(฿)</td>\n",
              "      <td>เนื้อหมู</td>\n",
              "      <td>เนื้อสัตว์</td>\n",
              "      <td>2021-08-11</td>\n",
              "      <td>Wednesday</td>\n",
              "      <td>2021</td>\n",
              "      <td>August</td>\n",
              "      <td>makroclick</td>\n",
              "    </tr>\n",
              "    <tr>\n",
              "      <th>3</th>\n",
              "      <td>เนื้อหมูแช่แข็ง</td>\n",
              "      <td>เล็ท แพล็น มีท เนื้อบดจากพืชแช่แข็ง 1000 กรัม</td>\n",
              "      <td>295.0</td>\n",
              "      <td>ราคาต่อชิ้น(฿)</td>\n",
              "      <td>เนื้อหมู</td>\n",
              "      <td>เนื้อสัตว์</td>\n",
              "      <td>2021-08-11</td>\n",
              "      <td>Wednesday</td>\n",
              "      <td>2021</td>\n",
              "      <td>August</td>\n",
              "      <td>makroclick</td>\n",
              "    </tr>\n",
              "    <tr>\n",
              "      <th>4</th>\n",
              "      <td>เนื้อหมูหมักปรุงรสแช่แข็ง</td>\n",
              "      <td>ซีพี ขาหมูคากิพะโล้แช่แข็ง 2000 กรัม</td>\n",
              "      <td>309.0</td>\n",
              "      <td>ราคาต่อชิ้น(฿)</td>\n",
              "      <td>เนื้อหมู</td>\n",
              "      <td>เนื้อสัตว์</td>\n",
              "      <td>2021-08-11</td>\n",
              "      <td>Wednesday</td>\n",
              "      <td>2021</td>\n",
              "      <td>August</td>\n",
              "      <td>makroclick</td>\n",
              "    </tr>\n",
              "    <tr>\n",
              "      <th>6</th>\n",
              "      <td>เนื้อไก่แช่แข็ง</td>\n",
              "      <td>ซีพี เนื้ออกไก่ล้วนบดแช่แข็ง 1 กิโลกรัม</td>\n",
              "      <td>69.0</td>\n",
              "      <td>ราคาต่อชิ้น(฿)</td>\n",
              "      <td>เนื้อไก่และสัตว์ปีก</td>\n",
              "      <td>เนื้อสัตว์</td>\n",
              "      <td>2021-08-11</td>\n",
              "      <td>Wednesday</td>\n",
              "      <td>2021</td>\n",
              "      <td>August</td>\n",
              "      <td>makroclick</td>\n",
              "    </tr>\n",
              "    <tr>\n",
              "      <th>7</th>\n",
              "      <td>เนื้อไก่แช่แข็ง</td>\n",
              "      <td>ซีพี ไก่ต้มแช่แข็ง 1300 กรัม</td>\n",
              "      <td>319.0</td>\n",
              "      <td>ราคาต่อชิ้น(฿)</td>\n",
              "      <td>เนื้อไก่และสัตว์ปีก</td>\n",
              "      <td>เนื้อสัตว์</td>\n",
              "      <td>2021-08-11</td>\n",
              "      <td>Wednesday</td>\n",
              "      <td>2021</td>\n",
              "      <td>August</td>\n",
              "      <td>makroclick</td>\n",
              "    </tr>\n",
              "    <tr>\n",
              "      <th>8</th>\n",
              "      <td>เนื้อไก่แช่แข็ง</td>\n",
              "      <td>ไก่ไข่แช่แข็ง ตัวละ</td>\n",
              "      <td>65.0</td>\n",
              "      <td>ราคาต่อชิ้น(฿)</td>\n",
              "      <td>เนื้อไก่และสัตว์ปีก</td>\n",
              "      <td>เนื้อสัตว์</td>\n",
              "      <td>2021-08-11</td>\n",
              "      <td>Wednesday</td>\n",
              "      <td>2021</td>\n",
              "      <td>August</td>\n",
              "      <td>makroclick</td>\n",
              "    </tr>\n",
              "    <tr>\n",
              "      <th>9</th>\n",
              "      <td>เนื้อไก่แช่แข็ง</td>\n",
              "      <td>ซีพี น่องติดสะโพกไก่แช่แข็ง 2 กก.</td>\n",
              "      <td>119.0</td>\n",
              "      <td>ราคาต่อชิ้น(฿)</td>\n",
              "      <td>เนื้อไก่และสัตว์ปีก</td>\n",
              "      <td>เนื้อสัตว์</td>\n",
              "      <td>2021-08-11</td>\n",
              "      <td>Wednesday</td>\n",
              "      <td>2021</td>\n",
              "      <td>August</td>\n",
              "      <td>makroclick</td>\n",
              "    </tr>\n",
              "    <tr>\n",
              "      <th>10</th>\n",
              "      <td>เนื้อไก่หมักปรุงรสแช่แข็ง</td>\n",
              "      <td>คิทเช่นจอย ไก่ต้มน้ำปลาแช่แข็ง 890 กรัม</td>\n",
              "      <td>189.0</td>\n",
              "      <td>ราคาต่อชิ้น(฿)</td>\n",
              "      <td>เนื้อไก่และสัตว์ปีก</td>\n",
              "      <td>เนื้อสัตว์</td>\n",
              "      <td>2021-08-11</td>\n",
              "      <td>Wednesday</td>\n",
              "      <td>2021</td>\n",
              "      <td>August</td>\n",
              "      <td>makroclick</td>\n",
              "    </tr>\n",
              "    <tr>\n",
              "      <th>12</th>\n",
              "      <td>เนื้อเป็ดแช่แข็ง</td>\n",
              "      <td>ซีพี เป็ดย่างไหว้เจ้า พร้อมเครื่องในและน้ำจิ้ม...</td>\n",
              "      <td>499.0</td>\n",
              "      <td>ราคาต่อชิ้น(฿)</td>\n",
              "      <td>เนื้อไก่และสัตว์ปีก</td>\n",
              "      <td>เนื้อสัตว์</td>\n",
              "      <td>2021-08-11</td>\n",
              "      <td>Wednesday</td>\n",
              "      <td>2021</td>\n",
              "      <td>August</td>\n",
              "      <td>makroclick</td>\n",
              "    </tr>\n",
              "    <tr>\n",
              "      <th>13</th>\n",
              "      <td>เนื้อเป็ดแช่แข็ง</td>\n",
              "      <td>ซีพี เนื้อเป็ดปรุงสุกแช่แข็ง 1000 กรัม</td>\n",
              "      <td>209.0</td>\n",
              "      <td>ราคาต่อชิ้น(฿)</td>\n",
              "      <td>เนื้อไก่และสัตว์ปีก</td>\n",
              "      <td>เนื้อสัตว์</td>\n",
              "      <td>2021-08-11</td>\n",
              "      <td>Wednesday</td>\n",
              "      <td>2021</td>\n",
              "      <td>August</td>\n",
              "      <td>makroclick</td>\n",
              "    </tr>\n",
              "  </tbody>\n",
              "</table>\n",
              "</div>"
            ],
            "text/plain": [
              "                 sub source 2  ...      source\n",
              "0             เนื้อหมูแช่แข็ง  ...  makroclick\n",
              "1             เนื้อหมูแช่แข็ง  ...  makroclick\n",
              "2             เนื้อหมูแช่แข็ง  ...  makroclick\n",
              "3             เนื้อหมูแช่แข็ง  ...  makroclick\n",
              "4   เนื้อหมูหมักปรุงรสแช่แข็ง  ...  makroclick\n",
              "6             เนื้อไก่แช่แข็ง  ...  makroclick\n",
              "7             เนื้อไก่แช่แข็ง  ...  makroclick\n",
              "8             เนื้อไก่แช่แข็ง  ...  makroclick\n",
              "9             เนื้อไก่แช่แข็ง  ...  makroclick\n",
              "10  เนื้อไก่หมักปรุงรสแช่แข็ง  ...  makroclick\n",
              "12           เนื้อเป็ดแช่แข็ง  ...  makroclick\n",
              "13           เนื้อเป็ดแช่แข็ง  ...  makroclick\n",
              "\n",
              "[12 rows x 11 columns]"
            ]
          },
          "metadata": {
            "tags": []
          },
          "execution_count": 199
        }
      ]
    },
    {
      "cell_type": "markdown",
      "metadata": {
        "id": "c8kpStHj8xbo"
      },
      "source": [
        "# Makroclick Dairy"
      ]
    },
    {
      "cell_type": "code",
      "metadata": {
        "colab": {
          "base_uri": "https://localhost:8080/"
        },
        "id": "psyHoePRG4qK",
        "outputId": "6fba0e4d-3aea-460c-bea2-bc54f4c02a7a"
      },
      "source": [
        "url = \"https://www.makroclick.com/th/category/chilled-and-dairy-products\"\n",
        "\n",
        "driver.get(url)\n",
        "time.sleep(10)\n",
        "\n",
        "element = driver.find_element_by_xpath('//*[@id=\"subcategoryCarouselSM\"]/div[1]/div')\n",
        "\n",
        "link = element.get_attribute('innerHTML')\n",
        "\n",
        "link_list = []\n",
        "for i in link.split('category')[1:]:\n",
        "  link_list.append(\"https://www.makroclick.com/th/category\"+i.split('\"')[0])\n",
        "\n",
        "link_list"
      ],
      "execution_count": 200,
      "outputs": [
        {
          "output_type": "execute_result",
          "data": {
            "text/plain": [
              "['https://www.makroclick.com/th/category/chilled-and-dairy-products/eggs',\n",
              " 'https://www.makroclick.com/th/category',\n",
              " 'https://www.makroclick.com/th/categoryCarousel__Text1line-sc-1iqrhgx-0 gOllCP',\n",
              " 'https://www.makroclick.com/th/category/chilled-and-dairy-products/dairy-products',\n",
              " 'https://www.makroclick.com/th/category',\n",
              " 'https://www.makroclick.com/th/categoryCarousel__Text1line-sc-1iqrhgx-0 gOllCP']"
            ]
          },
          "metadata": {
            "tags": []
          },
          "execution_count": 200
        }
      ]
    },
    {
      "cell_type": "code",
      "metadata": {
        "id": "xpEB6g3OG9Xt"
      },
      "source": [
        "link_list_ = []\n",
        "for i in link_list:\n",
        "  if 'https://www.makroclick.com/th/category/chilled-and-dairy-products/' in i:\n",
        "    link_list_.append(i)"
      ],
      "execution_count": 201,
      "outputs": []
    },
    {
      "cell_type": "code",
      "metadata": {
        "colab": {
          "base_uri": "https://localhost:8080/"
        },
        "id": "_b066YujHH24",
        "outputId": "3f42c284-7a59-4f10-9c35-9d680e13a6cb"
      },
      "source": [
        "link_listx = []\n",
        "for i in link_list_:\n",
        "  driver.get(i)\n",
        "  time.sleep(10)\n",
        "\n",
        "  try:\n",
        "    element = driver.find_element_by_xpath('//*[@id=\"subcategoryCarouselSM\"]/div[1]')\n",
        "    link = element.get_attribute('innerHTML')\n",
        "    link = link.split('><')\n",
        "\n",
        "    for j in link:\n",
        "      if 'href' in j:\n",
        "        link_listx.append(\"https://www.makroclick.com/th/category\"+j.split('category')[1].split('\"')[0]+\"?page=\")\n",
        "  except:\n",
        "    pass\n",
        "\n",
        "link_listx"
      ],
      "execution_count": 202,
      "outputs": [
        {
          "output_type": "execute_result",
          "data": {
            "text/plain": [
              "['https://www.makroclick.com/th/category/chilled-and-dairy-products/eggs/chicken-egg?page=',\n",
              " 'https://www.makroclick.com/th/category/chilled-and-dairy-products/eggs/duck-egg-and-other-eggs?page=',\n",
              " 'https://www.makroclick.com/th/category/chilled-and-dairy-products/eggs/processed-egg?page=',\n",
              " 'https://www.makroclick.com/th/category/chilled-and-dairy-products/eggs/chilled-processed-egg?page=',\n",
              " 'https://www.makroclick.com/th/category/chilled-and-dairy-products/dairy-products/fresh-milk?page=',\n",
              " 'https://www.makroclick.com/th/category/chilled-and-dairy-products/dairy-products/yogurt?page=',\n",
              " 'https://www.makroclick.com/th/category/chilled-and-dairy-products/dairy-products/cream?page=',\n",
              " 'https://www.makroclick.com/th/category/chilled-and-dairy-products/dairy-products/cheese?page=',\n",
              " 'https://www.makroclick.com/th/category/chilled-and-dairy-products/dairy-products/butter?page=']"
            ]
          },
          "metadata": {
            "tags": []
          },
          "execution_count": 202
        }
      ]
    },
    {
      "cell_type": "code",
      "metadata": {
        "id": "Kf5zCOiGHL4h"
      },
      "source": [
        "title = []\n",
        "sub_title = []\n",
        "\n",
        "for i in link_listx:\n",
        "  driver.get(i+'1')\n",
        "  time.sleep(10)\n",
        "\n",
        "  #try:\n",
        "  element1 = driver.find_element_by_xpath('//*[@id=\"categoryContainer\"]/div[2]/div[2]/div[1]/div/div[1]')\n",
        "  title.append(element1.get_attribute('innerText'))\n",
        "\n",
        "  element2 = driver.find_element_by_xpath('//*[@id=\"categoryContainer\"]/div[2]/div[2]/div[1]/div/div[2]/div/h1')\n",
        "  sub_title.append(element2.get_attribute('innerText'))\n",
        "\n",
        "    #element3 = driver.find_element_by_xpath('//*[@id=\"scrollPaginatorTop\"]/div[2]')\n",
        "    #content.append(element3.get_attribute('innerText'))\n",
        "  #except:\n",
        "    #content.append('')"
      ],
      "execution_count": 203,
      "outputs": []
    },
    {
      "cell_type": "code",
      "metadata": {
        "colab": {
          "base_uri": "https://localhost:8080/"
        },
        "id": "OtEzyN6fHbNi",
        "outputId": "d5e36717-64d5-451f-ec27-cda87808004d"
      },
      "source": [
        "content = []\n",
        "\n",
        "x = 1\n",
        "\n",
        "for i in link_listx:\n",
        "  contentx = '\\n\\n'\n",
        "  while True:\n",
        "    try:\n",
        "      print(i+str(x)+'&sorting=SORTING_LAST_UPDATE&all=true')\n",
        "      driver.get(i+str(x)+'&sorting=SORTING_LAST_UPDATE&all=true')\n",
        "      time.sleep(10)\n",
        "\n",
        "  #try:\n",
        "\n",
        "      element3 = driver.find_element_by_xpath('//*[@id=\"scrollPaginatorTop\"]/div[2]')\n",
        "      print(element3.get_attribute('innerText'))\n",
        "      contentx = contentx+element3.get_attribute('innerText')+'\\n\\n'\n",
        "      x = x+1\n",
        "    except:\n",
        "      x = 1\n",
        "      break\n",
        "    \n",
        "  #except:\n",
        "    #content.append('')\n",
        "  content.append(contentx)"
      ],
      "execution_count": 204,
      "outputs": [
        {
          "output_type": "stream",
          "text": [
            "https://www.makroclick.com/th/category/chilled-and-dairy-products/eggs/chicken-egg?page=1&sorting=SORTING_LAST_UPDATE&all=true\n",
            "ไข่ไก่คละ เบอร์ 3-4 มีฝา x 30 ฟอง\n",
            "รหัสสินค้า 863734\n",
            "105.00 ฿\n",
            "ราคาต่อชิ้น  3.50 ฿\n",
            "\n",
            "เอโร่ ไข่ไก่ เบอร์ 3 มีฝา x 30 ฟอง\n",
            "รหัสสินค้า 864156\n",
            "108.00 ฿\n",
            "ราคาต่อชิ้น  3.60 ฿\n",
            "\n",
            "ไข่ไก่ มีฝา เบอร์ 4 x 30 ฟอง\n",
            "รหัสสินค้า 200228\n",
            "102.00 ฿\n",
            "ราคาต่อชิ้น  3.40 ฿\n",
            "\n",
            "ไข่ไก่ มีฝา เบอร์ 2 x 30 ฟอง\n",
            "รหัสสินค้า 80652\n",
            "113.00 ฿\n",
            "ราคาต่อชิ้น  3.77 ฿\n",
            "\n",
            "ไข่ไก่ เบอร์ 3 มีฝา x 30 ฟอง\n",
            "รหัสสินค้า 802281\n",
            "108.00 ฿\n",
            "ราคาต่อชิ้น  3.60 ฿\n",
            "\n",
            "ไข่ไก่ เบอร์ 5 ไม่มีฝา 30 ฟอง x 4 แผง\n",
            "รหัสสินค้า 185599\n",
            "376.00 ฿\n",
            "ราคาต่อชิ้น  376.00 ฿\n",
            "\n",
            "เอโร่ ไข่ไก่ เบอร์ 2 มีฝา x 30 ฟอง\n",
            "รหัสสินค้า 198368\n",
            "112.00 ฿\n",
            "ราคาต่อชิ้น  112.00 ฿\n",
            "\n",
            "ไข่ไก่ เบอร์ 4 ไม่มีฝา 30 ฟอง x 4 แผง\n",
            "รหัสสินค้า 83785\n",
            "408.00 ฿\n",
            "ราคาต่อชิ้น  408.00 ฿\n",
            "\n",
            "ไข่ไก่ เบอร์ 2 ไม่มีฝา 30 ฟอง x 5 แผง\n",
            "รหัสสินค้า 79716\n",
            "550.00 ฿\n",
            "ราคาต่อชิ้น  550.00 ฿\n",
            "\n",
            "ไข่ไก่ เบอร์ 3 ไม่มีฝา 30 ฟอง x 5 แผง\n",
            "รหัสสินค้า 152192\n",
            "535.00 ฿\n",
            "ราคาต่อชิ้น  535.00 ฿\n",
            "\n",
            "เคซีเอฟ ไข่ไก่ เบอร์ 3 x 10 ฟอง\n",
            "รหัสสินค้า 122148\n",
            "40.00 ฿\n",
            "ราคาต่อชิ้น  40.00 ฿\n",
            "\n",
            "เคซีเอฟ ไข่ไก่ เบอร์ 2 x 10 ฟอง\n",
            "รหัสสินค้า 122138\n",
            "42.00 ฿\n",
            "ราคาต่อชิ้น  42.00 ฿\n",
            "\n",
            "เคซีเอฟ ไข่ไก่ เบอร์ 1 x 10 ฟอง\n",
            "รหัสสินค้า 122132\n",
            "44.00 ฿\n",
            "ราคาต่อชิ้น  44.00 ฿\n",
            "\n",
            "เคซีเอฟ ไข่ไก่จัมโบ้ เบอร์ 0 x 10 ฟอง\n",
            "รหัสสินค้า 122128\n",
            "49.00 ฿\n",
            "ราคาต่อชิ้น  4.90 ฿\n",
            "\n",
            "ซีพี ไข่ไก่ เบอร์ 2 มีฝา x 30 ฟอง\n",
            "รหัสสินค้า 145021\n",
            "127.00 ฿\n",
            "ราคาต่อชิ้น  4.23 ฿\n",
            "\n",
            "ซีพี ไข่ไก่ เบอร์ 3 มีฝา x 30 ฟอง\n",
            "รหัสสินค้า 145038\n",
            "125.00 ฿\n",
            "ราคาต่อชิ้น  125.00 ฿\n",
            "\n",
            "ไข่ไก่ เบอร์ 0 มีฝา x 30 ฟอง\n",
            "รหัสสินค้า 172158\n",
            "142.00 ฿\n",
            "ราคาต่อชิ้น  142.00 ฿\n",
            "\n",
            "ไข่ไก่ เบอร์ 1 มีฝา x 30 ฟอง\n",
            "รหัสสินค้า 172157\n",
            "124.00 ฿\n",
            "ราคาต่อชิ้น  124.00 ฿\n",
            "\n",
            "ไข่ไก่ เบอร์ 1 ไม่มีฝา 30 ฟอง x 3 ถาด\n",
            "รหัสสินค้า 146760\n",
            "360.00 ฿\n",
            "ราคาต่อชิ้น  120.00 ฿\n",
            "\n",
            "เอโร่ ไข่ไก่ เบอร์ 2 x 10 ฟอง\n",
            "รหัสสินค้า 812398\n",
            "44.00 ฿\n",
            "ราคาต่อชิ้น  4.40 ฿\n",
            "\n",
            "เอโร่ ไข่ไก่ เบอร์ 3 x 10 ฟอง\n",
            "รหัสสินค้า 812401\n",
            "42.00 ฿\n",
            "ราคาต่อชิ้น  42.00 ฿\n",
            "\n",
            "ซีพี ไข่ไก่โอเมก้า x 10 ฟอง\n",
            "รหัสสินค้า 143648\n",
            "60.00 ฿\n",
            "ราคาต่อชิ้น  60.00 ฿\n",
            "\n",
            "เคซีเอฟ ไข่ไก่สด x 10 ฟอง\n",
            "รหัสสินค้า 861403\n",
            "52.00 ฿\n",
            "ราคาต่อชิ้น  5.20 ฿\n",
            "\n",
            "ไข่ไก่สดออร์แกนิค x 10 ฟอง\n",
            "รหัสสินค้า 869215\n",
            "78.00 ฿\n",
            "ราคาต่อชิ้น  7.80 ฿\n",
            "\n",
            "เคซีเอฟ ไข่ไก่สด เคจฟรี x 10 ฟอง\n",
            "รหัสสินค้า 891199\n",
            "58.00 ฿\n",
            "ราคาต่อชิ้น  5.80 ฿\n",
            "\n",
            "ซีพี ไข่ไก่ เบอร์ 3 x 10 ฟอง\n",
            "รหัสสินค้า 134606\n",
            "51.00 ฿\n",
            "ราคาต่อชิ้น  5.10 ฿\n",
            "\n",
            "ซีพี ไข่ไก่สดปลอดสาร x 10 ฟอง\n",
            "รหัสสินค้า 853645\n",
            "72.00 ฿\n",
            "ราคาต่อชิ้น  7.20 ฿\n",
            "\n",
            "ซีพี ไข่ไก่ เบอร์ 2 x 10 ฟอง\n",
            "รหัสสินค้า 134590\n",
            "54.00 ฿\n",
            "ราคาต่อชิ้น  5.40 ฿\n",
            "\n",
            "เอโร่ ไข่ไก่ เบอร์ 2 x 15 ฟอง\n",
            "รหัสสินค้า 198445\n",
            "68.00 ฿\n",
            "ราคาต่อชิ้น  4.53 ฿\n",
            "\n",
            "ซีพี ไข่ไก่ เบอร์ 1 x 10 ฟอง\n",
            "รหัสสินค้า 134598\n",
            "57.00 ฿\n",
            "ราคาต่อชิ้น  5.70 ฿\n",
            "\n",
            "เอโร่ ไข่ไก่ เบอร์ 1 x 15 ฟอง\n",
            "รหัสสินค้า 198419\n",
            "69.00 ฿\n",
            "ราคาต่อชิ้น  4.60 ฿\n",
            "\n",
            "ซีพี ไข่ไก่ เบอร์ 0 x 10 ฟอง\n",
            "รหัสสินค้า 178789\n",
            "69.00 ฿\n",
            "ราคาต่อชิ้น  6.90 ฿\n",
            "https://www.makroclick.com/th/category/chilled-and-dairy-products/eggs/chicken-egg?page=2&sorting=SORTING_LAST_UPDATE&all=true\n",
            "เอโร่ ไข่ไก่ เบอร์ 0 x 10 ฟอง\n",
            "รหัสสินค้า 812399\n",
            "53.00 ฿\n",
            "ราคาต่อชิ้น  5.30 ฿\n",
            "\n",
            "เอโร่ ไข่ไก่ เบอร์ 1 x 10 ฟอง\n",
            "รหัสสินค้า 812402\n",
            "48.00 ฿\n",
            "ราคาต่อชิ้น  4.80 ฿\n",
            "\n",
            "เอโร่ ไข่ไก่ เบอร์ 4 x 10 ฟอง\n",
            "รหัสสินค้า 812400\n",
            "40.00 ฿\n",
            "ราคาต่อชิ้น  4.00 ฿\n",
            "https://www.makroclick.com/th/category/chilled-and-dairy-products/eggs/chicken-egg?page=3&sorting=SORTING_LAST_UPDATE&all=true\n",
            "https://www.makroclick.com/th/category/chilled-and-dairy-products/eggs/duck-egg-and-other-eggs?page=1&sorting=SORTING_LAST_UPDATE&all=true\n",
            "เอโร่ ไข่เป็ด เบอร์ 1 มีฝา x 20 ฟอง\n",
            "รหัสสินค้า 122314\n",
            "88.00 ฿\n",
            "ราคาต่อชิ้น  88.00 ฿\n",
            "\n",
            "เคซีเอฟ ไข่เป็ด เบอร์ 1 x 6 ฟอง\n",
            "รหัสสินค้า 122151\n",
            "36.00 ฿\n",
            "ราคาต่อชิ้น  6.00 ฿\n",
            "\n",
            "เอโร่ ไข่นกกระทา x 30 ฟอง\n",
            "รหัสสินค้า 817005\n",
            "33.00 ฿\n",
            "ราคาต่อชิ้น  1.10 ฿\n",
            "\n",
            "เอโร่ ไข่นกกระทา x 100 ฟอง\n",
            "รหัสสินค้า 817007\n",
            "95.00 ฿\n",
            "ราคาต่อชิ้น  0.95 ฿\n",
            "\n",
            "เอโร่ ไข่นกกระทา x 50 ฟอง\n",
            "รหัสสินค้า 817006\n",
            "49.00 ฿\n",
            "ราคาต่อชิ้น  0.98 ฿\n",
            "https://www.makroclick.com/th/category/chilled-and-dairy-products/eggs/duck-egg-and-other-eggs?page=2&sorting=SORTING_LAST_UPDATE&all=true\n",
            "https://www.makroclick.com/th/category/chilled-and-dairy-products/eggs/processed-egg?page=1&sorting=SORTING_LAST_UPDATE&all=true\n",
            "ไข่ไก่ต้มสุกพร้อมไหว้ x 4 ฟอง\n",
            "รหัสสินค้า 897029\n",
            "39.00 ฿\n",
            "ราคาต่อชิ้น  9.75 ฿\n",
            "\n",
            "เอโร่ ไข่เค็มต้ม x 30 ฟอง\n",
            "รหัสสินค้า 817124\n",
            "180.00 ฿\n",
            "ราคาต่อชิ้น  180.00 ฿\n",
            "\n",
            "เคซีเอฟ ไข่ไก่ต้มสุก ปอกเปลือก x 20 ฟอง\n",
            "รหัสสินค้า 188488\n",
            "92.00 ฿\n",
            "ราคาต่อชิ้น  4.60 ฿\n",
            "\n",
            "เอโร่ ไข่เยี่ยวม้า x 6 ฟอง\n",
            "รหัสสินค้า 860006\n",
            "42.00 ฿\n",
            "ราคาต่อชิ้น  7.00 ฿\n",
            "\n",
            "เอโร่ ไข่เยี่ยวม้า x 20 ฟอง\n",
            "รหัสสินค้า 122322\n",
            "135.00 ฿\n",
            "ราคาต่อชิ้น  135.00 ฿\n",
            "\n",
            "เคซีเอฟ ไข่เค็มดิบ x 10 ฟอง\n",
            "รหัสสินค้า 122166\n",
            "100.00 ฿\n",
            "ราคาต่อชิ้น  10.00 ฿\n",
            "\n",
            "พันธ์ศักดิ์ ไข่เยี่ยวม้า x 6 ฟอง\n",
            "รหัสสินค้า 863821\n",
            "62.00 ฿\n",
            "ราคาต่อชิ้น  10.33 ฿\n",
            "\n",
            "เคซีเอฟ ไข่พะโล้ x 30 ฟอง ยกลัง\n",
            "รหัสสินค้า 869418\n",
            "210.00 ฿\n",
            "ราคาต่อชิ้น  7.00 ฿\n",
            "\n",
            "พันธ์ศักดิ์ ไข่เค็มต้ม x 6 ฟอง\n",
            "รหัสสินค้า 863823\n",
            "55.00 ฿\n",
            "ราคาต่อชิ้น  9.17 ฿\n",
            "\n",
            "เจ้ควิก ไข่เค็มดิบไชยา x 10 ฟอง\n",
            "รหัสสินค้า 786162\n",
            "89.00 ฿\n",
            "ราคาต่อชิ้น  8.90 ฿\n",
            "\n",
            "เอโร่ ไข่เค็มต้ม x 20 ฟอง\n",
            "รหัสสินค้า 122324\n",
            "129.00 ฿\n",
            "ราคาต่อชิ้น  129.00 ฿\n",
            "\n",
            "เอโร่ ไข่เยี่ยวม้า 30 ฟอง\n",
            "รหัสสินค้า 817122\n",
            "185.00 ฿\n",
            "ราคาต่อชิ้น  185.00 ฿\n",
            "\n",
            "มิสสะอาด ไข่เยี่ยวม้า x 4 ฟอง\n",
            "รหัสสินค้า 122768\n",
            "45.00 ฿\n",
            "ราคาต่อชิ้น  11.25 ฿\n",
            "\n",
            "เคซีเอฟ ไข่เค็มต้มบางเลน x 50 ฟอง\n",
            "รหัสสินค้า 867959\n",
            "369.00 ฿\n",
            "ราคาต่อชิ้น  7.38 ฿\n",
            "\n",
            "ชยาทิต ไข่เค็มดิบ แพ็คละ 5 ฟอง\n",
            "รหัสสินค้า 260260\n",
            "52.00 ฿\n",
            "ราคาต่อชิ้น  52.00 ฿\n",
            "\n",
            "เคซีเอฟ ไข่เค็มต้ม x 6 ฟอง\n",
            "รหัสสินค้า 122156\n",
            "53.00 ฿\n",
            "ราคาต่อชิ้น  8.83 ฿\n",
            "\n",
            "เจ้ควิก ไข่เค็มไชยา x 6 ฟอง\n",
            "รหัสสินค้า 307697\n",
            "56.00 ฿\n",
            "ราคาต่อชิ้น  9.33 ฿\n",
            "\n",
            "มิสสะอาด ไข่เค็มดิบไชยา x 10 ฟอง\n",
            "รหัสสินค้า 122769\n",
            "99.00 ฿\n",
            "ราคาต่อชิ้น  9.90 ฿\n",
            "\n",
            "เคซีเอฟ ไข่เค็มต้ม แพ็คละ 4 ฟอง\n",
            "รหัสสินค้า 122155\n",
            "40.00 ฿\n",
            "ราคาต่อชิ้น  40.00 ฿\n",
            "\n",
            "เอโร่ ไข่เยี่ยวม้า กล่องละ 50 ฟอง\n",
            "รหัสสินค้า 122321\n",
            "323.00 ฿\n",
            "ราคาต่อชิ้น  6.46 ฿\n",
            "\n",
            "เอโร่ ไข่เค็มต้ม x 50 ฟอง\n",
            "รหัสสินค้า 122325\n",
            "318.00 ฿\n",
            "ราคาต่อชิ้น  318.00 ฿\n",
            "\n",
            "มิสสะอาด ไข่เค็มต้มสุก x 4 ฟอง\n",
            "รหัสสินค้า 145174\n",
            "40.00 ฿\n",
            "ราคาต่อชิ้น  10.00 ฿\n",
            "\n",
            "เจ้ควิก ไข่เยี่ยวม้า x 4 ฟอง\n",
            "รหัสสินค้า 308074\n",
            "46.00 ฿\n",
            "ราคาต่อชิ้น  11.50 ฿\n",
            "https://www.makroclick.com/th/category/chilled-and-dairy-products/eggs/processed-egg?page=2&sorting=SORTING_LAST_UPDATE&all=true\n",
            "https://www.makroclick.com/th/category/chilled-and-dairy-products/eggs/chilled-processed-egg?page=1&sorting=SORTING_LAST_UPDATE&all=true\n",
            "https://www.makroclick.com/th/category/chilled-and-dairy-products/dairy-products/fresh-milk?page=1&sorting=SORTING_LAST_UPDATE&all=true\n",
            "เมจิ นมพาสเจอร์ไรส์ ปราศจากน้ำตาลแลคโตส ไขมัน 0% 2000 มล.\n",
            "รหัสสินค้า 894300\n",
            "\n",
            "154.00 ฿\n",
            "\n",
            "-16%\n",
            "\n",
            "129.00 ฿\n",
            "ราคาต่อชิ้น  129.00 ฿\n",
            "\n",
            "เมจิ นมพาสเจอร์ไรส์ ปราศจากน้ำตาลแลคโตส ไขมัน 0% 830 มล.\n",
            "รหัสสินค้า 894302\n",
            "\n",
            "65.00 ฿\n",
            "\n",
            "-9%\n",
            "\n",
            "59.00 ฿\n",
            "ราคาต่อชิ้น  59.00 ฿\n",
            "\n",
            "แมกโนเลีย นมสดพาสเจอร์ไรซ์ 2 ลิตร\n",
            "รหัสสินค้า 236088\n",
            "\n",
            "90.00 ฿\n",
            "\n",
            "-5%\n",
            "\n",
            "85.00 ฿\n",
            "ราคาต่อชิ้น  85.00 ฿\n",
            "\n",
            "แมกโนเลีย นมพาสเจอไรซ์ 5 ลิตร\n",
            "รหัสสินค้า 36790\n",
            "\n",
            "203.00 ฿\n",
            "\n",
            "-3%\n",
            "\n",
            "195.00 ฿\n",
            "ราคาต่อชิ้น  195.00 ฿\n",
            "\n",
            "แมกโนเลีย พลัส นมแลคโตสฟรี รสวานิลลาไวท์ช็อกโกแลต 946 มล.\n",
            "รหัสสินค้า 846010\n",
            "\n",
            "85.00 ฿\n",
            "\n",
            "-7%\n",
            "\n",
            "79.00 ฿\n",
            "ราคาต่อชิ้น  79.00 ฿\n",
            "\n",
            "แมกโนเลีย พลัส นมแลคโตสฟรี พาสเจอร์ไรส์ รสโกโก้ 946 มล.\n",
            "รหัสสินค้า 846012\n",
            "\n",
            "85.00 ฿\n",
            "\n",
            "-7%\n",
            "\n",
            "79.00 ฿\n",
            "ราคาต่อชิ้น  79.00 ฿\n",
            "\n",
            "แมกโนเลีย พลัส นมแลคโตสฟรี รสจืด 946 มล.\n",
            "รหัสสินค้า 846008\n",
            "\n",
            "72.00 ฿\n",
            "\n",
            "-2%\n",
            "\n",
            "70.00 ฿\n",
            "ราคาต่อชิ้น  70.00 ฿\n",
            "\n",
            "แมกโนเลีย นมบาริสต้า 946 มล.\n",
            "รหัสสินค้า 200253\n",
            "\n",
            "47.00 ฿\n",
            "\n",
            "-4%\n",
            "\n",
            "45.00 ฿\n",
            "ราคาต่อชิ้น  45.00 ฿\n",
            "\n",
            "ดัชมิลล์ นมรสจืด 830 มล. x 2 ขวด\n",
            "รหัสสินค้า 625235\n",
            "\n",
            "89.00 ฿\n",
            "\n",
            "-6%\n",
            "\n",
            "83.00 ฿\n",
            "ราคาต่อชิ้น  41.50 ฿\n",
            "\n",
            "ดัชมิลล์ นมพาสเจอร์ไรซ์ พร่องมันเนย รสจืด 830 มล.\n",
            "รหัสสินค้า 870974\n",
            "\n",
            "45.00 ฿\n",
            "\n",
            "-6%\n",
            "\n",
            "42.00 ฿\n",
            "ราคาต่อชิ้น  42.00 ฿\n",
            "\n",
            "ดัชมิลล์ นมสดพาสเจอไรซ์ รสจืด 400 มล.\n",
            "รหัสสินค้า 818753\n",
            "24.00 ฿\n",
            "ราคาต่อชิ้น  24.00 ฿\n",
            "\n",
            "ดัชมิลล์ นมสดพาสเจอร์ไรซ์ รสจืด 830 มล.\n",
            "รหัสสินค้า 32357\n",
            "\n",
            "45.00 ฿\n",
            "\n",
            "-6%\n",
            "\n",
            "42.00 ฿\n",
            "ราคาต่อชิ้น  42.00 ฿\n",
            "\n",
            "ดัชมิลล์ นมพาสเจอไรซ์ รสไวท์มอลต์ 400 มล.\n",
            "รหัสสินค้า 821332\n",
            "24.00 ฿\n",
            "ราคาต่อชิ้น  24.00 ฿\n",
            "\n",
            "ดัชมิลล์ นมสดพาสเจอไรซ์ ขาดมันเนย รสจืด 400 มล.\n",
            "รหัสสินค้า 818751\n",
            "24.00 ฿\n",
            "ราคาต่อชิ้น  24.00 ฿\n",
            "\n",
            "เมจิ นมสดพร่องมันเนย ไขมันต่ำ 830 มล.\n",
            "รหัสสินค้า 495976\n",
            "45.50 ฿\n",
            "ราคาต่อชิ้น  45.50 ฿\n",
            "\n",
            "เมจิ นมสดพาสเจอร์ไรซ์ รสจืด 830 มล.\n",
            "รหัสสินค้า 125346\n",
            "45.50 ฿\n",
            "ราคาต่อชิ้น  45.50 ฿\n",
            "\n",
            "เมจิ นมสดพาสเจอร์ไรซ์ ขาดมันเนย 830 มล.\n",
            "รหัสสินค้า 433056\n",
            "45.50 ฿\n",
            "ราคาต่อชิ้น  45.50 ฿\n",
            "\n",
            "ดัชมิลล์ นมสดพร่องมันเนย รสจืด 2000 มล.\n",
            "รหัสสินค้า 107753\n",
            "\n",
            "91.00 ฿\n",
            "\n",
            "-8%\n",
            "\n",
            "83.00 ฿\n",
            "ราคาต่อชิ้น  83.00 ฿\n",
            "\n",
            "ดัชมิลล์ นมสด รสจืด 2000 มล.\n",
            "รหัสสินค้า 107695\n",
            "\n",
            "91.00 ฿\n",
            "\n",
            "-8%\n",
            "\n",
            "83.00 ฿\n",
            "ราคาต่อชิ้น  83.00 ฿\n",
            "\n",
            "เมจิ นมพาสเจอร์ไรส์ รสจืด 830 มล. x 2 ขวด\n",
            "รหัสสินค้า 134950\n",
            "\n",
            "89.00 ฿\n",
            "\n",
            "-8%\n",
            "\n",
            "81.00 ฿\n",
            "ราคาต่อชิ้น  40.50 ฿\n",
            "\n",
            "เมจิ นมบาริสต้าพาสเจอร์ไรซ์ 2000 มล.\n",
            "รหัสสินค้า 853516\n",
            "99.00 ฿\n",
            "ราคาต่อชิ้น  99.00 ฿\n",
            "\n",
            "เมจิ นมโคปราศจากน้ำตาลแลคโตส 2000 มล.\n",
            "รหัสสินค้า 840963\n",
            "\n",
            "154.00 ฿\n",
            "\n",
            "-16%\n",
            "\n",
            "129.00 ฿\n",
            "ราคาต่อชิ้น  129.00 ฿\n",
            "\n",
            "ดัชมิลล์ นมสดพาสเจอร์ไรซ์ 5 ลิตร\n",
            "รหัสสินค้า 213941\n",
            "\n",
            "205.00 ฿\n",
            "\n",
            "-5%\n",
            "\n",
            "193.00 ฿\n",
            "ราคาต่อชิ้น  193.00 ฿\n",
            "\n",
            "เมจิ นมสด รสจืด 946 มล.\n",
            "รหัสสินค้า 130712\n",
            "\n",
            "47.00 ฿\n",
            "\n",
            "-4%\n",
            "\n",
            "45.00 ฿\n",
            "ราคาต่อชิ้น  45.00 ฿\n",
            "\n",
            "เมจิ นมพาสเจอร์ไรซ์ รสกาแฟ 830 มล.\n",
            "รหัสสินค้า 434083\n",
            "46.00 ฿\n",
            "ราคาต่อชิ้น  46.00 ฿\n",
            "\n",
            "เมจิ นมพาสเจอร์ไรซ์ รสช็อกโกแลต 830 มล.\n",
            "รหัสสินค้า 298142\n",
            "46.00 ฿\n",
            "ราคาต่อชิ้น  46.00 ฿\n",
            "\n",
            "เมจิ นมปราศจากน้ำตาลแลคโตส 830 มล.\n",
            "รหัสสินค้า 834709\n",
            "\n",
            "65.00 ฿\n",
            "\n",
            "-9%\n",
            "\n",
            "59.00 ฿\n",
            "ราคาต่อชิ้น  59.00 ฿\n",
            "\n",
            "เมจิ นมพาสเจอร์ไรซ์ รสสตรอว์เบอร์รี 830 มล.\n",
            "รหัสสินค้า 298363\n",
            "46.00 ฿\n",
            "ราคาต่อชิ้น  46.00 ฿\n",
            "\n",
            "แมกโนเลีย นมพาสเจอร์ไรซ์ รสช็อกโกแลตมอลต์ 800 มล.\n",
            "รหัสสินค้า 175830\n",
            "\n",
            "45.00 ฿\n",
            "\n",
            "-6%\n",
            "\n",
            "42.00 ฿\n",
            "ราคาต่อชิ้น  42.00 ฿\n",
            "\n",
            "เมจิ นมสดพาสเจอร์ไรซ์ รสจืด 5000 มล.\n",
            "รหัสสินค้า 123929\n",
            "205.00 ฿\n",
            "ราคาต่อชิ้น  205.00 ฿\n",
            "\n",
            "เมจิ นมแลคโตสฟรี พาสเจอร์ไรส์ รสดาร์คช็อกโกแลต 830 มล.\n",
            "รหัสสินค้า 847158\n",
            "\n",
            "65.00 ฿\n",
            "\n",
            "-9%\n",
            "\n",
            "59.00 ฿\n",
            "ราคาต่อชิ้น  59.00 ฿\n",
            "\n",
            "เมจิโกลด์ นมพาสเจอไรซ์ มันเนย 4.3% 946 มล.\n",
            "รหัสสินค้า 269724\n",
            "\n",
            "59.00 ฿\n",
            "\n",
            "-6%\n",
            "\n",
            "55.00 ฿\n",
            "ราคาต่อชิ้น  55.00 ฿\n",
            "https://www.makroclick.com/th/category/chilled-and-dairy-products/dairy-products/fresh-milk?page=2&sorting=SORTING_LAST_UPDATE&all=true\n",
            "เมจิ นมพาสเจอร์ไรซ์ รสช็อกโกแลต 2000 มล.\n",
            "รหัสสินค้า 132866\n",
            "95.00 ฿\n",
            "ราคาต่อชิ้น  95.00 ฿\n",
            "\n",
            "เมจิ นมสด รสสตรอว์เบอร์รี 200 มล. x 4 ขวด\n",
            "รหัสสินค้า 407264\n",
            "49.00 ฿\n",
            "ราคาต่อชิ้น  12.25 ฿\n",
            "\n",
            "แมกโนเลีย นมพาสเจอร์ไรซ์ รสช็อกโกแลตมอลต์ 450 มล.\n",
            "รหัสสินค้า 175828\n",
            "28.00 ฿\n",
            "ราคาต่อชิ้น  28.00 ฿\n",
            "\n",
            "เมจิ ไฮโปรตีน สูตรเวย์ รสช็อกโกแลต 350 มล.\n",
            "รหัสสินค้า 825483\n",
            "\n",
            "49.00 ฿\n",
            "\n",
            "-8%\n",
            "\n",
            "45.00 ฿\n",
            "ราคาต่อชิ้น  45.00 ฿\n",
            "\n",
            "เมจิ นมสด รสขาดมันเนย ไขมัน 0% 450 มล.\n",
            "รหัสสินค้า 213322\n",
            "26.00 ฿\n",
            "ราคาต่อชิ้น  26.00 ฿\n",
            "\n",
            "เมจิ นมสด รสจืด 200 มล. x 4 ขวด\n",
            "รหัสสินค้า 407186\n",
            "48.00 ฿\n",
            "ราคาต่อชิ้น  12.00 ฿\n",
            "\n",
            "เมจิ นมพาสเจอร์ไรซ์ รสจืด พร่องมันเนย 2000 มล.\n",
            "รหัสสินค้า 132865\n",
            "91.00 ฿\n",
            "ราคาต่อชิ้น  91.00 ฿\n",
            "\n",
            "เมจิ นมพาสเจอร์ไรซ์ รสจืด 2000 มล.\n",
            "รหัสสินค้า 1950\n",
            "91.00 ฿\n",
            "ราคาต่อชิ้น  91.00 ฿\n",
            "\n",
            "เมจิ นมสดพาสเจอร์ไรซ์ รสจืด 450 มล.\n",
            "รหัสสินค้า 213241\n",
            "26.00 ฿\n",
            "ราคาต่อชิ้น  26.00 ฿\n",
            "\n",
            "เมจิ นมสดพร่องมันเนย รสจืด 2000 มล.\n",
            "รหัสสินค้า 364143\n",
            "91.00 ฿\n",
            "ราคาต่อชิ้น  91.00 ฿\n",
            "https://www.makroclick.com/th/category/chilled-and-dairy-products/dairy-products/fresh-milk?page=3&sorting=SORTING_LAST_UPDATE&all=true\n",
            "https://www.makroclick.com/th/category/chilled-and-dairy-products/dairy-products/yogurt?page=1&sorting=SORTING_LAST_UPDATE&all=true\n",
            "ดัชชี่ โยเกิร์ต ไขมัน 0% ผสมมิกซ์เบอร์รี่และธัญญาหาร 135 กรัม x 4 ถ้วย\n",
            "รหัสสินค้า 862344\n",
            "\n",
            "58.00 ฿\n",
            "\n",
            "-5%\n",
            "\n",
            "55.00 ฿\n",
            "ราคาต่อชิ้น  13.75 ฿\n",
            "\n",
            "ดัชชี่ โยเกิร์ต ไขมัน 0% รสเลมอนผสมบุก 135 กรัม x 4 ถ้วย\n",
            "รหัสสินค้า 862342\n",
            "\n",
            "58.00 ฿\n",
            "\n",
            "-5%\n",
            "\n",
            "55.00 ฿\n",
            "ราคาต่อชิ้น  13.75 ฿\n",
            "\n",
            "ดัชชี่ โยเกิร์ต ไขมัน 0% รสธรรมชาติ 135 กรัม x 4 ถ้วย\n",
            "รหัสสินค้า 141598\n",
            "\n",
            "58.00 ฿\n",
            "\n",
            "-5%\n",
            "\n",
            "55.00 ฿\n",
            "ราคาต่อชิ้น  13.75 ฿\n",
            "\n",
            "ดัชชี่ โยเกิร์ต ไขมัน 0% ผสมวุ้นมะพร้าว 135 กรัม x 4 ถ้วย\n",
            "รหัสสินค้า 160098\n",
            "\n",
            "58.00 ฿\n",
            "\n",
            "-5%\n",
            "\n",
            "55.00 ฿\n",
            "ราคาต่อชิ้น  13.75 ฿\n",
            "\n",
            "ดัชชี่ โยเกิร์ต ไขมัน 0% ผสมสตรอว์เบอร์รี 135 กรัม x 4 ถ้วย\n",
            "รหัสสินค้า 160099\n",
            "\n",
            "58.00 ฿\n",
            "\n",
            "-5%\n",
            "\n",
            "55.00 ฿\n",
            "ราคาต่อชิ้น  13.75 ฿\n",
            "\n",
            "โยเกิร์ต เมจิ กลิ่นองุ่นมัสแคทและว่านหางจระเข้ 135 กรัม x 4 ถ้วย\n",
            "รหัสสินค้า 894488\n",
            "58.00 ฿\n",
            "ราคาต่อชิ้น  14.50 ฿\n",
            "\n",
            "ดัชชี่ ไบโอ โยเกิร์ต รสแพสชั่นฟรุ้ตและพรุน 135 กรัม x 4 ถ้วย\n",
            "รหัสสินค้า 894484\n",
            "\n",
            "58.00 ฿\n",
            "\n",
            "-5%\n",
            "\n",
            "55.00 ฿\n",
            "ราคาต่อชิ้น  13.75 ฿\n",
            "\n",
            "ดัชชี่ กรีก สไตล์ โยเกิร์ต รสออริจินัล 120 กรัม x 3 ถ้วย\n",
            "รหัสสินค้า 847894\n",
            "\n",
            "59.00 ฿\n",
            "\n",
            "-3%\n",
            "\n",
            "57.00 ฿\n",
            "ราคาต่อชิ้น  19.00 ฿\n",
            "\n",
            "ดัชชี่ โยเกิร์ต ผสมวุ้นมะพร้าว 135 กรัม x 4 ถ้วย\n",
            "รหัสสินค้า 925938\n",
            "\n",
            "54.00 ฿\n",
            "\n",
            "-9%\n",
            "\n",
            "49.00 ฿\n",
            "ราคาต่อชิ้น  12.25 ฿\n",
            "\n",
            "ดัชชี่ กรีก สไตล์ โยเกิร์ต รสแบล็คเชอร์รี่ 120 กรัม x 3 ถ้วย\n",
            "รหัสสินค้า 804835\n",
            "\n",
            "59.00 ฿\n",
            "\n",
            "-3%\n",
            "\n",
            "57.00 ฿\n",
            "ราคาต่อชิ้น  57.00 ฿\n",
            "\n",
            "ดัชชี่ กรีก สไตล์ โยเกิร์ต รสเวรีเบอร์รี่ 120 กรัม x 3 ถ้วย\n",
            "รหัสสินค้า 237576\n",
            "\n",
            "59.00 ฿\n",
            "\n",
            "-3%\n",
            "\n",
            "57.00 ฿\n",
            "ราคาต่อชิ้น  19.00 ฿\n",
            "\n",
            "ดัชชี่ โยเกิร์ต รสผลไม้รวม 135 กรัม x 4 ถ้วย\n",
            "รหัสสินค้า 925951\n",
            "\n",
            "54.00 ฿\n",
            "\n",
            "-9%\n",
            "\n",
            "49.00 ฿\n",
            "ราคาต่อชิ้น  12.25 ฿\n",
            "\n",
            "ดัชชี่ โยเกิร์ตพร่องมันเนย 5 ลิตร\n",
            "รหัสสินค้า 804833\n",
            "\n",
            "279.00 ฿\n",
            "\n",
            "-1%\n",
            "\n",
            "275.00 ฿\n",
            "ราคาต่อชิ้น  275.00 ฿\n",
            "\n",
            "ดัชชี่ โยเกิร์ต รสออริจินัล 2 กิโลกรัม\n",
            "รหัสสินค้า 205375\n",
            "\n",
            "130.00 ฿\n",
            "\n",
            "-3%\n",
            "\n",
            "125.00 ฿\n",
            "ราคาต่อชิ้น  125.00 ฿\n",
            "\n",
            "ดัชชี่ โยเกิร์ต รสธรรมชาติ 135 กรัม x 4 ถ้วย\n",
            "รหัสสินค้า 175058\n",
            "\n",
            "54.00 ฿\n",
            "\n",
            "-9%\n",
            "\n",
            "49.00 ฿\n",
            "ราคาต่อชิ้น  12.25 ฿\n",
            "\n",
            "ดัชชี่ โยเกิร์ต รสสตรอว์เบอร์รี 135 กรัม x 4 ถ้วย\n",
            "รหัสสินค้า 110680\n",
            "\n",
            "54.00 ฿\n",
            "\n",
            "-9%\n",
            "\n",
            "49.00 ฿\n",
            "ราคาต่อชิ้น  12.25 ฿\n",
            "\n",
            "ดัชชี่ โยเกิร์ต รสสตรอว์เบอร์รี 80 กรัม x 4 ถ้วย\n",
            "รหัสสินค้า 110685\n",
            "\n",
            "39.00 ฿\n",
            "\n",
            "-10%\n",
            "\n",
            "35.00 ฿\n",
            "ราคาต่อชิ้น  8.75 ฿\n",
            "\n",
            "ดัชชี่ โยเกิร์ต รสผลไม้รวม 80 กรัม x 4 ถ้วย\n",
            "รหัสสินค้า 110687\n",
            "\n",
            "39.00 ฿\n",
            "\n",
            "-10%\n",
            "\n",
            "35.00 ฿\n",
            "ราคาต่อชิ้น  8.75 ฿\n",
            "\n",
            "ดัชชี่ โยเกิร์ตผสมวุ้นมะพร้าว 80 กรัม x 4 ถ้วย\n",
            "รหัสสินค้า 110688\n",
            "\n",
            "39.00 ฿\n",
            "\n",
            "-10%\n",
            "\n",
            "35.00 ฿\n",
            "ราคาต่อชิ้น  8.75 ฿\n",
            "\n",
            "ดัชชี่ โยเกิร์ต รสธัญญาหาร 135 กรัม x 4 ถ้วย\n",
            "รหัสสินค้า 925899\n",
            "\n",
            "54.00 ฿\n",
            "\n",
            "-9%\n",
            "\n",
            "49.00 ฿\n",
            "ราคาต่อชิ้น  12.25 ฿\n",
            "\n",
            "ดัชชี่ ไบโอ โยเกิร์ตผสมวุ้นมะพร้าว 135 กรัม x 4 ถ้วย\n",
            "รหัสสินค้า 156620\n",
            "\n",
            "58.00 ฿\n",
            "\n",
            "-5%\n",
            "\n",
            "55.00 ฿\n",
            "ราคาต่อชิ้น  13.75 ฿\n",
            "\n",
            "ดัชชี่ โยเกิร์ต คละรส 80 กรัม x 4 ถ้วย\n",
            "รหัสสินค้า 110689\n",
            "\n",
            "39.00 ฿\n",
            "\n",
            "-10%\n",
            "\n",
            "35.00 ฿\n",
            "ราคาต่อชิ้น  8.75 ฿\n",
            "\n",
            "ดัชชี่ ไบโอ โยเกิร์ต รสธรรมชาติ 135 กรัม x 4 ถ้วย\n",
            "รหัสสินค้า 156618\n",
            "\n",
            "58.00 ฿\n",
            "\n",
            "-5%\n",
            "\n",
            "55.00 ฿\n",
            "ราคาต่อชิ้น  13.75 ฿\n",
            "\n",
            "ริชเชส โยเกิร์ต รสธรรมชาติ สูตรลดปริมาณน้ำตาล 43% 135 กรัม x 4 ถ้วย\n",
            "รหัสสินค้า 142249\n",
            "45.00 ฿\n",
            "ราคาต่อชิ้น  11.25 ฿\n",
            "\n",
            "ริชเชส นมเปรี้ยวโยเกิร์ตพร้อมดื่ม รสบลูเบอร์รี 800 มล.\n",
            "รหัสสินค้า 201241\n",
            "\n",
            "39.00 ฿\n",
            "\n",
            "-25%\n",
            "\n",
            "29.00 ฿\n",
            "ราคาต่อชิ้น  29.00 ฿\n",
            "\n",
            "ริชเชส นมเปรี้ยวโยเกิร์ตพร้อมดื่ม รสผลไม้รวม 800 มล.\n",
            "รหัสสินค้า 142226\n",
            "\n",
            "39.00 ฿\n",
            "\n",
            "-25%\n",
            "\n",
            "29.00 ฿\n",
            "ราคาต่อชิ้น  29.00 ฿\n",
            "\n",
            "ริชเชส นมเปรี้ยวโยเกิร์ตพร้อมดื่ม รสสตรอว์เบอร์รี 800 มล.\n",
            "รหัสสินค้า 142225\n",
            "\n",
            "39.00 ฿\n",
            "\n",
            "-25%\n",
            "\n",
            "29.00 ฿\n",
            "ราคาต่อชิ้น  29.00 ฿\n",
            "\n",
            "ริชเชส นมเปรี้ยวโยเกิร์ตพร้อมดื่ม รสส้ม 800 มล.\n",
            "รหัสสินค้า 201344\n",
            "\n",
            "39.00 ฿\n",
            "\n",
            "-25%\n",
            "\n",
            "29.00 ฿\n",
            "ราคาต่อชิ้น  29.00 ฿\n",
            "\n",
            "ริชเชส นมเปรี้ยวโยเกิร์ตพร้อมดื่ม รสธรรมชาติ 800 มล.\n",
            "รหัสสินค้า 201238\n",
            "\n",
            "39.00 ฿\n",
            "\n",
            "-25%\n",
            "\n",
            "29.00 ฿\n",
            "ราคาต่อชิ้น  29.00 ฿\n",
            "\n",
            "ริชเชส นมเปรี้ยวโยเกิร์ตพร้อมดื่ม รสพรุนสกัด 800 มล.\n",
            "รหัสสินค้า 142227\n",
            "\n",
            "39.00 ฿\n",
            "\n",
            "-25%\n",
            "\n",
            "29.00 ฿\n",
            "ราคาต่อชิ้น  29.00 ฿\n",
            "\n",
            "ดัชชี่ โยเกิร์ต รสออริจินัล 90 กรัม x 4 ถ้วย\n",
            "รหัสสินค้า 845279\n",
            "37.00 ฿\n",
            "ราคาต่อชิ้น  9.25 ฿\n",
            "\n",
            "เมจิ บัลแกเรีย โยเกิร์ตพร้อมดื่ม รสไวลด์เบอร์รี x 3 ขวด\n",
            "รหัสสินค้า 800817\n",
            "58.00 ฿\n",
            "ราคาต่อชิ้น  19.33 ฿\n",
            "https://www.makroclick.com/th/category/chilled-and-dairy-products/dairy-products/yogurt?page=2&sorting=SORTING_LAST_UPDATE&all=true\n",
            "เมจิ โยเกิร์ต ไขมัน 0% รสสตรอว์เบอร์รี่ 135 กรัม x 4 ถ้วย\n",
            "รหัสสินค้า 840586\n",
            "\n",
            "58.00 ฿\n",
            "\n",
            "-10%\n",
            "\n",
            "52.00 ฿\n",
            "ราคาต่อชิ้น  13.00 ฿\n",
            "\n",
            "เมจิ โยเกิร์ตไขมัน 0% ผสมวุ้นมะพร้าว 135 กรัม x 4 ถ้วย\n",
            "รหัสสินค้า 840607\n",
            "\n",
            "58.00 ฿\n",
            "\n",
            "-10%\n",
            "\n",
            "52.00 ฿\n",
            "ราคาต่อชิ้น  13.00 ฿\n",
            "\n",
            "เมจิ บัลแกเรีย โยเกิร์ตพร้อมดื่ม สูตรไขมัน 0% รสไลท์แอนด์มายด์ 140 มล. x 3 ขวด\n",
            "รหัสสินค้า 855276\n",
            "58.00 ฿\n",
            "ราคาต่อชิ้น  19.33 ฿\n",
            "\n",
            "เมจิ โยเกิร์ต รสธรรมชาติ 90 กรัม x 4 ถ้วย\n",
            "รหัสสินค้า 212432\n",
            "39.00 ฿\n",
            "ราคาต่อชิ้น  9.75 ฿\n",
            "\n",
            "เมจิ โยเกิร์ต รสองุ่นผสมวุ้นมะพร้าว 135 กรัม x 4 ถ้วย\n",
            "รหัสสินค้า 847156\n",
            "58.00 ฿\n",
            "ราคาต่อชิ้น  14.50 ฿\n",
            "\n",
            "ดัชมิลล์ นมเปรี้ยว รสส้ม 100 มล. x 6 ขวด\n",
            "รหัสสินค้า 279929\n",
            "\n",
            "42.00 ฿\n",
            "\n",
            "-11%\n",
            "\n",
            "37.00 ฿\n",
            "ราคาต่อชิ้น  6.17 ฿\n",
            "\n",
            "ดัชมิลล์ นมเปรี้ยว รสส้ม 830 มล. x 2 ขวด\n",
            "รหัสสินค้า 105319\n",
            "\n",
            "70.00 ฿\n",
            "\n",
            "-7%\n",
            "\n",
            "65.00 ฿\n",
            "ราคาต่อชิ้น  32.50 ฿\n",
            "\n",
            "ดัชมิลล์ นมเปรี้ยว คละรส 100 มล. x 6 ขวด\n",
            "รหัสสินค้า 194051\n",
            "\n",
            "42.00 ฿\n",
            "\n",
            "-11%\n",
            "\n",
            "37.00 ฿\n",
            "ราคาต่อชิ้น  6.17 ฿\n",
            "\n",
            "ริชเชส โยเกิร์ตไขมันต่ำ 2 กิโลกรัม\n",
            "รหัสสินค้า 825239\n",
            "\n",
            "129.00 ฿\n",
            "\n",
            "-6%\n",
            "\n",
            "121.00 ฿\n",
            "ราคาต่อชิ้น  121.00 ฿\n",
            "\n",
            "ริชเชส โยเกิร์ตผสมพรุนสกัด 135 กรัม x 4 ถ้วย\n",
            "รหัสสินค้า 142251\n",
            "46.00 ฿\n",
            "ราคาต่อชิ้น  11.50 ฿\n",
            "\n",
            "ริชเชส โยเกิร์ตผสมฟรุตสลัด 135 กรัม x 4 ถ้วย\n",
            "รหัสสินค้า 201236\n",
            "45.00 ฿\n",
            "ราคาต่อชิ้น  11.25 ฿\n",
            "\n",
            "ริชเชส โยเกิร์ตผสมวุ้นมะพร้าว 135 กรัม x 4 ถ้วย\n",
            "รหัสสินค้า 142250\n",
            "45.00 ฿\n",
            "ราคาต่อชิ้น  11.25 ฿\n",
            "\n",
            "ริชเชส โยเกิร์ตผสมสตรอว์เบอร์ 135 กรัม x 4 ถ้วย\n",
            "รหัสสินค้า 201234\n",
            "45.00 ฿\n",
            "ราคาต่อชิ้น  11.25 ฿\n",
            "\n",
            "ดัชมิลล์ นมเปรี้ยว รสผลไม้รวม 830 มล. x 2 ขวด\n",
            "รหัสสินค้า 105245\n",
            "\n",
            "70.00 ฿\n",
            "\n",
            "-7%\n",
            "\n",
            "65.00 ฿\n",
            "ราคาต่อชิ้น  32.50 ฿\n",
            "\n",
            "ดัชมิลล์ นมเปรี้ยว รสสตรอว์เบอร์รี 830 มล.\n",
            "รหัสสินค้า 141562\n",
            "\n",
            "36.00 ฿\n",
            "\n",
            "-8%\n",
            "\n",
            "33.00 ฿\n",
            "ราคาต่อชิ้น  33.00 ฿\n",
            "\n",
            "ดัชมิลล์ นมเปรี้ยว รสบลูเบอร์รี่ 400 มล.\n",
            "รหัสสินค้า 356551\n",
            "\n",
            "22.00 ฿\n",
            "\n",
            "-4%\n",
            "\n",
            "21.00 ฿\n",
            "ราคาต่อชิ้น  21.00 ฿\n",
            "\n",
            "ดัชมิลล์ นมเปรี้ยว รสส้ม 830 มล.\n",
            "รหัสสินค้า 141563\n",
            "\n",
            "36.00 ฿\n",
            "\n",
            "-8%\n",
            "\n",
            "33.00 ฿\n",
            "ราคาต่อชิ้น  33.00 ฿\n",
            "\n",
            "ดัชมิลล์ นมเปรี้ยว รสส้ม 400 มล.\n",
            "รหัสสินค้า 307476\n",
            "\n",
            "22.00 ฿\n",
            "\n",
            "-4%\n",
            "\n",
            "21.00 ฿\n",
            "ราคาต่อชิ้น  21.00 ฿\n",
            "\n",
            "ดัชมิลล์ นมเปรี้ยว รสผลไม้รวม 830 มล.\n",
            "รหัสสินค้า 141564\n",
            "\n",
            "36.00 ฿\n",
            "\n",
            "-8%\n",
            "\n",
            "33.00 ฿\n",
            "ราคาต่อชิ้น  33.00 ฿\n",
            "\n",
            "ดัชมิลล์ นมเปรี้ยว รสผลไม้รวม 400 มล.\n",
            "รหัสสินค้า 307775\n",
            "\n",
            "22.00 ฿\n",
            "\n",
            "-4%\n",
            "\n",
            "21.00 ฿\n",
            "ราคาต่อชิ้น  21.00 ฿\n",
            "\n",
            "ดัชมิลล์ นมเปรี้ยว รสผลไม้รวม 100 มล. x 6 ขวด\n",
            "รหัสสินค้า 278733\n",
            "\n",
            "42.00 ฿\n",
            "\n",
            "-11%\n",
            "\n",
            "37.00 ฿\n",
            "ราคาต่อชิ้น  6.17 ฿\n",
            "\n",
            "ดัชมิลล์ ดีไลท์ นมเปรี้ยวปราศจากไขมัน 160 มล. x 4 ขวด\n",
            "รหัสสินค้า 161941\n",
            "\n",
            "38.00 ฿\n",
            "\n",
            "-7%\n",
            "\n",
            "35.00 ฿\n",
            "ราคาต่อชิ้น  8.75 ฿\n",
            "\n",
            "ดัชมิลล์ ดีไลท์ นมเปรี้ยวปราศจากไขมัน 100 มล. x 5 ขวด\n",
            "รหัสสินค้า 161936\n",
            "33.00 ฿\n",
            "ราคาต่อชิ้น  6.60 ฿\n",
            "\n",
            "ดัชมิลล์ ดีไลท์ นมเปรี้ยว สูตรน้ำตาลน้อย 160 มล. x 4 ขวด\n",
            "รหัสสินค้า 215350\n",
            "\n",
            "38.00 ฿\n",
            "\n",
            "-7%\n",
            "\n",
            "35.00 ฿\n",
            "ราคาต่อชิ้น  8.75 ฿\n",
            "\n",
            "ดัชมิลล์ นมเปรี้ยว รสบลูเบอร์รี่ 100 มล. x 6 ขวด\n",
            "รหัสสินค้า 108277\n",
            "\n",
            "42.00 ฿\n",
            "\n",
            "-11%\n",
            "\n",
            "37.00 ฿\n",
            "ราคาต่อชิ้น  6.17 ฿\n",
            "\n",
            "ดัชมิลล์ นมเปรี้ยว รสสตรอว์เบอร์รี 400 มล.\n",
            "รหัสสินค้า 306982\n",
            "\n",
            "22.00 ฿\n",
            "\n",
            "-4%\n",
            "\n",
            "21.00 ฿\n",
            "ราคาต่อชิ้น  21.00 ฿\n",
            "\n",
            "ดัชมิลล์ นมเปรี้ยว รสสตรอว์เบอร์รี 100 มล. x 6 ขวด\n",
            "รหัสสินค้า 278629\n",
            "\n",
            "42.00 ฿\n",
            "\n",
            "-11%\n",
            "\n",
            "37.00 ฿\n",
            "ราคาต่อชิ้น  6.17 ฿\n",
            "\n",
            "เมจิ โยเกิร์ต คละรส 135 กรัม x 4 ถ้วย\n",
            "รหัสสินค้า 114244\n",
            "52.00 ฿\n",
            "ราคาต่อชิ้น  13.00 ฿\n",
            "\n",
            "เมจิ บัลแกเรีย โยเกิร์ต รสกลมกล่อม 110 กรัม x 4 ถ้วย\n",
            "รหัสสินค้า 210771\n",
            "78.00 ฿\n",
            "ราคาต่อชิ้น  19.50 ฿\n",
            "\n",
            "เมจิ บัลแกเรีย โยเกิร์ต สูตรไขมัน 0% รสกลมกล่อม 450 กรัม\n",
            "รหัสสินค้า 811410\n",
            "79.00 ฿\n",
            "ราคาต่อชิ้น  79.00 ฿\n",
            "\n",
            "ดัชมิลล์ ไลฟ์พลัส นมเปรี้ยว รสผักผลไม้รวม 830 มล.\n",
            "รหัสสินค้า 853512\n",
            "\n",
            "36.00 ฿\n",
            "\n",
            "-8%\n",
            "\n",
            "33.00 ฿\n",
            "ราคาต่อชิ้น  33.00 ฿\n",
            "\n",
            "เมจิ โยเกิร์ตผสมวุ้นมะพร้าว 90 กรัม x 4 ถ้วย\n",
            "รหัสสินค้า 212420\n",
            "39.00 ฿\n",
            "ราคาต่อชิ้น  9.75 ฿\n",
            "https://www.makroclick.com/th/category/chilled-and-dairy-products/dairy-products/yogurt?page=3&sorting=SORTING_LAST_UPDATE&all=true\n",
            "เมจิ โยเกิร์ตผสมวุ้นมะพร้าว 135 กรัม x 4 ถ้วย\n",
            "รหัสสินค้า 127309\n",
            "52.00 ฿\n",
            "ราคาต่อชิ้น  13.00 ฿\n",
            "\n",
            "เมจิ โยเกิร์ต รสสตรอว์เบอร์รี 135 กรัม x 4 ถ้วย\n",
            "รหัสสินค้า 354406\n",
            "52.00 ฿\n",
            "ราคาต่อชิ้น  13.00 ฿\n",
            "\n",
            "เมจิ โยเกิร์ต รสมิกซ์เบอร์รี่ 135 กรัม x 4 ถ้วย\n",
            "รหัสสินค้า 114243\n",
            "52.00 ฿\n",
            "ราคาต่อชิ้น  13.00 ฿\n",
            "\n",
            "เมจิ โยเกิร์ต รสธรรมชาติ 135 กรัม x 4 ถ้วย\n",
            "รหัสสินค้า 401414\n",
            "52.00 ฿\n",
            "ราคาต่อชิ้น  13.00 ฿\n",
            "\n",
            "เมจิ โยเกิร์ต ไขมัน 0% รสธรรมชาติ 135 กรัม x 4 ถ้วย\n",
            "รหัสสินค้า 840605\n",
            "\n",
            "58.00 ฿\n",
            "\n",
            "-10%\n",
            "\n",
            "52.00 ฿\n",
            "ราคาต่อชิ้น  52.00 ฿\n",
            "\n",
            "เมจิ บัลแกเรีย โยเกิร์ตพร้อมดื่ม รสกลมกล่อม x 3 ขวด\n",
            "รหัสสินค้า 800816\n",
            "58.00 ฿\n",
            "ราคาต่อชิ้น  58.00 ฿\n",
            "\n",
            "เมจิ บัลแกเรีย โยเกิร์ต รสธรรมชาติ 110 กรัม x 4 ถ้วย\n",
            "รหัสสินค้า 210666\n",
            "78.00 ฿\n",
            "ราคาต่อชิ้น  19.50 ฿\n",
            "\n",
            "เมจิ บัลแกเรีย โยเกิร์ต รสโกลเด้น ฮันนี 110 กรัม x 4 ถ้วย\n",
            "รหัสสินค้า 229703\n",
            "78.00 ฿\n",
            "ราคาต่อชิ้น  78.00 ฿\n",
            "\n",
            "เมจิ โยเกิร์ต รสสตรอว์เบอร์รี 90 กรัม x 4 ถ้วย\n",
            "รหัสสินค้า 212424\n",
            "39.00 ฿\n",
            "ราคาต่อชิ้น  9.75 ฿\n",
            "\n",
            "ริชเชส ครีมโยเกิร์ตผสมสตรอว์เบอร์รี 5 กิโลกรัม\n",
            "รหัสสินค้า 160091\n",
            "289.00 ฿\n",
            "ราคาต่อชิ้น  289.00 ฿\n",
            "\n",
            "ริชเชส ครีมโยเกิร์ต รสธรรมชาติ 5 กิโลกรัม\n",
            "รหัสสินค้า 160089\n",
            "279.00 ฿\n",
            "ราคาต่อชิ้น  279.00 ฿\n",
            "\n",
            "เมจิ โยเกิร์ตพร่องมันเนย 500 กรัม\n",
            "รหัสสินค้า 229702\n",
            "49.00 ฿\n",
            "ราคาต่อชิ้น  49.00 ฿\n",
            "https://www.makroclick.com/th/category/chilled-and-dairy-products/dairy-products/yogurt?page=4&sorting=SORTING_LAST_UPDATE&all=true\n",
            "https://www.makroclick.com/th/category/chilled-and-dairy-products/dairy-products/cream?page=1&sorting=SORTING_LAST_UPDATE&all=true\n",
            "เดบิค วิปปิ้งครีม 1 ลิตร\n",
            "รหัสสินค้า 896420\n",
            "\n",
            "219.00 ฿\n",
            "\n",
            "-18%\n",
            "\n",
            "179.00 ฿\n",
            "ราคาต่อชิ้น  179.00 ฿\n",
            "\n",
            "ฟิลาเดลเฟีย ครีมชีส 2 กิโลกรัม\n",
            "รหัสสินค้า 15093\n",
            "849.00 ฿\n",
            "ราคาต่อชิ้น  849.00 ฿\n",
            "\n",
            "แมกโนเลีย วิปปิ้งครีม ขนาด 946 มล.\n",
            "รหัสสินค้า 168538\n",
            "179.00 ฿\n",
            "ราคาต่อชิ้น  179.00 ฿\n",
            "\n",
            "เมจิ วิปปิ้งครีม 946 มล.\n",
            "รหัสสินค้า 219498\n",
            "175.00 ฿\n",
            "ราคาต่อชิ้น  175.00 ฿\n",
            "\n",
            "ฟิลาเดลเฟีย ไลท์ครีมชีสนุ่ม 250 กรัม\n",
            "รหัสสินค้า 399919\n",
            "179.00 ฿\n",
            "ราคาต่อชิ้น  179.00 ฿\n",
            "\n",
            "ฟิลาเดลเฟีย ครีมชีสออริจินัล 250 กรัม\n",
            "รหัสสินค้า 131222\n",
            "162.00 ฿\n",
            "ราคาต่อชิ้น  162.00 ฿\n",
            "\n",
            "เอโร่ วิปปิ้งครีม 1900 มล.\n",
            "รหัสสินค้า 157681\n",
            "325.00 ฿\n",
            "ราคาต่อชิ้น  325.00 ฿\n",
            "\n",
            "แมกโนเลีย กูร์เมต์ ฮาฟครีม ครีมแท้พร่องมันเนย 946 มล.\n",
            "รหัสสินค้า 142138\n",
            "112.00 ฿\n",
            "ราคาต่อชิ้น  112.00 ฿\n",
            "https://www.makroclick.com/th/category/chilled-and-dairy-products/dairy-products/cream?page=2&sorting=SORTING_LAST_UPDATE&all=true\n",
            "https://www.makroclick.com/th/category/chilled-and-dairy-products/dairy-products/cheese?page=1&sorting=SORTING_LAST_UPDATE&all=true\n",
            "อลาวรี่ โพรเซสชีส x 81 สไลซ์\n",
            "รหัสสินค้า 70889\n",
            "369.00 ฿\n",
            "ราคาต่อชิ้น  369.00 ฿\n",
            "\n",
            "อลาวรี่ โพรเชสเชดด้าชีส 1 กิโลกรัม x 48 แผ่น\n",
            "รหัสสินค้า 222534\n",
            "\n",
            "369.00 ฿\n",
            "\n",
            "-8%\n",
            "\n",
            "339.00 ฿\n",
            "ราคาต่อชิ้น  339.00 ฿\n",
            "\n",
            "ฟิลาเดลเฟีย ครีมชีส 2 กิโลกรัม\n",
            "รหัสสินค้า 15093\n",
            "849.00 ฿\n",
            "ราคาต่อชิ้น  849.00 ฿\n",
            "\n",
            "อิมพีเรียล มอสซาเรลล่า ชนิดเส้น 150 กรัม\n",
            "รหัสสินค้า 117929\n",
            "142.00 ฿\n",
            "ราคาต่อชิ้น  142.00 ฿\n",
            "\n",
            "อลาวรี่ ชีสสควีซ 310 กรัม\n",
            "รหัสสินค้า 811967\n",
            "135.00 ฿\n",
            "ราคาต่อชิ้น  135.00 ฿\n",
            "\n",
            "อลาวรี่ ชีสสควีซ มิกซ์โฟร์ชีส 310 กรัม\n",
            "รหัสสินค้า 828905\n",
            "135.00 ฿\n",
            "ราคาต่อชิ้น  135.00 ฿\n",
            "\n",
            "อิมพีเรียล พามีซานชีส (แท่ง) 1.3 กิโลกรัม\n",
            "รหัสสินค้า 109562\n",
            "780.00 ฿\n",
            "ราคาต่อชิ้น  780.00 ฿\n",
            "\n",
            "ชีสโตะ ซอสสำเร็จรูป รสไข่เค็ม 800 กรัม\n",
            "รหัสสินค้า 856321\n",
            "89.00 ฿\n",
            "ราคาต่อชิ้น  89.00 ฿\n",
            "\n",
            "ฟิลาเดลเฟีย ไลท์ครีมชีสนุ่ม 250 กรัม\n",
            "รหัสสินค้า 399919\n",
            "179.00 ฿\n",
            "ราคาต่อชิ้น  179.00 ฿\n",
            "\n",
            "ฟิลาเดลเฟีย ครีมชีสออริจินัล 250 กรัม\n",
            "รหัสสินค้า 131222\n",
            "162.00 ฿\n",
            "ราคาต่อชิ้น  162.00 ฿\n",
            "\n",
            "เชสเดล เชดด้าชีสชนิดแผ่น 500 กรัม x 24 แผ่น\n",
            "รหัสสินค้า 126089\n",
            "262.00 ฿\n",
            "ราคาต่อชิ้น  10.92 ฿\n",
            "\n",
            "อลาวรี โพรเซสเชดด้าชีส 500 กรัม x 24 แผ่น\n",
            "รหัสสินค้า 108966\n",
            "235.00 ฿\n",
            "ราคาต่อชิ้น  235.00 ฿\n",
            "\n",
            "อิมพีเรียล เชดด้าชีส 500 กรัม x 24 สไลซ์\n",
            "รหัสสินค้า 59696\n",
            "209.00 ฿\n",
            "ราคาต่อชิ้น  8.71 ฿\n",
            "\n",
            "อิมพีเรียล พามีซานสไตล์ชีส 100 กรัม\n",
            "รหัสสินค้า 117928\n",
            "139.00 ฿\n",
            "ราคาต่อชิ้น  139.00 ฿\n",
            "\n",
            "อลาวรี่ ชีสสควีซ มิกซ์โฟร์ชีส 600 กรัม\n",
            "รหัสสินค้า 837130\n",
            "229.00 ฿\n",
            "ราคาต่อชิ้น  229.00 ฿\n",
            "\n",
            "อลาวรี่ เชดดาชีส 250 กรัม x 12 สไลซ์\n",
            "รหัสสินค้า 579956\n",
            "137.00 ฿\n",
            "ราคาต่อชิ้น  137.00 ฿\n",
            "\n",
            "อลาวลี่ ชีสสควีซ 600 กรัม\n",
            "รหัสสินค้า 817537\n",
            "229.00 ฿\n",
            "ราคาต่อชิ้น  229.00 ฿\n",
            "\n",
            "เชสเดล เชดด้าชีสสไลซ์ รสธรรมดา 250 กรัม\n",
            "รหัสสินค้า 126024\n",
            "145.00 ฿\n",
            "ราคาต่อชิ้น  145.00 ฿\n",
            "https://www.makroclick.com/th/category/chilled-and-dairy-products/dairy-products/cheese?page=2&sorting=SORTING_LAST_UPDATE&all=true\n",
            "https://www.makroclick.com/th/category/chilled-and-dairy-products/dairy-products/butter?page=1&sorting=SORTING_LAST_UPDATE&all=true\n",
            "อิมพีเรียล มาการีนซันฟลาวเวอร์ 250 กรัม\n",
            "รหัสสินค้า 127504\n",
            "70.00 ฿\n",
            "ราคาต่อชิ้น  70.00 ฿\n",
            "\n",
            "อลาวรี่ เนยชนิดจืด 10 กรัม x 100 ชิ้น\n",
            "รหัสสินค้า 141269\n",
            "\n",
            "435.00 ฿\n",
            "\n",
            "-3%\n",
            "\n",
            "420.00 ฿\n",
            "ราคาต่อชิ้น  4.20 ฿\n",
            "\n",
            "อลาวรี่ เนยแท้ชนิดเค็ม ห่อฟอยล์ 10 กรัม x 100 ก้อน\n",
            "รหัสสินค้า 891904\n",
            "\n",
            "435.00 ฿\n",
            "\n",
            "-3%\n",
            "\n",
            "420.00 ฿\n",
            "ราคาต่อชิ้น  4.20 ฿\n",
            "\n",
            "อลาวรี่ พรีเมี่ยม เนยแท้ ชนิดเค็ม 2 กิโลกรัม\n",
            "รหัสสินค้า 837131\n",
            "730.00 ฿\n",
            "ราคาต่อชิ้น  730.00 ฿\n",
            "\n",
            "อลาวรี่ แวลู่ เนยรสเค็ม 2 กิโลกรัม\n",
            "รหัสสินค้า 219502\n",
            "\n",
            "340.00 ฿\n",
            "\n",
            "-5%\n",
            "\n",
            "320.00 ฿\n",
            "ราคาต่อชิ้น  320.00 ฿\n",
            "\n",
            "อลาวรี่ แวลู เนยผสม ชนิดจืด 2 กิโลกรัม\n",
            "รหัสสินค้า 219501\n",
            "\n",
            "340.00 ฿\n",
            "\n",
            "-5%\n",
            "\n",
            "320.00 ฿\n",
            "ราคาต่อชิ้น  320.00 ฿\n",
            "\n",
            "อลาวรี่ เนยผสมชนิดจืด 2 กิโลกรัม\n",
            "รหัสสินค้า 175621\n",
            "374.00 ฿\n",
            "ราคาต่อชิ้น  374.00 ฿\n",
            "\n",
            "อลาวรี่ เนยผสมชนิดเค็ม 2 กิโลกรัม\n",
            "รหัสสินค้า 168325\n",
            "374.00 ฿\n",
            "ราคาต่อชิ้น  374.00 ฿\n",
            "\n",
            "อลาวรี่ พรีเมี่ยม เนยแท้ชนิดจืด 2 กิโลกรัม\n",
            "รหัสสินค้า 837132\n",
            "730.00 ฿\n",
            "ราคาต่อชิ้น  730.00 ฿\n",
            "\n",
            "อิมพีเรียล มาการีนซันฟลาวเวอร์ 10 กรัม x 100 ถ้วย\n",
            "รหัสสินค้า 122786\n",
            "225.00 ฿\n",
            "ราคาต่อชิ้น  225.00 ฿\n",
            "\n",
            "อิมพีเรียล เนยผสมรสเค็ม 10 กรัม x 100 ถ้วย\n",
            "รหัสสินค้า 122788\n",
            "375.00 ฿\n",
            "ราคาต่อชิ้น  375.00 ฿\n",
            "\n",
            "อลาวรี่ เนยแท้ชนิดจืด 227 กรัม\n",
            "รหัสสินค้า 234931\n",
            "114.00 ฿\n",
            "ราคาต่อชิ้น  114.00 ฿\n",
            "\n",
            "อลาวรี่ เนยแท้ชนิดเค็ม 227 กรัม\n",
            "รหัสสินค้า 234930\n",
            "114.00 ฿\n",
            "ราคาต่อชิ้น  114.00 ฿\n",
            "\n",
            "บลูแบนด์ มาร์การีน 454 กรัม\n",
            "รหัสสินค้า 865021\n",
            "\n",
            "65.00 ฿\n",
            "\n",
            "-9%\n",
            "\n",
            "59.00 ฿\n",
            "ราคาต่อชิ้น  59.00 ฿\n",
            "\n",
            "บลูแบนด์ มาร์การีน 1 กิโลกรัม\n",
            "รหัสสินค้า 866196\n",
            "83.00 ฿\n",
            "ราคาต่อชิ้น  83.00 ฿\n",
            "\n",
            "บลูแบนด์ มาการีน 2 กิโลกรัม\n",
            "รหัสสินค้า 866198\n",
            "\n",
            "229.00 ฿\n",
            "\n",
            "-8%\n",
            "\n",
            "209.00 ฿\n",
            "ราคาต่อชิ้น  209.00 ฿\n",
            "\n",
            "บลูแบนด์ มาการีน 2 กิโลกรัม x 2 ถัง\n",
            "รหัสสินค้า 866199\n",
            "\n",
            "449.00 ฿\n",
            "\n",
            "-10%\n",
            "\n",
            "400.00 ฿\n",
            "ราคาต่อชิ้น  200.00 ฿\n",
            "\n",
            "อิมพีเรียล เนยจืด 227 กรัม\n",
            "รหัสสินค้า 225447\n",
            "\n",
            "75.00 ฿\n",
            "\n",
            "-4%\n",
            "\n",
            "72.00 ฿\n",
            "ราคาต่อชิ้น  72.00 ฿\n",
            "\n",
            "อิมพีเรียล เนยเค็ม 227 กรัม\n",
            "รหัสสินค้า 225444\n",
            "\n",
            "75.00 ฿\n",
            "\n",
            "-4%\n",
            "\n",
            "72.00 ฿\n",
            "ราคาต่อชิ้น  72.00 ฿\n",
            "\n",
            "อลาวรี่ เนยชนิดเค็ม 1 กิโลกรัม x 100 ถ้วย\n",
            "รหัสสินค้า 375635\n",
            "385.00 ฿\n",
            "ราคาต่อชิ้น  3.85 ฿\n",
            "\n",
            "อลาวรี่ เนยรสจืด 10 กรัม x 100 ถ้วย\n",
            "รหัสสินค้า 141270\n",
            "385.00 ฿\n",
            "ราคาต่อชิ้น  385.00 ฿\n",
            "\n",
            "อลาวรี่ แวลู่ เนยชนิดจืด 5 กิโลกรัม\n",
            "รหัสสินค้า 144885\n",
            "670.00 ฿\n",
            "ราคาต่อชิ้น  670.00 ฿\n",
            "\n",
            "อลาวรี่ เนยกระเทียมและสมุนไพรปรุงสำเร็จรูป 500 กรัม\n",
            "รหัสสินค้า 212169\n",
            "189.00 ฿\n",
            "ราคาต่อชิ้น  189.00 ฿\n",
            "\n",
            "อลาวรี่ แวลู่ เนยชนิดเค็ม 5 กิโลกรัม\n",
            "รหัสสินค้า 144881\n",
            "670.00 ฿\n",
            "ราคาต่อชิ้น  670.00 ฿\n",
            "\n",
            "อลาวรี่ ทรัฟเฟิลบัตเตอร์ 110 กรัม\n",
            "รหัสสินค้า 848780\n",
            "249.00 ฿\n",
            "ราคาต่อชิ้น  249.00 ฿\n",
            "\n",
            "อลาวรี่ เนยชนิดแท่ง รสจืด 5 กิโลกรัม (ยกลัง)\n",
            "รหัสสินค้า 65650\n",
            "823.00 ฿\n",
            "ราคาต่อชิ้น  823.00 ฿\n",
            "\n",
            "อลาวรี่ เนยชนิดแท่ง รสเค็ม 5 กิโลกรัม (ยกลัง)\n",
            "รหัสสินค้า 59644\n",
            "823.00 ฿\n",
            "ราคาต่อชิ้น  823.00 ฿\n",
            "\n",
            "อลาวรี่ เนยสด รสจืด 454 กรัม\n",
            "รหัสสินค้า 212167\n",
            "220.00 ฿\n",
            "ราคาต่อชิ้น  220.00 ฿\n",
            "\n",
            "อลาวรี่ เนยสด รสเค็ม 454 กรัม\n",
            "รหัสสินค้า 58500\n",
            "220.00 ฿\n",
            "ราคาต่อชิ้น  220.00 ฿\n",
            "https://www.makroclick.com/th/category/chilled-and-dairy-products/dairy-products/butter?page=2&sorting=SORTING_LAST_UPDATE&all=true\n"
          ],
          "name": "stdout"
        }
      ]
    },
    {
      "cell_type": "code",
      "metadata": {
        "id": "ZUtP64bDIBT8"
      },
      "source": [
        "contentx = []\n",
        "for i in content:\n",
        "  contentx.append(i[2:-2])"
      ],
      "execution_count": 205,
      "outputs": []
    },
    {
      "cell_type": "code",
      "metadata": {
        "id": "HGoCrgzo_q3W"
      },
      "source": [
        "product_group = []\n",
        "sub_product_group1 = []\n",
        "for i in title:\n",
        "  product_group.append(i.split('\\n»\\n')[1])\n",
        "  sub_product_group1.append(i.split('\\n»\\n')[2])"
      ],
      "execution_count": 206,
      "outputs": []
    },
    {
      "cell_type": "code",
      "metadata": {
        "id": "t7vIxdIG_wyS"
      },
      "source": [
        "sub_product_group2 = []\n",
        "for i in sub_title:\n",
        "  sub_product_group2.append(i.split(' ')[1])"
      ],
      "execution_count": 207,
      "outputs": []
    },
    {
      "cell_type": "code",
      "metadata": {
        "colab": {
          "base_uri": "https://localhost:8080/",
          "height": 297
        },
        "id": "Y15L4L1B_6_5",
        "outputId": "c4c61331-ac3e-4304-9ca3-4d891266ae94"
      },
      "source": [
        "df = pd.DataFrame(list(zip(sub_product_group2, sub_product_group1, product_group, contentx)),columns=['sub_product_group2', 'sub_product_group1', 'product_group', 'content'])\n",
        "df = df[df['content'] != '']\n",
        "df"
      ],
      "execution_count": 208,
      "outputs": [
        {
          "output_type": "execute_result",
          "data": {
            "text/html": [
              "<div>\n",
              "<style scoped>\n",
              "    .dataframe tbody tr th:only-of-type {\n",
              "        vertical-align: middle;\n",
              "    }\n",
              "\n",
              "    .dataframe tbody tr th {\n",
              "        vertical-align: top;\n",
              "    }\n",
              "\n",
              "    .dataframe thead th {\n",
              "        text-align: right;\n",
              "    }\n",
              "</style>\n",
              "<table border=\"1\" class=\"dataframe\">\n",
              "  <thead>\n",
              "    <tr style=\"text-align: right;\">\n",
              "      <th></th>\n",
              "      <th>sub_product_group2</th>\n",
              "      <th>sub_product_group1</th>\n",
              "      <th>product_group</th>\n",
              "      <th>content</th>\n",
              "    </tr>\n",
              "  </thead>\n",
              "  <tbody>\n",
              "    <tr>\n",
              "      <th>0</th>\n",
              "      <td>ไข่ไก่</td>\n",
              "      <td>ไข่</td>\n",
              "      <td>ไข่ นม เนย ชีส</td>\n",
              "      <td>ไข่ไก่คละ เบอร์ 3-4 มีฝา x 30 ฟอง\\nรหัสสินค้า ...</td>\n",
              "    </tr>\n",
              "    <tr>\n",
              "      <th>1</th>\n",
              "      <td>ไข่เป็ดและไข่อื่นๆ</td>\n",
              "      <td>ไข่</td>\n",
              "      <td>ไข่ นม เนย ชีส</td>\n",
              "      <td>เอโร่ ไข่เป็ด เบอร์ 1 มีฝา x 20 ฟอง\\nรหัสสินค้...</td>\n",
              "    </tr>\n",
              "    <tr>\n",
              "      <th>2</th>\n",
              "      <td>ไข่แปรรูป</td>\n",
              "      <td>ไข่</td>\n",
              "      <td>ไข่ นม เนย ชีส</td>\n",
              "      <td>ไข่ไก่ต้มสุกพร้อมไหว้ x 4 ฟอง\\nรหัสสินค้า 8970...</td>\n",
              "    </tr>\n",
              "    <tr>\n",
              "      <th>4</th>\n",
              "      <td>นมสด</td>\n",
              "      <td>ผลิตภัณฑ์นม</td>\n",
              "      <td>ไข่ นม เนย ชีส</td>\n",
              "      <td>เมจิ นมพาสเจอร์ไรส์ ปราศจากน้ำตาลแลคโตส ไขมัน ...</td>\n",
              "    </tr>\n",
              "    <tr>\n",
              "      <th>5</th>\n",
              "      <td>โยเกิร์ต</td>\n",
              "      <td>ผลิตภัณฑ์นม</td>\n",
              "      <td>ไข่ นม เนย ชีส</td>\n",
              "      <td>ดัชชี่ โยเกิร์ต ไขมัน 0% ผสมมิกซ์เบอร์รี่และธั...</td>\n",
              "    </tr>\n",
              "    <tr>\n",
              "      <th>6</th>\n",
              "      <td>ครีม</td>\n",
              "      <td>ผลิตภัณฑ์นม</td>\n",
              "      <td>ไข่ นม เนย ชีส</td>\n",
              "      <td>เดบิค วิปปิ้งครีม 1 ลิตร\\nรหัสสินค้า 896420\\n\\...</td>\n",
              "    </tr>\n",
              "    <tr>\n",
              "      <th>7</th>\n",
              "      <td>ชีส</td>\n",
              "      <td>ผลิตภัณฑ์นม</td>\n",
              "      <td>ไข่ นม เนย ชีส</td>\n",
              "      <td>อลาวรี่ โพรเซสชีส x 81 สไลซ์\\nรหัสสินค้า 70889...</td>\n",
              "    </tr>\n",
              "    <tr>\n",
              "      <th>8</th>\n",
              "      <td>เนย</td>\n",
              "      <td>ผลิตภัณฑ์นม</td>\n",
              "      <td>ไข่ นม เนย ชีส</td>\n",
              "      <td>อิมพีเรียล มาการีนซันฟลาวเวอร์ 250 กรัม\\nรหัสส...</td>\n",
              "    </tr>\n",
              "  </tbody>\n",
              "</table>\n",
              "</div>"
            ],
            "text/plain": [
              "   sub_product_group2  ...                                            content\n",
              "0              ไข่ไก่  ...  ไข่ไก่คละ เบอร์ 3-4 มีฝา x 30 ฟอง\\nรหัสสินค้า ...\n",
              "1  ไข่เป็ดและไข่อื่นๆ  ...  เอโร่ ไข่เป็ด เบอร์ 1 มีฝา x 20 ฟอง\\nรหัสสินค้...\n",
              "2           ไข่แปรรูป  ...  ไข่ไก่ต้มสุกพร้อมไหว้ x 4 ฟอง\\nรหัสสินค้า 8970...\n",
              "4                นมสด  ...  เมจิ นมพาสเจอร์ไรส์ ปราศจากน้ำตาลแลคโตส ไขมัน ...\n",
              "5            โยเกิร์ต  ...  ดัชชี่ โยเกิร์ต ไขมัน 0% ผสมมิกซ์เบอร์รี่และธั...\n",
              "6                ครีม  ...  เดบิค วิปปิ้งครีม 1 ลิตร\\nรหัสสินค้า 896420\\n\\...\n",
              "7                 ชีส  ...  อลาวรี่ โพรเซสชีส x 81 สไลซ์\\nรหัสสินค้า 70889...\n",
              "8                 เนย  ...  อิมพีเรียล มาการีนซันฟลาวเวอร์ 250 กรัม\\nรหัสส...\n",
              "\n",
              "[8 rows x 4 columns]"
            ]
          },
          "metadata": {
            "tags": []
          },
          "execution_count": 208
        }
      ]
    },
    {
      "cell_type": "code",
      "metadata": {
        "colab": {
          "base_uri": "https://localhost:8080/"
        },
        "id": "q_Xl9CdPANZN",
        "outputId": "761b63a5-07b2-4b20-8a10-65004ad4d27b"
      },
      "source": [
        "content = list(df['content'])\n",
        "\n",
        "contentx = []\n",
        "for i in content:\n",
        "  contentx.append(i.replace('%\\n\\n','%\\n').replace('\\n\\n-','\\n-'))\n",
        "\n",
        "sub_product_group2 = list(df['sub_product_group2'])\n",
        "map = dict(zip(sub_product_group2,contentx))\n",
        "map"
      ],
      "execution_count": 209,
      "outputs": [
        {
          "output_type": "execute_result",
          "data": {
            "text/plain": [
              "{'ครีม': 'เดบิค วิปปิ้งครีม 1 ลิตร\\nรหัสสินค้า 896420\\n\\n219.00 ฿\\n-18%\\n179.00 ฿\\nราคาต่อชิ้น\\xa0 179.00 ฿\\n\\nฟิลาเดลเฟีย ครีมชีส 2 กิโลกรัม\\nรหัสสินค้า 15093\\n849.00 ฿\\nราคาต่อชิ้น\\xa0 849.00 ฿\\n\\nแมกโนเลีย วิปปิ้งครีม ขนาด 946 มล.\\nรหัสสินค้า 168538\\n179.00 ฿\\nราคาต่อชิ้น\\xa0 179.00 ฿\\n\\nเมจิ วิปปิ้งครีม 946 มล.\\nรหัสสินค้า 219498\\n175.00 ฿\\nราคาต่อชิ้น\\xa0 175.00 ฿\\n\\nฟิลาเดลเฟีย ไลท์ครีมชีสนุ่ม 250 กรัม\\nรหัสสินค้า 399919\\n179.00 ฿\\nราคาต่อชิ้น\\xa0 179.00 ฿\\n\\nฟิลาเดลเฟีย ครีมชีสออริจินัล 250 กรัม\\nรหัสสินค้า 131222\\n162.00 ฿\\nราคาต่อชิ้น\\xa0 162.00 ฿\\n\\nเอโร่ วิปปิ้งครีม 1900 มล.\\nรหัสสินค้า 157681\\n325.00 ฿\\nราคาต่อชิ้น\\xa0 325.00 ฿\\n\\nแมกโนเลีย กูร์เมต์ ฮาฟครีม ครีมแท้พร่องมันเนย 946 มล.\\nรหัสสินค้า 142138\\n112.00 ฿\\nราคาต่อชิ้น\\xa0 112.00 ฿',\n",
              " 'ชีส': 'อลาวรี่ โพรเซสชีส x 81 สไลซ์\\nรหัสสินค้า 70889\\n369.00 ฿\\nราคาต่อชิ้น\\xa0 369.00 ฿\\n\\nอลาวรี่ โพรเชสเชดด้าชีส 1 กิโลกรัม x 48 แผ่น\\nรหัสสินค้า 222534\\n\\n369.00 ฿\\n-8%\\n339.00 ฿\\nราคาต่อชิ้น\\xa0 339.00 ฿\\n\\nฟิลาเดลเฟีย ครีมชีส 2 กิโลกรัม\\nรหัสสินค้า 15093\\n849.00 ฿\\nราคาต่อชิ้น\\xa0 849.00 ฿\\n\\nอิมพีเรียล มอสซาเรลล่า ชนิดเส้น 150 กรัม\\nรหัสสินค้า 117929\\n142.00 ฿\\nราคาต่อชิ้น\\xa0 142.00 ฿\\n\\nอลาวรี่ ชีสสควีซ 310 กรัม\\nรหัสสินค้า 811967\\n135.00 ฿\\nราคาต่อชิ้น\\xa0 135.00 ฿\\n\\nอลาวรี่ ชีสสควีซ มิกซ์โฟร์ชีส 310 กรัม\\nรหัสสินค้า 828905\\n135.00 ฿\\nราคาต่อชิ้น\\xa0 135.00 ฿\\n\\nอิมพีเรียล พามีซานชีส (แท่ง) 1.3 กิโลกรัม\\nรหัสสินค้า 109562\\n780.00 ฿\\nราคาต่อชิ้น\\xa0 780.00 ฿\\n\\nชีสโตะ ซอสสำเร็จรูป รสไข่เค็ม 800 กรัม\\nรหัสสินค้า 856321\\n89.00 ฿\\nราคาต่อชิ้น\\xa0 89.00 ฿\\n\\nฟิลาเดลเฟีย ไลท์ครีมชีสนุ่ม 250 กรัม\\nรหัสสินค้า 399919\\n179.00 ฿\\nราคาต่อชิ้น\\xa0 179.00 ฿\\n\\nฟิลาเดลเฟีย ครีมชีสออริจินัล 250 กรัม\\nรหัสสินค้า 131222\\n162.00 ฿\\nราคาต่อชิ้น\\xa0 162.00 ฿\\n\\nเชสเดล เชดด้าชีสชนิดแผ่น 500 กรัม x 24 แผ่น\\nรหัสสินค้า 126089\\n262.00 ฿\\nราคาต่อชิ้น\\xa0 10.92 ฿\\n\\nอลาวรี โพรเซสเชดด้าชีส 500 กรัม x 24 แผ่น\\nรหัสสินค้า 108966\\n235.00 ฿\\nราคาต่อชิ้น\\xa0 235.00 ฿\\n\\nอิมพีเรียล เชดด้าชีส 500 กรัม x 24 สไลซ์\\nรหัสสินค้า 59696\\n209.00 ฿\\nราคาต่อชิ้น\\xa0 8.71 ฿\\n\\nอิมพีเรียล พามีซานสไตล์ชีส 100 กรัม\\nรหัสสินค้า 117928\\n139.00 ฿\\nราคาต่อชิ้น\\xa0 139.00 ฿\\n\\nอลาวรี่ ชีสสควีซ มิกซ์โฟร์ชีส 600 กรัม\\nรหัสสินค้า 837130\\n229.00 ฿\\nราคาต่อชิ้น\\xa0 229.00 ฿\\n\\nอลาวรี่ เชดดาชีส 250 กรัม x 12 สไลซ์\\nรหัสสินค้า 579956\\n137.00 ฿\\nราคาต่อชิ้น\\xa0 137.00 ฿\\n\\nอลาวลี่ ชีสสควีซ 600 กรัม\\nรหัสสินค้า 817537\\n229.00 ฿\\nราคาต่อชิ้น\\xa0 229.00 ฿\\n\\nเชสเดล เชดด้าชีสสไลซ์ รสธรรมดา 250 กรัม\\nรหัสสินค้า 126024\\n145.00 ฿\\nราคาต่อชิ้น\\xa0 145.00 ฿',\n",
              " 'นมสด': 'เมจิ นมพาสเจอร์ไรส์ ปราศจากน้ำตาลแลคโตส ไขมัน 0% 2000 มล.\\nรหัสสินค้า 894300\\n\\n154.00 ฿\\n-16%\\n129.00 ฿\\nราคาต่อชิ้น\\xa0 129.00 ฿\\n\\nเมจิ นมพาสเจอร์ไรส์ ปราศจากน้ำตาลแลคโตส ไขมัน 0% 830 มล.\\nรหัสสินค้า 894302\\n\\n65.00 ฿\\n-9%\\n59.00 ฿\\nราคาต่อชิ้น\\xa0 59.00 ฿\\n\\nแมกโนเลีย นมสดพาสเจอร์ไรซ์ 2 ลิตร\\nรหัสสินค้า 236088\\n\\n90.00 ฿\\n-5%\\n85.00 ฿\\nราคาต่อชิ้น\\xa0 85.00 ฿\\n\\nแมกโนเลีย นมพาสเจอไรซ์ 5 ลิตร\\nรหัสสินค้า 36790\\n\\n203.00 ฿\\n-3%\\n195.00 ฿\\nราคาต่อชิ้น\\xa0 195.00 ฿\\n\\nแมกโนเลีย พลัส นมแลคโตสฟรี รสวานิลลาไวท์ช็อกโกแลต 946 มล.\\nรหัสสินค้า 846010\\n\\n85.00 ฿\\n-7%\\n79.00 ฿\\nราคาต่อชิ้น\\xa0 79.00 ฿\\n\\nแมกโนเลีย พลัส นมแลคโตสฟรี พาสเจอร์ไรส์ รสโกโก้ 946 มล.\\nรหัสสินค้า 846012\\n\\n85.00 ฿\\n-7%\\n79.00 ฿\\nราคาต่อชิ้น\\xa0 79.00 ฿\\n\\nแมกโนเลีย พลัส นมแลคโตสฟรี รสจืด 946 มล.\\nรหัสสินค้า 846008\\n\\n72.00 ฿\\n-2%\\n70.00 ฿\\nราคาต่อชิ้น\\xa0 70.00 ฿\\n\\nแมกโนเลีย นมบาริสต้า 946 มล.\\nรหัสสินค้า 200253\\n\\n47.00 ฿\\n-4%\\n45.00 ฿\\nราคาต่อชิ้น\\xa0 45.00 ฿\\n\\nดัชมิลล์ นมรสจืด 830 มล. x 2 ขวด\\nรหัสสินค้า 625235\\n\\n89.00 ฿\\n-6%\\n83.00 ฿\\nราคาต่อชิ้น\\xa0 41.50 ฿\\n\\nดัชมิลล์ นมพาสเจอร์ไรซ์ พร่องมันเนย รสจืด 830 มล.\\nรหัสสินค้า 870974\\n\\n45.00 ฿\\n-6%\\n42.00 ฿\\nราคาต่อชิ้น\\xa0 42.00 ฿\\n\\nดัชมิลล์ นมสดพาสเจอไรซ์ รสจืด 400 มล.\\nรหัสสินค้า 818753\\n24.00 ฿\\nราคาต่อชิ้น\\xa0 24.00 ฿\\n\\nดัชมิลล์ นมสดพาสเจอร์ไรซ์ รสจืด 830 มล.\\nรหัสสินค้า 32357\\n\\n45.00 ฿\\n-6%\\n42.00 ฿\\nราคาต่อชิ้น\\xa0 42.00 ฿\\n\\nดัชมิลล์ นมพาสเจอไรซ์ รสไวท์มอลต์ 400 มล.\\nรหัสสินค้า 821332\\n24.00 ฿\\nราคาต่อชิ้น\\xa0 24.00 ฿\\n\\nดัชมิลล์ นมสดพาสเจอไรซ์ ขาดมันเนย รสจืด 400 มล.\\nรหัสสินค้า 818751\\n24.00 ฿\\nราคาต่อชิ้น\\xa0 24.00 ฿\\n\\nเมจิ นมสดพร่องมันเนย ไขมันต่ำ 830 มล.\\nรหัสสินค้า 495976\\n45.50 ฿\\nราคาต่อชิ้น\\xa0 45.50 ฿\\n\\nเมจิ นมสดพาสเจอร์ไรซ์ รสจืด 830 มล.\\nรหัสสินค้า 125346\\n45.50 ฿\\nราคาต่อชิ้น\\xa0 45.50 ฿\\n\\nเมจิ นมสดพาสเจอร์ไรซ์ ขาดมันเนย 830 มล.\\nรหัสสินค้า 433056\\n45.50 ฿\\nราคาต่อชิ้น\\xa0 45.50 ฿\\n\\nดัชมิลล์ นมสดพร่องมันเนย รสจืด 2000 มล.\\nรหัสสินค้า 107753\\n\\n91.00 ฿\\n-8%\\n83.00 ฿\\nราคาต่อชิ้น\\xa0 83.00 ฿\\n\\nดัชมิลล์ นมสด รสจืด 2000 มล.\\nรหัสสินค้า 107695\\n\\n91.00 ฿\\n-8%\\n83.00 ฿\\nราคาต่อชิ้น\\xa0 83.00 ฿\\n\\nเมจิ นมพาสเจอร์ไรส์ รสจืด 830 มล. x 2 ขวด\\nรหัสสินค้า 134950\\n\\n89.00 ฿\\n-8%\\n81.00 ฿\\nราคาต่อชิ้น\\xa0 40.50 ฿\\n\\nเมจิ นมบาริสต้าพาสเจอร์ไรซ์ 2000 มล.\\nรหัสสินค้า 853516\\n99.00 ฿\\nราคาต่อชิ้น\\xa0 99.00 ฿\\n\\nเมจิ นมโคปราศจากน้ำตาลแลคโตส 2000 มล.\\nรหัสสินค้า 840963\\n\\n154.00 ฿\\n-16%\\n129.00 ฿\\nราคาต่อชิ้น\\xa0 129.00 ฿\\n\\nดัชมิลล์ นมสดพาสเจอร์ไรซ์ 5 ลิตร\\nรหัสสินค้า 213941\\n\\n205.00 ฿\\n-5%\\n193.00 ฿\\nราคาต่อชิ้น\\xa0 193.00 ฿\\n\\nเมจิ นมสด รสจืด 946 มล.\\nรหัสสินค้า 130712\\n\\n47.00 ฿\\n-4%\\n45.00 ฿\\nราคาต่อชิ้น\\xa0 45.00 ฿\\n\\nเมจิ นมพาสเจอร์ไรซ์ รสกาแฟ 830 มล.\\nรหัสสินค้า 434083\\n46.00 ฿\\nราคาต่อชิ้น\\xa0 46.00 ฿\\n\\nเมจิ นมพาสเจอร์ไรซ์ รสช็อกโกแลต 830 มล.\\nรหัสสินค้า 298142\\n46.00 ฿\\nราคาต่อชิ้น\\xa0 46.00 ฿\\n\\nเมจิ นมปราศจากน้ำตาลแลคโตส 830 มล.\\nรหัสสินค้า 834709\\n\\n65.00 ฿\\n-9%\\n59.00 ฿\\nราคาต่อชิ้น\\xa0 59.00 ฿\\n\\nเมจิ นมพาสเจอร์ไรซ์ รสสตรอว์เบอร์รี 830 มล.\\nรหัสสินค้า 298363\\n46.00 ฿\\nราคาต่อชิ้น\\xa0 46.00 ฿\\n\\nแมกโนเลีย นมพาสเจอร์ไรซ์ รสช็อกโกแลตมอลต์ 800 มล.\\nรหัสสินค้า 175830\\n\\n45.00 ฿\\n-6%\\n42.00 ฿\\nราคาต่อชิ้น\\xa0 42.00 ฿\\n\\nเมจิ นมสดพาสเจอร์ไรซ์ รสจืด 5000 มล.\\nรหัสสินค้า 123929\\n205.00 ฿\\nราคาต่อชิ้น\\xa0 205.00 ฿\\n\\nเมจิ นมแลคโตสฟรี พาสเจอร์ไรส์ รสดาร์คช็อกโกแลต 830 มล.\\nรหัสสินค้า 847158\\n\\n65.00 ฿\\n-9%\\n59.00 ฿\\nราคาต่อชิ้น\\xa0 59.00 ฿\\n\\nเมจิโกลด์ นมพาสเจอไรซ์ มันเนย 4.3% 946 มล.\\nรหัสสินค้า 269724\\n\\n59.00 ฿\\n-6%\\n55.00 ฿\\nราคาต่อชิ้น\\xa0 55.00 ฿\\n\\nเมจิ นมพาสเจอร์ไรซ์ รสช็อกโกแลต 2000 มล.\\nรหัสสินค้า 132866\\n95.00 ฿\\nราคาต่อชิ้น\\xa0 95.00 ฿\\n\\nเมจิ นมสด รสสตรอว์เบอร์รี 200 มล. x 4 ขวด\\nรหัสสินค้า 407264\\n49.00 ฿\\nราคาต่อชิ้น\\xa0 12.25 ฿\\n\\nแมกโนเลีย นมพาสเจอร์ไรซ์ รสช็อกโกแลตมอลต์ 450 มล.\\nรหัสสินค้า 175828\\n28.00 ฿\\nราคาต่อชิ้น\\xa0 28.00 ฿\\n\\nเมจิ ไฮโปรตีน สูตรเวย์ รสช็อกโกแลต 350 มล.\\nรหัสสินค้า 825483\\n\\n49.00 ฿\\n-8%\\n45.00 ฿\\nราคาต่อชิ้น\\xa0 45.00 ฿\\n\\nเมจิ นมสด รสขาดมันเนย ไขมัน 0% 450 มล.\\nรหัสสินค้า 213322\\n26.00 ฿\\nราคาต่อชิ้น\\xa0 26.00 ฿\\n\\nเมจิ นมสด รสจืด 200 มล. x 4 ขวด\\nรหัสสินค้า 407186\\n48.00 ฿\\nราคาต่อชิ้น\\xa0 12.00 ฿\\n\\nเมจิ นมพาสเจอร์ไรซ์ รสจืด พร่องมันเนย 2000 มล.\\nรหัสสินค้า 132865\\n91.00 ฿\\nราคาต่อชิ้น\\xa0 91.00 ฿\\n\\nเมจิ นมพาสเจอร์ไรซ์ รสจืด 2000 มล.\\nรหัสสินค้า 1950\\n91.00 ฿\\nราคาต่อชิ้น\\xa0 91.00 ฿\\n\\nเมจิ นมสดพาสเจอร์ไรซ์ รสจืด 450 มล.\\nรหัสสินค้า 213241\\n26.00 ฿\\nราคาต่อชิ้น\\xa0 26.00 ฿\\n\\nเมจิ นมสดพร่องมันเนย รสจืด 2000 มล.\\nรหัสสินค้า 364143\\n91.00 ฿\\nราคาต่อชิ้น\\xa0 91.00 ฿',\n",
              " 'เนย': 'อิมพีเรียล มาการีนซันฟลาวเวอร์ 250 กรัม\\nรหัสสินค้า 127504\\n70.00 ฿\\nราคาต่อชิ้น\\xa0 70.00 ฿\\n\\nอลาวรี่ เนยชนิดจืด 10 กรัม x 100 ชิ้น\\nรหัสสินค้า 141269\\n\\n435.00 ฿\\n-3%\\n420.00 ฿\\nราคาต่อชิ้น\\xa0 4.20 ฿\\n\\nอลาวรี่ เนยแท้ชนิดเค็ม ห่อฟอยล์ 10 กรัม x 100 ก้อน\\nรหัสสินค้า 891904\\n\\n435.00 ฿\\n-3%\\n420.00 ฿\\nราคาต่อชิ้น\\xa0 4.20 ฿\\n\\nอลาวรี่ พรีเมี่ยม เนยแท้ ชนิดเค็ม 2 กิโลกรัม\\nรหัสสินค้า 837131\\n730.00 ฿\\nราคาต่อชิ้น\\xa0 730.00 ฿\\n\\nอลาวรี่ แวลู่ เนยรสเค็ม 2 กิโลกรัม\\nรหัสสินค้า 219502\\n\\n340.00 ฿\\n-5%\\n320.00 ฿\\nราคาต่อชิ้น\\xa0 320.00 ฿\\n\\nอลาวรี่ แวลู เนยผสม ชนิดจืด 2 กิโลกรัม\\nรหัสสินค้า 219501\\n\\n340.00 ฿\\n-5%\\n320.00 ฿\\nราคาต่อชิ้น\\xa0 320.00 ฿\\n\\nอลาวรี่ เนยผสมชนิดจืด 2 กิโลกรัม\\nรหัสสินค้า 175621\\n374.00 ฿\\nราคาต่อชิ้น\\xa0 374.00 ฿\\n\\nอลาวรี่ เนยผสมชนิดเค็ม 2 กิโลกรัม\\nรหัสสินค้า 168325\\n374.00 ฿\\nราคาต่อชิ้น\\xa0 374.00 ฿\\n\\nอลาวรี่ พรีเมี่ยม เนยแท้ชนิดจืด 2 กิโลกรัม\\nรหัสสินค้า 837132\\n730.00 ฿\\nราคาต่อชิ้น\\xa0 730.00 ฿\\n\\nอิมพีเรียล มาการีนซันฟลาวเวอร์ 10 กรัม x 100 ถ้วย\\nรหัสสินค้า 122786\\n225.00 ฿\\nราคาต่อชิ้น\\xa0 225.00 ฿\\n\\nอิมพีเรียล เนยผสมรสเค็ม 10 กรัม x 100 ถ้วย\\nรหัสสินค้า 122788\\n375.00 ฿\\nราคาต่อชิ้น\\xa0 375.00 ฿\\n\\nอลาวรี่ เนยแท้ชนิดจืด 227 กรัม\\nรหัสสินค้า 234931\\n114.00 ฿\\nราคาต่อชิ้น\\xa0 114.00 ฿\\n\\nอลาวรี่ เนยแท้ชนิดเค็ม 227 กรัม\\nรหัสสินค้า 234930\\n114.00 ฿\\nราคาต่อชิ้น\\xa0 114.00 ฿\\n\\nบลูแบนด์ มาร์การีน 454 กรัม\\nรหัสสินค้า 865021\\n\\n65.00 ฿\\n-9%\\n59.00 ฿\\nราคาต่อชิ้น\\xa0 59.00 ฿\\n\\nบลูแบนด์ มาร์การีน 1 กิโลกรัม\\nรหัสสินค้า 866196\\n83.00 ฿\\nราคาต่อชิ้น\\xa0 83.00 ฿\\n\\nบลูแบนด์ มาการีน 2 กิโลกรัม\\nรหัสสินค้า 866198\\n\\n229.00 ฿\\n-8%\\n209.00 ฿\\nราคาต่อชิ้น\\xa0 209.00 ฿\\n\\nบลูแบนด์ มาการีน 2 กิโลกรัม x 2 ถัง\\nรหัสสินค้า 866199\\n\\n449.00 ฿\\n-10%\\n400.00 ฿\\nราคาต่อชิ้น\\xa0 200.00 ฿\\n\\nอิมพีเรียล เนยจืด 227 กรัม\\nรหัสสินค้า 225447\\n\\n75.00 ฿\\n-4%\\n72.00 ฿\\nราคาต่อชิ้น\\xa0 72.00 ฿\\n\\nอิมพีเรียล เนยเค็ม 227 กรัม\\nรหัสสินค้า 225444\\n\\n75.00 ฿\\n-4%\\n72.00 ฿\\nราคาต่อชิ้น\\xa0 72.00 ฿\\n\\nอลาวรี่ เนยชนิดเค็ม 1 กิโลกรัม x 100 ถ้วย\\nรหัสสินค้า 375635\\n385.00 ฿\\nราคาต่อชิ้น\\xa0 3.85 ฿\\n\\nอลาวรี่ เนยรสจืด 10 กรัม x 100 ถ้วย\\nรหัสสินค้า 141270\\n385.00 ฿\\nราคาต่อชิ้น\\xa0 385.00 ฿\\n\\nอลาวรี่ แวลู่ เนยชนิดจืด 5 กิโลกรัม\\nรหัสสินค้า 144885\\n670.00 ฿\\nราคาต่อชิ้น\\xa0 670.00 ฿\\n\\nอลาวรี่ เนยกระเทียมและสมุนไพรปรุงสำเร็จรูป 500 กรัม\\nรหัสสินค้า 212169\\n189.00 ฿\\nราคาต่อชิ้น\\xa0 189.00 ฿\\n\\nอลาวรี่ แวลู่ เนยชนิดเค็ม 5 กิโลกรัม\\nรหัสสินค้า 144881\\n670.00 ฿\\nราคาต่อชิ้น\\xa0 670.00 ฿\\n\\nอลาวรี่ ทรัฟเฟิลบัตเตอร์ 110 กรัม\\nรหัสสินค้า 848780\\n249.00 ฿\\nราคาต่อชิ้น\\xa0 249.00 ฿\\n\\nอลาวรี่ เนยชนิดแท่ง รสจืด 5 กิโลกรัม (ยกลัง)\\nรหัสสินค้า 65650\\n823.00 ฿\\nราคาต่อชิ้น\\xa0 823.00 ฿\\n\\nอลาวรี่ เนยชนิดแท่ง รสเค็ม 5 กิโลกรัม (ยกลัง)\\nรหัสสินค้า 59644\\n823.00 ฿\\nราคาต่อชิ้น\\xa0 823.00 ฿\\n\\nอลาวรี่ เนยสด รสจืด 454 กรัม\\nรหัสสินค้า 212167\\n220.00 ฿\\nราคาต่อชิ้น\\xa0 220.00 ฿\\n\\nอลาวรี่ เนยสด รสเค็ม 454 กรัม\\nรหัสสินค้า 58500\\n220.00 ฿\\nราคาต่อชิ้น\\xa0 220.00 ฿',\n",
              " 'โยเกิร์ต': 'ดัชชี่ โยเกิร์ต ไขมัน 0% ผสมมิกซ์เบอร์รี่และธัญญาหาร 135 กรัม x 4 ถ้วย\\nรหัสสินค้า 862344\\n\\n58.00 ฿\\n-5%\\n55.00 ฿\\nราคาต่อชิ้น\\xa0 13.75 ฿\\n\\nดัชชี่ โยเกิร์ต ไขมัน 0% รสเลมอนผสมบุก 135 กรัม x 4 ถ้วย\\nรหัสสินค้า 862342\\n\\n58.00 ฿\\n-5%\\n55.00 ฿\\nราคาต่อชิ้น\\xa0 13.75 ฿\\n\\nดัชชี่ โยเกิร์ต ไขมัน 0% รสธรรมชาติ 135 กรัม x 4 ถ้วย\\nรหัสสินค้า 141598\\n\\n58.00 ฿\\n-5%\\n55.00 ฿\\nราคาต่อชิ้น\\xa0 13.75 ฿\\n\\nดัชชี่ โยเกิร์ต ไขมัน 0% ผสมวุ้นมะพร้าว 135 กรัม x 4 ถ้วย\\nรหัสสินค้า 160098\\n\\n58.00 ฿\\n-5%\\n55.00 ฿\\nราคาต่อชิ้น\\xa0 13.75 ฿\\n\\nดัชชี่ โยเกิร์ต ไขมัน 0% ผสมสตรอว์เบอร์รี 135 กรัม x 4 ถ้วย\\nรหัสสินค้า 160099\\n\\n58.00 ฿\\n-5%\\n55.00 ฿\\nราคาต่อชิ้น\\xa0 13.75 ฿\\n\\nโยเกิร์ต เมจิ กลิ่นองุ่นมัสแคทและว่านหางจระเข้ 135 กรัม x 4 ถ้วย\\nรหัสสินค้า 894488\\n58.00 ฿\\nราคาต่อชิ้น\\xa0 14.50 ฿\\n\\nดัชชี่ ไบโอ โยเกิร์ต รสแพสชั่นฟรุ้ตและพรุน 135 กรัม x 4 ถ้วย\\nรหัสสินค้า 894484\\n\\n58.00 ฿\\n-5%\\n55.00 ฿\\nราคาต่อชิ้น\\xa0 13.75 ฿\\n\\nดัชชี่ กรีก สไตล์ โยเกิร์ต รสออริจินัล 120 กรัม x 3 ถ้วย\\nรหัสสินค้า 847894\\n\\n59.00 ฿\\n-3%\\n57.00 ฿\\nราคาต่อชิ้น\\xa0 19.00 ฿\\n\\nดัชชี่ โยเกิร์ต ผสมวุ้นมะพร้าว 135 กรัม x 4 ถ้วย\\nรหัสสินค้า 925938\\n\\n54.00 ฿\\n-9%\\n49.00 ฿\\nราคาต่อชิ้น\\xa0 12.25 ฿\\n\\nดัชชี่ กรีก สไตล์ โยเกิร์ต รสแบล็คเชอร์รี่ 120 กรัม x 3 ถ้วย\\nรหัสสินค้า 804835\\n\\n59.00 ฿\\n-3%\\n57.00 ฿\\nราคาต่อชิ้น\\xa0 57.00 ฿\\n\\nดัชชี่ กรีก สไตล์ โยเกิร์ต รสเวรีเบอร์รี่ 120 กรัม x 3 ถ้วย\\nรหัสสินค้า 237576\\n\\n59.00 ฿\\n-3%\\n57.00 ฿\\nราคาต่อชิ้น\\xa0 19.00 ฿\\n\\nดัชชี่ โยเกิร์ต รสผลไม้รวม 135 กรัม x 4 ถ้วย\\nรหัสสินค้า 925951\\n\\n54.00 ฿\\n-9%\\n49.00 ฿\\nราคาต่อชิ้น\\xa0 12.25 ฿\\n\\nดัชชี่ โยเกิร์ตพร่องมันเนย 5 ลิตร\\nรหัสสินค้า 804833\\n\\n279.00 ฿\\n-1%\\n275.00 ฿\\nราคาต่อชิ้น\\xa0 275.00 ฿\\n\\nดัชชี่ โยเกิร์ต รสออริจินัล 2 กิโลกรัม\\nรหัสสินค้า 205375\\n\\n130.00 ฿\\n-3%\\n125.00 ฿\\nราคาต่อชิ้น\\xa0 125.00 ฿\\n\\nดัชชี่ โยเกิร์ต รสธรรมชาติ 135 กรัม x 4 ถ้วย\\nรหัสสินค้า 175058\\n\\n54.00 ฿\\n-9%\\n49.00 ฿\\nราคาต่อชิ้น\\xa0 12.25 ฿\\n\\nดัชชี่ โยเกิร์ต รสสตรอว์เบอร์รี 135 กรัม x 4 ถ้วย\\nรหัสสินค้า 110680\\n\\n54.00 ฿\\n-9%\\n49.00 ฿\\nราคาต่อชิ้น\\xa0 12.25 ฿\\n\\nดัชชี่ โยเกิร์ต รสสตรอว์เบอร์รี 80 กรัม x 4 ถ้วย\\nรหัสสินค้า 110685\\n\\n39.00 ฿\\n-10%\\n35.00 ฿\\nราคาต่อชิ้น\\xa0 8.75 ฿\\n\\nดัชชี่ โยเกิร์ต รสผลไม้รวม 80 กรัม x 4 ถ้วย\\nรหัสสินค้า 110687\\n\\n39.00 ฿\\n-10%\\n35.00 ฿\\nราคาต่อชิ้น\\xa0 8.75 ฿\\n\\nดัชชี่ โยเกิร์ตผสมวุ้นมะพร้าว 80 กรัม x 4 ถ้วย\\nรหัสสินค้า 110688\\n\\n39.00 ฿\\n-10%\\n35.00 ฿\\nราคาต่อชิ้น\\xa0 8.75 ฿\\n\\nดัชชี่ โยเกิร์ต รสธัญญาหาร 135 กรัม x 4 ถ้วย\\nรหัสสินค้า 925899\\n\\n54.00 ฿\\n-9%\\n49.00 ฿\\nราคาต่อชิ้น\\xa0 12.25 ฿\\n\\nดัชชี่ ไบโอ โยเกิร์ตผสมวุ้นมะพร้าว 135 กรัม x 4 ถ้วย\\nรหัสสินค้า 156620\\n\\n58.00 ฿\\n-5%\\n55.00 ฿\\nราคาต่อชิ้น\\xa0 13.75 ฿\\n\\nดัชชี่ โยเกิร์ต คละรส 80 กรัม x 4 ถ้วย\\nรหัสสินค้า 110689\\n\\n39.00 ฿\\n-10%\\n35.00 ฿\\nราคาต่อชิ้น\\xa0 8.75 ฿\\n\\nดัชชี่ ไบโอ โยเกิร์ต รสธรรมชาติ 135 กรัม x 4 ถ้วย\\nรหัสสินค้า 156618\\n\\n58.00 ฿\\n-5%\\n55.00 ฿\\nราคาต่อชิ้น\\xa0 13.75 ฿\\n\\nริชเชส โยเกิร์ต รสธรรมชาติ สูตรลดปริมาณน้ำตาล 43% 135 กรัม x 4 ถ้วย\\nรหัสสินค้า 142249\\n45.00 ฿\\nราคาต่อชิ้น\\xa0 11.25 ฿\\n\\nริชเชส นมเปรี้ยวโยเกิร์ตพร้อมดื่ม รสบลูเบอร์รี 800 มล.\\nรหัสสินค้า 201241\\n\\n39.00 ฿\\n-25%\\n29.00 ฿\\nราคาต่อชิ้น\\xa0 29.00 ฿\\n\\nริชเชส นมเปรี้ยวโยเกิร์ตพร้อมดื่ม รสผลไม้รวม 800 มล.\\nรหัสสินค้า 142226\\n\\n39.00 ฿\\n-25%\\n29.00 ฿\\nราคาต่อชิ้น\\xa0 29.00 ฿\\n\\nริชเชส นมเปรี้ยวโยเกิร์ตพร้อมดื่ม รสสตรอว์เบอร์รี 800 มล.\\nรหัสสินค้า 142225\\n\\n39.00 ฿\\n-25%\\n29.00 ฿\\nราคาต่อชิ้น\\xa0 29.00 ฿\\n\\nริชเชส นมเปรี้ยวโยเกิร์ตพร้อมดื่ม รสส้ม 800 มล.\\nรหัสสินค้า 201344\\n\\n39.00 ฿\\n-25%\\n29.00 ฿\\nราคาต่อชิ้น\\xa0 29.00 ฿\\n\\nริชเชส นมเปรี้ยวโยเกิร์ตพร้อมดื่ม รสธรรมชาติ 800 มล.\\nรหัสสินค้า 201238\\n\\n39.00 ฿\\n-25%\\n29.00 ฿\\nราคาต่อชิ้น\\xa0 29.00 ฿\\n\\nริชเชส นมเปรี้ยวโยเกิร์ตพร้อมดื่ม รสพรุนสกัด 800 มล.\\nรหัสสินค้า 142227\\n\\n39.00 ฿\\n-25%\\n29.00 ฿\\nราคาต่อชิ้น\\xa0 29.00 ฿\\n\\nดัชชี่ โยเกิร์ต รสออริจินัล 90 กรัม x 4 ถ้วย\\nรหัสสินค้า 845279\\n37.00 ฿\\nราคาต่อชิ้น\\xa0 9.25 ฿\\n\\nเมจิ บัลแกเรีย โยเกิร์ตพร้อมดื่ม รสไวลด์เบอร์รี x 3 ขวด\\nรหัสสินค้า 800817\\n58.00 ฿\\nราคาต่อชิ้น\\xa0 19.33 ฿\\n\\nเมจิ โยเกิร์ต ไขมัน 0% รสสตรอว์เบอร์รี่ 135 กรัม x 4 ถ้วย\\nรหัสสินค้า 840586\\n\\n58.00 ฿\\n-10%\\n52.00 ฿\\nราคาต่อชิ้น\\xa0 13.00 ฿\\n\\nเมจิ โยเกิร์ตไขมัน 0% ผสมวุ้นมะพร้าว 135 กรัม x 4 ถ้วย\\nรหัสสินค้า 840607\\n\\n58.00 ฿\\n-10%\\n52.00 ฿\\nราคาต่อชิ้น\\xa0 13.00 ฿\\n\\nเมจิ บัลแกเรีย โยเกิร์ตพร้อมดื่ม สูตรไขมัน 0% รสไลท์แอนด์มายด์ 140 มล. x 3 ขวด\\nรหัสสินค้า 855276\\n58.00 ฿\\nราคาต่อชิ้น\\xa0 19.33 ฿\\n\\nเมจิ โยเกิร์ต รสธรรมชาติ 90 กรัม x 4 ถ้วย\\nรหัสสินค้า 212432\\n39.00 ฿\\nราคาต่อชิ้น\\xa0 9.75 ฿\\n\\nเมจิ โยเกิร์ต รสองุ่นผสมวุ้นมะพร้าว 135 กรัม x 4 ถ้วย\\nรหัสสินค้า 847156\\n58.00 ฿\\nราคาต่อชิ้น\\xa0 14.50 ฿\\n\\nดัชมิลล์ นมเปรี้ยว รสส้ม 100 มล. x 6 ขวด\\nรหัสสินค้า 279929\\n\\n42.00 ฿\\n-11%\\n37.00 ฿\\nราคาต่อชิ้น\\xa0 6.17 ฿\\n\\nดัชมิลล์ นมเปรี้ยว รสส้ม 830 มล. x 2 ขวด\\nรหัสสินค้า 105319\\n\\n70.00 ฿\\n-7%\\n65.00 ฿\\nราคาต่อชิ้น\\xa0 32.50 ฿\\n\\nดัชมิลล์ นมเปรี้ยว คละรส 100 มล. x 6 ขวด\\nรหัสสินค้า 194051\\n\\n42.00 ฿\\n-11%\\n37.00 ฿\\nราคาต่อชิ้น\\xa0 6.17 ฿\\n\\nริชเชส โยเกิร์ตไขมันต่ำ 2 กิโลกรัม\\nรหัสสินค้า 825239\\n\\n129.00 ฿\\n-6%\\n121.00 ฿\\nราคาต่อชิ้น\\xa0 121.00 ฿\\n\\nริชเชส โยเกิร์ตผสมพรุนสกัด 135 กรัม x 4 ถ้วย\\nรหัสสินค้า 142251\\n46.00 ฿\\nราคาต่อชิ้น\\xa0 11.50 ฿\\n\\nริชเชส โยเกิร์ตผสมฟรุตสลัด 135 กรัม x 4 ถ้วย\\nรหัสสินค้า 201236\\n45.00 ฿\\nราคาต่อชิ้น\\xa0 11.25 ฿\\n\\nริชเชส โยเกิร์ตผสมวุ้นมะพร้าว 135 กรัม x 4 ถ้วย\\nรหัสสินค้า 142250\\n45.00 ฿\\nราคาต่อชิ้น\\xa0 11.25 ฿\\n\\nริชเชส โยเกิร์ตผสมสตรอว์เบอร์ 135 กรัม x 4 ถ้วย\\nรหัสสินค้า 201234\\n45.00 ฿\\nราคาต่อชิ้น\\xa0 11.25 ฿\\n\\nดัชมิลล์ นมเปรี้ยว รสผลไม้รวม 830 มล. x 2 ขวด\\nรหัสสินค้า 105245\\n\\n70.00 ฿\\n-7%\\n65.00 ฿\\nราคาต่อชิ้น\\xa0 32.50 ฿\\n\\nดัชมิลล์ นมเปรี้ยว รสสตรอว์เบอร์รี 830 มล.\\nรหัสสินค้า 141562\\n\\n36.00 ฿\\n-8%\\n33.00 ฿\\nราคาต่อชิ้น\\xa0 33.00 ฿\\n\\nดัชมิลล์ นมเปรี้ยว รสบลูเบอร์รี่ 400 มล.\\nรหัสสินค้า 356551\\n\\n22.00 ฿\\n-4%\\n21.00 ฿\\nราคาต่อชิ้น\\xa0 21.00 ฿\\n\\nดัชมิลล์ นมเปรี้ยว รสส้ม 830 มล.\\nรหัสสินค้า 141563\\n\\n36.00 ฿\\n-8%\\n33.00 ฿\\nราคาต่อชิ้น\\xa0 33.00 ฿\\n\\nดัชมิลล์ นมเปรี้ยว รสส้ม 400 มล.\\nรหัสสินค้า 307476\\n\\n22.00 ฿\\n-4%\\n21.00 ฿\\nราคาต่อชิ้น\\xa0 21.00 ฿\\n\\nดัชมิลล์ นมเปรี้ยว รสผลไม้รวม 830 มล.\\nรหัสสินค้า 141564\\n\\n36.00 ฿\\n-8%\\n33.00 ฿\\nราคาต่อชิ้น\\xa0 33.00 ฿\\n\\nดัชมิลล์ นมเปรี้ยว รสผลไม้รวม 400 มล.\\nรหัสสินค้า 307775\\n\\n22.00 ฿\\n-4%\\n21.00 ฿\\nราคาต่อชิ้น\\xa0 21.00 ฿\\n\\nดัชมิลล์ นมเปรี้ยว รสผลไม้รวม 100 มล. x 6 ขวด\\nรหัสสินค้า 278733\\n\\n42.00 ฿\\n-11%\\n37.00 ฿\\nราคาต่อชิ้น\\xa0 6.17 ฿\\n\\nดัชมิลล์ ดีไลท์ นมเปรี้ยวปราศจากไขมัน 160 มล. x 4 ขวด\\nรหัสสินค้า 161941\\n\\n38.00 ฿\\n-7%\\n35.00 ฿\\nราคาต่อชิ้น\\xa0 8.75 ฿\\n\\nดัชมิลล์ ดีไลท์ นมเปรี้ยวปราศจากไขมัน 100 มล. x 5 ขวด\\nรหัสสินค้า 161936\\n33.00 ฿\\nราคาต่อชิ้น\\xa0 6.60 ฿\\n\\nดัชมิลล์ ดีไลท์ นมเปรี้ยว สูตรน้ำตาลน้อย 160 มล. x 4 ขวด\\nรหัสสินค้า 215350\\n\\n38.00 ฿\\n-7%\\n35.00 ฿\\nราคาต่อชิ้น\\xa0 8.75 ฿\\n\\nดัชมิลล์ นมเปรี้ยว รสบลูเบอร์รี่ 100 มล. x 6 ขวด\\nรหัสสินค้า 108277\\n\\n42.00 ฿\\n-11%\\n37.00 ฿\\nราคาต่อชิ้น\\xa0 6.17 ฿\\n\\nดัชมิลล์ นมเปรี้ยว รสสตรอว์เบอร์รี 400 มล.\\nรหัสสินค้า 306982\\n\\n22.00 ฿\\n-4%\\n21.00 ฿\\nราคาต่อชิ้น\\xa0 21.00 ฿\\n\\nดัชมิลล์ นมเปรี้ยว รสสตรอว์เบอร์รี 100 มล. x 6 ขวด\\nรหัสสินค้า 278629\\n\\n42.00 ฿\\n-11%\\n37.00 ฿\\nราคาต่อชิ้น\\xa0 6.17 ฿\\n\\nเมจิ โยเกิร์ต คละรส 135 กรัม x 4 ถ้วย\\nรหัสสินค้า 114244\\n52.00 ฿\\nราคาต่อชิ้น\\xa0 13.00 ฿\\n\\nเมจิ บัลแกเรีย โยเกิร์ต รสกลมกล่อม 110 กรัม x 4 ถ้วย\\nรหัสสินค้า 210771\\n78.00 ฿\\nราคาต่อชิ้น\\xa0 19.50 ฿\\n\\nเมจิ บัลแกเรีย โยเกิร์ต สูตรไขมัน 0% รสกลมกล่อม 450 กรัม\\nรหัสสินค้า 811410\\n79.00 ฿\\nราคาต่อชิ้น\\xa0 79.00 ฿\\n\\nดัชมิลล์ ไลฟ์พลัส นมเปรี้ยว รสผักผลไม้รวม 830 มล.\\nรหัสสินค้า 853512\\n\\n36.00 ฿\\n-8%\\n33.00 ฿\\nราคาต่อชิ้น\\xa0 33.00 ฿\\n\\nเมจิ โยเกิร์ตผสมวุ้นมะพร้าว 90 กรัม x 4 ถ้วย\\nรหัสสินค้า 212420\\n39.00 ฿\\nราคาต่อชิ้น\\xa0 9.75 ฿\\n\\nเมจิ โยเกิร์ตผสมวุ้นมะพร้าว 135 กรัม x 4 ถ้วย\\nรหัสสินค้า 127309\\n52.00 ฿\\nราคาต่อชิ้น\\xa0 13.00 ฿\\n\\nเมจิ โยเกิร์ต รสสตรอว์เบอร์รี 135 กรัม x 4 ถ้วย\\nรหัสสินค้า 354406\\n52.00 ฿\\nราคาต่อชิ้น\\xa0 13.00 ฿\\n\\nเมจิ โยเกิร์ต รสมิกซ์เบอร์รี่ 135 กรัม x 4 ถ้วย\\nรหัสสินค้า 114243\\n52.00 ฿\\nราคาต่อชิ้น\\xa0 13.00 ฿\\n\\nเมจิ โยเกิร์ต รสธรรมชาติ 135 กรัม x 4 ถ้วย\\nรหัสสินค้า 401414\\n52.00 ฿\\nราคาต่อชิ้น\\xa0 13.00 ฿\\n\\nเมจิ โยเกิร์ต ไขมัน 0% รสธรรมชาติ 135 กรัม x 4 ถ้วย\\nรหัสสินค้า 840605\\n\\n58.00 ฿\\n-10%\\n52.00 ฿\\nราคาต่อชิ้น\\xa0 52.00 ฿\\n\\nเมจิ บัลแกเรีย โยเกิร์ตพร้อมดื่ม รสกลมกล่อม x 3 ขวด\\nรหัสสินค้า 800816\\n58.00 ฿\\nราคาต่อชิ้น\\xa0 58.00 ฿\\n\\nเมจิ บัลแกเรีย โยเกิร์ต รสธรรมชาติ 110 กรัม x 4 ถ้วย\\nรหัสสินค้า 210666\\n78.00 ฿\\nราคาต่อชิ้น\\xa0 19.50 ฿\\n\\nเมจิ บัลแกเรีย โยเกิร์ต รสโกลเด้น ฮันนี 110 กรัม x 4 ถ้วย\\nรหัสสินค้า 229703\\n78.00 ฿\\nราคาต่อชิ้น\\xa0 78.00 ฿\\n\\nเมจิ โยเกิร์ต รสสตรอว์เบอร์รี 90 กรัม x 4 ถ้วย\\nรหัสสินค้า 212424\\n39.00 ฿\\nราคาต่อชิ้น\\xa0 9.75 ฿\\n\\nริชเชส ครีมโยเกิร์ตผสมสตรอว์เบอร์รี 5 กิโลกรัม\\nรหัสสินค้า 160091\\n289.00 ฿\\nราคาต่อชิ้น\\xa0 289.00 ฿\\n\\nริชเชส ครีมโยเกิร์ต รสธรรมชาติ 5 กิโลกรัม\\nรหัสสินค้า 160089\\n279.00 ฿\\nราคาต่อชิ้น\\xa0 279.00 ฿\\n\\nเมจิ โยเกิร์ตพร่องมันเนย 500 กรัม\\nรหัสสินค้า 229702\\n49.00 ฿\\nราคาต่อชิ้น\\xa0 49.00 ฿',\n",
              " 'ไข่เป็ดและไข่อื่นๆ': 'เอโร่ ไข่เป็ด เบอร์ 1 มีฝา x 20 ฟอง\\nรหัสสินค้า 122314\\n88.00 ฿\\nราคาต่อชิ้น\\xa0 88.00 ฿\\n\\nเคซีเอฟ ไข่เป็ด เบอร์ 1 x 6 ฟอง\\nรหัสสินค้า 122151\\n36.00 ฿\\nราคาต่อชิ้น\\xa0 6.00 ฿\\n\\nเอโร่ ไข่นกกระทา x 30 ฟอง\\nรหัสสินค้า 817005\\n33.00 ฿\\nราคาต่อชิ้น\\xa0 1.10 ฿\\n\\nเอโร่ ไข่นกกระทา x 100 ฟอง\\nรหัสสินค้า 817007\\n95.00 ฿\\nราคาต่อชิ้น\\xa0 0.95 ฿\\n\\nเอโร่ ไข่นกกระทา x 50 ฟอง\\nรหัสสินค้า 817006\\n49.00 ฿\\nราคาต่อชิ้น\\xa0 0.98 ฿',\n",
              " 'ไข่แปรรูป': 'ไข่ไก่ต้มสุกพร้อมไหว้ x 4 ฟอง\\nรหัสสินค้า 897029\\n39.00 ฿\\nราคาต่อชิ้น\\xa0 9.75 ฿\\n\\nเอโร่ ไข่เค็มต้ม x 30 ฟอง\\nรหัสสินค้า 817124\\n180.00 ฿\\nราคาต่อชิ้น\\xa0 180.00 ฿\\n\\nเคซีเอฟ ไข่ไก่ต้มสุก ปอกเปลือก x 20 ฟอง\\nรหัสสินค้า 188488\\n92.00 ฿\\nราคาต่อชิ้น\\xa0 4.60 ฿\\n\\nเอโร่ ไข่เยี่ยวม้า x 6 ฟอง\\nรหัสสินค้า 860006\\n42.00 ฿\\nราคาต่อชิ้น\\xa0 7.00 ฿\\n\\nเอโร่ ไข่เยี่ยวม้า x 20 ฟอง\\nรหัสสินค้า 122322\\n135.00 ฿\\nราคาต่อชิ้น\\xa0 135.00 ฿\\n\\nเคซีเอฟ ไข่เค็มดิบ x 10 ฟอง\\nรหัสสินค้า 122166\\n100.00 ฿\\nราคาต่อชิ้น\\xa0 10.00 ฿\\n\\nพันธ์ศักดิ์ ไข่เยี่ยวม้า x 6 ฟอง\\nรหัสสินค้า 863821\\n62.00 ฿\\nราคาต่อชิ้น\\xa0 10.33 ฿\\n\\nเคซีเอฟ ไข่พะโล้ x 30 ฟอง ยกลัง\\nรหัสสินค้า 869418\\n210.00 ฿\\nราคาต่อชิ้น\\xa0 7.00 ฿\\n\\nพันธ์ศักดิ์ ไข่เค็มต้ม x 6 ฟอง\\nรหัสสินค้า 863823\\n55.00 ฿\\nราคาต่อชิ้น\\xa0 9.17 ฿\\n\\nเจ้ควิก ไข่เค็มดิบไชยา x 10 ฟอง\\nรหัสสินค้า 786162\\n89.00 ฿\\nราคาต่อชิ้น\\xa0 8.90 ฿\\n\\nเอโร่ ไข่เค็มต้ม x 20 ฟอง\\nรหัสสินค้า 122324\\n129.00 ฿\\nราคาต่อชิ้น\\xa0 129.00 ฿\\n\\nเอโร่ ไข่เยี่ยวม้า 30 ฟอง\\nรหัสสินค้า 817122\\n185.00 ฿\\nราคาต่อชิ้น\\xa0 185.00 ฿\\n\\nมิสสะอาด ไข่เยี่ยวม้า x 4 ฟอง\\nรหัสสินค้า 122768\\n45.00 ฿\\nราคาต่อชิ้น\\xa0 11.25 ฿\\n\\nเคซีเอฟ ไข่เค็มต้มบางเลน x 50 ฟอง\\nรหัสสินค้า 867959\\n369.00 ฿\\nราคาต่อชิ้น\\xa0 7.38 ฿\\n\\nชยาทิต ไข่เค็มดิบ แพ็คละ 5 ฟอง\\nรหัสสินค้า 260260\\n52.00 ฿\\nราคาต่อชิ้น\\xa0 52.00 ฿\\n\\nเคซีเอฟ ไข่เค็มต้ม x 6 ฟอง\\nรหัสสินค้า 122156\\n53.00 ฿\\nราคาต่อชิ้น\\xa0 8.83 ฿\\n\\nเจ้ควิก ไข่เค็มไชยา x 6 ฟอง\\nรหัสสินค้า 307697\\n56.00 ฿\\nราคาต่อชิ้น\\xa0 9.33 ฿\\n\\nมิสสะอาด ไข่เค็มดิบไชยา x 10 ฟอง\\nรหัสสินค้า 122769\\n99.00 ฿\\nราคาต่อชิ้น\\xa0 9.90 ฿\\n\\nเคซีเอฟ ไข่เค็มต้ม แพ็คละ 4 ฟอง\\nรหัสสินค้า 122155\\n40.00 ฿\\nราคาต่อชิ้น\\xa0 40.00 ฿\\n\\nเอโร่ ไข่เยี่ยวม้า กล่องละ 50 ฟอง\\nรหัสสินค้า 122321\\n323.00 ฿\\nราคาต่อชิ้น\\xa0 6.46 ฿\\n\\nเอโร่ ไข่เค็มต้ม x 50 ฟอง\\nรหัสสินค้า 122325\\n318.00 ฿\\nราคาต่อชิ้น\\xa0 318.00 ฿\\n\\nมิสสะอาด ไข่เค็มต้มสุก x 4 ฟอง\\nรหัสสินค้า 145174\\n40.00 ฿\\nราคาต่อชิ้น\\xa0 10.00 ฿\\n\\nเจ้ควิก ไข่เยี่ยวม้า x 4 ฟอง\\nรหัสสินค้า 308074\\n46.00 ฿\\nราคาต่อชิ้น\\xa0 11.50 ฿',\n",
              " 'ไข่ไก่': 'ไข่ไก่คละ เบอร์ 3-4 มีฝา x 30 ฟอง\\nรหัสสินค้า 863734\\n105.00 ฿\\nราคาต่อชิ้น\\xa0 3.50 ฿\\n\\nเอโร่ ไข่ไก่ เบอร์ 3 มีฝา x 30 ฟอง\\nรหัสสินค้า 864156\\n108.00 ฿\\nราคาต่อชิ้น\\xa0 3.60 ฿\\n\\nไข่ไก่ มีฝา เบอร์ 4 x 30 ฟอง\\nรหัสสินค้า 200228\\n102.00 ฿\\nราคาต่อชิ้น\\xa0 3.40 ฿\\n\\nไข่ไก่ มีฝา เบอร์ 2 x 30 ฟอง\\nรหัสสินค้า 80652\\n113.00 ฿\\nราคาต่อชิ้น\\xa0 3.77 ฿\\n\\nไข่ไก่ เบอร์ 3 มีฝา x 30 ฟอง\\nรหัสสินค้า 802281\\n108.00 ฿\\nราคาต่อชิ้น\\xa0 3.60 ฿\\n\\nไข่ไก่ เบอร์ 5 ไม่มีฝา 30 ฟอง x 4 แผง\\nรหัสสินค้า 185599\\n376.00 ฿\\nราคาต่อชิ้น\\xa0 376.00 ฿\\n\\nเอโร่ ไข่ไก่ เบอร์ 2 มีฝา x 30 ฟอง\\nรหัสสินค้า 198368\\n112.00 ฿\\nราคาต่อชิ้น\\xa0 112.00 ฿\\n\\nไข่ไก่ เบอร์ 4 ไม่มีฝา 30 ฟอง x 4 แผง\\nรหัสสินค้า 83785\\n408.00 ฿\\nราคาต่อชิ้น\\xa0 408.00 ฿\\n\\nไข่ไก่ เบอร์ 2 ไม่มีฝา 30 ฟอง x 5 แผง\\nรหัสสินค้า 79716\\n550.00 ฿\\nราคาต่อชิ้น\\xa0 550.00 ฿\\n\\nไข่ไก่ เบอร์ 3 ไม่มีฝา 30 ฟอง x 5 แผง\\nรหัสสินค้า 152192\\n535.00 ฿\\nราคาต่อชิ้น\\xa0 535.00 ฿\\n\\nเคซีเอฟ ไข่ไก่ เบอร์ 3 x 10 ฟอง\\nรหัสสินค้า 122148\\n40.00 ฿\\nราคาต่อชิ้น\\xa0 40.00 ฿\\n\\nเคซีเอฟ ไข่ไก่ เบอร์ 2 x 10 ฟอง\\nรหัสสินค้า 122138\\n42.00 ฿\\nราคาต่อชิ้น\\xa0 42.00 ฿\\n\\nเคซีเอฟ ไข่ไก่ เบอร์ 1 x 10 ฟอง\\nรหัสสินค้า 122132\\n44.00 ฿\\nราคาต่อชิ้น\\xa0 44.00 ฿\\n\\nเคซีเอฟ ไข่ไก่จัมโบ้ เบอร์ 0 x 10 ฟอง\\nรหัสสินค้า 122128\\n49.00 ฿\\nราคาต่อชิ้น\\xa0 4.90 ฿\\n\\nซีพี ไข่ไก่ เบอร์ 2 มีฝา x 30 ฟอง\\nรหัสสินค้า 145021\\n127.00 ฿\\nราคาต่อชิ้น\\xa0 4.23 ฿\\n\\nซีพี ไข่ไก่ เบอร์ 3 มีฝา x 30 ฟอง\\nรหัสสินค้า 145038\\n125.00 ฿\\nราคาต่อชิ้น\\xa0 125.00 ฿\\n\\nไข่ไก่ เบอร์ 0 มีฝา x 30 ฟอง\\nรหัสสินค้า 172158\\n142.00 ฿\\nราคาต่อชิ้น\\xa0 142.00 ฿\\n\\nไข่ไก่ เบอร์ 1 มีฝา x 30 ฟอง\\nรหัสสินค้า 172157\\n124.00 ฿\\nราคาต่อชิ้น\\xa0 124.00 ฿\\n\\nไข่ไก่ เบอร์ 1 ไม่มีฝา 30 ฟอง x 3 ถาด\\nรหัสสินค้า 146760\\n360.00 ฿\\nราคาต่อชิ้น\\xa0 120.00 ฿\\n\\nเอโร่ ไข่ไก่ เบอร์ 2 x 10 ฟอง\\nรหัสสินค้า 812398\\n44.00 ฿\\nราคาต่อชิ้น\\xa0 4.40 ฿\\n\\nเอโร่ ไข่ไก่ เบอร์ 3 x 10 ฟอง\\nรหัสสินค้า 812401\\n42.00 ฿\\nราคาต่อชิ้น\\xa0 42.00 ฿\\n\\nซีพี ไข่ไก่โอเมก้า x 10 ฟอง\\nรหัสสินค้า 143648\\n60.00 ฿\\nราคาต่อชิ้น\\xa0 60.00 ฿\\n\\nเคซีเอฟ ไข่ไก่สด x 10 ฟอง\\nรหัสสินค้า 861403\\n52.00 ฿\\nราคาต่อชิ้น\\xa0 5.20 ฿\\n\\nไข่ไก่สดออร์แกนิค x 10 ฟอง\\nรหัสสินค้า 869215\\n78.00 ฿\\nราคาต่อชิ้น\\xa0 7.80 ฿\\n\\nเคซีเอฟ ไข่ไก่สด เคจฟรี x 10 ฟอง\\nรหัสสินค้า 891199\\n58.00 ฿\\nราคาต่อชิ้น\\xa0 5.80 ฿\\n\\nซีพี ไข่ไก่ เบอร์ 3 x 10 ฟอง\\nรหัสสินค้า 134606\\n51.00 ฿\\nราคาต่อชิ้น\\xa0 5.10 ฿\\n\\nซีพี ไข่ไก่สดปลอดสาร x 10 ฟอง\\nรหัสสินค้า 853645\\n72.00 ฿\\nราคาต่อชิ้น\\xa0 7.20 ฿\\n\\nซีพี ไข่ไก่ เบอร์ 2 x 10 ฟอง\\nรหัสสินค้า 134590\\n54.00 ฿\\nราคาต่อชิ้น\\xa0 5.40 ฿\\n\\nเอโร่ ไข่ไก่ เบอร์ 2 x 15 ฟอง\\nรหัสสินค้า 198445\\n68.00 ฿\\nราคาต่อชิ้น\\xa0 4.53 ฿\\n\\nซีพี ไข่ไก่ เบอร์ 1 x 10 ฟอง\\nรหัสสินค้า 134598\\n57.00 ฿\\nราคาต่อชิ้น\\xa0 5.70 ฿\\n\\nเอโร่ ไข่ไก่ เบอร์ 1 x 15 ฟอง\\nรหัสสินค้า 198419\\n69.00 ฿\\nราคาต่อชิ้น\\xa0 4.60 ฿\\n\\nซีพี ไข่ไก่ เบอร์ 0 x 10 ฟอง\\nรหัสสินค้า 178789\\n69.00 ฿\\nราคาต่อชิ้น\\xa0 6.90 ฿\\n\\nเอโร่ ไข่ไก่ เบอร์ 0 x 10 ฟอง\\nรหัสสินค้า 812399\\n53.00 ฿\\nราคาต่อชิ้น\\xa0 5.30 ฿\\n\\nเอโร่ ไข่ไก่ เบอร์ 1 x 10 ฟอง\\nรหัสสินค้า 812402\\n48.00 ฿\\nราคาต่อชิ้น\\xa0 4.80 ฿\\n\\nเอโร่ ไข่ไก่ เบอร์ 4 x 10 ฟอง\\nรหัสสินค้า 812400\\n40.00 ฿\\nราคาต่อชิ้น\\xa0 4.00 ฿'}"
            ]
          },
          "metadata": {
            "tags": []
          },
          "execution_count": 209
        }
      ]
    },
    {
      "cell_type": "code",
      "metadata": {
        "colab": {
          "base_uri": "https://localhost:8080/"
        },
        "id": "vaf584ZZArdB",
        "outputId": "af48b3bf-3f28-451d-f242-975fc364d06b"
      },
      "source": [
        "mapp = dict()\n",
        "for i in map:\n",
        "  for j in range(len(map[i].split('\\n\\n'))):\n",
        "    #mapp[j] = i\n",
        "\n",
        "    if map[i].split('\\n\\n')[j][0].isdigit():\n",
        "      #print((i,map[i].split('\\n\\n')[j]))\n",
        "      pass\n",
        "    elif map[i].split('\\n\\n')[j][-1] != '฿':\n",
        "      #print(i,map[i].split('\\n\\n')[j]+map[i].split('\\n\\n')[j+1])\n",
        "      mapp[map[i].split('\\n\\n')[j]+map[i].split('\\n\\n')[j+1]] = i\n",
        "    else:\n",
        "      mapp[map[i].split('\\n\\n')[j]] = i\n",
        "mapp"
      ],
      "execution_count": 210,
      "outputs": [
        {
          "output_type": "execute_result",
          "data": {
            "text/plain": [
              "{'ชยาทิต ไข่เค็มดิบ แพ็คละ 5 ฟอง\\nรหัสสินค้า 260260\\n52.00 ฿\\nราคาต่อชิ้น\\xa0 52.00 ฿': 'ไข่แปรรูป',\n",
              " 'ชีสโตะ ซอสสำเร็จรูป รสไข่เค็ม 800 กรัม\\nรหัสสินค้า 856321\\n89.00 ฿\\nราคาต่อชิ้น\\xa0 89.00 ฿': 'ชีส',\n",
              " 'ซีพี ไข่ไก่ เบอร์ 0 x 10 ฟอง\\nรหัสสินค้า 178789\\n69.00 ฿\\nราคาต่อชิ้น\\xa0 6.90 ฿': 'ไข่ไก่',\n",
              " 'ซีพี ไข่ไก่ เบอร์ 1 x 10 ฟอง\\nรหัสสินค้า 134598\\n57.00 ฿\\nราคาต่อชิ้น\\xa0 5.70 ฿': 'ไข่ไก่',\n",
              " 'ซีพี ไข่ไก่ เบอร์ 2 x 10 ฟอง\\nรหัสสินค้า 134590\\n54.00 ฿\\nราคาต่อชิ้น\\xa0 5.40 ฿': 'ไข่ไก่',\n",
              " 'ซีพี ไข่ไก่ เบอร์ 2 มีฝา x 30 ฟอง\\nรหัสสินค้า 145021\\n127.00 ฿\\nราคาต่อชิ้น\\xa0 4.23 ฿': 'ไข่ไก่',\n",
              " 'ซีพี ไข่ไก่ เบอร์ 3 x 10 ฟอง\\nรหัสสินค้า 134606\\n51.00 ฿\\nราคาต่อชิ้น\\xa0 5.10 ฿': 'ไข่ไก่',\n",
              " 'ซีพี ไข่ไก่ เบอร์ 3 มีฝา x 30 ฟอง\\nรหัสสินค้า 145038\\n125.00 ฿\\nราคาต่อชิ้น\\xa0 125.00 ฿': 'ไข่ไก่',\n",
              " 'ซีพี ไข่ไก่สดปลอดสาร x 10 ฟอง\\nรหัสสินค้า 853645\\n72.00 ฿\\nราคาต่อชิ้น\\xa0 7.20 ฿': 'ไข่ไก่',\n",
              " 'ซีพี ไข่ไก่โอเมก้า x 10 ฟอง\\nรหัสสินค้า 143648\\n60.00 ฿\\nราคาต่อชิ้น\\xa0 60.00 ฿': 'ไข่ไก่',\n",
              " 'ดัชชี่ กรีก สไตล์ โยเกิร์ต รสออริจินัล 120 กรัม x 3 ถ้วย\\nรหัสสินค้า 84789459.00 ฿\\n-3%\\n57.00 ฿\\nราคาต่อชิ้น\\xa0 19.00 ฿': 'โยเกิร์ต',\n",
              " 'ดัชชี่ กรีก สไตล์ โยเกิร์ต รสเวรีเบอร์รี่ 120 กรัม x 3 ถ้วย\\nรหัสสินค้า 23757659.00 ฿\\n-3%\\n57.00 ฿\\nราคาต่อชิ้น\\xa0 19.00 ฿': 'โยเกิร์ต',\n",
              " 'ดัชชี่ กรีก สไตล์ โยเกิร์ต รสแบล็คเชอร์รี่ 120 กรัม x 3 ถ้วย\\nรหัสสินค้า 80483559.00 ฿\\n-3%\\n57.00 ฿\\nราคาต่อชิ้น\\xa0 57.00 ฿': 'โยเกิร์ต',\n",
              " 'ดัชชี่ โยเกิร์ต คละรส 80 กรัม x 4 ถ้วย\\nรหัสสินค้า 11068939.00 ฿\\n-10%\\n35.00 ฿\\nราคาต่อชิ้น\\xa0 8.75 ฿': 'โยเกิร์ต',\n",
              " 'ดัชชี่ โยเกิร์ต ผสมวุ้นมะพร้าว 135 กรัม x 4 ถ้วย\\nรหัสสินค้า 92593854.00 ฿\\n-9%\\n49.00 ฿\\nราคาต่อชิ้น\\xa0 12.25 ฿': 'โยเกิร์ต',\n",
              " 'ดัชชี่ โยเกิร์ต รสธรรมชาติ 135 กรัม x 4 ถ้วย\\nรหัสสินค้า 17505854.00 ฿\\n-9%\\n49.00 ฿\\nราคาต่อชิ้น\\xa0 12.25 ฿': 'โยเกิร์ต',\n",
              " 'ดัชชี่ โยเกิร์ต รสธัญญาหาร 135 กรัม x 4 ถ้วย\\nรหัสสินค้า 92589954.00 ฿\\n-9%\\n49.00 ฿\\nราคาต่อชิ้น\\xa0 12.25 ฿': 'โยเกิร์ต',\n",
              " 'ดัชชี่ โยเกิร์ต รสผลไม้รวม 135 กรัม x 4 ถ้วย\\nรหัสสินค้า 92595154.00 ฿\\n-9%\\n49.00 ฿\\nราคาต่อชิ้น\\xa0 12.25 ฿': 'โยเกิร์ต',\n",
              " 'ดัชชี่ โยเกิร์ต รสผลไม้รวม 80 กรัม x 4 ถ้วย\\nรหัสสินค้า 11068739.00 ฿\\n-10%\\n35.00 ฿\\nราคาต่อชิ้น\\xa0 8.75 ฿': 'โยเกิร์ต',\n",
              " 'ดัชชี่ โยเกิร์ต รสสตรอว์เบอร์รี 135 กรัม x 4 ถ้วย\\nรหัสสินค้า 11068054.00 ฿\\n-9%\\n49.00 ฿\\nราคาต่อชิ้น\\xa0 12.25 ฿': 'โยเกิร์ต',\n",
              " 'ดัชชี่ โยเกิร์ต รสสตรอว์เบอร์รี 80 กรัม x 4 ถ้วย\\nรหัสสินค้า 11068539.00 ฿\\n-10%\\n35.00 ฿\\nราคาต่อชิ้น\\xa0 8.75 ฿': 'โยเกิร์ต',\n",
              " 'ดัชชี่ โยเกิร์ต รสออริจินัล 2 กิโลกรัม\\nรหัสสินค้า 205375130.00 ฿\\n-3%\\n125.00 ฿\\nราคาต่อชิ้น\\xa0 125.00 ฿': 'โยเกิร์ต',\n",
              " 'ดัชชี่ โยเกิร์ต รสออริจินัล 90 กรัม x 4 ถ้วย\\nรหัสสินค้า 845279\\n37.00 ฿\\nราคาต่อชิ้น\\xa0 9.25 ฿': 'โยเกิร์ต',\n",
              " 'ดัชชี่ โยเกิร์ต ไขมัน 0% ผสมมิกซ์เบอร์รี่และธัญญาหาร 135 กรัม x 4 ถ้วย\\nรหัสสินค้า 86234458.00 ฿\\n-5%\\n55.00 ฿\\nราคาต่อชิ้น\\xa0 13.75 ฿': 'โยเกิร์ต',\n",
              " 'ดัชชี่ โยเกิร์ต ไขมัน 0% ผสมวุ้นมะพร้าว 135 กรัม x 4 ถ้วย\\nรหัสสินค้า 16009858.00 ฿\\n-5%\\n55.00 ฿\\nราคาต่อชิ้น\\xa0 13.75 ฿': 'โยเกิร์ต',\n",
              " 'ดัชชี่ โยเกิร์ต ไขมัน 0% ผสมสตรอว์เบอร์รี 135 กรัม x 4 ถ้วย\\nรหัสสินค้า 16009958.00 ฿\\n-5%\\n55.00 ฿\\nราคาต่อชิ้น\\xa0 13.75 ฿': 'โยเกิร์ต',\n",
              " 'ดัชชี่ โยเกิร์ต ไขมัน 0% รสธรรมชาติ 135 กรัม x 4 ถ้วย\\nรหัสสินค้า 14159858.00 ฿\\n-5%\\n55.00 ฿\\nราคาต่อชิ้น\\xa0 13.75 ฿': 'โยเกิร์ต',\n",
              " 'ดัชชี่ โยเกิร์ต ไขมัน 0% รสเลมอนผสมบุก 135 กรัม x 4 ถ้วย\\nรหัสสินค้า 86234258.00 ฿\\n-5%\\n55.00 ฿\\nราคาต่อชิ้น\\xa0 13.75 ฿': 'โยเกิร์ต',\n",
              " 'ดัชชี่ โยเกิร์ตผสมวุ้นมะพร้าว 80 กรัม x 4 ถ้วย\\nรหัสสินค้า 11068839.00 ฿\\n-10%\\n35.00 ฿\\nราคาต่อชิ้น\\xa0 8.75 ฿': 'โยเกิร์ต',\n",
              " 'ดัชชี่ โยเกิร์ตพร่องมันเนย 5 ลิตร\\nรหัสสินค้า 804833279.00 ฿\\n-1%\\n275.00 ฿\\nราคาต่อชิ้น\\xa0 275.00 ฿': 'โยเกิร์ต',\n",
              " 'ดัชชี่ ไบโอ โยเกิร์ต รสธรรมชาติ 135 กรัม x 4 ถ้วย\\nรหัสสินค้า 15661858.00 ฿\\n-5%\\n55.00 ฿\\nราคาต่อชิ้น\\xa0 13.75 ฿': 'โยเกิร์ต',\n",
              " 'ดัชชี่ ไบโอ โยเกิร์ต รสแพสชั่นฟรุ้ตและพรุน 135 กรัม x 4 ถ้วย\\nรหัสสินค้า 89448458.00 ฿\\n-5%\\n55.00 ฿\\nราคาต่อชิ้น\\xa0 13.75 ฿': 'โยเกิร์ต',\n",
              " 'ดัชชี่ ไบโอ โยเกิร์ตผสมวุ้นมะพร้าว 135 กรัม x 4 ถ้วย\\nรหัสสินค้า 15662058.00 ฿\\n-5%\\n55.00 ฿\\nราคาต่อชิ้น\\xa0 13.75 ฿': 'โยเกิร์ต',\n",
              " 'ดัชมิลล์ ดีไลท์ นมเปรี้ยว สูตรน้ำตาลน้อย 160 มล. x 4 ขวด\\nรหัสสินค้า 21535038.00 ฿\\n-7%\\n35.00 ฿\\nราคาต่อชิ้น\\xa0 8.75 ฿': 'โยเกิร์ต',\n",
              " 'ดัชมิลล์ ดีไลท์ นมเปรี้ยวปราศจากไขมัน 100 มล. x 5 ขวด\\nรหัสสินค้า 161936\\n33.00 ฿\\nราคาต่อชิ้น\\xa0 6.60 ฿': 'โยเกิร์ต',\n",
              " 'ดัชมิลล์ ดีไลท์ นมเปรี้ยวปราศจากไขมัน 160 มล. x 4 ขวด\\nรหัสสินค้า 16194138.00 ฿\\n-7%\\n35.00 ฿\\nราคาต่อชิ้น\\xa0 8.75 ฿': 'โยเกิร์ต',\n",
              " 'ดัชมิลล์ นมพาสเจอร์ไรซ์ พร่องมันเนย รสจืด 830 มล.\\nรหัสสินค้า 87097445.00 ฿\\n-6%\\n42.00 ฿\\nราคาต่อชิ้น\\xa0 42.00 ฿': 'นมสด',\n",
              " 'ดัชมิลล์ นมพาสเจอไรซ์ รสไวท์มอลต์ 400 มล.\\nรหัสสินค้า 821332\\n24.00 ฿\\nราคาต่อชิ้น\\xa0 24.00 ฿': 'นมสด',\n",
              " 'ดัชมิลล์ นมรสจืด 830 มล. x 2 ขวด\\nรหัสสินค้า 62523589.00 ฿\\n-6%\\n83.00 ฿\\nราคาต่อชิ้น\\xa0 41.50 ฿': 'นมสด',\n",
              " 'ดัชมิลล์ นมสด รสจืด 2000 มล.\\nรหัสสินค้า 10769591.00 ฿\\n-8%\\n83.00 ฿\\nราคาต่อชิ้น\\xa0 83.00 ฿': 'นมสด',\n",
              " 'ดัชมิลล์ นมสดพร่องมันเนย รสจืด 2000 มล.\\nรหัสสินค้า 10775391.00 ฿\\n-8%\\n83.00 ฿\\nราคาต่อชิ้น\\xa0 83.00 ฿': 'นมสด',\n",
              " 'ดัชมิลล์ นมสดพาสเจอร์ไรซ์ 5 ลิตร\\nรหัสสินค้า 213941205.00 ฿\\n-5%\\n193.00 ฿\\nราคาต่อชิ้น\\xa0 193.00 ฿': 'นมสด',\n",
              " 'ดัชมิลล์ นมสดพาสเจอร์ไรซ์ รสจืด 830 มล.\\nรหัสสินค้า 3235745.00 ฿\\n-6%\\n42.00 ฿\\nราคาต่อชิ้น\\xa0 42.00 ฿': 'นมสด',\n",
              " 'ดัชมิลล์ นมสดพาสเจอไรซ์ ขาดมันเนย รสจืด 400 มล.\\nรหัสสินค้า 818751\\n24.00 ฿\\nราคาต่อชิ้น\\xa0 24.00 ฿': 'นมสด',\n",
              " 'ดัชมิลล์ นมสดพาสเจอไรซ์ รสจืด 400 มล.\\nรหัสสินค้า 818753\\n24.00 ฿\\nราคาต่อชิ้น\\xa0 24.00 ฿': 'นมสด',\n",
              " 'ดัชมิลล์ นมเปรี้ยว คละรส 100 มล. x 6 ขวด\\nรหัสสินค้า 19405142.00 ฿\\n-11%\\n37.00 ฿\\nราคาต่อชิ้น\\xa0 6.17 ฿': 'โยเกิร์ต',\n",
              " 'ดัชมิลล์ นมเปรี้ยว รสบลูเบอร์รี่ 100 มล. x 6 ขวด\\nรหัสสินค้า 10827742.00 ฿\\n-11%\\n37.00 ฿\\nราคาต่อชิ้น\\xa0 6.17 ฿': 'โยเกิร์ต',\n",
              " 'ดัชมิลล์ นมเปรี้ยว รสบลูเบอร์รี่ 400 มล.\\nรหัสสินค้า 35655122.00 ฿\\n-4%\\n21.00 ฿\\nราคาต่อชิ้น\\xa0 21.00 ฿': 'โยเกิร์ต',\n",
              " 'ดัชมิลล์ นมเปรี้ยว รสผลไม้รวม 100 มล. x 6 ขวด\\nรหัสสินค้า 27873342.00 ฿\\n-11%\\n37.00 ฿\\nราคาต่อชิ้น\\xa0 6.17 ฿': 'โยเกิร์ต',\n",
              " 'ดัชมิลล์ นมเปรี้ยว รสผลไม้รวม 400 มล.\\nรหัสสินค้า 30777522.00 ฿\\n-4%\\n21.00 ฿\\nราคาต่อชิ้น\\xa0 21.00 ฿': 'โยเกิร์ต',\n",
              " 'ดัชมิลล์ นมเปรี้ยว รสผลไม้รวม 830 มล.\\nรหัสสินค้า 14156436.00 ฿\\n-8%\\n33.00 ฿\\nราคาต่อชิ้น\\xa0 33.00 ฿': 'โยเกิร์ต',\n",
              " 'ดัชมิลล์ นมเปรี้ยว รสผลไม้รวม 830 มล. x 2 ขวด\\nรหัสสินค้า 10524570.00 ฿\\n-7%\\n65.00 ฿\\nราคาต่อชิ้น\\xa0 32.50 ฿': 'โยเกิร์ต',\n",
              " 'ดัชมิลล์ นมเปรี้ยว รสสตรอว์เบอร์รี 100 มล. x 6 ขวด\\nรหัสสินค้า 27862942.00 ฿\\n-11%\\n37.00 ฿\\nราคาต่อชิ้น\\xa0 6.17 ฿': 'โยเกิร์ต',\n",
              " 'ดัชมิลล์ นมเปรี้ยว รสสตรอว์เบอร์รี 400 มล.\\nรหัสสินค้า 30698222.00 ฿\\n-4%\\n21.00 ฿\\nราคาต่อชิ้น\\xa0 21.00 ฿': 'โยเกิร์ต',\n",
              " 'ดัชมิลล์ นมเปรี้ยว รสสตรอว์เบอร์รี 830 มล.\\nรหัสสินค้า 14156236.00 ฿\\n-8%\\n33.00 ฿\\nราคาต่อชิ้น\\xa0 33.00 ฿': 'โยเกิร์ต',\n",
              " 'ดัชมิลล์ นมเปรี้ยว รสส้ม 100 มล. x 6 ขวด\\nรหัสสินค้า 27992942.00 ฿\\n-11%\\n37.00 ฿\\nราคาต่อชิ้น\\xa0 6.17 ฿': 'โยเกิร์ต',\n",
              " 'ดัชมิลล์ นมเปรี้ยว รสส้ม 400 มล.\\nรหัสสินค้า 30747622.00 ฿\\n-4%\\n21.00 ฿\\nราคาต่อชิ้น\\xa0 21.00 ฿': 'โยเกิร์ต',\n",
              " 'ดัชมิลล์ นมเปรี้ยว รสส้ม 830 มล.\\nรหัสสินค้า 14156336.00 ฿\\n-8%\\n33.00 ฿\\nราคาต่อชิ้น\\xa0 33.00 ฿': 'โยเกิร์ต',\n",
              " 'ดัชมิลล์ นมเปรี้ยว รสส้ม 830 มล. x 2 ขวด\\nรหัสสินค้า 10531970.00 ฿\\n-7%\\n65.00 ฿\\nราคาต่อชิ้น\\xa0 32.50 ฿': 'โยเกิร์ต',\n",
              " 'ดัชมิลล์ ไลฟ์พลัส นมเปรี้ยว รสผักผลไม้รวม 830 มล.\\nรหัสสินค้า 85351236.00 ฿\\n-8%\\n33.00 ฿\\nราคาต่อชิ้น\\xa0 33.00 ฿': 'โยเกิร์ต',\n",
              " 'บลูแบนด์ มาการีน 2 กิโลกรัม\\nรหัสสินค้า 866198229.00 ฿\\n-8%\\n209.00 ฿\\nราคาต่อชิ้น\\xa0 209.00 ฿': 'เนย',\n",
              " 'บลูแบนด์ มาการีน 2 กิโลกรัม x 2 ถัง\\nรหัสสินค้า 866199449.00 ฿\\n-10%\\n400.00 ฿\\nราคาต่อชิ้น\\xa0 200.00 ฿': 'เนย',\n",
              " 'บลูแบนด์ มาร์การีน 1 กิโลกรัม\\nรหัสสินค้า 866196\\n83.00 ฿\\nราคาต่อชิ้น\\xa0 83.00 ฿': 'เนย',\n",
              " 'บลูแบนด์ มาร์การีน 454 กรัม\\nรหัสสินค้า 86502165.00 ฿\\n-9%\\n59.00 ฿\\nราคาต่อชิ้น\\xa0 59.00 ฿': 'เนย',\n",
              " 'พันธ์ศักดิ์ ไข่เค็มต้ม x 6 ฟอง\\nรหัสสินค้า 863823\\n55.00 ฿\\nราคาต่อชิ้น\\xa0 9.17 ฿': 'ไข่แปรรูป',\n",
              " 'พันธ์ศักดิ์ ไข่เยี่ยวม้า x 6 ฟอง\\nรหัสสินค้า 863821\\n62.00 ฿\\nราคาต่อชิ้น\\xa0 10.33 ฿': 'ไข่แปรรูป',\n",
              " 'ฟิลาเดลเฟีย ครีมชีส 2 กิโลกรัม\\nรหัสสินค้า 15093\\n849.00 ฿\\nราคาต่อชิ้น\\xa0 849.00 ฿': 'ชีส',\n",
              " 'ฟิลาเดลเฟีย ครีมชีสออริจินัล 250 กรัม\\nรหัสสินค้า 131222\\n162.00 ฿\\nราคาต่อชิ้น\\xa0 162.00 ฿': 'ชีส',\n",
              " 'ฟิลาเดลเฟีย ไลท์ครีมชีสนุ่ม 250 กรัม\\nรหัสสินค้า 399919\\n179.00 ฿\\nราคาต่อชิ้น\\xa0 179.00 ฿': 'ชีส',\n",
              " 'มิสสะอาด ไข่เค็มดิบไชยา x 10 ฟอง\\nรหัสสินค้า 122769\\n99.00 ฿\\nราคาต่อชิ้น\\xa0 9.90 ฿': 'ไข่แปรรูป',\n",
              " 'มิสสะอาด ไข่เค็มต้มสุก x 4 ฟอง\\nรหัสสินค้า 145174\\n40.00 ฿\\nราคาต่อชิ้น\\xa0 10.00 ฿': 'ไข่แปรรูป',\n",
              " 'มิสสะอาด ไข่เยี่ยวม้า x 4 ฟอง\\nรหัสสินค้า 122768\\n45.00 ฿\\nราคาต่อชิ้น\\xa0 11.25 ฿': 'ไข่แปรรูป',\n",
              " 'ริชเชส ครีมโยเกิร์ต รสธรรมชาติ 5 กิโลกรัม\\nรหัสสินค้า 160089\\n279.00 ฿\\nราคาต่อชิ้น\\xa0 279.00 ฿': 'โยเกิร์ต',\n",
              " 'ริชเชส ครีมโยเกิร์ตผสมสตรอว์เบอร์รี 5 กิโลกรัม\\nรหัสสินค้า 160091\\n289.00 ฿\\nราคาต่อชิ้น\\xa0 289.00 ฿': 'โยเกิร์ต',\n",
              " 'ริชเชส นมเปรี้ยวโยเกิร์ตพร้อมดื่ม รสธรรมชาติ 800 มล.\\nรหัสสินค้า 20123839.00 ฿\\n-25%\\n29.00 ฿\\nราคาต่อชิ้น\\xa0 29.00 ฿': 'โยเกิร์ต',\n",
              " 'ริชเชส นมเปรี้ยวโยเกิร์ตพร้อมดื่ม รสบลูเบอร์รี 800 มล.\\nรหัสสินค้า 20124139.00 ฿\\n-25%\\n29.00 ฿\\nราคาต่อชิ้น\\xa0 29.00 ฿': 'โยเกิร์ต',\n",
              " 'ริชเชส นมเปรี้ยวโยเกิร์ตพร้อมดื่ม รสผลไม้รวม 800 มล.\\nรหัสสินค้า 14222639.00 ฿\\n-25%\\n29.00 ฿\\nราคาต่อชิ้น\\xa0 29.00 ฿': 'โยเกิร์ต',\n",
              " 'ริชเชส นมเปรี้ยวโยเกิร์ตพร้อมดื่ม รสพรุนสกัด 800 มล.\\nรหัสสินค้า 14222739.00 ฿\\n-25%\\n29.00 ฿\\nราคาต่อชิ้น\\xa0 29.00 ฿': 'โยเกิร์ต',\n",
              " 'ริชเชส นมเปรี้ยวโยเกิร์ตพร้อมดื่ม รสสตรอว์เบอร์รี 800 มล.\\nรหัสสินค้า 14222539.00 ฿\\n-25%\\n29.00 ฿\\nราคาต่อชิ้น\\xa0 29.00 ฿': 'โยเกิร์ต',\n",
              " 'ริชเชส นมเปรี้ยวโยเกิร์ตพร้อมดื่ม รสส้ม 800 มล.\\nรหัสสินค้า 20134439.00 ฿\\n-25%\\n29.00 ฿\\nราคาต่อชิ้น\\xa0 29.00 ฿': 'โยเกิร์ต',\n",
              " 'ริชเชส โยเกิร์ต รสธรรมชาติ สูตรลดปริมาณน้ำตาล 43% 135 กรัม x 4 ถ้วย\\nรหัสสินค้า 142249\\n45.00 ฿\\nราคาต่อชิ้น\\xa0 11.25 ฿': 'โยเกิร์ต',\n",
              " 'ริชเชส โยเกิร์ตผสมพรุนสกัด 135 กรัม x 4 ถ้วย\\nรหัสสินค้า 142251\\n46.00 ฿\\nราคาต่อชิ้น\\xa0 11.50 ฿': 'โยเกิร์ต',\n",
              " 'ริชเชส โยเกิร์ตผสมฟรุตสลัด 135 กรัม x 4 ถ้วย\\nรหัสสินค้า 201236\\n45.00 ฿\\nราคาต่อชิ้น\\xa0 11.25 ฿': 'โยเกิร์ต',\n",
              " 'ริชเชส โยเกิร์ตผสมวุ้นมะพร้าว 135 กรัม x 4 ถ้วย\\nรหัสสินค้า 142250\\n45.00 ฿\\nราคาต่อชิ้น\\xa0 11.25 ฿': 'โยเกิร์ต',\n",
              " 'ริชเชส โยเกิร์ตผสมสตรอว์เบอร์ 135 กรัม x 4 ถ้วย\\nรหัสสินค้า 201234\\n45.00 ฿\\nราคาต่อชิ้น\\xa0 11.25 ฿': 'โยเกิร์ต',\n",
              " 'ริชเชส โยเกิร์ตไขมันต่ำ 2 กิโลกรัม\\nรหัสสินค้า 825239129.00 ฿\\n-6%\\n121.00 ฿\\nราคาต่อชิ้น\\xa0 121.00 ฿': 'โยเกิร์ต',\n",
              " 'อลาวรี โพรเซสเชดด้าชีส 500 กรัม x 24 แผ่น\\nรหัสสินค้า 108966\\n235.00 ฿\\nราคาต่อชิ้น\\xa0 235.00 ฿': 'ชีส',\n",
              " 'อลาวรี่ ชีสสควีซ 310 กรัม\\nรหัสสินค้า 811967\\n135.00 ฿\\nราคาต่อชิ้น\\xa0 135.00 ฿': 'ชีส',\n",
              " 'อลาวรี่ ชีสสควีซ มิกซ์โฟร์ชีส 310 กรัม\\nรหัสสินค้า 828905\\n135.00 ฿\\nราคาต่อชิ้น\\xa0 135.00 ฿': 'ชีส',\n",
              " 'อลาวรี่ ชีสสควีซ มิกซ์โฟร์ชีส 600 กรัม\\nรหัสสินค้า 837130\\n229.00 ฿\\nราคาต่อชิ้น\\xa0 229.00 ฿': 'ชีส',\n",
              " 'อลาวรี่ ทรัฟเฟิลบัตเตอร์ 110 กรัม\\nรหัสสินค้า 848780\\n249.00 ฿\\nราคาต่อชิ้น\\xa0 249.00 ฿': 'เนย',\n",
              " 'อลาวรี่ พรีเมี่ยม เนยแท้ ชนิดเค็ม 2 กิโลกรัม\\nรหัสสินค้า 837131\\n730.00 ฿\\nราคาต่อชิ้น\\xa0 730.00 ฿': 'เนย',\n",
              " 'อลาวรี่ พรีเมี่ยม เนยแท้ชนิดจืด 2 กิโลกรัม\\nรหัสสินค้า 837132\\n730.00 ฿\\nราคาต่อชิ้น\\xa0 730.00 ฿': 'เนย',\n",
              " 'อลาวรี่ เชดดาชีส 250 กรัม x 12 สไลซ์\\nรหัสสินค้า 579956\\n137.00 ฿\\nราคาต่อชิ้น\\xa0 137.00 ฿': 'ชีส',\n",
              " 'อลาวรี่ เนยกระเทียมและสมุนไพรปรุงสำเร็จรูป 500 กรัม\\nรหัสสินค้า 212169\\n189.00 ฿\\nราคาต่อชิ้น\\xa0 189.00 ฿': 'เนย',\n",
              " 'อลาวรี่ เนยชนิดจืด 10 กรัม x 100 ชิ้น\\nรหัสสินค้า 141269435.00 ฿\\n-3%\\n420.00 ฿\\nราคาต่อชิ้น\\xa0 4.20 ฿': 'เนย',\n",
              " 'อลาวรี่ เนยชนิดเค็ม 1 กิโลกรัม x 100 ถ้วย\\nรหัสสินค้า 375635\\n385.00 ฿\\nราคาต่อชิ้น\\xa0 3.85 ฿': 'เนย',\n",
              " 'อลาวรี่ เนยชนิดแท่ง รสจืด 5 กิโลกรัม (ยกลัง)\\nรหัสสินค้า 65650\\n823.00 ฿\\nราคาต่อชิ้น\\xa0 823.00 ฿': 'เนย',\n",
              " 'อลาวรี่ เนยชนิดแท่ง รสเค็ม 5 กิโลกรัม (ยกลัง)\\nรหัสสินค้า 59644\\n823.00 ฿\\nราคาต่อชิ้น\\xa0 823.00 ฿': 'เนย',\n",
              " 'อลาวรี่ เนยผสมชนิดจืด 2 กิโลกรัม\\nรหัสสินค้า 175621\\n374.00 ฿\\nราคาต่อชิ้น\\xa0 374.00 ฿': 'เนย',\n",
              " 'อลาวรี่ เนยผสมชนิดเค็ม 2 กิโลกรัม\\nรหัสสินค้า 168325\\n374.00 ฿\\nราคาต่อชิ้น\\xa0 374.00 ฿': 'เนย',\n",
              " 'อลาวรี่ เนยรสจืด 10 กรัม x 100 ถ้วย\\nรหัสสินค้า 141270\\n385.00 ฿\\nราคาต่อชิ้น\\xa0 385.00 ฿': 'เนย',\n",
              " 'อลาวรี่ เนยสด รสจืด 454 กรัม\\nรหัสสินค้า 212167\\n220.00 ฿\\nราคาต่อชิ้น\\xa0 220.00 ฿': 'เนย',\n",
              " 'อลาวรี่ เนยสด รสเค็ม 454 กรัม\\nรหัสสินค้า 58500\\n220.00 ฿\\nราคาต่อชิ้น\\xa0 220.00 ฿': 'เนย',\n",
              " 'อลาวรี่ เนยแท้ชนิดจืด 227 กรัม\\nรหัสสินค้า 234931\\n114.00 ฿\\nราคาต่อชิ้น\\xa0 114.00 ฿': 'เนย',\n",
              " 'อลาวรี่ เนยแท้ชนิดเค็ม 227 กรัม\\nรหัสสินค้า 234930\\n114.00 ฿\\nราคาต่อชิ้น\\xa0 114.00 ฿': 'เนย',\n",
              " 'อลาวรี่ เนยแท้ชนิดเค็ม ห่อฟอยล์ 10 กรัม x 100 ก้อน\\nรหัสสินค้า 891904435.00 ฿\\n-3%\\n420.00 ฿\\nราคาต่อชิ้น\\xa0 4.20 ฿': 'เนย',\n",
              " 'อลาวรี่ แวลู เนยผสม ชนิดจืด 2 กิโลกรัม\\nรหัสสินค้า 219501340.00 ฿\\n-5%\\n320.00 ฿\\nราคาต่อชิ้น\\xa0 320.00 ฿': 'เนย',\n",
              " 'อลาวรี่ แวลู่ เนยชนิดจืด 5 กิโลกรัม\\nรหัสสินค้า 144885\\n670.00 ฿\\nราคาต่อชิ้น\\xa0 670.00 ฿': 'เนย',\n",
              " 'อลาวรี่ แวลู่ เนยชนิดเค็ม 5 กิโลกรัม\\nรหัสสินค้า 144881\\n670.00 ฿\\nราคาต่อชิ้น\\xa0 670.00 ฿': 'เนย',\n",
              " 'อลาวรี่ แวลู่ เนยรสเค็ม 2 กิโลกรัม\\nรหัสสินค้า 219502340.00 ฿\\n-5%\\n320.00 ฿\\nราคาต่อชิ้น\\xa0 320.00 ฿': 'เนย',\n",
              " 'อลาวรี่ โพรเชสเชดด้าชีส 1 กิโลกรัม x 48 แผ่น\\nรหัสสินค้า 222534369.00 ฿\\n-8%\\n339.00 ฿\\nราคาต่อชิ้น\\xa0 339.00 ฿': 'ชีส',\n",
              " 'อลาวรี่ โพรเซสชีส x 81 สไลซ์\\nรหัสสินค้า 70889\\n369.00 ฿\\nราคาต่อชิ้น\\xa0 369.00 ฿': 'ชีส',\n",
              " 'อลาวลี่ ชีสสควีซ 600 กรัม\\nรหัสสินค้า 817537\\n229.00 ฿\\nราคาต่อชิ้น\\xa0 229.00 ฿': 'ชีส',\n",
              " 'อิมพีเรียล พามีซานชีส (แท่ง) 1.3 กิโลกรัม\\nรหัสสินค้า 109562\\n780.00 ฿\\nราคาต่อชิ้น\\xa0 780.00 ฿': 'ชีส',\n",
              " 'อิมพีเรียล พามีซานสไตล์ชีส 100 กรัม\\nรหัสสินค้า 117928\\n139.00 ฿\\nราคาต่อชิ้น\\xa0 139.00 ฿': 'ชีส',\n",
              " 'อิมพีเรียล มอสซาเรลล่า ชนิดเส้น 150 กรัม\\nรหัสสินค้า 117929\\n142.00 ฿\\nราคาต่อชิ้น\\xa0 142.00 ฿': 'ชีส',\n",
              " 'อิมพีเรียล มาการีนซันฟลาวเวอร์ 10 กรัม x 100 ถ้วย\\nรหัสสินค้า 122786\\n225.00 ฿\\nราคาต่อชิ้น\\xa0 225.00 ฿': 'เนย',\n",
              " 'อิมพีเรียล มาการีนซันฟลาวเวอร์ 250 กรัม\\nรหัสสินค้า 127504\\n70.00 ฿\\nราคาต่อชิ้น\\xa0 70.00 ฿': 'เนย',\n",
              " 'อิมพีเรียล เชดด้าชีส 500 กรัม x 24 สไลซ์\\nรหัสสินค้า 59696\\n209.00 ฿\\nราคาต่อชิ้น\\xa0 8.71 ฿': 'ชีส',\n",
              " 'อิมพีเรียล เนยจืด 227 กรัม\\nรหัสสินค้า 22544775.00 ฿\\n-4%\\n72.00 ฿\\nราคาต่อชิ้น\\xa0 72.00 ฿': 'เนย',\n",
              " 'อิมพีเรียล เนยผสมรสเค็ม 10 กรัม x 100 ถ้วย\\nรหัสสินค้า 122788\\n375.00 ฿\\nราคาต่อชิ้น\\xa0 375.00 ฿': 'เนย',\n",
              " 'อิมพีเรียล เนยเค็ม 227 กรัม\\nรหัสสินค้า 22544475.00 ฿\\n-4%\\n72.00 ฿\\nราคาต่อชิ้น\\xa0 72.00 ฿': 'เนย',\n",
              " 'เคซีเอฟ ไข่พะโล้ x 30 ฟอง ยกลัง\\nรหัสสินค้า 869418\\n210.00 ฿\\nราคาต่อชิ้น\\xa0 7.00 ฿': 'ไข่แปรรูป',\n",
              " 'เคซีเอฟ ไข่เค็มดิบ x 10 ฟอง\\nรหัสสินค้า 122166\\n100.00 ฿\\nราคาต่อชิ้น\\xa0 10.00 ฿': 'ไข่แปรรูป',\n",
              " 'เคซีเอฟ ไข่เค็มต้ม x 6 ฟอง\\nรหัสสินค้า 122156\\n53.00 ฿\\nราคาต่อชิ้น\\xa0 8.83 ฿': 'ไข่แปรรูป',\n",
              " 'เคซีเอฟ ไข่เค็มต้ม แพ็คละ 4 ฟอง\\nรหัสสินค้า 122155\\n40.00 ฿\\nราคาต่อชิ้น\\xa0 40.00 ฿': 'ไข่แปรรูป',\n",
              " 'เคซีเอฟ ไข่เค็มต้มบางเลน x 50 ฟอง\\nรหัสสินค้า 867959\\n369.00 ฿\\nราคาต่อชิ้น\\xa0 7.38 ฿': 'ไข่แปรรูป',\n",
              " 'เคซีเอฟ ไข่เป็ด เบอร์ 1 x 6 ฟอง\\nรหัสสินค้า 122151\\n36.00 ฿\\nราคาต่อชิ้น\\xa0 6.00 ฿': 'ไข่เป็ดและไข่อื่นๆ',\n",
              " 'เคซีเอฟ ไข่ไก่ เบอร์ 1 x 10 ฟอง\\nรหัสสินค้า 122132\\n44.00 ฿\\nราคาต่อชิ้น\\xa0 44.00 ฿': 'ไข่ไก่',\n",
              " 'เคซีเอฟ ไข่ไก่ เบอร์ 2 x 10 ฟอง\\nรหัสสินค้า 122138\\n42.00 ฿\\nราคาต่อชิ้น\\xa0 42.00 ฿': 'ไข่ไก่',\n",
              " 'เคซีเอฟ ไข่ไก่ เบอร์ 3 x 10 ฟอง\\nรหัสสินค้า 122148\\n40.00 ฿\\nราคาต่อชิ้น\\xa0 40.00 ฿': 'ไข่ไก่',\n",
              " 'เคซีเอฟ ไข่ไก่จัมโบ้ เบอร์ 0 x 10 ฟอง\\nรหัสสินค้า 122128\\n49.00 ฿\\nราคาต่อชิ้น\\xa0 4.90 ฿': 'ไข่ไก่',\n",
              " 'เคซีเอฟ ไข่ไก่ต้มสุก ปอกเปลือก x 20 ฟอง\\nรหัสสินค้า 188488\\n92.00 ฿\\nราคาต่อชิ้น\\xa0 4.60 ฿': 'ไข่แปรรูป',\n",
              " 'เคซีเอฟ ไข่ไก่สด x 10 ฟอง\\nรหัสสินค้า 861403\\n52.00 ฿\\nราคาต่อชิ้น\\xa0 5.20 ฿': 'ไข่ไก่',\n",
              " 'เคซีเอฟ ไข่ไก่สด เคจฟรี x 10 ฟอง\\nรหัสสินค้า 891199\\n58.00 ฿\\nราคาต่อชิ้น\\xa0 5.80 ฿': 'ไข่ไก่',\n",
              " 'เจ้ควิก ไข่เค็มดิบไชยา x 10 ฟอง\\nรหัสสินค้า 786162\\n89.00 ฿\\nราคาต่อชิ้น\\xa0 8.90 ฿': 'ไข่แปรรูป',\n",
              " 'เจ้ควิก ไข่เค็มไชยา x 6 ฟอง\\nรหัสสินค้า 307697\\n56.00 ฿\\nราคาต่อชิ้น\\xa0 9.33 ฿': 'ไข่แปรรูป',\n",
              " 'เจ้ควิก ไข่เยี่ยวม้า x 4 ฟอง\\nรหัสสินค้า 308074\\n46.00 ฿\\nราคาต่อชิ้น\\xa0 11.50 ฿': 'ไข่แปรรูป',\n",
              " 'เชสเดล เชดด้าชีสชนิดแผ่น 500 กรัม x 24 แผ่น\\nรหัสสินค้า 126089\\n262.00 ฿\\nราคาต่อชิ้น\\xa0 10.92 ฿': 'ชีส',\n",
              " 'เชสเดล เชดด้าชีสสไลซ์ รสธรรมดา 250 กรัม\\nรหัสสินค้า 126024\\n145.00 ฿\\nราคาต่อชิ้น\\xa0 145.00 ฿': 'ชีส',\n",
              " 'เดบิค วิปปิ้งครีม 1 ลิตร\\nรหัสสินค้า 896420219.00 ฿\\n-18%\\n179.00 ฿\\nราคาต่อชิ้น\\xa0 179.00 ฿': 'ครีม',\n",
              " 'เมจิ นมบาริสต้าพาสเจอร์ไรซ์ 2000 มล.\\nรหัสสินค้า 853516\\n99.00 ฿\\nราคาต่อชิ้น\\xa0 99.00 ฿': 'นมสด',\n",
              " 'เมจิ นมปราศจากน้ำตาลแลคโตส 830 มล.\\nรหัสสินค้า 83470965.00 ฿\\n-9%\\n59.00 ฿\\nราคาต่อชิ้น\\xa0 59.00 ฿': 'นมสด',\n",
              " 'เมจิ นมพาสเจอร์ไรซ์ รสกาแฟ 830 มล.\\nรหัสสินค้า 434083\\n46.00 ฿\\nราคาต่อชิ้น\\xa0 46.00 ฿': 'นมสด',\n",
              " 'เมจิ นมพาสเจอร์ไรซ์ รสจืด 2000 มล.\\nรหัสสินค้า 1950\\n91.00 ฿\\nราคาต่อชิ้น\\xa0 91.00 ฿': 'นมสด',\n",
              " 'เมจิ นมพาสเจอร์ไรซ์ รสจืด พร่องมันเนย 2000 มล.\\nรหัสสินค้า 132865\\n91.00 ฿\\nราคาต่อชิ้น\\xa0 91.00 ฿': 'นมสด',\n",
              " 'เมจิ นมพาสเจอร์ไรซ์ รสช็อกโกแลต 2000 มล.\\nรหัสสินค้า 132866\\n95.00 ฿\\nราคาต่อชิ้น\\xa0 95.00 ฿': 'นมสด',\n",
              " 'เมจิ นมพาสเจอร์ไรซ์ รสช็อกโกแลต 830 มล.\\nรหัสสินค้า 298142\\n46.00 ฿\\nราคาต่อชิ้น\\xa0 46.00 ฿': 'นมสด',\n",
              " 'เมจิ นมพาสเจอร์ไรซ์ รสสตรอว์เบอร์รี 830 มล.\\nรหัสสินค้า 298363\\n46.00 ฿\\nราคาต่อชิ้น\\xa0 46.00 ฿': 'นมสด',\n",
              " 'เมจิ นมพาสเจอร์ไรส์ ปราศจากน้ำตาลแลคโตส ไขมัน 0% 2000 มล.\\nรหัสสินค้า 894300154.00 ฿\\n-16%\\n129.00 ฿\\nราคาต่อชิ้น\\xa0 129.00 ฿': 'นมสด',\n",
              " 'เมจิ นมพาสเจอร์ไรส์ ปราศจากน้ำตาลแลคโตส ไขมัน 0% 830 มล.\\nรหัสสินค้า 89430265.00 ฿\\n-9%\\n59.00 ฿\\nราคาต่อชิ้น\\xa0 59.00 ฿': 'นมสด',\n",
              " 'เมจิ นมพาสเจอร์ไรส์ รสจืด 830 มล. x 2 ขวด\\nรหัสสินค้า 13495089.00 ฿\\n-8%\\n81.00 ฿\\nราคาต่อชิ้น\\xa0 40.50 ฿': 'นมสด',\n",
              " 'เมจิ นมสด รสขาดมันเนย ไขมัน 0% 450 มล.\\nรหัสสินค้า 213322\\n26.00 ฿\\nราคาต่อชิ้น\\xa0 26.00 ฿': 'นมสด',\n",
              " 'เมจิ นมสด รสจืด 200 มล. x 4 ขวด\\nรหัสสินค้า 407186\\n48.00 ฿\\nราคาต่อชิ้น\\xa0 12.00 ฿': 'นมสด',\n",
              " 'เมจิ นมสด รสจืด 946 มล.\\nรหัสสินค้า 13071247.00 ฿\\n-4%\\n45.00 ฿\\nราคาต่อชิ้น\\xa0 45.00 ฿': 'นมสด',\n",
              " 'เมจิ นมสด รสสตรอว์เบอร์รี 200 มล. x 4 ขวด\\nรหัสสินค้า 407264\\n49.00 ฿\\nราคาต่อชิ้น\\xa0 12.25 ฿': 'นมสด',\n",
              " 'เมจิ นมสดพร่องมันเนย รสจืด 2000 มล.\\nรหัสสินค้า 364143\\n91.00 ฿\\nราคาต่อชิ้น\\xa0 91.00 ฿': 'นมสด',\n",
              " 'เมจิ นมสดพร่องมันเนย ไขมันต่ำ 830 มล.\\nรหัสสินค้า 495976\\n45.50 ฿\\nราคาต่อชิ้น\\xa0 45.50 ฿': 'นมสด',\n",
              " 'เมจิ นมสดพาสเจอร์ไรซ์ ขาดมันเนย 830 มล.\\nรหัสสินค้า 433056\\n45.50 ฿\\nราคาต่อชิ้น\\xa0 45.50 ฿': 'นมสด',\n",
              " 'เมจิ นมสดพาสเจอร์ไรซ์ รสจืด 450 มล.\\nรหัสสินค้า 213241\\n26.00 ฿\\nราคาต่อชิ้น\\xa0 26.00 ฿': 'นมสด',\n",
              " 'เมจิ นมสดพาสเจอร์ไรซ์ รสจืด 5000 มล.\\nรหัสสินค้า 123929\\n205.00 ฿\\nราคาต่อชิ้น\\xa0 205.00 ฿': 'นมสด',\n",
              " 'เมจิ นมสดพาสเจอร์ไรซ์ รสจืด 830 มล.\\nรหัสสินค้า 125346\\n45.50 ฿\\nราคาต่อชิ้น\\xa0 45.50 ฿': 'นมสด',\n",
              " 'เมจิ นมแลคโตสฟรี พาสเจอร์ไรส์ รสดาร์คช็อกโกแลต 830 มล.\\nรหัสสินค้า 84715865.00 ฿\\n-9%\\n59.00 ฿\\nราคาต่อชิ้น\\xa0 59.00 ฿': 'นมสด',\n",
              " 'เมจิ นมโคปราศจากน้ำตาลแลคโตส 2000 มล.\\nรหัสสินค้า 840963154.00 ฿\\n-16%\\n129.00 ฿\\nราคาต่อชิ้น\\xa0 129.00 ฿': 'นมสด',\n",
              " 'เมจิ บัลแกเรีย โยเกิร์ต รสกลมกล่อม 110 กรัม x 4 ถ้วย\\nรหัสสินค้า 210771\\n78.00 ฿\\nราคาต่อชิ้น\\xa0 19.50 ฿': 'โยเกิร์ต',\n",
              " 'เมจิ บัลแกเรีย โยเกิร์ต รสธรรมชาติ 110 กรัม x 4 ถ้วย\\nรหัสสินค้า 210666\\n78.00 ฿\\nราคาต่อชิ้น\\xa0 19.50 ฿': 'โยเกิร์ต',\n",
              " 'เมจิ บัลแกเรีย โยเกิร์ต รสโกลเด้น ฮันนี 110 กรัม x 4 ถ้วย\\nรหัสสินค้า 229703\\n78.00 ฿\\nราคาต่อชิ้น\\xa0 78.00 ฿': 'โยเกิร์ต',\n",
              " 'เมจิ บัลแกเรีย โยเกิร์ต สูตรไขมัน 0% รสกลมกล่อม 450 กรัม\\nรหัสสินค้า 811410\\n79.00 ฿\\nราคาต่อชิ้น\\xa0 79.00 ฿': 'โยเกิร์ต',\n",
              " 'เมจิ บัลแกเรีย โยเกิร์ตพร้อมดื่ม รสกลมกล่อม x 3 ขวด\\nรหัสสินค้า 800816\\n58.00 ฿\\nราคาต่อชิ้น\\xa0 58.00 ฿': 'โยเกิร์ต',\n",
              " 'เมจิ บัลแกเรีย โยเกิร์ตพร้อมดื่ม รสไวลด์เบอร์รี x 3 ขวด\\nรหัสสินค้า 800817\\n58.00 ฿\\nราคาต่อชิ้น\\xa0 19.33 ฿': 'โยเกิร์ต',\n",
              " 'เมจิ บัลแกเรีย โยเกิร์ตพร้อมดื่ม สูตรไขมัน 0% รสไลท์แอนด์มายด์ 140 มล. x 3 ขวด\\nรหัสสินค้า 855276\\n58.00 ฿\\nราคาต่อชิ้น\\xa0 19.33 ฿': 'โยเกิร์ต',\n",
              " 'เมจิ วิปปิ้งครีม 946 มล.\\nรหัสสินค้า 219498\\n175.00 ฿\\nราคาต่อชิ้น\\xa0 175.00 ฿': 'ครีม',\n",
              " 'เมจิ โยเกิร์ต คละรส 135 กรัม x 4 ถ้วย\\nรหัสสินค้า 114244\\n52.00 ฿\\nราคาต่อชิ้น\\xa0 13.00 ฿': 'โยเกิร์ต',\n",
              " 'เมจิ โยเกิร์ต รสธรรมชาติ 135 กรัม x 4 ถ้วย\\nรหัสสินค้า 401414\\n52.00 ฿\\nราคาต่อชิ้น\\xa0 13.00 ฿': 'โยเกิร์ต',\n",
              " 'เมจิ โยเกิร์ต รสธรรมชาติ 90 กรัม x 4 ถ้วย\\nรหัสสินค้า 212432\\n39.00 ฿\\nราคาต่อชิ้น\\xa0 9.75 ฿': 'โยเกิร์ต',\n",
              " 'เมจิ โยเกิร์ต รสมิกซ์เบอร์รี่ 135 กรัม x 4 ถ้วย\\nรหัสสินค้า 114243\\n52.00 ฿\\nราคาต่อชิ้น\\xa0 13.00 ฿': 'โยเกิร์ต',\n",
              " 'เมจิ โยเกิร์ต รสสตรอว์เบอร์รี 135 กรัม x 4 ถ้วย\\nรหัสสินค้า 354406\\n52.00 ฿\\nราคาต่อชิ้น\\xa0 13.00 ฿': 'โยเกิร์ต',\n",
              " 'เมจิ โยเกิร์ต รสสตรอว์เบอร์รี 90 กรัม x 4 ถ้วย\\nรหัสสินค้า 212424\\n39.00 ฿\\nราคาต่อชิ้น\\xa0 9.75 ฿': 'โยเกิร์ต',\n",
              " 'เมจิ โยเกิร์ต รสองุ่นผสมวุ้นมะพร้าว 135 กรัม x 4 ถ้วย\\nรหัสสินค้า 847156\\n58.00 ฿\\nราคาต่อชิ้น\\xa0 14.50 ฿': 'โยเกิร์ต',\n",
              " 'เมจิ โยเกิร์ต ไขมัน 0% รสธรรมชาติ 135 กรัม x 4 ถ้วย\\nรหัสสินค้า 84060558.00 ฿\\n-10%\\n52.00 ฿\\nราคาต่อชิ้น\\xa0 52.00 ฿': 'โยเกิร์ต',\n",
              " 'เมจิ โยเกิร์ต ไขมัน 0% รสสตรอว์เบอร์รี่ 135 กรัม x 4 ถ้วย\\nรหัสสินค้า 84058658.00 ฿\\n-10%\\n52.00 ฿\\nราคาต่อชิ้น\\xa0 13.00 ฿': 'โยเกิร์ต',\n",
              " 'เมจิ โยเกิร์ตผสมวุ้นมะพร้าว 135 กรัม x 4 ถ้วย\\nรหัสสินค้า 127309\\n52.00 ฿\\nราคาต่อชิ้น\\xa0 13.00 ฿': 'โยเกิร์ต',\n",
              " 'เมจิ โยเกิร์ตผสมวุ้นมะพร้าว 90 กรัม x 4 ถ้วย\\nรหัสสินค้า 212420\\n39.00 ฿\\nราคาต่อชิ้น\\xa0 9.75 ฿': 'โยเกิร์ต',\n",
              " 'เมจิ โยเกิร์ตพร่องมันเนย 500 กรัม\\nรหัสสินค้า 229702\\n49.00 ฿\\nราคาต่อชิ้น\\xa0 49.00 ฿': 'โยเกิร์ต',\n",
              " 'เมจิ โยเกิร์ตไขมัน 0% ผสมวุ้นมะพร้าว 135 กรัม x 4 ถ้วย\\nรหัสสินค้า 84060758.00 ฿\\n-10%\\n52.00 ฿\\nราคาต่อชิ้น\\xa0 13.00 ฿': 'โยเกิร์ต',\n",
              " 'เมจิ ไฮโปรตีน สูตรเวย์ รสช็อกโกแลต 350 มล.\\nรหัสสินค้า 82548349.00 ฿\\n-8%\\n45.00 ฿\\nราคาต่อชิ้น\\xa0 45.00 ฿': 'นมสด',\n",
              " 'เมจิโกลด์ นมพาสเจอไรซ์ มันเนย 4.3% 946 มล.\\nรหัสสินค้า 26972459.00 ฿\\n-6%\\n55.00 ฿\\nราคาต่อชิ้น\\xa0 55.00 ฿': 'นมสด',\n",
              " 'เอโร่ วิปปิ้งครีม 1900 มล.\\nรหัสสินค้า 157681\\n325.00 ฿\\nราคาต่อชิ้น\\xa0 325.00 ฿': 'ครีม',\n",
              " 'เอโร่ ไข่นกกระทา x 100 ฟอง\\nรหัสสินค้า 817007\\n95.00 ฿\\nราคาต่อชิ้น\\xa0 0.95 ฿': 'ไข่เป็ดและไข่อื่นๆ',\n",
              " 'เอโร่ ไข่นกกระทา x 30 ฟอง\\nรหัสสินค้า 817005\\n33.00 ฿\\nราคาต่อชิ้น\\xa0 1.10 ฿': 'ไข่เป็ดและไข่อื่นๆ',\n",
              " 'เอโร่ ไข่นกกระทา x 50 ฟอง\\nรหัสสินค้า 817006\\n49.00 ฿\\nราคาต่อชิ้น\\xa0 0.98 ฿': 'ไข่เป็ดและไข่อื่นๆ',\n",
              " 'เอโร่ ไข่เค็มต้ม x 20 ฟอง\\nรหัสสินค้า 122324\\n129.00 ฿\\nราคาต่อชิ้น\\xa0 129.00 ฿': 'ไข่แปรรูป',\n",
              " 'เอโร่ ไข่เค็มต้ม x 30 ฟอง\\nรหัสสินค้า 817124\\n180.00 ฿\\nราคาต่อชิ้น\\xa0 180.00 ฿': 'ไข่แปรรูป',\n",
              " 'เอโร่ ไข่เค็มต้ม x 50 ฟอง\\nรหัสสินค้า 122325\\n318.00 ฿\\nราคาต่อชิ้น\\xa0 318.00 ฿': 'ไข่แปรรูป',\n",
              " 'เอโร่ ไข่เป็ด เบอร์ 1 มีฝา x 20 ฟอง\\nรหัสสินค้า 122314\\n88.00 ฿\\nราคาต่อชิ้น\\xa0 88.00 ฿': 'ไข่เป็ดและไข่อื่นๆ',\n",
              " 'เอโร่ ไข่เยี่ยวม้า 30 ฟอง\\nรหัสสินค้า 817122\\n185.00 ฿\\nราคาต่อชิ้น\\xa0 185.00 ฿': 'ไข่แปรรูป',\n",
              " 'เอโร่ ไข่เยี่ยวม้า x 20 ฟอง\\nรหัสสินค้า 122322\\n135.00 ฿\\nราคาต่อชิ้น\\xa0 135.00 ฿': 'ไข่แปรรูป',\n",
              " 'เอโร่ ไข่เยี่ยวม้า x 6 ฟอง\\nรหัสสินค้า 860006\\n42.00 ฿\\nราคาต่อชิ้น\\xa0 7.00 ฿': 'ไข่แปรรูป',\n",
              " 'เอโร่ ไข่เยี่ยวม้า กล่องละ 50 ฟอง\\nรหัสสินค้า 122321\\n323.00 ฿\\nราคาต่อชิ้น\\xa0 6.46 ฿': 'ไข่แปรรูป',\n",
              " 'เอโร่ ไข่ไก่ เบอร์ 0 x 10 ฟอง\\nรหัสสินค้า 812399\\n53.00 ฿\\nราคาต่อชิ้น\\xa0 5.30 ฿': 'ไข่ไก่',\n",
              " 'เอโร่ ไข่ไก่ เบอร์ 1 x 10 ฟอง\\nรหัสสินค้า 812402\\n48.00 ฿\\nราคาต่อชิ้น\\xa0 4.80 ฿': 'ไข่ไก่',\n",
              " 'เอโร่ ไข่ไก่ เบอร์ 1 x 15 ฟอง\\nรหัสสินค้า 198419\\n69.00 ฿\\nราคาต่อชิ้น\\xa0 4.60 ฿': 'ไข่ไก่',\n",
              " 'เอโร่ ไข่ไก่ เบอร์ 2 x 10 ฟอง\\nรหัสสินค้า 812398\\n44.00 ฿\\nราคาต่อชิ้น\\xa0 4.40 ฿': 'ไข่ไก่',\n",
              " 'เอโร่ ไข่ไก่ เบอร์ 2 x 15 ฟอง\\nรหัสสินค้า 198445\\n68.00 ฿\\nราคาต่อชิ้น\\xa0 4.53 ฿': 'ไข่ไก่',\n",
              " 'เอโร่ ไข่ไก่ เบอร์ 2 มีฝา x 30 ฟอง\\nรหัสสินค้า 198368\\n112.00 ฿\\nราคาต่อชิ้น\\xa0 112.00 ฿': 'ไข่ไก่',\n",
              " 'เอโร่ ไข่ไก่ เบอร์ 3 x 10 ฟอง\\nรหัสสินค้า 812401\\n42.00 ฿\\nราคาต่อชิ้น\\xa0 42.00 ฿': 'ไข่ไก่',\n",
              " 'เอโร่ ไข่ไก่ เบอร์ 3 มีฝา x 30 ฟอง\\nรหัสสินค้า 864156\\n108.00 ฿\\nราคาต่อชิ้น\\xa0 3.60 ฿': 'ไข่ไก่',\n",
              " 'เอโร่ ไข่ไก่ เบอร์ 4 x 10 ฟอง\\nรหัสสินค้า 812400\\n40.00 ฿\\nราคาต่อชิ้น\\xa0 4.00 ฿': 'ไข่ไก่',\n",
              " 'แมกโนเลีย กูร์เมต์ ฮาฟครีม ครีมแท้พร่องมันเนย 946 มล.\\nรหัสสินค้า 142138\\n112.00 ฿\\nราคาต่อชิ้น\\xa0 112.00 ฿': 'ครีม',\n",
              " 'แมกโนเลีย นมบาริสต้า 946 มล.\\nรหัสสินค้า 20025347.00 ฿\\n-4%\\n45.00 ฿\\nราคาต่อชิ้น\\xa0 45.00 ฿': 'นมสด',\n",
              " 'แมกโนเลีย นมพาสเจอร์ไรซ์ รสช็อกโกแลตมอลต์ 450 มล.\\nรหัสสินค้า 175828\\n28.00 ฿\\nราคาต่อชิ้น\\xa0 28.00 ฿': 'นมสด',\n",
              " 'แมกโนเลีย นมพาสเจอร์ไรซ์ รสช็อกโกแลตมอลต์ 800 มล.\\nรหัสสินค้า 17583045.00 ฿\\n-6%\\n42.00 ฿\\nราคาต่อชิ้น\\xa0 42.00 ฿': 'นมสด',\n",
              " 'แมกโนเลีย นมพาสเจอไรซ์ 5 ลิตร\\nรหัสสินค้า 36790203.00 ฿\\n-3%\\n195.00 ฿\\nราคาต่อชิ้น\\xa0 195.00 ฿': 'นมสด',\n",
              " 'แมกโนเลีย นมสดพาสเจอร์ไรซ์ 2 ลิตร\\nรหัสสินค้า 23608890.00 ฿\\n-5%\\n85.00 ฿\\nราคาต่อชิ้น\\xa0 85.00 ฿': 'นมสด',\n",
              " 'แมกโนเลีย พลัส นมแลคโตสฟรี พาสเจอร์ไรส์ รสโกโก้ 946 มล.\\nรหัสสินค้า 84601285.00 ฿\\n-7%\\n79.00 ฿\\nราคาต่อชิ้น\\xa0 79.00 ฿': 'นมสด',\n",
              " 'แมกโนเลีย พลัส นมแลคโตสฟรี รสจืด 946 มล.\\nรหัสสินค้า 84600872.00 ฿\\n-2%\\n70.00 ฿\\nราคาต่อชิ้น\\xa0 70.00 ฿': 'นมสด',\n",
              " 'แมกโนเลีย พลัส นมแลคโตสฟรี รสวานิลลาไวท์ช็อกโกแลต 946 มล.\\nรหัสสินค้า 84601085.00 ฿\\n-7%\\n79.00 ฿\\nราคาต่อชิ้น\\xa0 79.00 ฿': 'นมสด',\n",
              " 'แมกโนเลีย วิปปิ้งครีม ขนาด 946 มล.\\nรหัสสินค้า 168538\\n179.00 ฿\\nราคาต่อชิ้น\\xa0 179.00 ฿': 'ครีม',\n",
              " 'โยเกิร์ต เมจิ กลิ่นองุ่นมัสแคทและว่านหางจระเข้ 135 กรัม x 4 ถ้วย\\nรหัสสินค้า 894488\\n58.00 ฿\\nราคาต่อชิ้น\\xa0 14.50 ฿': 'โยเกิร์ต',\n",
              " 'ไข่ไก่ มีฝา เบอร์ 2 x 30 ฟอง\\nรหัสสินค้า 80652\\n113.00 ฿\\nราคาต่อชิ้น\\xa0 3.77 ฿': 'ไข่ไก่',\n",
              " 'ไข่ไก่ มีฝา เบอร์ 4 x 30 ฟอง\\nรหัสสินค้า 200228\\n102.00 ฿\\nราคาต่อชิ้น\\xa0 3.40 ฿': 'ไข่ไก่',\n",
              " 'ไข่ไก่ เบอร์ 0 มีฝา x 30 ฟอง\\nรหัสสินค้า 172158\\n142.00 ฿\\nราคาต่อชิ้น\\xa0 142.00 ฿': 'ไข่ไก่',\n",
              " 'ไข่ไก่ เบอร์ 1 มีฝา x 30 ฟอง\\nรหัสสินค้า 172157\\n124.00 ฿\\nราคาต่อชิ้น\\xa0 124.00 ฿': 'ไข่ไก่',\n",
              " 'ไข่ไก่ เบอร์ 1 ไม่มีฝา 30 ฟอง x 3 ถาด\\nรหัสสินค้า 146760\\n360.00 ฿\\nราคาต่อชิ้น\\xa0 120.00 ฿': 'ไข่ไก่',\n",
              " 'ไข่ไก่ เบอร์ 2 ไม่มีฝา 30 ฟอง x 5 แผง\\nรหัสสินค้า 79716\\n550.00 ฿\\nราคาต่อชิ้น\\xa0 550.00 ฿': 'ไข่ไก่',\n",
              " 'ไข่ไก่ เบอร์ 3 มีฝา x 30 ฟอง\\nรหัสสินค้า 802281\\n108.00 ฿\\nราคาต่อชิ้น\\xa0 3.60 ฿': 'ไข่ไก่',\n",
              " 'ไข่ไก่ เบอร์ 3 ไม่มีฝา 30 ฟอง x 5 แผง\\nรหัสสินค้า 152192\\n535.00 ฿\\nราคาต่อชิ้น\\xa0 535.00 ฿': 'ไข่ไก่',\n",
              " 'ไข่ไก่ เบอร์ 4 ไม่มีฝา 30 ฟอง x 4 แผง\\nรหัสสินค้า 83785\\n408.00 ฿\\nราคาต่อชิ้น\\xa0 408.00 ฿': 'ไข่ไก่',\n",
              " 'ไข่ไก่ เบอร์ 5 ไม่มีฝา 30 ฟอง x 4 แผง\\nรหัสสินค้า 185599\\n376.00 ฿\\nราคาต่อชิ้น\\xa0 376.00 ฿': 'ไข่ไก่',\n",
              " 'ไข่ไก่คละ เบอร์ 3-4 มีฝา x 30 ฟอง\\nรหัสสินค้า 863734\\n105.00 ฿\\nราคาต่อชิ้น\\xa0 3.50 ฿': 'ไข่ไก่',\n",
              " 'ไข่ไก่ต้มสุกพร้อมไหว้ x 4 ฟอง\\nรหัสสินค้า 897029\\n39.00 ฿\\nราคาต่อชิ้น\\xa0 9.75 ฿': 'ไข่แปรรูป',\n",
              " 'ไข่ไก่สดออร์แกนิค x 10 ฟอง\\nรหัสสินค้า 869215\\n78.00 ฿\\nราคาต่อชิ้น\\xa0 7.80 ฿': 'ไข่ไก่'}"
            ]
          },
          "metadata": {
            "tags": []
          },
          "execution_count": 210
        }
      ]
    },
    {
      "cell_type": "code",
      "metadata": {
        "id": "Tzl1775IAyco"
      },
      "source": [
        "product = []\n",
        "price = []\n",
        "sub_product_group2 = []\n",
        "\n",
        "for i in mapp:\n",
        "  #print(i.replace('\\xa0','').split('\\n'),mapp[i],len(i.replace('\\xa0','').split('\\n')))\n",
        "  #if len(i.replace('\\xa0','').split('\\n')) == 5:\n",
        "  #  print(i.replace('\\xa0','').split('\\n'),mapp[i],len(i.replace('\\xa0','').split('\\n')))\n",
        "  product.append(i.replace('\\xa0','').split('\\n')[0])\n",
        "  price.append(i.replace('\\xa0','').split('\\n')[-1])\n",
        "  sub_product_group2.append(mapp[i])"
      ],
      "execution_count": 211,
      "outputs": []
    },
    {
      "cell_type": "code",
      "metadata": {
        "colab": {
          "base_uri": "https://localhost:8080/"
        },
        "id": "r1738sQtLSUI",
        "outputId": "4dc66f42-e62b-47c3-c030-5d44f9fe48bb"
      },
      "source": [
        "pricex = []\n",
        "unit = []\n",
        "for i in price:\n",
        "  print(i.split(' '))\n",
        "  pricex.append(i.split(' ')[1])\n",
        "  unit.append(i.split(' ')[0]+\"(\"+i.split(' ')[2]+\")\")"
      ],
      "execution_count": 212,
      "outputs": [
        {
          "output_type": "stream",
          "text": [
            "['ราคาต่อชิ้น', '3.50', '฿']\n",
            "['ราคาต่อชิ้น', '3.60', '฿']\n",
            "['ราคาต่อชิ้น', '3.40', '฿']\n",
            "['ราคาต่อชิ้น', '3.77', '฿']\n",
            "['ราคาต่อชิ้น', '3.60', '฿']\n",
            "['ราคาต่อชิ้น', '376.00', '฿']\n",
            "['ราคาต่อชิ้น', '112.00', '฿']\n",
            "['ราคาต่อชิ้น', '408.00', '฿']\n",
            "['ราคาต่อชิ้น', '550.00', '฿']\n",
            "['ราคาต่อชิ้น', '535.00', '฿']\n",
            "['ราคาต่อชิ้น', '40.00', '฿']\n",
            "['ราคาต่อชิ้น', '42.00', '฿']\n",
            "['ราคาต่อชิ้น', '44.00', '฿']\n",
            "['ราคาต่อชิ้น', '4.90', '฿']\n",
            "['ราคาต่อชิ้น', '4.23', '฿']\n",
            "['ราคาต่อชิ้น', '125.00', '฿']\n",
            "['ราคาต่อชิ้น', '142.00', '฿']\n",
            "['ราคาต่อชิ้น', '124.00', '฿']\n",
            "['ราคาต่อชิ้น', '120.00', '฿']\n",
            "['ราคาต่อชิ้น', '4.40', '฿']\n",
            "['ราคาต่อชิ้น', '42.00', '฿']\n",
            "['ราคาต่อชิ้น', '60.00', '฿']\n",
            "['ราคาต่อชิ้น', '5.20', '฿']\n",
            "['ราคาต่อชิ้น', '7.80', '฿']\n",
            "['ราคาต่อชิ้น', '5.80', '฿']\n",
            "['ราคาต่อชิ้น', '5.10', '฿']\n",
            "['ราคาต่อชิ้น', '7.20', '฿']\n",
            "['ราคาต่อชิ้น', '5.40', '฿']\n",
            "['ราคาต่อชิ้น', '4.53', '฿']\n",
            "['ราคาต่อชิ้น', '5.70', '฿']\n",
            "['ราคาต่อชิ้น', '4.60', '฿']\n",
            "['ราคาต่อชิ้น', '6.90', '฿']\n",
            "['ราคาต่อชิ้น', '5.30', '฿']\n",
            "['ราคาต่อชิ้น', '4.80', '฿']\n",
            "['ราคาต่อชิ้น', '4.00', '฿']\n",
            "['ราคาต่อชิ้น', '88.00', '฿']\n",
            "['ราคาต่อชิ้น', '6.00', '฿']\n",
            "['ราคาต่อชิ้น', '1.10', '฿']\n",
            "['ราคาต่อชิ้น', '0.95', '฿']\n",
            "['ราคาต่อชิ้น', '0.98', '฿']\n",
            "['ราคาต่อชิ้น', '9.75', '฿']\n",
            "['ราคาต่อชิ้น', '180.00', '฿']\n",
            "['ราคาต่อชิ้น', '4.60', '฿']\n",
            "['ราคาต่อชิ้น', '7.00', '฿']\n",
            "['ราคาต่อชิ้น', '135.00', '฿']\n",
            "['ราคาต่อชิ้น', '10.00', '฿']\n",
            "['ราคาต่อชิ้น', '10.33', '฿']\n",
            "['ราคาต่อชิ้น', '7.00', '฿']\n",
            "['ราคาต่อชิ้น', '9.17', '฿']\n",
            "['ราคาต่อชิ้น', '8.90', '฿']\n",
            "['ราคาต่อชิ้น', '129.00', '฿']\n",
            "['ราคาต่อชิ้น', '185.00', '฿']\n",
            "['ราคาต่อชิ้น', '11.25', '฿']\n",
            "['ราคาต่อชิ้น', '7.38', '฿']\n",
            "['ราคาต่อชิ้น', '52.00', '฿']\n",
            "['ราคาต่อชิ้น', '8.83', '฿']\n",
            "['ราคาต่อชิ้น', '9.33', '฿']\n",
            "['ราคาต่อชิ้น', '9.90', '฿']\n",
            "['ราคาต่อชิ้น', '40.00', '฿']\n",
            "['ราคาต่อชิ้น', '6.46', '฿']\n",
            "['ราคาต่อชิ้น', '318.00', '฿']\n",
            "['ราคาต่อชิ้น', '10.00', '฿']\n",
            "['ราคาต่อชิ้น', '11.50', '฿']\n",
            "['ราคาต่อชิ้น', '129.00', '฿']\n",
            "['ราคาต่อชิ้น', '59.00', '฿']\n",
            "['ราคาต่อชิ้น', '85.00', '฿']\n",
            "['ราคาต่อชิ้น', '195.00', '฿']\n",
            "['ราคาต่อชิ้น', '79.00', '฿']\n",
            "['ราคาต่อชิ้น', '79.00', '฿']\n",
            "['ราคาต่อชิ้น', '70.00', '฿']\n",
            "['ราคาต่อชิ้น', '45.00', '฿']\n",
            "['ราคาต่อชิ้น', '41.50', '฿']\n",
            "['ราคาต่อชิ้น', '42.00', '฿']\n",
            "['ราคาต่อชิ้น', '24.00', '฿']\n",
            "['ราคาต่อชิ้น', '42.00', '฿']\n",
            "['ราคาต่อชิ้น', '24.00', '฿']\n",
            "['ราคาต่อชิ้น', '24.00', '฿']\n",
            "['ราคาต่อชิ้น', '45.50', '฿']\n",
            "['ราคาต่อชิ้น', '45.50', '฿']\n",
            "['ราคาต่อชิ้น', '45.50', '฿']\n",
            "['ราคาต่อชิ้น', '83.00', '฿']\n",
            "['ราคาต่อชิ้น', '83.00', '฿']\n",
            "['ราคาต่อชิ้น', '40.50', '฿']\n",
            "['ราคาต่อชิ้น', '99.00', '฿']\n",
            "['ราคาต่อชิ้น', '129.00', '฿']\n",
            "['ราคาต่อชิ้น', '193.00', '฿']\n",
            "['ราคาต่อชิ้น', '45.00', '฿']\n",
            "['ราคาต่อชิ้น', '46.00', '฿']\n",
            "['ราคาต่อชิ้น', '46.00', '฿']\n",
            "['ราคาต่อชิ้น', '59.00', '฿']\n",
            "['ราคาต่อชิ้น', '46.00', '฿']\n",
            "['ราคาต่อชิ้น', '42.00', '฿']\n",
            "['ราคาต่อชิ้น', '205.00', '฿']\n",
            "['ราคาต่อชิ้น', '59.00', '฿']\n",
            "['ราคาต่อชิ้น', '55.00', '฿']\n",
            "['ราคาต่อชิ้น', '95.00', '฿']\n",
            "['ราคาต่อชิ้น', '12.25', '฿']\n",
            "['ราคาต่อชิ้น', '28.00', '฿']\n",
            "['ราคาต่อชิ้น', '45.00', '฿']\n",
            "['ราคาต่อชิ้น', '26.00', '฿']\n",
            "['ราคาต่อชิ้น', '12.00', '฿']\n",
            "['ราคาต่อชิ้น', '91.00', '฿']\n",
            "['ราคาต่อชิ้น', '91.00', '฿']\n",
            "['ราคาต่อชิ้น', '26.00', '฿']\n",
            "['ราคาต่อชิ้น', '91.00', '฿']\n",
            "['ราคาต่อชิ้น', '13.75', '฿']\n",
            "['ราคาต่อชิ้น', '13.75', '฿']\n",
            "['ราคาต่อชิ้น', '13.75', '฿']\n",
            "['ราคาต่อชิ้น', '13.75', '฿']\n",
            "['ราคาต่อชิ้น', '13.75', '฿']\n",
            "['ราคาต่อชิ้น', '14.50', '฿']\n",
            "['ราคาต่อชิ้น', '13.75', '฿']\n",
            "['ราคาต่อชิ้น', '19.00', '฿']\n",
            "['ราคาต่อชิ้น', '12.25', '฿']\n",
            "['ราคาต่อชิ้น', '57.00', '฿']\n",
            "['ราคาต่อชิ้น', '19.00', '฿']\n",
            "['ราคาต่อชิ้น', '12.25', '฿']\n",
            "['ราคาต่อชิ้น', '275.00', '฿']\n",
            "['ราคาต่อชิ้น', '125.00', '฿']\n",
            "['ราคาต่อชิ้น', '12.25', '฿']\n",
            "['ราคาต่อชิ้น', '12.25', '฿']\n",
            "['ราคาต่อชิ้น', '8.75', '฿']\n",
            "['ราคาต่อชิ้น', '8.75', '฿']\n",
            "['ราคาต่อชิ้น', '8.75', '฿']\n",
            "['ราคาต่อชิ้น', '12.25', '฿']\n",
            "['ราคาต่อชิ้น', '13.75', '฿']\n",
            "['ราคาต่อชิ้น', '8.75', '฿']\n",
            "['ราคาต่อชิ้น', '13.75', '฿']\n",
            "['ราคาต่อชิ้น', '11.25', '฿']\n",
            "['ราคาต่อชิ้น', '29.00', '฿']\n",
            "['ราคาต่อชิ้น', '29.00', '฿']\n",
            "['ราคาต่อชิ้น', '29.00', '฿']\n",
            "['ราคาต่อชิ้น', '29.00', '฿']\n",
            "['ราคาต่อชิ้น', '29.00', '฿']\n",
            "['ราคาต่อชิ้น', '29.00', '฿']\n",
            "['ราคาต่อชิ้น', '9.25', '฿']\n",
            "['ราคาต่อชิ้น', '19.33', '฿']\n",
            "['ราคาต่อชิ้น', '13.00', '฿']\n",
            "['ราคาต่อชิ้น', '13.00', '฿']\n",
            "['ราคาต่อชิ้น', '19.33', '฿']\n",
            "['ราคาต่อชิ้น', '9.75', '฿']\n",
            "['ราคาต่อชิ้น', '14.50', '฿']\n",
            "['ราคาต่อชิ้น', '6.17', '฿']\n",
            "['ราคาต่อชิ้น', '32.50', '฿']\n",
            "['ราคาต่อชิ้น', '6.17', '฿']\n",
            "['ราคาต่อชิ้น', '121.00', '฿']\n",
            "['ราคาต่อชิ้น', '11.50', '฿']\n",
            "['ราคาต่อชิ้น', '11.25', '฿']\n",
            "['ราคาต่อชิ้น', '11.25', '฿']\n",
            "['ราคาต่อชิ้น', '11.25', '฿']\n",
            "['ราคาต่อชิ้น', '32.50', '฿']\n",
            "['ราคาต่อชิ้น', '33.00', '฿']\n",
            "['ราคาต่อชิ้น', '21.00', '฿']\n",
            "['ราคาต่อชิ้น', '33.00', '฿']\n",
            "['ราคาต่อชิ้น', '21.00', '฿']\n",
            "['ราคาต่อชิ้น', '33.00', '฿']\n",
            "['ราคาต่อชิ้น', '21.00', '฿']\n",
            "['ราคาต่อชิ้น', '6.17', '฿']\n",
            "['ราคาต่อชิ้น', '8.75', '฿']\n",
            "['ราคาต่อชิ้น', '6.60', '฿']\n",
            "['ราคาต่อชิ้น', '8.75', '฿']\n",
            "['ราคาต่อชิ้น', '6.17', '฿']\n",
            "['ราคาต่อชิ้น', '21.00', '฿']\n",
            "['ราคาต่อชิ้น', '6.17', '฿']\n",
            "['ราคาต่อชิ้น', '13.00', '฿']\n",
            "['ราคาต่อชิ้น', '19.50', '฿']\n",
            "['ราคาต่อชิ้น', '79.00', '฿']\n",
            "['ราคาต่อชิ้น', '33.00', '฿']\n",
            "['ราคาต่อชิ้น', '9.75', '฿']\n",
            "['ราคาต่อชิ้น', '13.00', '฿']\n",
            "['ราคาต่อชิ้น', '13.00', '฿']\n",
            "['ราคาต่อชิ้น', '13.00', '฿']\n",
            "['ราคาต่อชิ้น', '13.00', '฿']\n",
            "['ราคาต่อชิ้น', '52.00', '฿']\n",
            "['ราคาต่อชิ้น', '58.00', '฿']\n",
            "['ราคาต่อชิ้น', '19.50', '฿']\n",
            "['ราคาต่อชิ้น', '78.00', '฿']\n",
            "['ราคาต่อชิ้น', '9.75', '฿']\n",
            "['ราคาต่อชิ้น', '289.00', '฿']\n",
            "['ราคาต่อชิ้น', '279.00', '฿']\n",
            "['ราคาต่อชิ้น', '49.00', '฿']\n",
            "['ราคาต่อชิ้น', '179.00', '฿']\n",
            "['ราคาต่อชิ้น', '849.00', '฿']\n",
            "['ราคาต่อชิ้น', '179.00', '฿']\n",
            "['ราคาต่อชิ้น', '175.00', '฿']\n",
            "['ราคาต่อชิ้น', '179.00', '฿']\n",
            "['ราคาต่อชิ้น', '162.00', '฿']\n",
            "['ราคาต่อชิ้น', '325.00', '฿']\n",
            "['ราคาต่อชิ้น', '112.00', '฿']\n",
            "['ราคาต่อชิ้น', '369.00', '฿']\n",
            "['ราคาต่อชิ้น', '339.00', '฿']\n",
            "['ราคาต่อชิ้น', '142.00', '฿']\n",
            "['ราคาต่อชิ้น', '135.00', '฿']\n",
            "['ราคาต่อชิ้น', '135.00', '฿']\n",
            "['ราคาต่อชิ้น', '780.00', '฿']\n",
            "['ราคาต่อชิ้น', '89.00', '฿']\n",
            "['ราคาต่อชิ้น', '10.92', '฿']\n",
            "['ราคาต่อชิ้น', '235.00', '฿']\n",
            "['ราคาต่อชิ้น', '8.71', '฿']\n",
            "['ราคาต่อชิ้น', '139.00', '฿']\n",
            "['ราคาต่อชิ้น', '229.00', '฿']\n",
            "['ราคาต่อชิ้น', '137.00', '฿']\n",
            "['ราคาต่อชิ้น', '229.00', '฿']\n",
            "['ราคาต่อชิ้น', '145.00', '฿']\n",
            "['ราคาต่อชิ้น', '70.00', '฿']\n",
            "['ราคาต่อชิ้น', '4.20', '฿']\n",
            "['ราคาต่อชิ้น', '4.20', '฿']\n",
            "['ราคาต่อชิ้น', '730.00', '฿']\n",
            "['ราคาต่อชิ้น', '320.00', '฿']\n",
            "['ราคาต่อชิ้น', '320.00', '฿']\n",
            "['ราคาต่อชิ้น', '374.00', '฿']\n",
            "['ราคาต่อชิ้น', '374.00', '฿']\n",
            "['ราคาต่อชิ้น', '730.00', '฿']\n",
            "['ราคาต่อชิ้น', '225.00', '฿']\n",
            "['ราคาต่อชิ้น', '375.00', '฿']\n",
            "['ราคาต่อชิ้น', '114.00', '฿']\n",
            "['ราคาต่อชิ้น', '114.00', '฿']\n",
            "['ราคาต่อชิ้น', '59.00', '฿']\n",
            "['ราคาต่อชิ้น', '83.00', '฿']\n",
            "['ราคาต่อชิ้น', '209.00', '฿']\n",
            "['ราคาต่อชิ้น', '200.00', '฿']\n",
            "['ราคาต่อชิ้น', '72.00', '฿']\n",
            "['ราคาต่อชิ้น', '72.00', '฿']\n",
            "['ราคาต่อชิ้น', '3.85', '฿']\n",
            "['ราคาต่อชิ้น', '385.00', '฿']\n",
            "['ราคาต่อชิ้น', '670.00', '฿']\n",
            "['ราคาต่อชิ้น', '189.00', '฿']\n",
            "['ราคาต่อชิ้น', '670.00', '฿']\n",
            "['ราคาต่อชิ้น', '249.00', '฿']\n",
            "['ราคาต่อชิ้น', '823.00', '฿']\n",
            "['ราคาต่อชิ้น', '823.00', '฿']\n",
            "['ราคาต่อชิ้น', '220.00', '฿']\n",
            "['ราคาต่อชิ้น', '220.00', '฿']\n"
          ],
          "name": "stdout"
        }
      ]
    },
    {
      "cell_type": "code",
      "metadata": {
        "colab": {
          "base_uri": "https://localhost:8080/",
          "height": 419
        },
        "id": "BlcsAhaKLdA9",
        "outputId": "767ac5d3-7e8f-4917-ce63-af5a0bd4f218"
      },
      "source": [
        "df2 = pd.DataFrame(list(zip(sub_product_group2, product, pricex, unit)),columns=['sub_product_group2', 'product', 'price', 'unit'])\n",
        "df2['price'] = pd.to_numeric(df2['price'],errors = 'coerce')\n",
        "df2"
      ],
      "execution_count": 213,
      "outputs": [
        {
          "output_type": "execute_result",
          "data": {
            "text/html": [
              "<div>\n",
              "<style scoped>\n",
              "    .dataframe tbody tr th:only-of-type {\n",
              "        vertical-align: middle;\n",
              "    }\n",
              "\n",
              "    .dataframe tbody tr th {\n",
              "        vertical-align: top;\n",
              "    }\n",
              "\n",
              "    .dataframe thead th {\n",
              "        text-align: right;\n",
              "    }\n",
              "</style>\n",
              "<table border=\"1\" class=\"dataframe\">\n",
              "  <thead>\n",
              "    <tr style=\"text-align: right;\">\n",
              "      <th></th>\n",
              "      <th>sub_product_group2</th>\n",
              "      <th>product</th>\n",
              "      <th>price</th>\n",
              "      <th>unit</th>\n",
              "    </tr>\n",
              "  </thead>\n",
              "  <tbody>\n",
              "    <tr>\n",
              "      <th>0</th>\n",
              "      <td>ไข่ไก่</td>\n",
              "      <td>ไข่ไก่คละ เบอร์ 3-4 มีฝา x 30 ฟอง</td>\n",
              "      <td>3.50</td>\n",
              "      <td>ราคาต่อชิ้น(฿)</td>\n",
              "    </tr>\n",
              "    <tr>\n",
              "      <th>1</th>\n",
              "      <td>ไข่ไก่</td>\n",
              "      <td>เอโร่ ไข่ไก่ เบอร์ 3 มีฝา x 30 ฟอง</td>\n",
              "      <td>3.60</td>\n",
              "      <td>ราคาต่อชิ้น(฿)</td>\n",
              "    </tr>\n",
              "    <tr>\n",
              "      <th>2</th>\n",
              "      <td>ไข่ไก่</td>\n",
              "      <td>ไข่ไก่ มีฝา เบอร์ 4 x 30 ฟอง</td>\n",
              "      <td>3.40</td>\n",
              "      <td>ราคาต่อชิ้น(฿)</td>\n",
              "    </tr>\n",
              "    <tr>\n",
              "      <th>3</th>\n",
              "      <td>ไข่ไก่</td>\n",
              "      <td>ไข่ไก่ มีฝา เบอร์ 2 x 30 ฟอง</td>\n",
              "      <td>3.77</td>\n",
              "      <td>ราคาต่อชิ้น(฿)</td>\n",
              "    </tr>\n",
              "    <tr>\n",
              "      <th>4</th>\n",
              "      <td>ไข่ไก่</td>\n",
              "      <td>ไข่ไก่ เบอร์ 3 มีฝา x 30 ฟอง</td>\n",
              "      <td>3.60</td>\n",
              "      <td>ราคาต่อชิ้น(฿)</td>\n",
              "    </tr>\n",
              "    <tr>\n",
              "      <th>...</th>\n",
              "      <td>...</td>\n",
              "      <td>...</td>\n",
              "      <td>...</td>\n",
              "      <td>...</td>\n",
              "    </tr>\n",
              "    <tr>\n",
              "      <th>228</th>\n",
              "      <td>เนย</td>\n",
              "      <td>อลาวรี่ ทรัฟเฟิลบัตเตอร์ 110 กรัม</td>\n",
              "      <td>249.00</td>\n",
              "      <td>ราคาต่อชิ้น(฿)</td>\n",
              "    </tr>\n",
              "    <tr>\n",
              "      <th>229</th>\n",
              "      <td>เนย</td>\n",
              "      <td>อลาวรี่ เนยชนิดแท่ง รสจืด 5 กิโลกรัม (ยกลัง)</td>\n",
              "      <td>823.00</td>\n",
              "      <td>ราคาต่อชิ้น(฿)</td>\n",
              "    </tr>\n",
              "    <tr>\n",
              "      <th>230</th>\n",
              "      <td>เนย</td>\n",
              "      <td>อลาวรี่ เนยชนิดแท่ง รสเค็ม 5 กิโลกรัม (ยกลัง)</td>\n",
              "      <td>823.00</td>\n",
              "      <td>ราคาต่อชิ้น(฿)</td>\n",
              "    </tr>\n",
              "    <tr>\n",
              "      <th>231</th>\n",
              "      <td>เนย</td>\n",
              "      <td>อลาวรี่ เนยสด รสจืด 454 กรัม</td>\n",
              "      <td>220.00</td>\n",
              "      <td>ราคาต่อชิ้น(฿)</td>\n",
              "    </tr>\n",
              "    <tr>\n",
              "      <th>232</th>\n",
              "      <td>เนย</td>\n",
              "      <td>อลาวรี่ เนยสด รสเค็ม 454 กรัม</td>\n",
              "      <td>220.00</td>\n",
              "      <td>ราคาต่อชิ้น(฿)</td>\n",
              "    </tr>\n",
              "  </tbody>\n",
              "</table>\n",
              "<p>233 rows × 4 columns</p>\n",
              "</div>"
            ],
            "text/plain": [
              "    sub_product_group2  ...            unit\n",
              "0               ไข่ไก่  ...  ราคาต่อชิ้น(฿)\n",
              "1               ไข่ไก่  ...  ราคาต่อชิ้น(฿)\n",
              "2               ไข่ไก่  ...  ราคาต่อชิ้น(฿)\n",
              "3               ไข่ไก่  ...  ราคาต่อชิ้น(฿)\n",
              "4               ไข่ไก่  ...  ราคาต่อชิ้น(฿)\n",
              "..                 ...  ...             ...\n",
              "228                เนย  ...  ราคาต่อชิ้น(฿)\n",
              "229                เนย  ...  ราคาต่อชิ้น(฿)\n",
              "230                เนย  ...  ราคาต่อชิ้น(฿)\n",
              "231                เนย  ...  ราคาต่อชิ้น(฿)\n",
              "232                เนย  ...  ราคาต่อชิ้น(฿)\n",
              "\n",
              "[233 rows x 4 columns]"
            ]
          },
          "metadata": {
            "tags": []
          },
          "execution_count": 213
        }
      ]
    },
    {
      "cell_type": "code",
      "metadata": {
        "colab": {
          "base_uri": "https://localhost:8080/",
          "height": 589
        },
        "id": "HhH9tz1vLmnM",
        "outputId": "37c9c2ea-a32b-4f47-956c-00e184f6bf38"
      },
      "source": [
        "df3 = df2.merge(df, how='left',on='sub_product_group2')\n",
        "df3 = df3.drop(columns=['content']).drop_duplicates()\n",
        "df3['date'] = datetime.datetime.now().date()\n",
        "df3"
      ],
      "execution_count": 214,
      "outputs": [
        {
          "output_type": "execute_result",
          "data": {
            "text/html": [
              "<div>\n",
              "<style scoped>\n",
              "    .dataframe tbody tr th:only-of-type {\n",
              "        vertical-align: middle;\n",
              "    }\n",
              "\n",
              "    .dataframe tbody tr th {\n",
              "        vertical-align: top;\n",
              "    }\n",
              "\n",
              "    .dataframe thead th {\n",
              "        text-align: right;\n",
              "    }\n",
              "</style>\n",
              "<table border=\"1\" class=\"dataframe\">\n",
              "  <thead>\n",
              "    <tr style=\"text-align: right;\">\n",
              "      <th></th>\n",
              "      <th>sub_product_group2</th>\n",
              "      <th>product</th>\n",
              "      <th>price</th>\n",
              "      <th>unit</th>\n",
              "      <th>sub_product_group1</th>\n",
              "      <th>product_group</th>\n",
              "      <th>date</th>\n",
              "    </tr>\n",
              "  </thead>\n",
              "  <tbody>\n",
              "    <tr>\n",
              "      <th>0</th>\n",
              "      <td>ไข่ไก่</td>\n",
              "      <td>ไข่ไก่คละ เบอร์ 3-4 มีฝา x 30 ฟอง</td>\n",
              "      <td>3.50</td>\n",
              "      <td>ราคาต่อชิ้น(฿)</td>\n",
              "      <td>ไข่</td>\n",
              "      <td>ไข่ นม เนย ชีส</td>\n",
              "      <td>2021-08-11</td>\n",
              "    </tr>\n",
              "    <tr>\n",
              "      <th>1</th>\n",
              "      <td>ไข่ไก่</td>\n",
              "      <td>เอโร่ ไข่ไก่ เบอร์ 3 มีฝา x 30 ฟอง</td>\n",
              "      <td>3.60</td>\n",
              "      <td>ราคาต่อชิ้น(฿)</td>\n",
              "      <td>ไข่</td>\n",
              "      <td>ไข่ นม เนย ชีส</td>\n",
              "      <td>2021-08-11</td>\n",
              "    </tr>\n",
              "    <tr>\n",
              "      <th>2</th>\n",
              "      <td>ไข่ไก่</td>\n",
              "      <td>ไข่ไก่ มีฝา เบอร์ 4 x 30 ฟอง</td>\n",
              "      <td>3.40</td>\n",
              "      <td>ราคาต่อชิ้น(฿)</td>\n",
              "      <td>ไข่</td>\n",
              "      <td>ไข่ นม เนย ชีส</td>\n",
              "      <td>2021-08-11</td>\n",
              "    </tr>\n",
              "    <tr>\n",
              "      <th>3</th>\n",
              "      <td>ไข่ไก่</td>\n",
              "      <td>ไข่ไก่ มีฝา เบอร์ 2 x 30 ฟอง</td>\n",
              "      <td>3.77</td>\n",
              "      <td>ราคาต่อชิ้น(฿)</td>\n",
              "      <td>ไข่</td>\n",
              "      <td>ไข่ นม เนย ชีส</td>\n",
              "      <td>2021-08-11</td>\n",
              "    </tr>\n",
              "    <tr>\n",
              "      <th>4</th>\n",
              "      <td>ไข่ไก่</td>\n",
              "      <td>ไข่ไก่ เบอร์ 3 มีฝา x 30 ฟอง</td>\n",
              "      <td>3.60</td>\n",
              "      <td>ราคาต่อชิ้น(฿)</td>\n",
              "      <td>ไข่</td>\n",
              "      <td>ไข่ นม เนย ชีส</td>\n",
              "      <td>2021-08-11</td>\n",
              "    </tr>\n",
              "    <tr>\n",
              "      <th>...</th>\n",
              "      <td>...</td>\n",
              "      <td>...</td>\n",
              "      <td>...</td>\n",
              "      <td>...</td>\n",
              "      <td>...</td>\n",
              "      <td>...</td>\n",
              "      <td>...</td>\n",
              "    </tr>\n",
              "    <tr>\n",
              "      <th>228</th>\n",
              "      <td>เนย</td>\n",
              "      <td>อลาวรี่ ทรัฟเฟิลบัตเตอร์ 110 กรัม</td>\n",
              "      <td>249.00</td>\n",
              "      <td>ราคาต่อชิ้น(฿)</td>\n",
              "      <td>ผลิตภัณฑ์นม</td>\n",
              "      <td>ไข่ นม เนย ชีส</td>\n",
              "      <td>2021-08-11</td>\n",
              "    </tr>\n",
              "    <tr>\n",
              "      <th>229</th>\n",
              "      <td>เนย</td>\n",
              "      <td>อลาวรี่ เนยชนิดแท่ง รสจืด 5 กิโลกรัม (ยกลัง)</td>\n",
              "      <td>823.00</td>\n",
              "      <td>ราคาต่อชิ้น(฿)</td>\n",
              "      <td>ผลิตภัณฑ์นม</td>\n",
              "      <td>ไข่ นม เนย ชีส</td>\n",
              "      <td>2021-08-11</td>\n",
              "    </tr>\n",
              "    <tr>\n",
              "      <th>230</th>\n",
              "      <td>เนย</td>\n",
              "      <td>อลาวรี่ เนยชนิดแท่ง รสเค็ม 5 กิโลกรัม (ยกลัง)</td>\n",
              "      <td>823.00</td>\n",
              "      <td>ราคาต่อชิ้น(฿)</td>\n",
              "      <td>ผลิตภัณฑ์นม</td>\n",
              "      <td>ไข่ นม เนย ชีส</td>\n",
              "      <td>2021-08-11</td>\n",
              "    </tr>\n",
              "    <tr>\n",
              "      <th>231</th>\n",
              "      <td>เนย</td>\n",
              "      <td>อลาวรี่ เนยสด รสจืด 454 กรัม</td>\n",
              "      <td>220.00</td>\n",
              "      <td>ราคาต่อชิ้น(฿)</td>\n",
              "      <td>ผลิตภัณฑ์นม</td>\n",
              "      <td>ไข่ นม เนย ชีส</td>\n",
              "      <td>2021-08-11</td>\n",
              "    </tr>\n",
              "    <tr>\n",
              "      <th>232</th>\n",
              "      <td>เนย</td>\n",
              "      <td>อลาวรี่ เนยสด รสเค็ม 454 กรัม</td>\n",
              "      <td>220.00</td>\n",
              "      <td>ราคาต่อชิ้น(฿)</td>\n",
              "      <td>ผลิตภัณฑ์นม</td>\n",
              "      <td>ไข่ นม เนย ชีส</td>\n",
              "      <td>2021-08-11</td>\n",
              "    </tr>\n",
              "  </tbody>\n",
              "</table>\n",
              "<p>233 rows × 7 columns</p>\n",
              "</div>"
            ],
            "text/plain": [
              "    sub_product_group2  ...        date\n",
              "0               ไข่ไก่  ...  2021-08-11\n",
              "1               ไข่ไก่  ...  2021-08-11\n",
              "2               ไข่ไก่  ...  2021-08-11\n",
              "3               ไข่ไก่  ...  2021-08-11\n",
              "4               ไข่ไก่  ...  2021-08-11\n",
              "..                 ...  ...         ...\n",
              "228                เนย  ...  2021-08-11\n",
              "229                เนย  ...  2021-08-11\n",
              "230                เนย  ...  2021-08-11\n",
              "231                เนย  ...  2021-08-11\n",
              "232                เนย  ...  2021-08-11\n",
              "\n",
              "[233 rows x 7 columns]"
            ]
          },
          "metadata": {
            "tags": []
          },
          "execution_count": 214
        }
      ]
    },
    {
      "cell_type": "code",
      "metadata": {
        "id": "ggHEkJ-TMEtR"
      },
      "source": [
        "as_date = list(df3['date'])\n",
        "day_name = []\n",
        "for i in as_date:\n",
        "    day_name.append(i.strftime(\"%A\"))\n",
        "    \n",
        "df3['datename'] = day_name\n",
        "\n",
        "df3['year'] = pd.to_datetime(df3[\"date\"]).dt.year\n",
        "df3['month'] = pd.to_datetime(df3[\"date\"]).dt.month\n",
        "\n",
        "df3['date'] = pd.to_datetime(df3[\"date\"])\n",
        "\n",
        "df3 = df3.replace({\"month\": m_ord2})\n",
        "\n",
        "df3['source'] = 'makroclick'"
      ],
      "execution_count": 215,
      "outputs": []
    },
    {
      "cell_type": "code",
      "metadata": {
        "colab": {
          "base_uri": "https://localhost:8080/",
          "height": 606
        },
        "id": "Ksj77T1hMMcA",
        "outputId": "a9ee1c71-1a30-4239-cc7a-deb5109a246f"
      },
      "source": [
        "dairy = df3.rename(columns={\"product_group\": \"sub source\", \"sub_product_group1\": \"sub source 1\", \"sub_product_group2\": \"sub source 2\"})\n",
        "dairy"
      ],
      "execution_count": 216,
      "outputs": [
        {
          "output_type": "execute_result",
          "data": {
            "text/html": [
              "<div>\n",
              "<style scoped>\n",
              "    .dataframe tbody tr th:only-of-type {\n",
              "        vertical-align: middle;\n",
              "    }\n",
              "\n",
              "    .dataframe tbody tr th {\n",
              "        vertical-align: top;\n",
              "    }\n",
              "\n",
              "    .dataframe thead th {\n",
              "        text-align: right;\n",
              "    }\n",
              "</style>\n",
              "<table border=\"1\" class=\"dataframe\">\n",
              "  <thead>\n",
              "    <tr style=\"text-align: right;\">\n",
              "      <th></th>\n",
              "      <th>sub source 2</th>\n",
              "      <th>product</th>\n",
              "      <th>price</th>\n",
              "      <th>unit</th>\n",
              "      <th>sub source 1</th>\n",
              "      <th>sub source</th>\n",
              "      <th>date</th>\n",
              "      <th>datename</th>\n",
              "      <th>year</th>\n",
              "      <th>month</th>\n",
              "      <th>source</th>\n",
              "    </tr>\n",
              "  </thead>\n",
              "  <tbody>\n",
              "    <tr>\n",
              "      <th>0</th>\n",
              "      <td>ไข่ไก่</td>\n",
              "      <td>ไข่ไก่คละ เบอร์ 3-4 มีฝา x 30 ฟอง</td>\n",
              "      <td>3.50</td>\n",
              "      <td>ราคาต่อชิ้น(฿)</td>\n",
              "      <td>ไข่</td>\n",
              "      <td>ไข่ นม เนย ชีส</td>\n",
              "      <td>2021-08-11</td>\n",
              "      <td>Wednesday</td>\n",
              "      <td>2021</td>\n",
              "      <td>August</td>\n",
              "      <td>makroclick</td>\n",
              "    </tr>\n",
              "    <tr>\n",
              "      <th>1</th>\n",
              "      <td>ไข่ไก่</td>\n",
              "      <td>เอโร่ ไข่ไก่ เบอร์ 3 มีฝา x 30 ฟอง</td>\n",
              "      <td>3.60</td>\n",
              "      <td>ราคาต่อชิ้น(฿)</td>\n",
              "      <td>ไข่</td>\n",
              "      <td>ไข่ นม เนย ชีส</td>\n",
              "      <td>2021-08-11</td>\n",
              "      <td>Wednesday</td>\n",
              "      <td>2021</td>\n",
              "      <td>August</td>\n",
              "      <td>makroclick</td>\n",
              "    </tr>\n",
              "    <tr>\n",
              "      <th>2</th>\n",
              "      <td>ไข่ไก่</td>\n",
              "      <td>ไข่ไก่ มีฝา เบอร์ 4 x 30 ฟอง</td>\n",
              "      <td>3.40</td>\n",
              "      <td>ราคาต่อชิ้น(฿)</td>\n",
              "      <td>ไข่</td>\n",
              "      <td>ไข่ นม เนย ชีส</td>\n",
              "      <td>2021-08-11</td>\n",
              "      <td>Wednesday</td>\n",
              "      <td>2021</td>\n",
              "      <td>August</td>\n",
              "      <td>makroclick</td>\n",
              "    </tr>\n",
              "    <tr>\n",
              "      <th>3</th>\n",
              "      <td>ไข่ไก่</td>\n",
              "      <td>ไข่ไก่ มีฝา เบอร์ 2 x 30 ฟอง</td>\n",
              "      <td>3.77</td>\n",
              "      <td>ราคาต่อชิ้น(฿)</td>\n",
              "      <td>ไข่</td>\n",
              "      <td>ไข่ นม เนย ชีส</td>\n",
              "      <td>2021-08-11</td>\n",
              "      <td>Wednesday</td>\n",
              "      <td>2021</td>\n",
              "      <td>August</td>\n",
              "      <td>makroclick</td>\n",
              "    </tr>\n",
              "    <tr>\n",
              "      <th>4</th>\n",
              "      <td>ไข่ไก่</td>\n",
              "      <td>ไข่ไก่ เบอร์ 3 มีฝา x 30 ฟอง</td>\n",
              "      <td>3.60</td>\n",
              "      <td>ราคาต่อชิ้น(฿)</td>\n",
              "      <td>ไข่</td>\n",
              "      <td>ไข่ นม เนย ชีส</td>\n",
              "      <td>2021-08-11</td>\n",
              "      <td>Wednesday</td>\n",
              "      <td>2021</td>\n",
              "      <td>August</td>\n",
              "      <td>makroclick</td>\n",
              "    </tr>\n",
              "    <tr>\n",
              "      <th>...</th>\n",
              "      <td>...</td>\n",
              "      <td>...</td>\n",
              "      <td>...</td>\n",
              "      <td>...</td>\n",
              "      <td>...</td>\n",
              "      <td>...</td>\n",
              "      <td>...</td>\n",
              "      <td>...</td>\n",
              "      <td>...</td>\n",
              "      <td>...</td>\n",
              "      <td>...</td>\n",
              "    </tr>\n",
              "    <tr>\n",
              "      <th>228</th>\n",
              "      <td>เนย</td>\n",
              "      <td>อลาวรี่ ทรัฟเฟิลบัตเตอร์ 110 กรัม</td>\n",
              "      <td>249.00</td>\n",
              "      <td>ราคาต่อชิ้น(฿)</td>\n",
              "      <td>ผลิตภัณฑ์นม</td>\n",
              "      <td>ไข่ นม เนย ชีส</td>\n",
              "      <td>2021-08-11</td>\n",
              "      <td>Wednesday</td>\n",
              "      <td>2021</td>\n",
              "      <td>August</td>\n",
              "      <td>makroclick</td>\n",
              "    </tr>\n",
              "    <tr>\n",
              "      <th>229</th>\n",
              "      <td>เนย</td>\n",
              "      <td>อลาวรี่ เนยชนิดแท่ง รสจืด 5 กิโลกรัม (ยกลัง)</td>\n",
              "      <td>823.00</td>\n",
              "      <td>ราคาต่อชิ้น(฿)</td>\n",
              "      <td>ผลิตภัณฑ์นม</td>\n",
              "      <td>ไข่ นม เนย ชีส</td>\n",
              "      <td>2021-08-11</td>\n",
              "      <td>Wednesday</td>\n",
              "      <td>2021</td>\n",
              "      <td>August</td>\n",
              "      <td>makroclick</td>\n",
              "    </tr>\n",
              "    <tr>\n",
              "      <th>230</th>\n",
              "      <td>เนย</td>\n",
              "      <td>อลาวรี่ เนยชนิดแท่ง รสเค็ม 5 กิโลกรัม (ยกลัง)</td>\n",
              "      <td>823.00</td>\n",
              "      <td>ราคาต่อชิ้น(฿)</td>\n",
              "      <td>ผลิตภัณฑ์นม</td>\n",
              "      <td>ไข่ นม เนย ชีส</td>\n",
              "      <td>2021-08-11</td>\n",
              "      <td>Wednesday</td>\n",
              "      <td>2021</td>\n",
              "      <td>August</td>\n",
              "      <td>makroclick</td>\n",
              "    </tr>\n",
              "    <tr>\n",
              "      <th>231</th>\n",
              "      <td>เนย</td>\n",
              "      <td>อลาวรี่ เนยสด รสจืด 454 กรัม</td>\n",
              "      <td>220.00</td>\n",
              "      <td>ราคาต่อชิ้น(฿)</td>\n",
              "      <td>ผลิตภัณฑ์นม</td>\n",
              "      <td>ไข่ นม เนย ชีส</td>\n",
              "      <td>2021-08-11</td>\n",
              "      <td>Wednesday</td>\n",
              "      <td>2021</td>\n",
              "      <td>August</td>\n",
              "      <td>makroclick</td>\n",
              "    </tr>\n",
              "    <tr>\n",
              "      <th>232</th>\n",
              "      <td>เนย</td>\n",
              "      <td>อลาวรี่ เนยสด รสเค็ม 454 กรัม</td>\n",
              "      <td>220.00</td>\n",
              "      <td>ราคาต่อชิ้น(฿)</td>\n",
              "      <td>ผลิตภัณฑ์นม</td>\n",
              "      <td>ไข่ นม เนย ชีส</td>\n",
              "      <td>2021-08-11</td>\n",
              "      <td>Wednesday</td>\n",
              "      <td>2021</td>\n",
              "      <td>August</td>\n",
              "      <td>makroclick</td>\n",
              "    </tr>\n",
              "  </tbody>\n",
              "</table>\n",
              "<p>233 rows × 11 columns</p>\n",
              "</div>"
            ],
            "text/plain": [
              "    sub source 2  ...      source\n",
              "0         ไข่ไก่  ...  makroclick\n",
              "1         ไข่ไก่  ...  makroclick\n",
              "2         ไข่ไก่  ...  makroclick\n",
              "3         ไข่ไก่  ...  makroclick\n",
              "4         ไข่ไก่  ...  makroclick\n",
              "..           ...  ...         ...\n",
              "228          เนย  ...  makroclick\n",
              "229          เนย  ...  makroclick\n",
              "230          เนย  ...  makroclick\n",
              "231          เนย  ...  makroclick\n",
              "232          เนย  ...  makroclick\n",
              "\n",
              "[233 rows x 11 columns]"
            ]
          },
          "metadata": {
            "tags": []
          },
          "execution_count": 216
        }
      ]
    },
    {
      "cell_type": "markdown",
      "metadata": {
        "id": "9fzo33O8Mb30"
      },
      "source": [
        "# Makroclick Seafood"
      ]
    },
    {
      "cell_type": "code",
      "metadata": {
        "colab": {
          "base_uri": "https://localhost:8080/"
        },
        "id": "aWbiGZ9zJc93",
        "outputId": "8d23961f-dd0a-4efe-f491-f536949fde37"
      },
      "source": [
        "url = \"https://www.makroclick.com/th/category/fish-and-seafood\"\n",
        "\n",
        "driver.get(url)\n",
        "time.sleep(10)\n",
        "\n",
        "element = driver.find_element_by_xpath('//*[@id=\"subcategoryCarouselSM\"]/div[1]/div')\n",
        "\n",
        "link = element.get_attribute('innerHTML')\n",
        "\n",
        "link_list = []\n",
        "for i in link.split('category')[1:]:\n",
        "  link_list.append(\"https://www.makroclick.com/th/category\"+i.split('\"')[0])\n",
        "\n",
        "link_list"
      ],
      "execution_count": 217,
      "outputs": [
        {
          "output_type": "execute_result",
          "data": {
            "text/plain": [
              "['https://www.makroclick.com/th/category/fish-and-seafood/fish',\n",
              " 'https://www.makroclick.com/th/category',\n",
              " 'https://www.makroclick.com/th/categoryCarousel__Text1line-sc-1iqrhgx-0 gOllCP',\n",
              " 'https://www.makroclick.com/th/category/fish-and-seafood/shrimp-prawn',\n",
              " 'https://www.makroclick.com/th/category',\n",
              " 'https://www.makroclick.com/th/categoryCarousel__Text1line-sc-1iqrhgx-0 gOllCP',\n",
              " 'https://www.makroclick.com/th/category/fish-and-seafood/shellfish-oyster',\n",
              " 'https://www.makroclick.com/th/category',\n",
              " 'https://www.makroclick.com/th/categoryCarousel__Text1line-sc-1iqrhgx-0 gOllCP',\n",
              " 'https://www.makroclick.com/th/category/fish-and-seafood/squid',\n",
              " 'https://www.makroclick.com/th/category',\n",
              " 'https://www.makroclick.com/th/categoryCarousel__Text1line-sc-1iqrhgx-0 gOllCP',\n",
              " 'https://www.makroclick.com/th/category/fish-and-seafood/crab',\n",
              " 'https://www.makroclick.com/th/category',\n",
              " 'https://www.makroclick.com/th/categoryCarousel__Text1line-sc-1iqrhgx-0 gOllCP',\n",
              " 'https://www.makroclick.com/th/category/fish-and-seafood/seafood',\n",
              " 'https://www.makroclick.com/th/category',\n",
              " 'https://www.makroclick.com/th/categoryCarousel__Text1line-sc-1iqrhgx-0 gOllCP',\n",
              " 'https://www.makroclick.com/th/category/fish-and-seafood/processed-fish-and-seafood',\n",
              " 'https://www.makroclick.com/th/categoryCarousel__Text1line-sc-1iqrhgx-0 gOllCP']"
            ]
          },
          "metadata": {
            "tags": []
          },
          "execution_count": 217
        }
      ]
    },
    {
      "cell_type": "code",
      "metadata": {
        "id": "YpYfH4WJJhip"
      },
      "source": [
        "link_list_ = []\n",
        "for i in link_list:\n",
        "  if 'https://www.makroclick.com/th/category/fish-and-seafood/' in i:\n",
        "    link_list_.append(i)"
      ],
      "execution_count": 218,
      "outputs": []
    },
    {
      "cell_type": "code",
      "metadata": {
        "colab": {
          "base_uri": "https://localhost:8080/"
        },
        "id": "bcZrW4jeJu0F",
        "outputId": "c8bfb35d-f4b2-4ba1-a57a-115b732802ad"
      },
      "source": [
        "link_listx = []\n",
        "for i in link_list_:\n",
        "  driver.get(i)\n",
        "  time.sleep(10)\n",
        "\n",
        "  try:\n",
        "    element = driver.find_element_by_xpath('//*[@id=\"subcategoryCarouselSM\"]/div[1]')\n",
        "    link = element.get_attribute('innerHTML')\n",
        "    link = link.split('><')\n",
        "\n",
        "    for j in link:\n",
        "      if 'href' in j:\n",
        "        link_listx.append(\"https://www.makroclick.com/th/category\"+j.split('category')[1].split('\"')[0]+\"?page=\")\n",
        "  except:\n",
        "    pass\n",
        "\n",
        "link_listx"
      ],
      "execution_count": 219,
      "outputs": [
        {
          "output_type": "execute_result",
          "data": {
            "text/plain": [
              "['https://www.makroclick.com/th/category/fish-and-seafood/fish/fresh-fish?page=',\n",
              " 'https://www.makroclick.com/th/category/fish-and-seafood/fish/frozen-fish?page=',\n",
              " 'https://www.makroclick.com/th/category/fish-and-seafood/fish/other-processed-fish?page=',\n",
              " 'https://www.makroclick.com/th/category/fish-and-seafood/shrimp-prawn/fresh-shrimp-prawn?page=',\n",
              " 'https://www.makroclick.com/th/category/fish-and-seafood/shrimp-prawn/frozen-shrimp-prawn?page=',\n",
              " 'https://www.makroclick.com/th/category/fish-and-seafood/shrimp-prawn/other-processed-shrimp-prawn?page=',\n",
              " 'https://www.makroclick.com/th/category/fish-and-seafood/shellfish-oyster/fresh-shellfish-oyster?page=',\n",
              " 'https://www.makroclick.com/th/category/fish-and-seafood/shellfish-oyster/frozen-shellfish-oyster?page=',\n",
              " 'https://www.makroclick.com/th/category/fish-and-seafood/shellfish-oyster/other-processed-shellfish-oyster?page=',\n",
              " 'https://www.makroclick.com/th/category/fish-and-seafood/squid/fresh-squid?page=',\n",
              " 'https://www.makroclick.com/th/category/fish-and-seafood/squid/frozen-squid?page=',\n",
              " 'https://www.makroclick.com/th/category/fish-and-seafood/squid/other-processed-squid?page=',\n",
              " 'https://www.makroclick.com/th/category/fish-and-seafood/crab/fresh-crab?page=',\n",
              " 'https://www.makroclick.com/th/category/fish-and-seafood/crab/frozen-crab?page=',\n",
              " 'https://www.makroclick.com/th/category/fish-and-seafood/crab/other-processed-crab?page=',\n",
              " 'https://www.makroclick.com/th/category/fish-and-seafood/seafood/other-fresh-seafood?page=',\n",
              " 'https://www.makroclick.com/th/category/fish-and-seafood/seafood/other-frozen-seafood?page=',\n",
              " 'https://www.makroclick.com/th/category/fish-and-seafood/seafood/other-processed-seafood?page=',\n",
              " 'https://www.makroclick.com/th/category/fish-and-seafood/processed-fish-and-seafood/processed-fish?page=',\n",
              " 'https://www.makroclick.com/th/category/fish-and-seafood/processed-fish-and-seafood/processed-shrimp-prawn?page=',\n",
              " 'https://www.makroclick.com/th/category/fish-and-seafood/processed-fish-and-seafood/processed-shellfish-oyster?page=',\n",
              " 'https://www.makroclick.com/th/category/fish-and-seafood/processed-fish-and-seafood/processed-squid?page=',\n",
              " 'https://www.makroclick.com/th/category/fish-and-seafood/processed-fish-and-seafood/processed-crab?page=',\n",
              " 'https://www.makroclick.com/th/category/fish-and-seafood/processed-fish-and-seafood/processed-seafood?page=']"
            ]
          },
          "metadata": {
            "tags": []
          },
          "execution_count": 219
        }
      ]
    },
    {
      "cell_type": "code",
      "metadata": {
        "colab": {
          "base_uri": "https://localhost:8080/"
        },
        "id": "OWV-Rf0IKMVx",
        "outputId": "f4ed69a1-d238-415e-e8ad-05915d3209d7"
      },
      "source": [
        "title = []\n",
        "sub_title = []\n",
        "\n",
        "for i in link_listx:\n",
        "  driver.get(i+'1')\n",
        "  time.sleep(10)\n",
        "\n",
        "  print(i+'1')\n",
        "  try:\n",
        "    element1 = driver.find_element_by_xpath('//*[@id=\"categoryContainer\"]/div[2]/div[2]/div[1]/div/div[1]')\n",
        "    title.append(element1.get_attribute('innerText'))\n",
        "\n",
        "    element2 = driver.find_element_by_xpath('//*[@id=\"categoryContainer\"]/div[2]/div[2]/div[1]/div/div[2]/div/h1')\n",
        "    sub_title.append(element2.get_attribute('innerText'))\n",
        "\n",
        "    #element3 = driver.find_element_by_xpath('//*[@id=\"scrollPaginatorTop\"]/div[2]')\n",
        "    #content.append(element3.get_attribute('innerText'))\n",
        "  except:\n",
        "    pass  \n",
        "    #content.append('')"
      ],
      "execution_count": 223,
      "outputs": [
        {
          "output_type": "stream",
          "text": [
            "https://www.makroclick.com/th/category/fish-and-seafood/fish/fresh-fish?page=1\n",
            "https://www.makroclick.com/th/category/fish-and-seafood/fish/frozen-fish?page=1\n",
            "https://www.makroclick.com/th/category/fish-and-seafood/fish/other-processed-fish?page=1\n",
            "https://www.makroclick.com/th/category/fish-and-seafood/shrimp-prawn/fresh-shrimp-prawn?page=1\n",
            "https://www.makroclick.com/th/category/fish-and-seafood/shrimp-prawn/frozen-shrimp-prawn?page=1\n",
            "https://www.makroclick.com/th/category/fish-and-seafood/shrimp-prawn/other-processed-shrimp-prawn?page=1\n",
            "https://www.makroclick.com/th/category/fish-and-seafood/shellfish-oyster/fresh-shellfish-oyster?page=1\n",
            "https://www.makroclick.com/th/category/fish-and-seafood/shellfish-oyster/frozen-shellfish-oyster?page=1\n",
            "https://www.makroclick.com/th/category/fish-and-seafood/shellfish-oyster/other-processed-shellfish-oyster?page=1\n",
            "https://www.makroclick.com/th/category/fish-and-seafood/squid/fresh-squid?page=1\n",
            "https://www.makroclick.com/th/category/fish-and-seafood/squid/frozen-squid?page=1\n",
            "https://www.makroclick.com/th/category/fish-and-seafood/squid/other-processed-squid?page=1\n",
            "https://www.makroclick.com/th/category/fish-and-seafood/crab/fresh-crab?page=1\n",
            "https://www.makroclick.com/th/category/fish-and-seafood/crab/frozen-crab?page=1\n",
            "https://www.makroclick.com/th/category/fish-and-seafood/crab/other-processed-crab?page=1\n",
            "https://www.makroclick.com/th/category/fish-and-seafood/seafood/other-fresh-seafood?page=1\n",
            "https://www.makroclick.com/th/category/fish-and-seafood/seafood/other-frozen-seafood?page=1\n",
            "https://www.makroclick.com/th/category/fish-and-seafood/seafood/other-processed-seafood?page=1\n",
            "https://www.makroclick.com/th/category/fish-and-seafood/processed-fish-and-seafood/processed-fish?page=1\n",
            "https://www.makroclick.com/th/category/fish-and-seafood/processed-fish-and-seafood/processed-shrimp-prawn?page=1\n",
            "https://www.makroclick.com/th/category/fish-and-seafood/processed-fish-and-seafood/processed-shellfish-oyster?page=1\n",
            "https://www.makroclick.com/th/category/fish-and-seafood/processed-fish-and-seafood/processed-squid?page=1\n",
            "https://www.makroclick.com/th/category/fish-and-seafood/processed-fish-and-seafood/processed-crab?page=1\n",
            "https://www.makroclick.com/th/category/fish-and-seafood/processed-fish-and-seafood/processed-seafood?page=1\n"
          ],
          "name": "stdout"
        }
      ]
    },
    {
      "cell_type": "code",
      "metadata": {
        "colab": {
          "base_uri": "https://localhost:8080/"
        },
        "id": "H9Ehhdw-MPHa",
        "outputId": "ad2c7d90-ddfe-43b6-c01d-d0f49462c475"
      },
      "source": [
        "content = []\n",
        "\n",
        "x = 1\n",
        "\n",
        "for i in link_listx:\n",
        "  contentx = '\\n\\n'\n",
        "  while True:\n",
        "    try:\n",
        "      print(i+str(x)+'&sorting=SORTING_LAST_UPDATE&all=true')\n",
        "      driver.get(i+str(x)+'&sorting=SORTING_LAST_UPDATE&all=true')\n",
        "      time.sleep(10)\n",
        "\n",
        "  #try:\n",
        "\n",
        "      element3 = driver.find_element_by_xpath('//*[@id=\"scrollPaginatorTop\"]/div[2]')\n",
        "      print(element3.get_attribute('innerText'))\n",
        "      contentx = contentx+element3.get_attribute('innerText')+'\\n\\n'\n",
        "      x = x+1\n",
        "    except:\n",
        "      x = 1\n",
        "      break\n",
        "    \n",
        "  #except:\n",
        "    #content.append('')\n",
        "  content.append(contentx)"
      ],
      "execution_count": 224,
      "outputs": [
        {
          "output_type": "stream",
          "text": [
            "https://www.makroclick.com/th/category/fish-and-seafood/fish/fresh-fish?page=1&sorting=SORTING_LAST_UPDATE&all=true\n",
            "ปลากะพงขาวสด (ขนาด 800-1000 กรัม/ตัว)\n",
            "รหัสสินค้า 897250\n",
            "99.00 ฿\n",
            "ราคาต่อชิ้น  99.00 ฿\n",
            "\n",
            "ปลาทับทิมสด (ขนาด 700-900 กรัม/ตัว)\n",
            "รหัสสินค้า 897249\n",
            "79.00 ฿\n",
            "ราคาต่อชิ้น  79.00 ฿\n",
            "https://www.makroclick.com/th/category/fish-and-seafood/fish/fresh-fish?page=2&sorting=SORTING_LAST_UPDATE&all=true\n",
            "https://www.makroclick.com/th/category/fish-and-seafood/fish/frozen-fish?page=1&sorting=SORTING_LAST_UPDATE&all=true\n",
            "https://www.makroclick.com/th/category/fish-and-seafood/fish/other-processed-fish?page=1&sorting=SORTING_LAST_UPDATE&all=true\n",
            "คิวเฟรช เนื้อปลาแซลมอนสไลซ์ติดหนังแช่แข็ง พร้อมซอสเทอริยากิ 500 กรัม\n",
            "รหัสสินค้า 894096\n",
            "349.00 ฿\n",
            "ราคาต่อชิ้น  349.00 ฿\n",
            "\n",
            "คิวเฟรช ปลาแซลมอนหมักซอสปรุงรสกระเทียมและสมุนไพรแช่แข็ง 500 กรัม\n",
            "รหัสสินค้า 894093\n",
            "335.00 ฿\n",
            "ราคาต่อชิ้น  335.00 ฿\n",
            "\n",
            "คิวเฟรช ปลาแซลมอนหมักซอสปรุงรสพริกไทยดำแช่แข็ง 500 กรัม\n",
            "รหัสสินค้า 894099\n",
            "335.00 ฿\n",
            "ราคาต่อชิ้น  335.00 ฿\n",
            "\n",
            "คิวเฟรช เนื้อปลากะพงสไลซ์แช่แข็งพร้อมซอสสามรส 500 กรัม\n",
            "รหัสสินค้า 892171\n",
            "285.00 ฿\n",
            "ราคาต่อชิ้น  285.00 ฿\n",
            "\n",
            "คิวเฟรช ปลากะพงหมักซอสปรุงรสขมิ้นแช่แข็ง 500 กรัม\n",
            "รหัสสินค้า 892174\n",
            "255.00 ฿\n",
            "ราคาต่อชิ้น  255.00 ฿\n",
            "\n",
            "คิวเฟรช เนื้อปลาแซลมอนแอตแลนติกแช่แข็ง 1 กก.\n",
            "รหัสสินค้า 892101\n",
            "215.00 ฿\n",
            "ราคาต่อชิ้น  215.00 ฿\n",
            "\n",
            "ปลานิลตัดแต่ง 400 กรัม\n",
            "รหัสสินค้า 896597\n",
            "29.00 ฿\n",
            "ราคาต่อชิ้น  29.00 ฿\n",
            "https://www.makroclick.com/th/category/fish-and-seafood/fish/other-processed-fish?page=2&sorting=SORTING_LAST_UPDATE&all=true\n",
            "https://www.makroclick.com/th/category/fish-and-seafood/shrimp-prawn/fresh-shrimp-prawn?page=1&sorting=SORTING_LAST_UPDATE&all=true\n",
            "https://www.makroclick.com/th/category/fish-and-seafood/shrimp-prawn/frozen-shrimp-prawn?page=1&sorting=SORTING_LAST_UPDATE&all=true\n",
            "ซีพีแปซิฟิก กุ้งขาวต้มสุกทั้งตัวแช่แข็ง (ขนาด 41-50 ตัว/กก.) 500 กรัม\n",
            "รหัสสินค้า 224824\n",
            "219.00 ฿\n",
            "ราคาต่อชิ้น  219.00 ฿\n",
            "\n",
            "เอโร่ กุ้งขาวแช่แข็งไม่ปอกเปลือกผ่าหลังไว้หาง ขนาด 28-35 ตัว/ถุง\n",
            "รหัสสินค้า 816828\n",
            "380.00 ฿\n",
            "ราคาต่อชิ้น  380.00 ฿\n",
            "\n",
            "กุ้งขาวไว้หางแช่แข็ง ขนาด 67-77 ตัว/ถุง\n",
            "รหัสสินค้า 816822\n",
            "159.00 ฿\n",
            "ราคาต่อชิ้น  159.00 ฿\n",
            "\n",
            "เอโร่ เนื้อกุ้งขาวแช่แข็ง (จำนวน 160-194 ตัว/แพ็ค) 800 กรัม\n",
            "รหัสสินค้า 816800\n",
            "270.00 ฿\n",
            "ราคาต่อชิ้น  270.00 ฿\n",
            "\n",
            "เซพแพ็ค กุ้งขาวไว้หางแช่แข็ง (48-54 ตัว/แพ็ค) 1000 กรัม\n",
            "รหัสสินค้า 155674\n",
            "305.00 ฿\n",
            "ราคาต่อชิ้น  305.00 ฿\n",
            "\n",
            "เอโร่ กุ้งขาวไว้หางแช่แข็ง (จำนวน 72-88 ตัว/แพ็ค) 1000 กรัม\n",
            "รหัสสินค้า 816806\n",
            "310.00 ฿\n",
            "ราคาต่อชิ้น  310.00 ฿\n",
            "\n",
            "เซพแพ็ค กุ้งขาวไว้หางแช่แข็ง (จำนวน 32-38 ตัว/กก.) แพ็ค 1000 กรัม\n",
            "รหัสสินค้า 155650\n",
            "340.00 ฿\n",
            "ราคาต่อชิ้น  340.00 ฿\n",
            "\n",
            "คิวเฟรช กุ้งซูชิอาเจนแช่แข็ง 4L x 10 ตัว\n",
            "รหัสสินค้า 895028\n",
            "125.00 ฿\n",
            "ราคาต่อชิ้น  125.00 ฿\n",
            "\n",
            "ซีพีแปซิฟิก กุ้งขาวต้มสุกทั้งตัวแช่แข็ง (ขนาด 41-50 ตัว/กก.) 500 กรัม\n",
            "รหัสสินค้า 897033\n",
            "219.00 ฿\n",
            "ราคาต่อชิ้น  219.00 ฿\n",
            "\n",
            "ซีพี กุ้งขาวทั้งตัวต้มสุกแช่แข็ง (ขนาด 26-35 ตัว/กก.) 1 กก.\n",
            "รหัสสินค้า 897034\n",
            "299.00 ฿\n",
            "ราคาต่อชิ้น  299.00 ฿\n",
            "\n",
            "กุ้งขาวไว้หางแช่แข็ง ขนาด 56-66 ตัว/ถุง\n",
            "รหัสสินค้า 816820\n",
            "185.00 ฿\n",
            "ราคาต่อชิ้น  185.00 ฿\n",
            "\n",
            "ซีพีแปซิฟิก กุ้งขาวดิบทั้งตัวแช่แข็ง (ขนาด 51-60 ตัว/กก.) 500 กรัม\n",
            "รหัสสินค้า 226938\n",
            "200.00 ฿\n",
            "ราคาต่อชิ้น  200.00 ฿\n",
            "\n",
            "ซีพีแปซิฟิก กุ้งขาวดิบทั้งตัวแช่แข็ง (ขนาด 31-40 ตัว/กก.) 500 กรัม\n",
            "รหัสสินค้า 224862\n",
            "220.00 ฿\n",
            "ราคาต่อชิ้น  220.00 ฿\n",
            "\n",
            "เซพแพ็ค กุ้งขาวไว้หางแช่แข็ง (63-85 ตัว/แพ็ค) 1000 กรัม\n",
            "รหัสสินค้า 155676\n",
            "250.00 ฿\n",
            "ราคาต่อชิ้น  250.00 ฿\n",
            "\n",
            "เอโร่ กุ้งขาวไว้หาง (90-106 ตัว/แพ็ค) 1000 กรัม\n",
            "รหัสสินค้า 142161\n",
            "285.00 ฿\n",
            "ราคาต่อชิ้น  285.00 ฿\n",
            "\n",
            "เซพแพ็ค เนื้อกุ้งขาวแช่แข็ง (จำนวน 92-123 ตัว/แพ็ค) 1000 กรัม\n",
            "รหัสสินค้า 155700\n",
            "280.00 ฿\n",
            "ราคาต่อชิ้น  280.00 ฿\n",
            "\n",
            "เอโร่ กุ้งขาวไว้หางไม่ปอกเปลือกผ่าหลังแช่แข็ง (72-88 ตัว/แพ็ค) 1000 กรัม\n",
            "รหัสสินค้า 816826\n",
            "285.00 ฿\n",
            "ราคาต่อชิ้น  285.00 ฿\n",
            "\n",
            "คางกุ้งแช่แข็ง 1 กิโลกรัม\n",
            "รหัสสินค้า 803553\n",
            "69.00 ฿\n",
            "ราคาต่อชิ้น  69.00 ฿\n",
            "\n",
            "เอโร่ กุ้งขาวไว้หาง (55-70 ตัว/แพ็ค) 1000 กรัม\n",
            "รหัสสินค้า 816804\n",
            "360.00 ฿\n",
            "ราคาต่อชิ้น  360.00 ฿\n",
            "\n",
            "กุ้งขาวไว้หางแช่แข็ง ขนาด 45-55 ตัว-ถุง\n",
            "รหัสสินค้า 816722\n",
            "190.00 ฿\n",
            "ราคาต่อชิ้น  190.00 ฿\n",
            "\n",
            "เอโร่ กุ้งขาวไว้หาง (107-123 ตัว/แพ็ค) 1000 กรัม\n",
            "รหัสสินค้า 133339\n",
            "270.00 ฿\n",
            "ราคาต่อชิ้น  270.00 ฿\n",
            "\n",
            "เซพแพ็ค เนื้อกุ้งขาวแช่แข็ง (จำนวน 62-92 ตัว/แพ็ค) 1000 กรัม\n",
            "รหัสสินค้า 155696\n",
            "290.00 ฿\n",
            "ราคาต่อชิ้น  290.00 ฿\n",
            "\n",
            "เซพแพ็ค เนื้อกุ้งทะเลหักแช่แข็ง (123-308 ตัว/แพ็ค) 1000 กรัม\n",
            "รหัสสินค้า 816824\n",
            "260.00 ฿\n",
            "ราคาต่อชิ้น  260.00 ฿\n",
            "\n",
            "มันกุ้งขาวแช่แข็ง 500 กรัม\n",
            "รหัสสินค้า 803555\n",
            "97.00 ฿\n",
            "ราคาต่อชิ้น  97.00 ฿\n",
            "https://www.makroclick.com/th/category/fish-and-seafood/shrimp-prawn/frozen-shrimp-prawn?page=2&sorting=SORTING_LAST_UPDATE&all=true\n",
            "https://www.makroclick.com/th/category/fish-and-seafood/shrimp-prawn/other-processed-shrimp-prawn?page=1&sorting=SORTING_LAST_UPDATE&all=true\n",
            "https://www.makroclick.com/th/category/fish-and-seafood/shellfish-oyster/fresh-shellfish-oyster?page=1&sorting=SORTING_LAST_UPDATE&all=true\n",
            "https://www.makroclick.com/th/category/fish-and-seafood/shellfish-oyster/frozen-shellfish-oyster?page=1&sorting=SORTING_LAST_UPDATE&all=true\n",
            "เนื้อหอยเชลล์แช่แข็ง (ขนาด 40-60 ตัว/ปอนด์) 1 กก.\n",
            "รหัสสินค้า 148055\n",
            "\n",
            "270.00 ฿\n",
            "\n",
            "-1%\n",
            "\n",
            "265.00 ฿\n",
            "ราคาต่อชิ้น  265.00 ฿\n",
            "\n",
            "พีทีเอ็น เนื้อหอยนางรมญี่ปุ่นชุบเกล็ดขนมปังแช่แข็ง 35 กรัม x 10 ชิ้น\n",
            "รหัสสินค้า 865069\n",
            "218.00 ฿\n",
            "ราคาต่อชิ้น  21.80 ฿\n",
            "https://www.makroclick.com/th/category/fish-and-seafood/shellfish-oyster/frozen-shellfish-oyster?page=2&sorting=SORTING_LAST_UPDATE&all=true\n",
            "https://www.makroclick.com/th/category/fish-and-seafood/shellfish-oyster/other-processed-shellfish-oyster?page=1&sorting=SORTING_LAST_UPDATE&all=true\n",
            "https://www.makroclick.com/th/category/fish-and-seafood/squid/fresh-squid?page=1&sorting=SORTING_LAST_UPDATE&all=true\n",
            "https://www.makroclick.com/th/category/fish-and-seafood/squid/frozen-squid?page=1&sorting=SORTING_LAST_UPDATE&all=true\n",
            "https://www.makroclick.com/th/category/fish-and-seafood/squid/other-processed-squid?page=1&sorting=SORTING_LAST_UPDATE&all=true\n",
            "ธนา หมึกหนังไหว้ ขนาด 9-11 นิ้ว\n",
            "รหัสสินค้า 897035\n",
            "189.00 ฿\n",
            "ราคาต่อชิ้น  189.00 ฿\n",
            "https://www.makroclick.com/th/category/fish-and-seafood/squid/other-processed-squid?page=2&sorting=SORTING_LAST_UPDATE&all=true\n",
            "https://www.makroclick.com/th/category/fish-and-seafood/crab/fresh-crab?page=1&sorting=SORTING_LAST_UPDATE&all=true\n",
            "https://www.makroclick.com/th/category/fish-and-seafood/crab/frozen-crab?page=1&sorting=SORTING_LAST_UPDATE&all=true\n",
            "https://www.makroclick.com/th/category/fish-and-seafood/crab/other-processed-crab?page=1&sorting=SORTING_LAST_UPDATE&all=true\n",
            "https://www.makroclick.com/th/category/fish-and-seafood/seafood/other-fresh-seafood?page=1&sorting=SORTING_LAST_UPDATE&all=true\n",
            "https://www.makroclick.com/th/category/fish-and-seafood/seafood/other-frozen-seafood?page=1&sorting=SORTING_LAST_UPDATE&all=true\n",
            "https://www.makroclick.com/th/category/fish-and-seafood/seafood/other-processed-seafood?page=1&sorting=SORTING_LAST_UPDATE&all=true\n",
            "https://www.makroclick.com/th/category/fish-and-seafood/processed-fish-and-seafood/processed-fish?page=1&sorting=SORTING_LAST_UPDATE&all=true\n",
            "คิวเฟรช เนื้อปลากะพงสไลซ์แช่แข็งพร้อมซอสมะขาม 500 กรัม\n",
            "รหัสสินค้า 892177\n",
            "285.00 ฿\n",
            "ราคาต่อชิ้น  285.00 ฿\n",
            "https://www.makroclick.com/th/category/fish-and-seafood/processed-fish-and-seafood/processed-fish?page=2&sorting=SORTING_LAST_UPDATE&all=true\n",
            "https://www.makroclick.com/th/category/fish-and-seafood/processed-fish-and-seafood/processed-shrimp-prawn?page=1&sorting=SORTING_LAST_UPDATE&all=true\n",
            "https://www.makroclick.com/th/category/fish-and-seafood/processed-fish-and-seafood/processed-shellfish-oyster?page=1&sorting=SORTING_LAST_UPDATE&all=true\n",
            "เนื้อหอยเชลล์แช่แข็ง (ขนาด 40-60 ตัว/ปอนด์) 1 กก.\n",
            "รหัสสินค้า 148055\n",
            "\n",
            "270.00 ฿\n",
            "\n",
            "-1%\n",
            "\n",
            "265.00 ฿\n",
            "ราคาต่อชิ้น  265.00 ฿\n",
            "\n",
            "พีทีเอ็น เนื้อหอยนางรมญี่ปุ่นชุบเกล็ดขนมปังแช่แข็ง 35 กรัม x 10 ชิ้น\n",
            "รหัสสินค้า 865069\n",
            "218.00 ฿\n",
            "ราคาต่อชิ้น  21.80 ฿\n",
            "https://www.makroclick.com/th/category/fish-and-seafood/processed-fish-and-seafood/processed-shellfish-oyster?page=2&sorting=SORTING_LAST_UPDATE&all=true\n",
            "https://www.makroclick.com/th/category/fish-and-seafood/processed-fish-and-seafood/processed-squid?page=1&sorting=SORTING_LAST_UPDATE&all=true\n",
            "ธนา หมึกหนังไหว้ ขนาด 9-11 นิ้ว\n",
            "รหัสสินค้า 897035\n",
            "189.00 ฿\n",
            "ราคาต่อชิ้น  189.00 ฿\n",
            "https://www.makroclick.com/th/category/fish-and-seafood/processed-fish-and-seafood/processed-squid?page=2&sorting=SORTING_LAST_UPDATE&all=true\n",
            "https://www.makroclick.com/th/category/fish-and-seafood/processed-fish-and-seafood/processed-crab?page=1&sorting=SORTING_LAST_UPDATE&all=true\n",
            "https://www.makroclick.com/th/category/fish-and-seafood/processed-fish-and-seafood/processed-seafood?page=1&sorting=SORTING_LAST_UPDATE&all=true\n"
          ],
          "name": "stdout"
        }
      ]
    },
    {
      "cell_type": "code",
      "metadata": {
        "id": "Hxn-oqsIJhTy"
      },
      "source": [
        "contentx = []\n",
        "for i in content:\n",
        "  contentx.append(i[2:-2])"
      ],
      "execution_count": 225,
      "outputs": []
    },
    {
      "cell_type": "code",
      "metadata": {
        "id": "ZKrbeWF8OFUz"
      },
      "source": [
        "product_group = []\n",
        "sub_product_group1 = []\n",
        "for i in title:\n",
        "  product_group.append(i.split('\\n»\\n')[1])\n",
        "  try:\n",
        "    sub_product_group1.append(i.split('\\n»\\n')[2])\n",
        "  except:\n",
        "    sub_product_group1.append('')"
      ],
      "execution_count": 226,
      "outputs": []
    },
    {
      "cell_type": "code",
      "metadata": {
        "id": "i7qVwLwRTirs"
      },
      "source": [
        "sub_product_group2 = []\n",
        "for i in sub_title:\n",
        "  sub_product_group2.append(i.split(' ')[1])"
      ],
      "execution_count": 227,
      "outputs": []
    },
    {
      "cell_type": "code",
      "metadata": {
        "colab": {
          "base_uri": "https://localhost:8080/",
          "height": 297
        },
        "id": "gQE-ya24Tltl",
        "outputId": "bc1d8bf1-51b0-47a0-8502-d0504db24897"
      },
      "source": [
        "df = pd.DataFrame(list(zip(sub_product_group2, sub_product_group1, product_group, contentx)),columns=['sub_product_group2', 'sub_product_group1', 'product_group', 'content'])\n",
        "df = df[df['content'] != '']\n",
        "df"
      ],
      "execution_count": 228,
      "outputs": [
        {
          "output_type": "execute_result",
          "data": {
            "text/html": [
              "<div>\n",
              "<style scoped>\n",
              "    .dataframe tbody tr th:only-of-type {\n",
              "        vertical-align: middle;\n",
              "    }\n",
              "\n",
              "    .dataframe tbody tr th {\n",
              "        vertical-align: top;\n",
              "    }\n",
              "\n",
              "    .dataframe thead th {\n",
              "        text-align: right;\n",
              "    }\n",
              "</style>\n",
              "<table border=\"1\" class=\"dataframe\">\n",
              "  <thead>\n",
              "    <tr style=\"text-align: right;\">\n",
              "      <th></th>\n",
              "      <th>sub_product_group2</th>\n",
              "      <th>sub_product_group1</th>\n",
              "      <th>product_group</th>\n",
              "      <th>content</th>\n",
              "    </tr>\n",
              "  </thead>\n",
              "  <tbody>\n",
              "    <tr>\n",
              "      <th>0</th>\n",
              "      <td>ปลาสด</td>\n",
              "      <td>ปลา</td>\n",
              "      <td>ปลาและอาหารทะเล</td>\n",
              "      <td>ปลากะพงขาวสด (ขนาด 800-1000 กรัม/ตัว)\\nรหัสสิน...</td>\n",
              "    </tr>\n",
              "    <tr>\n",
              "      <th>2</th>\n",
              "      <td>กุ้งสด</td>\n",
              "      <td>กุ้ง</td>\n",
              "      <td>ปลาและอาหารทะเล</td>\n",
              "      <td>คิวเฟรช เนื้อปลาแซลมอนสไลซ์ติดหนังแช่แข็ง พร้อ...</td>\n",
              "    </tr>\n",
              "    <tr>\n",
              "      <th>4</th>\n",
              "      <td>กุ้งแปรรูปและอื่น</td>\n",
              "      <td>กุ้ง</td>\n",
              "      <td>ปลาและอาหารทะเล</td>\n",
              "      <td>ซีพีแปซิฟิก กุ้งขาวต้มสุกทั้งตัวแช่แข็ง (ขนาด ...</td>\n",
              "    </tr>\n",
              "    <tr>\n",
              "      <th>7</th>\n",
              "      <td>หอยแปรรูปและอื่น</td>\n",
              "      <td>หอย</td>\n",
              "      <td>ปลาและอาหารทะเล</td>\n",
              "      <td>เนื้อหอยเชลล์แช่แข็ง (ขนาด 40-60 ตัว/ปอนด์) 1 ...</td>\n",
              "    </tr>\n",
              "    <tr>\n",
              "      <th>11</th>\n",
              "      <td>ปูสด</td>\n",
              "      <td>ปู</td>\n",
              "      <td>ปลาและอาหารทะเล</td>\n",
              "      <td>ธนา หมึกหนังไหว้ ขนาด 9-11 นิ้ว\\nรหัสสินค้า 89...</td>\n",
              "    </tr>\n",
              "    <tr>\n",
              "      <th>18</th>\n",
              "      <td>กุ้งแปรรูป</td>\n",
              "      <td>อาหารทะเลแปรรูป</td>\n",
              "      <td>ปลาและอาหารทะเล</td>\n",
              "      <td>คิวเฟรช เนื้อปลากะพงสไลซ์แช่แข็งพร้อมซอสมะขาม ...</td>\n",
              "    </tr>\n",
              "    <tr>\n",
              "      <th>20</th>\n",
              "      <td>หมึกแปรรูป</td>\n",
              "      <td>อาหารทะเลแปรรูป</td>\n",
              "      <td>ปลาและอาหารทะเล</td>\n",
              "      <td>เนื้อหอยเชลล์แช่แข็ง (ขนาด 40-60 ตัว/ปอนด์) 1 ...</td>\n",
              "    </tr>\n",
              "    <tr>\n",
              "      <th>21</th>\n",
              "      <td>ปูแปรรูป</td>\n",
              "      <td>อาหารทะเลแปรรูป</td>\n",
              "      <td>ปลาและอาหารทะเล</td>\n",
              "      <td>ธนา หมึกหนังไหว้ ขนาด 9-11 นิ้ว\\nรหัสสินค้า 89...</td>\n",
              "    </tr>\n",
              "  </tbody>\n",
              "</table>\n",
              "</div>"
            ],
            "text/plain": [
              "   sub_product_group2  ...                                            content\n",
              "0               ปลาสด  ...  ปลากะพงขาวสด (ขนาด 800-1000 กรัม/ตัว)\\nรหัสสิน...\n",
              "2              กุ้งสด  ...  คิวเฟรช เนื้อปลาแซลมอนสไลซ์ติดหนังแช่แข็ง พร้อ...\n",
              "4   กุ้งแปรรูปและอื่น  ...  ซีพีแปซิฟิก กุ้งขาวต้มสุกทั้งตัวแช่แข็ง (ขนาด ...\n",
              "7    หอยแปรรูปและอื่น  ...  เนื้อหอยเชลล์แช่แข็ง (ขนาด 40-60 ตัว/ปอนด์) 1 ...\n",
              "11               ปูสด  ...  ธนา หมึกหนังไหว้ ขนาด 9-11 นิ้ว\\nรหัสสินค้า 89...\n",
              "18         กุ้งแปรรูป  ...  คิวเฟรช เนื้อปลากะพงสไลซ์แช่แข็งพร้อมซอสมะขาม ...\n",
              "20         หมึกแปรรูป  ...  เนื้อหอยเชลล์แช่แข็ง (ขนาด 40-60 ตัว/ปอนด์) 1 ...\n",
              "21           ปูแปรรูป  ...  ธนา หมึกหนังไหว้ ขนาด 9-11 นิ้ว\\nรหัสสินค้า 89...\n",
              "\n",
              "[8 rows x 4 columns]"
            ]
          },
          "metadata": {
            "tags": []
          },
          "execution_count": 228
        }
      ]
    },
    {
      "cell_type": "code",
      "metadata": {
        "colab": {
          "base_uri": "https://localhost:8080/",
          "height": 297
        },
        "id": "kmepS_fLT226",
        "outputId": "882ad461-59ca-457d-8dcf-de34485a78dd"
      },
      "source": [
        "df.loc[df['sub_product_group1']=='','sub_product_group1']=df['sub_product_group2']\n",
        "df"
      ],
      "execution_count": 229,
      "outputs": [
        {
          "output_type": "execute_result",
          "data": {
            "text/html": [
              "<div>\n",
              "<style scoped>\n",
              "    .dataframe tbody tr th:only-of-type {\n",
              "        vertical-align: middle;\n",
              "    }\n",
              "\n",
              "    .dataframe tbody tr th {\n",
              "        vertical-align: top;\n",
              "    }\n",
              "\n",
              "    .dataframe thead th {\n",
              "        text-align: right;\n",
              "    }\n",
              "</style>\n",
              "<table border=\"1\" class=\"dataframe\">\n",
              "  <thead>\n",
              "    <tr style=\"text-align: right;\">\n",
              "      <th></th>\n",
              "      <th>sub_product_group2</th>\n",
              "      <th>sub_product_group1</th>\n",
              "      <th>product_group</th>\n",
              "      <th>content</th>\n",
              "    </tr>\n",
              "  </thead>\n",
              "  <tbody>\n",
              "    <tr>\n",
              "      <th>0</th>\n",
              "      <td>ปลาสด</td>\n",
              "      <td>ปลา</td>\n",
              "      <td>ปลาและอาหารทะเล</td>\n",
              "      <td>ปลากะพงขาวสด (ขนาด 800-1000 กรัม/ตัว)\\nรหัสสิน...</td>\n",
              "    </tr>\n",
              "    <tr>\n",
              "      <th>2</th>\n",
              "      <td>กุ้งสด</td>\n",
              "      <td>กุ้ง</td>\n",
              "      <td>ปลาและอาหารทะเล</td>\n",
              "      <td>คิวเฟรช เนื้อปลาแซลมอนสไลซ์ติดหนังแช่แข็ง พร้อ...</td>\n",
              "    </tr>\n",
              "    <tr>\n",
              "      <th>4</th>\n",
              "      <td>กุ้งแปรรูปและอื่น</td>\n",
              "      <td>กุ้ง</td>\n",
              "      <td>ปลาและอาหารทะเล</td>\n",
              "      <td>ซีพีแปซิฟิก กุ้งขาวต้มสุกทั้งตัวแช่แข็ง (ขนาด ...</td>\n",
              "    </tr>\n",
              "    <tr>\n",
              "      <th>7</th>\n",
              "      <td>หอยแปรรูปและอื่น</td>\n",
              "      <td>หอย</td>\n",
              "      <td>ปลาและอาหารทะเล</td>\n",
              "      <td>เนื้อหอยเชลล์แช่แข็ง (ขนาด 40-60 ตัว/ปอนด์) 1 ...</td>\n",
              "    </tr>\n",
              "    <tr>\n",
              "      <th>11</th>\n",
              "      <td>ปูสด</td>\n",
              "      <td>ปู</td>\n",
              "      <td>ปลาและอาหารทะเล</td>\n",
              "      <td>ธนา หมึกหนังไหว้ ขนาด 9-11 นิ้ว\\nรหัสสินค้า 89...</td>\n",
              "    </tr>\n",
              "    <tr>\n",
              "      <th>18</th>\n",
              "      <td>กุ้งแปรรูป</td>\n",
              "      <td>อาหารทะเลแปรรูป</td>\n",
              "      <td>ปลาและอาหารทะเล</td>\n",
              "      <td>คิวเฟรช เนื้อปลากะพงสไลซ์แช่แข็งพร้อมซอสมะขาม ...</td>\n",
              "    </tr>\n",
              "    <tr>\n",
              "      <th>20</th>\n",
              "      <td>หมึกแปรรูป</td>\n",
              "      <td>อาหารทะเลแปรรูป</td>\n",
              "      <td>ปลาและอาหารทะเล</td>\n",
              "      <td>เนื้อหอยเชลล์แช่แข็ง (ขนาด 40-60 ตัว/ปอนด์) 1 ...</td>\n",
              "    </tr>\n",
              "    <tr>\n",
              "      <th>21</th>\n",
              "      <td>ปูแปรรูป</td>\n",
              "      <td>อาหารทะเลแปรรูป</td>\n",
              "      <td>ปลาและอาหารทะเล</td>\n",
              "      <td>ธนา หมึกหนังไหว้ ขนาด 9-11 นิ้ว\\nรหัสสินค้า 89...</td>\n",
              "    </tr>\n",
              "  </tbody>\n",
              "</table>\n",
              "</div>"
            ],
            "text/plain": [
              "   sub_product_group2  ...                                            content\n",
              "0               ปลาสด  ...  ปลากะพงขาวสด (ขนาด 800-1000 กรัม/ตัว)\\nรหัสสิน...\n",
              "2              กุ้งสด  ...  คิวเฟรช เนื้อปลาแซลมอนสไลซ์ติดหนังแช่แข็ง พร้อ...\n",
              "4   กุ้งแปรรูปและอื่น  ...  ซีพีแปซิฟิก กุ้งขาวต้มสุกทั้งตัวแช่แข็ง (ขนาด ...\n",
              "7    หอยแปรรูปและอื่น  ...  เนื้อหอยเชลล์แช่แข็ง (ขนาด 40-60 ตัว/ปอนด์) 1 ...\n",
              "11               ปูสด  ...  ธนา หมึกหนังไหว้ ขนาด 9-11 นิ้ว\\nรหัสสินค้า 89...\n",
              "18         กุ้งแปรรูป  ...  คิวเฟรช เนื้อปลากะพงสไลซ์แช่แข็งพร้อมซอสมะขาม ...\n",
              "20         หมึกแปรรูป  ...  เนื้อหอยเชลล์แช่แข็ง (ขนาด 40-60 ตัว/ปอนด์) 1 ...\n",
              "21           ปูแปรรูป  ...  ธนา หมึกหนังไหว้ ขนาด 9-11 นิ้ว\\nรหัสสินค้า 89...\n",
              "\n",
              "[8 rows x 4 columns]"
            ]
          },
          "metadata": {
            "tags": []
          },
          "execution_count": 229
        }
      ]
    },
    {
      "cell_type": "code",
      "metadata": {
        "colab": {
          "base_uri": "https://localhost:8080/"
        },
        "id": "QX-iv0WVU7FY",
        "outputId": "a6e58273-69ad-4a61-a9f5-4a0d1ccdca92"
      },
      "source": [
        "content = list(df['content'])\n",
        "\n",
        "contentx = []\n",
        "for i in content:\n",
        "  contentx.append(i.replace('%\\n\\n','%\\n').replace('\\n\\n-','\\n-'))\n",
        "\n",
        "sub_product_group2 = list(df['sub_product_group2'])\n",
        "map = dict(zip(sub_product_group2,contentx))\n",
        "map"
      ],
      "execution_count": 230,
      "outputs": [
        {
          "output_type": "execute_result",
          "data": {
            "text/plain": [
              "{'กุ้งสด': 'คิวเฟรช เนื้อปลาแซลมอนสไลซ์ติดหนังแช่แข็ง พร้อมซอสเทอริยากิ 500 กรัม\\nรหัสสินค้า 894096\\n349.00 ฿\\nราคาต่อชิ้น\\xa0 349.00 ฿\\n\\nคิวเฟรช ปลาแซลมอนหมักซอสปรุงรสกระเทียมและสมุนไพรแช่แข็ง 500 กรัม\\nรหัสสินค้า 894093\\n335.00 ฿\\nราคาต่อชิ้น\\xa0 335.00 ฿\\n\\nคิวเฟรช ปลาแซลมอนหมักซอสปรุงรสพริกไทยดำแช่แข็ง 500 กรัม\\nรหัสสินค้า 894099\\n335.00 ฿\\nราคาต่อชิ้น\\xa0 335.00 ฿\\n\\nคิวเฟรช เนื้อปลากะพงสไลซ์แช่แข็งพร้อมซอสสามรส 500 กรัม\\nรหัสสินค้า 892171\\n285.00 ฿\\nราคาต่อชิ้น\\xa0 285.00 ฿\\n\\nคิวเฟรช ปลากะพงหมักซอสปรุงรสขมิ้นแช่แข็ง 500 กรัม\\nรหัสสินค้า 892174\\n255.00 ฿\\nราคาต่อชิ้น\\xa0 255.00 ฿\\n\\nคิวเฟรช เนื้อปลาแซลมอนแอตแลนติกแช่แข็ง 1 กก.\\nรหัสสินค้า 892101\\n215.00 ฿\\nราคาต่อชิ้น\\xa0 215.00 ฿\\n\\nปลานิลตัดแต่ง 400 กรัม\\nรหัสสินค้า 896597\\n29.00 ฿\\nราคาต่อชิ้น\\xa0 29.00 ฿',\n",
              " 'กุ้งแปรรูป': 'คิวเฟรช เนื้อปลากะพงสไลซ์แช่แข็งพร้อมซอสมะขาม 500 กรัม\\nรหัสสินค้า 892177\\n285.00 ฿\\nราคาต่อชิ้น\\xa0 285.00 ฿',\n",
              " 'กุ้งแปรรูปและอื่น': 'ซีพีแปซิฟิก กุ้งขาวต้มสุกทั้งตัวแช่แข็ง (ขนาด 41-50 ตัว/กก.) 500 กรัม\\nรหัสสินค้า 224824\\n219.00 ฿\\nราคาต่อชิ้น\\xa0 219.00 ฿\\n\\nเอโร่ กุ้งขาวแช่แข็งไม่ปอกเปลือกผ่าหลังไว้หาง ขนาด 28-35 ตัว/ถุง\\nรหัสสินค้า 816828\\n380.00 ฿\\nราคาต่อชิ้น\\xa0 380.00 ฿\\n\\nกุ้งขาวไว้หางแช่แข็ง ขนาด 67-77 ตัว/ถุง\\nรหัสสินค้า 816822\\n159.00 ฿\\nราคาต่อชิ้น\\xa0 159.00 ฿\\n\\nเอโร่ เนื้อกุ้งขาวแช่แข็ง (จำนวน 160-194 ตัว/แพ็ค) 800 กรัม\\nรหัสสินค้า 816800\\n270.00 ฿\\nราคาต่อชิ้น\\xa0 270.00 ฿\\n\\nเซพแพ็ค กุ้งขาวไว้หางแช่แข็ง (48-54 ตัว/แพ็ค) 1000 กรัม\\nรหัสสินค้า 155674\\n305.00 ฿\\nราคาต่อชิ้น\\xa0 305.00 ฿\\n\\nเอโร่ กุ้งขาวไว้หางแช่แข็ง (จำนวน 72-88 ตัว/แพ็ค) 1000 กรัม\\nรหัสสินค้า 816806\\n310.00 ฿\\nราคาต่อชิ้น\\xa0 310.00 ฿\\n\\nเซพแพ็ค กุ้งขาวไว้หางแช่แข็ง (จำนวน 32-38 ตัว/กก.) แพ็ค 1000 กรัม\\nรหัสสินค้า 155650\\n340.00 ฿\\nราคาต่อชิ้น\\xa0 340.00 ฿\\n\\nคิวเฟรช กุ้งซูชิอาเจนแช่แข็ง 4L x 10 ตัว\\nรหัสสินค้า 895028\\n125.00 ฿\\nราคาต่อชิ้น\\xa0 125.00 ฿\\n\\nซีพีแปซิฟิก กุ้งขาวต้มสุกทั้งตัวแช่แข็ง (ขนาด 41-50 ตัว/กก.) 500 กรัม\\nรหัสสินค้า 897033\\n219.00 ฿\\nราคาต่อชิ้น\\xa0 219.00 ฿\\n\\nซีพี กุ้งขาวทั้งตัวต้มสุกแช่แข็ง (ขนาด 26-35 ตัว/กก.) 1 กก.\\nรหัสสินค้า 897034\\n299.00 ฿\\nราคาต่อชิ้น\\xa0 299.00 ฿\\n\\nกุ้งขาวไว้หางแช่แข็ง ขนาด 56-66 ตัว/ถุง\\nรหัสสินค้า 816820\\n185.00 ฿\\nราคาต่อชิ้น\\xa0 185.00 ฿\\n\\nซีพีแปซิฟิก กุ้งขาวดิบทั้งตัวแช่แข็ง (ขนาด 51-60 ตัว/กก.) 500 กรัม\\nรหัสสินค้า 226938\\n200.00 ฿\\nราคาต่อชิ้น\\xa0 200.00 ฿\\n\\nซีพีแปซิฟิก กุ้งขาวดิบทั้งตัวแช่แข็ง (ขนาด 31-40 ตัว/กก.) 500 กรัม\\nรหัสสินค้า 224862\\n220.00 ฿\\nราคาต่อชิ้น\\xa0 220.00 ฿\\n\\nเซพแพ็ค กุ้งขาวไว้หางแช่แข็ง (63-85 ตัว/แพ็ค) 1000 กรัม\\nรหัสสินค้า 155676\\n250.00 ฿\\nราคาต่อชิ้น\\xa0 250.00 ฿\\n\\nเอโร่ กุ้งขาวไว้หาง (90-106 ตัว/แพ็ค) 1000 กรัม\\nรหัสสินค้า 142161\\n285.00 ฿\\nราคาต่อชิ้น\\xa0 285.00 ฿\\n\\nเซพแพ็ค เนื้อกุ้งขาวแช่แข็ง (จำนวน 92-123 ตัว/แพ็ค) 1000 กรัม\\nรหัสสินค้า 155700\\n280.00 ฿\\nราคาต่อชิ้น\\xa0 280.00 ฿\\n\\nเอโร่ กุ้งขาวไว้หางไม่ปอกเปลือกผ่าหลังแช่แข็ง (72-88 ตัว/แพ็ค) 1000 กรัม\\nรหัสสินค้า 816826\\n285.00 ฿\\nราคาต่อชิ้น\\xa0 285.00 ฿\\n\\nคางกุ้งแช่แข็ง 1 กิโลกรัม\\nรหัสสินค้า 803553\\n69.00 ฿\\nราคาต่อชิ้น\\xa0 69.00 ฿\\n\\nเอโร่ กุ้งขาวไว้หาง (55-70 ตัว/แพ็ค) 1000 กรัม\\nรหัสสินค้า 816804\\n360.00 ฿\\nราคาต่อชิ้น\\xa0 360.00 ฿\\n\\nกุ้งขาวไว้หางแช่แข็ง ขนาด 45-55 ตัว-ถุง\\nรหัสสินค้า 816722\\n190.00 ฿\\nราคาต่อชิ้น\\xa0 190.00 ฿\\n\\nเอโร่ กุ้งขาวไว้หาง (107-123 ตัว/แพ็ค) 1000 กรัม\\nรหัสสินค้า 133339\\n270.00 ฿\\nราคาต่อชิ้น\\xa0 270.00 ฿\\n\\nเซพแพ็ค เนื้อกุ้งขาวแช่แข็ง (จำนวน 62-92 ตัว/แพ็ค) 1000 กรัม\\nรหัสสินค้า 155696\\n290.00 ฿\\nราคาต่อชิ้น\\xa0 290.00 ฿\\n\\nเซพแพ็ค เนื้อกุ้งทะเลหักแช่แข็ง (123-308 ตัว/แพ็ค) 1000 กรัม\\nรหัสสินค้า 816824\\n260.00 ฿\\nราคาต่อชิ้น\\xa0 260.00 ฿\\n\\nมันกุ้งขาวแช่แข็ง 500 กรัม\\nรหัสสินค้า 803555\\n97.00 ฿\\nราคาต่อชิ้น\\xa0 97.00 ฿',\n",
              " 'ปลาสด': 'ปลากะพงขาวสด (ขนาด 800-1000 กรัม/ตัว)\\nรหัสสินค้า 897250\\n99.00 ฿\\nราคาต่อชิ้น\\xa0 99.00 ฿\\n\\nปลาทับทิมสด (ขนาด 700-900 กรัม/ตัว)\\nรหัสสินค้า 897249\\n79.00 ฿\\nราคาต่อชิ้น\\xa0 79.00 ฿',\n",
              " 'ปูสด': 'ธนา หมึกหนังไหว้ ขนาด 9-11 นิ้ว\\nรหัสสินค้า 897035\\n189.00 ฿\\nราคาต่อชิ้น\\xa0 189.00 ฿',\n",
              " 'ปูแปรรูป': 'ธนา หมึกหนังไหว้ ขนาด 9-11 นิ้ว\\nรหัสสินค้า 897035\\n189.00 ฿\\nราคาต่อชิ้น\\xa0 189.00 ฿',\n",
              " 'หมึกแปรรูป': 'เนื้อหอยเชลล์แช่แข็ง (ขนาด 40-60 ตัว/ปอนด์) 1 กก.\\nรหัสสินค้า 148055\\n\\n270.00 ฿\\n-1%\\n265.00 ฿\\nราคาต่อชิ้น\\xa0 265.00 ฿\\n\\nพีทีเอ็น เนื้อหอยนางรมญี่ปุ่นชุบเกล็ดขนมปังแช่แข็ง 35 กรัม x 10 ชิ้น\\nรหัสสินค้า 865069\\n218.00 ฿\\nราคาต่อชิ้น\\xa0 21.80 ฿',\n",
              " 'หอยแปรรูปและอื่น': 'เนื้อหอยเชลล์แช่แข็ง (ขนาด 40-60 ตัว/ปอนด์) 1 กก.\\nรหัสสินค้า 148055\\n\\n270.00 ฿\\n-1%\\n265.00 ฿\\nราคาต่อชิ้น\\xa0 265.00 ฿\\n\\nพีทีเอ็น เนื้อหอยนางรมญี่ปุ่นชุบเกล็ดขนมปังแช่แข็ง 35 กรัม x 10 ชิ้น\\nรหัสสินค้า 865069\\n218.00 ฿\\nราคาต่อชิ้น\\xa0 21.80 ฿'}"
            ]
          },
          "metadata": {
            "tags": []
          },
          "execution_count": 230
        }
      ]
    },
    {
      "cell_type": "code",
      "metadata": {
        "colab": {
          "base_uri": "https://localhost:8080/"
        },
        "id": "JsX4Lh-5U_8J",
        "outputId": "14359778-619b-49bc-fe26-8c23e9b8e487"
      },
      "source": [
        "mapp = dict()\n",
        "for i in map:\n",
        "  for j in range(len(map[i].split('\\n\\n'))):\n",
        "    #mapp[j] = i\n",
        "\n",
        "    if map[i].split('\\n\\n')[j][0].isdigit():\n",
        "      #print((i,map[i].split('\\n\\n')[j]))\n",
        "      pass\n",
        "    elif map[i].split('\\n\\n')[j][-1] != '฿':\n",
        "      #print(i,map[i].split('\\n\\n')[j]+map[i].split('\\n\\n')[j+1])\n",
        "      mapp[map[i].split('\\n\\n')[j]+map[i].split('\\n\\n')[j+1]] = i\n",
        "    else:\n",
        "      mapp[map[i].split('\\n\\n')[j]] = i\n",
        "mapp"
      ],
      "execution_count": 231,
      "outputs": [
        {
          "output_type": "execute_result",
          "data": {
            "text/plain": [
              "{'กุ้งขาวไว้หางแช่แข็ง ขนาด 45-55 ตัว-ถุง\\nรหัสสินค้า 816722\\n190.00 ฿\\nราคาต่อชิ้น\\xa0 190.00 ฿': 'กุ้งแปรรูปและอื่น',\n",
              " 'กุ้งขาวไว้หางแช่แข็ง ขนาด 56-66 ตัว/ถุง\\nรหัสสินค้า 816820\\n185.00 ฿\\nราคาต่อชิ้น\\xa0 185.00 ฿': 'กุ้งแปรรูปและอื่น',\n",
              " 'กุ้งขาวไว้หางแช่แข็ง ขนาด 67-77 ตัว/ถุง\\nรหัสสินค้า 816822\\n159.00 ฿\\nราคาต่อชิ้น\\xa0 159.00 ฿': 'กุ้งแปรรูปและอื่น',\n",
              " 'คางกุ้งแช่แข็ง 1 กิโลกรัม\\nรหัสสินค้า 803553\\n69.00 ฿\\nราคาต่อชิ้น\\xa0 69.00 ฿': 'กุ้งแปรรูปและอื่น',\n",
              " 'คิวเฟรช กุ้งซูชิอาเจนแช่แข็ง 4L x 10 ตัว\\nรหัสสินค้า 895028\\n125.00 ฿\\nราคาต่อชิ้น\\xa0 125.00 ฿': 'กุ้งแปรรูปและอื่น',\n",
              " 'คิวเฟรช ปลากะพงหมักซอสปรุงรสขมิ้นแช่แข็ง 500 กรัม\\nรหัสสินค้า 892174\\n255.00 ฿\\nราคาต่อชิ้น\\xa0 255.00 ฿': 'กุ้งสด',\n",
              " 'คิวเฟรช ปลาแซลมอนหมักซอสปรุงรสกระเทียมและสมุนไพรแช่แข็ง 500 กรัม\\nรหัสสินค้า 894093\\n335.00 ฿\\nราคาต่อชิ้น\\xa0 335.00 ฿': 'กุ้งสด',\n",
              " 'คิวเฟรช ปลาแซลมอนหมักซอสปรุงรสพริกไทยดำแช่แข็ง 500 กรัม\\nรหัสสินค้า 894099\\n335.00 ฿\\nราคาต่อชิ้น\\xa0 335.00 ฿': 'กุ้งสด',\n",
              " 'คิวเฟรช เนื้อปลากะพงสไลซ์แช่แข็งพร้อมซอสมะขาม 500 กรัม\\nรหัสสินค้า 892177\\n285.00 ฿\\nราคาต่อชิ้น\\xa0 285.00 ฿': 'กุ้งแปรรูป',\n",
              " 'คิวเฟรช เนื้อปลากะพงสไลซ์แช่แข็งพร้อมซอสสามรส 500 กรัม\\nรหัสสินค้า 892171\\n285.00 ฿\\nราคาต่อชิ้น\\xa0 285.00 ฿': 'กุ้งสด',\n",
              " 'คิวเฟรช เนื้อปลาแซลมอนสไลซ์ติดหนังแช่แข็ง พร้อมซอสเทอริยากิ 500 กรัม\\nรหัสสินค้า 894096\\n349.00 ฿\\nราคาต่อชิ้น\\xa0 349.00 ฿': 'กุ้งสด',\n",
              " 'คิวเฟรช เนื้อปลาแซลมอนแอตแลนติกแช่แข็ง 1 กก.\\nรหัสสินค้า 892101\\n215.00 ฿\\nราคาต่อชิ้น\\xa0 215.00 ฿': 'กุ้งสด',\n",
              " 'ซีพี กุ้งขาวทั้งตัวต้มสุกแช่แข็ง (ขนาด 26-35 ตัว/กก.) 1 กก.\\nรหัสสินค้า 897034\\n299.00 ฿\\nราคาต่อชิ้น\\xa0 299.00 ฿': 'กุ้งแปรรูปและอื่น',\n",
              " 'ซีพีแปซิฟิก กุ้งขาวดิบทั้งตัวแช่แข็ง (ขนาด 31-40 ตัว/กก.) 500 กรัม\\nรหัสสินค้า 224862\\n220.00 ฿\\nราคาต่อชิ้น\\xa0 220.00 ฿': 'กุ้งแปรรูปและอื่น',\n",
              " 'ซีพีแปซิฟิก กุ้งขาวดิบทั้งตัวแช่แข็ง (ขนาด 51-60 ตัว/กก.) 500 กรัม\\nรหัสสินค้า 226938\\n200.00 ฿\\nราคาต่อชิ้น\\xa0 200.00 ฿': 'กุ้งแปรรูปและอื่น',\n",
              " 'ซีพีแปซิฟิก กุ้งขาวต้มสุกทั้งตัวแช่แข็ง (ขนาด 41-50 ตัว/กก.) 500 กรัม\\nรหัสสินค้า 224824\\n219.00 ฿\\nราคาต่อชิ้น\\xa0 219.00 ฿': 'กุ้งแปรรูปและอื่น',\n",
              " 'ซีพีแปซิฟิก กุ้งขาวต้มสุกทั้งตัวแช่แข็ง (ขนาด 41-50 ตัว/กก.) 500 กรัม\\nรหัสสินค้า 897033\\n219.00 ฿\\nราคาต่อชิ้น\\xa0 219.00 ฿': 'กุ้งแปรรูปและอื่น',\n",
              " 'ธนา หมึกหนังไหว้ ขนาด 9-11 นิ้ว\\nรหัสสินค้า 897035\\n189.00 ฿\\nราคาต่อชิ้น\\xa0 189.00 ฿': 'ปูแปรรูป',\n",
              " 'ปลากะพงขาวสด (ขนาด 800-1000 กรัม/ตัว)\\nรหัสสินค้า 897250\\n99.00 ฿\\nราคาต่อชิ้น\\xa0 99.00 ฿': 'ปลาสด',\n",
              " 'ปลาทับทิมสด (ขนาด 700-900 กรัม/ตัว)\\nรหัสสินค้า 897249\\n79.00 ฿\\nราคาต่อชิ้น\\xa0 79.00 ฿': 'ปลาสด',\n",
              " 'ปลานิลตัดแต่ง 400 กรัม\\nรหัสสินค้า 896597\\n29.00 ฿\\nราคาต่อชิ้น\\xa0 29.00 ฿': 'กุ้งสด',\n",
              " 'พีทีเอ็น เนื้อหอยนางรมญี่ปุ่นชุบเกล็ดขนมปังแช่แข็ง 35 กรัม x 10 ชิ้น\\nรหัสสินค้า 865069\\n218.00 ฿\\nราคาต่อชิ้น\\xa0 21.80 ฿': 'หมึกแปรรูป',\n",
              " 'มันกุ้งขาวแช่แข็ง 500 กรัม\\nรหัสสินค้า 803555\\n97.00 ฿\\nราคาต่อชิ้น\\xa0 97.00 ฿': 'กุ้งแปรรูปและอื่น',\n",
              " 'เซพแพ็ค กุ้งขาวไว้หางแช่แข็ง (48-54 ตัว/แพ็ค) 1000 กรัม\\nรหัสสินค้า 155674\\n305.00 ฿\\nราคาต่อชิ้น\\xa0 305.00 ฿': 'กุ้งแปรรูปและอื่น',\n",
              " 'เซพแพ็ค กุ้งขาวไว้หางแช่แข็ง (63-85 ตัว/แพ็ค) 1000 กรัม\\nรหัสสินค้า 155676\\n250.00 ฿\\nราคาต่อชิ้น\\xa0 250.00 ฿': 'กุ้งแปรรูปและอื่น',\n",
              " 'เซพแพ็ค กุ้งขาวไว้หางแช่แข็ง (จำนวน 32-38 ตัว/กก.) แพ็ค 1000 กรัม\\nรหัสสินค้า 155650\\n340.00 ฿\\nราคาต่อชิ้น\\xa0 340.00 ฿': 'กุ้งแปรรูปและอื่น',\n",
              " 'เซพแพ็ค เนื้อกุ้งขาวแช่แข็ง (จำนวน 62-92 ตัว/แพ็ค) 1000 กรัม\\nรหัสสินค้า 155696\\n290.00 ฿\\nราคาต่อชิ้น\\xa0 290.00 ฿': 'กุ้งแปรรูปและอื่น',\n",
              " 'เซพแพ็ค เนื้อกุ้งขาวแช่แข็ง (จำนวน 92-123 ตัว/แพ็ค) 1000 กรัม\\nรหัสสินค้า 155700\\n280.00 ฿\\nราคาต่อชิ้น\\xa0 280.00 ฿': 'กุ้งแปรรูปและอื่น',\n",
              " 'เซพแพ็ค เนื้อกุ้งทะเลหักแช่แข็ง (123-308 ตัว/แพ็ค) 1000 กรัม\\nรหัสสินค้า 816824\\n260.00 ฿\\nราคาต่อชิ้น\\xa0 260.00 ฿': 'กุ้งแปรรูปและอื่น',\n",
              " 'เนื้อหอยเชลล์แช่แข็ง (ขนาด 40-60 ตัว/ปอนด์) 1 กก.\\nรหัสสินค้า 148055270.00 ฿\\n-1%\\n265.00 ฿\\nราคาต่อชิ้น\\xa0 265.00 ฿': 'หมึกแปรรูป',\n",
              " 'เอโร่ กุ้งขาวแช่แข็งไม่ปอกเปลือกผ่าหลังไว้หาง ขนาด 28-35 ตัว/ถุง\\nรหัสสินค้า 816828\\n380.00 ฿\\nราคาต่อชิ้น\\xa0 380.00 ฿': 'กุ้งแปรรูปและอื่น',\n",
              " 'เอโร่ กุ้งขาวไว้หาง (107-123 ตัว/แพ็ค) 1000 กรัม\\nรหัสสินค้า 133339\\n270.00 ฿\\nราคาต่อชิ้น\\xa0 270.00 ฿': 'กุ้งแปรรูปและอื่น',\n",
              " 'เอโร่ กุ้งขาวไว้หาง (55-70 ตัว/แพ็ค) 1000 กรัม\\nรหัสสินค้า 816804\\n360.00 ฿\\nราคาต่อชิ้น\\xa0 360.00 ฿': 'กุ้งแปรรูปและอื่น',\n",
              " 'เอโร่ กุ้งขาวไว้หาง (90-106 ตัว/แพ็ค) 1000 กรัม\\nรหัสสินค้า 142161\\n285.00 ฿\\nราคาต่อชิ้น\\xa0 285.00 ฿': 'กุ้งแปรรูปและอื่น',\n",
              " 'เอโร่ กุ้งขาวไว้หางแช่แข็ง (จำนวน 72-88 ตัว/แพ็ค) 1000 กรัม\\nรหัสสินค้า 816806\\n310.00 ฿\\nราคาต่อชิ้น\\xa0 310.00 ฿': 'กุ้งแปรรูปและอื่น',\n",
              " 'เอโร่ กุ้งขาวไว้หางไม่ปอกเปลือกผ่าหลังแช่แข็ง (72-88 ตัว/แพ็ค) 1000 กรัม\\nรหัสสินค้า 816826\\n285.00 ฿\\nราคาต่อชิ้น\\xa0 285.00 ฿': 'กุ้งแปรรูปและอื่น',\n",
              " 'เอโร่ เนื้อกุ้งขาวแช่แข็ง (จำนวน 160-194 ตัว/แพ็ค) 800 กรัม\\nรหัสสินค้า 816800\\n270.00 ฿\\nราคาต่อชิ้น\\xa0 270.00 ฿': 'กุ้งแปรรูปและอื่น'}"
            ]
          },
          "metadata": {
            "tags": []
          },
          "execution_count": 231
        }
      ]
    },
    {
      "cell_type": "code",
      "metadata": {
        "id": "xmOZqxn9VFZf"
      },
      "source": [
        "product = []\n",
        "price = []\n",
        "sub_product_group2 = []\n",
        "\n",
        "for i in mapp:\n",
        "  #print(i.replace('\\xa0','').split('\\n'),mapp[i],len(i.replace('\\xa0','').split('\\n')))\n",
        "  #if len(i.replace('\\xa0','').split('\\n')) == 5:\n",
        "  #  print(i.replace('\\xa0','').split('\\n'),mapp[i],len(i.replace('\\xa0','').split('\\n')))\n",
        "  product.append(i.replace('\\xa0','').split('\\n')[0])\n",
        "  price.append(i.replace('\\xa0','').split('\\n')[-1])\n",
        "  sub_product_group2.append(mapp[i])"
      ],
      "execution_count": 232,
      "outputs": []
    },
    {
      "cell_type": "code",
      "metadata": {
        "colab": {
          "base_uri": "https://localhost:8080/"
        },
        "id": "kTHIXgFVVJQg",
        "outputId": "53786f7b-a507-49e5-e21a-d75ba700960b"
      },
      "source": [
        "pricex = []\n",
        "unit = []\n",
        "for i in price:\n",
        "  print(i.split(' '))\n",
        "  pricex.append(i.split(' ')[1])\n",
        "  unit.append(i.split(' ')[0]+\"(\"+i.split(' ')[2]+\")\")"
      ],
      "execution_count": 233,
      "outputs": [
        {
          "output_type": "stream",
          "text": [
            "['ราคาต่อชิ้น', '99.00', '฿']\n",
            "['ราคาต่อชิ้น', '79.00', '฿']\n",
            "['ราคาต่อชิ้น', '349.00', '฿']\n",
            "['ราคาต่อชิ้น', '335.00', '฿']\n",
            "['ราคาต่อชิ้น', '335.00', '฿']\n",
            "['ราคาต่อชิ้น', '285.00', '฿']\n",
            "['ราคาต่อชิ้น', '255.00', '฿']\n",
            "['ราคาต่อชิ้น', '215.00', '฿']\n",
            "['ราคาต่อชิ้น', '29.00', '฿']\n",
            "['ราคาต่อชิ้น', '219.00', '฿']\n",
            "['ราคาต่อชิ้น', '380.00', '฿']\n",
            "['ราคาต่อชิ้น', '159.00', '฿']\n",
            "['ราคาต่อชิ้น', '270.00', '฿']\n",
            "['ราคาต่อชิ้น', '305.00', '฿']\n",
            "['ราคาต่อชิ้น', '310.00', '฿']\n",
            "['ราคาต่อชิ้น', '340.00', '฿']\n",
            "['ราคาต่อชิ้น', '125.00', '฿']\n",
            "['ราคาต่อชิ้น', '219.00', '฿']\n",
            "['ราคาต่อชิ้น', '299.00', '฿']\n",
            "['ราคาต่อชิ้น', '185.00', '฿']\n",
            "['ราคาต่อชิ้น', '200.00', '฿']\n",
            "['ราคาต่อชิ้น', '220.00', '฿']\n",
            "['ราคาต่อชิ้น', '250.00', '฿']\n",
            "['ราคาต่อชิ้น', '285.00', '฿']\n",
            "['ราคาต่อชิ้น', '280.00', '฿']\n",
            "['ราคาต่อชิ้น', '285.00', '฿']\n",
            "['ราคาต่อชิ้น', '69.00', '฿']\n",
            "['ราคาต่อชิ้น', '360.00', '฿']\n",
            "['ราคาต่อชิ้น', '190.00', '฿']\n",
            "['ราคาต่อชิ้น', '270.00', '฿']\n",
            "['ราคาต่อชิ้น', '290.00', '฿']\n",
            "['ราคาต่อชิ้น', '260.00', '฿']\n",
            "['ราคาต่อชิ้น', '97.00', '฿']\n",
            "['ราคาต่อชิ้น', '265.00', '฿']\n",
            "['ราคาต่อชิ้น', '21.80', '฿']\n",
            "['ราคาต่อชิ้น', '189.00', '฿']\n",
            "['ราคาต่อชิ้น', '285.00', '฿']\n"
          ],
          "name": "stdout"
        }
      ]
    },
    {
      "cell_type": "code",
      "metadata": {
        "colab": {
          "base_uri": "https://localhost:8080/",
          "height": 1000
        },
        "id": "M2gsZQqiVOys",
        "outputId": "cebd15ce-fa07-4d54-df9f-ac55e95153e4"
      },
      "source": [
        "df2 = pd.DataFrame(list(zip(sub_product_group2, product, pricex, unit)),columns=['sub_product_group2', 'product', 'price', 'unit'])\n",
        "df2['price'] = pd.to_numeric(df2['price'],errors = 'coerce')\n",
        "df2"
      ],
      "execution_count": 234,
      "outputs": [
        {
          "output_type": "execute_result",
          "data": {
            "text/html": [
              "<div>\n",
              "<style scoped>\n",
              "    .dataframe tbody tr th:only-of-type {\n",
              "        vertical-align: middle;\n",
              "    }\n",
              "\n",
              "    .dataframe tbody tr th {\n",
              "        vertical-align: top;\n",
              "    }\n",
              "\n",
              "    .dataframe thead th {\n",
              "        text-align: right;\n",
              "    }\n",
              "</style>\n",
              "<table border=\"1\" class=\"dataframe\">\n",
              "  <thead>\n",
              "    <tr style=\"text-align: right;\">\n",
              "      <th></th>\n",
              "      <th>sub_product_group2</th>\n",
              "      <th>product</th>\n",
              "      <th>price</th>\n",
              "      <th>unit</th>\n",
              "    </tr>\n",
              "  </thead>\n",
              "  <tbody>\n",
              "    <tr>\n",
              "      <th>0</th>\n",
              "      <td>ปลาสด</td>\n",
              "      <td>ปลากะพงขาวสด (ขนาด 800-1000 กรัม/ตัว)</td>\n",
              "      <td>99.0</td>\n",
              "      <td>ราคาต่อชิ้น(฿)</td>\n",
              "    </tr>\n",
              "    <tr>\n",
              "      <th>1</th>\n",
              "      <td>ปลาสด</td>\n",
              "      <td>ปลาทับทิมสด (ขนาด 700-900 กรัม/ตัว)</td>\n",
              "      <td>79.0</td>\n",
              "      <td>ราคาต่อชิ้น(฿)</td>\n",
              "    </tr>\n",
              "    <tr>\n",
              "      <th>2</th>\n",
              "      <td>กุ้งสด</td>\n",
              "      <td>คิวเฟรช เนื้อปลาแซลมอนสไลซ์ติดหนังแช่แข็ง พร้อ...</td>\n",
              "      <td>349.0</td>\n",
              "      <td>ราคาต่อชิ้น(฿)</td>\n",
              "    </tr>\n",
              "    <tr>\n",
              "      <th>3</th>\n",
              "      <td>กุ้งสด</td>\n",
              "      <td>คิวเฟรช ปลาแซลมอนหมักซอสปรุงรสกระเทียมและสมุนไ...</td>\n",
              "      <td>335.0</td>\n",
              "      <td>ราคาต่อชิ้น(฿)</td>\n",
              "    </tr>\n",
              "    <tr>\n",
              "      <th>4</th>\n",
              "      <td>กุ้งสด</td>\n",
              "      <td>คิวเฟรช ปลาแซลมอนหมักซอสปรุงรสพริกไทยดำแช่แข็ง...</td>\n",
              "      <td>335.0</td>\n",
              "      <td>ราคาต่อชิ้น(฿)</td>\n",
              "    </tr>\n",
              "    <tr>\n",
              "      <th>5</th>\n",
              "      <td>กุ้งสด</td>\n",
              "      <td>คิวเฟรช เนื้อปลากะพงสไลซ์แช่แข็งพร้อมซอสสามรส ...</td>\n",
              "      <td>285.0</td>\n",
              "      <td>ราคาต่อชิ้น(฿)</td>\n",
              "    </tr>\n",
              "    <tr>\n",
              "      <th>6</th>\n",
              "      <td>กุ้งสด</td>\n",
              "      <td>คิวเฟรช ปลากะพงหมักซอสปรุงรสขมิ้นแช่แข็ง 500 กรัม</td>\n",
              "      <td>255.0</td>\n",
              "      <td>ราคาต่อชิ้น(฿)</td>\n",
              "    </tr>\n",
              "    <tr>\n",
              "      <th>7</th>\n",
              "      <td>กุ้งสด</td>\n",
              "      <td>คิวเฟรช เนื้อปลาแซลมอนแอตแลนติกแช่แข็ง 1 กก.</td>\n",
              "      <td>215.0</td>\n",
              "      <td>ราคาต่อชิ้น(฿)</td>\n",
              "    </tr>\n",
              "    <tr>\n",
              "      <th>8</th>\n",
              "      <td>กุ้งสด</td>\n",
              "      <td>ปลานิลตัดแต่ง 400 กรัม</td>\n",
              "      <td>29.0</td>\n",
              "      <td>ราคาต่อชิ้น(฿)</td>\n",
              "    </tr>\n",
              "    <tr>\n",
              "      <th>9</th>\n",
              "      <td>กุ้งแปรรูปและอื่น</td>\n",
              "      <td>ซีพีแปซิฟิก กุ้งขาวต้มสุกทั้งตัวแช่แข็ง (ขนาด ...</td>\n",
              "      <td>219.0</td>\n",
              "      <td>ราคาต่อชิ้น(฿)</td>\n",
              "    </tr>\n",
              "    <tr>\n",
              "      <th>10</th>\n",
              "      <td>กุ้งแปรรูปและอื่น</td>\n",
              "      <td>เอโร่ กุ้งขาวแช่แข็งไม่ปอกเปลือกผ่าหลังไว้หาง ...</td>\n",
              "      <td>380.0</td>\n",
              "      <td>ราคาต่อชิ้น(฿)</td>\n",
              "    </tr>\n",
              "    <tr>\n",
              "      <th>11</th>\n",
              "      <td>กุ้งแปรรูปและอื่น</td>\n",
              "      <td>กุ้งขาวไว้หางแช่แข็ง ขนาด 67-77 ตัว/ถุง</td>\n",
              "      <td>159.0</td>\n",
              "      <td>ราคาต่อชิ้น(฿)</td>\n",
              "    </tr>\n",
              "    <tr>\n",
              "      <th>12</th>\n",
              "      <td>กุ้งแปรรูปและอื่น</td>\n",
              "      <td>เอโร่ เนื้อกุ้งขาวแช่แข็ง (จำนวน 160-194 ตัว/แ...</td>\n",
              "      <td>270.0</td>\n",
              "      <td>ราคาต่อชิ้น(฿)</td>\n",
              "    </tr>\n",
              "    <tr>\n",
              "      <th>13</th>\n",
              "      <td>กุ้งแปรรูปและอื่น</td>\n",
              "      <td>เซพแพ็ค กุ้งขาวไว้หางแช่แข็ง (48-54 ตัว/แพ็ค) ...</td>\n",
              "      <td>305.0</td>\n",
              "      <td>ราคาต่อชิ้น(฿)</td>\n",
              "    </tr>\n",
              "    <tr>\n",
              "      <th>14</th>\n",
              "      <td>กุ้งแปรรูปและอื่น</td>\n",
              "      <td>เอโร่ กุ้งขาวไว้หางแช่แข็ง (จำนวน 72-88 ตัว/แพ...</td>\n",
              "      <td>310.0</td>\n",
              "      <td>ราคาต่อชิ้น(฿)</td>\n",
              "    </tr>\n",
              "    <tr>\n",
              "      <th>15</th>\n",
              "      <td>กุ้งแปรรูปและอื่น</td>\n",
              "      <td>เซพแพ็ค กุ้งขาวไว้หางแช่แข็ง (จำนวน 32-38 ตัว/...</td>\n",
              "      <td>340.0</td>\n",
              "      <td>ราคาต่อชิ้น(฿)</td>\n",
              "    </tr>\n",
              "    <tr>\n",
              "      <th>16</th>\n",
              "      <td>กุ้งแปรรูปและอื่น</td>\n",
              "      <td>คิวเฟรช กุ้งซูชิอาเจนแช่แข็ง 4L x 10 ตัว</td>\n",
              "      <td>125.0</td>\n",
              "      <td>ราคาต่อชิ้น(฿)</td>\n",
              "    </tr>\n",
              "    <tr>\n",
              "      <th>17</th>\n",
              "      <td>กุ้งแปรรูปและอื่น</td>\n",
              "      <td>ซีพีแปซิฟิก กุ้งขาวต้มสุกทั้งตัวแช่แข็ง (ขนาด ...</td>\n",
              "      <td>219.0</td>\n",
              "      <td>ราคาต่อชิ้น(฿)</td>\n",
              "    </tr>\n",
              "    <tr>\n",
              "      <th>18</th>\n",
              "      <td>กุ้งแปรรูปและอื่น</td>\n",
              "      <td>ซีพี กุ้งขาวทั้งตัวต้มสุกแช่แข็ง (ขนาด 26-35 ต...</td>\n",
              "      <td>299.0</td>\n",
              "      <td>ราคาต่อชิ้น(฿)</td>\n",
              "    </tr>\n",
              "    <tr>\n",
              "      <th>19</th>\n",
              "      <td>กุ้งแปรรูปและอื่น</td>\n",
              "      <td>กุ้งขาวไว้หางแช่แข็ง ขนาด 56-66 ตัว/ถุง</td>\n",
              "      <td>185.0</td>\n",
              "      <td>ราคาต่อชิ้น(฿)</td>\n",
              "    </tr>\n",
              "    <tr>\n",
              "      <th>20</th>\n",
              "      <td>กุ้งแปรรูปและอื่น</td>\n",
              "      <td>ซีพีแปซิฟิก กุ้งขาวดิบทั้งตัวแช่แข็ง (ขนาด 51-...</td>\n",
              "      <td>200.0</td>\n",
              "      <td>ราคาต่อชิ้น(฿)</td>\n",
              "    </tr>\n",
              "    <tr>\n",
              "      <th>21</th>\n",
              "      <td>กุ้งแปรรูปและอื่น</td>\n",
              "      <td>ซีพีแปซิฟิก กุ้งขาวดิบทั้งตัวแช่แข็ง (ขนาด 31-...</td>\n",
              "      <td>220.0</td>\n",
              "      <td>ราคาต่อชิ้น(฿)</td>\n",
              "    </tr>\n",
              "    <tr>\n",
              "      <th>22</th>\n",
              "      <td>กุ้งแปรรูปและอื่น</td>\n",
              "      <td>เซพแพ็ค กุ้งขาวไว้หางแช่แข็ง (63-85 ตัว/แพ็ค) ...</td>\n",
              "      <td>250.0</td>\n",
              "      <td>ราคาต่อชิ้น(฿)</td>\n",
              "    </tr>\n",
              "    <tr>\n",
              "      <th>23</th>\n",
              "      <td>กุ้งแปรรูปและอื่น</td>\n",
              "      <td>เอโร่ กุ้งขาวไว้หาง (90-106 ตัว/แพ็ค) 1000 กรัม</td>\n",
              "      <td>285.0</td>\n",
              "      <td>ราคาต่อชิ้น(฿)</td>\n",
              "    </tr>\n",
              "    <tr>\n",
              "      <th>24</th>\n",
              "      <td>กุ้งแปรรูปและอื่น</td>\n",
              "      <td>เซพแพ็ค เนื้อกุ้งขาวแช่แข็ง (จำนวน 92-123 ตัว/...</td>\n",
              "      <td>280.0</td>\n",
              "      <td>ราคาต่อชิ้น(฿)</td>\n",
              "    </tr>\n",
              "    <tr>\n",
              "      <th>25</th>\n",
              "      <td>กุ้งแปรรูปและอื่น</td>\n",
              "      <td>เอโร่ กุ้งขาวไว้หางไม่ปอกเปลือกผ่าหลังแช่แข็ง ...</td>\n",
              "      <td>285.0</td>\n",
              "      <td>ราคาต่อชิ้น(฿)</td>\n",
              "    </tr>\n",
              "    <tr>\n",
              "      <th>26</th>\n",
              "      <td>กุ้งแปรรูปและอื่น</td>\n",
              "      <td>คางกุ้งแช่แข็ง 1 กิโลกรัม</td>\n",
              "      <td>69.0</td>\n",
              "      <td>ราคาต่อชิ้น(฿)</td>\n",
              "    </tr>\n",
              "    <tr>\n",
              "      <th>27</th>\n",
              "      <td>กุ้งแปรรูปและอื่น</td>\n",
              "      <td>เอโร่ กุ้งขาวไว้หาง (55-70 ตัว/แพ็ค) 1000 กรัม</td>\n",
              "      <td>360.0</td>\n",
              "      <td>ราคาต่อชิ้น(฿)</td>\n",
              "    </tr>\n",
              "    <tr>\n",
              "      <th>28</th>\n",
              "      <td>กุ้งแปรรูปและอื่น</td>\n",
              "      <td>กุ้งขาวไว้หางแช่แข็ง ขนาด 45-55 ตัว-ถุง</td>\n",
              "      <td>190.0</td>\n",
              "      <td>ราคาต่อชิ้น(฿)</td>\n",
              "    </tr>\n",
              "    <tr>\n",
              "      <th>29</th>\n",
              "      <td>กุ้งแปรรูปและอื่น</td>\n",
              "      <td>เอโร่ กุ้งขาวไว้หาง (107-123 ตัว/แพ็ค) 1000 กรัม</td>\n",
              "      <td>270.0</td>\n",
              "      <td>ราคาต่อชิ้น(฿)</td>\n",
              "    </tr>\n",
              "    <tr>\n",
              "      <th>30</th>\n",
              "      <td>กุ้งแปรรูปและอื่น</td>\n",
              "      <td>เซพแพ็ค เนื้อกุ้งขาวแช่แข็ง (จำนวน 62-92 ตัว/แ...</td>\n",
              "      <td>290.0</td>\n",
              "      <td>ราคาต่อชิ้น(฿)</td>\n",
              "    </tr>\n",
              "    <tr>\n",
              "      <th>31</th>\n",
              "      <td>กุ้งแปรรูปและอื่น</td>\n",
              "      <td>เซพแพ็ค เนื้อกุ้งทะเลหักแช่แข็ง (123-308 ตัว/แ...</td>\n",
              "      <td>260.0</td>\n",
              "      <td>ราคาต่อชิ้น(฿)</td>\n",
              "    </tr>\n",
              "    <tr>\n",
              "      <th>32</th>\n",
              "      <td>กุ้งแปรรูปและอื่น</td>\n",
              "      <td>มันกุ้งขาวแช่แข็ง 500 กรัม</td>\n",
              "      <td>97.0</td>\n",
              "      <td>ราคาต่อชิ้น(฿)</td>\n",
              "    </tr>\n",
              "    <tr>\n",
              "      <th>33</th>\n",
              "      <td>หมึกแปรรูป</td>\n",
              "      <td>เนื้อหอยเชลล์แช่แข็ง (ขนาด 40-60 ตัว/ปอนด์) 1 กก.</td>\n",
              "      <td>265.0</td>\n",
              "      <td>ราคาต่อชิ้น(฿)</td>\n",
              "    </tr>\n",
              "    <tr>\n",
              "      <th>34</th>\n",
              "      <td>หมึกแปรรูป</td>\n",
              "      <td>พีทีเอ็น เนื้อหอยนางรมญี่ปุ่นชุบเกล็ดขนมปังแช่...</td>\n",
              "      <td>21.8</td>\n",
              "      <td>ราคาต่อชิ้น(฿)</td>\n",
              "    </tr>\n",
              "    <tr>\n",
              "      <th>35</th>\n",
              "      <td>ปูแปรรูป</td>\n",
              "      <td>ธนา หมึกหนังไหว้ ขนาด 9-11 นิ้ว</td>\n",
              "      <td>189.0</td>\n",
              "      <td>ราคาต่อชิ้น(฿)</td>\n",
              "    </tr>\n",
              "    <tr>\n",
              "      <th>36</th>\n",
              "      <td>กุ้งแปรรูป</td>\n",
              "      <td>คิวเฟรช เนื้อปลากะพงสไลซ์แช่แข็งพร้อมซอสมะขาม ...</td>\n",
              "      <td>285.0</td>\n",
              "      <td>ราคาต่อชิ้น(฿)</td>\n",
              "    </tr>\n",
              "  </tbody>\n",
              "</table>\n",
              "</div>"
            ],
            "text/plain": [
              "   sub_product_group2  ...            unit\n",
              "0               ปลาสด  ...  ราคาต่อชิ้น(฿)\n",
              "1               ปลาสด  ...  ราคาต่อชิ้น(฿)\n",
              "2              กุ้งสด  ...  ราคาต่อชิ้น(฿)\n",
              "3              กุ้งสด  ...  ราคาต่อชิ้น(฿)\n",
              "4              กุ้งสด  ...  ราคาต่อชิ้น(฿)\n",
              "5              กุ้งสด  ...  ราคาต่อชิ้น(฿)\n",
              "6              กุ้งสด  ...  ราคาต่อชิ้น(฿)\n",
              "7              กุ้งสด  ...  ราคาต่อชิ้น(฿)\n",
              "8              กุ้งสด  ...  ราคาต่อชิ้น(฿)\n",
              "9   กุ้งแปรรูปและอื่น  ...  ราคาต่อชิ้น(฿)\n",
              "10  กุ้งแปรรูปและอื่น  ...  ราคาต่อชิ้น(฿)\n",
              "11  กุ้งแปรรูปและอื่น  ...  ราคาต่อชิ้น(฿)\n",
              "12  กุ้งแปรรูปและอื่น  ...  ราคาต่อชิ้น(฿)\n",
              "13  กุ้งแปรรูปและอื่น  ...  ราคาต่อชิ้น(฿)\n",
              "14  กุ้งแปรรูปและอื่น  ...  ราคาต่อชิ้น(฿)\n",
              "15  กุ้งแปรรูปและอื่น  ...  ราคาต่อชิ้น(฿)\n",
              "16  กุ้งแปรรูปและอื่น  ...  ราคาต่อชิ้น(฿)\n",
              "17  กุ้งแปรรูปและอื่น  ...  ราคาต่อชิ้น(฿)\n",
              "18  กุ้งแปรรูปและอื่น  ...  ราคาต่อชิ้น(฿)\n",
              "19  กุ้งแปรรูปและอื่น  ...  ราคาต่อชิ้น(฿)\n",
              "20  กุ้งแปรรูปและอื่น  ...  ราคาต่อชิ้น(฿)\n",
              "21  กุ้งแปรรูปและอื่น  ...  ราคาต่อชิ้น(฿)\n",
              "22  กุ้งแปรรูปและอื่น  ...  ราคาต่อชิ้น(฿)\n",
              "23  กุ้งแปรรูปและอื่น  ...  ราคาต่อชิ้น(฿)\n",
              "24  กุ้งแปรรูปและอื่น  ...  ราคาต่อชิ้น(฿)\n",
              "25  กุ้งแปรรูปและอื่น  ...  ราคาต่อชิ้น(฿)\n",
              "26  กุ้งแปรรูปและอื่น  ...  ราคาต่อชิ้น(฿)\n",
              "27  กุ้งแปรรูปและอื่น  ...  ราคาต่อชิ้น(฿)\n",
              "28  กุ้งแปรรูปและอื่น  ...  ราคาต่อชิ้น(฿)\n",
              "29  กุ้งแปรรูปและอื่น  ...  ราคาต่อชิ้น(฿)\n",
              "30  กุ้งแปรรูปและอื่น  ...  ราคาต่อชิ้น(฿)\n",
              "31  กุ้งแปรรูปและอื่น  ...  ราคาต่อชิ้น(฿)\n",
              "32  กุ้งแปรรูปและอื่น  ...  ราคาต่อชิ้น(฿)\n",
              "33         หมึกแปรรูป  ...  ราคาต่อชิ้น(฿)\n",
              "34         หมึกแปรรูป  ...  ราคาต่อชิ้น(฿)\n",
              "35           ปูแปรรูป  ...  ราคาต่อชิ้น(฿)\n",
              "36         กุ้งแปรรูป  ...  ราคาต่อชิ้น(฿)\n",
              "\n",
              "[37 rows x 4 columns]"
            ]
          },
          "metadata": {
            "tags": []
          },
          "execution_count": 234
        }
      ]
    },
    {
      "cell_type": "code",
      "metadata": {
        "colab": {
          "base_uri": "https://localhost:8080/",
          "height": 1000
        },
        "id": "TMio9hZvVWvL",
        "outputId": "463e78b4-9459-4eb3-dd99-79ec411d6967"
      },
      "source": [
        "df3 = df2.merge(df, how='left',on='sub_product_group2')\n",
        "df3 = df3.drop(columns=['content']).drop_duplicates()\n",
        "df3['date'] = datetime.datetime.now().date()\n",
        "df3"
      ],
      "execution_count": 235,
      "outputs": [
        {
          "output_type": "execute_result",
          "data": {
            "text/html": [
              "<div>\n",
              "<style scoped>\n",
              "    .dataframe tbody tr th:only-of-type {\n",
              "        vertical-align: middle;\n",
              "    }\n",
              "\n",
              "    .dataframe tbody tr th {\n",
              "        vertical-align: top;\n",
              "    }\n",
              "\n",
              "    .dataframe thead th {\n",
              "        text-align: right;\n",
              "    }\n",
              "</style>\n",
              "<table border=\"1\" class=\"dataframe\">\n",
              "  <thead>\n",
              "    <tr style=\"text-align: right;\">\n",
              "      <th></th>\n",
              "      <th>sub_product_group2</th>\n",
              "      <th>product</th>\n",
              "      <th>price</th>\n",
              "      <th>unit</th>\n",
              "      <th>sub_product_group1</th>\n",
              "      <th>product_group</th>\n",
              "      <th>date</th>\n",
              "    </tr>\n",
              "  </thead>\n",
              "  <tbody>\n",
              "    <tr>\n",
              "      <th>0</th>\n",
              "      <td>ปลาสด</td>\n",
              "      <td>ปลากะพงขาวสด (ขนาด 800-1000 กรัม/ตัว)</td>\n",
              "      <td>99.0</td>\n",
              "      <td>ราคาต่อชิ้น(฿)</td>\n",
              "      <td>ปลา</td>\n",
              "      <td>ปลาและอาหารทะเล</td>\n",
              "      <td>2021-08-11</td>\n",
              "    </tr>\n",
              "    <tr>\n",
              "      <th>1</th>\n",
              "      <td>ปลาสด</td>\n",
              "      <td>ปลาทับทิมสด (ขนาด 700-900 กรัม/ตัว)</td>\n",
              "      <td>79.0</td>\n",
              "      <td>ราคาต่อชิ้น(฿)</td>\n",
              "      <td>ปลา</td>\n",
              "      <td>ปลาและอาหารทะเล</td>\n",
              "      <td>2021-08-11</td>\n",
              "    </tr>\n",
              "    <tr>\n",
              "      <th>2</th>\n",
              "      <td>กุ้งสด</td>\n",
              "      <td>คิวเฟรช เนื้อปลาแซลมอนสไลซ์ติดหนังแช่แข็ง พร้อ...</td>\n",
              "      <td>349.0</td>\n",
              "      <td>ราคาต่อชิ้น(฿)</td>\n",
              "      <td>กุ้ง</td>\n",
              "      <td>ปลาและอาหารทะเล</td>\n",
              "      <td>2021-08-11</td>\n",
              "    </tr>\n",
              "    <tr>\n",
              "      <th>3</th>\n",
              "      <td>กุ้งสด</td>\n",
              "      <td>คิวเฟรช ปลาแซลมอนหมักซอสปรุงรสกระเทียมและสมุนไ...</td>\n",
              "      <td>335.0</td>\n",
              "      <td>ราคาต่อชิ้น(฿)</td>\n",
              "      <td>กุ้ง</td>\n",
              "      <td>ปลาและอาหารทะเล</td>\n",
              "      <td>2021-08-11</td>\n",
              "    </tr>\n",
              "    <tr>\n",
              "      <th>4</th>\n",
              "      <td>กุ้งสด</td>\n",
              "      <td>คิวเฟรช ปลาแซลมอนหมักซอสปรุงรสพริกไทยดำแช่แข็ง...</td>\n",
              "      <td>335.0</td>\n",
              "      <td>ราคาต่อชิ้น(฿)</td>\n",
              "      <td>กุ้ง</td>\n",
              "      <td>ปลาและอาหารทะเล</td>\n",
              "      <td>2021-08-11</td>\n",
              "    </tr>\n",
              "    <tr>\n",
              "      <th>5</th>\n",
              "      <td>กุ้งสด</td>\n",
              "      <td>คิวเฟรช เนื้อปลากะพงสไลซ์แช่แข็งพร้อมซอสสามรส ...</td>\n",
              "      <td>285.0</td>\n",
              "      <td>ราคาต่อชิ้น(฿)</td>\n",
              "      <td>กุ้ง</td>\n",
              "      <td>ปลาและอาหารทะเล</td>\n",
              "      <td>2021-08-11</td>\n",
              "    </tr>\n",
              "    <tr>\n",
              "      <th>6</th>\n",
              "      <td>กุ้งสด</td>\n",
              "      <td>คิวเฟรช ปลากะพงหมักซอสปรุงรสขมิ้นแช่แข็ง 500 กรัม</td>\n",
              "      <td>255.0</td>\n",
              "      <td>ราคาต่อชิ้น(฿)</td>\n",
              "      <td>กุ้ง</td>\n",
              "      <td>ปลาและอาหารทะเล</td>\n",
              "      <td>2021-08-11</td>\n",
              "    </tr>\n",
              "    <tr>\n",
              "      <th>7</th>\n",
              "      <td>กุ้งสด</td>\n",
              "      <td>คิวเฟรช เนื้อปลาแซลมอนแอตแลนติกแช่แข็ง 1 กก.</td>\n",
              "      <td>215.0</td>\n",
              "      <td>ราคาต่อชิ้น(฿)</td>\n",
              "      <td>กุ้ง</td>\n",
              "      <td>ปลาและอาหารทะเล</td>\n",
              "      <td>2021-08-11</td>\n",
              "    </tr>\n",
              "    <tr>\n",
              "      <th>8</th>\n",
              "      <td>กุ้งสด</td>\n",
              "      <td>ปลานิลตัดแต่ง 400 กรัม</td>\n",
              "      <td>29.0</td>\n",
              "      <td>ราคาต่อชิ้น(฿)</td>\n",
              "      <td>กุ้ง</td>\n",
              "      <td>ปลาและอาหารทะเล</td>\n",
              "      <td>2021-08-11</td>\n",
              "    </tr>\n",
              "    <tr>\n",
              "      <th>9</th>\n",
              "      <td>กุ้งแปรรูปและอื่น</td>\n",
              "      <td>ซีพีแปซิฟิก กุ้งขาวต้มสุกทั้งตัวแช่แข็ง (ขนาด ...</td>\n",
              "      <td>219.0</td>\n",
              "      <td>ราคาต่อชิ้น(฿)</td>\n",
              "      <td>กุ้ง</td>\n",
              "      <td>ปลาและอาหารทะเล</td>\n",
              "      <td>2021-08-11</td>\n",
              "    </tr>\n",
              "    <tr>\n",
              "      <th>10</th>\n",
              "      <td>กุ้งแปรรูปและอื่น</td>\n",
              "      <td>เอโร่ กุ้งขาวแช่แข็งไม่ปอกเปลือกผ่าหลังไว้หาง ...</td>\n",
              "      <td>380.0</td>\n",
              "      <td>ราคาต่อชิ้น(฿)</td>\n",
              "      <td>กุ้ง</td>\n",
              "      <td>ปลาและอาหารทะเล</td>\n",
              "      <td>2021-08-11</td>\n",
              "    </tr>\n",
              "    <tr>\n",
              "      <th>11</th>\n",
              "      <td>กุ้งแปรรูปและอื่น</td>\n",
              "      <td>กุ้งขาวไว้หางแช่แข็ง ขนาด 67-77 ตัว/ถุง</td>\n",
              "      <td>159.0</td>\n",
              "      <td>ราคาต่อชิ้น(฿)</td>\n",
              "      <td>กุ้ง</td>\n",
              "      <td>ปลาและอาหารทะเล</td>\n",
              "      <td>2021-08-11</td>\n",
              "    </tr>\n",
              "    <tr>\n",
              "      <th>12</th>\n",
              "      <td>กุ้งแปรรูปและอื่น</td>\n",
              "      <td>เอโร่ เนื้อกุ้งขาวแช่แข็ง (จำนวน 160-194 ตัว/แ...</td>\n",
              "      <td>270.0</td>\n",
              "      <td>ราคาต่อชิ้น(฿)</td>\n",
              "      <td>กุ้ง</td>\n",
              "      <td>ปลาและอาหารทะเล</td>\n",
              "      <td>2021-08-11</td>\n",
              "    </tr>\n",
              "    <tr>\n",
              "      <th>13</th>\n",
              "      <td>กุ้งแปรรูปและอื่น</td>\n",
              "      <td>เซพแพ็ค กุ้งขาวไว้หางแช่แข็ง (48-54 ตัว/แพ็ค) ...</td>\n",
              "      <td>305.0</td>\n",
              "      <td>ราคาต่อชิ้น(฿)</td>\n",
              "      <td>กุ้ง</td>\n",
              "      <td>ปลาและอาหารทะเล</td>\n",
              "      <td>2021-08-11</td>\n",
              "    </tr>\n",
              "    <tr>\n",
              "      <th>14</th>\n",
              "      <td>กุ้งแปรรูปและอื่น</td>\n",
              "      <td>เอโร่ กุ้งขาวไว้หางแช่แข็ง (จำนวน 72-88 ตัว/แพ...</td>\n",
              "      <td>310.0</td>\n",
              "      <td>ราคาต่อชิ้น(฿)</td>\n",
              "      <td>กุ้ง</td>\n",
              "      <td>ปลาและอาหารทะเล</td>\n",
              "      <td>2021-08-11</td>\n",
              "    </tr>\n",
              "    <tr>\n",
              "      <th>15</th>\n",
              "      <td>กุ้งแปรรูปและอื่น</td>\n",
              "      <td>เซพแพ็ค กุ้งขาวไว้หางแช่แข็ง (จำนวน 32-38 ตัว/...</td>\n",
              "      <td>340.0</td>\n",
              "      <td>ราคาต่อชิ้น(฿)</td>\n",
              "      <td>กุ้ง</td>\n",
              "      <td>ปลาและอาหารทะเล</td>\n",
              "      <td>2021-08-11</td>\n",
              "    </tr>\n",
              "    <tr>\n",
              "      <th>16</th>\n",
              "      <td>กุ้งแปรรูปและอื่น</td>\n",
              "      <td>คิวเฟรช กุ้งซูชิอาเจนแช่แข็ง 4L x 10 ตัว</td>\n",
              "      <td>125.0</td>\n",
              "      <td>ราคาต่อชิ้น(฿)</td>\n",
              "      <td>กุ้ง</td>\n",
              "      <td>ปลาและอาหารทะเล</td>\n",
              "      <td>2021-08-11</td>\n",
              "    </tr>\n",
              "    <tr>\n",
              "      <th>18</th>\n",
              "      <td>กุ้งแปรรูปและอื่น</td>\n",
              "      <td>ซีพี กุ้งขาวทั้งตัวต้มสุกแช่แข็ง (ขนาด 26-35 ต...</td>\n",
              "      <td>299.0</td>\n",
              "      <td>ราคาต่อชิ้น(฿)</td>\n",
              "      <td>กุ้ง</td>\n",
              "      <td>ปลาและอาหารทะเล</td>\n",
              "      <td>2021-08-11</td>\n",
              "    </tr>\n",
              "    <tr>\n",
              "      <th>19</th>\n",
              "      <td>กุ้งแปรรูปและอื่น</td>\n",
              "      <td>กุ้งขาวไว้หางแช่แข็ง ขนาด 56-66 ตัว/ถุง</td>\n",
              "      <td>185.0</td>\n",
              "      <td>ราคาต่อชิ้น(฿)</td>\n",
              "      <td>กุ้ง</td>\n",
              "      <td>ปลาและอาหารทะเล</td>\n",
              "      <td>2021-08-11</td>\n",
              "    </tr>\n",
              "    <tr>\n",
              "      <th>20</th>\n",
              "      <td>กุ้งแปรรูปและอื่น</td>\n",
              "      <td>ซีพีแปซิฟิก กุ้งขาวดิบทั้งตัวแช่แข็ง (ขนาด 51-...</td>\n",
              "      <td>200.0</td>\n",
              "      <td>ราคาต่อชิ้น(฿)</td>\n",
              "      <td>กุ้ง</td>\n",
              "      <td>ปลาและอาหารทะเล</td>\n",
              "      <td>2021-08-11</td>\n",
              "    </tr>\n",
              "    <tr>\n",
              "      <th>21</th>\n",
              "      <td>กุ้งแปรรูปและอื่น</td>\n",
              "      <td>ซีพีแปซิฟิก กุ้งขาวดิบทั้งตัวแช่แข็ง (ขนาด 31-...</td>\n",
              "      <td>220.0</td>\n",
              "      <td>ราคาต่อชิ้น(฿)</td>\n",
              "      <td>กุ้ง</td>\n",
              "      <td>ปลาและอาหารทะเล</td>\n",
              "      <td>2021-08-11</td>\n",
              "    </tr>\n",
              "    <tr>\n",
              "      <th>22</th>\n",
              "      <td>กุ้งแปรรูปและอื่น</td>\n",
              "      <td>เซพแพ็ค กุ้งขาวไว้หางแช่แข็ง (63-85 ตัว/แพ็ค) ...</td>\n",
              "      <td>250.0</td>\n",
              "      <td>ราคาต่อชิ้น(฿)</td>\n",
              "      <td>กุ้ง</td>\n",
              "      <td>ปลาและอาหารทะเล</td>\n",
              "      <td>2021-08-11</td>\n",
              "    </tr>\n",
              "    <tr>\n",
              "      <th>23</th>\n",
              "      <td>กุ้งแปรรูปและอื่น</td>\n",
              "      <td>เอโร่ กุ้งขาวไว้หาง (90-106 ตัว/แพ็ค) 1000 กรัม</td>\n",
              "      <td>285.0</td>\n",
              "      <td>ราคาต่อชิ้น(฿)</td>\n",
              "      <td>กุ้ง</td>\n",
              "      <td>ปลาและอาหารทะเล</td>\n",
              "      <td>2021-08-11</td>\n",
              "    </tr>\n",
              "    <tr>\n",
              "      <th>24</th>\n",
              "      <td>กุ้งแปรรูปและอื่น</td>\n",
              "      <td>เซพแพ็ค เนื้อกุ้งขาวแช่แข็ง (จำนวน 92-123 ตัว/...</td>\n",
              "      <td>280.0</td>\n",
              "      <td>ราคาต่อชิ้น(฿)</td>\n",
              "      <td>กุ้ง</td>\n",
              "      <td>ปลาและอาหารทะเล</td>\n",
              "      <td>2021-08-11</td>\n",
              "    </tr>\n",
              "    <tr>\n",
              "      <th>25</th>\n",
              "      <td>กุ้งแปรรูปและอื่น</td>\n",
              "      <td>เอโร่ กุ้งขาวไว้หางไม่ปอกเปลือกผ่าหลังแช่แข็ง ...</td>\n",
              "      <td>285.0</td>\n",
              "      <td>ราคาต่อชิ้น(฿)</td>\n",
              "      <td>กุ้ง</td>\n",
              "      <td>ปลาและอาหารทะเล</td>\n",
              "      <td>2021-08-11</td>\n",
              "    </tr>\n",
              "    <tr>\n",
              "      <th>26</th>\n",
              "      <td>กุ้งแปรรูปและอื่น</td>\n",
              "      <td>คางกุ้งแช่แข็ง 1 กิโลกรัม</td>\n",
              "      <td>69.0</td>\n",
              "      <td>ราคาต่อชิ้น(฿)</td>\n",
              "      <td>กุ้ง</td>\n",
              "      <td>ปลาและอาหารทะเล</td>\n",
              "      <td>2021-08-11</td>\n",
              "    </tr>\n",
              "    <tr>\n",
              "      <th>27</th>\n",
              "      <td>กุ้งแปรรูปและอื่น</td>\n",
              "      <td>เอโร่ กุ้งขาวไว้หาง (55-70 ตัว/แพ็ค) 1000 กรัม</td>\n",
              "      <td>360.0</td>\n",
              "      <td>ราคาต่อชิ้น(฿)</td>\n",
              "      <td>กุ้ง</td>\n",
              "      <td>ปลาและอาหารทะเล</td>\n",
              "      <td>2021-08-11</td>\n",
              "    </tr>\n",
              "    <tr>\n",
              "      <th>28</th>\n",
              "      <td>กุ้งแปรรูปและอื่น</td>\n",
              "      <td>กุ้งขาวไว้หางแช่แข็ง ขนาด 45-55 ตัว-ถุง</td>\n",
              "      <td>190.0</td>\n",
              "      <td>ราคาต่อชิ้น(฿)</td>\n",
              "      <td>กุ้ง</td>\n",
              "      <td>ปลาและอาหารทะเล</td>\n",
              "      <td>2021-08-11</td>\n",
              "    </tr>\n",
              "    <tr>\n",
              "      <th>29</th>\n",
              "      <td>กุ้งแปรรูปและอื่น</td>\n",
              "      <td>เอโร่ กุ้งขาวไว้หาง (107-123 ตัว/แพ็ค) 1000 กรัม</td>\n",
              "      <td>270.0</td>\n",
              "      <td>ราคาต่อชิ้น(฿)</td>\n",
              "      <td>กุ้ง</td>\n",
              "      <td>ปลาและอาหารทะเล</td>\n",
              "      <td>2021-08-11</td>\n",
              "    </tr>\n",
              "    <tr>\n",
              "      <th>30</th>\n",
              "      <td>กุ้งแปรรูปและอื่น</td>\n",
              "      <td>เซพแพ็ค เนื้อกุ้งขาวแช่แข็ง (จำนวน 62-92 ตัว/แ...</td>\n",
              "      <td>290.0</td>\n",
              "      <td>ราคาต่อชิ้น(฿)</td>\n",
              "      <td>กุ้ง</td>\n",
              "      <td>ปลาและอาหารทะเล</td>\n",
              "      <td>2021-08-11</td>\n",
              "    </tr>\n",
              "    <tr>\n",
              "      <th>31</th>\n",
              "      <td>กุ้งแปรรูปและอื่น</td>\n",
              "      <td>เซพแพ็ค เนื้อกุ้งทะเลหักแช่แข็ง (123-308 ตัว/แ...</td>\n",
              "      <td>260.0</td>\n",
              "      <td>ราคาต่อชิ้น(฿)</td>\n",
              "      <td>กุ้ง</td>\n",
              "      <td>ปลาและอาหารทะเล</td>\n",
              "      <td>2021-08-11</td>\n",
              "    </tr>\n",
              "    <tr>\n",
              "      <th>32</th>\n",
              "      <td>กุ้งแปรรูปและอื่น</td>\n",
              "      <td>มันกุ้งขาวแช่แข็ง 500 กรัม</td>\n",
              "      <td>97.0</td>\n",
              "      <td>ราคาต่อชิ้น(฿)</td>\n",
              "      <td>กุ้ง</td>\n",
              "      <td>ปลาและอาหารทะเล</td>\n",
              "      <td>2021-08-11</td>\n",
              "    </tr>\n",
              "    <tr>\n",
              "      <th>33</th>\n",
              "      <td>หมึกแปรรูป</td>\n",
              "      <td>เนื้อหอยเชลล์แช่แข็ง (ขนาด 40-60 ตัว/ปอนด์) 1 กก.</td>\n",
              "      <td>265.0</td>\n",
              "      <td>ราคาต่อชิ้น(฿)</td>\n",
              "      <td>อาหารทะเลแปรรูป</td>\n",
              "      <td>ปลาและอาหารทะเล</td>\n",
              "      <td>2021-08-11</td>\n",
              "    </tr>\n",
              "    <tr>\n",
              "      <th>34</th>\n",
              "      <td>หมึกแปรรูป</td>\n",
              "      <td>พีทีเอ็น เนื้อหอยนางรมญี่ปุ่นชุบเกล็ดขนมปังแช่...</td>\n",
              "      <td>21.8</td>\n",
              "      <td>ราคาต่อชิ้น(฿)</td>\n",
              "      <td>อาหารทะเลแปรรูป</td>\n",
              "      <td>ปลาและอาหารทะเล</td>\n",
              "      <td>2021-08-11</td>\n",
              "    </tr>\n",
              "    <tr>\n",
              "      <th>35</th>\n",
              "      <td>ปูแปรรูป</td>\n",
              "      <td>ธนา หมึกหนังไหว้ ขนาด 9-11 นิ้ว</td>\n",
              "      <td>189.0</td>\n",
              "      <td>ราคาต่อชิ้น(฿)</td>\n",
              "      <td>อาหารทะเลแปรรูป</td>\n",
              "      <td>ปลาและอาหารทะเล</td>\n",
              "      <td>2021-08-11</td>\n",
              "    </tr>\n",
              "    <tr>\n",
              "      <th>36</th>\n",
              "      <td>กุ้งแปรรูป</td>\n",
              "      <td>คิวเฟรช เนื้อปลากะพงสไลซ์แช่แข็งพร้อมซอสมะขาม ...</td>\n",
              "      <td>285.0</td>\n",
              "      <td>ราคาต่อชิ้น(฿)</td>\n",
              "      <td>อาหารทะเลแปรรูป</td>\n",
              "      <td>ปลาและอาหารทะเล</td>\n",
              "      <td>2021-08-11</td>\n",
              "    </tr>\n",
              "  </tbody>\n",
              "</table>\n",
              "</div>"
            ],
            "text/plain": [
              "   sub_product_group2  ...        date\n",
              "0               ปลาสด  ...  2021-08-11\n",
              "1               ปลาสด  ...  2021-08-11\n",
              "2              กุ้งสด  ...  2021-08-11\n",
              "3              กุ้งสด  ...  2021-08-11\n",
              "4              กุ้งสด  ...  2021-08-11\n",
              "5              กุ้งสด  ...  2021-08-11\n",
              "6              กุ้งสด  ...  2021-08-11\n",
              "7              กุ้งสด  ...  2021-08-11\n",
              "8              กุ้งสด  ...  2021-08-11\n",
              "9   กุ้งแปรรูปและอื่น  ...  2021-08-11\n",
              "10  กุ้งแปรรูปและอื่น  ...  2021-08-11\n",
              "11  กุ้งแปรรูปและอื่น  ...  2021-08-11\n",
              "12  กุ้งแปรรูปและอื่น  ...  2021-08-11\n",
              "13  กุ้งแปรรูปและอื่น  ...  2021-08-11\n",
              "14  กุ้งแปรรูปและอื่น  ...  2021-08-11\n",
              "15  กุ้งแปรรูปและอื่น  ...  2021-08-11\n",
              "16  กุ้งแปรรูปและอื่น  ...  2021-08-11\n",
              "18  กุ้งแปรรูปและอื่น  ...  2021-08-11\n",
              "19  กุ้งแปรรูปและอื่น  ...  2021-08-11\n",
              "20  กุ้งแปรรูปและอื่น  ...  2021-08-11\n",
              "21  กุ้งแปรรูปและอื่น  ...  2021-08-11\n",
              "22  กุ้งแปรรูปและอื่น  ...  2021-08-11\n",
              "23  กุ้งแปรรูปและอื่น  ...  2021-08-11\n",
              "24  กุ้งแปรรูปและอื่น  ...  2021-08-11\n",
              "25  กุ้งแปรรูปและอื่น  ...  2021-08-11\n",
              "26  กุ้งแปรรูปและอื่น  ...  2021-08-11\n",
              "27  กุ้งแปรรูปและอื่น  ...  2021-08-11\n",
              "28  กุ้งแปรรูปและอื่น  ...  2021-08-11\n",
              "29  กุ้งแปรรูปและอื่น  ...  2021-08-11\n",
              "30  กุ้งแปรรูปและอื่น  ...  2021-08-11\n",
              "31  กุ้งแปรรูปและอื่น  ...  2021-08-11\n",
              "32  กุ้งแปรรูปและอื่น  ...  2021-08-11\n",
              "33         หมึกแปรรูป  ...  2021-08-11\n",
              "34         หมึกแปรรูป  ...  2021-08-11\n",
              "35           ปูแปรรูป  ...  2021-08-11\n",
              "36         กุ้งแปรรูป  ...  2021-08-11\n",
              "\n",
              "[36 rows x 7 columns]"
            ]
          },
          "metadata": {
            "tags": []
          },
          "execution_count": 235
        }
      ]
    },
    {
      "cell_type": "code",
      "metadata": {
        "id": "MLq5ikK2Vc7e"
      },
      "source": [
        "as_date = list(df3['date'])\n",
        "day_name = []\n",
        "for i in as_date:\n",
        "    day_name.append(i.strftime(\"%A\"))\n",
        "    \n",
        "df3['datename'] = day_name\n",
        "\n",
        "df3['year'] = pd.to_datetime(df3[\"date\"]).dt.year\n",
        "df3['month'] = pd.to_datetime(df3[\"date\"]).dt.month\n",
        "\n",
        "df3['date'] = pd.to_datetime(df3[\"date\"])\n",
        "\n",
        "df3 = df3.replace({\"month\": m_ord2})\n",
        "\n",
        "df3['source'] = 'makroclick'"
      ],
      "execution_count": 236,
      "outputs": []
    },
    {
      "cell_type": "code",
      "metadata": {
        "colab": {
          "base_uri": "https://localhost:8080/",
          "height": 1000
        },
        "id": "vpzPb-gFVkk5",
        "outputId": "78824256-9a82-497f-e1c6-584d1cda5fee"
      },
      "source": [
        "Seafood = df3.rename(columns={\"product_group\": \"sub source\", \"sub_product_group1\": \"sub source 1\", \"sub_product_group2\": \"sub source 2\"})\n",
        "Seafood"
      ],
      "execution_count": 237,
      "outputs": [
        {
          "output_type": "execute_result",
          "data": {
            "text/html": [
              "<div>\n",
              "<style scoped>\n",
              "    .dataframe tbody tr th:only-of-type {\n",
              "        vertical-align: middle;\n",
              "    }\n",
              "\n",
              "    .dataframe tbody tr th {\n",
              "        vertical-align: top;\n",
              "    }\n",
              "\n",
              "    .dataframe thead th {\n",
              "        text-align: right;\n",
              "    }\n",
              "</style>\n",
              "<table border=\"1\" class=\"dataframe\">\n",
              "  <thead>\n",
              "    <tr style=\"text-align: right;\">\n",
              "      <th></th>\n",
              "      <th>sub source 2</th>\n",
              "      <th>product</th>\n",
              "      <th>price</th>\n",
              "      <th>unit</th>\n",
              "      <th>sub source 1</th>\n",
              "      <th>sub source</th>\n",
              "      <th>date</th>\n",
              "      <th>datename</th>\n",
              "      <th>year</th>\n",
              "      <th>month</th>\n",
              "      <th>source</th>\n",
              "    </tr>\n",
              "  </thead>\n",
              "  <tbody>\n",
              "    <tr>\n",
              "      <th>0</th>\n",
              "      <td>ปลาสด</td>\n",
              "      <td>ปลากะพงขาวสด (ขนาด 800-1000 กรัม/ตัว)</td>\n",
              "      <td>99.0</td>\n",
              "      <td>ราคาต่อชิ้น(฿)</td>\n",
              "      <td>ปลา</td>\n",
              "      <td>ปลาและอาหารทะเล</td>\n",
              "      <td>2021-08-11</td>\n",
              "      <td>Wednesday</td>\n",
              "      <td>2021</td>\n",
              "      <td>August</td>\n",
              "      <td>makroclick</td>\n",
              "    </tr>\n",
              "    <tr>\n",
              "      <th>1</th>\n",
              "      <td>ปลาสด</td>\n",
              "      <td>ปลาทับทิมสด (ขนาด 700-900 กรัม/ตัว)</td>\n",
              "      <td>79.0</td>\n",
              "      <td>ราคาต่อชิ้น(฿)</td>\n",
              "      <td>ปลา</td>\n",
              "      <td>ปลาและอาหารทะเล</td>\n",
              "      <td>2021-08-11</td>\n",
              "      <td>Wednesday</td>\n",
              "      <td>2021</td>\n",
              "      <td>August</td>\n",
              "      <td>makroclick</td>\n",
              "    </tr>\n",
              "    <tr>\n",
              "      <th>2</th>\n",
              "      <td>กุ้งสด</td>\n",
              "      <td>คิวเฟรช เนื้อปลาแซลมอนสไลซ์ติดหนังแช่แข็ง พร้อ...</td>\n",
              "      <td>349.0</td>\n",
              "      <td>ราคาต่อชิ้น(฿)</td>\n",
              "      <td>กุ้ง</td>\n",
              "      <td>ปลาและอาหารทะเล</td>\n",
              "      <td>2021-08-11</td>\n",
              "      <td>Wednesday</td>\n",
              "      <td>2021</td>\n",
              "      <td>August</td>\n",
              "      <td>makroclick</td>\n",
              "    </tr>\n",
              "    <tr>\n",
              "      <th>3</th>\n",
              "      <td>กุ้งสด</td>\n",
              "      <td>คิวเฟรช ปลาแซลมอนหมักซอสปรุงรสกระเทียมและสมุนไ...</td>\n",
              "      <td>335.0</td>\n",
              "      <td>ราคาต่อชิ้น(฿)</td>\n",
              "      <td>กุ้ง</td>\n",
              "      <td>ปลาและอาหารทะเล</td>\n",
              "      <td>2021-08-11</td>\n",
              "      <td>Wednesday</td>\n",
              "      <td>2021</td>\n",
              "      <td>August</td>\n",
              "      <td>makroclick</td>\n",
              "    </tr>\n",
              "    <tr>\n",
              "      <th>4</th>\n",
              "      <td>กุ้งสด</td>\n",
              "      <td>คิวเฟรช ปลาแซลมอนหมักซอสปรุงรสพริกไทยดำแช่แข็ง...</td>\n",
              "      <td>335.0</td>\n",
              "      <td>ราคาต่อชิ้น(฿)</td>\n",
              "      <td>กุ้ง</td>\n",
              "      <td>ปลาและอาหารทะเล</td>\n",
              "      <td>2021-08-11</td>\n",
              "      <td>Wednesday</td>\n",
              "      <td>2021</td>\n",
              "      <td>August</td>\n",
              "      <td>makroclick</td>\n",
              "    </tr>\n",
              "    <tr>\n",
              "      <th>5</th>\n",
              "      <td>กุ้งสด</td>\n",
              "      <td>คิวเฟรช เนื้อปลากะพงสไลซ์แช่แข็งพร้อมซอสสามรส ...</td>\n",
              "      <td>285.0</td>\n",
              "      <td>ราคาต่อชิ้น(฿)</td>\n",
              "      <td>กุ้ง</td>\n",
              "      <td>ปลาและอาหารทะเล</td>\n",
              "      <td>2021-08-11</td>\n",
              "      <td>Wednesday</td>\n",
              "      <td>2021</td>\n",
              "      <td>August</td>\n",
              "      <td>makroclick</td>\n",
              "    </tr>\n",
              "    <tr>\n",
              "      <th>6</th>\n",
              "      <td>กุ้งสด</td>\n",
              "      <td>คิวเฟรช ปลากะพงหมักซอสปรุงรสขมิ้นแช่แข็ง 500 กรัม</td>\n",
              "      <td>255.0</td>\n",
              "      <td>ราคาต่อชิ้น(฿)</td>\n",
              "      <td>กุ้ง</td>\n",
              "      <td>ปลาและอาหารทะเล</td>\n",
              "      <td>2021-08-11</td>\n",
              "      <td>Wednesday</td>\n",
              "      <td>2021</td>\n",
              "      <td>August</td>\n",
              "      <td>makroclick</td>\n",
              "    </tr>\n",
              "    <tr>\n",
              "      <th>7</th>\n",
              "      <td>กุ้งสด</td>\n",
              "      <td>คิวเฟรช เนื้อปลาแซลมอนแอตแลนติกแช่แข็ง 1 กก.</td>\n",
              "      <td>215.0</td>\n",
              "      <td>ราคาต่อชิ้น(฿)</td>\n",
              "      <td>กุ้ง</td>\n",
              "      <td>ปลาและอาหารทะเล</td>\n",
              "      <td>2021-08-11</td>\n",
              "      <td>Wednesday</td>\n",
              "      <td>2021</td>\n",
              "      <td>August</td>\n",
              "      <td>makroclick</td>\n",
              "    </tr>\n",
              "    <tr>\n",
              "      <th>8</th>\n",
              "      <td>กุ้งสด</td>\n",
              "      <td>ปลานิลตัดแต่ง 400 กรัม</td>\n",
              "      <td>29.0</td>\n",
              "      <td>ราคาต่อชิ้น(฿)</td>\n",
              "      <td>กุ้ง</td>\n",
              "      <td>ปลาและอาหารทะเล</td>\n",
              "      <td>2021-08-11</td>\n",
              "      <td>Wednesday</td>\n",
              "      <td>2021</td>\n",
              "      <td>August</td>\n",
              "      <td>makroclick</td>\n",
              "    </tr>\n",
              "    <tr>\n",
              "      <th>9</th>\n",
              "      <td>กุ้งแปรรูปและอื่น</td>\n",
              "      <td>ซีพีแปซิฟิก กุ้งขาวต้มสุกทั้งตัวแช่แข็ง (ขนาด ...</td>\n",
              "      <td>219.0</td>\n",
              "      <td>ราคาต่อชิ้น(฿)</td>\n",
              "      <td>กุ้ง</td>\n",
              "      <td>ปลาและอาหารทะเล</td>\n",
              "      <td>2021-08-11</td>\n",
              "      <td>Wednesday</td>\n",
              "      <td>2021</td>\n",
              "      <td>August</td>\n",
              "      <td>makroclick</td>\n",
              "    </tr>\n",
              "    <tr>\n",
              "      <th>10</th>\n",
              "      <td>กุ้งแปรรูปและอื่น</td>\n",
              "      <td>เอโร่ กุ้งขาวแช่แข็งไม่ปอกเปลือกผ่าหลังไว้หาง ...</td>\n",
              "      <td>380.0</td>\n",
              "      <td>ราคาต่อชิ้น(฿)</td>\n",
              "      <td>กุ้ง</td>\n",
              "      <td>ปลาและอาหารทะเล</td>\n",
              "      <td>2021-08-11</td>\n",
              "      <td>Wednesday</td>\n",
              "      <td>2021</td>\n",
              "      <td>August</td>\n",
              "      <td>makroclick</td>\n",
              "    </tr>\n",
              "    <tr>\n",
              "      <th>11</th>\n",
              "      <td>กุ้งแปรรูปและอื่น</td>\n",
              "      <td>กุ้งขาวไว้หางแช่แข็ง ขนาด 67-77 ตัว/ถุง</td>\n",
              "      <td>159.0</td>\n",
              "      <td>ราคาต่อชิ้น(฿)</td>\n",
              "      <td>กุ้ง</td>\n",
              "      <td>ปลาและอาหารทะเล</td>\n",
              "      <td>2021-08-11</td>\n",
              "      <td>Wednesday</td>\n",
              "      <td>2021</td>\n",
              "      <td>August</td>\n",
              "      <td>makroclick</td>\n",
              "    </tr>\n",
              "    <tr>\n",
              "      <th>12</th>\n",
              "      <td>กุ้งแปรรูปและอื่น</td>\n",
              "      <td>เอโร่ เนื้อกุ้งขาวแช่แข็ง (จำนวน 160-194 ตัว/แ...</td>\n",
              "      <td>270.0</td>\n",
              "      <td>ราคาต่อชิ้น(฿)</td>\n",
              "      <td>กุ้ง</td>\n",
              "      <td>ปลาและอาหารทะเล</td>\n",
              "      <td>2021-08-11</td>\n",
              "      <td>Wednesday</td>\n",
              "      <td>2021</td>\n",
              "      <td>August</td>\n",
              "      <td>makroclick</td>\n",
              "    </tr>\n",
              "    <tr>\n",
              "      <th>13</th>\n",
              "      <td>กุ้งแปรรูปและอื่น</td>\n",
              "      <td>เซพแพ็ค กุ้งขาวไว้หางแช่แข็ง (48-54 ตัว/แพ็ค) ...</td>\n",
              "      <td>305.0</td>\n",
              "      <td>ราคาต่อชิ้น(฿)</td>\n",
              "      <td>กุ้ง</td>\n",
              "      <td>ปลาและอาหารทะเล</td>\n",
              "      <td>2021-08-11</td>\n",
              "      <td>Wednesday</td>\n",
              "      <td>2021</td>\n",
              "      <td>August</td>\n",
              "      <td>makroclick</td>\n",
              "    </tr>\n",
              "    <tr>\n",
              "      <th>14</th>\n",
              "      <td>กุ้งแปรรูปและอื่น</td>\n",
              "      <td>เอโร่ กุ้งขาวไว้หางแช่แข็ง (จำนวน 72-88 ตัว/แพ...</td>\n",
              "      <td>310.0</td>\n",
              "      <td>ราคาต่อชิ้น(฿)</td>\n",
              "      <td>กุ้ง</td>\n",
              "      <td>ปลาและอาหารทะเล</td>\n",
              "      <td>2021-08-11</td>\n",
              "      <td>Wednesday</td>\n",
              "      <td>2021</td>\n",
              "      <td>August</td>\n",
              "      <td>makroclick</td>\n",
              "    </tr>\n",
              "    <tr>\n",
              "      <th>15</th>\n",
              "      <td>กุ้งแปรรูปและอื่น</td>\n",
              "      <td>เซพแพ็ค กุ้งขาวไว้หางแช่แข็ง (จำนวน 32-38 ตัว/...</td>\n",
              "      <td>340.0</td>\n",
              "      <td>ราคาต่อชิ้น(฿)</td>\n",
              "      <td>กุ้ง</td>\n",
              "      <td>ปลาและอาหารทะเล</td>\n",
              "      <td>2021-08-11</td>\n",
              "      <td>Wednesday</td>\n",
              "      <td>2021</td>\n",
              "      <td>August</td>\n",
              "      <td>makroclick</td>\n",
              "    </tr>\n",
              "    <tr>\n",
              "      <th>16</th>\n",
              "      <td>กุ้งแปรรูปและอื่น</td>\n",
              "      <td>คิวเฟรช กุ้งซูชิอาเจนแช่แข็ง 4L x 10 ตัว</td>\n",
              "      <td>125.0</td>\n",
              "      <td>ราคาต่อชิ้น(฿)</td>\n",
              "      <td>กุ้ง</td>\n",
              "      <td>ปลาและอาหารทะเล</td>\n",
              "      <td>2021-08-11</td>\n",
              "      <td>Wednesday</td>\n",
              "      <td>2021</td>\n",
              "      <td>August</td>\n",
              "      <td>makroclick</td>\n",
              "    </tr>\n",
              "    <tr>\n",
              "      <th>18</th>\n",
              "      <td>กุ้งแปรรูปและอื่น</td>\n",
              "      <td>ซีพี กุ้งขาวทั้งตัวต้มสุกแช่แข็ง (ขนาด 26-35 ต...</td>\n",
              "      <td>299.0</td>\n",
              "      <td>ราคาต่อชิ้น(฿)</td>\n",
              "      <td>กุ้ง</td>\n",
              "      <td>ปลาและอาหารทะเล</td>\n",
              "      <td>2021-08-11</td>\n",
              "      <td>Wednesday</td>\n",
              "      <td>2021</td>\n",
              "      <td>August</td>\n",
              "      <td>makroclick</td>\n",
              "    </tr>\n",
              "    <tr>\n",
              "      <th>19</th>\n",
              "      <td>กุ้งแปรรูปและอื่น</td>\n",
              "      <td>กุ้งขาวไว้หางแช่แข็ง ขนาด 56-66 ตัว/ถุง</td>\n",
              "      <td>185.0</td>\n",
              "      <td>ราคาต่อชิ้น(฿)</td>\n",
              "      <td>กุ้ง</td>\n",
              "      <td>ปลาและอาหารทะเล</td>\n",
              "      <td>2021-08-11</td>\n",
              "      <td>Wednesday</td>\n",
              "      <td>2021</td>\n",
              "      <td>August</td>\n",
              "      <td>makroclick</td>\n",
              "    </tr>\n",
              "    <tr>\n",
              "      <th>20</th>\n",
              "      <td>กุ้งแปรรูปและอื่น</td>\n",
              "      <td>ซีพีแปซิฟิก กุ้งขาวดิบทั้งตัวแช่แข็ง (ขนาด 51-...</td>\n",
              "      <td>200.0</td>\n",
              "      <td>ราคาต่อชิ้น(฿)</td>\n",
              "      <td>กุ้ง</td>\n",
              "      <td>ปลาและอาหารทะเล</td>\n",
              "      <td>2021-08-11</td>\n",
              "      <td>Wednesday</td>\n",
              "      <td>2021</td>\n",
              "      <td>August</td>\n",
              "      <td>makroclick</td>\n",
              "    </tr>\n",
              "    <tr>\n",
              "      <th>21</th>\n",
              "      <td>กุ้งแปรรูปและอื่น</td>\n",
              "      <td>ซีพีแปซิฟิก กุ้งขาวดิบทั้งตัวแช่แข็ง (ขนาด 31-...</td>\n",
              "      <td>220.0</td>\n",
              "      <td>ราคาต่อชิ้น(฿)</td>\n",
              "      <td>กุ้ง</td>\n",
              "      <td>ปลาและอาหารทะเล</td>\n",
              "      <td>2021-08-11</td>\n",
              "      <td>Wednesday</td>\n",
              "      <td>2021</td>\n",
              "      <td>August</td>\n",
              "      <td>makroclick</td>\n",
              "    </tr>\n",
              "    <tr>\n",
              "      <th>22</th>\n",
              "      <td>กุ้งแปรรูปและอื่น</td>\n",
              "      <td>เซพแพ็ค กุ้งขาวไว้หางแช่แข็ง (63-85 ตัว/แพ็ค) ...</td>\n",
              "      <td>250.0</td>\n",
              "      <td>ราคาต่อชิ้น(฿)</td>\n",
              "      <td>กุ้ง</td>\n",
              "      <td>ปลาและอาหารทะเล</td>\n",
              "      <td>2021-08-11</td>\n",
              "      <td>Wednesday</td>\n",
              "      <td>2021</td>\n",
              "      <td>August</td>\n",
              "      <td>makroclick</td>\n",
              "    </tr>\n",
              "    <tr>\n",
              "      <th>23</th>\n",
              "      <td>กุ้งแปรรูปและอื่น</td>\n",
              "      <td>เอโร่ กุ้งขาวไว้หาง (90-106 ตัว/แพ็ค) 1000 กรัม</td>\n",
              "      <td>285.0</td>\n",
              "      <td>ราคาต่อชิ้น(฿)</td>\n",
              "      <td>กุ้ง</td>\n",
              "      <td>ปลาและอาหารทะเล</td>\n",
              "      <td>2021-08-11</td>\n",
              "      <td>Wednesday</td>\n",
              "      <td>2021</td>\n",
              "      <td>August</td>\n",
              "      <td>makroclick</td>\n",
              "    </tr>\n",
              "    <tr>\n",
              "      <th>24</th>\n",
              "      <td>กุ้งแปรรูปและอื่น</td>\n",
              "      <td>เซพแพ็ค เนื้อกุ้งขาวแช่แข็ง (จำนวน 92-123 ตัว/...</td>\n",
              "      <td>280.0</td>\n",
              "      <td>ราคาต่อชิ้น(฿)</td>\n",
              "      <td>กุ้ง</td>\n",
              "      <td>ปลาและอาหารทะเล</td>\n",
              "      <td>2021-08-11</td>\n",
              "      <td>Wednesday</td>\n",
              "      <td>2021</td>\n",
              "      <td>August</td>\n",
              "      <td>makroclick</td>\n",
              "    </tr>\n",
              "    <tr>\n",
              "      <th>25</th>\n",
              "      <td>กุ้งแปรรูปและอื่น</td>\n",
              "      <td>เอโร่ กุ้งขาวไว้หางไม่ปอกเปลือกผ่าหลังแช่แข็ง ...</td>\n",
              "      <td>285.0</td>\n",
              "      <td>ราคาต่อชิ้น(฿)</td>\n",
              "      <td>กุ้ง</td>\n",
              "      <td>ปลาและอาหารทะเล</td>\n",
              "      <td>2021-08-11</td>\n",
              "      <td>Wednesday</td>\n",
              "      <td>2021</td>\n",
              "      <td>August</td>\n",
              "      <td>makroclick</td>\n",
              "    </tr>\n",
              "    <tr>\n",
              "      <th>26</th>\n",
              "      <td>กุ้งแปรรูปและอื่น</td>\n",
              "      <td>คางกุ้งแช่แข็ง 1 กิโลกรัม</td>\n",
              "      <td>69.0</td>\n",
              "      <td>ราคาต่อชิ้น(฿)</td>\n",
              "      <td>กุ้ง</td>\n",
              "      <td>ปลาและอาหารทะเล</td>\n",
              "      <td>2021-08-11</td>\n",
              "      <td>Wednesday</td>\n",
              "      <td>2021</td>\n",
              "      <td>August</td>\n",
              "      <td>makroclick</td>\n",
              "    </tr>\n",
              "    <tr>\n",
              "      <th>27</th>\n",
              "      <td>กุ้งแปรรูปและอื่น</td>\n",
              "      <td>เอโร่ กุ้งขาวไว้หาง (55-70 ตัว/แพ็ค) 1000 กรัม</td>\n",
              "      <td>360.0</td>\n",
              "      <td>ราคาต่อชิ้น(฿)</td>\n",
              "      <td>กุ้ง</td>\n",
              "      <td>ปลาและอาหารทะเล</td>\n",
              "      <td>2021-08-11</td>\n",
              "      <td>Wednesday</td>\n",
              "      <td>2021</td>\n",
              "      <td>August</td>\n",
              "      <td>makroclick</td>\n",
              "    </tr>\n",
              "    <tr>\n",
              "      <th>28</th>\n",
              "      <td>กุ้งแปรรูปและอื่น</td>\n",
              "      <td>กุ้งขาวไว้หางแช่แข็ง ขนาด 45-55 ตัว-ถุง</td>\n",
              "      <td>190.0</td>\n",
              "      <td>ราคาต่อชิ้น(฿)</td>\n",
              "      <td>กุ้ง</td>\n",
              "      <td>ปลาและอาหารทะเล</td>\n",
              "      <td>2021-08-11</td>\n",
              "      <td>Wednesday</td>\n",
              "      <td>2021</td>\n",
              "      <td>August</td>\n",
              "      <td>makroclick</td>\n",
              "    </tr>\n",
              "    <tr>\n",
              "      <th>29</th>\n",
              "      <td>กุ้งแปรรูปและอื่น</td>\n",
              "      <td>เอโร่ กุ้งขาวไว้หาง (107-123 ตัว/แพ็ค) 1000 กรัม</td>\n",
              "      <td>270.0</td>\n",
              "      <td>ราคาต่อชิ้น(฿)</td>\n",
              "      <td>กุ้ง</td>\n",
              "      <td>ปลาและอาหารทะเล</td>\n",
              "      <td>2021-08-11</td>\n",
              "      <td>Wednesday</td>\n",
              "      <td>2021</td>\n",
              "      <td>August</td>\n",
              "      <td>makroclick</td>\n",
              "    </tr>\n",
              "    <tr>\n",
              "      <th>30</th>\n",
              "      <td>กุ้งแปรรูปและอื่น</td>\n",
              "      <td>เซพแพ็ค เนื้อกุ้งขาวแช่แข็ง (จำนวน 62-92 ตัว/แ...</td>\n",
              "      <td>290.0</td>\n",
              "      <td>ราคาต่อชิ้น(฿)</td>\n",
              "      <td>กุ้ง</td>\n",
              "      <td>ปลาและอาหารทะเล</td>\n",
              "      <td>2021-08-11</td>\n",
              "      <td>Wednesday</td>\n",
              "      <td>2021</td>\n",
              "      <td>August</td>\n",
              "      <td>makroclick</td>\n",
              "    </tr>\n",
              "    <tr>\n",
              "      <th>31</th>\n",
              "      <td>กุ้งแปรรูปและอื่น</td>\n",
              "      <td>เซพแพ็ค เนื้อกุ้งทะเลหักแช่แข็ง (123-308 ตัว/แ...</td>\n",
              "      <td>260.0</td>\n",
              "      <td>ราคาต่อชิ้น(฿)</td>\n",
              "      <td>กุ้ง</td>\n",
              "      <td>ปลาและอาหารทะเล</td>\n",
              "      <td>2021-08-11</td>\n",
              "      <td>Wednesday</td>\n",
              "      <td>2021</td>\n",
              "      <td>August</td>\n",
              "      <td>makroclick</td>\n",
              "    </tr>\n",
              "    <tr>\n",
              "      <th>32</th>\n",
              "      <td>กุ้งแปรรูปและอื่น</td>\n",
              "      <td>มันกุ้งขาวแช่แข็ง 500 กรัม</td>\n",
              "      <td>97.0</td>\n",
              "      <td>ราคาต่อชิ้น(฿)</td>\n",
              "      <td>กุ้ง</td>\n",
              "      <td>ปลาและอาหารทะเล</td>\n",
              "      <td>2021-08-11</td>\n",
              "      <td>Wednesday</td>\n",
              "      <td>2021</td>\n",
              "      <td>August</td>\n",
              "      <td>makroclick</td>\n",
              "    </tr>\n",
              "    <tr>\n",
              "      <th>33</th>\n",
              "      <td>หมึกแปรรูป</td>\n",
              "      <td>เนื้อหอยเชลล์แช่แข็ง (ขนาด 40-60 ตัว/ปอนด์) 1 กก.</td>\n",
              "      <td>265.0</td>\n",
              "      <td>ราคาต่อชิ้น(฿)</td>\n",
              "      <td>อาหารทะเลแปรรูป</td>\n",
              "      <td>ปลาและอาหารทะเล</td>\n",
              "      <td>2021-08-11</td>\n",
              "      <td>Wednesday</td>\n",
              "      <td>2021</td>\n",
              "      <td>August</td>\n",
              "      <td>makroclick</td>\n",
              "    </tr>\n",
              "    <tr>\n",
              "      <th>34</th>\n",
              "      <td>หมึกแปรรูป</td>\n",
              "      <td>พีทีเอ็น เนื้อหอยนางรมญี่ปุ่นชุบเกล็ดขนมปังแช่...</td>\n",
              "      <td>21.8</td>\n",
              "      <td>ราคาต่อชิ้น(฿)</td>\n",
              "      <td>อาหารทะเลแปรรูป</td>\n",
              "      <td>ปลาและอาหารทะเล</td>\n",
              "      <td>2021-08-11</td>\n",
              "      <td>Wednesday</td>\n",
              "      <td>2021</td>\n",
              "      <td>August</td>\n",
              "      <td>makroclick</td>\n",
              "    </tr>\n",
              "    <tr>\n",
              "      <th>35</th>\n",
              "      <td>ปูแปรรูป</td>\n",
              "      <td>ธนา หมึกหนังไหว้ ขนาด 9-11 นิ้ว</td>\n",
              "      <td>189.0</td>\n",
              "      <td>ราคาต่อชิ้น(฿)</td>\n",
              "      <td>อาหารทะเลแปรรูป</td>\n",
              "      <td>ปลาและอาหารทะเล</td>\n",
              "      <td>2021-08-11</td>\n",
              "      <td>Wednesday</td>\n",
              "      <td>2021</td>\n",
              "      <td>August</td>\n",
              "      <td>makroclick</td>\n",
              "    </tr>\n",
              "    <tr>\n",
              "      <th>36</th>\n",
              "      <td>กุ้งแปรรูป</td>\n",
              "      <td>คิวเฟรช เนื้อปลากะพงสไลซ์แช่แข็งพร้อมซอสมะขาม ...</td>\n",
              "      <td>285.0</td>\n",
              "      <td>ราคาต่อชิ้น(฿)</td>\n",
              "      <td>อาหารทะเลแปรรูป</td>\n",
              "      <td>ปลาและอาหารทะเล</td>\n",
              "      <td>2021-08-11</td>\n",
              "      <td>Wednesday</td>\n",
              "      <td>2021</td>\n",
              "      <td>August</td>\n",
              "      <td>makroclick</td>\n",
              "    </tr>\n",
              "  </tbody>\n",
              "</table>\n",
              "</div>"
            ],
            "text/plain": [
              "         sub source 2  ...      source\n",
              "0               ปลาสด  ...  makroclick\n",
              "1               ปลาสด  ...  makroclick\n",
              "2              กุ้งสด  ...  makroclick\n",
              "3              กุ้งสด  ...  makroclick\n",
              "4              กุ้งสด  ...  makroclick\n",
              "5              กุ้งสด  ...  makroclick\n",
              "6              กุ้งสด  ...  makroclick\n",
              "7              กุ้งสด  ...  makroclick\n",
              "8              กุ้งสด  ...  makroclick\n",
              "9   กุ้งแปรรูปและอื่น  ...  makroclick\n",
              "10  กุ้งแปรรูปและอื่น  ...  makroclick\n",
              "11  กุ้งแปรรูปและอื่น  ...  makroclick\n",
              "12  กุ้งแปรรูปและอื่น  ...  makroclick\n",
              "13  กุ้งแปรรูปและอื่น  ...  makroclick\n",
              "14  กุ้งแปรรูปและอื่น  ...  makroclick\n",
              "15  กุ้งแปรรูปและอื่น  ...  makroclick\n",
              "16  กุ้งแปรรูปและอื่น  ...  makroclick\n",
              "18  กุ้งแปรรูปและอื่น  ...  makroclick\n",
              "19  กุ้งแปรรูปและอื่น  ...  makroclick\n",
              "20  กุ้งแปรรูปและอื่น  ...  makroclick\n",
              "21  กุ้งแปรรูปและอื่น  ...  makroclick\n",
              "22  กุ้งแปรรูปและอื่น  ...  makroclick\n",
              "23  กุ้งแปรรูปและอื่น  ...  makroclick\n",
              "24  กุ้งแปรรูปและอื่น  ...  makroclick\n",
              "25  กุ้งแปรรูปและอื่น  ...  makroclick\n",
              "26  กุ้งแปรรูปและอื่น  ...  makroclick\n",
              "27  กุ้งแปรรูปและอื่น  ...  makroclick\n",
              "28  กุ้งแปรรูปและอื่น  ...  makroclick\n",
              "29  กุ้งแปรรูปและอื่น  ...  makroclick\n",
              "30  กุ้งแปรรูปและอื่น  ...  makroclick\n",
              "31  กุ้งแปรรูปและอื่น  ...  makroclick\n",
              "32  กุ้งแปรรูปและอื่น  ...  makroclick\n",
              "33         หมึกแปรรูป  ...  makroclick\n",
              "34         หมึกแปรรูป  ...  makroclick\n",
              "35           ปูแปรรูป  ...  makroclick\n",
              "36         กุ้งแปรรูป  ...  makroclick\n",
              "\n",
              "[36 rows x 11 columns]"
            ]
          },
          "metadata": {
            "tags": []
          },
          "execution_count": 237
        }
      ]
    },
    {
      "cell_type": "markdown",
      "metadata": {
        "id": "-PeWvYB_VxwB"
      },
      "source": [
        "# Makroclick ProcessMeat"
      ]
    },
    {
      "cell_type": "code",
      "metadata": {
        "colab": {
          "base_uri": "https://localhost:8080/"
        },
        "id": "xHMPGUJBiTpI",
        "outputId": "816e11c6-412b-4348-cb52-dd0554524fec"
      },
      "source": [
        "url = \"https://www.makroclick.com/th/category/processed-meat\"\n",
        "\n",
        "driver.get(url)\n",
        "time.sleep(10)\n",
        "\n",
        "element = driver.find_element_by_xpath('//*[@id=\"subcategoryCarouselSM\"]/div[1]/div')\n",
        "\n",
        "link = element.get_attribute('innerHTML')\n",
        "\n",
        "link_list = []\n",
        "for i in link.split('category')[1:]:\n",
        "  link_list.append(\"https://www.makroclick.com/th/category\"+i.split('\"')[0])\n",
        "\n",
        "link_list"
      ],
      "execution_count": 72,
      "outputs": [
        {
          "output_type": "execute_result",
          "data": {
            "text/plain": [
              "['https://www.makroclick.com/th/category/processed-meat/chilled-processed-meat',\n",
              " 'https://www.makroclick.com/th/category',\n",
              " 'https://www.makroclick.com/th/categoryCarousel__Text1line-sc-1iqrhgx-0 gOllCP',\n",
              " 'https://www.makroclick.com/th/category/processed-meat/dried-processed-meat',\n",
              " 'https://www.makroclick.com/th/category',\n",
              " 'https://www.makroclick.com/th/categoryCarousel__Text1line-sc-1iqrhgx-0 gOllCP']"
            ]
          },
          "metadata": {
            "tags": []
          },
          "execution_count": 72
        }
      ]
    },
    {
      "cell_type": "code",
      "metadata": {
        "id": "si0wGrwbjapJ"
      },
      "source": [
        "link_list_ = []\n",
        "for i in link_list:\n",
        "  if 'https://www.makroclick.com/th/category/processed-meat/' in i:\n",
        "    link_list_.append(i)"
      ],
      "execution_count": 73,
      "outputs": []
    },
    {
      "cell_type": "code",
      "metadata": {
        "colab": {
          "base_uri": "https://localhost:8080/"
        },
        "id": "Nh6fhreczm94",
        "outputId": "fd5ab7aa-4b59-443c-96ed-abe59059abbe"
      },
      "source": [
        "link_list_"
      ],
      "execution_count": 74,
      "outputs": [
        {
          "output_type": "execute_result",
          "data": {
            "text/plain": [
              "['https://www.makroclick.com/th/category/processed-meat/chilled-processed-meat',\n",
              " 'https://www.makroclick.com/th/category/processed-meat/dried-processed-meat']"
            ]
          },
          "metadata": {
            "tags": []
          },
          "execution_count": 74
        }
      ]
    },
    {
      "cell_type": "code",
      "metadata": {
        "colab": {
          "base_uri": "https://localhost:8080/"
        },
        "id": "KgnWDYHKzSJf",
        "outputId": "8e2a1b7b-6fd2-47ac-fcc5-1dac31e01c4e"
      },
      "source": [
        "link_listx = []\n",
        "for i in link_list_:\n",
        "  driver.get(i)\n",
        "  time.sleep(10)\n",
        "\n",
        "  try:\n",
        "    element = driver.find_element_by_xpath('//*[@id=\"subcategoryCarouselSM\"]/div[1]')\n",
        "    link = element.get_attribute('innerHTML')\n",
        "    link = link.split('><')\n",
        "\n",
        "    for j in link:\n",
        "      if 'href' in j:\n",
        "        link_listx.append(\"https://www.makroclick.com/th/category\"+j.split('category')[1].split('\"')[0]+\"?page=\")\n",
        "  except:\n",
        "    pass\n",
        "\n",
        "link_listx"
      ],
      "execution_count": 80,
      "outputs": [
        {
          "output_type": "execute_result",
          "data": {
            "text/plain": [
              "['https://www.makroclick.com/th/category/processed-meat/chilled-processed-meat/ham-sausage-bacon-salami?page=',\n",
              " 'https://www.makroclick.com/th/category/processed-meat/chilled-processed-meat/meatball?page=',\n",
              " 'https://www.makroclick.com/th/category/processed-meat/chilled-processed-meat/thai-sausage?page=',\n",
              " 'https://www.makroclick.com/th/category/processed-meat/dried-processed-meat/shredded-pork?page=',\n",
              " 'https://www.makroclick.com/th/category/processed-meat/dried-processed-meat/chinese-sausage?page=']"
            ]
          },
          "metadata": {
            "tags": []
          },
          "execution_count": 80
        }
      ]
    },
    {
      "cell_type": "code",
      "metadata": {
        "id": "dn1eNBoqXIYI"
      },
      "source": [
        "title = []\n",
        "sub_title = []\n",
        "\n",
        "for i in link_listx:\n",
        "  driver.get(i+'1')\n",
        "  time.sleep(10)\n",
        "\n",
        "  #try:\n",
        "  element1 = driver.find_element_by_xpath('//*[@id=\"categoryContainer\"]/div[2]/div[2]/div[1]/div/div[1]')\n",
        "  title.append(element1.get_attribute('innerText'))\n",
        "\n",
        "  element2 = driver.find_element_by_xpath('//*[@id=\"categoryContainer\"]/div[2]/div[2]/div[1]/div/div[2]/div/h1')\n",
        "  sub_title.append(element2.get_attribute('innerText'))\n",
        "\n",
        "    #element3 = driver.find_element_by_xpath('//*[@id=\"scrollPaginatorTop\"]/div[2]')\n",
        "    #content.append(element3.get_attribute('innerText'))\n",
        "  #except:\n",
        "    #content.append('')"
      ],
      "execution_count": 82,
      "outputs": []
    },
    {
      "cell_type": "code",
      "metadata": {
        "colab": {
          "base_uri": "https://localhost:8080/"
        },
        "id": "whXgmIy64pzB",
        "outputId": "e0468cc2-8d8e-4664-9259-37b70e7ccbad"
      },
      "source": [
        "title"
      ],
      "execution_count": 83,
      "outputs": [
        {
          "output_type": "execute_result",
          "data": {
            "text/plain": [
              "['หน้าแรก\\n»\\nผลิตภัณฑ์เนื้อสัตว์แปรรูป\\n»\\nผลิตภัณฑ์เนื้อสัตว์แปรรูปแช่เย็น',\n",
              " 'หน้าแรก\\n»\\nผลิตภัณฑ์เนื้อสัตว์แปรรูป\\n»\\nผลิตภัณฑ์เนื้อสัตว์แปรรูปแช่เย็น',\n",
              " 'หน้าแรก\\n»\\nผลิตภัณฑ์เนื้อสัตว์แปรรูป\\n»\\nผลิตภัณฑ์เนื้อสัตว์แปรรูปแช่เย็น',\n",
              " 'หน้าแรก\\n»\\nผลิตภัณฑ์เนื้อสัตว์แปรรูป\\n»\\nผลิตภัณฑ์เนื้อสัตว์แปรรูปแบบแห้ง',\n",
              " 'หน้าแรก\\n»\\nผลิตภัณฑ์เนื้อสัตว์แปรรูป\\n»\\nผลิตภัณฑ์เนื้อสัตว์แปรรูปแบบแห้ง']"
            ]
          },
          "metadata": {
            "tags": []
          },
          "execution_count": 83
        }
      ]
    },
    {
      "cell_type": "code",
      "metadata": {
        "colab": {
          "base_uri": "https://localhost:8080/"
        },
        "id": "4pinyF6Z4sem",
        "outputId": "d0135787-7667-4a13-8bde-6f68793b400a"
      },
      "source": [
        "sub_title"
      ],
      "execution_count": 84,
      "outputs": [
        {
          "output_type": "execute_result",
          "data": {
            "text/plain": [
              "['ผลิตภัณฑ์ แฮม ไส้กรอก เบคอน ซาลามี่',\n",
              " 'ผลิตภัณฑ์ ลูกชิ้น',\n",
              " 'ผลิตภัณฑ์ ผลิตภัณฑ์แหนม และยอ',\n",
              " 'ผลิตภัณฑ์ หมูหยอง',\n",
              " 'ผลิตภัณฑ์ กุนเชียง']"
            ]
          },
          "metadata": {
            "tags": []
          },
          "execution_count": 84
        }
      ]
    },
    {
      "cell_type": "code",
      "metadata": {
        "colab": {
          "base_uri": "https://localhost:8080/"
        },
        "id": "o-w094eB4Ouf",
        "outputId": "3344a215-ec96-43bd-f2fc-59a85cb523c0"
      },
      "source": [
        "content = []\n",
        "\n",
        "x = 1\n",
        "\n",
        "for i in link_listx:\n",
        "  contentx = '\\n\\n'\n",
        "  while True:\n",
        "    try:\n",
        "      print(i+str(x)+'&sorting=SORTING_LAST_UPDATE&all=true')\n",
        "      driver.get(i+str(x)+'&sorting=SORTING_LAST_UPDATE&all=true')\n",
        "      time.sleep(10)\n",
        "\n",
        "  #try:\n",
        "\n",
        "      element3 = driver.find_element_by_xpath('//*[@id=\"scrollPaginatorTop\"]/div[2]')\n",
        "      print(element3.get_attribute('innerText'))\n",
        "      contentx = contentx+element3.get_attribute('innerText')+'\\n\\n'\n",
        "      x = x+1\n",
        "    except:\n",
        "      x = 1\n",
        "      break\n",
        "    \n",
        "  #except:\n",
        "    #content.append('')\n",
        "  content.append(contentx)"
      ],
      "execution_count": 157,
      "outputs": [
        {
          "output_type": "stream",
          "text": [
            "https://www.makroclick.com/th/category/processed-meat/chilled-processed-meat/ham-sausage-bacon-salami?page=1&sorting=SORTING_LAST_UPDATE&all=true\n",
            "บีเคพี ไส้กรอกไก่ไส้ชีสต้นตำรับ 500 กรัม\n",
            "รหัสสินค้า 844498\n",
            "89.00 ฿\n",
            "ราคาต่อชิ้น  89.00 ฿\n",
            "\n",
            "จีเอสบี ไก่ถือธง คอกเทล 1000 กรัม\n",
            "รหัสสินค้า 101372\n",
            "57.00 ฿\n",
            "ราคาต่อชิ้น  57.00 ฿\n",
            "\n",
            "จีเอสบี ไก่ถือธง ไส้กรอกฮอทดอก 1000 กรัม\n",
            "รหัสสินค้า 101353\n",
            "57.00 ฿\n",
            "ราคาต่อชิ้น  57.00 ฿\n",
            "\n",
            "จีเอสบี ไส้กรอกฮอทดอกไก่รมควัน 1000 กรัม\n",
            "รหัสสินค้า 204368\n",
            "163.00 ฿\n",
            "ราคาต่อชิ้น  163.00 ฿\n",
            "\n",
            "จีเอสบี ไก่แผ่นสามชั้นรมควัน 500 กรัม\n",
            "รหัสสินค้า 851314\n",
            "85.00 ฿\n",
            "ราคาต่อชิ้น  85.00 ฿\n",
            "\n",
            "ซีพี โบโลน่าหมู 500 กรัม\n",
            "รหัสสินค้า 210783\n",
            "\n",
            "115.00 ฿\n",
            "\n",
            "-17%\n",
            "\n",
            "95.00 ฿\n",
            "ราคาต่อชิ้น  95.00 ฿\n",
            "\n",
            "ซูเปอร์ เชฟ โบโล่น่าพริก 450 กรัม\n",
            "รหัสสินค้า 224346\n",
            "69.00 ฿\n",
            "ราคาต่อชิ้น  69.00 ฿\n",
            "\n",
            "จีเอสบี ไก่แผ่นรมควัน 4x4 นิ้ว 1000 กรัม\n",
            "รหัสสินค้า 150711\n",
            "129.00 ฿\n",
            "ราคาต่อชิ้น  129.00 ฿\n",
            "\n",
            "ซีพี ไส้กรอกแฮม 1000 กรัม\n",
            "รหัสสินค้า 210780\n",
            "279.00 ฿\n",
            "ราคาต่อชิ้น  279.00 ฿\n",
            "\n",
            "ไก่ถือธง ไส้กรอกวิล 1000 กรัม\n",
            "รหัสสินค้า 101373\n",
            "77.00 ฿\n",
            "ราคาต่อชิ้น  77.00 ฿\n",
            "\n",
            "มีทซีโร่ โบโลน่าจากพืช รสพริก 90 กรัม x 3 แพ็ค\n",
            "รหัสสินค้า 894241\n",
            "95.00 ฿\n",
            "ราคาต่อชิ้น  31.67 ฿\n",
            "\n",
            "บีเคพี โบโลน่าไก่พริก 450 กรัม\n",
            "รหัสสินค้า 825430\n",
            "\n",
            "63.00 ฿\n",
            "\n",
            "-6%\n",
            "\n",
            "59.00 ฿\n",
            "ราคาต่อชิ้น  59.00 ฿\n",
            "\n",
            "บีเคพี ไส้กรอกสโมคกี้ไบท์ 1000 กรัม\n",
            "รหัสสินค้า 199014\n",
            "101.00 ฿\n",
            "ราคาต่อชิ้น  101.00 ฿\n",
            "\n",
            "จีเอสบี เวียนนารมควัน 4 นิ้ว 1000 กรัม\n",
            "รหัสสินค้า 104306\n",
            "153.00 ฿\n",
            "ราคาต่อชิ้น  153.00 ฿\n",
            "\n",
            "มีทซีโร่ โบโลน่าจากพืช รสออริจินัล 90 กรัม x 3 แพ็ค\n",
            "รหัสสินค้า 894239\n",
            "95.00 ฿\n",
            "ราคาต่อชิ้น  31.67 ฿\n",
            "\n",
            "บุชเชอร์ มาร์เบิ้ลเบคอน หมูผสมไก่บดสไลซ์รมควัน 500 กรัม\n",
            "รหัสสินค้า 896170\n",
            "135.00 ฿\n",
            "ราคาต่อชิ้น  135.00 ฿\n",
            "\n",
            "บุชเชอร์ ค็อกเทลบราทเวิร์สท 500 กรัม\n",
            "รหัสสินค้า 868741\n",
            "\n",
            "205.00 ฿\n",
            "\n",
            "-7%\n",
            "\n",
            "189.00 ฿\n",
            "ราคาต่อชิ้น  189.00 ฿\n",
            "\n",
            "เบทาโกร ไส้กรอกอะราบิกิ หมูผสมไก่ 3 นิ้ว 500 กรัม\n",
            "รหัสสินค้า 210027\n",
            "155.00 ฿\n",
            "ราคาต่อชิ้น  155.00 ฿\n",
            "\n",
            "จีเอสบี ไส้กรอกฮอทดอกเบรคฟัสหนังกรอบ 500 กรัม\n",
            "รหัสสินค้า 800374\n",
            "55.00 ฿\n",
            "ราคาต่อชิ้น  55.00 ฿\n",
            "\n",
            "ซีพี ชิคบอลรสไก่รมควันแช่แข็ง 800 กรัม\n",
            "รหัสสินค้า 865114\n",
            "199.00 ฿\n",
            "ราคาต่อชิ้น  199.00 ฿\n",
            "\n",
            "ซูเปอร์ เชฟ โบโล่น่า 450 กรัม\n",
            "รหัสสินค้า 224343\n",
            "69.00 ฿\n",
            "ราคาต่อชิ้น  69.00 ฿\n",
            "\n",
            "ซีพี โบโลน่าไก่สุพรีมสไปซี่ 400 กรัม\n",
            "รหัสสินค้า 838081\n",
            "\n",
            "85.00 ฿\n",
            "\n",
            "-7%\n",
            "\n",
            "79.00 ฿\n",
            "ราคาต่อชิ้น  79.00 ฿\n",
            "\n",
            "ซีพี โบโลน่าไก่สุพรีม 400 กรัม\n",
            "รหัสสินค้า 838077\n",
            "\n",
            "85.00 ฿\n",
            "\n",
            "-7%\n",
            "\n",
            "79.00 ฿\n",
            "ราคาต่อชิ้น  79.00 ฿\n",
            "\n",
            "ซีพี มินิคอกเทลแฮมเบค่อน 400 กรัม\n",
            "รหัสสินค้า 825795\n",
            "\n",
            "99.00 ฿\n",
            "\n",
            "-10%\n",
            "\n",
            "89.00 ฿\n",
            "ราคาต่อชิ้น  89.00 ฿\n",
            "\n",
            "ซูเปอร์ เชฟ ไส้กรอกไก่หนังกรอบ 500 กรัม\n",
            "รหัสสินค้า 227059\n",
            "\n",
            "67.00 ฿\n",
            "\n",
            "-11%\n",
            "\n",
            "59.00 ฿\n",
            "ราคาต่อชิ้น  59.00 ฿\n",
            "\n",
            "บุชเชอร์ แฮมขาหมูปรุงสุก ไม่มีกระดูก 700 กรัม\n",
            "รหัสสินค้า 214558\n",
            "\n",
            "279.00 ฿\n",
            "\n",
            "-7%\n",
            "\n",
            "259.00 ฿\n",
            "ราคาต่อชิ้น  259.00 ฿\n",
            "\n",
            "จีเอสบี ชุดไก่ปาร์ตี้เซ็ท 600 กรัม\n",
            "รหัสสินค้า 868371\n",
            "95.00 ฿\n",
            "ราคาต่อชิ้น  95.00 ฿\n",
            "\n",
            "จีเอสบี เบรคฟัสสตริปไก่ 500 กรัม\n",
            "รหัสสินค้า 868243\n",
            "75.00 ฿\n",
            "ราคาต่อชิ้น  75.00 ฿\n",
            "\n",
            "จีเอสบี เบรคฟัสไก่สไลซ์กลม 500 กรัม\n",
            "รหัสสินค้า 868241\n",
            "79.00 ฿\n",
            "ราคาต่อชิ้น  79.00 ฿\n",
            "\n",
            "จีเอสบี โบโลน่าไก่พริกสด 450 กรัม\n",
            "รหัสสินค้า 843028\n",
            "59.00 ฿\n",
            "ราคาต่อชิ้น  59.00 ฿\n",
            "\n",
            "จีเอสบี ไส้กรอกคอกเทลไก่รมควัน 500 กรัม\n",
            "รหัสสินค้า 204369\n",
            "79.00 ฿\n",
            "ราคาต่อชิ้น  79.00 ฿\n",
            "\n",
            "จีเอสบี ไส้กรอกไก่สอดไส้ชีส 500 กรัม\n",
            "รหัสสินค้า 814237\n",
            "72.00 ฿\n",
            "ราคาต่อชิ้น  72.00 ฿\n",
            "https://www.makroclick.com/th/category/processed-meat/chilled-processed-meat/ham-sausage-bacon-salami?page=2&sorting=SORTING_LAST_UPDATE&all=true\n",
            "เซพแพ็ค ไส้กรอกจัมโบ้รมควัน 1000 กรัม\n",
            "รหัสสินค้า 150839\n",
            "\n",
            "99.00 ฿\n",
            "\n",
            "-10%\n",
            "\n",
            "89.00 ฿\n",
            "ราคาต่อชิ้น  89.00 ฿\n",
            "\n",
            "จีเอสบี โบโลน่าไก่ 1000 กรัม\n",
            "รหัสสินค้า 843020\n",
            "115.00 ฿\n",
            "ราคาต่อชิ้น  115.00 ฿\n",
            "\n",
            "จีเอสบี ไส้กรอกชีสข้าวโพด 1000 กรัม\n",
            "รหัสสินค้า 118483\n",
            "109.00 ฿\n",
            "ราคาต่อชิ้น  109.00 ฿\n",
            "\n",
            "จีเอสบี คอกเทลปาร์ตี้ 500 กรัม\n",
            "รหัสสินค้า 853804\n",
            "89.00 ฿\n",
            "ราคาต่อชิ้น  89.00 ฿\n",
            "\n",
            "จีเอสบี บาโลน่าไก่ 1 กิโลกรัม\n",
            "รหัสสินค้า 150712\n",
            "69.00 ฿\n",
            "ราคาต่อชิ้น  69.00 ฿\n",
            "\n",
            "จีเอสบี ไส้กรอกมินิคอกเทลไก่ชีสซี่ 500 กรัม\n",
            "รหัสสินค้า 814238\n",
            "80.00 ฿\n",
            "ราคาต่อชิ้น  80.00 ฿\n",
            "\n",
            "จีเอสบี ไส้กรอกแฟรงค์สโมกกี้ 1000 กรัม\n",
            "รหัสสินค้า 118481\n",
            "99.00 ฿\n",
            "ราคาต่อชิ้น  99.00 ฿\n",
            "\n",
            "จีเอสบี ไส้กรอกเวียนนา 1000 กรัม\n",
            "รหัสสินค้า 101354\n",
            "59.00 ฿\n",
            "ราคาต่อชิ้น  59.00 ฿\n",
            "https://www.makroclick.com/th/category/processed-meat/chilled-processed-meat/ham-sausage-bacon-salami?page=3&sorting=SORTING_LAST_UPDATE&all=true\n",
            "https://www.makroclick.com/th/category/processed-meat/chilled-processed-meat/meatball?page=1&sorting=SORTING_LAST_UPDATE&all=true\n",
            "จีเอสบี ไก่ถือธง ลูกชิ้นไก่ 3000 กรัม\n",
            "รหัสสินค้า 152928\n",
            "165.00 ฿\n",
            "ราคาต่อชิ้น  165.00 ฿\n",
            "\n",
            "เอโร่ ลูกชิ้นไก่ 1000 กรัม\n",
            "รหัสสินค้า 204372\n",
            "99.00 ฿\n",
            "ราคาต่อชิ้น  99.00 ฿\n",
            "\n",
            "จีเอสบี ลูกชิ้นไก่รักบี้ 1000 กรัม\n",
            "รหัสสินค้า 868367\n",
            "82.00 ฿\n",
            "ราคาต่อชิ้น  82.00 ฿\n",
            "\n",
            "จีเอสบี ไก่ห่อเต้าหู้ทรงเครื่อง 500 กรัม\n",
            "รหัสสินค้า 853175\n",
            "60.00 ฿\n",
            "ราคาต่อชิ้น  60.00 ฿\n",
            "\n",
            "เอโร่ ลูกชิ้นสาหร่าย 1000 กรัม\n",
            "รหัสสินค้า 204394\n",
            "99.00 ฿\n",
            "ราคาต่อชิ้น  99.00 ฿\n",
            "\n",
            "จีเอสบี ลูกชิ้นสาหร่าย 1000 กรัม\n",
            "รหัสสินค้า 112250\n",
            "77.00 ฿\n",
            "ราคาต่อชิ้น  77.00 ฿\n",
            "\n",
            "จีเอสบี ลูกชิ้นไก่ 1000 กรัม\n",
            "รหัสสินค้า 101375\n",
            "63.00 ฿\n",
            "ราคาต่อชิ้น  63.00 ฿\n",
            "https://www.makroclick.com/th/category/processed-meat/chilled-processed-meat/meatball?page=2&sorting=SORTING_LAST_UPDATE&all=true\n",
            "https://www.makroclick.com/th/category/processed-meat/chilled-processed-meat/thai-sausage?page=1&sorting=SORTING_LAST_UPDATE&all=true\n",
            "ส.ขอนแก่น แหนมแท่งกลาง 120 กรัม x 2 แท่ง\n",
            "รหัสสินค้า 3419\n",
            "\n",
            "103.00 ฿\n",
            "\n",
            "-4%\n",
            "\n",
            "98.00 ฿\n",
            "ราคาต่อชิ้น  49.00 ฿\n",
            "\n",
            "จีเอสบี ไก่ยอแบบเส้นยาว 450 กรัม\n",
            "รหัสสินค้า 851316\n",
            "55.00 ฿\n",
            "ราคาต่อชิ้น  55.00 ฿\n",
            "\n",
            "จีเอสบี ไก่ยอสามสี 975 กรัม\n",
            "รหัสสินค้า 150713\n",
            "69.00 ฿\n",
            "ราคาต่อชิ้น  69.00 ฿\n",
            "\n",
            "จีเอสบี ไก่ยออุบล 500 กรัม\n",
            "รหัสสินค้า 868369\n",
            "65.00 ฿\n",
            "ราคาต่อชิ้น  65.00 ฿\n",
            "\n",
            "เอโร่ ไก่ยอ 450 กรัม\n",
            "รหัสสินค้า 832636\n",
            "53.00 ฿\n",
            "ราคาต่อชิ้น  53.00 ฿\n",
            "\n",
            "จีเอสบี ไก่ยอสูตรพริกไทยดำแบบเส้นยาว 450 กรัม\n",
            "รหัสสินค้า 843024\n",
            "55.00 ฿\n",
            "ราคาต่อชิ้น  55.00 ฿\n",
            "\n",
            "จีเอสบี ไก่ยอสูตรพริกไทยดำแบบแผ่น 480 กรัม\n",
            "รหัสสินค้า 843022\n",
            "59.00 ฿\n",
            "ราคาต่อชิ้น  59.00 ฿\n",
            "\n",
            "จีเอสบี ไก่ยอ 420 กรัม\n",
            "รหัสสินค้า 177727\n",
            "43.00 ฿\n",
            "ราคาต่อชิ้น  43.00 ฿\n",
            "https://www.makroclick.com/th/category/processed-meat/chilled-processed-meat/thai-sausage?page=2&sorting=SORTING_LAST_UPDATE&all=true\n",
            "https://www.makroclick.com/th/category/processed-meat/dried-processed-meat/shredded-pork?page=1&sorting=SORTING_LAST_UPDATE&all=true\n",
            "https://www.makroclick.com/th/category/processed-meat/dried-processed-meat/chinese-sausage?page=1&sorting=SORTING_LAST_UPDATE&all=true\n",
            "เจ้าสัว หมูแผ่นกรอบ 70 กรัม\n",
            "รหัสสินค้า 862038\n",
            "\n",
            "90.00 ฿\n",
            "\n",
            "-12%\n",
            "\n",
            "79.00 ฿\n",
            "ราคาต่อชิ้น  79.00 ฿\n",
            "https://www.makroclick.com/th/category/processed-meat/dried-processed-meat/chinese-sausage?page=2&sorting=SORTING_LAST_UPDATE&all=true\n"
          ],
          "name": "stdout"
        }
      ]
    },
    {
      "cell_type": "code",
      "metadata": {
        "id": "4fcxfc5QDdtP"
      },
      "source": [
        "contentx = []\n",
        "for i in content:\n",
        "  contentx.append(i[2:-2])"
      ],
      "execution_count": 168,
      "outputs": []
    },
    {
      "cell_type": "code",
      "metadata": {
        "colab": {
          "base_uri": "https://localhost:8080/"
        },
        "id": "2WcUoTknDoLw",
        "outputId": "ac8db826-f804-4908-ccdc-6e1b576e2052"
      },
      "source": [
        "contentx"
      ],
      "execution_count": 169,
      "outputs": [
        {
          "output_type": "execute_result",
          "data": {
            "text/plain": [
              "['บีเคพี ไส้กรอกไก่ไส้ชีสต้นตำรับ 500 กรัม\\nรหัสสินค้า 844498\\n89.00 ฿\\nราคาต่อชิ้น\\xa0 89.00 ฿\\n\\nจีเอสบี ไก่ถือธง คอกเทล 1000 กรัม\\nรหัสสินค้า 101372\\n57.00 ฿\\nราคาต่อชิ้น\\xa0 57.00 ฿\\n\\nจีเอสบี ไก่ถือธง ไส้กรอกฮอทดอก 1000 กรัม\\nรหัสสินค้า 101353\\n57.00 ฿\\nราคาต่อชิ้น\\xa0 57.00 ฿\\n\\nจีเอสบี ไส้กรอกฮอทดอกไก่รมควัน 1000 กรัม\\nรหัสสินค้า 204368\\n163.00 ฿\\nราคาต่อชิ้น\\xa0 163.00 ฿\\n\\nจีเอสบี ไก่แผ่นสามชั้นรมควัน 500 กรัม\\nรหัสสินค้า 851314\\n85.00 ฿\\nราคาต่อชิ้น\\xa0 85.00 ฿\\n\\nซีพี โบโลน่าหมู 500 กรัม\\nรหัสสินค้า 210783\\n\\n115.00 ฿\\n\\n-17%\\n\\n95.00 ฿\\nราคาต่อชิ้น\\xa0 95.00 ฿\\n\\nซูเปอร์ เชฟ โบโล่น่าพริก 450 กรัม\\nรหัสสินค้า 224346\\n69.00 ฿\\nราคาต่อชิ้น\\xa0 69.00 ฿\\n\\nจีเอสบี ไก่แผ่นรมควัน 4x4 นิ้ว 1000 กรัม\\nรหัสสินค้า 150711\\n129.00 ฿\\nราคาต่อชิ้น\\xa0 129.00 ฿\\n\\nซีพี ไส้กรอกแฮม 1000 กรัม\\nรหัสสินค้า 210780\\n279.00 ฿\\nราคาต่อชิ้น\\xa0 279.00 ฿\\n\\nไก่ถือธง ไส้กรอกวิล 1000 กรัม\\nรหัสสินค้า 101373\\n77.00 ฿\\nราคาต่อชิ้น\\xa0 77.00 ฿\\n\\nมีทซีโร่ โบโลน่าจากพืช รสพริก 90 กรัม x 3 แพ็ค\\nรหัสสินค้า 894241\\n95.00 ฿\\nราคาต่อชิ้น\\xa0 31.67 ฿\\n\\nบีเคพี โบโลน่าไก่พริก 450 กรัม\\nรหัสสินค้า 825430\\n\\n63.00 ฿\\n\\n-6%\\n\\n59.00 ฿\\nราคาต่อชิ้น\\xa0 59.00 ฿\\n\\nบีเคพี ไส้กรอกสโมคกี้ไบท์ 1000 กรัม\\nรหัสสินค้า 199014\\n101.00 ฿\\nราคาต่อชิ้น\\xa0 101.00 ฿\\n\\nจีเอสบี เวียนนารมควัน 4 นิ้ว 1000 กรัม\\nรหัสสินค้า 104306\\n153.00 ฿\\nราคาต่อชิ้น\\xa0 153.00 ฿\\n\\nมีทซีโร่ โบโลน่าจากพืช รสออริจินัล 90 กรัม x 3 แพ็ค\\nรหัสสินค้า 894239\\n95.00 ฿\\nราคาต่อชิ้น\\xa0 31.67 ฿\\n\\nบุชเชอร์ มาร์เบิ้ลเบคอน หมูผสมไก่บดสไลซ์รมควัน 500 กรัม\\nรหัสสินค้า 896170\\n135.00 ฿\\nราคาต่อชิ้น\\xa0 135.00 ฿\\n\\nบุชเชอร์ ค็อกเทลบราทเวิร์สท 500 กรัม\\nรหัสสินค้า 868741\\n\\n205.00 ฿\\n\\n-7%\\n\\n189.00 ฿\\nราคาต่อชิ้น\\xa0 189.00 ฿\\n\\nเบทาโกร ไส้กรอกอะราบิกิ หมูผสมไก่ 3 นิ้ว 500 กรัม\\nรหัสสินค้า 210027\\n155.00 ฿\\nราคาต่อชิ้น\\xa0 155.00 ฿\\n\\nจีเอสบี ไส้กรอกฮอทดอกเบรคฟัสหนังกรอบ 500 กรัม\\nรหัสสินค้า 800374\\n55.00 ฿\\nราคาต่อชิ้น\\xa0 55.00 ฿\\n\\nซีพี ชิคบอลรสไก่รมควันแช่แข็ง 800 กรัม\\nรหัสสินค้า 865114\\n199.00 ฿\\nราคาต่อชิ้น\\xa0 199.00 ฿\\n\\nซูเปอร์ เชฟ โบโล่น่า 450 กรัม\\nรหัสสินค้า 224343\\n69.00 ฿\\nราคาต่อชิ้น\\xa0 69.00 ฿\\n\\nซีพี โบโลน่าไก่สุพรีมสไปซี่ 400 กรัม\\nรหัสสินค้า 838081\\n\\n85.00 ฿\\n\\n-7%\\n\\n79.00 ฿\\nราคาต่อชิ้น\\xa0 79.00 ฿\\n\\nซีพี โบโลน่าไก่สุพรีม 400 กรัม\\nรหัสสินค้า 838077\\n\\n85.00 ฿\\n\\n-7%\\n\\n79.00 ฿\\nราคาต่อชิ้น\\xa0 79.00 ฿\\n\\nซีพี มินิคอกเทลแฮมเบค่อน 400 กรัม\\nรหัสสินค้า 825795\\n\\n99.00 ฿\\n\\n-10%\\n\\n89.00 ฿\\nราคาต่อชิ้น\\xa0 89.00 ฿\\n\\nซูเปอร์ เชฟ ไส้กรอกไก่หนังกรอบ 500 กรัม\\nรหัสสินค้า 227059\\n\\n67.00 ฿\\n\\n-11%\\n\\n59.00 ฿\\nราคาต่อชิ้น\\xa0 59.00 ฿\\n\\nบุชเชอร์ แฮมขาหมูปรุงสุก ไม่มีกระดูก 700 กรัม\\nรหัสสินค้า 214558\\n\\n279.00 ฿\\n\\n-7%\\n\\n259.00 ฿\\nราคาต่อชิ้น\\xa0 259.00 ฿\\n\\nจีเอสบี ชุดไก่ปาร์ตี้เซ็ท 600 กรัม\\nรหัสสินค้า 868371\\n95.00 ฿\\nราคาต่อชิ้น\\xa0 95.00 ฿\\n\\nจีเอสบี เบรคฟัสสตริปไก่ 500 กรัม\\nรหัสสินค้า 868243\\n75.00 ฿\\nราคาต่อชิ้น\\xa0 75.00 ฿\\n\\nจีเอสบี เบรคฟัสไก่สไลซ์กลม 500 กรัม\\nรหัสสินค้า 868241\\n79.00 ฿\\nราคาต่อชิ้น\\xa0 79.00 ฿\\n\\nจีเอสบี โบโลน่าไก่พริกสด 450 กรัม\\nรหัสสินค้า 843028\\n59.00 ฿\\nราคาต่อชิ้น\\xa0 59.00 ฿\\n\\nจีเอสบี ไส้กรอกคอกเทลไก่รมควัน 500 กรัม\\nรหัสสินค้า 204369\\n79.00 ฿\\nราคาต่อชิ้น\\xa0 79.00 ฿\\n\\nจีเอสบี ไส้กรอกไก่สอดไส้ชีส 500 กรัม\\nรหัสสินค้า 814237\\n72.00 ฿\\nราคาต่อชิ้น\\xa0 72.00 ฿\\n\\nเซพแพ็ค ไส้กรอกจัมโบ้รมควัน 1000 กรัม\\nรหัสสินค้า 150839\\n\\n99.00 ฿\\n\\n-10%\\n\\n89.00 ฿\\nราคาต่อชิ้น\\xa0 89.00 ฿\\n\\nจีเอสบี โบโลน่าไก่ 1000 กรัม\\nรหัสสินค้า 843020\\n115.00 ฿\\nราคาต่อชิ้น\\xa0 115.00 ฿\\n\\nจีเอสบี ไส้กรอกชีสข้าวโพด 1000 กรัม\\nรหัสสินค้า 118483\\n109.00 ฿\\nราคาต่อชิ้น\\xa0 109.00 ฿\\n\\nจีเอสบี คอกเทลปาร์ตี้ 500 กรัม\\nรหัสสินค้า 853804\\n89.00 ฿\\nราคาต่อชิ้น\\xa0 89.00 ฿\\n\\nจีเอสบี บาโลน่าไก่ 1 กิโลกรัม\\nรหัสสินค้า 150712\\n69.00 ฿\\nราคาต่อชิ้น\\xa0 69.00 ฿\\n\\nจีเอสบี ไส้กรอกมินิคอกเทลไก่ชีสซี่ 500 กรัม\\nรหัสสินค้า 814238\\n80.00 ฿\\nราคาต่อชิ้น\\xa0 80.00 ฿\\n\\nจีเอสบี ไส้กรอกแฟรงค์สโมกกี้ 1000 กรัม\\nรหัสสินค้า 118481\\n99.00 ฿\\nราคาต่อชิ้น\\xa0 99.00 ฿\\n\\nจีเอสบี ไส้กรอกเวียนนา 1000 กรัม\\nรหัสสินค้า 101354\\n59.00 ฿\\nราคาต่อชิ้น\\xa0 59.00 ฿',\n",
              " 'จีเอสบี ไก่ถือธง ลูกชิ้นไก่ 3000 กรัม\\nรหัสสินค้า 152928\\n165.00 ฿\\nราคาต่อชิ้น\\xa0 165.00 ฿\\n\\nเอโร่ ลูกชิ้นไก่ 1000 กรัม\\nรหัสสินค้า 204372\\n99.00 ฿\\nราคาต่อชิ้น\\xa0 99.00 ฿\\n\\nจีเอสบี ลูกชิ้นไก่รักบี้ 1000 กรัม\\nรหัสสินค้า 868367\\n82.00 ฿\\nราคาต่อชิ้น\\xa0 82.00 ฿\\n\\nจีเอสบี ไก่ห่อเต้าหู้ทรงเครื่อง 500 กรัม\\nรหัสสินค้า 853175\\n60.00 ฿\\nราคาต่อชิ้น\\xa0 60.00 ฿\\n\\nเอโร่ ลูกชิ้นสาหร่าย 1000 กรัม\\nรหัสสินค้า 204394\\n99.00 ฿\\nราคาต่อชิ้น\\xa0 99.00 ฿\\n\\nจีเอสบี ลูกชิ้นสาหร่าย 1000 กรัม\\nรหัสสินค้า 112250\\n77.00 ฿\\nราคาต่อชิ้น\\xa0 77.00 ฿\\n\\nจีเอสบี ลูกชิ้นไก่ 1000 กรัม\\nรหัสสินค้า 101375\\n63.00 ฿\\nราคาต่อชิ้น\\xa0 63.00 ฿',\n",
              " 'ส.ขอนแก่น แหนมแท่งกลาง 120 กรัม x 2 แท่ง\\nรหัสสินค้า 3419\\n\\n103.00 ฿\\n\\n-4%\\n\\n98.00 ฿\\nราคาต่อชิ้น\\xa0 49.00 ฿\\n\\nจีเอสบี ไก่ยอแบบเส้นยาว 450 กรัม\\nรหัสสินค้า 851316\\n55.00 ฿\\nราคาต่อชิ้น\\xa0 55.00 ฿\\n\\nจีเอสบี ไก่ยอสามสี 975 กรัม\\nรหัสสินค้า 150713\\n69.00 ฿\\nราคาต่อชิ้น\\xa0 69.00 ฿\\n\\nจีเอสบี ไก่ยออุบล 500 กรัม\\nรหัสสินค้า 868369\\n65.00 ฿\\nราคาต่อชิ้น\\xa0 65.00 ฿\\n\\nเอโร่ ไก่ยอ 450 กรัม\\nรหัสสินค้า 832636\\n53.00 ฿\\nราคาต่อชิ้น\\xa0 53.00 ฿\\n\\nจีเอสบี ไก่ยอสูตรพริกไทยดำแบบเส้นยาว 450 กรัม\\nรหัสสินค้า 843024\\n55.00 ฿\\nราคาต่อชิ้น\\xa0 55.00 ฿\\n\\nจีเอสบี ไก่ยอสูตรพริกไทยดำแบบแผ่น 480 กรัม\\nรหัสสินค้า 843022\\n59.00 ฿\\nราคาต่อชิ้น\\xa0 59.00 ฿\\n\\nจีเอสบี ไก่ยอ 420 กรัม\\nรหัสสินค้า 177727\\n43.00 ฿\\nราคาต่อชิ้น\\xa0 43.00 ฿',\n",
              " '',\n",
              " 'เจ้าสัว หมูแผ่นกรอบ 70 กรัม\\nรหัสสินค้า 862038\\n\\n90.00 ฿\\n\\n-12%\\n\\n79.00 ฿\\nราคาต่อชิ้น\\xa0 79.00 ฿']"
            ]
          },
          "metadata": {
            "tags": []
          },
          "execution_count": 169
        }
      ]
    },
    {
      "cell_type": "code",
      "metadata": {
        "id": "mf60lY-fXzZg"
      },
      "source": [
        "product_group = []\n",
        "sub_product_group1 = []\n",
        "for i in title:\n",
        "  product_group.append(i.split('\\n»\\n')[1])\n",
        "  try:\n",
        "    sub_product_group1.append(i.split('\\n»\\n')[2])\n",
        "  except:\n",
        "    sub_product_group1.append('')"
      ],
      "execution_count": 170,
      "outputs": []
    },
    {
      "cell_type": "code",
      "metadata": {
        "id": "s9NCX-usX2y7"
      },
      "source": [
        "sub_product_group2 = []\n",
        "for i in sub_title:\n",
        "  sub_product_group2.append(i.split(' ')[1])"
      ],
      "execution_count": 171,
      "outputs": []
    },
    {
      "cell_type": "code",
      "metadata": {
        "colab": {
          "base_uri": "https://localhost:8080/",
          "height": 173
        },
        "id": "UdF-ySTNX5xu",
        "outputId": "a21a5729-ecb2-48b9-e960-8e77718db550"
      },
      "source": [
        "df = pd.DataFrame(list(zip(sub_product_group2, sub_product_group1, product_group, contentx)),columns=['sub_product_group2', 'sub_product_group1', 'product_group', 'content'])\n",
        "df = df[df['content'] != '']\n",
        "df"
      ],
      "execution_count": 172,
      "outputs": [
        {
          "output_type": "execute_result",
          "data": {
            "text/html": [
              "<div>\n",
              "<style scoped>\n",
              "    .dataframe tbody tr th:only-of-type {\n",
              "        vertical-align: middle;\n",
              "    }\n",
              "\n",
              "    .dataframe tbody tr th {\n",
              "        vertical-align: top;\n",
              "    }\n",
              "\n",
              "    .dataframe thead th {\n",
              "        text-align: right;\n",
              "    }\n",
              "</style>\n",
              "<table border=\"1\" class=\"dataframe\">\n",
              "  <thead>\n",
              "    <tr style=\"text-align: right;\">\n",
              "      <th></th>\n",
              "      <th>sub_product_group2</th>\n",
              "      <th>sub_product_group1</th>\n",
              "      <th>product_group</th>\n",
              "      <th>content</th>\n",
              "    </tr>\n",
              "  </thead>\n",
              "  <tbody>\n",
              "    <tr>\n",
              "      <th>0</th>\n",
              "      <td>แฮม</td>\n",
              "      <td>ผลิตภัณฑ์เนื้อสัตว์แปรรูปแช่เย็น</td>\n",
              "      <td>ผลิตภัณฑ์เนื้อสัตว์แปรรูป</td>\n",
              "      <td>บีเคพี ไส้กรอกไก่ไส้ชีสต้นตำรับ 500 กรัม\\nรหัส...</td>\n",
              "    </tr>\n",
              "    <tr>\n",
              "      <th>1</th>\n",
              "      <td>ลูกชิ้น</td>\n",
              "      <td>ผลิตภัณฑ์เนื้อสัตว์แปรรูปแช่เย็น</td>\n",
              "      <td>ผลิตภัณฑ์เนื้อสัตว์แปรรูป</td>\n",
              "      <td>จีเอสบี ไก่ถือธง ลูกชิ้นไก่ 3000 กรัม\\nรหัสสิน...</td>\n",
              "    </tr>\n",
              "    <tr>\n",
              "      <th>2</th>\n",
              "      <td>ผลิตภัณฑ์แหนม</td>\n",
              "      <td>ผลิตภัณฑ์เนื้อสัตว์แปรรูปแช่เย็น</td>\n",
              "      <td>ผลิตภัณฑ์เนื้อสัตว์แปรรูป</td>\n",
              "      <td>ส.ขอนแก่น แหนมแท่งกลาง 120 กรัม x 2 แท่ง\\nรหัส...</td>\n",
              "    </tr>\n",
              "    <tr>\n",
              "      <th>4</th>\n",
              "      <td>กุนเชียง</td>\n",
              "      <td>ผลิตภัณฑ์เนื้อสัตว์แปรรูปแบบแห้ง</td>\n",
              "      <td>ผลิตภัณฑ์เนื้อสัตว์แปรรูป</td>\n",
              "      <td>เจ้าสัว หมูแผ่นกรอบ 70 กรัม\\nรหัสสินค้า 862038...</td>\n",
              "    </tr>\n",
              "  </tbody>\n",
              "</table>\n",
              "</div>"
            ],
            "text/plain": [
              "  sub_product_group2  ...                                            content\n",
              "0                แฮม  ...  บีเคพี ไส้กรอกไก่ไส้ชีสต้นตำรับ 500 กรัม\\nรหัส...\n",
              "1            ลูกชิ้น  ...  จีเอสบี ไก่ถือธง ลูกชิ้นไก่ 3000 กรัม\\nรหัสสิน...\n",
              "2      ผลิตภัณฑ์แหนม  ...  ส.ขอนแก่น แหนมแท่งกลาง 120 กรัม x 2 แท่ง\\nรหัส...\n",
              "4           กุนเชียง  ...  เจ้าสัว หมูแผ่นกรอบ 70 กรัม\\nรหัสสินค้า 862038...\n",
              "\n",
              "[4 rows x 4 columns]"
            ]
          },
          "metadata": {
            "tags": []
          },
          "execution_count": 172
        }
      ]
    },
    {
      "cell_type": "code",
      "metadata": {
        "colab": {
          "base_uri": "https://localhost:8080/",
          "height": 173
        },
        "id": "ols8S2zwgAqi",
        "outputId": "3430329a-2485-4ab5-d8fa-5b9dbc2e2d8f"
      },
      "source": [
        "df.loc[df['sub_product_group1']=='','sub_product_group1']=df['sub_product_group2']\n",
        "df"
      ],
      "execution_count": 173,
      "outputs": [
        {
          "output_type": "execute_result",
          "data": {
            "text/html": [
              "<div>\n",
              "<style scoped>\n",
              "    .dataframe tbody tr th:only-of-type {\n",
              "        vertical-align: middle;\n",
              "    }\n",
              "\n",
              "    .dataframe tbody tr th {\n",
              "        vertical-align: top;\n",
              "    }\n",
              "\n",
              "    .dataframe thead th {\n",
              "        text-align: right;\n",
              "    }\n",
              "</style>\n",
              "<table border=\"1\" class=\"dataframe\">\n",
              "  <thead>\n",
              "    <tr style=\"text-align: right;\">\n",
              "      <th></th>\n",
              "      <th>sub_product_group2</th>\n",
              "      <th>sub_product_group1</th>\n",
              "      <th>product_group</th>\n",
              "      <th>content</th>\n",
              "    </tr>\n",
              "  </thead>\n",
              "  <tbody>\n",
              "    <tr>\n",
              "      <th>0</th>\n",
              "      <td>แฮม</td>\n",
              "      <td>ผลิตภัณฑ์เนื้อสัตว์แปรรูปแช่เย็น</td>\n",
              "      <td>ผลิตภัณฑ์เนื้อสัตว์แปรรูป</td>\n",
              "      <td>บีเคพี ไส้กรอกไก่ไส้ชีสต้นตำรับ 500 กรัม\\nรหัส...</td>\n",
              "    </tr>\n",
              "    <tr>\n",
              "      <th>1</th>\n",
              "      <td>ลูกชิ้น</td>\n",
              "      <td>ผลิตภัณฑ์เนื้อสัตว์แปรรูปแช่เย็น</td>\n",
              "      <td>ผลิตภัณฑ์เนื้อสัตว์แปรรูป</td>\n",
              "      <td>จีเอสบี ไก่ถือธง ลูกชิ้นไก่ 3000 กรัม\\nรหัสสิน...</td>\n",
              "    </tr>\n",
              "    <tr>\n",
              "      <th>2</th>\n",
              "      <td>ผลิตภัณฑ์แหนม</td>\n",
              "      <td>ผลิตภัณฑ์เนื้อสัตว์แปรรูปแช่เย็น</td>\n",
              "      <td>ผลิตภัณฑ์เนื้อสัตว์แปรรูป</td>\n",
              "      <td>ส.ขอนแก่น แหนมแท่งกลาง 120 กรัม x 2 แท่ง\\nรหัส...</td>\n",
              "    </tr>\n",
              "    <tr>\n",
              "      <th>4</th>\n",
              "      <td>กุนเชียง</td>\n",
              "      <td>ผลิตภัณฑ์เนื้อสัตว์แปรรูปแบบแห้ง</td>\n",
              "      <td>ผลิตภัณฑ์เนื้อสัตว์แปรรูป</td>\n",
              "      <td>เจ้าสัว หมูแผ่นกรอบ 70 กรัม\\nรหัสสินค้า 862038...</td>\n",
              "    </tr>\n",
              "  </tbody>\n",
              "</table>\n",
              "</div>"
            ],
            "text/plain": [
              "  sub_product_group2  ...                                            content\n",
              "0                แฮม  ...  บีเคพี ไส้กรอกไก่ไส้ชีสต้นตำรับ 500 กรัม\\nรหัส...\n",
              "1            ลูกชิ้น  ...  จีเอสบี ไก่ถือธง ลูกชิ้นไก่ 3000 กรัม\\nรหัสสิน...\n",
              "2      ผลิตภัณฑ์แหนม  ...  ส.ขอนแก่น แหนมแท่งกลาง 120 กรัม x 2 แท่ง\\nรหัส...\n",
              "4           กุนเชียง  ...  เจ้าสัว หมูแผ่นกรอบ 70 กรัม\\nรหัสสินค้า 862038...\n",
              "\n",
              "[4 rows x 4 columns]"
            ]
          },
          "metadata": {
            "tags": []
          },
          "execution_count": 173
        }
      ]
    },
    {
      "cell_type": "code",
      "metadata": {
        "colab": {
          "base_uri": "https://localhost:8080/"
        },
        "id": "PZ1zEuNhgEzS",
        "outputId": "bc99ecdb-3c74-44ce-eff3-4584c036c7dd"
      },
      "source": [
        "content = list(df['content'])\n",
        "\n",
        "contentx = []\n",
        "for i in content:\n",
        "  contentx.append(i.replace('%\\n\\n','%\\n').replace('\\n\\n-','\\n-'))\n",
        "\n",
        "sub_product_group2 = list(df['sub_product_group2'])\n",
        "map = dict(zip(sub_product_group2,contentx))\n",
        "map"
      ],
      "execution_count": 174,
      "outputs": [
        {
          "output_type": "execute_result",
          "data": {
            "text/plain": [
              "{'กุนเชียง': 'เจ้าสัว หมูแผ่นกรอบ 70 กรัม\\nรหัสสินค้า 862038\\n\\n90.00 ฿\\n-12%\\n79.00 ฿\\nราคาต่อชิ้น\\xa0 79.00 ฿',\n",
              " 'ผลิตภัณฑ์แหนม': 'ส.ขอนแก่น แหนมแท่งกลาง 120 กรัม x 2 แท่ง\\nรหัสสินค้า 3419\\n\\n103.00 ฿\\n-4%\\n98.00 ฿\\nราคาต่อชิ้น\\xa0 49.00 ฿\\n\\nจีเอสบี ไก่ยอแบบเส้นยาว 450 กรัม\\nรหัสสินค้า 851316\\n55.00 ฿\\nราคาต่อชิ้น\\xa0 55.00 ฿\\n\\nจีเอสบี ไก่ยอสามสี 975 กรัม\\nรหัสสินค้า 150713\\n69.00 ฿\\nราคาต่อชิ้น\\xa0 69.00 ฿\\n\\nจีเอสบี ไก่ยออุบล 500 กรัม\\nรหัสสินค้า 868369\\n65.00 ฿\\nราคาต่อชิ้น\\xa0 65.00 ฿\\n\\nเอโร่ ไก่ยอ 450 กรัม\\nรหัสสินค้า 832636\\n53.00 ฿\\nราคาต่อชิ้น\\xa0 53.00 ฿\\n\\nจีเอสบี ไก่ยอสูตรพริกไทยดำแบบเส้นยาว 450 กรัม\\nรหัสสินค้า 843024\\n55.00 ฿\\nราคาต่อชิ้น\\xa0 55.00 ฿\\n\\nจีเอสบี ไก่ยอสูตรพริกไทยดำแบบแผ่น 480 กรัม\\nรหัสสินค้า 843022\\n59.00 ฿\\nราคาต่อชิ้น\\xa0 59.00 ฿\\n\\nจีเอสบี ไก่ยอ 420 กรัม\\nรหัสสินค้า 177727\\n43.00 ฿\\nราคาต่อชิ้น\\xa0 43.00 ฿',\n",
              " 'ลูกชิ้น': 'จีเอสบี ไก่ถือธง ลูกชิ้นไก่ 3000 กรัม\\nรหัสสินค้า 152928\\n165.00 ฿\\nราคาต่อชิ้น\\xa0 165.00 ฿\\n\\nเอโร่ ลูกชิ้นไก่ 1000 กรัม\\nรหัสสินค้า 204372\\n99.00 ฿\\nราคาต่อชิ้น\\xa0 99.00 ฿\\n\\nจีเอสบี ลูกชิ้นไก่รักบี้ 1000 กรัม\\nรหัสสินค้า 868367\\n82.00 ฿\\nราคาต่อชิ้น\\xa0 82.00 ฿\\n\\nจีเอสบี ไก่ห่อเต้าหู้ทรงเครื่อง 500 กรัม\\nรหัสสินค้า 853175\\n60.00 ฿\\nราคาต่อชิ้น\\xa0 60.00 ฿\\n\\nเอโร่ ลูกชิ้นสาหร่าย 1000 กรัม\\nรหัสสินค้า 204394\\n99.00 ฿\\nราคาต่อชิ้น\\xa0 99.00 ฿\\n\\nจีเอสบี ลูกชิ้นสาหร่าย 1000 กรัม\\nรหัสสินค้า 112250\\n77.00 ฿\\nราคาต่อชิ้น\\xa0 77.00 ฿\\n\\nจีเอสบี ลูกชิ้นไก่ 1000 กรัม\\nรหัสสินค้า 101375\\n63.00 ฿\\nราคาต่อชิ้น\\xa0 63.00 ฿',\n",
              " 'แฮม': 'บีเคพี ไส้กรอกไก่ไส้ชีสต้นตำรับ 500 กรัม\\nรหัสสินค้า 844498\\n89.00 ฿\\nราคาต่อชิ้น\\xa0 89.00 ฿\\n\\nจีเอสบี ไก่ถือธง คอกเทล 1000 กรัม\\nรหัสสินค้า 101372\\n57.00 ฿\\nราคาต่อชิ้น\\xa0 57.00 ฿\\n\\nจีเอสบี ไก่ถือธง ไส้กรอกฮอทดอก 1000 กรัม\\nรหัสสินค้า 101353\\n57.00 ฿\\nราคาต่อชิ้น\\xa0 57.00 ฿\\n\\nจีเอสบี ไส้กรอกฮอทดอกไก่รมควัน 1000 กรัม\\nรหัสสินค้า 204368\\n163.00 ฿\\nราคาต่อชิ้น\\xa0 163.00 ฿\\n\\nจีเอสบี ไก่แผ่นสามชั้นรมควัน 500 กรัม\\nรหัสสินค้า 851314\\n85.00 ฿\\nราคาต่อชิ้น\\xa0 85.00 ฿\\n\\nซีพี โบโลน่าหมู 500 กรัม\\nรหัสสินค้า 210783\\n\\n115.00 ฿\\n-17%\\n95.00 ฿\\nราคาต่อชิ้น\\xa0 95.00 ฿\\n\\nซูเปอร์ เชฟ โบโล่น่าพริก 450 กรัม\\nรหัสสินค้า 224346\\n69.00 ฿\\nราคาต่อชิ้น\\xa0 69.00 ฿\\n\\nจีเอสบี ไก่แผ่นรมควัน 4x4 นิ้ว 1000 กรัม\\nรหัสสินค้า 150711\\n129.00 ฿\\nราคาต่อชิ้น\\xa0 129.00 ฿\\n\\nซีพี ไส้กรอกแฮม 1000 กรัม\\nรหัสสินค้า 210780\\n279.00 ฿\\nราคาต่อชิ้น\\xa0 279.00 ฿\\n\\nไก่ถือธง ไส้กรอกวิล 1000 กรัม\\nรหัสสินค้า 101373\\n77.00 ฿\\nราคาต่อชิ้น\\xa0 77.00 ฿\\n\\nมีทซีโร่ โบโลน่าจากพืช รสพริก 90 กรัม x 3 แพ็ค\\nรหัสสินค้า 894241\\n95.00 ฿\\nราคาต่อชิ้น\\xa0 31.67 ฿\\n\\nบีเคพี โบโลน่าไก่พริก 450 กรัม\\nรหัสสินค้า 825430\\n\\n63.00 ฿\\n-6%\\n59.00 ฿\\nราคาต่อชิ้น\\xa0 59.00 ฿\\n\\nบีเคพี ไส้กรอกสโมคกี้ไบท์ 1000 กรัม\\nรหัสสินค้า 199014\\n101.00 ฿\\nราคาต่อชิ้น\\xa0 101.00 ฿\\n\\nจีเอสบี เวียนนารมควัน 4 นิ้ว 1000 กรัม\\nรหัสสินค้า 104306\\n153.00 ฿\\nราคาต่อชิ้น\\xa0 153.00 ฿\\n\\nมีทซีโร่ โบโลน่าจากพืช รสออริจินัล 90 กรัม x 3 แพ็ค\\nรหัสสินค้า 894239\\n95.00 ฿\\nราคาต่อชิ้น\\xa0 31.67 ฿\\n\\nบุชเชอร์ มาร์เบิ้ลเบคอน หมูผสมไก่บดสไลซ์รมควัน 500 กรัม\\nรหัสสินค้า 896170\\n135.00 ฿\\nราคาต่อชิ้น\\xa0 135.00 ฿\\n\\nบุชเชอร์ ค็อกเทลบราทเวิร์สท 500 กรัม\\nรหัสสินค้า 868741\\n\\n205.00 ฿\\n-7%\\n189.00 ฿\\nราคาต่อชิ้น\\xa0 189.00 ฿\\n\\nเบทาโกร ไส้กรอกอะราบิกิ หมูผสมไก่ 3 นิ้ว 500 กรัม\\nรหัสสินค้า 210027\\n155.00 ฿\\nราคาต่อชิ้น\\xa0 155.00 ฿\\n\\nจีเอสบี ไส้กรอกฮอทดอกเบรคฟัสหนังกรอบ 500 กรัม\\nรหัสสินค้า 800374\\n55.00 ฿\\nราคาต่อชิ้น\\xa0 55.00 ฿\\n\\nซีพี ชิคบอลรสไก่รมควันแช่แข็ง 800 กรัม\\nรหัสสินค้า 865114\\n199.00 ฿\\nราคาต่อชิ้น\\xa0 199.00 ฿\\n\\nซูเปอร์ เชฟ โบโล่น่า 450 กรัม\\nรหัสสินค้า 224343\\n69.00 ฿\\nราคาต่อชิ้น\\xa0 69.00 ฿\\n\\nซีพี โบโลน่าไก่สุพรีมสไปซี่ 400 กรัม\\nรหัสสินค้า 838081\\n\\n85.00 ฿\\n-7%\\n79.00 ฿\\nราคาต่อชิ้น\\xa0 79.00 ฿\\n\\nซีพี โบโลน่าไก่สุพรีม 400 กรัม\\nรหัสสินค้า 838077\\n\\n85.00 ฿\\n-7%\\n79.00 ฿\\nราคาต่อชิ้น\\xa0 79.00 ฿\\n\\nซีพี มินิคอกเทลแฮมเบค่อน 400 กรัม\\nรหัสสินค้า 825795\\n\\n99.00 ฿\\n-10%\\n89.00 ฿\\nราคาต่อชิ้น\\xa0 89.00 ฿\\n\\nซูเปอร์ เชฟ ไส้กรอกไก่หนังกรอบ 500 กรัม\\nรหัสสินค้า 227059\\n\\n67.00 ฿\\n-11%\\n59.00 ฿\\nราคาต่อชิ้น\\xa0 59.00 ฿\\n\\nบุชเชอร์ แฮมขาหมูปรุงสุก ไม่มีกระดูก 700 กรัม\\nรหัสสินค้า 214558\\n\\n279.00 ฿\\n-7%\\n259.00 ฿\\nราคาต่อชิ้น\\xa0 259.00 ฿\\n\\nจีเอสบี ชุดไก่ปาร์ตี้เซ็ท 600 กรัม\\nรหัสสินค้า 868371\\n95.00 ฿\\nราคาต่อชิ้น\\xa0 95.00 ฿\\n\\nจีเอสบี เบรคฟัสสตริปไก่ 500 กรัม\\nรหัสสินค้า 868243\\n75.00 ฿\\nราคาต่อชิ้น\\xa0 75.00 ฿\\n\\nจีเอสบี เบรคฟัสไก่สไลซ์กลม 500 กรัม\\nรหัสสินค้า 868241\\n79.00 ฿\\nราคาต่อชิ้น\\xa0 79.00 ฿\\n\\nจีเอสบี โบโลน่าไก่พริกสด 450 กรัม\\nรหัสสินค้า 843028\\n59.00 ฿\\nราคาต่อชิ้น\\xa0 59.00 ฿\\n\\nจีเอสบี ไส้กรอกคอกเทลไก่รมควัน 500 กรัม\\nรหัสสินค้า 204369\\n79.00 ฿\\nราคาต่อชิ้น\\xa0 79.00 ฿\\n\\nจีเอสบี ไส้กรอกไก่สอดไส้ชีส 500 กรัม\\nรหัสสินค้า 814237\\n72.00 ฿\\nราคาต่อชิ้น\\xa0 72.00 ฿\\n\\nเซพแพ็ค ไส้กรอกจัมโบ้รมควัน 1000 กรัม\\nรหัสสินค้า 150839\\n\\n99.00 ฿\\n-10%\\n89.00 ฿\\nราคาต่อชิ้น\\xa0 89.00 ฿\\n\\nจีเอสบี โบโลน่าไก่ 1000 กรัม\\nรหัสสินค้า 843020\\n115.00 ฿\\nราคาต่อชิ้น\\xa0 115.00 ฿\\n\\nจีเอสบี ไส้กรอกชีสข้าวโพด 1000 กรัม\\nรหัสสินค้า 118483\\n109.00 ฿\\nราคาต่อชิ้น\\xa0 109.00 ฿\\n\\nจีเอสบี คอกเทลปาร์ตี้ 500 กรัม\\nรหัสสินค้า 853804\\n89.00 ฿\\nราคาต่อชิ้น\\xa0 89.00 ฿\\n\\nจีเอสบี บาโลน่าไก่ 1 กิโลกรัม\\nรหัสสินค้า 150712\\n69.00 ฿\\nราคาต่อชิ้น\\xa0 69.00 ฿\\n\\nจีเอสบี ไส้กรอกมินิคอกเทลไก่ชีสซี่ 500 กรัม\\nรหัสสินค้า 814238\\n80.00 ฿\\nราคาต่อชิ้น\\xa0 80.00 ฿\\n\\nจีเอสบี ไส้กรอกแฟรงค์สโมกกี้ 1000 กรัม\\nรหัสสินค้า 118481\\n99.00 ฿\\nราคาต่อชิ้น\\xa0 99.00 ฿\\n\\nจีเอสบี ไส้กรอกเวียนนา 1000 กรัม\\nรหัสสินค้า 101354\\n59.00 ฿\\nราคาต่อชิ้น\\xa0 59.00 ฿'}"
            ]
          },
          "metadata": {
            "tags": []
          },
          "execution_count": 174
        }
      ]
    },
    {
      "cell_type": "code",
      "metadata": {
        "colab": {
          "base_uri": "https://localhost:8080/"
        },
        "id": "0n9qMD5agMBg",
        "outputId": "7ef75ca3-e49f-402b-a92b-090a8626e9db"
      },
      "source": [
        "mapp = dict()\n",
        "for i in map:\n",
        "  for j in range(len(map[i].split('\\n\\n'))):\n",
        "    #mapp[j] = i\n",
        "\n",
        "    if map[i].split('\\n\\n')[j][0].isdigit():\n",
        "      #print((i,map[i].split('\\n\\n')[j]))\n",
        "      pass\n",
        "    elif map[i].split('\\n\\n')[j][-1] != '฿':\n",
        "      #print(i,map[i].split('\\n\\n')[j]+map[i].split('\\n\\n')[j+1])\n",
        "      mapp[map[i].split('\\n\\n')[j]+map[i].split('\\n\\n')[j+1]] = i\n",
        "    else:\n",
        "      mapp[map[i].split('\\n\\n')[j]] = i\n",
        "mapp"
      ],
      "execution_count": 175,
      "outputs": [
        {
          "output_type": "execute_result",
          "data": {
            "text/plain": [
              "{'จีเอสบี คอกเทลปาร์ตี้ 500 กรัม\\nรหัสสินค้า 853804\\n89.00 ฿\\nราคาต่อชิ้น\\xa0 89.00 ฿': 'แฮม',\n",
              " 'จีเอสบี ชุดไก่ปาร์ตี้เซ็ท 600 กรัม\\nรหัสสินค้า 868371\\n95.00 ฿\\nราคาต่อชิ้น\\xa0 95.00 ฿': 'แฮม',\n",
              " 'จีเอสบี บาโลน่าไก่ 1 กิโลกรัม\\nรหัสสินค้า 150712\\n69.00 ฿\\nราคาต่อชิ้น\\xa0 69.00 ฿': 'แฮม',\n",
              " 'จีเอสบี ลูกชิ้นสาหร่าย 1000 กรัม\\nรหัสสินค้า 112250\\n77.00 ฿\\nราคาต่อชิ้น\\xa0 77.00 ฿': 'ลูกชิ้น',\n",
              " 'จีเอสบี ลูกชิ้นไก่ 1000 กรัม\\nรหัสสินค้า 101375\\n63.00 ฿\\nราคาต่อชิ้น\\xa0 63.00 ฿': 'ลูกชิ้น',\n",
              " 'จีเอสบี ลูกชิ้นไก่รักบี้ 1000 กรัม\\nรหัสสินค้า 868367\\n82.00 ฿\\nราคาต่อชิ้น\\xa0 82.00 ฿': 'ลูกชิ้น',\n",
              " 'จีเอสบี เบรคฟัสสตริปไก่ 500 กรัม\\nรหัสสินค้า 868243\\n75.00 ฿\\nราคาต่อชิ้น\\xa0 75.00 ฿': 'แฮม',\n",
              " 'จีเอสบี เบรคฟัสไก่สไลซ์กลม 500 กรัม\\nรหัสสินค้า 868241\\n79.00 ฿\\nราคาต่อชิ้น\\xa0 79.00 ฿': 'แฮม',\n",
              " 'จีเอสบี เวียนนารมควัน 4 นิ้ว 1000 กรัม\\nรหัสสินค้า 104306\\n153.00 ฿\\nราคาต่อชิ้น\\xa0 153.00 ฿': 'แฮม',\n",
              " 'จีเอสบี โบโลน่าไก่ 1000 กรัม\\nรหัสสินค้า 843020\\n115.00 ฿\\nราคาต่อชิ้น\\xa0 115.00 ฿': 'แฮม',\n",
              " 'จีเอสบี โบโลน่าไก่พริกสด 450 กรัม\\nรหัสสินค้า 843028\\n59.00 ฿\\nราคาต่อชิ้น\\xa0 59.00 ฿': 'แฮม',\n",
              " 'จีเอสบี ไก่ถือธง คอกเทล 1000 กรัม\\nรหัสสินค้า 101372\\n57.00 ฿\\nราคาต่อชิ้น\\xa0 57.00 ฿': 'แฮม',\n",
              " 'จีเอสบี ไก่ถือธง ลูกชิ้นไก่ 3000 กรัม\\nรหัสสินค้า 152928\\n165.00 ฿\\nราคาต่อชิ้น\\xa0 165.00 ฿': 'ลูกชิ้น',\n",
              " 'จีเอสบี ไก่ถือธง ไส้กรอกฮอทดอก 1000 กรัม\\nรหัสสินค้า 101353\\n57.00 ฿\\nราคาต่อชิ้น\\xa0 57.00 ฿': 'แฮม',\n",
              " 'จีเอสบี ไก่ยอ 420 กรัม\\nรหัสสินค้า 177727\\n43.00 ฿\\nราคาต่อชิ้น\\xa0 43.00 ฿': 'ผลิตภัณฑ์แหนม',\n",
              " 'จีเอสบี ไก่ยอสามสี 975 กรัม\\nรหัสสินค้า 150713\\n69.00 ฿\\nราคาต่อชิ้น\\xa0 69.00 ฿': 'ผลิตภัณฑ์แหนม',\n",
              " 'จีเอสบี ไก่ยอสูตรพริกไทยดำแบบเส้นยาว 450 กรัม\\nรหัสสินค้า 843024\\n55.00 ฿\\nราคาต่อชิ้น\\xa0 55.00 ฿': 'ผลิตภัณฑ์แหนม',\n",
              " 'จีเอสบี ไก่ยอสูตรพริกไทยดำแบบแผ่น 480 กรัม\\nรหัสสินค้า 843022\\n59.00 ฿\\nราคาต่อชิ้น\\xa0 59.00 ฿': 'ผลิตภัณฑ์แหนม',\n",
              " 'จีเอสบี ไก่ยออุบล 500 กรัม\\nรหัสสินค้า 868369\\n65.00 ฿\\nราคาต่อชิ้น\\xa0 65.00 ฿': 'ผลิตภัณฑ์แหนม',\n",
              " 'จีเอสบี ไก่ยอแบบเส้นยาว 450 กรัม\\nรหัสสินค้า 851316\\n55.00 ฿\\nราคาต่อชิ้น\\xa0 55.00 ฿': 'ผลิตภัณฑ์แหนม',\n",
              " 'จีเอสบี ไก่ห่อเต้าหู้ทรงเครื่อง 500 กรัม\\nรหัสสินค้า 853175\\n60.00 ฿\\nราคาต่อชิ้น\\xa0 60.00 ฿': 'ลูกชิ้น',\n",
              " 'จีเอสบี ไก่แผ่นรมควัน 4x4 นิ้ว 1000 กรัม\\nรหัสสินค้า 150711\\n129.00 ฿\\nราคาต่อชิ้น\\xa0 129.00 ฿': 'แฮม',\n",
              " 'จีเอสบี ไก่แผ่นสามชั้นรมควัน 500 กรัม\\nรหัสสินค้า 851314\\n85.00 ฿\\nราคาต่อชิ้น\\xa0 85.00 ฿': 'แฮม',\n",
              " 'จีเอสบี ไส้กรอกคอกเทลไก่รมควัน 500 กรัม\\nรหัสสินค้า 204369\\n79.00 ฿\\nราคาต่อชิ้น\\xa0 79.00 ฿': 'แฮม',\n",
              " 'จีเอสบี ไส้กรอกชีสข้าวโพด 1000 กรัม\\nรหัสสินค้า 118483\\n109.00 ฿\\nราคาต่อชิ้น\\xa0 109.00 ฿': 'แฮม',\n",
              " 'จีเอสบี ไส้กรอกมินิคอกเทลไก่ชีสซี่ 500 กรัม\\nรหัสสินค้า 814238\\n80.00 ฿\\nราคาต่อชิ้น\\xa0 80.00 ฿': 'แฮม',\n",
              " 'จีเอสบี ไส้กรอกฮอทดอกเบรคฟัสหนังกรอบ 500 กรัม\\nรหัสสินค้า 800374\\n55.00 ฿\\nราคาต่อชิ้น\\xa0 55.00 ฿': 'แฮม',\n",
              " 'จีเอสบี ไส้กรอกฮอทดอกไก่รมควัน 1000 กรัม\\nรหัสสินค้า 204368\\n163.00 ฿\\nราคาต่อชิ้น\\xa0 163.00 ฿': 'แฮม',\n",
              " 'จีเอสบี ไส้กรอกเวียนนา 1000 กรัม\\nรหัสสินค้า 101354\\n59.00 ฿\\nราคาต่อชิ้น\\xa0 59.00 ฿': 'แฮม',\n",
              " 'จีเอสบี ไส้กรอกแฟรงค์สโมกกี้ 1000 กรัม\\nรหัสสินค้า 118481\\n99.00 ฿\\nราคาต่อชิ้น\\xa0 99.00 ฿': 'แฮม',\n",
              " 'จีเอสบี ไส้กรอกไก่สอดไส้ชีส 500 กรัม\\nรหัสสินค้า 814237\\n72.00 ฿\\nราคาต่อชิ้น\\xa0 72.00 ฿': 'แฮม',\n",
              " 'ซีพี ชิคบอลรสไก่รมควันแช่แข็ง 800 กรัม\\nรหัสสินค้า 865114\\n199.00 ฿\\nราคาต่อชิ้น\\xa0 199.00 ฿': 'แฮม',\n",
              " 'ซีพี มินิคอกเทลแฮมเบค่อน 400 กรัม\\nรหัสสินค้า 82579599.00 ฿\\n-10%\\n89.00 ฿\\nราคาต่อชิ้น\\xa0 89.00 ฿': 'แฮม',\n",
              " 'ซีพี โบโลน่าหมู 500 กรัม\\nรหัสสินค้า 210783115.00 ฿\\n-17%\\n95.00 ฿\\nราคาต่อชิ้น\\xa0 95.00 ฿': 'แฮม',\n",
              " 'ซีพี โบโลน่าไก่สุพรีม 400 กรัม\\nรหัสสินค้า 83807785.00 ฿\\n-7%\\n79.00 ฿\\nราคาต่อชิ้น\\xa0 79.00 ฿': 'แฮม',\n",
              " 'ซีพี โบโลน่าไก่สุพรีมสไปซี่ 400 กรัม\\nรหัสสินค้า 83808185.00 ฿\\n-7%\\n79.00 ฿\\nราคาต่อชิ้น\\xa0 79.00 ฿': 'แฮม',\n",
              " 'ซีพี ไส้กรอกแฮม 1000 กรัม\\nรหัสสินค้า 210780\\n279.00 ฿\\nราคาต่อชิ้น\\xa0 279.00 ฿': 'แฮม',\n",
              " 'ซูเปอร์ เชฟ โบโล่น่า 450 กรัม\\nรหัสสินค้า 224343\\n69.00 ฿\\nราคาต่อชิ้น\\xa0 69.00 ฿': 'แฮม',\n",
              " 'ซูเปอร์ เชฟ โบโล่น่าพริก 450 กรัม\\nรหัสสินค้า 224346\\n69.00 ฿\\nราคาต่อชิ้น\\xa0 69.00 ฿': 'แฮม',\n",
              " 'ซูเปอร์ เชฟ ไส้กรอกไก่หนังกรอบ 500 กรัม\\nรหัสสินค้า 22705967.00 ฿\\n-11%\\n59.00 ฿\\nราคาต่อชิ้น\\xa0 59.00 ฿': 'แฮม',\n",
              " 'บีเคพี โบโลน่าไก่พริก 450 กรัม\\nรหัสสินค้า 82543063.00 ฿\\n-6%\\n59.00 ฿\\nราคาต่อชิ้น\\xa0 59.00 ฿': 'แฮม',\n",
              " 'บีเคพี ไส้กรอกสโมคกี้ไบท์ 1000 กรัม\\nรหัสสินค้า 199014\\n101.00 ฿\\nราคาต่อชิ้น\\xa0 101.00 ฿': 'แฮม',\n",
              " 'บีเคพี ไส้กรอกไก่ไส้ชีสต้นตำรับ 500 กรัม\\nรหัสสินค้า 844498\\n89.00 ฿\\nราคาต่อชิ้น\\xa0 89.00 ฿': 'แฮม',\n",
              " 'บุชเชอร์ ค็อกเทลบราทเวิร์สท 500 กรัม\\nรหัสสินค้า 868741205.00 ฿\\n-7%\\n189.00 ฿\\nราคาต่อชิ้น\\xa0 189.00 ฿': 'แฮม',\n",
              " 'บุชเชอร์ มาร์เบิ้ลเบคอน หมูผสมไก่บดสไลซ์รมควัน 500 กรัม\\nรหัสสินค้า 896170\\n135.00 ฿\\nราคาต่อชิ้น\\xa0 135.00 ฿': 'แฮม',\n",
              " 'บุชเชอร์ แฮมขาหมูปรุงสุก ไม่มีกระดูก 700 กรัม\\nรหัสสินค้า 214558279.00 ฿\\n-7%\\n259.00 ฿\\nราคาต่อชิ้น\\xa0 259.00 ฿': 'แฮม',\n",
              " 'มีทซีโร่ โบโลน่าจากพืช รสพริก 90 กรัม x 3 แพ็ค\\nรหัสสินค้า 894241\\n95.00 ฿\\nราคาต่อชิ้น\\xa0 31.67 ฿': 'แฮม',\n",
              " 'มีทซีโร่ โบโลน่าจากพืช รสออริจินัล 90 กรัม x 3 แพ็ค\\nรหัสสินค้า 894239\\n95.00 ฿\\nราคาต่อชิ้น\\xa0 31.67 ฿': 'แฮม',\n",
              " 'ส.ขอนแก่น แหนมแท่งกลาง 120 กรัม x 2 แท่ง\\nรหัสสินค้า 3419103.00 ฿\\n-4%\\n98.00 ฿\\nราคาต่อชิ้น\\xa0 49.00 ฿': 'ผลิตภัณฑ์แหนม',\n",
              " 'เจ้าสัว หมูแผ่นกรอบ 70 กรัม\\nรหัสสินค้า 86203890.00 ฿\\n-12%\\n79.00 ฿\\nราคาต่อชิ้น\\xa0 79.00 ฿': 'กุนเชียง',\n",
              " 'เซพแพ็ค ไส้กรอกจัมโบ้รมควัน 1000 กรัม\\nรหัสสินค้า 15083999.00 ฿\\n-10%\\n89.00 ฿\\nราคาต่อชิ้น\\xa0 89.00 ฿': 'แฮม',\n",
              " 'เบทาโกร ไส้กรอกอะราบิกิ หมูผสมไก่ 3 นิ้ว 500 กรัม\\nรหัสสินค้า 210027\\n155.00 ฿\\nราคาต่อชิ้น\\xa0 155.00 ฿': 'แฮม',\n",
              " 'เอโร่ ลูกชิ้นสาหร่าย 1000 กรัม\\nรหัสสินค้า 204394\\n99.00 ฿\\nราคาต่อชิ้น\\xa0 99.00 ฿': 'ลูกชิ้น',\n",
              " 'เอโร่ ลูกชิ้นไก่ 1000 กรัม\\nรหัสสินค้า 204372\\n99.00 ฿\\nราคาต่อชิ้น\\xa0 99.00 ฿': 'ลูกชิ้น',\n",
              " 'เอโร่ ไก่ยอ 450 กรัม\\nรหัสสินค้า 832636\\n53.00 ฿\\nราคาต่อชิ้น\\xa0 53.00 ฿': 'ผลิตภัณฑ์แหนม',\n",
              " 'ไก่ถือธง ไส้กรอกวิล 1000 กรัม\\nรหัสสินค้า 101373\\n77.00 ฿\\nราคาต่อชิ้น\\xa0 77.00 ฿': 'แฮม'}"
            ]
          },
          "metadata": {
            "tags": []
          },
          "execution_count": 175
        }
      ]
    },
    {
      "cell_type": "code",
      "metadata": {
        "id": "55io-PUhgSqP"
      },
      "source": [
        "product = []\n",
        "price = []\n",
        "sub_product_group2 = []\n",
        "\n",
        "for i in mapp:\n",
        "  #print(i.replace('\\xa0','').split('\\n'),mapp[i],len(i.replace('\\xa0','').split('\\n')))\n",
        "  #if len(i.replace('\\xa0','').split('\\n')) == 5:\n",
        "  #  print(i.replace('\\xa0','').split('\\n'),mapp[i],len(i.replace('\\xa0','').split('\\n')))\n",
        "  product.append(i.replace('\\xa0','').split('\\n')[0])\n",
        "  price.append(i.replace('\\xa0','').split('\\n')[-1])\n",
        "  sub_product_group2.append(mapp[i])"
      ],
      "execution_count": 176,
      "outputs": []
    },
    {
      "cell_type": "code",
      "metadata": {
        "colab": {
          "base_uri": "https://localhost:8080/"
        },
        "id": "hagNSp9-gXvt",
        "outputId": "c91273ac-be37-4f26-96f0-94aeb1907e77"
      },
      "source": [
        "pricex = []\n",
        "unit = []\n",
        "for i in price:\n",
        "  print(i.split(' '))\n",
        "  pricex.append(i.split(' ')[1])\n",
        "  unit.append(i.split(' ')[0]+\"(\"+i.split(' ')[2]+\")\")"
      ],
      "execution_count": 177,
      "outputs": [
        {
          "output_type": "stream",
          "text": [
            "['ราคาต่อชิ้น', '89.00', '฿']\n",
            "['ราคาต่อชิ้น', '57.00', '฿']\n",
            "['ราคาต่อชิ้น', '57.00', '฿']\n",
            "['ราคาต่อชิ้น', '163.00', '฿']\n",
            "['ราคาต่อชิ้น', '85.00', '฿']\n",
            "['ราคาต่อชิ้น', '95.00', '฿']\n",
            "['ราคาต่อชิ้น', '69.00', '฿']\n",
            "['ราคาต่อชิ้น', '129.00', '฿']\n",
            "['ราคาต่อชิ้น', '279.00', '฿']\n",
            "['ราคาต่อชิ้น', '77.00', '฿']\n",
            "['ราคาต่อชิ้น', '31.67', '฿']\n",
            "['ราคาต่อชิ้น', '59.00', '฿']\n",
            "['ราคาต่อชิ้น', '101.00', '฿']\n",
            "['ราคาต่อชิ้น', '153.00', '฿']\n",
            "['ราคาต่อชิ้น', '31.67', '฿']\n",
            "['ราคาต่อชิ้น', '135.00', '฿']\n",
            "['ราคาต่อชิ้น', '189.00', '฿']\n",
            "['ราคาต่อชิ้น', '155.00', '฿']\n",
            "['ราคาต่อชิ้น', '55.00', '฿']\n",
            "['ราคาต่อชิ้น', '199.00', '฿']\n",
            "['ราคาต่อชิ้น', '69.00', '฿']\n",
            "['ราคาต่อชิ้น', '79.00', '฿']\n",
            "['ราคาต่อชิ้น', '79.00', '฿']\n",
            "['ราคาต่อชิ้น', '89.00', '฿']\n",
            "['ราคาต่อชิ้น', '59.00', '฿']\n",
            "['ราคาต่อชิ้น', '259.00', '฿']\n",
            "['ราคาต่อชิ้น', '95.00', '฿']\n",
            "['ราคาต่อชิ้น', '75.00', '฿']\n",
            "['ราคาต่อชิ้น', '79.00', '฿']\n",
            "['ราคาต่อชิ้น', '59.00', '฿']\n",
            "['ราคาต่อชิ้น', '79.00', '฿']\n",
            "['ราคาต่อชิ้น', '72.00', '฿']\n",
            "['ราคาต่อชิ้น', '89.00', '฿']\n",
            "['ราคาต่อชิ้น', '115.00', '฿']\n",
            "['ราคาต่อชิ้น', '109.00', '฿']\n",
            "['ราคาต่อชิ้น', '89.00', '฿']\n",
            "['ราคาต่อชิ้น', '69.00', '฿']\n",
            "['ราคาต่อชิ้น', '80.00', '฿']\n",
            "['ราคาต่อชิ้น', '99.00', '฿']\n",
            "['ราคาต่อชิ้น', '59.00', '฿']\n",
            "['ราคาต่อชิ้น', '165.00', '฿']\n",
            "['ราคาต่อชิ้น', '99.00', '฿']\n",
            "['ราคาต่อชิ้น', '82.00', '฿']\n",
            "['ราคาต่อชิ้น', '60.00', '฿']\n",
            "['ราคาต่อชิ้น', '99.00', '฿']\n",
            "['ราคาต่อชิ้น', '77.00', '฿']\n",
            "['ราคาต่อชิ้น', '63.00', '฿']\n",
            "['ราคาต่อชิ้น', '49.00', '฿']\n",
            "['ราคาต่อชิ้น', '55.00', '฿']\n",
            "['ราคาต่อชิ้น', '69.00', '฿']\n",
            "['ราคาต่อชิ้น', '65.00', '฿']\n",
            "['ราคาต่อชิ้น', '53.00', '฿']\n",
            "['ราคาต่อชิ้น', '55.00', '฿']\n",
            "['ราคาต่อชิ้น', '59.00', '฿']\n",
            "['ราคาต่อชิ้น', '43.00', '฿']\n",
            "['ราคาต่อชิ้น', '79.00', '฿']\n"
          ],
          "name": "stdout"
        }
      ]
    },
    {
      "cell_type": "code",
      "metadata": {
        "colab": {
          "base_uri": "https://localhost:8080/",
          "height": 1000
        },
        "id": "VOtiRbubgdGI",
        "outputId": "d938f6b2-9c3d-4830-cdb2-67590fa8c319"
      },
      "source": [
        "df2 = pd.DataFrame(list(zip(sub_product_group2, product, pricex, unit)),columns=['sub_product_group2', 'product', 'price', 'unit'])\n",
        "df2['price'] = pd.to_numeric(df2['price'],errors = 'coerce')\n",
        "df2"
      ],
      "execution_count": 178,
      "outputs": [
        {
          "output_type": "execute_result",
          "data": {
            "text/html": [
              "<div>\n",
              "<style scoped>\n",
              "    .dataframe tbody tr th:only-of-type {\n",
              "        vertical-align: middle;\n",
              "    }\n",
              "\n",
              "    .dataframe tbody tr th {\n",
              "        vertical-align: top;\n",
              "    }\n",
              "\n",
              "    .dataframe thead th {\n",
              "        text-align: right;\n",
              "    }\n",
              "</style>\n",
              "<table border=\"1\" class=\"dataframe\">\n",
              "  <thead>\n",
              "    <tr style=\"text-align: right;\">\n",
              "      <th></th>\n",
              "      <th>sub_product_group2</th>\n",
              "      <th>product</th>\n",
              "      <th>price</th>\n",
              "      <th>unit</th>\n",
              "    </tr>\n",
              "  </thead>\n",
              "  <tbody>\n",
              "    <tr>\n",
              "      <th>0</th>\n",
              "      <td>แฮม</td>\n",
              "      <td>บีเคพี ไส้กรอกไก่ไส้ชีสต้นตำรับ 500 กรัม</td>\n",
              "      <td>89.00</td>\n",
              "      <td>ราคาต่อชิ้น(฿)</td>\n",
              "    </tr>\n",
              "    <tr>\n",
              "      <th>1</th>\n",
              "      <td>แฮม</td>\n",
              "      <td>จีเอสบี ไก่ถือธง คอกเทล 1000 กรัม</td>\n",
              "      <td>57.00</td>\n",
              "      <td>ราคาต่อชิ้น(฿)</td>\n",
              "    </tr>\n",
              "    <tr>\n",
              "      <th>2</th>\n",
              "      <td>แฮม</td>\n",
              "      <td>จีเอสบี ไก่ถือธง ไส้กรอกฮอทดอก 1000 กรัม</td>\n",
              "      <td>57.00</td>\n",
              "      <td>ราคาต่อชิ้น(฿)</td>\n",
              "    </tr>\n",
              "    <tr>\n",
              "      <th>3</th>\n",
              "      <td>แฮม</td>\n",
              "      <td>จีเอสบี ไส้กรอกฮอทดอกไก่รมควัน 1000 กรัม</td>\n",
              "      <td>163.00</td>\n",
              "      <td>ราคาต่อชิ้น(฿)</td>\n",
              "    </tr>\n",
              "    <tr>\n",
              "      <th>4</th>\n",
              "      <td>แฮม</td>\n",
              "      <td>จีเอสบี ไก่แผ่นสามชั้นรมควัน 500 กรัม</td>\n",
              "      <td>85.00</td>\n",
              "      <td>ราคาต่อชิ้น(฿)</td>\n",
              "    </tr>\n",
              "    <tr>\n",
              "      <th>5</th>\n",
              "      <td>แฮม</td>\n",
              "      <td>ซีพี โบโลน่าหมู 500 กรัม</td>\n",
              "      <td>95.00</td>\n",
              "      <td>ราคาต่อชิ้น(฿)</td>\n",
              "    </tr>\n",
              "    <tr>\n",
              "      <th>6</th>\n",
              "      <td>แฮม</td>\n",
              "      <td>ซูเปอร์ เชฟ โบโล่น่าพริก 450 กรัม</td>\n",
              "      <td>69.00</td>\n",
              "      <td>ราคาต่อชิ้น(฿)</td>\n",
              "    </tr>\n",
              "    <tr>\n",
              "      <th>7</th>\n",
              "      <td>แฮม</td>\n",
              "      <td>จีเอสบี ไก่แผ่นรมควัน 4x4 นิ้ว 1000 กรัม</td>\n",
              "      <td>129.00</td>\n",
              "      <td>ราคาต่อชิ้น(฿)</td>\n",
              "    </tr>\n",
              "    <tr>\n",
              "      <th>8</th>\n",
              "      <td>แฮม</td>\n",
              "      <td>ซีพี ไส้กรอกแฮม 1000 กรัม</td>\n",
              "      <td>279.00</td>\n",
              "      <td>ราคาต่อชิ้น(฿)</td>\n",
              "    </tr>\n",
              "    <tr>\n",
              "      <th>9</th>\n",
              "      <td>แฮม</td>\n",
              "      <td>ไก่ถือธง ไส้กรอกวิล 1000 กรัม</td>\n",
              "      <td>77.00</td>\n",
              "      <td>ราคาต่อชิ้น(฿)</td>\n",
              "    </tr>\n",
              "    <tr>\n",
              "      <th>10</th>\n",
              "      <td>แฮม</td>\n",
              "      <td>มีทซีโร่ โบโลน่าจากพืช รสพริก 90 กรัม x 3 แพ็ค</td>\n",
              "      <td>31.67</td>\n",
              "      <td>ราคาต่อชิ้น(฿)</td>\n",
              "    </tr>\n",
              "    <tr>\n",
              "      <th>11</th>\n",
              "      <td>แฮม</td>\n",
              "      <td>บีเคพี โบโลน่าไก่พริก 450 กรัม</td>\n",
              "      <td>59.00</td>\n",
              "      <td>ราคาต่อชิ้น(฿)</td>\n",
              "    </tr>\n",
              "    <tr>\n",
              "      <th>12</th>\n",
              "      <td>แฮม</td>\n",
              "      <td>บีเคพี ไส้กรอกสโมคกี้ไบท์ 1000 กรัม</td>\n",
              "      <td>101.00</td>\n",
              "      <td>ราคาต่อชิ้น(฿)</td>\n",
              "    </tr>\n",
              "    <tr>\n",
              "      <th>13</th>\n",
              "      <td>แฮม</td>\n",
              "      <td>จีเอสบี เวียนนารมควัน 4 นิ้ว 1000 กรัม</td>\n",
              "      <td>153.00</td>\n",
              "      <td>ราคาต่อชิ้น(฿)</td>\n",
              "    </tr>\n",
              "    <tr>\n",
              "      <th>14</th>\n",
              "      <td>แฮม</td>\n",
              "      <td>มีทซีโร่ โบโลน่าจากพืช รสออริจินัล 90 กรัม x 3...</td>\n",
              "      <td>31.67</td>\n",
              "      <td>ราคาต่อชิ้น(฿)</td>\n",
              "    </tr>\n",
              "    <tr>\n",
              "      <th>15</th>\n",
              "      <td>แฮม</td>\n",
              "      <td>บุชเชอร์ มาร์เบิ้ลเบคอน หมูผสมไก่บดสไลซ์รมควัน...</td>\n",
              "      <td>135.00</td>\n",
              "      <td>ราคาต่อชิ้น(฿)</td>\n",
              "    </tr>\n",
              "    <tr>\n",
              "      <th>16</th>\n",
              "      <td>แฮม</td>\n",
              "      <td>บุชเชอร์ ค็อกเทลบราทเวิร์สท 500 กรัม</td>\n",
              "      <td>189.00</td>\n",
              "      <td>ราคาต่อชิ้น(฿)</td>\n",
              "    </tr>\n",
              "    <tr>\n",
              "      <th>17</th>\n",
              "      <td>แฮม</td>\n",
              "      <td>เบทาโกร ไส้กรอกอะราบิกิ หมูผสมไก่ 3 นิ้ว 500 กรัม</td>\n",
              "      <td>155.00</td>\n",
              "      <td>ราคาต่อชิ้น(฿)</td>\n",
              "    </tr>\n",
              "    <tr>\n",
              "      <th>18</th>\n",
              "      <td>แฮม</td>\n",
              "      <td>จีเอสบี ไส้กรอกฮอทดอกเบรคฟัสหนังกรอบ 500 กรัม</td>\n",
              "      <td>55.00</td>\n",
              "      <td>ราคาต่อชิ้น(฿)</td>\n",
              "    </tr>\n",
              "    <tr>\n",
              "      <th>19</th>\n",
              "      <td>แฮม</td>\n",
              "      <td>ซีพี ชิคบอลรสไก่รมควันแช่แข็ง 800 กรัม</td>\n",
              "      <td>199.00</td>\n",
              "      <td>ราคาต่อชิ้น(฿)</td>\n",
              "    </tr>\n",
              "    <tr>\n",
              "      <th>20</th>\n",
              "      <td>แฮม</td>\n",
              "      <td>ซูเปอร์ เชฟ โบโล่น่า 450 กรัม</td>\n",
              "      <td>69.00</td>\n",
              "      <td>ราคาต่อชิ้น(฿)</td>\n",
              "    </tr>\n",
              "    <tr>\n",
              "      <th>21</th>\n",
              "      <td>แฮม</td>\n",
              "      <td>ซีพี โบโลน่าไก่สุพรีมสไปซี่ 400 กรัม</td>\n",
              "      <td>79.00</td>\n",
              "      <td>ราคาต่อชิ้น(฿)</td>\n",
              "    </tr>\n",
              "    <tr>\n",
              "      <th>22</th>\n",
              "      <td>แฮม</td>\n",
              "      <td>ซีพี โบโลน่าไก่สุพรีม 400 กรัม</td>\n",
              "      <td>79.00</td>\n",
              "      <td>ราคาต่อชิ้น(฿)</td>\n",
              "    </tr>\n",
              "    <tr>\n",
              "      <th>23</th>\n",
              "      <td>แฮม</td>\n",
              "      <td>ซีพี มินิคอกเทลแฮมเบค่อน 400 กรัม</td>\n",
              "      <td>89.00</td>\n",
              "      <td>ราคาต่อชิ้น(฿)</td>\n",
              "    </tr>\n",
              "    <tr>\n",
              "      <th>24</th>\n",
              "      <td>แฮม</td>\n",
              "      <td>ซูเปอร์ เชฟ ไส้กรอกไก่หนังกรอบ 500 กรัม</td>\n",
              "      <td>59.00</td>\n",
              "      <td>ราคาต่อชิ้น(฿)</td>\n",
              "    </tr>\n",
              "    <tr>\n",
              "      <th>25</th>\n",
              "      <td>แฮม</td>\n",
              "      <td>บุชเชอร์ แฮมขาหมูปรุงสุก ไม่มีกระดูก 700 กรัม</td>\n",
              "      <td>259.00</td>\n",
              "      <td>ราคาต่อชิ้น(฿)</td>\n",
              "    </tr>\n",
              "    <tr>\n",
              "      <th>26</th>\n",
              "      <td>แฮม</td>\n",
              "      <td>จีเอสบี ชุดไก่ปาร์ตี้เซ็ท 600 กรัม</td>\n",
              "      <td>95.00</td>\n",
              "      <td>ราคาต่อชิ้น(฿)</td>\n",
              "    </tr>\n",
              "    <tr>\n",
              "      <th>27</th>\n",
              "      <td>แฮม</td>\n",
              "      <td>จีเอสบี เบรคฟัสสตริปไก่ 500 กรัม</td>\n",
              "      <td>75.00</td>\n",
              "      <td>ราคาต่อชิ้น(฿)</td>\n",
              "    </tr>\n",
              "    <tr>\n",
              "      <th>28</th>\n",
              "      <td>แฮม</td>\n",
              "      <td>จีเอสบี เบรคฟัสไก่สไลซ์กลม 500 กรัม</td>\n",
              "      <td>79.00</td>\n",
              "      <td>ราคาต่อชิ้น(฿)</td>\n",
              "    </tr>\n",
              "    <tr>\n",
              "      <th>29</th>\n",
              "      <td>แฮม</td>\n",
              "      <td>จีเอสบี โบโลน่าไก่พริกสด 450 กรัม</td>\n",
              "      <td>59.00</td>\n",
              "      <td>ราคาต่อชิ้น(฿)</td>\n",
              "    </tr>\n",
              "    <tr>\n",
              "      <th>30</th>\n",
              "      <td>แฮม</td>\n",
              "      <td>จีเอสบี ไส้กรอกคอกเทลไก่รมควัน 500 กรัม</td>\n",
              "      <td>79.00</td>\n",
              "      <td>ราคาต่อชิ้น(฿)</td>\n",
              "    </tr>\n",
              "    <tr>\n",
              "      <th>31</th>\n",
              "      <td>แฮม</td>\n",
              "      <td>จีเอสบี ไส้กรอกไก่สอดไส้ชีส 500 กรัม</td>\n",
              "      <td>72.00</td>\n",
              "      <td>ราคาต่อชิ้น(฿)</td>\n",
              "    </tr>\n",
              "    <tr>\n",
              "      <th>32</th>\n",
              "      <td>แฮม</td>\n",
              "      <td>เซพแพ็ค ไส้กรอกจัมโบ้รมควัน 1000 กรัม</td>\n",
              "      <td>89.00</td>\n",
              "      <td>ราคาต่อชิ้น(฿)</td>\n",
              "    </tr>\n",
              "    <tr>\n",
              "      <th>33</th>\n",
              "      <td>แฮม</td>\n",
              "      <td>จีเอสบี โบโลน่าไก่ 1000 กรัม</td>\n",
              "      <td>115.00</td>\n",
              "      <td>ราคาต่อชิ้น(฿)</td>\n",
              "    </tr>\n",
              "    <tr>\n",
              "      <th>34</th>\n",
              "      <td>แฮม</td>\n",
              "      <td>จีเอสบี ไส้กรอกชีสข้าวโพด 1000 กรัม</td>\n",
              "      <td>109.00</td>\n",
              "      <td>ราคาต่อชิ้น(฿)</td>\n",
              "    </tr>\n",
              "    <tr>\n",
              "      <th>35</th>\n",
              "      <td>แฮม</td>\n",
              "      <td>จีเอสบี คอกเทลปาร์ตี้ 500 กรัม</td>\n",
              "      <td>89.00</td>\n",
              "      <td>ราคาต่อชิ้น(฿)</td>\n",
              "    </tr>\n",
              "    <tr>\n",
              "      <th>36</th>\n",
              "      <td>แฮม</td>\n",
              "      <td>จีเอสบี บาโลน่าไก่ 1 กิโลกรัม</td>\n",
              "      <td>69.00</td>\n",
              "      <td>ราคาต่อชิ้น(฿)</td>\n",
              "    </tr>\n",
              "    <tr>\n",
              "      <th>37</th>\n",
              "      <td>แฮม</td>\n",
              "      <td>จีเอสบี ไส้กรอกมินิคอกเทลไก่ชีสซี่ 500 กรัม</td>\n",
              "      <td>80.00</td>\n",
              "      <td>ราคาต่อชิ้น(฿)</td>\n",
              "    </tr>\n",
              "    <tr>\n",
              "      <th>38</th>\n",
              "      <td>แฮม</td>\n",
              "      <td>จีเอสบี ไส้กรอกแฟรงค์สโมกกี้ 1000 กรัม</td>\n",
              "      <td>99.00</td>\n",
              "      <td>ราคาต่อชิ้น(฿)</td>\n",
              "    </tr>\n",
              "    <tr>\n",
              "      <th>39</th>\n",
              "      <td>แฮม</td>\n",
              "      <td>จีเอสบี ไส้กรอกเวียนนา 1000 กรัม</td>\n",
              "      <td>59.00</td>\n",
              "      <td>ราคาต่อชิ้น(฿)</td>\n",
              "    </tr>\n",
              "    <tr>\n",
              "      <th>40</th>\n",
              "      <td>ลูกชิ้น</td>\n",
              "      <td>จีเอสบี ไก่ถือธง ลูกชิ้นไก่ 3000 กรัม</td>\n",
              "      <td>165.00</td>\n",
              "      <td>ราคาต่อชิ้น(฿)</td>\n",
              "    </tr>\n",
              "    <tr>\n",
              "      <th>41</th>\n",
              "      <td>ลูกชิ้น</td>\n",
              "      <td>เอโร่ ลูกชิ้นไก่ 1000 กรัม</td>\n",
              "      <td>99.00</td>\n",
              "      <td>ราคาต่อชิ้น(฿)</td>\n",
              "    </tr>\n",
              "    <tr>\n",
              "      <th>42</th>\n",
              "      <td>ลูกชิ้น</td>\n",
              "      <td>จีเอสบี ลูกชิ้นไก่รักบี้ 1000 กรัม</td>\n",
              "      <td>82.00</td>\n",
              "      <td>ราคาต่อชิ้น(฿)</td>\n",
              "    </tr>\n",
              "    <tr>\n",
              "      <th>43</th>\n",
              "      <td>ลูกชิ้น</td>\n",
              "      <td>จีเอสบี ไก่ห่อเต้าหู้ทรงเครื่อง 500 กรัม</td>\n",
              "      <td>60.00</td>\n",
              "      <td>ราคาต่อชิ้น(฿)</td>\n",
              "    </tr>\n",
              "    <tr>\n",
              "      <th>44</th>\n",
              "      <td>ลูกชิ้น</td>\n",
              "      <td>เอโร่ ลูกชิ้นสาหร่าย 1000 กรัม</td>\n",
              "      <td>99.00</td>\n",
              "      <td>ราคาต่อชิ้น(฿)</td>\n",
              "    </tr>\n",
              "    <tr>\n",
              "      <th>45</th>\n",
              "      <td>ลูกชิ้น</td>\n",
              "      <td>จีเอสบี ลูกชิ้นสาหร่าย 1000 กรัม</td>\n",
              "      <td>77.00</td>\n",
              "      <td>ราคาต่อชิ้น(฿)</td>\n",
              "    </tr>\n",
              "    <tr>\n",
              "      <th>46</th>\n",
              "      <td>ลูกชิ้น</td>\n",
              "      <td>จีเอสบี ลูกชิ้นไก่ 1000 กรัม</td>\n",
              "      <td>63.00</td>\n",
              "      <td>ราคาต่อชิ้น(฿)</td>\n",
              "    </tr>\n",
              "    <tr>\n",
              "      <th>47</th>\n",
              "      <td>ผลิตภัณฑ์แหนม</td>\n",
              "      <td>ส.ขอนแก่น แหนมแท่งกลาง 120 กรัม x 2 แท่ง</td>\n",
              "      <td>49.00</td>\n",
              "      <td>ราคาต่อชิ้น(฿)</td>\n",
              "    </tr>\n",
              "    <tr>\n",
              "      <th>48</th>\n",
              "      <td>ผลิตภัณฑ์แหนม</td>\n",
              "      <td>จีเอสบี ไก่ยอแบบเส้นยาว 450 กรัม</td>\n",
              "      <td>55.00</td>\n",
              "      <td>ราคาต่อชิ้น(฿)</td>\n",
              "    </tr>\n",
              "    <tr>\n",
              "      <th>49</th>\n",
              "      <td>ผลิตภัณฑ์แหนม</td>\n",
              "      <td>จีเอสบี ไก่ยอสามสี 975 กรัม</td>\n",
              "      <td>69.00</td>\n",
              "      <td>ราคาต่อชิ้น(฿)</td>\n",
              "    </tr>\n",
              "    <tr>\n",
              "      <th>50</th>\n",
              "      <td>ผลิตภัณฑ์แหนม</td>\n",
              "      <td>จีเอสบี ไก่ยออุบล 500 กรัม</td>\n",
              "      <td>65.00</td>\n",
              "      <td>ราคาต่อชิ้น(฿)</td>\n",
              "    </tr>\n",
              "    <tr>\n",
              "      <th>51</th>\n",
              "      <td>ผลิตภัณฑ์แหนม</td>\n",
              "      <td>เอโร่ ไก่ยอ 450 กรัม</td>\n",
              "      <td>53.00</td>\n",
              "      <td>ราคาต่อชิ้น(฿)</td>\n",
              "    </tr>\n",
              "    <tr>\n",
              "      <th>52</th>\n",
              "      <td>ผลิตภัณฑ์แหนม</td>\n",
              "      <td>จีเอสบี ไก่ยอสูตรพริกไทยดำแบบเส้นยาว 450 กรัม</td>\n",
              "      <td>55.00</td>\n",
              "      <td>ราคาต่อชิ้น(฿)</td>\n",
              "    </tr>\n",
              "    <tr>\n",
              "      <th>53</th>\n",
              "      <td>ผลิตภัณฑ์แหนม</td>\n",
              "      <td>จีเอสบี ไก่ยอสูตรพริกไทยดำแบบแผ่น 480 กรัม</td>\n",
              "      <td>59.00</td>\n",
              "      <td>ราคาต่อชิ้น(฿)</td>\n",
              "    </tr>\n",
              "    <tr>\n",
              "      <th>54</th>\n",
              "      <td>ผลิตภัณฑ์แหนม</td>\n",
              "      <td>จีเอสบี ไก่ยอ 420 กรัม</td>\n",
              "      <td>43.00</td>\n",
              "      <td>ราคาต่อชิ้น(฿)</td>\n",
              "    </tr>\n",
              "    <tr>\n",
              "      <th>55</th>\n",
              "      <td>กุนเชียง</td>\n",
              "      <td>เจ้าสัว หมูแผ่นกรอบ 70 กรัม</td>\n",
              "      <td>79.00</td>\n",
              "      <td>ราคาต่อชิ้น(฿)</td>\n",
              "    </tr>\n",
              "  </tbody>\n",
              "</table>\n",
              "</div>"
            ],
            "text/plain": [
              "   sub_product_group2  ...            unit\n",
              "0                 แฮม  ...  ราคาต่อชิ้น(฿)\n",
              "1                 แฮม  ...  ราคาต่อชิ้น(฿)\n",
              "2                 แฮม  ...  ราคาต่อชิ้น(฿)\n",
              "3                 แฮม  ...  ราคาต่อชิ้น(฿)\n",
              "4                 แฮม  ...  ราคาต่อชิ้น(฿)\n",
              "5                 แฮม  ...  ราคาต่อชิ้น(฿)\n",
              "6                 แฮม  ...  ราคาต่อชิ้น(฿)\n",
              "7                 แฮม  ...  ราคาต่อชิ้น(฿)\n",
              "8                 แฮม  ...  ราคาต่อชิ้น(฿)\n",
              "9                 แฮม  ...  ราคาต่อชิ้น(฿)\n",
              "10                แฮม  ...  ราคาต่อชิ้น(฿)\n",
              "11                แฮม  ...  ราคาต่อชิ้น(฿)\n",
              "12                แฮม  ...  ราคาต่อชิ้น(฿)\n",
              "13                แฮม  ...  ราคาต่อชิ้น(฿)\n",
              "14                แฮม  ...  ราคาต่อชิ้น(฿)\n",
              "15                แฮม  ...  ราคาต่อชิ้น(฿)\n",
              "16                แฮม  ...  ราคาต่อชิ้น(฿)\n",
              "17                แฮม  ...  ราคาต่อชิ้น(฿)\n",
              "18                แฮม  ...  ราคาต่อชิ้น(฿)\n",
              "19                แฮม  ...  ราคาต่อชิ้น(฿)\n",
              "20                แฮม  ...  ราคาต่อชิ้น(฿)\n",
              "21                แฮม  ...  ราคาต่อชิ้น(฿)\n",
              "22                แฮม  ...  ราคาต่อชิ้น(฿)\n",
              "23                แฮม  ...  ราคาต่อชิ้น(฿)\n",
              "24                แฮม  ...  ราคาต่อชิ้น(฿)\n",
              "25                แฮม  ...  ราคาต่อชิ้น(฿)\n",
              "26                แฮม  ...  ราคาต่อชิ้น(฿)\n",
              "27                แฮม  ...  ราคาต่อชิ้น(฿)\n",
              "28                แฮม  ...  ราคาต่อชิ้น(฿)\n",
              "29                แฮม  ...  ราคาต่อชิ้น(฿)\n",
              "30                แฮม  ...  ราคาต่อชิ้น(฿)\n",
              "31                แฮม  ...  ราคาต่อชิ้น(฿)\n",
              "32                แฮม  ...  ราคาต่อชิ้น(฿)\n",
              "33                แฮม  ...  ราคาต่อชิ้น(฿)\n",
              "34                แฮม  ...  ราคาต่อชิ้น(฿)\n",
              "35                แฮม  ...  ราคาต่อชิ้น(฿)\n",
              "36                แฮม  ...  ราคาต่อชิ้น(฿)\n",
              "37                แฮม  ...  ราคาต่อชิ้น(฿)\n",
              "38                แฮม  ...  ราคาต่อชิ้น(฿)\n",
              "39                แฮม  ...  ราคาต่อชิ้น(฿)\n",
              "40            ลูกชิ้น  ...  ราคาต่อชิ้น(฿)\n",
              "41            ลูกชิ้น  ...  ราคาต่อชิ้น(฿)\n",
              "42            ลูกชิ้น  ...  ราคาต่อชิ้น(฿)\n",
              "43            ลูกชิ้น  ...  ราคาต่อชิ้น(฿)\n",
              "44            ลูกชิ้น  ...  ราคาต่อชิ้น(฿)\n",
              "45            ลูกชิ้น  ...  ราคาต่อชิ้น(฿)\n",
              "46            ลูกชิ้น  ...  ราคาต่อชิ้น(฿)\n",
              "47      ผลิตภัณฑ์แหนม  ...  ราคาต่อชิ้น(฿)\n",
              "48      ผลิตภัณฑ์แหนม  ...  ราคาต่อชิ้น(฿)\n",
              "49      ผลิตภัณฑ์แหนม  ...  ราคาต่อชิ้น(฿)\n",
              "50      ผลิตภัณฑ์แหนม  ...  ราคาต่อชิ้น(฿)\n",
              "51      ผลิตภัณฑ์แหนม  ...  ราคาต่อชิ้น(฿)\n",
              "52      ผลิตภัณฑ์แหนม  ...  ราคาต่อชิ้น(฿)\n",
              "53      ผลิตภัณฑ์แหนม  ...  ราคาต่อชิ้น(฿)\n",
              "54      ผลิตภัณฑ์แหนม  ...  ราคาต่อชิ้น(฿)\n",
              "55           กุนเชียง  ...  ราคาต่อชิ้น(฿)\n",
              "\n",
              "[56 rows x 4 columns]"
            ]
          },
          "metadata": {
            "tags": []
          },
          "execution_count": 178
        }
      ]
    },
    {
      "cell_type": "code",
      "metadata": {
        "colab": {
          "base_uri": "https://localhost:8080/",
          "height": 1000
        },
        "id": "2mFSyAuPgh4E",
        "outputId": "6248df27-fd96-491f-e02f-9fd9f24d2bdf"
      },
      "source": [
        "df3 = df2.merge(df, how='left',on='sub_product_group2')\n",
        "df3 = df3.drop(columns=['content']).drop_duplicates()\n",
        "df3['date'] = datetime.datetime.now().date()\n",
        "df3"
      ],
      "execution_count": 179,
      "outputs": [
        {
          "output_type": "execute_result",
          "data": {
            "text/html": [
              "<div>\n",
              "<style scoped>\n",
              "    .dataframe tbody tr th:only-of-type {\n",
              "        vertical-align: middle;\n",
              "    }\n",
              "\n",
              "    .dataframe tbody tr th {\n",
              "        vertical-align: top;\n",
              "    }\n",
              "\n",
              "    .dataframe thead th {\n",
              "        text-align: right;\n",
              "    }\n",
              "</style>\n",
              "<table border=\"1\" class=\"dataframe\">\n",
              "  <thead>\n",
              "    <tr style=\"text-align: right;\">\n",
              "      <th></th>\n",
              "      <th>sub_product_group2</th>\n",
              "      <th>product</th>\n",
              "      <th>price</th>\n",
              "      <th>unit</th>\n",
              "      <th>sub_product_group1</th>\n",
              "      <th>product_group</th>\n",
              "      <th>date</th>\n",
              "    </tr>\n",
              "  </thead>\n",
              "  <tbody>\n",
              "    <tr>\n",
              "      <th>0</th>\n",
              "      <td>แฮม</td>\n",
              "      <td>บีเคพี ไส้กรอกไก่ไส้ชีสต้นตำรับ 500 กรัม</td>\n",
              "      <td>89.00</td>\n",
              "      <td>ราคาต่อชิ้น(฿)</td>\n",
              "      <td>ผลิตภัณฑ์เนื้อสัตว์แปรรูปแช่เย็น</td>\n",
              "      <td>ผลิตภัณฑ์เนื้อสัตว์แปรรูป</td>\n",
              "      <td>2021-08-11</td>\n",
              "    </tr>\n",
              "    <tr>\n",
              "      <th>1</th>\n",
              "      <td>แฮม</td>\n",
              "      <td>จีเอสบี ไก่ถือธง คอกเทล 1000 กรัม</td>\n",
              "      <td>57.00</td>\n",
              "      <td>ราคาต่อชิ้น(฿)</td>\n",
              "      <td>ผลิตภัณฑ์เนื้อสัตว์แปรรูปแช่เย็น</td>\n",
              "      <td>ผลิตภัณฑ์เนื้อสัตว์แปรรูป</td>\n",
              "      <td>2021-08-11</td>\n",
              "    </tr>\n",
              "    <tr>\n",
              "      <th>2</th>\n",
              "      <td>แฮม</td>\n",
              "      <td>จีเอสบี ไก่ถือธง ไส้กรอกฮอทดอก 1000 กรัม</td>\n",
              "      <td>57.00</td>\n",
              "      <td>ราคาต่อชิ้น(฿)</td>\n",
              "      <td>ผลิตภัณฑ์เนื้อสัตว์แปรรูปแช่เย็น</td>\n",
              "      <td>ผลิตภัณฑ์เนื้อสัตว์แปรรูป</td>\n",
              "      <td>2021-08-11</td>\n",
              "    </tr>\n",
              "    <tr>\n",
              "      <th>3</th>\n",
              "      <td>แฮม</td>\n",
              "      <td>จีเอสบี ไส้กรอกฮอทดอกไก่รมควัน 1000 กรัม</td>\n",
              "      <td>163.00</td>\n",
              "      <td>ราคาต่อชิ้น(฿)</td>\n",
              "      <td>ผลิตภัณฑ์เนื้อสัตว์แปรรูปแช่เย็น</td>\n",
              "      <td>ผลิตภัณฑ์เนื้อสัตว์แปรรูป</td>\n",
              "      <td>2021-08-11</td>\n",
              "    </tr>\n",
              "    <tr>\n",
              "      <th>4</th>\n",
              "      <td>แฮม</td>\n",
              "      <td>จีเอสบี ไก่แผ่นสามชั้นรมควัน 500 กรัม</td>\n",
              "      <td>85.00</td>\n",
              "      <td>ราคาต่อชิ้น(฿)</td>\n",
              "      <td>ผลิตภัณฑ์เนื้อสัตว์แปรรูปแช่เย็น</td>\n",
              "      <td>ผลิตภัณฑ์เนื้อสัตว์แปรรูป</td>\n",
              "      <td>2021-08-11</td>\n",
              "    </tr>\n",
              "    <tr>\n",
              "      <th>5</th>\n",
              "      <td>แฮม</td>\n",
              "      <td>ซีพี โบโลน่าหมู 500 กรัม</td>\n",
              "      <td>95.00</td>\n",
              "      <td>ราคาต่อชิ้น(฿)</td>\n",
              "      <td>ผลิตภัณฑ์เนื้อสัตว์แปรรูปแช่เย็น</td>\n",
              "      <td>ผลิตภัณฑ์เนื้อสัตว์แปรรูป</td>\n",
              "      <td>2021-08-11</td>\n",
              "    </tr>\n",
              "    <tr>\n",
              "      <th>6</th>\n",
              "      <td>แฮม</td>\n",
              "      <td>ซูเปอร์ เชฟ โบโล่น่าพริก 450 กรัม</td>\n",
              "      <td>69.00</td>\n",
              "      <td>ราคาต่อชิ้น(฿)</td>\n",
              "      <td>ผลิตภัณฑ์เนื้อสัตว์แปรรูปแช่เย็น</td>\n",
              "      <td>ผลิตภัณฑ์เนื้อสัตว์แปรรูป</td>\n",
              "      <td>2021-08-11</td>\n",
              "    </tr>\n",
              "    <tr>\n",
              "      <th>7</th>\n",
              "      <td>แฮม</td>\n",
              "      <td>จีเอสบี ไก่แผ่นรมควัน 4x4 นิ้ว 1000 กรัม</td>\n",
              "      <td>129.00</td>\n",
              "      <td>ราคาต่อชิ้น(฿)</td>\n",
              "      <td>ผลิตภัณฑ์เนื้อสัตว์แปรรูปแช่เย็น</td>\n",
              "      <td>ผลิตภัณฑ์เนื้อสัตว์แปรรูป</td>\n",
              "      <td>2021-08-11</td>\n",
              "    </tr>\n",
              "    <tr>\n",
              "      <th>8</th>\n",
              "      <td>แฮม</td>\n",
              "      <td>ซีพี ไส้กรอกแฮม 1000 กรัม</td>\n",
              "      <td>279.00</td>\n",
              "      <td>ราคาต่อชิ้น(฿)</td>\n",
              "      <td>ผลิตภัณฑ์เนื้อสัตว์แปรรูปแช่เย็น</td>\n",
              "      <td>ผลิตภัณฑ์เนื้อสัตว์แปรรูป</td>\n",
              "      <td>2021-08-11</td>\n",
              "    </tr>\n",
              "    <tr>\n",
              "      <th>9</th>\n",
              "      <td>แฮม</td>\n",
              "      <td>ไก่ถือธง ไส้กรอกวิล 1000 กรัม</td>\n",
              "      <td>77.00</td>\n",
              "      <td>ราคาต่อชิ้น(฿)</td>\n",
              "      <td>ผลิตภัณฑ์เนื้อสัตว์แปรรูปแช่เย็น</td>\n",
              "      <td>ผลิตภัณฑ์เนื้อสัตว์แปรรูป</td>\n",
              "      <td>2021-08-11</td>\n",
              "    </tr>\n",
              "    <tr>\n",
              "      <th>10</th>\n",
              "      <td>แฮม</td>\n",
              "      <td>มีทซีโร่ โบโลน่าจากพืช รสพริก 90 กรัม x 3 แพ็ค</td>\n",
              "      <td>31.67</td>\n",
              "      <td>ราคาต่อชิ้น(฿)</td>\n",
              "      <td>ผลิตภัณฑ์เนื้อสัตว์แปรรูปแช่เย็น</td>\n",
              "      <td>ผลิตภัณฑ์เนื้อสัตว์แปรรูป</td>\n",
              "      <td>2021-08-11</td>\n",
              "    </tr>\n",
              "    <tr>\n",
              "      <th>11</th>\n",
              "      <td>แฮม</td>\n",
              "      <td>บีเคพี โบโลน่าไก่พริก 450 กรัม</td>\n",
              "      <td>59.00</td>\n",
              "      <td>ราคาต่อชิ้น(฿)</td>\n",
              "      <td>ผลิตภัณฑ์เนื้อสัตว์แปรรูปแช่เย็น</td>\n",
              "      <td>ผลิตภัณฑ์เนื้อสัตว์แปรรูป</td>\n",
              "      <td>2021-08-11</td>\n",
              "    </tr>\n",
              "    <tr>\n",
              "      <th>12</th>\n",
              "      <td>แฮม</td>\n",
              "      <td>บีเคพี ไส้กรอกสโมคกี้ไบท์ 1000 กรัม</td>\n",
              "      <td>101.00</td>\n",
              "      <td>ราคาต่อชิ้น(฿)</td>\n",
              "      <td>ผลิตภัณฑ์เนื้อสัตว์แปรรูปแช่เย็น</td>\n",
              "      <td>ผลิตภัณฑ์เนื้อสัตว์แปรรูป</td>\n",
              "      <td>2021-08-11</td>\n",
              "    </tr>\n",
              "    <tr>\n",
              "      <th>13</th>\n",
              "      <td>แฮม</td>\n",
              "      <td>จีเอสบี เวียนนารมควัน 4 นิ้ว 1000 กรัม</td>\n",
              "      <td>153.00</td>\n",
              "      <td>ราคาต่อชิ้น(฿)</td>\n",
              "      <td>ผลิตภัณฑ์เนื้อสัตว์แปรรูปแช่เย็น</td>\n",
              "      <td>ผลิตภัณฑ์เนื้อสัตว์แปรรูป</td>\n",
              "      <td>2021-08-11</td>\n",
              "    </tr>\n",
              "    <tr>\n",
              "      <th>14</th>\n",
              "      <td>แฮม</td>\n",
              "      <td>มีทซีโร่ โบโลน่าจากพืช รสออริจินัล 90 กรัม x 3...</td>\n",
              "      <td>31.67</td>\n",
              "      <td>ราคาต่อชิ้น(฿)</td>\n",
              "      <td>ผลิตภัณฑ์เนื้อสัตว์แปรรูปแช่เย็น</td>\n",
              "      <td>ผลิตภัณฑ์เนื้อสัตว์แปรรูป</td>\n",
              "      <td>2021-08-11</td>\n",
              "    </tr>\n",
              "    <tr>\n",
              "      <th>15</th>\n",
              "      <td>แฮม</td>\n",
              "      <td>บุชเชอร์ มาร์เบิ้ลเบคอน หมูผสมไก่บดสไลซ์รมควัน...</td>\n",
              "      <td>135.00</td>\n",
              "      <td>ราคาต่อชิ้น(฿)</td>\n",
              "      <td>ผลิตภัณฑ์เนื้อสัตว์แปรรูปแช่เย็น</td>\n",
              "      <td>ผลิตภัณฑ์เนื้อสัตว์แปรรูป</td>\n",
              "      <td>2021-08-11</td>\n",
              "    </tr>\n",
              "    <tr>\n",
              "      <th>16</th>\n",
              "      <td>แฮม</td>\n",
              "      <td>บุชเชอร์ ค็อกเทลบราทเวิร์สท 500 กรัม</td>\n",
              "      <td>189.00</td>\n",
              "      <td>ราคาต่อชิ้น(฿)</td>\n",
              "      <td>ผลิตภัณฑ์เนื้อสัตว์แปรรูปแช่เย็น</td>\n",
              "      <td>ผลิตภัณฑ์เนื้อสัตว์แปรรูป</td>\n",
              "      <td>2021-08-11</td>\n",
              "    </tr>\n",
              "    <tr>\n",
              "      <th>17</th>\n",
              "      <td>แฮม</td>\n",
              "      <td>เบทาโกร ไส้กรอกอะราบิกิ หมูผสมไก่ 3 นิ้ว 500 กรัม</td>\n",
              "      <td>155.00</td>\n",
              "      <td>ราคาต่อชิ้น(฿)</td>\n",
              "      <td>ผลิตภัณฑ์เนื้อสัตว์แปรรูปแช่เย็น</td>\n",
              "      <td>ผลิตภัณฑ์เนื้อสัตว์แปรรูป</td>\n",
              "      <td>2021-08-11</td>\n",
              "    </tr>\n",
              "    <tr>\n",
              "      <th>18</th>\n",
              "      <td>แฮม</td>\n",
              "      <td>จีเอสบี ไส้กรอกฮอทดอกเบรคฟัสหนังกรอบ 500 กรัม</td>\n",
              "      <td>55.00</td>\n",
              "      <td>ราคาต่อชิ้น(฿)</td>\n",
              "      <td>ผลิตภัณฑ์เนื้อสัตว์แปรรูปแช่เย็น</td>\n",
              "      <td>ผลิตภัณฑ์เนื้อสัตว์แปรรูป</td>\n",
              "      <td>2021-08-11</td>\n",
              "    </tr>\n",
              "    <tr>\n",
              "      <th>19</th>\n",
              "      <td>แฮม</td>\n",
              "      <td>ซีพี ชิคบอลรสไก่รมควันแช่แข็ง 800 กรัม</td>\n",
              "      <td>199.00</td>\n",
              "      <td>ราคาต่อชิ้น(฿)</td>\n",
              "      <td>ผลิตภัณฑ์เนื้อสัตว์แปรรูปแช่เย็น</td>\n",
              "      <td>ผลิตภัณฑ์เนื้อสัตว์แปรรูป</td>\n",
              "      <td>2021-08-11</td>\n",
              "    </tr>\n",
              "    <tr>\n",
              "      <th>20</th>\n",
              "      <td>แฮม</td>\n",
              "      <td>ซูเปอร์ เชฟ โบโล่น่า 450 กรัม</td>\n",
              "      <td>69.00</td>\n",
              "      <td>ราคาต่อชิ้น(฿)</td>\n",
              "      <td>ผลิตภัณฑ์เนื้อสัตว์แปรรูปแช่เย็น</td>\n",
              "      <td>ผลิตภัณฑ์เนื้อสัตว์แปรรูป</td>\n",
              "      <td>2021-08-11</td>\n",
              "    </tr>\n",
              "    <tr>\n",
              "      <th>21</th>\n",
              "      <td>แฮม</td>\n",
              "      <td>ซีพี โบโลน่าไก่สุพรีมสไปซี่ 400 กรัม</td>\n",
              "      <td>79.00</td>\n",
              "      <td>ราคาต่อชิ้น(฿)</td>\n",
              "      <td>ผลิตภัณฑ์เนื้อสัตว์แปรรูปแช่เย็น</td>\n",
              "      <td>ผลิตภัณฑ์เนื้อสัตว์แปรรูป</td>\n",
              "      <td>2021-08-11</td>\n",
              "    </tr>\n",
              "    <tr>\n",
              "      <th>22</th>\n",
              "      <td>แฮม</td>\n",
              "      <td>ซีพี โบโลน่าไก่สุพรีม 400 กรัม</td>\n",
              "      <td>79.00</td>\n",
              "      <td>ราคาต่อชิ้น(฿)</td>\n",
              "      <td>ผลิตภัณฑ์เนื้อสัตว์แปรรูปแช่เย็น</td>\n",
              "      <td>ผลิตภัณฑ์เนื้อสัตว์แปรรูป</td>\n",
              "      <td>2021-08-11</td>\n",
              "    </tr>\n",
              "    <tr>\n",
              "      <th>23</th>\n",
              "      <td>แฮม</td>\n",
              "      <td>ซีพี มินิคอกเทลแฮมเบค่อน 400 กรัม</td>\n",
              "      <td>89.00</td>\n",
              "      <td>ราคาต่อชิ้น(฿)</td>\n",
              "      <td>ผลิตภัณฑ์เนื้อสัตว์แปรรูปแช่เย็น</td>\n",
              "      <td>ผลิตภัณฑ์เนื้อสัตว์แปรรูป</td>\n",
              "      <td>2021-08-11</td>\n",
              "    </tr>\n",
              "    <tr>\n",
              "      <th>24</th>\n",
              "      <td>แฮม</td>\n",
              "      <td>ซูเปอร์ เชฟ ไส้กรอกไก่หนังกรอบ 500 กรัม</td>\n",
              "      <td>59.00</td>\n",
              "      <td>ราคาต่อชิ้น(฿)</td>\n",
              "      <td>ผลิตภัณฑ์เนื้อสัตว์แปรรูปแช่เย็น</td>\n",
              "      <td>ผลิตภัณฑ์เนื้อสัตว์แปรรูป</td>\n",
              "      <td>2021-08-11</td>\n",
              "    </tr>\n",
              "    <tr>\n",
              "      <th>25</th>\n",
              "      <td>แฮม</td>\n",
              "      <td>บุชเชอร์ แฮมขาหมูปรุงสุก ไม่มีกระดูก 700 กรัม</td>\n",
              "      <td>259.00</td>\n",
              "      <td>ราคาต่อชิ้น(฿)</td>\n",
              "      <td>ผลิตภัณฑ์เนื้อสัตว์แปรรูปแช่เย็น</td>\n",
              "      <td>ผลิตภัณฑ์เนื้อสัตว์แปรรูป</td>\n",
              "      <td>2021-08-11</td>\n",
              "    </tr>\n",
              "    <tr>\n",
              "      <th>26</th>\n",
              "      <td>แฮม</td>\n",
              "      <td>จีเอสบี ชุดไก่ปาร์ตี้เซ็ท 600 กรัม</td>\n",
              "      <td>95.00</td>\n",
              "      <td>ราคาต่อชิ้น(฿)</td>\n",
              "      <td>ผลิตภัณฑ์เนื้อสัตว์แปรรูปแช่เย็น</td>\n",
              "      <td>ผลิตภัณฑ์เนื้อสัตว์แปรรูป</td>\n",
              "      <td>2021-08-11</td>\n",
              "    </tr>\n",
              "    <tr>\n",
              "      <th>27</th>\n",
              "      <td>แฮม</td>\n",
              "      <td>จีเอสบี เบรคฟัสสตริปไก่ 500 กรัม</td>\n",
              "      <td>75.00</td>\n",
              "      <td>ราคาต่อชิ้น(฿)</td>\n",
              "      <td>ผลิตภัณฑ์เนื้อสัตว์แปรรูปแช่เย็น</td>\n",
              "      <td>ผลิตภัณฑ์เนื้อสัตว์แปรรูป</td>\n",
              "      <td>2021-08-11</td>\n",
              "    </tr>\n",
              "    <tr>\n",
              "      <th>28</th>\n",
              "      <td>แฮม</td>\n",
              "      <td>จีเอสบี เบรคฟัสไก่สไลซ์กลม 500 กรัม</td>\n",
              "      <td>79.00</td>\n",
              "      <td>ราคาต่อชิ้น(฿)</td>\n",
              "      <td>ผลิตภัณฑ์เนื้อสัตว์แปรรูปแช่เย็น</td>\n",
              "      <td>ผลิตภัณฑ์เนื้อสัตว์แปรรูป</td>\n",
              "      <td>2021-08-11</td>\n",
              "    </tr>\n",
              "    <tr>\n",
              "      <th>29</th>\n",
              "      <td>แฮม</td>\n",
              "      <td>จีเอสบี โบโลน่าไก่พริกสด 450 กรัม</td>\n",
              "      <td>59.00</td>\n",
              "      <td>ราคาต่อชิ้น(฿)</td>\n",
              "      <td>ผลิตภัณฑ์เนื้อสัตว์แปรรูปแช่เย็น</td>\n",
              "      <td>ผลิตภัณฑ์เนื้อสัตว์แปรรูป</td>\n",
              "      <td>2021-08-11</td>\n",
              "    </tr>\n",
              "    <tr>\n",
              "      <th>30</th>\n",
              "      <td>แฮม</td>\n",
              "      <td>จีเอสบี ไส้กรอกคอกเทลไก่รมควัน 500 กรัม</td>\n",
              "      <td>79.00</td>\n",
              "      <td>ราคาต่อชิ้น(฿)</td>\n",
              "      <td>ผลิตภัณฑ์เนื้อสัตว์แปรรูปแช่เย็น</td>\n",
              "      <td>ผลิตภัณฑ์เนื้อสัตว์แปรรูป</td>\n",
              "      <td>2021-08-11</td>\n",
              "    </tr>\n",
              "    <tr>\n",
              "      <th>31</th>\n",
              "      <td>แฮม</td>\n",
              "      <td>จีเอสบี ไส้กรอกไก่สอดไส้ชีส 500 กรัม</td>\n",
              "      <td>72.00</td>\n",
              "      <td>ราคาต่อชิ้น(฿)</td>\n",
              "      <td>ผลิตภัณฑ์เนื้อสัตว์แปรรูปแช่เย็น</td>\n",
              "      <td>ผลิตภัณฑ์เนื้อสัตว์แปรรูป</td>\n",
              "      <td>2021-08-11</td>\n",
              "    </tr>\n",
              "    <tr>\n",
              "      <th>32</th>\n",
              "      <td>แฮม</td>\n",
              "      <td>เซพแพ็ค ไส้กรอกจัมโบ้รมควัน 1000 กรัม</td>\n",
              "      <td>89.00</td>\n",
              "      <td>ราคาต่อชิ้น(฿)</td>\n",
              "      <td>ผลิตภัณฑ์เนื้อสัตว์แปรรูปแช่เย็น</td>\n",
              "      <td>ผลิตภัณฑ์เนื้อสัตว์แปรรูป</td>\n",
              "      <td>2021-08-11</td>\n",
              "    </tr>\n",
              "    <tr>\n",
              "      <th>33</th>\n",
              "      <td>แฮม</td>\n",
              "      <td>จีเอสบี โบโลน่าไก่ 1000 กรัม</td>\n",
              "      <td>115.00</td>\n",
              "      <td>ราคาต่อชิ้น(฿)</td>\n",
              "      <td>ผลิตภัณฑ์เนื้อสัตว์แปรรูปแช่เย็น</td>\n",
              "      <td>ผลิตภัณฑ์เนื้อสัตว์แปรรูป</td>\n",
              "      <td>2021-08-11</td>\n",
              "    </tr>\n",
              "    <tr>\n",
              "      <th>34</th>\n",
              "      <td>แฮม</td>\n",
              "      <td>จีเอสบี ไส้กรอกชีสข้าวโพด 1000 กรัม</td>\n",
              "      <td>109.00</td>\n",
              "      <td>ราคาต่อชิ้น(฿)</td>\n",
              "      <td>ผลิตภัณฑ์เนื้อสัตว์แปรรูปแช่เย็น</td>\n",
              "      <td>ผลิตภัณฑ์เนื้อสัตว์แปรรูป</td>\n",
              "      <td>2021-08-11</td>\n",
              "    </tr>\n",
              "    <tr>\n",
              "      <th>35</th>\n",
              "      <td>แฮม</td>\n",
              "      <td>จีเอสบี คอกเทลปาร์ตี้ 500 กรัม</td>\n",
              "      <td>89.00</td>\n",
              "      <td>ราคาต่อชิ้น(฿)</td>\n",
              "      <td>ผลิตภัณฑ์เนื้อสัตว์แปรรูปแช่เย็น</td>\n",
              "      <td>ผลิตภัณฑ์เนื้อสัตว์แปรรูป</td>\n",
              "      <td>2021-08-11</td>\n",
              "    </tr>\n",
              "    <tr>\n",
              "      <th>36</th>\n",
              "      <td>แฮม</td>\n",
              "      <td>จีเอสบี บาโลน่าไก่ 1 กิโลกรัม</td>\n",
              "      <td>69.00</td>\n",
              "      <td>ราคาต่อชิ้น(฿)</td>\n",
              "      <td>ผลิตภัณฑ์เนื้อสัตว์แปรรูปแช่เย็น</td>\n",
              "      <td>ผลิตภัณฑ์เนื้อสัตว์แปรรูป</td>\n",
              "      <td>2021-08-11</td>\n",
              "    </tr>\n",
              "    <tr>\n",
              "      <th>37</th>\n",
              "      <td>แฮม</td>\n",
              "      <td>จีเอสบี ไส้กรอกมินิคอกเทลไก่ชีสซี่ 500 กรัม</td>\n",
              "      <td>80.00</td>\n",
              "      <td>ราคาต่อชิ้น(฿)</td>\n",
              "      <td>ผลิตภัณฑ์เนื้อสัตว์แปรรูปแช่เย็น</td>\n",
              "      <td>ผลิตภัณฑ์เนื้อสัตว์แปรรูป</td>\n",
              "      <td>2021-08-11</td>\n",
              "    </tr>\n",
              "    <tr>\n",
              "      <th>38</th>\n",
              "      <td>แฮม</td>\n",
              "      <td>จีเอสบี ไส้กรอกแฟรงค์สโมกกี้ 1000 กรัม</td>\n",
              "      <td>99.00</td>\n",
              "      <td>ราคาต่อชิ้น(฿)</td>\n",
              "      <td>ผลิตภัณฑ์เนื้อสัตว์แปรรูปแช่เย็น</td>\n",
              "      <td>ผลิตภัณฑ์เนื้อสัตว์แปรรูป</td>\n",
              "      <td>2021-08-11</td>\n",
              "    </tr>\n",
              "    <tr>\n",
              "      <th>39</th>\n",
              "      <td>แฮม</td>\n",
              "      <td>จีเอสบี ไส้กรอกเวียนนา 1000 กรัม</td>\n",
              "      <td>59.00</td>\n",
              "      <td>ราคาต่อชิ้น(฿)</td>\n",
              "      <td>ผลิตภัณฑ์เนื้อสัตว์แปรรูปแช่เย็น</td>\n",
              "      <td>ผลิตภัณฑ์เนื้อสัตว์แปรรูป</td>\n",
              "      <td>2021-08-11</td>\n",
              "    </tr>\n",
              "    <tr>\n",
              "      <th>40</th>\n",
              "      <td>ลูกชิ้น</td>\n",
              "      <td>จีเอสบี ไก่ถือธง ลูกชิ้นไก่ 3000 กรัม</td>\n",
              "      <td>165.00</td>\n",
              "      <td>ราคาต่อชิ้น(฿)</td>\n",
              "      <td>ผลิตภัณฑ์เนื้อสัตว์แปรรูปแช่เย็น</td>\n",
              "      <td>ผลิตภัณฑ์เนื้อสัตว์แปรรูป</td>\n",
              "      <td>2021-08-11</td>\n",
              "    </tr>\n",
              "    <tr>\n",
              "      <th>41</th>\n",
              "      <td>ลูกชิ้น</td>\n",
              "      <td>เอโร่ ลูกชิ้นไก่ 1000 กรัม</td>\n",
              "      <td>99.00</td>\n",
              "      <td>ราคาต่อชิ้น(฿)</td>\n",
              "      <td>ผลิตภัณฑ์เนื้อสัตว์แปรรูปแช่เย็น</td>\n",
              "      <td>ผลิตภัณฑ์เนื้อสัตว์แปรรูป</td>\n",
              "      <td>2021-08-11</td>\n",
              "    </tr>\n",
              "    <tr>\n",
              "      <th>42</th>\n",
              "      <td>ลูกชิ้น</td>\n",
              "      <td>จีเอสบี ลูกชิ้นไก่รักบี้ 1000 กรัม</td>\n",
              "      <td>82.00</td>\n",
              "      <td>ราคาต่อชิ้น(฿)</td>\n",
              "      <td>ผลิตภัณฑ์เนื้อสัตว์แปรรูปแช่เย็น</td>\n",
              "      <td>ผลิตภัณฑ์เนื้อสัตว์แปรรูป</td>\n",
              "      <td>2021-08-11</td>\n",
              "    </tr>\n",
              "    <tr>\n",
              "      <th>43</th>\n",
              "      <td>ลูกชิ้น</td>\n",
              "      <td>จีเอสบี ไก่ห่อเต้าหู้ทรงเครื่อง 500 กรัม</td>\n",
              "      <td>60.00</td>\n",
              "      <td>ราคาต่อชิ้น(฿)</td>\n",
              "      <td>ผลิตภัณฑ์เนื้อสัตว์แปรรูปแช่เย็น</td>\n",
              "      <td>ผลิตภัณฑ์เนื้อสัตว์แปรรูป</td>\n",
              "      <td>2021-08-11</td>\n",
              "    </tr>\n",
              "    <tr>\n",
              "      <th>44</th>\n",
              "      <td>ลูกชิ้น</td>\n",
              "      <td>เอโร่ ลูกชิ้นสาหร่าย 1000 กรัม</td>\n",
              "      <td>99.00</td>\n",
              "      <td>ราคาต่อชิ้น(฿)</td>\n",
              "      <td>ผลิตภัณฑ์เนื้อสัตว์แปรรูปแช่เย็น</td>\n",
              "      <td>ผลิตภัณฑ์เนื้อสัตว์แปรรูป</td>\n",
              "      <td>2021-08-11</td>\n",
              "    </tr>\n",
              "    <tr>\n",
              "      <th>45</th>\n",
              "      <td>ลูกชิ้น</td>\n",
              "      <td>จีเอสบี ลูกชิ้นสาหร่าย 1000 กรัม</td>\n",
              "      <td>77.00</td>\n",
              "      <td>ราคาต่อชิ้น(฿)</td>\n",
              "      <td>ผลิตภัณฑ์เนื้อสัตว์แปรรูปแช่เย็น</td>\n",
              "      <td>ผลิตภัณฑ์เนื้อสัตว์แปรรูป</td>\n",
              "      <td>2021-08-11</td>\n",
              "    </tr>\n",
              "    <tr>\n",
              "      <th>46</th>\n",
              "      <td>ลูกชิ้น</td>\n",
              "      <td>จีเอสบี ลูกชิ้นไก่ 1000 กรัม</td>\n",
              "      <td>63.00</td>\n",
              "      <td>ราคาต่อชิ้น(฿)</td>\n",
              "      <td>ผลิตภัณฑ์เนื้อสัตว์แปรรูปแช่เย็น</td>\n",
              "      <td>ผลิตภัณฑ์เนื้อสัตว์แปรรูป</td>\n",
              "      <td>2021-08-11</td>\n",
              "    </tr>\n",
              "    <tr>\n",
              "      <th>47</th>\n",
              "      <td>ผลิตภัณฑ์แหนม</td>\n",
              "      <td>ส.ขอนแก่น แหนมแท่งกลาง 120 กรัม x 2 แท่ง</td>\n",
              "      <td>49.00</td>\n",
              "      <td>ราคาต่อชิ้น(฿)</td>\n",
              "      <td>ผลิตภัณฑ์เนื้อสัตว์แปรรูปแช่เย็น</td>\n",
              "      <td>ผลิตภัณฑ์เนื้อสัตว์แปรรูป</td>\n",
              "      <td>2021-08-11</td>\n",
              "    </tr>\n",
              "    <tr>\n",
              "      <th>48</th>\n",
              "      <td>ผลิตภัณฑ์แหนม</td>\n",
              "      <td>จีเอสบี ไก่ยอแบบเส้นยาว 450 กรัม</td>\n",
              "      <td>55.00</td>\n",
              "      <td>ราคาต่อชิ้น(฿)</td>\n",
              "      <td>ผลิตภัณฑ์เนื้อสัตว์แปรรูปแช่เย็น</td>\n",
              "      <td>ผลิตภัณฑ์เนื้อสัตว์แปรรูป</td>\n",
              "      <td>2021-08-11</td>\n",
              "    </tr>\n",
              "    <tr>\n",
              "      <th>49</th>\n",
              "      <td>ผลิตภัณฑ์แหนม</td>\n",
              "      <td>จีเอสบี ไก่ยอสามสี 975 กรัม</td>\n",
              "      <td>69.00</td>\n",
              "      <td>ราคาต่อชิ้น(฿)</td>\n",
              "      <td>ผลิตภัณฑ์เนื้อสัตว์แปรรูปแช่เย็น</td>\n",
              "      <td>ผลิตภัณฑ์เนื้อสัตว์แปรรูป</td>\n",
              "      <td>2021-08-11</td>\n",
              "    </tr>\n",
              "    <tr>\n",
              "      <th>50</th>\n",
              "      <td>ผลิตภัณฑ์แหนม</td>\n",
              "      <td>จีเอสบี ไก่ยออุบล 500 กรัม</td>\n",
              "      <td>65.00</td>\n",
              "      <td>ราคาต่อชิ้น(฿)</td>\n",
              "      <td>ผลิตภัณฑ์เนื้อสัตว์แปรรูปแช่เย็น</td>\n",
              "      <td>ผลิตภัณฑ์เนื้อสัตว์แปรรูป</td>\n",
              "      <td>2021-08-11</td>\n",
              "    </tr>\n",
              "    <tr>\n",
              "      <th>51</th>\n",
              "      <td>ผลิตภัณฑ์แหนม</td>\n",
              "      <td>เอโร่ ไก่ยอ 450 กรัม</td>\n",
              "      <td>53.00</td>\n",
              "      <td>ราคาต่อชิ้น(฿)</td>\n",
              "      <td>ผลิตภัณฑ์เนื้อสัตว์แปรรูปแช่เย็น</td>\n",
              "      <td>ผลิตภัณฑ์เนื้อสัตว์แปรรูป</td>\n",
              "      <td>2021-08-11</td>\n",
              "    </tr>\n",
              "    <tr>\n",
              "      <th>52</th>\n",
              "      <td>ผลิตภัณฑ์แหนม</td>\n",
              "      <td>จีเอสบี ไก่ยอสูตรพริกไทยดำแบบเส้นยาว 450 กรัม</td>\n",
              "      <td>55.00</td>\n",
              "      <td>ราคาต่อชิ้น(฿)</td>\n",
              "      <td>ผลิตภัณฑ์เนื้อสัตว์แปรรูปแช่เย็น</td>\n",
              "      <td>ผลิตภัณฑ์เนื้อสัตว์แปรรูป</td>\n",
              "      <td>2021-08-11</td>\n",
              "    </tr>\n",
              "    <tr>\n",
              "      <th>53</th>\n",
              "      <td>ผลิตภัณฑ์แหนม</td>\n",
              "      <td>จีเอสบี ไก่ยอสูตรพริกไทยดำแบบแผ่น 480 กรัม</td>\n",
              "      <td>59.00</td>\n",
              "      <td>ราคาต่อชิ้น(฿)</td>\n",
              "      <td>ผลิตภัณฑ์เนื้อสัตว์แปรรูปแช่เย็น</td>\n",
              "      <td>ผลิตภัณฑ์เนื้อสัตว์แปรรูป</td>\n",
              "      <td>2021-08-11</td>\n",
              "    </tr>\n",
              "    <tr>\n",
              "      <th>54</th>\n",
              "      <td>ผลิตภัณฑ์แหนม</td>\n",
              "      <td>จีเอสบี ไก่ยอ 420 กรัม</td>\n",
              "      <td>43.00</td>\n",
              "      <td>ราคาต่อชิ้น(฿)</td>\n",
              "      <td>ผลิตภัณฑ์เนื้อสัตว์แปรรูปแช่เย็น</td>\n",
              "      <td>ผลิตภัณฑ์เนื้อสัตว์แปรรูป</td>\n",
              "      <td>2021-08-11</td>\n",
              "    </tr>\n",
              "    <tr>\n",
              "      <th>55</th>\n",
              "      <td>กุนเชียง</td>\n",
              "      <td>เจ้าสัว หมูแผ่นกรอบ 70 กรัม</td>\n",
              "      <td>79.00</td>\n",
              "      <td>ราคาต่อชิ้น(฿)</td>\n",
              "      <td>ผลิตภัณฑ์เนื้อสัตว์แปรรูปแบบแห้ง</td>\n",
              "      <td>ผลิตภัณฑ์เนื้อสัตว์แปรรูป</td>\n",
              "      <td>2021-08-11</td>\n",
              "    </tr>\n",
              "  </tbody>\n",
              "</table>\n",
              "</div>"
            ],
            "text/plain": [
              "   sub_product_group2  ...        date\n",
              "0                 แฮม  ...  2021-08-11\n",
              "1                 แฮม  ...  2021-08-11\n",
              "2                 แฮม  ...  2021-08-11\n",
              "3                 แฮม  ...  2021-08-11\n",
              "4                 แฮม  ...  2021-08-11\n",
              "5                 แฮม  ...  2021-08-11\n",
              "6                 แฮม  ...  2021-08-11\n",
              "7                 แฮม  ...  2021-08-11\n",
              "8                 แฮม  ...  2021-08-11\n",
              "9                 แฮม  ...  2021-08-11\n",
              "10                แฮม  ...  2021-08-11\n",
              "11                แฮม  ...  2021-08-11\n",
              "12                แฮม  ...  2021-08-11\n",
              "13                แฮม  ...  2021-08-11\n",
              "14                แฮม  ...  2021-08-11\n",
              "15                แฮม  ...  2021-08-11\n",
              "16                แฮม  ...  2021-08-11\n",
              "17                แฮม  ...  2021-08-11\n",
              "18                แฮม  ...  2021-08-11\n",
              "19                แฮม  ...  2021-08-11\n",
              "20                แฮม  ...  2021-08-11\n",
              "21                แฮม  ...  2021-08-11\n",
              "22                แฮม  ...  2021-08-11\n",
              "23                แฮม  ...  2021-08-11\n",
              "24                แฮม  ...  2021-08-11\n",
              "25                แฮม  ...  2021-08-11\n",
              "26                แฮม  ...  2021-08-11\n",
              "27                แฮม  ...  2021-08-11\n",
              "28                แฮม  ...  2021-08-11\n",
              "29                แฮม  ...  2021-08-11\n",
              "30                แฮม  ...  2021-08-11\n",
              "31                แฮม  ...  2021-08-11\n",
              "32                แฮม  ...  2021-08-11\n",
              "33                แฮม  ...  2021-08-11\n",
              "34                แฮม  ...  2021-08-11\n",
              "35                แฮม  ...  2021-08-11\n",
              "36                แฮม  ...  2021-08-11\n",
              "37                แฮม  ...  2021-08-11\n",
              "38                แฮม  ...  2021-08-11\n",
              "39                แฮม  ...  2021-08-11\n",
              "40            ลูกชิ้น  ...  2021-08-11\n",
              "41            ลูกชิ้น  ...  2021-08-11\n",
              "42            ลูกชิ้น  ...  2021-08-11\n",
              "43            ลูกชิ้น  ...  2021-08-11\n",
              "44            ลูกชิ้น  ...  2021-08-11\n",
              "45            ลูกชิ้น  ...  2021-08-11\n",
              "46            ลูกชิ้น  ...  2021-08-11\n",
              "47      ผลิตภัณฑ์แหนม  ...  2021-08-11\n",
              "48      ผลิตภัณฑ์แหนม  ...  2021-08-11\n",
              "49      ผลิตภัณฑ์แหนม  ...  2021-08-11\n",
              "50      ผลิตภัณฑ์แหนม  ...  2021-08-11\n",
              "51      ผลิตภัณฑ์แหนม  ...  2021-08-11\n",
              "52      ผลิตภัณฑ์แหนม  ...  2021-08-11\n",
              "53      ผลิตภัณฑ์แหนม  ...  2021-08-11\n",
              "54      ผลิตภัณฑ์แหนม  ...  2021-08-11\n",
              "55           กุนเชียง  ...  2021-08-11\n",
              "\n",
              "[56 rows x 7 columns]"
            ]
          },
          "metadata": {
            "tags": []
          },
          "execution_count": 179
        }
      ]
    },
    {
      "cell_type": "code",
      "metadata": {
        "id": "LwNTDzx8gnQf"
      },
      "source": [
        "as_date = list(df3['date'])\n",
        "day_name = []\n",
        "for i in as_date:\n",
        "    day_name.append(i.strftime(\"%A\"))\n",
        "    \n",
        "df3['datename'] = day_name\n",
        "\n",
        "df3['year'] = pd.to_datetime(df3[\"date\"]).dt.year\n",
        "df3['month'] = pd.to_datetime(df3[\"date\"]).dt.month\n",
        "\n",
        "df3['date'] = pd.to_datetime(df3[\"date\"])\n",
        "\n",
        "df3 = df3.replace({\"month\": m_ord2})\n",
        "\n",
        "df3['source'] = 'makroclick'"
      ],
      "execution_count": 180,
      "outputs": []
    },
    {
      "cell_type": "code",
      "metadata": {
        "colab": {
          "base_uri": "https://localhost:8080/",
          "height": 1000
        },
        "id": "p7HCgFJCgq8t",
        "outputId": "27609e2b-05df-476e-a8db-8da20ce76a90"
      },
      "source": [
        "ProcessMeat = df3.rename(columns={\"product_group\": \"sub source\", \"sub_product_group1\": \"sub source 1\", \"sub_product_group2\": \"sub source 2\"})\n",
        "ProcessMeat"
      ],
      "execution_count": 181,
      "outputs": [
        {
          "output_type": "execute_result",
          "data": {
            "text/html": [
              "<div>\n",
              "<style scoped>\n",
              "    .dataframe tbody tr th:only-of-type {\n",
              "        vertical-align: middle;\n",
              "    }\n",
              "\n",
              "    .dataframe tbody tr th {\n",
              "        vertical-align: top;\n",
              "    }\n",
              "\n",
              "    .dataframe thead th {\n",
              "        text-align: right;\n",
              "    }\n",
              "</style>\n",
              "<table border=\"1\" class=\"dataframe\">\n",
              "  <thead>\n",
              "    <tr style=\"text-align: right;\">\n",
              "      <th></th>\n",
              "      <th>sub source 2</th>\n",
              "      <th>product</th>\n",
              "      <th>price</th>\n",
              "      <th>unit</th>\n",
              "      <th>sub source 1</th>\n",
              "      <th>sub source</th>\n",
              "      <th>date</th>\n",
              "      <th>datename</th>\n",
              "      <th>year</th>\n",
              "      <th>month</th>\n",
              "      <th>source</th>\n",
              "    </tr>\n",
              "  </thead>\n",
              "  <tbody>\n",
              "    <tr>\n",
              "      <th>0</th>\n",
              "      <td>แฮม</td>\n",
              "      <td>บีเคพี ไส้กรอกไก่ไส้ชีสต้นตำรับ 500 กรัม</td>\n",
              "      <td>89.00</td>\n",
              "      <td>ราคาต่อชิ้น(฿)</td>\n",
              "      <td>ผลิตภัณฑ์เนื้อสัตว์แปรรูปแช่เย็น</td>\n",
              "      <td>ผลิตภัณฑ์เนื้อสัตว์แปรรูป</td>\n",
              "      <td>2021-08-11</td>\n",
              "      <td>Wednesday</td>\n",
              "      <td>2021</td>\n",
              "      <td>August</td>\n",
              "      <td>makroclick</td>\n",
              "    </tr>\n",
              "    <tr>\n",
              "      <th>1</th>\n",
              "      <td>แฮม</td>\n",
              "      <td>จีเอสบี ไก่ถือธง คอกเทล 1000 กรัม</td>\n",
              "      <td>57.00</td>\n",
              "      <td>ราคาต่อชิ้น(฿)</td>\n",
              "      <td>ผลิตภัณฑ์เนื้อสัตว์แปรรูปแช่เย็น</td>\n",
              "      <td>ผลิตภัณฑ์เนื้อสัตว์แปรรูป</td>\n",
              "      <td>2021-08-11</td>\n",
              "      <td>Wednesday</td>\n",
              "      <td>2021</td>\n",
              "      <td>August</td>\n",
              "      <td>makroclick</td>\n",
              "    </tr>\n",
              "    <tr>\n",
              "      <th>2</th>\n",
              "      <td>แฮม</td>\n",
              "      <td>จีเอสบี ไก่ถือธง ไส้กรอกฮอทดอก 1000 กรัม</td>\n",
              "      <td>57.00</td>\n",
              "      <td>ราคาต่อชิ้น(฿)</td>\n",
              "      <td>ผลิตภัณฑ์เนื้อสัตว์แปรรูปแช่เย็น</td>\n",
              "      <td>ผลิตภัณฑ์เนื้อสัตว์แปรรูป</td>\n",
              "      <td>2021-08-11</td>\n",
              "      <td>Wednesday</td>\n",
              "      <td>2021</td>\n",
              "      <td>August</td>\n",
              "      <td>makroclick</td>\n",
              "    </tr>\n",
              "    <tr>\n",
              "      <th>3</th>\n",
              "      <td>แฮม</td>\n",
              "      <td>จีเอสบี ไส้กรอกฮอทดอกไก่รมควัน 1000 กรัม</td>\n",
              "      <td>163.00</td>\n",
              "      <td>ราคาต่อชิ้น(฿)</td>\n",
              "      <td>ผลิตภัณฑ์เนื้อสัตว์แปรรูปแช่เย็น</td>\n",
              "      <td>ผลิตภัณฑ์เนื้อสัตว์แปรรูป</td>\n",
              "      <td>2021-08-11</td>\n",
              "      <td>Wednesday</td>\n",
              "      <td>2021</td>\n",
              "      <td>August</td>\n",
              "      <td>makroclick</td>\n",
              "    </tr>\n",
              "    <tr>\n",
              "      <th>4</th>\n",
              "      <td>แฮม</td>\n",
              "      <td>จีเอสบี ไก่แผ่นสามชั้นรมควัน 500 กรัม</td>\n",
              "      <td>85.00</td>\n",
              "      <td>ราคาต่อชิ้น(฿)</td>\n",
              "      <td>ผลิตภัณฑ์เนื้อสัตว์แปรรูปแช่เย็น</td>\n",
              "      <td>ผลิตภัณฑ์เนื้อสัตว์แปรรูป</td>\n",
              "      <td>2021-08-11</td>\n",
              "      <td>Wednesday</td>\n",
              "      <td>2021</td>\n",
              "      <td>August</td>\n",
              "      <td>makroclick</td>\n",
              "    </tr>\n",
              "    <tr>\n",
              "      <th>5</th>\n",
              "      <td>แฮม</td>\n",
              "      <td>ซีพี โบโลน่าหมู 500 กรัม</td>\n",
              "      <td>95.00</td>\n",
              "      <td>ราคาต่อชิ้น(฿)</td>\n",
              "      <td>ผลิตภัณฑ์เนื้อสัตว์แปรรูปแช่เย็น</td>\n",
              "      <td>ผลิตภัณฑ์เนื้อสัตว์แปรรูป</td>\n",
              "      <td>2021-08-11</td>\n",
              "      <td>Wednesday</td>\n",
              "      <td>2021</td>\n",
              "      <td>August</td>\n",
              "      <td>makroclick</td>\n",
              "    </tr>\n",
              "    <tr>\n",
              "      <th>6</th>\n",
              "      <td>แฮม</td>\n",
              "      <td>ซูเปอร์ เชฟ โบโล่น่าพริก 450 กรัม</td>\n",
              "      <td>69.00</td>\n",
              "      <td>ราคาต่อชิ้น(฿)</td>\n",
              "      <td>ผลิตภัณฑ์เนื้อสัตว์แปรรูปแช่เย็น</td>\n",
              "      <td>ผลิตภัณฑ์เนื้อสัตว์แปรรูป</td>\n",
              "      <td>2021-08-11</td>\n",
              "      <td>Wednesday</td>\n",
              "      <td>2021</td>\n",
              "      <td>August</td>\n",
              "      <td>makroclick</td>\n",
              "    </tr>\n",
              "    <tr>\n",
              "      <th>7</th>\n",
              "      <td>แฮม</td>\n",
              "      <td>จีเอสบี ไก่แผ่นรมควัน 4x4 นิ้ว 1000 กรัม</td>\n",
              "      <td>129.00</td>\n",
              "      <td>ราคาต่อชิ้น(฿)</td>\n",
              "      <td>ผลิตภัณฑ์เนื้อสัตว์แปรรูปแช่เย็น</td>\n",
              "      <td>ผลิตภัณฑ์เนื้อสัตว์แปรรูป</td>\n",
              "      <td>2021-08-11</td>\n",
              "      <td>Wednesday</td>\n",
              "      <td>2021</td>\n",
              "      <td>August</td>\n",
              "      <td>makroclick</td>\n",
              "    </tr>\n",
              "    <tr>\n",
              "      <th>8</th>\n",
              "      <td>แฮม</td>\n",
              "      <td>ซีพี ไส้กรอกแฮม 1000 กรัม</td>\n",
              "      <td>279.00</td>\n",
              "      <td>ราคาต่อชิ้น(฿)</td>\n",
              "      <td>ผลิตภัณฑ์เนื้อสัตว์แปรรูปแช่เย็น</td>\n",
              "      <td>ผลิตภัณฑ์เนื้อสัตว์แปรรูป</td>\n",
              "      <td>2021-08-11</td>\n",
              "      <td>Wednesday</td>\n",
              "      <td>2021</td>\n",
              "      <td>August</td>\n",
              "      <td>makroclick</td>\n",
              "    </tr>\n",
              "    <tr>\n",
              "      <th>9</th>\n",
              "      <td>แฮม</td>\n",
              "      <td>ไก่ถือธง ไส้กรอกวิล 1000 กรัม</td>\n",
              "      <td>77.00</td>\n",
              "      <td>ราคาต่อชิ้น(฿)</td>\n",
              "      <td>ผลิตภัณฑ์เนื้อสัตว์แปรรูปแช่เย็น</td>\n",
              "      <td>ผลิตภัณฑ์เนื้อสัตว์แปรรูป</td>\n",
              "      <td>2021-08-11</td>\n",
              "      <td>Wednesday</td>\n",
              "      <td>2021</td>\n",
              "      <td>August</td>\n",
              "      <td>makroclick</td>\n",
              "    </tr>\n",
              "    <tr>\n",
              "      <th>10</th>\n",
              "      <td>แฮม</td>\n",
              "      <td>มีทซีโร่ โบโลน่าจากพืช รสพริก 90 กรัม x 3 แพ็ค</td>\n",
              "      <td>31.67</td>\n",
              "      <td>ราคาต่อชิ้น(฿)</td>\n",
              "      <td>ผลิตภัณฑ์เนื้อสัตว์แปรรูปแช่เย็น</td>\n",
              "      <td>ผลิตภัณฑ์เนื้อสัตว์แปรรูป</td>\n",
              "      <td>2021-08-11</td>\n",
              "      <td>Wednesday</td>\n",
              "      <td>2021</td>\n",
              "      <td>August</td>\n",
              "      <td>makroclick</td>\n",
              "    </tr>\n",
              "    <tr>\n",
              "      <th>11</th>\n",
              "      <td>แฮม</td>\n",
              "      <td>บีเคพี โบโลน่าไก่พริก 450 กรัม</td>\n",
              "      <td>59.00</td>\n",
              "      <td>ราคาต่อชิ้น(฿)</td>\n",
              "      <td>ผลิตภัณฑ์เนื้อสัตว์แปรรูปแช่เย็น</td>\n",
              "      <td>ผลิตภัณฑ์เนื้อสัตว์แปรรูป</td>\n",
              "      <td>2021-08-11</td>\n",
              "      <td>Wednesday</td>\n",
              "      <td>2021</td>\n",
              "      <td>August</td>\n",
              "      <td>makroclick</td>\n",
              "    </tr>\n",
              "    <tr>\n",
              "      <th>12</th>\n",
              "      <td>แฮม</td>\n",
              "      <td>บีเคพี ไส้กรอกสโมคกี้ไบท์ 1000 กรัม</td>\n",
              "      <td>101.00</td>\n",
              "      <td>ราคาต่อชิ้น(฿)</td>\n",
              "      <td>ผลิตภัณฑ์เนื้อสัตว์แปรรูปแช่เย็น</td>\n",
              "      <td>ผลิตภัณฑ์เนื้อสัตว์แปรรูป</td>\n",
              "      <td>2021-08-11</td>\n",
              "      <td>Wednesday</td>\n",
              "      <td>2021</td>\n",
              "      <td>August</td>\n",
              "      <td>makroclick</td>\n",
              "    </tr>\n",
              "    <tr>\n",
              "      <th>13</th>\n",
              "      <td>แฮม</td>\n",
              "      <td>จีเอสบี เวียนนารมควัน 4 นิ้ว 1000 กรัม</td>\n",
              "      <td>153.00</td>\n",
              "      <td>ราคาต่อชิ้น(฿)</td>\n",
              "      <td>ผลิตภัณฑ์เนื้อสัตว์แปรรูปแช่เย็น</td>\n",
              "      <td>ผลิตภัณฑ์เนื้อสัตว์แปรรูป</td>\n",
              "      <td>2021-08-11</td>\n",
              "      <td>Wednesday</td>\n",
              "      <td>2021</td>\n",
              "      <td>August</td>\n",
              "      <td>makroclick</td>\n",
              "    </tr>\n",
              "    <tr>\n",
              "      <th>14</th>\n",
              "      <td>แฮม</td>\n",
              "      <td>มีทซีโร่ โบโลน่าจากพืช รสออริจินัล 90 กรัม x 3...</td>\n",
              "      <td>31.67</td>\n",
              "      <td>ราคาต่อชิ้น(฿)</td>\n",
              "      <td>ผลิตภัณฑ์เนื้อสัตว์แปรรูปแช่เย็น</td>\n",
              "      <td>ผลิตภัณฑ์เนื้อสัตว์แปรรูป</td>\n",
              "      <td>2021-08-11</td>\n",
              "      <td>Wednesday</td>\n",
              "      <td>2021</td>\n",
              "      <td>August</td>\n",
              "      <td>makroclick</td>\n",
              "    </tr>\n",
              "    <tr>\n",
              "      <th>15</th>\n",
              "      <td>แฮม</td>\n",
              "      <td>บุชเชอร์ มาร์เบิ้ลเบคอน หมูผสมไก่บดสไลซ์รมควัน...</td>\n",
              "      <td>135.00</td>\n",
              "      <td>ราคาต่อชิ้น(฿)</td>\n",
              "      <td>ผลิตภัณฑ์เนื้อสัตว์แปรรูปแช่เย็น</td>\n",
              "      <td>ผลิตภัณฑ์เนื้อสัตว์แปรรูป</td>\n",
              "      <td>2021-08-11</td>\n",
              "      <td>Wednesday</td>\n",
              "      <td>2021</td>\n",
              "      <td>August</td>\n",
              "      <td>makroclick</td>\n",
              "    </tr>\n",
              "    <tr>\n",
              "      <th>16</th>\n",
              "      <td>แฮม</td>\n",
              "      <td>บุชเชอร์ ค็อกเทลบราทเวิร์สท 500 กรัม</td>\n",
              "      <td>189.00</td>\n",
              "      <td>ราคาต่อชิ้น(฿)</td>\n",
              "      <td>ผลิตภัณฑ์เนื้อสัตว์แปรรูปแช่เย็น</td>\n",
              "      <td>ผลิตภัณฑ์เนื้อสัตว์แปรรูป</td>\n",
              "      <td>2021-08-11</td>\n",
              "      <td>Wednesday</td>\n",
              "      <td>2021</td>\n",
              "      <td>August</td>\n",
              "      <td>makroclick</td>\n",
              "    </tr>\n",
              "    <tr>\n",
              "      <th>17</th>\n",
              "      <td>แฮม</td>\n",
              "      <td>เบทาโกร ไส้กรอกอะราบิกิ หมูผสมไก่ 3 นิ้ว 500 กรัม</td>\n",
              "      <td>155.00</td>\n",
              "      <td>ราคาต่อชิ้น(฿)</td>\n",
              "      <td>ผลิตภัณฑ์เนื้อสัตว์แปรรูปแช่เย็น</td>\n",
              "      <td>ผลิตภัณฑ์เนื้อสัตว์แปรรูป</td>\n",
              "      <td>2021-08-11</td>\n",
              "      <td>Wednesday</td>\n",
              "      <td>2021</td>\n",
              "      <td>August</td>\n",
              "      <td>makroclick</td>\n",
              "    </tr>\n",
              "    <tr>\n",
              "      <th>18</th>\n",
              "      <td>แฮม</td>\n",
              "      <td>จีเอสบี ไส้กรอกฮอทดอกเบรคฟัสหนังกรอบ 500 กรัม</td>\n",
              "      <td>55.00</td>\n",
              "      <td>ราคาต่อชิ้น(฿)</td>\n",
              "      <td>ผลิตภัณฑ์เนื้อสัตว์แปรรูปแช่เย็น</td>\n",
              "      <td>ผลิตภัณฑ์เนื้อสัตว์แปรรูป</td>\n",
              "      <td>2021-08-11</td>\n",
              "      <td>Wednesday</td>\n",
              "      <td>2021</td>\n",
              "      <td>August</td>\n",
              "      <td>makroclick</td>\n",
              "    </tr>\n",
              "    <tr>\n",
              "      <th>19</th>\n",
              "      <td>แฮม</td>\n",
              "      <td>ซีพี ชิคบอลรสไก่รมควันแช่แข็ง 800 กรัม</td>\n",
              "      <td>199.00</td>\n",
              "      <td>ราคาต่อชิ้น(฿)</td>\n",
              "      <td>ผลิตภัณฑ์เนื้อสัตว์แปรรูปแช่เย็น</td>\n",
              "      <td>ผลิตภัณฑ์เนื้อสัตว์แปรรูป</td>\n",
              "      <td>2021-08-11</td>\n",
              "      <td>Wednesday</td>\n",
              "      <td>2021</td>\n",
              "      <td>August</td>\n",
              "      <td>makroclick</td>\n",
              "    </tr>\n",
              "    <tr>\n",
              "      <th>20</th>\n",
              "      <td>แฮม</td>\n",
              "      <td>ซูเปอร์ เชฟ โบโล่น่า 450 กรัม</td>\n",
              "      <td>69.00</td>\n",
              "      <td>ราคาต่อชิ้น(฿)</td>\n",
              "      <td>ผลิตภัณฑ์เนื้อสัตว์แปรรูปแช่เย็น</td>\n",
              "      <td>ผลิตภัณฑ์เนื้อสัตว์แปรรูป</td>\n",
              "      <td>2021-08-11</td>\n",
              "      <td>Wednesday</td>\n",
              "      <td>2021</td>\n",
              "      <td>August</td>\n",
              "      <td>makroclick</td>\n",
              "    </tr>\n",
              "    <tr>\n",
              "      <th>21</th>\n",
              "      <td>แฮม</td>\n",
              "      <td>ซีพี โบโลน่าไก่สุพรีมสไปซี่ 400 กรัม</td>\n",
              "      <td>79.00</td>\n",
              "      <td>ราคาต่อชิ้น(฿)</td>\n",
              "      <td>ผลิตภัณฑ์เนื้อสัตว์แปรรูปแช่เย็น</td>\n",
              "      <td>ผลิตภัณฑ์เนื้อสัตว์แปรรูป</td>\n",
              "      <td>2021-08-11</td>\n",
              "      <td>Wednesday</td>\n",
              "      <td>2021</td>\n",
              "      <td>August</td>\n",
              "      <td>makroclick</td>\n",
              "    </tr>\n",
              "    <tr>\n",
              "      <th>22</th>\n",
              "      <td>แฮม</td>\n",
              "      <td>ซีพี โบโลน่าไก่สุพรีม 400 กรัม</td>\n",
              "      <td>79.00</td>\n",
              "      <td>ราคาต่อชิ้น(฿)</td>\n",
              "      <td>ผลิตภัณฑ์เนื้อสัตว์แปรรูปแช่เย็น</td>\n",
              "      <td>ผลิตภัณฑ์เนื้อสัตว์แปรรูป</td>\n",
              "      <td>2021-08-11</td>\n",
              "      <td>Wednesday</td>\n",
              "      <td>2021</td>\n",
              "      <td>August</td>\n",
              "      <td>makroclick</td>\n",
              "    </tr>\n",
              "    <tr>\n",
              "      <th>23</th>\n",
              "      <td>แฮม</td>\n",
              "      <td>ซีพี มินิคอกเทลแฮมเบค่อน 400 กรัม</td>\n",
              "      <td>89.00</td>\n",
              "      <td>ราคาต่อชิ้น(฿)</td>\n",
              "      <td>ผลิตภัณฑ์เนื้อสัตว์แปรรูปแช่เย็น</td>\n",
              "      <td>ผลิตภัณฑ์เนื้อสัตว์แปรรูป</td>\n",
              "      <td>2021-08-11</td>\n",
              "      <td>Wednesday</td>\n",
              "      <td>2021</td>\n",
              "      <td>August</td>\n",
              "      <td>makroclick</td>\n",
              "    </tr>\n",
              "    <tr>\n",
              "      <th>24</th>\n",
              "      <td>แฮม</td>\n",
              "      <td>ซูเปอร์ เชฟ ไส้กรอกไก่หนังกรอบ 500 กรัม</td>\n",
              "      <td>59.00</td>\n",
              "      <td>ราคาต่อชิ้น(฿)</td>\n",
              "      <td>ผลิตภัณฑ์เนื้อสัตว์แปรรูปแช่เย็น</td>\n",
              "      <td>ผลิตภัณฑ์เนื้อสัตว์แปรรูป</td>\n",
              "      <td>2021-08-11</td>\n",
              "      <td>Wednesday</td>\n",
              "      <td>2021</td>\n",
              "      <td>August</td>\n",
              "      <td>makroclick</td>\n",
              "    </tr>\n",
              "    <tr>\n",
              "      <th>25</th>\n",
              "      <td>แฮม</td>\n",
              "      <td>บุชเชอร์ แฮมขาหมูปรุงสุก ไม่มีกระดูก 700 กรัม</td>\n",
              "      <td>259.00</td>\n",
              "      <td>ราคาต่อชิ้น(฿)</td>\n",
              "      <td>ผลิตภัณฑ์เนื้อสัตว์แปรรูปแช่เย็น</td>\n",
              "      <td>ผลิตภัณฑ์เนื้อสัตว์แปรรูป</td>\n",
              "      <td>2021-08-11</td>\n",
              "      <td>Wednesday</td>\n",
              "      <td>2021</td>\n",
              "      <td>August</td>\n",
              "      <td>makroclick</td>\n",
              "    </tr>\n",
              "    <tr>\n",
              "      <th>26</th>\n",
              "      <td>แฮม</td>\n",
              "      <td>จีเอสบี ชุดไก่ปาร์ตี้เซ็ท 600 กรัม</td>\n",
              "      <td>95.00</td>\n",
              "      <td>ราคาต่อชิ้น(฿)</td>\n",
              "      <td>ผลิตภัณฑ์เนื้อสัตว์แปรรูปแช่เย็น</td>\n",
              "      <td>ผลิตภัณฑ์เนื้อสัตว์แปรรูป</td>\n",
              "      <td>2021-08-11</td>\n",
              "      <td>Wednesday</td>\n",
              "      <td>2021</td>\n",
              "      <td>August</td>\n",
              "      <td>makroclick</td>\n",
              "    </tr>\n",
              "    <tr>\n",
              "      <th>27</th>\n",
              "      <td>แฮม</td>\n",
              "      <td>จีเอสบี เบรคฟัสสตริปไก่ 500 กรัม</td>\n",
              "      <td>75.00</td>\n",
              "      <td>ราคาต่อชิ้น(฿)</td>\n",
              "      <td>ผลิตภัณฑ์เนื้อสัตว์แปรรูปแช่เย็น</td>\n",
              "      <td>ผลิตภัณฑ์เนื้อสัตว์แปรรูป</td>\n",
              "      <td>2021-08-11</td>\n",
              "      <td>Wednesday</td>\n",
              "      <td>2021</td>\n",
              "      <td>August</td>\n",
              "      <td>makroclick</td>\n",
              "    </tr>\n",
              "    <tr>\n",
              "      <th>28</th>\n",
              "      <td>แฮม</td>\n",
              "      <td>จีเอสบี เบรคฟัสไก่สไลซ์กลม 500 กรัม</td>\n",
              "      <td>79.00</td>\n",
              "      <td>ราคาต่อชิ้น(฿)</td>\n",
              "      <td>ผลิตภัณฑ์เนื้อสัตว์แปรรูปแช่เย็น</td>\n",
              "      <td>ผลิตภัณฑ์เนื้อสัตว์แปรรูป</td>\n",
              "      <td>2021-08-11</td>\n",
              "      <td>Wednesday</td>\n",
              "      <td>2021</td>\n",
              "      <td>August</td>\n",
              "      <td>makroclick</td>\n",
              "    </tr>\n",
              "    <tr>\n",
              "      <th>29</th>\n",
              "      <td>แฮม</td>\n",
              "      <td>จีเอสบี โบโลน่าไก่พริกสด 450 กรัม</td>\n",
              "      <td>59.00</td>\n",
              "      <td>ราคาต่อชิ้น(฿)</td>\n",
              "      <td>ผลิตภัณฑ์เนื้อสัตว์แปรรูปแช่เย็น</td>\n",
              "      <td>ผลิตภัณฑ์เนื้อสัตว์แปรรูป</td>\n",
              "      <td>2021-08-11</td>\n",
              "      <td>Wednesday</td>\n",
              "      <td>2021</td>\n",
              "      <td>August</td>\n",
              "      <td>makroclick</td>\n",
              "    </tr>\n",
              "    <tr>\n",
              "      <th>30</th>\n",
              "      <td>แฮม</td>\n",
              "      <td>จีเอสบี ไส้กรอกคอกเทลไก่รมควัน 500 กรัม</td>\n",
              "      <td>79.00</td>\n",
              "      <td>ราคาต่อชิ้น(฿)</td>\n",
              "      <td>ผลิตภัณฑ์เนื้อสัตว์แปรรูปแช่เย็น</td>\n",
              "      <td>ผลิตภัณฑ์เนื้อสัตว์แปรรูป</td>\n",
              "      <td>2021-08-11</td>\n",
              "      <td>Wednesday</td>\n",
              "      <td>2021</td>\n",
              "      <td>August</td>\n",
              "      <td>makroclick</td>\n",
              "    </tr>\n",
              "    <tr>\n",
              "      <th>31</th>\n",
              "      <td>แฮม</td>\n",
              "      <td>จีเอสบี ไส้กรอกไก่สอดไส้ชีส 500 กรัม</td>\n",
              "      <td>72.00</td>\n",
              "      <td>ราคาต่อชิ้น(฿)</td>\n",
              "      <td>ผลิตภัณฑ์เนื้อสัตว์แปรรูปแช่เย็น</td>\n",
              "      <td>ผลิตภัณฑ์เนื้อสัตว์แปรรูป</td>\n",
              "      <td>2021-08-11</td>\n",
              "      <td>Wednesday</td>\n",
              "      <td>2021</td>\n",
              "      <td>August</td>\n",
              "      <td>makroclick</td>\n",
              "    </tr>\n",
              "    <tr>\n",
              "      <th>32</th>\n",
              "      <td>แฮม</td>\n",
              "      <td>เซพแพ็ค ไส้กรอกจัมโบ้รมควัน 1000 กรัม</td>\n",
              "      <td>89.00</td>\n",
              "      <td>ราคาต่อชิ้น(฿)</td>\n",
              "      <td>ผลิตภัณฑ์เนื้อสัตว์แปรรูปแช่เย็น</td>\n",
              "      <td>ผลิตภัณฑ์เนื้อสัตว์แปรรูป</td>\n",
              "      <td>2021-08-11</td>\n",
              "      <td>Wednesday</td>\n",
              "      <td>2021</td>\n",
              "      <td>August</td>\n",
              "      <td>makroclick</td>\n",
              "    </tr>\n",
              "    <tr>\n",
              "      <th>33</th>\n",
              "      <td>แฮม</td>\n",
              "      <td>จีเอสบี โบโลน่าไก่ 1000 กรัม</td>\n",
              "      <td>115.00</td>\n",
              "      <td>ราคาต่อชิ้น(฿)</td>\n",
              "      <td>ผลิตภัณฑ์เนื้อสัตว์แปรรูปแช่เย็น</td>\n",
              "      <td>ผลิตภัณฑ์เนื้อสัตว์แปรรูป</td>\n",
              "      <td>2021-08-11</td>\n",
              "      <td>Wednesday</td>\n",
              "      <td>2021</td>\n",
              "      <td>August</td>\n",
              "      <td>makroclick</td>\n",
              "    </tr>\n",
              "    <tr>\n",
              "      <th>34</th>\n",
              "      <td>แฮม</td>\n",
              "      <td>จีเอสบี ไส้กรอกชีสข้าวโพด 1000 กรัม</td>\n",
              "      <td>109.00</td>\n",
              "      <td>ราคาต่อชิ้น(฿)</td>\n",
              "      <td>ผลิตภัณฑ์เนื้อสัตว์แปรรูปแช่เย็น</td>\n",
              "      <td>ผลิตภัณฑ์เนื้อสัตว์แปรรูป</td>\n",
              "      <td>2021-08-11</td>\n",
              "      <td>Wednesday</td>\n",
              "      <td>2021</td>\n",
              "      <td>August</td>\n",
              "      <td>makroclick</td>\n",
              "    </tr>\n",
              "    <tr>\n",
              "      <th>35</th>\n",
              "      <td>แฮม</td>\n",
              "      <td>จีเอสบี คอกเทลปาร์ตี้ 500 กรัม</td>\n",
              "      <td>89.00</td>\n",
              "      <td>ราคาต่อชิ้น(฿)</td>\n",
              "      <td>ผลิตภัณฑ์เนื้อสัตว์แปรรูปแช่เย็น</td>\n",
              "      <td>ผลิตภัณฑ์เนื้อสัตว์แปรรูป</td>\n",
              "      <td>2021-08-11</td>\n",
              "      <td>Wednesday</td>\n",
              "      <td>2021</td>\n",
              "      <td>August</td>\n",
              "      <td>makroclick</td>\n",
              "    </tr>\n",
              "    <tr>\n",
              "      <th>36</th>\n",
              "      <td>แฮม</td>\n",
              "      <td>จีเอสบี บาโลน่าไก่ 1 กิโลกรัม</td>\n",
              "      <td>69.00</td>\n",
              "      <td>ราคาต่อชิ้น(฿)</td>\n",
              "      <td>ผลิตภัณฑ์เนื้อสัตว์แปรรูปแช่เย็น</td>\n",
              "      <td>ผลิตภัณฑ์เนื้อสัตว์แปรรูป</td>\n",
              "      <td>2021-08-11</td>\n",
              "      <td>Wednesday</td>\n",
              "      <td>2021</td>\n",
              "      <td>August</td>\n",
              "      <td>makroclick</td>\n",
              "    </tr>\n",
              "    <tr>\n",
              "      <th>37</th>\n",
              "      <td>แฮม</td>\n",
              "      <td>จีเอสบี ไส้กรอกมินิคอกเทลไก่ชีสซี่ 500 กรัม</td>\n",
              "      <td>80.00</td>\n",
              "      <td>ราคาต่อชิ้น(฿)</td>\n",
              "      <td>ผลิตภัณฑ์เนื้อสัตว์แปรรูปแช่เย็น</td>\n",
              "      <td>ผลิตภัณฑ์เนื้อสัตว์แปรรูป</td>\n",
              "      <td>2021-08-11</td>\n",
              "      <td>Wednesday</td>\n",
              "      <td>2021</td>\n",
              "      <td>August</td>\n",
              "      <td>makroclick</td>\n",
              "    </tr>\n",
              "    <tr>\n",
              "      <th>38</th>\n",
              "      <td>แฮม</td>\n",
              "      <td>จีเอสบี ไส้กรอกแฟรงค์สโมกกี้ 1000 กรัม</td>\n",
              "      <td>99.00</td>\n",
              "      <td>ราคาต่อชิ้น(฿)</td>\n",
              "      <td>ผลิตภัณฑ์เนื้อสัตว์แปรรูปแช่เย็น</td>\n",
              "      <td>ผลิตภัณฑ์เนื้อสัตว์แปรรูป</td>\n",
              "      <td>2021-08-11</td>\n",
              "      <td>Wednesday</td>\n",
              "      <td>2021</td>\n",
              "      <td>August</td>\n",
              "      <td>makroclick</td>\n",
              "    </tr>\n",
              "    <tr>\n",
              "      <th>39</th>\n",
              "      <td>แฮม</td>\n",
              "      <td>จีเอสบี ไส้กรอกเวียนนา 1000 กรัม</td>\n",
              "      <td>59.00</td>\n",
              "      <td>ราคาต่อชิ้น(฿)</td>\n",
              "      <td>ผลิตภัณฑ์เนื้อสัตว์แปรรูปแช่เย็น</td>\n",
              "      <td>ผลิตภัณฑ์เนื้อสัตว์แปรรูป</td>\n",
              "      <td>2021-08-11</td>\n",
              "      <td>Wednesday</td>\n",
              "      <td>2021</td>\n",
              "      <td>August</td>\n",
              "      <td>makroclick</td>\n",
              "    </tr>\n",
              "    <tr>\n",
              "      <th>40</th>\n",
              "      <td>ลูกชิ้น</td>\n",
              "      <td>จีเอสบี ไก่ถือธง ลูกชิ้นไก่ 3000 กรัม</td>\n",
              "      <td>165.00</td>\n",
              "      <td>ราคาต่อชิ้น(฿)</td>\n",
              "      <td>ผลิตภัณฑ์เนื้อสัตว์แปรรูปแช่เย็น</td>\n",
              "      <td>ผลิตภัณฑ์เนื้อสัตว์แปรรูป</td>\n",
              "      <td>2021-08-11</td>\n",
              "      <td>Wednesday</td>\n",
              "      <td>2021</td>\n",
              "      <td>August</td>\n",
              "      <td>makroclick</td>\n",
              "    </tr>\n",
              "    <tr>\n",
              "      <th>41</th>\n",
              "      <td>ลูกชิ้น</td>\n",
              "      <td>เอโร่ ลูกชิ้นไก่ 1000 กรัม</td>\n",
              "      <td>99.00</td>\n",
              "      <td>ราคาต่อชิ้น(฿)</td>\n",
              "      <td>ผลิตภัณฑ์เนื้อสัตว์แปรรูปแช่เย็น</td>\n",
              "      <td>ผลิตภัณฑ์เนื้อสัตว์แปรรูป</td>\n",
              "      <td>2021-08-11</td>\n",
              "      <td>Wednesday</td>\n",
              "      <td>2021</td>\n",
              "      <td>August</td>\n",
              "      <td>makroclick</td>\n",
              "    </tr>\n",
              "    <tr>\n",
              "      <th>42</th>\n",
              "      <td>ลูกชิ้น</td>\n",
              "      <td>จีเอสบี ลูกชิ้นไก่รักบี้ 1000 กรัม</td>\n",
              "      <td>82.00</td>\n",
              "      <td>ราคาต่อชิ้น(฿)</td>\n",
              "      <td>ผลิตภัณฑ์เนื้อสัตว์แปรรูปแช่เย็น</td>\n",
              "      <td>ผลิตภัณฑ์เนื้อสัตว์แปรรูป</td>\n",
              "      <td>2021-08-11</td>\n",
              "      <td>Wednesday</td>\n",
              "      <td>2021</td>\n",
              "      <td>August</td>\n",
              "      <td>makroclick</td>\n",
              "    </tr>\n",
              "    <tr>\n",
              "      <th>43</th>\n",
              "      <td>ลูกชิ้น</td>\n",
              "      <td>จีเอสบี ไก่ห่อเต้าหู้ทรงเครื่อง 500 กรัม</td>\n",
              "      <td>60.00</td>\n",
              "      <td>ราคาต่อชิ้น(฿)</td>\n",
              "      <td>ผลิตภัณฑ์เนื้อสัตว์แปรรูปแช่เย็น</td>\n",
              "      <td>ผลิตภัณฑ์เนื้อสัตว์แปรรูป</td>\n",
              "      <td>2021-08-11</td>\n",
              "      <td>Wednesday</td>\n",
              "      <td>2021</td>\n",
              "      <td>August</td>\n",
              "      <td>makroclick</td>\n",
              "    </tr>\n",
              "    <tr>\n",
              "      <th>44</th>\n",
              "      <td>ลูกชิ้น</td>\n",
              "      <td>เอโร่ ลูกชิ้นสาหร่าย 1000 กรัม</td>\n",
              "      <td>99.00</td>\n",
              "      <td>ราคาต่อชิ้น(฿)</td>\n",
              "      <td>ผลิตภัณฑ์เนื้อสัตว์แปรรูปแช่เย็น</td>\n",
              "      <td>ผลิตภัณฑ์เนื้อสัตว์แปรรูป</td>\n",
              "      <td>2021-08-11</td>\n",
              "      <td>Wednesday</td>\n",
              "      <td>2021</td>\n",
              "      <td>August</td>\n",
              "      <td>makroclick</td>\n",
              "    </tr>\n",
              "    <tr>\n",
              "      <th>45</th>\n",
              "      <td>ลูกชิ้น</td>\n",
              "      <td>จีเอสบี ลูกชิ้นสาหร่าย 1000 กรัม</td>\n",
              "      <td>77.00</td>\n",
              "      <td>ราคาต่อชิ้น(฿)</td>\n",
              "      <td>ผลิตภัณฑ์เนื้อสัตว์แปรรูปแช่เย็น</td>\n",
              "      <td>ผลิตภัณฑ์เนื้อสัตว์แปรรูป</td>\n",
              "      <td>2021-08-11</td>\n",
              "      <td>Wednesday</td>\n",
              "      <td>2021</td>\n",
              "      <td>August</td>\n",
              "      <td>makroclick</td>\n",
              "    </tr>\n",
              "    <tr>\n",
              "      <th>46</th>\n",
              "      <td>ลูกชิ้น</td>\n",
              "      <td>จีเอสบี ลูกชิ้นไก่ 1000 กรัม</td>\n",
              "      <td>63.00</td>\n",
              "      <td>ราคาต่อชิ้น(฿)</td>\n",
              "      <td>ผลิตภัณฑ์เนื้อสัตว์แปรรูปแช่เย็น</td>\n",
              "      <td>ผลิตภัณฑ์เนื้อสัตว์แปรรูป</td>\n",
              "      <td>2021-08-11</td>\n",
              "      <td>Wednesday</td>\n",
              "      <td>2021</td>\n",
              "      <td>August</td>\n",
              "      <td>makroclick</td>\n",
              "    </tr>\n",
              "    <tr>\n",
              "      <th>47</th>\n",
              "      <td>ผลิตภัณฑ์แหนม</td>\n",
              "      <td>ส.ขอนแก่น แหนมแท่งกลาง 120 กรัม x 2 แท่ง</td>\n",
              "      <td>49.00</td>\n",
              "      <td>ราคาต่อชิ้น(฿)</td>\n",
              "      <td>ผลิตภัณฑ์เนื้อสัตว์แปรรูปแช่เย็น</td>\n",
              "      <td>ผลิตภัณฑ์เนื้อสัตว์แปรรูป</td>\n",
              "      <td>2021-08-11</td>\n",
              "      <td>Wednesday</td>\n",
              "      <td>2021</td>\n",
              "      <td>August</td>\n",
              "      <td>makroclick</td>\n",
              "    </tr>\n",
              "    <tr>\n",
              "      <th>48</th>\n",
              "      <td>ผลิตภัณฑ์แหนม</td>\n",
              "      <td>จีเอสบี ไก่ยอแบบเส้นยาว 450 กรัม</td>\n",
              "      <td>55.00</td>\n",
              "      <td>ราคาต่อชิ้น(฿)</td>\n",
              "      <td>ผลิตภัณฑ์เนื้อสัตว์แปรรูปแช่เย็น</td>\n",
              "      <td>ผลิตภัณฑ์เนื้อสัตว์แปรรูป</td>\n",
              "      <td>2021-08-11</td>\n",
              "      <td>Wednesday</td>\n",
              "      <td>2021</td>\n",
              "      <td>August</td>\n",
              "      <td>makroclick</td>\n",
              "    </tr>\n",
              "    <tr>\n",
              "      <th>49</th>\n",
              "      <td>ผลิตภัณฑ์แหนม</td>\n",
              "      <td>จีเอสบี ไก่ยอสามสี 975 กรัม</td>\n",
              "      <td>69.00</td>\n",
              "      <td>ราคาต่อชิ้น(฿)</td>\n",
              "      <td>ผลิตภัณฑ์เนื้อสัตว์แปรรูปแช่เย็น</td>\n",
              "      <td>ผลิตภัณฑ์เนื้อสัตว์แปรรูป</td>\n",
              "      <td>2021-08-11</td>\n",
              "      <td>Wednesday</td>\n",
              "      <td>2021</td>\n",
              "      <td>August</td>\n",
              "      <td>makroclick</td>\n",
              "    </tr>\n",
              "    <tr>\n",
              "      <th>50</th>\n",
              "      <td>ผลิตภัณฑ์แหนม</td>\n",
              "      <td>จีเอสบี ไก่ยออุบล 500 กรัม</td>\n",
              "      <td>65.00</td>\n",
              "      <td>ราคาต่อชิ้น(฿)</td>\n",
              "      <td>ผลิตภัณฑ์เนื้อสัตว์แปรรูปแช่เย็น</td>\n",
              "      <td>ผลิตภัณฑ์เนื้อสัตว์แปรรูป</td>\n",
              "      <td>2021-08-11</td>\n",
              "      <td>Wednesday</td>\n",
              "      <td>2021</td>\n",
              "      <td>August</td>\n",
              "      <td>makroclick</td>\n",
              "    </tr>\n",
              "    <tr>\n",
              "      <th>51</th>\n",
              "      <td>ผลิตภัณฑ์แหนม</td>\n",
              "      <td>เอโร่ ไก่ยอ 450 กรัม</td>\n",
              "      <td>53.00</td>\n",
              "      <td>ราคาต่อชิ้น(฿)</td>\n",
              "      <td>ผลิตภัณฑ์เนื้อสัตว์แปรรูปแช่เย็น</td>\n",
              "      <td>ผลิตภัณฑ์เนื้อสัตว์แปรรูป</td>\n",
              "      <td>2021-08-11</td>\n",
              "      <td>Wednesday</td>\n",
              "      <td>2021</td>\n",
              "      <td>August</td>\n",
              "      <td>makroclick</td>\n",
              "    </tr>\n",
              "    <tr>\n",
              "      <th>52</th>\n",
              "      <td>ผลิตภัณฑ์แหนม</td>\n",
              "      <td>จีเอสบี ไก่ยอสูตรพริกไทยดำแบบเส้นยาว 450 กรัม</td>\n",
              "      <td>55.00</td>\n",
              "      <td>ราคาต่อชิ้น(฿)</td>\n",
              "      <td>ผลิตภัณฑ์เนื้อสัตว์แปรรูปแช่เย็น</td>\n",
              "      <td>ผลิตภัณฑ์เนื้อสัตว์แปรรูป</td>\n",
              "      <td>2021-08-11</td>\n",
              "      <td>Wednesday</td>\n",
              "      <td>2021</td>\n",
              "      <td>August</td>\n",
              "      <td>makroclick</td>\n",
              "    </tr>\n",
              "    <tr>\n",
              "      <th>53</th>\n",
              "      <td>ผลิตภัณฑ์แหนม</td>\n",
              "      <td>จีเอสบี ไก่ยอสูตรพริกไทยดำแบบแผ่น 480 กรัม</td>\n",
              "      <td>59.00</td>\n",
              "      <td>ราคาต่อชิ้น(฿)</td>\n",
              "      <td>ผลิตภัณฑ์เนื้อสัตว์แปรรูปแช่เย็น</td>\n",
              "      <td>ผลิตภัณฑ์เนื้อสัตว์แปรรูป</td>\n",
              "      <td>2021-08-11</td>\n",
              "      <td>Wednesday</td>\n",
              "      <td>2021</td>\n",
              "      <td>August</td>\n",
              "      <td>makroclick</td>\n",
              "    </tr>\n",
              "    <tr>\n",
              "      <th>54</th>\n",
              "      <td>ผลิตภัณฑ์แหนม</td>\n",
              "      <td>จีเอสบี ไก่ยอ 420 กรัม</td>\n",
              "      <td>43.00</td>\n",
              "      <td>ราคาต่อชิ้น(฿)</td>\n",
              "      <td>ผลิตภัณฑ์เนื้อสัตว์แปรรูปแช่เย็น</td>\n",
              "      <td>ผลิตภัณฑ์เนื้อสัตว์แปรรูป</td>\n",
              "      <td>2021-08-11</td>\n",
              "      <td>Wednesday</td>\n",
              "      <td>2021</td>\n",
              "      <td>August</td>\n",
              "      <td>makroclick</td>\n",
              "    </tr>\n",
              "    <tr>\n",
              "      <th>55</th>\n",
              "      <td>กุนเชียง</td>\n",
              "      <td>เจ้าสัว หมูแผ่นกรอบ 70 กรัม</td>\n",
              "      <td>79.00</td>\n",
              "      <td>ราคาต่อชิ้น(฿)</td>\n",
              "      <td>ผลิตภัณฑ์เนื้อสัตว์แปรรูปแบบแห้ง</td>\n",
              "      <td>ผลิตภัณฑ์เนื้อสัตว์แปรรูป</td>\n",
              "      <td>2021-08-11</td>\n",
              "      <td>Wednesday</td>\n",
              "      <td>2021</td>\n",
              "      <td>August</td>\n",
              "      <td>makroclick</td>\n",
              "    </tr>\n",
              "  </tbody>\n",
              "</table>\n",
              "</div>"
            ],
            "text/plain": [
              "     sub source 2  ...      source\n",
              "0             แฮม  ...  makroclick\n",
              "1             แฮม  ...  makroclick\n",
              "2             แฮม  ...  makroclick\n",
              "3             แฮม  ...  makroclick\n",
              "4             แฮม  ...  makroclick\n",
              "5             แฮม  ...  makroclick\n",
              "6             แฮม  ...  makroclick\n",
              "7             แฮม  ...  makroclick\n",
              "8             แฮม  ...  makroclick\n",
              "9             แฮม  ...  makroclick\n",
              "10            แฮม  ...  makroclick\n",
              "11            แฮม  ...  makroclick\n",
              "12            แฮม  ...  makroclick\n",
              "13            แฮม  ...  makroclick\n",
              "14            แฮม  ...  makroclick\n",
              "15            แฮม  ...  makroclick\n",
              "16            แฮม  ...  makroclick\n",
              "17            แฮม  ...  makroclick\n",
              "18            แฮม  ...  makroclick\n",
              "19            แฮม  ...  makroclick\n",
              "20            แฮม  ...  makroclick\n",
              "21            แฮม  ...  makroclick\n",
              "22            แฮม  ...  makroclick\n",
              "23            แฮม  ...  makroclick\n",
              "24            แฮม  ...  makroclick\n",
              "25            แฮม  ...  makroclick\n",
              "26            แฮม  ...  makroclick\n",
              "27            แฮม  ...  makroclick\n",
              "28            แฮม  ...  makroclick\n",
              "29            แฮม  ...  makroclick\n",
              "30            แฮม  ...  makroclick\n",
              "31            แฮม  ...  makroclick\n",
              "32            แฮม  ...  makroclick\n",
              "33            แฮม  ...  makroclick\n",
              "34            แฮม  ...  makroclick\n",
              "35            แฮม  ...  makroclick\n",
              "36            แฮม  ...  makroclick\n",
              "37            แฮม  ...  makroclick\n",
              "38            แฮม  ...  makroclick\n",
              "39            แฮม  ...  makroclick\n",
              "40        ลูกชิ้น  ...  makroclick\n",
              "41        ลูกชิ้น  ...  makroclick\n",
              "42        ลูกชิ้น  ...  makroclick\n",
              "43        ลูกชิ้น  ...  makroclick\n",
              "44        ลูกชิ้น  ...  makroclick\n",
              "45        ลูกชิ้น  ...  makroclick\n",
              "46        ลูกชิ้น  ...  makroclick\n",
              "47  ผลิตภัณฑ์แหนม  ...  makroclick\n",
              "48  ผลิตภัณฑ์แหนม  ...  makroclick\n",
              "49  ผลิตภัณฑ์แหนม  ...  makroclick\n",
              "50  ผลิตภัณฑ์แหนม  ...  makroclick\n",
              "51  ผลิตภัณฑ์แหนม  ...  makroclick\n",
              "52  ผลิตภัณฑ์แหนม  ...  makroclick\n",
              "53  ผลิตภัณฑ์แหนม  ...  makroclick\n",
              "54  ผลิตภัณฑ์แหนม  ...  makroclick\n",
              "55       กุนเชียง  ...  makroclick\n",
              "\n",
              "[56 rows x 11 columns]"
            ]
          },
          "metadata": {
            "tags": []
          },
          "execution_count": 181
        }
      ]
    },
    {
      "cell_type": "markdown",
      "metadata": {
        "id": "2P_XTotfgysa"
      },
      "source": [
        "# Makroclick FrozenFood"
      ]
    },
    {
      "cell_type": "code",
      "metadata": {
        "colab": {
          "base_uri": "https://localhost:8080/"
        },
        "id": "Va4xbiTIOY5e",
        "outputId": "6f56d50d-5522-4e21-9a0e-94cc434fba2a"
      },
      "source": [
        "url = \"https://www.makroclick.com/th/category/frozen-food\"\n",
        "\n",
        "driver.get(url)\n",
        "time.sleep(10)\n",
        "\n",
        "element = driver.find_element_by_xpath('//*[@id=\"subcategoryCarouselSM\"]/div[1]/div')\n",
        "\n",
        "link = element.get_attribute('innerHTML')\n",
        "\n",
        "link_list = []\n",
        "for i in link.split('category')[1:]:\n",
        "  link_list.append(\"https://www.makroclick.com/th/category\"+i.split('\"')[0])\n",
        "\n",
        "link_list"
      ],
      "execution_count": 238,
      "outputs": [
        {
          "output_type": "execute_result",
          "data": {
            "text/plain": [
              "['https://www.makroclick.com/th/category/frozen-food/frozen-meat',\n",
              " 'https://www.makroclick.com/th/category',\n",
              " 'https://www.makroclick.com/th/categoryCarousel__Text1line-sc-1iqrhgx-0 gOllCP',\n",
              " 'https://www.makroclick.com/th/category/frozen-food/frozen-fish-and-seafood',\n",
              " 'https://www.makroclick.com/th/category',\n",
              " 'https://www.makroclick.com/th/categoryCarousel__Text1line-sc-1iqrhgx-0 gOllCP',\n",
              " 'https://www.makroclick.com/th/category/frozen-food/frozen-vegetables-and-fruits',\n",
              " 'https://www.makroclick.com/th/category',\n",
              " 'https://www.makroclick.com/th/categoryCarousel__Text1line-sc-1iqrhgx-0 gOllCP',\n",
              " 'https://www.makroclick.com/th/category/frozen-food/french-fries-and-appetizer',\n",
              " 'https://www.makroclick.com/th/category',\n",
              " 'https://www.makroclick.com/th/categoryCarousel__Text1line-sc-1iqrhgx-0 gOllCP',\n",
              " 'https://www.makroclick.com/th/category/frozen-food/dim-sum',\n",
              " 'https://www.makroclick.com/th/category',\n",
              " 'https://www.makroclick.com/th/categoryCarousel__Text1line-sc-1iqrhgx-0 gOllCP',\n",
              " 'https://www.makroclick.com/th/category/frozen-food/frozen-processed-food',\n",
              " 'https://www.makroclick.com/th/category',\n",
              " 'https://www.makroclick.com/th/categoryCarousel__Text1line-sc-1iqrhgx-0 gOllCP']"
            ]
          },
          "metadata": {
            "tags": []
          },
          "execution_count": 238
        }
      ]
    },
    {
      "cell_type": "code",
      "metadata": {
        "id": "-UGyqPRwOhst"
      },
      "source": [
        "link_list_ = []\n",
        "for i in link_list:\n",
        "  if 'https://www.makroclick.com/th/category/frozen-food/' in i:\n",
        "    link_list_.append(i)\n",
        "link_list_"
      ],
      "execution_count": 239,
      "outputs": []
    },
    {
      "cell_type": "code",
      "metadata": {
        "colab": {
          "base_uri": "https://localhost:8080/"
        },
        "id": "DkHEvrSVOrEW",
        "outputId": "c9edf9ca-4326-4ed9-9dd9-971a90046fb0"
      },
      "source": [
        "link_listx = []\n",
        "for i in link_list_:\n",
        "  driver.get(i)\n",
        "  time.sleep(10)\n",
        "\n",
        "  try:\n",
        "    element = driver.find_element_by_xpath('//*[@id=\"subcategoryCarouselSM\"]/div[1]')\n",
        "    link = element.get_attribute('innerHTML')\n",
        "    link = link.split('><')\n",
        "\n",
        "    for j in link:\n",
        "      if 'href' in j:\n",
        "        link_listx.append(\"https://www.makroclick.com/th/category\"+j.split('category')[1].split('\"')[0].replace(' ','')+\"?page=\")\n",
        "  except:\n",
        "    pass\n",
        "\n",
        "link_listx"
      ],
      "execution_count": 244,
      "outputs": [
        {
          "output_type": "execute_result",
          "data": {
            "text/plain": [
              "['https://www.makroclick.com/th/category/frozen-food/frozen-meat/delivery-frozen-pork?page=',\n",
              " 'https://www.makroclick.com/th/category/frozen-food/frozen-meat/frozen-marinated-pork?page=',\n",
              " 'https://www.makroclick.com/th/category/frozen-food/frozen-meat/delivery-frozen-chicken?page=',\n",
              " 'https://www.makroclick.com/th/category/frozen-food/frozen-meat/delivery-frozen-marinated-chicken?page=',\n",
              " 'https://www.makroclick.com/th/category/frozen-food/frozen-meat/delivery-frozen-duck?page=',\n",
              " 'https://www.makroclick.com/th/category/frozen-food/frozen-meat/delivery-frozen-beef?page=',\n",
              " 'https://www.makroclick.com/th/category/frozen-food/frozen-meat/other-frozen-meats?page=',\n",
              " 'https://www.makroclick.com/th/category/frozen-food/frozen-fish-and-seafood/online-frozen-fish?page=',\n",
              " 'https://www.makroclick.com/th/category/frozen-food/frozen-fish-and-seafood/delivery-frozen-shrimp-prawn?page=',\n",
              " 'https://www.makroclick.com/th/category/frozen-food/frozen-fish-and-seafood/frozen-shellfish-and-oyster?page=',\n",
              " 'https://www.makroclick.com/th/category/frozen-food/frozen-fish-and-seafood/delivery-frozen-squid?page=',\n",
              " 'https://www.makroclick.com/th/category/frozen-food/frozen-fish-and-seafood/delivery-frozen-crab?page=',\n",
              " 'https://www.makroclick.com/th/category/frozen-food/frozen-fish-and-seafood/others-frozen-seafood?page=',\n",
              " 'https://www.makroclick.com/th/category/frozen-food/frozen-vegetables-and-fruits/frozen-vegetables?page=',\n",
              " 'https://www.makroclick.com/th/category/frozen-food/frozen-vegetables-and-fruits/frozen-fruits?page=',\n",
              " 'https://www.makroclick.com/th/category/frozen-food/frozen-vegetables-and-fruits/frozen-puree?page=',\n",
              " 'https://www.makroclick.com/th/category/frozen-food/french-fries-and-appetizer/frozen-french-fries?page=',\n",
              " 'https://www.makroclick.com/th/category/frozen-food/french-fries-and-appetizer/appetizer-finger-foods?page=',\n",
              " 'https://www.makroclick.com/th/category/frozen-food/dim-sum/steamed-bun?page=',\n",
              " 'https://www.makroclick.com/th/category/frozen-food/dim-sum/shumai-and-hagao?page=',\n",
              " 'https://www.makroclick.com/th/category/frozen-food/dim-sum/other-dim-sum?page=',\n",
              " 'https://www.makroclick.com/th/category/frozen-food/frozen-processed-food/crab-stick-and-surimi-fish-ball?page=',\n",
              " 'https://www.makroclick.com/th/category/frozen-food/frozen-processed-food/frozen-desserts?page=',\n",
              " 'https://www.makroclick.com/th/category/frozen-food/frozen-processed-food/frozen-meal?page=']"
            ]
          },
          "metadata": {
            "tags": []
          },
          "execution_count": 244
        }
      ]
    },
    {
      "cell_type": "code",
      "metadata": {
        "colab": {
          "base_uri": "https://localhost:8080/"
        },
        "id": "K_rkRMMVPFC4",
        "outputId": "e1cf3511-be19-420b-aca3-81afb6ccf7b7"
      },
      "source": [
        "title = []\n",
        "sub_title = []\n",
        "\n",
        "for i in link_listx:\n",
        "  driver.get(i+'1')\n",
        "  time.sleep(10)\n",
        "\n",
        "  print(i+'1')\n",
        "  try:\n",
        "    element1 = driver.find_element_by_xpath('//*[@id=\"categoryContainer\"]/div[2]/div[2]/div[1]/div/div[1]')\n",
        "    title.append(element1.get_attribute('innerText'))\n",
        "\n",
        "    element2 = driver.find_element_by_xpath('//*[@id=\"categoryContainer\"]/div[2]/div[2]/div[1]/div/div[2]/div/h1')\n",
        "    sub_title.append(element2.get_attribute('innerText'))\n",
        "\n",
        "    #element3 = driver.find_element_by_xpath('//*[@id=\"scrollPaginatorTop\"]/div[2]')\n",
        "    #content.append(element3.get_attribute('innerText'))\n",
        "  except:\n",
        "    pass  \n",
        "    #content.append('')"
      ],
      "execution_count": 245,
      "outputs": [
        {
          "output_type": "stream",
          "text": [
            "https://www.makroclick.com/th/category/frozen-food/frozen-meat/delivery-frozen-pork?page=1\n",
            "https://www.makroclick.com/th/category/frozen-food/frozen-meat/frozen-marinated-pork?page=1\n",
            "https://www.makroclick.com/th/category/frozen-food/frozen-meat/delivery-frozen-chicken?page=1\n",
            "https://www.makroclick.com/th/category/frozen-food/frozen-meat/delivery-frozen-marinated-chicken?page=1\n",
            "https://www.makroclick.com/th/category/frozen-food/frozen-meat/delivery-frozen-duck?page=1\n",
            "https://www.makroclick.com/th/category/frozen-food/frozen-meat/delivery-frozen-beef?page=1\n",
            "https://www.makroclick.com/th/category/frozen-food/frozen-meat/other-frozen-meats?page=1\n",
            "https://www.makroclick.com/th/category/frozen-food/frozen-fish-and-seafood/online-frozen-fish?page=1\n",
            "https://www.makroclick.com/th/category/frozen-food/frozen-fish-and-seafood/delivery-frozen-shrimp-prawn?page=1\n",
            "https://www.makroclick.com/th/category/frozen-food/frozen-fish-and-seafood/frozen-shellfish-and-oyster?page=1\n",
            "https://www.makroclick.com/th/category/frozen-food/frozen-fish-and-seafood/delivery-frozen-squid?page=1\n",
            "https://www.makroclick.com/th/category/frozen-food/frozen-fish-and-seafood/delivery-frozen-crab?page=1\n",
            "https://www.makroclick.com/th/category/frozen-food/frozen-fish-and-seafood/others-frozen-seafood?page=1\n",
            "https://www.makroclick.com/th/category/frozen-food/frozen-vegetables-and-fruits/frozen-vegetables?page=1\n",
            "https://www.makroclick.com/th/category/frozen-food/frozen-vegetables-and-fruits/frozen-fruits?page=1\n",
            "https://www.makroclick.com/th/category/frozen-food/frozen-vegetables-and-fruits/frozen-puree?page=1\n",
            "https://www.makroclick.com/th/category/frozen-food/french-fries-and-appetizer/frozen-french-fries?page=1\n",
            "https://www.makroclick.com/th/category/frozen-food/french-fries-and-appetizer/appetizer-finger-foods?page=1\n",
            "https://www.makroclick.com/th/category/frozen-food/dim-sum/steamed-bun?page=1\n",
            "https://www.makroclick.com/th/category/frozen-food/dim-sum/shumai-and-hagao?page=1\n",
            "https://www.makroclick.com/th/category/frozen-food/dim-sum/other-dim-sum?page=1\n",
            "https://www.makroclick.com/th/category/frozen-food/frozen-processed-food/crab-stick-and-surimi-fish-ball?page=1\n",
            "https://www.makroclick.com/th/category/frozen-food/frozen-processed-food/frozen-desserts?page=1\n",
            "https://www.makroclick.com/th/category/frozen-food/frozen-processed-food/frozen-meal?page=1\n"
          ],
          "name": "stdout"
        }
      ]
    },
    {
      "cell_type": "code",
      "metadata": {
        "colab": {
          "base_uri": "https://localhost:8080/"
        },
        "id": "rc4lfWZ9SfAF",
        "outputId": "826d6333-5b21-42ff-d5bb-ab35bef8db7b"
      },
      "source": [
        "content = []\n",
        "\n",
        "x = 1\n",
        "\n",
        "for i in link_listx:\n",
        "  contentx = '\\n\\n'\n",
        "  while True:\n",
        "    try:\n",
        "      print(i+str(x)+'&sorting=SORTING_LAST_UPDATE&all=true')\n",
        "      driver.get(i+str(x)+'&sorting=SORTING_LAST_UPDATE&all=true')\n",
        "      time.sleep(10)\n",
        "\n",
        "  #try:\n",
        "\n",
        "      element3 = driver.find_element_by_xpath('//*[@id=\"scrollPaginatorTop\"]/div[2]')\n",
        "      print(element3.get_attribute('innerText'))\n",
        "      contentx = contentx+element3.get_attribute('innerText')+'\\n\\n'\n",
        "      x = x+1\n",
        "    except:\n",
        "      x = 1\n",
        "      break\n",
        "    \n",
        "  #except:\n",
        "    #content.append('')\n",
        "  content.append(contentx)"
      ],
      "execution_count": 246,
      "outputs": [
        {
          "output_type": "stream",
          "text": [
            "https://www.makroclick.com/th/category/frozen-food/frozen-meat/delivery-frozen-pork?page=1&sorting=SORTING_LAST_UPDATE&all=true\n",
            "สามชั้นหมูตัดชิ้นแช่แข็ง ชิ้นละ\n",
            "รหัสสินค้า 897243\n",
            "85.00 ฿\n",
            "ราคาต่อชิ้น  85.00 ฿\n",
            "\n",
            "สะโพกหมูติดหนังตัดชิ้นแช่แข็ง ชิ้นละ\n",
            "รหัสสินค้า 897242\n",
            "90.00 ฿\n",
            "ราคาต่อชิ้น  90.00 ฿\n",
            "\n",
            "ชุดหมูสำหรับไหว้แช่แข็ง สะโพก-สามชั้น 1.4 กก.\n",
            "รหัสสินค้า 897045\n",
            "239.00 ฿\n",
            "ราคาต่อชิ้น  239.00 ฿\n",
            "\n",
            "เล็ท แพล็น มีท เนื้อบดจากพืชแช่แข็ง 1000 กรัม\n",
            "รหัสสินค้า 867275\n",
            "295.00 ฿\n",
            "ราคาต่อชิ้น  295.00 ฿\n",
            "https://www.makroclick.com/th/category/frozen-food/frozen-meat/delivery-frozen-pork?page=2&sorting=SORTING_LAST_UPDATE&all=true\n",
            "https://www.makroclick.com/th/category/frozen-food/frozen-meat/frozen-marinated-pork?page=1&sorting=SORTING_LAST_UPDATE&all=true\n",
            "https://www.makroclick.com/th/category/frozen-food/frozen-meat/delivery-frozen-chicken?page=1&sorting=SORTING_LAST_UPDATE&all=true\n",
            "ซีพี เนื้ออกไก่ล้วนบดแช่แข็ง 1 กิโลกรัม\n",
            "รหัสสินค้า 820423\n",
            "69.00 ฿\n",
            "ราคาต่อชิ้น  69.00 ฿\n",
            "\n",
            "ซีพี ไก่ต้มแช่แข็ง 1300 กรัม\n",
            "รหัสสินค้า 193117\n",
            "319.00 ฿\n",
            "ราคาต่อชิ้น  319.00 ฿\n",
            "\n",
            "ไก่ไข่แช่แข็ง ตัวละ\n",
            "รหัสสินค้า 897245\n",
            "65.00 ฿\n",
            "ราคาต่อชิ้น  65.00 ฿\n",
            "\n",
            "ซีพี น่องติดสะโพกไก่แช่แข็ง 2 กก.\n",
            "รหัสสินค้า 829225\n",
            "119.00 ฿\n",
            "ราคาต่อชิ้น  119.00 ฿\n",
            "https://www.makroclick.com/th/category/frozen-food/frozen-meat/delivery-frozen-chicken?page=2&sorting=SORTING_LAST_UPDATE&all=true\n",
            "https://www.makroclick.com/th/category/frozen-food/frozen-meat/delivery-frozen-marinated-chicken?page=1&sorting=SORTING_LAST_UPDATE&all=true\n",
            "https://www.makroclick.com/th/category/frozen-food/frozen-meat/delivery-frozen-duck?page=1&sorting=SORTING_LAST_UPDATE&all=true\n",
            "ซีพี เป็ดย่างไหว้เจ้า พร้อมเครื่องในและน้ำจิ้ม 1.8 กก.\n",
            "รหัสสินค้า 825165\n",
            "499.00 ฿\n",
            "ราคาต่อชิ้น  499.00 ฿\n",
            "\n",
            "ซีพี เนื้อเป็ดปรุงสุกแช่แข็ง 1000 กรัม\n",
            "รหัสสินค้า 230043\n",
            "209.00 ฿\n",
            "ราคาต่อชิ้น  209.00 ฿\n",
            "https://www.makroclick.com/th/category/frozen-food/frozen-meat/delivery-frozen-duck?page=2&sorting=SORTING_LAST_UPDATE&all=true\n",
            "https://www.makroclick.com/th/category/frozen-food/frozen-meat/delivery-frozen-beef?page=1&sorting=SORTING_LAST_UPDATE&all=true\n",
            "https://www.makroclick.com/th/category/frozen-food/frozen-meat/other-frozen-meats?page=1&sorting=SORTING_LAST_UPDATE&all=true\n",
            "https://www.makroclick.com/th/category/frozen-food/frozen-fish-and-seafood/online-frozen-fish?page=1&sorting=SORTING_LAST_UPDATE&all=true\n",
            "คิวเฟรช ปลากะพงหมักซอสปรุงรสกระเทียมและสมุนไพรแช่แข็ง 500 กรัม\n",
            "รหัสสินค้า 892183\n",
            "249.00 ฿\n",
            "ราคาต่อชิ้น  249.00 ฿\n",
            "\n",
            "คิวเฟรช เนื้อปลากะพงสไลซ์แช่แข็ง (20-30 กรัม/ชิ้น) 1 กก. x 10 แพ็ค ยกลัง\n",
            "รหัสสินค้า 821270\n",
            "2,950.00 ฿\n",
            "ราคาต่อชิ้น  295.00 ฿\n",
            "\n",
            "คิวเฟรช เนื้อปลากะพงสไลซ์แช่แข็ง (20-30 กรัม/ชิ้น) 1 กก.\n",
            "รหัสสินค้า 821269\n",
            "299.00 ฿\n",
            "ราคาต่อชิ้น  299.00 ฿\n",
            "\n",
            "คิวเฟรช ปลากะพงขาวผ่าผีเสื้อแช่แข็ง (400-500 กรัม/แพ็ค)\n",
            "รหัสสินค้า 821617\n",
            "140.00 ฿\n",
            "ราคาต่อชิ้น  140.00 ฿\n",
            "\n",
            "เมอร์คิวรี่ เนื้อท้องแซลมอนติดครีบแช่แข็ง 1000 กรัม\n",
            "รหัสสินค้า 235950\n",
            "169.00 ฿\n",
            "ราคาต่อชิ้น  169.00 ฿\n",
            "\n",
            "คิวเฟรช เนื้อปลาแซลมอนสไลซ์ติดหนังแช่แข็ง พร้อมซอสเทอริยากิ 500 กรัม\n",
            "รหัสสินค้า 894096\n",
            "349.00 ฿\n",
            "ราคาต่อชิ้น  349.00 ฿\n",
            "\n",
            "คิวเฟรช ปลาแซลมอนหมักซอสปรุงรสกระเทียมและสมุนไพรแช่แข็ง 500 กรัม\n",
            "รหัสสินค้า 894093\n",
            "335.00 ฿\n",
            "ราคาต่อชิ้น  335.00 ฿\n",
            "\n",
            "คิวเฟรช ปลาแซลมอนหมักซอสปรุงรสพริกไทยดำแช่แข็ง 500 กรัม\n",
            "รหัสสินค้า 894099\n",
            "335.00 ฿\n",
            "ราคาต่อชิ้น  335.00 ฿\n",
            "\n",
            "คิวเฟรช ปลากะพงหมักซอสปรุงรสพริกไทยดำแช่แข็ง 500 กรัม\n",
            "รหัสสินค้า 892180\n",
            "255.00 ฿\n",
            "ราคาต่อชิ้น  255.00 ฿\n",
            "\n",
            "คิวเฟรช ปลากะพงขาวแล่แช่แข็ง (170-300 กรัม/ชิ้น) 1000 กรัม\n",
            "รหัสสินค้า 860011\n",
            "299.00 ฿\n",
            "ราคาต่อชิ้น  299.00 ฿\n",
            "\n",
            "คิวเฟรช ปลากะพงหั่นชิ้นแช่แข็ง (100-120 กรัม/ชิ้น) 1000 กรัม\n",
            "รหัสสินค้า 860008\n",
            "299.00 ฿\n",
            "ราคาต่อชิ้น  299.00 ฿\n",
            "\n",
            "คิวเฟรช หัวปลากะพงแช่แข็ง 1 กก.\n",
            "รหัสสินค้า 854239\n",
            "43.00 ฿\n",
            "ราคาต่อชิ้น  43.00 ฿\n",
            "\n",
            "คิวเฟรช เนื้อปลากะพงสไลซ์แช่แข็ง (10-15 กรัม/ชิ้น) 1 กก. x 10 แพ็ค ยกลัง\n",
            "รหัสสินค้า 821268\n",
            "2,950.00 ฿\n",
            "ราคาต่อชิ้น  295.00 ฿\n",
            "\n",
            "เอโร่ หัวแอตแลนติกแซลมอนแช่แข็ง แพ็ค 800 กรัม\n",
            "รหัสสินค้า 206370\n",
            "129.00 ฿\n",
            "ราคาต่อชิ้น  129.00 ฿\n",
            "\n",
            "เอโร่ แอตแลนติกแซลมอนตัดคิริมิ (ขนาด80-90กรัม/ชิ้น) แพ็ค 1 กิโลกรัม\n",
            "รหัสสินค้า 226977\n",
            "565.00 ฿\n",
            "ราคาต่อชิ้น  565.00 ฿\n",
            "\n",
            "เอโร่ แซลมอนสเต๊กแช่แข็ง ขนาด 100-150 กรัม/ชิ้น\n",
            "รหัสสินค้า 206373\n",
            "445.00 ฿\n",
            "ราคาต่อชิ้น  445.00 ฿\n",
            "\n",
            "เอโร่ เนื้อส่วนหางแอตแลนติกแซลมอนแช่แข็ง แพ็ค 1 กิโลกรัม\n",
            "รหัสสินค้า 206375\n",
            "279.00 ฿\n",
            "ราคาต่อชิ้น  279.00 ฿\n",
            "\n",
            "คิวเฟรช เนื้อปลากะพงสไลซ์แช่แข็ง ขนาด 10-15 กรัม/ชิ้น\n",
            "รหัสสินค้า 821267\n",
            "299.00 ฿\n",
            "ราคาต่อชิ้น  299.00 ฿\n",
            "\n",
            "แอตแลนติก เนื้อแซลมอนบดละเอียด 1 กิโลกรัม\n",
            "รหัสสินค้า 224873\n",
            "85.00 ฿\n",
            "ราคาต่อชิ้น  85.00 ฿\n",
            "\n",
            "ปลาเงินแช่แข็ง 600 กรัม\n",
            "รหัสสินค้า 230544\n",
            "\n",
            "280.00 ฿\n",
            "\n",
            "-1%\n",
            "\n",
            "275.00 ฿\n",
            "ราคาต่อชิ้น  275.00 ฿\n",
            "\n",
            "แซลมอนตัดชิ้นติดหนังแช่แข็ง 500 กรัม\n",
            "รหัสสินค้า 860703\n",
            "239.00 ฿\n",
            "ราคาต่อชิ้น  239.00 ฿\n",
            "https://www.makroclick.com/th/category/frozen-food/frozen-fish-and-seafood/online-frozen-fish?page=2&sorting=SORTING_LAST_UPDATE&all=true\n",
            "https://www.makroclick.com/th/category/frozen-food/frozen-fish-and-seafood/delivery-frozen-shrimp-prawn?page=1&sorting=SORTING_LAST_UPDATE&all=true\n",
            "ซีพีแปซิฟิก กุ้งขาวต้มสุกทั้งตัวแช่แข็ง (ขนาด 41-50 ตัว/กก.) 500 กรัม\n",
            "รหัสสินค้า 224824\n",
            "219.00 ฿\n",
            "ราคาต่อชิ้น  219.00 ฿\n",
            "\n",
            "เอโร่ กุ้งขาวแช่แข็งไม่ปอกเปลือกผ่าหลังไว้หาง ขนาด 28-35 ตัว/ถุง\n",
            "รหัสสินค้า 816828\n",
            "380.00 ฿\n",
            "ราคาต่อชิ้น  380.00 ฿\n",
            "\n",
            "กุ้งขาวไว้หางแช่แข็ง ขนาด 67-77 ตัว/ถุง\n",
            "รหัสสินค้า 816822\n",
            "159.00 ฿\n",
            "ราคาต่อชิ้น  159.00 ฿\n",
            "\n",
            "เอโร่ เนื้อกุ้งขาวแช่แข็ง (จำนวน 160-194 ตัว/แพ็ค) 800 กรัม\n",
            "รหัสสินค้า 816800\n",
            "270.00 ฿\n",
            "ราคาต่อชิ้น  270.00 ฿\n",
            "\n",
            "เซพแพ็ค กุ้งขาวไว้หางแช่แข็ง (48-54 ตัว/แพ็ค) 1000 กรัม\n",
            "รหัสสินค้า 155674\n",
            "305.00 ฿\n",
            "ราคาต่อชิ้น  305.00 ฿\n",
            "\n",
            "เอโร่ กุ้งขาวไว้หางแช่แข็ง (จำนวน 72-88 ตัว/แพ็ค) 1000 กรัม\n",
            "รหัสสินค้า 816806\n",
            "310.00 ฿\n",
            "ราคาต่อชิ้น  310.00 ฿\n",
            "\n",
            "เซพแพ็ค กุ้งขาวไว้หางแช่แข็ง (จำนวน 32-38 ตัว/กก.) แพ็ค 1000 กรัม\n",
            "รหัสสินค้า 155650\n",
            "340.00 ฿\n",
            "ราคาต่อชิ้น  340.00 ฿\n",
            "\n",
            "คิวเฟรช กุ้งซูชิอาเจนแช่แข็ง 4L x 10 ตัว\n",
            "รหัสสินค้า 895028\n",
            "125.00 ฿\n",
            "ราคาต่อชิ้น  125.00 ฿\n",
            "\n",
            "ซีพีแปซิฟิก กุ้งขาวต้มสุกทั้งตัวแช่แข็ง (ขนาด 41-50 ตัว/กก.) 500 กรัม\n",
            "รหัสสินค้า 897033\n",
            "219.00 ฿\n",
            "ราคาต่อชิ้น  219.00 ฿\n",
            "\n",
            "ซีพี กุ้งขาวทั้งตัวต้มสุกแช่แข็ง (ขนาด 26-35 ตัว/กก.) 1 กก.\n",
            "รหัสสินค้า 897034\n",
            "299.00 ฿\n",
            "ราคาต่อชิ้น  299.00 ฿\n",
            "\n",
            "กุ้งขาวไว้หางแช่แข็ง ขนาด 56-66 ตัว/ถุง\n",
            "รหัสสินค้า 816820\n",
            "185.00 ฿\n",
            "ราคาต่อชิ้น  185.00 ฿\n",
            "\n",
            "ซีพีแปซิฟิก กุ้งขาวดิบทั้งตัวแช่แข็ง (ขนาด 51-60 ตัว/กก.) 500 กรัม\n",
            "รหัสสินค้า 226938\n",
            "200.00 ฿\n",
            "ราคาต่อชิ้น  200.00 ฿\n",
            "\n",
            "ซีพีแปซิฟิก กุ้งขาวดิบทั้งตัวแช่แข็ง (ขนาด 31-40 ตัว/กก.) 500 กรัม\n",
            "รหัสสินค้า 224862\n",
            "220.00 ฿\n",
            "ราคาต่อชิ้น  220.00 ฿\n",
            "\n",
            "เซพแพ็ค กุ้งขาวไว้หางแช่แข็ง (63-85 ตัว/แพ็ค) 1000 กรัม\n",
            "รหัสสินค้า 155676\n",
            "250.00 ฿\n",
            "ราคาต่อชิ้น  250.00 ฿\n",
            "\n",
            "เอโร่ กุ้งขาวไว้หาง (90-106 ตัว/แพ็ค) 1000 กรัม\n",
            "รหัสสินค้า 142161\n",
            "285.00 ฿\n",
            "ราคาต่อชิ้น  285.00 ฿\n",
            "\n",
            "เซพแพ็ค เนื้อกุ้งขาวแช่แข็ง (จำนวน 92-123 ตัว/แพ็ค) 1000 กรัม\n",
            "รหัสสินค้า 155700\n",
            "280.00 ฿\n",
            "ราคาต่อชิ้น  280.00 ฿\n",
            "\n",
            "เอโร่ กุ้งขาวไว้หางไม่ปอกเปลือกผ่าหลังแช่แข็ง (72-88 ตัว/แพ็ค) 1000 กรัม\n",
            "รหัสสินค้า 816826\n",
            "285.00 ฿\n",
            "ราคาต่อชิ้น  285.00 ฿\n",
            "\n",
            "คางกุ้งแช่แข็ง 1 กิโลกรัม\n",
            "รหัสสินค้า 803553\n",
            "69.00 ฿\n",
            "ราคาต่อชิ้น  69.00 ฿\n",
            "\n",
            "เอโร่ กุ้งขาวไว้หาง (55-70 ตัว/แพ็ค) 1000 กรัม\n",
            "รหัสสินค้า 816804\n",
            "360.00 ฿\n",
            "ราคาต่อชิ้น  360.00 ฿\n",
            "\n",
            "กุ้งขาวไว้หางแช่แข็ง ขนาด 45-55 ตัว-ถุง\n",
            "รหัสสินค้า 816722\n",
            "190.00 ฿\n",
            "ราคาต่อชิ้น  190.00 ฿\n",
            "\n",
            "เอโร่ กุ้งขาวไว้หาง (107-123 ตัว/แพ็ค) 1000 กรัม\n",
            "รหัสสินค้า 133339\n",
            "270.00 ฿\n",
            "ราคาต่อชิ้น  270.00 ฿\n",
            "\n",
            "เซพแพ็ค เนื้อกุ้งขาวแช่แข็ง (จำนวน 62-92 ตัว/แพ็ค) 1000 กรัม\n",
            "รหัสสินค้า 155696\n",
            "290.00 ฿\n",
            "ราคาต่อชิ้น  290.00 ฿\n",
            "\n",
            "เซพแพ็ค เนื้อกุ้งทะเลหักแช่แข็ง (123-308 ตัว/แพ็ค) 1000 กรัม\n",
            "รหัสสินค้า 816824\n",
            "260.00 ฿\n",
            "ราคาต่อชิ้น  260.00 ฿\n",
            "\n",
            "มันกุ้งขาวแช่แข็ง 500 กรัม\n",
            "รหัสสินค้า 803555\n",
            "97.00 ฿\n",
            "ราคาต่อชิ้น  97.00 ฿\n",
            "https://www.makroclick.com/th/category/frozen-food/frozen-fish-and-seafood/delivery-frozen-shrimp-prawn?page=2&sorting=SORTING_LAST_UPDATE&all=true\n",
            "https://www.makroclick.com/th/category/frozen-food/frozen-fish-and-seafood/frozen-shellfish-and-oyster?page=1&sorting=SORTING_LAST_UPDATE&all=true\n",
            "เนื้อหอยเชลล์แช่แข็ง (ขนาด 40-60 ตัว/ปอนด์) 1 กก.\n",
            "รหัสสินค้า 148055\n",
            "\n",
            "270.00 ฿\n",
            "\n",
            "-1%\n",
            "\n",
            "265.00 ฿\n",
            "ราคาต่อชิ้น  265.00 ฿\n",
            "\n",
            "พีทีเอ็น เนื้อหอยนางรมญี่ปุ่นชุบเกล็ดขนมปังแช่แข็ง 35 กรัม x 10 ชิ้น\n",
            "รหัสสินค้า 865069\n",
            "218.00 ฿\n",
            "ราคาต่อชิ้น  21.80 ฿\n",
            "https://www.makroclick.com/th/category/frozen-food/frozen-fish-and-seafood/frozen-shellfish-and-oyster?page=2&sorting=SORTING_LAST_UPDATE&all=true\n",
            "https://www.makroclick.com/th/category/frozen-food/frozen-fish-and-seafood/delivery-frozen-squid?page=1&sorting=SORTING_LAST_UPDATE&all=true\n",
            "https://www.makroclick.com/th/category/frozen-food/frozen-fish-and-seafood/delivery-frozen-crab?page=1&sorting=SORTING_LAST_UPDATE&all=true\n",
            "https://www.makroclick.com/th/category/frozen-food/frozen-fish-and-seafood/others-frozen-seafood?page=1&sorting=SORTING_LAST_UPDATE&all=true\n",
            "https://www.makroclick.com/th/category/frozen-food/frozen-vegetables-and-fruits/frozen-vegetables?page=1&sorting=SORTING_LAST_UPDATE&all=true\n",
            "https://www.makroclick.com/th/category/frozen-food/frozen-vegetables-and-fruits/frozen-fruits?page=1&sorting=SORTING_LAST_UPDATE&all=true\n",
            "https://www.makroclick.com/th/category/frozen-food/frozen-vegetables-and-fruits/frozen-puree?page=1&sorting=SORTING_LAST_UPDATE&all=true\n",
            "https://www.makroclick.com/th/category/frozen-food/french-fries-and-appetizer/frozen-french-fries?page=1&sorting=SORTING_LAST_UPDATE&all=true\n",
            "https://www.makroclick.com/th/category/frozen-food/french-fries-and-appetizer/appetizer-finger-foods?page=1&sorting=SORTING_LAST_UPDATE&all=true\n",
            "ซีพี ไก่จ๊อแช่แข็ง รสต้นตำรับ 1000 กรัม\n",
            "รหัสสินค้า 897056\n",
            "149.00 ฿\n",
            "ราคาต่อชิ้น  149.00 ฿\n",
            "\n",
            "ซีพี ชีสบอลมันม่วงแช่แข็ง 25 กรัม x 20 ลูก\n",
            "รหัสสินค้า 834587\n",
            "\n",
            "110.00 ฿\n",
            "\n",
            "-10%\n",
            "\n",
            "99.00 ฿\n",
            "ราคาต่อชิ้น  4.95 ฿\n",
            "\n",
            "ซีพี ชีสบอล 500 กรัม x 14 แพ็ค\n",
            "รหัสสินค้า 829151\n",
            "\n",
            "1,540.00 ฿\n",
            "\n",
            "-14%\n",
            "\n",
            "1,316.00 ฿\n",
            "ราคาต่อชิ้น  94.00 ฿\n",
            "\n",
            "พีทีเอ็น กล้วยหอมทอดแช่แข็ง 500 กรัม\n",
            "รหัสสินค้า 865907\n",
            "109.00 ฿\n",
            "ราคาต่อชิ้น  109.00 ฿\n",
            "\n",
            "ซีพี เกี๊ยวซ่าหมูแช่แข็ง x 30 ชิ้น\n",
            "รหัสสินค้า 220679\n",
            "\n",
            "169.00 ฿\n",
            "\n",
            "-11%\n",
            "\n",
            "149.00 ฿\n",
            "ราคาต่อชิ้น  4.97 ฿\n",
            "\n",
            "ซีพี เกี๊ยวซ่าไก่แช่แข็ง x 30 ชิ้น\n",
            "รหัสสินค้า 220734\n",
            "\n",
            "159.00 ฿\n",
            "\n",
            "-12%\n",
            "\n",
            "139.00 ฿\n",
            "ราคาต่อชิ้น  4.63 ฿\n",
            "\n",
            "ซีพี ชิคฟิงเกอร์ รสฮอตแอนด์สไปซี่แช่แข็ง 1000 กรัม\n",
            "รหัสสินค้า 215602\n",
            "189.00 ฿\n",
            "ราคาต่อชิ้น  189.00 ฿\n",
            "\n",
            "ซีพี ไก่ห่อสาหร่ายแช่แข็ง 800 กรัม\n",
            "รหัสสินค้า 800384\n",
            "235.00 ฿\n",
            "ราคาต่อชิ้น  235.00 ฿\n",
            "\n",
            "กุ้งชุบแป้งเกล็ดขนมปังแช่แข็ง x 16 ชิ้น\n",
            "รหัสสินค้า 200767\n",
            "219.00 ฿\n",
            "ราคาต่อชิ้น  13.69 ฿\n",
            "\n",
            "เอโร่ ลาบก้อนแช่แข็ง 40 ชิ้น\n",
            "รหัสสินค้า 220163\n",
            "209.00 ฿\n",
            "ราคาต่อชิ้น  5.23 ฿\n",
            "\n",
            "เอโร่ อิบิโรลไส้กุ้งแช่แข็ง 50 ชิ้น\n",
            "รหัสสินค้า 219554\n",
            "299.00 ฿\n",
            "ราคาต่อชิ้น  5.98 ฿\n",
            "\n",
            "เอโร่ กุ้งบอมบ์ 500 กรัม\n",
            "รหัสสินค้า 817666\n",
            "129.00 ฿\n",
            "ราคาต่อชิ้น  129.00 ฿\n",
            "\n",
            "เอโร่ ทอดมันกุ้งแช่แข็ง 25 กรัม x 30 ชิ้น\n",
            "รหัสสินค้า 179426\n",
            "329.00 ฿\n",
            "ราคาต่อชิ้น  10.97 ฿\n",
            "\n",
            "เอโร่ ถุงทองไส้กุ้งแช่แข็ง 48 ชิ้น\n",
            "รหัสสินค้า 179427\n",
            "255.00 ฿\n",
            "ราคาต่อชิ้น  5.31 ฿\n",
            "\n",
            "เอโร่ ปอเปี๊ยะกุ้งแช่แข็ง 40 ชิ้น\n",
            "รหัสสินค้า 179425\n",
            "205.00 ฿\n",
            "ราคาต่อชิ้น  5.13 ฿\n",
            "\n",
            "ซีพี นักเก็ตกุ้งและปลาแช่แข็ง 500 กรัม\n",
            "รหัสสินค้า 832934\n",
            "199.00 ฿\n",
            "ราคาต่อชิ้น  199.00 ฿\n",
            "\n",
            "พีทีเอ็น เนื้อกุ้งดิบชุบเกล็ดขนมปังแช่แข็ง 13 กรัม x 36 ชิ้น\n",
            "รหัสสินค้า 832932\n",
            "189.00 ฿\n",
            "ราคาต่อชิ้น  5.25 ฿\n",
            "https://www.makroclick.com/th/category/frozen-food/french-fries-and-appetizer/appetizer-finger-foods?page=2&sorting=SORTING_LAST_UPDATE&all=true\n",
            "https://www.makroclick.com/th/category/frozen-food/dim-sum/steamed-bun?page=1&sorting=SORTING_LAST_UPDATE&all=true\n",
            "https://www.makroclick.com/th/category/frozen-food/dim-sum/shumai-and-hagao?page=1&sorting=SORTING_LAST_UPDATE&all=true\n",
            "https://www.makroclick.com/th/category/frozen-food/dim-sum/other-dim-sum?page=1&sorting=SORTING_LAST_UPDATE&all=true\n",
            "ซีพี เกี๊ยวกุ้งดิบพร้อมปรุง 11 กรัม x 20 ชิ้น\n",
            "รหัสสินค้า 869980\n",
            "99.00 ฿\n",
            "ราคาต่อชิ้น  4.95 ฿\n",
            "\n",
            "เอโร่ เกี๊ยวกุ้งแช่แข็ง 15 กรัม x 24 ชิ้น\n",
            "รหัสสินค้า 179429\n",
            "135.00 ฿\n",
            "ราคาต่อชิ้น  135.00 ฿\n",
            "\n",
            "พีทีเอ็น เกี๊ยวกุ้งแช่แข็ง 15 กรัม x 40 ชิ้น\n",
            "รหัสสินค้า 179655\n",
            "235.00 ฿\n",
            "ราคาต่อชิ้น  235.00 ฿\n",
            "https://www.makroclick.com/th/category/frozen-food/dim-sum/other-dim-sum?page=2&sorting=SORTING_LAST_UPDATE&all=true\n",
            "https://www.makroclick.com/th/category/frozen-food/frozen-processed-food/crab-stick-and-surimi-fish-ball?page=1&sorting=SORTING_LAST_UPDATE&all=true\n",
            "https://www.makroclick.com/th/category/frozen-food/frozen-processed-food/frozen-desserts?page=1&sorting=SORTING_LAST_UPDATE&all=true\n",
            "https://www.makroclick.com/th/category/frozen-food/frozen-processed-food/frozen-meal?page=1&sorting=SORTING_LAST_UPDATE&all=true\n",
            "ซีพี เกี๊ยวกุ้งแช่แข็ง 90 กรัม x 3 ซอง\n",
            "รหัสสินค้า 897055\n",
            "165.00 ฿\n",
            "ราคาต่อชิ้น  165.00 ฿\n",
            "\n",
            "ซีพี เป็ดพะโล้และเครื่องในแช่แข็ง 1.8 กก.\n",
            "รหัสสินค้า 897050\n",
            "329.00 ฿\n",
            "ราคาต่อชิ้น  329.00 ฿\n",
            "\n",
            "ซีพี ช็อกบอลลาวา 500 กรัม\n",
            "รหัสสินค้า 866664\n",
            "\n",
            "110.00 ฿\n",
            "\n",
            "-10%\n",
            "\n",
            "99.00 ฿\n",
            "ราคาต่อชิ้น  99.00 ฿\n",
            "\n",
            "ซีพี เนื้อเป็ดปรุงสุกแช่แข็ง 1000 กรัม\n",
            "รหัสสินค้า 230043\n",
            "209.00 ฿\n",
            "ราคาต่อชิ้น  209.00 ฿\n",
            "\n",
            "ซีพี ชิคฟิงเกอร์ รสฮอตแอนด์สไปซี่แช่แข็ง 1000 กรัม\n",
            "รหัสสินค้า 215602\n",
            "189.00 ฿\n",
            "ราคาต่อชิ้น  189.00 ฿\n",
            "\n",
            "ซีพี เนื้อเป็ดพะโล้ต้นตำรับแช่แข็ง 420 กรัม\n",
            "รหัสสินค้า 860145\n",
            "\n",
            "209.00 ฿\n",
            "\n",
            "-14%\n",
            "\n",
            "179.00 ฿\n",
            "ราคาต่อชิ้น  179.00 ฿\n",
            "\n",
            "ซีพี เนื้อเป็ดย่างเครื่องเทศ สไตล์ฮ่องกง แช่แข็ง 410 กรัม\n",
            "รหัสสินค้า 860141\n",
            "\n",
            "229.00 ฿\n",
            "\n",
            "-13%\n",
            "\n",
            "199.00 ฿\n",
            "ราคาต่อชิ้น  199.00 ฿\n",
            "\n",
            "จีเอสบี ไส้กรอกไก่รมควัน 1000 กรัม\n",
            "รหัสสินค้า 112249\n",
            "79.00 ฿\n",
            "ราคาต่อชิ้น  79.00 ฿\n",
            "https://www.makroclick.com/th/category/frozen-food/frozen-processed-food/frozen-meal?page=2&sorting=SORTING_LAST_UPDATE&all=true\n"
          ],
          "name": "stdout"
        }
      ]
    },
    {
      "cell_type": "code",
      "metadata": {
        "id": "2OTc01w5UQJy"
      },
      "source": [
        "contentx = []\n",
        "for i in content:\n",
        "  contentx.append(i[2:-2])"
      ],
      "execution_count": 247,
      "outputs": []
    },
    {
      "cell_type": "code",
      "metadata": {
        "id": "eRLEBd63UX-T"
      },
      "source": [
        "product_group = []\n",
        "sub_product_group1 = []\n",
        "for i in title:\n",
        "  product_group.append(i.split('\\n»\\n')[1])\n",
        "  try:\n",
        "    sub_product_group1.append(i.split('\\n»\\n')[2])\n",
        "  except:\n",
        "    sub_product_group1.append('')"
      ],
      "execution_count": 248,
      "outputs": []
    },
    {
      "cell_type": "code",
      "metadata": {
        "id": "zvNzxxo-UcXo"
      },
      "source": [
        "sub_product_group2 = []\n",
        "for i in sub_title:\n",
        "  sub_product_group2.append(i.split(' ')[1])"
      ],
      "execution_count": 249,
      "outputs": []
    },
    {
      "cell_type": "code",
      "metadata": {
        "colab": {
          "base_uri": "https://localhost:8080/",
          "height": 297
        },
        "id": "nekyeNaPUhFd",
        "outputId": "10fe84c6-4ed7-444f-9463-faa13364bb94"
      },
      "source": [
        "df = pd.DataFrame(list(zip(sub_product_group2, sub_product_group1, product_group, contentx)),columns=['sub_product_group2', 'sub_product_group1', 'product_group', 'content'])\n",
        "df = df[df['content'] != '']\n",
        "df"
      ],
      "execution_count": 250,
      "outputs": [
        {
          "output_type": "execute_result",
          "data": {
            "text/html": [
              "<div>\n",
              "<style scoped>\n",
              "    .dataframe tbody tr th:only-of-type {\n",
              "        vertical-align: middle;\n",
              "    }\n",
              "\n",
              "    .dataframe tbody tr th {\n",
              "        vertical-align: top;\n",
              "    }\n",
              "\n",
              "    .dataframe thead th {\n",
              "        text-align: right;\n",
              "    }\n",
              "</style>\n",
              "<table border=\"1\" class=\"dataframe\">\n",
              "  <thead>\n",
              "    <tr style=\"text-align: right;\">\n",
              "      <th></th>\n",
              "      <th>sub_product_group2</th>\n",
              "      <th>sub_product_group1</th>\n",
              "      <th>product_group</th>\n",
              "      <th>content</th>\n",
              "    </tr>\n",
              "  </thead>\n",
              "  <tbody>\n",
              "    <tr>\n",
              "      <th>0</th>\n",
              "      <td>เนื้อหมูแช่แข็ง</td>\n",
              "      <td>เนื้อสัตว์แช่แข็ง</td>\n",
              "      <td>อาหารแช่แข็ง</td>\n",
              "      <td>สามชั้นหมูตัดชิ้นแช่แข็ง ชิ้นละ\\nรหัสสินค้า 89...</td>\n",
              "    </tr>\n",
              "    <tr>\n",
              "      <th>2</th>\n",
              "      <td>เนื้อเป็ดแช่แข็ง</td>\n",
              "      <td>เนื้อสัตว์แช่แข็ง</td>\n",
              "      <td>อาหารแช่แข็ง</td>\n",
              "      <td>ซีพี เนื้ออกไก่ล้วนบดแช่แข็ง 1 กิโลกรัม\\nรหัสส...</td>\n",
              "    </tr>\n",
              "    <tr>\n",
              "      <th>4</th>\n",
              "      <td>เนื้อสัตว์อื่นๆแช่แข็ง</td>\n",
              "      <td>เนื้อสัตว์แช่แข็ง</td>\n",
              "      <td>อาหารแช่แข็ง</td>\n",
              "      <td>ซีพี เป็ดย่างไหว้เจ้า พร้อมเครื่องในและน้ำจิ้ม...</td>\n",
              "    </tr>\n",
              "    <tr>\n",
              "      <th>7</th>\n",
              "      <td>หอยแช่แข็ง</td>\n",
              "      <td>อาหารทะเลแช่แข็ง</td>\n",
              "      <td>อาหารแช่แข็ง</td>\n",
              "      <td>คิวเฟรช ปลากะพงหมักซอสปรุงรสกระเทียมและสมุนไพร...</td>\n",
              "    </tr>\n",
              "    <tr>\n",
              "      <th>8</th>\n",
              "      <td>หมึกแช่แข็ง</td>\n",
              "      <td>อาหารทะเลแช่แข็ง</td>\n",
              "      <td>อาหารแช่แข็ง</td>\n",
              "      <td>ซีพีแปซิฟิก กุ้งขาวต้มสุกทั้งตัวแช่แข็ง (ขนาด ...</td>\n",
              "    </tr>\n",
              "    <tr>\n",
              "      <th>9</th>\n",
              "      <td>ปูแช่แข็ง</td>\n",
              "      <td>อาหารทะเลแช่แข็ง</td>\n",
              "      <td>อาหารแช่แข็ง</td>\n",
              "      <td>เนื้อหอยเชลล์แช่แข็ง (ขนาด 40-60 ตัว/ปอนด์) 1 ...</td>\n",
              "    </tr>\n",
              "    <tr>\n",
              "      <th>17</th>\n",
              "      <td>ขนมจีบและฮะเก๋า</td>\n",
              "      <td>ติ่มซำ</td>\n",
              "      <td>อาหารแช่แข็ง</td>\n",
              "      <td>ซีพี ไก่จ๊อแช่แข็ง รสต้นตำรับ 1000 กรัม\\nรหัสส...</td>\n",
              "    </tr>\n",
              "    <tr>\n",
              "      <th>20</th>\n",
              "      <td>ขนมหวานแช่แข็ง</td>\n",
              "      <td>อาหารแปรรูปแช่แข็ง</td>\n",
              "      <td>อาหารแช่แข็ง</td>\n",
              "      <td>ซีพี เกี๊ยวกุ้งดิบพร้อมปรุง 11 กรัม x 20 ชิ้น\\...</td>\n",
              "    </tr>\n",
              "  </tbody>\n",
              "</table>\n",
              "</div>"
            ],
            "text/plain": [
              "        sub_product_group2  ...                                            content\n",
              "0          เนื้อหมูแช่แข็ง  ...  สามชั้นหมูตัดชิ้นแช่แข็ง ชิ้นละ\\nรหัสสินค้า 89...\n",
              "2         เนื้อเป็ดแช่แข็ง  ...  ซีพี เนื้ออกไก่ล้วนบดแช่แข็ง 1 กิโลกรัม\\nรหัสส...\n",
              "4   เนื้อสัตว์อื่นๆแช่แข็ง  ...  ซีพี เป็ดย่างไหว้เจ้า พร้อมเครื่องในและน้ำจิ้ม...\n",
              "7               หอยแช่แข็ง  ...  คิวเฟรช ปลากะพงหมักซอสปรุงรสกระเทียมและสมุนไพร...\n",
              "8              หมึกแช่แข็ง  ...  ซีพีแปซิฟิก กุ้งขาวต้มสุกทั้งตัวแช่แข็ง (ขนาด ...\n",
              "9                ปูแช่แข็ง  ...  เนื้อหอยเชลล์แช่แข็ง (ขนาด 40-60 ตัว/ปอนด์) 1 ...\n",
              "17         ขนมจีบและฮะเก๋า  ...  ซีพี ไก่จ๊อแช่แข็ง รสต้นตำรับ 1000 กรัม\\nรหัสส...\n",
              "20          ขนมหวานแช่แข็ง  ...  ซีพี เกี๊ยวกุ้งดิบพร้อมปรุง 11 กรัม x 20 ชิ้น\\...\n",
              "\n",
              "[8 rows x 4 columns]"
            ]
          },
          "metadata": {
            "tags": []
          },
          "execution_count": 250
        }
      ]
    },
    {
      "cell_type": "code",
      "metadata": {
        "colab": {
          "base_uri": "https://localhost:8080/",
          "height": 297
        },
        "id": "4VJd9L5_Umf0",
        "outputId": "795b1841-7ae8-44fc-b912-7903e57eab4f"
      },
      "source": [
        "df.loc[df['sub_product_group1']=='','sub_product_group1']=df['sub_product_group2']\n",
        "df"
      ],
      "execution_count": 251,
      "outputs": [
        {
          "output_type": "execute_result",
          "data": {
            "text/html": [
              "<div>\n",
              "<style scoped>\n",
              "    .dataframe tbody tr th:only-of-type {\n",
              "        vertical-align: middle;\n",
              "    }\n",
              "\n",
              "    .dataframe tbody tr th {\n",
              "        vertical-align: top;\n",
              "    }\n",
              "\n",
              "    .dataframe thead th {\n",
              "        text-align: right;\n",
              "    }\n",
              "</style>\n",
              "<table border=\"1\" class=\"dataframe\">\n",
              "  <thead>\n",
              "    <tr style=\"text-align: right;\">\n",
              "      <th></th>\n",
              "      <th>sub_product_group2</th>\n",
              "      <th>sub_product_group1</th>\n",
              "      <th>product_group</th>\n",
              "      <th>content</th>\n",
              "    </tr>\n",
              "  </thead>\n",
              "  <tbody>\n",
              "    <tr>\n",
              "      <th>0</th>\n",
              "      <td>เนื้อหมูแช่แข็ง</td>\n",
              "      <td>เนื้อสัตว์แช่แข็ง</td>\n",
              "      <td>อาหารแช่แข็ง</td>\n",
              "      <td>สามชั้นหมูตัดชิ้นแช่แข็ง ชิ้นละ\\nรหัสสินค้า 89...</td>\n",
              "    </tr>\n",
              "    <tr>\n",
              "      <th>2</th>\n",
              "      <td>เนื้อเป็ดแช่แข็ง</td>\n",
              "      <td>เนื้อสัตว์แช่แข็ง</td>\n",
              "      <td>อาหารแช่แข็ง</td>\n",
              "      <td>ซีพี เนื้ออกไก่ล้วนบดแช่แข็ง 1 กิโลกรัม\\nรหัสส...</td>\n",
              "    </tr>\n",
              "    <tr>\n",
              "      <th>4</th>\n",
              "      <td>เนื้อสัตว์อื่นๆแช่แข็ง</td>\n",
              "      <td>เนื้อสัตว์แช่แข็ง</td>\n",
              "      <td>อาหารแช่แข็ง</td>\n",
              "      <td>ซีพี เป็ดย่างไหว้เจ้า พร้อมเครื่องในและน้ำจิ้ม...</td>\n",
              "    </tr>\n",
              "    <tr>\n",
              "      <th>7</th>\n",
              "      <td>หอยแช่แข็ง</td>\n",
              "      <td>อาหารทะเลแช่แข็ง</td>\n",
              "      <td>อาหารแช่แข็ง</td>\n",
              "      <td>คิวเฟรช ปลากะพงหมักซอสปรุงรสกระเทียมและสมุนไพร...</td>\n",
              "    </tr>\n",
              "    <tr>\n",
              "      <th>8</th>\n",
              "      <td>หมึกแช่แข็ง</td>\n",
              "      <td>อาหารทะเลแช่แข็ง</td>\n",
              "      <td>อาหารแช่แข็ง</td>\n",
              "      <td>ซีพีแปซิฟิก กุ้งขาวต้มสุกทั้งตัวแช่แข็ง (ขนาด ...</td>\n",
              "    </tr>\n",
              "    <tr>\n",
              "      <th>9</th>\n",
              "      <td>ปูแช่แข็ง</td>\n",
              "      <td>อาหารทะเลแช่แข็ง</td>\n",
              "      <td>อาหารแช่แข็ง</td>\n",
              "      <td>เนื้อหอยเชลล์แช่แข็ง (ขนาด 40-60 ตัว/ปอนด์) 1 ...</td>\n",
              "    </tr>\n",
              "    <tr>\n",
              "      <th>17</th>\n",
              "      <td>ขนมจีบและฮะเก๋า</td>\n",
              "      <td>ติ่มซำ</td>\n",
              "      <td>อาหารแช่แข็ง</td>\n",
              "      <td>ซีพี ไก่จ๊อแช่แข็ง รสต้นตำรับ 1000 กรัม\\nรหัสส...</td>\n",
              "    </tr>\n",
              "    <tr>\n",
              "      <th>20</th>\n",
              "      <td>ขนมหวานแช่แข็ง</td>\n",
              "      <td>อาหารแปรรูปแช่แข็ง</td>\n",
              "      <td>อาหารแช่แข็ง</td>\n",
              "      <td>ซีพี เกี๊ยวกุ้งดิบพร้อมปรุง 11 กรัม x 20 ชิ้น\\...</td>\n",
              "    </tr>\n",
              "  </tbody>\n",
              "</table>\n",
              "</div>"
            ],
            "text/plain": [
              "        sub_product_group2  ...                                            content\n",
              "0          เนื้อหมูแช่แข็ง  ...  สามชั้นหมูตัดชิ้นแช่แข็ง ชิ้นละ\\nรหัสสินค้า 89...\n",
              "2         เนื้อเป็ดแช่แข็ง  ...  ซีพี เนื้ออกไก่ล้วนบดแช่แข็ง 1 กิโลกรัม\\nรหัสส...\n",
              "4   เนื้อสัตว์อื่นๆแช่แข็ง  ...  ซีพี เป็ดย่างไหว้เจ้า พร้อมเครื่องในและน้ำจิ้ม...\n",
              "7               หอยแช่แข็ง  ...  คิวเฟรช ปลากะพงหมักซอสปรุงรสกระเทียมและสมุนไพร...\n",
              "8              หมึกแช่แข็ง  ...  ซีพีแปซิฟิก กุ้งขาวต้มสุกทั้งตัวแช่แข็ง (ขนาด ...\n",
              "9                ปูแช่แข็ง  ...  เนื้อหอยเชลล์แช่แข็ง (ขนาด 40-60 ตัว/ปอนด์) 1 ...\n",
              "17         ขนมจีบและฮะเก๋า  ...  ซีพี ไก่จ๊อแช่แข็ง รสต้นตำรับ 1000 กรัม\\nรหัสส...\n",
              "20          ขนมหวานแช่แข็ง  ...  ซีพี เกี๊ยวกุ้งดิบพร้อมปรุง 11 กรัม x 20 ชิ้น\\...\n",
              "\n",
              "[8 rows x 4 columns]"
            ]
          },
          "metadata": {
            "tags": []
          },
          "execution_count": 251
        }
      ]
    },
    {
      "cell_type": "code",
      "metadata": {
        "colab": {
          "base_uri": "https://localhost:8080/"
        },
        "id": "QKxmB04ZUrDI",
        "outputId": "684061be-a67a-47e9-f92d-f802f39c3d02"
      },
      "source": [
        "content = list(df['content'])\n",
        "\n",
        "contentx = []\n",
        "for i in content:\n",
        "  contentx.append(i.replace('%\\n\\n','%\\n').replace('\\n\\n-','\\n-'))\n",
        "\n",
        "sub_product_group2 = list(df['sub_product_group2'])\n",
        "map = dict(zip(sub_product_group2,contentx))\n",
        "map"
      ],
      "execution_count": 252,
      "outputs": [
        {
          "output_type": "execute_result",
          "data": {
            "text/plain": [
              "{'ขนมจีบและฮะเก๋า': 'ซีพี ไก่จ๊อแช่แข็ง รสต้นตำรับ 1000 กรัม\\nรหัสสินค้า 897056\\n149.00 ฿\\nราคาต่อชิ้น\\xa0 149.00 ฿\\n\\nซีพี ชีสบอลมันม่วงแช่แข็ง 25 กรัม x 20 ลูก\\nรหัสสินค้า 834587\\n\\n110.00 ฿\\n-10%\\n99.00 ฿\\nราคาต่อชิ้น\\xa0 4.95 ฿\\n\\nซีพี ชีสบอล 500 กรัม x 14 แพ็ค\\nรหัสสินค้า 829151\\n\\n1,540.00 ฿\\n-14%\\n1,316.00 ฿\\nราคาต่อชิ้น\\xa0 94.00 ฿\\n\\nพีทีเอ็น กล้วยหอมทอดแช่แข็ง 500 กรัม\\nรหัสสินค้า 865907\\n109.00 ฿\\nราคาต่อชิ้น\\xa0 109.00 ฿\\n\\nซีพี เกี๊ยวซ่าหมูแช่แข็ง x 30 ชิ้น\\nรหัสสินค้า 220679\\n\\n169.00 ฿\\n-11%\\n149.00 ฿\\nราคาต่อชิ้น\\xa0 4.97 ฿\\n\\nซีพี เกี๊ยวซ่าไก่แช่แข็ง x 30 ชิ้น\\nรหัสสินค้า 220734\\n\\n159.00 ฿\\n-12%\\n139.00 ฿\\nราคาต่อชิ้น\\xa0 4.63 ฿\\n\\nซีพี ชิคฟิงเกอร์ รสฮอตแอนด์สไปซี่แช่แข็ง 1000 กรัม\\nรหัสสินค้า 215602\\n189.00 ฿\\nราคาต่อชิ้น\\xa0 189.00 ฿\\n\\nซีพี ไก่ห่อสาหร่ายแช่แข็ง 800 กรัม\\nรหัสสินค้า 800384\\n235.00 ฿\\nราคาต่อชิ้น\\xa0 235.00 ฿\\n\\nกุ้งชุบแป้งเกล็ดขนมปังแช่แข็ง x 16 ชิ้น\\nรหัสสินค้า 200767\\n219.00 ฿\\nราคาต่อชิ้น\\xa0 13.69 ฿\\n\\nเอโร่ ลาบก้อนแช่แข็ง 40 ชิ้น\\nรหัสสินค้า 220163\\n209.00 ฿\\nราคาต่อชิ้น\\xa0 5.23 ฿\\n\\nเอโร่ อิบิโรลไส้กุ้งแช่แข็ง 50 ชิ้น\\nรหัสสินค้า 219554\\n299.00 ฿\\nราคาต่อชิ้น\\xa0 5.98 ฿\\n\\nเอโร่ กุ้งบอมบ์ 500 กรัม\\nรหัสสินค้า 817666\\n129.00 ฿\\nราคาต่อชิ้น\\xa0 129.00 ฿\\n\\nเอโร่ ทอดมันกุ้งแช่แข็ง 25 กรัม x 30 ชิ้น\\nรหัสสินค้า 179426\\n329.00 ฿\\nราคาต่อชิ้น\\xa0 10.97 ฿\\n\\nเอโร่ ถุงทองไส้กุ้งแช่แข็ง 48 ชิ้น\\nรหัสสินค้า 179427\\n255.00 ฿\\nราคาต่อชิ้น\\xa0 5.31 ฿\\n\\nเอโร่ ปอเปี๊ยะกุ้งแช่แข็ง 40 ชิ้น\\nรหัสสินค้า 179425\\n205.00 ฿\\nราคาต่อชิ้น\\xa0 5.13 ฿\\n\\nซีพี นักเก็ตกุ้งและปลาแช่แข็ง 500 กรัม\\nรหัสสินค้า 832934\\n199.00 ฿\\nราคาต่อชิ้น\\xa0 199.00 ฿\\n\\nพีทีเอ็น เนื้อกุ้งดิบชุบเกล็ดขนมปังแช่แข็ง 13 กรัม x 36 ชิ้น\\nรหัสสินค้า 832932\\n189.00 ฿\\nราคาต่อชิ้น\\xa0 5.25 ฿',\n",
              " 'ขนมหวานแช่แข็ง': 'ซีพี เกี๊ยวกุ้งดิบพร้อมปรุง 11 กรัม x 20 ชิ้น\\nรหัสสินค้า 869980\\n99.00 ฿\\nราคาต่อชิ้น\\xa0 4.95 ฿\\n\\nเอโร่ เกี๊ยวกุ้งแช่แข็ง 15 กรัม x 24 ชิ้น\\nรหัสสินค้า 179429\\n135.00 ฿\\nราคาต่อชิ้น\\xa0 135.00 ฿\\n\\nพีทีเอ็น เกี๊ยวกุ้งแช่แข็ง 15 กรัม x 40 ชิ้น\\nรหัสสินค้า 179655\\n235.00 ฿\\nราคาต่อชิ้น\\xa0 235.00 ฿',\n",
              " 'ปูแช่แข็ง': 'เนื้อหอยเชลล์แช่แข็ง (ขนาด 40-60 ตัว/ปอนด์) 1 กก.\\nรหัสสินค้า 148055\\n\\n270.00 ฿\\n-1%\\n265.00 ฿\\nราคาต่อชิ้น\\xa0 265.00 ฿\\n\\nพีทีเอ็น เนื้อหอยนางรมญี่ปุ่นชุบเกล็ดขนมปังแช่แข็ง 35 กรัม x 10 ชิ้น\\nรหัสสินค้า 865069\\n218.00 ฿\\nราคาต่อชิ้น\\xa0 21.80 ฿',\n",
              " 'หมึกแช่แข็ง': 'ซีพีแปซิฟิก กุ้งขาวต้มสุกทั้งตัวแช่แข็ง (ขนาด 41-50 ตัว/กก.) 500 กรัม\\nรหัสสินค้า 224824\\n219.00 ฿\\nราคาต่อชิ้น\\xa0 219.00 ฿\\n\\nเอโร่ กุ้งขาวแช่แข็งไม่ปอกเปลือกผ่าหลังไว้หาง ขนาด 28-35 ตัว/ถุง\\nรหัสสินค้า 816828\\n380.00 ฿\\nราคาต่อชิ้น\\xa0 380.00 ฿\\n\\nกุ้งขาวไว้หางแช่แข็ง ขนาด 67-77 ตัว/ถุง\\nรหัสสินค้า 816822\\n159.00 ฿\\nราคาต่อชิ้น\\xa0 159.00 ฿\\n\\nเอโร่ เนื้อกุ้งขาวแช่แข็ง (จำนวน 160-194 ตัว/แพ็ค) 800 กรัม\\nรหัสสินค้า 816800\\n270.00 ฿\\nราคาต่อชิ้น\\xa0 270.00 ฿\\n\\nเซพแพ็ค กุ้งขาวไว้หางแช่แข็ง (48-54 ตัว/แพ็ค) 1000 กรัม\\nรหัสสินค้า 155674\\n305.00 ฿\\nราคาต่อชิ้น\\xa0 305.00 ฿\\n\\nเอโร่ กุ้งขาวไว้หางแช่แข็ง (จำนวน 72-88 ตัว/แพ็ค) 1000 กรัม\\nรหัสสินค้า 816806\\n310.00 ฿\\nราคาต่อชิ้น\\xa0 310.00 ฿\\n\\nเซพแพ็ค กุ้งขาวไว้หางแช่แข็ง (จำนวน 32-38 ตัว/กก.) แพ็ค 1000 กรัม\\nรหัสสินค้า 155650\\n340.00 ฿\\nราคาต่อชิ้น\\xa0 340.00 ฿\\n\\nคิวเฟรช กุ้งซูชิอาเจนแช่แข็ง 4L x 10 ตัว\\nรหัสสินค้า 895028\\n125.00 ฿\\nราคาต่อชิ้น\\xa0 125.00 ฿\\n\\nซีพีแปซิฟิก กุ้งขาวต้มสุกทั้งตัวแช่แข็ง (ขนาด 41-50 ตัว/กก.) 500 กรัม\\nรหัสสินค้า 897033\\n219.00 ฿\\nราคาต่อชิ้น\\xa0 219.00 ฿\\n\\nซีพี กุ้งขาวทั้งตัวต้มสุกแช่แข็ง (ขนาด 26-35 ตัว/กก.) 1 กก.\\nรหัสสินค้า 897034\\n299.00 ฿\\nราคาต่อชิ้น\\xa0 299.00 ฿\\n\\nกุ้งขาวไว้หางแช่แข็ง ขนาด 56-66 ตัว/ถุง\\nรหัสสินค้า 816820\\n185.00 ฿\\nราคาต่อชิ้น\\xa0 185.00 ฿\\n\\nซีพีแปซิฟิก กุ้งขาวดิบทั้งตัวแช่แข็ง (ขนาด 51-60 ตัว/กก.) 500 กรัม\\nรหัสสินค้า 226938\\n200.00 ฿\\nราคาต่อชิ้น\\xa0 200.00 ฿\\n\\nซีพีแปซิฟิก กุ้งขาวดิบทั้งตัวแช่แข็ง (ขนาด 31-40 ตัว/กก.) 500 กรัม\\nรหัสสินค้า 224862\\n220.00 ฿\\nราคาต่อชิ้น\\xa0 220.00 ฿\\n\\nเซพแพ็ค กุ้งขาวไว้หางแช่แข็ง (63-85 ตัว/แพ็ค) 1000 กรัม\\nรหัสสินค้า 155676\\n250.00 ฿\\nราคาต่อชิ้น\\xa0 250.00 ฿\\n\\nเอโร่ กุ้งขาวไว้หาง (90-106 ตัว/แพ็ค) 1000 กรัม\\nรหัสสินค้า 142161\\n285.00 ฿\\nราคาต่อชิ้น\\xa0 285.00 ฿\\n\\nเซพแพ็ค เนื้อกุ้งขาวแช่แข็ง (จำนวน 92-123 ตัว/แพ็ค) 1000 กรัม\\nรหัสสินค้า 155700\\n280.00 ฿\\nราคาต่อชิ้น\\xa0 280.00 ฿\\n\\nเอโร่ กุ้งขาวไว้หางไม่ปอกเปลือกผ่าหลังแช่แข็ง (72-88 ตัว/แพ็ค) 1000 กรัม\\nรหัสสินค้า 816826\\n285.00 ฿\\nราคาต่อชิ้น\\xa0 285.00 ฿\\n\\nคางกุ้งแช่แข็ง 1 กิโลกรัม\\nรหัสสินค้า 803553\\n69.00 ฿\\nราคาต่อชิ้น\\xa0 69.00 ฿\\n\\nเอโร่ กุ้งขาวไว้หาง (55-70 ตัว/แพ็ค) 1000 กรัม\\nรหัสสินค้า 816804\\n360.00 ฿\\nราคาต่อชิ้น\\xa0 360.00 ฿\\n\\nกุ้งขาวไว้หางแช่แข็ง ขนาด 45-55 ตัว-ถุง\\nรหัสสินค้า 816722\\n190.00 ฿\\nราคาต่อชิ้น\\xa0 190.00 ฿\\n\\nเอโร่ กุ้งขาวไว้หาง (107-123 ตัว/แพ็ค) 1000 กรัม\\nรหัสสินค้า 133339\\n270.00 ฿\\nราคาต่อชิ้น\\xa0 270.00 ฿\\n\\nเซพแพ็ค เนื้อกุ้งขาวแช่แข็ง (จำนวน 62-92 ตัว/แพ็ค) 1000 กรัม\\nรหัสสินค้า 155696\\n290.00 ฿\\nราคาต่อชิ้น\\xa0 290.00 ฿\\n\\nเซพแพ็ค เนื้อกุ้งทะเลหักแช่แข็ง (123-308 ตัว/แพ็ค) 1000 กรัม\\nรหัสสินค้า 816824\\n260.00 ฿\\nราคาต่อชิ้น\\xa0 260.00 ฿\\n\\nมันกุ้งขาวแช่แข็ง 500 กรัม\\nรหัสสินค้า 803555\\n97.00 ฿\\nราคาต่อชิ้น\\xa0 97.00 ฿',\n",
              " 'หอยแช่แข็ง': 'คิวเฟรช ปลากะพงหมักซอสปรุงรสกระเทียมและสมุนไพรแช่แข็ง 500 กรัม\\nรหัสสินค้า 892183\\n249.00 ฿\\nราคาต่อชิ้น\\xa0 249.00 ฿\\n\\nคิวเฟรช เนื้อปลากะพงสไลซ์แช่แข็ง (20-30 กรัม/ชิ้น) 1 กก. x 10 แพ็ค ยกลัง\\nรหัสสินค้า 821270\\n2,950.00 ฿\\nราคาต่อชิ้น\\xa0 295.00 ฿\\n\\nคิวเฟรช เนื้อปลากะพงสไลซ์แช่แข็ง (20-30 กรัม/ชิ้น) 1 กก.\\nรหัสสินค้า 821269\\n299.00 ฿\\nราคาต่อชิ้น\\xa0 299.00 ฿\\n\\nคิวเฟรช ปลากะพงขาวผ่าผีเสื้อแช่แข็ง (400-500 กรัม/แพ็ค)\\nรหัสสินค้า 821617\\n140.00 ฿\\nราคาต่อชิ้น\\xa0 140.00 ฿\\n\\nเมอร์คิวรี่ เนื้อท้องแซลมอนติดครีบแช่แข็ง 1000 กรัม\\nรหัสสินค้า 235950\\n169.00 ฿\\nราคาต่อชิ้น\\xa0 169.00 ฿\\n\\nคิวเฟรช เนื้อปลาแซลมอนสไลซ์ติดหนังแช่แข็ง พร้อมซอสเทอริยากิ 500 กรัม\\nรหัสสินค้า 894096\\n349.00 ฿\\nราคาต่อชิ้น\\xa0 349.00 ฿\\n\\nคิวเฟรช ปลาแซลมอนหมักซอสปรุงรสกระเทียมและสมุนไพรแช่แข็ง 500 กรัม\\nรหัสสินค้า 894093\\n335.00 ฿\\nราคาต่อชิ้น\\xa0 335.00 ฿\\n\\nคิวเฟรช ปลาแซลมอนหมักซอสปรุงรสพริกไทยดำแช่แข็ง 500 กรัม\\nรหัสสินค้า 894099\\n335.00 ฿\\nราคาต่อชิ้น\\xa0 335.00 ฿\\n\\nคิวเฟรช ปลากะพงหมักซอสปรุงรสพริกไทยดำแช่แข็ง 500 กรัม\\nรหัสสินค้า 892180\\n255.00 ฿\\nราคาต่อชิ้น\\xa0 255.00 ฿\\n\\nคิวเฟรช ปลากะพงขาวแล่แช่แข็ง (170-300 กรัม/ชิ้น) 1000 กรัม\\nรหัสสินค้า 860011\\n299.00 ฿\\nราคาต่อชิ้น\\xa0 299.00 ฿\\n\\nคิวเฟรช ปลากะพงหั่นชิ้นแช่แข็ง (100-120 กรัม/ชิ้น) 1000 กรัม\\nรหัสสินค้า 860008\\n299.00 ฿\\nราคาต่อชิ้น\\xa0 299.00 ฿\\n\\nคิวเฟรช หัวปลากะพงแช่แข็ง 1 กก.\\nรหัสสินค้า 854239\\n43.00 ฿\\nราคาต่อชิ้น\\xa0 43.00 ฿\\n\\nคิวเฟรช เนื้อปลากะพงสไลซ์แช่แข็ง (10-15 กรัม/ชิ้น) 1 กก. x 10 แพ็ค ยกลัง\\nรหัสสินค้า 821268\\n2,950.00 ฿\\nราคาต่อชิ้น\\xa0 295.00 ฿\\n\\nเอโร่ หัวแอตแลนติกแซลมอนแช่แข็ง แพ็ค 800 กรัม\\nรหัสสินค้า 206370\\n129.00 ฿\\nราคาต่อชิ้น\\xa0 129.00 ฿\\n\\nเอโร่ แอตแลนติกแซลมอนตัดคิริมิ (ขนาด80-90กรัม/ชิ้น) แพ็ค 1 กิโลกรัม\\nรหัสสินค้า 226977\\n565.00 ฿\\nราคาต่อชิ้น\\xa0 565.00 ฿\\n\\nเอโร่ แซลมอนสเต๊กแช่แข็ง ขนาด 100-150 กรัม/ชิ้น\\nรหัสสินค้า 206373\\n445.00 ฿\\nราคาต่อชิ้น\\xa0 445.00 ฿\\n\\nเอโร่ เนื้อส่วนหางแอตแลนติกแซลมอนแช่แข็ง แพ็ค 1 กิโลกรัม\\nรหัสสินค้า 206375\\n279.00 ฿\\nราคาต่อชิ้น\\xa0 279.00 ฿\\n\\nคิวเฟรช เนื้อปลากะพงสไลซ์แช่แข็ง ขนาด 10-15 กรัม/ชิ้น\\nรหัสสินค้า 821267\\n299.00 ฿\\nราคาต่อชิ้น\\xa0 299.00 ฿\\n\\nแอตแลนติก เนื้อแซลมอนบดละเอียด 1 กิโลกรัม\\nรหัสสินค้า 224873\\n85.00 ฿\\nราคาต่อชิ้น\\xa0 85.00 ฿\\n\\nปลาเงินแช่แข็ง 600 กรัม\\nรหัสสินค้า 230544\\n\\n280.00 ฿\\n-1%\\n275.00 ฿\\nราคาต่อชิ้น\\xa0 275.00 ฿\\n\\nแซลมอนตัดชิ้นติดหนังแช่แข็ง 500 กรัม\\nรหัสสินค้า 860703\\n239.00 ฿\\nราคาต่อชิ้น\\xa0 239.00 ฿',\n",
              " 'เนื้อสัตว์อื่นๆแช่แข็ง': 'ซีพี เป็ดย่างไหว้เจ้า พร้อมเครื่องในและน้ำจิ้ม 1.8 กก.\\nรหัสสินค้า 825165\\n499.00 ฿\\nราคาต่อชิ้น\\xa0 499.00 ฿\\n\\nซีพี เนื้อเป็ดปรุงสุกแช่แข็ง 1000 กรัม\\nรหัสสินค้า 230043\\n209.00 ฿\\nราคาต่อชิ้น\\xa0 209.00 ฿',\n",
              " 'เนื้อหมูแช่แข็ง': 'สามชั้นหมูตัดชิ้นแช่แข็ง ชิ้นละ\\nรหัสสินค้า 897243\\n85.00 ฿\\nราคาต่อชิ้น\\xa0 85.00 ฿\\n\\nสะโพกหมูติดหนังตัดชิ้นแช่แข็ง ชิ้นละ\\nรหัสสินค้า 897242\\n90.00 ฿\\nราคาต่อชิ้น\\xa0 90.00 ฿\\n\\nชุดหมูสำหรับไหว้แช่แข็ง สะโพก-สามชั้น 1.4 กก.\\nรหัสสินค้า 897045\\n239.00 ฿\\nราคาต่อชิ้น\\xa0 239.00 ฿\\n\\nเล็ท แพล็น มีท เนื้อบดจากพืชแช่แข็ง 1000 กรัม\\nรหัสสินค้า 867275\\n295.00 ฿\\nราคาต่อชิ้น\\xa0 295.00 ฿',\n",
              " 'เนื้อเป็ดแช่แข็ง': 'ซีพี เนื้ออกไก่ล้วนบดแช่แข็ง 1 กิโลกรัม\\nรหัสสินค้า 820423\\n69.00 ฿\\nราคาต่อชิ้น\\xa0 69.00 ฿\\n\\nซีพี ไก่ต้มแช่แข็ง 1300 กรัม\\nรหัสสินค้า 193117\\n319.00 ฿\\nราคาต่อชิ้น\\xa0 319.00 ฿\\n\\nไก่ไข่แช่แข็ง ตัวละ\\nรหัสสินค้า 897245\\n65.00 ฿\\nราคาต่อชิ้น\\xa0 65.00 ฿\\n\\nซีพี น่องติดสะโพกไก่แช่แข็ง 2 กก.\\nรหัสสินค้า 829225\\n119.00 ฿\\nราคาต่อชิ้น\\xa0 119.00 ฿'}"
            ]
          },
          "metadata": {
            "tags": []
          },
          "execution_count": 252
        }
      ]
    },
    {
      "cell_type": "code",
      "metadata": {
        "colab": {
          "base_uri": "https://localhost:8080/"
        },
        "id": "nkkOfcFGUvnD",
        "outputId": "606a1953-ff9e-4c09-f87c-46cd48715c19"
      },
      "source": [
        "mapp = dict()\n",
        "for i in map:\n",
        "  for j in range(len(map[i].split('\\n\\n'))):\n",
        "    #mapp[j] = i\n",
        "\n",
        "    if map[i].split('\\n\\n')[j][0].isdigit():\n",
        "      #print((i,map[i].split('\\n\\n')[j]))\n",
        "      pass\n",
        "    elif map[i].split('\\n\\n')[j][-1] != '฿':\n",
        "      #print(i,map[i].split('\\n\\n')[j]+map[i].split('\\n\\n')[j+1])\n",
        "      mapp[map[i].split('\\n\\n')[j]+map[i].split('\\n\\n')[j+1]] = i\n",
        "    else:\n",
        "      mapp[map[i].split('\\n\\n')[j]] = i\n",
        "mapp"
      ],
      "execution_count": 253,
      "outputs": [
        {
          "output_type": "execute_result",
          "data": {
            "text/plain": [
              "{'กุ้งขาวไว้หางแช่แข็ง ขนาด 45-55 ตัว-ถุง\\nรหัสสินค้า 816722\\n190.00 ฿\\nราคาต่อชิ้น\\xa0 190.00 ฿': 'หมึกแช่แข็ง',\n",
              " 'กุ้งขาวไว้หางแช่แข็ง ขนาด 56-66 ตัว/ถุง\\nรหัสสินค้า 816820\\n185.00 ฿\\nราคาต่อชิ้น\\xa0 185.00 ฿': 'หมึกแช่แข็ง',\n",
              " 'กุ้งขาวไว้หางแช่แข็ง ขนาด 67-77 ตัว/ถุง\\nรหัสสินค้า 816822\\n159.00 ฿\\nราคาต่อชิ้น\\xa0 159.00 ฿': 'หมึกแช่แข็ง',\n",
              " 'กุ้งชุบแป้งเกล็ดขนมปังแช่แข็ง x 16 ชิ้น\\nรหัสสินค้า 200767\\n219.00 ฿\\nราคาต่อชิ้น\\xa0 13.69 ฿': 'ขนมจีบและฮะเก๋า',\n",
              " 'คางกุ้งแช่แข็ง 1 กิโลกรัม\\nรหัสสินค้า 803553\\n69.00 ฿\\nราคาต่อชิ้น\\xa0 69.00 ฿': 'หมึกแช่แข็ง',\n",
              " 'คิวเฟรช กุ้งซูชิอาเจนแช่แข็ง 4L x 10 ตัว\\nรหัสสินค้า 895028\\n125.00 ฿\\nราคาต่อชิ้น\\xa0 125.00 ฿': 'หมึกแช่แข็ง',\n",
              " 'คิวเฟรช ปลากะพงขาวผ่าผีเสื้อแช่แข็ง (400-500 กรัม/แพ็ค)\\nรหัสสินค้า 821617\\n140.00 ฿\\nราคาต่อชิ้น\\xa0 140.00 ฿': 'หอยแช่แข็ง',\n",
              " 'คิวเฟรช ปลากะพงขาวแล่แช่แข็ง (170-300 กรัม/ชิ้น) 1000 กรัม\\nรหัสสินค้า 860011\\n299.00 ฿\\nราคาต่อชิ้น\\xa0 299.00 ฿': 'หอยแช่แข็ง',\n",
              " 'คิวเฟรช ปลากะพงหมักซอสปรุงรสกระเทียมและสมุนไพรแช่แข็ง 500 กรัม\\nรหัสสินค้า 892183\\n249.00 ฿\\nราคาต่อชิ้น\\xa0 249.00 ฿': 'หอยแช่แข็ง',\n",
              " 'คิวเฟรช ปลากะพงหมักซอสปรุงรสพริกไทยดำแช่แข็ง 500 กรัม\\nรหัสสินค้า 892180\\n255.00 ฿\\nราคาต่อชิ้น\\xa0 255.00 ฿': 'หอยแช่แข็ง',\n",
              " 'คิวเฟรช ปลากะพงหั่นชิ้นแช่แข็ง (100-120 กรัม/ชิ้น) 1000 กรัม\\nรหัสสินค้า 860008\\n299.00 ฿\\nราคาต่อชิ้น\\xa0 299.00 ฿': 'หอยแช่แข็ง',\n",
              " 'คิวเฟรช ปลาแซลมอนหมักซอสปรุงรสกระเทียมและสมุนไพรแช่แข็ง 500 กรัม\\nรหัสสินค้า 894093\\n335.00 ฿\\nราคาต่อชิ้น\\xa0 335.00 ฿': 'หอยแช่แข็ง',\n",
              " 'คิวเฟรช ปลาแซลมอนหมักซอสปรุงรสพริกไทยดำแช่แข็ง 500 กรัม\\nรหัสสินค้า 894099\\n335.00 ฿\\nราคาต่อชิ้น\\xa0 335.00 ฿': 'หอยแช่แข็ง',\n",
              " 'คิวเฟรช หัวปลากะพงแช่แข็ง 1 กก.\\nรหัสสินค้า 854239\\n43.00 ฿\\nราคาต่อชิ้น\\xa0 43.00 ฿': 'หอยแช่แข็ง',\n",
              " 'คิวเฟรช เนื้อปลากะพงสไลซ์แช่แข็ง (10-15 กรัม/ชิ้น) 1 กก. x 10 แพ็ค ยกลัง\\nรหัสสินค้า 821268\\n2,950.00 ฿\\nราคาต่อชิ้น\\xa0 295.00 ฿': 'หอยแช่แข็ง',\n",
              " 'คิวเฟรช เนื้อปลากะพงสไลซ์แช่แข็ง (20-30 กรัม/ชิ้น) 1 กก.\\nรหัสสินค้า 821269\\n299.00 ฿\\nราคาต่อชิ้น\\xa0 299.00 ฿': 'หอยแช่แข็ง',\n",
              " 'คิวเฟรช เนื้อปลากะพงสไลซ์แช่แข็ง (20-30 กรัม/ชิ้น) 1 กก. x 10 แพ็ค ยกลัง\\nรหัสสินค้า 821270\\n2,950.00 ฿\\nราคาต่อชิ้น\\xa0 295.00 ฿': 'หอยแช่แข็ง',\n",
              " 'คิวเฟรช เนื้อปลากะพงสไลซ์แช่แข็ง ขนาด 10-15 กรัม/ชิ้น\\nรหัสสินค้า 821267\\n299.00 ฿\\nราคาต่อชิ้น\\xa0 299.00 ฿': 'หอยแช่แข็ง',\n",
              " 'คิวเฟรช เนื้อปลาแซลมอนสไลซ์ติดหนังแช่แข็ง พร้อมซอสเทอริยากิ 500 กรัม\\nรหัสสินค้า 894096\\n349.00 ฿\\nราคาต่อชิ้น\\xa0 349.00 ฿': 'หอยแช่แข็ง',\n",
              " 'ชุดหมูสำหรับไหว้แช่แข็ง สะโพก-สามชั้น 1.4 กก.\\nรหัสสินค้า 897045\\n239.00 ฿\\nราคาต่อชิ้น\\xa0 239.00 ฿': 'เนื้อหมูแช่แข็ง',\n",
              " 'ซีพี กุ้งขาวทั้งตัวต้มสุกแช่แข็ง (ขนาด 26-35 ตัว/กก.) 1 กก.\\nรหัสสินค้า 897034\\n299.00 ฿\\nราคาต่อชิ้น\\xa0 299.00 ฿': 'หมึกแช่แข็ง',\n",
              " 'ซีพี ชิคฟิงเกอร์ รสฮอตแอนด์สไปซี่แช่แข็ง 1000 กรัม\\nรหัสสินค้า 215602\\n189.00 ฿\\nราคาต่อชิ้น\\xa0 189.00 ฿': 'ขนมจีบและฮะเก๋า',\n",
              " 'ซีพี ชีสบอล 500 กรัม x 14 แพ็ค\\nรหัสสินค้า 8291511,540.00 ฿\\n-14%\\n1,316.00 ฿\\nราคาต่อชิ้น\\xa0 94.00 ฿': 'ขนมจีบและฮะเก๋า',\n",
              " 'ซีพี ชีสบอลมันม่วงแช่แข็ง 25 กรัม x 20 ลูก\\nรหัสสินค้า 834587110.00 ฿\\n-10%\\n99.00 ฿\\nราคาต่อชิ้น\\xa0 4.95 ฿': 'ขนมจีบและฮะเก๋า',\n",
              " 'ซีพี นักเก็ตกุ้งและปลาแช่แข็ง 500 กรัม\\nรหัสสินค้า 832934\\n199.00 ฿\\nราคาต่อชิ้น\\xa0 199.00 ฿': 'ขนมจีบและฮะเก๋า',\n",
              " 'ซีพี น่องติดสะโพกไก่แช่แข็ง 2 กก.\\nรหัสสินค้า 829225\\n119.00 ฿\\nราคาต่อชิ้น\\xa0 119.00 ฿': 'เนื้อเป็ดแช่แข็ง',\n",
              " 'ซีพี เกี๊ยวกุ้งดิบพร้อมปรุง 11 กรัม x 20 ชิ้น\\nรหัสสินค้า 869980\\n99.00 ฿\\nราคาต่อชิ้น\\xa0 4.95 ฿': 'ขนมหวานแช่แข็ง',\n",
              " 'ซีพี เกี๊ยวซ่าหมูแช่แข็ง x 30 ชิ้น\\nรหัสสินค้า 220679169.00 ฿\\n-11%\\n149.00 ฿\\nราคาต่อชิ้น\\xa0 4.97 ฿': 'ขนมจีบและฮะเก๋า',\n",
              " 'ซีพี เกี๊ยวซ่าไก่แช่แข็ง x 30 ชิ้น\\nรหัสสินค้า 220734159.00 ฿\\n-12%\\n139.00 ฿\\nราคาต่อชิ้น\\xa0 4.63 ฿': 'ขนมจีบและฮะเก๋า',\n",
              " 'ซีพี เนื้ออกไก่ล้วนบดแช่แข็ง 1 กิโลกรัม\\nรหัสสินค้า 820423\\n69.00 ฿\\nราคาต่อชิ้น\\xa0 69.00 ฿': 'เนื้อเป็ดแช่แข็ง',\n",
              " 'ซีพี เนื้อเป็ดปรุงสุกแช่แข็ง 1000 กรัม\\nรหัสสินค้า 230043\\n209.00 ฿\\nราคาต่อชิ้น\\xa0 209.00 ฿': 'เนื้อสัตว์อื่นๆแช่แข็ง',\n",
              " 'ซีพี เป็ดย่างไหว้เจ้า พร้อมเครื่องในและน้ำจิ้ม 1.8 กก.\\nรหัสสินค้า 825165\\n499.00 ฿\\nราคาต่อชิ้น\\xa0 499.00 ฿': 'เนื้อสัตว์อื่นๆแช่แข็ง',\n",
              " 'ซีพี ไก่จ๊อแช่แข็ง รสต้นตำรับ 1000 กรัม\\nรหัสสินค้า 897056\\n149.00 ฿\\nราคาต่อชิ้น\\xa0 149.00 ฿': 'ขนมจีบและฮะเก๋า',\n",
              " 'ซีพี ไก่ต้มแช่แข็ง 1300 กรัม\\nรหัสสินค้า 193117\\n319.00 ฿\\nราคาต่อชิ้น\\xa0 319.00 ฿': 'เนื้อเป็ดแช่แข็ง',\n",
              " 'ซีพี ไก่ห่อสาหร่ายแช่แข็ง 800 กรัม\\nรหัสสินค้า 800384\\n235.00 ฿\\nราคาต่อชิ้น\\xa0 235.00 ฿': 'ขนมจีบและฮะเก๋า',\n",
              " 'ซีพีแปซิฟิก กุ้งขาวดิบทั้งตัวแช่แข็ง (ขนาด 31-40 ตัว/กก.) 500 กรัม\\nรหัสสินค้า 224862\\n220.00 ฿\\nราคาต่อชิ้น\\xa0 220.00 ฿': 'หมึกแช่แข็ง',\n",
              " 'ซีพีแปซิฟิก กุ้งขาวดิบทั้งตัวแช่แข็ง (ขนาด 51-60 ตัว/กก.) 500 กรัม\\nรหัสสินค้า 226938\\n200.00 ฿\\nราคาต่อชิ้น\\xa0 200.00 ฿': 'หมึกแช่แข็ง',\n",
              " 'ซีพีแปซิฟิก กุ้งขาวต้มสุกทั้งตัวแช่แข็ง (ขนาด 41-50 ตัว/กก.) 500 กรัม\\nรหัสสินค้า 224824\\n219.00 ฿\\nราคาต่อชิ้น\\xa0 219.00 ฿': 'หมึกแช่แข็ง',\n",
              " 'ซีพีแปซิฟิก กุ้งขาวต้มสุกทั้งตัวแช่แข็ง (ขนาด 41-50 ตัว/กก.) 500 กรัม\\nรหัสสินค้า 897033\\n219.00 ฿\\nราคาต่อชิ้น\\xa0 219.00 ฿': 'หมึกแช่แข็ง',\n",
              " 'ปลาเงินแช่แข็ง 600 กรัม\\nรหัสสินค้า 230544280.00 ฿\\n-1%\\n275.00 ฿\\nราคาต่อชิ้น\\xa0 275.00 ฿': 'หอยแช่แข็ง',\n",
              " 'พีทีเอ็น กล้วยหอมทอดแช่แข็ง 500 กรัม\\nรหัสสินค้า 865907\\n109.00 ฿\\nราคาต่อชิ้น\\xa0 109.00 ฿': 'ขนมจีบและฮะเก๋า',\n",
              " 'พีทีเอ็น เกี๊ยวกุ้งแช่แข็ง 15 กรัม x 40 ชิ้น\\nรหัสสินค้า 179655\\n235.00 ฿\\nราคาต่อชิ้น\\xa0 235.00 ฿': 'ขนมหวานแช่แข็ง',\n",
              " 'พีทีเอ็น เนื้อกุ้งดิบชุบเกล็ดขนมปังแช่แข็ง 13 กรัม x 36 ชิ้น\\nรหัสสินค้า 832932\\n189.00 ฿\\nราคาต่อชิ้น\\xa0 5.25 ฿': 'ขนมจีบและฮะเก๋า',\n",
              " 'พีทีเอ็น เนื้อหอยนางรมญี่ปุ่นชุบเกล็ดขนมปังแช่แข็ง 35 กรัม x 10 ชิ้น\\nรหัสสินค้า 865069\\n218.00 ฿\\nราคาต่อชิ้น\\xa0 21.80 ฿': 'ปูแช่แข็ง',\n",
              " 'มันกุ้งขาวแช่แข็ง 500 กรัม\\nรหัสสินค้า 803555\\n97.00 ฿\\nราคาต่อชิ้น\\xa0 97.00 ฿': 'หมึกแช่แข็ง',\n",
              " 'สะโพกหมูติดหนังตัดชิ้นแช่แข็ง ชิ้นละ\\nรหัสสินค้า 897242\\n90.00 ฿\\nราคาต่อชิ้น\\xa0 90.00 ฿': 'เนื้อหมูแช่แข็ง',\n",
              " 'สามชั้นหมูตัดชิ้นแช่แข็ง ชิ้นละ\\nรหัสสินค้า 897243\\n85.00 ฿\\nราคาต่อชิ้น\\xa0 85.00 ฿': 'เนื้อหมูแช่แข็ง',\n",
              " 'เซพแพ็ค กุ้งขาวไว้หางแช่แข็ง (48-54 ตัว/แพ็ค) 1000 กรัม\\nรหัสสินค้า 155674\\n305.00 ฿\\nราคาต่อชิ้น\\xa0 305.00 ฿': 'หมึกแช่แข็ง',\n",
              " 'เซพแพ็ค กุ้งขาวไว้หางแช่แข็ง (63-85 ตัว/แพ็ค) 1000 กรัม\\nรหัสสินค้า 155676\\n250.00 ฿\\nราคาต่อชิ้น\\xa0 250.00 ฿': 'หมึกแช่แข็ง',\n",
              " 'เซพแพ็ค กุ้งขาวไว้หางแช่แข็ง (จำนวน 32-38 ตัว/กก.) แพ็ค 1000 กรัม\\nรหัสสินค้า 155650\\n340.00 ฿\\nราคาต่อชิ้น\\xa0 340.00 ฿': 'หมึกแช่แข็ง',\n",
              " 'เซพแพ็ค เนื้อกุ้งขาวแช่แข็ง (จำนวน 62-92 ตัว/แพ็ค) 1000 กรัม\\nรหัสสินค้า 155696\\n290.00 ฿\\nราคาต่อชิ้น\\xa0 290.00 ฿': 'หมึกแช่แข็ง',\n",
              " 'เซพแพ็ค เนื้อกุ้งขาวแช่แข็ง (จำนวน 92-123 ตัว/แพ็ค) 1000 กรัม\\nรหัสสินค้า 155700\\n280.00 ฿\\nราคาต่อชิ้น\\xa0 280.00 ฿': 'หมึกแช่แข็ง',\n",
              " 'เซพแพ็ค เนื้อกุ้งทะเลหักแช่แข็ง (123-308 ตัว/แพ็ค) 1000 กรัม\\nรหัสสินค้า 816824\\n260.00 ฿\\nราคาต่อชิ้น\\xa0 260.00 ฿': 'หมึกแช่แข็ง',\n",
              " 'เนื้อหอยเชลล์แช่แข็ง (ขนาด 40-60 ตัว/ปอนด์) 1 กก.\\nรหัสสินค้า 148055270.00 ฿\\n-1%\\n265.00 ฿\\nราคาต่อชิ้น\\xa0 265.00 ฿': 'ปูแช่แข็ง',\n",
              " 'เมอร์คิวรี่ เนื้อท้องแซลมอนติดครีบแช่แข็ง 1000 กรัม\\nรหัสสินค้า 235950\\n169.00 ฿\\nราคาต่อชิ้น\\xa0 169.00 ฿': 'หอยแช่แข็ง',\n",
              " 'เล็ท แพล็น มีท เนื้อบดจากพืชแช่แข็ง 1000 กรัม\\nรหัสสินค้า 867275\\n295.00 ฿\\nราคาต่อชิ้น\\xa0 295.00 ฿': 'เนื้อหมูแช่แข็ง',\n",
              " 'เอโร่ กุ้งขาวแช่แข็งไม่ปอกเปลือกผ่าหลังไว้หาง ขนาด 28-35 ตัว/ถุง\\nรหัสสินค้า 816828\\n380.00 ฿\\nราคาต่อชิ้น\\xa0 380.00 ฿': 'หมึกแช่แข็ง',\n",
              " 'เอโร่ กุ้งขาวไว้หาง (107-123 ตัว/แพ็ค) 1000 กรัม\\nรหัสสินค้า 133339\\n270.00 ฿\\nราคาต่อชิ้น\\xa0 270.00 ฿': 'หมึกแช่แข็ง',\n",
              " 'เอโร่ กุ้งขาวไว้หาง (55-70 ตัว/แพ็ค) 1000 กรัม\\nรหัสสินค้า 816804\\n360.00 ฿\\nราคาต่อชิ้น\\xa0 360.00 ฿': 'หมึกแช่แข็ง',\n",
              " 'เอโร่ กุ้งขาวไว้หาง (90-106 ตัว/แพ็ค) 1000 กรัม\\nรหัสสินค้า 142161\\n285.00 ฿\\nราคาต่อชิ้น\\xa0 285.00 ฿': 'หมึกแช่แข็ง',\n",
              " 'เอโร่ กุ้งขาวไว้หางแช่แข็ง (จำนวน 72-88 ตัว/แพ็ค) 1000 กรัม\\nรหัสสินค้า 816806\\n310.00 ฿\\nราคาต่อชิ้น\\xa0 310.00 ฿': 'หมึกแช่แข็ง',\n",
              " 'เอโร่ กุ้งขาวไว้หางไม่ปอกเปลือกผ่าหลังแช่แข็ง (72-88 ตัว/แพ็ค) 1000 กรัม\\nรหัสสินค้า 816826\\n285.00 ฿\\nราคาต่อชิ้น\\xa0 285.00 ฿': 'หมึกแช่แข็ง',\n",
              " 'เอโร่ กุ้งบอมบ์ 500 กรัม\\nรหัสสินค้า 817666\\n129.00 ฿\\nราคาต่อชิ้น\\xa0 129.00 ฿': 'ขนมจีบและฮะเก๋า',\n",
              " 'เอโร่ ถุงทองไส้กุ้งแช่แข็ง 48 ชิ้น\\nรหัสสินค้า 179427\\n255.00 ฿\\nราคาต่อชิ้น\\xa0 5.31 ฿': 'ขนมจีบและฮะเก๋า',\n",
              " 'เอโร่ ทอดมันกุ้งแช่แข็ง 25 กรัม x 30 ชิ้น\\nรหัสสินค้า 179426\\n329.00 ฿\\nราคาต่อชิ้น\\xa0 10.97 ฿': 'ขนมจีบและฮะเก๋า',\n",
              " 'เอโร่ ปอเปี๊ยะกุ้งแช่แข็ง 40 ชิ้น\\nรหัสสินค้า 179425\\n205.00 ฿\\nราคาต่อชิ้น\\xa0 5.13 ฿': 'ขนมจีบและฮะเก๋า',\n",
              " 'เอโร่ ลาบก้อนแช่แข็ง 40 ชิ้น\\nรหัสสินค้า 220163\\n209.00 ฿\\nราคาต่อชิ้น\\xa0 5.23 ฿': 'ขนมจีบและฮะเก๋า',\n",
              " 'เอโร่ หัวแอตแลนติกแซลมอนแช่แข็ง แพ็ค 800 กรัม\\nรหัสสินค้า 206370\\n129.00 ฿\\nราคาต่อชิ้น\\xa0 129.00 ฿': 'หอยแช่แข็ง',\n",
              " 'เอโร่ อิบิโรลไส้กุ้งแช่แข็ง 50 ชิ้น\\nรหัสสินค้า 219554\\n299.00 ฿\\nราคาต่อชิ้น\\xa0 5.98 ฿': 'ขนมจีบและฮะเก๋า',\n",
              " 'เอโร่ เกี๊ยวกุ้งแช่แข็ง 15 กรัม x 24 ชิ้น\\nรหัสสินค้า 179429\\n135.00 ฿\\nราคาต่อชิ้น\\xa0 135.00 ฿': 'ขนมหวานแช่แข็ง',\n",
              " 'เอโร่ เนื้อกุ้งขาวแช่แข็ง (จำนวน 160-194 ตัว/แพ็ค) 800 กรัม\\nรหัสสินค้า 816800\\n270.00 ฿\\nราคาต่อชิ้น\\xa0 270.00 ฿': 'หมึกแช่แข็ง',\n",
              " 'เอโร่ เนื้อส่วนหางแอตแลนติกแซลมอนแช่แข็ง แพ็ค 1 กิโลกรัม\\nรหัสสินค้า 206375\\n279.00 ฿\\nราคาต่อชิ้น\\xa0 279.00 ฿': 'หอยแช่แข็ง',\n",
              " 'เอโร่ แซลมอนสเต๊กแช่แข็ง ขนาด 100-150 กรัม/ชิ้น\\nรหัสสินค้า 206373\\n445.00 ฿\\nราคาต่อชิ้น\\xa0 445.00 ฿': 'หอยแช่แข็ง',\n",
              " 'เอโร่ แอตแลนติกแซลมอนตัดคิริมิ (ขนาด80-90กรัม/ชิ้น) แพ็ค 1 กิโลกรัม\\nรหัสสินค้า 226977\\n565.00 ฿\\nราคาต่อชิ้น\\xa0 565.00 ฿': 'หอยแช่แข็ง',\n",
              " 'แซลมอนตัดชิ้นติดหนังแช่แข็ง 500 กรัม\\nรหัสสินค้า 860703\\n239.00 ฿\\nราคาต่อชิ้น\\xa0 239.00 ฿': 'หอยแช่แข็ง',\n",
              " 'แอตแลนติก เนื้อแซลมอนบดละเอียด 1 กิโลกรัม\\nรหัสสินค้า 224873\\n85.00 ฿\\nราคาต่อชิ้น\\xa0 85.00 ฿': 'หอยแช่แข็ง',\n",
              " 'ไก่ไข่แช่แข็ง ตัวละ\\nรหัสสินค้า 897245\\n65.00 ฿\\nราคาต่อชิ้น\\xa0 65.00 ฿': 'เนื้อเป็ดแช่แข็ง'}"
            ]
          },
          "metadata": {
            "tags": []
          },
          "execution_count": 253
        }
      ]
    },
    {
      "cell_type": "code",
      "metadata": {
        "id": "1bl-hKAbU1fc"
      },
      "source": [
        "product = []\n",
        "price = []\n",
        "sub_product_group2 = []\n",
        "\n",
        "for i in mapp:\n",
        "  #print(i.replace('\\xa0','').split('\\n'),mapp[i],len(i.replace('\\xa0','').split('\\n')))\n",
        "  #if len(i.replace('\\xa0','').split('\\n')) == 5:\n",
        "  #  print(i.replace('\\xa0','').split('\\n'),mapp[i],len(i.replace('\\xa0','').split('\\n')))\n",
        "  product.append(i.replace('\\xa0','').split('\\n')[0])\n",
        "  price.append(i.replace('\\xa0','').split('\\n')[-1])\n",
        "  sub_product_group2.append(mapp[i])"
      ],
      "execution_count": 254,
      "outputs": []
    },
    {
      "cell_type": "code",
      "metadata": {
        "colab": {
          "base_uri": "https://localhost:8080/"
        },
        "id": "lwRJYU0BU54q",
        "outputId": "800db9b3-6369-47e7-c4c3-3d6c233f46b6"
      },
      "source": [
        "pricex = []\n",
        "unit = []\n",
        "for i in price:\n",
        "  print(i.split(' '))\n",
        "  pricex.append(i.split(' ')[1])\n",
        "  unit.append(i.split(' ')[0]+\"(\"+i.split(' ')[2]+\")\")"
      ],
      "execution_count": 255,
      "outputs": [
        {
          "output_type": "stream",
          "text": [
            "['ราคาต่อชิ้น', '85.00', '฿']\n",
            "['ราคาต่อชิ้น', '90.00', '฿']\n",
            "['ราคาต่อชิ้น', '239.00', '฿']\n",
            "['ราคาต่อชิ้น', '295.00', '฿']\n",
            "['ราคาต่อชิ้น', '69.00', '฿']\n",
            "['ราคาต่อชิ้น', '319.00', '฿']\n",
            "['ราคาต่อชิ้น', '65.00', '฿']\n",
            "['ราคาต่อชิ้น', '119.00', '฿']\n",
            "['ราคาต่อชิ้น', '499.00', '฿']\n",
            "['ราคาต่อชิ้น', '209.00', '฿']\n",
            "['ราคาต่อชิ้น', '249.00', '฿']\n",
            "['ราคาต่อชิ้น', '295.00', '฿']\n",
            "['ราคาต่อชิ้น', '299.00', '฿']\n",
            "['ราคาต่อชิ้น', '140.00', '฿']\n",
            "['ราคาต่อชิ้น', '169.00', '฿']\n",
            "['ราคาต่อชิ้น', '349.00', '฿']\n",
            "['ราคาต่อชิ้น', '335.00', '฿']\n",
            "['ราคาต่อชิ้น', '335.00', '฿']\n",
            "['ราคาต่อชิ้น', '255.00', '฿']\n",
            "['ราคาต่อชิ้น', '299.00', '฿']\n",
            "['ราคาต่อชิ้น', '299.00', '฿']\n",
            "['ราคาต่อชิ้น', '43.00', '฿']\n",
            "['ราคาต่อชิ้น', '295.00', '฿']\n",
            "['ราคาต่อชิ้น', '129.00', '฿']\n",
            "['ราคาต่อชิ้น', '565.00', '฿']\n",
            "['ราคาต่อชิ้น', '445.00', '฿']\n",
            "['ราคาต่อชิ้น', '279.00', '฿']\n",
            "['ราคาต่อชิ้น', '299.00', '฿']\n",
            "['ราคาต่อชิ้น', '85.00', '฿']\n",
            "['ราคาต่อชิ้น', '275.00', '฿']\n",
            "['ราคาต่อชิ้น', '239.00', '฿']\n",
            "['ราคาต่อชิ้น', '219.00', '฿']\n",
            "['ราคาต่อชิ้น', '380.00', '฿']\n",
            "['ราคาต่อชิ้น', '159.00', '฿']\n",
            "['ราคาต่อชิ้น', '270.00', '฿']\n",
            "['ราคาต่อชิ้น', '305.00', '฿']\n",
            "['ราคาต่อชิ้น', '310.00', '฿']\n",
            "['ราคาต่อชิ้น', '340.00', '฿']\n",
            "['ราคาต่อชิ้น', '125.00', '฿']\n",
            "['ราคาต่อชิ้น', '219.00', '฿']\n",
            "['ราคาต่อชิ้น', '299.00', '฿']\n",
            "['ราคาต่อชิ้น', '185.00', '฿']\n",
            "['ราคาต่อชิ้น', '200.00', '฿']\n",
            "['ราคาต่อชิ้น', '220.00', '฿']\n",
            "['ราคาต่อชิ้น', '250.00', '฿']\n",
            "['ราคาต่อชิ้น', '285.00', '฿']\n",
            "['ราคาต่อชิ้น', '280.00', '฿']\n",
            "['ราคาต่อชิ้น', '285.00', '฿']\n",
            "['ราคาต่อชิ้น', '69.00', '฿']\n",
            "['ราคาต่อชิ้น', '360.00', '฿']\n",
            "['ราคาต่อชิ้น', '190.00', '฿']\n",
            "['ราคาต่อชิ้น', '270.00', '฿']\n",
            "['ราคาต่อชิ้น', '290.00', '฿']\n",
            "['ราคาต่อชิ้น', '260.00', '฿']\n",
            "['ราคาต่อชิ้น', '97.00', '฿']\n",
            "['ราคาต่อชิ้น', '265.00', '฿']\n",
            "['ราคาต่อชิ้น', '21.80', '฿']\n",
            "['ราคาต่อชิ้น', '149.00', '฿']\n",
            "['ราคาต่อชิ้น', '4.95', '฿']\n",
            "['ราคาต่อชิ้น', '94.00', '฿']\n",
            "['ราคาต่อชิ้น', '109.00', '฿']\n",
            "['ราคาต่อชิ้น', '4.97', '฿']\n",
            "['ราคาต่อชิ้น', '4.63', '฿']\n",
            "['ราคาต่อชิ้น', '189.00', '฿']\n",
            "['ราคาต่อชิ้น', '235.00', '฿']\n",
            "['ราคาต่อชิ้น', '13.69', '฿']\n",
            "['ราคาต่อชิ้น', '5.23', '฿']\n",
            "['ราคาต่อชิ้น', '5.98', '฿']\n",
            "['ราคาต่อชิ้น', '129.00', '฿']\n",
            "['ราคาต่อชิ้น', '10.97', '฿']\n",
            "['ราคาต่อชิ้น', '5.31', '฿']\n",
            "['ราคาต่อชิ้น', '5.13', '฿']\n",
            "['ราคาต่อชิ้น', '199.00', '฿']\n",
            "['ราคาต่อชิ้น', '5.25', '฿']\n",
            "['ราคาต่อชิ้น', '4.95', '฿']\n",
            "['ราคาต่อชิ้น', '135.00', '฿']\n",
            "['ราคาต่อชิ้น', '235.00', '฿']\n"
          ],
          "name": "stdout"
        }
      ]
    },
    {
      "cell_type": "code",
      "metadata": {
        "colab": {
          "base_uri": "https://localhost:8080/",
          "height": 419
        },
        "id": "_5PeyaO6U_Rv",
        "outputId": "92003f43-9586-42f6-a11f-01f1ca34e2b2"
      },
      "source": [
        "df2 = pd.DataFrame(list(zip(sub_product_group2, product, pricex, unit)),columns=['sub_product_group2', 'product', 'price', 'unit'])\n",
        "df2['price'] = pd.to_numeric(df2['price'],errors = 'coerce')\n",
        "df2"
      ],
      "execution_count": 256,
      "outputs": [
        {
          "output_type": "execute_result",
          "data": {
            "text/html": [
              "<div>\n",
              "<style scoped>\n",
              "    .dataframe tbody tr th:only-of-type {\n",
              "        vertical-align: middle;\n",
              "    }\n",
              "\n",
              "    .dataframe tbody tr th {\n",
              "        vertical-align: top;\n",
              "    }\n",
              "\n",
              "    .dataframe thead th {\n",
              "        text-align: right;\n",
              "    }\n",
              "</style>\n",
              "<table border=\"1\" class=\"dataframe\">\n",
              "  <thead>\n",
              "    <tr style=\"text-align: right;\">\n",
              "      <th></th>\n",
              "      <th>sub_product_group2</th>\n",
              "      <th>product</th>\n",
              "      <th>price</th>\n",
              "      <th>unit</th>\n",
              "    </tr>\n",
              "  </thead>\n",
              "  <tbody>\n",
              "    <tr>\n",
              "      <th>0</th>\n",
              "      <td>เนื้อหมูแช่แข็ง</td>\n",
              "      <td>สามชั้นหมูตัดชิ้นแช่แข็ง ชิ้นละ</td>\n",
              "      <td>85.00</td>\n",
              "      <td>ราคาต่อชิ้น(฿)</td>\n",
              "    </tr>\n",
              "    <tr>\n",
              "      <th>1</th>\n",
              "      <td>เนื้อหมูแช่แข็ง</td>\n",
              "      <td>สะโพกหมูติดหนังตัดชิ้นแช่แข็ง ชิ้นละ</td>\n",
              "      <td>90.00</td>\n",
              "      <td>ราคาต่อชิ้น(฿)</td>\n",
              "    </tr>\n",
              "    <tr>\n",
              "      <th>2</th>\n",
              "      <td>เนื้อหมูแช่แข็ง</td>\n",
              "      <td>ชุดหมูสำหรับไหว้แช่แข็ง สะโพก-สามชั้น 1.4 กก.</td>\n",
              "      <td>239.00</td>\n",
              "      <td>ราคาต่อชิ้น(฿)</td>\n",
              "    </tr>\n",
              "    <tr>\n",
              "      <th>3</th>\n",
              "      <td>เนื้อหมูแช่แข็ง</td>\n",
              "      <td>เล็ท แพล็น มีท เนื้อบดจากพืชแช่แข็ง 1000 กรัม</td>\n",
              "      <td>295.00</td>\n",
              "      <td>ราคาต่อชิ้น(฿)</td>\n",
              "    </tr>\n",
              "    <tr>\n",
              "      <th>4</th>\n",
              "      <td>เนื้อเป็ดแช่แข็ง</td>\n",
              "      <td>ซีพี เนื้ออกไก่ล้วนบดแช่แข็ง 1 กิโลกรัม</td>\n",
              "      <td>69.00</td>\n",
              "      <td>ราคาต่อชิ้น(฿)</td>\n",
              "    </tr>\n",
              "    <tr>\n",
              "      <th>...</th>\n",
              "      <td>...</td>\n",
              "      <td>...</td>\n",
              "      <td>...</td>\n",
              "      <td>...</td>\n",
              "    </tr>\n",
              "    <tr>\n",
              "      <th>72</th>\n",
              "      <td>ขนมจีบและฮะเก๋า</td>\n",
              "      <td>ซีพี นักเก็ตกุ้งและปลาแช่แข็ง 500 กรัม</td>\n",
              "      <td>199.00</td>\n",
              "      <td>ราคาต่อชิ้น(฿)</td>\n",
              "    </tr>\n",
              "    <tr>\n",
              "      <th>73</th>\n",
              "      <td>ขนมจีบและฮะเก๋า</td>\n",
              "      <td>พีทีเอ็น เนื้อกุ้งดิบชุบเกล็ดขนมปังแช่แข็ง 13 ...</td>\n",
              "      <td>5.25</td>\n",
              "      <td>ราคาต่อชิ้น(฿)</td>\n",
              "    </tr>\n",
              "    <tr>\n",
              "      <th>74</th>\n",
              "      <td>ขนมหวานแช่แข็ง</td>\n",
              "      <td>ซีพี เกี๊ยวกุ้งดิบพร้อมปรุง 11 กรัม x 20 ชิ้น</td>\n",
              "      <td>4.95</td>\n",
              "      <td>ราคาต่อชิ้น(฿)</td>\n",
              "    </tr>\n",
              "    <tr>\n",
              "      <th>75</th>\n",
              "      <td>ขนมหวานแช่แข็ง</td>\n",
              "      <td>เอโร่ เกี๊ยวกุ้งแช่แข็ง 15 กรัม x 24 ชิ้น</td>\n",
              "      <td>135.00</td>\n",
              "      <td>ราคาต่อชิ้น(฿)</td>\n",
              "    </tr>\n",
              "    <tr>\n",
              "      <th>76</th>\n",
              "      <td>ขนมหวานแช่แข็ง</td>\n",
              "      <td>พีทีเอ็น เกี๊ยวกุ้งแช่แข็ง 15 กรัม x 40 ชิ้น</td>\n",
              "      <td>235.00</td>\n",
              "      <td>ราคาต่อชิ้น(฿)</td>\n",
              "    </tr>\n",
              "  </tbody>\n",
              "</table>\n",
              "<p>77 rows × 4 columns</p>\n",
              "</div>"
            ],
            "text/plain": [
              "   sub_product_group2  ...            unit\n",
              "0     เนื้อหมูแช่แข็ง  ...  ราคาต่อชิ้น(฿)\n",
              "1     เนื้อหมูแช่แข็ง  ...  ราคาต่อชิ้น(฿)\n",
              "2     เนื้อหมูแช่แข็ง  ...  ราคาต่อชิ้น(฿)\n",
              "3     เนื้อหมูแช่แข็ง  ...  ราคาต่อชิ้น(฿)\n",
              "4    เนื้อเป็ดแช่แข็ง  ...  ราคาต่อชิ้น(฿)\n",
              "..                ...  ...             ...\n",
              "72    ขนมจีบและฮะเก๋า  ...  ราคาต่อชิ้น(฿)\n",
              "73    ขนมจีบและฮะเก๋า  ...  ราคาต่อชิ้น(฿)\n",
              "74     ขนมหวานแช่แข็ง  ...  ราคาต่อชิ้น(฿)\n",
              "75     ขนมหวานแช่แข็ง  ...  ราคาต่อชิ้น(฿)\n",
              "76     ขนมหวานแช่แข็ง  ...  ราคาต่อชิ้น(฿)\n",
              "\n",
              "[77 rows x 4 columns]"
            ]
          },
          "metadata": {
            "tags": []
          },
          "execution_count": 256
        }
      ]
    },
    {
      "cell_type": "code",
      "metadata": {
        "colab": {
          "base_uri": "https://localhost:8080/",
          "height": 589
        },
        "id": "gnXIOE2UVFIj",
        "outputId": "b4c53519-12a6-4036-9dc3-43d9407c80be"
      },
      "source": [
        "df3 = df2.merge(df, how='left',on='sub_product_group2')\n",
        "df3 = df3.drop(columns=['content']).drop_duplicates()\n",
        "df3['date'] = datetime.datetime.now().date()\n",
        "df3"
      ],
      "execution_count": 257,
      "outputs": [
        {
          "output_type": "execute_result",
          "data": {
            "text/html": [
              "<div>\n",
              "<style scoped>\n",
              "    .dataframe tbody tr th:only-of-type {\n",
              "        vertical-align: middle;\n",
              "    }\n",
              "\n",
              "    .dataframe tbody tr th {\n",
              "        vertical-align: top;\n",
              "    }\n",
              "\n",
              "    .dataframe thead th {\n",
              "        text-align: right;\n",
              "    }\n",
              "</style>\n",
              "<table border=\"1\" class=\"dataframe\">\n",
              "  <thead>\n",
              "    <tr style=\"text-align: right;\">\n",
              "      <th></th>\n",
              "      <th>sub_product_group2</th>\n",
              "      <th>product</th>\n",
              "      <th>price</th>\n",
              "      <th>unit</th>\n",
              "      <th>sub_product_group1</th>\n",
              "      <th>product_group</th>\n",
              "      <th>date</th>\n",
              "    </tr>\n",
              "  </thead>\n",
              "  <tbody>\n",
              "    <tr>\n",
              "      <th>0</th>\n",
              "      <td>เนื้อหมูแช่แข็ง</td>\n",
              "      <td>สามชั้นหมูตัดชิ้นแช่แข็ง ชิ้นละ</td>\n",
              "      <td>85.00</td>\n",
              "      <td>ราคาต่อชิ้น(฿)</td>\n",
              "      <td>เนื้อสัตว์แช่แข็ง</td>\n",
              "      <td>อาหารแช่แข็ง</td>\n",
              "      <td>2021-08-11</td>\n",
              "    </tr>\n",
              "    <tr>\n",
              "      <th>1</th>\n",
              "      <td>เนื้อหมูแช่แข็ง</td>\n",
              "      <td>สะโพกหมูติดหนังตัดชิ้นแช่แข็ง ชิ้นละ</td>\n",
              "      <td>90.00</td>\n",
              "      <td>ราคาต่อชิ้น(฿)</td>\n",
              "      <td>เนื้อสัตว์แช่แข็ง</td>\n",
              "      <td>อาหารแช่แข็ง</td>\n",
              "      <td>2021-08-11</td>\n",
              "    </tr>\n",
              "    <tr>\n",
              "      <th>2</th>\n",
              "      <td>เนื้อหมูแช่แข็ง</td>\n",
              "      <td>ชุดหมูสำหรับไหว้แช่แข็ง สะโพก-สามชั้น 1.4 กก.</td>\n",
              "      <td>239.00</td>\n",
              "      <td>ราคาต่อชิ้น(฿)</td>\n",
              "      <td>เนื้อสัตว์แช่แข็ง</td>\n",
              "      <td>อาหารแช่แข็ง</td>\n",
              "      <td>2021-08-11</td>\n",
              "    </tr>\n",
              "    <tr>\n",
              "      <th>3</th>\n",
              "      <td>เนื้อหมูแช่แข็ง</td>\n",
              "      <td>เล็ท แพล็น มีท เนื้อบดจากพืชแช่แข็ง 1000 กรัม</td>\n",
              "      <td>295.00</td>\n",
              "      <td>ราคาต่อชิ้น(฿)</td>\n",
              "      <td>เนื้อสัตว์แช่แข็ง</td>\n",
              "      <td>อาหารแช่แข็ง</td>\n",
              "      <td>2021-08-11</td>\n",
              "    </tr>\n",
              "    <tr>\n",
              "      <th>4</th>\n",
              "      <td>เนื้อเป็ดแช่แข็ง</td>\n",
              "      <td>ซีพี เนื้ออกไก่ล้วนบดแช่แข็ง 1 กิโลกรัม</td>\n",
              "      <td>69.00</td>\n",
              "      <td>ราคาต่อชิ้น(฿)</td>\n",
              "      <td>เนื้อสัตว์แช่แข็ง</td>\n",
              "      <td>อาหารแช่แข็ง</td>\n",
              "      <td>2021-08-11</td>\n",
              "    </tr>\n",
              "    <tr>\n",
              "      <th>...</th>\n",
              "      <td>...</td>\n",
              "      <td>...</td>\n",
              "      <td>...</td>\n",
              "      <td>...</td>\n",
              "      <td>...</td>\n",
              "      <td>...</td>\n",
              "      <td>...</td>\n",
              "    </tr>\n",
              "    <tr>\n",
              "      <th>72</th>\n",
              "      <td>ขนมจีบและฮะเก๋า</td>\n",
              "      <td>ซีพี นักเก็ตกุ้งและปลาแช่แข็ง 500 กรัม</td>\n",
              "      <td>199.00</td>\n",
              "      <td>ราคาต่อชิ้น(฿)</td>\n",
              "      <td>ติ่มซำ</td>\n",
              "      <td>อาหารแช่แข็ง</td>\n",
              "      <td>2021-08-11</td>\n",
              "    </tr>\n",
              "    <tr>\n",
              "      <th>73</th>\n",
              "      <td>ขนมจีบและฮะเก๋า</td>\n",
              "      <td>พีทีเอ็น เนื้อกุ้งดิบชุบเกล็ดขนมปังแช่แข็ง 13 ...</td>\n",
              "      <td>5.25</td>\n",
              "      <td>ราคาต่อชิ้น(฿)</td>\n",
              "      <td>ติ่มซำ</td>\n",
              "      <td>อาหารแช่แข็ง</td>\n",
              "      <td>2021-08-11</td>\n",
              "    </tr>\n",
              "    <tr>\n",
              "      <th>74</th>\n",
              "      <td>ขนมหวานแช่แข็ง</td>\n",
              "      <td>ซีพี เกี๊ยวกุ้งดิบพร้อมปรุง 11 กรัม x 20 ชิ้น</td>\n",
              "      <td>4.95</td>\n",
              "      <td>ราคาต่อชิ้น(฿)</td>\n",
              "      <td>อาหารแปรรูปแช่แข็ง</td>\n",
              "      <td>อาหารแช่แข็ง</td>\n",
              "      <td>2021-08-11</td>\n",
              "    </tr>\n",
              "    <tr>\n",
              "      <th>75</th>\n",
              "      <td>ขนมหวานแช่แข็ง</td>\n",
              "      <td>เอโร่ เกี๊ยวกุ้งแช่แข็ง 15 กรัม x 24 ชิ้น</td>\n",
              "      <td>135.00</td>\n",
              "      <td>ราคาต่อชิ้น(฿)</td>\n",
              "      <td>อาหารแปรรูปแช่แข็ง</td>\n",
              "      <td>อาหารแช่แข็ง</td>\n",
              "      <td>2021-08-11</td>\n",
              "    </tr>\n",
              "    <tr>\n",
              "      <th>76</th>\n",
              "      <td>ขนมหวานแช่แข็ง</td>\n",
              "      <td>พีทีเอ็น เกี๊ยวกุ้งแช่แข็ง 15 กรัม x 40 ชิ้น</td>\n",
              "      <td>235.00</td>\n",
              "      <td>ราคาต่อชิ้น(฿)</td>\n",
              "      <td>อาหารแปรรูปแช่แข็ง</td>\n",
              "      <td>อาหารแช่แข็ง</td>\n",
              "      <td>2021-08-11</td>\n",
              "    </tr>\n",
              "  </tbody>\n",
              "</table>\n",
              "<p>76 rows × 7 columns</p>\n",
              "</div>"
            ],
            "text/plain": [
              "   sub_product_group2  ...        date\n",
              "0     เนื้อหมูแช่แข็ง  ...  2021-08-11\n",
              "1     เนื้อหมูแช่แข็ง  ...  2021-08-11\n",
              "2     เนื้อหมูแช่แข็ง  ...  2021-08-11\n",
              "3     เนื้อหมูแช่แข็ง  ...  2021-08-11\n",
              "4    เนื้อเป็ดแช่แข็ง  ...  2021-08-11\n",
              "..                ...  ...         ...\n",
              "72    ขนมจีบและฮะเก๋า  ...  2021-08-11\n",
              "73    ขนมจีบและฮะเก๋า  ...  2021-08-11\n",
              "74     ขนมหวานแช่แข็ง  ...  2021-08-11\n",
              "75     ขนมหวานแช่แข็ง  ...  2021-08-11\n",
              "76     ขนมหวานแช่แข็ง  ...  2021-08-11\n",
              "\n",
              "[76 rows x 7 columns]"
            ]
          },
          "metadata": {
            "tags": []
          },
          "execution_count": 257
        }
      ]
    },
    {
      "cell_type": "code",
      "metadata": {
        "id": "lSrz0g0VVKyB"
      },
      "source": [
        "as_date = list(df3['date'])\n",
        "day_name = []\n",
        "for i in as_date:\n",
        "    day_name.append(i.strftime(\"%A\"))\n",
        "    \n",
        "df3['datename'] = day_name\n",
        "\n",
        "df3['year'] = pd.to_datetime(df3[\"date\"]).dt.year\n",
        "df3['month'] = pd.to_datetime(df3[\"date\"]).dt.month\n",
        "\n",
        "df3['date'] = pd.to_datetime(df3[\"date\"])\n",
        "\n",
        "df3 = df3.replace({\"month\": m_ord2})\n",
        "\n",
        "df3['source'] = 'makroclick'"
      ],
      "execution_count": 258,
      "outputs": []
    },
    {
      "cell_type": "code",
      "metadata": {
        "colab": {
          "base_uri": "https://localhost:8080/",
          "height": 606
        },
        "id": "ofuMaqwmVOSx",
        "outputId": "d3125bdf-c102-4779-8130-af45e5617b75"
      },
      "source": [
        "FrozenFood = df3.rename(columns={\"product_group\": \"sub source\", \"sub_product_group1\": \"sub source 1\", \"sub_product_group2\": \"sub source 2\"})\n",
        "FrozenFood"
      ],
      "execution_count": 259,
      "outputs": [
        {
          "output_type": "execute_result",
          "data": {
            "text/html": [
              "<div>\n",
              "<style scoped>\n",
              "    .dataframe tbody tr th:only-of-type {\n",
              "        vertical-align: middle;\n",
              "    }\n",
              "\n",
              "    .dataframe tbody tr th {\n",
              "        vertical-align: top;\n",
              "    }\n",
              "\n",
              "    .dataframe thead th {\n",
              "        text-align: right;\n",
              "    }\n",
              "</style>\n",
              "<table border=\"1\" class=\"dataframe\">\n",
              "  <thead>\n",
              "    <tr style=\"text-align: right;\">\n",
              "      <th></th>\n",
              "      <th>sub source 2</th>\n",
              "      <th>product</th>\n",
              "      <th>price</th>\n",
              "      <th>unit</th>\n",
              "      <th>sub source 1</th>\n",
              "      <th>sub source</th>\n",
              "      <th>date</th>\n",
              "      <th>datename</th>\n",
              "      <th>year</th>\n",
              "      <th>month</th>\n",
              "      <th>source</th>\n",
              "    </tr>\n",
              "  </thead>\n",
              "  <tbody>\n",
              "    <tr>\n",
              "      <th>0</th>\n",
              "      <td>เนื้อหมูแช่แข็ง</td>\n",
              "      <td>สามชั้นหมูตัดชิ้นแช่แข็ง ชิ้นละ</td>\n",
              "      <td>85.00</td>\n",
              "      <td>ราคาต่อชิ้น(฿)</td>\n",
              "      <td>เนื้อสัตว์แช่แข็ง</td>\n",
              "      <td>อาหารแช่แข็ง</td>\n",
              "      <td>2021-08-11</td>\n",
              "      <td>Wednesday</td>\n",
              "      <td>2021</td>\n",
              "      <td>August</td>\n",
              "      <td>makroclick</td>\n",
              "    </tr>\n",
              "    <tr>\n",
              "      <th>1</th>\n",
              "      <td>เนื้อหมูแช่แข็ง</td>\n",
              "      <td>สะโพกหมูติดหนังตัดชิ้นแช่แข็ง ชิ้นละ</td>\n",
              "      <td>90.00</td>\n",
              "      <td>ราคาต่อชิ้น(฿)</td>\n",
              "      <td>เนื้อสัตว์แช่แข็ง</td>\n",
              "      <td>อาหารแช่แข็ง</td>\n",
              "      <td>2021-08-11</td>\n",
              "      <td>Wednesday</td>\n",
              "      <td>2021</td>\n",
              "      <td>August</td>\n",
              "      <td>makroclick</td>\n",
              "    </tr>\n",
              "    <tr>\n",
              "      <th>2</th>\n",
              "      <td>เนื้อหมูแช่แข็ง</td>\n",
              "      <td>ชุดหมูสำหรับไหว้แช่แข็ง สะโพก-สามชั้น 1.4 กก.</td>\n",
              "      <td>239.00</td>\n",
              "      <td>ราคาต่อชิ้น(฿)</td>\n",
              "      <td>เนื้อสัตว์แช่แข็ง</td>\n",
              "      <td>อาหารแช่แข็ง</td>\n",
              "      <td>2021-08-11</td>\n",
              "      <td>Wednesday</td>\n",
              "      <td>2021</td>\n",
              "      <td>August</td>\n",
              "      <td>makroclick</td>\n",
              "    </tr>\n",
              "    <tr>\n",
              "      <th>3</th>\n",
              "      <td>เนื้อหมูแช่แข็ง</td>\n",
              "      <td>เล็ท แพล็น มีท เนื้อบดจากพืชแช่แข็ง 1000 กรัม</td>\n",
              "      <td>295.00</td>\n",
              "      <td>ราคาต่อชิ้น(฿)</td>\n",
              "      <td>เนื้อสัตว์แช่แข็ง</td>\n",
              "      <td>อาหารแช่แข็ง</td>\n",
              "      <td>2021-08-11</td>\n",
              "      <td>Wednesday</td>\n",
              "      <td>2021</td>\n",
              "      <td>August</td>\n",
              "      <td>makroclick</td>\n",
              "    </tr>\n",
              "    <tr>\n",
              "      <th>4</th>\n",
              "      <td>เนื้อเป็ดแช่แข็ง</td>\n",
              "      <td>ซีพี เนื้ออกไก่ล้วนบดแช่แข็ง 1 กิโลกรัม</td>\n",
              "      <td>69.00</td>\n",
              "      <td>ราคาต่อชิ้น(฿)</td>\n",
              "      <td>เนื้อสัตว์แช่แข็ง</td>\n",
              "      <td>อาหารแช่แข็ง</td>\n",
              "      <td>2021-08-11</td>\n",
              "      <td>Wednesday</td>\n",
              "      <td>2021</td>\n",
              "      <td>August</td>\n",
              "      <td>makroclick</td>\n",
              "    </tr>\n",
              "    <tr>\n",
              "      <th>...</th>\n",
              "      <td>...</td>\n",
              "      <td>...</td>\n",
              "      <td>...</td>\n",
              "      <td>...</td>\n",
              "      <td>...</td>\n",
              "      <td>...</td>\n",
              "      <td>...</td>\n",
              "      <td>...</td>\n",
              "      <td>...</td>\n",
              "      <td>...</td>\n",
              "      <td>...</td>\n",
              "    </tr>\n",
              "    <tr>\n",
              "      <th>72</th>\n",
              "      <td>ขนมจีบและฮะเก๋า</td>\n",
              "      <td>ซีพี นักเก็ตกุ้งและปลาแช่แข็ง 500 กรัม</td>\n",
              "      <td>199.00</td>\n",
              "      <td>ราคาต่อชิ้น(฿)</td>\n",
              "      <td>ติ่มซำ</td>\n",
              "      <td>อาหารแช่แข็ง</td>\n",
              "      <td>2021-08-11</td>\n",
              "      <td>Wednesday</td>\n",
              "      <td>2021</td>\n",
              "      <td>August</td>\n",
              "      <td>makroclick</td>\n",
              "    </tr>\n",
              "    <tr>\n",
              "      <th>73</th>\n",
              "      <td>ขนมจีบและฮะเก๋า</td>\n",
              "      <td>พีทีเอ็น เนื้อกุ้งดิบชุบเกล็ดขนมปังแช่แข็ง 13 ...</td>\n",
              "      <td>5.25</td>\n",
              "      <td>ราคาต่อชิ้น(฿)</td>\n",
              "      <td>ติ่มซำ</td>\n",
              "      <td>อาหารแช่แข็ง</td>\n",
              "      <td>2021-08-11</td>\n",
              "      <td>Wednesday</td>\n",
              "      <td>2021</td>\n",
              "      <td>August</td>\n",
              "      <td>makroclick</td>\n",
              "    </tr>\n",
              "    <tr>\n",
              "      <th>74</th>\n",
              "      <td>ขนมหวานแช่แข็ง</td>\n",
              "      <td>ซีพี เกี๊ยวกุ้งดิบพร้อมปรุง 11 กรัม x 20 ชิ้น</td>\n",
              "      <td>4.95</td>\n",
              "      <td>ราคาต่อชิ้น(฿)</td>\n",
              "      <td>อาหารแปรรูปแช่แข็ง</td>\n",
              "      <td>อาหารแช่แข็ง</td>\n",
              "      <td>2021-08-11</td>\n",
              "      <td>Wednesday</td>\n",
              "      <td>2021</td>\n",
              "      <td>August</td>\n",
              "      <td>makroclick</td>\n",
              "    </tr>\n",
              "    <tr>\n",
              "      <th>75</th>\n",
              "      <td>ขนมหวานแช่แข็ง</td>\n",
              "      <td>เอโร่ เกี๊ยวกุ้งแช่แข็ง 15 กรัม x 24 ชิ้น</td>\n",
              "      <td>135.00</td>\n",
              "      <td>ราคาต่อชิ้น(฿)</td>\n",
              "      <td>อาหารแปรรูปแช่แข็ง</td>\n",
              "      <td>อาหารแช่แข็ง</td>\n",
              "      <td>2021-08-11</td>\n",
              "      <td>Wednesday</td>\n",
              "      <td>2021</td>\n",
              "      <td>August</td>\n",
              "      <td>makroclick</td>\n",
              "    </tr>\n",
              "    <tr>\n",
              "      <th>76</th>\n",
              "      <td>ขนมหวานแช่แข็ง</td>\n",
              "      <td>พีทีเอ็น เกี๊ยวกุ้งแช่แข็ง 15 กรัม x 40 ชิ้น</td>\n",
              "      <td>235.00</td>\n",
              "      <td>ราคาต่อชิ้น(฿)</td>\n",
              "      <td>อาหารแปรรูปแช่แข็ง</td>\n",
              "      <td>อาหารแช่แข็ง</td>\n",
              "      <td>2021-08-11</td>\n",
              "      <td>Wednesday</td>\n",
              "      <td>2021</td>\n",
              "      <td>August</td>\n",
              "      <td>makroclick</td>\n",
              "    </tr>\n",
              "  </tbody>\n",
              "</table>\n",
              "<p>76 rows × 11 columns</p>\n",
              "</div>"
            ],
            "text/plain": [
              "        sub source 2  ...      source\n",
              "0    เนื้อหมูแช่แข็ง  ...  makroclick\n",
              "1    เนื้อหมูแช่แข็ง  ...  makroclick\n",
              "2    เนื้อหมูแช่แข็ง  ...  makroclick\n",
              "3    เนื้อหมูแช่แข็ง  ...  makroclick\n",
              "4   เนื้อเป็ดแช่แข็ง  ...  makroclick\n",
              "..               ...  ...         ...\n",
              "72   ขนมจีบและฮะเก๋า  ...  makroclick\n",
              "73   ขนมจีบและฮะเก๋า  ...  makroclick\n",
              "74    ขนมหวานแช่แข็ง  ...  makroclick\n",
              "75    ขนมหวานแช่แข็ง  ...  makroclick\n",
              "76    ขนมหวานแช่แข็ง  ...  makroclick\n",
              "\n",
              "[76 rows x 11 columns]"
            ]
          },
          "metadata": {
            "tags": []
          },
          "execution_count": 259
        }
      ]
    },
    {
      "cell_type": "markdown",
      "metadata": {
        "id": "fs5wyjKeVTzt"
      },
      "source": [
        "# Makroclick ProcessFood"
      ]
    },
    {
      "cell_type": "code",
      "metadata": {
        "colab": {
          "base_uri": "https://localhost:8080/"
        },
        "id": "XutYnxL4VfEY",
        "outputId": "6d0f5cd9-69a4-4e18-ae8b-a2b58a98ebcf"
      },
      "source": [
        "url = \"https://www.makroclick.com/th/category/chilled-processed-food\"\n",
        "\n",
        "driver.get(url)\n",
        "time.sleep(10)\n",
        "\n",
        "element = driver.find_element_by_xpath('//*[@id=\"subcategoryCarouselSM\"]/div[1]/div')\n",
        "\n",
        "link = element.get_attribute('innerHTML')\n",
        "\n",
        "link_list = []\n",
        "for i in link.split('category')[1:]:\n",
        "  link_list.append(\"https://www.makroclick.com/th/category\"+i.split('\"')[0])\n",
        "\n",
        "link_list"
      ],
      "execution_count": 260,
      "outputs": [
        {
          "output_type": "execute_result",
          "data": {
            "text/plain": [
              "['https://www.makroclick.com/th/category/chilled-processed-food/tofu1',\n",
              " 'https://www.makroclick.com/th/category',\n",
              " 'https://www.makroclick.com/th/categoryCarousel__Text1line-sc-1iqrhgx-0 gOllCP',\n",
              " 'https://www.makroclick.com/th/category/chilled-processed-food/korean-japanese-chilled-ingredients',\n",
              " 'https://www.makroclick.com/th/categoryCarousel__Text1line-sc-1iqrhgx-0 gOllCP',\n",
              " 'https://www.makroclick.com/th/category/chilled-processed-food/chilled-sauce-and-dressing',\n",
              " 'https://www.makroclick.com/th/categoryCarousel__Text1line-sc-1iqrhgx-0 gOllCP',\n",
              " 'https://www.makroclick.com/th/category/chilled-processed-food/chilled-desserts',\n",
              " 'https://www.makroclick.com/th/category',\n",
              " 'https://www.makroclick.com/th/categoryCarousel__Text1line-sc-1iqrhgx-0 gOllCP']"
            ]
          },
          "metadata": {
            "tags": []
          },
          "execution_count": 260
        }
      ]
    },
    {
      "cell_type": "code",
      "metadata": {
        "colab": {
          "base_uri": "https://localhost:8080/"
        },
        "id": "n5PNf6cLVts3",
        "outputId": "5445b903-fe2a-49ae-d68e-bc7e886dde9f"
      },
      "source": [
        "link_list_ = []\n",
        "for i in link_list:\n",
        "  if 'https://www.makroclick.com/th/category/chilled-processed-food/' in i:\n",
        "    link_list_.append(i)\n",
        "link_list_"
      ],
      "execution_count": 262,
      "outputs": [
        {
          "output_type": "execute_result",
          "data": {
            "text/plain": [
              "['https://www.makroclick.com/th/category/chilled-processed-food/tofu1',\n",
              " 'https://www.makroclick.com/th/category/chilled-processed-food/korean-japanese-chilled-ingredients',\n",
              " 'https://www.makroclick.com/th/category/chilled-processed-food/chilled-sauce-and-dressing',\n",
              " 'https://www.makroclick.com/th/category/chilled-processed-food/chilled-desserts']"
            ]
          },
          "metadata": {
            "tags": []
          },
          "execution_count": 262
        }
      ]
    },
    {
      "cell_type": "code",
      "metadata": {
        "colab": {
          "base_uri": "https://localhost:8080/"
        },
        "id": "0mhnNK6FV1Rr",
        "outputId": "542b18db-db87-458f-dc19-2893200e5f99"
      },
      "source": [
        "link_listx = []\n",
        "for i in link_list_:\n",
        "  driver.get(i)\n",
        "  time.sleep(10)\n",
        "\n",
        "  try:\n",
        "    element = driver.find_element_by_xpath('//*[@id=\"subcategoryCarouselSM\"]/div[1]')\n",
        "    link = element.get_attribute('innerHTML')\n",
        "    link = link.split('><')\n",
        "\n",
        "    for j in link:\n",
        "      if 'href' in j:\n",
        "        link_listx.append(\"https://www.makroclick.com/th/category\"+j.split('category')[1].split('\"')[0].replace(' ','')+\"?page=\")\n",
        "  except:\n",
        "    pass\n",
        "\n",
        "link_listx"
      ],
      "execution_count": 263,
      "outputs": [
        {
          "output_type": "execute_result",
          "data": {
            "text/plain": [
              "['https://www.makroclick.com/th/category/chilled-processed-food/tofu1/egg-tofu?page=',\n",
              " 'https://www.makroclick.com/th/category/chilled-processed-food/tofu1/soybean-tofu?page=',\n",
              " 'https://www.makroclick.com/th/category/chilled-processed-food/korean-japanese-chilled-ingredients/kimji?page=',\n",
              " 'https://www.makroclick.com/th/category/chilled-processed-food/korean-japanese-chilled-ingredients/tokpokki?page=',\n",
              " 'https://www.makroclick.com/th/category/chilled-processed-food/korean-japanese-chilled-ingredients/wasabi?page=',\n",
              " 'https://www.makroclick.com/th/category/chilled-processed-food/korean-japanese-chilled-ingredients/japanese-toppings?page=',\n",
              " 'https://www.makroclick.com/th/category/chilled-processed-food/chilled-sauce-and-dressing/chilled-sauce?page=',\n",
              " 'https://www.makroclick.com/th/category/chilled-processed-food/chilled-sauce-and-dressing/chilled-dressing?page=',\n",
              " 'https://www.makroclick.com/th/category/chilled-processed-food/chilled-desserts/chilled-desserts3?page=']"
            ]
          },
          "metadata": {
            "tags": []
          },
          "execution_count": 263
        }
      ]
    },
    {
      "cell_type": "code",
      "metadata": {
        "colab": {
          "base_uri": "https://localhost:8080/"
        },
        "id": "A8ChA8EuWJEl",
        "outputId": "6313500f-d582-4ded-ed8c-cd96c9b6e6ad"
      },
      "source": [
        "title = []\n",
        "sub_title = []\n",
        "\n",
        "for i in link_listx:\n",
        "  driver.get(i+'1')\n",
        "  time.sleep(10)\n",
        "\n",
        "  print(i+'1')\n",
        "  try:\n",
        "    element1 = driver.find_element_by_xpath('//*[@id=\"categoryContainer\"]/div[2]/div[2]/div[1]/div/div[1]')\n",
        "    title.append(element1.get_attribute('innerText'))\n",
        "\n",
        "    element2 = driver.find_element_by_xpath('//*[@id=\"categoryContainer\"]/div[2]/div[2]/div[1]/div/div[2]/div/h1')\n",
        "    sub_title.append(element2.get_attribute('innerText'))\n",
        "\n",
        "    #element3 = driver.find_element_by_xpath('//*[@id=\"scrollPaginatorTop\"]/div[2]')\n",
        "    #content.append(element3.get_attribute('innerText'))\n",
        "  except:\n",
        "    pass  \n",
        "    #content.append('')"
      ],
      "execution_count": 264,
      "outputs": [
        {
          "output_type": "stream",
          "text": [
            "https://www.makroclick.com/th/category/chilled-processed-food/tofu1/egg-tofu?page=1\n",
            "https://www.makroclick.com/th/category/chilled-processed-food/tofu1/soybean-tofu?page=1\n",
            "https://www.makroclick.com/th/category/chilled-processed-food/korean-japanese-chilled-ingredients/kimji?page=1\n",
            "https://www.makroclick.com/th/category/chilled-processed-food/korean-japanese-chilled-ingredients/tokpokki?page=1\n",
            "https://www.makroclick.com/th/category/chilled-processed-food/korean-japanese-chilled-ingredients/wasabi?page=1\n",
            "https://www.makroclick.com/th/category/chilled-processed-food/korean-japanese-chilled-ingredients/japanese-toppings?page=1\n",
            "https://www.makroclick.com/th/category/chilled-processed-food/chilled-sauce-and-dressing/chilled-sauce?page=1\n",
            "https://www.makroclick.com/th/category/chilled-processed-food/chilled-sauce-and-dressing/chilled-dressing?page=1\n",
            "https://www.makroclick.com/th/category/chilled-processed-food/chilled-desserts/chilled-desserts3?page=1\n"
          ],
          "name": "stdout"
        }
      ]
    },
    {
      "cell_type": "code",
      "metadata": {
        "colab": {
          "base_uri": "https://localhost:8080/"
        },
        "id": "1mLfXn95Wxw0",
        "outputId": "47ddeb9b-ebaf-44d4-b54b-a579eca0ea72"
      },
      "source": [
        "content = []\n",
        "\n",
        "x = 1\n",
        "\n",
        "for i in link_listx:\n",
        "  contentx = '\\n\\n'\n",
        "  while True:\n",
        "    try:\n",
        "      print(i+str(x)+'&sorting=SORTING_LAST_UPDATE&all=true')\n",
        "      driver.get(i+str(x)+'&sorting=SORTING_LAST_UPDATE&all=true')\n",
        "      time.sleep(10)\n",
        "\n",
        "  #try:\n",
        "\n",
        "      element3 = driver.find_element_by_xpath('//*[@id=\"scrollPaginatorTop\"]/div[2]')\n",
        "      print(element3.get_attribute('innerText'))\n",
        "      contentx = contentx+element3.get_attribute('innerText')+'\\n\\n'\n",
        "      x = x+1\n",
        "    except:\n",
        "      x = 1\n",
        "      break\n",
        "    \n",
        "  #except:\n",
        "    #content.append('')\n",
        "  content.append(contentx)"
      ],
      "execution_count": 265,
      "outputs": [
        {
          "output_type": "stream",
          "text": [
            "https://www.makroclick.com/th/category/chilled-processed-food/tofu1/egg-tofu?page=1&sorting=SORTING_LAST_UPDATE&all=true\n",
            "https://www.makroclick.com/th/category/chilled-processed-food/tofu1/soybean-tofu?page=1&sorting=SORTING_LAST_UPDATE&all=true\n",
            "ฟองฟอง ฟองเต้าหู้พร้อมปรุงแช่แข็ง 500 กรัม\n",
            "รหัสสินค้า 894262\n",
            "125.00 ฿\n",
            "ราคาต่อชิ้น  125.00 ฿\n",
            "https://www.makroclick.com/th/category/chilled-processed-food/tofu1/soybean-tofu?page=2&sorting=SORTING_LAST_UPDATE&all=true\n",
            "https://www.makroclick.com/th/category/chilled-processed-food/korean-japanese-chilled-ingredients/kimji?page=1&sorting=SORTING_LAST_UPDATE&all=true\n",
            "https://www.makroclick.com/th/category/chilled-processed-food/korean-japanese-chilled-ingredients/tokpokki?page=1&sorting=SORTING_LAST_UPDATE&all=true\n",
            "https://www.makroclick.com/th/category/chilled-processed-food/korean-japanese-chilled-ingredients/wasabi?page=1&sorting=SORTING_LAST_UPDATE&all=true\n",
            "https://www.makroclick.com/th/category/chilled-processed-food/korean-japanese-chilled-ingredients/japanese-toppings?page=1&sorting=SORTING_LAST_UPDATE&all=true\n",
            "https://www.makroclick.com/th/category/chilled-processed-food/chilled-sauce-and-dressing/chilled-sauce?page=1&sorting=SORTING_LAST_UPDATE&all=true\n",
            "บีเคพี ซอสบาร์บีคิว 1000 กรัม\n",
            "รหัสสินค้า 825263\n",
            "119.00 ฿\n",
            "ราคาต่อชิ้น  119.00 ฿\n",
            "https://www.makroclick.com/th/category/chilled-processed-food/chilled-sauce-and-dressing/chilled-sauce?page=2&sorting=SORTING_LAST_UPDATE&all=true\n",
            "https://www.makroclick.com/th/category/chilled-processed-food/chilled-sauce-and-dressing/chilled-dressing?page=1&sorting=SORTING_LAST_UPDATE&all=true\n",
            "เคแอนด์เอ็น น้ำสลัดครีมไขมันต่ำ 1 กิโลกรัม\n",
            "รหัสสินค้า 133759\n",
            "\n",
            "83.00 ฿\n",
            "\n",
            "-4%\n",
            "\n",
            "79.00 ฿\n",
            "ราคาต่อชิ้น  79.00 ฿\n",
            "\n",
            "เคแอนด์เอ็น น้ำสลัดครีม 1 กิโลกรัม\n",
            "รหัสสินค้า 133758\n",
            "85.00 ฿\n",
            "ราคาต่อชิ้น  85.00 ฿\n",
            "https://www.makroclick.com/th/category/chilled-processed-food/chilled-sauce-and-dressing/chilled-dressing?page=2&sorting=SORTING_LAST_UPDATE&all=true\n",
            "https://www.makroclick.com/th/category/chilled-processed-food/chilled-desserts/chilled-desserts3?page=1&sorting=SORTING_LAST_UPDATE&all=true\n",
            "ซันไชน์เดย์ ไข่มุกบุก บราวชูการ์ 1 กก.\n",
            "รหัสสินค้า 894523\n",
            "\n",
            "165.00 ฿\n",
            "\n",
            "-3%\n",
            "\n",
            "160.00 ฿\n",
            "ราคาต่อชิ้น  160.00 ฿\n",
            "\n",
            "ซันไชน์เดย์ บุกไข่มุกไต้หวัน 1 กก.\n",
            "รหัสสินค้า 894522\n",
            "\n",
            "165.00 ฿\n",
            "\n",
            "-3%\n",
            "\n",
            "160.00 ฿\n",
            "ราคาต่อชิ้น  160.00 ฿\n",
            "https://www.makroclick.com/th/category/chilled-processed-food/chilled-desserts/chilled-desserts3?page=2&sorting=SORTING_LAST_UPDATE&all=true\n"
          ],
          "name": "stdout"
        }
      ]
    },
    {
      "cell_type": "code",
      "metadata": {
        "id": "37V42154Xilg"
      },
      "source": [
        "contentx = []\n",
        "for i in content:\n",
        "  contentx.append(i[2:-2])"
      ],
      "execution_count": 266,
      "outputs": []
    },
    {
      "cell_type": "code",
      "metadata": {
        "id": "udjl2a37XnG7"
      },
      "source": [
        "product_group = []\n",
        "sub_product_group1 = []\n",
        "for i in title:\n",
        "  product_group.append(i.split('\\n»\\n')[1])\n",
        "  try:\n",
        "    sub_product_group1.append(i.split('\\n»\\n')[2])\n",
        "  except:\n",
        "    sub_product_group1.append('')"
      ],
      "execution_count": 267,
      "outputs": []
    },
    {
      "cell_type": "code",
      "metadata": {
        "id": "TUqA12STXsUG"
      },
      "source": [
        "sub_product_group2 = []\n",
        "for i in sub_title:\n",
        "  sub_product_group2.append(i.split(' ')[1])"
      ],
      "execution_count": 268,
      "outputs": []
    },
    {
      "cell_type": "code",
      "metadata": {
        "colab": {
          "base_uri": "https://localhost:8080/",
          "height": 173
        },
        "id": "plSV2il4XwTo",
        "outputId": "ddfc5518-6862-4575-86fe-345e856c781d"
      },
      "source": [
        "df = pd.DataFrame(list(zip(sub_product_group2, sub_product_group1, product_group, contentx)),columns=['sub_product_group2', 'sub_product_group1', 'product_group', 'content'])\n",
        "df = df[df['content'] != '']\n",
        "df"
      ],
      "execution_count": 269,
      "outputs": [
        {
          "output_type": "execute_result",
          "data": {
            "text/html": [
              "<div>\n",
              "<style scoped>\n",
              "    .dataframe tbody tr th:only-of-type {\n",
              "        vertical-align: middle;\n",
              "    }\n",
              "\n",
              "    .dataframe tbody tr th {\n",
              "        vertical-align: top;\n",
              "    }\n",
              "\n",
              "    .dataframe thead th {\n",
              "        text-align: right;\n",
              "    }\n",
              "</style>\n",
              "<table border=\"1\" class=\"dataframe\">\n",
              "  <thead>\n",
              "    <tr style=\"text-align: right;\">\n",
              "      <th></th>\n",
              "      <th>sub_product_group2</th>\n",
              "      <th>sub_product_group1</th>\n",
              "      <th>product_group</th>\n",
              "      <th>content</th>\n",
              "    </tr>\n",
              "  </thead>\n",
              "  <tbody>\n",
              "    <tr>\n",
              "      <th>1</th>\n",
              "      <td>เต้าหู้ถั่วเหลือง</td>\n",
              "      <td>เต้าหู้</td>\n",
              "      <td>ผลิตภัณฑ์แปรรูปแช่เย็น</td>\n",
              "      <td>ฟองฟอง ฟองเต้าหู้พร้อมปรุงแช่แข็ง 500 กรัม\\nรห...</td>\n",
              "    </tr>\n",
              "    <tr>\n",
              "      <th>6</th>\n",
              "      <td>ซอสแช่เย็น</td>\n",
              "      <td>ซอสและน้ำสลัดแช่เย็น</td>\n",
              "      <td>ผลิตภัณฑ์แปรรูปแช่เย็น</td>\n",
              "      <td>บีเคพี ซอสบาร์บีคิว 1000 กรัม\\nรหัสสินค้า 8252...</td>\n",
              "    </tr>\n",
              "    <tr>\n",
              "      <th>7</th>\n",
              "      <td>น้ำสลัดแช่เย็น</td>\n",
              "      <td>ซอสและน้ำสลัดแช่เย็น</td>\n",
              "      <td>ผลิตภัณฑ์แปรรูปแช่เย็น</td>\n",
              "      <td>เคแอนด์เอ็น น้ำสลัดครีมไขมันต่ำ 1 กิโลกรัม\\nรห...</td>\n",
              "    </tr>\n",
              "    <tr>\n",
              "      <th>8</th>\n",
              "      <td>ขนมหวานแช่เย็น</td>\n",
              "      <td>ขนมหวานแช่เย็น</td>\n",
              "      <td>ผลิตภัณฑ์แปรรูปแช่เย็น</td>\n",
              "      <td>ซันไชน์เดย์ ไข่มุกบุก บราวชูการ์ 1 กก.\\nรหัสสิ...</td>\n",
              "    </tr>\n",
              "  </tbody>\n",
              "</table>\n",
              "</div>"
            ],
            "text/plain": [
              "  sub_product_group2  ...                                            content\n",
              "1  เต้าหู้ถั่วเหลือง  ...  ฟองฟอง ฟองเต้าหู้พร้อมปรุงแช่แข็ง 500 กรัม\\nรห...\n",
              "6         ซอสแช่เย็น  ...  บีเคพี ซอสบาร์บีคิว 1000 กรัม\\nรหัสสินค้า 8252...\n",
              "7     น้ำสลัดแช่เย็น  ...  เคแอนด์เอ็น น้ำสลัดครีมไขมันต่ำ 1 กิโลกรัม\\nรห...\n",
              "8     ขนมหวานแช่เย็น  ...  ซันไชน์เดย์ ไข่มุกบุก บราวชูการ์ 1 กก.\\nรหัสสิ...\n",
              "\n",
              "[4 rows x 4 columns]"
            ]
          },
          "metadata": {
            "tags": []
          },
          "execution_count": 269
        }
      ]
    },
    {
      "cell_type": "code",
      "metadata": {
        "colab": {
          "base_uri": "https://localhost:8080/",
          "height": 173
        },
        "id": "UAtmP7ujX2US",
        "outputId": "dc4bbe5f-0983-4def-f44e-88f1a3fa98e4"
      },
      "source": [
        "df.loc[df['sub_product_group1']=='','sub_product_group1']=df['sub_product_group2']\n",
        "df"
      ],
      "execution_count": 270,
      "outputs": [
        {
          "output_type": "execute_result",
          "data": {
            "text/html": [
              "<div>\n",
              "<style scoped>\n",
              "    .dataframe tbody tr th:only-of-type {\n",
              "        vertical-align: middle;\n",
              "    }\n",
              "\n",
              "    .dataframe tbody tr th {\n",
              "        vertical-align: top;\n",
              "    }\n",
              "\n",
              "    .dataframe thead th {\n",
              "        text-align: right;\n",
              "    }\n",
              "</style>\n",
              "<table border=\"1\" class=\"dataframe\">\n",
              "  <thead>\n",
              "    <tr style=\"text-align: right;\">\n",
              "      <th></th>\n",
              "      <th>sub_product_group2</th>\n",
              "      <th>sub_product_group1</th>\n",
              "      <th>product_group</th>\n",
              "      <th>content</th>\n",
              "    </tr>\n",
              "  </thead>\n",
              "  <tbody>\n",
              "    <tr>\n",
              "      <th>1</th>\n",
              "      <td>เต้าหู้ถั่วเหลือง</td>\n",
              "      <td>เต้าหู้</td>\n",
              "      <td>ผลิตภัณฑ์แปรรูปแช่เย็น</td>\n",
              "      <td>ฟองฟอง ฟองเต้าหู้พร้อมปรุงแช่แข็ง 500 กรัม\\nรห...</td>\n",
              "    </tr>\n",
              "    <tr>\n",
              "      <th>6</th>\n",
              "      <td>ซอสแช่เย็น</td>\n",
              "      <td>ซอสและน้ำสลัดแช่เย็น</td>\n",
              "      <td>ผลิตภัณฑ์แปรรูปแช่เย็น</td>\n",
              "      <td>บีเคพี ซอสบาร์บีคิว 1000 กรัม\\nรหัสสินค้า 8252...</td>\n",
              "    </tr>\n",
              "    <tr>\n",
              "      <th>7</th>\n",
              "      <td>น้ำสลัดแช่เย็น</td>\n",
              "      <td>ซอสและน้ำสลัดแช่เย็น</td>\n",
              "      <td>ผลิตภัณฑ์แปรรูปแช่เย็น</td>\n",
              "      <td>เคแอนด์เอ็น น้ำสลัดครีมไขมันต่ำ 1 กิโลกรัม\\nรห...</td>\n",
              "    </tr>\n",
              "    <tr>\n",
              "      <th>8</th>\n",
              "      <td>ขนมหวานแช่เย็น</td>\n",
              "      <td>ขนมหวานแช่เย็น</td>\n",
              "      <td>ผลิตภัณฑ์แปรรูปแช่เย็น</td>\n",
              "      <td>ซันไชน์เดย์ ไข่มุกบุก บราวชูการ์ 1 กก.\\nรหัสสิ...</td>\n",
              "    </tr>\n",
              "  </tbody>\n",
              "</table>\n",
              "</div>"
            ],
            "text/plain": [
              "  sub_product_group2  ...                                            content\n",
              "1  เต้าหู้ถั่วเหลือง  ...  ฟองฟอง ฟองเต้าหู้พร้อมปรุงแช่แข็ง 500 กรัม\\nรห...\n",
              "6         ซอสแช่เย็น  ...  บีเคพี ซอสบาร์บีคิว 1000 กรัม\\nรหัสสินค้า 8252...\n",
              "7     น้ำสลัดแช่เย็น  ...  เคแอนด์เอ็น น้ำสลัดครีมไขมันต่ำ 1 กิโลกรัม\\nรห...\n",
              "8     ขนมหวานแช่เย็น  ...  ซันไชน์เดย์ ไข่มุกบุก บราวชูการ์ 1 กก.\\nรหัสสิ...\n",
              "\n",
              "[4 rows x 4 columns]"
            ]
          },
          "metadata": {
            "tags": []
          },
          "execution_count": 270
        }
      ]
    },
    {
      "cell_type": "code",
      "metadata": {
        "colab": {
          "base_uri": "https://localhost:8080/"
        },
        "id": "PAa3_JRgX7NH",
        "outputId": "3f23ddd5-632e-46fb-ebf0-24469128479e"
      },
      "source": [
        "content = list(df['content'])\n",
        "\n",
        "contentx = []\n",
        "for i in content:\n",
        "  contentx.append(i.replace('%\\n\\n','%\\n').replace('\\n\\n-','\\n-'))\n",
        "\n",
        "sub_product_group2 = list(df['sub_product_group2'])\n",
        "map = dict(zip(sub_product_group2,contentx))\n",
        "map"
      ],
      "execution_count": 271,
      "outputs": [
        {
          "output_type": "execute_result",
          "data": {
            "text/plain": [
              "{'ขนมหวานแช่เย็น': 'ซันไชน์เดย์ ไข่มุกบุก บราวชูการ์ 1 กก.\\nรหัสสินค้า 894523\\n\\n165.00 ฿\\n-3%\\n160.00 ฿\\nราคาต่อชิ้น\\xa0 160.00 ฿\\n\\nซันไชน์เดย์ บุกไข่มุกไต้หวัน 1 กก.\\nรหัสสินค้า 894522\\n\\n165.00 ฿\\n-3%\\n160.00 ฿\\nราคาต่อชิ้น\\xa0 160.00 ฿',\n",
              " 'ซอสแช่เย็น': 'บีเคพี ซอสบาร์บีคิว 1000 กรัม\\nรหัสสินค้า 825263\\n119.00 ฿\\nราคาต่อชิ้น\\xa0 119.00 ฿',\n",
              " 'น้ำสลัดแช่เย็น': 'เคแอนด์เอ็น น้ำสลัดครีมไขมันต่ำ 1 กิโลกรัม\\nรหัสสินค้า 133759\\n\\n83.00 ฿\\n-4%\\n79.00 ฿\\nราคาต่อชิ้น\\xa0 79.00 ฿\\n\\nเคแอนด์เอ็น น้ำสลัดครีม 1 กิโลกรัม\\nรหัสสินค้า 133758\\n85.00 ฿\\nราคาต่อชิ้น\\xa0 85.00 ฿',\n",
              " 'เต้าหู้ถั่วเหลือง': 'ฟองฟอง ฟองเต้าหู้พร้อมปรุงแช่แข็ง 500 กรัม\\nรหัสสินค้า 894262\\n125.00 ฿\\nราคาต่อชิ้น\\xa0 125.00 ฿'}"
            ]
          },
          "metadata": {
            "tags": []
          },
          "execution_count": 271
        }
      ]
    },
    {
      "cell_type": "code",
      "metadata": {
        "colab": {
          "base_uri": "https://localhost:8080/"
        },
        "id": "I_qSIoaMX_vM",
        "outputId": "1b6afe36-410d-4f06-8269-55cac250ed08"
      },
      "source": [
        "mapp = dict()\n",
        "for i in map:\n",
        "  for j in range(len(map[i].split('\\n\\n'))):\n",
        "    #mapp[j] = i\n",
        "\n",
        "    if map[i].split('\\n\\n')[j][0].isdigit():\n",
        "      #print((i,map[i].split('\\n\\n')[j]))\n",
        "      pass\n",
        "    elif map[i].split('\\n\\n')[j][-1] != '฿':\n",
        "      #print(i,map[i].split('\\n\\n')[j]+map[i].split('\\n\\n')[j+1])\n",
        "      mapp[map[i].split('\\n\\n')[j]+map[i].split('\\n\\n')[j+1]] = i\n",
        "    else:\n",
        "      mapp[map[i].split('\\n\\n')[j]] = i\n",
        "mapp"
      ],
      "execution_count": 272,
      "outputs": [
        {
          "output_type": "execute_result",
          "data": {
            "text/plain": [
              "{'ซันไชน์เดย์ บุกไข่มุกไต้หวัน 1 กก.\\nรหัสสินค้า 894522165.00 ฿\\n-3%\\n160.00 ฿\\nราคาต่อชิ้น\\xa0 160.00 ฿': 'ขนมหวานแช่เย็น',\n",
              " 'ซันไชน์เดย์ ไข่มุกบุก บราวชูการ์ 1 กก.\\nรหัสสินค้า 894523165.00 ฿\\n-3%\\n160.00 ฿\\nราคาต่อชิ้น\\xa0 160.00 ฿': 'ขนมหวานแช่เย็น',\n",
              " 'บีเคพี ซอสบาร์บีคิว 1000 กรัม\\nรหัสสินค้า 825263\\n119.00 ฿\\nราคาต่อชิ้น\\xa0 119.00 ฿': 'ซอสแช่เย็น',\n",
              " 'ฟองฟอง ฟองเต้าหู้พร้อมปรุงแช่แข็ง 500 กรัม\\nรหัสสินค้า 894262\\n125.00 ฿\\nราคาต่อชิ้น\\xa0 125.00 ฿': 'เต้าหู้ถั่วเหลือง',\n",
              " 'เคแอนด์เอ็น น้ำสลัดครีม 1 กิโลกรัม\\nรหัสสินค้า 133758\\n85.00 ฿\\nราคาต่อชิ้น\\xa0 85.00 ฿': 'น้ำสลัดแช่เย็น',\n",
              " 'เคแอนด์เอ็น น้ำสลัดครีมไขมันต่ำ 1 กิโลกรัม\\nรหัสสินค้า 13375983.00 ฿\\n-4%\\n79.00 ฿\\nราคาต่อชิ้น\\xa0 79.00 ฿': 'น้ำสลัดแช่เย็น'}"
            ]
          },
          "metadata": {
            "tags": []
          },
          "execution_count": 272
        }
      ]
    },
    {
      "cell_type": "code",
      "metadata": {
        "id": "Ob2DhVj6YEhf"
      },
      "source": [
        "product = []\n",
        "price = []\n",
        "sub_product_group2 = []\n",
        "\n",
        "for i in mapp:\n",
        "  #print(i.replace('\\xa0','').split('\\n'),mapp[i],len(i.replace('\\xa0','').split('\\n')))\n",
        "  #if len(i.replace('\\xa0','').split('\\n')) == 5:\n",
        "  #  print(i.replace('\\xa0','').split('\\n'),mapp[i],len(i.replace('\\xa0','').split('\\n')))\n",
        "  product.append(i.replace('\\xa0','').split('\\n')[0])\n",
        "  price.append(i.replace('\\xa0','').split('\\n')[-1])\n",
        "  sub_product_group2.append(mapp[i])"
      ],
      "execution_count": 273,
      "outputs": []
    },
    {
      "cell_type": "code",
      "metadata": {
        "colab": {
          "base_uri": "https://localhost:8080/"
        },
        "id": "nw57RgzNYK-J",
        "outputId": "ce5cde38-6905-41f7-ba46-d89cb2ff4f6b"
      },
      "source": [
        "pricex = []\n",
        "unit = []\n",
        "for i in price:\n",
        "  print(i.split(' '))\n",
        "  pricex.append(i.split(' ')[1])\n",
        "  unit.append(i.split(' ')[0]+\"(\"+i.split(' ')[2]+\")\")"
      ],
      "execution_count": 274,
      "outputs": [
        {
          "output_type": "stream",
          "text": [
            "['ราคาต่อชิ้น', '125.00', '฿']\n",
            "['ราคาต่อชิ้น', '119.00', '฿']\n",
            "['ราคาต่อชิ้น', '79.00', '฿']\n",
            "['ราคาต่อชิ้น', '85.00', '฿']\n",
            "['ราคาต่อชิ้น', '160.00', '฿']\n",
            "['ราคาต่อชิ้น', '160.00', '฿']\n"
          ],
          "name": "stdout"
        }
      ]
    },
    {
      "cell_type": "code",
      "metadata": {
        "colab": {
          "base_uri": "https://localhost:8080/",
          "height": 235
        },
        "id": "nt6CL8uQYQ3y",
        "outputId": "902a7bef-9486-48bd-dafe-a351c54d511d"
      },
      "source": [
        "df2 = pd.DataFrame(list(zip(sub_product_group2, product, pricex, unit)),columns=['sub_product_group2', 'product', 'price', 'unit'])\n",
        "df2['price'] = pd.to_numeric(df2['price'],errors = 'coerce')\n",
        "df2"
      ],
      "execution_count": 275,
      "outputs": [
        {
          "output_type": "execute_result",
          "data": {
            "text/html": [
              "<div>\n",
              "<style scoped>\n",
              "    .dataframe tbody tr th:only-of-type {\n",
              "        vertical-align: middle;\n",
              "    }\n",
              "\n",
              "    .dataframe tbody tr th {\n",
              "        vertical-align: top;\n",
              "    }\n",
              "\n",
              "    .dataframe thead th {\n",
              "        text-align: right;\n",
              "    }\n",
              "</style>\n",
              "<table border=\"1\" class=\"dataframe\">\n",
              "  <thead>\n",
              "    <tr style=\"text-align: right;\">\n",
              "      <th></th>\n",
              "      <th>sub_product_group2</th>\n",
              "      <th>product</th>\n",
              "      <th>price</th>\n",
              "      <th>unit</th>\n",
              "    </tr>\n",
              "  </thead>\n",
              "  <tbody>\n",
              "    <tr>\n",
              "      <th>0</th>\n",
              "      <td>เต้าหู้ถั่วเหลือง</td>\n",
              "      <td>ฟองฟอง ฟองเต้าหู้พร้อมปรุงแช่แข็ง 500 กรัม</td>\n",
              "      <td>125.0</td>\n",
              "      <td>ราคาต่อชิ้น(฿)</td>\n",
              "    </tr>\n",
              "    <tr>\n",
              "      <th>1</th>\n",
              "      <td>ซอสแช่เย็น</td>\n",
              "      <td>บีเคพี ซอสบาร์บีคิว 1000 กรัม</td>\n",
              "      <td>119.0</td>\n",
              "      <td>ราคาต่อชิ้น(฿)</td>\n",
              "    </tr>\n",
              "    <tr>\n",
              "      <th>2</th>\n",
              "      <td>น้ำสลัดแช่เย็น</td>\n",
              "      <td>เคแอนด์เอ็น น้ำสลัดครีมไขมันต่ำ 1 กิโลกรัม</td>\n",
              "      <td>79.0</td>\n",
              "      <td>ราคาต่อชิ้น(฿)</td>\n",
              "    </tr>\n",
              "    <tr>\n",
              "      <th>3</th>\n",
              "      <td>น้ำสลัดแช่เย็น</td>\n",
              "      <td>เคแอนด์เอ็น น้ำสลัดครีม 1 กิโลกรัม</td>\n",
              "      <td>85.0</td>\n",
              "      <td>ราคาต่อชิ้น(฿)</td>\n",
              "    </tr>\n",
              "    <tr>\n",
              "      <th>4</th>\n",
              "      <td>ขนมหวานแช่เย็น</td>\n",
              "      <td>ซันไชน์เดย์ ไข่มุกบุก บราวชูการ์ 1 กก.</td>\n",
              "      <td>160.0</td>\n",
              "      <td>ราคาต่อชิ้น(฿)</td>\n",
              "    </tr>\n",
              "    <tr>\n",
              "      <th>5</th>\n",
              "      <td>ขนมหวานแช่เย็น</td>\n",
              "      <td>ซันไชน์เดย์ บุกไข่มุกไต้หวัน 1 กก.</td>\n",
              "      <td>160.0</td>\n",
              "      <td>ราคาต่อชิ้น(฿)</td>\n",
              "    </tr>\n",
              "  </tbody>\n",
              "</table>\n",
              "</div>"
            ],
            "text/plain": [
              "  sub_product_group2  ...            unit\n",
              "0  เต้าหู้ถั่วเหลือง  ...  ราคาต่อชิ้น(฿)\n",
              "1         ซอสแช่เย็น  ...  ราคาต่อชิ้น(฿)\n",
              "2     น้ำสลัดแช่เย็น  ...  ราคาต่อชิ้น(฿)\n",
              "3     น้ำสลัดแช่เย็น  ...  ราคาต่อชิ้น(฿)\n",
              "4     ขนมหวานแช่เย็น  ...  ราคาต่อชิ้น(฿)\n",
              "5     ขนมหวานแช่เย็น  ...  ราคาต่อชิ้น(฿)\n",
              "\n",
              "[6 rows x 4 columns]"
            ]
          },
          "metadata": {
            "tags": []
          },
          "execution_count": 275
        }
      ]
    },
    {
      "cell_type": "code",
      "metadata": {
        "colab": {
          "base_uri": "https://localhost:8080/",
          "height": 337
        },
        "id": "UX5y9ZsWYVnW",
        "outputId": "b8955dff-febc-4c1f-b3da-6bc8b307b436"
      },
      "source": [
        "df3 = df2.merge(df, how='left',on='sub_product_group2')\n",
        "df3 = df3.drop(columns=['content']).drop_duplicates()\n",
        "df3['date'] = datetime.datetime.now().date()\n",
        "df3"
      ],
      "execution_count": 276,
      "outputs": [
        {
          "output_type": "execute_result",
          "data": {
            "text/html": [
              "<div>\n",
              "<style scoped>\n",
              "    .dataframe tbody tr th:only-of-type {\n",
              "        vertical-align: middle;\n",
              "    }\n",
              "\n",
              "    .dataframe tbody tr th {\n",
              "        vertical-align: top;\n",
              "    }\n",
              "\n",
              "    .dataframe thead th {\n",
              "        text-align: right;\n",
              "    }\n",
              "</style>\n",
              "<table border=\"1\" class=\"dataframe\">\n",
              "  <thead>\n",
              "    <tr style=\"text-align: right;\">\n",
              "      <th></th>\n",
              "      <th>sub_product_group2</th>\n",
              "      <th>product</th>\n",
              "      <th>price</th>\n",
              "      <th>unit</th>\n",
              "      <th>sub_product_group1</th>\n",
              "      <th>product_group</th>\n",
              "      <th>date</th>\n",
              "    </tr>\n",
              "  </thead>\n",
              "  <tbody>\n",
              "    <tr>\n",
              "      <th>0</th>\n",
              "      <td>เต้าหู้ถั่วเหลือง</td>\n",
              "      <td>ฟองฟอง ฟองเต้าหู้พร้อมปรุงแช่แข็ง 500 กรัม</td>\n",
              "      <td>125.0</td>\n",
              "      <td>ราคาต่อชิ้น(฿)</td>\n",
              "      <td>เต้าหู้</td>\n",
              "      <td>ผลิตภัณฑ์แปรรูปแช่เย็น</td>\n",
              "      <td>2021-08-11</td>\n",
              "    </tr>\n",
              "    <tr>\n",
              "      <th>1</th>\n",
              "      <td>ซอสแช่เย็น</td>\n",
              "      <td>บีเคพี ซอสบาร์บีคิว 1000 กรัม</td>\n",
              "      <td>119.0</td>\n",
              "      <td>ราคาต่อชิ้น(฿)</td>\n",
              "      <td>ซอสและน้ำสลัดแช่เย็น</td>\n",
              "      <td>ผลิตภัณฑ์แปรรูปแช่เย็น</td>\n",
              "      <td>2021-08-11</td>\n",
              "    </tr>\n",
              "    <tr>\n",
              "      <th>2</th>\n",
              "      <td>น้ำสลัดแช่เย็น</td>\n",
              "      <td>เคแอนด์เอ็น น้ำสลัดครีมไขมันต่ำ 1 กิโลกรัม</td>\n",
              "      <td>79.0</td>\n",
              "      <td>ราคาต่อชิ้น(฿)</td>\n",
              "      <td>ซอสและน้ำสลัดแช่เย็น</td>\n",
              "      <td>ผลิตภัณฑ์แปรรูปแช่เย็น</td>\n",
              "      <td>2021-08-11</td>\n",
              "    </tr>\n",
              "    <tr>\n",
              "      <th>3</th>\n",
              "      <td>น้ำสลัดแช่เย็น</td>\n",
              "      <td>เคแอนด์เอ็น น้ำสลัดครีม 1 กิโลกรัม</td>\n",
              "      <td>85.0</td>\n",
              "      <td>ราคาต่อชิ้น(฿)</td>\n",
              "      <td>ซอสและน้ำสลัดแช่เย็น</td>\n",
              "      <td>ผลิตภัณฑ์แปรรูปแช่เย็น</td>\n",
              "      <td>2021-08-11</td>\n",
              "    </tr>\n",
              "    <tr>\n",
              "      <th>4</th>\n",
              "      <td>ขนมหวานแช่เย็น</td>\n",
              "      <td>ซันไชน์เดย์ ไข่มุกบุก บราวชูการ์ 1 กก.</td>\n",
              "      <td>160.0</td>\n",
              "      <td>ราคาต่อชิ้น(฿)</td>\n",
              "      <td>ขนมหวานแช่เย็น</td>\n",
              "      <td>ผลิตภัณฑ์แปรรูปแช่เย็น</td>\n",
              "      <td>2021-08-11</td>\n",
              "    </tr>\n",
              "    <tr>\n",
              "      <th>5</th>\n",
              "      <td>ขนมหวานแช่เย็น</td>\n",
              "      <td>ซันไชน์เดย์ บุกไข่มุกไต้หวัน 1 กก.</td>\n",
              "      <td>160.0</td>\n",
              "      <td>ราคาต่อชิ้น(฿)</td>\n",
              "      <td>ขนมหวานแช่เย็น</td>\n",
              "      <td>ผลิตภัณฑ์แปรรูปแช่เย็น</td>\n",
              "      <td>2021-08-11</td>\n",
              "    </tr>\n",
              "  </tbody>\n",
              "</table>\n",
              "</div>"
            ],
            "text/plain": [
              "  sub_product_group2  ...        date\n",
              "0  เต้าหู้ถั่วเหลือง  ...  2021-08-11\n",
              "1         ซอสแช่เย็น  ...  2021-08-11\n",
              "2     น้ำสลัดแช่เย็น  ...  2021-08-11\n",
              "3     น้ำสลัดแช่เย็น  ...  2021-08-11\n",
              "4     ขนมหวานแช่เย็น  ...  2021-08-11\n",
              "5     ขนมหวานแช่เย็น  ...  2021-08-11\n",
              "\n",
              "[6 rows x 7 columns]"
            ]
          },
          "metadata": {
            "tags": []
          },
          "execution_count": 276
        }
      ]
    },
    {
      "cell_type": "code",
      "metadata": {
        "id": "1JLzl1PTYZ_y"
      },
      "source": [
        "as_date = list(df3['date'])\n",
        "day_name = []\n",
        "for i in as_date:\n",
        "    day_name.append(i.strftime(\"%A\"))\n",
        "    \n",
        "df3['datename'] = day_name\n",
        "\n",
        "df3['year'] = pd.to_datetime(df3[\"date\"]).dt.year\n",
        "df3['month'] = pd.to_datetime(df3[\"date\"]).dt.month\n",
        "\n",
        "df3['date'] = pd.to_datetime(df3[\"date\"])\n",
        "\n",
        "df3 = df3.replace({\"month\": m_ord2})\n",
        "\n",
        "df3['source'] = 'makroclick'"
      ],
      "execution_count": 277,
      "outputs": []
    },
    {
      "cell_type": "code",
      "metadata": {
        "colab": {
          "base_uri": "https://localhost:8080/",
          "height": 354
        },
        "id": "eNzK0FLXYd-K",
        "outputId": "95c1bef1-b347-4759-f572-909be2faa420"
      },
      "source": [
        "ProcessFood = df3.rename(columns={\"product_group\": \"sub source\", \"sub_product_group1\": \"sub source 1\", \"sub_product_group2\": \"sub source 2\"})\n",
        "ProcessFood"
      ],
      "execution_count": 278,
      "outputs": [
        {
          "output_type": "execute_result",
          "data": {
            "text/html": [
              "<div>\n",
              "<style scoped>\n",
              "    .dataframe tbody tr th:only-of-type {\n",
              "        vertical-align: middle;\n",
              "    }\n",
              "\n",
              "    .dataframe tbody tr th {\n",
              "        vertical-align: top;\n",
              "    }\n",
              "\n",
              "    .dataframe thead th {\n",
              "        text-align: right;\n",
              "    }\n",
              "</style>\n",
              "<table border=\"1\" class=\"dataframe\">\n",
              "  <thead>\n",
              "    <tr style=\"text-align: right;\">\n",
              "      <th></th>\n",
              "      <th>sub source 2</th>\n",
              "      <th>product</th>\n",
              "      <th>price</th>\n",
              "      <th>unit</th>\n",
              "      <th>sub source 1</th>\n",
              "      <th>sub source</th>\n",
              "      <th>date</th>\n",
              "      <th>datename</th>\n",
              "      <th>year</th>\n",
              "      <th>month</th>\n",
              "      <th>source</th>\n",
              "    </tr>\n",
              "  </thead>\n",
              "  <tbody>\n",
              "    <tr>\n",
              "      <th>0</th>\n",
              "      <td>เต้าหู้ถั่วเหลือง</td>\n",
              "      <td>ฟองฟอง ฟองเต้าหู้พร้อมปรุงแช่แข็ง 500 กรัม</td>\n",
              "      <td>125.0</td>\n",
              "      <td>ราคาต่อชิ้น(฿)</td>\n",
              "      <td>เต้าหู้</td>\n",
              "      <td>ผลิตภัณฑ์แปรรูปแช่เย็น</td>\n",
              "      <td>2021-08-11</td>\n",
              "      <td>Wednesday</td>\n",
              "      <td>2021</td>\n",
              "      <td>August</td>\n",
              "      <td>makroclick</td>\n",
              "    </tr>\n",
              "    <tr>\n",
              "      <th>1</th>\n",
              "      <td>ซอสแช่เย็น</td>\n",
              "      <td>บีเคพี ซอสบาร์บีคิว 1000 กรัม</td>\n",
              "      <td>119.0</td>\n",
              "      <td>ราคาต่อชิ้น(฿)</td>\n",
              "      <td>ซอสและน้ำสลัดแช่เย็น</td>\n",
              "      <td>ผลิตภัณฑ์แปรรูปแช่เย็น</td>\n",
              "      <td>2021-08-11</td>\n",
              "      <td>Wednesday</td>\n",
              "      <td>2021</td>\n",
              "      <td>August</td>\n",
              "      <td>makroclick</td>\n",
              "    </tr>\n",
              "    <tr>\n",
              "      <th>2</th>\n",
              "      <td>น้ำสลัดแช่เย็น</td>\n",
              "      <td>เคแอนด์เอ็น น้ำสลัดครีมไขมันต่ำ 1 กิโลกรัม</td>\n",
              "      <td>79.0</td>\n",
              "      <td>ราคาต่อชิ้น(฿)</td>\n",
              "      <td>ซอสและน้ำสลัดแช่เย็น</td>\n",
              "      <td>ผลิตภัณฑ์แปรรูปแช่เย็น</td>\n",
              "      <td>2021-08-11</td>\n",
              "      <td>Wednesday</td>\n",
              "      <td>2021</td>\n",
              "      <td>August</td>\n",
              "      <td>makroclick</td>\n",
              "    </tr>\n",
              "    <tr>\n",
              "      <th>3</th>\n",
              "      <td>น้ำสลัดแช่เย็น</td>\n",
              "      <td>เคแอนด์เอ็น น้ำสลัดครีม 1 กิโลกรัม</td>\n",
              "      <td>85.0</td>\n",
              "      <td>ราคาต่อชิ้น(฿)</td>\n",
              "      <td>ซอสและน้ำสลัดแช่เย็น</td>\n",
              "      <td>ผลิตภัณฑ์แปรรูปแช่เย็น</td>\n",
              "      <td>2021-08-11</td>\n",
              "      <td>Wednesday</td>\n",
              "      <td>2021</td>\n",
              "      <td>August</td>\n",
              "      <td>makroclick</td>\n",
              "    </tr>\n",
              "    <tr>\n",
              "      <th>4</th>\n",
              "      <td>ขนมหวานแช่เย็น</td>\n",
              "      <td>ซันไชน์เดย์ ไข่มุกบุก บราวชูการ์ 1 กก.</td>\n",
              "      <td>160.0</td>\n",
              "      <td>ราคาต่อชิ้น(฿)</td>\n",
              "      <td>ขนมหวานแช่เย็น</td>\n",
              "      <td>ผลิตภัณฑ์แปรรูปแช่เย็น</td>\n",
              "      <td>2021-08-11</td>\n",
              "      <td>Wednesday</td>\n",
              "      <td>2021</td>\n",
              "      <td>August</td>\n",
              "      <td>makroclick</td>\n",
              "    </tr>\n",
              "    <tr>\n",
              "      <th>5</th>\n",
              "      <td>ขนมหวานแช่เย็น</td>\n",
              "      <td>ซันไชน์เดย์ บุกไข่มุกไต้หวัน 1 กก.</td>\n",
              "      <td>160.0</td>\n",
              "      <td>ราคาต่อชิ้น(฿)</td>\n",
              "      <td>ขนมหวานแช่เย็น</td>\n",
              "      <td>ผลิตภัณฑ์แปรรูปแช่เย็น</td>\n",
              "      <td>2021-08-11</td>\n",
              "      <td>Wednesday</td>\n",
              "      <td>2021</td>\n",
              "      <td>August</td>\n",
              "      <td>makroclick</td>\n",
              "    </tr>\n",
              "  </tbody>\n",
              "</table>\n",
              "</div>"
            ],
            "text/plain": [
              "        sub source 2  ...      source\n",
              "0  เต้าหู้ถั่วเหลือง  ...  makroclick\n",
              "1         ซอสแช่เย็น  ...  makroclick\n",
              "2     น้ำสลัดแช่เย็น  ...  makroclick\n",
              "3     น้ำสลัดแช่เย็น  ...  makroclick\n",
              "4     ขนมหวานแช่เย็น  ...  makroclick\n",
              "5     ขนมหวานแช่เย็น  ...  makroclick\n",
              "\n",
              "[6 rows x 11 columns]"
            ]
          },
          "metadata": {
            "tags": []
          },
          "execution_count": 278
        }
      ]
    },
    {
      "cell_type": "markdown",
      "metadata": {
        "id": "8sTsaEVLAFGH"
      },
      "source": [
        "# รวม"
      ]
    },
    {
      "cell_type": "code",
      "metadata": {
        "id": "2H7IPLjKt-uL"
      },
      "source": [
        "# total = pd.concat([ราคาปศุสัตว์,ราคาวัตถุดิบอาหารสัตว์,เนื้อสัตว์,สัตว์น้ำ,อาหารสัตว์และวัตถุดิบ,ตลาดสดตลาดไท,ปลาน้ำจืดตลาดไท,อาหารทะเลตลาดไท,ราคาวัตถุดิบอาหารสัตว์CP,ราคาพันธุ์สัตว์CP])"
      ],
      "execution_count": 291,
      "outputs": []
    },
    {
      "cell_type": "code",
      "metadata": {
        "id": "rETpzrLlxOGo"
      },
      "source": [
        "total = pd.concat([เนื้อสัตว์,สัตว์น้ำ,อาหารสัตว์และวัตถุดิบ,ตลาดสดตลาดไท,ปลาน้ำจืดตลาดไท,อาหารทะเลตลาดไท,ราคาวัตถุดิบอาหารสัตว์CP,ราคาพันธุ์สัตว์CP])"
      ],
      "execution_count": 514,
      "outputs": []
    },
    {
      "cell_type": "code",
      "metadata": {
        "id": "QWj2H_D5xZgC"
      },
      "source": [
        "total = total.rename(columns={'product group':'sub source'})"
      ],
      "execution_count": 515,
      "outputs": []
    },
    {
      "cell_type": "code",
      "metadata": {
        "id": "kHsBktTVbKtj"
      },
      "source": [
        "Makro = pd.concat([butchery,dairy,Seafood,ProcessMeat,FrozenFood,ProcessFood])"
      ],
      "execution_count": 518,
      "outputs": []
    },
    {
      "cell_type": "code",
      "metadata": {
        "id": "gffV4vgPbtCl"
      },
      "source": [
        "total = pd.concat([total,Makro])"
      ],
      "execution_count": 519,
      "outputs": []
    },
    {
      "cell_type": "code",
      "metadata": {
        "id": "Kj4aMaYAzs4g",
        "colab": {
          "base_uri": "https://localhost:8080/"
        },
        "outputId": "b5e4be45-7ec1-4255-bdc2-af9a02313cac"
      },
      "source": [
        "set(total['source'])"
      ],
      "execution_count": 520,
      "outputs": [
        {
          "output_type": "execute_result",
          "data": {
            "text/plain": [
              "{'CPF', 'makroclick', 'กระทรวงพาณิชย์', 'ตลาดไท'}"
            ]
          },
          "metadata": {
            "tags": []
          },
          "execution_count": 520
        }
      ]
    },
    {
      "cell_type": "markdown",
      "metadata": {
        "id": "JH2_oe-fHChs"
      },
      "source": [
        "# Update"
      ]
    },
    {
      "cell_type": "code",
      "metadata": {
        "id": "6grpBEIrxeA2"
      },
      "source": [
        "import pandas as pd\n",
        "exist = pd.read_excel(r'/content/drive/MyDrive/public_database/ราคารวม.xlsx','Sheet1')"
      ],
      "execution_count": 521,
      "outputs": []
    },
    {
      "cell_type": "code",
      "metadata": {
        "id": "1wopm8rZyEDx"
      },
      "source": [
        "with_new = pd.concat([exist,total])"
      ],
      "execution_count": 522,
      "outputs": []
    },
    {
      "cell_type": "code",
      "metadata": {
        "id": "JTOuko7Izz14",
        "colab": {
          "base_uri": "https://localhost:8080/"
        },
        "outputId": "66f80d95-2c18-4faa-fd39-e0dfd9c8d10d"
      },
      "source": [
        "set(with_new['source'])"
      ],
      "execution_count": 523,
      "outputs": [
        {
          "output_type": "execute_result",
          "data": {
            "text/plain": [
              "{'CPF', 'makroclick', 'กระทรวงพาณิชย์', 'ตลาดไท', 'สมาคมผู้ผลิตอาหารสัตว์ไทย'}"
            ]
          },
          "metadata": {
            "tags": []
          },
          "execution_count": 523
        }
      ]
    },
    {
      "cell_type": "code",
      "metadata": {
        "id": "nmFb0ja3yRD3"
      },
      "source": [
        "with_new = with_new.drop(columns = [\"update date\"])"
      ],
      "execution_count": 524,
      "outputs": []
    },
    {
      "cell_type": "code",
      "metadata": {
        "id": "v-uYlpzryTRf"
      },
      "source": [
        "final = with_new.drop_duplicates()"
      ],
      "execution_count": 525,
      "outputs": []
    },
    {
      "cell_type": "code",
      "metadata": {
        "id": "wRsp9qXw2-92"
      },
      "source": [
        "CPF = final[final['source']=='CPF']"
      ],
      "execution_count": 527,
      "outputs": []
    },
    {
      "cell_type": "code",
      "metadata": {
        "id": "w2TcSbT23GKR"
      },
      "source": [
        "mask_ = CPF['price'].apply(lambda x: isinstance(x, (int, float)))"
      ],
      "execution_count": 528,
      "outputs": []
    },
    {
      "cell_type": "code",
      "metadata": {
        "id": "w8WOs4oeyVy7"
      },
      "source": [
        "mask = final['price'].apply(lambda x: isinstance(x, (int, float)))"
      ],
      "execution_count": 529,
      "outputs": []
    },
    {
      "cell_type": "code",
      "metadata": {
        "id": "g6p27ihF2dZl",
        "colab": {
          "base_uri": "https://localhost:8080/"
        },
        "outputId": "d8f23019-998f-4aff-d6aa-38e0c257d3dc"
      },
      "source": [
        "final['price'].where(mask)"
      ],
      "execution_count": 530,
      "outputs": [
        {
          "output_type": "execute_result",
          "data": {
            "text/plain": [
              "0      1.3455\n",
              "1      1.7292\n",
              "2      1.2250\n",
              "3      1.0120\n",
              "4      1.5365\n",
              "       ...   \n",
              "1    119.0000\n",
              "2     79.0000\n",
              "3     85.0000\n",
              "4    160.0000\n",
              "5    160.0000\n",
              "Name: price, Length: 15210, dtype: float64"
            ]
          },
          "metadata": {
            "tags": []
          },
          "execution_count": 530
        }
      ]
    },
    {
      "cell_type": "code",
      "metadata": {
        "id": "82pNVEFSyYMD",
        "colab": {
          "base_uri": "https://localhost:8080/"
        },
        "outputId": "3cfb6d00-9d3e-4fba-d5cd-2de1163c326d"
      },
      "source": [
        "final['price'] = final['price'].where(mask)"
      ],
      "execution_count": 531,
      "outputs": [
        {
          "output_type": "stream",
          "text": [
            "/usr/local/lib/python3.7/dist-packages/ipykernel_launcher.py:1: SettingWithCopyWarning: \n",
            "A value is trying to be set on a copy of a slice from a DataFrame.\n",
            "Try using .loc[row_indexer,col_indexer] = value instead\n",
            "\n",
            "See the caveats in the documentation: https://pandas.pydata.org/pandas-docs/stable/user_guide/indexing.html#returning-a-view-versus-a-copy\n",
            "  \"\"\"Entry point for launching an IPython kernel.\n"
          ],
          "name": "stderr"
        }
      ]
    },
    {
      "cell_type": "code",
      "metadata": {
        "id": "EuB6vEKzyaq8",
        "colab": {
          "base_uri": "https://localhost:8080/"
        },
        "outputId": "7f32be58-c29c-414e-fd04-82248efef234"
      },
      "source": [
        "final['price'] = final['price'].astype(float)"
      ],
      "execution_count": 532,
      "outputs": [
        {
          "output_type": "stream",
          "text": [
            "/usr/local/lib/python3.7/dist-packages/ipykernel_launcher.py:1: SettingWithCopyWarning: \n",
            "A value is trying to be set on a copy of a slice from a DataFrame.\n",
            "Try using .loc[row_indexer,col_indexer] = value instead\n",
            "\n",
            "See the caveats in the documentation: https://pandas.pydata.org/pandas-docs/stable/user_guide/indexing.html#returning-a-view-versus-a-copy\n",
            "  \"\"\"Entry point for launching an IPython kernel.\n"
          ],
          "name": "stderr"
        }
      ]
    },
    {
      "cell_type": "code",
      "metadata": {
        "id": "bz-6uRpPyeDW"
      },
      "source": [
        "final = final[final['price'].notna()]"
      ],
      "execution_count": 533,
      "outputs": []
    },
    {
      "cell_type": "code",
      "metadata": {
        "id": "dPuQfvmoyhXV"
      },
      "source": [
        "final['update date'] = ct"
      ],
      "execution_count": 534,
      "outputs": []
    },
    {
      "cell_type": "code",
      "metadata": {
        "id": "uDu7-TM1AKmG"
      },
      "source": [
        "final.loc[final['product']=='ไข่นกกระทาต้ม - 100 ฟอง','price'] = final[final['product']=='ไข่นกกระทาต้ม - 100 ฟอง']['price']/100\n",
        "final.loc[final['product']=='ไข่นกกระทาต้ม - 100 ฟอง','min price'] = final[final['product']=='ไข่นกกระทาต้ม - 100 ฟอง']['min price']/100\n",
        "final.loc[final['product']=='ไข่นกกระทาต้ม - 100 ฟอง','max price'] = final[final['product']=='ไข่นกกระทาต้ม - 100 ฟอง']['max price']/100"
      ],
      "execution_count": 535,
      "outputs": []
    },
    {
      "cell_type": "code",
      "metadata": {
        "id": "bLlIiY6SFXvF"
      },
      "source": [
        "final.loc[final['product']=='ไข่นกกระทาดิบ - 100 ฟอง','price'] = final[final['product']=='ไข่นกกระทาดิบ - 100 ฟอง']['price']/100\n",
        "final.loc[final['product']=='ไข่นกกระทาดิบ - 100 ฟอง','min price'] = final[final['product']=='ไข่นกกระทาดิบ - 100 ฟอง']['min price']/100\n",
        "final.loc[final['product']=='ไข่นกกระทาดิบ - 100 ฟอง','max price'] = final[final['product']=='ไข่นกกระทาดิบ - 100 ฟอง']['max price']/100"
      ],
      "execution_count": 536,
      "outputs": []
    },
    {
      "cell_type": "code",
      "metadata": {
        "id": "AVNM-u3mBKFi"
      },
      "source": [
        "final.loc[final['product']=='ไข่นกกระทาต้ม - 100 ฟอง','range price'] = final[final['product']=='ไข่นกกระทาต้ม - 100 ฟอง']['min price'].map(str)+\" - \"+final[final['product']=='ไข่นกกระทาต้ม - 100 ฟอง']['max price'].map(str)"
      ],
      "execution_count": 537,
      "outputs": []
    },
    {
      "cell_type": "code",
      "metadata": {
        "id": "ZwXJ9mLcFfll"
      },
      "source": [
        "final.loc[final['product']=='ไข่นกกระทาดิบ - 100 ฟอง','range price'] = final[final['product']=='ไข่นกกระทาดิบ - 100 ฟอง']['min price'].map(str)+\" - \"+final[final['product']=='ไข่นกกระทาดิบ - 100 ฟอง']['max price'].map(str)"
      ],
      "execution_count": 538,
      "outputs": []
    },
    {
      "cell_type": "code",
      "metadata": {
        "id": "LNM5hJ1XB5ak"
      },
      "source": [
        "final.loc[final['product']=='ไข่นกกระทาต้ม - 100 ฟอง','product'] = 'ไข่นกกระทาต้ม'"
      ],
      "execution_count": 539,
      "outputs": []
    },
    {
      "cell_type": "code",
      "metadata": {
        "id": "h0KKwp-fFmxK"
      },
      "source": [
        "final.loc[final['product']=='ไข่นกกระทาดิบ - 100 ฟอง','product'] = 'ไข่นกกระทาดิบ'"
      ],
      "execution_count": 540,
      "outputs": []
    },
    {
      "cell_type": "code",
      "metadata": {
        "id": "PAJIGn6MyjYt",
        "colab": {
          "base_uri": "https://localhost:8080/"
        },
        "outputId": "58db7b9d-cc87-4d87-c5f3-2bea73f7b8c9"
      },
      "source": [
        "set(final['unit'])"
      ],
      "execution_count": 541,
      "outputs": [
        {
          "output_type": "execute_result",
          "data": {
            "text/plain": [
              "{'บาท/ กก.',\n",
              " 'บาท/-',\n",
              " 'บาท/กก',\n",
              " 'บาท/กก.',\n",
              " 'บาท/กิโลกรัม',\n",
              " 'บาท/ตัว',\n",
              " 'บาท/ฟอง',\n",
              " 'ราคาต่อชิ้น(฿)',\n",
              " '฿ / N/A',\n",
              " '฿ / กิโลกรัม',\n",
              " '฿ / ฟอง'}"
            ]
          },
          "metadata": {
            "tags": []
          },
          "execution_count": 541
        }
      ]
    },
    {
      "cell_type": "code",
      "metadata": {
        "id": "ae7KKZN8ylsa"
      },
      "source": [
        "unit = {'บาท/กก':'บาท/กิโลกรัม','บาท/กก.':'บาท/กิโลกรัม','บาท/ กก.':'บาท/กิโลกรัม','฿ / กิโลกรัม':'บาท/กิโลกรัม','฿ / ฟอง':'บาท/ฟอง','฿ / N/A':'บาท/-'}"
      ],
      "execution_count": 542,
      "outputs": []
    },
    {
      "cell_type": "code",
      "metadata": {
        "id": "azE_CradypoN"
      },
      "source": [
        "final = final.replace({\"unit\": unit})"
      ],
      "execution_count": 543,
      "outputs": []
    },
    {
      "cell_type": "code",
      "metadata": {
        "id": "iukiGAjPyrtn",
        "colab": {
          "base_uri": "https://localhost:8080/"
        },
        "outputId": "77f5881e-d16f-4eda-d095-d228154541ed"
      },
      "source": [
        "set(final['unit'])"
      ],
      "execution_count": 544,
      "outputs": [
        {
          "output_type": "execute_result",
          "data": {
            "text/plain": [
              "{'บาท/-', 'บาท/กิโลกรัม', 'บาท/ตัว', 'บาท/ฟอง', 'ราคาต่อชิ้น(฿)'}"
            ]
          },
          "metadata": {
            "tags": []
          },
          "execution_count": 544
        }
      ]
    },
    {
      "cell_type": "code",
      "metadata": {
        "id": "Xsu3y2nq0xHV",
        "colab": {
          "base_uri": "https://localhost:8080/"
        },
        "outputId": "894ef3ad-098e-4364-b813-44080c6ebfc2"
      },
      "source": [
        "set(final['source'])"
      ],
      "execution_count": 545,
      "outputs": [
        {
          "output_type": "execute_result",
          "data": {
            "text/plain": [
              "{'CPF', 'makroclick', 'กระทรวงพาณิชย์', 'ตลาดไท', 'สมาคมผู้ผลิตอาหารสัตว์ไทย'}"
            ]
          },
          "metadata": {
            "tags": []
          },
          "execution_count": 545
        }
      ]
    },
    {
      "cell_type": "code",
      "metadata": {
        "id": "lj_BCosfytyo"
      },
      "source": [
        "f1 = final[final['unit'] == 'บาท/100ฟอง']\n",
        "f1['price'] = f1['price']/100"
      ],
      "execution_count": 546,
      "outputs": []
    },
    {
      "cell_type": "code",
      "metadata": {
        "id": "JrV2hMZWywTT"
      },
      "source": [
        "f1['unit'] = 'บาท/ฟอง'"
      ],
      "execution_count": 547,
      "outputs": []
    },
    {
      "cell_type": "code",
      "metadata": {
        "id": "znbwJS9ryzVk"
      },
      "source": [
        "f2 = final[final['unit'] != 'บาท/100ฟอง']"
      ],
      "execution_count": 548,
      "outputs": []
    },
    {
      "cell_type": "code",
      "metadata": {
        "id": "CeLElVIQy18R"
      },
      "source": [
        "final = pd.concat([f1,f2])"
      ],
      "execution_count": 549,
      "outputs": []
    },
    {
      "cell_type": "code",
      "metadata": {
        "id": "_8SQYp_Z0jDi",
        "colab": {
          "base_uri": "https://localhost:8080/"
        },
        "outputId": "8e5b6faa-e5a6-4411-d94a-a36b4301e6c3"
      },
      "source": [
        "set(f1['source'])"
      ],
      "execution_count": 550,
      "outputs": [
        {
          "output_type": "execute_result",
          "data": {
            "text/plain": [
              "set()"
            ]
          },
          "metadata": {
            "tags": []
          },
          "execution_count": 550
        }
      ]
    },
    {
      "cell_type": "code",
      "metadata": {
        "id": "ejx-yjfw0pAF",
        "colab": {
          "base_uri": "https://localhost:8080/"
        },
        "outputId": "3dac0dab-2686-4720-de74-58cd7b4d61fc"
      },
      "source": [
        "set(f2['source'])"
      ],
      "execution_count": 551,
      "outputs": [
        {
          "output_type": "execute_result",
          "data": {
            "text/plain": [
              "{'CPF', 'makroclick', 'กระทรวงพาณิชย์', 'ตลาดไท', 'สมาคมผู้ผลิตอาหารสัตว์ไทย'}"
            ]
          },
          "metadata": {
            "tags": []
          },
          "execution_count": 551
        }
      ]
    },
    {
      "cell_type": "code",
      "metadata": {
        "id": "FFU2FXVGy4I3"
      },
      "source": [
        "final['date'] = pd.to_datetime(final['date'])"
      ],
      "execution_count": 552,
      "outputs": []
    },
    {
      "cell_type": "code",
      "metadata": {
        "id": "UKdKpImS0ZAA",
        "colab": {
          "base_uri": "https://localhost:8080/"
        },
        "outputId": "acde97ff-bb4a-42da-fdcb-51f3d1e2c6d5"
      },
      "source": [
        "set(final['source'])"
      ],
      "execution_count": 553,
      "outputs": [
        {
          "output_type": "execute_result",
          "data": {
            "text/plain": [
              "{'CPF', 'makroclick', 'กระทรวงพาณิชย์', 'ตลาดไท', 'สมาคมผู้ผลิตอาหารสัตว์ไทย'}"
            ]
          },
          "metadata": {
            "tags": []
          },
          "execution_count": 553
        }
      ]
    },
    {
      "cell_type": "code",
      "metadata": {
        "id": "3m1ajg8Cy6ms"
      },
      "source": [
        "price_cetalog = final.groupby(['source','sub source','product']).agg({'date': 'max'}).reset_index().rename(columns = {\"date\":\"last date\"})"
      ],
      "execution_count": 554,
      "outputs": []
    },
    {
      "cell_type": "code",
      "metadata": {
        "id": "hrzwZ4Nky_QX",
        "colab": {
          "base_uri": "https://localhost:8080/"
        },
        "outputId": "e7c88237-155b-47e1-8380-39568955570c"
      },
      "source": [
        "pip install xlsxwriter"
      ],
      "execution_count": 555,
      "outputs": [
        {
          "output_type": "stream",
          "text": [
            "Collecting xlsxwriter\n",
            "  Downloading XlsxWriter-3.0.1-py3-none-any.whl (148 kB)\n",
            "\u001b[K     |████████████████████████████████| 148 kB 1.4 MB/s \n",
            "\u001b[?25hInstalling collected packages: xlsxwriter\n",
            "Successfully installed xlsxwriter-3.0.1\n"
          ],
          "name": "stdout"
        }
      ]
    },
    {
      "cell_type": "code",
      "metadata": {
        "id": "aL4AFYfwzKea"
      },
      "source": [
        "out_path = \"/content/drive/MyDrive/public_database/ราคารวม.xlsx\"\n",
        "\n",
        "writer = pd.ExcelWriter(out_path, engine='xlsxwriter')\n",
        "final.to_excel(writer, index=False)\n",
        "writer.save() "
      ],
      "execution_count": 556,
      "outputs": []
    },
    {
      "cell_type": "code",
      "metadata": {
        "id": "MrxcnMG_zYPT"
      },
      "source": [
        "out_path = \"/content/drive/MyDrive/public_database/catalog_ข้อมูลราคารวม.xlsx\"\n",
        "\n",
        "writer = pd.ExcelWriter(out_path, engine='xlsxwriter')\n",
        "price_cetalog.to_excel(writer, index=False)\n",
        "writer.save() "
      ],
      "execution_count": 557,
      "outputs": []
    },
    {
      "cell_type": "code",
      "metadata": {
        "id": "hNs6d4Mxzf4j",
        "colab": {
          "base_uri": "https://localhost:8080/"
        },
        "outputId": "b510fd0c-f531-4e2b-f81b-9ca88df26819"
      },
      "source": [
        "set(final['sub source'])"
      ],
      "execution_count": 558,
      "outputs": [
        {
          "output_type": "execute_result",
          "data": {
            "text/plain": [
              "{'ตลาดปลาน้ำจืด-ตลาดไท',\n",
              " 'ตลาดสด-ตลาดไท',\n",
              " 'ตลาดอาหารทะเล-ตลาดไท',\n",
              " 'ปลาและอาหารทะเล',\n",
              " 'ปศุสัตว์',\n",
              " 'ผลิตภัณฑ์เนื้อสัตว์แปรรูป',\n",
              " 'ผลิตภัณฑ์แปรรูปแช่เย็น',\n",
              " 'พันธุ์สัตว์',\n",
              " 'ราคาวัตถุดิบอาหารสัตว์',\n",
              " 'วัตถุดิบอาหารสัตว์',\n",
              " 'สัตว์น้ำ-ค้าปลีก',\n",
              " 'อาหารสัตว์และวัตถุดิบอาหารสัตว์-ค้าส่ง',\n",
              " 'อาหารแช่แข็ง',\n",
              " 'เนื้อสัตว์',\n",
              " 'เนื้อสัตว์-ค้าปลีก',\n",
              " 'ไข่ นม เนย ชีส'}"
            ]
          },
          "metadata": {
            "tags": []
          },
          "execution_count": 558
        }
      ]
    },
    {
      "cell_type": "code",
      "metadata": {
        "id": "3OP-C-Nuzjne",
        "colab": {
          "base_uri": "https://localhost:8080/"
        },
        "outputId": "6d6f7a55-30e8-4580-ad1d-c45cff748592"
      },
      "source": [
        "set(final['source'])"
      ],
      "execution_count": 559,
      "outputs": [
        {
          "output_type": "execute_result",
          "data": {
            "text/plain": [
              "{'CPF', 'makroclick', 'กระทรวงพาณิชย์', 'ตลาดไท', 'สมาคมผู้ผลิตอาหารสัตว์ไทย'}"
            ]
          },
          "metadata": {
            "tags": []
          },
          "execution_count": 559
        }
      ]
    },
    {
      "cell_type": "code",
      "metadata": {
        "id": "QDfgZLcwubEE"
      },
      "source": [
        "# authenticate\n",
        "from google.colab import auth\n",
        "auth.authenticate_user()\n",
        "import gspread\n",
        "from oauth2client.client import GoogleCredentials as GC\n",
        "gc = gspread.authorize(GC.get_application_default())\n",
        "# create, and save df\n",
        "from gspread_dataframe import set_with_dataframe\n",
        "title = 'food_public_price'\n",
        "#gc.create(title)  # if not exist\n",
        "sheet = gc.open(title).sheet1\n",
        "set_with_dataframe(sheet, final) \n",
        "# include_index=False, include_column_header=True, resize=False"
      ],
      "execution_count": 560,
      "outputs": []
    },
    {
      "cell_type": "code",
      "metadata": {
        "colab": {
          "base_uri": "https://localhost:8080/"
        },
        "id": "5EKQrBt9c4Ws",
        "outputId": "d97264f5-e571-41e9-a86c-1c062bba8f8d"
      },
      "source": [
        "final['update date']"
      ],
      "execution_count": 562,
      "outputs": [
        {
          "output_type": "execute_result",
          "data": {
            "text/plain": [
              "0   2021-08-11 22:44:03.852853\n",
              "1   2021-08-11 22:44:03.852853\n",
              "2   2021-08-11 22:44:03.852853\n",
              "3   2021-08-11 22:44:03.852853\n",
              "4   2021-08-11 22:44:03.852853\n",
              "               ...            \n",
              "1   2021-08-11 22:44:03.852853\n",
              "2   2021-08-11 22:44:03.852853\n",
              "3   2021-08-11 22:44:03.852853\n",
              "4   2021-08-11 22:44:03.852853\n",
              "5   2021-08-11 22:44:03.852853\n",
              "Name: update date, Length: 15210, dtype: datetime64[ns]"
            ]
          },
          "metadata": {
            "tags": []
          },
          "execution_count": 562
        }
      ]
    },
    {
      "cell_type": "code",
      "metadata": {
        "id": "-nqq-AtNHhEU"
      },
      "source": [
        ""
      ],
      "execution_count": 335,
      "outputs": []
    }
  ]
}