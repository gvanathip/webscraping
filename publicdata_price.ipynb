{
  "nbformat": 4,
  "nbformat_minor": 0,
  "metadata": {
    "colab": {
      "name": "publicdata_price.ipynb",
      "provenance": [],
      "collapsed_sections": [
        "tvK1_Hvx64bm",
        "waKfPyIt7TSv",
        "WJEPz4uv8VpM",
        "x-F-ka2w9aMe",
        "cINEKh2z977t",
        "kFMlTyIA-XL3",
        "kJmxZSsS-4oC",
        "5Kl_C69z_VfG",
        "ebJS159x_0X1",
        "iMf-5jAy_9wb",
        "pjnSPblwrANl"
      ],
      "toc_visible": true,
      "mount_file_id": "1wqc4mVAVHrpcxNroU_KYlL9DH6AX5cky",
      "authorship_tag": "ABX9TyPqhBfflAss07kYTqcKDzNG",
      "include_colab_link": true
    },
    "kernelspec": {
      "display_name": "Python 3",
      "name": "python3"
    },
    "language_info": {
      "name": "python"
    }
  },
  "cells": [
    {
      "cell_type": "markdown",
      "metadata": {
        "id": "view-in-github",
        "colab_type": "text"
      },
      "source": [
        "<a href=\"https://colab.research.google.com/github/gvanathip/webscraping/blob/food_livestock_pricing/publicdata_price.ipynb\" target=\"_parent\"><img src=\"https://colab.research.google.com/assets/colab-badge.svg\" alt=\"Open In Colab\"/></a>"
      ]
    },
    {
      "cell_type": "markdown",
      "metadata": {
        "id": "tvK1_Hvx64bm"
      },
      "source": [
        "# Start"
      ]
    },
    {
      "cell_type": "code",
      "metadata": {
        "colab": {
          "base_uri": "https://localhost:8080/"
        },
        "id": "-cwMk5nQIWwX",
        "outputId": "8a4f89fd-48bb-4bb1-9704-362deaab2222"
      },
      "source": [
        "pip install selenium"
      ],
      "execution_count": 1,
      "outputs": [
        {
          "output_type": "stream",
          "text": [
            "Requirement already satisfied: selenium in /usr/local/lib/python3.7/dist-packages (3.141.0)\n",
            "Requirement already satisfied: urllib3 in /usr/local/lib/python3.7/dist-packages (from selenium) (1.24.3)\n"
          ],
          "name": "stdout"
        }
      ]
    },
    {
      "cell_type": "code",
      "metadata": {
        "colab": {
          "base_uri": "https://localhost:8080/"
        },
        "id": "VTvqs711IbVX",
        "outputId": "c43b54cc-ac29-4c92-a62f-94d41b28bf69"
      },
      "source": [
        "pip install webdriver_manager"
      ],
      "execution_count": 2,
      "outputs": [
        {
          "output_type": "stream",
          "text": [
            "Requirement already satisfied: webdriver_manager in /usr/local/lib/python3.7/dist-packages (3.4.2)\n",
            "Requirement already satisfied: requests in /usr/local/lib/python3.7/dist-packages (from webdriver_manager) (2.23.0)\n",
            "Requirement already satisfied: configparser in /usr/local/lib/python3.7/dist-packages (from webdriver_manager) (5.0.2)\n",
            "Requirement already satisfied: crayons in /usr/local/lib/python3.7/dist-packages (from webdriver_manager) (0.4.0)\n",
            "Requirement already satisfied: colorama in /usr/local/lib/python3.7/dist-packages (from crayons->webdriver_manager) (0.4.4)\n",
            "Requirement already satisfied: urllib3!=1.25.0,!=1.25.1,<1.26,>=1.21.1 in /usr/local/lib/python3.7/dist-packages (from requests->webdriver_manager) (1.24.3)\n",
            "Requirement already satisfied: idna<3,>=2.5 in /usr/local/lib/python3.7/dist-packages (from requests->webdriver_manager) (2.10)\n",
            "Requirement already satisfied: chardet<4,>=3.0.2 in /usr/local/lib/python3.7/dist-packages (from requests->webdriver_manager) (3.0.4)\n",
            "Requirement already satisfied: certifi>=2017.4.17 in /usr/local/lib/python3.7/dist-packages (from requests->webdriver_manager) (2021.5.30)\n"
          ],
          "name": "stdout"
        }
      ]
    },
    {
      "cell_type": "code",
      "metadata": {
        "colab": {
          "base_uri": "https://localhost:8080/"
        },
        "id": "llK0j4q3IfFh",
        "outputId": "d1878993-17ae-43fd-8873-02eeb84448b6"
      },
      "source": [
        "!pip install selenium\n",
        "!apt-get update # to update ubuntu to correctly run apt install\n",
        "!apt install chromium-chromedriver\n",
        "!cp /usr/lib/chromium-browser/chromedriver /usr/bin\n",
        "import sys\n",
        "sys.path.insert(0,'/usr/lib/chromium-browser/chromedriver')"
      ],
      "execution_count": 3,
      "outputs": [
        {
          "output_type": "stream",
          "text": [
            "Requirement already satisfied: selenium in /usr/local/lib/python3.7/dist-packages (3.141.0)\n",
            "Requirement already satisfied: urllib3 in /usr/local/lib/python3.7/dist-packages (from selenium) (1.24.3)\n",
            "Hit:1 http://ppa.launchpad.net/c2d4u.team/c2d4u4.0+/ubuntu bionic InRelease\n",
            "Hit:2 http://archive.ubuntu.com/ubuntu bionic InRelease\n",
            "Hit:3 http://archive.ubuntu.com/ubuntu bionic-updates InRelease\n",
            "Hit:4 http://ppa.launchpad.net/cran/libgit2/ubuntu bionic InRelease\n",
            "Hit:5 http://archive.ubuntu.com/ubuntu bionic-backports InRelease\n",
            "Get:6 https://cloud.r-project.org/bin/linux/ubuntu bionic-cran40/ InRelease [3,626 B]\n",
            "Hit:7 http://ppa.launchpad.net/deadsnakes/ppa/ubuntu bionic InRelease\n",
            "Hit:8 http://ppa.launchpad.net/graphics-drivers/ppa/ubuntu bionic InRelease\n",
            "Hit:9 http://security.ubuntu.com/ubuntu bionic-security InRelease\n",
            "Ign:10 https://developer.download.nvidia.com/compute/cuda/repos/ubuntu1804/x86_64  InRelease\n",
            "Ign:11 https://developer.download.nvidia.com/compute/machine-learning/repos/ubuntu1804/x86_64  InRelease\n",
            "Hit:12 https://developer.download.nvidia.com/compute/cuda/repos/ubuntu1804/x86_64  Release\n",
            "Hit:13 https://developer.download.nvidia.com/compute/machine-learning/repos/ubuntu1804/x86_64  Release\n",
            "Fetched 3,626 B in 2s (1,528 B/s)\n",
            "Reading package lists... Done\n",
            "Reading package lists... Done\n",
            "Building dependency tree       \n",
            "Reading state information... Done\n",
            "chromium-chromedriver is already the newest version (91.0.4472.101-0ubuntu0.18.04.1).\n",
            "0 upgraded, 0 newly installed, 0 to remove and 94 not upgraded.\n",
            "cp: '/usr/lib/chromium-browser/chromedriver' and '/usr/bin/chromedriver' are the same file\n"
          ],
          "name": "stdout"
        }
      ]
    },
    {
      "cell_type": "code",
      "metadata": {
        "id": "en3z85dLIFLY"
      },
      "source": [
        "import os\n",
        "import selenium\n",
        "from selenium import webdriver\n",
        "import time\n",
        "from PIL import Image\n",
        "import io\n",
        "import requests\n",
        "#from webdriver_manager.chrome import ChromeDriverManager\n",
        "from selenium.common.exceptions import ElementClickInterceptedException\n",
        "import datetime\n",
        "import pandas as pd"
      ],
      "execution_count": 4,
      "outputs": []
    },
    {
      "cell_type": "code",
      "metadata": {
        "colab": {
          "base_uri": "https://localhost:8080/"
        },
        "id": "5njhnC63IT1Z",
        "outputId": "fce76598-a601-4bd5-be22-5d9af7de4e2f"
      },
      "source": [
        "# from google.colab import drive\n",
        "# drive.mount('/content/drive')\n",
        "\n",
        "# %cd drive/my-drive"
      ],
      "execution_count": null,
      "outputs": [
        {
          "output_type": "stream",
          "text": [
            "Drive already mounted at /content/drive; to attempt to forcibly remount, call drive.mount(\"/content/drive\", force_remount=True).\n",
            "[Errno 2] No such file or directory: 'drive/my-drive'\n",
            "/content\n"
          ],
          "name": "stdout"
        }
      ]
    },
    {
      "cell_type": "code",
      "metadata": {
        "id": "2LLVbqE-Qaf1"
      },
      "source": [
        "ct = datetime.datetime.now()"
      ],
      "execution_count": null,
      "outputs": []
    },
    {
      "cell_type": "code",
      "metadata": {
        "colab": {
          "base_uri": "https://localhost:8080/"
        },
        "id": "am8Fo2CQX_eo",
        "outputId": "1b3b988d-d912-40b0-bbbc-057db5cc1f3a"
      },
      "source": [
        "from selenium import webdriver\n",
        "chrome_options = webdriver.ChromeOptions()\n",
        "chrome_options.add_argument('--headless')\n",
        "chrome_options.add_argument('--no-sandbox')\n",
        "chrome_options.add_argument('--disable-dev-shm-usage')\n",
        "driver = webdriver.Chrome('chromedriver',chrome_options=chrome_options)"
      ],
      "execution_count": null,
      "outputs": [
        {
          "output_type": "stream",
          "text": [
            "/usr/local/lib/python3.7/dist-packages/ipykernel_launcher.py:6: DeprecationWarning: use options instead of chrome_options\n",
            "  \n"
          ],
          "name": "stderr"
        }
      ]
    },
    {
      "cell_type": "code",
      "metadata": {
        "id": "jlBXovLuf0-K"
      },
      "source": [
        "monthlist = {\n",
        "    \"ม.ค.\": \"January\",\n",
        "    \"ก.พ.\": \"February\",\n",
        "    \"มี.ค.\": \"Mar\",\n",
        "    \"เม.ย.\": \"April\",\n",
        "    \"พ.ค.\": \"May\",\n",
        "    \"มิ.ย.\": \"June\",\n",
        "    \"ก.ค.\": \"July\",\n",
        "    \"ส.ค.\": \"August\",\n",
        "    \"ก.ย.\": \"September\",\n",
        "    \"ต.ค.\": \"October\",\n",
        "    \"พ.ย.\": \"November\",\n",
        "    \"ธ.ค.\": \"December\"\n",
        "}\n",
        "#print(monthlist)"
      ],
      "execution_count": null,
      "outputs": []
    },
    {
      "cell_type": "code",
      "metadata": {
        "id": "lnzT9_uDf3ce"
      },
      "source": [
        "m_ord = {\n",
        "    \"January\":1,\n",
        "    \"February\":2,\n",
        "    \"Mar\":3,\n",
        "    \"April\":4,\n",
        "    \"May\":5,\n",
        "    \"June\":6,\n",
        "    \"July\":7,\n",
        "    \"August\":8,\n",
        "    \"September\":9,\n",
        "    \"October\":10,\n",
        "    \"November\":11,\n",
        "    \"December\":12\n",
        "}\n",
        "#print(m_ord)"
      ],
      "execution_count": null,
      "outputs": []
    },
    {
      "cell_type": "code",
      "metadata": {
        "id": "sGA9ldBOf6Jp"
      },
      "source": [
        "m_ord2 = {}\n",
        "for k, v in m_ord.items():\n",
        "    m_ord2[v] = k\n",
        "#print(m_ord2)"
      ],
      "execution_count": null,
      "outputs": []
    },
    {
      "cell_type": "markdown",
      "metadata": {
        "id": "waKfPyIt7TSv"
      },
      "source": [
        "# ราคาปศุสัตว์"
      ]
    },
    {
      "cell_type": "code",
      "metadata": {
        "id": "vqzDgPuPSGo4"
      },
      "source": [
        "# url = \"http://www.thaifeedmill.com/tabid/78/Default.aspx\"\n",
        "# driver.get(url)\n",
        "# time.sleep(30)\n",
        "\n",
        "# element = driver.find_element_by_xpath('//*[@id=\"dnn_ctr435_HtmlModule_HtmlModule_lblContent\"]/table/tbody')"
      ],
      "execution_count": null,
      "outputs": []
    },
    {
      "cell_type": "code",
      "metadata": {
        "id": "iiYSvG0cdVaE"
      },
      "source": [
        "# list_file = element.get_attribute('innerText').replace(\"\\n\",\"\").replace(\"\\t\",\"\").split(\"DOWNLOAD\")\n",
        "# list_file = [x for x in list_file if x != '']\n",
        "\n",
        "# link_path = []\n",
        "# for i in range(len(list_file)):\n",
        "#     if i == 0:\n",
        "#         link_path.append('//*[@id=\"dnn_ctr435_HtmlModule_HtmlModule_lblContent\"]/table/tbody/tr['+str(i+1)+']/td[2]/p/font/a')\n",
        "#     else:\n",
        "#         link_path.append('//*[@id=\"dnn_ctr435_HtmlModule_HtmlModule_lblContent\"]/table/tbody/tr['+str(i+1)+']/td[2]/font/a')\n",
        "\n",
        "# link_file = []\n",
        "# for i in link_path:\n",
        "#     element = driver.find_element_by_xpath(i)\n",
        "#     temp = element.get_attribute('href')\n",
        "#     link_file.append(temp)\n",
        "\n",
        "# live_stock = dict(zip(list_file, link_file)) "
      ],
      "execution_count": null,
      "outputs": []
    },
    {
      "cell_type": "code",
      "metadata": {
        "id": "JhUN73rGdYwX"
      },
      "source": [
        "# index_list = dict()\n",
        "# for i in range(len(list_file)):\n",
        "#     index_list[i+1] = list_file[i]\n",
        "# #index_list"
      ],
      "execution_count": null,
      "outputs": []
    },
    {
      "cell_type": "code",
      "metadata": {
        "id": "mYtKfyMEe2Qp"
      },
      "source": [
        "# index_link = dict()\n",
        "# for i in range(len(link_file)):\n",
        "#     index_link[i+1] = link_file[i]\n",
        "# #index_link"
      ],
      "execution_count": null,
      "outputs": []
    },
    {
      "cell_type": "code",
      "metadata": {
        "id": "Zorkg11ZW6f3"
      },
      "source": [
        "# index_link"
      ],
      "execution_count": null,
      "outputs": []
    },
    {
      "cell_type": "code",
      "metadata": {
        "id": "6lB4X0rze40Y"
      },
      "source": [
        "# import pandas as pd\n",
        "# df = {}\n",
        "# for i in index_link:\n",
        "#     name = 'df'+str(i)\n",
        "#     print(name)\n",
        "#     try:\n",
        "#       df[name] = pd.read_excel(index_link[i])\n",
        "#     except:\n",
        "#       df[name] = \"\"\n",
        "#     time.sleep(10)\n",
        "#     #print(df[name])"
      ],
      "execution_count": null,
      "outputs": []
    },
    {
      "cell_type": "code",
      "metadata": {
        "id": "M2WtFmyYe7q6"
      },
      "source": [
        "# ลูกไก่เนื้อ = df[\"df1\"]\n",
        "# ลูกไก่เนื้อ = ลูกไก่เนื้อ[ลูกไก่เนื้อ['Unnamed: 0'].notna()]\n",
        "# ลูกไก่เนื้อ.columns = ลูกไก่เนื้อ.iloc[0]\n",
        "# ลูกไก่เนื้อ = ลูกไก่เนื้อ.drop(ลูกไก่เนื้อ.index[0])\n",
        "# ลูกไก่เนื้อ = ลูกไก่เนื้อ.drop(['เฉลี่ย','ต่ำสุด','สูงสุด'], axis=1)\n",
        "# ลูกไก่เนื้อ = ลูกไก่เนื้อ.rename(columns={\"เดือน\":\"year\"})\n",
        "\n",
        "# ลูกไก่เนื้อ = pd.melt(ลูกไก่เนื้อ, \n",
        "#             id_vars='year', \n",
        "#             value_vars=list(ลูกไก่เนื้อ.columns[1:]), # list of days of the week\n",
        "#             var_name='month', \n",
        "#             value_name='price')\n",
        "\n",
        "# ลูกไก่เนื้อ['unit'] = 'บาท/ตัว'\n",
        "# ลูกไก่เนื้อ['product'] = 'ลูกไก่เนื้อ/Day Old Chick'\n",
        "# ลูกไก่เนื้อ['source'] = 'สมาคมผู้ผลิตอาหารสัตว์ไทย'"
      ],
      "execution_count": null,
      "outputs": []
    },
    {
      "cell_type": "code",
      "metadata": {
        "id": "00KecgIafPqr"
      },
      "source": [
        "# ไก่เนื้อหน้าฟาร์ม = df[\"df2\"]\n",
        "# ไก่เนื้อหน้าฟาร์ม = ไก่เนื้อหน้าฟาร์ม[ไก่เนื้อหน้าฟาร์ม['Unnamed: 0'].notna()]\n",
        "# ไก่เนื้อหน้าฟาร์ม.columns = ไก่เนื้อหน้าฟาร์ม.iloc[0]\n",
        "# ไก่เนื้อหน้าฟาร์ม = ไก่เนื้อหน้าฟาร์ม.drop(ไก่เนื้อหน้าฟาร์ม.index[0])\n",
        "# ไก่เนื้อหน้าฟาร์ม = ไก่เนื้อหน้าฟาร์ม.drop(['เฉลี่ย','ต่ำสุด','สูงสุด'], axis=1)\n",
        "# ไก่เนื้อหน้าฟาร์ม = ไก่เนื้อหน้าฟาร์ม.rename(columns={\"เดือน\":\"year\"})\n",
        "\n",
        "# ไก่เนื้อหน้าฟาร์ม = pd.melt(ไก่เนื้อหน้าฟาร์ม, \n",
        "#             id_vars='year', \n",
        "#             value_vars=list(ไก่เนื้อหน้าฟาร์ม.columns[1:]), # list of days of the week\n",
        "#             var_name='month', \n",
        "#             value_name='price')\n",
        "\n",
        "# ไก่เนื้อหน้าฟาร์ม['unit'] = 'บาท/กิโลกรัม'\n",
        "# ไก่เนื้อหน้าฟาร์ม['product'] = 'ไก่เนื้อหน้าฟาร์ม/Broiler'\n",
        "# ไก่เนื้อหน้าฟาร์ม['source'] = 'สมาคมผู้ผลิตอาหารสัตว์ไทย'"
      ],
      "execution_count": null,
      "outputs": []
    },
    {
      "cell_type": "code",
      "metadata": {
        "id": "pCYhKk8BfSv0"
      },
      "source": [
        "# ไก่รุ่น = df[\"df3\"]\n",
        "# ไก่รุ่น = ไก่รุ่น[ไก่รุ่น['Unnamed: 0'].notna()]\n",
        "# ไก่รุ่น.columns = ไก่รุ่น.iloc[0]\n",
        "# ไก่รุ่น = ไก่รุ่น.drop(ไก่รุ่น.index[0])\n",
        "# ไก่รุ่น = ไก่รุ่น.drop(['เฉลี่ย','ต่ำสุด','สูงสุด'], axis=1)\n",
        "# ไก่รุ่น = ไก่รุ่น.rename(columns={\"เดือน\":\"year\"})\n",
        "\n",
        "# ไก่รุ่น = pd.melt(ไก่รุ่น, \n",
        "#             id_vars='year', \n",
        "#             value_vars=list(ไก่รุ่น.columns[1:]), # list of days of the week\n",
        "#             var_name='month', \n",
        "#             value_name='price')\n",
        "\n",
        "# ไก่รุ่น['unit'] = 'บาท/ตัว'\n",
        "# ไก่รุ่น['product'] = 'ไก่รุ่น - ไก่สาว/Pullet'\n",
        "# ไก่รุ่น['source'] = 'สมาคมผู้ผลิตอาหารสัตว์ไทย'"
      ],
      "execution_count": null,
      "outputs": []
    },
    {
      "cell_type": "code",
      "metadata": {
        "id": "CWpUxtb9fVva"
      },
      "source": [
        "# ลูกไก่ไข่ = df[\"df4\"]\n",
        "# ลูกไก่ไข่ = ลูกไก่ไข่[ลูกไก่ไข่['Unnamed: 0'].notna()]\n",
        "# ลูกไก่ไข่.columns = ลูกไก่ไข่.iloc[0]\n",
        "# ลูกไก่ไข่ = ลูกไก่ไข่.drop(ลูกไก่ไข่.index[0])\n",
        "# ลูกไก่ไข่ = ลูกไก่ไข่.drop(['เฉลี่ย','ต่ำสุด','สูงสุด'], axis=1)\n",
        "# ลูกไก่ไข่ = ลูกไก่ไข่.rename(columns={\"เดือน\":\"year\"})\n",
        "\n",
        "# ลูกไก่ไข่ = pd.melt(ลูกไก่ไข่, \n",
        "#             id_vars='year', \n",
        "#             value_vars=list(ลูกไก่ไข่.columns[1:]), # list of days of the week\n",
        "#             var_name='month', \n",
        "#             value_name='price')\n",
        "\n",
        "# ลูกไก่ไข่['unit'] = 'บาท/ตัว'\n",
        "# ลูกไก่ไข่['product'] = 'ลูกไก่ไข่/Day Old Layer Chick'\n",
        "# ลูกไก่ไข่['source'] = 'สมาคมผู้ผลิตอาหารสัตว์ไทย'"
      ],
      "execution_count": null,
      "outputs": []
    },
    {
      "cell_type": "code",
      "metadata": {
        "id": "8uIeD-9ffYrt"
      },
      "source": [
        "# ไข่ไก่คละ = df[\"df5\"]\n",
        "# ไข่ไก่คละ = ไข่ไก่คละ[ไข่ไก่คละ['Unnamed: 0'].notna()]\n",
        "# ไข่ไก่คละ.columns = ไข่ไก่คละ.iloc[0]\n",
        "# ไข่ไก่คละ = ไข่ไก่คละ.drop(ไข่ไก่คละ.index[0])\n",
        "# ไข่ไก่คละ = ไข่ไก่คละ.drop(['เฉลี่ย','ต่ำสุด','สูงสุด'], axis=1)\n",
        "# ไข่ไก่คละ = ไข่ไก่คละ.rename(columns={\"เดือน\":\"year\"})\n",
        "\n",
        "# ไข่ไก่คละ = ไข่ไก่คละ[ไข่ไก่คละ.columns[:13]]\n",
        "\n",
        "# ไข่ไก่คละ = pd.melt(ไข่ไก่คละ, \n",
        "#             id_vars='year', \n",
        "#             value_vars=list(ไข่ไก่คละ.columns[1:]), # list of days of the week\n",
        "#             var_name='month', \n",
        "#             value_name='price')\n",
        "\n",
        "# ไข่ไก่คละ['unit'] = 'บาท/100ฟอง'\n",
        "# ไข่ไก่คละ['product'] = 'ไข่ไก่คละ/Egg'\n",
        "# ไข่ไก่คละ['source'] = 'สมาคมผู้ผลิตอาหารสัตว์ไทย'"
      ],
      "execution_count": null,
      "outputs": []
    },
    {
      "cell_type": "code",
      "metadata": {
        "id": "Zn7gZN5lfbzv"
      },
      "source": [
        "# ลูกเป็ดไข่ = df[\"df6\"]\n",
        "# ลูกเป็ดไข่ = ลูกเป็ดไข่[ลูกเป็ดไข่['Unnamed: 0'].notna()]\n",
        "# ลูกเป็ดไข่.columns = ลูกเป็ดไข่.iloc[0]\n",
        "# ลูกเป็ดไข่ = ลูกเป็ดไข่.drop(ลูกเป็ดไข่.index[0])\n",
        "# ลูกเป็ดไข่ = ลูกเป็ดไข่.drop(['เฉลี่ย','ต่ำสุด','สูงสุด'], axis=1)\n",
        "# ลูกเป็ดไข่ = ลูกเป็ดไข่.rename(columns={\"เดือน\":\"year\"})\n",
        "\n",
        "# ลูกเป็ดไข่ = pd.melt(ลูกเป็ดไข่, \n",
        "#             id_vars='year', \n",
        "#             value_vars=list(ลูกเป็ดไข่.columns[1:]), # list of days of the week\n",
        "#             var_name='month', \n",
        "#             value_name='price')\n",
        "\n",
        "# ลูกเป็ดไข่['unit'] = 'บาท/ตัว'\n",
        "# ลูกเป็ดไข่['product'] = 'ลูกเป็ดไข่ ซี พี โกลด์เด้นท์/Day Old Layer Duck'\n",
        "# ลูกเป็ดไข่['source'] = 'สมาคมผู้ผลิตอาหารสัตว์ไทย'"
      ],
      "execution_count": null,
      "outputs": []
    },
    {
      "cell_type": "code",
      "metadata": {
        "id": "Ov8vCVWrffY3"
      },
      "source": [
        "# try:\n",
        "#   เป็ดเชอร์รี่ = df[\"df7\"]\n",
        "#   เป็ดเชอร์รี่ = เป็ดเชอร์รี่[เป็ดเชอร์รี่['Unnamed: 0'].notna()]\n",
        "#   เป็ดเชอร์รี่.columns = เป็ดเชอร์รี่.iloc[0]\n",
        "#   เป็ดเชอร์รี่ = เป็ดเชอร์รี่.drop(เป็ดเชอร์รี่.index[0])\n",
        "#   เป็ดเชอร์รี่ = เป็ดเชอร์รี่.drop(['เฉลี่ย','ต่ำสุด','สูงสุด'], axis=1)\n",
        "#   เป็ดเชอร์รี่ = เป็ดเชอร์รี่.rename(columns={\"เดือน\":\"year\"})\n",
        "\n",
        "#   เป็ดเชอร์รี่ = pd.melt(เป็ดเชอร์รี่, \n",
        "#               id_vars='year', \n",
        "#               value_vars=list(เป็ดเชอร์รี่.columns[1:]), # list of days of the week\n",
        "#               var_name='month', \n",
        "#               value_name='price')\n",
        "\n",
        "#   เป็ดเชอร์รี่['unit'] = 'บาท/กิโลกรัม'\n",
        "#   เป็ดเชอร์รี่['product'] = 'เป็ดเชอร์รี่หน้าฟาร์ม/Meat Duck (Cherry)'\n",
        "#   เป็ดเชอร์รี่['source'] = 'สมาคมผู้ผลิตอาหารสัตว์ไทย'\n",
        "# except:\n",
        "#   เป็ดเชอร์รี่ = ''"
      ],
      "execution_count": null,
      "outputs": []
    },
    {
      "cell_type": "code",
      "metadata": {
        "id": "9FUcIPj-fiyS"
      },
      "source": [
        "# ลูกเป็ดเชอร์รี่ = df[\"df8\"]\n",
        "# ลูกเป็ดเชอร์รี่ = ลูกเป็ดเชอร์รี่[ลูกเป็ดเชอร์รี่['Unnamed: 0'].notna()]\n",
        "# ลูกเป็ดเชอร์รี่.columns = ลูกเป็ดเชอร์รี่.iloc[0]\n",
        "# ลูกเป็ดเชอร์รี่ = ลูกเป็ดเชอร์รี่.drop(ลูกเป็ดเชอร์รี่.index[0])\n",
        "# ลูกเป็ดเชอร์รี่ = ลูกเป็ดเชอร์รี่.drop(['เฉลี่ย','ต่ำสุด','สูงสุด'], axis=1)\n",
        "# ลูกเป็ดเชอร์รี่ = ลูกเป็ดเชอร์รี่.rename(columns={\"เดือน\":\"year\"})\n",
        "\n",
        "# ลูกเป็ดเชอร์รี่ = pd.melt(ลูกเป็ดเชอร์รี่, \n",
        "#             id_vars='year', \n",
        "#             value_vars=list(ลูกเป็ดเชอร์รี่.columns[1:]), # list of days of the week\n",
        "#             var_name='month', \n",
        "#             value_name='price')\n",
        "\n",
        "# ลูกเป็ดเชอร์รี่['unit'] = 'บาท/ตัว'\n",
        "# ลูกเป็ดเชอร์รี่['product'] = 'ลูกเป็ดเชอร์รี่/Day Old Duck (Cherry)'\n",
        "# ลูกเป็ดเชอร์รี่['source'] = 'สมาคมผู้ผลิตอาหารสัตว์ไทย'"
      ],
      "execution_count": null,
      "outputs": []
    },
    {
      "cell_type": "code",
      "metadata": {
        "id": "lO34A2_Hfmcd"
      },
      "source": [
        "# ลูกสุกรขุน = df[\"df9\"]\n",
        "# ลูกสุกรขุน = ลูกสุกรขุน[ลูกสุกรขุน['Unnamed: 0'].notna()]\n",
        "# ลูกสุกรขุน.columns = ลูกสุกรขุน.iloc[0]\n",
        "# ลูกสุกรขุน = ลูกสุกรขุน.drop(ลูกสุกรขุน.index[0])\n",
        "# ลูกสุกรขุน = ลูกสุกรขุน.drop(['เฉลี่ย','ต่ำสุด','สูงสุด'], axis=1)\n",
        "# ลูกสุกรขุน = ลูกสุกรขุน.rename(columns={\"เดือน\":\"year\"})\n",
        "\n",
        "# ลูกสุกรขุน = pd.melt(ลูกสุกรขุน, \n",
        "#             id_vars='year', \n",
        "#             value_vars=list(ลูกสุกรขุน.columns[1:]), # list of days of the week\n",
        "#             var_name='month', \n",
        "#             value_name='price')\n",
        "\n",
        "# ลูกสุกรขุน['unit'] = 'บาท/ตัว'\n",
        "# ลูกสุกรขุน['product'] = 'ลูกสุกรขุน/Piglet'\n",
        "# ลูกสุกรขุน['source'] = 'สมาคมผู้ผลิตอาหารสัตว์ไทย'"
      ],
      "execution_count": null,
      "outputs": []
    },
    {
      "cell_type": "code",
      "metadata": {
        "id": "9dFSaTEofqMj"
      },
      "source": [
        "# สุกรขุนหน้าฟาร์ม = df[\"df10\"]\n",
        "# สุกรขุนหน้าฟาร์ม = สุกรขุนหน้าฟาร์ม[สุกรขุนหน้าฟาร์ม['Unnamed: 0'].notna()]\n",
        "# สุกรขุนหน้าฟาร์ม.columns = สุกรขุนหน้าฟาร์ม.iloc[0]\n",
        "# สุกรขุนหน้าฟาร์ม = สุกรขุนหน้าฟาร์ม.drop(สุกรขุนหน้าฟาร์ม.index[0])\n",
        "# สุกรขุนหน้าฟาร์ม = สุกรขุนหน้าฟาร์ม.drop(['เฉลี่ย','ต่ำสุด','สูงสุด'], axis=1)\n",
        "# สุกรขุนหน้าฟาร์ม = สุกรขุนหน้าฟาร์ม.rename(columns={\"เดือน\":\"year\"})\n",
        "\n",
        "# สุกรขุนหน้าฟาร์ม = pd.melt(สุกรขุนหน้าฟาร์ม, \n",
        "#             id_vars='year', \n",
        "#             value_vars=list(สุกรขุนหน้าฟาร์ม.columns[1:]), # list of days of the week\n",
        "#             var_name='month', \n",
        "#             value_name='price')\n",
        "\n",
        "# สุกรขุนหน้าฟาร์ม['unit'] = 'บาท/กิโลกรัม'\n",
        "# สุกรขุนหน้าฟาร์ม['product'] = 'สุกรขุนหน้าฟาร์ม/Hog'\n",
        "# สุกรขุนหน้าฟาร์ม['source'] = 'สมาคมผู้ผลิตอาหารสัตว์ไทย'"
      ],
      "execution_count": null,
      "outputs": []
    },
    {
      "cell_type": "code",
      "metadata": {
        "id": "t35v_Zw8dVoN"
      },
      "source": [
        "# df = [ลูกไก่เนื้อ,ไก่เนื้อหน้าฟาร์ม,ไก่รุ่น,ลูกไก่ไข่,ไข่ไก่คละ,ลูกเป็ดไข่,เป็ดเชอร์รี่,ลูกเป็ดเชอร์รี่,ลูกสุกรขุน,สุกรขุนหน้าฟาร์ม]\n",
        "# dff = []\n",
        "# for i in range(len(df)):\n",
        "#   if len(df[i]) > 0:\n",
        "#     print(len(df[i]))\n",
        "#     dff.append(df[i])"
      ],
      "execution_count": null,
      "outputs": []
    },
    {
      "cell_type": "code",
      "metadata": {
        "id": "AiYdAgpAftpZ"
      },
      "source": [
        "# ราคาปศุสัตว์ = pd.concat(dff)\n",
        "# #ราคาปศุสัตว์"
      ],
      "execution_count": null,
      "outputs": []
    },
    {
      "cell_type": "code",
      "metadata": {
        "id": "a6N8rZyuf9Jk"
      },
      "source": [
        "# ราคาปศุสัตว์ = ราคาปศุสัตว์.replace({\"month\": monthlist})\n",
        "# #ราคาปศุสัตว์"
      ],
      "execution_count": null,
      "outputs": []
    },
    {
      "cell_type": "code",
      "metadata": {
        "id": "QPlQ-nx6gB24"
      },
      "source": [
        "# month = pd.DataFrame.from_dict(m_ord,orient='index').reset_index().rename(columns={'index':'month',0:'month_order'})"
      ],
      "execution_count": null,
      "outputs": []
    },
    {
      "cell_type": "code",
      "metadata": {
        "id": "eq6uLRW5gE_L"
      },
      "source": [
        "# ราคาปศุสัตว์['year'] = ราคาปศุสัตว์['year']-543\n",
        "# ราคาปศุสัตว์ = pd.merge(ราคาปศุสัตว์,month,left_on='month',right_on='month',how='left')"
      ],
      "execution_count": null,
      "outputs": []
    },
    {
      "cell_type": "code",
      "metadata": {
        "id": "fU6B-7yDgMt8"
      },
      "source": [
        "# ราคาปศุสัตว์['date'] = pd.to_datetime((ราคาปศุสัตว์.year*10000+ราคาปศุสัตว์.month_order*100+1).apply(str),format='%Y%m%d')\n",
        "# ราคาปศุสัตว์ = ราคาปศุสัตว์[['year','month','date','price','unit','product','source']]\n",
        "# #ราคาปศุสัตว์"
      ],
      "execution_count": null,
      "outputs": []
    },
    {
      "cell_type": "code",
      "metadata": {
        "id": "0Y9hqfNNgPPJ"
      },
      "source": [
        "# import numpy as np\n",
        "# ราคาปศุสัตว์[\"remark\"] = np.nan\n",
        "# #ราคาปศุสัตว์"
      ],
      "execution_count": null,
      "outputs": []
    },
    {
      "cell_type": "code",
      "metadata": {
        "id": "nkJmmUdVgfiJ"
      },
      "source": [
        "# ราคาปศุสัตว์['product group'] = 'ปศุสัตว์'"
      ],
      "execution_count": null,
      "outputs": []
    },
    {
      "cell_type": "markdown",
      "metadata": {
        "id": "WJEPz4uv8VpM"
      },
      "source": [
        "# ราคาวัตถุดิบอาหารสัตว์"
      ]
    },
    {
      "cell_type": "code",
      "metadata": {
        "id": "xGvh3gdgoJHL"
      },
      "source": [
        "# element = driver.find_element_by_xpath('//*[@id=\"dnn_ctr436_HtmlModule_HtmlModule_lblContent\"]/div[1]/table')"
      ],
      "execution_count": null,
      "outputs": []
    },
    {
      "cell_type": "code",
      "metadata": {
        "id": "wafK_oOroNlj"
      },
      "source": [
        "# list_file = element.get_attribute('innerText').replace(\"\\n\",\"\").replace(\"\\t\",\"\").split(\"DOWNLOAD\")\n",
        "# list_file = [x for x in list_file if x != '']"
      ],
      "execution_count": null,
      "outputs": []
    },
    {
      "cell_type": "code",
      "metadata": {
        "id": "MID0YK5xoP-b"
      },
      "source": [
        "# link_path = []\n",
        "# for i in range(len(list_file)):\n",
        "#     if i+1==12:\n",
        "#         link_path.append('//*[@id=\"dnn_ctr436_HtmlModule_HtmlModule_lblContent\"]/div[1]/table/tbody/tr['+str(i+1)+']/td[2]/p/font/a')\n",
        "#     else:\n",
        "#         link_path.append('//*[@id=\"dnn_ctr436_HtmlModule_HtmlModule_lblContent\"]/div[1]/table/tbody/tr['+str(i+1)+']/td[2]/font/a')"
      ],
      "execution_count": null,
      "outputs": []
    },
    {
      "cell_type": "code",
      "metadata": {
        "id": "hPp_PRo0oTeK"
      },
      "source": [
        "# link_file = []\n",
        "# for i in link_path:\n",
        "#     element = driver.find_element_by_xpath(i)\n",
        "#     temp = element.get_attribute('href')\n",
        "#     link_file.append(temp)"
      ],
      "execution_count": null,
      "outputs": []
    },
    {
      "cell_type": "code",
      "metadata": {
        "id": "x0UuXN9woXP0"
      },
      "source": [
        "# raw_material = dict(zip(list_file, link_file)) "
      ],
      "execution_count": null,
      "outputs": []
    },
    {
      "cell_type": "code",
      "metadata": {
        "id": "8AgL3GkmoaO-"
      },
      "source": [
        "# index_list = dict()\n",
        "# for i in range(len(list_file)):\n",
        "#     index_list[i+1] = list_file[i]\n",
        "# #index_list"
      ],
      "execution_count": null,
      "outputs": []
    },
    {
      "cell_type": "code",
      "metadata": {
        "id": "tajjv2B0ocWn"
      },
      "source": [
        "# index_link = dict()\n",
        "# for i in range(len(link_file)):\n",
        "#     index_link[i+1] = link_file[i]\n",
        "# #index_link"
      ],
      "execution_count": null,
      "outputs": []
    },
    {
      "cell_type": "code",
      "metadata": {
        "id": "riMBVFHQofBs"
      },
      "source": [
        "# df = {}\n",
        "# for i in index_link:\n",
        "#     name = 'df'+str(i)\n",
        "#     #print(name)\n",
        "#     df[name] = pd.read_excel(index_link[i])\n",
        "#     #print(df[name])"
      ],
      "execution_count": null,
      "outputs": []
    },
    {
      "cell_type": "code",
      "metadata": {
        "id": "K3zL2LMfohZS"
      },
      "source": [
        "# ข้าวโพดอาหารสัตว์ = df[\"df1\"]\n",
        "# ข้าวโพดอาหารสัตว์ = ข้าวโพดอาหารสัตว์[ข้าวโพดอาหารสัตว์['Unnamed: 0'].notna()]\n",
        "# ข้าวโพดอาหารสัตว์.columns = ข้าวโพดอาหารสัตว์.iloc[0]\n",
        "# ข้าวโพดอาหารสัตว์ = ข้าวโพดอาหารสัตว์.drop(ข้าวโพดอาหารสัตว์.index[0])\n",
        "# ข้าวโพดอาหารสัตว์ = ข้าวโพดอาหารสัตว์.drop(['เฉลี่ย','ต่ำสุด','สูงสุด'], axis=1)\n",
        "# ข้าวโพดอาหารสัตว์ = ข้าวโพดอาหารสัตว์.rename(columns={\"เดือน\":\"year\"})\n",
        "\n",
        "# ข้าวโพดอาหารสัตว์ = pd.melt(ข้าวโพดอาหารสัตว์, \n",
        "#             id_vars='year', \n",
        "#             value_vars=list(ข้าวโพดอาหารสัตว์.columns[1:]), # list of days of the week\n",
        "#             var_name='month', \n",
        "#             value_name='price')\n",
        "\n",
        "# ข้าวโพดอาหารสัตว์['unit'] = 'บาท/กิโลกรัม'\n",
        "# ข้าวโพดอาหารสัตว์['product'] = 'ข้าวโพดอาหารสัตว์/Corn'\n",
        "# ข้าวโพดอาหารสัตว์['source'] = 'สมาคมผู้ผลิตอาหารสัตว์ไทย'\n",
        "# ข้าวโพดอาหารสัตว์['remark'] = 'ราคา : ณ ราคาส่งถึงโรงงาน'"
      ],
      "execution_count": null,
      "outputs": []
    },
    {
      "cell_type": "code",
      "metadata": {
        "id": "twlnGhJDpgkS"
      },
      "source": [
        "# ปลาป่น = df[\"df2\"]\n",
        "# ปลาป่น = ปลาป่น[ปลาป่น['Unnamed: 0'].notna()]\n",
        "# ปลาป่น.columns = ปลาป่น.iloc[0]\n",
        "# ปลาป่น = ปลาป่น.drop(ปลาป่น.index[0])\n",
        "# ปลาป่น = ปลาป่น.drop(['เฉลี่ย','ต่ำสุด','สูงสุด'], axis=1)\n",
        "# ปลาป่น = ปลาป่น.rename(columns={\"เดือน\":\"year\"})\n",
        "\n",
        "# ปลาป่น = pd.melt(ปลาป่น, \n",
        "#             id_vars='year', \n",
        "#             value_vars=list(ปลาป่น.columns[1:]), # list of days of the week\n",
        "#             var_name='month', \n",
        "#             value_name='price')\n",
        "\n",
        "# ปลาป่น['unit'] = 'บาท/กิโลกรัม'\n",
        "# ปลาป่น['product'] = 'ปลาป่น/Fishmeal'\n",
        "# ปลาป่น['source'] = 'สมาคมผู้ผลิตอาหารสัตว์ไทย'\n",
        "# ปลาป่น['remark'] = 'ราคา : ณ ราคาส่งถึงโรงงาน'"
      ],
      "execution_count": null,
      "outputs": []
    },
    {
      "cell_type": "code",
      "metadata": {
        "id": "chx3-F_SpjoH"
      },
      "source": [
        "# ปลาป่นนำเข้า = df[\"df3\"]\n",
        "# ปลาป่นนำเข้า = ปลาป่นนำเข้า[ปลาป่นนำเข้า['Unnamed: 0'].notna()]\n",
        "# ปลาป่นนำเข้า.columns = ปลาป่นนำเข้า.iloc[0]\n",
        "# ปลาป่นนำเข้า = ปลาป่นนำเข้า.drop(ปลาป่นนำเข้า.index[0])\n",
        "# ปลาป่นนำเข้า = ปลาป่นนำเข้า.drop(['เฉลี่ย','ต่ำสุด','สูงสุด'], axis=1)\n",
        "# ปลาป่นนำเข้า = ปลาป่นนำเข้า.rename(columns={\"เดือน\":\"year\"})\n",
        "\n",
        "# ปลาป่นนำเข้า = pd.melt(ปลาป่นนำเข้า, \n",
        "#             id_vars='year', \n",
        "#             value_vars=list(ปลาป่นนำเข้า.columns[1:]), # list of days of the week\n",
        "#             var_name='month', \n",
        "#             value_name='price')\n",
        "\n",
        "# ปลาป่นนำเข้า['unit'] = 'บาท/กิโลกรัม'\n",
        "# ปลาป่นนำเข้า['product'] = 'ปลาป่นนำเข้า/Imported Fishmeal'\n",
        "# ปลาป่นนำเข้า['source'] = 'สมาคมผู้ผลิตอาหารสัตว์ไทย'\n",
        "# ปลาป่นนำเข้า['remark'] = 'ราคา : ณ ราคาส่งถึงโรงงาน'"
      ],
      "execution_count": null,
      "outputs": []
    },
    {
      "cell_type": "code",
      "metadata": {
        "id": "hSTN3qQcpmxd"
      },
      "source": [
        "# กากถั่วเหลืองต่างประเทศ = df[\"df4\"]\n",
        "# กากถั่วเหลืองต่างประเทศ = กากถั่วเหลืองต่างประเทศ[กากถั่วเหลืองต่างประเทศ['Unnamed: 0'].notna()]\n",
        "# กากถั่วเหลืองต่างประเทศ.columns = กากถั่วเหลืองต่างประเทศ.iloc[0]\n",
        "# กากถั่วเหลืองต่างประเทศ = กากถั่วเหลืองต่างประเทศ.drop(กากถั่วเหลืองต่างประเทศ.index[0])\n",
        "# กากถั่วเหลืองต่างประเทศ = กากถั่วเหลืองต่างประเทศ.drop(['เฉลี่ย','ต่ำสุด','สูงสุด'], axis=1)\n",
        "# กากถั่วเหลืองต่างประเทศ = กากถั่วเหลืองต่างประเทศ.rename(columns={\"เดือน\":\"year\"})\n",
        "\n",
        "# กากถั่วเหลืองต่างประเทศ = pd.melt(กากถั่วเหลืองต่างประเทศ, \n",
        "#             id_vars='year', \n",
        "#             value_vars=list(กากถั่วเหลืองต่างประเทศ.columns[1:]), # list of days of the week\n",
        "#             var_name='month', \n",
        "#             value_name='price')\n",
        "\n",
        "# กากถั่วเหลืองต่างประเทศ['unit'] = 'บาท/กิโลกรัม'\n",
        "# กากถั่วเหลืองต่างประเทศ['product'] = 'กากถั่วเหลืองต่างประเทศ/Imported Soybean Meal'\n",
        "# กากถั่วเหลืองต่างประเทศ['source'] = 'สมาคมผู้ผลิตอาหารสัตว์ไทย'\n",
        "# กากถั่วเหลืองต่างประเทศ['remark'] = 'ราคา : ณ ราคาส่งถึงโรงงาน'"
      ],
      "execution_count": null,
      "outputs": []
    },
    {
      "cell_type": "code",
      "metadata": {
        "id": "mXPDanCCpqZW"
      },
      "source": [
        "# กากถั่วเหลืองภายใน = df[\"df5\"]\n",
        "# กากถั่วเหลืองภายใน = กากถั่วเหลืองภายใน[กากถั่วเหลืองภายใน['Unnamed: 0'].notna()]\n",
        "# กากถั่วเหลืองภายใน.columns = กากถั่วเหลืองภายใน.iloc[0]\n",
        "# กากถั่วเหลืองภายใน = กากถั่วเหลืองภายใน.drop(กากถั่วเหลืองภายใน.index[0])\n",
        "# กากถั่วเหลืองภายใน = กากถั่วเหลืองภายใน.drop(['เฉลี่ย','ต่ำสุด','สูงสุด'], axis=1)\n",
        "# กากถั่วเหลืองภายใน = กากถั่วเหลืองภายใน.rename(columns={\"เดือน\":\"year\"})\n",
        "\n",
        "# กากถั่วเหลืองภายใน = pd.melt(กากถั่วเหลืองภายใน, \n",
        "#             id_vars='year', \n",
        "#             value_vars=list(กากถั่วเหลืองภายใน.columns[1:]), # list of days of the week\n",
        "#             var_name='month', \n",
        "#             value_name='price')\n",
        "\n",
        "# กากถั่วเหลืองภายใน['unit'] = 'บาท/กิโลกรัม'\n",
        "# กากถั่วเหลืองภายใน['product'] = 'กากถั่วเหลืองภายใน/Domestic Soybean Meal'\n",
        "# กากถั่วเหลืองภายใน['source'] = 'สมาคมผู้ผลิตอาหารสัตว์ไทย'\n",
        "# กากถั่วเหลืองภายใน['remark'] = 'ราคา : ณ ราคาส่งถึงโรงงาน'"
      ],
      "execution_count": null,
      "outputs": []
    },
    {
      "cell_type": "code",
      "metadata": {
        "id": "wBrkspIxpts6"
      },
      "source": [
        "# กากถั่วเหลืองเมล็ดนำเข้า = df[\"df6\"]\n",
        "# กากถั่วเหลืองเมล็ดนำเข้า = กากถั่วเหลืองเมล็ดนำเข้า[กากถั่วเหลืองเมล็ดนำเข้า['Unnamed: 0'].notna()]\n",
        "# กากถั่วเหลืองเมล็ดนำเข้า.columns = กากถั่วเหลืองเมล็ดนำเข้า.iloc[0]\n",
        "# กากถั่วเหลืองเมล็ดนำเข้า = กากถั่วเหลืองเมล็ดนำเข้า.drop(กากถั่วเหลืองเมล็ดนำเข้า.index[0])\n",
        "# กากถั่วเหลืองเมล็ดนำเข้า = กากถั่วเหลืองเมล็ดนำเข้า.drop(['เฉลี่ย','ต่ำสุด','สูงสุด'], axis=1)\n",
        "# กากถั่วเหลืองเมล็ดนำเข้า = กากถั่วเหลืองเมล็ดนำเข้า.rename(columns={\"เดือน\":\"year\"})\n",
        "\n",
        "# กากถั่วเหลืองเมล็ดนำเข้า = pd.melt(กากถั่วเหลืองเมล็ดนำเข้า, \n",
        "#             id_vars='year', \n",
        "#             value_vars=list(กากถั่วเหลืองเมล็ดนำเข้า.columns[1:]), # list of days of the week\n",
        "#             var_name='month', \n",
        "#             value_name='price')\n",
        "\n",
        "# กากถั่วเหลืองเมล็ดนำเข้า['unit'] = 'บาท/กิโลกรัม'\n",
        "# กากถั่วเหลืองเมล็ดนำเข้า['product'] = 'กากถั่วเหลืองเมล็ดนำเข้า/Soybean Meal Imported Seed'\n",
        "# กากถั่วเหลืองเมล็ดนำเข้า['source'] = 'สมาคมผู้ผลิตอาหารสัตว์ไทย'\n",
        "# กากถั่วเหลืองเมล็ดนำเข้า['remark'] = 'ราคา : ณ ราคาส่งถึงโรงงาน'"
      ],
      "execution_count": null,
      "outputs": []
    },
    {
      "cell_type": "code",
      "metadata": {
        "id": "xRZac3Pwpw5X"
      },
      "source": [
        "# กากถั่วเหลืองกะเทาะเปลือก = df[\"df7\"]\n",
        "# กากถั่วเหลืองกะเทาะเปลือก = กากถั่วเหลืองกะเทาะเปลือก[กากถั่วเหลืองกะเทาะเปลือก['Unnamed: 0'].notna()]\n",
        "# กากถั่วเหลืองกะเทาะเปลือก.columns = กากถั่วเหลืองกะเทาะเปลือก.iloc[0]\n",
        "# กากถั่วเหลืองกะเทาะเปลือก = กากถั่วเหลืองกะเทาะเปลือก.drop(กากถั่วเหลืองกะเทาะเปลือก.index[0])\n",
        "# กากถั่วเหลืองกะเทาะเปลือก = กากถั่วเหลืองกะเทาะเปลือก.drop(['เฉลี่ย','ต่ำสุด','สูงสุด'], axis=1)\n",
        "# กากถั่วเหลืองกะเทาะเปลือก = กากถั่วเหลืองกะเทาะเปลือก.rename(columns={\"เดือน\":\"year\"})\n",
        "\n",
        "# กากถั่วเหลืองกะเทาะเปลือก = pd.melt(กากถั่วเหลืองกะเทาะเปลือก, \n",
        "#             id_vars='year', \n",
        "#             value_vars=list(กากถั่วเหลืองกะเทาะเปลือก.columns[1:]), # list of days of the week\n",
        "#             var_name='month', \n",
        "#             value_name='price')\n",
        "\n",
        "# กากถั่วเหลืองกะเทาะเปลือก['unit'] = 'บาท/กิโลกรัม'\n",
        "# กากถั่วเหลืองกะเทาะเปลือก['product'] = 'กากถั่วเหลืองกะเทาะเปลือก/Dehulled Soybean Meal'\n",
        "# กากถั่วเหลืองกะเทาะเปลือก['source'] = 'สมาคมผู้ผลิตอาหารสัตว์ไทย'"
      ],
      "execution_count": null,
      "outputs": []
    },
    {
      "cell_type": "code",
      "metadata": {
        "id": "YavwVk8Fp1Uq"
      },
      "source": [
        "# รำสด = df[\"df8\"]\n",
        "# รำสด = รำสด[รำสด['Unnamed: 0'].notna()]\n",
        "# รำสด.columns = รำสด.iloc[0]\n",
        "# รำสด = รำสด.drop(รำสด.index[0])\n",
        "# รำสด = รำสด.drop(['เฉลี่ย','ต่ำสุด','สูงสุด'], axis=1)\n",
        "# รำสด = รำสด.rename(columns={\"เดือน\":\"year\"})\n",
        "\n",
        "# รำสด = pd.melt(รำสด, \n",
        "#             id_vars='year', \n",
        "#             value_vars=list(รำสด.columns[1:]), # list of days of the week\n",
        "#             var_name='month', \n",
        "#             value_name='price')\n",
        "\n",
        "# รำสด['unit'] = 'บาท/กิโลกรัม'\n",
        "# รำสด['product'] = 'รำสด/Rice Bran'\n",
        "# รำสด['source'] = 'สมาคมผู้ผลิตอาหารสัตว์ไทย'\n",
        "# รำสด['remark'] = 'ราคา : ณ ราคาส่งถึงโรงงาน'"
      ],
      "execution_count": null,
      "outputs": []
    },
    {
      "cell_type": "code",
      "metadata": {
        "id": "-lKs7dbdp5PL"
      },
      "source": [
        "# กากรำสกัดน้ำมัน = df[\"df9\"]\n",
        "# กากรำสกัดน้ำมัน = กากรำสกัดน้ำมัน[กากรำสกัดน้ำมัน['Unnamed: 0'].notna()]\n",
        "# กากรำสกัดน้ำมัน.columns = กากรำสกัดน้ำมัน.iloc[0]\n",
        "# กากรำสกัดน้ำมัน = กากรำสกัดน้ำมัน.drop(กากรำสกัดน้ำมัน.index[0])\n",
        "# กากรำสกัดน้ำมัน = กากรำสกัดน้ำมัน.drop(['เฉลี่ย','ต่ำสุด','สูงสุด'], axis=1)\n",
        "# กากรำสกัดน้ำมัน = กากรำสกัดน้ำมัน.rename(columns={\"เดือน\":\"year\"})\n",
        "\n",
        "# กากรำสกัดน้ำมัน = pd.melt(กากรำสกัดน้ำมัน, \n",
        "#             id_vars='year', \n",
        "#             value_vars=list(กากรำสกัดน้ำมัน.columns[1:]), # list of days of the week\n",
        "#             var_name='month', \n",
        "#             value_name='price')\n",
        "\n",
        "# กากรำสกัดน้ำมัน['unit'] = 'บาท/กิโลกรัม'\n",
        "# กากรำสกัดน้ำมัน['product'] = 'กากรำสกัดน้ำมัน/Rice Bran Solvent Meal'\n",
        "# กากรำสกัดน้ำมัน['source'] = 'สมาคมผู้ผลิตอาหารสัตว์ไทย'\n",
        "# กากรำสกัดน้ำมัน['remark'] = 'ราคา : ณ ราคาส่งถึงโรงงาน'"
      ],
      "execution_count": null,
      "outputs": []
    },
    {
      "cell_type": "code",
      "metadata": {
        "id": "aV8wFx4Lp9lj"
      },
      "source": [
        "# ปลายข้าว = df[\"df10\"]\n",
        "# ปลายข้าว = ปลายข้าว[ปลายข้าว['Unnamed: 0'].notna()]\n",
        "# ปลายข้าว.columns = ปลายข้าว.iloc[0]\n",
        "# ปลายข้าว = ปลายข้าว.drop(ปลายข้าว.index[0])\n",
        "# ปลายข้าว = ปลายข้าว.drop(['เฉลี่ย','ต่ำสุด','สูงสุด'], axis=1)\n",
        "# ปลายข้าว = ปลายข้าว.rename(columns={\"เดือน\":\"year\"})\n",
        "\n",
        "# ปลายข้าว = pd.melt(ปลายข้าว, \n",
        "#             id_vars='year', \n",
        "#             value_vars=list(ปลายข้าว.columns[1:]), # list of days of the week\n",
        "#             var_name='month', \n",
        "#             value_name='price')\n",
        "\n",
        "# ปลายข้าว['unit'] = 'บาท/กิโลกรัม'\n",
        "# ปลายข้าว['product'] = 'ปลายข้าว/Broken Rice'\n",
        "# ปลายข้าว['source'] = 'สมาคมผู้ผลิตอาหารสัตว์ไทย'\n",
        "# ปลายข้าว['remark'] = 'ราคา : ณ ราคาส่งถึงโรงงาน'"
      ],
      "execution_count": null,
      "outputs": []
    },
    {
      "cell_type": "code",
      "metadata": {
        "id": "a5tk5J3uqAjd"
      },
      "source": [
        "# มันสำปะหลังเส้น = df[\"df11\"]\n",
        "# มันสำปะหลังเส้น = มันสำปะหลังเส้น[มันสำปะหลังเส้น['Unnamed: 0'].notna()]\n",
        "# มันสำปะหลังเส้น.columns = มันสำปะหลังเส้น.iloc[0]\n",
        "# มันสำปะหลังเส้น = มันสำปะหลังเส้น.drop(มันสำปะหลังเส้น.index[0])\n",
        "# มันสำปะหลังเส้น = มันสำปะหลังเส้น.drop(['เฉลี่ย','ต่ำสุด','สูงสุด'], axis=1)\n",
        "# มันสำปะหลังเส้น = มันสำปะหลังเส้น.rename(columns={\"เดือน\":\"year\"})\n",
        "\n",
        "# มันสำปะหลังเส้น = pd.melt(มันสำปะหลังเส้น, \n",
        "#             id_vars='year', \n",
        "#             value_vars=list(มันสำปะหลังเส้น.columns[1:]), # list of days of the week\n",
        "#             var_name='month', \n",
        "#             value_name='price')\n",
        "\n",
        "# มันสำปะหลังเส้น['unit'] = 'บาท/กิโลกรัม'\n",
        "# มันสำปะหลังเส้น['product'] = 'มันสำปะหลังเส้น/Cassava Chip'\n",
        "# มันสำปะหลังเส้น['source'] = 'สมาคมผู้ผลิตอาหารสัตว์ไทย'\n",
        "# มันสำปะหลังเส้น['remark'] = 'ราคา : ณ ราคาส่งถึงโรงงาน'"
      ],
      "execution_count": null,
      "outputs": []
    },
    {
      "cell_type": "code",
      "metadata": {
        "id": "MWAtZejFqDt-"
      },
      "source": [
        "# WHEATBRAN = df[\"df12\"]\n",
        "# WHEATBRAN = WHEATBRAN[WHEATBRAN['Unnamed: 0'].notna()]\n",
        "# WHEATBRAN.columns = WHEATBRAN.iloc[0]\n",
        "# WHEATBRAN = WHEATBRAN.drop(WHEATBRAN.index[0])\n",
        "# WHEATBRAN = WHEATBRAN.drop(['เฉลี่ย','ต่ำสุด','สูงสุด'], axis=1)\n",
        "# WHEATBRAN = WHEATBRAN.rename(columns={\"เดือน\":\"year\"})\n",
        "\n",
        "# WHEATBRAN = pd.melt(WHEATBRAN, \n",
        "#             id_vars='year', \n",
        "#             value_vars=list(WHEATBRAN.columns[1:]), # list of days of the week\n",
        "#             var_name='month', \n",
        "#             value_name='price')\n",
        "\n",
        "# WHEATBRAN['unit'] = 'บาท/กิโลกรัม'\n",
        "# WHEATBRAN['product'] = 'WHEAT BRAN'\n",
        "# WHEATBRAN['source'] = 'สมาคมผู้ผลิตอาหารสัตว์ไทย'\n",
        "# WHEATBRAN['remark'] = 'ราคา : ณ ราคาส่งถึงโรงงาน'"
      ],
      "execution_count": null,
      "outputs": []
    },
    {
      "cell_type": "code",
      "metadata": {
        "id": "Pj8MK_RGqHXn"
      },
      "source": [
        "# WHEATFLOUR = df[\"df13\"]\n",
        "# WHEATFLOUR = WHEATFLOUR[WHEATFLOUR['Unnamed: 0'].notna()]\n",
        "# WHEATFLOUR.columns = WHEATFLOUR.iloc[0]\n",
        "# WHEATFLOUR = WHEATFLOUR.drop(WHEATFLOUR.index[0])\n",
        "# WHEATFLOUR = WHEATFLOUR.drop(['เฉลี่ย','ต่ำสุด','สูงสุด'], axis=1)\n",
        "# WHEATFLOUR = WHEATFLOUR.rename(columns={\"เดือน\":\"year\"})\n",
        "\n",
        "# WHEATFLOUR = pd.melt(WHEATFLOUR, \n",
        "#             id_vars='year', \n",
        "#             value_vars=list(WHEATFLOUR.columns[1:]), # list of days of the week\n",
        "#             var_name='month', \n",
        "#             value_name='price')\n",
        "\n",
        "# WHEATFLOUR['unit'] = 'บาท/กิโลกรัม'\n",
        "# WHEATFLOUR['product'] = 'WHEAT FLOUR'\n",
        "# WHEATFLOUR['source'] = 'สมาคมผู้ผลิตอาหารสัตว์ไทย'\n",
        "# WHEATFLOUR['remark'] = 'ราคา : ณ ราคาส่งถึงโรงงาน'"
      ],
      "execution_count": null,
      "outputs": []
    },
    {
      "cell_type": "code",
      "metadata": {
        "id": "nCstZBgmqKc6"
      },
      "source": [
        "# WHEATGLUTEN = df[\"df14\"]\n",
        "# WHEATGLUTEN = WHEATGLUTEN[WHEATGLUTEN['Unnamed: 0'].notna()]\n",
        "# WHEATGLUTEN.columns = WHEATGLUTEN.iloc[0]\n",
        "# WHEATGLUTEN = WHEATGLUTEN.drop(WHEATGLUTEN.index[0])\n",
        "# WHEATGLUTEN = WHEATGLUTEN.drop(['เฉลี่ย','ต่ำสุด','สูงสุด'], axis=1)\n",
        "# WHEATGLUTEN = WHEATGLUTEN.rename(columns={\"เดือน\":\"year\"})\n",
        "\n",
        "# WHEATGLUTEN = pd.melt(WHEATGLUTEN, \n",
        "#             id_vars='year', \n",
        "#             value_vars=list(WHEATGLUTEN.columns[1:]), # list of days of the week\n",
        "#             var_name='month', \n",
        "#             value_name='price')\n",
        "\n",
        "# WHEATGLUTEN['unit'] = 'บาท/กิโลกรัม'\n",
        "# WHEATGLUTEN['product'] = 'WHEAT FLOUR'\n",
        "# WHEATGLUTEN['source'] = 'สมาคมผู้ผลิตอาหารสัตว์ไทย'\n",
        "# WHEATGLUTEN['remark'] = 'ราคา : ณ ราคาส่งถึงโรงงาน'"
      ],
      "execution_count": null,
      "outputs": []
    },
    {
      "cell_type": "code",
      "metadata": {
        "id": "LO6H5J2nqNeQ"
      },
      "source": [
        "# ตับปลาหมึก = df[\"df15\"]\n",
        "# ตับปลาหมึก = ตับปลาหมึก[ตับปลาหมึก['Unnamed: 0'].notna()]\n",
        "# ตับปลาหมึก.columns = ตับปลาหมึก.iloc[0]\n",
        "# ตับปลาหมึก = ตับปลาหมึก.drop(ตับปลาหมึก.index[0])\n",
        "# ตับปลาหมึก = ตับปลาหมึก.drop(['เฉลี่ย','ต่ำสุด','สูงสุด'], axis=1)\n",
        "# ตับปลาหมึก = ตับปลาหมึก.rename(columns={\"เดือน\":\"year\"})\n",
        "\n",
        "# ตับปลาหมึก = pd.melt(ตับปลาหมึก, \n",
        "#             id_vars='year', \n",
        "#             value_vars=list(ตับปลาหมึก.columns[1:]), # list of days of the week\n",
        "#             var_name='month', \n",
        "#             value_name='price')\n",
        "\n",
        "# ตับปลาหมึก['unit'] = 'บาท/กิโลกรัม'\n",
        "# ตับปลาหมึก['product'] = 'ตับปลาหมึก SLP/Squid Liver Powder'\n",
        "# ตับปลาหมึก['source'] = 'สมาคมผู้ผลิตอาหารสัตว์ไทย'\n",
        "# ตับปลาหมึก['remark'] = 'ราคา : ณ ราคาส่งถึงโรงงาน'"
      ],
      "execution_count": null,
      "outputs": []
    },
    {
      "cell_type": "code",
      "metadata": {
        "id": "Jw0Fgg00qQqF"
      },
      "source": [
        "# น้ำมันปลา = df[\"df16\"]\n",
        "# น้ำมันปลา = น้ำมันปลา[น้ำมันปลา['Unnamed: 0'].notna()]\n",
        "# น้ำมันปลา.columns = น้ำมันปลา.iloc[0]\n",
        "# น้ำมันปลา = น้ำมันปลา.drop(น้ำมันปลา.index[0])\n",
        "# น้ำมันปลา = น้ำมันปลา.drop(['เฉลี่ย','ต่ำสุด','สูงสุด'], axis=1)\n",
        "# น้ำมันปลา = น้ำมันปลา.rename(columns={\"เดือน\":\"year\"})\n",
        "\n",
        "# น้ำมันปลา = pd.melt(น้ำมันปลา, \n",
        "#             id_vars='year', \n",
        "#             value_vars=list(น้ำมันปลา.columns[1:]), # list of days of the week\n",
        "#             var_name='month', \n",
        "#             value_name='price')\n",
        "\n",
        "# น้ำมันปลา['unit'] = 'บาท/กิโลกรัม'\n",
        "# น้ำมันปลา['product'] = 'น้ำมันปลา FO/Fish Oil'\n",
        "# น้ำมันปลา['source'] = 'สมาคมผู้ผลิตอาหารสัตว์ไทย'\n",
        "# น้ำมันปลา['remark'] = 'ราคา : ณ ราคาส่งถึงโรงงาน'"
      ],
      "execution_count": null,
      "outputs": []
    },
    {
      "cell_type": "code",
      "metadata": {
        "id": "Dy7VU202qTox"
      },
      "source": [
        "# น้ำมันปลาหมึก = df[\"df17\"]\n",
        "# น้ำมันปลาหมึก = น้ำมันปลาหมึก[น้ำมันปลาหมึก['Unnamed: 0'].notna()]\n",
        "# น้ำมันปลาหมึก.columns = น้ำมันปลาหมึก.iloc[0]\n",
        "# น้ำมันปลาหมึก = น้ำมันปลาหมึก.drop(น้ำมันปลาหมึก.index[0])\n",
        "# น้ำมันปลาหมึก = น้ำมันปลาหมึก.drop(['เฉลี่ย','ต่ำสุด','สูงสุด'], axis=1)\n",
        "# น้ำมันปลาหมึก = น้ำมันปลาหมึก.rename(columns={\"เดือน\":\"year\"})\n",
        "\n",
        "# น้ำมันปลาหมึก = pd.melt(น้ำมันปลาหมึก, \n",
        "#             id_vars='year', \n",
        "#             value_vars=list(น้ำมันปลาหมึก.columns[1:]), # list of days of the week\n",
        "#             var_name='month', \n",
        "#             value_name='price')\n",
        "\n",
        "# น้ำมันปลาหมึก['unit'] = 'บาท/กิโลกรัม'\n",
        "# น้ำมันปลาหมึก['product'] = 'น้ำมันปลาหมึก SO/Squid Oil'\n",
        "# น้ำมันปลาหมึก['source'] = 'สมาคมผู้ผลิตอาหารสัตว์ไทย'\n",
        "# น้ำมันปลาหมึก['remark'] = 'ราคา : ณ ราคาส่งถึงโรงงาน'"
      ],
      "execution_count": null,
      "outputs": []
    },
    {
      "cell_type": "code",
      "metadata": {
        "id": "RUFJvq_eqXBb"
      },
      "source": [
        "# ปลาหมึกป่น = df[\"df18\"]\n",
        "# ปลาหมึกป่น = ปลาหมึกป่น[ปลาหมึกป่น['Unnamed: 0'].notna()]\n",
        "# ปลาหมึกป่น.columns = ปลาหมึกป่น.iloc[0]\n",
        "# ปลาหมึกป่น = ปลาหมึกป่น.drop(ปลาหมึกป่น.index[0])\n",
        "# ปลาหมึกป่น = ปลาหมึกป่น.drop(['เฉลี่ย','ต่ำสุด','สูงสุด'], axis=1)\n",
        "# ปลาหมึกป่น = ปลาหมึกป่น.rename(columns={\"เดือน\":\"year\"})\n",
        "\n",
        "# ปลาหมึกป่น = pd.melt(ปลาหมึกป่น, \n",
        "#             id_vars='year', \n",
        "#             value_vars=list(ปลาหมึกป่น.columns[1:]), # list of days of the week\n",
        "#             var_name='month', \n",
        "#             value_name='price')\n",
        "\n",
        "# ปลาหมึกป่น['unit'] = 'บาท/กิโลกรัม'\n",
        "# ปลาหมึกป่น['product'] = 'ปลาหมึกป่น SLM/Squid Liver Meal'\n",
        "# ปลาหมึกป่น['source'] = 'สมาคมผู้ผลิตอาหารสัตว์ไทย'\n",
        "# ปลาหมึกป่น['remark'] = 'ราคา : ณ ราคาส่งถึงโรงงาน'"
      ],
      "execution_count": null,
      "outputs": []
    },
    {
      "cell_type": "code",
      "metadata": {
        "id": "_H6yEhlsqaOo"
      },
      "source": [
        "# เปลือกกุ้ง = df[\"df19\"]\n",
        "# เปลือกกุ้ง = เปลือกกุ้ง[เปลือกกุ้ง['Unnamed: 0'].notna()]\n",
        "# เปลือกกุ้ง.columns = เปลือกกุ้ง.iloc[0]\n",
        "# เปลือกกุ้ง = เปลือกกุ้ง.drop(เปลือกกุ้ง.index[0])\n",
        "# เปลือกกุ้ง = เปลือกกุ้ง.drop(['เฉลี่ย','ต่ำสุด','สูงสุด'], axis=1)\n",
        "# เปลือกกุ้ง = เปลือกกุ้ง.rename(columns={\"เดือน\":\"year\"})\n",
        "\n",
        "# เปลือกกุ้ง = pd.melt(เปลือกกุ้ง, \n",
        "#             id_vars='year', \n",
        "#             value_vars=list(เปลือกกุ้ง.columns[1:]), # list of days of the week\n",
        "#             var_name='month', \n",
        "#             value_name='price')\n",
        "\n",
        "# เปลือกกุ้ง['unit'] = 'บาท/กิโลกรัม'\n",
        "# เปลือกกุ้ง['product'] = 'ราคาเปลือกกุ้ง/Shrimp Biowaste'\n",
        "# เปลือกกุ้ง['source'] = 'สมาคมผู้ผลิตอาหารสัตว์ไทย'\n",
        "# เปลือกกุ้ง['remark'] = 'ราคา : ณ ราคาส่งถึงโรงงาน'"
      ],
      "execution_count": null,
      "outputs": []
    },
    {
      "cell_type": "code",
      "metadata": {
        "id": "sgxDq0XxqdUJ"
      },
      "source": [
        "# df = [ข้าวโพดอาหารสัตว์,ปลาป่น,ปลาป่นนำเข้า,กากถั่วเหลืองต่างประเทศ,กากถั่วเหลืองภายใน,กากถั่วเหลืองเมล็ดนำเข้า,กากถั่วเหลืองกะเทาะเปลือก,รำสด,กากรำสกัดน้ำมัน,ปลายข้าว,มันสำปะหลังเส้น,WHEATBRAN,WHEATFLOUR,WHEATGLUTEN,ตับปลาหมึก,น้ำมันปลา,น้ำมันปลาหมึก,ปลาหมึกป่น,เปลือกกุ้ง]\n",
        "# ราคาวัตถุดิบอาหารสัตว์ = pd.concat(df)\n",
        "# #ราคาวัตถุดิบอาหารสัตว์"
      ],
      "execution_count": null,
      "outputs": []
    },
    {
      "cell_type": "code",
      "metadata": {
        "id": "fqVFWvFPqgPM"
      },
      "source": [
        "# ราคาวัตถุดิบอาหารสัตว์ = ราคาวัตถุดิบอาหารสัตว์.replace({\"month\": monthlist})\n",
        "# #ราคาวัตถุดิบอาหารสัตว์"
      ],
      "execution_count": null,
      "outputs": []
    },
    {
      "cell_type": "code",
      "metadata": {
        "id": "7ij34UqMqimE"
      },
      "source": [
        "# ราคาวัตถุดิบอาหารสัตว์['year'] = ราคาวัตถุดิบอาหารสัตว์['year']-543\n",
        "# ราคาวัตถุดิบอาหารสัตว์ = pd.merge(ราคาวัตถุดิบอาหารสัตว์,month,left_on='month',right_on='month',how='left')"
      ],
      "execution_count": null,
      "outputs": []
    },
    {
      "cell_type": "code",
      "metadata": {
        "id": "qYEYYf7NqlVy"
      },
      "source": [
        "# ราคาวัตถุดิบอาหารสัตว์['date'] = pd.to_datetime((ราคาวัตถุดิบอาหารสัตว์.year*10000+ราคาวัตถุดิบอาหารสัตว์.month_order*100+1).apply(str),format='%Y%m%d')\n",
        "# ราคาวัตถุดิบอาหารสัตว์ = ราคาวัตถุดิบอาหารสัตว์[['year','month','date','price','unit','product','source','remark']]\n",
        "# #ราคาวัตถุดิบอาหารสัตว์"
      ],
      "execution_count": null,
      "outputs": []
    },
    {
      "cell_type": "code",
      "metadata": {
        "id": "hPC4KXDkqn40"
      },
      "source": [
        "# ราคาวัตถุดิบอาหารสัตว์['product group'] = 'วัตถุดิบอาหารสัตว์'"
      ],
      "execution_count": null,
      "outputs": []
    },
    {
      "cell_type": "markdown",
      "metadata": {
        "id": "x-F-ka2w9aMe"
      },
      "source": [
        "# เนื้อสัตว์ค้าปลีก"
      ]
    },
    {
      "cell_type": "code",
      "metadata": {
        "id": "q_zq5toTqxI6"
      },
      "source": [
        "url = \"https://www.moc.go.th/index.php/rice-iframe-2.html\""
      ],
      "execution_count": null,
      "outputs": []
    },
    {
      "cell_type": "code",
      "metadata": {
        "colab": {
          "base_uri": "https://localhost:8080/",
          "height": 443
        },
        "id": "RZnwNa5-q2XV",
        "outputId": "2a62a949-c7cd-4653-8ef8-c642c9962202"
      },
      "source": [
        "from bs4 import BeautifulSoup\n",
        "res = requests.get(url)\n",
        "time.sleep(30)\n",
        "\n",
        "soup = BeautifulSoup(res.content, \"lxml\")\n",
        "src = soup.find_all(\"div\",{\"class\":\"contentpane\"})\n",
        "\n",
        "for i in str(src).split():\n",
        "    if 'src' in i:\n",
        "        URL = i[5:-1]\n",
        "URL"
      ],
      "execution_count": null,
      "outputs": [
        {
          "output_type": "error",
          "ename": "KeyboardInterrupt",
          "evalue": "ignored",
          "traceback": [
            "\u001b[0;31m---------------------------------------------------------------------------\u001b[0m",
            "\u001b[0;31mTypeError\u001b[0m                                 Traceback (most recent call last)",
            "\u001b[0;32m/usr/local/lib/python3.7/dist-packages/urllib3/connectionpool.py\u001b[0m in \u001b[0;36m_make_request\u001b[0;34m(self, conn, method, url, timeout, chunked, **httplib_request_kw)\u001b[0m\n\u001b[1;32m    376\u001b[0m             \u001b[0;32mtry\u001b[0m\u001b[0;34m:\u001b[0m  \u001b[0;31m# Python 2.7, use buffering of HTTP responses\u001b[0m\u001b[0;34m\u001b[0m\u001b[0;34m\u001b[0m\u001b[0m\n\u001b[0;32m--> 377\u001b[0;31m                 \u001b[0mhttplib_response\u001b[0m \u001b[0;34m=\u001b[0m \u001b[0mconn\u001b[0m\u001b[0;34m.\u001b[0m\u001b[0mgetresponse\u001b[0m\u001b[0;34m(\u001b[0m\u001b[0mbuffering\u001b[0m\u001b[0;34m=\u001b[0m\u001b[0;32mTrue\u001b[0m\u001b[0;34m)\u001b[0m\u001b[0;34m\u001b[0m\u001b[0;34m\u001b[0m\u001b[0m\n\u001b[0m\u001b[1;32m    378\u001b[0m             \u001b[0;32mexcept\u001b[0m \u001b[0mTypeError\u001b[0m\u001b[0;34m:\u001b[0m  \u001b[0;31m# Python 3\u001b[0m\u001b[0;34m\u001b[0m\u001b[0;34m\u001b[0m\u001b[0m\n",
            "\u001b[0;31mTypeError\u001b[0m: getresponse() got an unexpected keyword argument 'buffering'",
            "\nDuring handling of the above exception, another exception occurred:\n",
            "\u001b[0;31mKeyboardInterrupt\u001b[0m                         Traceback (most recent call last)",
            "\u001b[0;32m<ipython-input-495-c8a22d1294a6>\u001b[0m in \u001b[0;36m<module>\u001b[0;34m()\u001b[0m\n\u001b[1;32m      1\u001b[0m \u001b[0;32mfrom\u001b[0m \u001b[0mbs4\u001b[0m \u001b[0;32mimport\u001b[0m \u001b[0mBeautifulSoup\u001b[0m\u001b[0;34m\u001b[0m\u001b[0;34m\u001b[0m\u001b[0m\n\u001b[0;32m----> 2\u001b[0;31m \u001b[0mres\u001b[0m \u001b[0;34m=\u001b[0m \u001b[0mrequests\u001b[0m\u001b[0;34m.\u001b[0m\u001b[0mget\u001b[0m\u001b[0;34m(\u001b[0m\u001b[0murl\u001b[0m\u001b[0;34m)\u001b[0m\u001b[0;34m\u001b[0m\u001b[0;34m\u001b[0m\u001b[0m\n\u001b[0m\u001b[1;32m      3\u001b[0m \u001b[0mtime\u001b[0m\u001b[0;34m.\u001b[0m\u001b[0msleep\u001b[0m\u001b[0;34m(\u001b[0m\u001b[0;36m30\u001b[0m\u001b[0;34m)\u001b[0m\u001b[0;34m\u001b[0m\u001b[0;34m\u001b[0m\u001b[0m\n\u001b[1;32m      4\u001b[0m \u001b[0;34m\u001b[0m\u001b[0m\n\u001b[1;32m      5\u001b[0m \u001b[0msoup\u001b[0m \u001b[0;34m=\u001b[0m \u001b[0mBeautifulSoup\u001b[0m\u001b[0;34m(\u001b[0m\u001b[0mres\u001b[0m\u001b[0;34m.\u001b[0m\u001b[0mcontent\u001b[0m\u001b[0;34m,\u001b[0m \u001b[0;34m\"lxml\"\u001b[0m\u001b[0;34m)\u001b[0m\u001b[0;34m\u001b[0m\u001b[0;34m\u001b[0m\u001b[0m\n",
            "\u001b[0;32m/usr/local/lib/python3.7/dist-packages/requests/api.py\u001b[0m in \u001b[0;36mget\u001b[0;34m(url, params, **kwargs)\u001b[0m\n\u001b[1;32m     74\u001b[0m \u001b[0;34m\u001b[0m\u001b[0m\n\u001b[1;32m     75\u001b[0m     \u001b[0mkwargs\u001b[0m\u001b[0;34m.\u001b[0m\u001b[0msetdefault\u001b[0m\u001b[0;34m(\u001b[0m\u001b[0;34m'allow_redirects'\u001b[0m\u001b[0;34m,\u001b[0m \u001b[0;32mTrue\u001b[0m\u001b[0;34m)\u001b[0m\u001b[0;34m\u001b[0m\u001b[0;34m\u001b[0m\u001b[0m\n\u001b[0;32m---> 76\u001b[0;31m     \u001b[0;32mreturn\u001b[0m \u001b[0mrequest\u001b[0m\u001b[0;34m(\u001b[0m\u001b[0;34m'get'\u001b[0m\u001b[0;34m,\u001b[0m \u001b[0murl\u001b[0m\u001b[0;34m,\u001b[0m \u001b[0mparams\u001b[0m\u001b[0;34m=\u001b[0m\u001b[0mparams\u001b[0m\u001b[0;34m,\u001b[0m \u001b[0;34m**\u001b[0m\u001b[0mkwargs\u001b[0m\u001b[0;34m)\u001b[0m\u001b[0;34m\u001b[0m\u001b[0;34m\u001b[0m\u001b[0m\n\u001b[0m\u001b[1;32m     77\u001b[0m \u001b[0;34m\u001b[0m\u001b[0m\n\u001b[1;32m     78\u001b[0m \u001b[0;34m\u001b[0m\u001b[0m\n",
            "\u001b[0;32m/usr/local/lib/python3.7/dist-packages/requests/api.py\u001b[0m in \u001b[0;36mrequest\u001b[0;34m(method, url, **kwargs)\u001b[0m\n\u001b[1;32m     59\u001b[0m     \u001b[0;31m# cases, and look like a memory leak in others.\u001b[0m\u001b[0;34m\u001b[0m\u001b[0;34m\u001b[0m\u001b[0;34m\u001b[0m\u001b[0m\n\u001b[1;32m     60\u001b[0m     \u001b[0;32mwith\u001b[0m \u001b[0msessions\u001b[0m\u001b[0;34m.\u001b[0m\u001b[0mSession\u001b[0m\u001b[0;34m(\u001b[0m\u001b[0;34m)\u001b[0m \u001b[0;32mas\u001b[0m \u001b[0msession\u001b[0m\u001b[0;34m:\u001b[0m\u001b[0;34m\u001b[0m\u001b[0;34m\u001b[0m\u001b[0m\n\u001b[0;32m---> 61\u001b[0;31m         \u001b[0;32mreturn\u001b[0m \u001b[0msession\u001b[0m\u001b[0;34m.\u001b[0m\u001b[0mrequest\u001b[0m\u001b[0;34m(\u001b[0m\u001b[0mmethod\u001b[0m\u001b[0;34m=\u001b[0m\u001b[0mmethod\u001b[0m\u001b[0;34m,\u001b[0m \u001b[0murl\u001b[0m\u001b[0;34m=\u001b[0m\u001b[0murl\u001b[0m\u001b[0;34m,\u001b[0m \u001b[0;34m**\u001b[0m\u001b[0mkwargs\u001b[0m\u001b[0;34m)\u001b[0m\u001b[0;34m\u001b[0m\u001b[0;34m\u001b[0m\u001b[0m\n\u001b[0m\u001b[1;32m     62\u001b[0m \u001b[0;34m\u001b[0m\u001b[0m\n\u001b[1;32m     63\u001b[0m \u001b[0;34m\u001b[0m\u001b[0m\n",
            "\u001b[0;32m/usr/local/lib/python3.7/dist-packages/requests/sessions.py\u001b[0m in \u001b[0;36mrequest\u001b[0;34m(self, method, url, params, data, headers, cookies, files, auth, timeout, allow_redirects, proxies, hooks, stream, verify, cert, json)\u001b[0m\n\u001b[1;32m    528\u001b[0m         }\n\u001b[1;32m    529\u001b[0m         \u001b[0msend_kwargs\u001b[0m\u001b[0;34m.\u001b[0m\u001b[0mupdate\u001b[0m\u001b[0;34m(\u001b[0m\u001b[0msettings\u001b[0m\u001b[0;34m)\u001b[0m\u001b[0;34m\u001b[0m\u001b[0;34m\u001b[0m\u001b[0m\n\u001b[0;32m--> 530\u001b[0;31m         \u001b[0mresp\u001b[0m \u001b[0;34m=\u001b[0m \u001b[0mself\u001b[0m\u001b[0;34m.\u001b[0m\u001b[0msend\u001b[0m\u001b[0;34m(\u001b[0m\u001b[0mprep\u001b[0m\u001b[0;34m,\u001b[0m \u001b[0;34m**\u001b[0m\u001b[0msend_kwargs\u001b[0m\u001b[0;34m)\u001b[0m\u001b[0;34m\u001b[0m\u001b[0;34m\u001b[0m\u001b[0m\n\u001b[0m\u001b[1;32m    531\u001b[0m \u001b[0;34m\u001b[0m\u001b[0m\n\u001b[1;32m    532\u001b[0m         \u001b[0;32mreturn\u001b[0m \u001b[0mresp\u001b[0m\u001b[0;34m\u001b[0m\u001b[0;34m\u001b[0m\u001b[0m\n",
            "\u001b[0;32m/usr/local/lib/python3.7/dist-packages/requests/sessions.py\u001b[0m in \u001b[0;36msend\u001b[0;34m(self, request, **kwargs)\u001b[0m\n\u001b[1;32m    641\u001b[0m \u001b[0;34m\u001b[0m\u001b[0m\n\u001b[1;32m    642\u001b[0m         \u001b[0;31m# Send the request\u001b[0m\u001b[0;34m\u001b[0m\u001b[0;34m\u001b[0m\u001b[0;34m\u001b[0m\u001b[0m\n\u001b[0;32m--> 643\u001b[0;31m         \u001b[0mr\u001b[0m \u001b[0;34m=\u001b[0m \u001b[0madapter\u001b[0m\u001b[0;34m.\u001b[0m\u001b[0msend\u001b[0m\u001b[0;34m(\u001b[0m\u001b[0mrequest\u001b[0m\u001b[0;34m,\u001b[0m \u001b[0;34m**\u001b[0m\u001b[0mkwargs\u001b[0m\u001b[0;34m)\u001b[0m\u001b[0;34m\u001b[0m\u001b[0;34m\u001b[0m\u001b[0m\n\u001b[0m\u001b[1;32m    644\u001b[0m \u001b[0;34m\u001b[0m\u001b[0m\n\u001b[1;32m    645\u001b[0m         \u001b[0;31m# Total elapsed time of the request (approximately)\u001b[0m\u001b[0;34m\u001b[0m\u001b[0;34m\u001b[0m\u001b[0;34m\u001b[0m\u001b[0m\n",
            "\u001b[0;32m/usr/local/lib/python3.7/dist-packages/requests/adapters.py\u001b[0m in \u001b[0;36msend\u001b[0;34m(self, request, stream, timeout, verify, cert, proxies)\u001b[0m\n\u001b[1;32m    447\u001b[0m                     \u001b[0mdecode_content\u001b[0m\u001b[0;34m=\u001b[0m\u001b[0;32mFalse\u001b[0m\u001b[0;34m,\u001b[0m\u001b[0;34m\u001b[0m\u001b[0;34m\u001b[0m\u001b[0m\n\u001b[1;32m    448\u001b[0m                     \u001b[0mretries\u001b[0m\u001b[0;34m=\u001b[0m\u001b[0mself\u001b[0m\u001b[0;34m.\u001b[0m\u001b[0mmax_retries\u001b[0m\u001b[0;34m,\u001b[0m\u001b[0;34m\u001b[0m\u001b[0;34m\u001b[0m\u001b[0m\n\u001b[0;32m--> 449\u001b[0;31m                     \u001b[0mtimeout\u001b[0m\u001b[0;34m=\u001b[0m\u001b[0mtimeout\u001b[0m\u001b[0;34m\u001b[0m\u001b[0;34m\u001b[0m\u001b[0m\n\u001b[0m\u001b[1;32m    450\u001b[0m                 )\n\u001b[1;32m    451\u001b[0m \u001b[0;34m\u001b[0m\u001b[0m\n",
            "\u001b[0;32m/usr/local/lib/python3.7/dist-packages/urllib3/connectionpool.py\u001b[0m in \u001b[0;36murlopen\u001b[0;34m(self, method, url, body, headers, retries, redirect, assert_same_host, timeout, pool_timeout, release_conn, chunked, body_pos, **response_kw)\u001b[0m\n\u001b[1;32m    598\u001b[0m                                                   \u001b[0mtimeout\u001b[0m\u001b[0;34m=\u001b[0m\u001b[0mtimeout_obj\u001b[0m\u001b[0;34m,\u001b[0m\u001b[0;34m\u001b[0m\u001b[0;34m\u001b[0m\u001b[0m\n\u001b[1;32m    599\u001b[0m                                                   \u001b[0mbody\u001b[0m\u001b[0;34m=\u001b[0m\u001b[0mbody\u001b[0m\u001b[0;34m,\u001b[0m \u001b[0mheaders\u001b[0m\u001b[0;34m=\u001b[0m\u001b[0mheaders\u001b[0m\u001b[0;34m,\u001b[0m\u001b[0;34m\u001b[0m\u001b[0;34m\u001b[0m\u001b[0m\n\u001b[0;32m--> 600\u001b[0;31m                                                   chunked=chunked)\n\u001b[0m\u001b[1;32m    601\u001b[0m \u001b[0;34m\u001b[0m\u001b[0m\n\u001b[1;32m    602\u001b[0m             \u001b[0;31m# If we're going to release the connection in ``finally:``, then\u001b[0m\u001b[0;34m\u001b[0m\u001b[0;34m\u001b[0m\u001b[0;34m\u001b[0m\u001b[0m\n",
            "\u001b[0;32m/usr/local/lib/python3.7/dist-packages/urllib3/connectionpool.py\u001b[0m in \u001b[0;36m_make_request\u001b[0;34m(self, conn, method, url, timeout, chunked, **httplib_request_kw)\u001b[0m\n\u001b[1;32m    378\u001b[0m             \u001b[0;32mexcept\u001b[0m \u001b[0mTypeError\u001b[0m\u001b[0;34m:\u001b[0m  \u001b[0;31m# Python 3\u001b[0m\u001b[0;34m\u001b[0m\u001b[0;34m\u001b[0m\u001b[0m\n\u001b[1;32m    379\u001b[0m                 \u001b[0;32mtry\u001b[0m\u001b[0;34m:\u001b[0m\u001b[0;34m\u001b[0m\u001b[0;34m\u001b[0m\u001b[0m\n\u001b[0;32m--> 380\u001b[0;31m                     \u001b[0mhttplib_response\u001b[0m \u001b[0;34m=\u001b[0m \u001b[0mconn\u001b[0m\u001b[0;34m.\u001b[0m\u001b[0mgetresponse\u001b[0m\u001b[0;34m(\u001b[0m\u001b[0;34m)\u001b[0m\u001b[0;34m\u001b[0m\u001b[0;34m\u001b[0m\u001b[0m\n\u001b[0m\u001b[1;32m    381\u001b[0m                 \u001b[0;32mexcept\u001b[0m \u001b[0mException\u001b[0m \u001b[0;32mas\u001b[0m \u001b[0me\u001b[0m\u001b[0;34m:\u001b[0m\u001b[0;34m\u001b[0m\u001b[0;34m\u001b[0m\u001b[0m\n\u001b[1;32m    382\u001b[0m                     \u001b[0;31m# Remove the TypeError from the exception chain in Python 3;\u001b[0m\u001b[0;34m\u001b[0m\u001b[0;34m\u001b[0m\u001b[0;34m\u001b[0m\u001b[0m\n",
            "\u001b[0;32m/usr/lib/python3.7/http/client.py\u001b[0m in \u001b[0;36mgetresponse\u001b[0;34m(self)\u001b[0m\n\u001b[1;32m   1371\u001b[0m         \u001b[0;32mtry\u001b[0m\u001b[0;34m:\u001b[0m\u001b[0;34m\u001b[0m\u001b[0;34m\u001b[0m\u001b[0m\n\u001b[1;32m   1372\u001b[0m             \u001b[0;32mtry\u001b[0m\u001b[0;34m:\u001b[0m\u001b[0;34m\u001b[0m\u001b[0;34m\u001b[0m\u001b[0m\n\u001b[0;32m-> 1373\u001b[0;31m                 \u001b[0mresponse\u001b[0m\u001b[0;34m.\u001b[0m\u001b[0mbegin\u001b[0m\u001b[0;34m(\u001b[0m\u001b[0;34m)\u001b[0m\u001b[0;34m\u001b[0m\u001b[0;34m\u001b[0m\u001b[0m\n\u001b[0m\u001b[1;32m   1374\u001b[0m             \u001b[0;32mexcept\u001b[0m \u001b[0mConnectionError\u001b[0m\u001b[0;34m:\u001b[0m\u001b[0;34m\u001b[0m\u001b[0;34m\u001b[0m\u001b[0m\n\u001b[1;32m   1375\u001b[0m                 \u001b[0mself\u001b[0m\u001b[0;34m.\u001b[0m\u001b[0mclose\u001b[0m\u001b[0;34m(\u001b[0m\u001b[0;34m)\u001b[0m\u001b[0;34m\u001b[0m\u001b[0;34m\u001b[0m\u001b[0m\n",
            "\u001b[0;32m/usr/lib/python3.7/http/client.py\u001b[0m in \u001b[0;36mbegin\u001b[0;34m(self)\u001b[0m\n\u001b[1;32m    317\u001b[0m         \u001b[0;31m# read until we get a non-100 response\u001b[0m\u001b[0;34m\u001b[0m\u001b[0;34m\u001b[0m\u001b[0;34m\u001b[0m\u001b[0m\n\u001b[1;32m    318\u001b[0m         \u001b[0;32mwhile\u001b[0m \u001b[0;32mTrue\u001b[0m\u001b[0;34m:\u001b[0m\u001b[0;34m\u001b[0m\u001b[0;34m\u001b[0m\u001b[0m\n\u001b[0;32m--> 319\u001b[0;31m             \u001b[0mversion\u001b[0m\u001b[0;34m,\u001b[0m \u001b[0mstatus\u001b[0m\u001b[0;34m,\u001b[0m \u001b[0mreason\u001b[0m \u001b[0;34m=\u001b[0m \u001b[0mself\u001b[0m\u001b[0;34m.\u001b[0m\u001b[0m_read_status\u001b[0m\u001b[0;34m(\u001b[0m\u001b[0;34m)\u001b[0m\u001b[0;34m\u001b[0m\u001b[0;34m\u001b[0m\u001b[0m\n\u001b[0m\u001b[1;32m    320\u001b[0m             \u001b[0;32mif\u001b[0m \u001b[0mstatus\u001b[0m \u001b[0;34m!=\u001b[0m \u001b[0mCONTINUE\u001b[0m\u001b[0;34m:\u001b[0m\u001b[0;34m\u001b[0m\u001b[0;34m\u001b[0m\u001b[0m\n\u001b[1;32m    321\u001b[0m                 \u001b[0;32mbreak\u001b[0m\u001b[0;34m\u001b[0m\u001b[0;34m\u001b[0m\u001b[0m\n",
            "\u001b[0;32m/usr/lib/python3.7/http/client.py\u001b[0m in \u001b[0;36m_read_status\u001b[0;34m(self)\u001b[0m\n\u001b[1;32m    278\u001b[0m \u001b[0;34m\u001b[0m\u001b[0m\n\u001b[1;32m    279\u001b[0m     \u001b[0;32mdef\u001b[0m \u001b[0m_read_status\u001b[0m\u001b[0;34m(\u001b[0m\u001b[0mself\u001b[0m\u001b[0;34m)\u001b[0m\u001b[0;34m:\u001b[0m\u001b[0;34m\u001b[0m\u001b[0;34m\u001b[0m\u001b[0m\n\u001b[0;32m--> 280\u001b[0;31m         \u001b[0mline\u001b[0m \u001b[0;34m=\u001b[0m \u001b[0mstr\u001b[0m\u001b[0;34m(\u001b[0m\u001b[0mself\u001b[0m\u001b[0;34m.\u001b[0m\u001b[0mfp\u001b[0m\u001b[0;34m.\u001b[0m\u001b[0mreadline\u001b[0m\u001b[0;34m(\u001b[0m\u001b[0m_MAXLINE\u001b[0m \u001b[0;34m+\u001b[0m \u001b[0;36m1\u001b[0m\u001b[0;34m)\u001b[0m\u001b[0;34m,\u001b[0m \u001b[0;34m\"iso-8859-1\"\u001b[0m\u001b[0;34m)\u001b[0m\u001b[0;34m\u001b[0m\u001b[0;34m\u001b[0m\u001b[0m\n\u001b[0m\u001b[1;32m    281\u001b[0m         \u001b[0;32mif\u001b[0m \u001b[0mlen\u001b[0m\u001b[0;34m(\u001b[0m\u001b[0mline\u001b[0m\u001b[0;34m)\u001b[0m \u001b[0;34m>\u001b[0m \u001b[0m_MAXLINE\u001b[0m\u001b[0;34m:\u001b[0m\u001b[0;34m\u001b[0m\u001b[0;34m\u001b[0m\u001b[0m\n\u001b[1;32m    282\u001b[0m             \u001b[0;32mraise\u001b[0m \u001b[0mLineTooLong\u001b[0m\u001b[0;34m(\u001b[0m\u001b[0;34m\"status line\"\u001b[0m\u001b[0;34m)\u001b[0m\u001b[0;34m\u001b[0m\u001b[0;34m\u001b[0m\u001b[0m\n",
            "\u001b[0;32m/usr/lib/python3.7/socket.py\u001b[0m in \u001b[0;36mreadinto\u001b[0;34m(self, b)\u001b[0m\n\u001b[1;32m    587\u001b[0m         \u001b[0;32mwhile\u001b[0m \u001b[0;32mTrue\u001b[0m\u001b[0;34m:\u001b[0m\u001b[0;34m\u001b[0m\u001b[0;34m\u001b[0m\u001b[0m\n\u001b[1;32m    588\u001b[0m             \u001b[0;32mtry\u001b[0m\u001b[0;34m:\u001b[0m\u001b[0;34m\u001b[0m\u001b[0;34m\u001b[0m\u001b[0m\n\u001b[0;32m--> 589\u001b[0;31m                 \u001b[0;32mreturn\u001b[0m \u001b[0mself\u001b[0m\u001b[0;34m.\u001b[0m\u001b[0m_sock\u001b[0m\u001b[0;34m.\u001b[0m\u001b[0mrecv_into\u001b[0m\u001b[0;34m(\u001b[0m\u001b[0mb\u001b[0m\u001b[0;34m)\u001b[0m\u001b[0;34m\u001b[0m\u001b[0;34m\u001b[0m\u001b[0m\n\u001b[0m\u001b[1;32m    590\u001b[0m             \u001b[0;32mexcept\u001b[0m \u001b[0mtimeout\u001b[0m\u001b[0;34m:\u001b[0m\u001b[0;34m\u001b[0m\u001b[0;34m\u001b[0m\u001b[0m\n\u001b[1;32m    591\u001b[0m                 \u001b[0mself\u001b[0m\u001b[0;34m.\u001b[0m\u001b[0m_timeout_occurred\u001b[0m \u001b[0;34m=\u001b[0m \u001b[0;32mTrue\u001b[0m\u001b[0;34m\u001b[0m\u001b[0;34m\u001b[0m\u001b[0m\n",
            "\u001b[0;32m/usr/lib/python3.7/ssl.py\u001b[0m in \u001b[0;36mrecv_into\u001b[0;34m(self, buffer, nbytes, flags)\u001b[0m\n\u001b[1;32m   1069\u001b[0m                   \u001b[0;34m\"non-zero flags not allowed in calls to recv_into() on %s\"\u001b[0m \u001b[0;34m%\u001b[0m\u001b[0;34m\u001b[0m\u001b[0;34m\u001b[0m\u001b[0m\n\u001b[1;32m   1070\u001b[0m                   self.__class__)\n\u001b[0;32m-> 1071\u001b[0;31m             \u001b[0;32mreturn\u001b[0m \u001b[0mself\u001b[0m\u001b[0;34m.\u001b[0m\u001b[0mread\u001b[0m\u001b[0;34m(\u001b[0m\u001b[0mnbytes\u001b[0m\u001b[0;34m,\u001b[0m \u001b[0mbuffer\u001b[0m\u001b[0;34m)\u001b[0m\u001b[0;34m\u001b[0m\u001b[0;34m\u001b[0m\u001b[0m\n\u001b[0m\u001b[1;32m   1072\u001b[0m         \u001b[0;32melse\u001b[0m\u001b[0;34m:\u001b[0m\u001b[0;34m\u001b[0m\u001b[0;34m\u001b[0m\u001b[0m\n\u001b[1;32m   1073\u001b[0m             \u001b[0;32mreturn\u001b[0m \u001b[0msuper\u001b[0m\u001b[0;34m(\u001b[0m\u001b[0;34m)\u001b[0m\u001b[0;34m.\u001b[0m\u001b[0mrecv_into\u001b[0m\u001b[0;34m(\u001b[0m\u001b[0mbuffer\u001b[0m\u001b[0;34m,\u001b[0m \u001b[0mnbytes\u001b[0m\u001b[0;34m,\u001b[0m \u001b[0mflags\u001b[0m\u001b[0;34m)\u001b[0m\u001b[0;34m\u001b[0m\u001b[0;34m\u001b[0m\u001b[0m\n",
            "\u001b[0;32m/usr/lib/python3.7/ssl.py\u001b[0m in \u001b[0;36mread\u001b[0;34m(self, len, buffer)\u001b[0m\n\u001b[1;32m    927\u001b[0m         \u001b[0;32mtry\u001b[0m\u001b[0;34m:\u001b[0m\u001b[0;34m\u001b[0m\u001b[0;34m\u001b[0m\u001b[0m\n\u001b[1;32m    928\u001b[0m             \u001b[0;32mif\u001b[0m \u001b[0mbuffer\u001b[0m \u001b[0;32mis\u001b[0m \u001b[0;32mnot\u001b[0m \u001b[0;32mNone\u001b[0m\u001b[0;34m:\u001b[0m\u001b[0;34m\u001b[0m\u001b[0;34m\u001b[0m\u001b[0m\n\u001b[0;32m--> 929\u001b[0;31m                 \u001b[0;32mreturn\u001b[0m \u001b[0mself\u001b[0m\u001b[0;34m.\u001b[0m\u001b[0m_sslobj\u001b[0m\u001b[0;34m.\u001b[0m\u001b[0mread\u001b[0m\u001b[0;34m(\u001b[0m\u001b[0mlen\u001b[0m\u001b[0;34m,\u001b[0m \u001b[0mbuffer\u001b[0m\u001b[0;34m)\u001b[0m\u001b[0;34m\u001b[0m\u001b[0;34m\u001b[0m\u001b[0m\n\u001b[0m\u001b[1;32m    930\u001b[0m             \u001b[0;32melse\u001b[0m\u001b[0;34m:\u001b[0m\u001b[0;34m\u001b[0m\u001b[0;34m\u001b[0m\u001b[0m\n\u001b[1;32m    931\u001b[0m                 \u001b[0;32mreturn\u001b[0m \u001b[0mself\u001b[0m\u001b[0;34m.\u001b[0m\u001b[0m_sslobj\u001b[0m\u001b[0;34m.\u001b[0m\u001b[0mread\u001b[0m\u001b[0;34m(\u001b[0m\u001b[0mlen\u001b[0m\u001b[0;34m)\u001b[0m\u001b[0;34m\u001b[0m\u001b[0;34m\u001b[0m\u001b[0m\n",
            "\u001b[0;31mKeyboardInterrupt\u001b[0m: "
          ]
        }
      ]
    },
    {
      "cell_type": "code",
      "metadata": {
        "id": "bF7dtxJJq41n"
      },
      "source": [
        "page = requests.get(URL)\n",
        "time.sleep(30)\n",
        "soup = BeautifulSoup(page.content, 'html.parser')\n",
        "#tables = soup.find_all(\"table\")\n",
        "#time.sleep(30)\n",
        "title = str(soup.find_all(\"caption\")).split()[1:4]\n",
        "title = ' '.join([str(elem) for elem in title])\n",
        "title"
      ],
      "execution_count": null,
      "outputs": []
    },
    {
      "cell_type": "code",
      "metadata": {
        "id": "nT3D5PaLroiX"
      },
      "source": [
        "date = str(soup.find_all(\"caption\")).split()[-2][:-1]\n",
        "date"
      ],
      "execution_count": null,
      "outputs": []
    },
    {
      "cell_type": "code",
      "metadata": {
        "id": "IzEcW8vUr0Ra"
      },
      "source": [
        "driver.get(URL)\n",
        "time.sleep(30)"
      ],
      "execution_count": null,
      "outputs": []
    },
    {
      "cell_type": "code",
      "metadata": {
        "id": "5z3X36Hhr23x"
      },
      "source": [
        "driver.find_element_by_xpath('//*[@id=\"tblCheckprice_length\"]/label/select/option[4]').click()"
      ],
      "execution_count": null,
      "outputs": []
    },
    {
      "cell_type": "code",
      "metadata": {
        "id": "uCIL9tl8sEPg"
      },
      "source": [
        "element = driver.find_element_by_xpath('//*[@id=\"tblCheckprice\"]')"
      ],
      "execution_count": null,
      "outputs": []
    },
    {
      "cell_type": "code",
      "metadata": {
        "id": "W2UwklBOsGc8"
      },
      "source": [
        "row_no = []\n",
        "subject = []\n",
        "price = []\n",
        "unit = []\n",
        "for i in element.get_attribute('innerHTML').split('<td class=\" text-center\">')[1:]:\n",
        "    j = i.split('</td><td class=\"sorting_1\">')\n",
        "    row_no.append(j[0])\n",
        "    \n",
        "    k = j[-1].replace('&nbsp;&nbsp;</td><td class=\" price\">','|')\n",
        "    k = k.replace('</td><td class=\" price\">','|')\n",
        "    k = k.split(\"|\")\n",
        "    subject.append(k[0])\n",
        "    \n",
        "    l = k[1].replace('</td><td class=\" unit\">','|')\n",
        "    price.append(l.split('|')[0])\n",
        "    \n",
        "    unit.append(l.split('|')[1].split('<')[0])"
      ],
      "execution_count": null,
      "outputs": []
    },
    {
      "cell_type": "code",
      "metadata": {
        "id": "XNXagb_xsJSU"
      },
      "source": [
        "date_ = []\n",
        "for i in row_no:\n",
        "    date_.append(date)"
      ],
      "execution_count": null,
      "outputs": []
    },
    {
      "cell_type": "code",
      "metadata": {
        "id": "1ixxP_ZGsMCM"
      },
      "source": [
        "from pandas import DataFrame\n",
        "table = list(zip(date_,subject,price,unit))\n",
        "เนื้อสัตว์ = DataFrame(table,columns=['date','product','range price','unit'])\n",
        "as_date = list(เนื้อสัตว์['date'])\n",
        "as_date_ = []\n",
        "day_name = []\n",
        "for i in as_date:\n",
        "    x = datetime.date(int(i.split('/')[2])-543, int(i.split('/')[1]), int(i.split('/')[0]))\n",
        "    as_date_.append(x)\n",
        "    day_name.append(x.strftime(\"%A\"))\n",
        "เนื้อสัตว์['date'] = as_date_"
      ],
      "execution_count": null,
      "outputs": []
    },
    {
      "cell_type": "code",
      "metadata": {
        "id": "kRQ-o5LVsOUh"
      },
      "source": [
        "price = เนื้อสัตว์['range price'].tolist()\n",
        "min_price = []\n",
        "max_price = []\n",
        "avg_price = []\n",
        "\n",
        "for i in price:\n",
        "    mn = float(i.split(\" - \")[0])\n",
        "    mx = float(i.split(\" - \")[1])\n",
        "    min_price.append(mn)\n",
        "    max_price.append(mx)\n",
        "    avg_price.append((mn+mx)/2)\n",
        "\n",
        "เนื้อสัตว์['min price'] = min_price\n",
        "เนื้อสัตว์['max price'] = max_price\n",
        "เนื้อสัตว์['price'] = avg_price"
      ],
      "execution_count": null,
      "outputs": []
    },
    {
      "cell_type": "code",
      "metadata": {
        "id": "4RN2W8fOsRBF"
      },
      "source": [
        "as_date = list(เนื้อสัตว์['date'])\n",
        "day_name = []\n",
        "for i in as_date:\n",
        "    day_name.append(i.strftime(\"%A\"))\n",
        "    \n",
        "เนื้อสัตว์['datename'] = day_name"
      ],
      "execution_count": null,
      "outputs": []
    },
    {
      "cell_type": "code",
      "metadata": {
        "id": "9HJElHwxsTyS"
      },
      "source": [
        "เนื้อสัตว์['year'] = pd.to_datetime(เนื้อสัตว์[\"date\"]).dt.year\n",
        "เนื้อสัตว์['month'] = pd.to_datetime(เนื้อสัตว์[\"date\"]).dt.month"
      ],
      "execution_count": null,
      "outputs": []
    },
    {
      "cell_type": "code",
      "metadata": {
        "id": "mZRWANSisWiY"
      },
      "source": [
        "เนื้อสัตว์['date'] = pd.to_datetime(เนื้อสัตว์[\"date\"])"
      ],
      "execution_count": null,
      "outputs": []
    },
    {
      "cell_type": "code",
      "metadata": {
        "id": "jCPt43yasY02"
      },
      "source": [
        "เนื้อสัตว์ = เนื้อสัตว์.replace({\"month\": m_ord2})"
      ],
      "execution_count": null,
      "outputs": []
    },
    {
      "cell_type": "code",
      "metadata": {
        "id": "_45GjhXisbBM"
      },
      "source": [
        "เนื้อสัตว์['source'] = 'กระทรวงพาณิชย์'\n",
        "เนื้อสัตว์['product group'] = 'เนื้อสัตว์-ค้าปลีก'"
      ],
      "execution_count": null,
      "outputs": []
    },
    {
      "cell_type": "markdown",
      "metadata": {
        "id": "cINEKh2z977t"
      },
      "source": [
        "# สัตว์น้ำ-ค้าปลีก"
      ]
    },
    {
      "cell_type": "code",
      "metadata": {
        "id": "yFxU_wOzsdTm"
      },
      "source": [
        "url = \"https://www.moc.go.th/index.php/rice-iframe-3.html\""
      ],
      "execution_count": null,
      "outputs": []
    },
    {
      "cell_type": "code",
      "metadata": {
        "id": "XyfkBaAAsloe",
        "colab": {
          "base_uri": "https://localhost:8080/",
          "height": 35
        },
        "outputId": "c6a00d0e-e81b-4580-b11b-82059f0338be"
      },
      "source": [
        "#from bs4 import BeautifulSoup\n",
        "res = requests.get(url)\n",
        "time.sleep(30)\n",
        "soup = BeautifulSoup(res.content, \"lxml\")\n",
        "#time.sleep(30)\n",
        "src = soup.find_all(\"div\",{\"class\":\"contentpane\"})\n",
        "\n",
        "for i in str(src).split():\n",
        "    if 'src' in i:\n",
        "        URL = i[5:-1]\n",
        "URL"
      ],
      "execution_count": null,
      "outputs": [
        {
          "output_type": "execute_result",
          "data": {
            "application/vnd.google.colaboratory.intrinsic+json": {
              "type": "string"
            },
            "text/plain": [
              "'https://mex.moc.go.th/page/dit/checkprice/type/R/catid/2'"
            ]
          },
          "metadata": {
            "tags": []
          },
          "execution_count": 233
        }
      ]
    },
    {
      "cell_type": "code",
      "metadata": {
        "id": "0LVYsIHwsn9b",
        "colab": {
          "base_uri": "https://localhost:8080/",
          "height": 35
        },
        "outputId": "0957bbe1-4ca5-4917-ab2b-9242907f9dd7"
      },
      "source": [
        "page = requests.get(URL)\n",
        "time.sleep(30)\n",
        "soup = BeautifulSoup(page.content, 'html.parser')\n",
        "#tables = soup.find_all(\"table\")\n",
        "#time.sleep(30)\n",
        "title = str(soup.find_all(\"caption\")).split()[1:4]\n",
        "title = ' '.join([str(elem) for elem in title])\n",
        "title"
      ],
      "execution_count": null,
      "outputs": [
        {
          "output_type": "execute_result",
          "data": {
            "application/vnd.google.colaboratory.intrinsic+json": {
              "type": "string"
            },
            "text/plain": [
              "'ราคา : สัตว์น้ำ-ค้าปลีก'"
            ]
          },
          "metadata": {
            "tags": []
          },
          "execution_count": 234
        }
      ]
    },
    {
      "cell_type": "code",
      "metadata": {
        "id": "OLblCxnIsy3W",
        "colab": {
          "base_uri": "https://localhost:8080/",
          "height": 35
        },
        "outputId": "7f7a84c3-5809-41bf-ec49-8e2c79f92505"
      },
      "source": [
        "date = str(soup.find_all(\"caption\")).split()[-2][:-1]\n",
        "date"
      ],
      "execution_count": null,
      "outputs": [
        {
          "output_type": "execute_result",
          "data": {
            "application/vnd.google.colaboratory.intrinsic+json": {
              "type": "string"
            },
            "text/plain": [
              "'04/08/2564'"
            ]
          },
          "metadata": {
            "tags": []
          },
          "execution_count": 235
        }
      ]
    },
    {
      "cell_type": "code",
      "metadata": {
        "id": "1DlJXIxNtF96"
      },
      "source": [
        "driver.get(URL)\n",
        "time.sleep(30)"
      ],
      "execution_count": null,
      "outputs": []
    },
    {
      "cell_type": "code",
      "metadata": {
        "id": "S_uiLQcEtIeN"
      },
      "source": [
        "driver.find_element_by_xpath('//*[@id=\"tblCheckprice_length\"]/label/select/option[4]').click()"
      ],
      "execution_count": null,
      "outputs": []
    },
    {
      "cell_type": "code",
      "metadata": {
        "id": "yQQge-eutTdd"
      },
      "source": [
        "element = driver.find_element_by_xpath('//*[@id=\"tblCheckprice\"]')"
      ],
      "execution_count": null,
      "outputs": []
    },
    {
      "cell_type": "code",
      "metadata": {
        "id": "-dd0c75BtVvk"
      },
      "source": [
        "row_no = []\n",
        "subject = []\n",
        "price = []\n",
        "unit = []\n",
        "for i in element.get_attribute('innerHTML').split('<td class=\" text-center\">')[1:]:\n",
        "    j = i.split('</td><td class=\"sorting_1\">')\n",
        "    row_no.append(j[0])\n",
        "    \n",
        "    k = j[-1].replace('&nbsp;&nbsp;</td><td class=\" price\">','|')\n",
        "    k = k.replace('</td><td class=\" price\">','|')\n",
        "    k = k.split(\"|\")\n",
        "    subject.append(k[0])\n",
        "    \n",
        "    l = k[1].replace('</td><td class=\" unit\">','|')\n",
        "    price.append(l.split('|')[0])\n",
        "    \n",
        "    unit.append(l.split('|')[1].split('<')[0])"
      ],
      "execution_count": null,
      "outputs": []
    },
    {
      "cell_type": "code",
      "metadata": {
        "id": "ZlURpT5GtYe3"
      },
      "source": [
        "date_ = []\n",
        "for i in row_no:\n",
        "    date_.append(date)"
      ],
      "execution_count": null,
      "outputs": []
    },
    {
      "cell_type": "code",
      "metadata": {
        "id": "7zVvVGe4tbNZ"
      },
      "source": [
        "from pandas import DataFrame\n",
        "table = list(zip(date_,subject,price,unit))\n",
        "สัตว์น้ำ = DataFrame(table,columns=['date','product','range price','unit'])\n",
        "as_date = list(สัตว์น้ำ['date'])\n",
        "as_date_ = []\n",
        "day_name = []\n",
        "for i in as_date:\n",
        "    x = datetime.date(int(i.split('/')[2])-543, int(i.split('/')[1]), int(i.split('/')[0]))\n",
        "    as_date_.append(x)\n",
        "    day_name.append(x.strftime(\"%A\"))\n",
        "สัตว์น้ำ['date'] = as_date_"
      ],
      "execution_count": null,
      "outputs": []
    },
    {
      "cell_type": "code",
      "metadata": {
        "id": "8DPg8LSKtd8_"
      },
      "source": [
        "price = สัตว์น้ำ['range price'].tolist()\n",
        "min_price = []\n",
        "max_price = []\n",
        "avg_price = []\n",
        "\n",
        "for i in price:\n",
        "    mn = float(i.split(\" - \")[0])\n",
        "    mx = float(i.split(\" - \")[1])\n",
        "    min_price.append(mn)\n",
        "    max_price.append(mx)\n",
        "    avg_price.append((mn+mx)/2)\n",
        "\n",
        "สัตว์น้ำ['min price'] = min_price\n",
        "สัตว์น้ำ['max price'] = max_price\n",
        "สัตว์น้ำ['price'] = avg_price"
      ],
      "execution_count": null,
      "outputs": []
    },
    {
      "cell_type": "code",
      "metadata": {
        "id": "6su8Ufl-th0W"
      },
      "source": [
        "as_date = list(สัตว์น้ำ['date'])\n",
        "day_name = []\n",
        "for i in as_date:\n",
        "    day_name.append(i.strftime(\"%A\"))\n",
        "    \n",
        "สัตว์น้ำ['datename'] = day_name"
      ],
      "execution_count": null,
      "outputs": []
    },
    {
      "cell_type": "code",
      "metadata": {
        "id": "i30eVIw0tkK6"
      },
      "source": [
        "สัตว์น้ำ['year'] = pd.to_datetime(สัตว์น้ำ[\"date\"]).dt.year\n",
        "สัตว์น้ำ['month'] = pd.to_datetime(สัตว์น้ำ[\"date\"]).dt.month"
      ],
      "execution_count": null,
      "outputs": []
    },
    {
      "cell_type": "code",
      "metadata": {
        "id": "wquTRmSWtmak"
      },
      "source": [
        "สัตว์น้ำ['date'] = pd.to_datetime(สัตว์น้ำ[\"date\"])"
      ],
      "execution_count": null,
      "outputs": []
    },
    {
      "cell_type": "code",
      "metadata": {
        "id": "XBzwh6Hqto2l"
      },
      "source": [
        "สัตว์น้ำ = สัตว์น้ำ.replace({\"month\": m_ord2})"
      ],
      "execution_count": null,
      "outputs": []
    },
    {
      "cell_type": "code",
      "metadata": {
        "id": "VuXi99Nvtq6n"
      },
      "source": [
        "สัตว์น้ำ['source'] = 'กระทรวงพาณิชย์'\n",
        "สัตว์น้ำ['product group'] = 'สัตว์น้ำ-ค้าปลีก'"
      ],
      "execution_count": null,
      "outputs": []
    },
    {
      "cell_type": "markdown",
      "metadata": {
        "id": "kFMlTyIA-XL3"
      },
      "source": [
        "# อาหารสัตว์และวัตถุดิบ"
      ]
    },
    {
      "cell_type": "code",
      "metadata": {
        "id": "GuDXgjy4ttKG"
      },
      "source": [
        "url = \"https://www.moc.go.th/index.php/rice-iframe-18.html\""
      ],
      "execution_count": null,
      "outputs": []
    },
    {
      "cell_type": "code",
      "metadata": {
        "id": "lKH_i5yxtzPU",
        "colab": {
          "base_uri": "https://localhost:8080/",
          "height": 35
        },
        "outputId": "c52ff4a4-b9c5-405d-e791-5665d17fe56a"
      },
      "source": [
        "#from bs4 import BeautifulSoup\n",
        "res = requests.get(url)\n",
        "time.sleep(30)\n",
        "soup = BeautifulSoup(res.content, \"lxml\")\n",
        "#time.sleep(30)\n",
        "src = soup.find_all(\"div\",{\"class\":\"contentpane\"})\n",
        "\n",
        "for i in str(src).split():\n",
        "    if 'src' in i:\n",
        "        URL = i[5:-1]\n",
        "URL"
      ],
      "execution_count": null,
      "outputs": [
        {
          "output_type": "execute_result",
          "data": {
            "application/vnd.google.colaboratory.intrinsic+json": {
              "type": "string"
            },
            "text/plain": [
              "'https://mex.moc.go.th/page/dit/checkprice/type/W/catid/8'"
            ]
          },
          "metadata": {
            "tags": []
          },
          "execution_count": 249
        }
      ]
    },
    {
      "cell_type": "code",
      "metadata": {
        "id": "5L-E4lewt18Q",
        "colab": {
          "base_uri": "https://localhost:8080/",
          "height": 35
        },
        "outputId": "5741ea27-6656-4136-abaf-b6309613d713"
      },
      "source": [
        "page = requests.get(URL)\n",
        "time.sleep(30)\n",
        "soup = BeautifulSoup(page.content, 'html.parser')\n",
        "#tables = soup.find_all(\"table\")\n",
        "#time.sleep(30)\n",
        "title = str(soup.find_all(\"caption\")).split()[1:4]\n",
        "title = ' '.join([str(elem) for elem in title])\n",
        "title"
      ],
      "execution_count": null,
      "outputs": [
        {
          "output_type": "execute_result",
          "data": {
            "application/vnd.google.colaboratory.intrinsic+json": {
              "type": "string"
            },
            "text/plain": [
              "'ราคา : อาหารสัตว์และวัตถุดิบอาหารสัตว์-ค้าส่ง'"
            ]
          },
          "metadata": {
            "tags": []
          },
          "execution_count": 250
        }
      ]
    },
    {
      "cell_type": "code",
      "metadata": {
        "id": "eP8JFry7uBWD",
        "colab": {
          "base_uri": "https://localhost:8080/",
          "height": 35
        },
        "outputId": "55afec76-c9e3-44ef-c970-7dc14bb4e04e"
      },
      "source": [
        "date = str(soup.find_all(\"caption\")).split()[-2][:-1]\n",
        "date"
      ],
      "execution_count": null,
      "outputs": [
        {
          "output_type": "execute_result",
          "data": {
            "application/vnd.google.colaboratory.intrinsic+json": {
              "type": "string"
            },
            "text/plain": [
              "'04/08/2564'"
            ]
          },
          "metadata": {
            "tags": []
          },
          "execution_count": 251
        }
      ]
    },
    {
      "cell_type": "code",
      "metadata": {
        "id": "SxsqAOlUuLuH"
      },
      "source": [
        "driver.get(URL)\n",
        "time.sleep(30)"
      ],
      "execution_count": null,
      "outputs": []
    },
    {
      "cell_type": "code",
      "metadata": {
        "id": "AyMpYeaAuOOz"
      },
      "source": [
        "driver.find_element_by_xpath('//*[@id=\"tblCheckprice_length\"]/label/select/option[4]').click()"
      ],
      "execution_count": null,
      "outputs": []
    },
    {
      "cell_type": "code",
      "metadata": {
        "id": "JuqHIxUYuYlj"
      },
      "source": [
        "element = driver.find_element_by_xpath('//*[@id=\"tblCheckprice\"]')"
      ],
      "execution_count": null,
      "outputs": []
    },
    {
      "cell_type": "code",
      "metadata": {
        "id": "JTdfnyHKubbq"
      },
      "source": [
        "row_no = []\n",
        "subject = []\n",
        "price = []\n",
        "unit = []\n",
        "for i in element.get_attribute('innerHTML').split('<td class=\" text-center\">')[1:]:\n",
        "    j = i.split('</td><td class=\"sorting_1\">')\n",
        "    row_no.append(j[0])\n",
        "    \n",
        "    k = j[-1].replace('&nbsp;&nbsp;</td><td class=\" price\">','|')\n",
        "    k = k.replace('</td><td class=\" price\">','|')\n",
        "    k = k.split(\"|\")\n",
        "    subject.append(k[0])\n",
        "    \n",
        "    l = k[1].replace('</td><td class=\" unit\">','|')\n",
        "    price.append(l.split('|')[0])\n",
        "    \n",
        "    unit.append(l.split('|')[1].split('<')[0])"
      ],
      "execution_count": null,
      "outputs": []
    },
    {
      "cell_type": "code",
      "metadata": {
        "id": "DdGKYTuiueIK"
      },
      "source": [
        "date_ = []\n",
        "for i in row_no:\n",
        "    date_.append(date)"
      ],
      "execution_count": null,
      "outputs": []
    },
    {
      "cell_type": "code",
      "metadata": {
        "id": "CFBWYXqFuhsa"
      },
      "source": [
        "from pandas import DataFrame\n",
        "table = list(zip(date_,subject,price,unit))\n",
        "อาหารสัตว์และวัตถุดิบ = DataFrame(table,columns=['date','product','range price','unit'])\n",
        "as_date = list(อาหารสัตว์และวัตถุดิบ['date'])\n",
        "as_date_ = []\n",
        "day_name = []\n",
        "for i in as_date:\n",
        "    x = datetime.date(int(i.split('/')[2])-543, int(i.split('/')[1]), int(i.split('/')[0]))\n",
        "    as_date_.append(x)\n",
        "    day_name.append(x.strftime(\"%A\"))\n",
        "อาหารสัตว์และวัตถุดิบ['date'] = as_date_"
      ],
      "execution_count": null,
      "outputs": []
    },
    {
      "cell_type": "code",
      "metadata": {
        "id": "-y2OngZxulKn"
      },
      "source": [
        "price = อาหารสัตว์และวัตถุดิบ['range price'].tolist()\n",
        "min_price = []\n",
        "max_price = []\n",
        "avg_price = []\n",
        "\n",
        "for i in price:\n",
        "    mn = float(i.split(\" - \")[0])\n",
        "    mx = float(i.split(\" - \")[1])\n",
        "    min_price.append(mn)\n",
        "    max_price.append(mx)\n",
        "    avg_price.append((mn+mx)/2)\n",
        "\n",
        "อาหารสัตว์และวัตถุดิบ['min price'] = min_price\n",
        "อาหารสัตว์และวัตถุดิบ['max price'] = max_price\n",
        "อาหารสัตว์และวัตถุดิบ['price'] = avg_price"
      ],
      "execution_count": null,
      "outputs": []
    },
    {
      "cell_type": "code",
      "metadata": {
        "id": "_LvybQl-uoe1"
      },
      "source": [
        "as_date = list(อาหารสัตว์และวัตถุดิบ['date'])\n",
        "day_name = []\n",
        "for i in as_date:\n",
        "    day_name.append(i.strftime(\"%A\"))\n",
        "    \n",
        "อาหารสัตว์และวัตถุดิบ['datename'] = day_name"
      ],
      "execution_count": null,
      "outputs": []
    },
    {
      "cell_type": "code",
      "metadata": {
        "id": "FXrlAzAFusnI"
      },
      "source": [
        "อาหารสัตว์และวัตถุดิบ['year'] = pd.to_datetime(อาหารสัตว์และวัตถุดิบ[\"date\"]).dt.year\n",
        "อาหารสัตว์และวัตถุดิบ['month'] = pd.to_datetime(อาหารสัตว์และวัตถุดิบ[\"date\"]).dt.month\n",
        "\n",
        "อาหารสัตว์และวัตถุดิบ['date'] = pd.to_datetime(อาหารสัตว์และวัตถุดิบ[\"date\"])\n",
        "\n",
        "อาหารสัตว์และวัตถุดิบ = อาหารสัตว์และวัตถุดิบ.replace({\"month\": m_ord2})\n",
        "\n",
        "อาหารสัตว์และวัตถุดิบ['source'] = 'กระทรวงพาณิชย์'\n",
        "อาหารสัตว์และวัตถุดิบ['product group'] = 'อาหารสัตว์และวัตถุดิบอาหารสัตว์-ค้าส่ง'"
      ],
      "execution_count": null,
      "outputs": []
    },
    {
      "cell_type": "markdown",
      "metadata": {
        "id": "kJmxZSsS-4oC"
      },
      "source": [
        "# ตลาดสด - ตลาดไท"
      ]
    },
    {
      "cell_type": "code",
      "metadata": {
        "id": "TWi-qrEYobal"
      },
      "source": [
        "import numpy as np"
      ],
      "execution_count": null,
      "outputs": []
    },
    {
      "cell_type": "code",
      "metadata": {
        "id": "qyuwods3uvoE"
      },
      "source": [
        "url = \"https://talaadthai.com/product-search/result?subcat_id=10132&per_page=50&page=1\"\n",
        "\n",
        "driver.get(url)\n",
        "time.sleep(30)\n",
        "\n",
        "element = driver.find_element_by_xpath('//*[@id=\"__layout\"]/div/div/div[2]/div[4]/div/div/div/div[2]/div[1]/h5')\n",
        "last_page = int(np.ceil(int(element.get_attribute('innerHTML').split()[1])/50))"
      ],
      "execution_count": null,
      "outputs": []
    },
    {
      "cell_type": "code",
      "metadata": {
        "id": "avXp7IT5u3H7"
      },
      "source": [
        "product = []\n",
        "dt = []\n",
        "\n",
        "min_price = []\n",
        "max_price = []\n",
        "avg_price = []\n",
        "range_price = []\n",
        "unit = []\n",
        "\n",
        "for i in range(last_page):\n",
        "    URL = url[:-1]+str(i+1)\n",
        "    driver.get(URL)\n",
        "    time.sleep(30)\n",
        "    element = driver.find_element_by_xpath('//*[@id=\"__layout\"]/div/div/div[2]/div[4]/div/div/div/div[3]')\n",
        "    \n",
        "    for j in element.get_attribute('innerText').split('\\n'):\n",
        "        if len(j.split('%')) == 1:\n",
        "            product.append(j)\n",
        "        else:\n",
        "            k = j.split('%')[0]\n",
        "            dt.append(j.split('%')[1])\n",
        "            min_price.append(float(k.split()[0]))\n",
        "            max_price.append(float(k.split()[2]))\n",
        "            avg_price.append((float(k.split()[0])+float(k.split()[2]))/2)\n",
        "            range_price.append(' '.join(k.split()[:3]))\n",
        "            unit.append(' '.join(k.split()[3:-1]))"
      ],
      "execution_count": null,
      "outputs": []
    },
    {
      "cell_type": "code",
      "metadata": {
        "id": "aAcqTT89n7vJ"
      },
      "source": [
        "date_ = []\n",
        "for i in dt:\n",
        "#  print(i.split('/')[2],i.split('/')[1],i.split('/')[0])\n",
        "  x = datetime.date(int(i.split('/')[2]), int(i.split('/')[1]), int(i.split('/')[0]))\n",
        "  date_.append(x)"
      ],
      "execution_count": null,
      "outputs": []
    },
    {
      "cell_type": "code",
      "metadata": {
        "id": "7XpkOTrLvOb_"
      },
      "source": [
        "# date_ = []\n",
        "# for i in dt:\n",
        "#     #print(pd.to_datetime(i.strip()).strftime('%#Y/%#m/%d %H:%M:%S'))\n",
        "#     date_.append(pd.to_datetime(i.strip()))"
      ],
      "execution_count": null,
      "outputs": []
    },
    {
      "cell_type": "code",
      "metadata": {
        "id": "E8nlT4VKvg3J"
      },
      "source": [
        "from pandas import DataFrame\n",
        "table = list(zip(date_,product,range_price,unit))\n",
        "ตลาดสดตลาดไท = DataFrame(table,columns=['date','product','range price','unit'])"
      ],
      "execution_count": null,
      "outputs": []
    },
    {
      "cell_type": "code",
      "metadata": {
        "id": "tLW1Gtl9vjhG"
      },
      "source": [
        "as_date = list(ตลาดสดตลาดไท['date'])\n",
        "as_date_ = []\n",
        "day_name = []\n",
        "for i in as_date:\n",
        "    # i = str(i).split(' ')\n",
        "    # i = i[0]\n",
        "    # x = datetime.date(int(i.split('-')[0]), int(i.split('-')[2]), int(i.split('-')[1]))\n",
        "    as_date_.append(i)\n",
        "    day_name.append(i.strftime(\"%A\"))\n",
        "ตลาดสดตลาดไท['date'] = as_date_"
      ],
      "execution_count": null,
      "outputs": []
    },
    {
      "cell_type": "code",
      "metadata": {
        "id": "a5nhRLopvmJA"
      },
      "source": [
        "ตลาดสดตลาดไท['min price'] = min_price\n",
        "ตลาดสดตลาดไท['max price'] = max_price\n",
        "ตลาดสดตลาดไท['price'] = avg_price"
      ],
      "execution_count": null,
      "outputs": []
    },
    {
      "cell_type": "code",
      "metadata": {
        "id": "AkncsdrRvot5"
      },
      "source": [
        "as_date = list(ตลาดสดตลาดไท['date'])\n",
        "day_name = []\n",
        "for i in as_date:\n",
        "    day_name.append(i.strftime(\"%A\"))\n",
        "    \n",
        "ตลาดสดตลาดไท['datename'] = day_name"
      ],
      "execution_count": null,
      "outputs": []
    },
    {
      "cell_type": "code",
      "metadata": {
        "id": "vjZvqr73vrOH"
      },
      "source": [
        "ตลาดสดตลาดไท['year'] = pd.to_datetime(ตลาดสดตลาดไท[\"date\"]).dt.year\n",
        "ตลาดสดตลาดไท['month'] = pd.to_datetime(ตลาดสดตลาดไท[\"date\"]).dt.month\n",
        "\n",
        "ตลาดสดตลาดไท['date'] = pd.to_datetime(ตลาดสดตลาดไท[\"date\"])\n",
        "\n",
        "ตลาดสดตลาดไท = ตลาดสดตลาดไท.replace({\"month\": m_ord2})\n",
        "\n",
        "ตลาดสดตลาดไท['source'] = 'ตลาดไท'\n",
        "ตลาดสดตลาดไท['product group'] = 'ตลาดสด-ตลาดไท'"
      ],
      "execution_count": null,
      "outputs": []
    },
    {
      "cell_type": "markdown",
      "metadata": {
        "id": "5Kl_C69z_VfG"
      },
      "source": [
        "# ตลาดปลาน้ำจืดตลาดไท"
      ]
    },
    {
      "cell_type": "code",
      "metadata": {
        "id": "ND815URRvtp3"
      },
      "source": [
        "url = \"https://talaadthai.com/product-search/result?subcat_id=10133&per_page=50&page=1\"\n",
        "\n",
        "driver.get(url)\n",
        "time.sleep(30)\n",
        "\n",
        "element = driver.find_element_by_xpath('//*[@id=\"__layout\"]/div/div/div[2]/div[4]/div/div/div/div[2]/div[1]/h5')\n",
        "last_page = int(np.ceil(int(element.get_attribute('innerHTML').split()[1])/50))"
      ],
      "execution_count": null,
      "outputs": []
    },
    {
      "cell_type": "code",
      "metadata": {
        "id": "tAXLN3d1v0eW"
      },
      "source": [
        "product = []\n",
        "dt = []\n",
        "\n",
        "min_price = []\n",
        "max_price = []\n",
        "avg_price = []\n",
        "range_price = []\n",
        "unit = []\n",
        "\n",
        "for i in range(last_page):\n",
        "    URL = url[:-1]+str(i+1)\n",
        "    driver.get(URL)\n",
        "    time.sleep(30)\n",
        "    element = driver.find_element_by_xpath('//*[@id=\"__layout\"]/div/div/div[2]/div[4]/div/div/div/div[3]')\n",
        "    \n",
        "    for j in element.get_attribute('innerText').split('\\n'):\n",
        "        if len(j.split('%')) == 1:\n",
        "            product.append(j)\n",
        "        else:\n",
        "            k = j.split('%')[0]\n",
        "            dt.append(j.split('%')[1])\n",
        "            min_price.append(float(k.split()[0]))\n",
        "            max_price.append(float(k.split()[2]))\n",
        "            avg_price.append((float(k.split()[0])+float(k.split()[2]))/2)\n",
        "            range_price.append(' '.join(k.split()[:3]))\n",
        "            unit.append(' '.join(k.split()[3:-1]))"
      ],
      "execution_count": null,
      "outputs": []
    },
    {
      "cell_type": "code",
      "metadata": {
        "id": "axPu6DMslHbF"
      },
      "source": [
        "date_ = []\n",
        "for i in dt:\n",
        "#  print(i.split('/')[2],i.split('/')[1],i.split('/')[0])\n",
        "  x = datetime.date(int(i.split('/')[2]), int(i.split('/')[1]), int(i.split('/')[0]))\n",
        "  date_.append(x)"
      ],
      "execution_count": null,
      "outputs": []
    },
    {
      "cell_type": "code",
      "metadata": {
        "id": "fwIQzLUcv_uI"
      },
      "source": [
        "# date_ = []\n",
        "# for i in dt:\n",
        "#     date_.append(pd.to_datetime(i.strip()))"
      ],
      "execution_count": null,
      "outputs": []
    },
    {
      "cell_type": "code",
      "metadata": {
        "id": "fejThoT1wS4X"
      },
      "source": [
        "from pandas import DataFrame\n",
        "table = list(zip(date_,product,range_price,unit))\n",
        "ปลาน้ำจืดตลาดไท = DataFrame(table,columns=['date','product','range price','unit'])"
      ],
      "execution_count": null,
      "outputs": []
    },
    {
      "cell_type": "code",
      "metadata": {
        "id": "0VhLj0_FwVuH"
      },
      "source": [
        "as_date = list(ปลาน้ำจืดตลาดไท['date'])\n",
        "as_date_ = []\n",
        "day_name = []\n",
        "for i in as_date:\n",
        "    as_date_.append(i)\n",
        "    day_name.append(i.strftime(\"%A\"))\n",
        "ปลาน้ำจืดตลาดไท['date'] = as_date_"
      ],
      "execution_count": null,
      "outputs": []
    },
    {
      "cell_type": "code",
      "metadata": {
        "id": "uY9PTqzbwaby"
      },
      "source": [
        "ปลาน้ำจืดตลาดไท['min price'] = min_price\n",
        "ปลาน้ำจืดตลาดไท['max price'] = max_price\n",
        "ปลาน้ำจืดตลาดไท['price'] = avg_price"
      ],
      "execution_count": null,
      "outputs": []
    },
    {
      "cell_type": "code",
      "metadata": {
        "id": "Nx32fDllwdgY"
      },
      "source": [
        "as_date = list(ปลาน้ำจืดตลาดไท['date'])\n",
        "day_name = []\n",
        "for i in as_date:\n",
        "    day_name.append(i.strftime(\"%A\"))\n",
        "    \n",
        "ปลาน้ำจืดตลาดไท['datename'] = day_name"
      ],
      "execution_count": null,
      "outputs": []
    },
    {
      "cell_type": "code",
      "metadata": {
        "id": "RcM-A7OXwgM9"
      },
      "source": [
        "ปลาน้ำจืดตลาดไท['year'] = pd.to_datetime(ปลาน้ำจืดตลาดไท[\"date\"]).dt.year\n",
        "ปลาน้ำจืดตลาดไท['month'] = pd.to_datetime(ปลาน้ำจืดตลาดไท[\"date\"]).dt.month\n",
        "\n",
        "ปลาน้ำจืดตลาดไท['date'] = pd.to_datetime(ปลาน้ำจืดตลาดไท[\"date\"])\n",
        "\n",
        "ปลาน้ำจืดตลาดไท = ปลาน้ำจืดตลาดไท.replace({\"month\": m_ord2})\n",
        "\n",
        "ปลาน้ำจืดตลาดไท['source'] = 'ตลาดไท'\n",
        "ปลาน้ำจืดตลาดไท['product group'] = 'ตลาดปลาน้ำจืด-ตลาดไท'"
      ],
      "execution_count": null,
      "outputs": []
    },
    {
      "cell_type": "markdown",
      "metadata": {
        "id": "ebJS159x_0X1"
      },
      "source": [
        "# อาหารทะเลตลาดไท"
      ]
    },
    {
      "cell_type": "code",
      "metadata": {
        "id": "kJ6Nun1LwilV"
      },
      "source": [
        "url = \"https://talaadthai.com/product-search/result?subcat_id=10134&per_page=50&page=1\"\n",
        "\n",
        "driver.get(url)\n",
        "time.sleep(30)\n",
        "\n",
        "element = driver.find_element_by_xpath('//*[@id=\"__layout\"]/div/div/div[2]/div[4]/div/div/div/div[2]/div[1]/h5')\n",
        "last_page = int(np.ceil(int(element.get_attribute('innerHTML').split()[1])/50))"
      ],
      "execution_count": null,
      "outputs": []
    },
    {
      "cell_type": "code",
      "metadata": {
        "id": "BaRvjoB9wqxd"
      },
      "source": [
        "product = []\n",
        "dt = []\n",
        "\n",
        "min_price = []\n",
        "max_price = []\n",
        "avg_price = []\n",
        "range_price = []\n",
        "unit = []\n",
        "\n",
        "for i in range(last_page):\n",
        "    URL = url[:-1]+str(i+1)\n",
        "    driver.get(URL)\n",
        "    time.sleep(30)\n",
        "    element = driver.find_element_by_xpath('//*[@id=\"__layout\"]/div/div/div[2]/div[4]/div/div/div/div[3]')\n",
        "    \n",
        "    for j in element.get_attribute('innerText').split('\\n'):\n",
        "        if len(j.split('%')) == 1:\n",
        "            product.append(j)\n",
        "        else:\n",
        "            k = j.split('%')[0]\n",
        "            dt.append(j.split('%')[1])\n",
        "            min_price.append(float(k.split()[0]))\n",
        "            max_price.append(float(k.split()[2]))\n",
        "            avg_price.append((float(k.split()[0])+float(k.split()[2]))/2)\n",
        "            range_price.append(' '.join(k.split()[:3]))\n",
        "            unit.append(' '.join(k.split()[3:-1]))"
      ],
      "execution_count": null,
      "outputs": []
    },
    {
      "cell_type": "code",
      "metadata": {
        "id": "TtA-OhRdpWQQ"
      },
      "source": [
        "date_ = []\n",
        "for i in dt:\n",
        "#  print(i.split('/')[2],i.split('/')[1],i.split('/')[0])\n",
        "  x = datetime.date(int(i.split('/')[2]), int(i.split('/')[1]), int(i.split('/')[0]))\n",
        "  date_.append(x)"
      ],
      "execution_count": null,
      "outputs": []
    },
    {
      "cell_type": "code",
      "metadata": {
        "id": "opHo9UmIw1dB"
      },
      "source": [
        "# date_ = []\n",
        "# for i in dt:\n",
        "#     date_.append(pd.to_datetime(i.strip()))"
      ],
      "execution_count": null,
      "outputs": []
    },
    {
      "cell_type": "code",
      "metadata": {
        "id": "-P2MYncrxAge"
      },
      "source": [
        "from pandas import DataFrame\n",
        "table = list(zip(date_,product,range_price,unit))\n",
        "อาหารทะเลตลาดไท = DataFrame(table,columns=['date','product','range price','unit'])"
      ],
      "execution_count": null,
      "outputs": []
    },
    {
      "cell_type": "code",
      "metadata": {
        "id": "UYugyJN1xDiy"
      },
      "source": [
        "as_date = list(อาหารทะเลตลาดไท['date'])\n",
        "as_date_ = []\n",
        "day_name = []\n",
        "for i in as_date:\n",
        "#    x = datetime.date(int(i.split('/')[2])-543, int(i.split('/')[1]), int(i.split('/')[0]))\n",
        "    as_date_.append(i)\n",
        "    day_name.append(i.strftime(\"%A\"))\n",
        "อาหารทะเลตลาดไท['date'] = as_date_"
      ],
      "execution_count": null,
      "outputs": []
    },
    {
      "cell_type": "code",
      "metadata": {
        "id": "NO5Z7upbxGig"
      },
      "source": [
        "อาหารทะเลตลาดไท['min price'] = min_price\n",
        "อาหารทะเลตลาดไท['max price'] = max_price\n",
        "อาหารทะเลตลาดไท['price'] = avg_price"
      ],
      "execution_count": null,
      "outputs": []
    },
    {
      "cell_type": "code",
      "metadata": {
        "id": "YHuWYOuwxI_q"
      },
      "source": [
        "as_date = list(อาหารทะเลตลาดไท['date'])\n",
        "day_name = []\n",
        "for i in as_date:\n",
        "    day_name.append(i.strftime(\"%A\"))\n",
        "    \n",
        "อาหารทะเลตลาดไท['datename'] = day_name"
      ],
      "execution_count": null,
      "outputs": []
    },
    {
      "cell_type": "code",
      "metadata": {
        "id": "p0yxWu7txLk3"
      },
      "source": [
        "อาหารทะเลตลาดไท['year'] = pd.to_datetime(อาหารทะเลตลาดไท[\"date\"]).dt.year\n",
        "อาหารทะเลตลาดไท['month'] = pd.to_datetime(อาหารทะเลตลาดไท[\"date\"]).dt.month\n",
        "\n",
        "อาหารทะเลตลาดไท['date'] = pd.to_datetime(อาหารทะเลตลาดไท[\"date\"])\n",
        "\n",
        "อาหารทะเลตลาดไท = อาหารทะเลตลาดไท.replace({\"month\": m_ord2})\n",
        "\n",
        "อาหารทะเลตลาดไท['source'] = 'ตลาดไท'\n",
        "อาหารทะเลตลาดไท['product group'] = 'ตลาดอาหารทะเล-ตลาดไท'"
      ],
      "execution_count": null,
      "outputs": []
    },
    {
      "cell_type": "markdown",
      "metadata": {
        "id": "iMf-5jAy_9wb"
      },
      "source": [
        "# ราคาวัตถุดิบอาหารสัตว์ CP"
      ]
    },
    {
      "cell_type": "code",
      "metadata": {
        "id": "-eCOIq5UJM5M"
      },
      "source": [
        "#ปลายข้าวเจ้า\n",
        "url = \"http://www.cpffeed.com/material1/\"\n",
        "\n",
        "driver.get(url)\n",
        "time.sleep(30)\n",
        "\n",
        "element = driver.find_element_by_xpath('//*[@id=\"post-1011\"]/div/div/div/div/section[2]/div/div/div/div/div/div[4]/div/div/table/tbody')\n",
        "table = element.get_attribute('innerText').split('\\n')[1:-1]"
      ],
      "execution_count": null,
      "outputs": []
    },
    {
      "cell_type": "code",
      "metadata": {
        "id": "ao1EF7_UK_AW"
      },
      "source": [
        "dt = []\n",
        "price = []\n",
        "unit = []\n",
        "ref = []\n",
        "product = []\n",
        "for i in table:\n",
        "  x = i.replace(\"ปลายข้าวเจ้า\",\"\")\n",
        "  dt.append(x.split(\"\\t\")[2])\n",
        "  price.append(x.split(\"\\t\")[3])\n",
        "  unit.append(x.split(\"\\t\")[5])\n",
        "  ref.append(x.split(\"\\t\")[6])\n",
        "  product.append(\"ปลายข้าวเจ้า\")\n",
        "#  print(x.split(\"\\t\"))"
      ],
      "execution_count": null,
      "outputs": []
    },
    {
      "cell_type": "code",
      "metadata": {
        "id": "kQH8DPBIMT3R"
      },
      "source": [
        "date_ = []\n",
        "for i in dt:\n",
        "  x = datetime.date(int(i.split('-')[0]), int(i.split('-')[1]), int(i.split('-')[2]))\n",
        "  date_.append(x)"
      ],
      "execution_count": null,
      "outputs": []
    },
    {
      "cell_type": "code",
      "metadata": {
        "id": "Ovz7zKNyMu5p"
      },
      "source": [
        "from pandas import DataFrame\n",
        "table = list(zip(date_,product,price,unit,ref))\n",
        "ปลายข้าวเจ้า = DataFrame(table,columns=['date','product','price','unit','remark'])"
      ],
      "execution_count": null,
      "outputs": []
    },
    {
      "cell_type": "code",
      "metadata": {
        "id": "1mVSw8aUNilh"
      },
      "source": [
        "as_date = list(ปลายข้าวเจ้า['date'])\n",
        "as_date_ = []\n",
        "day_name = []\n",
        "for i in as_date:\n",
        "#    x = datetime.date(int(i.split('/')[2])-543, int(i.split('/')[1]), int(i.split('/')[0]))\n",
        "    as_date_.append(i)\n",
        "    day_name.append(i.strftime(\"%A\"))\n",
        "ปลายข้าวเจ้า['date'] = as_date_"
      ],
      "execution_count": null,
      "outputs": []
    },
    {
      "cell_type": "code",
      "metadata": {
        "id": "KVXMIdqcL7gX"
      },
      "source": [
        "as_date = list(ปลายข้าวเจ้า['date'])\n",
        "day_name = []\n",
        "for i in as_date:\n",
        "    day_name.append(i.strftime(\"%A\"))\n",
        "    \n",
        "ปลายข้าวเจ้า['datename'] = day_name"
      ],
      "execution_count": null,
      "outputs": []
    },
    {
      "cell_type": "code",
      "metadata": {
        "id": "VtH1wkFSN6vG"
      },
      "source": [
        "ปลายข้าวเจ้า['year'] = pd.to_datetime(ปลายข้าวเจ้า[\"date\"]).dt.year\n",
        "ปลายข้าวเจ้า['month'] = pd.to_datetime(ปลายข้าวเจ้า[\"date\"]).dt.month\n",
        "\n",
        "ปลายข้าวเจ้า['date'] = pd.to_datetime(ปลายข้าวเจ้า[\"date\"])\n",
        "\n",
        "ปลายข้าวเจ้า = ปลายข้าวเจ้า.replace({\"month\": m_ord2})\n",
        "\n",
        "ปลายข้าวเจ้า['source'] = 'CPF'\n",
        "ปลายข้าวเจ้า['product group'] = 'วัตถุดิบอาหารสัตว์'"
      ],
      "execution_count": null,
      "outputs": []
    },
    {
      "cell_type": "code",
      "metadata": {
        "id": "RdqkK_JNhUD2"
      },
      "source": [
        "#รำสกัด\n",
        "url = \"http://www.cpffeed.com/material2/\"\n",
        "\n",
        "driver.get(url)\n",
        "time.sleep(30)\n",
        "\n",
        "element = driver.find_element_by_xpath('//*[@id=\"post-1037\"]/div/div/div/div/section[2]/div/div/div/div/div/div[4]/div/div/table/tbody')\n",
        "table = element.get_attribute('innerText').split('\\n')[1:-1]"
      ],
      "execution_count": null,
      "outputs": []
    },
    {
      "cell_type": "code",
      "metadata": {
        "id": "rCfaFVLFhjsd"
      },
      "source": [
        "dt = []\n",
        "price = []\n",
        "unit = []\n",
        "ref = []\n",
        "product = []\n",
        "for i in table:\n",
        "  x = i.replace(\"รำสกัด\",\"\")\n",
        "  dt.append(x.split(\"\\t\")[2])\n",
        "  price.append(x.split(\"\\t\")[3])\n",
        "  unit.append(x.split(\"\\t\")[5])\n",
        "  ref.append(x.split(\"\\t\")[6])\n",
        "  product.append(\"รำสกัด\")\n",
        "#  print(x.split(\"\\t\"))"
      ],
      "execution_count": null,
      "outputs": []
    },
    {
      "cell_type": "code",
      "metadata": {
        "id": "yWGgyTWsiHa2"
      },
      "source": [
        "date_ = []\n",
        "for i in dt:\n",
        "  x = datetime.date(int(i.split('-')[0]), int(i.split('-')[1]), int(i.split('-')[2]))\n",
        "  date_.append(x)"
      ],
      "execution_count": null,
      "outputs": []
    },
    {
      "cell_type": "code",
      "metadata": {
        "id": "UXReuDkTiL5_"
      },
      "source": [
        "from pandas import DataFrame\n",
        "table = list(zip(date_,product,price,unit,ref))\n",
        "รำสกัด = DataFrame(table,columns=['date','product','price','unit','remark'])"
      ],
      "execution_count": null,
      "outputs": []
    },
    {
      "cell_type": "code",
      "metadata": {
        "id": "NESU2PaSiUPK"
      },
      "source": [
        "as_date = list(รำสกัด['date'])\n",
        "as_date_ = []\n",
        "day_name = []\n",
        "for i in as_date:\n",
        "#    x = datetime.date(int(i.split('/')[2])-543, int(i.split('/')[1]), int(i.split('/')[0]))\n",
        "    as_date_.append(i)\n",
        "    day_name.append(i.strftime(\"%A\"))\n",
        "รำสกัด['date'] = as_date_"
      ],
      "execution_count": null,
      "outputs": []
    },
    {
      "cell_type": "code",
      "metadata": {
        "id": "Uwdv9tLEibUU"
      },
      "source": [
        "as_date = list(รำสกัด['date'])\n",
        "day_name = []\n",
        "for i in as_date:\n",
        "    day_name.append(i.strftime(\"%A\"))\n",
        "    \n",
        "รำสกัด['datename'] = day_name"
      ],
      "execution_count": null,
      "outputs": []
    },
    {
      "cell_type": "code",
      "metadata": {
        "id": "vrZPxwDcijIj"
      },
      "source": [
        "รำสกัด['year'] = pd.to_datetime(รำสกัด[\"date\"]).dt.year\n",
        "รำสกัด['month'] = pd.to_datetime(รำสกัด[\"date\"]).dt.month\n",
        "\n",
        "รำสกัด['date'] = pd.to_datetime(รำสกัด[\"date\"])\n",
        "\n",
        "รำสกัด = รำสกัด.replace({\"month\": m_ord2})\n",
        "\n",
        "รำสกัด['source'] = 'CPF'\n",
        "รำสกัด['product group'] = 'วัตถุดิบอาหารสัตว์'"
      ],
      "execution_count": null,
      "outputs": []
    },
    {
      "cell_type": "code",
      "metadata": {
        "id": "yyIwISHEi7Ru"
      },
      "source": [
        "#รำขาว\n",
        "url = \"http://www.cpffeed.com/material3/\"\n",
        "\n",
        "driver.get(url)\n",
        "time.sleep(30)\n",
        "\n",
        "element = driver.find_element_by_xpath('//*[@id=\"post-1041\"]/div/div/div/div/section[2]/div/div/div/div/div/div[4]/div/div/table/tbody')\n",
        "table = element.get_attribute('innerText').split('\\n')[1:-1]"
      ],
      "execution_count": null,
      "outputs": []
    },
    {
      "cell_type": "code",
      "metadata": {
        "id": "7rFjfpIrjMKE"
      },
      "source": [
        "dt = []\n",
        "price = []\n",
        "unit = []\n",
        "ref = []\n",
        "product = []\n",
        "for i in table:\n",
        "  x = i.replace(\"รำขาว\",\"\")\n",
        "  dt.append(x.split(\"\\t\")[2])\n",
        "  price.append(x.split(\"\\t\")[3])\n",
        "  unit.append(x.split(\"\\t\")[5])\n",
        "  ref.append(x.split(\"\\t\")[6])\n",
        "  product.append(\"รำขาว\")\n",
        "#  print(x.split(\"\\t\"))"
      ],
      "execution_count": null,
      "outputs": []
    },
    {
      "cell_type": "code",
      "metadata": {
        "id": "W8vMQYAljiE5"
      },
      "source": [
        "date_ = []\n",
        "for i in dt:\n",
        "  x = datetime.date(int(i.split('-')[0]), int(i.split('-')[1]), int(i.split('-')[2]))\n",
        "  date_.append(x)"
      ],
      "execution_count": null,
      "outputs": []
    },
    {
      "cell_type": "code",
      "metadata": {
        "id": "l_MrHPL0jlhi"
      },
      "source": [
        "from pandas import DataFrame\n",
        "table = list(zip(date_,product,price,unit,ref))\n",
        "รำขาว = DataFrame(table,columns=['date','product','price','unit','remark'])"
      ],
      "execution_count": null,
      "outputs": []
    },
    {
      "cell_type": "code",
      "metadata": {
        "id": "W8VKhTaDjrNj"
      },
      "source": [
        "as_date = list(รำขาว['date'])\n",
        "as_date_ = []\n",
        "day_name = []\n",
        "for i in as_date:\n",
        "#    x = datetime.date(int(i.split('/')[2])-543, int(i.split('/')[1]), int(i.split('/')[0]))\n",
        "    as_date_.append(i)\n",
        "    day_name.append(i.strftime(\"%A\"))\n",
        "รำขาว['date'] = as_date_"
      ],
      "execution_count": null,
      "outputs": []
    },
    {
      "cell_type": "code",
      "metadata": {
        "id": "COYP9Gtqjzd7"
      },
      "source": [
        "as_date = list(รำขาว['date'])\n",
        "day_name = []\n",
        "for i in as_date:\n",
        "    day_name.append(i.strftime(\"%A\"))\n",
        "    \n",
        "รำขาว['datename'] = day_name"
      ],
      "execution_count": null,
      "outputs": []
    },
    {
      "cell_type": "code",
      "metadata": {
        "id": "7dTILXk5j6sL"
      },
      "source": [
        "รำขาว['year'] = pd.to_datetime(รำขาว[\"date\"]).dt.year\n",
        "รำขาว['month'] = pd.to_datetime(รำขาว[\"date\"]).dt.month\n",
        "\n",
        "รำขาว['date'] = pd.to_datetime(รำขาว[\"date\"])\n",
        "\n",
        "รำขาว = รำขาว.replace({\"month\": m_ord2})\n",
        "\n",
        "รำขาว['source'] = 'CPF'\n",
        "รำขาว['product group'] = 'วัตถุดิบอาหารสัตว์'"
      ],
      "execution_count": null,
      "outputs": []
    },
    {
      "cell_type": "code",
      "metadata": {
        "id": "6xRK_aXZkI6H"
      },
      "source": [
        "#ข้าวโพดเม็ด\n",
        "url = \"http://www.cpffeed.com/material4/\"\n",
        "\n",
        "driver.get(url)\n",
        "time.sleep(30)\n",
        "\n",
        "element = driver.find_element_by_xpath('//*[@id=\"post-1048\"]/div/div/div/div/section[2]/div/div/div/div/div/div[3]/div/div/table/tbody')\n",
        "table = element.get_attribute('innerText').split('\\n')[1:-1]"
      ],
      "execution_count": null,
      "outputs": []
    },
    {
      "cell_type": "code",
      "metadata": {
        "id": "gpyAn0jrkUhK"
      },
      "source": [
        "dt = []\n",
        "price = []\n",
        "unit = []\n",
        "ref = []\n",
        "product = []\n",
        "for i in table:\n",
        "  x = i.replace(\"ข้าวโพดเม็ด\",\"\")\n",
        "  dt.append(x.split(\"\\t\")[2])\n",
        "  price.append(x.split(\"\\t\")[3])\n",
        "  unit.append(x.split(\"\\t\")[5])\n",
        "  ref.append(x.split(\"\\t\")[6])\n",
        "  product.append(\"ข้าวโพดเม็ด\")\n",
        "#  print(x.split(\"\\t\"))"
      ],
      "execution_count": null,
      "outputs": []
    },
    {
      "cell_type": "code",
      "metadata": {
        "id": "6dxWJp-_kxfp"
      },
      "source": [
        "date_ = []\n",
        "for i in dt:\n",
        "  x = datetime.date(int(i.split('-')[0]), int(i.split('-')[1]), int(i.split('-')[2]))\n",
        "  date_.append(x)"
      ],
      "execution_count": null,
      "outputs": []
    },
    {
      "cell_type": "code",
      "metadata": {
        "id": "w5BnaZ57k07c"
      },
      "source": [
        "from pandas import DataFrame\n",
        "table = list(zip(date_,product,price,unit,ref))\n",
        "ข้าวโพดเม็ด = DataFrame(table,columns=['date','product','price','unit','remark'])"
      ],
      "execution_count": null,
      "outputs": []
    },
    {
      "cell_type": "code",
      "metadata": {
        "id": "tp-iqqE3k7Gf"
      },
      "source": [
        "as_date = list(ข้าวโพดเม็ด['date'])\n",
        "as_date_ = []\n",
        "day_name = []\n",
        "for i in as_date:\n",
        "#    x = datetime.date(int(i.split('/')[2])-543, int(i.split('/')[1]), int(i.split('/')[0]))\n",
        "    as_date_.append(i)\n",
        "    day_name.append(i.strftime(\"%A\"))\n",
        "ข้าวโพดเม็ด['date'] = as_date_"
      ],
      "execution_count": null,
      "outputs": []
    },
    {
      "cell_type": "code",
      "metadata": {
        "id": "koRkUlB_lDsy"
      },
      "source": [
        "as_date = list(ข้าวโพดเม็ด['date'])\n",
        "day_name = []\n",
        "for i in as_date:\n",
        "    day_name.append(i.strftime(\"%A\"))\n",
        "    \n",
        "ข้าวโพดเม็ด['datename'] = day_name"
      ],
      "execution_count": null,
      "outputs": []
    },
    {
      "cell_type": "code",
      "metadata": {
        "id": "sYEVgUiVlLoS"
      },
      "source": [
        "ข้าวโพดเม็ด['year'] = pd.to_datetime(ข้าวโพดเม็ด[\"date\"]).dt.year\n",
        "ข้าวโพดเม็ด['month'] = pd.to_datetime(ข้าวโพดเม็ด[\"date\"]).dt.month\n",
        "\n",
        "ข้าวโพดเม็ด['date'] = pd.to_datetime(ข้าวโพดเม็ด[\"date\"])\n",
        "\n",
        "ข้าวโพดเม็ด = ข้าวโพดเม็ด.replace({\"month\": m_ord2})\n",
        "\n",
        "ข้าวโพดเม็ด['source'] = 'CPF'\n",
        "ข้าวโพดเม็ด['product group'] = 'วัตถุดิบอาหารสัตว์'"
      ],
      "execution_count": null,
      "outputs": []
    },
    {
      "cell_type": "code",
      "metadata": {
        "id": "IsLebvXIll7X"
      },
      "source": [
        "#ปลาป่น\n",
        "url = \"http://www.cpffeed.com/material5/\"\n",
        "\n",
        "driver.get(url)\n",
        "time.sleep(30)\n",
        "\n",
        "element = driver.find_element_by_xpath('//*[@id=\"post-1053\"]/div/div/div/div/section[2]/div/div/div/div/div/div[4]/div/div/table/tbody')\n",
        "table = element.get_attribute('innerText').split('\\n')[1:-1]"
      ],
      "execution_count": null,
      "outputs": []
    },
    {
      "cell_type": "code",
      "metadata": {
        "id": "TXcLIxBqmE04"
      },
      "source": [
        "dt = []\n",
        "price = []\n",
        "unit = []\n",
        "ref = []\n",
        "product = []\n",
        "for i in table:\n",
        "  x = i.replace(\"ปลาป่น\",\"\")\n",
        "  dt.append(x.split(\"\\t\")[2])\n",
        "  price.append(x.split(\"\\t\")[3])\n",
        "  unit.append(x.split(\"\\t\")[5])\n",
        "  ref.append(x.split(\"\\t\")[6])\n",
        "  product.append(\"ปลาป่น\")\n",
        "#  print(x.split(\"\\t\"))"
      ],
      "execution_count": null,
      "outputs": []
    },
    {
      "cell_type": "code",
      "metadata": {
        "id": "VfTR0azlmOqB"
      },
      "source": [
        "date_ = []\n",
        "for i in dt:\n",
        "  x = datetime.date(int(i.split('-')[0]), int(i.split('-')[1]), int(i.split('-')[2]))\n",
        "  date_.append(x)"
      ],
      "execution_count": null,
      "outputs": []
    },
    {
      "cell_type": "code",
      "metadata": {
        "id": "OzZXzy_wmTFZ"
      },
      "source": [
        "from pandas import DataFrame\n",
        "table = list(zip(date_,product,price,unit,ref))\n",
        "ปลาป่น = DataFrame(table,columns=['date','product','price','unit','remark'])"
      ],
      "execution_count": null,
      "outputs": []
    },
    {
      "cell_type": "code",
      "metadata": {
        "id": "WLgMzbojmZZu"
      },
      "source": [
        "as_date = list(ปลาป่น['date'])\n",
        "as_date_ = []\n",
        "day_name = []\n",
        "for i in as_date:\n",
        "#    x = datetime.date(int(i.split('/')[2])-543, int(i.split('/')[1]), int(i.split('/')[0]))\n",
        "    as_date_.append(i)\n",
        "    day_name.append(i.strftime(\"%A\"))\n",
        "ปลาป่น['date'] = as_date_"
      ],
      "execution_count": null,
      "outputs": []
    },
    {
      "cell_type": "code",
      "metadata": {
        "id": "aALsIzgbmh-Q"
      },
      "source": [
        "as_date = list(ปลาป่น['date'])\n",
        "day_name = []\n",
        "for i in as_date:\n",
        "    day_name.append(i.strftime(\"%A\"))\n",
        "    \n",
        "ปลาป่น['datename'] = day_name"
      ],
      "execution_count": null,
      "outputs": []
    },
    {
      "cell_type": "code",
      "metadata": {
        "id": "RKmC4_Cbmp2n"
      },
      "source": [
        "ปลาป่น['year'] = pd.to_datetime(ปลาป่น[\"date\"]).dt.year\n",
        "ปลาป่น['month'] = pd.to_datetime(ปลาป่น[\"date\"]).dt.month\n",
        "\n",
        "ปลาป่น['date'] = pd.to_datetime(ปลาป่น[\"date\"])\n",
        "\n",
        "ปลาป่น = ปลาป่น.replace({\"month\": m_ord2})\n",
        "\n",
        "ปลาป่น['source'] = 'CPF'\n",
        "ปลาป่น['product group'] = 'วัตถุดิบอาหารสัตว์'"
      ],
      "execution_count": null,
      "outputs": []
    },
    {
      "cell_type": "code",
      "metadata": {
        "id": "Xi82xhmVm-wy"
      },
      "source": [
        "#กากถั่วเหลือง\n",
        "url = \"http://www.cpffeed.com/material6/\"\n",
        "\n",
        "driver.get(url)\n",
        "time.sleep(30)\n",
        "\n",
        "element = driver.find_element_by_xpath('//*[@id=\"post-1059\"]/div/div/div/div/section[2]/div/div/div/div/div/div[3]/div/div/table/tbody')\n",
        "table = element.get_attribute('innerText').split('\\n')[1:-1]"
      ],
      "execution_count": null,
      "outputs": []
    },
    {
      "cell_type": "code",
      "metadata": {
        "id": "DvPZv0fTnsC4"
      },
      "source": [
        "dt = []\n",
        "price = []\n",
        "unit = []\n",
        "ref = []\n",
        "product = []\n",
        "for i in table:\n",
        "  x = i.replace(\"กากถั่วเหลือง\",\"\")\n",
        "  dt.append(x.split(\"\\t\")[2])\n",
        "  price.append(x.split(\"\\t\")[3])\n",
        "  unit.append(x.split(\"\\t\")[5])\n",
        "  ref.append(x.split(\"\\t\")[6])\n",
        "  product.append(\"กากถั่วเหลือง\")\n",
        "#  print(x.split(\"\\t\"))"
      ],
      "execution_count": null,
      "outputs": []
    },
    {
      "cell_type": "code",
      "metadata": {
        "id": "oQ18M5V1n8cG"
      },
      "source": [
        "date_ = []\n",
        "for i in dt:\n",
        "  x = datetime.date(int(i.split('-')[0]), int(i.split('-')[1]), int(i.split('-')[2]))\n",
        "  date_.append(x)"
      ],
      "execution_count": null,
      "outputs": []
    },
    {
      "cell_type": "code",
      "metadata": {
        "id": "Ikdr5_l3n_3i"
      },
      "source": [
        "from pandas import DataFrame\n",
        "table = list(zip(date_,product,price,unit,ref))\n",
        "กากถั่วเหลือง = DataFrame(table,columns=['date','product','price','unit','remark'])"
      ],
      "execution_count": null,
      "outputs": []
    },
    {
      "cell_type": "code",
      "metadata": {
        "id": "a9CojGxBoIUk"
      },
      "source": [
        "as_date = list(กากถั่วเหลือง['date'])\n",
        "as_date_ = []\n",
        "day_name = []\n",
        "for i in as_date:\n",
        "#    x = datetime.date(int(i.split('/')[2])-543, int(i.split('/')[1]), int(i.split('/')[0]))\n",
        "    as_date_.append(i)\n",
        "    day_name.append(i.strftime(\"%A\"))\n",
        "กากถั่วเหลือง['date'] = as_date_"
      ],
      "execution_count": null,
      "outputs": []
    },
    {
      "cell_type": "code",
      "metadata": {
        "id": "stbXe4rmoQuf"
      },
      "source": [
        "as_date = list(กากถั่วเหลือง['date'])\n",
        "day_name = []\n",
        "for i in as_date:\n",
        "    day_name.append(i.strftime(\"%A\"))\n",
        "    \n",
        "กากถั่วเหลือง['datename'] = day_name"
      ],
      "execution_count": null,
      "outputs": []
    },
    {
      "cell_type": "code",
      "metadata": {
        "id": "X4ClUGV4oYDr"
      },
      "source": [
        "กากถั่วเหลือง['year'] = pd.to_datetime(กากถั่วเหลือง[\"date\"]).dt.year\n",
        "กากถั่วเหลือง['month'] = pd.to_datetime(กากถั่วเหลือง[\"date\"]).dt.month\n",
        "\n",
        "กากถั่วเหลือง['date'] = pd.to_datetime(กากถั่วเหลือง[\"date\"])\n",
        "\n",
        "กากถั่วเหลือง = กากถั่วเหลือง.replace({\"month\": m_ord2})\n",
        "\n",
        "กากถั่วเหลือง['source'] = 'CPF'\n",
        "กากถั่วเหลือง['product group'] = 'วัตถุดิบอาหารสัตว์'"
      ],
      "execution_count": null,
      "outputs": []
    },
    {
      "cell_type": "code",
      "metadata": {
        "id": "MzXZzJLIoue4"
      },
      "source": [
        "#มัน\n",
        "url = \"http://www.cpffeed.com/material7/\"\n",
        "\n",
        "driver.get(url)\n",
        "time.sleep(30)\n",
        "\n",
        "element = driver.find_element_by_xpath('//*[@id=\"post-1064\"]/div/div/div/div/section[2]/div/div/div/div/div/div[4]/div/div/table/tbody')\n",
        "table = element.get_attribute('innerText').split('\\n')[1:-1]"
      ],
      "execution_count": null,
      "outputs": []
    },
    {
      "cell_type": "code",
      "metadata": {
        "id": "KT9NUEbcpL91"
      },
      "source": [
        "dt = []\n",
        "price = []\n",
        "unit = []\n",
        "ref = []\n",
        "product = []\n",
        "for i in table:\n",
        "  x = i.replace(\"มัน\",\"\")\n",
        "  dt.append(x.split(\"\\t\")[2])\n",
        "  price.append(x.split(\"\\t\")[3])\n",
        "  unit.append(x.split(\"\\t\")[5])\n",
        "  ref.append(x.split(\"\\t\")[6])\n",
        "  product.append(\"มัน\")\n",
        "#  print(x.split(\"\\t\"))"
      ],
      "execution_count": null,
      "outputs": []
    },
    {
      "cell_type": "code",
      "metadata": {
        "id": "L41_5PiGpaSC"
      },
      "source": [
        "date_ = []\n",
        "for i in dt:\n",
        "  x = datetime.date(int(i.split('-')[0]), int(i.split('-')[1]), int(i.split('-')[2]))\n",
        "  date_.append(x)"
      ],
      "execution_count": null,
      "outputs": []
    },
    {
      "cell_type": "code",
      "metadata": {
        "id": "23plB8pSpfTs"
      },
      "source": [
        "from pandas import DataFrame\n",
        "table = list(zip(date_,product,price,unit,ref))\n",
        "มัน = DataFrame(table,columns=['date','product','price','unit','remark'])"
      ],
      "execution_count": null,
      "outputs": []
    },
    {
      "cell_type": "code",
      "metadata": {
        "id": "z1tmNdRVplrK"
      },
      "source": [
        "as_date = list(มัน['date'])\n",
        "as_date_ = []\n",
        "day_name = []\n",
        "for i in as_date:\n",
        "#    x = datetime.date(int(i.split('/')[2])-543, int(i.split('/')[1]), int(i.split('/')[0]))\n",
        "    as_date_.append(i)\n",
        "    day_name.append(i.strftime(\"%A\"))\n",
        "มัน['date'] = as_date_"
      ],
      "execution_count": null,
      "outputs": []
    },
    {
      "cell_type": "code",
      "metadata": {
        "id": "GZePgr79p6gO"
      },
      "source": [
        "as_date = list(มัน['date'])\n",
        "day_name = []\n",
        "for i in as_date:\n",
        "    day_name.append(i.strftime(\"%A\"))\n",
        "    \n",
        "มัน['datename'] = day_name"
      ],
      "execution_count": null,
      "outputs": []
    },
    {
      "cell_type": "code",
      "metadata": {
        "id": "0NOsUhW2qA-n"
      },
      "source": [
        "มัน['year'] = pd.to_datetime(มัน[\"date\"]).dt.year\n",
        "มัน['month'] = pd.to_datetime(มัน[\"date\"]).dt.month\n",
        "\n",
        "มัน['date'] = pd.to_datetime(มัน[\"date\"])\n",
        "\n",
        "มัน = มัน.replace({\"month\": m_ord2})\n",
        "\n",
        "มัน['source'] = 'CPF'\n",
        "มัน['product group'] = 'วัตถุดิบอาหารสัตว์'"
      ],
      "execution_count": null,
      "outputs": []
    },
    {
      "cell_type": "code",
      "metadata": {
        "id": "COGIlQIhqWcQ"
      },
      "source": [
        "ราคาวัตถุดิบอาหารสัตว์CP = pd.concat([ปลายข้าวเจ้า,รำสกัด,รำขาว,ข้าวโพดเม็ด,ปลาป่น,กากถั่วเหลือง,มัน])"
      ],
      "execution_count": null,
      "outputs": []
    },
    {
      "cell_type": "code",
      "metadata": {
        "id": "vQXO4-hn343N"
      },
      "source": [
        "ราคาวัตถุดิบอาหารสัตว์CP['price'] = pd.to_numeric(ราคาวัตถุดิบอาหารสัตว์CP['price'],errors = 'coerce')"
      ],
      "execution_count": null,
      "outputs": []
    },
    {
      "cell_type": "markdown",
      "metadata": {
        "id": "pjnSPblwrANl"
      },
      "source": [
        "# ราคาพันธุ์สัตว์ CP"
      ]
    },
    {
      "cell_type": "code",
      "metadata": {
        "id": "hE4RKkQOscN1"
      },
      "source": [
        "#เป็ดรุ่น\n",
        "url = \"https://www.cpffeed.com/pet1/\"\n",
        "\n",
        "driver.get(url)\n",
        "time.sleep(30)\n",
        "\n",
        "element = driver.find_element_by_xpath('//*[@id=\"post-1139\"]/div/div/div/div/section[2]/div/div/div/div/div/div[2]/div/div/table')\n",
        "table = element.get_attribute('innerText').split('\\n')[1:-1]"
      ],
      "execution_count": null,
      "outputs": []
    },
    {
      "cell_type": "code",
      "metadata": {
        "id": "JAJoxmfws1PL"
      },
      "source": [
        "dt = []\n",
        "price = []\n",
        "unit = []\n",
        "ref = []\n",
        "product = []\n",
        "for i in table:\n",
        "  x = i.replace(\"เป็ดรุ่น ซี.พี. ซุปเปอร์\",\"\")\n",
        "  dt.append(x.split(\"\\t\")[2])\n",
        "  price.append(x.split(\"\\t\")[3])\n",
        "  unit.append(x.split(\"\\t\")[5])\n",
        "  ref.append(x.split(\"\\t\")[6])\n",
        "  product.append(\"เป็ดรุ่น ซี.พี. ซุปเปอร์\")\n",
        "#  print(x.split(\"\\t\"))"
      ],
      "execution_count": null,
      "outputs": []
    },
    {
      "cell_type": "code",
      "metadata": {
        "id": "iJ-lUjN-_fAq"
      },
      "source": [
        "date_ = []\n",
        "for i in dt:\n",
        "  x = datetime.date(int(i.split('-')[0]), int(i.split('-')[1]), int(i.split('-')[2]))\n",
        "  date_.append(x)"
      ],
      "execution_count": null,
      "outputs": []
    },
    {
      "cell_type": "code",
      "metadata": {
        "id": "UZgnKJ1s_jfH"
      },
      "source": [
        "from pandas import DataFrame\n",
        "table = list(zip(date_,product,price,unit,ref))\n",
        "เป็ดรุ่น = DataFrame(table,columns=['date','product','price','unit','remark'])"
      ],
      "execution_count": null,
      "outputs": []
    },
    {
      "cell_type": "code",
      "metadata": {
        "id": "nSUtDFKa_pFt"
      },
      "source": [
        "as_date = list(เป็ดรุ่น['date'])\n",
        "as_date_ = []\n",
        "day_name = []\n",
        "for i in as_date:\n",
        "#    x = datetime.date(int(i.split('/')[2])-543, int(i.split('/')[1]), int(i.split('/')[0]))\n",
        "    as_date_.append(i)\n",
        "    day_name.append(i.strftime(\"%A\"))\n",
        "เป็ดรุ่น['date'] = as_date_"
      ],
      "execution_count": null,
      "outputs": []
    },
    {
      "cell_type": "code",
      "metadata": {
        "id": "qj3cpwmO_vmo"
      },
      "source": [
        "as_date = list(เป็ดรุ่น['date'])\n",
        "day_name = []\n",
        "for i in as_date:\n",
        "    day_name.append(i.strftime(\"%A\"))\n",
        "    \n",
        "เป็ดรุ่น['datename'] = day_name"
      ],
      "execution_count": null,
      "outputs": []
    },
    {
      "cell_type": "code",
      "metadata": {
        "id": "YevPfM86_1kL"
      },
      "source": [
        "เป็ดรุ่น['year'] = pd.to_datetime(เป็ดรุ่น[\"date\"]).dt.year\n",
        "เป็ดรุ่น['month'] = pd.to_datetime(เป็ดรุ่น[\"date\"]).dt.month\n",
        "\n",
        "เป็ดรุ่น['date'] = pd.to_datetime(เป็ดรุ่น[\"date\"])\n",
        "\n",
        "เป็ดรุ่น = เป็ดรุ่น.replace({\"month\": m_ord2})\n",
        "\n",
        "เป็ดรุ่น['source'] = 'CPF'\n",
        "เป็ดรุ่น['product group'] = 'พันธุ์สัตว์'"
      ],
      "execution_count": null,
      "outputs": []
    },
    {
      "cell_type": "code",
      "metadata": {
        "id": "8bDBSk6pAVOf"
      },
      "source": [
        "#ลูกเป็ดไข่\n",
        "url = \"https://www.cpffeed.com/pet2/\"\n",
        "\n",
        "driver.get(url)\n",
        "time.sleep(30)\n",
        "\n",
        "element = driver.find_element_by_xpath('//*[@id=\"post-1162\"]/div/div/div/div/section[2]/div/div/div/div/div/div[2]/div/div/table/tbody')\n",
        "table = element.get_attribute('innerText').split('\\n')[1:-1]"
      ],
      "execution_count": null,
      "outputs": []
    },
    {
      "cell_type": "code",
      "metadata": {
        "id": "9-ZC3dzbA1tq"
      },
      "source": [
        "dt = []\n",
        "price = []\n",
        "unit = []\n",
        "ref = []\n",
        "product = []\n",
        "for i in table:\n",
        "  x = i.replace(\"ลูกเป็ดไข่ ซี.พี. ซุปเปอร์\",\"\")\n",
        "  dt.append(x.split(\"\\t\")[2])\n",
        "  price.append(x.split(\"\\t\")[3])\n",
        "  unit.append(x.split(\"\\t\")[5])\n",
        "  ref.append(x.split(\"\\t\")[6])\n",
        "  product.append(\"ลูกเป็ดไข่ ซี.พี. ซุปเปอร์\")\n",
        "#  print(x.split(\"\\t\"))"
      ],
      "execution_count": null,
      "outputs": []
    },
    {
      "cell_type": "code",
      "metadata": {
        "id": "mYWXiY51BIVU"
      },
      "source": [
        "date_ = []\n",
        "for i in dt:\n",
        "  x = datetime.date(int(i.split('-')[0]), int(i.split('-')[1]), int(i.split('-')[2]))\n",
        "  date_.append(x)"
      ],
      "execution_count": null,
      "outputs": []
    },
    {
      "cell_type": "code",
      "metadata": {
        "id": "tNVdI43mBLLI"
      },
      "source": [
        "from pandas import DataFrame\n",
        "table = list(zip(date_,product,price,unit,ref))\n",
        "ลูกเป็ดไข่ = DataFrame(table,columns=['date','product','price','unit','remark'])"
      ],
      "execution_count": null,
      "outputs": []
    },
    {
      "cell_type": "code",
      "metadata": {
        "id": "0F4Ma8quBTeo"
      },
      "source": [
        "as_date = list(ลูกเป็ดไข่['date'])\n",
        "as_date_ = []\n",
        "day_name = []\n",
        "for i in as_date:\n",
        "#    x = datetime.date(int(i.split('/')[2])-543, int(i.split('/')[1]), int(i.split('/')[0]))\n",
        "    as_date_.append(i)\n",
        "    day_name.append(i.strftime(\"%A\"))\n",
        "ลูกเป็ดไข่['date'] = as_date_"
      ],
      "execution_count": null,
      "outputs": []
    },
    {
      "cell_type": "code",
      "metadata": {
        "id": "OWpm0bqWBbQA"
      },
      "source": [
        "as_date = list(ลูกเป็ดไข่['date'])\n",
        "day_name = []\n",
        "for i in as_date:\n",
        "    day_name.append(i.strftime(\"%A\"))\n",
        "    \n",
        "ลูกเป็ดไข่['datename'] = day_name"
      ],
      "execution_count": null,
      "outputs": []
    },
    {
      "cell_type": "code",
      "metadata": {
        "id": "SxWz0CQpBiLw"
      },
      "source": [
        "ลูกเป็ดไข่['year'] = pd.to_datetime(ลูกเป็ดไข่[\"date\"]).dt.year\n",
        "ลูกเป็ดไข่['month'] = pd.to_datetime(ลูกเป็ดไข่[\"date\"]).dt.month\n",
        "\n",
        "ลูกเป็ดไข่['date'] = pd.to_datetime(ลูกเป็ดไข่[\"date\"])\n",
        "\n",
        "ลูกเป็ดไข่ = ลูกเป็ดไข่.replace({\"month\": m_ord2})\n",
        "\n",
        "ลูกเป็ดไข่['source'] = 'CPF'\n",
        "ลูกเป็ดไข่['product group'] = 'พันธุ์สัตว์'"
      ],
      "execution_count": null,
      "outputs": []
    },
    {
      "cell_type": "code",
      "metadata": {
        "id": "BN7cNdeiBu_2"
      },
      "source": [
        "#ลูกไก่เนื้อ\n",
        "url = \"https://www.cpffeed.com/pet3/\"\n",
        "\n",
        "driver.get(url)\n",
        "time.sleep(30)\n",
        "\n",
        "element = driver.find_element_by_xpath('//*[@id=\"post-1169\"]/div/div/div/div/section[2]/div/div/div/div/div/div[2]/div/div/table/tbody')\n",
        "table = element.get_attribute('innerText').split('\\n')[1:-1]"
      ],
      "execution_count": null,
      "outputs": []
    },
    {
      "cell_type": "code",
      "metadata": {
        "id": "-qsuluXzB_2M"
      },
      "source": [
        "dt = []\n",
        "price = []\n",
        "unit = []\n",
        "ref = []\n",
        "product = []\n",
        "for i in table:\n",
        "  x = i.replace(\"ลูกไก่เนื้อ\",\"\")\n",
        "  dt.append(x.split(\"\\t\")[2])\n",
        "  price.append(x.split(\"\\t\")[3])\n",
        "  unit.append(x.split(\"\\t\")[5])\n",
        "  ref.append(x.split(\"\\t\")[6])\n",
        "  product.append(\"ลูกไก่เนื้อ\")\n",
        "#  print(x.split(\"\\t\"))"
      ],
      "execution_count": null,
      "outputs": []
    },
    {
      "cell_type": "code",
      "metadata": {
        "id": "VPlYeGVOCOE7"
      },
      "source": [
        "date_ = []\n",
        "for i in dt:\n",
        "  x = datetime.date(int(i.split('-')[0]), int(i.split('-')[1]), int(i.split('-')[2]))\n",
        "  date_.append(x)"
      ],
      "execution_count": null,
      "outputs": []
    },
    {
      "cell_type": "code",
      "metadata": {
        "id": "YEEM-DLcCTUB"
      },
      "source": [
        "from pandas import DataFrame\n",
        "table = list(zip(date_,product,price,unit,ref))\n",
        "ลูกไก่เนื้อ = DataFrame(table,columns=['date','product','price','unit','remark'])"
      ],
      "execution_count": null,
      "outputs": []
    },
    {
      "cell_type": "code",
      "metadata": {
        "id": "dJUYMFDkCXgv"
      },
      "source": [
        "as_date = list(ลูกไก่เนื้อ['date'])\n",
        "as_date_ = []\n",
        "day_name = []\n",
        "for i in as_date:\n",
        "#    x = datetime.date(int(i.split('/')[2])-543, int(i.split('/')[1]), int(i.split('/')[0]))\n",
        "    as_date_.append(i)\n",
        "    day_name.append(i.strftime(\"%A\"))\n",
        "ลูกไก่เนื้อ['date'] = as_date_"
      ],
      "execution_count": null,
      "outputs": []
    },
    {
      "cell_type": "code",
      "metadata": {
        "id": "gQCo08gdCdYi"
      },
      "source": [
        "as_date = list(ลูกไก่เนื้อ['date'])\n",
        "day_name = []\n",
        "for i in as_date:\n",
        "    day_name.append(i.strftime(\"%A\"))\n",
        "    \n",
        "ลูกไก่เนื้อ['datename'] = day_name"
      ],
      "execution_count": null,
      "outputs": []
    },
    {
      "cell_type": "code",
      "metadata": {
        "id": "Cx2HLp9JCzpL"
      },
      "source": [
        "ลูกไก่เนื้อ['year'] = pd.to_datetime(ลูกไก่เนื้อ[\"date\"]).dt.year\n",
        "ลูกไก่เนื้อ['month'] = pd.to_datetime(ลูกไก่เนื้อ[\"date\"]).dt.month\n",
        "\n",
        "ลูกไก่เนื้อ['date'] = pd.to_datetime(ลูกไก่เนื้อ[\"date\"])\n",
        "\n",
        "ลูกไก่เนื้อ = ลูกไก่เนื้อ.replace({\"month\": m_ord2})\n",
        "\n",
        "ลูกไก่เนื้อ['source'] = 'CPF'\n",
        "ลูกไก่เนื้อ['product group'] = 'พันธุ์สัตว์'"
      ],
      "execution_count": null,
      "outputs": []
    },
    {
      "cell_type": "code",
      "metadata": {
        "id": "F7ZKBPO2AiJF"
      },
      "source": [
        "#ลูกไก่ไข่\n",
        "url = \"https://www.cpffeed.com/pet4/\"\n",
        "\n",
        "driver.get(url)\n",
        "time.sleep(30)\n",
        "\n",
        "element = driver.find_element_by_xpath('//*[@id=\"post-1174\"]/div/div/div/div/section[2]/div/div/div/div/div/div[2]/div/div/table/tbody')\n",
        "table = element.get_attribute('innerText').split('\\n')[1:-1]"
      ],
      "execution_count": null,
      "outputs": []
    },
    {
      "cell_type": "code",
      "metadata": {
        "id": "tjPK-JrEueSH"
      },
      "source": [
        "dt = []\n",
        "price = []\n",
        "unit = []\n",
        "ref = []\n",
        "product = []\n",
        "for i in table:\n",
        "  x = i.replace(\"ลูกไก่ไข่ ซี.พี. บราวน์\",\"\")\n",
        "  dt.append(x.split(\"\\t\")[2])\n",
        "  price.append(x.split(\"\\t\")[3])\n",
        "  unit.append(x.split(\"\\t\")[5])\n",
        "  ref.append(x.split(\"\\t\")[6])\n",
        "  product.append(\"ลูกไก่ไข่ ซี.พี. บราวน์\")\n",
        "#  print(x.split(\"\\t\"))"
      ],
      "execution_count": null,
      "outputs": []
    },
    {
      "cell_type": "code",
      "metadata": {
        "id": "fc8tTblIuzk3"
      },
      "source": [
        "date_ = []\n",
        "for i in dt:\n",
        "  x = datetime.date(int(i.split('-')[0]), int(i.split('-')[1]), int(i.split('-')[2]))\n",
        "  date_.append(x)"
      ],
      "execution_count": null,
      "outputs": []
    },
    {
      "cell_type": "code",
      "metadata": {
        "id": "aTMbj9l8u0kQ"
      },
      "source": [
        "from pandas import DataFrame\n",
        "table = list(zip(date_,product,price,unit,ref))\n",
        "ลูกไก่ไข่ = DataFrame(table,columns=['date','product','price','unit','remark'])"
      ],
      "execution_count": null,
      "outputs": []
    },
    {
      "cell_type": "code",
      "metadata": {
        "id": "F--GZBEXu5C8"
      },
      "source": [
        "as_date = list(ลูกไก่ไข่['date'])\n",
        "as_date_ = []\n",
        "day_name = []\n",
        "for i in as_date:\n",
        "#    x = datetime.date(int(i.split('/')[2])-543, int(i.split('/')[1]), int(i.split('/')[0]))\n",
        "    as_date_.append(i)\n",
        "    day_name.append(i.strftime(\"%A\"))\n",
        "ลูกไก่ไข่['date'] = as_date_"
      ],
      "execution_count": null,
      "outputs": []
    },
    {
      "cell_type": "code",
      "metadata": {
        "id": "g-h3wtWGvAt5"
      },
      "source": [
        "as_date = list(ลูกไก่ไข่['date'])\n",
        "day_name = []\n",
        "for i in as_date:\n",
        "    day_name.append(i.strftime(\"%A\"))\n",
        "    \n",
        "ลูกไก่ไข่['datename'] = day_name"
      ],
      "execution_count": null,
      "outputs": []
    },
    {
      "cell_type": "code",
      "metadata": {
        "id": "5bDjBw3JvFIs"
      },
      "source": [
        "ลูกไก่ไข่['year'] = pd.to_datetime(ลูกไก่ไข่[\"date\"]).dt.year\n",
        "ลูกไก่ไข่['month'] = pd.to_datetime(ลูกไก่ไข่[\"date\"]).dt.month\n",
        "\n",
        "ลูกไก่ไข่['date'] = pd.to_datetime(ลูกไก่ไข่[\"date\"])\n",
        "\n",
        "ลูกไก่ไข่ = ลูกไก่ไข่.replace({\"month\": m_ord2})\n",
        "\n",
        "ลูกไก่ไข่['source'] = 'CPF'\n",
        "ลูกไก่ไข่['product group'] = 'พันธุ์สัตว์'"
      ],
      "execution_count": null,
      "outputs": []
    },
    {
      "cell_type": "code",
      "metadata": {
        "id": "tYTgqcn1vSdv"
      },
      "source": [
        "#ไก่รุ่นไข่\n",
        "url = \"https://www.cpffeed.com/pet5/\"\n",
        "\n",
        "driver.get(url)\n",
        "time.sleep(30)\n",
        "\n",
        "element = driver.find_element_by_xpath('//*[@id=\"post-1179\"]/div/div/div/div/section[2]/div/div/div/div/div/div[2]/div/div/table/tbody')\n",
        "table = element.get_attribute('innerText').split('\\n')[1:-1]"
      ],
      "execution_count": null,
      "outputs": []
    },
    {
      "cell_type": "code",
      "metadata": {
        "id": "A1ofEjQSvm6P"
      },
      "source": [
        "dt = []\n",
        "price = []\n",
        "unit = []\n",
        "ref = []\n",
        "product = []\n",
        "for i in table:\n",
        "  x = i.replace(\"ไก่รุ่นไข่ ซี.พี.บราวน์\",\"\")\n",
        "  dt.append(x.split(\"\\t\")[2])\n",
        "  price.append(x.split(\"\\t\")[3])\n",
        "  unit.append(x.split(\"\\t\")[5])\n",
        "  ref.append(x.split(\"\\t\")[6])\n",
        "  product.append(\"ไก่รุ่นไข่ ซี.พี.บราวน์\")\n",
        "#  print(x.split(\"\\t\"))"
      ],
      "execution_count": null,
      "outputs": []
    },
    {
      "cell_type": "code",
      "metadata": {
        "id": "Firff8q_xNl8"
      },
      "source": [
        "date_ = []\n",
        "for i in dt:\n",
        "  x = datetime.date(int(i.split('-')[0]), int(i.split('-')[1]), int(i.split('-')[2]))\n",
        "  date_.append(x)"
      ],
      "execution_count": null,
      "outputs": []
    },
    {
      "cell_type": "code",
      "metadata": {
        "id": "oDQXU5mOxQ3V"
      },
      "source": [
        "from pandas import DataFrame\n",
        "table = list(zip(date_,product,price,unit,ref))\n",
        "ไก่รุ่นไข่ = DataFrame(table,columns=['date','product','price','unit','remark'])"
      ],
      "execution_count": null,
      "outputs": []
    },
    {
      "cell_type": "code",
      "metadata": {
        "id": "IduFhqEdxoIM"
      },
      "source": [
        "as_date = list(ไก่รุ่นไข่['date'])\n",
        "as_date_ = []\n",
        "day_name = []\n",
        "for i in as_date:\n",
        "#    x = datetime.date(int(i.split('/')[2])-543, int(i.split('/')[1]), int(i.split('/')[0]))\n",
        "    as_date_.append(i)\n",
        "    day_name.append(i.strftime(\"%A\"))\n",
        "ไก่รุ่นไข่['date'] = as_date_"
      ],
      "execution_count": null,
      "outputs": []
    },
    {
      "cell_type": "code",
      "metadata": {
        "id": "rDUNh_8cxvP6"
      },
      "source": [
        "as_date = list(ไก่รุ่นไข่['date'])\n",
        "day_name = []\n",
        "for i in as_date:\n",
        "    day_name.append(i.strftime(\"%A\"))\n",
        "    \n",
        "ไก่รุ่นไข่['datename'] = day_name"
      ],
      "execution_count": null,
      "outputs": []
    },
    {
      "cell_type": "code",
      "metadata": {
        "id": "Uq2oLdm3x0xC"
      },
      "source": [
        "ไก่รุ่นไข่['year'] = pd.to_datetime(ไก่รุ่นไข่[\"date\"]).dt.year\n",
        "ไก่รุ่นไข่['month'] = pd.to_datetime(ไก่รุ่นไข่[\"date\"]).dt.month\n",
        "\n",
        "ไก่รุ่นไข่['date'] = pd.to_datetime(ไก่รุ่นไข่[\"date\"])\n",
        "\n",
        "ไก่รุ่นไข่ = ไก่รุ่นไข่.replace({\"month\": m_ord2})\n",
        "\n",
        "ไก่รุ่นไข่['source'] = 'CPF'\n",
        "ไก่รุ่นไข่['product group'] = 'พันธุ์สัตว์'"
      ],
      "execution_count": null,
      "outputs": []
    },
    {
      "cell_type": "code",
      "metadata": {
        "id": "MQYTcUXeyFgI"
      },
      "source": [
        "#ลูกหมูขุนเล็ก\n",
        "url = \"https://www.cpffeed.com/pet6/\"\n",
        "\n",
        "driver.get(url)\n",
        "time.sleep(30)\n",
        "\n",
        "element = driver.find_element_by_xpath('//*[@id=\"post-1184\"]/div/div/div/div/section[2]/div/div/div/div/div/div[2]/div/div/table/tbody')\n",
        "table = element.get_attribute('innerText').split('\\n')[1:-1]"
      ],
      "execution_count": null,
      "outputs": []
    },
    {
      "cell_type": "code",
      "metadata": {
        "id": "RHL_RXFHxTEH"
      },
      "source": [
        "dt = []\n",
        "price = []\n",
        "unit = []\n",
        "ref = []\n",
        "product = []\n",
        "for i in table:\n",
        "  x = i.replace(\"ลูกสุกร ซี.พี. ขุนเล็ก\",\"\")\n",
        "  dt.append(x.split(\"\\t\")[2])\n",
        "  price.append(x.split(\"\\t\")[3])\n",
        "  unit.append(x.split(\"\\t\")[5])\n",
        "  ref.append(x.split(\"\\t\")[6])\n",
        "  product.append(\"ลูกสุกร ซี.พี. ขุนเล็ก\")"
      ],
      "execution_count": null,
      "outputs": []
    },
    {
      "cell_type": "code",
      "metadata": {
        "id": "4mep6-tMy15k"
      },
      "source": [
        "date_ = []\n",
        "for i in dt:\n",
        "  x = datetime.date(int(i.split('-')[0]), int(i.split('-')[1]), int(i.split('-')[2]))\n",
        "  date_.append(x)"
      ],
      "execution_count": null,
      "outputs": []
    },
    {
      "cell_type": "code",
      "metadata": {
        "id": "X78wTcSZy7nb"
      },
      "source": [
        "from pandas import DataFrame\n",
        "table = list(zip(date_,product,price,unit,ref))\n",
        "ลูกหมูขุนเล็ก = DataFrame(table,columns=['date','product','price','unit','remark'])"
      ],
      "execution_count": null,
      "outputs": []
    },
    {
      "cell_type": "code",
      "metadata": {
        "id": "K0Db12ApzC0E"
      },
      "source": [
        "as_date = list(ลูกหมูขุนเล็ก['date'])\n",
        "as_date_ = []\n",
        "day_name = []\n",
        "for i in as_date:\n",
        "#    x = datetime.date(int(i.split('/')[2])-543, int(i.split('/')[1]), int(i.split('/')[0]))\n",
        "    as_date_.append(i)\n",
        "    day_name.append(i.strftime(\"%A\"))\n",
        "ลูกหมูขุนเล็ก['date'] = as_date_"
      ],
      "execution_count": null,
      "outputs": []
    },
    {
      "cell_type": "code",
      "metadata": {
        "id": "ZuJaZV5tzONv"
      },
      "source": [
        "as_date = list(ลูกหมูขุนเล็ก['date'])\n",
        "day_name = []\n",
        "for i in as_date:\n",
        "    day_name.append(i.strftime(\"%A\"))\n",
        "    \n",
        "ลูกหมูขุนเล็ก['datename'] = day_name"
      ],
      "execution_count": null,
      "outputs": []
    },
    {
      "cell_type": "code",
      "metadata": {
        "id": "GoIV0gV0zoG3"
      },
      "source": [
        "ลูกหมูขุนเล็ก['year'] = pd.to_datetime(ลูกหมูขุนเล็ก[\"date\"]).dt.year\n",
        "ลูกหมูขุนเล็ก['month'] = pd.to_datetime(ลูกหมูขุนเล็ก[\"date\"]).dt.month\n",
        "\n",
        "ลูกหมูขุนเล็ก['date'] = pd.to_datetime(ลูกหมูขุนเล็ก[\"date\"])\n",
        "\n",
        "ลูกหมูขุนเล็ก = ลูกหมูขุนเล็ก.replace({\"month\": m_ord2})\n",
        "\n",
        "ลูกหมูขุนเล็ก['source'] = 'CPF'\n",
        "ลูกหมูขุนเล็ก['product group'] = 'พันธุ์สัตว์'"
      ],
      "execution_count": null,
      "outputs": []
    },
    {
      "cell_type": "code",
      "metadata": {
        "id": "ElcxeJz2zzPb"
      },
      "source": [
        "#freePRRS\n",
        "url = \"https://www.cpffeed.com/pet7/\"\n",
        "\n",
        "driver.get(url)\n",
        "time.sleep(30)\n",
        "\n",
        "element = driver.find_element_by_xpath('//*[@id=\"post-1190\"]/div/div/div/div/section[2]/div/div/div/div/div/div[2]/div/div/table/tbody')\n",
        "table = element.get_attribute('innerText').split('\\n')[1:-1]"
      ],
      "execution_count": null,
      "outputs": []
    },
    {
      "cell_type": "code",
      "metadata": {
        "id": "A3kUJlhl0SXP"
      },
      "source": [
        "dt = []\n",
        "price = []\n",
        "unit = []\n",
        "ref = []\n",
        "product = []\n",
        "for i in table:\n",
        "  x = i.replace(\"ลูกสุกร ซี.พี.ขุนเล็ก (Free PRRS.)\",\"\")\n",
        "  dt.append(x.split(\"\\t\")[2])\n",
        "  price.append(x.split(\"\\t\")[3])\n",
        "  unit.append(x.split(\"\\t\")[5])\n",
        "  ref.append(x.split(\"\\t\")[6])\n",
        "  product.append(\"ลูกสุกร ซี.พี.ขุนเล็ก (Free PRRS.)\")"
      ],
      "execution_count": null,
      "outputs": []
    },
    {
      "cell_type": "code",
      "metadata": {
        "id": "qlqoMj3c0jWA"
      },
      "source": [
        "date_ = []\n",
        "for i in dt:\n",
        "  x = datetime.date(int(i.split('-')[0]), int(i.split('-')[1]), int(i.split('-')[2]))\n",
        "  date_.append(x)"
      ],
      "execution_count": null,
      "outputs": []
    },
    {
      "cell_type": "code",
      "metadata": {
        "id": "7fMedfxG0nLt"
      },
      "source": [
        "from pandas import DataFrame\n",
        "table = list(zip(date_,product,price,unit,ref))\n",
        "freePRRS = DataFrame(table,columns=['date','product','price','unit','remark'])"
      ],
      "execution_count": null,
      "outputs": []
    },
    {
      "cell_type": "code",
      "metadata": {
        "id": "_o8rrz_R0r3q"
      },
      "source": [
        "as_date = list(freePRRS['date'])\n",
        "as_date_ = []\n",
        "day_name = []\n",
        "for i in as_date:\n",
        "#    x = datetime.date(int(i.split('/')[2])-543, int(i.split('/')[1]), int(i.split('/')[0]))\n",
        "    as_date_.append(i)\n",
        "    day_name.append(i.strftime(\"%A\"))\n",
        "freePRRS['date'] = as_date_"
      ],
      "execution_count": null,
      "outputs": []
    },
    {
      "cell_type": "code",
      "metadata": {
        "id": "G7u9YQ290yqj"
      },
      "source": [
        "as_date = list(freePRRS['date'])\n",
        "day_name = []\n",
        "for i in as_date:\n",
        "    day_name.append(i.strftime(\"%A\"))\n",
        "    \n",
        "freePRRS['datename'] = day_name"
      ],
      "execution_count": null,
      "outputs": []
    },
    {
      "cell_type": "code",
      "metadata": {
        "id": "-F3Ji7AJ04Rw"
      },
      "source": [
        "freePRRS['year'] = pd.to_datetime(freePRRS[\"date\"]).dt.year\n",
        "freePRRS['month'] = pd.to_datetime(freePRRS[\"date\"]).dt.month\n",
        "\n",
        "freePRRS['date'] = pd.to_datetime(freePRRS[\"date\"])\n",
        "\n",
        "freePRRS = freePRRS.replace({\"month\": m_ord2})\n",
        "\n",
        "freePRRS['source'] = 'CPF'\n",
        "freePRRS['product group'] = 'พันธุ์สัตว์'"
      ],
      "execution_count": null,
      "outputs": []
    },
    {
      "cell_type": "code",
      "metadata": {
        "id": "pG2WKDIQ1J1I"
      },
      "source": [
        "#WfreePRRS\n",
        "url = \"https://www.cpffeed.com/pet8/\"\n",
        "\n",
        "driver.get(url)\n",
        "time.sleep(30)\n",
        "\n",
        "element = driver.find_element_by_xpath('//*[@id=\"post-1196\"]/div/div/div/div/section[2]/div/div/div/div/div/div[2]/div/div/table/tbody')\n",
        "table = element.get_attribute('innerText').split('\\n')[1:-1]"
      ],
      "execution_count": null,
      "outputs": []
    },
    {
      "cell_type": "code",
      "metadata": {
        "id": "2QkXJNpL1t2f"
      },
      "source": [
        "dt = []\n",
        "price = []\n",
        "unit = []\n",
        "ref = []\n",
        "product = []\n",
        "for i in table:\n",
        "  x = i.replace(\"ลูกสุกร ซี.พี. ขุนเล็ก W(Free PRRS.) หย่านม\",\"\")\n",
        "  dt.append(x.split(\"\\t\")[2])\n",
        "  price.append(x.split(\"\\t\")[3])\n",
        "  unit.append(x.split(\"\\t\")[5])\n",
        "  ref.append(x.split(\"\\t\")[6])\n",
        "  product.append(\"ลูกสุกร ซี.พี. ขุนเล็ก W(Free PRRS.) หย่านม\")"
      ],
      "execution_count": null,
      "outputs": []
    },
    {
      "cell_type": "code",
      "metadata": {
        "id": "Dl2KwSBY19CS"
      },
      "source": [
        "date_ = []\n",
        "for i in dt:\n",
        "  x = datetime.date(int(i.split('-')[0]), int(i.split('-')[1]), int(i.split('-')[2]))\n",
        "  date_.append(x)"
      ],
      "execution_count": null,
      "outputs": []
    },
    {
      "cell_type": "code",
      "metadata": {
        "id": "iuIubFbf2DtO"
      },
      "source": [
        "from pandas import DataFrame\n",
        "table = list(zip(date_,product,price,unit,ref))\n",
        "WfreePRRS = DataFrame(table,columns=['date','product','price','unit','remark'])"
      ],
      "execution_count": null,
      "outputs": []
    },
    {
      "cell_type": "code",
      "metadata": {
        "id": "oSch0MBq2JwL"
      },
      "source": [
        "as_date = list(WfreePRRS['date'])\n",
        "as_date_ = []\n",
        "day_name = []\n",
        "for i in as_date:\n",
        "#    x = datetime.date(int(i.split('/')[2])-543, int(i.split('/')[1]), int(i.split('/')[0]))\n",
        "    as_date_.append(i)\n",
        "    day_name.append(i.strftime(\"%A\"))\n",
        "WfreePRRS['date'] = as_date_"
      ],
      "execution_count": null,
      "outputs": []
    },
    {
      "cell_type": "code",
      "metadata": {
        "id": "qrkE_w9E2PT5"
      },
      "source": [
        "as_date = list(WfreePRRS['date'])\n",
        "day_name = []\n",
        "for i in as_date:\n",
        "    day_name.append(i.strftime(\"%A\"))\n",
        "    \n",
        "WfreePRRS['datename'] = day_name"
      ],
      "execution_count": null,
      "outputs": []
    },
    {
      "cell_type": "code",
      "metadata": {
        "id": "w36YjuG92VCi"
      },
      "source": [
        "WfreePRRS['year'] = pd.to_datetime(WfreePRRS[\"date\"]).dt.year\n",
        "WfreePRRS['month'] = pd.to_datetime(WfreePRRS[\"date\"]).dt.month\n",
        "\n",
        "WfreePRRS['date'] = pd.to_datetime(WfreePRRS[\"date\"])\n",
        "\n",
        "WfreePRRS = WfreePRRS.replace({\"month\": m_ord2})\n",
        "\n",
        "WfreePRRS['source'] = 'CPF'\n",
        "WfreePRRS['product group'] = 'พันธุ์สัตว์'"
      ],
      "execution_count": null,
      "outputs": []
    },
    {
      "cell_type": "code",
      "metadata": {
        "id": "T8VFlAN22fgB"
      },
      "source": [
        "#หย่านม\n",
        "url = \"https://www.cpffeed.com/pet9/\"\n",
        "\n",
        "driver.get(url)\n",
        "time.sleep(30)\n",
        "\n",
        "element = driver.find_element_by_xpath('//*[@id=\"post-1204\"]/div/div/div/div/section[2]/div/div/div/div/div/div[2]/div/div/table/tbody')\n",
        "table = element.get_attribute('innerText').split('\\n')[1:-1]"
      ],
      "execution_count": null,
      "outputs": []
    },
    {
      "cell_type": "code",
      "metadata": {
        "id": "qZPr2zzt2uf4"
      },
      "source": [
        "dt = []\n",
        "price = []\n",
        "unit = []\n",
        "ref = []\n",
        "product = []\n",
        "for i in table:\n",
        "  x = i.replace(\"ลูกสุกร ซี.พี.ขุนเล็ก W (หย่านม)\",\"\")\n",
        "  dt.append(x.split(\"\\t\")[2])\n",
        "  price.append(x.split(\"\\t\")[3])\n",
        "  unit.append(x.split(\"\\t\")[5])\n",
        "  ref.append(x.split(\"\\t\")[6])\n",
        "  product.append(\"ลูกสุกร ซี.พี.ขุนเล็ก W (หย่านม)\")"
      ],
      "execution_count": null,
      "outputs": []
    },
    {
      "cell_type": "code",
      "metadata": {
        "id": "5spIeqCO2-hA"
      },
      "source": [
        "date_ = []\n",
        "for i in dt:\n",
        "  x = datetime.date(int(i.split('-')[0]), int(i.split('-')[1]), int(i.split('-')[2]))\n",
        "  date_.append(x)"
      ],
      "execution_count": null,
      "outputs": []
    },
    {
      "cell_type": "code",
      "metadata": {
        "id": "Z3fuaT0b3DtP"
      },
      "source": [
        "from pandas import DataFrame\n",
        "table = list(zip(date_,product,price,unit,ref))\n",
        "หย่านม = DataFrame(table,columns=['date','product','price','unit','remark'])"
      ],
      "execution_count": null,
      "outputs": []
    },
    {
      "cell_type": "code",
      "metadata": {
        "id": "EN1N1lal3I5g"
      },
      "source": [
        "as_date = list(หย่านม['date'])\n",
        "as_date_ = []\n",
        "day_name = []\n",
        "for i in as_date:\n",
        "#    x = datetime.date(int(i.split('/')[2])-543, int(i.split('/')[1]), int(i.split('/')[0]))\n",
        "    as_date_.append(i)\n",
        "    day_name.append(i.strftime(\"%A\"))\n",
        "หย่านม['date'] = as_date_"
      ],
      "execution_count": null,
      "outputs": []
    },
    {
      "cell_type": "code",
      "metadata": {
        "id": "Fu3sOqjs3QRg"
      },
      "source": [
        "as_date = list(หย่านม['date'])\n",
        "day_name = []\n",
        "for i in as_date:\n",
        "    day_name.append(i.strftime(\"%A\"))\n",
        "    \n",
        "หย่านม['datename'] = day_name"
      ],
      "execution_count": null,
      "outputs": []
    },
    {
      "cell_type": "code",
      "metadata": {
        "id": "06Hs5RzZ3VHc"
      },
      "source": [
        "หย่านม['year'] = pd.to_datetime(หย่านม[\"date\"]).dt.year\n",
        "หย่านม['month'] = pd.to_datetime(หย่านม[\"date\"]).dt.month\n",
        "\n",
        "หย่านม['date'] = pd.to_datetime(หย่านม[\"date\"])\n",
        "\n",
        "หย่านม = หย่านม.replace({\"month\": m_ord2})\n",
        "\n",
        "หย่านม['source'] = 'CPF'\n",
        "หย่านม['product group'] = 'พันธุ์สัตว์'"
      ],
      "execution_count": null,
      "outputs": []
    },
    {
      "cell_type": "code",
      "metadata": {
        "id": "ty_YV1Z_3hRN"
      },
      "source": [
        "#VB\n",
        "url = \"https://www.cpffeed.com/pet10/\"\n",
        "\n",
        "driver.get(url)\n",
        "time.sleep(30)\n",
        "\n",
        "element = driver.find_element_by_xpath('//*[@id=\"post-1212\"]/div/div/div/div/section[2]/div/div/div/div/div/div[2]/div/div/table/tbody')\n",
        "table = element.get_attribute('innerText').split('\\n')[1:-1]"
      ],
      "execution_count": null,
      "outputs": []
    },
    {
      "cell_type": "code",
      "metadata": {
        "id": "NZKLZGAI3u8e"
      },
      "source": [
        "dt = []\n",
        "price = []\n",
        "unit = []\n",
        "ref = []\n",
        "product = []\n",
        "for i in table:\n",
        "  x = i.replace(\"สุกรพ่อพันธุ์เช็คสัด V-Boar\",\"\")\n",
        "  dt.append(x.split(\"\\t\")[2])\n",
        "  price.append(x.split(\"\\t\")[3])\n",
        "  unit.append(x.split(\"\\t\")[5])\n",
        "  ref.append(x.split(\"\\t\")[6])\n",
        "  product.append(\"สุกรพ่อพันธุ์เช็คสัด V-Boar\")"
      ],
      "execution_count": null,
      "outputs": []
    },
    {
      "cell_type": "code",
      "metadata": {
        "id": "LG00ojKm39HL"
      },
      "source": [
        "date_ = []\n",
        "for i in dt:\n",
        "  x = datetime.date(int(i.split('-')[0]), int(i.split('-')[1]), int(i.split('-')[2]))\n",
        "  date_.append(x)"
      ],
      "execution_count": null,
      "outputs": []
    },
    {
      "cell_type": "code",
      "metadata": {
        "id": "mGR9pqVH4AjC"
      },
      "source": [
        "from pandas import DataFrame\n",
        "table = list(zip(date_,product,price,unit,ref))\n",
        "VB = DataFrame(table,columns=['date','product','price','unit','remark'])"
      ],
      "execution_count": null,
      "outputs": []
    },
    {
      "cell_type": "code",
      "metadata": {
        "id": "NxNlT9hL4EGH"
      },
      "source": [
        "as_date = list(VB['date'])\n",
        "as_date_ = []\n",
        "day_name = []\n",
        "for i in as_date:\n",
        "#    x = datetime.date(int(i.split('/')[2])-543, int(i.split('/')[1]), int(i.split('/')[0]))\n",
        "    as_date_.append(i)\n",
        "    day_name.append(i.strftime(\"%A\"))\n",
        "VB['date'] = as_date_"
      ],
      "execution_count": null,
      "outputs": []
    },
    {
      "cell_type": "code",
      "metadata": {
        "id": "BIHU6xfb4IlP"
      },
      "source": [
        "as_date = list(VB['date'])\n",
        "day_name = []\n",
        "for i in as_date:\n",
        "    day_name.append(i.strftime(\"%A\"))\n",
        "    \n",
        "VB['datename'] = day_name"
      ],
      "execution_count": null,
      "outputs": []
    },
    {
      "cell_type": "code",
      "metadata": {
        "id": "XiOjMR9P4MoW"
      },
      "source": [
        "VB['year'] = pd.to_datetime(VB[\"date\"]).dt.year\n",
        "VB['month'] = pd.to_datetime(VB[\"date\"]).dt.month\n",
        "\n",
        "VB['date'] = pd.to_datetime(VB[\"date\"])\n",
        "\n",
        "VB = VB.replace({\"month\": m_ord2})\n",
        "\n",
        "VB['source'] = 'CPF'\n",
        "VB['product group'] = 'พันธุ์สัตว์'"
      ],
      "execution_count": null,
      "outputs": []
    },
    {
      "cell_type": "code",
      "metadata": {
        "id": "wUKK3iF44WT2"
      },
      "source": [
        "#pig31\n",
        "url = \"https://www.cpffeed.com/pet11/\"\n",
        "\n",
        "driver.get(url)\n",
        "time.sleep(30)\n",
        "\n",
        "element = driver.find_element_by_xpath('//*[@id=\"post-1218\"]/div/div/div/div/section[2]/div/div/div/div/div/div[2]/div/div/table/tbody')\n",
        "table = element.get_attribute('innerText').split('\\n')[1:-1]"
      ],
      "execution_count": null,
      "outputs": []
    },
    {
      "cell_type": "code",
      "metadata": {
        "id": "O6-milDd4pCE"
      },
      "source": [
        "dt = []\n",
        "price = []\n",
        "unit = []\n",
        "ref = []\n",
        "product = []\n",
        "for i in table:\n",
        "  x = i.replace(\"สุกรพ่อพันธุ์ ซี.พี. 31\",\"\")\n",
        "  dt.append(x.split(\"\\t\")[2])\n",
        "  price.append(x.split(\"\\t\")[3])\n",
        "  unit.append(x.split(\"\\t\")[5])\n",
        "  ref.append(x.split(\"\\t\")[6])\n",
        "  product.append(\"สุกรพ่อพันธุ์ ซี.พี. 31\")"
      ],
      "execution_count": null,
      "outputs": []
    },
    {
      "cell_type": "code",
      "metadata": {
        "id": "IBWSekWf44gH"
      },
      "source": [
        "date_ = []\n",
        "for i in dt:\n",
        "  x = datetime.date(int(i.split('-')[0]), int(i.split('-')[1]), int(i.split('-')[2]))\n",
        "  date_.append(x)"
      ],
      "execution_count": null,
      "outputs": []
    },
    {
      "cell_type": "code",
      "metadata": {
        "id": "jlkaLMrD48DV"
      },
      "source": [
        "from pandas import DataFrame\n",
        "table = list(zip(date_,product,price,unit,ref))\n",
        "pig31 = DataFrame(table,columns=['date','product','price','unit','remark'])"
      ],
      "execution_count": null,
      "outputs": []
    },
    {
      "cell_type": "code",
      "metadata": {
        "id": "ohIlic9H5Be1"
      },
      "source": [
        "as_date = list(pig31['date'])\n",
        "as_date_ = []\n",
        "day_name = []\n",
        "for i in as_date:\n",
        "#    x = datetime.date(int(i.split('/')[2])-543, int(i.split('/')[1]), int(i.split('/')[0]))\n",
        "    as_date_.append(i)\n",
        "    day_name.append(i.strftime(\"%A\"))\n",
        "pig31['date'] = as_date_"
      ],
      "execution_count": null,
      "outputs": []
    },
    {
      "cell_type": "code",
      "metadata": {
        "id": "xcJ0OWx35G1y"
      },
      "source": [
        "as_date = list(pig31['date'])\n",
        "day_name = []\n",
        "for i in as_date:\n",
        "    day_name.append(i.strftime(\"%A\"))\n",
        "    \n",
        "pig31['datename'] = day_name"
      ],
      "execution_count": null,
      "outputs": []
    },
    {
      "cell_type": "code",
      "metadata": {
        "id": "AxS6APhG5LLp"
      },
      "source": [
        "pig31['year'] = pd.to_datetime(pig31[\"date\"]).dt.year\n",
        "pig31['month'] = pd.to_datetime(pig31[\"date\"]).dt.month\n",
        "\n",
        "pig31['date'] = pd.to_datetime(pig31[\"date\"])\n",
        "\n",
        "pig31 = pig31.replace({\"month\": m_ord2})\n",
        "\n",
        "pig31['source'] = 'CPF'\n",
        "pig31['product group'] = 'พันธุ์สัตว์'"
      ],
      "execution_count": null,
      "outputs": []
    },
    {
      "cell_type": "code",
      "metadata": {
        "id": "W1udtet05VHO"
      },
      "source": [
        "#PS\n",
        "url = \"https://www.cpffeed.com/pet12/\"\n",
        "\n",
        "driver.get(url)\n",
        "time.sleep(30)\n",
        "\n",
        "element = driver.find_element_by_xpath('//*[@id=\"post-1222\"]/div/div/div/div/section[2]/div/div/div/div/div/div[2]/div/div/table/tbody')\n",
        "table = element.get_attribute('innerText').split('\\n')[1:-1]"
      ],
      "execution_count": null,
      "outputs": []
    },
    {
      "cell_type": "code",
      "metadata": {
        "id": "sH-EEqBp5ots"
      },
      "source": [
        "dt = []\n",
        "price = []\n",
        "unit = []\n",
        "ref = []\n",
        "product = []\n",
        "for i in table:\n",
        "  x = i.replace(\"สุกรพันธุ์ PS เพศเมีย\",\"\")\n",
        "  dt.append(x.split(\"\\t\")[2])\n",
        "  price.append(x.split(\"\\t\")[3])\n",
        "  unit.append(x.split(\"\\t\")[5])\n",
        "  ref.append(x.split(\"\\t\")[6])\n",
        "  product.append(\"สุกรพันธุ์ PS เพศเมีย\")"
      ],
      "execution_count": null,
      "outputs": []
    },
    {
      "cell_type": "code",
      "metadata": {
        "id": "iJ6gdOHv54Uk"
      },
      "source": [
        "date_ = []\n",
        "for i in dt:\n",
        "  x = datetime.date(int(i.split('-')[0]), int(i.split('-')[1]), int(i.split('-')[2]))\n",
        "  date_.append(x)"
      ],
      "execution_count": null,
      "outputs": []
    },
    {
      "cell_type": "code",
      "metadata": {
        "id": "4fnCKoUz58WX"
      },
      "source": [
        "from pandas import DataFrame\n",
        "table = list(zip(date_,product,price,unit,ref))\n",
        "PS = DataFrame(table,columns=['date','product','price','unit','remark'])"
      ],
      "execution_count": null,
      "outputs": []
    },
    {
      "cell_type": "code",
      "metadata": {
        "id": "GMFLMsUD6Cbl"
      },
      "source": [
        "as_date = list(PS['date'])\n",
        "as_date_ = []\n",
        "day_name = []\n",
        "for i in as_date:\n",
        "#    x = datetime.date(int(i.split('/')[2])-543, int(i.split('/')[1]), int(i.split('/')[0]))\n",
        "    as_date_.append(i)\n",
        "    day_name.append(i.strftime(\"%A\"))\n",
        "PS['date'] = as_date_"
      ],
      "execution_count": null,
      "outputs": []
    },
    {
      "cell_type": "code",
      "metadata": {
        "id": "rIA1JLYA6IFX"
      },
      "source": [
        "as_date = list(PS['date'])\n",
        "day_name = []\n",
        "for i in as_date:\n",
        "    day_name.append(i.strftime(\"%A\"))\n",
        "    \n",
        "PS['datename'] = day_name"
      ],
      "execution_count": null,
      "outputs": []
    },
    {
      "cell_type": "code",
      "metadata": {
        "id": "T7xWn0fz6NL6"
      },
      "source": [
        "PS['year'] = pd.to_datetime(PS[\"date\"]).dt.year\n",
        "PS['month'] = pd.to_datetime(PS[\"date\"]).dt.month\n",
        "\n",
        "PS['date'] = pd.to_datetime(PS[\"date\"])\n",
        "\n",
        "PS = PS.replace({\"month\": m_ord2})\n",
        "\n",
        "PS['source'] = 'CPF'\n",
        "PS['product group'] = 'พันธุ์สัตว์'"
      ],
      "execution_count": null,
      "outputs": []
    },
    {
      "cell_type": "code",
      "metadata": {
        "id": "7oZ72nkp6X4M"
      },
      "source": [
        "#ลูกเป็ดเนื้อ\n",
        "url = \"https://www.cpffeed.com/pet13/\"\n",
        "\n",
        "driver.get(url)\n",
        "time.sleep(30)\n",
        "\n",
        "element = driver.find_element_by_xpath('//*[@id=\"post-1230\"]/div/div/div/div/section[2]/div/div/div/div/div/div[2]/div/div/table/tbody')\n",
        "table = element.get_attribute('innerText').split('\\n')[1:-1]"
      ],
      "execution_count": null,
      "outputs": []
    },
    {
      "cell_type": "code",
      "metadata": {
        "id": "A8BVKSz-6k7k"
      },
      "source": [
        "dt = []\n",
        "price = []\n",
        "unit = []\n",
        "ref = []\n",
        "product = []\n",
        "for i in table:\n",
        "  x = i.replace(\"ลูกเป็ดเนื้อ ซี.พี.\",\"\")\n",
        "  dt.append(x.split(\"\\t\")[2])\n",
        "  price.append(x.split(\"\\t\")[3])\n",
        "  unit.append(x.split(\"\\t\")[5])\n",
        "  ref.append(x.split(\"\\t\")[6])\n",
        "  product.append(\"ลูกเป็ดเนื้อ ซี.พี.\")"
      ],
      "execution_count": null,
      "outputs": []
    },
    {
      "cell_type": "code",
      "metadata": {
        "id": "z_qJV1PY62XM"
      },
      "source": [
        "date_ = []\n",
        "for i in dt:\n",
        "  x = datetime.date(int(i.split('-')[0]), int(i.split('-')[1]), int(i.split('-')[2]))\n",
        "  date_.append(x)"
      ],
      "execution_count": null,
      "outputs": []
    },
    {
      "cell_type": "code",
      "metadata": {
        "id": "9tjbZl5o66LM"
      },
      "source": [
        "from pandas import DataFrame\n",
        "table = list(zip(date_,product,price,unit,ref))\n",
        "ลูกเป็ดเนื้อ = DataFrame(table,columns=['date','product','price','unit','remark'])"
      ],
      "execution_count": null,
      "outputs": []
    },
    {
      "cell_type": "code",
      "metadata": {
        "id": "9dGlM2606_jd"
      },
      "source": [
        "as_date = list(ลูกเป็ดเนื้อ['date'])\n",
        "as_date_ = []\n",
        "day_name = []\n",
        "for i in as_date:\n",
        "#    x = datetime.date(int(i.split('/')[2])-543, int(i.split('/')[1]), int(i.split('/')[0]))\n",
        "    as_date_.append(i)\n",
        "    day_name.append(i.strftime(\"%A\"))\n",
        "ลูกเป็ดเนื้อ['date'] = as_date_"
      ],
      "execution_count": null,
      "outputs": []
    },
    {
      "cell_type": "code",
      "metadata": {
        "id": "Uc67y9sI7E_m"
      },
      "source": [
        "as_date = list(ลูกเป็ดเนื้อ['date'])\n",
        "day_name = []\n",
        "for i in as_date:\n",
        "    day_name.append(i.strftime(\"%A\"))\n",
        "    \n",
        "ลูกเป็ดเนื้อ['datename'] = day_name"
      ],
      "execution_count": null,
      "outputs": []
    },
    {
      "cell_type": "code",
      "metadata": {
        "id": "NDMFZlWm7Js2"
      },
      "source": [
        "ลูกเป็ดเนื้อ['year'] = pd.to_datetime(ลูกเป็ดเนื้อ[\"date\"]).dt.year\n",
        "ลูกเป็ดเนื้อ['month'] = pd.to_datetime(ลูกเป็ดเนื้อ[\"date\"]).dt.month\n",
        "\n",
        "ลูกเป็ดเนื้อ['date'] = pd.to_datetime(ลูกเป็ดเนื้อ[\"date\"])\n",
        "\n",
        "ลูกเป็ดเนื้อ = ลูกเป็ดเนื้อ.replace({\"month\": m_ord2})\n",
        "\n",
        "ลูกเป็ดเนื้อ['source'] = 'CPF'\n",
        "ลูกเป็ดเนื้อ['product group'] = 'พันธุ์สัตว์'"
      ],
      "execution_count": null,
      "outputs": []
    },
    {
      "cell_type": "code",
      "metadata": {
        "id": "8dy8kjPz7Tel"
      },
      "source": [
        "#ลูกไก่ไทย\n",
        "url = \"https://www.cpffeed.com/pet14/\"\n",
        "\n",
        "driver.get(url)\n",
        "time.sleep(30)\n",
        "\n",
        "element = driver.find_element_by_xpath('//*[@id=\"post-2400\"]/div/div/div/div/section[2]/div/div/div/div/div/div[2]/div/div/table/tbody')\n",
        "table = element.get_attribute('innerText').split('\\n')[1:-1]"
      ],
      "execution_count": null,
      "outputs": []
    },
    {
      "cell_type": "code",
      "metadata": {
        "id": "dZA8Eh967glJ"
      },
      "source": [
        "dt = []\n",
        "price = []\n",
        "unit = []\n",
        "ref = []\n",
        "product = []\n",
        "for i in table:\n",
        "  x = i.replace(\"ลูกไก่ไทย ซี.พี.\",\"\")\n",
        "  dt.append(x.split(\"\\t\")[2])\n",
        "  price.append(x.split(\"\\t\")[3])\n",
        "  unit.append(x.split(\"\\t\")[5])\n",
        "  ref.append(x.split(\"\\t\")[6])\n",
        "  product.append(\"ลูกไก่ไทย ซี.พี.\")"
      ],
      "execution_count": null,
      "outputs": []
    },
    {
      "cell_type": "code",
      "metadata": {
        "id": "aWQicdq_7ust"
      },
      "source": [
        "date_ = []\n",
        "for i in dt:\n",
        "  x = datetime.date(int(i.split('-')[0]), int(i.split('-')[1]), int(i.split('-')[2]))\n",
        "  date_.append(x)"
      ],
      "execution_count": null,
      "outputs": []
    },
    {
      "cell_type": "code",
      "metadata": {
        "id": "a9Z4RA7h7yDU"
      },
      "source": [
        "from pandas import DataFrame\n",
        "table = list(zip(date_,product,price,unit,ref))\n",
        "ลูกไก่ไทย = DataFrame(table,columns=['date','product','price','unit','remark'])"
      ],
      "execution_count": null,
      "outputs": []
    },
    {
      "cell_type": "code",
      "metadata": {
        "id": "w4RtK8h972SS"
      },
      "source": [
        "as_date = list(ลูกไก่ไทย['date'])\n",
        "as_date_ = []\n",
        "day_name = []\n",
        "for i in as_date:\n",
        "#    x = datetime.date(int(i.split('/')[2])-543, int(i.split('/')[1]), int(i.split('/')[0]))\n",
        "    as_date_.append(i)\n",
        "    day_name.append(i.strftime(\"%A\"))\n",
        "ลูกไก่ไทย['date'] = as_date_"
      ],
      "execution_count": null,
      "outputs": []
    },
    {
      "cell_type": "code",
      "metadata": {
        "id": "aI6PEIUx78Xa"
      },
      "source": [
        "as_date = list(ลูกไก่ไทย['date'])\n",
        "day_name = []\n",
        "for i in as_date:\n",
        "    day_name.append(i.strftime(\"%A\"))\n",
        "    \n",
        "ลูกไก่ไทย['datename'] = day_name"
      ],
      "execution_count": null,
      "outputs": []
    },
    {
      "cell_type": "code",
      "metadata": {
        "id": "JzrIBipc8B3M"
      },
      "source": [
        "ลูกไก่ไทย['year'] = pd.to_datetime(ลูกไก่ไทย[\"date\"]).dt.year\n",
        "ลูกไก่ไทย['month'] = pd.to_datetime(ลูกไก่ไทย[\"date\"]).dt.month\n",
        "\n",
        "ลูกไก่ไทย['date'] = pd.to_datetime(ลูกไก่ไทย[\"date\"])\n",
        "\n",
        "ลูกไก่ไทย = ลูกไก่ไทย.replace({\"month\": m_ord2})\n",
        "\n",
        "ลูกไก่ไทย['source'] = 'CPF'\n",
        "ลูกไก่ไทย['product group'] = 'พันธุ์สัตว์'"
      ],
      "execution_count": null,
      "outputs": []
    },
    {
      "cell_type": "code",
      "metadata": {
        "id": "YDBKFuPc8NsT"
      },
      "source": [
        "ราคาพันธุ์สัตว์CP = pd.concat([เป็ดรุ่น,ลูกเป็ดไข่,ลูกไก่เนื้อ,ลูกไก่ไข่,ไก่รุ่นไข่,ลูกหมูขุนเล็ก,freePRRS,WfreePRRS,หย่านม,VB,pig31,PS,ลูกเป็ดเนื้อ,ลูกไก่ไทย])"
      ],
      "execution_count": null,
      "outputs": []
    },
    {
      "cell_type": "code",
      "metadata": {
        "id": "bga8UuyU9LbQ"
      },
      "source": [
        "ราคาพันธุ์สัตว์CP['price'] = pd.to_numeric(ราคาพันธุ์สัตว์CP['price'],errors = 'coerce')"
      ],
      "execution_count": null,
      "outputs": []
    },
    {
      "cell_type": "markdown",
      "metadata": {
        "id": "8sTsaEVLAFGH"
      },
      "source": [
        "# รวม"
      ]
    },
    {
      "cell_type": "code",
      "metadata": {
        "id": "2H7IPLjKt-uL"
      },
      "source": [
        "# total = pd.concat([ราคาปศุสัตว์,ราคาวัตถุดิบอาหารสัตว์,เนื้อสัตว์,สัตว์น้ำ,อาหารสัตว์และวัตถุดิบ,ตลาดสดตลาดไท,ปลาน้ำจืดตลาดไท,อาหารทะเลตลาดไท,ราคาวัตถุดิบอาหารสัตว์CP,ราคาพันธุ์สัตว์CP])"
      ],
      "execution_count": null,
      "outputs": []
    },
    {
      "cell_type": "code",
      "metadata": {
        "id": "rETpzrLlxOGo"
      },
      "source": [
        "total = pd.concat([เนื้อสัตว์,สัตว์น้ำ,อาหารสัตว์และวัตถุดิบ,ตลาดสดตลาดไท,ปลาน้ำจืดตลาดไท,อาหารทะเลตลาดไท,ราคาวัตถุดิบอาหารสัตว์CP,ราคาพันธุ์สัตว์CP])"
      ],
      "execution_count": null,
      "outputs": []
    },
    {
      "cell_type": "code",
      "metadata": {
        "id": "QWj2H_D5xZgC"
      },
      "source": [
        "total = total.rename(columns={'product group':'sub source'})"
      ],
      "execution_count": null,
      "outputs": []
    },
    {
      "cell_type": "code",
      "metadata": {
        "id": "Kj4aMaYAzs4g",
        "colab": {
          "base_uri": "https://localhost:8080/"
        },
        "outputId": "ada3cce8-e5b8-4eed-be0e-dc5ab206b929"
      },
      "source": [
        "set(total['source'])"
      ],
      "execution_count": null,
      "outputs": [
        {
          "output_type": "execute_result",
          "data": {
            "text/plain": [
              "{'CPF', 'กระทรวงพาณิชย์', 'ตลาดไท'}"
            ]
          },
          "metadata": {
            "tags": []
          },
          "execution_count": 446
        }
      ]
    },
    {
      "cell_type": "markdown",
      "metadata": {
        "id": "JH2_oe-fHChs"
      },
      "source": [
        "# Update"
      ]
    },
    {
      "cell_type": "code",
      "metadata": {
        "id": "6grpBEIrxeA2"
      },
      "source": [
        "import pandas as pd\n",
        "exist = pd.read_excel(r'/content/drive/MyDrive/public_database/ราคารวม.xlsx','Sheet1')"
      ],
      "execution_count": 5,
      "outputs": []
    },
    {
      "cell_type": "code",
      "metadata": {
        "id": "1wopm8rZyEDx"
      },
      "source": [
        "with_new = pd.concat([exist,total])"
      ],
      "execution_count": null,
      "outputs": []
    },
    {
      "cell_type": "code",
      "metadata": {
        "id": "JTOuko7Izz14",
        "colab": {
          "base_uri": "https://localhost:8080/"
        },
        "outputId": "718c5cb7-8ab0-4844-bad0-f82dfb050879"
      },
      "source": [
        "set(with_new['source'])"
      ],
      "execution_count": null,
      "outputs": [
        {
          "output_type": "execute_result",
          "data": {
            "text/plain": [
              "{'CPF', 'กระทรวงพาณิชย์', 'ตลาดไท', 'สมาคมผู้ผลิตอาหารสัตว์ไทย'}"
            ]
          },
          "metadata": {
            "tags": []
          },
          "execution_count": 449
        }
      ]
    },
    {
      "cell_type": "code",
      "metadata": {
        "id": "nmFb0ja3yRD3"
      },
      "source": [
        "with_new = with_new.drop(columns = [\"update date\"])"
      ],
      "execution_count": null,
      "outputs": []
    },
    {
      "cell_type": "code",
      "metadata": {
        "id": "v-uYlpzryTRf"
      },
      "source": [
        "final = with_new.drop_duplicates()"
      ],
      "execution_count": null,
      "outputs": []
    },
    {
      "cell_type": "code",
      "metadata": {
        "id": "74LtPFeXz5MS",
        "colab": {
          "base_uri": "https://localhost:8080/"
        },
        "outputId": "bc384960-4001-46c1-e926-097144fadfa8"
      },
      "source": [
        "set(final['source'])"
      ],
      "execution_count": null,
      "outputs": [
        {
          "output_type": "execute_result",
          "data": {
            "text/plain": [
              "{'CPF', 'กระทรวงพาณิชย์', 'ตลาดไท', 'สมาคมผู้ผลิตอาหารสัตว์ไทย'}"
            ]
          },
          "metadata": {
            "tags": []
          },
          "execution_count": 452
        }
      ]
    },
    {
      "cell_type": "code",
      "metadata": {
        "id": "wRsp9qXw2-92"
      },
      "source": [
        "CPF = final[final['source']=='CPF']"
      ],
      "execution_count": null,
      "outputs": []
    },
    {
      "cell_type": "code",
      "metadata": {
        "id": "w2TcSbT23GKR"
      },
      "source": [
        "mask_ = CPF['price'].apply(lambda x: isinstance(x, (int, float)))"
      ],
      "execution_count": null,
      "outputs": []
    },
    {
      "cell_type": "code",
      "metadata": {
        "id": "w8WOs4oeyVy7"
      },
      "source": [
        "mask = final['price'].apply(lambda x: isinstance(x, (int, float)))"
      ],
      "execution_count": null,
      "outputs": []
    },
    {
      "cell_type": "code",
      "metadata": {
        "id": "g6p27ihF2dZl",
        "colab": {
          "base_uri": "https://localhost:8080/"
        },
        "outputId": "6b3e0906-5b2c-4369-cf25-f0099eb5dfe1"
      },
      "source": [
        "final['price'].where(mask)"
      ],
      "execution_count": null,
      "outputs": [
        {
          "output_type": "execute_result",
          "data": {
            "text/plain": [
              "0      1.3455\n",
              "1      1.7292\n",
              "2      1.2250\n",
              "3      1.0120\n",
              "4      1.5365\n",
              "       ...   \n",
              "4     17.0000\n",
              "5     17.0000\n",
              "6     17.0000\n",
              "7     17.0000\n",
              "11    17.0000\n",
              "Name: price, Length: 13627, dtype: float64"
            ]
          },
          "metadata": {
            "tags": []
          },
          "execution_count": 456
        }
      ]
    },
    {
      "cell_type": "code",
      "metadata": {
        "id": "82pNVEFSyYMD",
        "colab": {
          "base_uri": "https://localhost:8080/"
        },
        "outputId": "7556d587-4e7a-441f-e4a2-1404f8daf739"
      },
      "source": [
        "final['price'] = final['price'].where(mask)"
      ],
      "execution_count": null,
      "outputs": [
        {
          "output_type": "stream",
          "text": [
            "/usr/local/lib/python3.7/dist-packages/ipykernel_launcher.py:1: SettingWithCopyWarning: \n",
            "A value is trying to be set on a copy of a slice from a DataFrame.\n",
            "Try using .loc[row_indexer,col_indexer] = value instead\n",
            "\n",
            "See the caveats in the documentation: https://pandas.pydata.org/pandas-docs/stable/user_guide/indexing.html#returning-a-view-versus-a-copy\n",
            "  \"\"\"Entry point for launching an IPython kernel.\n"
          ],
          "name": "stderr"
        }
      ]
    },
    {
      "cell_type": "code",
      "metadata": {
        "id": "EuB6vEKzyaq8",
        "colab": {
          "base_uri": "https://localhost:8080/"
        },
        "outputId": "7bfdc856-5605-44c9-d77b-0e5433fca89a"
      },
      "source": [
        "final['price'] = final['price'].astype(float)"
      ],
      "execution_count": null,
      "outputs": [
        {
          "output_type": "stream",
          "text": [
            "/usr/local/lib/python3.7/dist-packages/ipykernel_launcher.py:1: SettingWithCopyWarning: \n",
            "A value is trying to be set on a copy of a slice from a DataFrame.\n",
            "Try using .loc[row_indexer,col_indexer] = value instead\n",
            "\n",
            "See the caveats in the documentation: https://pandas.pydata.org/pandas-docs/stable/user_guide/indexing.html#returning-a-view-versus-a-copy\n",
            "  \"\"\"Entry point for launching an IPython kernel.\n"
          ],
          "name": "stderr"
        }
      ]
    },
    {
      "cell_type": "code",
      "metadata": {
        "id": "bz-6uRpPyeDW"
      },
      "source": [
        "final = final[final['price'].notna()]"
      ],
      "execution_count": null,
      "outputs": []
    },
    {
      "cell_type": "code",
      "metadata": {
        "id": "dPuQfvmoyhXV"
      },
      "source": [
        "final['update date'] = ct"
      ],
      "execution_count": null,
      "outputs": []
    },
    {
      "cell_type": "code",
      "metadata": {
        "id": "uDu7-TM1AKmG"
      },
      "source": [
        "final.loc[final['product']=='ไข่นกกระทาต้ม - 100 ฟอง','price'] = final[final['product']=='ไข่นกกระทาต้ม - 100 ฟอง']['price']/100\n",
        "final.loc[final['product']=='ไข่นกกระทาต้ม - 100 ฟอง','min price'] = final[final['product']=='ไข่นกกระทาต้ม - 100 ฟอง']['min price']/100\n",
        "final.loc[final['product']=='ไข่นกกระทาต้ม - 100 ฟอง','max price'] = final[final['product']=='ไข่นกกระทาต้ม - 100 ฟอง']['max price']/100"
      ],
      "execution_count": null,
      "outputs": []
    },
    {
      "cell_type": "code",
      "metadata": {
        "id": "bLlIiY6SFXvF"
      },
      "source": [
        "final.loc[final['product']=='ไข่นกกระทาดิบ - 100 ฟอง','price'] = final[final['product']=='ไข่นกกระทาดิบ - 100 ฟอง']['price']/100\n",
        "final.loc[final['product']=='ไข่นกกระทาดิบ - 100 ฟอง','min price'] = final[final['product']=='ไข่นกกระทาดิบ - 100 ฟอง']['min price']/100\n",
        "final.loc[final['product']=='ไข่นกกระทาดิบ - 100 ฟอง','max price'] = final[final['product']=='ไข่นกกระทาดิบ - 100 ฟอง']['max price']/100"
      ],
      "execution_count": null,
      "outputs": []
    },
    {
      "cell_type": "code",
      "metadata": {
        "id": "AVNM-u3mBKFi"
      },
      "source": [
        "final.loc[final['product']=='ไข่นกกระทาต้ม - 100 ฟอง','range price'] = final[final['product']=='ไข่นกกระทาต้ม - 100 ฟอง']['min price'].map(str)+\" - \"+final[final['product']=='ไข่นกกระทาต้ม - 100 ฟอง']['max price'].map(str)"
      ],
      "execution_count": null,
      "outputs": []
    },
    {
      "cell_type": "code",
      "metadata": {
        "id": "ZwXJ9mLcFfll"
      },
      "source": [
        "final.loc[final['product']=='ไข่นกกระทาดิบ - 100 ฟอง','range price'] = final[final['product']=='ไข่นกกระทาดิบ - 100 ฟอง']['min price'].map(str)+\" - \"+final[final['product']=='ไข่นกกระทาดิบ - 100 ฟอง']['max price'].map(str)"
      ],
      "execution_count": null,
      "outputs": []
    },
    {
      "cell_type": "code",
      "metadata": {
        "id": "LNM5hJ1XB5ak"
      },
      "source": [
        "final.loc[final['product']=='ไข่นกกระทาต้ม - 100 ฟอง','product'] = 'ไข่นกกระทาต้ม'"
      ],
      "execution_count": null,
      "outputs": []
    },
    {
      "cell_type": "code",
      "metadata": {
        "id": "h0KKwp-fFmxK"
      },
      "source": [
        "final.loc[final['product']=='ไข่นกกระทาดิบ - 100 ฟอง','product'] = 'ไข่นกกระทาดิบ'"
      ],
      "execution_count": null,
      "outputs": []
    },
    {
      "cell_type": "code",
      "metadata": {
        "id": "PAJIGn6MyjYt",
        "colab": {
          "base_uri": "https://localhost:8080/"
        },
        "outputId": "5edb47fc-7c9e-4abd-8e19-c32f2f25268f"
      },
      "source": [
        "set(final['unit'])"
      ],
      "execution_count": null,
      "outputs": [
        {
          "output_type": "execute_result",
          "data": {
            "text/plain": [
              "{'บาท/ กก.',\n",
              " 'บาท/-',\n",
              " 'บาท/กก',\n",
              " 'บาท/กก.',\n",
              " 'บาท/กิโลกรัม',\n",
              " 'บาท/ตัว',\n",
              " 'บาท/ฟอง',\n",
              " '฿ / N/A',\n",
              " '฿ / กิโลกรัม',\n",
              " '฿ / ฟอง'}"
            ]
          },
          "metadata": {
            "tags": []
          },
          "execution_count": 461
        }
      ]
    },
    {
      "cell_type": "code",
      "metadata": {
        "id": "ae7KKZN8ylsa"
      },
      "source": [
        "unit = {'บาท/กก':'บาท/กิโลกรัม','บาท/กก.':'บาท/กิโลกรัม','บาท/ กก.':'บาท/กิโลกรัม','฿ / กิโลกรัม':'บาท/กิโลกรัม','฿ / ฟอง':'บาท/ฟอง','฿ / N/A':'บาท/-'}"
      ],
      "execution_count": null,
      "outputs": []
    },
    {
      "cell_type": "code",
      "metadata": {
        "id": "azE_CradypoN"
      },
      "source": [
        "final = final.replace({\"unit\": unit})"
      ],
      "execution_count": null,
      "outputs": []
    },
    {
      "cell_type": "code",
      "metadata": {
        "id": "iukiGAjPyrtn",
        "colab": {
          "base_uri": "https://localhost:8080/"
        },
        "outputId": "1ca24f27-1164-467c-f841-fd1c64becfa9"
      },
      "source": [
        "set(final['unit'])"
      ],
      "execution_count": null,
      "outputs": [
        {
          "output_type": "execute_result",
          "data": {
            "text/plain": [
              "{'บาท/-', 'บาท/กิโลกรัม', 'บาท/ตัว', 'บาท/ฟอง'}"
            ]
          },
          "metadata": {
            "tags": []
          },
          "execution_count": 464
        }
      ]
    },
    {
      "cell_type": "code",
      "metadata": {
        "id": "Xsu3y2nq0xHV",
        "colab": {
          "base_uri": "https://localhost:8080/"
        },
        "outputId": "7632c0ee-48c2-4fb6-e2d8-66ce7fe037db"
      },
      "source": [
        "set(final['source'])"
      ],
      "execution_count": null,
      "outputs": [
        {
          "output_type": "execute_result",
          "data": {
            "text/plain": [
              "{'CPF', 'กระทรวงพาณิชย์', 'ตลาดไท', 'สมาคมผู้ผลิตอาหารสัตว์ไทย'}"
            ]
          },
          "metadata": {
            "tags": []
          },
          "execution_count": 465
        }
      ]
    },
    {
      "cell_type": "code",
      "metadata": {
        "id": "lj_BCosfytyo"
      },
      "source": [
        "f1 = final[final['unit'] == 'บาท/100ฟอง']\n",
        "f1['price'] = f1['price']/100"
      ],
      "execution_count": null,
      "outputs": []
    },
    {
      "cell_type": "code",
      "metadata": {
        "id": "JrV2hMZWywTT"
      },
      "source": [
        "f1['unit'] = 'บาท/ฟอง'"
      ],
      "execution_count": null,
      "outputs": []
    },
    {
      "cell_type": "code",
      "metadata": {
        "id": "znbwJS9ryzVk"
      },
      "source": [
        "f2 = final[final['unit'] != 'บาท/100ฟอง']"
      ],
      "execution_count": null,
      "outputs": []
    },
    {
      "cell_type": "code",
      "metadata": {
        "id": "CeLElVIQy18R"
      },
      "source": [
        "final = pd.concat([f1,f2])"
      ],
      "execution_count": null,
      "outputs": []
    },
    {
      "cell_type": "code",
      "metadata": {
        "id": "_8SQYp_Z0jDi",
        "colab": {
          "base_uri": "https://localhost:8080/"
        },
        "outputId": "19a56db0-a68d-4c51-86fb-bff92b0a6037"
      },
      "source": [
        "set(f1['source'])"
      ],
      "execution_count": null,
      "outputs": [
        {
          "output_type": "execute_result",
          "data": {
            "text/plain": [
              "set()"
            ]
          },
          "metadata": {
            "tags": []
          },
          "execution_count": 470
        }
      ]
    },
    {
      "cell_type": "code",
      "metadata": {
        "id": "ejx-yjfw0pAF",
        "colab": {
          "base_uri": "https://localhost:8080/"
        },
        "outputId": "6524a2c0-de0a-4d79-9954-6a8d802eb3c8"
      },
      "source": [
        "set(f2['source'])"
      ],
      "execution_count": null,
      "outputs": [
        {
          "output_type": "execute_result",
          "data": {
            "text/plain": [
              "{'CPF', 'กระทรวงพาณิชย์', 'ตลาดไท', 'สมาคมผู้ผลิตอาหารสัตว์ไทย'}"
            ]
          },
          "metadata": {
            "tags": []
          },
          "execution_count": 471
        }
      ]
    },
    {
      "cell_type": "code",
      "metadata": {
        "id": "FFU2FXVGy4I3"
      },
      "source": [
        "final['date'] = pd.to_datetime(final['date'])"
      ],
      "execution_count": null,
      "outputs": []
    },
    {
      "cell_type": "code",
      "metadata": {
        "id": "UKdKpImS0ZAA",
        "colab": {
          "base_uri": "https://localhost:8080/"
        },
        "outputId": "4f9ed57f-8cbe-4572-ca35-512afd647913"
      },
      "source": [
        "set(final['source'])"
      ],
      "execution_count": null,
      "outputs": [
        {
          "output_type": "execute_result",
          "data": {
            "text/plain": [
              "{'CPF', 'กระทรวงพาณิชย์', 'ตลาดไท', 'สมาคมผู้ผลิตอาหารสัตว์ไทย'}"
            ]
          },
          "metadata": {
            "tags": []
          },
          "execution_count": 473
        }
      ]
    },
    {
      "cell_type": "code",
      "metadata": {
        "id": "3m1ajg8Cy6ms"
      },
      "source": [
        "price_cetalog = final.groupby(['source','sub source','product']).agg({'date': 'max'}).reset_index().rename(columns = {\"date\":\"last date\"})"
      ],
      "execution_count": null,
      "outputs": []
    },
    {
      "cell_type": "code",
      "metadata": {
        "id": "hrzwZ4Nky_QX",
        "colab": {
          "base_uri": "https://localhost:8080/"
        },
        "outputId": "bbee20fc-0e63-48c2-dc90-2ad4820475ef"
      },
      "source": [
        "pip install xlsxwriter"
      ],
      "execution_count": null,
      "outputs": [
        {
          "output_type": "stream",
          "text": [
            "Collecting xlsxwriter\n",
            "  Downloading XlsxWriter-1.4.5-py2.py3-none-any.whl (149 kB)\n",
            "\u001b[?25l\r\u001b[K     |██▏                             | 10 kB 22.0 MB/s eta 0:00:01\r\u001b[K     |████▍                           | 20 kB 20.2 MB/s eta 0:00:01\r\u001b[K     |██████▋                         | 30 kB 24.0 MB/s eta 0:00:01\r\u001b[K     |████████▊                       | 40 kB 23.8 MB/s eta 0:00:01\r\u001b[K     |███████████                     | 51 kB 6.8 MB/s eta 0:00:01\r\u001b[K     |█████████████▏                  | 61 kB 7.0 MB/s eta 0:00:01\r\u001b[K     |███████████████▎                | 71 kB 5.9 MB/s eta 0:00:01\r\u001b[K     |█████████████████▌              | 81 kB 6.5 MB/s eta 0:00:01\r\u001b[K     |███████████████████▊            | 92 kB 6.5 MB/s eta 0:00:01\r\u001b[K     |█████████████████████▉          | 102 kB 5.7 MB/s eta 0:00:01\r\u001b[K     |████████████████████████        | 112 kB 5.7 MB/s eta 0:00:01\r\u001b[K     |██████████████████████████▎     | 122 kB 5.7 MB/s eta 0:00:01\r\u001b[K     |████████████████████████████▌   | 133 kB 5.7 MB/s eta 0:00:01\r\u001b[K     |██████████████████████████████▋ | 143 kB 5.7 MB/s eta 0:00:01\r\u001b[K     |████████████████████████████████| 149 kB 5.7 MB/s \n",
            "\u001b[?25hInstalling collected packages: xlsxwriter\n",
            "Successfully installed xlsxwriter-1.4.5\n"
          ],
          "name": "stdout"
        }
      ]
    },
    {
      "cell_type": "code",
      "metadata": {
        "id": "aL4AFYfwzKea"
      },
      "source": [
        "out_path = \"/content/drive/MyDrive/public_database/ราคารวม.xlsx\"\n",
        "\n",
        "writer = pd.ExcelWriter(out_path, engine='xlsxwriter')\n",
        "final.to_excel(writer, index=False)\n",
        "writer.save() "
      ],
      "execution_count": null,
      "outputs": []
    },
    {
      "cell_type": "code",
      "metadata": {
        "id": "MrxcnMG_zYPT"
      },
      "source": [
        "out_path = \"/content/drive/MyDrive/public_database/catalog_ข้อมูลราคารวม.xlsx\"\n",
        "\n",
        "writer = pd.ExcelWriter(out_path, engine='xlsxwriter')\n",
        "price_cetalog.to_excel(writer, index=False)\n",
        "writer.save() "
      ],
      "execution_count": null,
      "outputs": []
    },
    {
      "cell_type": "code",
      "metadata": {
        "id": "hNs6d4Mxzf4j",
        "colab": {
          "base_uri": "https://localhost:8080/"
        },
        "outputId": "3e1167f2-9084-465e-af30-96de59d209ff"
      },
      "source": [
        "set(final['sub source'])"
      ],
      "execution_count": null,
      "outputs": [
        {
          "output_type": "execute_result",
          "data": {
            "text/plain": [
              "{'ตลาดปลาน้ำจืด-ตลาดไท',\n",
              " 'ตลาดสด-ตลาดไท',\n",
              " 'ตลาดอาหารทะเล-ตลาดไท',\n",
              " 'ปศุสัตว์',\n",
              " 'พันธุ์สัตว์',\n",
              " 'ราคาวัตถุดิบอาหารสัตว์',\n",
              " 'วัตถุดิบอาหารสัตว์',\n",
              " 'สัตว์น้ำ-ค้าปลีก',\n",
              " 'อาหารสัตว์และวัตถุดิบอาหารสัตว์-ค้าส่ง',\n",
              " 'เนื้อสัตว์-ค้าปลีก'}"
            ]
          },
          "metadata": {
            "tags": []
          },
          "execution_count": 521
        }
      ]
    },
    {
      "cell_type": "code",
      "metadata": {
        "id": "3OP-C-Nuzjne",
        "colab": {
          "base_uri": "https://localhost:8080/"
        },
        "outputId": "3e517916-58b5-42a6-dcbd-7fa08cc9ad5b"
      },
      "source": [
        "set(final['source'])"
      ],
      "execution_count": null,
      "outputs": [
        {
          "output_type": "execute_result",
          "data": {
            "text/plain": [
              "{'CPF', 'กระทรวงพาณิชย์', 'ตลาดไท', 'สมาคมผู้ผลิตอาหารสัตว์ไทย'}"
            ]
          },
          "metadata": {
            "tags": []
          },
          "execution_count": 522
        }
      ]
    },
    {
      "cell_type": "code",
      "metadata": {
        "id": "QDfgZLcwubEE"
      },
      "source": [
        "# authenticate\n",
        "from google.colab import auth\n",
        "auth.authenticate_user()\n",
        "import gspread\n",
        "from oauth2client.client import GoogleCredentials as GC\n",
        "gc = gspread.authorize(GC.get_application_default())\n",
        "# create, and save df\n",
        "from gspread_dataframe import set_with_dataframe\n",
        "title = 'food_public_price'\n",
        "#gc.create(title)  # if not exist\n",
        "sheet = gc.open(title).sheet1\n",
        "set_with_dataframe(sheet, final) \n",
        "# include_index=False, include_column_header=True, resize=False"
      ],
      "execution_count": null,
      "outputs": []
    },
    {
      "cell_type": "code",
      "metadata": {
        "id": "-nqq-AtNHhEU"
      },
      "source": [
        ""
      ],
      "execution_count": null,
      "outputs": []
    }
  ]
}